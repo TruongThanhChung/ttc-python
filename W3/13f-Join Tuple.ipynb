{
 "cells": [
  {
   "cell_type": "markdown",
   "id": "a2d315f8-bab6-47d3-85d7-32e27b2dfb16",
   "metadata": {},
   "source": [
    "# Join Two Tuples\n",
    "To join two or more tuples you can use the + operator:\n",
    "\n",
    "# Nối hai bộ dữ liệu\n",
    "Để nối hai hoặc nhiều bộ dữ liệu, bạn có thể sử dụng + toán tử:"
   ]
  },
  {
   "cell_type": "code",
   "execution_count": 1,
   "id": "d32131cf-b97e-47ef-b059-451595371b00",
   "metadata": {},
   "outputs": [
    {
     "name": "stdout",
     "output_type": "stream",
     "text": [
      "('a', 'b', 'c', 1, 2, 3)\n"
     ]
    }
   ],
   "source": [
    "# Join two tuples:\n",
    "# Tham gia hai bộ dữ liệu:\n",
    "tuple1 = (\"a\", \"b\" , \"c\")\n",
    "tuple2 = (1, 2, 3)\n",
    "\n",
    "tuple3 = tuple1 + tuple2\n",
    "print(tuple3)"
   ]
  },
  {
   "cell_type": "markdown",
   "id": "4ceca3b9-8955-4eb1-bab1-64e4ec88d7a0",
   "metadata": {},
   "source": [
    "# Multiply Tuples\n",
    "If you want to multiply the content of a tuple a given number of times, you can use the * operator:\n",
    "\n",
    "# Nhân các bộ dữ liệu\n",
    "Nếu bạn muốn nhân nội dung của một bộ với một số lần nhất định, bạn có thể sử dụng toán * tử:"
   ]
  },
  {
   "cell_type": "code",
   "execution_count": 2,
   "id": "b34b84a6-ef7f-4c70-b3b2-97e736ed5db4",
   "metadata": {},
   "outputs": [
    {
     "name": "stdout",
     "output_type": "stream",
     "text": [
      "('apple', 'banana', 'cherry', 'apple', 'banana', 'cherry')\n"
     ]
    }
   ],
   "source": [
    "# Multiply the fruits tuple by 2:\n",
    "# Nhân số trái cây với 2:\n",
    "fruits = (\"apple\", \"banana\", \"cherry\")\n",
    "mytuple = fruits * 2\n",
    "\n",
    "print(mytuple)"
   ]
  },
  {
   "cell_type": "code",
   "execution_count": null,
   "id": "7a7a44eb-925c-4a8a-b22d-b38cb5ae9347",
   "metadata": {},
   "outputs": [],
   "source": []
  }
 ],
 "metadata": {
  "kernelspec": {
   "display_name": "Python 3 (ipykernel)",
   "language": "python",
   "name": "python3"
  },
  "language_info": {
   "codemirror_mode": {
    "name": "ipython",
    "version": 3
   },
   "file_extension": ".py",
   "mimetype": "text/x-python",
   "name": "python",
   "nbconvert_exporter": "python",
   "pygments_lexer": "ipython3",
   "version": "3.12.3"
  }
 },
 "nbformat": 4,
 "nbformat_minor": 5
}
