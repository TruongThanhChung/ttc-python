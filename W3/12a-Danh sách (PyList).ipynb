{
 "cells": [
  {
   "cell_type": "markdown",
   "id": "914c23d6-74f6-4994-8c79-0cd5c4fc6cd8",
   "metadata": {},
   "source": [
    "# Danh sách\n",
    "Danh sách được sử dụng để lưu trữ nhiều mục trong một biến duy nhất.\n",
    "Danh sách là một trong 4 loại dữ liệu có sẵn trong Python dùng để lưu trữ các bộ sưu tập dữ liệu, 3 loại còn lại là Tuple , Set và Directory , tất cả đều có chất lượng và cách sử dụng khác nhau.\n",
    "Danh sách được tạo bằng dấu ngoặc vuông []."
   ]
  },
  {
   "cell_type": "code",
   "execution_count": 1,
   "id": "a38d5ff3-5263-4b01-a4c1-d852398d4b2e",
   "metadata": {},
   "outputs": [
    {
     "name": "stdout",
     "output_type": "stream",
     "text": [
      "['apple', 'banana', 'cherry']\n"
     ]
    }
   ],
   "source": [
    "# Tạo một danh sách:\n",
    "thislist = [\"apple\", \"banana\", \"cherry\"]\n",
    "print(thislist)"
   ]
  },
  {
   "cell_type": "markdown",
   "id": "d25535f0-1695-466d-a98c-27ba94540fd6",
   "metadata": {},
   "source": [
    "# List Items\n",
    "Các mục trong danh sách được sắp xếp theo thứ tự, có thể thay đổi và cho phép các giá trị trùng lặp.\n",
    "Các mục trong danh sách được lập chỉ mục, mục đầu tiên có chỉ mục [0], mục thứ hai có chỉ mục [1], v.v."
   ]
  },
  {
   "cell_type": "markdown",
   "id": "e99a87b4-be7c-474b-8cf5-868bc4fd0460",
   "metadata": {},
   "source": [
    "# Ordered\n",
    "Khi chúng ta nói rằng danh sách được sắp xếp, điều đó có nghĩa là các mục có một thứ tự xác định và thứ tự đó sẽ không thay đổi.\n",
    "Nếu bạn thêm các mục mới vào danh sách, các mục mới sẽ được đặt ở cuối danh sách."
   ]
  },
  {
   "cell_type": "markdown",
   "id": "8cb13c26-5a95-4e76-96a1-3ad41b615a42",
   "metadata": {},
   "source": [
    "# Lưu ý: Có một số phương pháp liệt kê sẽ thay đổi thứ tự nhưng nhìn chung: thứ tự các mục sẽ không thay đổi."
   ]
  },
  {
   "cell_type": "markdown",
   "id": "731da413-cd8f-404f-ad13-8a00506993cb",
   "metadata": {},
   "source": [
    "# Changeable (Có thể thay đổi)\n",
    "Danh sách có thể thay đổi, nghĩa là chúng ta có thể thay đổi, thêm và xóa các mục trong danh sách sau khi nó được tạo."
   ]
  },
  {
   "cell_type": "markdown",
   "id": "86ae3ee7-fc23-454a-9ae9-cccb623a633a",
   "metadata": {},
   "source": [
    "# Allow Duplicates (Cho phép trùng lặp)\n",
    "Vì danh sách được lập chỉ mục nên danh sách có thể có các mục có cùng giá trị:"
   ]
  },
  {
   "cell_type": "code",
   "execution_count": 2,
   "id": "d00d532c-d34b-4c49-a000-b1845c35f741",
   "metadata": {},
   "outputs": [
    {
     "name": "stdout",
     "output_type": "stream",
     "text": [
      "['apple', 'banana', 'cherry', 'apple', 'cherry']\n"
     ]
    }
   ],
   "source": [
    "# Danh sách cho phép các giá trị trùng lặp:\n",
    "thislist = [\"apple\", \"banana\", \"cherry\", \"apple\", \"cherry\"]\n",
    "print(thislist)"
   ]
  },
  {
   "cell_type": "markdown",
   "id": "7f9dd020-f6d7-4e3d-a2ce-8f17901350f0",
   "metadata": {},
   "source": [
    "# List length (Độ dài danh sách)\n",
    "Để xác định danh sách có bao nhiêu mục, hãy sử dụng len()hàm:"
   ]
  },
  {
   "cell_type": "code",
   "execution_count": 4,
   "id": "d87a34f6-3827-487b-9f7a-48e42f46dbf6",
   "metadata": {},
   "outputs": [
    {
     "name": "stdout",
     "output_type": "stream",
     "text": [
      "3\n"
     ]
    }
   ],
   "source": [
    "# In số lượng mục trong danh sách:\n",
    "thislist = [\"apple\", \"banana\", \"cherry\"]\n",
    "print(len(thislist))"
   ]
  },
  {
   "cell_type": "markdown",
   "id": "81ce77cb-90b0-4f99-8a0f-f918dd01f366",
   "metadata": {},
   "source": [
    "# List items - Data types (Mục danh sách - Kiểu dữ liệu)"
   ]
  },
  {
   "cell_type": "code",
   "execution_count": 5,
   "id": "bbebc0b0-8582-41e4-8e1b-feb8a4b38f53",
   "metadata": {},
   "outputs": [],
   "source": [
    "# Các mục danh sách có thể thuộc bất kỳ loại dữ liệu nào:\n",
    "# Các kiểu dữ liệu chuỗi, int và boolean:\n",
    "list1 = [\"apple\", \"banana\", \"cherry\"]\n",
    "list2 = [1, 5, 7, 9, 3]\n",
    "list3 = [True, False, False]"
   ]
  },
  {
   "cell_type": "code",
   "execution_count": null,
   "id": "e9e17585-3cf4-4ea2-9895-9e60b43be46d",
   "metadata": {},
   "outputs": [],
   "source": [
    "# Một danh sách có thể chứa các loại dữ liệu khác nhau:\n",
    "# Danh sách có chuỗi, số nguyên và giá trị boolean:\n",
    "list1 = [\"abc\", 34, True, 40, \"male\"]"
   ]
  },
  {
   "cell_type": "markdown",
   "id": "ff21c14c-db93-4b1c-ab19-7a0ad2c0ba29",
   "metadata": {},
   "source": [
    "# type()\n",
    "From Python's perspective, lists are defined as objects with the data type 'list':\n",
    "# kiểu()\n",
    "Từ quan điểm của Python, danh sách được định nghĩa là các đối tượng có kiểu dữ liệu 'danh sách':\n",
    "<class 'list'>"
   ]
  },
  {
   "cell_type": "code",
   "execution_count": 6,
   "id": "b2d51310-4184-4e50-bca7-2b7bf3304811",
   "metadata": {},
   "outputs": [
    {
     "name": "stdout",
     "output_type": "stream",
     "text": [
      "<class 'list'>\n"
     ]
    }
   ],
   "source": [
    "# What is the data type of a list?\n",
    "# Kiểu dữ liệu của danh sách là gì?\n",
    "mylist = [\"apple\", \"banana\", \"cherry\"]\n",
    "print(type(mylist))"
   ]
  },
  {
   "cell_type": "markdown",
   "id": "60b2ace5-9ffd-4e62-8413-a54c396ac460",
   "metadata": {},
   "source": [
    "# The list() Constructor\n",
    "It is also possible to use the list() constructor when creating a new list.\n",
    "# Hàm tạo list()\n",
    "Cũng có thể sử dụng hàm tạo list() khi tạo danh sách mới."
   ]
  },
  {
   "cell_type": "code",
   "execution_count": 7,
   "id": "1766b8b4-95f0-423e-ae3b-15e9ce428e5c",
   "metadata": {},
   "outputs": [
    {
     "name": "stdout",
     "output_type": "stream",
     "text": [
      "['apple', 'banana', 'cherry']\n"
     ]
    }
   ],
   "source": [
    "# Using the list() constructor to make a List:\n",
    "# Sử dụng list()hàm tạo để tạo Danh sách:\n",
    "thislist = list((\"apple\", \"banana\", \"cherry\")) # note the double round-brackets\n",
    "print(thislist)"
   ]
  },
  {
   "cell_type": "markdown",
   "id": "d1e49561-0548-41d1-a787-cf55902e738c",
   "metadata": {},
   "source": [
    "# Python Collections (Arrays)\n",
    "There are four collection data types in the Python programming language:\n",
    "\n",
    "List is a collection which is ordered and changeable. Allows duplicate members.\n",
    "Tuple is a collection which is ordered and unchangeable. Allows duplicate members.\n",
    "Set is a collection which is unordered, unchangeable*, and unindexed. No duplicate members.\n",
    "Dictionary is a collection which is ordered** and changeable. No duplicate members.\n",
    "\n",
    "# Bộ sưu tập Python (Mảng)\n",
    "Có bốn loại dữ liệu bộ sưu tập trong ngôn ngữ lập trình Python:\n",
    "\n",
    "Danh sách là một bộ sưu tập được sắp xếp và có thể thay đổi. Cho phép thành viên trùng lặp.\n",
    "Tuple là một bộ sưu tập được sắp xếp và không thể thay đổi. Cho phép thành viên trùng lặp.\n",
    "Set là một bộ sưu tập không có thứ tự, không thể thay đổi* và không được lập chỉ mục. Không có thành viên trùng lặp.\n",
    "Từ điển là một bộ sưu tập được sắp xếp** và có thể thay đổi. Không có thành viên trùng lặp."
   ]
  },
  {
   "cell_type": "markdown",
   "id": "bad711ac-1063-46e4-84a6-b5e18a82ad2b",
   "metadata": {},
   "source": [
    "# \n",
    "*Set items are unchangeable, but you can remove and/or add items whenever you like.\n",
    "\n",
    "**As of Python version 3.7, dictionaries are ordered. In Python 3.6 and earlier, dictionaries are unordered.\n",
    "# \n",
    "* Các mục đã đặt không thể thay đổi nhưng bạn có thể xóa và/hoặc thêm các mục bất cứ khi nào bạn muốn.\n",
    "\n",
    "**Kể từ phiên bản Python 3.7, từ điển được sắp xếp theo thứ tự . Trong Python 3.6 trở về trước, từ điển không có thứ tự ."
   ]
  },
  {
   "cell_type": "markdown",
   "id": "18d61991-8955-4b5e-bd55-a14eeedc79e7",
   "metadata": {},
   "source": [
    "# When choosing a collection type, it is useful to understand the properties of that type. Choosing the right type for a particular data set could mean retention of meaning, and, it could mean an increase in efficiency or security.\n",
    "\n",
    "# Khi chọn loại bộ sưu tập, việc hiểu các thuộc tính của loại đó là rất hữu ích. Việc chọn đúng loại cho một tập dữ liệu cụ thể có thể đồng nghĩa với việc duy trì ý nghĩa và có thể đồng nghĩa với việc tăng hiệu quả hoặc tính bảo mật."
   ]
  },
  {
   "cell_type": "code",
   "execution_count": null,
   "id": "0588a9b7-567e-4d8e-9ac0-1a752a5cb3d9",
   "metadata": {},
   "outputs": [],
   "source": []
  }
 ],
 "metadata": {
  "kernelspec": {
   "display_name": "Python 3 (ipykernel)",
   "language": "python",
   "name": "python3"
  },
  "language_info": {
   "codemirror_mode": {
    "name": "ipython",
    "version": 3
   },
   "file_extension": ".py",
   "mimetype": "text/x-python",
   "name": "python",
   "nbconvert_exporter": "python",
   "pygments_lexer": "ipython3",
   "version": "3.12.3"
  }
 },
 "nbformat": 4,
 "nbformat_minor": 5
}
