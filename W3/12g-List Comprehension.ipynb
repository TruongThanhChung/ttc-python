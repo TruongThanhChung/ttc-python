{
 "cells": [
  {
   "cell_type": "markdown",
   "id": "1d1d5efb-0f81-470d-8746-6c202075f869",
   "metadata": {},
   "source": [
    "# List Comprehension\n",
    "List comprehension offers a shorter syntax when you want to create a new list based on the values of an existing list.\n",
    "Example:\n",
    "Based on a list of fruits, you want a new list, containing only the fruits with the letter \"a\" in the name.\n",
    "Without list comprehension you will have to write a for statement with a conditional test inside:\n",
    "\n",
    "# Danh sách hiểu\n",
    "Tính năng hiểu danh sách cung cấp cú pháp ngắn hơn khi bạn muốn tạo danh sách mới dựa trên các giá trị của danh sách hiện có.\n",
    "Ví dụ:\n",
    "Dựa trên danh sách các loại trái cây, bạn muốn có một danh sách mới, chỉ chứa các loại trái cây có chữ \"a\" trong tên.\n",
    "Nếu không hiểu danh sách, bạn sẽ phải viết một forcâu lệnh kèm theo một bài kiểm tra có điều kiện bên trong:"
   ]
  },
  {
   "cell_type": "code",
   "execution_count": 1,
   "id": "a38f9ea6-335d-451f-9ed0-f9f2927bfba5",
   "metadata": {},
   "outputs": [
    {
     "name": "stdout",
     "output_type": "stream",
     "text": [
      "['apple', 'banana', 'mango']\n"
     ]
    }
   ],
   "source": [
    "fruits = [\"apple\", \"banana\", \"cherry\", \"kiwi\", \"mango\"]\n",
    "newlist = []\n",
    "\n",
    "for x in fruits:\n",
    "  if \"a\" in x:\n",
    "    newlist.append(x)\n",
    "\n",
    "print(newlist)"
   ]
  },
  {
   "cell_type": "code",
   "execution_count": 2,
   "id": "81c04ce7-d13a-412a-846a-d99d6506b17e",
   "metadata": {},
   "outputs": [
    {
     "name": "stdout",
     "output_type": "stream",
     "text": [
      "['apple', 'banana', 'mango']\n"
     ]
    }
   ],
   "source": [
    "# With list comprehension you can do all that with only one line of code:\n",
    "# Với khả năng hiểu danh sách, bạn có thể thực hiện tất cả những điều đó chỉ với một dòng mã:\n",
    "fruits = [\"apple\", \"banana\", \"cherry\", \"kiwi\", \"mango\"]\n",
    "\n",
    "newlist = [x for x in fruits if \"a\" in x]\n",
    "\n",
    "print(newlist)"
   ]
  },
  {
   "cell_type": "markdown",
   "id": "bb2bcedb-bc8b-43b4-9879-863e294f7c18",
   "metadata": {},
   "source": [
    "# The Syntax\n",
    "newlist = [expression for item in iterable if condition == True]\n",
    "The return value is a new list, leaving the old list unchanged.\n",
    "# Cú pháp\n",
    "newlist = [expression for item in iterable if condition == True]\n",
    "Giá trị trả về là một danh sách mới, giữ nguyên danh sách cũ."
   ]
  },
  {
   "cell_type": "markdown",
   "id": "f108398c-791f-4ec5-bd50-aa1af101bba4",
   "metadata": {},
   "source": [
    "# Condition\n",
    "The condition is like a filter that only accepts the items that valuate to True.\n",
    "# Tình trạng\n",
    "Điều kiện giống như một bộ lọc chỉ chấp nhận các mục có giá trị True."
   ]
  },
  {
   "cell_type": "code",
   "execution_count": 3,
   "id": "1077b839-dab2-4105-9414-3eb80de257a6",
   "metadata": {},
   "outputs": [],
   "source": [
    "# Only accept items that are not \"apple\":\n",
    "# Chỉ chấp nhận các mặt hàng không phải là \"apple\":\n",
    "newlist = [x for x in fruits if x != \"apple\"]"
   ]
  },
  {
   "cell_type": "markdown",
   "id": "d616bb64-1fcb-4cbc-9bff-ec16a29b8883",
   "metadata": {},
   "source": [
    "# The condition if x != \"apple\"  will return True for all elements other than \"apple\", making the new list contain all fruits except \"apple\".\n",
    "The condition is optional and can be omitted:\n",
    "# Điều kiện if x != \"apple\"  sẽ trả Truevề tất cả các phần tử ngoài \"táo\", làm cho danh sách mới chứa tất cả các loại trái cây ngoại trừ \"táo\".\n",
    "Điều kiện là tùy chọn và có thể được bỏ qua:"
   ]
  },
  {
   "cell_type": "code",
   "execution_count": null,
   "id": "888a6f14-8f5e-4b2e-b187-c3643e7c4c51",
   "metadata": {},
   "outputs": [],
   "source": [
    "# With no if statement:\n",
    "# Không có iftuyên bố:\n",
    "newlist = [x for x in fruits]"
   ]
  },
  {
   "cell_type": "markdown",
   "id": "5a1be9a7-9ff7-4b8c-a020-5e78ad8de7d1",
   "metadata": {},
   "source": [
    "# Iterable\n",
    "The iterable can be any iterable object, like a list, tuple, set etc.\n",
    "# Có thể lặp lại\n",
    "Iterable có thể là bất kỳ đối tượng iterable nào, như danh sách, bộ dữ liệu, bộ, v.v."
   ]
  },
  {
   "cell_type": "code",
   "execution_count": null,
   "id": "03c1cfd6-80bf-477e-a9c5-b8b4ba86c127",
   "metadata": {},
   "outputs": [],
   "source": [
    "# You can use the range() function to create an iterable:\n",
    "# Bạn có thể sử dụng range()hàm để tạo một iterable:\n",
    "newlist = [x for x in range(10)]"
   ]
  },
  {
   "cell_type": "code",
   "execution_count": null,
   "id": "89efa3ef-c0de-41b6-b3ba-6a229c21f9dd",
   "metadata": {},
   "outputs": [],
   "source": [
    "# Accept only numbers lower than 5:\n",
    "# Chỉ chấp nhận các số thấp hơn 5:\n",
    "newlist = [x for x in range(10) if x < 5]"
   ]
  },
  {
   "cell_type": "markdown",
   "id": "f3b8395b-a406-401c-8cab-a781b47ebf84",
   "metadata": {},
   "source": [
    "# Expression\n",
    "The expression is the current item in the iteration, but it is also the outcome, which you can manipulate before it ends up like a list item in the new list:\n",
    "# Sự biểu lộ\n",
    "Biểu thức là mục hiện tại trong lần lặp, nhưng nó cũng là kết quả mà bạn có thể thao tác trước khi nó kết thúc giống như một mục danh sách trong danh sách mới:"
   ]
  },
  {
   "cell_type": "code",
   "execution_count": 4,
   "id": "31db9449-3853-4a70-818d-4def54488a82",
   "metadata": {},
   "outputs": [],
   "source": [
    "# Set the values in the new list to upper case:\n",
    "# Đặt các giá trị trong danh sách mới thành chữ hoa:\n",
    "newlist = [x.upper() for x in fruits]"
   ]
  },
  {
   "cell_type": "markdown",
   "id": "4f6d0a19-4f50-4e97-9484-e2057b3b8506",
   "metadata": {},
   "source": [
    "# You can set the outcome to whatever you like:\n",
    "# Bạn có thể đặt kết quả thành bất cứ điều gì bạn thích:"
   ]
  },
  {
   "cell_type": "code",
   "execution_count": null,
   "id": "9801ae67-85ee-4d75-b7af-b687ef1b5847",
   "metadata": {},
   "outputs": [],
   "source": [
    "# Set all values in the new list to 'hello':\n",
    "# Đặt tất cả các giá trị trong danh sách mới thành 'xin chào':\n",
    "newlist = ['hello' for x in fruits]"
   ]
  },
  {
   "cell_type": "markdown",
   "id": "6ffe7ac1-cd5f-4e40-b439-9fb59f73940c",
   "metadata": {},
   "source": [
    "# The expression can also contain conditions, not like a filter, but as a way to manipulate the outcome:\n",
    "# Biểu thức cũng có thể chứa các điều kiện, không giống như bộ lọc mà là một cách để thao túng kết quả:"
   ]
  },
  {
   "cell_type": "code",
   "execution_count": null,
   "id": "370d0e91-0d7f-4333-9f17-a5ffdd10769b",
   "metadata": {},
   "outputs": [],
   "source": [
    "# Return \"orange\" instead of \"banana\":\n",
    "# Trả về \"cam\" thay vì \"chuối\":\n",
    "newlist = [x if x != \"banana\" else \"orange\" for x in fruits]"
   ]
  },
  {
   "cell_type": "markdown",
   "id": "4a23a4c3-7a5b-4d32-a367-235a780b8f70",
   "metadata": {},
   "source": [
    "# The expression in the example above says:\n",
    "\"Return the item if it is not banana, if it is banana return orange\".\n",
    "# Biểu thức trong ví dụ trên cho biết:\n",
    "“Không phải chuối trả lại hàng, chuối trả lại cam”."
   ]
  }
 ],
 "metadata": {
  "kernelspec": {
   "display_name": "Python 3 (ipykernel)",
   "language": "python",
   "name": "python3"
  },
  "language_info": {
   "codemirror_mode": {
    "name": "ipython",
    "version": 3
   },
   "file_extension": ".py",
   "mimetype": "text/x-python",
   "name": "python",
   "nbconvert_exporter": "python",
   "pygments_lexer": "ipython3",
   "version": "3.12.3"
  }
 },
 "nbformat": 4,
 "nbformat_minor": 5
}
