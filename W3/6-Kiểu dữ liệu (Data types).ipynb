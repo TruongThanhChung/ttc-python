{
 "cells": [
  {
   "cell_type": "markdown",
   "id": "47e97471-e11e-4982-b77c-902f6066a9ea",
   "metadata": {},
   "source": [
    "# Các kiểu dữ liệu tích hợp\n",
    "Trong lập trình, kiểu dữ liệu là một khái niệm quan trọng.\n",
    "\n",
    "Các biến có thể lưu trữ dữ liệu thuộc nhiều loại khác nhau và các loại khác nhau có thể thực hiện những việc khác nhau.\n",
    "\n",
    "Theo mặc định, Python có các kiểu dữ liệu sau được tích hợp sẵn, thuộc các danh mục sau:\n",
    "\n",
    "Dạng văn bản:\t    str\n",
    "Các loại số:\t    int, float, complex\n",
    "Các loại trình tự:\tlist, tuple, range\n",
    "Loại bản đồ:\t    dict\n",
    "Đặt loại:\t        set,frozenset\n",
    "Kiểu Boolean:\t    bool\n",
    "Các loại nhị phân:\tbytes, bytearray, memoryview\n",
    "Loại:\t            NoneType"
   ]
  },
  {
   "cell_type": "code",
   "execution_count": 3,
   "id": "0303e159-3d52-4084-be83-949edec8f01e",
   "metadata": {},
   "outputs": [
    {
     "name": "stdout",
     "output_type": "stream",
     "text": [
      "<class 'int'>\n",
      "<class 'str'>\n",
      "<class 'float'>\n",
      "<class 'complex'>\n",
      "<class 'list'>\n",
      "<class 'bool'>\n"
     ]
    }
   ],
   "source": [
    "# Bạn có thể lấy kiểu dữ liệu của bất kỳ đối tượng nào bằng cách sử dụng type()hàm:\n",
    "x = 5\n",
    "y = \"ABC\"\n",
    "z = 3.14159\n",
    "a = 1 + 2j\n",
    "b = [1, 2, 3, 4]\n",
    "c = True\n",
    "print(type(x))\n",
    "print(type(y))\n",
    "print(type(z))\n",
    "print(type(a))\n",
    "print(type(b))\n",
    "print(type(c))"
   ]
  },
  {
   "cell_type": "markdown",
   "id": "b40478eb-3c5e-4af1-9182-6b7945651c2d",
   "metadata": {},
   "source": [
    "''' Đặt kiểu dữ liệu\n",
    "Trong Python, kiểu dữ liệu được đặt khi bạn gán giá trị cho một biến:'''\n",
    "x = \"Hello World\"\t                str\t\n",
    "x = 20\t                            int\t\n",
    "x = 20.5\t                        float\t\n",
    "x = 1j\t                            complex\t\n",
    "x = [\"apple\", \"banana\", \"cherry\"]\tlist\t\n",
    "x = (\"apple\", \"banana\", \"cherry\")\ttuple\t\n",
    "x = range(6)\t                    range\t\n",
    "x = {\"name\" : \"John\", \"age\" : 36}\tdict\t\n",
    "x = {\"apple\", \"banana\", \"cherry\"}\tset\t\n",
    "x = frozenset({\"apple\", \"banana\", \"cherry\"})\tfrozenset\t\n",
    "x = True\t                        bool\t\n",
    "x = b\"Hello\"\t                    bytes\t\n",
    "x = bytearray(5)\t                bytearray\t\n",
    "x = memoryview(bytes(5))\t        memoryview\t\n",
    "x = None\t                        NoneType"
   ]
  },
  {
   "cell_type": "code",
   "execution_count": null,
   "id": "93d9e6da-c4ef-444e-ae5d-c7527e1326fc",
   "metadata": {},
   "outputs": [],
   "source": [
    "# Nếu bạn muốn chỉ định kiểu dữ liệu, bạn có thể sử dụng các hàm tạo sau:\n",
    "x = str(\"Hello World\")\t                         str\t\n",
    "x = int(20)\t                                     int\t\n",
    "x = float(20.5)\t                                 float\t\n",
    "x = complex(1j)\t                                 complex\t\n",
    "x = list((\"apple\", \"banana\", \"cherry\"))\t         list\t\n",
    "x = tuple((\"apple\", \"banana\", \"cherry\"))\t     tuple\t\n",
    "x = range(6)\t                                 range\t\n",
    "x = dict(name=\"John\", age=36)\t                 dict\t\n",
    "x = set((\"apple\", \"banana\", \"cherry\"))\t         set\t\n",
    "x = frozenset((\"apple\", \"banana\", \"cherry\"))\t frozenset\t\n",
    "x = bool(5)\t                                     bool\t\n",
    "x = bytes(5)\t                                 bytes\t\n",
    "x = bytearray(5)\t                             bytearray\t\n",
    "x = memoryview(bytes(5))\t                     memoryview"
   ]
  }
 ],
 "metadata": {
  "kernelspec": {
   "display_name": "Python 3 (ipykernel)",
   "language": "python",
   "name": "python3"
  },
  "language_info": {
   "codemirror_mode": {
    "name": "ipython",
    "version": 3
   },
   "file_extension": ".py",
   "mimetype": "text/x-python",
   "name": "python",
   "nbconvert_exporter": "python",
   "pygments_lexer": "ipython3",
   "version": "3.12.3"
  }
 },
 "nbformat": 4,
 "nbformat_minor": 5
}
