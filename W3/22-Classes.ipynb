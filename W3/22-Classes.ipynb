{
 "cells": [
  {
   "cell_type": "markdown",
   "id": "9ee58181-f0f2-4fc9-a026-124db804c5d0",
   "metadata": {},
   "source": [
    "Python Classes/Objects\n",
    "Python is an object oriented programming language.\n",
    "Almost everything in Python is an object, with its properties and methods.\n",
    "A Class is like an object constructor, or a \"blueprint\" for creating objects.\n",
    "\n",
    "Lớp/Đối tượng Python\n",
    "Python là một ngôn ngữ lập trình hướng đối tượng.\n",
    "Hầu hết mọi thứ trong Python đều là một đối tượng, với các thuộc tính và phương thức của nó.\n",
    "Lớp giống như một hàm tạo đối tượng hoặc một \"bản thiết kế\" để tạo đối tượng."
   ]
  },
  {
   "cell_type": "markdown",
   "id": "20e995bb-e875-45ff-a8f1-21da499dd229",
   "metadata": {},
   "source": [
    "Create a Class\n",
    "To create a class, use the keyword class:\n",
    "Tạo một lớp học\n",
    "Để tạo một lớp, hãy sử dụng từ khóa class:"
   ]
  },
  {
   "cell_type": "code",
   "execution_count": 2,
   "id": "7e3a1e99-e7ad-4399-bbcc-b9310820f5f9",
   "metadata": {},
   "outputs": [],
   "source": [
    "# Create a class named MyClass, with a property named x:\n",
    "# Tạo một lớp có tên MyClass, với thuộc tính có tên x:\n",
    "class MyClass:\n",
    "  x = 5"
   ]
  },
  {
   "cell_type": "markdown",
   "id": "8c2191af-f8e4-4217-bb50-3aa036772346",
   "metadata": {},
   "source": [
    "Create Object\n",
    "Now we can use the class named MyClass to create objects:\n",
    "Tạo đối tượng\n",
    "Bây giờ chúng ta có thể sử dụng lớp có tên MyClass để tạo các đối tượng:"
   ]
  },
  {
   "cell_type": "code",
   "execution_count": 3,
   "id": "1b5a7483-cd13-489b-8816-15bf752c2bab",
   "metadata": {},
   "outputs": [
    {
     "name": "stdout",
     "output_type": "stream",
     "text": [
      "5\n"
     ]
    }
   ],
   "source": [
    "# Create an object named p1, and print the value of x:\n",
    "# Tạo một đối tượng có tên p1 và in giá trị của x:\n",
    "p1 = MyClass()\n",
    "print(p1.x)"
   ]
  },
  {
   "cell_type": "markdown",
   "id": "10c049f8-fea7-476d-962b-203f80ff99a7",
   "metadata": {},
   "source": [
    "The __init__() Function\n",
    "The examples above are classes and objects in their simplest form, and are not really useful in real life applications.\n",
    "To understand the meaning of classes we have to understand the built-in __init__() function.\n",
    "All classes have a function called __init__(), which is always executed when the class is being initiated.\n",
    "Use the __init__() function to assign values to object properties, or other operations that are necessary to do when the object is being created:\n",
    "Hàm __init__()\n",
    "Các ví dụ trên là các lớp và đối tượng ở dạng đơn giản nhất và không thực sự hữu ích trong các ứng dụng thực tế.\n",
    "Để hiểu ý nghĩa của các lớp, chúng ta phải hiểu hàm __init__() có sẵn.\n",
    "Tất cả các lớp đều có một hàm gọi là __init__(), hàm này luôn được thực thi khi lớp được khởi tạo.\n",
    "Sử dụng hàm __init__() để gán giá trị cho thuộc tính đối tượng hoặc các thao tác khác cần thực hiện khi đối tượng được tạo:"
   ]
  },
  {
   "cell_type": "code",
   "execution_count": 4,
   "id": "e498297a-f3ae-4e40-95e0-0065fcc0e28c",
   "metadata": {},
   "outputs": [
    {
     "name": "stdout",
     "output_type": "stream",
     "text": [
      "John\n",
      "36\n"
     ]
    }
   ],
   "source": [
    "# Create a class named Person, use the __init__() function to assign values for name and age:\n",
    "# Tạo một lớp có tên Person, sử dụng hàm __init__() để gán giá trị cho tên và tuổi:\n",
    "class Person:\n",
    "  def __init__(self, name, age):\n",
    "    self.name = name\n",
    "    self.age = age\n",
    "\n",
    "p1 = Person(\"John\", 36)\n",
    "\n",
    "print(p1.name)\n",
    "print(p1.age)"
   ]
  },
  {
   "cell_type": "markdown",
   "id": "109af275-9ef1-40a4-b7c7-4b503f7f5634",
   "metadata": {},
   "source": [
    "Note: The __init__() function is called automatically every time the class is being used to create a new object.\n",
    "Lưu ý: Hàm này __init__() được gọi tự động mỗi khi lớp được sử dụng để tạo đối tượng mới."
   ]
  },
  {
   "cell_type": "markdown",
   "id": "d92fd6ce-6ec5-474e-9163-624f2bd0ba70",
   "metadata": {},
   "source": [
    "The __str__() Function\n",
    "The __str__() function controls what should be returned when the class object is represented as a string.\n",
    "If the __str__() function is not set, the string representation of the object is returned:\n",
    "Hàm __str__()\n",
    "Hàm __str__() kiểm soát những gì sẽ được trả về khi đối tượng lớp được biểu diễn dưới dạng một chuỗi.\n",
    "Nếu hàm __str__() không được đặt, biểu diễn chuỗi của đối tượng sẽ được trả về:"
   ]
  },
  {
   "cell_type": "code",
   "execution_count": 5,
   "id": "b84f55cc-75ca-4fad-bdaf-1e7f92e71ffc",
   "metadata": {},
   "outputs": [
    {
     "name": "stdout",
     "output_type": "stream",
     "text": [
      "<__main__.Person object at 0x000002361074D730>\n"
     ]
    }
   ],
   "source": [
    "# The string representation of an object WITHOUT the __str__() function:\n",
    "# Biểu diễn chuỗi của một đối tượng KHÔNG CÓ hàm __str__():\n",
    "class Person:\n",
    "  def __init__(self, name, age):\n",
    "    self.name = name\n",
    "    self.age = age\n",
    "\n",
    "p1 = Person(\"John\", 36)\n",
    "\n",
    "print(p1)"
   ]
  },
  {
   "cell_type": "code",
   "execution_count": 6,
   "id": "c4d74384-0696-401c-bbb0-8874586d3ce3",
   "metadata": {},
   "outputs": [
    {
     "name": "stdout",
     "output_type": "stream",
     "text": [
      "John(36)\n"
     ]
    }
   ],
   "source": [
    "# The string representation of an object WITH the __str__() function:\n",
    "# Biểu diễn chuỗi của một đối tượng VỚI hàm __str__():\n",
    "class Person:\n",
    "  def __init__(self, name, age):\n",
    "    self.name = name\n",
    "    self.age = age\n",
    "\n",
    "  def __str__(self):\n",
    "    return f\"{self.name}({self.age})\"\n",
    "\n",
    "p1 = Person(\"John\", 36)\n",
    "\n",
    "print(p1)"
   ]
  },
  {
   "cell_type": "markdown",
   "id": "04ef32bb-411c-46a5-b32f-5bc8273e01c9",
   "metadata": {},
   "source": [
    "Object Methods\n",
    "Objects can also contain methods. Methods in objects are functions that belong to the object.\n",
    "Let us create a method in the Person class:\n",
    "Phương thức đối tượng\n",
    "Các đối tượng cũng có thể chứa các phương thức. Các phương thức trong đối tượng là các hàm thuộc về đối tượng.\n",
    "Chúng ta hãy tạo một phương thức trong lớp Person:"
   ]
  },
  {
   "cell_type": "code",
   "execution_count": 7,
   "id": "5459b19b-c66a-4366-a12b-9b92edd1441a",
   "metadata": {},
   "outputs": [
    {
     "name": "stdout",
     "output_type": "stream",
     "text": [
      "Hello my name is John\n"
     ]
    }
   ],
   "source": [
    "# Insert a function that prints a greeting, and execute it on the p1 object:\n",
    "# Chèn một hàm in lời chào và thực thi nó trên đối tượng p1:\n",
    "class Person:\n",
    "  def __init__(self, name, age):\n",
    "    self.name = name\n",
    "    self.age = age\n",
    "\n",
    "  def myfunc(self):\n",
    "    print(\"Hello my name is \" + self.name)\n",
    "\n",
    "p1 = Person(\"John\", 36)\n",
    "p1.myfunc()"
   ]
  },
  {
   "cell_type": "markdown",
   "id": "2f649d3f-8dd4-49b8-8e89-58b9c4dad051",
   "metadata": {},
   "source": [
    "Note: The self parameter is a reference to the current instance of the class, and is used to access variables that belong to the class.\n",
    "Lưu ý: Tham số này selflà tham chiếu đến phiên bản hiện tại của lớp và được sử dụng để truy cập các biến thuộc lớp."
   ]
  },
  {
   "cell_type": "markdown",
   "id": "8a9e562b-446b-4e60-9ea8-fb81071871ef",
   "metadata": {},
   "source": [
    "The self Parameter\n",
    "The self parameter is a reference to the current instance of the class, and is used to access variables that belongs to the class.\n",
    "It does not have to be named self , you can call it whatever you like, but it has to be the first parameter of any function in the class:\n",
    "Tham số bản thân\n",
    "Tham số này selflà một tham chiếu đến phiên bản hiện tại của lớp và được sử dụng để truy cập các biến thuộc lớp.\n",
    "Nó không cần phải được đặt tên self, bạn có thể gọi nó là gì tùy thích, nhưng nó phải là tham số đầu tiên của bất kỳ hàm nào trong lớp:"
   ]
  },
  {
   "cell_type": "code",
   "execution_count": null,
   "id": "4463b85d-655e-4c4b-ad2c-6fa8c8534b98",
   "metadata": {},
   "outputs": [],
   "source": [
    "# Use the words mysillyobject and abc instead of self:\n",
    "# Sử dụng các từ mysillyobject và abc thay vì self :\n",
    "class Person:\n",
    "  def __init__(mysillyobject, name, age):\n",
    "    mysillyobject.name = name\n",
    "    mysillyobject.age = age\n",
    "\n",
    "  def myfunc(abc):\n",
    "    print(\"Hello my name is \" + abc.name)\n",
    "\n",
    "p1 = Person(\"John\", 36)\n",
    "p1.myfunc()"
   ]
  },
  {
   "cell_type": "markdown",
   "id": "02112ae6-3263-4f88-9a38-ba9e8306f850",
   "metadata": {},
   "source": [
    "Modify Object Properties\n",
    "You can modify properties on objects like this:\n",
    "Sửa đổi thuộc tính đối tượng\n",
    "Bạn có thể sửa đổi thuộc tính trên các đối tượng như thế này:"
   ]
  },
  {
   "cell_type": "code",
   "execution_count": 8,
   "id": "c10d9ba8-1a7f-4e77-8d15-7c2c90f8eae1",
   "metadata": {},
   "outputs": [],
   "source": [
    "# Set the age of p1 to 40:\n",
    "# Đặt tuổi của p1 thành 40:\n",
    "p1.age = 40"
   ]
  },
  {
   "cell_type": "markdown",
   "id": "b4182656-3a0b-4369-b82d-c5e725c5b73d",
   "metadata": {},
   "source": [
    "Delete Object Properties\n",
    "You can delete properties on objects by using the del keyword:\n",
    "Xóa thuộc tính đối tượng\n",
    "Bạn có thể xóa thuộc tính trên đối tượng bằng cách sử dụng deltừ khóa:"
   ]
  },
  {
   "cell_type": "code",
   "execution_count": 9,
   "id": "58ef9f24-ab4a-4620-a583-6560fe691bed",
   "metadata": {},
   "outputs": [],
   "source": [
    "# Delete the age property from the p1 object:\n",
    "# Xóa thuộc tính age khỏi đối tượng p1:\n",
    "del p1.age"
   ]
  },
  {
   "cell_type": "markdown",
   "id": "964c89f1-694f-4f07-a14d-829f34448c81",
   "metadata": {},
   "source": [
    "Delete Objects\n",
    "You can delete objects by using the del keyword:\n",
    "Xóa đối tượng\n",
    "Bạn có thể xóa các đối tượng bằng cách sử dụng del từ khóa:"
   ]
  },
  {
   "cell_type": "code",
   "execution_count": null,
   "id": "ae7a4be6-b9dc-4108-b31d-33c64c9f65d4",
   "metadata": {},
   "outputs": [],
   "source": [
    "del p1"
   ]
  },
  {
   "cell_type": "markdown",
   "id": "1bee53c8-b7bc-41b0-b85e-ec39b6d11a0b",
   "metadata": {},
   "source": [
    "The pass Statement\n",
    "class definitions cannot be empty, but if you for some reason have a class definition with no content, put in the pass statement to avoid getting an error.\n",
    "Tuyên bố vượt qua\n",
    "class định nghĩa không được để trống, nhưng nếu vì lý do nào đó bạn có classđịnh nghĩa không có nội dung thì hãy đưa vào pass câu lệnh để tránh bị lỗi."
   ]
  },
  {
   "cell_type": "code",
   "execution_count": null,
   "id": "0e1e9f1c-a3c4-42a7-9f84-138c71affc28",
   "metadata": {},
   "outputs": [],
   "source": [
    "class Person:\n",
    "  pass"
   ]
  }
 ],
 "metadata": {
  "kernelspec": {
   "display_name": "Python 3 (ipykernel)",
   "language": "python",
   "name": "python3"
  },
  "language_info": {
   "codemirror_mode": {
    "name": "ipython",
    "version": 3
   },
   "file_extension": ".py",
   "mimetype": "text/x-python",
   "name": "python",
   "nbconvert_exporter": "python",
   "pygments_lexer": "ipython3",
   "version": "3.12.3"
  }
 },
 "nbformat": 4,
 "nbformat_minor": 5
}
