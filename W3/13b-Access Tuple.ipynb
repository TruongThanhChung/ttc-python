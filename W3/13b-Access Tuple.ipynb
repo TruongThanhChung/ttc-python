{
 "cells": [
  {
   "cell_type": "markdown",
   "id": "e7871cf7-bee3-465a-a9a9-5f2cd3666147",
   "metadata": {},
   "source": [
    "# Access Tuple Items\n",
    "You can access tuple items by referring to the index number, inside square brackets:\n",
    "\n",
    "# Truy cập các mục Tuple\n",
    "Bạn có thể truy cập các mục tuple bằng cách tham khảo số chỉ mục, bên trong dấu ngoặc vuông:"
   ]
  },
  {
   "cell_type": "code",
   "execution_count": 1,
   "id": "ec800237-a409-40d3-a5a0-97fb4b0955a5",
   "metadata": {},
   "outputs": [
    {
     "name": "stdout",
     "output_type": "stream",
     "text": [
      "banana\n"
     ]
    }
   ],
   "source": [
    "# Print the second item in the tuple:\n",
    "# In mục thứ hai trong bộ dữ liệu:\n",
    "thistuple = (\"apple\", \"banana\", \"cherry\")\n",
    "print(thistuple[1])"
   ]
  },
  {
   "cell_type": "markdown",
   "id": "748b5614-df54-49ba-a3c5-0d495a655d09",
   "metadata": {},
   "source": [
    "# Note: The first item has index 0.\n",
    "# Lưu ý: Mục đầu tiên có chỉ số 0."
   ]
  },
  {
   "cell_type": "markdown",
   "id": "beb801ca-337e-4750-b6a4-7fdd38d0a262",
   "metadata": {},
   "source": [
    "# Negative Indexing\n",
    "Negative indexing means start from the end.\n",
    "-1 refers to the last item, -2 refers to the second last item etc.\n",
    "\n",
    "# Lập chỉ mục tiêu cực\n",
    "Lập chỉ mục tiêu cực có nghĩa là bắt đầu từ cuối.\n",
    "-1đề cập đến mục cuối cùng, -2đề cập đến mục cuối cùng thứ hai, v.v."
   ]
  },
  {
   "cell_type": "code",
   "execution_count": 2,
   "id": "44a538bc-9e16-41d9-9f41-4201482af0c5",
   "metadata": {},
   "outputs": [
    {
     "name": "stdout",
     "output_type": "stream",
     "text": [
      "cherry\n"
     ]
    }
   ],
   "source": [
    "# Print the last item of the tuple:\n",
    "# In mục cuối cùng của bộ dữ liệu:\n",
    "thistuple = (\"apple\", \"banana\", \"cherry\")\n",
    "print(thistuple[-1])"
   ]
  },
  {
   "cell_type": "markdown",
   "id": "846d6a26-44d0-4f43-bf64-2287cc5c849a",
   "metadata": {},
   "source": [
    "# Range of Indexes\n",
    "You can specify a range of indexes by specifying where to start and where to end the range.\n",
    "When specifying a range, the return value will be a new tuple with the specified items.\n",
    "\n",
    "# Phạm vi chỉ số\n",
    "Bạn có thể chỉ định một phạm vi chỉ mục bằng cách chỉ định nơi bắt đầu và nơi kết thúc phạm vi.\n",
    "Khi chỉ định một phạm vi, giá trị trả về sẽ là một bộ dữ liệu mới với các mục được chỉ định."
   ]
  },
  {
   "cell_type": "code",
   "execution_count": 4,
   "id": "4c3947fb-da6c-4492-a126-b319f8ad09be",
   "metadata": {},
   "outputs": [
    {
     "name": "stdout",
     "output_type": "stream",
     "text": [
      "('cherry', 'orange', 'kiwi')\n"
     ]
    }
   ],
   "source": [
    "# Return the third, fourth, and fifth item:\n",
    "# Trả lại mục thứ ba, thứ tư và thứ năm:\n",
    "thistuple = (\"apple\", \"banana\", \"cherry\", \"orange\", \"kiwi\", \"melon\", \"mango\")\n",
    "print(thistuple[2:5])\n",
    "# Note: The search will start at index 2 (included) and end at index 5 (not included).\n",
    "# Lưu ý: Việc tìm kiếm sẽ bắt đầu ở chỉ mục 2 (bao gồm) và kết thúc ở chỉ mục 5 (không bao gồm).\n",
    "# Remember that the first item has index 0.\n",
    "# Hãy nhớ rằng mục đầu tiên có chỉ số 0."
   ]
  },
  {
   "cell_type": "markdown",
   "id": "2c2faff6-c5b6-43e9-a13f-31e4192640cd",
   "metadata": {},
   "source": [
    "# By leaving out the start value, the range will start at the first item:\n",
    "# Bằng cách bỏ đi giá trị bắt đầu, phạm vi sẽ bắt đầu ở mục đầu tiên:"
   ]
  },
  {
   "cell_type": "code",
   "execution_count": 5,
   "id": "456792da-84c2-4be5-96f4-033e130b0c9c",
   "metadata": {},
   "outputs": [
    {
     "name": "stdout",
     "output_type": "stream",
     "text": [
      "('apple', 'banana', 'cherry', 'orange')\n"
     ]
    }
   ],
   "source": [
    "# This example returns the items from the beginning to, but NOT included, \"kiwi\":\n",
    "# Ví dụ này trả về các mục từ đầu đến \"kiwi\" nhưng KHÔNG bao gồm:\n",
    "thistuple = (\"apple\", \"banana\", \"cherry\", \"orange\", \"kiwi\", \"melon\", \"mango\")\n",
    "print(thistuple[:4])"
   ]
  },
  {
   "cell_type": "markdown",
   "id": "7b3322b0-e859-4d17-aadc-309f83b5f1e0",
   "metadata": {},
   "source": [
    "# By leaving out the end value, the range will go on to the end of the tuple:\n",
    "# Bằng cách bỏ đi giá trị cuối, phạm vi sẽ đi đến cuối bộ dữ liệu:"
   ]
  },
  {
   "cell_type": "code",
   "execution_count": 6,
   "id": "49025048-fe5c-4423-92af-35f577635b2a",
   "metadata": {},
   "outputs": [
    {
     "name": "stdout",
     "output_type": "stream",
     "text": [
      "('cherry', 'orange', 'kiwi', 'melon', 'mango')\n"
     ]
    }
   ],
   "source": [
    "# This example returns the items from \"cherry\" and to the end:\n",
    "# Ví dụ này trả về các mục từ \"cherry\" và đến cuối:\n",
    "thistuple = (\"apple\", \"banana\", \"cherry\", \"orange\", \"kiwi\", \"melon\", \"mango\")\n",
    "print(thistuple[2:])"
   ]
  },
  {
   "cell_type": "markdown",
   "id": "ba00104a-bdd6-4ce2-9f7a-7858c1613b81",
   "metadata": {},
   "source": [
    "# Range of Negative Indexes\n",
    "Specify negative indexes if you want to start the search from the end of the tuple:\n",
    "# Phạm vi chỉ số tiêu cực\n",
    "Chỉ định các chỉ mục phủ định nếu bạn muốn bắt đầu tìm kiếm từ cuối bộ dữ liệu:"
   ]
  },
  {
   "cell_type": "code",
   "execution_count": 7,
   "id": "a83feee3-592a-4d37-8937-cfd8cbf9e439",
   "metadata": {},
   "outputs": [
    {
     "name": "stdout",
     "output_type": "stream",
     "text": [
      "('orange', 'kiwi', 'melon')\n"
     ]
    }
   ],
   "source": [
    "# This example returns the items from index -4 (included) to index -1 (excluded)\n",
    "# Ví dụ này trả về các mục từ chỉ mục -4 (được bao gồm) đến chỉ mục -1 (bị loại trừ)\n",
    "thistuple = (\"apple\", \"banana\", \"cherry\", \"orange\", \"kiwi\", \"melon\", \"mango\")\n",
    "print(thistuple[-4:-1])"
   ]
  },
  {
   "cell_type": "markdown",
   "id": "1f3fb9b6-069a-40a3-a0c6-e8ac5bdee6dc",
   "metadata": {},
   "source": [
    "# Check if Item Exists\n",
    "To determine if a specified item is present in a tuple use the in keyword:\n",
    "\n",
    "# Kiểm tra xem mục có tồn tại không\n",
    "Để xác định xem một mục được chỉ định có trong bộ dữ liệu hay không, hãy sử dụng intừ khóa:"
   ]
  },
  {
   "cell_type": "code",
   "execution_count": 8,
   "id": "8dfb715f-718b-40de-b26f-aff683222b74",
   "metadata": {},
   "outputs": [
    {
     "name": "stdout",
     "output_type": "stream",
     "text": [
      "Yes, 'apple' is in the fruits tuple\n"
     ]
    }
   ],
   "source": [
    "# Check if \"apple\" is present in the tuple:\n",
    "# Kiểm tra xem \"quả táo\" có trong bộ dữ liệu không:\n",
    "thistuple = (\"apple\", \"banana\", \"cherry\")\n",
    "if \"apple\" in thistuple:\n",
    "  print(\"Yes, 'apple' is in the fruits tuple\")"
   ]
  },
  {
   "cell_type": "code",
   "execution_count": 9,
   "id": "9178c350-31dd-4fd1-9e4d-8772ef587007",
   "metadata": {},
   "outputs": [
    {
     "name": "stdout",
     "output_type": "stream",
     "text": [
      "No, 'lemon' is not in the fruits tuple\n"
     ]
    }
   ],
   "source": [
    "thistuple = (\"apple\", \"banana\", \"cherry\", \"mango\")\n",
    "if \"lemon\" in thistuple:\n",
    "  print(\"Yes, 'lemon' is in the fruits tuple\")\n",
    "else: \n",
    "    print(\"No, 'lemon' is not in the fruits tuple\")"
   ]
  },
  {
   "cell_type": "code",
   "execution_count": null,
   "id": "bf4918b8-8833-4a5a-9167-fd5589a4c06a",
   "metadata": {},
   "outputs": [],
   "source": []
  }
 ],
 "metadata": {
  "kernelspec": {
   "display_name": "Python 3 (ipykernel)",
   "language": "python",
   "name": "python3"
  },
  "language_info": {
   "codemirror_mode": {
    "name": "ipython",
    "version": 3
   },
   "file_extension": ".py",
   "mimetype": "text/x-python",
   "name": "python",
   "nbconvert_exporter": "python",
   "pygments_lexer": "ipython3",
   "version": "3.12.3"
  }
 },
 "nbformat": 4,
 "nbformat_minor": 5
}
