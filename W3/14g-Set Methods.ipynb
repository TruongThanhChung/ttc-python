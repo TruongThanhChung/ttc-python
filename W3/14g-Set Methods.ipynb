{
 "cells": [
  {
   "cell_type": "markdown",
   "id": "aaa097df-4898-4654-bf0e-29e317593b53",
   "metadata": {},
   "source": [
    "#\n",
    "Set Methods\n",
    "Python has a set of built-in methods that you can use on sets.\n",
    "#\n",
    "Đặt phương thức\n",
    "Python có một tập hợp các phương thức tích hợp sẵn mà bạn có thể sử dụng trên các tập hợp."
   ]
  },
  {
   "cell_type": "markdown",
   "id": "f429f1e0-c740-4c1b-940a-cda8c68e0860",
   "metadata": {},
   "source": [
    "#\n",
    "Method\t                        Shortcut\tDescription\n",
    "add()\t \t                                Adds an element to the set\n",
    "                                            (Thêm một phần tử vào tập hợp)\n",
    "clear()\t \t                                Removes all the elements from the set\n",
    "                                            (Loại bỏ tất cả các phần tử khỏi tập hợp)\n",
    "copy()\t \t                                Returns a copy of the set\n",
    "                                            (Trả về một bản sao của bộ)\n",
    "difference()\t                -\t        Returns a set containing the difference between two or more sets\n",
    "                                            (Trả về một tập hợp chứa sự khác biệt giữa hai hoặc nhiều tập hợp)\n",
    "difference_update()\t            -=\t        Removes the items in this set that are also included in another, specified set\n",
    "                                            (Xóa các mục trong bộ này cũng được bao gồm trong bộ khác, được chỉ định)\n",
    "discard()\t \t                            Remove the specified item\n",
    "                                            (Xóa mục được chỉ định)\n",
    "intersection()\t                &\t        Returns a set, that is the intersection of two other sets\n",
    "                                            (Trả về một tập hợp, đó là giao điểm của hai tập hợp khác)\n",
    "intersection_update()\t        &=\t        Removes the items in this set that are not present in other, specified set(s)\n",
    "                                            (Xóa các mục trong bộ này không có trong (các) bộ được chỉ định khác)\n",
    "isdisjoint()\t \t                        Returns whether two sets have a intersection or not\n",
    "                                            (Trả về xem hai tập hợp có giao nhau hay không)\n",
    "issubset()\t                    <=\t        Returns whether another set contains this set or not\n",
    "                                            (Trả về liệu tập hợp khác có chứa tập hợp này hay không)\n",
    " \t                            <\t        Returns whether all items in this set is present in other, specified set(s)\n",
    "                                            (Trả về xem tất cả các mục trong tập hợp này có hiện diện trong (các) tập hợp được chỉ định khác hay không)\n",
    "issuperset()\t                >=\t        Returns whether this set contains another set or not\n",
    "                                            (Trả về bộ này có chứa bộ khác hay không)\n",
    " \t                            >\t        Returns whether all items in other, specified set(s) is present in this set\n",
    "                                            (Trả về xem tất cả các mục trong (các) bộ được chỉ định khác có hiện diện trong bộ này hay không)\n",
    "pop()\t \t                                Removes an element from the set\n",
    "                                            (Loại bỏ một phần tử khỏi tập hợp)\n",
    "remove()\t \t                            Removes the specified element\n",
    "                                            (Loại bỏ phần tử được chỉ định)\n",
    "symmetric_difference()\t        ^\t        Returns a set with the symmetric differences of two sets\n",
    "                                            (Trả về một tập hợp có sự khác biệt đối xứng của hai bộ)\n",
    "symmetric_difference_update()\t^=\t        Inserts the symmetric differences from this set and another\n",
    "                                            (Chèn các khác biệt đối xứng từ bộ này và bộ khác)\n",
    "union()\t                        |\t        Return a set containing the union of sets\n",
    "                                            (Trả về một tập hợp chứa tập hợp)\n",
    "update()\t                    |=\t        Update the set with the union of this set and others\n",
    "                                            (Cập nhật tập hợp với sự kết hợp của tập hợp này và các tập hợp khác)"
   ]
  }
 ],
 "metadata": {
  "kernelspec": {
   "display_name": "Python 3 (ipykernel)",
   "language": "python",
   "name": "python3"
  },
  "language_info": {
   "codemirror_mode": {
    "name": "ipython",
    "version": 3
   },
   "file_extension": ".py",
   "mimetype": "text/x-python",
   "name": "python",
   "nbconvert_exporter": "python",
   "pygments_lexer": "ipython3",
   "version": "3.12.3"
  }
 },
 "nbformat": 4,
 "nbformat_minor": 5
}
