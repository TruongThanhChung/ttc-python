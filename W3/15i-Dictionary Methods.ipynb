{
 "cells": [
  {
   "cell_type": "markdown",
   "id": "e961b767-8647-4fca-aa94-830af4d5abd7",
   "metadata": {},
   "source": [
    "# Dictionary Methods\n",
    "Python has a set of built-in methods that you can use on dictionaries.\n",
    "# Phương pháp từ điển\n",
    "Python có một tập hợp các phương thức tích hợp sẵn mà bạn có thể sử dụng trên từ điển."
   ]
  },
  {
   "cell_type": "markdown",
   "id": "57b36b7d-b879-4a8c-b547-50dbff6ba7ce",
   "metadata": {},
   "source": [
    "Method\tDescription\n",
    "clear()\t        Removes all the elements from the dictionary\n",
    "                (Xóa tất cả các thành phần khỏi từ điển)\n",
    "copy()\t        Returns a copy of the dictionary\n",
    "                (Trả về một bản sao của từ điển)\n",
    "fromkeys()\t    Returns a dictionary with the specified keys and value\n",
    "                (Trả về một từ điển với các khóa và giá trị được chỉ định)\n",
    "get()\t        Returns the value of the specified key\n",
    "                (Trả về giá trị của khóa được chỉ định)\n",
    "items()\t        Returns a list containing a tuple for each key value pair\n",
    "                (Trả về danh sách chứa bộ dữ liệu cho mỗi cặp giá trị khóa)\n",
    "keys()\t        Returns a list containing the dictionary's keys\n",
    "                (Trả về danh sách chứa các khóa của từ điển)\n",
    "pop()\t        Removes the element with the specified key\n",
    "                (Xóa phần tử bằng khóa được chỉ định)\n",
    "popitem()\t    Removes the last inserted key-value pair\n",
    "                (Xóa cặp khóa-giá trị được chèn cuối cùng)\n",
    "setdefault()\tReturns the value of the specified key. If the key does not exist: insert the key, with the specified value\n",
    "                (Trả về giá trị của khóa được chỉ định. Nếu khóa không tồn tại: chèn khóa, với giá trị được chỉ định)\n",
    "update()\t    Updates the dictionary with the specified key-value pairs\n",
    "                (Cập nhật từ điển với các cặp khóa-giá trị được chỉ định)\n",
    "values()\t    Returns a list of all the values in the dictionary\n",
    "                (Trả về danh sách tất cả các giá trị trong từ điển)"
   ]
  }
 ],
 "metadata": {
  "kernelspec": {
   "display_name": "Python 3 (ipykernel)",
   "language": "python",
   "name": "python3"
  },
  "language_info": {
   "codemirror_mode": {
    "name": "ipython",
    "version": 3
   },
   "file_extension": ".py",
   "mimetype": "text/x-python",
   "name": "python",
   "nbconvert_exporter": "python",
   "pygments_lexer": "ipython3",
   "version": "3.12.3"
  }
 },
 "nbformat": 4,
 "nbformat_minor": 5
}
