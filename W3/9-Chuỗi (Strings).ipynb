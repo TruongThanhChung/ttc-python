{
 "cells": [
  {
   "cell_type": "code",
   "execution_count": 1,
   "id": "7c4f1228-4749-497f-aff7-4efaa019df28",
   "metadata": {},
   "outputs": [
    {
     "name": "stdout",
     "output_type": "stream",
     "text": [
      "Hello\n",
      "Hello\n"
     ]
    }
   ],
   "source": [
    "''' Các chuỗi trong python được bao quanh bởi dấu ngoặc đơn hoặc dấu ngoặc kép.\n",
    "\n",
    "'xin chào' cũng giống như \"xin chào\" . '''\n",
    "\n",
    "# Bạn có thể hiển thị một chuỗi ký tự bằng print()hàm:\n",
    "print(\"Hello\")\n",
    "print('Hello')"
   ]
  },
  {
   "cell_type": "code",
   "execution_count": 2,
   "id": "103e6342-7b4b-4209-b40f-02d8ecc7292b",
   "metadata": {},
   "outputs": [
    {
     "name": "stdout",
     "output_type": "stream",
     "text": [
      "It's alright\n",
      "He is called 'Johnny'\n",
      "He is called \"Johnny\"\n"
     ]
    }
   ],
   "source": [
    "# Bạn có thể sử dụng dấu ngoặc kép bên trong một chuỗi, miễn là chúng không khớp với dấu ngoặc kép xung quanh chuỗi:\n",
    "print(\"It's alright\")\n",
    "print(\"He is called 'Johnny'\")\n",
    "print('He is called \"Johnny\"')"
   ]
  },
  {
   "cell_type": "code",
   "execution_count": null,
   "id": "bd46ba33-01a8-4e76-8b8d-67aeff4408c0",
   "metadata": {},
   "outputs": [],
   "source": [
    "# Việc gán một chuỗi cho một biến được thực hiện bằng tên biến theo sau là dấu bằng và chuỗi:\n",
    "a = \"Hello\"\n",
    "print(a)"
   ]
  },
  {
   "cell_type": "code",
   "execution_count": 3,
   "id": "6553d72f-332f-4e17-80a7-86521b7aba19",
   "metadata": {},
   "outputs": [
    {
     "name": "stdout",
     "output_type": "stream",
     "text": [
      "Lorem ipsum dolor sit amet,\n",
      "consectetur adipiscing elit,\n",
      "sed do eiusmod tempor incididunt\n",
      "ut labore et dolore magna aliqua.\n"
     ]
    }
   ],
   "source": [
    "# Bạn có thể gán một chuỗi nhiều dòng cho một biến bằng cách sử dụng ba dấu ngoặc kép:\n",
    "a = \"\"\"Lorem ipsum dolor sit amet,\n",
    "consectetur adipiscing elit,\n",
    "sed do eiusmod tempor incididunt\n",
    "ut labore et dolore magna aliqua.\"\"\"\n",
    "print(a)"
   ]
  },
  {
   "cell_type": "code",
   "execution_count": 4,
   "id": "de02b3bc-eb75-4d2e-bd7d-d239c6a3159f",
   "metadata": {},
   "outputs": [
    {
     "name": "stdout",
     "output_type": "stream",
     "text": [
      "Lorem ipsum dolor sit amet,\n",
      "consectetur adipiscing elit,\n",
      "sed do eiusmod tempor incididunt\n",
      "ut labore et dolore magna aliqua.\n"
     ]
    }
   ],
   "source": [
    "# Hoặc ba dấu ngoặc đơn:\n",
    "a = '''Lorem ipsum dolor sit amet,\n",
    "consectetur adipiscing elit,\n",
    "sed do eiusmod tempor incididunt\n",
    "ut labore et dolore magna aliqua.'''\n",
    "print(a)"
   ]
  },
  {
   "cell_type": "markdown",
   "id": "ca7abc5b-e6d1-4acc-bb2a-a61ae5c7ace6",
   "metadata": {},
   "source": [
    "# Lưu ý: trong kết quả, dấu ngắt dòng được chèn vào cùng vị trí như trong mã."
   ]
  },
  {
   "cell_type": "markdown",
   "id": "e14204b1-dca3-428c-8b9a-be69589b42f0",
   "metadata": {},
   "source": [
    "# Chuỗi là mảng\n",
    "Giống như nhiều ngôn ngữ lập trình phổ biến khác, chuỗi trong Python là mảng byte biểu thị các ký tự unicode.\n",
    "\n",
    "Tuy nhiên, Python không có kiểu dữ liệu ký tự, một ký tự đơn giản chỉ là một chuỗi có độ dài bằng 1.\n",
    "\n",
    "Dấu ngoặc vuông có thể được sử dụng để truy cập các phần tử của chuỗi."
   ]
  },
  {
   "cell_type": "code",
   "execution_count": 5,
   "id": "0618e2ca-e7cd-4c42-8a1f-4adc5d5b07fa",
   "metadata": {},
   "outputs": [
    {
     "name": "stdout",
     "output_type": "stream",
     "text": [
      "e\n"
     ]
    }
   ],
   "source": [
    "# Lấy ký tự ở vị trí 1 (nhớ ký tự đầu tiên có vị trí 0):\n",
    "a = \"Hello, World!\"\n",
    "print(a[1])"
   ]
  },
  {
   "cell_type": "markdown",
   "id": "8c7bed0e-6a35-46d0-9fe8-cd3595cb9e92",
   "metadata": {},
   "source": [
    "# Vì chuỗi là mảng nên chúng ta có thể lặp qua các ký tự trong chuỗi bằng vòng for lặp."
   ]
  },
  {
   "cell_type": "code",
   "execution_count": 6,
   "id": "3c79ecb5-b046-4f6a-8f7c-a7b6e78a1362",
   "metadata": {},
   "outputs": [
    {
     "name": "stdout",
     "output_type": "stream",
     "text": [
      "b\n",
      "a\n",
      "n\n",
      "a\n",
      "n\n",
      "a\n"
     ]
    }
   ],
   "source": [
    "# Lặp lại các chữ cái trong từ \"banana\":\n",
    "for x in \"banana\":\n",
    "  print(x)"
   ]
  },
  {
   "cell_type": "markdown",
   "id": "6036bd50-f5c4-4c41-84e8-d9532ad93888",
   "metadata": {},
   "source": [
    "# Bạn có thể trả về một phạm vi ký tự bằng cách sử dụng cú pháp lát cắt.\n",
    "Chỉ định chỉ mục bắt đầu và chỉ mục kết thúc, cách nhau bằng dấu hai chấm, để trả về một phần của chuỗi."
   ]
  },
  {
   "cell_type": "code",
   "execution_count": 7,
   "id": "30f42a08-ef0b-4d0e-815c-f09a4eb0a742",
   "metadata": {},
   "outputs": [
    {
     "name": "stdout",
     "output_type": "stream",
     "text": [
      "llo\n"
     ]
    }
   ],
   "source": [
    "# Lấy các ký tự từ vị trí 2 đến vị trí 5 (không bao gồm):\n",
    "b = \"Hello, World!\"\n",
    "print(b[2:5])"
   ]
  },
  {
   "cell_type": "code",
   "execution_count": 8,
   "id": "3a968918-0b17-4435-9cb8-920d30d27860",
   "metadata": {},
   "outputs": [
    {
     "name": "stdout",
     "output_type": "stream",
     "text": [
      "Hello\n"
     ]
    }
   ],
   "source": [
    "# Bằng cách bỏ chỉ mục bắt đầu, phạm vi sẽ bắt đầu ở ký tự đầu tiên:\n",
    "b = \"Hello, World!\"\n",
    "print(b[:5])"
   ]
  },
  {
   "cell_type": "code",
   "execution_count": 9,
   "id": "88921886-a618-4a56-91be-e48aedb7ae4a",
   "metadata": {},
   "outputs": [
    {
     "name": "stdout",
     "output_type": "stream",
     "text": [
      "llo, World!\n"
     ]
    }
   ],
   "source": [
    "# Bằng cách bỏ chỉ mục cuối , phạm vi sẽ đi đến cuối:\n",
    "b = \"Hello, World!\"\n",
    "print(b[2:])"
   ]
  },
  {
   "cell_type": "code",
   "execution_count": 10,
   "id": "4502baf5-7c3d-4fca-8ac9-271b4df16944",
   "metadata": {},
   "outputs": [
    {
     "name": "stdout",
     "output_type": "stream",
     "text": [
      "orl\n"
     ]
    }
   ],
   "source": [
    "# Sử dụng các chỉ mục phủ định để bắt đầu lát cắt từ cuối chuỗi:\n",
    "''' Nhận các ký tự:\n",
    "\n",
    "Từ: \"o\" trong \"Thế giới!\" (vị trí -5)\n",
    "\n",
    "Đến, nhưng không bao gồm: \"d\" trong \"World!\" (vị trí -2):'''\n",
    "b = \"Hello, World!\"\n",
    "print(b[-5:-2])"
   ]
  },
  {
   "cell_type": "markdown",
   "id": "e6af06dc-be1a-46f4-95ab-6ab1bd7df0ce",
   "metadata": {},
   "source": [
    "# Python có một tập hợp các phương thức dựng sẵn mà bạn có thể sử dụng trên chuỗi."
   ]
  },
  {
   "cell_type": "code",
   "execution_count": 11,
   "id": "fb5f0916-0f4e-43f0-b234-2457d840a1da",
   "metadata": {},
   "outputs": [
    {
     "name": "stdout",
     "output_type": "stream",
     "text": [
      "HELLO, WORLD!\n"
     ]
    }
   ],
   "source": [
    "# Phương upper()thức trả về chuỗi ở dạng chữ hoa:\n",
    "a = \"Hello, World!\"\n",
    "print(a.upper())"
   ]
  },
  {
   "cell_type": "code",
   "execution_count": 12,
   "id": "8d57a139-9a62-4867-8a97-37bf3e3e41d8",
   "metadata": {},
   "outputs": [
    {
     "name": "stdout",
     "output_type": "stream",
     "text": [
      "hello, world!\n"
     ]
    }
   ],
   "source": [
    "# Phương lower()thức trả về chuỗi ở dạng chữ thường:\n",
    "a = \"Hello, World!\"\n",
    "print(a.lower())"
   ]
  },
  {
   "cell_type": "markdown",
   "id": "4f9252a1-c5f0-4c3a-a9a9-43db642b36f6",
   "metadata": {},
   "source": [
    "# Khoảng trắng là khoảng trắng trước và/hoặc sau văn bản thực tế và bạn thường muốn xóa khoảng trắng này."
   ]
  },
  {
   "cell_type": "code",
   "execution_count": 13,
   "id": "49e8bc67-fc7e-4267-8404-7210ed2b0cc8",
   "metadata": {},
   "outputs": [
    {
     "name": "stdout",
     "output_type": "stream",
     "text": [
      "Hello, World!\n"
     ]
    }
   ],
   "source": [
    "# Phương thức này strip()loại bỏ mọi khoảng trắng ở đầu hoặc cuối:\n",
    "a = \" Hello, World! \"\n",
    "print(a.strip()) # returns \"Hello, World!\""
   ]
  },
  {
   "cell_type": "code",
   "execution_count": 14,
   "id": "6d62780e-8b2e-4603-b335-eb8d60aeee70",
   "metadata": {},
   "outputs": [
    {
     "name": "stdout",
     "output_type": "stream",
     "text": [
      "Jello, World!\n"
     ]
    }
   ],
   "source": [
    "# Phương thức này replace()thay thế một chuỗi bằng một chuỗi khác:\n",
    "a = \"Hello, World!\"\n",
    "print(a.replace(\"H\", \"J\"))"
   ]
  },
  {
   "cell_type": "markdown",
   "id": "34f5fc11-2b9d-44b4-ab5a-57407a93e12b",
   "metadata": {},
   "source": [
    "# Phương thức này split()trả về một danh sách trong đó văn bản giữa dấu phân cách đã chỉ định sẽ trở thành các mục danh sách."
   ]
  },
  {
   "cell_type": "code",
   "execution_count": 15,
   "id": "54e57ea4-431f-4de5-9530-15edcd52768c",
   "metadata": {},
   "outputs": [
    {
     "name": "stdout",
     "output_type": "stream",
     "text": [
      "['Hello', ' World!']\n"
     ]
    }
   ],
   "source": [
    "# Phương thức này split()chia chuỗi thành các chuỗi con nếu nó tìm thấy các phiên bản của dấu phân cách:\n",
    "a = \"Hello, World!\"\n",
    "print(a.split(\",\")) # returns ['Hello', ' World!']"
   ]
  },
  {
   "cell_type": "markdown",
   "id": "9b343793-424f-40a1-870d-41d145c1f22a",
   "metadata": {},
   "source": [
    "# Để nối hoặc kết hợp hai chuỗi, bạn có thể sử dụng toán tử +."
   ]
  },
  {
   "cell_type": "code",
   "execution_count": 17,
   "id": "9fcb2f5b-4354-4127-9cc4-e224e81af78e",
   "metadata": {},
   "outputs": [
    {
     "name": "stdout",
     "output_type": "stream",
     "text": [
      "HelloWorld\n",
      "Hello World\n"
     ]
    }
   ],
   "source": [
    "# Hợp nhất biến avới biến bthành biến c:\n",
    "a = \"Hello\"\n",
    "b = \"World\"\n",
    "c = a + b\n",
    "print(c)\n",
    "# Để thêm khoảng trắng giữa chúng, hãy thêm \" \":\n",
    "a = \"Hello\"\n",
    "b = \"World\"\n",
    "c = a + \" \" + b\n",
    "print(c)"
   ]
  },
  {
   "cell_type": "markdown",
   "id": "a4103764-d46a-441c-8584-bcfa425eb642",
   "metadata": {},
   "source": [
    "# F-String\n",
    "F-String được giới thiệu trong Python 3.6 và hiện là cách định dạng chuỗi ưa thích.\n",
    "Để chỉ định một chuỗi là chuỗi f, chỉ cần đặt một chuỗi f ở phía trước chuỗi ký tự và thêm dấu ngoặc nhọn {} làm phần giữ chỗ cho các biến và các phép toán khác."
   ]
  },
  {
   "cell_type": "code",
   "execution_count": 18,
   "id": "d307cd24-7ac5-4858-ac36-db1ee99da9f5",
   "metadata": {},
   "outputs": [
    {
     "name": "stdout",
     "output_type": "stream",
     "text": [
      "My name is John, I am 36\n"
     ]
    }
   ],
   "source": [
    "# Tạo một chuỗi f:\n",
    "age = 36\n",
    "txt = f\"My name is John, I am {age}\"\n",
    "print(txt)"
   ]
  },
  {
   "cell_type": "markdown",
   "id": "471b4ff1-a073-4c37-8539-78969826073d",
   "metadata": {},
   "source": [
    "# Giữ chỗ và sửa đổi (Placeholders and Modifiers)\n",
    "Trình giữ chỗ có thể chứa các biến, thao tác, hàm và công cụ sửa đổi để định dạng giá trị."
   ]
  },
  {
   "cell_type": "code",
   "execution_count": 19,
   "id": "3585a397-51ef-4bca-bb1d-6832567c7d76",
   "metadata": {},
   "outputs": [
    {
     "name": "stdout",
     "output_type": "stream",
     "text": [
      "The price is 59 dollars\n"
     ]
    }
   ],
   "source": [
    "# Thêm phần giữ chỗ cho price biến:\n",
    "price = 59\n",
    "txt = f\"The price is {price} dollars\"\n",
    "print(txt)"
   ]
  },
  {
   "cell_type": "markdown",
   "id": "fd9db87f-57a7-4194-a08e-5fda540892fc",
   "metadata": {},
   "source": [
    "Trình giữ chỗ có thể bao gồm một công cụ sửa đổi để định dạng giá trị.\n",
    "Công cụ sửa đổi được bao gồm bằng cách thêm dấu hai chấm :theo sau là loại định dạng hợp pháp, \n",
    "chẳng hạn như .2f có nghĩa là số điểm cố định có 2 số thập phân:"
   ]
  },
  {
   "cell_type": "code",
   "execution_count": 20,
   "id": "927bdad7-a26c-4398-a7dd-f337db42e284",
   "metadata": {},
   "outputs": [
    {
     "name": "stdout",
     "output_type": "stream",
     "text": [
      "The price is 59.00 dollars\n"
     ]
    }
   ],
   "source": [
    "# Hiển thị giá bằng 2 số thập phân:\n",
    "price = 59\n",
    "txt = f\"The price is {price:.2f} dollars\"\n",
    "print(txt)"
   ]
  },
  {
   "cell_type": "markdown",
   "id": "09510d98-4b4f-42d1-9094-8e22339f1322",
   "metadata": {},
   "source": [
    "# Trình giữ chỗ có thể chứa mã Python, như các phép toán:"
   ]
  },
  {
   "cell_type": "code",
   "execution_count": 21,
   "id": "590a68d5-4117-49df-989b-ec67e97fcb72",
   "metadata": {},
   "outputs": [
    {
     "name": "stdout",
     "output_type": "stream",
     "text": [
      "The price is 1180 dollars\n"
     ]
    }
   ],
   "source": [
    "# Thực hiện phép tính trong phần giữ chỗ và trả về kết quả:\n",
    "txt = f\"The price is {20 * 59} dollars\"\n",
    "print(txt)"
   ]
  },
  {
   "cell_type": "markdown",
   "id": "b1b5dabb-d8ea-45a2-a3c2-cfdb4241fbc0",
   "metadata": {},
   "source": [
    "# Escape Character\n",
    "\n",
    "Để chèn các ký tự không hợp lệ vào chuỗi, hãy sử dụng ký tự thoát.\n",
    "\n",
    "Ký tự thoát là dấu gạch chéo \\ ngược theo sau là ký tự bạn muốn chèn.\n",
    "\n",
    "Một ví dụ về ký tự không hợp lệ là dấu ngoặc kép bên trong một chuỗi được bao quanh bởi dấu ngoặc kép:"
   ]
  },
  {
   "cell_type": "code",
   "execution_count": 22,
   "id": "f5c12805-79ea-488e-aa3d-69cc48f1ceb3",
   "metadata": {},
   "outputs": [
    {
     "ename": "SyntaxError",
     "evalue": "invalid syntax (2832688597.py, line 2)",
     "output_type": "error",
     "traceback": [
      "\u001b[1;36m  Cell \u001b[1;32mIn[22], line 2\u001b[1;36m\u001b[0m\n\u001b[1;33m    txt = \"We are the so-called \"Vikings\" from the north.\"\u001b[0m\n\u001b[1;37m                                 ^\u001b[0m\n\u001b[1;31mSyntaxError\u001b[0m\u001b[1;31m:\u001b[0m invalid syntax\n"
     ]
    }
   ],
   "source": [
    "# Bạn sẽ gặp lỗi nếu sử dụng dấu ngoặc kép bên trong một chuỗi được bao quanh bởi dấu ngoặc kép:\n",
    "txt = \"We are the so-called \"Vikings\" from the north.\""
   ]
  },
  {
   "cell_type": "markdown",
   "id": "925bb0b8-c5fb-40f3-9d96-f81357fe3a3b",
   "metadata": {},
   "source": [
    "# Để khắc phục sự cố này, hãy sử dụng ký tự thoát \\\":"
   ]
  },
  {
   "cell_type": "code",
   "execution_count": 24,
   "id": "42fa9687-07dc-4ae2-a5cc-615ab97a6a57",
   "metadata": {},
   "outputs": [
    {
     "name": "stdout",
     "output_type": "stream",
     "text": [
      "We are the so-called \"Vikings\" from the north.\n"
     ]
    }
   ],
   "source": [
    "# Ký tự thoát cho phép bạn sử dụng dấu ngoặc kép khi bình thường bạn không được phép:\n",
    "txt = \"We are the so-called \\\"Vikings\\\" from the north.\"\n",
    "print(txt)"
   ]
  },
  {
   "cell_type": "markdown",
   "id": "2ee64974-55a6-4adf-bc4b-22b9aff0a96a",
   "metadata": {},
   "source": [
    "# Các ký tự thoát khác được sử dụng trong Python:\n",
    "\n",
    "Code\tResult\t\n",
    "\\'\t    Single Quote\t\n",
    "\\\\\t    Backslash\t\n",
    "\\n\t    New Line\t\n",
    "\\r\t    Carriage Return\t\n",
    "\\t\t    Tab\t\n",
    "\\b\t    Backspace\t\n",
    "\\f\t    Form Feed\t\n",
    "\\ooo\tOctal value\t\n",
    "\\xhh\tHex value"
   ]
  },
  {
   "cell_type": "markdown",
   "id": "59243eb6-9a71-4c90-ade8-b1a26fc90448",
   "metadata": {},
   "source": [
    "# Phương thức chuỗi (String Methods)\n",
    "Python có một tập hợp các phương thức dựng sẵn mà bạn có thể sử dụng trên chuỗi.\n",
    "Lưu ý: Tất cả các phương thức chuỗi đều trả về giá trị mới. Họ không thay đổi chuỗi gốc.\n",
    "Method\t           Description\n",
    "capitalize()\t   Converts the first character to upper case\n",
    "casefold()\t       Converts string into lower case\n",
    "center()\t       Returns a centered string\n",
    "count()\t           Returns the number of times a specified value occurs in a string\n",
    "encode()\t       Returns an encoded version of the string\n",
    "endswith()\t       Returns true if the string ends with the specified value\n",
    "expandtabs()\t   Sets the tab size of the string\n",
    "find()\t           Searches the string for a specified value and returns the position of where it was found\n",
    "format()\t       Formats specified values in a string\n",
    "format_map()\t   Formats specified values in a string\n",
    "index()\t           Searches the string for a specified value and returns the position of where it was found\n",
    "isalnum()\t       Returns True if all characters in the string are alphanumeric\n",
    "isalpha()\t       Returns True if all characters in the string are in the alphabet\n",
    "isascii()\t       Returns True if all characters in the string are ascii characters\n",
    "isdecimal()\t       Returns True if all characters in the string are decimals\n",
    "isdigit()\t       Returns True if all characters in the string are digits\n",
    "isidentifier()\t   Returns True if the string is an identifier\n",
    "islower()\t       Returns True if all characters in the string are lower case\n",
    "isnumeric()\t       Returns True if all characters in the string are numeric\n",
    "isprintable()\t   Returns True if all characters in the string are printable\n",
    "isspace()\t       Returns True if all characters in the string are whitespaces\n",
    "istitle()\t       Returns True if the string follows the rules of a title\n",
    "isupper()\t       Returns True if all characters in the string are upper case\n",
    "join()\t           Joins the elements of an iterable to the end of the string\n",
    "ljust()\t           Returns a left justified version of the string\n",
    "lower()\t           Converts a string into lower case\n",
    "lstrip()\t       Returns a left trim version of the string\n",
    "maketrans()\t       Returns a translation table to be used in translations\n",
    "partition()\t       Returns a tuple where the string is parted into three parts\n",
    "replace()\t       Returns a string where a specified value is replaced with a specified value\n",
    "rfind()\t           Searches the string for a specified value and returns the last position of where it was found\n",
    "rindex()\t       Searches the string for a specified value and returns the last position of where it was found\n",
    "rjust()\t           Returns a right justified version of the string\n",
    "rpartition()\t   Returns a tuple where the string is parted into three parts\n",
    "rsplit()\t       Splits the string at the specified separator, and returns a list\n",
    "rstrip()\t       Returns a right trim version of the string\n",
    "split()\t           Splits the string at the specified separator, and returns a list\n",
    "splitlines()\t   Splits the string at line breaks and returns a list\n",
    "startswith()\t   Returns true if the string starts with the specified value\n",
    "strip()\t           Returns a trimmed version of the string\n",
    "swapcase()\t       Swaps cases, lower case becomes upper case and vice versa\n",
    "title()\t           Converts the first character of each word to upper case\n",
    "translate()\t       Returns a translated string\n",
    "upper()\t           Converts a string into upper case\n",
    "zfill()\t           Fills the string with a specified number of 0 values at the beginning"
   ]
  }
 ],
 "metadata": {
  "kernelspec": {
   "display_name": "Python 3 (ipykernel)",
   "language": "python",
   "name": "python3"
  },
  "language_info": {
   "codemirror_mode": {
    "name": "ipython",
    "version": 3
   },
   "file_extension": ".py",
   "mimetype": "text/x-python",
   "name": "python",
   "nbconvert_exporter": "python",
   "pygments_lexer": "ipython3",
   "version": "3.12.3"
  }
 },
 "nbformat": 4,
 "nbformat_minor": 5
}
