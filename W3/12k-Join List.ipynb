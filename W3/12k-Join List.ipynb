{
 "cells": [
  {
   "cell_type": "markdown",
   "id": "80c2b621-50b1-46f4-ba92-e5369baa691e",
   "metadata": {},
   "source": [
    "# Join Two Lists\n",
    "There are several ways to join, or concatenate, two or more lists in Python.\n",
    "One of the easiest ways are by using the + operator.\n",
    "\n",
    "# Tham gia hai danh sách\n",
    "Có một số cách để nối hoặc ghép hai hoặc nhiều danh sách trong Python.\n",
    "Một trong những cách dễ nhất là sử dụng + toán tử."
   ]
  },
  {
   "cell_type": "code",
   "execution_count": 1,
   "id": "ef3c29cb-1760-4dbf-9042-d68f4af3b506",
   "metadata": {},
   "outputs": [
    {
     "name": "stdout",
     "output_type": "stream",
     "text": [
      "['a', 'b', 'c', 1, 2, 3]\n"
     ]
    }
   ],
   "source": [
    "# Join two list:\n",
    "# Tham gia hai danh sách:\n",
    "list1 = [\"a\", \"b\", \"c\"]\n",
    "list2 = [1, 2, 3]\n",
    "\n",
    "list3 = list1 + list2\n",
    "print(list3)"
   ]
  },
  {
   "cell_type": "markdown",
   "id": "b9621f29-8445-453b-aca9-d6729ba87dab",
   "metadata": {},
   "source": [
    "# Another way to join two lists is by appending all the items from list2 into list1, one by one:\n",
    "# Một cách khác để nối hai danh sách là thêm tất cả các mục từ list2 vào list1, từng mục một:"
   ]
  },
  {
   "cell_type": "code",
   "execution_count": 2,
   "id": "6f74bd69-cf4b-4913-b2ac-1f5f7af421be",
   "metadata": {},
   "outputs": [
    {
     "name": "stdout",
     "output_type": "stream",
     "text": [
      "['a', 'b', 'c', 1, 2, 3]\n"
     ]
    }
   ],
   "source": [
    "# Append list2 into list1:\n",
    "# Nối list2 vào list1:\n",
    "list1 = [\"a\", \"b\" , \"c\"]\n",
    "list2 = [1, 2, 3]\n",
    "\n",
    "for x in list2:\n",
    "  list1.append(x)\n",
    "\n",
    "print(list1)"
   ]
  },
  {
   "cell_type": "markdown",
   "id": "27ab9904-0a1e-41a0-922d-e8b1885b3e4c",
   "metadata": {},
   "source": [
    "# Or you can use the extend() method, where the purpose is to add elements from one list to another list:\n",
    "# Hoặc bạn có thể sử dụng extend() phương thức này, với mục đích là thêm các phần tử từ danh sách này sang danh sách khác:"
   ]
  },
  {
   "cell_type": "code",
   "execution_count": 3,
   "id": "e9ea6edd-318f-4ceb-9581-721ef44e36bc",
   "metadata": {},
   "outputs": [
    {
     "name": "stdout",
     "output_type": "stream",
     "text": [
      "['a', 'b', 'c', 1, 2, 3]\n"
     ]
    }
   ],
   "source": [
    "# Use the extend() method to add list2 at the end of list1:\n",
    "# Sử dụng extend()phương pháp để thêm list2 vào cuối list1:\n",
    "list1 = [\"a\", \"b\" , \"c\"]\n",
    "list2 = [1, 2, 3]\n",
    "\n",
    "list1.extend(list2)\n",
    "print(list1)"
   ]
  },
  {
   "cell_type": "code",
   "execution_count": null,
   "id": "68e429e9-5656-49a6-825b-f0ed17918f45",
   "metadata": {},
   "outputs": [],
   "source": []
  }
 ],
 "metadata": {
  "kernelspec": {
   "display_name": "Python 3 (ipykernel)",
   "language": "python",
   "name": "python3"
  },
  "language_info": {
   "codemirror_mode": {
    "name": "ipython",
    "version": 3
   },
   "file_extension": ".py",
   "mimetype": "text/x-python",
   "name": "python",
   "nbconvert_exporter": "python",
   "pygments_lexer": "ipython3",
   "version": "3.12.3"
  }
 },
 "nbformat": 4,
 "nbformat_minor": 5
}
