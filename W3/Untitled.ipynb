{
 "cells": [
  {
   "cell_type": "code",
   "execution_count": 7,
   "id": "8a017331-33f8-4782-afe5-64c492a24e33",
   "metadata": {},
   "outputs": [
    {
     "name": "stdout",
     "output_type": "stream",
     "text": [
      "[1, 2, True, 'ABC', 'Hồng']\n",
      "<class 'list'>\n",
      "(5, 7, 'An', False, True)\n",
      "<class 'tuple'>\n",
      "{True, 2.6, 3.1, 'My', 'An', 'Dưa'}\n",
      "<class 'set'>\n",
      "{'ID': 'sv01', 'Name': 'An', 'Birth': 2000, 'Gende': 'Nữ', 'Class': 'DH01'}\n",
      "<class 'dict'>\n"
     ]
    }
   ],
   "source": [
    "a = list((1, 2, True, \"ABC\", \"Hồng\"))\n",
    "b = tuple((5, 7, \"An\", False, True))\n",
    "c = set((\"An\", \"My\", \"Dưa\", 2.6, 3.1, True))\n",
    "d = dict(ID = \"sv01\", Name = \"An\", Birth = 2000, Gende = \"Nữ\", Class = \"DH01\")\n",
    "print(a)\n",
    "print(type(a))\n",
    "print(b)\n",
    "print(type(b))\n",
    "print(c)\n",
    "print(type(c))\n",
    "print(d)\n",
    "print(type(d))"
   ]
  },
  {
   "cell_type": "code",
   "execution_count": null,
   "id": "3df33353-636c-44ba-b087-0226b992c954",
   "metadata": {},
   "outputs": [],
   "source": []
  }
 ],
 "metadata": {
  "kernelspec": {
   "display_name": "Python 3 (ipykernel)",
   "language": "python",
   "name": "python3"
  },
  "language_info": {
   "codemirror_mode": {
    "name": "ipython",
    "version": 3
   },
   "file_extension": ".py",
   "mimetype": "text/x-python",
   "name": "python",
   "nbconvert_exporter": "python",
   "pygments_lexer": "ipython3",
   "version": "3.12.3"
  }
 },
 "nbformat": 4,
 "nbformat_minor": 5
}
