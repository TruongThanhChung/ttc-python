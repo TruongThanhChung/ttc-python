{
 "cells": [
  {
   "cell_type": "markdown",
   "id": "b1bc5b4f-3955-4dfc-a5e4-e18a1e630108",
   "metadata": {},
   "source": [
    "# Accessing Items\n",
    "You can access the items of a dictionary by referring to its key name, inside square brackets:\n",
    "# Truy cập các mục\n",
    "Bạn có thể truy cập các mục của từ điển bằng cách tham khảo tên khóa của nó, bên trong dấu ngoặc vuông:"
   ]
  },
  {
   "cell_type": "code",
   "execution_count": 1,
   "id": "5791d08b-6b01-4805-b7af-450287fc04e2",
   "metadata": {},
   "outputs": [],
   "source": [
    "# Get the value of the \"model\" key:\n",
    "# Lấy giá trị của khóa \"model\":\n",
    "thisdict = {\n",
    "  \"brand\": \"Ford\",\n",
    "  \"model\": \"Mustang\",\n",
    "  \"year\": 1964\n",
    "}\n",
    "x = thisdict[\"model\"]"
   ]
  },
  {
   "cell_type": "markdown",
   "id": "abb88184-1776-4f67-af4d-262dd575d4cd",
   "metadata": {},
   "source": [
    "There is also a method called get() that will give you the same result:\n",
    "Ngoài ra còn có một phương pháp được gọi get()là sẽ cho bạn kết quả tương tự:"
   ]
  },
  {
   "cell_type": "code",
   "execution_count": 2,
   "id": "603acbf3-0a5a-431d-b609-0e8fc35fe6f8",
   "metadata": {},
   "outputs": [],
   "source": [
    "# Get the value of the \"model\" key:\n",
    "# Lấy giá trị của khóa \"model\":\n",
    "x = thisdict.get(\"model\")"
   ]
  },
  {
   "cell_type": "markdown",
   "id": "72514a4a-f8cd-47cb-b2fe-e881e34243a8",
   "metadata": {},
   "source": [
    "# Get Keys\n",
    "The keys() method will return a list of all the keys in the dictionary.\n",
    "# Nhận chìa khóa\n",
    "Phương thức này keys()sẽ trả về danh sách tất cả các khóa trong từ điển."
   ]
  },
  {
   "cell_type": "code",
   "execution_count": null,
   "id": "e2833c4a-2183-4522-9a24-2f2d81d02536",
   "metadata": {},
   "outputs": [],
   "source": [
    "# Get a list of the keys:\n",
    "# Lấy danh sách các phím:\n",
    "x = thisdict.keys()"
   ]
  },
  {
   "cell_type": "markdown",
   "id": "ddf69d79-c870-4288-a646-6caaa2c85206",
   "metadata": {},
   "source": [
    "The list of the keys is a view of the dictionary, meaning that any changes done to the dictionary will be reflected in the keys list.\n",
    "Danh sách các khóa là dạng xem từ điển, nghĩa là mọi thay đổi được thực hiện đối với từ điển sẽ được phản ánh trong danh sách khóa."
   ]
  },
  {
   "cell_type": "code",
   "execution_count": 3,
   "id": "1cfb586a-cdf1-4ef1-a241-4b7e5d3a7738",
   "metadata": {},
   "outputs": [
    {
     "name": "stdout",
     "output_type": "stream",
     "text": [
      "dict_keys(['brand', 'model', 'year'])\n",
      "dict_keys(['brand', 'model', 'year', 'color'])\n"
     ]
    }
   ],
   "source": [
    "# Add a new item to the original dictionary, and see that the keys list gets updated as well:\n",
    "# Thêm một mục mới vào từ điển gốc và xem danh sách khóa cũng được cập nhật:\n",
    "car = {\n",
    "\"brand\": \"Ford\",\n",
    "\"model\": \"Mustang\",\n",
    "\"year\": 1964\n",
    "}\n",
    "\n",
    "x = car.keys()\n",
    "\n",
    "print(x) #before the change\n",
    "\n",
    "car[\"color\"] = \"white\"\n",
    "\n",
    "print(x) #after the change"
   ]
  },
  {
   "cell_type": "markdown",
   "id": "d4e41b6f-73ff-472e-81ec-0ff379cf3b92",
   "metadata": {},
   "source": [
    "# Get Values\n",
    "The values() method will return a list of all the values in the dictionary.\n",
    "# Nhận giá trị\n",
    "Phương values()thức sẽ trả về danh sách tất cả các giá trị trong từ điển."
   ]
  },
  {
   "cell_type": "code",
   "execution_count": null,
   "id": "bacea775-c8e7-4646-a571-c624e968d80d",
   "metadata": {},
   "outputs": [],
   "source": [
    "# Get a list of the values:\n",
    "# Lấy danh sách các giá trị:\n",
    "x = thisdict.values()"
   ]
  },
  {
   "cell_type": "markdown",
   "id": "c3b2c0bd-b912-400c-af58-cb0806d8ca69",
   "metadata": {},
   "source": [
    "The list of the values is a view of the dictionary, meaning that any changes done to the dictionary will be reflected in the values list.\n",
    "Danh sách các giá trị là dạng xem của từ điển, nghĩa là mọi thay đổi được thực hiện đối với từ điển sẽ được phản ánh trong danh sách giá trị."
   ]
  },
  {
   "cell_type": "code",
   "execution_count": 4,
   "id": "2cee4ebd-2a19-42d7-aac2-3b4dab322a95",
   "metadata": {},
   "outputs": [
    {
     "name": "stdout",
     "output_type": "stream",
     "text": [
      "dict_values(['Ford', 'Mustang', 1964])\n",
      "dict_values(['Ford', 'Mustang', 2020])\n"
     ]
    }
   ],
   "source": [
    "# Make a change in the original dictionary, and see that the values list gets updated as well:\n",
    "# Thực hiện thay đổi trong từ điển gốc và thấy rằng danh sách giá trị cũng được cập nhật:\n",
    "car = {\n",
    "\"brand\": \"Ford\",\n",
    "\"model\": \"Mustang\",\n",
    "\"year\": 1964\n",
    "}\n",
    "\n",
    "x = car.values()\n",
    "\n",
    "print(x) #before the change\n",
    "\n",
    "car[\"year\"] = 2020\n",
    "\n",
    "print(x) #after the change"
   ]
  },
  {
   "cell_type": "code",
   "execution_count": 5,
   "id": "3e0d8e5d-f230-49c4-b695-1d9ae3dd35d4",
   "metadata": {},
   "outputs": [
    {
     "name": "stdout",
     "output_type": "stream",
     "text": [
      "dict_values(['Ford', 'Mustang', 1964])\n",
      "dict_values(['Ford', 'Mustang', 1964, 'red'])\n"
     ]
    }
   ],
   "source": [
    "# Add a new item to the original dictionary, and see that the values list gets updated as well:\n",
    "# Thêm một mục mới vào từ điển gốc và xem danh sách giá trị cũng được cập nhật:\n",
    "car = {\n",
    "\"brand\": \"Ford\",\n",
    "\"model\": \"Mustang\",\n",
    "\"year\": 1964\n",
    "}\n",
    "\n",
    "x = car.values()\n",
    "\n",
    "print(x) #before the change\n",
    "\n",
    "car[\"color\"] = \"red\"\n",
    "\n",
    "print(x) #after the change"
   ]
  },
  {
   "cell_type": "markdown",
   "id": "21ffa813-33c1-4f27-a66a-64751104673e",
   "metadata": {},
   "source": [
    "# Get Items\n",
    "The items() method will return each item in a dictionary, as tuples in a list.\n",
    "# Nhận vật phẩm\n",
    "Phương thức này items()sẽ trả về từng mục trong từ điển, dưới dạng các bộ dữ liệu trong danh sách."
   ]
  },
  {
   "cell_type": "code",
   "execution_count": null,
   "id": "d1dd41af-6fca-4141-a5e6-dcb4dc5ec5e1",
   "metadata": {},
   "outputs": [],
   "source": [
    "# Get a list of the key:value pairs\n",
    "# Lấy danh sách các cặp khóa:giá trị\n",
    "x = thisdict.items()"
   ]
  },
  {
   "cell_type": "markdown",
   "id": "155ceb8b-1ace-4a02-8e23-503208c6f1c4",
   "metadata": {},
   "source": [
    "The returned list is a view of the items of the dictionary, meaning that any changes done to the dictionary will be reflected in the items list.\n",
    "Danh sách trả về là chế độ xem các mục của từ điển, nghĩa là mọi thay đổi được thực hiện đối với từ điển sẽ được phản ánh trong danh sách mục."
   ]
  },
  {
   "cell_type": "code",
   "execution_count": 6,
   "id": "aa1720a1-2a86-4c92-8023-5428dfa0e157",
   "metadata": {},
   "outputs": [
    {
     "name": "stdout",
     "output_type": "stream",
     "text": [
      "dict_items([('brand', 'Ford'), ('model', 'Mustang'), ('year', 1964)])\n",
      "dict_items([('brand', 'Ford'), ('model', 'Mustang'), ('year', 2020)])\n"
     ]
    }
   ],
   "source": [
    "# Make a change in the original dictionary, and see that the items list gets updated as well:\n",
    "# Thực hiện thay đổi trong từ điển gốc và thấy rằng danh sách các mục cũng được cập nhật:\n",
    "car = {\n",
    "\"brand\": \"Ford\",\n",
    "\"model\": \"Mustang\",\n",
    "\"year\": 1964\n",
    "}\n",
    "\n",
    "x = car.items()\n",
    "\n",
    "print(x) #before the change\n",
    "\n",
    "car[\"year\"] = 2020\n",
    "\n",
    "print(x) #after the change"
   ]
  },
  {
   "cell_type": "code",
   "execution_count": 7,
   "id": "e0ce9ccc-8a61-4f60-a159-40e4493d3e59",
   "metadata": {},
   "outputs": [
    {
     "name": "stdout",
     "output_type": "stream",
     "text": [
      "dict_items([('brand', 'Ford'), ('model', 'Mustang'), ('year', 1964)])\n",
      "dict_items([('brand', 'Ford'), ('model', 'Mustang'), ('year', 1964), ('color', 'red')])\n"
     ]
    }
   ],
   "source": [
    "# Add a new item to the original dictionary, and see that the items list gets updated as well:\n",
    "# Thêm một mục mới vào từ điển gốc và xem danh sách các mục cũng được cập nhật:\n",
    "car = {\n",
    "\"brand\": \"Ford\",\n",
    "\"model\": \"Mustang\",\n",
    "\"year\": 1964\n",
    "}\n",
    "\n",
    "x = car.items()\n",
    "\n",
    "print(x) #before the change\n",
    "\n",
    "car[\"color\"] = \"red\"\n",
    "\n",
    "print(x) #after the change"
   ]
  },
  {
   "cell_type": "markdown",
   "id": "4ba42d8d-f770-4848-aea9-5e899b278c05",
   "metadata": {},
   "source": [
    "# Check if Key Exists\n",
    "To determine if a specified key is present in a dictionary use the in keyword:\n",
    "# Kiểm tra xem khóa có tồn tại không\n",
    "Để xác định xem một khóa được chỉ định có trong từ điển hay không, hãy sử dụng intừ khóa:"
   ]
  },
  {
   "cell_type": "code",
   "execution_count": 8,
   "id": "bba5fe02-3270-472e-ba9c-9e0fe6ea44ac",
   "metadata": {},
   "outputs": [
    {
     "name": "stdout",
     "output_type": "stream",
     "text": [
      "Yes, 'model' is one of the keys in the thisdict dictionary\n"
     ]
    }
   ],
   "source": [
    "# Check if \"model\" is present in the dictionary:\n",
    "# Kiểm tra xem \"model\" có trong từ điển hay không:\n",
    "thisdict = {\n",
    "  \"brand\": \"Ford\",\n",
    "  \"model\": \"Mustang\",\n",
    "  \"year\": 1964\n",
    "}\n",
    "if \"model\" in thisdict:\n",
    "  print(\"Yes, 'model' is one of the keys in the thisdict dictionary\")"
   ]
  },
  {
   "cell_type": "code",
   "execution_count": null,
   "id": "da135de0-0f07-4ed4-aab7-f36337886163",
   "metadata": {},
   "outputs": [],
   "source": []
  }
 ],
 "metadata": {
  "kernelspec": {
   "display_name": "Python 3 (ipykernel)",
   "language": "python",
   "name": "python3"
  },
  "language_info": {
   "codemirror_mode": {
    "name": "ipython",
    "version": 3
   },
   "file_extension": ".py",
   "mimetype": "text/x-python",
   "name": "python",
   "nbconvert_exporter": "python",
   "pygments_lexer": "ipython3",
   "version": "3.12.3"
  }
 },
 "nbformat": 4,
 "nbformat_minor": 5
}
