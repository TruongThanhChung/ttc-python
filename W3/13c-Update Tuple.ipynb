{
 "cells": [
  {
   "cell_type": "markdown",
   "id": "552dfd07-8158-4e1a-8b51-7398f42efb57",
   "metadata": {},
   "source": [
    "# Tuples are unchangeable, meaning that you cannot change, add, or remove items once the tuple is created.\n",
    "But there are some workarounds.\n",
    "\n",
    "# Các bộ dữ liệu không thể thay đổi, nghĩa là bạn không thể thay đổi, thêm hoặc xóa các mục sau khi bộ dữ liệu được tạo.\n",
    "Nhưng có một số cách giải quyết."
   ]
  },
  {
   "cell_type": "markdown",
   "id": "1ebfb2f4-607c-4a3e-9388-b1cba1dd9a79",
   "metadata": {},
   "source": [
    "# Change Tuple Values\n",
    "Once a tuple is created, you cannot change its values. Tuples are unchangeable, or immutable as it also is called.\n",
    "But there is a workaround. You can convert the tuple into a list, change the list, and convert the list back into a tuple.\n",
    "\n",
    "# Thay đổi giá trị Tuple\n",
    "Khi một bộ dữ liệu được tạo, bạn không thể thay đổi giá trị của nó. Các bộ dữ liệu không thể thay đổi hoặc không thể thay đổi như cách gọi của nó.\n",
    "Nhưng có một cách giải quyết. Bạn có thể chuyển đổi bộ dữ liệu thành một danh sách, thay đổi danh sách và chuyển đổi danh sách trở lại thành một bộ dữ liệu."
   ]
  },
  {
   "cell_type": "code",
   "execution_count": 1,
   "id": "43073a98-0e8e-4a85-9807-81cde89a4ee2",
   "metadata": {},
   "outputs": [
    {
     "name": "stdout",
     "output_type": "stream",
     "text": [
      "('apple', 'kiwi', 'cherry')\n"
     ]
    }
   ],
   "source": [
    "# Convert the tuple into a list to be able to change it:\n",
    "# Chuyển đổi tuple thành một danh sách để có thể thay đổi nó:\n",
    "x = (\"apple\", \"banana\", \"cherry\")\n",
    "y = list(x)\n",
    "y[1] = \"kiwi\"\n",
    "x = tuple(y)\n",
    "\n",
    "print(x)"
   ]
  },
  {
   "cell_type": "markdown",
   "id": "a87827e1-231c-4d34-b759-8e141679997d",
   "metadata": {},
   "source": [
    "# Add Items\n",
    "Since tuples are immutable, they do not have a built-in append() method, but there are other ways to add items to a tuple.\n",
    "1. Convert into a list: Just like the workaround for changing a tuple, you can convert it into a list, add your item(s), and convert it back into a tuple.\n",
    "\n",
    "# Thêm các mục\n",
    "Vì các bộ dữ liệu là bất biến nên chúng không có append()phương thức tích hợp sẵn nhưng có nhiều cách khác để thêm các mục vào một bộ dữ liệu.\n",
    "1. Chuyển đổi thành danh sách : Giống như giải pháp thay đổi một bộ dữ liệu, bạn có thể chuyển đổi nó thành một danh sách, thêm (các) mục của mình và chuyển đổi lại thành một bộ dữ liệu."
   ]
  },
  {
   "cell_type": "code",
   "execution_count": 4,
   "id": "951e0739-c0e3-4d91-9456-d689a2a6e845",
   "metadata": {},
   "outputs": [
    {
     "name": "stdout",
     "output_type": "stream",
     "text": [
      "Lúc đầu ('apple', 'banana', 'cherry')\n",
      "Lúc sau ('apple', 'banana', 'cherry', 'orange')\n"
     ]
    }
   ],
   "source": [
    "# Convert the tuple into a list, add \"orange\", and convert it back into a tuple:\n",
    "# Chuyển đổi bộ dữ liệu thành một danh sách, thêm \"màu cam\" và chuyển đổi lại thành bộ dữ liệu:\n",
    "thistuple = (\"apple\", \"banana\", \"cherry\")\n",
    "print(\"Lúc đầu\", thistuple)\n",
    "y = list(thistuple)\n",
    "y.append(\"orange\")\n",
    "thistuple = tuple(y)\n",
    "print(\"Lúc sau\", thistuple)"
   ]
  },
  {
   "cell_type": "markdown",
   "id": "31f9529f-b59e-4613-a1ac-425c4c10e073",
   "metadata": {},
   "source": [
    "# 2. Add tuple to a tuple. \n",
    "You are allowed to add tuples to tuples, so if you want to add one item, (or many), create a new tuple with the item(s), and add it to the existing tuple:\n",
    "\n",
    "# 2. Thêm một bộ vào một bộ. \n",
    "Bạn được phép thêm các bộ dữ liệu vào các bộ dữ liệu, vì vậy nếu bạn muốn thêm một (hoặc nhiều mục), hãy tạo một bộ dữ liệu mới với (các) mục đó và thêm nó vào bộ dữ liệu hiện có:"
   ]
  },
  {
   "cell_type": "code",
   "execution_count": 5,
   "id": "4bbd3b65-5ab6-4421-ace5-4013b3b21700",
   "metadata": {},
   "outputs": [
    {
     "name": "stdout",
     "output_type": "stream",
     "text": [
      "('apple', 'banana', 'cherry', 'orange')\n"
     ]
    }
   ],
   "source": [
    "# Create a new tuple with the value \"orange\", and add that tuple:\n",
    "# Tạo một bộ dữ liệu mới có giá trị \"màu cam\" và thêm bộ dữ liệu đó:\n",
    "thistuple = (\"apple\", \"banana\", \"cherry\")\n",
    "y = (\"orange\",)\n",
    "thistuple += y\n",
    "\n",
    "print(thistuple)"
   ]
  },
  {
   "cell_type": "markdown",
   "id": "4cd2e7c9-62e1-44de-99f5-7cb3377b6e95",
   "metadata": {},
   "source": [
    "# Note: \n",
    "When creating a tuple with only one item, remember to include a comma after the item, otherwise it will not be identified as a tuple.\n",
    "\n",
    "# Lưu ý: \n",
    "Khi tạo một bộ chỉ có một mục, hãy nhớ thêm dấu phẩy sau mục đó, nếu không nó sẽ không được xác định là một bộ."
   ]
  },
  {
   "cell_type": "markdown",
   "id": "4b0dca5f-87ed-4953-86a3-ea3c4a62f06d",
   "metadata": {},
   "source": [
    "# Remove Items\n",
    "Note: You cannot remove items in a tuple.\n",
    "\n",
    "# Xóa mục\n",
    "Lưu ý: Bạn không thể xóa các mục trong bộ dữ liệu."
   ]
  },
  {
   "cell_type": "markdown",
   "id": "b0a078b5-36e2-4bbb-bace-32061fd47264",
   "metadata": {},
   "source": [
    "# Tuples are unchangeable, \n",
    "so you cannot remove items from it, but you can use the same workaround as we used for changing and adding tuple items:\n",
    "# Các bộ dữ liệu không thể thay đổi được , \n",
    "do đó bạn không thể xóa các mục khỏi nó, nhưng bạn có thể sử dụng cách giải quyết tương tự như chúng tôi đã sử dụng để thay đổi và thêm các mục bộ dữ liệu:"
   ]
  },
  {
   "cell_type": "code",
   "execution_count": 6,
   "id": "62710163-759a-42fe-8c27-263069041dea",
   "metadata": {},
   "outputs": [
    {
     "name": "stdout",
     "output_type": "stream",
     "text": [
      "('apple', 'banana', 'cherry')\n",
      "('banana', 'cherry')\n"
     ]
    }
   ],
   "source": [
    "# Convert the tuple into a list, remove \"apple\", and convert it back into a tuple:\n",
    "# Chuyển đổi bộ dữ liệu thành một danh sách, xóa \"quả táo\" và chuyển đổi lại thành bộ dữ liệu:\n",
    "thistuple = (\"apple\", \"banana\", \"cherry\")\n",
    "print(thistuple)\n",
    "y = list(thistuple)\n",
    "y.remove(\"apple\")\n",
    "thistuple = tuple(y)\n",
    "print(thistuple)"
   ]
  },
  {
   "cell_type": "markdown",
   "id": "f25feba8-4d04-4954-892e-f594257b3d53",
   "metadata": {},
   "source": [
    "# Or you can delete the tuple completely:\n",
    "# Hoặc bạn có thể xóa hoàn toàn bộ dữ liệu:"
   ]
  },
  {
   "cell_type": "code",
   "execution_count": 7,
   "id": "fa218091-1444-44c0-939d-c1f8316bd646",
   "metadata": {},
   "outputs": [
    {
     "ename": "NameError",
     "evalue": "name 'thistuple' is not defined",
     "output_type": "error",
     "traceback": [
      "\u001b[1;31m---------------------------------------------------------------------------\u001b[0m",
      "\u001b[1;31mNameError\u001b[0m                                 Traceback (most recent call last)",
      "Cell \u001b[1;32mIn[7], line 5\u001b[0m\n\u001b[0;32m      3\u001b[0m thistuple \u001b[38;5;241m=\u001b[39m (\u001b[38;5;124m\"\u001b[39m\u001b[38;5;124mapple\u001b[39m\u001b[38;5;124m\"\u001b[39m, \u001b[38;5;124m\"\u001b[39m\u001b[38;5;124mbanana\u001b[39m\u001b[38;5;124m\"\u001b[39m, \u001b[38;5;124m\"\u001b[39m\u001b[38;5;124mcherry\u001b[39m\u001b[38;5;124m\"\u001b[39m)\n\u001b[0;32m      4\u001b[0m \u001b[38;5;28;01mdel\u001b[39;00m thistuple\n\u001b[1;32m----> 5\u001b[0m \u001b[38;5;28mprint\u001b[39m(\u001b[43mthistuple\u001b[49m) \u001b[38;5;66;03m#this will raise an error because the tuple no longer exists\u001b[39;00m\n",
      "\u001b[1;31mNameError\u001b[0m: name 'thistuple' is not defined"
     ]
    }
   ],
   "source": [
    "# The del keyword can delete the tuple completely:\n",
    "# Từ delkhóa có thể xóa hoàn toàn bộ dữ liệu:\n",
    "thistuple = (\"apple\", \"banana\", \"cherry\")\n",
    "del thistuple\n",
    "print(thistuple) #this will raise an error because the tuple no longer exists"
   ]
  },
  {
   "cell_type": "code",
   "execution_count": null,
   "id": "949f5364-74b6-4cbc-9c78-1ac9b84c9d59",
   "metadata": {},
   "outputs": [],
   "source": []
  }
 ],
 "metadata": {
  "kernelspec": {
   "display_name": "Python 3 (ipykernel)",
   "language": "python",
   "name": "python3"
  },
  "language_info": {
   "codemirror_mode": {
    "name": "ipython",
    "version": 3
   },
   "file_extension": ".py",
   "mimetype": "text/x-python",
   "name": "python",
   "nbconvert_exporter": "python",
   "pygments_lexer": "ipython3",
   "version": "3.12.3"
  }
 },
 "nbformat": 4,
 "nbformat_minor": 5
}
