{
 "cells": [
  {
   "cell_type": "code",
   "execution_count": 1,
   "id": "b8893167-f8b1-48c1-9300-02173dab6898",
   "metadata": {},
   "outputs": [
    {
     "name": "stdout",
     "output_type": "stream",
     "text": [
      "chuỗi ký tự\n",
      "1, 2, 3.5, -4\n"
     ]
    }
   ],
   "source": [
    "# chuỗi 1 dòng\n",
    "str1 = \"chuỗi ký tự\"\n",
    "str2 = \"1, 2, 3.5, -4\"\n",
    "print(str1)\n",
    "print(str2)"
   ]
  },
  {
   "cell_type": "code",
   "execution_count": 2,
   "id": "3bca9803-b3c5-4649-9393-5d549ef766df",
   "metadata": {},
   "outputs": [
    {
     "name": "stdout",
     "output_type": "stream",
     "text": [
      " Sau đây là chuỗi nhiều dòng:\n",
      "Dòng 1\n",
      "Dòng 2\n",
      "Dòng 3\n",
      "...\n",
      "\n"
     ]
    }
   ],
   "source": [
    "# chuỗi nhiều dòng\n",
    "str3 = ''' Sau đây là chuỗi nhiều dòng:\n",
    "Dòng 1\n",
    "Dòng 2\n",
    "Dòng 3\n",
    "...\n",
    "'''\n",
    "print(str3)"
   ]
  },
  {
   "cell_type": "code",
   "execution_count": 3,
   "id": "a525f951-9078-4d47-909b-8b30ec1946fb",
   "metadata": {},
   "outputs": [
    {
     "name": "stdout",
     "output_type": "stream",
     "text": [
      "hello world\n",
      "hello-world\n"
     ]
    }
   ],
   "source": [
    "# Toán tử cộng (+):\n",
    "s1 = \"hello\"\n",
    "s2 = \"world\"\n",
    "s3 = s1 + \" \" + s2\n",
    "s4 = s1 + \"-\" + s2\n",
    "print(s3)\n",
    "print(s4)"
   ]
  },
  {
   "cell_type": "code",
   "execution_count": 6,
   "id": "6e0e1925-1a0c-47d9-b4a4-85654a7aeda0",
   "metadata": {},
   "outputs": [
    {
     "name": "stdout",
     "output_type": "stream",
     "text": [
      "Em hứa sẽ làm bài tập đầy đủ \n",
      "Em hứa sẽ làm bài tập đầy đủ \n",
      "Em hứa sẽ làm bài tập đầy đủ \n",
      "Em hứa sẽ làm bài tập đầy đủ \n",
      "Em hứa sẽ làm bài tập đầy đủ \n",
      "Em hứa sẽ làm bài tập đầy đủ \n",
      "Em hứa sẽ làm bài tập đầy đủ \n",
      "Em hứa sẽ làm bài tập đầy đủ \n",
      "Em hứa sẽ làm bài tập đầy đủ \n",
      "Em hứa sẽ làm bài tập đầy đủ \n",
      "\n"
     ]
    }
   ],
   "source": [
    "# Toán tử nhân\n",
    "chep_phat = \"Em hứa sẽ làm bài tập đầy đủ \\n\"\n",
    "chep_phat_10 = chep_phat*10\n",
    "print(chep_phat_10)"
   ]
  },
  {
   "cell_type": "code",
   "execution_count": 8,
   "id": "365e4d75-fb2c-4d5b-9a1b-3c7a5f149fef",
   "metadata": {},
   "outputs": [
    {
     "data": {
      "text/plain": [
       "True"
      ]
     },
     "execution_count": 8,
     "metadata": {},
     "output_type": "execute_result"
    }
   ],
   "source": [
    "# Toán tử in:\n",
    "chuoi1 = \"3, hồng, 5, xin chào TITV\"\n",
    "chuoi2 = \"xin chào\"\n",
    "chuoi3 = \"VN\"\n",
    "chuoi2 in chuoi1"
   ]
  },
  {
   "cell_type": "code",
   "execution_count": 10,
   "id": "0329840e-0298-4c14-9f69-4dc24ef177ec",
   "metadata": {},
   "outputs": [
    {
     "name": "stdout",
     "output_type": "stream",
     "text": [
      "h\n"
     ]
    }
   ],
   "source": [
    "# Truy xuất đến chuỗi\n",
    "chuoi1 = \"3, hồng, 5, xin chào TITV\"\n",
    "print(chuoi1[3])"
   ]
  },
  {
   "cell_type": "code",
   "execution_count": 13,
   "id": "3dffe020-3d57-47b4-9efb-34a8376474e9",
   "metadata": {},
   "outputs": [
    {
     "name": "stdout",
     "output_type": "stream",
     "text": [
      "3 ồg ,xncà\n"
     ]
    }
   ],
   "source": [
    "# Truy xuất đến chuỗi\n",
    "chuoi1 = \"3, hồng, 5, xin chào TITV\"\n",
    "print(chuoi1[0: 20: 2])"
   ]
  },
  {
   "cell_type": "code",
   "execution_count": 14,
   "id": "94ff000e-37ae-4f87-90ec-a3ebff5e9e7b",
   "metadata": {},
   "outputs": [
    {
     "name": "stdout",
     "output_type": "stream",
     "text": [
      "Tên em làHồng\n"
     ]
    }
   ],
   "source": [
    "# Thêm vào chuỗi\n",
    "them_chuoi = \"Hồng\"\n",
    "them_chuoi1 = \"Tên em là\" + \"Hồng\"\n",
    "print(them_chuoi1)"
   ]
  },
  {
   "cell_type": "code",
   "execution_count": 16,
   "id": "ceb1001a-0430-4b03-b51f-237e7a2b7412",
   "metadata": {},
   "outputs": [
    {
     "name": "stdout",
     "output_type": "stream",
     "text": [
      "a = 1, \n",
      "b = 2, \n",
      "c = 3.500000, \n",
      "x = Chung1982\n"
     ]
    }
   ],
   "source": [
    "# định dạng chuỗi\n",
    "a = 1 #kiểu dữ liệu số nguyên\n",
    "b = 2 #kiểu dữ liệu số nguyên\n",
    "c = 3.5 #kiểu dữ liệu số thực\n",
    "x = \"Chung1982\"  #kiểu dữ liệu cả chữ cả số\n",
    "print(\"a = %d, \\nb = %d, \\nc = %f, \\nx = %s\" %(a, b, c, x))"
   ]
  },
  {
   "cell_type": "code",
   "execution_count": 17,
   "id": "545e5681-904d-4a83-9e4f-356cea66f219",
   "metadata": {},
   "outputs": [
    {
     "name": "stdout",
     "output_type": "stream",
     "text": [
      "a = 1, \n",
      "b = 2, \n",
      "x = Chung1982\n"
     ]
    }
   ],
   "source": [
    "# định dạng chuỗi\n",
    "a = 1 #kiểu dữ liệu số nguyên\n",
    "b = 2 #kiểu dữ liệu số nguyên\n",
    "c = 3.5 #kiểu dữ liệu số thực\n",
    "x = \"Chung1982\"  #kiểu dữ liệu cả chữ cả số\n",
    "print(\"a = {0}, \\nb = {1}, \\nx = {2}\".format(a, b, x))"
   ]
  },
  {
   "cell_type": "code",
   "execution_count": 18,
   "id": "2a0fd950-fc43-4889-b2c9-879f70901d2c",
   "metadata": {},
   "outputs": [
    {
     "name": "stdout",
     "output_type": "stream",
     "text": [
      "x = Chung1982, \n",
      "a = 1, \n",
      "b = 2\n"
     ]
    }
   ],
   "source": [
    "# có thể đổi vị trí\n",
    "# định dạng chuỗi\n",
    "a = 1 #kiểu dữ liệu số nguyên\n",
    "b = 2 #kiểu dữ liệu số nguyên\n",
    "c = 3.5 #kiểu dữ liệu số thực\n",
    "x = \"Chung1982\"  #kiểu dữ liệu cả chữ cả số\n",
    "print(\"x = {2}, \\na = {0}, \\nb = {1}\".format(a, b, x))"
   ]
  },
  {
   "cell_type": "code",
   "execution_count": 19,
   "id": "b4cc8255-3823-4b69-a1bb-2f23f4d3b697",
   "metadata": {},
   "outputs": [
    {
     "name": "stdout",
     "output_type": "stream",
     "text": [
      "số dấu cách n =  4\n"
     ]
    }
   ],
   "source": [
    "# Đếm số lần xuất hiện chuỗi con trong chuỗi\n",
    "n = \"lập trình Python không khó\"\n",
    "n = n.count(\" \") \n",
    "print(\"số dấu cách n = \", n)"
   ]
  },
  {
   "cell_type": "code",
   "execution_count": 20,
   "id": "97293bbd-9361-4765-a0b1-a500f6fe9b02",
   "metadata": {},
   "outputs": [
    {
     "name": "stdout",
     "output_type": "stream",
     "text": [
      "số chữ t =  2\n"
     ]
    }
   ],
   "source": [
    "# Đếm số lần xuất hiện chuỗi con trong chuỗi\n",
    "n = \"lập trình Python không khó\"\n",
    "t = n.count(\"t\", 1, 15) \n",
    "print(\"số chữ t = \", t)"
   ]
  },
  {
   "cell_type": "code",
   "execution_count": 22,
   "id": "ca61b0f4-bf77-4057-a2d8-4addf587f37f",
   "metadata": {},
   "outputs": [
    {
     "name": "stdout",
     "output_type": "stream",
     "text": [
      "Lập trình python không khó\n",
      "<class 'str'>\n"
     ]
    }
   ],
   "source": [
    "# Viết hoa từ đầu tiên:\n",
    "n = \"lập trình Python không khó\"\n",
    "n1 = n.capitalize()\n",
    "print(n1)\n",
    "print(type(n1))"
   ]
  },
  {
   "cell_type": "code",
   "execution_count": 23,
   "id": "a6f1e528-6800-4732-a735-bc9df8af73ec",
   "metadata": {},
   "outputs": [
    {
     "name": "stdout",
     "output_type": "stream",
     "text": [
      "LẬP TRÌNH PYTHON KHÔNG KHÓ\n"
     ]
    }
   ],
   "source": [
    "# Viết hoa tất cả các chữ cái:\n",
    "n = \"lập trình Python không khó\"\n",
    "n2 = n.upper()\n",
    "print(n2)"
   ]
  },
  {
   "cell_type": "code",
   "execution_count": 24,
   "id": "e202af3e-1605-4bf2-8d34-57c965366d0c",
   "metadata": {},
   "outputs": [
    {
     "name": "stdout",
     "output_type": "stream",
     "text": [
      "học python không khó\n"
     ]
    }
   ],
   "source": [
    "# Chuyển tất cả các ký tự viết Hoa thành chữ thường\n",
    "n3 = \"Học PYTHON Không KHó\"\n",
    "n4 = n3.lower()\n",
    "print(n4)"
   ]
  },
  {
   "cell_type": "code",
   "execution_count": 25,
   "id": "fa6f7470-1eff-4c42-ac08-18faa776507b",
   "metadata": {},
   "outputs": [
    {
     "name": "stdout",
     "output_type": "stream",
     "text": [
      "Học Lập Trình Python Không Khó\n"
     ]
    }
   ],
   "source": [
    "# Viết hoa các chữ cái đầu tiên của mỗi từ\n",
    "n5 = \"học lập trình python không khó\"\n",
    "n6 = n5.title()\n",
    "print(n6)"
   ]
  },
  {
   "cell_type": "code",
   "execution_count": 28,
   "id": "b3783031-c2e9-426d-8015-663ecf815f89",
   "metadata": {},
   "outputs": [
    {
     "name": "stdout",
     "output_type": "stream",
     "text": [
      "Lập trình Python******\n",
      "Đào Lê Hồng Mận      \n",
      " Hồng 123\n"
     ]
    }
   ],
   "source": [
    "# xóa ký tự bên trái:\n",
    "xoakytu1 = \"*****Lập trình Python******\"\n",
    "xoakytu2 = \"     Đào Lê Hồng Mận      \"\n",
    "xoakytu3 = \"123 Hồng 123\"\n",
    "x1 = xoakytu1.lstrip(\"*\")\n",
    "x2 = xoakytu2.lstrip()\n",
    "x3 = xoakytu3.lstrip(\"123\")\n",
    "print(x1)\n",
    "print(x2)\n",
    "print(x3)"
   ]
  },
  {
   "cell_type": "code",
   "execution_count": 29,
   "id": "47990daa-6107-4b0f-88ef-0425b7a7c867",
   "metadata": {},
   "outputs": [
    {
     "name": "stdout",
     "output_type": "stream",
     "text": [
      "Lập trình Python\n",
      "Đào Lê Hồng Mận\n",
      " Hồng \n"
     ]
    }
   ],
   "source": [
    "# xóa ký tự đầu và cuối chuỗi:\n",
    "xoakytu1 = \"*****Lập trình Python******\"\n",
    "xoakytu2 = \"     Đào Lê Hồng Mận      \"\n",
    "xoakytu3 = \"123 Hồng 123\"\n",
    "x1 = xoakytu1.strip(\"*\")\n",
    "x2 = xoakytu2.strip()\n",
    "x3 = xoakytu3.strip(\"123\")\n",
    "print(x1)\n",
    "print(x2)\n",
    "print(x3)"
   ]
  },
  {
   "cell_type": "code",
   "execution_count": 38,
   "id": "2b196f2f-7cfc-4b47-808f-00bf6e560fe7",
   "metadata": {},
   "outputs": [
    {
     "name": "stdout",
     "output_type": "stream",
     "text": [
      "['Đào', 'Lê', 'Thị', 'Hồng', 'Mận']\n",
      "['Đào', 'Lê', 'Thị Hồng Mận']\n",
      "['Đào', 'Lê', 'Thị', 'Hồng Mận']\n"
     ]
    }
   ],
   "source": [
    "# tách chuỗi thành nhiều chuỗi con\n",
    "t1 = \"Đào Lê Thị Hồng Mận\"\n",
    "tach1 = t1.split()\n",
    "tach2 = t1.split(\" \", 2)\n",
    "tach3 = t1.split(\" \", 3)\n",
    "print(tach1)\n",
    "print(tach2)\n",
    "print(tach3)"
   ]
  },
  {
   "cell_type": "code",
   "execution_count": 42,
   "id": "271d83de-d167-458a-a3c8-fcf23b75f573",
   "metadata": {},
   "outputs": [
    {
     "name": "stdout",
     "output_type": "stream",
     "text": [
      "Đào+Lê+Thị+Hồng+Mận\n",
      "Đào Lê Thị Hồng Mận\n",
      "Đào-Lê-Thị-Hồng-Mận\n",
      "Đào.Lê.Thị.Hồng.Mận\n"
     ]
    }
   ],
   "source": [
    "# ghép nhiều chuỗi con thành chuỗi lớn\n",
    "g = (\"Đào\", \"Lê\", \"Thị\", \"Hồng\", \"Mận\") #sử dụng 1 tuple để chứa nhiều chuỗi con\n",
    "g1 = \"+\".join(g)\n",
    "g2 = \" \".join(g)\n",
    "g3 = \"-\".join(g)\n",
    "g4 = \".\".join(g)\n",
    "print(g1)\n",
    "print(g2)\n",
    "print(g3)\n",
    "print(g4)"
   ]
  },
  {
   "cell_type": "code",
   "execution_count": 45,
   "id": "4ecbeab8-a272-4811-8362-a9b52498f909",
   "metadata": {},
   "outputs": [
    {
     "name": "stdout",
     "output_type": "stream",
     "text": [
      "2\n",
      "3\n",
      "11\n"
     ]
    }
   ],
   "source": [
    "# Tìm kiếm chuỗi con trong một chuỗi\n",
    "t1 = \"Đào Lê Thị Hồng Mận\"\n",
    "t2 = t1.find(\"o\")\n",
    "t3 = t1.find(\" \")\n",
    "t4 = t1.find(\"Hồng\", 0, 20)\n",
    "print(t2)\n",
    "print(t3)\n",
    "print(t4)"
   ]
  },
  {
   "cell_type": "code",
   "execution_count": 47,
   "id": "c1855f1a-5480-4ef5-97e2-2d233bf949e7",
   "metadata": {},
   "outputs": [
    {
     "name": "stdout",
     "output_type": "stream",
     "text": [
      "Lập công Python ở công độ cao\n",
      "Lập-trình-Python ở trình độ cao\n"
     ]
    }
   ],
   "source": [
    "# Thay thế chuỗi con\n",
    "s1 = \"Lập trình Python ở trình độ cao\"\n",
    "s2 = s1.replace(\"trình\", \"công\")\n",
    "s3 = s1.replace(\" \", \"-\", 2) #thay thế 2 lần dấu cách bằng 2 dấu -\n",
    "print(s2)\n",
    "print(s3)"
   ]
  },
  {
   "cell_type": "code",
   "execution_count": null,
   "id": "0a675d90-bb99-43f8-abbc-f59bf811e97d",
   "metadata": {},
   "outputs": [],
   "source": []
  }
 ],
 "metadata": {
  "kernelspec": {
   "display_name": "Python 3 (ipykernel)",
   "language": "python",
   "name": "python3"
  },
  "language_info": {
   "codemirror_mode": {
    "name": "ipython",
    "version": 3
   },
   "file_extension": ".py",
   "mimetype": "text/x-python",
   "name": "python",
   "nbconvert_exporter": "python",
   "pygments_lexer": "ipython3",
   "version": "3.11.7"
  }
 },
 "nbformat": 4,
 "nbformat_minor": 5
}
