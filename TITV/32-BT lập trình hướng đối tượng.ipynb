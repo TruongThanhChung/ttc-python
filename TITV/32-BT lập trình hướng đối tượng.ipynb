{
 "cells": [
  {
   "cell_type": "code",
   "execution_count": 14,
   "id": "51571a9a",
   "metadata": {},
   "outputs": [],
   "source": [
    "''' Ví dụ về việc xây dựng lớp và hàm khởi tạo'''\n",
    "# Sử dụng lệnh class để xây dựng lớp\n",
    "class HocVien():\n",
    "    #Định nghĩa hàm khởi tạo cho lớp HocVien\n",
    "    def __init__(self, soTheCanCuoc, tenHV, NamSinh, dsMonHoc):\n",
    "        self.soTheCanCuoc = soTheCanCuoc   #Gán dữ liệu ban đầu cho biến \n",
    "        self.tenHV = tenHV\n",
    "        self.NamSinh = NamSinh\n",
    "        self.dsMonHoc = dsMonHoc"
   ]
  },
  {
   "cell_type": "code",
   "execution_count": 15,
   "id": "95a21c72",
   "metadata": {},
   "outputs": [],
   "source": [
    "''' Ví dụ về việc xây dựng lớp và hàm khởi tạo'''\n",
    "# Sử dụng lệnh class để xây dựng lớp\n",
    "class HocVien():\n",
    "    #Định nghĩa hàm khởi tạo cho lớp HocVien với nhiều kiểu tham số khác nhau\n",
    "    def __init__(self, soTheCanCuoc, tenHV, NamSinh=2005, dsMonHoc=[]):\n",
    "        self.soTheCanCuoc = soTheCanCuoc   \n",
    "        self.tenHV = tenHV\n",
    "        self.NamSinh = NamSinh\n",
    "        self.dsMonHoc = dsMonHoc"
   ]
  },
  {
   "cell_type": "markdown",
   "id": "2a28e59a",
   "metadata": {},
   "source": [
    "Phương thức của lớp cũng tương tự như một hàm của Python, phương thức này luôn nhận một tham số mặc định là self\n",
    "Cú pháp:\n",
    "    def <tên hàm>(self[,<danh sách tham số>]):\n",
    "        <khối lệnh>\n",
    "        [return <giá trị tv>]"
   ]
  },
  {
   "cell_type": "code",
   "execution_count": 16,
   "id": "c8140638",
   "metadata": {},
   "outputs": [],
   "source": [
    "''' Ví dụ về việc xây dựng lớp và hàm thành phần trong lớp'''\n",
    "# Sử dụng lệnh class để xây dựng lớp\n",
    "class HocVien():\n",
    "    #Định nghĩa hàm thành phần thêm môn học vào danh sách môn học\n",
    "    def themMonHoc(self, tenmon):\n",
    "        #Sử dụng phương thức append của lớp danh sách để thêm\n",
    "        self.dsMonHoc.append(tenmon)"
   ]
  },
  {
   "cell_type": "code",
   "execution_count": 17,
   "id": "6f751b8a",
   "metadata": {},
   "outputs": [],
   "source": [
    "''' Ví dụ về việc xây dựn lớp và thành phần trong lớp'''\n",
    "#Sử dụng lệnh class để xây dựng lớp\n",
    "class HocVien():\n",
    "    ''' Định nghĩa hàm thành phần hiển thị thông tin của học viên ra màn hình'''\n",
    "    def hienThi(self):\n",
    "            print(self.soTheCanCuoc, self.tenHV, self.NamSinh, len(self.dsMonHoc))"
   ]
  },
  {
   "cell_type": "markdown",
   "id": "af374a50",
   "metadata": {},
   "source": [
    "Tạo đối tượng của lớp:\n",
    "    <tên_biến_đối_tượng> = <tên_lớp>([danh_sách_đối_số])\n",
    "- Gọi phương thức của lớp ra để thực thi:\n",
    "    <tên_biến_đối_tượng>.<tên_phương_thức>([danh_sách_tham_số])\n",
    "- Truy cập đến thuộc tính đối tượng (public)\n",
    "    <tên_biến_đối_tượng>.<tên_thuộc_tính>\n",
    "- Truy cập đến thuộc tính lớp (thuộc tính chia sẻ)\n",
    "    <tên_biến_đối_tượng>.__class__<tên_thuộc_tính>"
   ]
  },
  {
   "cell_type": "code",
   "execution_count": 19,
   "id": "832dd30a",
   "metadata": {},
   "outputs": [
    {
     "ename": "TypeError",
     "evalue": "HocVien() takes no arguments",
     "output_type": "error",
     "traceback": [
      "\u001b[1;31m---------------------------------------------------------------------------\u001b[0m",
      "\u001b[1;31mTypeError\u001b[0m                                 Traceback (most recent call last)",
      "Cell \u001b[1;32mIn[19], line 2\u001b[0m\n\u001b[0;32m      1\u001b[0m \u001b[38;5;66;03m#Tạo đối tượng hocvien là thể hiện của lớp HocVien\u001b[39;00m\n\u001b[1;32m----> 2\u001b[0m hocvien \u001b[38;5;241m=\u001b[39m HocVien(\u001b[38;5;124m'\u001b[39m\u001b[38;5;124m111883389\u001b[39m\u001b[38;5;124m'\u001b[39m, \u001b[38;5;124m'\u001b[39m\u001b[38;5;124mNguyễn Xuân Anh\u001b[39m\u001b[38;5;124m'\u001b[39m, \u001b[38;5;241m2000\u001b[39m)\n\u001b[0;32m      3\u001b[0m \u001b[38;5;124;03m''' Gọi phương thức hiển thị thông tin của lớp HocVien thông qua đối tượng hocvien'''\u001b[39;00m\n\u001b[0;32m      4\u001b[0m hocvien\u001b[38;5;241m.\u001b[39mhienThi()\n",
      "\u001b[1;31mTypeError\u001b[0m: HocVien() takes no arguments"
     ]
    }
   ],
   "source": [
    "#Tạo đối tượng hocvien là thể hiện của lớp HocVien\n",
    "hocvien = HocVien('111883389', 'Nguyễn Xuân Anh', 2000)\n",
    "''' Gọi phương thức hiển thị thông tin của lớp HocVien thông qua đối tượng hocvien'''\n",
    "hocvien.hienThi()"
   ]
  },
  {
   "cell_type": "markdown",
   "id": "eff4897a",
   "metadata": {},
   "source": [
    "# Ví dụ 8.7: Xây dựng lớp hình chữ nhật và tạo đối tượng kiểu lớp hình chữ nhật, sau đó gọi các thành phần của đối tượng có trong lớp hình chữ nhật\n",
    "# Phân tích: Quan sát hình chữ nhật ta thấy hình chữ nhật có dữ liệu thành phần gồm chiều dài, chiều rộng và màu sắc; hàm thành phần gồm hàm tính diện tích, hàm tính chu vi và hàm hiển thị thông tin về hình chữ nhật ra màn hình. Từ đó ta có thể biểu diễn lớp hình chữ nhật thông qua ngôn ngữ lập trình như sau:"
   ]
  },
  {
   "cell_type": "code",
   "execution_count": null,
   "id": "66dd64e1",
   "metadata": {},
   "outputs": [],
   "source": [
    "''' Biểu diễn lớp hình chữ nhật trong máy tính'''\n",
    "# Một lớp mô phỏng một hình chữ nhật\n",
    "class HinhChuNhat():\n",
    "    #Một phương thức được sử dụng để tạo đối tượng (contructor)\n",
    "    def __init__(self, chieudai, chieurong, mau):\n",
    "            self.__cdai = chieudai\n",
    "            self.__crong = chieurong\n",
    "            self.__mau = mau\n",
    "    # Thuộc tính lấy về chiều dài của hình chữ nhật\n",
    "    def getDai(self):\n",
    "            return self.__cdai\n",
    "    # Thuộc tính lấy về chiều rộng của hình chữ nhật\n",
    "    def getRong(self):\n",
    "            return self.__crong\n",
    "    # Thuộc tính lấy về màu\n",
    "    def getMau(self):\n",
    "            return self.__mau\n",
    "    # Phương thức tính diện tích\n",
    "    def getDienTich(self):\n",
    "            dt = self.__cdai * self.__crong\n",
    "            return dt\n",
    "    # Phương thức tính chu vi\n",
    "    def getChuVi(self):\n",
    "            cv = (self.__cdai + self.__crong)*2\n",
    "            return cv\n",
    "    # Phương thức hiển thị thông tin hình chữ nhật\n",
    "    def hienThi(self):\n",
    "            print(\"-----Thông tin về hình chữ nhật-----\")\n",
    "            print(\"Chiều dài = \", self.getDai())\n",
    "            print(\"Chiều rộng = \", self.getRong())\n",
    "            print(\"Màu = \", self.getMau())\n",
    "            print(\"Diện tích hình chữ nhật =\", self.getDienTich())\n",
    "            print(\"Chu vi hình chữ nhật =\", self.getChuVi())\n",
    "# Chương trình chính\n",
    "#Tạo đối tượng hình chữ nhật 1\n",
    "hcn1 = HinhChuNhat(40, 21, \"Đỏ\")\n",
    "hcn1.hienThi()  #Gọi phương thức hiển thị của lớp hình chữ nhật\n",
    "print(\"Nhập thông tin hình chữ nhật 2:\")\n",
    "cd = float(input(\"Chiều dài = \"))\n",
    "cr = float(input(\"Chiều rộng = \"))\n",
    "mau = input(\"Màu sắc = \")\n",
    "# Tạo đối tượng hình chữ nhật 2\n",
    "hcn1=HinhChuNhat(cd, cr, mau)\n",
    "hcn1.hienThi()"
   ]
  },
  {
   "cell_type": "code",
   "execution_count": null,
   "id": "f12a6e0d",
   "metadata": {},
   "outputs": [],
   "source": [
    "class Ngay()\n",
    "    #Contructor\n",
    "    def__init__(self, giatri_ngay, giatri_thang, giatri_nam):\n",
    "        self.ngay = giatri_ngay\n",
    "        self.thang = giatri_thang\n",
    "        self.nam = giatri_nam\n",
    "    # Xác định số ngày của tháng\n",
    "    @staticmethods\n",
    "    def soNgayCuaThang(thang, nam):\n",
    "        if (thang in [1,3,5,7,8,10,12]):\n",
    "            return 31\n",
    "        elif (thang in [4,6,9,11]):\n",
    "            return 30\n",
    "        elif (thang == 2):\n",
    "            if (nam % 400 == 0 or (nam % 4 == 0 and nam % 100 !=0))\n",
    "                return 29\n",
    "            else: \n",
    "                return 28"
   ]
  }
 ],
 "metadata": {
  "kernelspec": {
   "display_name": "Python 3 (ipykernel)",
   "language": "python",
   "name": "python3"
  },
  "language_info": {
   "codemirror_mode": {
    "name": "ipython",
    "version": 3
   },
   "file_extension": ".py",
   "mimetype": "text/x-python",
   "name": "python",
   "nbconvert_exporter": "python",
   "pygments_lexer": "ipython3",
   "version": "3.11.7"
  }
 },
 "nbformat": 4,
 "nbformat_minor": 5
}
