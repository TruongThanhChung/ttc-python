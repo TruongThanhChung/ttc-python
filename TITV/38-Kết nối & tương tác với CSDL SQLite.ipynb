{
 "cells": [
  {
   "cell_type": "code",
   "execution_count": 1,
   "id": "411fc5a4",
   "metadata": {},
   "outputs": [
    {
     "name": "stdout",
     "output_type": "stream",
     "text": [
      "<sqlite3.Connection object at 0x0000020A2BBA1B70>\n"
     ]
    }
   ],
   "source": [
    "# Kết nối CSDL\n",
    "import sqlite3\n",
    "# Kết nối với CSDL bằng đường dẫn\n",
    "path = \"D:/Setup/WWW.Tự học CNTT/Python/Database/csdl.db\"\n",
    "connection = sqlite3.connect(path)\n",
    "print(connection)"
   ]
  },
  {
   "cell_type": "code",
   "execution_count": 2,
   "id": "e2695828",
   "metadata": {},
   "outputs": [
    {
     "name": "stdout",
     "output_type": "stream",
     "text": [
      "[('03', 'Lê Nhật Tùng', 6), ('02', 'Nguyễn Văn A', 4), ('01', 'TITV', 9), ('05', 'Tran Thi C', 7), ('06', 'Đỗ Thu Uyên', 8), ('07', 'Trần Thanh Bình', 7)]\n"
     ]
    }
   ],
   "source": [
    "# Tạo đối tượng cursor\n",
    "cursor = connection.cursor()\n",
    "# Tạo câu lệnh SQL\n",
    "sql = \"SELECT * FROM sinhvien\"\n",
    "cursor.execute(sql)\n",
    "result = cursor.fetchall()\n",
    "print (result)\n",
    "cursor.close()"
   ]
  },
  {
   "cell_type": "code",
   "execution_count": 3,
   "id": "2f220184",
   "metadata": {},
   "outputs": [
    {
     "name": "stdout",
     "output_type": "stream",
     "text": [
      "[('01', 'TITV', 9), ('05', 'Tran Thi C', 7), ('06', 'Đỗ Thu Uyên', 8), ('07', 'Trần Thanh Bình', 7)]\n"
     ]
    }
   ],
   "source": [
    "# Tạo đối tượng cursor\n",
    "cursor = connection.cursor()\n",
    "# Tạo câu lệnh SQL\n",
    "sql = \"SELECT * FROM sinhvien WHERE sinhvien.diem_TB>=7\"\n",
    "cursor.execute(sql)\n",
    "result = cursor.fetchall()\n",
    "print (result)\n",
    "cursor.close()"
   ]
  },
  {
   "cell_type": "code",
   "execution_count": 4,
   "id": "cb7a9ed0",
   "metadata": {},
   "outputs": [
    {
     "ename": "IntegrityError",
     "evalue": "UNIQUE constraint failed: sinhvien.masv",
     "output_type": "error",
     "traceback": [
      "\u001b[1;31m---------------------------------------------------------------------------\u001b[0m",
      "\u001b[1;31mIntegrityError\u001b[0m                            Traceback (most recent call last)",
      "Cell \u001b[1;32mIn[4], line 5\u001b[0m\n\u001b[0;32m      3\u001b[0m \u001b[38;5;66;03m# Tạo câu lệnh SQL\u001b[39;00m\n\u001b[0;32m      4\u001b[0m sql \u001b[38;5;241m=\u001b[39m \u001b[38;5;124m\"\u001b[39m\u001b[38;5;124mINSERT INTO sinhvien(masv, ho_va_ten, diem_TB) VALUES (\u001b[39m\u001b[38;5;124m'\u001b[39m\u001b[38;5;124m07\u001b[39m\u001b[38;5;124m'\u001b[39m\u001b[38;5;124m, \u001b[39m\u001b[38;5;124m'\u001b[39m\u001b[38;5;124mTrần Thanh Bình\u001b[39m\u001b[38;5;124m'\u001b[39m\u001b[38;5;124m, 8)\u001b[39m\u001b[38;5;124m\"\u001b[39m\n\u001b[1;32m----> 5\u001b[0m cursor\u001b[38;5;241m.\u001b[39mexecute(sql)\n\u001b[0;32m      6\u001b[0m connection\u001b[38;5;241m.\u001b[39mcommit()\n\u001b[0;32m      7\u001b[0m cursor\u001b[38;5;241m.\u001b[39mclose()\n",
      "\u001b[1;31mIntegrityError\u001b[0m: UNIQUE constraint failed: sinhvien.masv"
     ]
    }
   ],
   "source": [
    "# Tạo đối tượng cursor\n",
    "cursor = connection.cursor()\n",
    "# Tạo câu lệnh SQL\n",
    "sql = \"INSERT INTO sinhvien(masv, ho_va_ten, diem_TB) VALUES ('07', 'Trần Thanh Bình', 8)\"\n",
    "cursor.execute(sql)\n",
    "connection.commit()\n",
    "cursor.close()\n",
    "# result = cursor.fetchall()\n",
    "# print (result)"
   ]
  },
  {
   "cell_type": "code",
   "execution_count": null,
   "id": "a5399d89",
   "metadata": {},
   "outputs": [],
   "source": [
    "# Tạo đối tượng cursor\n",
    "cursor = connection.cursor()\n",
    "# Tạo câu lệnh SQL\n",
    "sql = \"UPDATE sinhvien set diem_TB = diem_TB - 1\"\n",
    "cursor.execute(sql)\n",
    "connection.commit()\n",
    "cursor.close()"
   ]
  },
  {
   "cell_type": "code",
   "execution_count": 6,
   "id": "9a993ef6",
   "metadata": {},
   "outputs": [],
   "source": [
    "def printAll(result):\n",
    "    for item in result:\n",
    "        print(item)"
   ]
  },
  {
   "cell_type": "code",
   "execution_count": 7,
   "id": "535d0bf2",
   "metadata": {},
   "outputs": [
    {
     "name": "stdout",
     "output_type": "stream",
     "text": [
      "('03', 'Lê Nhật Tùng', 6)\n",
      "('02', 'Nguyễn Văn A', 4)\n",
      "('01', 'TITV', 9)\n",
      "('05', 'Tran Thi C', 7)\n",
      "('06', 'Đỗ Thu Uyên', 8)\n",
      "('07', 'Trần Thanh Bình', 7)\n"
     ]
    }
   ],
   "source": [
    "# Tạo đối tượng cursor\n",
    "cursor = connection.cursor()\n",
    "# Tạo câu lệnh SQL\n",
    "sql = \"SELECT * FROM sinhvien\"\n",
    "cursor.execute(sql)\n",
    "result = cursor.fetchall()\n",
    "cursor.close()\n",
    "printAll(result)"
   ]
  },
  {
   "cell_type": "code",
   "execution_count": 9,
   "id": "df5c3293",
   "metadata": {},
   "outputs": [
    {
     "name": "stdout",
     "output_type": "stream",
     "text": [
      "('07', 'Trần Thanh Bình', 7)\n",
      "('06', 'Đỗ Thu Uyên', 8)\n",
      "('05', 'Tran Thi C', 7)\n",
      "('03', 'Lê Nhật Tùng', 6)\n",
      "('02', 'Nguyễn Văn A', 4)\n",
      "('01', 'TITV', 9)\n"
     ]
    }
   ],
   "source": [
    "# Tạo đối tượng cursor\n",
    "cursor = connection.cursor()\n",
    "# Tạo câu lệnh SQL\n",
    "sql = \"SELECT * FROM sinhvien ORDER BY masv DESC\"\n",
    "cursor.execute(sql)\n",
    "result = cursor.fetchall()\n",
    "cursor.close()\n",
    "printAll(result)"
   ]
  },
  {
   "cell_type": "code",
   "execution_count": 10,
   "id": "ba05befd",
   "metadata": {},
   "outputs": [],
   "source": [
    "# Khi làm xong nhớ ngắt kết nối để trả về tài nguyên\n",
    "connection.close()"
   ]
  },
  {
   "cell_type": "code",
   "execution_count": null,
   "id": "181197f4",
   "metadata": {},
   "outputs": [],
   "source": []
  }
 ],
 "metadata": {
  "kernelspec": {
   "display_name": "Python 3 (ipykernel)",
   "language": "python",
   "name": "python3"
  },
  "language_info": {
   "codemirror_mode": {
    "name": "ipython",
    "version": 3
   },
   "file_extension": ".py",
   "mimetype": "text/x-python",
   "name": "python",
   "nbconvert_exporter": "python",
   "pygments_lexer": "ipython3",
   "version": "3.11.7"
  }
 },
 "nbformat": 4,
 "nbformat_minor": 5
}
