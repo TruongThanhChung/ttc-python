{
 "cells": [
  {
   "cell_type": "code",
   "execution_count": 1,
   "id": "0ee8f2fb",
   "metadata": {},
   "outputs": [],
   "source": [
    "# open()"
   ]
  },
  {
   "cell_type": "code",
   "execution_count": 2,
   "id": "ca9e0a95",
   "metadata": {},
   "outputs": [
    {
     "name": "stdout",
     "output_type": "stream",
     "text": [
      "[Errno 17] File exists: 'vidu1.txt'\n"
     ]
    },
    {
     "ename": "NameError",
     "evalue": "name 'f' is not defined",
     "output_type": "error",
     "traceback": [
      "\u001b[1;31m---------------------------------------------------------------------------\u001b[0m",
      "\u001b[1;31mNameError\u001b[0m                                 Traceback (most recent call last)",
      "Cell \u001b[1;32mIn[2], line 7\u001b[0m\n\u001b[0;32m      5\u001b[0m     \u001b[38;5;28mprint\u001b[39m(e)\n\u001b[0;32m      6\u001b[0m \u001b[38;5;28;01mfinally\u001b[39;00m:\n\u001b[1;32m----> 7\u001b[0m     f\u001b[38;5;241m.\u001b[39mclose()\n",
      "\u001b[1;31mNameError\u001b[0m: name 'f' is not defined"
     ]
    }
   ],
   "source": [
    "# \"x\" - tạo file\n",
    "try:\n",
    "    f = open(\"vidu1.txt\", \"x\")\n",
    "except Exception as e:\n",
    "    print(e)\n",
    "finally:\n",
    "    f.close()"
   ]
  },
  {
   "cell_type": "code",
   "execution_count": null,
   "id": "436536dc",
   "metadata": {},
   "outputs": [],
   "source": [
    "# \"w\" - ghi dữ liệu vào file\n",
    "# \"a\" - nối vào file\n",
    "try:\n",
    "    f = open(\"vidu1.txt\", \"x\")\n",
    "except Exception as e:\n",
    "    print(e)\n",
    "finally:\n",
    "    f.close()    "
   ]
  },
  {
   "cell_type": "markdown",
   "id": "93b3d94a",
   "metadata": {},
   "source": [
    "# Mở tệp: <Tên biến tệp> = open(file_nma, mode, encoding)\n",
    "'''\n",
    "'r': mở tệp để đọc dữ liệu (chế độ mặc định)\n",
    "'w': mở tệp để ghi dữ liệu vào tệp; nếu tệp chưa tổn tại thì sẽ tạo tệp mới, nếu tệp đã tồn tại thì tất cả dữ liệu cũ trong tệp sẽ bị xóa\n",
    "'x': mở một tệp đã tồn tại trên ổ đĩa, nếu tệp chưa tồn tại sẽ phát sinh lỗi\n",
    "'a': mở tệp để ghi dữ liệu vào tệp, nếu tệp chưa tồn tại thì sẽ tạo tệp, nếu tệp đã tồn tại thì sẽ ghi dữ liệu vào cuối tệp (ghi nối đuôi)\n",
    "'t': mở tệp ở chế độ văn bản\n",
    "'''"
   ]
  },
  {
   "cell_type": "code",
   "execution_count": 4,
   "id": "85d8532a",
   "metadata": {},
   "outputs": [],
   "source": [
    "# Mở tệp có tên test.txt để đọc\n",
    "f = open(\"test.txt\", 'x')\n",
    "# Mở tệp có tên test ở chế độ ghi văn bản\n",
    "f = open(\"test.txt\", 'w')\n",
    "# Mở teeppj có tên test.txt để đọc với mã hóa utf-8\n",
    "f = open(\"test.txt\", mode = 'r', encoding = 'utf-8')"
   ]
  },
  {
   "cell_type": "markdown",
   "id": "3573e8bd",
   "metadata": {},
   "source": [
    "# Ghi dữ liệu vào tệp\n",
    "- Mở tệp ở chế độ 'w' hoặc 'x' hoặc '+' hoặc 'a'\n",
    "- Sử dụng phương thức:\n",
    "    <Tên biến tệp>.wrire(s)\n",
    "    <Tên biến tệp>.writelines(lines)\n",
    "    s: là một chuỗi ký tự cần ghi vào tệp\n",
    "    lines: là một danh sách, mỗi phần tử của danh sách là một chuỗi ký tự\n",
    "- Đóng tệp bằng câu lệnh: <Tên biến tệp>.close()\n"
   ]
  },
  {
   "cell_type": "code",
   "execution_count": 1,
   "id": "6578cf8c",
   "metadata": {},
   "outputs": [],
   "source": [
    "# Ghi dữ liệu vào tệp văn bản test.txt\n",
    "f = open(\"test.txt\", 'w', encoding = 'utf-8')\n",
    "f.writelines([\"Đường vô xứ Huế loanh quanh\\n\", \"Non xanh nước biếc như tranh họa đồ\"])\n",
    "f.close()"
   ]
  },
  {
   "cell_type": "markdown",
   "id": "46da9782",
   "metadata": {},
   "source": [
    "# Đọc dữ liệu từ tệp\n",
    "<Tên biến tệp>.read(n): đọc n ký tự từ tệp, nếu n bằng không hoặc n lớn hơn kích thước của tệp thì sẽ đọc toàn bộ tệp\n",
    "<Tên biến tệp>.readline(): đọc và trả về một dòng dữ liệu từ tệp.\n",
    "<Tên biến tệp>.readlines(): đọc và trả về một danh sách, mỗi phần tử của danh sách là một dòng dữ liệu từ tệp.\n",
    "đóng tệp: <Tên biến tệp>.close()\n"
   ]
  },
  {
   "cell_type": "code",
   "execution_count": 4,
   "id": "4748861a",
   "metadata": {},
   "outputs": [
    {
     "name": "stdout",
     "output_type": "stream",
     "text": [
      "Đường vô xứ Huế loanh quanh\n",
      "\n",
      "Non xanh nước biếc như tranh họa đồ\n"
     ]
    }
   ],
   "source": [
    "'''\n",
    "Đọc dữ liệu từ tệp văn bản test.txt, hiển thị nội dung tệp ra màn hình\n",
    "\n",
    "'''\n",
    "file = open('test.txt', mode = 'r', encoding = 'utf-8')\n",
    "lines = file.readlines()\n",
    "for line in lines:\n",
    "    print(line)\n",
    "    file.close()"
   ]
  },
  {
   "cell_type": "code",
   "execution_count": 2,
   "id": "4bf6c08c",
   "metadata": {},
   "outputs": [
    {
     "name": "stdout",
     "output_type": "stream",
     "text": [
      "Đường vô xứ Huế loanh quanh\n",
      "Non xanh nước biếc như tranh họa đồ\n"
     ]
    }
   ],
   "source": [
    "file = open('test.txt', mode = 'r', encoding = 'utf-8')\n",
    "line1 = file.read()\n",
    "print(line1)"
   ]
  },
  {
   "cell_type": "code",
   "execution_count": 3,
   "id": "a84a62e1",
   "metadata": {},
   "outputs": [
    {
     "name": "stdout",
     "output_type": "stream",
     "text": [
      "Đường vô xứ Huế loanh quanh\n",
      "\n"
     ]
    }
   ],
   "source": [
    "file = open('test.txt', mode = 'r', encoding = 'utf-8')\n",
    "line2 = file.readline()\n",
    "print(line2)"
   ]
  },
  {
   "cell_type": "markdown",
   "id": "4bf1a06c",
   "metadata": {},
   "source": [
    "# Viết chương trình python thực hiện các công việc sau đây:\n",
    "- Nhập thông tin về một danh sách sinh viên, mỗi sinh viên gồm: Mã sinh viên, họ tên, lớp, quê quán.\n",
    "- Lưu thông tin về danh sách sinh viên này vào tệp sinhvien.txt.\n",
    "- Đọc và hiển thị thông tin về sinh viên lưu trong tệp sinhvien.txt ra màn hình\n"
   ]
  },
  {
   "cell_type": "code",
   "execution_count": 1,
   "id": "3d811feb",
   "metadata": {},
   "outputs": [
    {
     "name": "stdout",
     "output_type": "stream",
     "text": [
      "Mã sinh viên: 01\n",
      "Tên sinh viên: Nguyễn Văn An\n",
      "Lớp: ĐH01\n",
      "Quê quán: HD\n",
      "Mã sinh viên: 02\n",
      "Tên sinh viên: Phạm Văn Bình\n",
      "Lớp: ĐH01\n",
      "Quê quán: NĐ\n",
      "Mã sinh viên: 03\n",
      "Tên sinh viên: Trần Thị Chúc\n",
      "Lớp: ĐH02\n",
      "Quê quán: HP\n",
      "Mã sinh viên: 04\n",
      "Tên sinh viên: Đặng Dương\n",
      "Lớp: ĐH03\n",
      "Quê quán: HP\n",
      "Mã sinh viên: 05\n",
      "Tên sinh viên: Lê Thị Đào\n",
      "Lớp: ĐH 03\n",
      "Quê quán: TB\n",
      "Mã sinh viên: 06\n",
      "Tên sinh viên: Lý Công\n",
      "Lớp: ĐH04\n",
      "Quê quán: HN\n",
      "Mã sinh viên: n\n",
      "Tên sinh viên: Đào Hùng\n",
      "Lớp: ĐH03\n",
      "Quê quán: QN\n",
      "Mã sinh viên: \n",
      "Danh sách sinh viên vừa nhập \n",
      "Mã sinh viên: \tHọ và tên SV: \tLớp: \tQuê quán: \n",
      "01\tNguyễn Văn An\tĐH01\tHD\n",
      "02\tPhạm Văn Bình\tĐH01\tNĐ\n",
      "03\tTrần Thị Chúc\tĐH02\tHP\n",
      "04\tĐặng Dương\tĐH03\tHP\n",
      "05\tLê Thị Đào\tĐH 03\tTB\n",
      "06\tLý Công\tĐH04\tHN\n",
      "n\tĐào Hùng\tĐH03\tQN\n"
     ]
    }
   ],
   "source": [
    "'''\n",
    "Nhập, ghi thông tin về danh sách sinh viên vào tệp văn bản sinhvien.txt\n",
    "\n",
    "'''\n",
    "file = open(\"sinhvien.txt\", 'a', encoding='utf-8')\n",
    "#Nhập danh sách sinh viên từ bàn phím\n",
    "while (True):\n",
    "    maSV = input(\"Mã sinh viên: \") #Nhập vào mã sinh viên\n",
    "    if (maSV == ''): #Nếu mã sinh viên là xâu rỗng\n",
    "        break; #thì kết thức việc nhập\n",
    "    tenSV = input(\"Tên sinh viên: \") #Nhập tên sinh viên\n",
    "    Lop = input(\"Lớp: \") #Nhập lớp sinh viên\n",
    "    QueQuan = input(\"Quê quán: \") #Nhập quê quán\n",
    "    file.write('\\t'.join([maSV, tenSV, Lop, QueQuan]) + '\\n')  #Ghi dữ liệu vào file\n",
    "file.close()\n",
    "#Hiển thị danh sách sinh viên ra màn hình\n",
    "print(\"Danh sách sinh viên vừa nhập \")\n",
    "print('\\t'.join(['Mã sinh viên: ', 'Họ và tên SV: ', \"Lớp: \", 'Quê quán: ']))\n",
    "file = open('sinhvien.txt', 'r', encoding = 'utf-8')\n",
    "for sv in file.readlines(): \n",
    "      print(sv.replace('\\n', ''))\n",
    "file.close()"
   ]
  },
  {
   "cell_type": "code",
   "execution_count": null,
   "id": "0f51f7e0",
   "metadata": {},
   "outputs": [],
   "source": []
  }
 ],
 "metadata": {
  "kernelspec": {
   "display_name": "Python 3 (ipykernel)",
   "language": "python",
   "name": "python3"
  },
  "language_info": {
   "codemirror_mode": {
    "name": "ipython",
    "version": 3
   },
   "file_extension": ".py",
   "mimetype": "text/x-python",
   "name": "python",
   "nbconvert_exporter": "python",
   "pygments_lexer": "ipython3",
   "version": "3.11.7"
  }
 },
 "nbformat": 4,
 "nbformat_minor": 5
}
