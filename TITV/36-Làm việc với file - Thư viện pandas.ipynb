{
 "cells": [
  {
   "cell_type": "markdown",
   "id": "bdffbc1d",
   "metadata": {},
   "source": [
    "# Khai báo sử dụng thư viện pandas\n",
    "\n",
    "    - Bước 1: Khai báo\n",
    "        import pandas [as pd]\n",
    "    - Bước 2: Gọi phương thức của thư viện pandas theo cú pháp\n",
    "        pandas.<Tên phương thức>(đối số)\n"
   ]
  },
  {
   "cell_type": "markdown",
   "id": "18005aee",
   "metadata": {},
   "source": [
    "# Đọc dữ liệu từ tệp\n",
    "\n",
    "    <df> = pd.read_csv(file, sep = sep1, header = None, names = columns)\n",
    "        - <df>: là đối tượng dữ liệu bảng được dùng để chứa dữ liệu đọc được từ tệp\n",
    "        - file: là đường dẫn, tên tệp chứa dữ liệu mà chúng ta cần đọc.\n",
    "        - sep1: là ký tự được sử dụng để phân tách các cột dữ liệu trong tệp (mặc định nó là dấu phẩy)\n",
    "        - columns: là một danh sách nhãn đại diện cho tên các cột chứa dữ liệu cần đọc\n",
    "    "
   ]
  },
  {
   "cell_type": "code",
   "execution_count": null,
   "id": "c29a5384",
   "metadata": {},
   "outputs": [],
   "source": [
    "'''\n",
    "Ví dụ: viết chương trình đọc dữ liệu tử tệp sinhvien.txt và hiển thị ra màn hình danh sách sinh viên\n",
    "đã được sắp xếp theo lớp\n",
    "'''"
   ]
  },
  {
   "cell_type": "code",
   "execution_count": 1,
   "id": "29bf314a",
   "metadata": {},
   "outputs": [
    {
     "ename": "AttributeError",
     "evalue": "'DataFrame' object has no attribute 'sort'",
     "output_type": "error",
     "traceback": [
      "\u001b[1;31m---------------------------------------------------------------------------\u001b[0m",
      "\u001b[1;31mAttributeError\u001b[0m                            Traceback (most recent call last)",
      "\u001b[1;32m~\\AppData\\Local\\Temp\\ipykernel_6964\\2052781115.py\u001b[0m in \u001b[0;36m?\u001b[1;34m()\u001b[0m\n\u001b[0;32m      6\u001b[0m \u001b[0mfile\u001b[0m \u001b[1;33m=\u001b[0m \u001b[1;34m\"sinhvien.txt\"\u001b[0m\u001b[1;33m\u001b[0m\u001b[1;33m\u001b[0m\u001b[0m\n\u001b[0;32m      7\u001b[0m \u001b[1;31m#Đọc dữ liệu từ file sinhvien.txt bằng thư viện pandas\u001b[0m\u001b[1;33m\u001b[0m\u001b[1;33m\u001b[0m\u001b[0m\n\u001b[0;32m      8\u001b[0m \u001b[0mSV\u001b[0m \u001b[1;33m=\u001b[0m \u001b[0mpd\u001b[0m\u001b[1;33m.\u001b[0m\u001b[0mread_csv\u001b[0m\u001b[1;33m(\u001b[0m\u001b[0mfile\u001b[0m\u001b[1;33m,\u001b[0m \u001b[0msep\u001b[0m\u001b[1;33m=\u001b[0m \u001b[1;34m'\\t'\u001b[0m\u001b[1;33m,\u001b[0m \u001b[0mheader\u001b[0m \u001b[1;33m=\u001b[0m \u001b[1;32mNone\u001b[0m\u001b[1;33m,\u001b[0m \u001b[0mnames\u001b[0m \u001b[1;33m=\u001b[0m \u001b[1;33m[\u001b[0m\u001b[1;34m'Mã_SV'\u001b[0m\u001b[1;33m,\u001b[0m \u001b[1;34m'Họ_tên_SV'\u001b[0m\u001b[1;33m,\u001b[0m \u001b[1;34m'Lớp'\u001b[0m\u001b[1;33m,\u001b[0m \u001b[1;34m'Quê_quán'\u001b[0m\u001b[1;33m]\u001b[0m\u001b[1;33m)\u001b[0m\u001b[1;33m\u001b[0m\u001b[1;33m\u001b[0m\u001b[0m\n\u001b[0;32m      9\u001b[0m \u001b[1;31m# Sắp xếp danh sách sinh viên theo lớp\u001b[0m\u001b[1;33m\u001b[0m\u001b[1;33m\u001b[0m\u001b[0m\n\u001b[1;32m---> 10\u001b[1;33m \u001b[0mDSSV\u001b[0m \u001b[1;33m=\u001b[0m\u001b[0mSV\u001b[0m\u001b[1;33m.\u001b[0m\u001b[0msort\u001b[0m\u001b[1;33m(\u001b[0m\u001b[1;33m[\u001b[0m\u001b[1;34m'Lớp'\u001b[0m\u001b[1;33m]\u001b[0m\u001b[1;33m)\u001b[0m\u001b[1;33m\u001b[0m\u001b[1;33m\u001b[0m\u001b[0m\n\u001b[0m\u001b[0;32m     11\u001b[0m \u001b[1;31m# Hiển thị danh sách sinh viên ra màn hình\u001b[0m\u001b[1;33m\u001b[0m\u001b[1;33m\u001b[0m\u001b[0m\n\u001b[0;32m     12\u001b[0m \u001b[0mprint\u001b[0m\u001b[1;33m(\u001b[0m\u001b[0mDSSV\u001b[0m\u001b[1;33m)\u001b[0m\u001b[1;33m\u001b[0m\u001b[1;33m\u001b[0m\u001b[0m\n",
      "\u001b[1;32mC:\\ProgramData\\anaconda3\\Lib\\site-packages\\pandas\\core\\generic.py\u001b[0m in \u001b[0;36m?\u001b[1;34m(self, name)\u001b[0m\n\u001b[0;32m   6200\u001b[0m             \u001b[1;32mand\u001b[0m \u001b[0mname\u001b[0m \u001b[1;32mnot\u001b[0m \u001b[1;32min\u001b[0m \u001b[0mself\u001b[0m\u001b[1;33m.\u001b[0m\u001b[0m_accessors\u001b[0m\u001b[1;33m\u001b[0m\u001b[1;33m\u001b[0m\u001b[0m\n\u001b[0;32m   6201\u001b[0m             \u001b[1;32mand\u001b[0m \u001b[0mself\u001b[0m\u001b[1;33m.\u001b[0m\u001b[0m_info_axis\u001b[0m\u001b[1;33m.\u001b[0m\u001b[0m_can_hold_identifiers_and_holds_name\u001b[0m\u001b[1;33m(\u001b[0m\u001b[0mname\u001b[0m\u001b[1;33m)\u001b[0m\u001b[1;33m\u001b[0m\u001b[1;33m\u001b[0m\u001b[0m\n\u001b[0;32m   6202\u001b[0m         ):\n\u001b[0;32m   6203\u001b[0m             \u001b[1;32mreturn\u001b[0m \u001b[0mself\u001b[0m\u001b[1;33m[\u001b[0m\u001b[0mname\u001b[0m\u001b[1;33m]\u001b[0m\u001b[1;33m\u001b[0m\u001b[1;33m\u001b[0m\u001b[0m\n\u001b[1;32m-> 6204\u001b[1;33m         \u001b[1;32mreturn\u001b[0m \u001b[0mobject\u001b[0m\u001b[1;33m.\u001b[0m\u001b[0m__getattribute__\u001b[0m\u001b[1;33m(\u001b[0m\u001b[0mself\u001b[0m\u001b[1;33m,\u001b[0m \u001b[0mname\u001b[0m\u001b[1;33m)\u001b[0m\u001b[1;33m\u001b[0m\u001b[1;33m\u001b[0m\u001b[0m\n\u001b[0m",
      "\u001b[1;31mAttributeError\u001b[0m: 'DataFrame' object has no attribute 'sort'"
     ]
    }
   ],
   "source": [
    "'''\n",
    "Đọc dữ liệu từ tệp văn bản sinhvien.txt sử dụng thư viện pandas\n",
    "'''\n",
    "# Khai báo sử dụng thư viện pandas với bí danh là pd\n",
    "import pandas as pd\n",
    "file = \"sinhvien.txt\"\n",
    "#Đọc dữ liệu từ file sinhvien.txt bằng thư viện pandas\n",
    "SV = pd.read_csv(file, sep= '\\t', header = None, names = ['Mã_SV', 'Họ_tên_SV', 'Lớp', 'Quê_quán'])\n",
    "# Sắp xếp danh sách sinh viên theo lớp\n",
    "DSSV = SV.sort(['Lớp'])\n",
    "# Hiển thị danh sách sinh viên ra màn hình\n",
    "print(DSSV)"
   ]
  },
  {
   "cell_type": "markdown",
   "id": "3691ba36",
   "metadata": {},
   "source": [
    "# Trích rút, chọn dữ liệu từ DataFrame\n",
    "    <df1>=df.query([điều kiện trích chọn])\n",
    "    df: là một đối tượng, chứa toàn bộ dữ liệu bảng\n",
    "    df1: là một đối tượng dữ liệu bảng chứa toàn bộ hoặc một phần dữ liệu trong đối tượng df\n",
    "         thỏa mãn điều kiện trích chọn\n",
    "    điều kiện trích chọn: là một xâu mô tả điều kiện chúng ta muốn lấy dữ liệu. Nó tương tự\n",
    "         với biểu thức điều kiện trong mệnh đề where của một câu truy vấn SQL."
   ]
  },
  {
   "cell_type": "code",
   "execution_count": 3,
   "id": "7c476cd9",
   "metadata": {},
   "outputs": [
    {
     "name": "stdout",
     "output_type": "stream",
     "text": [
      "-----\n",
      " Danh sách sinh viên \n",
      "-----\n",
      "   Mã_SV      Họ_tên_SV   Lớp Quê_quán\n",
      "0    01  Nguyễn Văn An  ĐH01       HD\n",
      "3    04     Đặng Dương  ĐH03       HP\n",
      "6     n       Đào Hùng  ĐH03       QN\n"
     ]
    }
   ],
   "source": [
    "'''\n",
    "Đọc dữ liệu từ tệp văn bản sinhvien.txt sử dụng thư viện pandas\n",
    "'''\n",
    "# Khai báo sử dụng thư viện pandas với bí danh là pd\n",
    "import pandas as pd\n",
    "file = \"sinhvien.txt\"\n",
    "#Đọc dữ liệu từ file sinhvien.txt bằng thư viện pandas\n",
    "SV = pd.read_csv(file, sep= '\\t', header = None, names = ['Mã_SV', 'Họ_tên_SV', 'Lớp', 'Quê_quán'])\n",
    "# Trích rút dữ liệu theo điều kiện truy vấn\n",
    "sv152 = SV.query('Quê_quán==\"HD\" or Lớp==\"ĐH03\"')\n",
    "# Hiển thị kết quả ra màn hình\n",
    "print('-----\\n Danh sách sinh viên \\n-----\\n', sv152)"
   ]
  },
  {
   "cell_type": "code",
   "execution_count": 2,
   "id": "fbc3beb3",
   "metadata": {},
   "outputs": [
    {
     "name": "stdout",
     "output_type": "stream",
     "text": [
      "-----\n",
      " Danh sách sinh viên \n",
      "-----\n",
      "   Mã_SV      Họ_tên_SV   Lớp Quê_quán\n",
      "0    01  Nguyễn Văn An  ĐH01       HD\n",
      "1    02  Phạm Văn Bình  ĐH01       NĐ\n",
      "3    04     Đặng Dương  ĐH03       HP\n",
      "6     n       Đào Hùng  ĐH03       QN\n"
     ]
    }
   ],
   "source": [
    "'''\n",
    "Đọc dữ liệu từ tệp văn bản sinhvien.txt sử dụng thư viện pandas\n",
    "'''\n",
    "# Khai báo sử dụng thư viện pandas với bí danh là pd\n",
    "import pandas as pd\n",
    "file = \"sinhvien.txt\"\n",
    "#Đọc dữ liệu từ file sinhvien.txt bằng thư viện pandas\n",
    "SV = pd.read_csv(file, sep= '\\t', header = None, names = ['Mã_SV', 'Họ_tên_SV', 'Lớp', 'Quê_quán'])\n",
    "# Trích rút dữ liệu theo điều kiện truy vấn\n",
    "Lop = ['ĐH01', 'ĐH03']\n",
    "sv153 = SV.query('Lớp in @Lop')\n",
    "# Hiển thị kết quả ra màn hình\n",
    "print('-----\\n Danh sách sinh viên \\n-----\\n', sv153)"
   ]
  },
  {
   "cell_type": "markdown",
   "id": "58d18062",
   "metadata": {},
   "source": [
    "# Xây dựng chương trình Python quản lý một lớp SV:\n",
    "- Nhập vào thông tin của một danh sách sinh viên gồm: Mã sinh viên, họ tên, lớp, quê quán từ bàn phím\n",
    "- Lưu thông tin của các sinh viên này vào tệp svchung.txt\n",
    "- Hiển thị ra màn hình danh sách sinh viên của lớp X.\n",
    "- Hiển thị ra màn hình các sinh viên có tên X.\n",
    "- Đọc dữ liệu từ tệp svchung.txt, sau đó ghi danh sách sinh viên này sang các tệp khác nhau sao cho\n",
    "sinh viên của mỗi lớp được lưu trong một tệp riêng với tên tệp chính là tên lớp"
   ]
  },
  {
   "cell_type": "markdown",
   "id": "a75481b1",
   "metadata": {},
   "source": [
    "# Phân tích\n",
    "- Bước 1: Lấy về danh sách lớp: \n",
    "        DSLop = DSSV['Lop'].unique()\n",
    "- Bước 2: Duyệt qua từng lớp:\n",
    "        for lop in DSLop:\n",
    "        Bước 2.1. Lấy về danh sách sinh viên thuộc từng lớp theo biến lop\n",
    "        sv_lop = DSSV.queery('Lop == @lop')\n",
    "        Bước 2.2. Ghi danh sách sinh viên của lop vào tệp lop.txt\n",
    "        sv_lop.to_csv(lop+ '.txt', index = None, encoding = 'utf-8', sep = '\\t')\n",
    "- Bước 3: Đóng tệp\n",
    "- Bước 4: Kết thúc"
   ]
  },
  {
   "cell_type": "code",
   "execution_count": 1,
   "id": "ccd7dff4",
   "metadata": {},
   "outputs": [
    {
     "name": "stdout",
     "output_type": "stream",
     "text": [
      "Mã sinh viên: 01\n",
      "Tên sinh viên: Nguyễn Thanh Bình\n",
      "Lớp: 15.1\n",
      "Quê quán: HP\n",
      "Mã sinh viên: 02\n",
      "Tên sinh viên: Mai Phương Anh\n",
      "Lớp: 15.1\n",
      "Quê quán: HD\n",
      "Mã sinh viên: 03\n",
      "Tên sinh viên: Hà Nhân Thọ\n",
      "Lớp: 15.1\n",
      "Quê quán: QN\n",
      "Mã sinh viên: 04\n",
      "Tên sinh viên: Trần Văn Thiết\n",
      "Lớp: 15.1\n",
      "Quê quán: QN\n",
      "Mã sinh viên: 05\n",
      "Tên sinh viên: Đặng Kiến Quốc\n",
      "Lớp: 15.2\n",
      "Quê quán: HY\n",
      "Mã sinh viên: 06\n",
      "Tên sinh viên: Phạm Mai Phương\n",
      "Lớp: 15.2\n",
      "Quê quán: HP\n",
      "Mã sinh viên: \n",
      "Không có sinh viên nào trong lớp:  15.1 \n",
      "Không có sinh viên nào có tên:  Nguyễn Thanh Bình \n"
     ]
    },
    {
     "ename": "NameError",
     "evalue": "name 'DSSV' is not defined",
     "output_type": "error",
     "traceback": [
      "\u001b[1;31m---------------------------------------------------------------------------\u001b[0m",
      "\u001b[1;31mNameError\u001b[0m                                 Traceback (most recent call last)",
      "Cell \u001b[1;32mIn[1], line 61\u001b[0m\n\u001b[0;32m     59\u001b[0m HienThi_DSSV_ten(\u001b[38;5;124m'\u001b[39m\u001b[38;5;124mNguyễn Thanh Bình \u001b[39m\u001b[38;5;124m'\u001b[39m, SV)\n\u001b[0;32m     60\u001b[0m \u001b[38;5;66;03m#Gọi hàm ghi thông tin sinh viên vào các tệp tương ứng với lớp\u001b[39;00m\n\u001b[1;32m---> 61\u001b[0m Ghi_DSSV_vao_File(DSSV)\n",
      "\u001b[1;31mNameError\u001b[0m: name 'DSSV' is not defined"
     ]
    }
   ],
   "source": [
    "'''\n",
    "CHƯƠNG TRÌNH XỬ LÝ THÔNG TIN TỆP SINH VIÊN\n",
    "'''\n",
    "# Khai báo sử dụng thư viện pandas với bí danh là pd\n",
    "import pandas as pd\n",
    "import os\n",
    "# Khái thư viện os để thao tác với tệp thư mục\n",
    "# Nhập danh sách sinh viên từ bàn phím\n",
    "def NhapSV():\n",
    "    file = open(\"svchung.txt\", 'a', encoding = 'utf-8')\n",
    "    while (True):\n",
    "        maSV = input(\"Mã sinh viên: \")\n",
    "        if (maSV ==\"\"):\n",
    "                    break;\n",
    "        tenSV = input(\"Tên sinh viên: \")\n",
    "        Lop = input(\"Lớp: \")\n",
    "        QueQuan = input(\"Quê quán: \")\n",
    "        #Ghi dữ liệu vừa nhập vào tệp\n",
    "    file.write('\\t'.join([maSV, tenSV, Lop, QueQuan]) + '\\n')\n",
    "    file.close()\n",
    "#Đọc dữ liệu từ tệp chung svchung.txt\n",
    "def Doc_DSSV_Tu_File(file):\n",
    "    SV = pd.read_csv(file, sep ='\\t', header=None, names=['Mã_SV', \"Họ_tên_SV\", \"Lớp\", \"Quê_Quán\"])\n",
    "    return SV\n",
    "# Hiển thị danh sách sinh viên của lớp x\n",
    "def HienThi_DSSV_1_Lop(Lop, DSSV):\n",
    "    DSSV_Lop = DSSV.query('Lớp == @Lop')\n",
    "    sosv = DSSV_Lop.shape[0]\n",
    "    if (sosv > 0):\n",
    "        print('Có: ', sosv, ' sinh viên trong lớp: ', Lop)\n",
    "        print(DSSV_Lop)\n",
    "    else:\n",
    "        print('Không có sinh viên nào trong lớp: ', Lop)\n",
    "#Hiển thị danh sách sinh viên có tên là X\n",
    "def HienThi_DSSV_ten(TenSV, DSSV):\n",
    "    DSSV_Ten = DSSV.query('Họ_tên_SV == @TenSV')\n",
    "    sosv = DSSV_Ten.shape[0]\n",
    "    if (sosv > 0):\n",
    "        print('Có: ', sosv, ' sinh viên có tên: ', TenSV)\n",
    "        print(DSSV_Ten)\n",
    "    else:\n",
    "        print('Không có sinh viên nào có tên: ', TenSV)\n",
    "# Ghi dữ liệu vào tệp bảng tính Excel\n",
    "def Ghi_DSSV_vao_File(DSSV):\n",
    "    # Lấy về tất cả tên lớp có trong DataFrame DSSV\n",
    "    DSLop = DSSV['Lớp'].unique()\n",
    "    for lop in DSLop:\n",
    "        # Lấy về danh sách sinh viên thuộc lớp @lop\n",
    "        sv_lop = DSSV.query('Lớp == @Lop')\n",
    "        # ghi danh sách sinh viên thuộc lớp @lop vào file lop.txt\n",
    "        sv_lop.to_csv(lop + '.txt', index = None, encoding = 'utf-8', sep = '\\t')\n",
    "# Nội dung chương trình chính\n",
    "file = \"svchung.txt\"\n",
    "NhapSV()   #Gọi hàm nhập dữ liệu\n",
    "SV = Doc_DSSV_Tu_File(file)   #Gọi hàm đọc danh sách sinh viên\n",
    "# Gọi hàm hiển thị danh sách sinh viên của một lớp\n",
    "HienThi_DSSV_1_Lop('15.1 ', SV)\n",
    "# Gọi hàm hiển thị thông tin của một sinh viên\n",
    "HienThi_DSSV_ten('Nguyễn Thanh Bình ', SV)\n",
    "#Gọi hàm ghi thông tin sinh viên vào các tệp tương ứng với lớp\n",
    "Ghi_DSSV_vao_File(SV)"
   ]
  },
  {
   "cell_type": "code",
   "execution_count": null,
   "id": "64a56612",
   "metadata": {},
   "outputs": [],
   "source": []
  }
 ],
 "metadata": {
  "kernelspec": {
   "display_name": "Python 3 (ipykernel)",
   "language": "python",
   "name": "python3"
  },
  "language_info": {
   "codemirror_mode": {
    "name": "ipython",
    "version": 3
   },
   "file_extension": ".py",
   "mimetype": "text/x-python",
   "name": "python",
   "nbconvert_exporter": "python",
   "pygments_lexer": "ipython3",
   "version": "3.11.7"
  }
 },
 "nbformat": 4,
 "nbformat_minor": 5
}
