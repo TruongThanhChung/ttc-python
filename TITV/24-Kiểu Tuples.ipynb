{
 "cells": [
  {
   "cell_type": "markdown",
   "id": "9a7f6b99-3f46-402c-b6ef-fba5bbb92446",
   "metadata": {},
   "source": [
    "KIỂU DỮ LIỆU TUPLE\n",
    "- Tuple là một chuỗi các phần tử có thứ tự giống như một List. Sự khác biệt duy nhất là bộ giá trị là hằng số. Tuple một khi được tạo ra thì giá trị của nó không thể sửa đổi.\n",
    "- Tuple được sử dụng để bảo vệ dữ liệu và thường nhanh hơn danh sách vì chúng không thể thay đổi động.\n",
    "- Được định nghĩa trong dấu ngoặc đơn (), các mục được phân tách bằng dấu phẩy.\n"
   ]
  },
  {
   "cell_type": "code",
   "execution_count": 1,
   "id": "c4e27b66-b02c-487a-bc1e-ab3485ca9148",
   "metadata": {},
   "outputs": [],
   "source": [
    "gioiTinh = (\"Nam\", \"Nữ\")"
   ]
  },
  {
   "cell_type": "code",
   "execution_count": 2,
   "id": "04eea02a-affc-44bf-8894-56d126c7f8cd",
   "metadata": {},
   "outputs": [],
   "source": [
    "lopHoc = (1, 2, 3, 4, 5, 6, 7, 8, 9, 10, 11, 12)"
   ]
  },
  {
   "cell_type": "code",
   "execution_count": 3,
   "id": "dd775858-1e92-46c2-bfda-879992761a32",
   "metadata": {},
   "outputs": [],
   "source": [
    "traicay = (\"Táo\", \"Chuối\", \"Táo\", \"Cam\", \"Mận\", \"Dưa hấu\")"
   ]
  },
  {
   "cell_type": "code",
   "execution_count": 4,
   "id": "71d27b39-f39b-44a8-bf19-975bf6f6a95e",
   "metadata": {},
   "outputs": [
    {
     "name": "stdout",
     "output_type": "stream",
     "text": [
      "Nam\n"
     ]
    }
   ],
   "source": [
    "print(gioiTinh[0])"
   ]
  },
  {
   "cell_type": "code",
   "execution_count": 5,
   "id": "61746948-ad19-46b4-ada7-966b9d072391",
   "metadata": {},
   "outputs": [
    {
     "name": "stdout",
     "output_type": "stream",
     "text": [
      "('Táo', 'Chuối')\n"
     ]
    }
   ],
   "source": [
    "traicay = (\"Táo\", \"Chuối\", \"Táo\", \"Cam\", \"Mận\", \"Dưa hấu\")\n",
    "print(traicay[0:2])"
   ]
  },
  {
   "cell_type": "markdown",
   "id": "e1750044-f0ca-4e23-8080-87862b566700",
   "metadata": {},
   "source": [
    "Lưu ý: giá trị phần tử của Tuple không thê thay đổi"
   ]
  },
  {
   "cell_type": "code",
   "execution_count": 6,
   "id": "2d57104b-314c-4e19-9f17-c1e812118603",
   "metadata": {},
   "outputs": [
    {
     "ename": "TypeError",
     "evalue": "'tuple' object does not support item assignment",
     "output_type": "error",
     "traceback": [
      "\u001b[1;31m---------------------------------------------------------------------------\u001b[0m",
      "\u001b[1;31mTypeError\u001b[0m                                 Traceback (most recent call last)",
      "Cell \u001b[1;32mIn[6], line 1\u001b[0m\n\u001b[1;32m----> 1\u001b[0m lopHoc[\u001b[38;5;241m0\u001b[39m] \u001b[38;5;241m=\u001b[39m \u001b[38;5;241m13\u001b[39m\n",
      "\u001b[1;31mTypeError\u001b[0m: 'tuple' object does not support item assignment"
     ]
    }
   ],
   "source": [
    "lopHoc[0] = 13"
   ]
  },
  {
   "cell_type": "code",
   "execution_count": null,
   "id": "3112991d-5d3b-46fa-b9c3-888cdafa3cf1",
   "metadata": {},
   "outputs": [],
   "source": [
    "#Chúng ta có thể duyệt từng phần tử trong Tuple bằng vòng lặp\n",
    "for x in traicay:\n",
    "    print(x)"
   ]
  },
  {
   "cell_type": "code",
   "execution_count": null,
   "id": "e150983a-56de-4296-aefd-1d3019c1b438",
   "metadata": {},
   "outputs": [],
   "source": [
    "# Cộng hai Tuple\n",
    "y = (1, 2, 3) + (4, 5, 6)\n",
    "print(y)"
   ]
  },
  {
   "cell_type": "code",
   "execution_count": null,
   "id": "8c60fbc7-b4d3-49fa-b276-49d9d0692eb0",
   "metadata": {},
   "outputs": [],
   "source": [
    "# Nhân hai Tuple\n",
    "y = (1, 2, 3) * 2\n",
    "print(y)"
   ]
  },
  {
   "cell_type": "code",
   "execution_count": null,
   "id": "3cd924d1-9956-474f-969c-92929b8f034a",
   "metadata": {},
   "outputs": [],
   "source": [
    "# Có thể sử dụng toán tử in để kiểm tra 1 phần tử có trong Tuple\n",
    "print(\"Táo\" in traicay)\n",
    "print(13 in lopHoc)"
   ]
  },
  {
   "cell_type": "code",
   "execution_count": null,
   "id": "ed36d138-2963-48c8-a2fa-aeacd93bcf49",
   "metadata": {},
   "outputs": [],
   "source": [
    "# Lấy độ dài Tuple\n",
    "x = len(traicay)\n",
    "print(x)"
   ]
  },
  {
   "cell_type": "code",
   "execution_count": null,
   "id": "f9b280b3-bb38-486c-97bd-1e07220611f8",
   "metadata": {},
   "outputs": [],
   "source": [
    "# Đếm số lượt xuất hiện\n",
    "print(\"Số Táo là: \", traicay.count(\"Táo\"))"
   ]
  },
  {
   "cell_type": "code",
   "execution_count": null,
   "id": "bd6e695a-3a5b-47af-a8ab-e94006422671",
   "metadata": {},
   "outputs": [],
   "source": [
    "# Tìm min, max, tính sum\n",
    "print(min(gioiTinh))\n",
    "print(max(traicay))\n",
    "print(min(lopHoc))\n",
    "print(max(lopHoc))\n",
    "print(sum(lopHoc))"
   ]
  },
  {
   "cell_type": "code",
   "execution_count": null,
   "id": "1e33f2da-0fdf-4816-8e6e-9ceebcc51352",
   "metadata": {},
   "outputs": [],
   "source": [
    "# sắp xếp\n",
    "sx = sorted(traicay)\n",
    "print(sx)"
   ]
  },
  {
   "cell_type": "code",
   "execution_count": null,
   "id": "6b54dc33-0e62-4286-916a-3373a0423a3d",
   "metadata": {},
   "outputs": [],
   "source": []
  }
 ],
 "metadata": {
  "kernelspec": {
   "display_name": "Python 3 (ipykernel)",
   "language": "python",
   "name": "python3"
  },
  "language_info": {
   "codemirror_mode": {
    "name": "ipython",
    "version": 3
   },
   "file_extension": ".py",
   "mimetype": "text/x-python",
   "name": "python",
   "nbconvert_exporter": "python",
   "pygments_lexer": "ipython3",
   "version": "3.11.7"
  }
 },
 "nbformat": 4,
 "nbformat_minor": 5
}
