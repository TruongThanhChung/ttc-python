{
 "cells": [
  {
   "cell_type": "code",
   "execution_count": 1,
   "id": "10149a13",
   "metadata": {},
   "outputs": [
    {
     "name": "stdout",
     "output_type": "stream",
     "text": [
      "<sqlite3.Connection object at 0x0000028D03B31B70>\n"
     ]
    }
   ],
   "source": [
    "import sqlite3\n",
    "#kết nối với csdl\n",
    "conn = sqlite3.connect('D:/Setup/WWW.Tự học CNTT/Python/Database/student.db')\n",
    "print(conn)"
   ]
  },
  {
   "cell_type": "code",
   "execution_count": 2,
   "id": "0fdfbf96",
   "metadata": {},
   "outputs": [
    {
     "data": {
      "text/plain": [
       "<sqlite3.Cursor at 0x28d03cc4c40>"
      ]
     },
     "execution_count": 2,
     "metadata": {},
     "output_type": "execute_result"
    }
   ],
   "source": [
    "# Tạo thông tin lớp học\n",
    "# Tạo table\n",
    "c = conn.cursor()\n",
    "\n",
    "#Xóa table nếu như đã tồn tại\n",
    "c.execute(\"DROP TABLE IF EXISTS lop_hoc\")\n",
    "\n",
    "# Tạo mới table\n",
    "sql = '''\n",
    "    CREATE TABLE lop_hoc (\n",
    "    ma_lop TEXT(20) NOT NULL PRIMARY KEY,\n",
    "    ten_lop TEXT(250) NULL DEFAUlT NULL\n",
    "    )\n",
    "'''\n",
    "c.execute(sql)"
   ]
  },
  {
   "cell_type": "code",
   "execution_count": 3,
   "id": "beaabd91",
   "metadata": {},
   "outputs": [],
   "source": [
    "# Tạo thông tin lớp học\n",
    "# Tạo table\n",
    "c = conn.cursor()\n",
    "\n",
    "#Xóa table nếu như đã tồn tại\n",
    "c.execute(\"DROP TABLE IF EXISTS lop_hoc\")\n",
    "\n",
    "# Tạo mới table\n",
    "sql = '''\n",
    "    CREATE TABLE lop_hoc (\n",
    "    ma_lop TEXT(20) NOT NULL PRIMARY KEY,\n",
    "    ten_lop TEXT(250) NULL DEFAUlT NULL\n",
    "    )\n",
    "'''\n",
    "c.execute(sql)\n",
    "# INSERT DỮ LIỆU\n",
    "sql = '''\n",
    "    INSERT INTO lop_hoc(ma_lop, ten_lop)\n",
    "    VALUES\n",
    "        (\"Python\", \"Lập trình Python\"),\n",
    "        (\"JSP\", \"Lập trình JSP\");\n",
    "\n",
    "'''\n",
    "c.execute(sql)\n",
    "# Thêm lệnh để dữ liệu được đẩy đi\n",
    "conn.commit()"
   ]
  },
  {
   "cell_type": "code",
   "execution_count": 4,
   "id": "fd429429",
   "metadata": {},
   "outputs": [],
   "source": [
    "# Tạo thông tin sinhvien\n",
    "# Tạo table\n",
    "c = conn.cursor()\n",
    "\n",
    "#Xóa table nếu như đã tồn tại\n",
    "c.execute(\"DROP TABLE IF EXISTS sinh_vien\")\n",
    "\n",
    "# Tạo mới table\n",
    "sql = '''\n",
    "    CREATE TABLE sinh_vien (\n",
    "    ma_sv TEXT(20) NOT NULL PRIMARY KEY,\n",
    "    ho_va_ten TEXT(250) NULL DEFAUlT NULL,\n",
    "    ngay_sinh DATE NULL DEFAUlT NULL,\n",
    "    ma_lop TEXT(20) NOT NULL,\n",
    "    FOREIGN KEY(ma_lop) REFERENCES lop_hoc(ma_lop)\n",
    "    )\n",
    "'''\n",
    "c.execute(sql)\n",
    "# INSERT DỮ LIỆU\n",
    "sql = '''\n",
    "    INSERT INTO sinh_vien(ma_sv, ho_va_ten, ngay_sinh, ma_lop)\n",
    "    VALUES\n",
    "        (\"s01\", \"Nguyễn Văn A\", 1999-01-15, \"Python\"),\n",
    "        (\"s02\", \"Đặng Thanh Bình\", 1999-10-20, \"JSP\"),\n",
    "        (\"s03\", \"Bùi Công\", 1999-03-12, \"JSP\"),\n",
    "        (\"s04\", \"Đào Minh Dương\", 1999-07-15, \"Python\"),\n",
    "        (\"s05\", \"Phan Định\", 1999-05-26, \"JSP\");       \n",
    "\n",
    "'''\n",
    "c.execute(sql)\n",
    "# Thêm lệnh để dữ liệu được đẩy đi\n",
    "conn.commit()"
   ]
  },
  {
   "cell_type": "code",
   "execution_count": null,
   "id": "f531a6d9",
   "metadata": {},
   "outputs": [],
   "source": []
  }
 ],
 "metadata": {
  "kernelspec": {
   "display_name": "Python 3 (ipykernel)",
   "language": "python",
   "name": "python3"
  },
  "language_info": {
   "codemirror_mode": {
    "name": "ipython",
    "version": 3
   },
   "file_extension": ".py",
   "mimetype": "text/x-python",
   "name": "python",
   "nbconvert_exporter": "python",
   "pygments_lexer": "ipython3",
   "version": "3.11.7"
  }
 },
 "nbformat": 4,
 "nbformat_minor": 5
}
