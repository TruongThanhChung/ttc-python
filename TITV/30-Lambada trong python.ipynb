{
 "cells": [
  {
   "cell_type": "markdown",
   "id": "53d3f21f",
   "metadata": {},
   "source": [
    "Một hàm lambda là một hàm ẩn danh nhỏ\n",
    "Một hàm lambda có thể nhận bất kỳ đối số nào, nhưng chỉ có thể có một biểu thức\n",
    "Cú pháp: \n",
    "lambda arguments : expression"
   ]
  },
  {
   "cell_type": "code",
   "execution_count": 2,
   "id": "0a96054a",
   "metadata": {},
   "outputs": [
    {
     "name": "stdout",
     "output_type": "stream",
     "text": [
      "False\n",
      "True\n"
     ]
    }
   ],
   "source": [
    "kiemtraSoChan = lambda a : (a%2 ==0)\n",
    "print(kiemtraSoChan(5))\n",
    "print(kiemtraSoChan(4))"
   ]
  },
  {
   "cell_type": "code",
   "execution_count": 3,
   "id": "fa4fde09",
   "metadata": {},
   "outputs": [
    {
     "name": "stdout",
     "output_type": "stream",
     "text": [
      "11\n",
      "-5\n"
     ]
    }
   ],
   "source": [
    "tinhTong = lambda a, b : (a + b)\n",
    "print(tinhTong(5, 6))\n",
    "print(tinhTong(-3, -2))"
   ]
  },
  {
   "cell_type": "code",
   "execution_count": 5,
   "id": "7acb8a8f",
   "metadata": {},
   "outputs": [
    {
     "name": "stdout",
     "output_type": "stream",
     "text": [
      "9\n",
      "27\n",
      "81\n"
     ]
    }
   ],
   "source": [
    "# ví dụ sử dụng lambda bên trong các function\n",
    "def hamMu(n):\n",
    "    return lambda x : (x**n)\n",
    "hamMu2 = hamMu(2)\n",
    "hamMu3 = hamMu(3)\n",
    "hamMu4 = hamMu(4)\n",
    "print(hamMu2(3))\n",
    "print(hamMu3(3))\n",
    "print(hamMu4(3))"
   ]
  },
  {
   "cell_type": "code",
   "execution_count": null,
   "id": "ef1a44a6",
   "metadata": {},
   "outputs": [],
   "source": []
  }
 ],
 "metadata": {
  "kernelspec": {
   "display_name": "Python 3 (ipykernel)",
   "language": "python",
   "name": "python3"
  },
  "language_info": {
   "codemirror_mode": {
    "name": "ipython",
    "version": 3
   },
   "file_extension": ".py",
   "mimetype": "text/x-python",
   "name": "python",
   "nbconvert_exporter": "python",
   "pygments_lexer": "ipython3",
   "version": "3.11.7"
  }
 },
 "nbformat": 4,
 "nbformat_minor": 5
}
