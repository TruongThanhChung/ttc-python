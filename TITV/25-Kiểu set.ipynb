{
 "cells": [
  {
   "cell_type": "markdown",
   "id": "2967c89d-bf02-43e4-a367-b78c89f3c242",
   "metadata": {},
   "source": [
    "''' Kiểu dữ liệu set\n",
    "- Sét là một trong 4 kiểu dữ lịch tích hợp sẵn trong Python, dùng để lưu trữ các tập hợp dữ liệu. 3 kiểu còn lại là List, Tuple và Dictionary, tất cả đều có chất lượng và cách sử dụng khác nhau.\n",
    "- Set là tập hợp không có thứ tự, giá trị không được trùng nhau, không thể thay đổi * và không được lập chỉ mục\n",
    "Lưu ý: các mục set là không thể thay đổi, nhưng bạn có thể xóa các mục và thêm các mục mới.\n",
    "'''"
   ]
  },
  {
   "cell_type": "code",
   "execution_count": 1,
   "id": "2bd9ec82-bf6d-4ec2-89fd-db25b168d452",
   "metadata": {},
   "outputs": [
    {
     "name": "stdout",
     "output_type": "stream",
     "text": [
      "{'Hóa', 'Toán', 'Lý'}\n"
     ]
    }
   ],
   "source": [
    "monHoc = {\"Toán\", \"Lý\", \"Hóa\"}\n",
    "print(monHoc)"
   ]
  },
  {
   "cell_type": "code",
   "execution_count": 2,
   "id": "4387540d-cbb5-4881-a8bb-1b55c0c4cef7",
   "metadata": {},
   "outputs": [
    {
     "name": "stdout",
     "output_type": "stream",
     "text": [
      "Hóa\n",
      "Toán\n",
      "Lý\n"
     ]
    }
   ],
   "source": [
    "# Duyệt\n",
    "for i in monHoc:\n",
    "    print(i)"
   ]
  },
  {
   "cell_type": "code",
   "execution_count": 3,
   "id": "0a397079-0b08-4838-900f-71ef926d27a6",
   "metadata": {},
   "outputs": [
    {
     "name": "stdout",
     "output_type": "stream",
     "text": [
      "{'Hóa', 'Toán', 'Lịch sử', 'Lý'}\n"
     ]
    }
   ],
   "source": [
    "# Thêm 1 phần tử\n",
    "monHoc.add(\"Lịch sử\")\n",
    "print(monHoc)"
   ]
  },
  {
   "cell_type": "code",
   "execution_count": 4,
   "id": "4c35e9ea-c534-4c6b-8cb3-f8c09566bb0f",
   "metadata": {},
   "outputs": [
    {
     "name": "stdout",
     "output_type": "stream",
     "text": [
      "{'Hóa', 'Đàn piano', 'Toán', 'Anh văn', 'Lịch sử', 'Lý'}\n"
     ]
    }
   ],
   "source": [
    "# Thêm 1 tập hợp khác hoặc 1 list khác\n",
    "hocThem = {\"Anh văn\", \"Đàn piano\"}\n",
    "monHoc.update(hocThem)\n",
    "print(monHoc)"
   ]
  },
  {
   "cell_type": "code",
   "execution_count": 5,
   "id": "c6b4fb21-e82f-4d48-b9a9-d94aa93d3771",
   "metadata": {},
   "outputs": [
    {
     "name": "stdout",
     "output_type": "stream",
     "text": [
      "['Võ thuật', 'Múa', 'Võ thuật']\n",
      "{'Hóa', 'Đàn piano', 'Múa', 'Toán', 'Võ thuật', 'Anh văn', 'Lịch sử', 'Lý'}\n"
     ]
    }
   ],
   "source": [
    "# Thêm list\n",
    "hocPhuDao = [\"Võ thuật\", \"Múa\", \"Võ thuật\"]\n",
    "print(hocPhuDao)\n",
    "monHoc.update(hocPhuDao)\n",
    "print(monHoc)"
   ]
  },
  {
   "cell_type": "code",
   "execution_count": 6,
   "id": "5f198656-0f62-4aed-b530-9e0cadfe58bb",
   "metadata": {},
   "outputs": [
    {
     "name": "stdout",
     "output_type": "stream",
     "text": [
      "{'Hóa', 'Đàn piano', 'Toán', 'Võ thuật', 'Anh văn', 'Lịch sử', 'Lý'}\n"
     ]
    },
    {
     "ename": "KeyError",
     "evalue": "'Sinh học'",
     "output_type": "error",
     "traceback": [
      "\u001b[1;31m---------------------------------------------------------------------------\u001b[0m",
      "\u001b[1;31mKeyError\u001b[0m                                  Traceback (most recent call last)",
      "Cell \u001b[1;32mIn[6], line 4\u001b[0m\n\u001b[0;32m      2\u001b[0m monHoc\u001b[38;5;241m.\u001b[39mremove(\u001b[38;5;124m\"\u001b[39m\u001b[38;5;124mMúa\u001b[39m\u001b[38;5;124m\"\u001b[39m)\n\u001b[0;32m      3\u001b[0m \u001b[38;5;28mprint\u001b[39m(monHoc)\n\u001b[1;32m----> 4\u001b[0m monHoc\u001b[38;5;241m.\u001b[39mremove(\u001b[38;5;124m\"\u001b[39m\u001b[38;5;124mSinh học\u001b[39m\u001b[38;5;124m\"\u001b[39m)\n\u001b[0;32m      5\u001b[0m \u001b[38;5;28mprint\u001b[39m(monHoc)\n",
      "\u001b[1;31mKeyError\u001b[0m: 'Sinh học'"
     ]
    }
   ],
   "source": [
    "# Xóa phần tử\n",
    "monHoc.remove(\"Múa\")\n",
    "print(monHoc)\n",
    "monHoc.remove(\"Sinh học\")\n",
    "print(monHoc)"
   ]
  },
  {
   "cell_type": "code",
   "execution_count": null,
   "id": "3ff6301d-c64f-4a52-a9da-1d7c5e9d63f5",
   "metadata": {},
   "outputs": [],
   "source": [
    "# Xóa phần tử\n",
    "print(monHoc)\n",
    "monHoc.discard(\"Múa\")\n",
    "print(monHoc)\n",
    "monHoc.discard(\"Toán\")\n",
    "print(monHoc)"
   ]
  },
  {
   "cell_type": "code",
   "execution_count": null,
   "id": "cb73959a-c5ee-4178-b4f0-38213074b7f8",
   "metadata": {},
   "outputs": [],
   "source": [
    "# Xóa phần tử phía đầu\n",
    "print(monHoc)\n",
    "monHoc.pop()\n",
    "print(monHoc)"
   ]
  },
  {
   "cell_type": "code",
   "execution_count": null,
   "id": "ee23594a-b8e0-441a-bc4f-75bcd9bbeb16",
   "metadata": {},
   "outputs": [],
   "source": [
    "# Xóa phần tử phía đầu\n",
    "monHoc.pop()\n",
    "print(monHoc)"
   ]
  },
  {
   "cell_type": "code",
   "execution_count": null,
   "id": "1e382008-dded-4355-8103-74f232dc0543",
   "metadata": {},
   "outputs": [],
   "source": [
    "# Xóa toàn bộ\n",
    "monHoc.clear()\n",
    "print(monHoc)"
   ]
  },
  {
   "cell_type": "code",
   "execution_count": null,
   "id": "f1e8b621-f45d-4a1d-9d25-58bbdc7a0d71",
   "metadata": {},
   "outputs": [],
   "source": [
    "# Xóa biến\n",
    "del monHoc\n",
    "print(monHoc)"
   ]
  },
  {
   "cell_type": "code",
   "execution_count": null,
   "id": "b164727d-4293-45b0-a89c-c3834bc201ba",
   "metadata": {},
   "outputs": [],
   "source": []
  }
 ],
 "metadata": {
  "kernelspec": {
   "display_name": "Python 3 (ipykernel)",
   "language": "python",
   "name": "python3"
  },
  "language_info": {
   "codemirror_mode": {
    "name": "ipython",
    "version": 3
   },
   "file_extension": ".py",
   "mimetype": "text/x-python",
   "name": "python",
   "nbconvert_exporter": "python",
   "pygments_lexer": "ipython3",
   "version": "3.11.7"
  }
 },
 "nbformat": 4,
 "nbformat_minor": 5
}
