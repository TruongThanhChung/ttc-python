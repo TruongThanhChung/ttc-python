{
 "cells": [
  {
   "cell_type": "code",
   "execution_count": null,
   "id": "422de0af",
   "metadata": {},
   "outputs": [],
   "source": [
    "try:\n",
    "    # Đoạn code dự đoán có lỗi\n",
    "except:\n",
    "    # Hành động khi lỗi xảy ra\n",
    "else\n",
    "    # Thực thi đoạn này nếu như mã có lỗi\n",
    "finally:\n",
    "    # cho phép bạn thực thi mã, bất kể kết quả của các khối try có lỗi hay không"
   ]
  },
  {
   "cell_type": "code",
   "execution_count": 1,
   "id": "535f70af",
   "metadata": {},
   "outputs": [
    {
     "name": "stdout",
     "output_type": "stream",
     "text": [
      "Nhập vào số nguyên a =5\n",
      "b = 5 + 2 = 7\n"
     ]
    }
   ],
   "source": [
    "a = int(input(\"Nhập vào số nguyên a =\"))\n",
    "b = a + 2\n",
    "print(\"b = {0} + 2 = {1}\".format(a, b))"
   ]
  },
  {
   "cell_type": "code",
   "execution_count": null,
   "id": "b35d9b48",
   "metadata": {},
   "outputs": [
    {
     "name": "stdout",
     "output_type": "stream",
     "text": [
      "Nhập vào số nguyên a = 5\n",
      "b = 5 + 2 = 7\n",
      "Không có lỗi xảy ra!\n",
      "Kết thúc chương trình!\n",
      "Nhập vào số nguyên a = 10\n",
      "b = 10 + 2 = 12\n",
      "Không có lỗi xảy ra!\n",
      "Kết thúc chương trình!\n",
      "Nhập vào số nguyên a = số mười\n",
      "Ôi hỏng, Lỗi!! Vui lòng nhập lại! \n",
      "Kết thúc chương trình!\n"
     ]
    }
   ],
   "source": [
    "while (True):\n",
    "    try:\n",
    "        a = int(input(\"Nhập vào số nguyên a = \"))\n",
    "        b = a + 2\n",
    "        print(\"b = {0} + 2 = {1}\".format(a, b))\n",
    "    except: \n",
    "        print(\"Ôi hỏng, Lỗi!! Vui lòng nhập lại! \")\n",
    "        continue;\n",
    "    else:\n",
    "        print(\"Không có lỗi xảy ra!\")\n",
    "    finally:\n",
    "        print(\"Kết thúc chương trình!\")"
   ]
  },
  {
   "cell_type": "code",
   "execution_count": null,
   "id": "af815b67",
   "metadata": {},
   "outputs": [],
   "source": []
  }
 ],
 "metadata": {
  "kernelspec": {
   "display_name": "Python 3 (ipykernel)",
   "language": "python",
   "name": "python3"
  },
  "language_info": {
   "codemirror_mode": {
    "name": "ipython",
    "version": 3
   },
   "file_extension": ".py",
   "mimetype": "text/x-python",
   "name": "python",
   "nbconvert_exporter": "python",
   "pygments_lexer": "ipython3",
   "version": "3.11.7"
  }
 },
 "nbformat": 4,
 "nbformat_minor": 5
}
