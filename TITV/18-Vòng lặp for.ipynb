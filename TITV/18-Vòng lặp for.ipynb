{
 "cells": [
  {
   "cell_type": "code",
   "execution_count": 1,
   "id": "7fb97c76-7198-4812-b8bd-15f59324ede0",
   "metadata": {},
   "outputs": [
    {
     "name": "stdout",
     "output_type": "stream",
     "text": [
      "0\n",
      "1\n",
      "2\n",
      "3\n",
      "4\n",
      "5\n",
      "6\n",
      "7\n",
      "8\n",
      "9\n",
      "10\n",
      "11\n",
      "12\n",
      "13\n",
      "14\n",
      "15\n",
      "16\n",
      "17\n",
      "18\n",
      "19\n"
     ]
    }
   ],
   "source": [
    "# in ra màn hình từ số 1 đến 20\n",
    "for i in range(20):\n",
    "    print(i)"
   ]
  },
  {
   "cell_type": "code",
   "execution_count": 1,
   "id": "29701667-a558-4244-9691-f379b1f2e643",
   "metadata": {},
   "outputs": [
    {
     "name": "stdout",
     "output_type": "stream",
     "text": [
      "0\n",
      "1\n",
      "2\n",
      "3\n",
      "4\n",
      "5\n",
      "6\n",
      "7\n",
      "8\n",
      "9\n",
      "10\n",
      "11\n",
      "12\n",
      "13\n",
      "14\n",
      "15\n",
      "16\n",
      "17\n",
      "18\n",
      "19\n"
     ]
    }
   ],
   "source": [
    "n = 20\n",
    "for i in range(n):\n",
    "    print(i)\n"
   ]
  },
  {
   "cell_type": "code",
   "execution_count": 2,
   "id": "36c11bcc-fd59-458c-9e94-e29ab3e70e25",
   "metadata": {},
   "outputs": [
    {
     "name": "stdout",
     "output_type": "stream",
     "text": [
      "0\n",
      "2\n",
      "4\n",
      "6\n",
      "8\n",
      "10\n",
      "12\n",
      "14\n",
      "16\n",
      "18\n"
     ]
    }
   ],
   "source": [
    "# in ra màn hình với bước nhảy 2, từ trái qua phải\n",
    "n = 20\n",
    "for i in range(0, n, 2):\n",
    "    print(i)"
   ]
  },
  {
   "cell_type": "code",
   "execution_count": 18,
   "id": "119195ea-dc09-4d49-9338-a12a6867b848",
   "metadata": {},
   "outputs": [
    {
     "name": "stdout",
     "output_type": "stream",
     "text": [
      "20\n",
      "17\n",
      "14\n",
      "11\n",
      "8\n",
      "5\n",
      "2\n"
     ]
    }
   ],
   "source": [
    "# in ra màn hình với bước nhảy 3, từ phải qua trái\n",
    "n = 20\n",
    "for i in range(20, 0, -3):\n",
    "    print(i)"
   ]
  },
  {
   "cell_type": "code",
   "execution_count": 16,
   "id": "60584bcf-90bc-448d-a879-fb0e3cfdfcb0",
   "metadata": {},
   "outputs": [
    {
     "name": "stdin",
     "output_type": "stream",
     "text": [
      "nhập vào số n =  10\n"
     ]
    },
    {
     "name": "stdout",
     "output_type": "stream",
     "text": [
      "Tổng =  0\n",
      "Tổng =  2\n",
      "Tổng =  6\n",
      "Tổng =  12\n",
      "Tổng =  20\n",
      "Tổng =  30\n"
     ]
    }
   ],
   "source": [
    "# tính tổng\n",
    "n = int(input(\"nhập vào số n = \"))\n",
    "tong = 0\n",
    "for i in range(0, n+1, 2):\n",
    "    tong+= i\n",
    "    print(\"Tổng = \", tong)"
   ]
  },
  {
   "cell_type": "code",
   "execution_count": 17,
   "id": "a7f5fa4e-6c87-4f75-b2ae-4cebe32774a5",
   "metadata": {},
   "outputs": [
    {
     "name": "stdin",
     "output_type": "stream",
     "text": [
      "nhập vào số n =  10\n"
     ]
    },
    {
     "name": "stdout",
     "output_type": "stream",
     "text": [
      "Tổng =  30\n"
     ]
    }
   ],
   "source": [
    "# tính tổng\n",
    "n = int(input(\"nhập vào số n = \"))\n",
    "tong = 0\n",
    "for i in range(0, n+1, 2):\n",
    "    tong+= i\n",
    "print(\"Tổng = \", tong)"
   ]
  },
  {
   "cell_type": "code",
   "execution_count": 20,
   "id": "9d5cfc52-39da-4498-8a00-8d41f8f5d374",
   "metadata": {},
   "outputs": [
    {
     "name": "stdout",
     "output_type": "stream",
     "text": [
      "Màu = Đỏ\n",
      "Màu = Xanh\n",
      "Màu = Đen\n",
      "Màu = Vàng\n",
      "Màu = Trắng\n",
      "Màu = Tím\n",
      "Màu = Hồng\n"
     ]
    }
   ],
   "source": [
    "#Duyệt phần tử theo vị trí\n",
    "colors = [\"Đỏ\", \"Xanh\", \"Đen\", \"Vàng\", \"Trắng\", \"Tím\", \"Hồng\"]\n",
    "for color in colors:\n",
    "    print(\"Màu =\", color)"
   ]
  },
  {
   "cell_type": "code",
   "execution_count": 26,
   "id": "1a513ab8-0b9a-47de-a17a-c16c77fe39f8",
   "metadata": {},
   "outputs": [
    {
     "name": "stdout",
     "output_type": "stream",
     "text": [
      "Màu = Đen\n",
      "Màu = Đen\n",
      "Màu = Đen\n",
      "Màu = Đen\n",
      "Màu = Đen\n",
      "Màu = Đen\n",
      "Màu = Đen\n"
     ]
    }
   ],
   "source": [
    "#Duyệt phần tử theo vị trí\n",
    "colors = [\"Đỏ\", \"Xanh\", \"Đen\", \"Vàng\", \"Trắng\", \"Tím\", \"Hồng\"]\n",
    "for i in range(len(colors)):\n",
    "    print(\"Màu =\", colors[2])"
   ]
  },
  {
   "cell_type": "code",
   "execution_count": null,
   "id": "5b1a9f96-e7eb-422b-bab7-45c7f8a5deab",
   "metadata": {},
   "outputs": [],
   "source": []
  }
 ],
 "metadata": {
  "kernelspec": {
   "display_name": "Python 3 (ipykernel)",
   "language": "python",
   "name": "python3"
  },
  "language_info": {
   "codemirror_mode": {
    "name": "ipython",
    "version": 3
   },
   "file_extension": ".py",
   "mimetype": "text/x-python",
   "name": "python",
   "nbconvert_exporter": "python",
   "pygments_lexer": "ipython3",
   "version": "3.11.7"
  }
 },
 "nbformat": 4,
 "nbformat_minor": 5
}
