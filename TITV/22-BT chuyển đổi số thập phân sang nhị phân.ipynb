{
 "cells": [
  {
   "cell_type": "code",
   "execution_count": null,
   "id": "d5dfda25-6d3c-4a43-8647-71e0e3ac86b9",
   "metadata": {},
   "outputs": [],
   "source": [
    "# doi so thap phan qua nhi phan\n",
    "n = -1\n",
    "while(n<=0):\n",
    "    n = int(input(\" nhap so n > 0 :\" ))\n",
    "x=n\n",
    "ketqua = \"\"\n",
    "while(n>0):\n",
    "    ketqua = str(n%2) + ketqua\n",
    "    n=n//2\n",
    "print(\" so nhi phan cua \", x,\"la \", ketqua)"
   ]
  },
  {
   "cell_type": "code",
   "execution_count": 2,
   "id": "c27af555-92d7-49c5-9cd0-69f0323de87d",
   "metadata": {},
   "outputs": [
    {
     "name": "stdin",
     "output_type": "stream",
     "text": [
      "Nhập vào số n :  20\n"
     ]
    },
    {
     "name": "stdout",
     "output_type": "stream",
     "text": [
      "10100\n"
     ]
    }
   ],
   "source": [
    "n=int(input(\"Nhập vào số n : \"))\n",
    "nhi_Phan=\"\";\n",
    "while n>0:\n",
    "    tmp=str(n%2)\n",
    "    nhi_Phan=tmp+nhi_Phan\n",
    "    n=n//2\n",
    "print(nhi_Phan)"
   ]
  },
  {
   "cell_type": "code",
   "execution_count": 5,
   "id": "ddd3034d-cf19-4a34-a899-a5732c172630",
   "metadata": {},
   "outputs": [
    {
     "name": "stdin",
     "output_type": "stream",
     "text": [
      "Nhập vào n > 0:  10\n"
     ]
    },
    {
     "name": "stdout",
     "output_type": "stream",
     "text": [
      "n%2 =  0\n",
      "n =  5\n",
      "n%2 =  1\n",
      "n =  2\n",
      "n%2 =  0\n",
      "n =  1\n",
      "n%2 =  1\n",
      "n =  0\n",
      "Kết quả:  1010\n"
     ]
    }
   ],
   "source": [
    "#Nhập n >0\n",
    "n = -1\n",
    "while (n <= 0):\n",
    "    n = int(input(\"Nhập vào n > 0: \"))\n",
    "#Chuyển thập phân sang nhị phân:\n",
    "ketqua = \"\"\n",
    "x = n\n",
    "while (n>0): \n",
    "    ketqua = str(n%2) + ketqua\n",
    "    print(\"n%2 = \", n%2)\n",
    "    n = n//2 \n",
    "    print(\"n = \", n)\n",
    "print(\"Kết quả: \", ketqua)"
   ]
  },
  {
   "cell_type": "code",
   "execution_count": null,
   "id": "91a94a03-6fde-46dd-89b2-626711c3aef9",
   "metadata": {},
   "outputs": [],
   "source": []
  }
 ],
 "metadata": {
  "kernelspec": {
   "display_name": "Python 3 (ipykernel)",
   "language": "python",
   "name": "python3"
  },
  "language_info": {
   "codemirror_mode": {
    "name": "ipython",
    "version": 3
   },
   "file_extension": ".py",
   "mimetype": "text/x-python",
   "name": "python",
   "nbconvert_exporter": "python",
   "pygments_lexer": "ipython3",
   "version": "3.11.7"
  }
 },
 "nbformat": 4,
 "nbformat_minor": 5
}
