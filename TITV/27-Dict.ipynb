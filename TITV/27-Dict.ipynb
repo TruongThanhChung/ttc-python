{
 "cells": [
  {
   "cell_type": "markdown",
   "id": "1c653a2b-2221-44fd-81cb-16b62741f7be",
   "metadata": {},
   "source": [
    "''' \n",
    "- Từ điển được sử dụng để lưu trữ các giá trị dữ liệu trong các cặp:  key.value.\n",
    "- Từ điển là một tập hợp được sắp xếp theo thứ tự *, có thể thay đổi và không cho phép trùng lặp.\n",
    "- Kể từ phiên bản Python 3.7, các từ điển được sắp xếp theo thứ tụ.\n",
    "- Từ điển được viết bằng dấu ngoặc nhọn {} và có các khóa và các giá trị.\n",
    "- Từ điển có thể thay đổi, nghĩa là chúng ta có thể thay đổi, thêm hoặc bớt các mục sau khi từ điển đã được tạo.\n",
    "'''"
   ]
  },
  {
   "cell_type": "code",
   "execution_count": 2,
   "id": "9b725363-c115-44a0-9438-22a03c13c3e6",
   "metadata": {},
   "outputs": [
    {
     "name": "stdout",
     "output_type": "stream",
     "text": [
      "NGUYỄN VĂN AN\n",
      "{'hoVaTen': 'NGUYỄN VĂN AN', 'maLop': 'DH01', 'diemTB': '8.5'}\n"
     ]
    }
   ],
   "source": [
    "sinhVien = {\n",
    "    \"hoVaTen\": \"NGUYỄN VĂN AN\",\n",
    "    \"maLop\": \"DH01\",\n",
    "    \"diemTB\": \"8.5\"\n",
    "}\n",
    "print(sinhVien[\"hoVaTen\"])\n",
    "print(sinhVien)    "
   ]
  },
  {
   "cell_type": "code",
   "execution_count": 3,
   "id": "27fe64a1-0f2a-47b4-a8a7-d958fabd3efe",
   "metadata": {},
   "outputs": [
    {
     "name": "stdout",
     "output_type": "stream",
     "text": [
      "DH01\n"
     ]
    }
   ],
   "source": [
    "# Sử dụng get để lấy giá trị\n",
    "print(sinhVien.get(\"maLop\"))"
   ]
  },
  {
   "cell_type": "code",
   "execution_count": 4,
   "id": "5007325a-31ae-410e-b680-8050ab127703",
   "metadata": {},
   "outputs": [
    {
     "name": "stdout",
     "output_type": "stream",
     "text": [
      "DH02\n",
      "9.5\n"
     ]
    }
   ],
   "source": [
    "# Thay đổi giá trị (Cách 1)\n",
    "sinhVien[\"diemTB\"] = 9.5\n",
    "sinhVien[\"maLop\"] = \"DH02\"\n",
    "print(sinhVien[\"maLop\"])\n",
    "print(sinhVien[\"diemTB\"])"
   ]
  },
  {
   "cell_type": "code",
   "execution_count": 5,
   "id": "cf7d0082-bcc1-4595-acf9-ec03b028469f",
   "metadata": {},
   "outputs": [
    {
     "name": "stdout",
     "output_type": "stream",
     "text": [
      "{'hoVaTen': 'NGUYỄN VĂN AN', 'maLop': 'DH03', 'diemTB': '9.0', 'noiSinh': 'Trà Vinh', 'namHoc': 2024}\n"
     ]
    }
   ],
   "source": [
    "# Thêm và thay đổi đổi giá trị (Cách 2)\n",
    "sinhVien.update({\"maLop\": \"DH03\", \"diemTB\": \"9.0\", \"noiSinh\": \"Trà Vinh\", \"namHoc\": 2024})\n",
    "print(sinhVien)"
   ]
  },
  {
   "cell_type": "code",
   "execution_count": 6,
   "id": "3d998440-dc35-43bb-8602-f7f6297e67da",
   "metadata": {},
   "outputs": [
    {
     "name": "stdout",
     "output_type": "stream",
     "text": [
      "{'hoVaTen': 'NGUYỄN VĂN AN', 'maLop': 'DH03', 'diemTB': '9.0', 'namHoc': 2024}\n"
     ]
    }
   ],
   "source": [
    "#Xóa mục khỏi từ điển\n",
    "sinhVien.pop(\"noiSinh\")\n",
    "print(sinhVien)"
   ]
  },
  {
   "cell_type": "code",
   "execution_count": 7,
   "id": "79e5022a-3944-4dfd-8dae-1e86bb07e79c",
   "metadata": {},
   "outputs": [
    {
     "name": "stdout",
     "output_type": "stream",
     "text": [
      "{'hoVaTen': 'NGUYỄN VĂN AN', 'maLop': 'DH03', 'diemTB': '9.0'}\n"
     ]
    }
   ],
   "source": [
    "#Xóa key values cuối cùng\n",
    "sinhVien.popitem()\n",
    "print(sinhVien)"
   ]
  },
  {
   "cell_type": "code",
   "execution_count": 8,
   "id": "d93edf15-c599-4950-98cb-47d28f08681c",
   "metadata": {},
   "outputs": [
    {
     "name": "stdout",
     "output_type": "stream",
     "text": [
      "{'hoVaTen': 'NGUYỄN VĂN AN', 'diemTB': '9.0'}\n",
      "Danh sách sau khi clear:  {}\n"
     ]
    }
   ],
   "source": [
    "#Hoặc\n",
    "del sinhVien[\"maLop\"]\n",
    "print(sinhVien)\n",
    "sinhVien.clear()\n",
    "print(\"Danh sách sau khi clear: \", sinhVien)"
   ]
  },
  {
   "cell_type": "code",
   "execution_count": 14,
   "id": "c0919ba4-547f-4bd2-895f-b7beee0996c1",
   "metadata": {},
   "outputs": [
    {
     "name": "stdout",
     "output_type": "stream",
     "text": [
      "hoVaTen\n",
      "maLop\n",
      "diemTB\n"
     ]
    }
   ],
   "source": [
    "''' Duyệt các giá trị \n",
    "for x in sinhVien: \n",
    "    print(x)\n",
    "    '''\n",
    "sinhVien = {\n",
    "    \"hoVaTen\": \"NGUYỄN VĂN AN\",\n",
    "    \"maLop\": \"DH01\",\n",
    "    \"diemTB\": \"8.5\"\n",
    "}\n",
    "for x in sinhVien: \n",
    "    print(x)    "
   ]
  },
  {
   "cell_type": "code",
   "execution_count": 15,
   "id": "43c7f2bf-f230-47c9-9435-1ec99993178a",
   "metadata": {},
   "outputs": [
    {
     "name": "stdout",
     "output_type": "stream",
     "text": [
      "{'hoVaTen': 'NGUYỄN VĂN AN', 'maLop': 'DH01', 'diemTB': '8.5'}\n",
      "NGUYỄN VĂN AN\n",
      "DH01\n",
      "8.5\n"
     ]
    }
   ],
   "source": [
    "''' Duyệt các giá trị \n",
    "for x in sinhVien.values(): \n",
    "    print(x)\n",
    "    '''\n",
    "print(sinhVien)  \n",
    "for x in sinhVien.values(): \n",
    "    print(x)"
   ]
  },
  {
   "cell_type": "code",
   "execution_count": 16,
   "id": "aaa4b842-954e-48cc-87c2-70b22b98a0f5",
   "metadata": {},
   "outputs": [
    {
     "name": "stdout",
     "output_type": "stream",
     "text": [
      "{'hoVaTen': 'NGUYỄN VĂN AN', 'maLop': 'DH01', 'diemTB': '8.5'}\n",
      "hoVaTen\n",
      "maLop\n",
      "diemTB\n"
     ]
    }
   ],
   "source": [
    "''' Duyệt các khóa \n",
    "for x in sinhVien.keys(): \n",
    "    print(x)\n",
    "    '''\n",
    "print(sinhVien)\n",
    "for y in sinhVien.keys(): \n",
    "    print(y)"
   ]
  },
  {
   "cell_type": "code",
   "execution_count": 17,
   "id": "41db8a0e-a962-47d5-a5ee-73273653a12a",
   "metadata": {},
   "outputs": [
    {
     "name": "stdout",
     "output_type": "stream",
     "text": [
      "{'hoVaTen': 'NGUYỄN VĂN AN', 'maLop': 'DH01', 'diemTB': '8.5'}\n",
      "hoVaTen NGUYỄN VĂN AN\n",
      "maLop DH01\n",
      "diemTB 8.5\n"
     ]
    }
   ],
   "source": [
    "''' Duyệt cặp khóa-giá trị\n",
    "for y, x in sinhVien.items(): \n",
    "    print(y, x)\n",
    "    '''\n",
    "print(sinhVien)\n",
    "for y, x in sinhVien.items(): \n",
    "    print(y, x)"
   ]
  },
  {
   "cell_type": "code",
   "execution_count": null,
   "id": "99c15438-9e92-47a8-9b5c-00742a39971b",
   "metadata": {},
   "outputs": [],
   "source": []
  }
 ],
 "metadata": {
  "kernelspec": {
   "display_name": "Python 3 (ipykernel)",
   "language": "python",
   "name": "python3"
  },
  "language_info": {
   "codemirror_mode": {
    "name": "ipython",
    "version": 3
   },
   "file_extension": ".py",
   "mimetype": "text/x-python",
   "name": "python",
   "nbconvert_exporter": "python",
   "pygments_lexer": "ipython3",
   "version": "3.11.7"
  }
 },
 "nbformat": 4,
 "nbformat_minor": 5
}
