{
 "cells": [
  {
   "cell_type": "code",
   "execution_count": 3,
   "id": "422f8c6a-1b5f-4626-ba64-e69eeda540b2",
   "metadata": {},
   "outputs": [
    {
     "name": "stdout",
     "output_type": "stream",
     "text": [
      "2 x 1 = 2\n",
      "2 x 2 = 4\n",
      "2 x 3 = 6\n",
      "2 x 4 = 8\n",
      "2 x 5 = 10\n",
      "2 x 6 = 12\n",
      "2 x 7 = 14\n",
      "2 x 8 = 16\n",
      "2 x 9 = 18\n",
      "2 x 10 = 20\n"
     ]
    }
   ],
   "source": [
    "for i in range(1, 11):\n",
    "    print(\"2 x {0} = {1}\".format(i, 2*i))    "
   ]
  },
  {
   "cell_type": "code",
   "execution_count": 3,
   "id": "a9e16f3a-f8ee-4fb9-a391-c83b9ae607da",
   "metadata": {},
   "outputs": [
    {
     "name": "stdout",
     "output_type": "stream",
     "text": [
      "BẢNG CỬU CHƯƠNG CON BÒ: 2 con bò\n",
      "2 con bò x 1 = 2 con bò\n",
      "2 con bò x 2 = 4 con bò\n",
      "2 con bò x 3 = 6 con bò\n",
      "2 con bò x 4 = 8 con bò\n",
      "2 con bò x 5 = 10 con bò\n",
      "2 con bò x 6 = 12 con bò\n",
      "2 con bò x 7 = 14 con bò\n",
      "2 con bò x 8 = 16 con bò\n",
      "2 con bò x 9 = 18 con bò\n",
      "2 con bò x 10 = 20 con bò\n",
      "BẢNG CỬU CHƯƠNG CON BÒ: 3 con bò\n",
      "3 con bò x 1 = 3 con bò\n",
      "3 con bò x 2 = 6 con bò\n",
      "3 con bò x 3 = 9 con bò\n",
      "3 con bò x 4 = 12 con bò\n",
      "3 con bò x 5 = 15 con bò\n",
      "3 con bò x 6 = 18 con bò\n",
      "3 con bò x 7 = 21 con bò\n",
      "3 con bò x 8 = 24 con bò\n",
      "3 con bò x 9 = 27 con bò\n",
      "3 con bò x 10 = 30 con bò\n",
      "BẢNG CỬU CHƯƠNG CON BÒ: 4 con bò\n",
      "4 con bò x 1 = 4 con bò\n",
      "4 con bò x 2 = 8 con bò\n",
      "4 con bò x 3 = 12 con bò\n",
      "4 con bò x 4 = 16 con bò\n",
      "4 con bò x 5 = 20 con bò\n",
      "4 con bò x 6 = 24 con bò\n",
      "4 con bò x 7 = 28 con bò\n",
      "4 con bò x 8 = 32 con bò\n",
      "4 con bò x 9 = 36 con bò\n",
      "4 con bò x 10 = 40 con bò\n",
      "BẢNG CỬU CHƯƠNG CON BÒ: 5 con bò\n",
      "5 con bò x 1 = 5 con bò\n",
      "5 con bò x 2 = 10 con bò\n",
      "5 con bò x 3 = 15 con bò\n",
      "5 con bò x 4 = 20 con bò\n",
      "5 con bò x 5 = 25 con bò\n",
      "5 con bò x 6 = 30 con bò\n",
      "5 con bò x 7 = 35 con bò\n",
      "5 con bò x 8 = 40 con bò\n",
      "5 con bò x 9 = 45 con bò\n",
      "5 con bò x 10 = 50 con bò\n",
      "BẢNG CỬU CHƯƠNG CON BÒ: 6 con bò\n",
      "6 con bò x 1 = 6 con bò\n",
      "6 con bò x 2 = 12 con bò\n",
      "6 con bò x 3 = 18 con bò\n",
      "6 con bò x 4 = 24 con bò\n",
      "6 con bò x 5 = 30 con bò\n",
      "6 con bò x 6 = 36 con bò\n",
      "6 con bò x 7 = 42 con bò\n",
      "6 con bò x 8 = 48 con bò\n",
      "6 con bò x 9 = 54 con bò\n",
      "6 con bò x 10 = 60 con bò\n",
      "BẢNG CỬU CHƯƠNG CON BÒ: 7 con bò\n",
      "7 con bò x 1 = 7 con bò\n",
      "7 con bò x 2 = 14 con bò\n",
      "7 con bò x 3 = 21 con bò\n",
      "7 con bò x 4 = 28 con bò\n",
      "7 con bò x 5 = 35 con bò\n",
      "7 con bò x 6 = 42 con bò\n",
      "7 con bò x 7 = 49 con bò\n",
      "7 con bò x 8 = 56 con bò\n",
      "7 con bò x 9 = 63 con bò\n",
      "7 con bò x 10 = 70 con bò\n",
      "BẢNG CỬU CHƯƠNG CON BÒ: 8 con bò\n",
      "8 con bò x 1 = 8 con bò\n",
      "8 con bò x 2 = 16 con bò\n",
      "8 con bò x 3 = 24 con bò\n",
      "8 con bò x 4 = 32 con bò\n",
      "8 con bò x 5 = 40 con bò\n",
      "8 con bò x 6 = 48 con bò\n",
      "8 con bò x 7 = 56 con bò\n",
      "8 con bò x 8 = 64 con bò\n",
      "8 con bò x 9 = 72 con bò\n",
      "8 con bò x 10 = 80 con bò\n",
      "BẢNG CỬU CHƯƠNG CON BÒ: 9 con bò\n",
      "9 con bò x 1 = 9 con bò\n",
      "9 con bò x 2 = 18 con bò\n",
      "9 con bò x 3 = 27 con bò\n",
      "9 con bò x 4 = 36 con bò\n",
      "9 con bò x 5 = 45 con bò\n",
      "9 con bò x 6 = 54 con bò\n",
      "9 con bò x 7 = 63 con bò\n",
      "9 con bò x 8 = 72 con bò\n",
      "9 con bò x 9 = 81 con bò\n",
      "9 con bò x 10 = 90 con bò\n"
     ]
    }
   ],
   "source": [
    "for j in range(2,10):\n",
    "    print(\"BẢNG CỬU CHƯƠNG CON BÒ:\", j , \"con bò\")\n",
    "    for i in range(1,11):\n",
    "        print(\"{0} con bò x {1} = {2} con bò\".format(j, i, j*i))"
   ]
  },
  {
   "cell_type": "code",
   "execution_count": null,
   "id": "801a3337-8653-49d9-a1e5-09c14c96bcc4",
   "metadata": {},
   "outputs": [],
   "source": []
  }
 ],
 "metadata": {
  "kernelspec": {
   "display_name": "Python 3 (ipykernel)",
   "language": "python",
   "name": "python3"
  },
  "language_info": {
   "codemirror_mode": {
    "name": "ipython",
    "version": 3
   },
   "file_extension": ".py",
   "mimetype": "text/x-python",
   "name": "python",
   "nbconvert_exporter": "python",
   "pygments_lexer": "ipython3",
   "version": "3.11.7"
  }
 },
 "nbformat": 4,
 "nbformat_minor": 5
}
