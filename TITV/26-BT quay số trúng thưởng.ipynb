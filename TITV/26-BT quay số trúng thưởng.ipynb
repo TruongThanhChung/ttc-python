{
 "cells": [
  {
   "cell_type": "code",
   "execution_count": 1,
   "id": "f1f8417b-461f-4555-8dd2-1c9c0b7a0625",
   "metadata": {},
   "outputs": [
    {
     "name": "stdout",
     "output_type": "stream",
     "text": [
      "---------- MENU ----------\n",
      "Vui lòng lựa chọn\n",
      "1 - Thêm vào một số điện thoại dự thưởng vào thùng phiếu: \n",
      "2 - Xóa đi một số điện thoại dự thưởng từ thùng phiếu: \n",
      "3 - Quay số dự thưởng: \n",
      "4 - Kết thúc chương trình \n"
     ]
    },
    {
     "name": "stdin",
     "output_type": "stream",
     "text": [
      "Bạn lựa chọn:  1\n",
      "Nhập vào số điện thoại dự thưởng:  0985767874\n",
      "Nhập vào phím bất kỳ để tiếp tục:  1\n"
     ]
    },
    {
     "name": "stdout",
     "output_type": "stream",
     "text": [
      "---------- MENU ----------\n",
      "Vui lòng lựa chọn\n",
      "1 - Thêm vào một số điện thoại dự thưởng vào thùng phiếu: \n",
      "2 - Xóa đi một số điện thoại dự thưởng từ thùng phiếu: \n",
      "3 - Quay số dự thưởng: \n",
      "4 - Kết thúc chương trình \n"
     ]
    },
    {
     "name": "stdin",
     "output_type": "stream",
     "text": [
      "Bạn lựa chọn:  1\n",
      "Nhập vào số điện thoại dự thưởng:  0867545369\n",
      "Nhập vào phím bất kỳ để tiếp tục:  1\n"
     ]
    },
    {
     "name": "stdout",
     "output_type": "stream",
     "text": [
      "---------- MENU ----------\n",
      "Vui lòng lựa chọn\n",
      "1 - Thêm vào một số điện thoại dự thưởng vào thùng phiếu: \n",
      "2 - Xóa đi một số điện thoại dự thưởng từ thùng phiếu: \n",
      "3 - Quay số dự thưởng: \n",
      "4 - Kết thúc chương trình \n"
     ]
    },
    {
     "name": "stdin",
     "output_type": "stream",
     "text": [
      "Bạn lựa chọn:  1\n",
      "Nhập vào số điện thoại dự thưởng:  0775111232\n",
      "Nhập vào phím bất kỳ để tiếp tục:  2\n"
     ]
    },
    {
     "name": "stdout",
     "output_type": "stream",
     "text": [
      "---------- MENU ----------\n",
      "Vui lòng lựa chọn\n",
      "1 - Thêm vào một số điện thoại dự thưởng vào thùng phiếu: \n",
      "2 - Xóa đi một số điện thoại dự thưởng từ thùng phiếu: \n",
      "3 - Quay số dự thưởng: \n",
      "4 - Kết thúc chương trình \n"
     ]
    },
    {
     "name": "stdin",
     "output_type": "stream",
     "text": [
      "Bạn lựa chọn:  1\n",
      "Nhập vào số điện thoại dự thưởng:  0982714521\n",
      "Nhập vào phím bất kỳ để tiếp tục:  2\n"
     ]
    },
    {
     "name": "stdout",
     "output_type": "stream",
     "text": [
      "---------- MENU ----------\n",
      "Vui lòng lựa chọn\n",
      "1 - Thêm vào một số điện thoại dự thưởng vào thùng phiếu: \n",
      "2 - Xóa đi một số điện thoại dự thưởng từ thùng phiếu: \n",
      "3 - Quay số dự thưởng: \n",
      "4 - Kết thúc chương trình \n"
     ]
    },
    {
     "name": "stdin",
     "output_type": "stream",
     "text": [
      "Bạn lựa chọn:  1\n",
      "Nhập vào số điện thoại dự thưởng:  0923565823\n",
      "Nhập vào phím bất kỳ để tiếp tục:  2\n"
     ]
    },
    {
     "name": "stdout",
     "output_type": "stream",
     "text": [
      "---------- MENU ----------\n",
      "Vui lòng lựa chọn\n",
      "1 - Thêm vào một số điện thoại dự thưởng vào thùng phiếu: \n",
      "2 - Xóa đi một số điện thoại dự thưởng từ thùng phiếu: \n",
      "3 - Quay số dự thưởng: \n",
      "4 - Kết thúc chương trình \n"
     ]
    },
    {
     "name": "stdin",
     "output_type": "stream",
     "text": [
      "Bạn lựa chọn:  1\n",
      "Nhập vào số điện thoại dự thưởng:  0922456789\n",
      "Nhập vào phím bất kỳ để tiếp tục:  2\n"
     ]
    },
    {
     "name": "stdout",
     "output_type": "stream",
     "text": [
      "---------- MENU ----------\n",
      "Vui lòng lựa chọn\n",
      "1 - Thêm vào một số điện thoại dự thưởng vào thùng phiếu: \n",
      "2 - Xóa đi một số điện thoại dự thưởng từ thùng phiếu: \n",
      "3 - Quay số dự thưởng: \n",
      "4 - Kết thúc chương trình \n"
     ]
    },
    {
     "name": "stdin",
     "output_type": "stream",
     "text": [
      "Bạn lựa chọn:  1\n",
      "Nhập vào số điện thoại dự thưởng:  0785112145\n",
      "Nhập vào phím bất kỳ để tiếp tục:  1\n"
     ]
    },
    {
     "name": "stdout",
     "output_type": "stream",
     "text": [
      "---------- MENU ----------\n",
      "Vui lòng lựa chọn\n",
      "1 - Thêm vào một số điện thoại dự thưởng vào thùng phiếu: \n",
      "2 - Xóa đi một số điện thoại dự thưởng từ thùng phiếu: \n",
      "3 - Quay số dự thưởng: \n",
      "4 - Kết thúc chương trình \n"
     ]
    },
    {
     "name": "stdin",
     "output_type": "stream",
     "text": [
      "Bạn lựa chọn:  3\n"
     ]
    },
    {
     "name": "stdout",
     "output_type": "stream",
     "text": [
      "Vị trí trúng thưởng: 6\n",
      "Chúc mừng số điện thoại 0982714521 đã trúng thưởng!\n",
      "{'0775111232', '0985767874', '0785112145', '0867545369', '0922456789', '0923565823'}\n"
     ]
    },
    {
     "name": "stdin",
     "output_type": "stream",
     "text": [
      "Nhập vào phím bất kỳ để tiếp tục:  1\n"
     ]
    },
    {
     "name": "stdout",
     "output_type": "stream",
     "text": [
      "---------- MENU ----------\n",
      "Vui lòng lựa chọn\n",
      "1 - Thêm vào một số điện thoại dự thưởng vào thùng phiếu: \n",
      "2 - Xóa đi một số điện thoại dự thưởng từ thùng phiếu: \n",
      "3 - Quay số dự thưởng: \n",
      "4 - Kết thúc chương trình \n"
     ]
    },
    {
     "name": "stdin",
     "output_type": "stream",
     "text": [
      "Bạn lựa chọn:  4\n"
     ]
    }
   ],
   "source": [
    "## Nhập thư viện random\n",
    "import random\n",
    "# Khai báo set\n",
    "thungphieu = set()\n",
    "#Vòng lặp\n",
    "while(True):\n",
    "    print(\"---------- MENU ----------\")\n",
    "    print(\"Vui lòng lựa chọn\")\n",
    "    print(\"1 - Thêm vào một số điện thoại dự thưởng vào thùng phiếu: \")\n",
    "    print(\"2 - Xóa đi một số điện thoại dự thưởng từ thùng phiếu: \")\n",
    "    print(\"3 - Quay số dự thưởng: \")\n",
    "    print(\"4 - Kết thúc chương trình \")\n",
    "    luachon = int(input(\"Bạn lựa chọn: \"))\n",
    "    if (luachon == 1):\n",
    "        sdt = input(\"Nhập vào số điện thoại dự thưởng: \")\n",
    "        thungphieu.add(sdt)\n",
    "    elif (luachon == 2):\n",
    "        sdt = input(\"Nhập vào số điện thoại dự thưởng cần xóa: \")\n",
    "        thungphieu.discard(sdt)\n",
    "    elif (luachon == 3):\n",
    "        index = random.randint(0, len(thungphieu)-1)\n",
    "        print(\"Vị trí trúng thưởng: \" + str(index))\n",
    "        i = 0\n",
    "        for x in thungphieu:\n",
    "            if (i == index):\n",
    "                print(\"Chúc mừng số điện thoại \" + x + \" đã trúng thưởng!\") \n",
    "                break\n",
    "            i = i + 1                   \n",
    "        thungphieu.discard(x)\n",
    "        print(thungphieu)\n",
    "    else:\n",
    "        break\n",
    "    y = input(\"Nhập vào phím bất kỳ để tiếp tục: \")"
   ]
  },
  {
   "cell_type": "code",
   "execution_count": null,
   "id": "74e41532-8e48-4bb5-bf14-db809b169412",
   "metadata": {},
   "outputs": [],
   "source": []
  },
  {
   "cell_type": "code",
   "execution_count": null,
   "id": "78caaa13-9c7f-45cd-b1cc-2e7361a82088",
   "metadata": {},
   "outputs": [],
   "source": []
  }
 ],
 "metadata": {
  "kernelspec": {
   "display_name": "Python 3 (ipykernel)",
   "language": "python",
   "name": "python3"
  },
  "language_info": {
   "codemirror_mode": {
    "name": "ipython",
    "version": 3
   },
   "file_extension": ".py",
   "mimetype": "text/x-python",
   "name": "python",
   "nbconvert_exporter": "python",
   "pygments_lexer": "ipython3",
   "version": "3.11.7"
  }
 },
 "nbformat": 4,
 "nbformat_minor": 5
}
