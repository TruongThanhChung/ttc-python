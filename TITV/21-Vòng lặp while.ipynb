{
 "cells": [
  {
   "cell_type": "code",
   "execution_count": 1,
   "id": "9f785ab6-8841-438a-b7e8-94d2854b3f30",
   "metadata": {},
   "outputs": [
    {
     "name": "stdin",
     "output_type": "stream",
     "text": [
      "nhập vào n = -4\n",
      "nhập vào n = -1\n",
      "nhập vào n = -5\n",
      "nhập vào n = 7\n"
     ]
    }
   ],
   "source": [
    "#nhập vào một số thỏa mãn điều kiện\n",
    "n = -1\n",
    "while (n <= 0):\n",
    "    n = int(input(\"nhập vào n =\"))"
   ]
  },
  {
   "cell_type": "code",
   "execution_count": 2,
   "id": "e0805658-2da7-4656-90f6-ba31fabb5ecc",
   "metadata": {},
   "outputs": [
    {
     "name": "stdin",
     "output_type": "stream",
     "text": [
      "nhập vào x = 9\n",
      "nhập vào x = 8\n",
      "nhập vào x = 3\n",
      "nhập vào x = -7\n"
     ]
    }
   ],
   "source": [
    "#nhập vào một số nguyên dương\n",
    "x = 0\n",
    "while (x >= 0):\n",
    "    x = int(input(\"nhập vào x =\"))"
   ]
  },
  {
   "cell_type": "code",
   "execution_count": 1,
   "id": "f8b1207f-bfaf-4244-affd-7effa8e55c9b",
   "metadata": {},
   "outputs": [
    {
     "name": "stdin",
     "output_type": "stream",
     "text": [
      "nhập vào m = 10\n"
     ]
    },
    {
     "name": "stdout",
     "output_type": "stream",
     "text": [
      "Tổng =  55\n"
     ]
    }
   ],
   "source": [
    "#\n",
    "m = -1\n",
    "while (m <= 0):\n",
    "    m = int(input(\"nhập vào m =\"))\n",
    "i = 0\n",
    "tong = 0\n",
    "while (i <= m):\n",
    "    tong+= i\n",
    "    i+= 1\n",
    "print(\"Tổng = \", tong)"
   ]
  },
  {
   "cell_type": "code",
   "execution_count": 9,
   "id": "6c80305e-249c-4125-926e-f8e5ff168e43",
   "metadata": {},
   "outputs": [
    {
     "name": "stdout",
     "output_type": "stream",
     "text": [
      "0 bên trong vòng lặp\n",
      "1 bên trong vòng lặp\n",
      "2 bên trong vòng lặp\n",
      "3 bên trong vòng lặp\n",
      "4 bên trong vòng lặp\n",
      "5 bên trong vòng lặp\n",
      "6 bên trong vòng lặp\n",
      "7 bên trong vòng lặp\n",
      "8 bên trong vòng lặp\n",
      "9 bên trong vòng lặp\n",
      "10 bên trong vòng lặp\n",
      "11 bên ngoài vòng lặp\n"
     ]
    }
   ],
   "source": [
    "j = 0\n",
    "while (j<=10):\n",
    "    print(j, \"bên trong vòng lặp\")\n",
    "    j+=1\n",
    "else:\n",
    "    print(j, \"bên ngoài vòng lặp\")"
   ]
  },
  {
   "cell_type": "code",
   "execution_count": 1,
   "id": "24533b2a-3f19-4f7a-b307-7cc66434f80e",
   "metadata": {},
   "outputs": [
    {
     "name": "stdout",
     "output_type": "stream",
     "text": [
      "0 bên trong vòng lặp\n",
      "1 bên trong vòng lặp\n",
      "2 bên trong vòng lặp\n",
      "3 bên trong vòng lặp\n",
      "4 bên trong vòng lặp\n",
      "Chương trình kết thúc!\n"
     ]
    }
   ],
   "source": [
    "j = 0\n",
    "while (j<=10):\n",
    "    print(j, \"bên trong vòng lặp\")\n",
    "    j+=1\n",
    "    if (j == 5):\n",
    "        print(\"Chương trình kết thúc!\")\n",
    "        break       \n",
    "else:\n",
    "    print(j, \"bên ngoài vòng lặp\")"
   ]
  },
  {
   "cell_type": "code",
   "execution_count": null,
   "id": "1d49f40c-1fe1-4d89-a557-c0ef3e25ccff",
   "metadata": {},
   "outputs": [],
   "source": []
  }
 ],
 "metadata": {
  "kernelspec": {
   "display_name": "Python 3 (ipykernel)",
   "language": "python",
   "name": "python3"
  },
  "language_info": {
   "codemirror_mode": {
    "name": "ipython",
    "version": 3
   },
   "file_extension": ".py",
   "mimetype": "text/x-python",
   "name": "python",
   "nbconvert_exporter": "python",
   "pygments_lexer": "ipython3",
   "version": "3.11.7"
  }
 },
 "nbformat": 4,
 "nbformat_minor": 5
}
