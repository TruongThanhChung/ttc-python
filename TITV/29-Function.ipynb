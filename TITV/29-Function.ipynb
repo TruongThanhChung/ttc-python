{
 "cells": [
  {
   "cell_type": "markdown",
   "id": "cb218f95",
   "metadata": {},
   "source": [
    "Hàm là một khối mã chỉ chạy khi nó được tạo\n",
    "Bạn có thể truyền dữ liệu, được gọi là tham số vào một hàm\n",
    "Kết quả là một hàm có thể trả về dữ liệu"
   ]
  },
  {
   "cell_type": "code",
   "execution_count": 1,
   "id": "942fd13e",
   "metadata": {},
   "outputs": [],
   "source": [
    "# Khai báo hàm\n",
    "def xinChao():\n",
    "    print(\"Xin chào!\")"
   ]
  },
  {
   "cell_type": "code",
   "execution_count": 2,
   "id": "b26a5f91",
   "metadata": {},
   "outputs": [
    {
     "name": "stdout",
     "output_type": "stream",
     "text": [
      "Xin chào!\n"
     ]
    }
   ],
   "source": [
    "#gọi hàm (truyền tham số cho hàm)\n",
    "xinChao()"
   ]
  },
  {
   "cell_type": "code",
   "execution_count": 3,
   "id": "e9824d9a",
   "metadata": {},
   "outputs": [],
   "source": [
    "# Đối số được đặt trong cặp ngoặc ()\n",
    "def xinChao(hoVaTen):\n",
    "    print(\"Xin chào: \" + hoVaTen)"
   ]
  },
  {
   "cell_type": "code",
   "execution_count": 4,
   "id": "3f9674b5",
   "metadata": {},
   "outputs": [
    {
     "name": "stdout",
     "output_type": "stream",
     "text": [
      "Xin chào: Nguyễn Văn An\n",
      "Xin chào: Lê Nhật Tùng\n"
     ]
    }
   ],
   "source": [
    "xinChao(\"Nguyễn Văn An\")\n",
    "xinChao(\"Lê Nhật Tùng\")"
   ]
  },
  {
   "cell_type": "code",
   "execution_count": 5,
   "id": "f35ce12c",
   "metadata": {},
   "outputs": [],
   "source": [
    "# Nhiều đối số, mỗi đối số cách nhau bởi dấu phẩy (,)\n",
    "def xinChao(ho, chuLot, ten):\n",
    "    print(\"Xin chào: \" + ho + \" \" + chuLot + \" \" + ten)\n",
    "    print(\"Xin chào: \" + ten)"
   ]
  },
  {
   "cell_type": "code",
   "execution_count": 6,
   "id": "7694c597",
   "metadata": {},
   "outputs": [
    {
     "name": "stdout",
     "output_type": "stream",
     "text": [
      "Xin chào: Lê Nhật Tùng\n",
      "Xin chào: Tùng\n"
     ]
    }
   ],
   "source": [
    "xinChao(\"Lê\", \"Nhật\", \"Tùng\")"
   ]
  },
  {
   "cell_type": "markdown",
   "id": "471745d3",
   "metadata": {},
   "source": [
    "Khi không xác định được số lượng đối số, có thể sử dụng dấu *"
   ]
  },
  {
   "cell_type": "code",
   "execution_count": 7,
   "id": "cca5c2a6",
   "metadata": {},
   "outputs": [],
   "source": [
    "def TKB(*monHoc):\n",
    "    print(\"Môn 1: \" + monHoc[0])\n",
    "    print(\"Môn 2: \" + monHoc[1])"
   ]
  },
  {
   "cell_type": "code",
   "execution_count": 8,
   "id": "2e0d503b",
   "metadata": {},
   "outputs": [
    {
     "name": "stdout",
     "output_type": "stream",
     "text": [
      "Môn 1: Toan\n",
      "Môn 2: Ly\n"
     ]
    }
   ],
   "source": [
    "TKB(\"Toan\", \"Ly\", \"Hoa\", \"Anh\", \"Van\", \"Su\", \"Dia\")"
   ]
  },
  {
   "cell_type": "code",
   "execution_count": 9,
   "id": "3c1e066a",
   "metadata": {},
   "outputs": [],
   "source": [
    "def tinhTong(*giaTri):\n",
    "    sum = 0\n",
    "    for x in giaTri:\n",
    "        sum = sum + x\n",
    "    print(\"Tổng = \", sum)"
   ]
  },
  {
   "cell_type": "code",
   "execution_count": 10,
   "id": "254c7c90",
   "metadata": {},
   "outputs": [
    {
     "name": "stdout",
     "output_type": "stream",
     "text": [
      "Tổng =  3\n",
      "Tổng =  35\n"
     ]
    }
   ],
   "source": [
    "tinhTong(1, 2)\n",
    "tinhTong(1, 5, 7, 8, 9, 5)"
   ]
  },
  {
   "cell_type": "code",
   "execution_count": 11,
   "id": "9d089e50",
   "metadata": {},
   "outputs": [],
   "source": [
    "# Truyền nhiều đối số xác định thông qua tên, sử dụng **\n",
    "def xinChao(**hoVaTen):\n",
    "    print(\"Xin chao: \" + hoVaTen[\"ho\"])"
   ]
  },
  {
   "cell_type": "code",
   "execution_count": 12,
   "id": "9ebde8d1",
   "metadata": {},
   "outputs": [
    {
     "name": "stdout",
     "output_type": "stream",
     "text": [
      "Xin chao: Lê\n",
      "Xin chao: Lê\n"
     ]
    }
   ],
   "source": [
    "xinChao(ten=\"Tùng\", ho=\"Lê\", chuLot=\"Nhật\")\n",
    "xinChao(chuLot=\"Nhật\", ten=\"Tùng\", ho=\"Lê\")"
   ]
  },
  {
   "cell_type": "code",
   "execution_count": 13,
   "id": "b57f4a88",
   "metadata": {},
   "outputs": [],
   "source": [
    "# Sử dụng từ khóa return để trả về giá trị\n",
    "def tinhTich(*giaTri):\n",
    "    tich = 1\n",
    "    for x in giaTri:\n",
    "        tich = tich * x\n",
    "    return tich"
   ]
  },
  {
   "cell_type": "code",
   "execution_count": 14,
   "id": "db031e77",
   "metadata": {},
   "outputs": [
    {
     "data": {
      "text/plain": [
       "30"
      ]
     },
     "execution_count": 14,
     "metadata": {},
     "output_type": "execute_result"
    }
   ],
   "source": [
    "tinhTich(1, 3, 5)\n",
    "tinhTich(2, 4)\n",
    "tinhTich(2, 3, 5)"
   ]
  },
  {
   "cell_type": "code",
   "execution_count": 15,
   "id": "6a9419d8",
   "metadata": {},
   "outputs": [],
   "source": [
    "def Tong(a,b):\n",
    "    c = a + b\n",
    "    print(\"Tổng hai số {0} và {1} bằng {2}\".format(a, b, c))\n",
    "    return c"
   ]
  },
  {
   "cell_type": "code",
   "execution_count": 16,
   "id": "dc611fff",
   "metadata": {},
   "outputs": [
    {
     "name": "stdout",
     "output_type": "stream",
     "text": [
      "Tổng hai số 2 và 3 bằng 5\n"
     ]
    },
    {
     "data": {
      "text/plain": [
       "5"
      ]
     },
     "execution_count": 16,
     "metadata": {},
     "output_type": "execute_result"
    }
   ],
   "source": [
    "Tong(2, 3)"
   ]
  },
  {
   "cell_type": "code",
   "execution_count": 17,
   "id": "90b5c9a9",
   "metadata": {},
   "outputs": [
    {
     "name": "stdout",
     "output_type": "stream",
     "text": [
      "Tổng hai số 1 và 2 bằng 3\n"
     ]
    },
    {
     "data": {
      "text/plain": [
       "3"
      ]
     },
     "execution_count": 17,
     "metadata": {},
     "output_type": "execute_result"
    }
   ],
   "source": [
    "Tong(1, 2)"
   ]
  },
  {
   "cell_type": "code",
   "execution_count": 18,
   "id": "6ec8fe87",
   "metadata": {},
   "outputs": [],
   "source": [
    "def Tich(a,b):\n",
    "    d = a*b\n",
    "    print(\"Tích hai số {0} và {1} bằng {2}\".format(a, b, d))"
   ]
  },
  {
   "cell_type": "code",
   "execution_count": 19,
   "id": "41126d95",
   "metadata": {},
   "outputs": [
    {
     "name": "stdout",
     "output_type": "stream",
     "text": [
      "Tích hai số 2 và 3 bằng 6\n"
     ]
    }
   ],
   "source": [
    "Tich(2, 3)"
   ]
  },
  {
   "cell_type": "code",
   "execution_count": 20,
   "id": "1c40e15f",
   "metadata": {},
   "outputs": [
    {
     "name": "stdout",
     "output_type": "stream",
     "text": [
      "Tích hai số -3 và 4 bằng -12\n"
     ]
    }
   ],
   "source": [
    "Tich(-3, 4)"
   ]
  },
  {
   "cell_type": "code",
   "execution_count": 21,
   "id": "6bc77040",
   "metadata": {},
   "outputs": [
    {
     "name": "stdout",
     "output_type": "stream",
     "text": [
      "Nhập chiều dài = 6\n",
      "Nhập chiều rộng = 4\n",
      "Diện tích HCN(6.0, 4.0 bằng 24.0))\n"
     ]
    }
   ],
   "source": [
    "def dtHCN(a,b):\n",
    "     return a*b\n",
    "while(True):\n",
    "    x = float(input(\"Nhập chiều dài = \"))\n",
    "    if x > 0:\n",
    "        break;\n",
    "while(True):\n",
    "    y = float(input(\"Nhập chiều rộng = \"))\n",
    "    if y > 0:\n",
    "        break;\n",
    "dt = dtHCN(x, y)\n",
    "print(\"Diện tích HCN({0}, {1} bằng {2}))\".format(x, y, dt))"
   ]
  },
  {
   "cell_type": "code",
   "execution_count": 22,
   "id": "d0d79112",
   "metadata": {},
   "outputs": [
    {
     "name": "stdout",
     "output_type": "stream",
     "text": [
      "Nhập vào số a1 = 6\n",
      "Nhập vào số a2 = 2\n",
      "Trước hoán vị: 6.0 và 2.0\n",
      "Sau hoán vị: 2.0 và 6.0\n"
     ]
    },
    {
     "ename": "TypeError",
     "evalue": "hoanVi() missing 2 required positional arguments: 'a' and 'b'",
     "output_type": "error",
     "traceback": [
      "\u001b[1;31m---------------------------------------------------------------------------\u001b[0m",
      "\u001b[1;31mTypeError\u001b[0m                                 Traceback (most recent call last)",
      "Cell \u001b[1;32mIn[22], line 12\u001b[0m\n\u001b[0;32m     10\u001b[0m \u001b[38;5;28mprint\u001b[39m(\u001b[38;5;124m\"\u001b[39m\u001b[38;5;124mSau hoán vị: \u001b[39m\u001b[38;5;132;01m{0}\u001b[39;00m\u001b[38;5;124m và \u001b[39m\u001b[38;5;132;01m{1}\u001b[39;00m\u001b[38;5;124m\"\u001b[39m\u001b[38;5;241m.\u001b[39mformat(a1, a2))\n\u001b[0;32m     11\u001b[0m \u001b[38;5;66;03m# Gọi hàm mà không truyền tham số bắt buộc, máy sẽ báo lỗi\u001b[39;00m\n\u001b[1;32m---> 12\u001b[0m a1, a2 \u001b[38;5;241m=\u001b[39m hoanVi()\n",
      "\u001b[1;31mTypeError\u001b[0m: hoanVi() missing 2 required positional arguments: 'a' and 'b'"
     ]
    }
   ],
   "source": [
    "# Tham số với giá trị bắt buộc\n",
    "# Goi hàm để hoán đổi vị trí 2 số\n",
    "def hoanVi(a,b):\n",
    "    return b,a\n",
    "# Chương trình minh họa cách sử dụng hàm\n",
    "a1 = float(input(\"Nhập vào số a1 = \"))\n",
    "a2 = float(input(\"Nhập vào số a2 = \"))\n",
    "print(\"Trước hoán vị: {0} và {1}\".format(a1, a2))\n",
    "a1,a2 = hoanVi(a1,a2)\n",
    "print(\"Sau hoán vị: {0} và {1}\".format(a1, a2))\n",
    "# Gọi hàm mà không truyền tham số bắt buộc, máy sẽ báo lỗi\n",
    "a1, a2 = hoanVi()"
   ]
  },
  {
   "cell_type": "code",
   "execution_count": 23,
   "id": "ed097444",
   "metadata": {},
   "outputs": [
    {
     "name": "stdout",
     "output_type": "stream",
     "text": [
      "Diện tích đường tròn với tham số mặc định =  0.0\n",
      "Diện tích đường tròn với tham số r = 9 là =  254.34\n",
      "Nhập vào x = 6\n",
      "Diện tích đường tròn với tham số 6.0 là 113.03999999999999\n"
     ]
    }
   ],
   "source": [
    "# Tham số với giá trị mặc định\n",
    "# Xây dựng hàm tính diện tích hình tròn với tham số mặc định\n",
    "def dtichDT(r = 0):\n",
    "    c = 3.14*r*r\n",
    "    return c\n",
    "dt = dtichDT()\n",
    "print(\"Diện tích đường tròn với tham số mặc định = \", dt)\n",
    "dt = dtichDT(9)\n",
    "print(\"Diện tích đường tròn với tham số r = 9 là = \", dt)\n",
    "# Gọi hàm\n",
    "x = float(input(\"Nhập vào x = \"))\n",
    "while (True): \n",
    "    if x > 0:\n",
    "        break;\n",
    "dt = dtichDT(x)\n",
    "print(\"Diện tích đường tròn với tham số {0} là {1}\".format(x, dt))"
   ]
  },
  {
   "cell_type": "code",
   "execution_count": 24,
   "id": "5ae0e88f",
   "metadata": {},
   "outputs": [
    {
     "name": "stdout",
     "output_type": "stream",
     "text": [
      "Tổng ước với tham số mặc định bằng  1\n",
      "Tổng ước với tham số 6 bằng  12\n"
     ]
    }
   ],
   "source": [
    "# Xây dựng hàm tính tổng các ước số\n",
    "def tongUoc(a = 1):\n",
    "    if (a < 0): a = -1*a\n",
    "    tong_uoc_a = 0\n",
    "    for uoc in range(1, a+1):\n",
    "        if(a % uoc == 0):     #Nếu a chia hết cho uoc\n",
    "            tong_uoc_a = tong_uoc_a + uoc #thì cộng thêm uoc vào tổng ước của a\n",
    "    return tong_uoc_a\n",
    "# Chương trình \n",
    "print(\"Tổng ước với tham số mặc định bằng \", tongUoc())\n",
    "print(\"Tổng ước với tham số 6 bằng \", tongUoc(6))        "
   ]
  },
  {
   "cell_type": "code",
   "execution_count": 28,
   "id": "50492877",
   "metadata": {},
   "outputs": [
    {
     "name": "stdout",
     "output_type": "stream",
     "text": [
      "Diện tích HCN (5x25) 125\n",
      "Diện tích HCN (3x9) 27\n"
     ]
    }
   ],
   "source": [
    "# Tham số từ khóa\n",
    "# Gọi vào hàm tính diện tích Hinh chữ nhật\n",
    "def dtHCN(a,b):\n",
    "     return a*b\n",
    "dt = dtHCN(x, y)\n",
    "print(\"Diện tích HCN (5x25)\", dtHCN(5, 25))\n",
    "print(\"Diện tích HCN (3x9)\", dtHCN(3, 9))"
   ]
  },
  {
   "cell_type": "code",
   "execution_count": 31,
   "id": "d5ae8059",
   "metadata": {},
   "outputs": [
    {
     "name": "stdout",
     "output_type": "stream",
     "text": [
      "số lớn nhất trong các số 2 và 3 là  3\n",
      "số lớn nhất trong các số 3, 4, 7 là  7\n",
      "số lớn nhất trong các số 10, 11, 4, 7, 9 là  11\n",
      "None\n"
     ]
    }
   ],
   "source": [
    "# Tham số tùy ý\n",
    "# Xây dựng hàm tìm số lớn nhất trong n số truyền vào\n",
    "def timMax (*args): #Định nghĩa hàm tìm Max với tham số tùy chọn\n",
    "    if (len(args)==0): #Nếu không truyền vào tham số gì\n",
    "        return;        #kết thúc hàm\n",
    "    else:             #ngược lại có truyền tham số\n",
    "        max = args[0]  #giả sử coi tham số đầu tiên là max\n",
    "        for arg in args:    #duyệt qua các phần tử còn lại\n",
    "            if (max < arg): #nếu có số nào lớn hơn max\n",
    "                max = arg   #cập nhật lại giá trị của max\n",
    "        return max;         # kết thúc hàm trả về với giá trị max\n",
    "#Chương trình chính gọi hàm tìm max\n",
    "print(\"số lớn nhất trong các số 2 và 3 là \", timMax(2,3))\n",
    "print(\"số lớn nhất trong các số 3, 4, 7 là \", timMax(3,4,7))\n",
    "print(\"số lớn nhất trong các số 10, 11, 4, 7, 9 là \", timMax(4, 7, 9, 11, 10))\n",
    "print(timMax())"
   ]
  },
  {
   "cell_type": "code",
   "execution_count": 65,
   "id": "88ef6d8d",
   "metadata": {},
   "outputs": [
    {
     "name": "stdout",
     "output_type": "stream",
     "text": [
      "Nhập vào số lượng phần tử = -2\n",
      "Nhập vào số lượng phần tử = 0\n",
      "Nhập vào số lượng phần tử = 5\n",
      "Nhập vào giá trị thứ 0: 1\n",
      "Nhập vào giá trị thứ 1: 2\n",
      "Nhập vào giá trị thứ 2: 3\n",
      "Nhập vào giá trị thứ 3: 4\n",
      "Nhập vào giá trị thứ 4: 5\n",
      "Tổng = 15\n"
     ]
    }
   ],
   "source": [
    "# Nhập cho đến khi n >= -1\n",
    "numbers = []\n",
    "n = -1\n",
    "while(True):\n",
    "    try: \n",
    "        n = int(input(\"Nhập vào số lượng phần tử = \"))\n",
    "    except:\n",
    "        print(\"Vui lòng nhập giá trị n >=1: \")\n",
    "    if (n >=1):\n",
    "        break;\n",
    "# Hàm nhập:\n",
    "def nhap(n, numbers):\n",
    "    for i in range(n):\n",
    "        numbers.append(int(input(\"Nhập vào giá trị thứ \" + str(i) + \": \")))\n",
    "        \n",
    "# Xây dựng hàm tính tổng\n",
    "def tinhTong(numbers):\n",
    "    tong = 0\n",
    "    for x in numbers:\n",
    "        tong+= x\n",
    "    return tong\n",
    "\n",
    "nhap(n, numbers)\n",
    "print(\"Tổng = \" + str(tinhTong(numbers)))"
   ]
  },
  {
   "cell_type": "code",
   "execution_count": null,
   "id": "a7413636",
   "metadata": {},
   "outputs": [
    {
     "name": "stdout",
     "output_type": "stream",
     "text": [
      "Nhập đa thức 1: \n",
      "Nhập số mũ hoặc -1 để kết thúc: 2\n",
      "Nhập số mũ hoặc -1 để kết thúc: -1\n",
      "Nhập hệ số của x^ -1: 2\n"
     ]
    }
   ],
   "source": [
    "'''Chương trình tính tổng hai đa thức sử dụng hàm'''\n",
    "# Nhập đa thức từ bàn phím\n",
    "def NhapDT():\n",
    "    pol = dict();\n",
    "    while (True):\n",
    "        #Người dùng phải nhập mũ của phần tử thỏa điều kiện >=-1\n",
    "        while (True):\n",
    "            mu = int(input('Nhập số mũ hoặc -1 để kết thúc: '))\n",
    "            if (mu==-1): #Nếu mũ = -1\n",
    "                    break; #thì kết thúc việc nhập\n",
    "        #Nhập hệ số ứng với số mũ\n",
    "        heso = float(input('Nhập hệ số của x^ ' +str(mu)+ ': '))\n",
    "        if (heso!=0): #nếu hệ số <>0 thì lưu phần tử\n",
    "            pol[mu] = heso #của đa thức theo dạng mu: heso\n",
    "    return pol\n",
    "# Hiện thị đa thức ra màn hình\n",
    "def hienThiDT(pol):\n",
    "    strpol = ''\n",
    "    #Sắp xếp các phần tử của đa thức theo mũ tăng dần\n",
    "    for pow in sorted(pol.keys()):\n",
    "        if (pol[pow] > 0):\n",
    "            strpol = strpol + ' + ' + str(pol[pow]) + ' * x^' + str(pow)\n",
    "        else:\n",
    "            strpol = strpol + ' ' +str(pol[pow]) + ' * x^' + str(pow)\n",
    "    # Hiển thị đa thức đã loại bỏ ký tự + và khoảng trắng thừa\n",
    "    print('P = ', strpol.strip('+').strip())\n",
    "# Tính tổng 2 đa thức:\n",
    "def tongDT(pol1, pol2):\n",
    "    pol = dict()\n",
    "    for key in pol1:\n",
    "        if (key in pol2):\n",
    "            pol[key] = pol1[key] + pol2[key]\n",
    "        else: pol[key] = pol1[key]\n",
    "    for key in pol2:\n",
    "            if key not in pol1:\n",
    "                pol1[key] = pol2[key]\n",
    "    return pol\n",
    "# Tính giá trị của đa thức tại điểm x0\n",
    "def giaTriDaThuc(pol, x0):\n",
    "    return sum(pol[pow]*x0**pow for pow in pol)\n",
    "\n",
    "\"\"\"---------- Chương trình chính ----------\"\"\"\n",
    "\n",
    "# Nhập đa thức pol\n",
    "print('Nhập đa thức 1: ')\n",
    "pol1 = NhapDT() #Gọi hàm nhập dữ liệu cho đa thức thứ nhất\n",
    "print('Nhập đa thức 2: ')\n",
    "pol2 = NhapDT() #Gọi hàm nhập dữ liệu cho đa thức thứ hai\n",
    "# Gọi hàm tính tổng hai đa thức gán vào biến pol\n",
    "pol = tongDT(pol1, pol2)\n",
    "x = 10\n",
    "# Hiển thị các đa thức:\n",
    "print('Đa thức 1: ')\n",
    "hienThiDT(pol1) #Gọi hàm hiển thị đa thức thứ nhất ra màn hình\n",
    "print('Đa thức 2: ')\n",
    "hienThiDT(pol2) #Gọi hàm hiển thị đa thức thứ hai ra màn hình\n",
    "print('Đa thức tổng: ')\n",
    "hienThiDT(pol) #Gọi hàm hiển thị đa thức tổng nhất ra màn hình\n",
    "# Hiển thị giá trị các đa thức tại điểm x0 = 10\n",
    "print('Giá trị đa thức 1: ')\n",
    "print(giaTriDaThuc(pol1, x))\n",
    "print('Giá trị đa thức 2: ')\n",
    "print(giaTriDaThuc(pol2, x))\n",
    "print('Giá trị đa thức tổng: ')\n",
    "print(giaTriDaThuc(pol, x))"
   ]
  },
  {
   "cell_type": "code",
   "execution_count": null,
   "id": "8dccc14b",
   "metadata": {},
   "outputs": [],
   "source": []
  }
 ],
 "metadata": {
  "kernelspec": {
   "display_name": "Python 3 (ipykernel)",
   "language": "python",
   "name": "python3"
  },
  "language_info": {
   "codemirror_mode": {
    "name": "ipython",
    "version": 3
   },
   "file_extension": ".py",
   "mimetype": "text/x-python",
   "name": "python",
   "nbconvert_exporter": "python",
   "pygments_lexer": "ipython3",
   "version": "3.12.3"
  }
 },
 "nbformat": 4,
 "nbformat_minor": 5
}
