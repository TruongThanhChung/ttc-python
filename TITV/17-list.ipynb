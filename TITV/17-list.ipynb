{
 "cells": [
  {
   "cell_type": "markdown",
   "id": "d53a001e-adb1-4c58-be45-66e9ddcd4f1a",
   "metadata": {},
   "source": [
    "KIỂU DỮ LIỆU LIST\n",
    "- List là một chuỗi các mục có thứ tự. Nó là một trong những kiểu dữ liệu được sử dụng nhiều nhất trong Python và rất linh hoạt.\n",
    "- Tất cả các mục trong danh sách không cần phải cùng loại.\n",
    "- Khai báo một danh sách khá đơn giản. Các mục được phân tách bằng dấu phẩy được đặt trong dấu ngoặc vuông []"
   ]
  },
  {
   "cell_type": "code",
   "execution_count": 1,
   "id": "18868787-63d9-454c-ba0a-bead65ba50f1",
   "metadata": {},
   "outputs": [
    {
     "name": "stdout",
     "output_type": "stream",
     "text": [
      "['Hồng', 'Anh', 'Ngân', 'Yến', 'Vy']\n"
     ]
    }
   ],
   "source": [
    "# tạo 1 danh sách lst\n",
    "lst = ['Hồng', 'Anh', 'Ngân', 'Yến', 'Vy']\n",
    "print(lst)"
   ]
  },
  {
   "cell_type": "code",
   "execution_count": 2,
   "id": "df1ab0d6-7d2c-490d-954d-008d70cdd2e7",
   "metadata": {},
   "outputs": [
    {
     "name": "stdout",
     "output_type": "stream",
     "text": [
      "Ngân\n",
      "Yến\n",
      "['Hồng', 'Anh', 'Ngân', 'Yến']\n"
     ]
    }
   ],
   "source": [
    "# Truy cập 1 phần tử trong ds theo thứ tự vị trí (từ 0 hoặc -n)\n",
    "print(lst[2])\n",
    "print(lst[-2])\n",
    "print(lst[0:4])"
   ]
  },
  {
   "cell_type": "code",
   "execution_count": 3,
   "id": "86568eab-7e1c-46f5-8954-321c86385fff",
   "metadata": {},
   "outputs": [
    {
     "name": "stdout",
     "output_type": "stream",
     "text": [
      "['Hồng', 'Anh', 'Ngân', 'Yến', 'Vy', 'Đạt', 'Hồng', 'Anh']\n"
     ]
    }
   ],
   "source": [
    "# Thêm 1 phần tử vào cuối ds\n",
    "lst.append('Đạt')\n",
    "lst.append('Hồng')\n",
    "lst[len(lst):] = ['Anh']\n",
    "print(lst)"
   ]
  },
  {
   "cell_type": "code",
   "execution_count": 4,
   "id": "829a5fc8-fd33-4e85-aad5-cd4c6a038353",
   "metadata": {},
   "outputs": [
    {
     "name": "stdout",
     "output_type": "stream",
     "text": [
      "['Anh', 'Hồng', 'Anh', 'Ngân', 'Vy', 'Yến', 'Ngân', 'Vy', 'Đạt', 'Hồng', 'Anh']\n"
     ]
    }
   ],
   "source": [
    "# Thêm 1 phần tử vào một vị trí\n",
    "lst.insert(3, 'Vy')\n",
    "lst.insert(5, 'Ngân')\n",
    "lst.insert(0, 'Anh')\n",
    "print(lst)"
   ]
  },
  {
   "cell_type": "code",
   "execution_count": 5,
   "id": "7ba915bb-618d-4c49-a7e7-1257e91812e9",
   "metadata": {},
   "outputs": [
    {
     "name": "stdout",
     "output_type": "stream",
     "text": [
      "['Anh', 'Anh', 'Anh', 'Hồng', 'Hồng', 'Ngân', 'Ngân', 'Vy', 'Vy', 'Yến', 'Đạt']\n"
     ]
    }
   ],
   "source": [
    "# sắp xếp từ trên xuống\n",
    "lst.sort()\n",
    "print(lst)"
   ]
  },
  {
   "cell_type": "code",
   "execution_count": 6,
   "id": "7ff37922-484d-4654-9ab1-2433bb345b7c",
   "metadata": {},
   "outputs": [
    {
     "name": "stdout",
     "output_type": "stream",
     "text": [
      "['Đạt', 'Yến', 'Vy', 'Vy', 'Ngân', 'Ngân', 'Hồng', 'Hồng', 'Anh', 'Anh', 'Anh']\n"
     ]
    }
   ],
   "source": [
    "# sắp xếp từ dưới lên\n",
    "lst.sort(reverse=True)\n",
    "print(lst)"
   ]
  },
  {
   "cell_type": "code",
   "execution_count": 7,
   "id": "85fd66da-bb62-403c-9be8-f17031212429",
   "metadata": {},
   "outputs": [
    {
     "name": "stdout",
     "output_type": "stream",
     "text": [
      "11\n"
     ]
    }
   ],
   "source": [
    "# đếm số phần tử\n",
    "len(lst)\n",
    "print(len(lst))"
   ]
  },
  {
   "cell_type": "code",
   "execution_count": 8,
   "id": "d5d76b93-f7ab-45a0-8bc4-7d70cde1b1fa",
   "metadata": {},
   "outputs": [
    {
     "name": "stdout",
     "output_type": "stream",
     "text": [
      "['Anh', 'Anh', 'Anh', 'Hồng', 'Hồng', 'Ngân', 'Ngân', 'Vy', 'Vy', 'Yến', 'Đạt']\n"
     ]
    }
   ],
   "source": [
    "# sắp xếp từ dưới lên\n",
    "lst.reverse()\n",
    "print(lst)"
   ]
  },
  {
   "cell_type": "code",
   "execution_count": 9,
   "id": "a434f6f1-b950-4f30-8064-f09efca9d41b",
   "metadata": {},
   "outputs": [
    {
     "name": "stdout",
     "output_type": "stream",
     "text": [
      "Đếm Bình:  0\n",
      "Đếm Anh:  3\n",
      "Đếm Vy:  2\n"
     ]
    }
   ],
   "source": [
    "# đếm số phần tử trong ds\n",
    "lst.count('Bình')\n",
    "lst.count('Anh')\n",
    "lst.count('Vy')\n",
    "print(\"Đếm Bình: \", lst.count('Bình'))\n",
    "print(\"Đếm Anh: \", lst.count('Anh'))\n",
    "print(\"Đếm Vy: \", lst.count('Vy'))"
   ]
  },
  {
   "cell_type": "code",
   "execution_count": 11,
   "id": "e50916db-f9eb-40df-816e-7e923db40f0e",
   "metadata": {},
   "outputs": [
    {
     "name": "stdout",
     "output_type": "stream",
     "text": [
      "Danh sách chưa xóa:  ['Anh', 'Anh', 'Anh', 'Hồng', 'Hồng', 'Ngân', 'Ngân', 'Vy', 'Vy', 'Yến', 'Đạt']\n",
      "Danh sách đã xóa lần 1:  ['Anh', 'Anh', 'Anh', 'Hồng', 'Ngân', 'Ngân', 'Vy', 'Vy', 'Yến', 'Đạt']\n",
      "Danh sách đã xóa lần 2:  ['Anh', 'Anh', 'Anh', 'Hồng', 'Ngân', 'Ngân', 'Vy', 'Vy', 'Đạt']\n",
      "Danh sách đã xóa lần 3:  ['Anh', 'Anh', 'Hồng', 'Ngân', 'Ngân', 'Vy', 'Vy', 'Đạt']\n"
     ]
    }
   ],
   "source": [
    "# xóa phần tử khỏi ds\n",
    "lst1 = ['Anh', 'Anh', 'Anh', 'Hồng', 'Hồng', 'Ngân', 'Ngân', 'Vy', 'Vy', 'Yến', 'Đạt']\n",
    "print('Danh sách chưa xóa: ', lst1)\n",
    "lst1.__delitem__(3)\n",
    "print('Danh sách đã xóa lần 1: ', lst1)\n",
    "lst1.pop(-2)\n",
    "print('Danh sách đã xóa lần 2: ', lst1)\n",
    "if 'Anh' in lst1:\n",
    "    lst1.remove('Anh')\n",
    "    print('Danh sách đã xóa lần 3: ', lst1)"
   ]
  },
  {
   "cell_type": "code",
   "execution_count": 1,
   "id": "5b38fe50-f4f4-473a-a4f0-d1b9f8382318",
   "metadata": {},
   "outputs": [
    {
     "name": "stdout",
     "output_type": "stream",
     "text": [
      "Đạt\n",
      "32\n",
      "Anh\n",
      "-5\n"
     ]
    }
   ],
   "source": [
    "lst2 = ['Anh', 'Anh', 'Anh', 'Hồng', 'Hồng', 'Ngân', 'Ngân', 'Vy', 'Vy', 'Yến', 'Đạt']\n",
    "lst3 = [0, 1, -5, 7, 8, 7, 9, 15, 12, 32, 24]\n",
    "print(max(lst2))\n",
    "print(max(lst3))\n",
    "print(min(lst2))\n",
    "print(min(lst3))"
   ]
  },
  {
   "cell_type": "code",
   "execution_count": 2,
   "id": "29a9a514-8959-413f-b8fe-cbda4fcf48cd",
   "metadata": {},
   "outputs": [
    {
     "name": "stdout",
     "output_type": "stream",
     "text": [
      "110\n"
     ]
    }
   ],
   "source": [
    "# Tính tổng các giá trị trong danh sách\n",
    "lst3 = [0, 1, -5, 7, 8, 7, 9, 15, 12, 32, 24]\n",
    "print(sum(lst3))"
   ]
  },
  {
   "cell_type": "code",
   "execution_count": 3,
   "id": "ca8526bf-f1bf-4c48-8ee7-14ba8ce24d40",
   "metadata": {},
   "outputs": [
    {
     "ename": "TypeError",
     "evalue": "unsupported operand type(s) for +: 'int' and 'str'",
     "output_type": "error",
     "traceback": [
      "\u001b[1;31m---------------------------------------------------------------------------\u001b[0m",
      "\u001b[1;31mTypeError\u001b[0m                                 Traceback (most recent call last)",
      "Cell \u001b[1;32mIn[3], line 2\u001b[0m\n\u001b[0;32m      1\u001b[0m lst2 \u001b[38;5;241m=\u001b[39m [\u001b[38;5;124m'\u001b[39m\u001b[38;5;124mAnh\u001b[39m\u001b[38;5;124m'\u001b[39m, \u001b[38;5;124m'\u001b[39m\u001b[38;5;124mAnh\u001b[39m\u001b[38;5;124m'\u001b[39m, \u001b[38;5;124m'\u001b[39m\u001b[38;5;124mAnh\u001b[39m\u001b[38;5;124m'\u001b[39m, \u001b[38;5;124m'\u001b[39m\u001b[38;5;124mHồng\u001b[39m\u001b[38;5;124m'\u001b[39m, \u001b[38;5;124m'\u001b[39m\u001b[38;5;124mHồng\u001b[39m\u001b[38;5;124m'\u001b[39m, \u001b[38;5;124m'\u001b[39m\u001b[38;5;124mNgân\u001b[39m\u001b[38;5;124m'\u001b[39m, \u001b[38;5;124m'\u001b[39m\u001b[38;5;124mNgân\u001b[39m\u001b[38;5;124m'\u001b[39m, \u001b[38;5;124m'\u001b[39m\u001b[38;5;124mVy\u001b[39m\u001b[38;5;124m'\u001b[39m, \u001b[38;5;124m'\u001b[39m\u001b[38;5;124mVy\u001b[39m\u001b[38;5;124m'\u001b[39m, \u001b[38;5;124m'\u001b[39m\u001b[38;5;124mYến\u001b[39m\u001b[38;5;124m'\u001b[39m, \u001b[38;5;124m'\u001b[39m\u001b[38;5;124mĐạt\u001b[39m\u001b[38;5;124m'\u001b[39m]\n\u001b[1;32m----> 2\u001b[0m \u001b[38;5;28mprint\u001b[39m(\u001b[38;5;28msum\u001b[39m(lst2))\n",
      "\u001b[1;31mTypeError\u001b[0m: unsupported operand type(s) for +: 'int' and 'str'"
     ]
    }
   ],
   "source": [
    "lst2 = ['Anh', 'Anh', 'Anh', 'Hồng', 'Hồng', 'Ngân', 'Ngân', 'Vy', 'Vy', 'Yến', 'Đạt']\n",
    "print(sum(lst2))"
   ]
  },
  {
   "cell_type": "code",
   "execution_count": null,
   "id": "68054724-cbb7-4f98-949f-d26183e20468",
   "metadata": {},
   "outputs": [],
   "source": []
  }
 ],
 "metadata": {
  "kernelspec": {
   "display_name": "Python 3 (ipykernel)",
   "language": "python",
   "name": "python3"
  },
  "language_info": {
   "codemirror_mode": {
    "name": "ipython",
    "version": 3
   },
   "file_extension": ".py",
   "mimetype": "text/x-python",
   "name": "python",
   "nbconvert_exporter": "python",
   "pygments_lexer": "ipython3",
   "version": "3.11.7"
  }
 },
 "nbformat": 4,
 "nbformat_minor": 5
}
