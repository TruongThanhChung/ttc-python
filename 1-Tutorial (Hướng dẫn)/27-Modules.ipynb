{
 "cells": [
  {
   "cell_type": "markdown",
   "id": "694c18b1-a8da-48b3-b359-d0d2d200eaa6",
   "metadata": {},
   "source": [
    "What is a Module?\n",
    "Consider a module to be the same as a code library.\n",
    "A file containing a set of functions you want to include in your application.\n",
    "Mô-đun là gì?\n",
    "Hãy coi một mô-đun giống như một thư viện mã.\n",
    "Một tệp chứa tập hợp các hàm bạn muốn đưa vào ứng dụng của mình."
   ]
  },
  {
   "cell_type": "markdown",
   "id": "46bae123-6755-499a-a73f-60ab1a87a812",
   "metadata": {},
   "source": [
    "Create a Module\n",
    "To create a module just save the code you want in a file with the file extension .py:\n",
    "Tạo một mô-đun\n",
    "Để tạo mô-đun, chỉ cần lưu mã bạn muốn vào một tệp có phần mở rộng tệp .py:"
   ]
  },
  {
   "cell_type": "code",
   "execution_count": 3,
   "id": "51899c04-2140-4517-a0b7-7aa09ae05588",
   "metadata": {},
   "outputs": [],
   "source": [
    "# Save this code in a file named mymodule.py\n",
    "# Lưu mã này vào một tệp có tên mymodule.py\n",
    "def greeting(name):\n",
    "  print(\"Hello, \" + name)"
   ]
  },
  {
   "cell_type": "markdown",
   "id": "80664b9d-9362-43a5-bf9e-dfabdbb31e2e",
   "metadata": {},
   "source": [
    "Use a Module\n",
    "Now we can use the module we just created, by using the import statement:\n",
    "Sử dụng một mô-đun\n",
    "Bây giờ chúng ta có thể sử dụng mô-đun vừa tạo bằng cách sử dụng câu importlệnh:"
   ]
  },
  {
   "cell_type": "code",
   "execution_count": 4,
   "id": "0baaf4c4-4cb2-4bce-bfb8-341a0b9d1d88",
   "metadata": {},
   "outputs": [
    {
     "ename": "ModuleNotFoundError",
     "evalue": "No module named 'mymodule'",
     "output_type": "error",
     "traceback": [
      "\u001b[1;31m---------------------------------------------------------------------------\u001b[0m",
      "\u001b[1;31mModuleNotFoundError\u001b[0m                       Traceback (most recent call last)",
      "Cell \u001b[1;32mIn[4], line 3\u001b[0m\n\u001b[0;32m      1\u001b[0m \u001b[38;5;66;03m# Import the module named mymodule, and call the greeting function:\u001b[39;00m\n\u001b[0;32m      2\u001b[0m \u001b[38;5;66;03m# Nhập mô-đun có tên mymodule và gọi hàm chào mừng:\u001b[39;00m\n\u001b[1;32m----> 3\u001b[0m \u001b[38;5;28;01mimport\u001b[39;00m \u001b[38;5;21;01mmymodule\u001b[39;00m\n\u001b[0;32m      5\u001b[0m mymodule\u001b[38;5;241m.\u001b[39mgreeting(\u001b[38;5;124m\"\u001b[39m\u001b[38;5;124mJonathan\u001b[39m\u001b[38;5;124m\"\u001b[39m)\n",
      "\u001b[1;31mModuleNotFoundError\u001b[0m: No module named 'mymodule'"
     ]
    }
   ],
   "source": [
    "# Import the module named mymodule, and call the greeting function:\n",
    "# Nhập mô-đun có tên mymodule và gọi hàm chào mừng:\n",
    "import mymodule\n",
    "\n",
    "mymodule.greeting(\"Jonathan\")"
   ]
  },
  {
   "cell_type": "markdown",
   "id": "4e0c8d3b-b284-45f2-9458-c3b437567c0d",
   "metadata": {},
   "source": [
    "Note: When using a function from a module, use the syntax: module_name.function_name.\n",
    "Lưu ý: Khi sử dụng hàm từ mô-đun, hãy sử dụng cú pháp: module_name.function_name ."
   ]
  },
  {
   "cell_type": "markdown",
   "id": "ac66349e-b57d-4764-9ce2-4947f25926d0",
   "metadata": {},
   "source": [
    "Variables in Module\n",
    "The module can contain functions, as already described, but also variables of all types (arrays, dictionaries, objects etc):\n",
    "Các biến trong mô-đun\n",
    "Mô-đun này có thể chứa các hàm, như đã được mô tả, nhưng cũng có thể chứa các biến thuộc mọi loại (mảng, từ điển, đối tượng, v.v.):"
   ]
  },
  {
   "cell_type": "code",
   "execution_count": 5,
   "id": "df692f9d-374a-43a9-b07f-6d2b8bcb4254",
   "metadata": {},
   "outputs": [],
   "source": [
    "# Save this code in the file mymodule.py\n",
    "# Lưu mã này vào tập tinmymodule.py\n",
    "person1 = {\n",
    "  \"name\": \"John\",\n",
    "  \"age\": 36,\n",
    "  \"country\": \"Norway\"\n",
    "}"
   ]
  },
  {
   "cell_type": "code",
   "execution_count": 6,
   "id": "b7946fd2-8dd1-462b-9817-95833c75922f",
   "metadata": {},
   "outputs": [
    {
     "ename": "ModuleNotFoundError",
     "evalue": "No module named 'mymodule'",
     "output_type": "error",
     "traceback": [
      "\u001b[1;31m---------------------------------------------------------------------------\u001b[0m",
      "\u001b[1;31mModuleNotFoundError\u001b[0m                       Traceback (most recent call last)",
      "Cell \u001b[1;32mIn[6], line 3\u001b[0m\n\u001b[0;32m      1\u001b[0m \u001b[38;5;66;03m# Import the module named mymodule, and access the person1 dictionary:\u001b[39;00m\n\u001b[0;32m      2\u001b[0m \u001b[38;5;66;03m# Nhập mô-đun có tên mymodule và truy cập từ điển Person1:\u001b[39;00m\n\u001b[1;32m----> 3\u001b[0m \u001b[38;5;28;01mimport\u001b[39;00m \u001b[38;5;21;01mmymodule\u001b[39;00m\n\u001b[0;32m      5\u001b[0m a \u001b[38;5;241m=\u001b[39m mymodule\u001b[38;5;241m.\u001b[39mperson1[\u001b[38;5;124m\"\u001b[39m\u001b[38;5;124mage\u001b[39m\u001b[38;5;124m\"\u001b[39m]\n\u001b[0;32m      6\u001b[0m \u001b[38;5;28mprint\u001b[39m(a)\n",
      "\u001b[1;31mModuleNotFoundError\u001b[0m: No module named 'mymodule'"
     ]
    }
   ],
   "source": [
    "# Import the module named mymodule, and access the person1 dictionary:\n",
    "# Nhập mô-đun có tên mymodule và truy cập từ điển Person1:\n",
    "import mymodule\n",
    "\n",
    "a = mymodule.person1[\"age\"]\n",
    "print(a)"
   ]
  },
  {
   "cell_type": "markdown",
   "id": "17ba53c8-c5f2-4eb8-95d2-dea6ada068bd",
   "metadata": {},
   "source": [
    "Naming a Module\n",
    "You can name the module file whatever you like, but it must have the file extension .py\n",
    "Đặt tên một mô-đun\n",
    "Bạn có thể đặt tên file module tùy thích nhưng phải có phần mở rộng file .py"
   ]
  },
  {
   "cell_type": "markdown",
   "id": "85930496-e63a-40f3-919e-15cee14e6eda",
   "metadata": {},
   "source": [
    "Re-naming a Module\n",
    "You can create an alias when you import a module, by using the as keyword:\n",
    "Đặt tên lại một mô-đun\n",
    "Bạn có thể tạo bí danh khi nhập mô-đun bằng cách sử dụng astừ khóa:"
   ]
  },
  {
   "cell_type": "code",
   "execution_count": 7,
   "id": "3201096a-08f5-4af1-a599-6310c902215e",
   "metadata": {},
   "outputs": [
    {
     "ename": "ModuleNotFoundError",
     "evalue": "No module named 'mymodule'",
     "output_type": "error",
     "traceback": [
      "\u001b[1;31m---------------------------------------------------------------------------\u001b[0m",
      "\u001b[1;31mModuleNotFoundError\u001b[0m                       Traceback (most recent call last)",
      "Cell \u001b[1;32mIn[7], line 3\u001b[0m\n\u001b[0;32m      1\u001b[0m \u001b[38;5;66;03m# Create an alias for mymodule called mx:\u001b[39;00m\n\u001b[0;32m      2\u001b[0m \u001b[38;5;66;03m# Tạo bí danh cho được mymodulegọi mx:\u001b[39;00m\n\u001b[1;32m----> 3\u001b[0m \u001b[38;5;28;01mimport\u001b[39;00m \u001b[38;5;21;01mmymodule\u001b[39;00m \u001b[38;5;28;01mas\u001b[39;00m \u001b[38;5;21;01mmx\u001b[39;00m\n\u001b[0;32m      5\u001b[0m a \u001b[38;5;241m=\u001b[39m mx\u001b[38;5;241m.\u001b[39mperson1[\u001b[38;5;124m\"\u001b[39m\u001b[38;5;124mage\u001b[39m\u001b[38;5;124m\"\u001b[39m]\n\u001b[0;32m      6\u001b[0m \u001b[38;5;28mprint\u001b[39m(a)\n",
      "\u001b[1;31mModuleNotFoundError\u001b[0m: No module named 'mymodule'"
     ]
    }
   ],
   "source": [
    "# Create an alias for mymodule called mx:\n",
    "# Tạo bí danh cho được mymodulegọi mx:\n",
    "import mymodule as mx\n",
    "\n",
    "a = mx.person1[\"age\"]\n",
    "print(a)"
   ]
  },
  {
   "cell_type": "markdown",
   "id": "42c70ad9-de0e-487c-b3aa-bda87b478a22",
   "metadata": {},
   "source": [
    "Built-in Modules\n",
    "There are several built-in modules in Python, which you can import whenever you like.\n",
    "Mô-đun tích hợp\n",
    "Có một số mô-đun tích hợp sẵn trong Python mà bạn có thể nhập bất cứ khi nào bạn muốn."
   ]
  },
  {
   "cell_type": "code",
   "execution_count": 8,
   "id": "03af02e4-3566-4d78-bfd7-944754cd9b00",
   "metadata": {},
   "outputs": [
    {
     "name": "stdout",
     "output_type": "stream",
     "text": [
      "Windows\n"
     ]
    }
   ],
   "source": [
    "# Import and use the platform module:\n",
    "# Nhập và sử dụng platformmô-đun:\n",
    "import platform\n",
    "\n",
    "x = platform.system()\n",
    "print(x)"
   ]
  },
  {
   "cell_type": "markdown",
   "id": "1fa7b164-f1e8-4500-b396-1fb68e9a6e5a",
   "metadata": {},
   "source": [
    "Using the dir() Function\n",
    "There is a built-in function to list all the function names (or variable names) in a module. The dir() function:\n",
    "Sử dụng hàm dir()\n",
    "Có một hàm tích hợp để liệt kê tất cả các tên hàm (hoặc tên biến) trong một mô-đun. Chức dir()năng:"
   ]
  },
  {
   "cell_type": "code",
   "execution_count": 9,
   "id": "72550cd1-e95c-47bc-ae03-9356c057d891",
   "metadata": {},
   "outputs": [
    {
     "name": "stdout",
     "output_type": "stream",
     "text": [
      "['_Processor', '_WIN32_CLIENT_RELEASES', '_WIN32_SERVER_RELEASES', '__builtins__', '__cached__', '__copyright__', '__doc__', '__file__', '__loader__', '__name__', '__package__', '__spec__', '__version__', '_comparable_version', '_default_architecture', '_follow_symlinks', '_get_machine_win32', '_java_getprop', '_mac_ver_xml', '_node', '_norm_version', '_os_release_cache', '_os_release_candidates', '_parse_os_release', '_platform', '_platform_cache', '_sys_version', '_sys_version_cache', '_syscmd_file', '_syscmd_ver', '_uname_cache', '_unknown_as_blank', '_ver_stages', '_win32_ver', '_wmi', '_wmi_query', 'architecture', 'collections', 'freedesktop_os_release', 'functools', 'itertools', 'java_ver', 'libc_ver', 'mac_ver', 'machine', 'node', 'os', 'platform', 'processor', 'python_branch', 'python_build', 'python_compiler', 'python_implementation', 'python_revision', 'python_version', 'python_version_tuple', 're', 'release', 'sys', 'system', 'system_alias', 'uname', 'uname_result', 'version', 'win32_edition', 'win32_is_iot', 'win32_ver']\n"
     ]
    }
   ],
   "source": [
    "# List all the defined names belonging to the platform module:\n",
    "# Liệt kê tất cả các tên được xác định thuộc mô-đun nền tảng:\n",
    "import platform\n",
    "\n",
    "x = dir(platform)\n",
    "print(x)"
   ]
  },
  {
   "cell_type": "markdown",
   "id": "b3bfefce-03bb-49c1-96c7-8da745564487",
   "metadata": {},
   "source": [
    "Note: The dir() function can be used on all modules, also the ones you create yourself.\n",
    "Lưu ý: Hàm dir() có thể được sử dụng trên tất cả các mô-đun, kể cả những mô-đun bạn tự tạo."
   ]
  },
  {
   "cell_type": "markdown",
   "id": "204b1a01-a064-4369-bf47-59898293c73f",
   "metadata": {},
   "source": [
    "Import From Module\n",
    "You can choose to import only parts from a module, by using the from keyword.\n",
    "Nhập từ mô-đun\n",
    "Bạn có thể chọn chỉ nhập các phần từ mô-đun bằng cách sử dụng from từ khóa."
   ]
  },
  {
   "cell_type": "code",
   "execution_count": 10,
   "id": "17820501-bc89-4d75-bb5c-d0b3391862e6",
   "metadata": {},
   "outputs": [],
   "source": [
    "# The module named mymodule has one function and one dictionary:\n",
    "# Mô-đun có tên mymodule có một chức năng và một từ điển:\n",
    "def greeting(name):\n",
    "  print(\"Hello, \" + name)\n",
    "\n",
    "person1 = {\n",
    "  \"name\": \"John\",\n",
    "  \"age\": 36,\n",
    "  \"country\": \"Norway\"\n",
    "}"
   ]
  },
  {
   "cell_type": "code",
   "execution_count": 11,
   "id": "694edbbe-4a61-4261-87da-d37a6706bed9",
   "metadata": {},
   "outputs": [
    {
     "ename": "ModuleNotFoundError",
     "evalue": "No module named 'mymodule'",
     "output_type": "error",
     "traceback": [
      "\u001b[1;31m---------------------------------------------------------------------------\u001b[0m",
      "\u001b[1;31mModuleNotFoundError\u001b[0m                       Traceback (most recent call last)",
      "Cell \u001b[1;32mIn[11], line 3\u001b[0m\n\u001b[0;32m      1\u001b[0m \u001b[38;5;66;03m# Import only the person1 dictionary from the module:\u001b[39;00m\n\u001b[0;32m      2\u001b[0m \u001b[38;5;66;03m# Chỉ nhập từ điển Person1 từ mô-đun:\u001b[39;00m\n\u001b[1;32m----> 3\u001b[0m \u001b[38;5;28;01mfrom\u001b[39;00m \u001b[38;5;21;01mmymodule\u001b[39;00m \u001b[38;5;28;01mimport\u001b[39;00m person1\n\u001b[0;32m      5\u001b[0m \u001b[38;5;28mprint\u001b[39m (person1[\u001b[38;5;124m\"\u001b[39m\u001b[38;5;124mage\u001b[39m\u001b[38;5;124m\"\u001b[39m])\n",
      "\u001b[1;31mModuleNotFoundError\u001b[0m: No module named 'mymodule'"
     ]
    }
   ],
   "source": [
    "# Import only the person1 dictionary from the module:\n",
    "# Chỉ nhập từ điển Person1 từ mô-đun:\n",
    "from mymodule import person1\n",
    "\n",
    "print (person1[\"age\"])"
   ]
  },
  {
   "cell_type": "markdown",
   "id": "8ef56296-00a2-4cd9-b6a6-f77724c5956a",
   "metadata": {},
   "source": [
    "Note: When importing using the from keyword, do not use the module name when referring to elements in the module. Example: person1[\"age\"], not mymodule.person1[\"age\"]\n",
    "Lưu ý: Khi nhập bằng from từ khóa, không sử dụng tên mô-đun khi đề cập đến các thành phần trong mô-đun. Ví dụ: person1[\"age\"], không mymodule.person1[\"age\"]"
   ]
  }
 ],
 "metadata": {
  "kernelspec": {
   "display_name": "Python 3 (ipykernel)",
   "language": "python",
   "name": "python3"
  },
  "language_info": {
   "codemirror_mode": {
    "name": "ipython",
    "version": 3
   },
   "file_extension": ".py",
   "mimetype": "text/x-python",
   "name": "python",
   "nbconvert_exporter": "python",
   "pygments_lexer": "ipython3",
   "version": "3.12.3"
  }
 },
 "nbformat": 4,
 "nbformat_minor": 5
}
