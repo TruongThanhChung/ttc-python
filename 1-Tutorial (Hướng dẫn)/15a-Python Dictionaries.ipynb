{
 "cells": [
  {
   "cell_type": "markdown",
   "id": "71462c79-dccb-4af5-bf2a-0d8b7473bc8b",
   "metadata": {},
   "source": [
    "# Dictionary\n",
    "Dictionaries are used to store data values in key : value pairs.\n",
    "A dictionary is a collection which is ordered*, changeable and do not allow duplicates.\n",
    "As of Python version 3.7, dictionaries are ordered. In Python 3.6 and earlier, dictionaries are unordered.\n",
    "Dictionaries are written with curly brackets, and have keys and values:\n",
    "\n",
    "# Từ điển\n",
    "Từ điển được sử dụng để lưu trữ các giá trị dữ liệu theo cặp khóa : giá trị.\n",
    "Từ điển là một bộ sưu tập được sắp xếp theo thứ tự*, có thể thay đổi và không cho phép trùng lặp.\n",
    "Kể từ phiên bản Python 3.7, từ điển được sắp xếp theo thứ tự . Trong Python 3.6 trở về trước, từ điển không có thứ tự .\n",
    "Từ điển được viết bằng dấu ngoặc nhọn và có các khóa và giá trị: {}"
   ]
  },
  {
   "cell_type": "code",
   "execution_count": 1,
   "id": "ae2f2de4-fe7f-406a-99a4-9c9389323ca5",
   "metadata": {},
   "outputs": [
    {
     "name": "stdout",
     "output_type": "stream",
     "text": [
      "{'brand': 'Ford', 'model': 'Mustang', 'year': 1964}\n"
     ]
    }
   ],
   "source": [
    "# Create and print a dictionary:\n",
    "# Tạo và in từ điển:\n",
    "thisdict = {\n",
    "  \"brand\": \"Ford\",\n",
    "  \"model\": \"Mustang\",\n",
    "  \"year\": 1964\n",
    "}\n",
    "print(thisdict)"
   ]
  },
  {
   "cell_type": "markdown",
   "id": "eb11ebbc-26b8-4f9e-b333-54e7ed3b70ff",
   "metadata": {},
   "source": [
    "# Dictionary Items\n",
    "Dictionary items are ordered, changeable, and do not allow duplicates.\n",
    "Dictionary items are presented in key:value pairs, and can be referred to by using the key name.\n",
    "# Mục từ điển\n",
    "Các mục từ điển được sắp xếp theo thứ tự, có thể thay đổi và không cho phép trùng lặp.\n",
    "Các mục từ điển được trình bày theo cặp khóa:giá trị và có thể được tham chiếu bằng cách sử dụng tên khóa."
   ]
  },
  {
   "cell_type": "code",
   "execution_count": 2,
   "id": "b04c01e2-1eb8-48ad-baa4-b87dd7673259",
   "metadata": {},
   "outputs": [
    {
     "name": "stdout",
     "output_type": "stream",
     "text": [
      "Ford\n"
     ]
    }
   ],
   "source": [
    "# Print the \"brand\" value of the dictionary:\n",
    "# In giá trị \"thương hiệu\" của từ điển:\n",
    "thisdict = {\n",
    "  \"brand\": \"Ford\",\n",
    "  \"model\": \"Mustang\",\n",
    "  \"year\": 1964\n",
    "}\n",
    "print(thisdict[\"brand\"])"
   ]
  },
  {
   "cell_type": "markdown",
   "id": "473767f3-3450-4e9f-a641-5e916bc660ca",
   "metadata": {},
   "source": [
    "# Ordered or Unordered?\n",
    "As of Python version 3.7, dictionaries are ordered. In Python 3.6 and earlier, dictionaries are unordered.\n",
    "When we say that dictionaries are ordered, it means that the items have a defined order, and that order will not change.\n",
    "Unordered means that the items do not have a defined order, you cannot refer to an item by using an index.\n",
    "\n",
    "# Có thứ tự hay không có thứ tự?\n",
    "Kể từ phiên bản Python 3.7, từ điển được sắp xếp theo thứ tự . Trong Python 3.6 trở về trước, từ điển không có thứ tự .\n",
    "Khi chúng ta nói từ điển được sắp xếp theo thứ tự, điều đó có nghĩa là các mục có một thứ tự xác định và thứ tự đó sẽ không thay đổi.\n",
    "Không có thứ tự có nghĩa là các mục không có thứ tự xác định, bạn không thể tham chiếu đến một mục bằng cách sử dụng chỉ mục."
   ]
  },
  {
   "cell_type": "markdown",
   "id": "abd68225-8e95-4591-baeb-a82b3c28a977",
   "metadata": {},
   "source": [
    "# Changeable\n",
    "Dictionaries are changeable, meaning that we can change, add or remove items after the dictionary has been created.\n",
    "# Có thể thay đổi\n",
    "Từ điển có thể thay đổi được, nghĩa là chúng ta có thể thay đổi, thêm hoặc bớt các mục sau khi từ điển được tạo."
   ]
  },
  {
   "cell_type": "markdown",
   "id": "0fb3d783-6a16-466c-9d7c-58dcd58c0086",
   "metadata": {},
   "source": [
    "# Duplicates Not Allowed\n",
    "Dictionaries cannot have two items with the same key:\n",
    "# Bản sao không được phép\n",
    "Từ điển không thể có hai mục có cùng khóa:"
   ]
  },
  {
   "cell_type": "code",
   "execution_count": 3,
   "id": "e82d19aa-6b79-48f8-a882-f6d58ae32351",
   "metadata": {},
   "outputs": [
    {
     "name": "stdout",
     "output_type": "stream",
     "text": [
      "{'brand': 'Ford', 'model': 'Mustang', 'year': 2020}\n"
     ]
    }
   ],
   "source": [
    "# Duplicate values will overwrite existing values:\n",
    "# Các giá trị trùng lặp sẽ ghi đè lên các giá trị hiện có:\n",
    "thisdict = {\n",
    "  \"brand\": \"Ford\",\n",
    "  \"model\": \"Mustang\",\n",
    "  \"year\": 1964,\n",
    "  \"year\": 2020\n",
    "}\n",
    "print(thisdict)"
   ]
  },
  {
   "cell_type": "markdown",
   "id": "760aa7d6-092f-47ff-8cc1-8818ab02c623",
   "metadata": {},
   "source": [
    "# Dictionary Length\n",
    "To determine how many items a dictionary has, use the len() function:\n",
    "# Độ dài từ điển\n",
    "Để xác định một từ điển có bao nhiêu mục, hãy sử dụng len()hàm:"
   ]
  },
  {
   "cell_type": "code",
   "execution_count": 4,
   "id": "94866947-a4eb-4bf0-b311-1b0fdaef7ae2",
   "metadata": {},
   "outputs": [
    {
     "name": "stdout",
     "output_type": "stream",
     "text": [
      "3\n"
     ]
    }
   ],
   "source": [
    "# Print the number of items in the dictionary:\n",
    "# In số mục trong từ điển:\n",
    "print(len(thisdict))"
   ]
  },
  {
   "cell_type": "markdown",
   "id": "6fe75a90-c064-4397-82eb-06181b6fd550",
   "metadata": {},
   "source": [
    "# Dictionary Items - Data Types\n",
    "The values in dictionary items can be of any data type:\n",
    "# Mục từ điển - Kiểu dữ liệu\n",
    "Các giá trị trong các mục từ điển có thể thuộc bất kỳ loại dữ liệu nào:"
   ]
  },
  {
   "cell_type": "code",
   "execution_count": 5,
   "id": "18245afc-a354-49f3-be4c-7d8b06519006",
   "metadata": {},
   "outputs": [],
   "source": [
    "# String, int, boolean, and list data types:\n",
    "# Các kiểu dữ liệu chuỗi, int, boolean và danh sách:\n",
    "thisdict = {\n",
    "  \"brand\": \"Ford\",\n",
    "  \"electric\": False,\n",
    "  \"year\": 1964,\n",
    "  \"colors\": [\"red\", \"white\", \"blue\"]\n",
    "}"
   ]
  },
  {
   "cell_type": "markdown",
   "id": "363c1f62-c6d7-4ea7-b6b2-4464d321b68c",
   "metadata": {},
   "source": [
    "# type()\n",
    "From Python's perspective, dictionaries are defined as objects with the data type 'dict': <class 'dict'>\n",
    "# kiểu()\n",
    "Theo quan điểm của Python, từ điển được định nghĩa là các đối tượng có kiểu dữ liệu 'dict': <class 'dict'>"
   ]
  },
  {
   "cell_type": "code",
   "execution_count": 6,
   "id": "201612c9-f0e7-47ce-ab8b-edb73e05b075",
   "metadata": {},
   "outputs": [
    {
     "name": "stdout",
     "output_type": "stream",
     "text": [
      "<class 'dict'>\n"
     ]
    }
   ],
   "source": [
    "# Print the data type of a dictionary:\n",
    "# In kiểu dữ liệu của từ điển:\n",
    "thisdict = {\n",
    "  \"brand\": \"Ford\",\n",
    "  \"model\": \"Mustang\",\n",
    "  \"year\": 1964\n",
    "}\n",
    "print(type(thisdict))"
   ]
  },
  {
   "cell_type": "markdown",
   "id": "667e3b1b-df4a-4869-8038-ed4d45afdca5",
   "metadata": {},
   "source": [
    "# The dict() Constructor\n",
    "It is also possible to use the dict() constructor to make a dictionary.\n",
    "# Trình xây dựng dict()\n",
    "Cũng có thể sử dụng hàm tạo dict() để tạo từ điển."
   ]
  },
  {
   "cell_type": "code",
   "execution_count": 7,
   "id": "785d8692-8504-4d2b-8091-ae22d6c5221c",
   "metadata": {},
   "outputs": [
    {
     "name": "stdout",
     "output_type": "stream",
     "text": [
      "{'name': 'John', 'age': 36, 'country': 'Norway'}\n"
     ]
    }
   ],
   "source": [
    "# Using the dict() method to make a dictionary:\n",
    "# Sử dụng phương thức dict() để tạo từ điển:\n",
    "thisdict = dict(name = \"John\", age = 36, country = \"Norway\")\n",
    "print(thisdict)"
   ]
  },
  {
   "cell_type": "markdown",
   "id": "85a61ecc-b329-42c7-9557-5203a38dd77d",
   "metadata": {},
   "source": [
    "# Python Collections (Arrays)\n",
    "There are four collection data types in the Python programming language:\n",
    "List is a collection which is ordered and changeable. Allows duplicate members.\n",
    "Tuple is a collection which is ordered and unchangeable. Allows duplicate members.\n",
    "Set is a collection which is unordered, unchangeable*, and unindexed. No duplicate members.\n",
    "Dictionary is a collection which is ordered** and changeable. No duplicate members.\n",
    "*Set items are unchangeable, but you can remove and/or add items whenever you like.\n",
    "**As of Python version 3.7, dictionaries are ordered. In Python 3.6 and earlier, dictionaries are unordered.\n",
    "When choosing a collection type, it is useful to understand the properties of that type. Choosing the right type for a particular data set could mean retention of meaning, and, it could mean an increase in efficiency or security.\n",
    "\n",
    "# Bộ sưu tập Python (Mảng)\n",
    "Có bốn loại dữ liệu bộ sưu tập trong ngôn ngữ lập trình Python:\n",
    "Danh sách là một bộ sưu tập được sắp xếp và có thể thay đổi. Cho phép thành viên trùng lặp.\n",
    "Tuple là một bộ sưu tập được sắp xếp và không thể thay đổi. Cho phép thành viên trùng lặp.\n",
    "Set là một bộ sưu tập không có thứ tự, không thể thay đổi* và không được lập chỉ mục. Không có thành viên trùng lặp.\n",
    "Từ điển là một bộ sưu tập được sắp xếp** và có thể thay đổi. Không có thành viên trùng lặp.\n",
    "* Các mục đã đặt không thể thay đổi nhưng bạn có thể xóa và/hoặc thêm các mục bất cứ khi nào bạn muốn.\n",
    "**Kể từ phiên bản Python 3.7, từ điển được sắp xếp theo thứ tự . Trong Python 3.6 trở về trước, từ điển không có thứ tự .\n",
    "Khi chọn loại bộ sưu tập, việc hiểu các thuộc tính của loại đó là rất hữu ích. Việc chọn đúng loại cho một tập dữ liệu cụ thể có thể đồng nghĩa với việc duy trì ý nghĩa và có thể đồng nghĩa với việc tăng hiệu quả hoặc tính bảo mật."
   ]
  }
 ],
 "metadata": {
  "kernelspec": {
   "display_name": "Python 3 (ipykernel)",
   "language": "python",
   "name": "python3"
  },
  "language_info": {
   "codemirror_mode": {
    "name": "ipython",
    "version": 3
   },
   "file_extension": ".py",
   "mimetype": "text/x-python",
   "name": "python",
   "nbconvert_exporter": "python",
   "pygments_lexer": "ipython3",
   "version": "3.12.3"
  }
 },
 "nbformat": 4,
 "nbformat_minor": 5
}
