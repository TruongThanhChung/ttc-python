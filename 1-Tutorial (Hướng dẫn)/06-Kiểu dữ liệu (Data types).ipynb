{
 "cells": [
  {
   "cell_type": "markdown",
   "id": "47e97471-e11e-4982-b77c-902f6066a9ea",
   "metadata": {},
   "source": [
    "Built-in Data Types\r\n",
    "In programming, data type is an important concept\r\n",
    "\r\n",
    "Variables can store data of different types, and different types can do different thins.\r\n",
    "\r\n",
    "Python has the following data types built-in by default, in these categoies:\r\n",
    "\r\n",
    "Text Type:\tstr\r\n",
    "Numeric Types:\tint, float, complex\r\n",
    "Sequence Types:\tlist, tuple, range\r\n",
    "Mapping Type:\tdict\r\n",
    "Set Types:\tset, frozenset\r\n",
    "Boolean Type:\tbool\r\n",
    "Binary Types:\tbytes, bytearray, memoryview\r\n",
    "None \n",
    "Type:\tNoneType\n",
    "Các kiểu dữ liệu tích hợp\n",
    "Trong lập trình, kiểu dữ liệu là một khái niệm quan trọng.\n",
    "Các biến có thể lưu trữ dữ liệu thuộc nhiều loại khác nhau và các loại khác nhau có thể thực hiện những việc khác nhau.\n",
    "Theo mặc định, Python có các kiểu dữ liệu sau được tích hợp sẵn, thuộc các danh mục sau:\n",
    "Dạng văn bản:\t    str\n",
    "Các loại số:\t    int, float, complex\n",
    "Các loại trình tự:\tlist, tuple, range\n",
    "Loại bản đồ:\t    dict\n",
    "Đặt loại:\t        set,frozenset\n",
    "Kiểu Boolean:\t    bool\n",
    "Các loại nhị phân:\tbytes, bytearray, memoryview\n",
    "Loại:\t            NoneType"
   ]
  },
  {
   "cell_type": "markdown",
   "id": "7ff067ac-715e-4b0f-a1b8-dde5aeee6e31",
   "metadata": {},
   "source": [
    "Getting the Data Type\r\n",
    "You can get the data type of any object by using the type() function\n",
    "Lấy kiểu dữ liệu\r\n",
    "Bạn có thể lấy kiểu dữ liệu của bất kỳ đối tượng nào bằng cách sử dụng type()hàm::"
   ]
  },
  {
   "cell_type": "code",
   "execution_count": 3,
   "id": "0303e159-3d52-4084-be83-949edec8f01e",
   "metadata": {},
   "outputs": [
    {
     "name": "stdout",
     "output_type": "stream",
     "text": [
      "<class 'int'>\n",
      "<class 'str'>\n",
      "<class 'float'>\n",
      "<class 'complex'>\n",
      "<class 'list'>\n",
      "<class 'bool'>\n"
     ]
    }
   ],
   "source": [
    "# Print the data type of the variable x:\n",
    "# In kiểu dữ liệu của biến x:\n",
    "x = 5\n",
    "y = \"ABC\"\n",
    "z = 3.14159\n",
    "a = 1 + 2j\n",
    "b = [1, 2, 3, 4]\n",
    "c = True\n",
    "print(type(x))\n",
    "print(type(y))\n",
    "print(type(z))\n",
    "print(type(a))\n",
    "print(type(b))\n",
    "print(type(c))"
   ]
  },
  {
   "cell_type": "markdown",
   "id": "b40478eb-3c5e-4af1-9182-6b7945651c2d",
   "metadata": {},
   "source": [
    "Setting the Data Type\r\n",
    "In Python, the data type is set when you assign a value to a variable: Đặt kiểu dữ liệu\n",
    "Trong Python, kiểu dữ liệu được đặt khi bạn gán giá trị cho một biến'\n",
    "x = \"Hello World\"\t                str\t\n",
    "x = 20\t                            int\t\n",
    "x = 20.5\t                        float\t\n",
    "x = 1j\t                            complex\t\n",
    "x = [\"apple\", \"banana\", \"cherry\"]\tlist\t\n",
    "x = (\"apple\", \"banana\", \"cherry\")\ttuple\t\n",
    "x = range(6)\t                    range\t\n",
    "x = {\"name\" : \"John\", \"age\" : 36}\tdict\t\n",
    "x = {\"apple\", \"banana\", \"cherry\"}\tset\t\n",
    "x = frozenset({\"apple\", \"banana\", \"cherry\"})\tfrozenset\t\n",
    "x = True\t                        bool\t\n",
    "x = b\"Hello\"\t                    bytes\t\n",
    "x = bytearray(5)\t                bytearray\t\n",
    "x = memoryview(bytes(5))\t        memoryview\t\n",
    "x = None\t                        NoneType"
   ]
  },
  {
   "cell_type": "markdown",
   "id": "c5b820a4-4f80-4f71-8bf6-59ef35d618ea",
   "metadata": {},
   "source": [
    "Setting the Specific Data Type\r\n",
    "If you want to specify the data type, you can use the following constructor functions\n",
    "Đặt loại dữ liệu cụ thể: Nếu bạn muốn chỉ định kiểu dữ liệu, bạn có thể sử dụng các hàm tạo sau:\n",
    "x = str(\"Hello World\")\t                         str\t\n",
    "x = int(20)\t                                     int\t\n",
    "x = float(20.5)\t                                 float\t\n",
    "x = complex(1j)\t                                 complex\t\n",
    "x = list((\"apple\", \"banana\", \"cherry\"))\t         list\t\n",
    "x = tuple((\"apple\", \"banana\", \"cherry\"))\t     tuple\t\n",
    "x = range(6)\t                                 range\t\n",
    "x = dict(name=\"John\", age=36)\t                 dict\t\n",
    "x = set((\"apple\", \"banana\", \"cherry\"))\t         set\t\n",
    "x = frozenset((\"apple\", \"banana\", \"cherry\"))\t frozenset\t\n",
    "x = bool(5)\t                                     bool\t\n",
    "x = bytes(5)\t                                 bytes\t\n",
    "x = bytearray(5)\t                             bytearray\t\n",
    "x = memoryview(bytes(5))\t                     memoryview"
   ]
  },
  {
   "cell_type": "code",
   "execution_count": null,
   "id": "a9652b02-1774-4773-827c-12a929708045",
   "metadata": {},
   "outputs": [],
   "source": []
  }
 ],
 "metadata": {
  "kernelspec": {
   "display_name": "Python 3 (ipykernel)",
   "language": "python",
   "name": "python3"
  },
  "language_info": {
   "codemirror_mode": {
    "name": "ipython",
    "version": 3
   },
   "file_extension": ".py",
   "mimetype": "text/x-python",
   "name": "python",
   "nbconvert_exporter": "python",
   "pygments_lexer": "ipython3",
   "version": "3.11.7"
  }
 },
 "nbformat": 4,
 "nbformat_minor": 5
}
