{
 "cells": [
  {
   "cell_type": "markdown",
   "id": "974dfe7f-f1d7-4806-ba93-780000f03bd1",
   "metadata": {},
   "source": [
    "Add Items\n",
    "Once a set is created, you cannot change its items, but you can add new items.\n",
    "To add one item to a set use the add() method.\n",
    "Thêm các mục\n",
    "Khi một bộ được tạo, bạn không thể thay đổi các mục của nó nhưng bạn có thể thêm các mục mới.\n",
    "Để thêm một mục vào một bộ, hãy sử dụng add() phương thức này."
   ]
  },
  {
   "cell_type": "code",
   "execution_count": 1,
   "id": "ca41c1fd-0967-4e7a-bf5c-998253b067f4",
   "metadata": {},
   "outputs": [
    {
     "name": "stdout",
     "output_type": "stream",
     "text": [
      "{'banana', 'orange', 'cherry', 'apple'}\n"
     ]
    }
   ],
   "source": [
    "# Add an item to a set, using the add() method:\n",
    "# Thêm một mục vào một bộ bằng cách sử dụng phương add() thức:\n",
    "thisset = {\"apple\", \"banana\", \"cherry\"}\n",
    "\n",
    "thisset.add(\"orange\")\n",
    "\n",
    "print(thisset)"
   ]
  },
  {
   "cell_type": "markdown",
   "id": "4de78929-43d6-4e20-acd0-98a64d8dd2f0",
   "metadata": {},
   "source": [
    "Add Sets\n",
    "To add items from another set into the current set, use the update() method.\n",
    "Thêm bộ\n",
    "Để thêm các mục từ bộ khác vào bộ hiện tại, hãy sử dụng update() phương thức này."
   ]
  },
  {
   "cell_type": "code",
   "execution_count": 2,
   "id": "80777b3f-2f3f-4d02-b92d-93d1c8312c76",
   "metadata": {},
   "outputs": [
    {
     "name": "stdout",
     "output_type": "stream",
     "text": [
      "{'banana', 'cherry', 'pineapple', 'mango', 'apple', 'papaya'}\n"
     ]
    }
   ],
   "source": [
    "# Add elements from tropical into thisset:\n",
    "# Thêm các phần tử từ tropicalvào thisset:\n",
    "thisset = {\"apple\", \"banana\", \"cherry\"}\n",
    "tropical = {\"pineapple\", \"mango\", \"papaya\"}\n",
    "\n",
    "thisset.update(tropical)\n",
    "\n",
    "print(thisset)"
   ]
  },
  {
   "cell_type": "markdown",
   "id": "712fadc2-6d58-42fe-8f84-5def124c267a",
   "metadata": {},
   "source": [
    "Add Any Iterable\n",
    "The object in the update() method does not have to be a set, it can be any iterable object (tuples, lists, dictionaries etc.).\n",
    "Thêm bất kỳ lần lặp nào\n",
    "Đối tượng trong update() phương thức không nhất thiết phải là một tập hợp, nó có thể là bất kỳ đối tượng có thể lặp lại nào (bộ dữ liệu, danh sách, từ điển, v.v.)."
   ]
  },
  {
   "cell_type": "code",
   "execution_count": 3,
   "id": "2c547c30-657f-406a-9b05-905dfd43b26d",
   "metadata": {},
   "outputs": [
    {
     "name": "stdout",
     "output_type": "stream",
     "text": [
      "{'cherry', 'apple', 'kiwi', 'banana', 'orange'}\n"
     ]
    }
   ],
   "source": [
    "# Add elements of a list to at set:\n",
    "# Thêm các phần tử của danh sách vào tập hợp:\n",
    "thisset = {\"apple\", \"banana\", \"cherry\"}\n",
    "mylist = [\"kiwi\", \"orange\"]\n",
    "\n",
    "thisset.update(mylist)\n",
    "\n",
    "print(thisset)"
   ]
  },
  {
   "cell_type": "code",
   "execution_count": null,
   "id": "62586c53-3dcf-4e5f-bd6d-24ec4a0ca7a5",
   "metadata": {},
   "outputs": [],
   "source": []
  }
 ],
 "metadata": {
  "kernelspec": {
   "display_name": "Python 3 (ipykernel)",
   "language": "python",
   "name": "python3"
  },
  "language_info": {
   "codemirror_mode": {
    "name": "ipython",
    "version": 3
   },
   "file_extension": ".py",
   "mimetype": "text/x-python",
   "name": "python",
   "nbconvert_exporter": "python",
   "pygments_lexer": "ipython3",
   "version": "3.11.7"
  }
 },
 "nbformat": 4,
 "nbformat_minor": 5
}
