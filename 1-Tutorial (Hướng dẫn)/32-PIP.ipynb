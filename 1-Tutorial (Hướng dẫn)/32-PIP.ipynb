{
 "cells": [
  {
   "cell_type": "markdown",
   "id": "5f33a289-2240-4977-ac7e-7b79f6509083",
   "metadata": {},
   "source": [
    "What is PIP?\n",
    "PIP is a package manager for Python packages, or modules if you like.\n",
    "Note: If you have Python version 3.4 or later, PIP is included by default.\n",
    "PIP là gì?\n",
    "PIP là trình quản lý gói cho các gói hoặc mô-đun Python nếu bạn muốn.\n",
    "Lưu ý: Nếu bạn có Python phiên bản 3.4 trở lên, PIP được bao gồm theo mặc định."
   ]
  },
  {
   "cell_type": "markdown",
   "id": "446e323d-b523-4db0-95ea-d3b5e7246d5a",
   "metadata": {},
   "source": [
    "What is a Package?\n",
    "A package contains all the files you need for a module.\n",
    "Modules are Python code libraries you can include in your project.\n",
    "Gói là gì?\n",
    "Một gói chứa tất cả các tệp bạn cần cho một mô-đun.\n",
    "Mô-đun là thư viện mã Python mà bạn có thể đưa vào dự án của mình."
   ]
  },
  {
   "cell_type": "markdown",
   "id": "4800d1c4-3505-417f-a056-59614071b22a",
   "metadata": {},
   "source": [
    "Check if PIP is Installed\n",
    "Navigate your command line to the location of Python's script directory, and type the following:\n",
    "Kiểm tra xem PIP đã được cài đặt chưa\n",
    "Điều hướng dòng lệnh của bạn đến vị trí thư mục tập lệnh của Python và nhập thông tin sau:"
   ]
  },
  {
   "cell_type": "code",
   "execution_count": null,
   "id": "59baeb06-28b1-47e1-963c-af071022a3fd",
   "metadata": {},
   "outputs": [],
   "source": [
    "# Check PIP version:\n",
    "# Kiểm tra phiên bản PIP:\n",
    "C:\\Users\\Your Name\\AppData\\Local\\Programs\\Python\\Python36-32\\Scripts>pip --version"
   ]
  },
  {
   "cell_type": "markdown",
   "id": "67180f4b-3c4f-4c3c-ab09-fe998fe79145",
   "metadata": {},
   "source": [
    "Install PIP\n",
    "If you do not have PIP installed, you can download and install it from this page: https://pypi.org/project/pip/\n",
    "Cài đặt PIP\n",
    "Nếu bạn chưa cài đặt PIP, bạn có thể tải xuống và cài đặt nó từ trang này: https://pypi.org/project/pip/"
   ]
  },
  {
   "cell_type": "markdown",
   "id": "5a9ca762-20ec-443d-af3b-eea52779d9fd",
   "metadata": {},
   "source": [
    "Download a Package\n",
    "Downloading a package is very easy.\n",
    "Open the command line interface and tell PIP to download the package you want.\n",
    "Navigate your command line to the location of Python's script directory, and type the following:\n",
    "Tải xuống gói\n",
    "Tải xuống một gói rất dễ dàng.\n",
    "Mở giao diện dòng lệnh và yêu cầu PIP tải xuống gói bạn muốn.\n",
    "Điều hướng dòng lệnh của bạn đến vị trí thư mục tập lệnh của Python và nhập thông tin sau:"
   ]
  },
  {
   "cell_type": "code",
   "execution_count": null,
   "id": "795c46b6-4a81-42bd-afe9-eb58be6b886a",
   "metadata": {},
   "outputs": [],
   "source": [
    "# Download a package named \"camelcase\":\n",
    "# Tải xuống gói có tên \"camelcase\":\n",
    "C:\\Users\\Your Name\\AppData\\Local\\Programs\\Python\\Python36-32\\Scripts>pip install camelcase"
   ]
  },
  {
   "cell_type": "markdown",
   "id": "026449c8-ac26-4a96-84b6-7802581c5b93",
   "metadata": {},
   "source": [
    "Now you have downloaded and installed your first package!\n",
    "Bây giờ bạn đã tải xuống và cài đặt gói đầu tiên của mình!"
   ]
  },
  {
   "cell_type": "markdown",
   "id": "62108e2a-3768-4edf-8910-5e1c268bff13",
   "metadata": {},
   "source": [
    "Using a Package\n",
    "Once the package is installed, it is ready to use.\n",
    "Import the \"camelcase\" package into your project.\n",
    "Sử dụng gói\n",
    "Sau khi gói được cài đặt, nó đã sẵn sàng để sử dụng.\n",
    "Nhập gói \"camelcase\" vào dự án của bạn."
   ]
  },
  {
   "cell_type": "code",
   "execution_count": 1,
   "id": "a136b730-48bb-49f2-bbe6-845c897269ae",
   "metadata": {},
   "outputs": [
    {
     "ename": "ModuleNotFoundError",
     "evalue": "No module named 'camelcase'",
     "output_type": "error",
     "traceback": [
      "\u001b[1;31m---------------------------------------------------------------------------\u001b[0m",
      "\u001b[1;31mModuleNotFoundError\u001b[0m                       Traceback (most recent call last)",
      "Cell \u001b[1;32mIn[1], line 3\u001b[0m\n\u001b[0;32m      1\u001b[0m \u001b[38;5;66;03m# Import and use \"camelcase\":\u001b[39;00m\n\u001b[0;32m      2\u001b[0m \u001b[38;5;66;03m# Nhập và sử dụng \"camelcase\":\u001b[39;00m\n\u001b[1;32m----> 3\u001b[0m \u001b[38;5;28;01mimport\u001b[39;00m \u001b[38;5;21;01mcamelcase\u001b[39;00m\n\u001b[0;32m      5\u001b[0m c \u001b[38;5;241m=\u001b[39m camelcase\u001b[38;5;241m.\u001b[39mCamelCase()\n\u001b[0;32m      7\u001b[0m txt \u001b[38;5;241m=\u001b[39m \u001b[38;5;124m\"\u001b[39m\u001b[38;5;124mhello world\u001b[39m\u001b[38;5;124m\"\u001b[39m\n",
      "\u001b[1;31mModuleNotFoundError\u001b[0m: No module named 'camelcase'"
     ]
    }
   ],
   "source": [
    "# Import and use \"camelcase\":\n",
    "# Nhập và sử dụng \"camelcase\":\n",
    "import camelcase\n",
    "\n",
    "c = camelcase.CamelCase()\n",
    "\n",
    "txt = \"hello world\"\n",
    "\n",
    "print(c.hump(txt))"
   ]
  },
  {
   "cell_type": "markdown",
   "id": "5ac6784d-450f-4309-9752-64ef98ed9654",
   "metadata": {},
   "source": [
    "Find Packages\n",
    "Find more packages at https://pypi.org/.\n",
    "Tìm gói\n",
    "Tìm thêm các gói tại https://pypi.org/ ."
   ]
  },
  {
   "cell_type": "markdown",
   "id": "987062b7-f371-4021-b2b0-dc54a5594259",
   "metadata": {},
   "source": [
    "Remove a Package\n",
    "Use the uninstall command to remove a package:\n",
    "Xóa gói\n",
    "Sử dụng uninstalllệnh để xóa gói:"
   ]
  },
  {
   "cell_type": "code",
   "execution_count": null,
   "id": "41994c7e-f451-47ca-8297-26c817cc5242",
   "metadata": {},
   "outputs": [],
   "source": [
    "# Uninstall the package named \"camelcase\":\n",
    "# Gỡ cài đặt gói có tên \"camelcase\":\n",
    "C:\\Users\\Your Name\\AppData\\Local\\Programs\\Python\\Python36-32\\Scripts>pip uninstall camelcase\n",
    "# Press y and the package will be removed.\n",
    "# Trình quản lý gói PIP sẽ yêu cầu bạn xác nhận rằng bạn muốn xóa gói Camelcase:"
   ]
  },
  {
   "cell_type": "markdown",
   "id": "9275a050-6182-4356-89ae-b052d7cb5f7e",
   "metadata": {},
   "source": [
    "Uninstalling camelcase-02.1:\n",
    "  Would remove:\n",
    "    c:\\users\\Your Name\\appdata\\local\\programs\\python\\python36-32\\lib\\site-packages\\camelcase-0.2-py3.6.egg-info\n",
    "    c:\\users\\Your Name\\appdata\\local\\programs\\python\\python36-32\\lib\\site-packages\\camelcase\\*\n",
    "Proceed (y/n)?"
   ]
  },
  {
   "cell_type": "markdown",
   "id": "28b42beb-87f0-4e8c-a4f3-546c98d4ce8f",
   "metadata": {},
   "source": [
    "List Packages\n",
    "Use the list command to list all the packages installed on your system:\n",
    "Danh sách các gói\n",
    "Sử dụng listlệnh để liệt kê tất cả các gói được cài đặt trên hệ thống của bạn:"
   ]
  },
  {
   "cell_type": "code",
   "execution_count": null,
   "id": "d0b0d7f6-f960-436c-9a85-4f8be9cc800a",
   "metadata": {},
   "outputs": [],
   "source": [
    "# List installed packages:\n",
    "# Liệt kê các gói đã cài đặt:\n",
    "C:\\Users\\Your Name\\AppData\\Local\\Programs\\Python\\Python36-32\\Scripts>pip list"
   ]
  },
  {
   "cell_type": "markdown",
   "id": "ce6f06a6-b465-463d-8b39-6d4ac8dcdbcf",
   "metadata": {},
   "source": [
    "Package         Version\n",
    "-----------------------\n",
    "camelcase       0.2\n",
    "mysql-connector 2.1.6\n",
    "pip             18.1\n",
    "pymongo         3.6.1\n",
    "setuptools      39.0.1"
   ]
  },
  {
   "cell_type": "code",
   "execution_count": null,
   "id": "677262db-0e06-49ac-b53e-ab81690cd1af",
   "metadata": {},
   "outputs": [],
   "source": []
  }
 ],
 "metadata": {
  "kernelspec": {
   "display_name": "Python 3 (ipykernel)",
   "language": "python",
   "name": "python3"
  },
  "language_info": {
   "codemirror_mode": {
    "name": "ipython",
    "version": 3
   },
   "file_extension": ".py",
   "mimetype": "text/x-python",
   "name": "python",
   "nbconvert_exporter": "python",
   "pygments_lexer": "ipython3",
   "version": "3.12.3"
  }
 },
 "nbformat": 4,
 "nbformat_minor": 5
}
