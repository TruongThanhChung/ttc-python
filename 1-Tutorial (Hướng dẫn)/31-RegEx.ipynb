{
 "cells": [
  {
   "cell_type": "markdown",
   "id": "10c80c77-c68c-435f-8b73-aa37d66934e3",
   "metadata": {},
   "source": [
    "A RegEx, or Regular Expression, is a sequence of characters that forms a search pattern.\n",
    "RegEx can be used to check if a string contains the specified search pattern.\n",
    "RegEx hay Biểu thức chính quy là một chuỗi ký tự tạo thành mẫu tìm kiếm.\n",
    "RegEx có thể được sử dụng để kiểm tra xem một chuỗi có chứa mẫu tìm kiếm đã chỉ định hay không."
   ]
  },
  {
   "cell_type": "markdown",
   "id": "b6873530-b7c1-4c76-9788-1b44ab23b98d",
   "metadata": {},
   "source": [
    "RegEx Module\n",
    "Python has a built-in package called re, which can be used to work with Regular Expressions.\n",
    "Import the re module: import re\n",
    "Mô-đun RegEx\n",
    "Python có một gói tích hợp có tên là re, có thể được sử dụng để làm việc với Biểu thức chính quy.\n",
    "Nhập re mô-đun: import re"
   ]
  },
  {
   "cell_type": "markdown",
   "id": "be92fb7f-1537-4a59-b5d1-a548003d78a0",
   "metadata": {},
   "source": [
    "RegEx in Python\n",
    "When you have imported the re module, you can start using regular expressions:\n",
    "RegEx trong Python\n",
    "Khi bạn đã nhập remô-đun, bạn có thể bắt đầu sử dụng biểu thức thông thường:"
   ]
  },
  {
   "cell_type": "code",
   "execution_count": 3,
   "id": "5f7c49de-4b91-442b-a131-b2cefb343ab3",
   "metadata": {},
   "outputs": [],
   "source": [
    "# Search the string to see if it starts with \"The\" and ends with \"Spain\":\n",
    "# Tìm kiếm chuỗi để xem nó có bắt đầu bằng \"The\" và kết thúc bằng \"Spain\" hay không:\n",
    "import re\n",
    "\n",
    "txt = \"The rain in Spain\"\n",
    "x = re.search(\"^The.*Spain$\", txt)"
   ]
  },
  {
   "cell_type": "markdown",
   "id": "3a005dfa-d808-4dcb-adc7-b970619260c1",
   "metadata": {},
   "source": [
    "RegEx Functions\n",
    "The re module offers a set of functions that allows us to search a string for a match:\n",
    "Hàm RegEx\n",
    "Mô-đun này recung cấp một tập hợp các hàm cho phép chúng ta tìm kiếm một chuỗi phù hợp:\n",
    "Function\tDescription\n",
    "findall\t    Returns a list containing all matches (Trả về danh sách chứa tất cả các kết quả phù hợp)\n",
    "search\t    Returns a Match object if there is a match anywhere in the string (Trả về đối tượng Match nếu có kết quả khớp ở bất kỳ đâu trong chuỗi)\n",
    "split\t    Returns a list where the string has been split at each match (Trả về danh sách trong đó chuỗi đã được chia ở mỗi trận đấu)\n",
    "sub\t        Replaces one or many matches with a string (Thay thế một hoặc nhiều kết quả bằng một chuỗi)"
   ]
  },
  {
   "cell_type": "markdown",
   "id": "40651273-5361-41ea-a87f-5051b991a4f8",
   "metadata": {},
   "source": [
    "Metacharacters\n",
    "Metacharacters are characters with a special meaning:\n",
    "Siêu ký tự\n",
    "Siêu ký tự là những ký tự có ý nghĩa đặc biệt:\n",
    "Character\tDescription\t                                                                   Example\n",
    "[]\t        A set of characters\t                                                           \"[a-m]\"\t\n",
    "\\\t        Signals a special sequence (can also be used to escape special characters)\t   \"\\d\"\t\n",
    ".\t        Any character (except newline character)\t                                   \"he..o\"\t\n",
    "^\t        Starts with\t                                                                   \"^hello\"\t\n",
    "$\t        Ends with\t                                                                   \"planet$\"\t\n",
    "*\t        Zero or more occurrences\t                                                   \"he.*o\"\t\n",
    "+\t        One or more occurrences\t                                                       \"he.+o\"\t\n",
    "?\t        Zero or one occurrences\t                                                       \"he.?o\"\t\n",
    "{}\t        Exactly the specified number of occurrences\t                                   \"he.{2}o\"\t\n",
    "|\t        Either or\t                                                                   \"falls|stays\"\t\n",
    "()\t        Capture and group"
   ]
  },
  {
   "cell_type": "markdown",
   "id": "e2f18129-8930-4629-8fd1-f93a26dc339f",
   "metadata": {},
   "source": [
    "Special Sequences\n",
    "A special sequence is a \\ followed by one of the characters in the list below, and has a special meaning:\n",
    "Trình tự đặc biệt\n",
    "Một chuỗi đặc biệt được \\theo sau bởi một trong các ký tự trong danh sách bên dưới và có ý nghĩa đặc biệt:\n",
    "Character  Description\t                                                                                                     Example\n",
    "\\A\t       Returns a match if the specified characters are at the beginning of the string\t                                 \"\\AThe\"\t\n",
    "\\b\t       Returns a match where the specified characters are at the beginning or at the end of a word                       r\"\\bain\"\n",
    "           (the \"r\" in the beginning is making sure that the string is being treated as a \"raw string\")\t                     r\"ain\\b\"\t\n",
    "\\B\t       Returns a match where the specified characters are present, but NOT at the beginning (or at the end) of a word    r\"\\Bain\"\n",
    "           (the \"r\" in the beginning is making sure that the string is being treated as a \"raw string\")\t                     r\"ain\\B\"\t\n",
    "\\d\t       Returns a match where the string contains digits (numbers from 0-9)\t                                             \"\\d\"\t\n",
    "\\D\t       Returns a match where the string DOES NOT contain digits\t                                                         \"\\D\"\t\n",
    "\\s\t       Returns a match where the string contains a white space character\t                                             \"\\s\"\t\n",
    "\\S\t       Returns a match where the string DOES NOT contain a white space character\t                                     \"\\S\"\t\n",
    "\\w\t       Returns a match where the string contains any word characters \n",
    "           (characters from a to Z, digits from 0-9, and the underscore _ character)\t                                     \"\\w\"\t\n",
    "\\W\t       Returns a match where the string DOES NOT contain any word characters\t                                         \"\\W\"\t\n",
    "\\Z\t       Returns a match if the specified characters are at the end of the string\t                                         \"Spain\\Z\""
   ]
  },
  {
   "cell_type": "markdown",
   "id": "8e549fdb-9840-4ef3-8536-30a4c1014678",
   "metadata": {},
   "source": [
    "Sets\n",
    "A set is a set of characters inside a pair of square brackets [] with a special meaning:\n",
    "bộ\n",
    "Tập hợp là tập hợp các ký tự bên trong một cặp dấu ngoặc vuông []có ý nghĩa đặc biệt:\n",
    "Set\t        Description\n",
    "[arn]\t    Returns a match where one of the specified characters (a, r, or n) is present\t\n",
    "[a-n]\t    Returns a match for any lower case character, alphabetically between a and n\t\n",
    "[^arn]\t    Returns a match for any character EXCEPT a, r, and n\t\n",
    "[0123]\t    Returns a match where any of the specified digits (0, 1, 2, or 3) are present\t\n",
    "[0-9]\t    Returns a match for any digit between 0 and 9\t\n",
    "[0-5][0-9]\tReturns a match for any two-digit numbers from 00 and 59\t\n",
    "[a-zA-Z]\tReturns a match for any character alphabetically between a and z, lower case OR upper case\t\n",
    "[+]\t        In sets, +, *, ., |, (), $,{} has no special meaning, so [+] means: return a match for any + character in the string"
   ]
  },
  {
   "cell_type": "markdown",
   "id": "3dc80e8e-15a1-4e0c-ae38-c0deb90d584c",
   "metadata": {},
   "source": [
    "The findall() Function\n",
    "The findall() function returns a list containing all matches.\n",
    "Hàm findall()\n",
    "Hàm findall()trả về một danh sách chứa tất cả các kết quả khớp."
   ]
  },
  {
   "cell_type": "code",
   "execution_count": 4,
   "id": "c2c437a6-c2c6-4346-81ca-b415e64cc5a9",
   "metadata": {},
   "outputs": [
    {
     "name": "stdout",
     "output_type": "stream",
     "text": [
      "['ai', 'ai']\n"
     ]
    }
   ],
   "source": [
    "# Print a list of all matches:\n",
    "# In danh sách tất cả các kết quả phù hợp:\n",
    "import re\n",
    "\n",
    "txt = \"The rain in Spain\"\n",
    "x = re.findall(\"ai\", txt)\n",
    "print(x)"
   ]
  },
  {
   "cell_type": "markdown",
   "id": "f03e654f-724d-423a-a788-30de0efe39a1",
   "metadata": {},
   "source": [
    "The list contains the matches in the order they are found.\n",
    "If no matches are found, an empty list is returned:\n",
    "Danh sách chứa các kết quả phù hợp theo thứ tự chúng được tìm thấy.\n",
    "Nếu không tìm thấy kết quả phù hợp, một danh sách trống sẽ được trả về:"
   ]
  },
  {
   "cell_type": "code",
   "execution_count": 5,
   "id": "22f67b52-81d6-4592-856c-728b3f1fdab6",
   "metadata": {},
   "outputs": [
    {
     "name": "stdout",
     "output_type": "stream",
     "text": [
      "[]\n"
     ]
    }
   ],
   "source": [
    "# Return an empty list if no match was found:\n",
    "# Trả về danh sách trống nếu không tìm thấy kết quả khớp:\n",
    "import re\n",
    "\n",
    "txt = \"The rain in Spain\"\n",
    "x = re.findall(\"Portugal\", txt)\n",
    "print(x)"
   ]
  },
  {
   "cell_type": "markdown",
   "id": "7e4ebf15-7bf0-4c56-809c-d6220ffe52b5",
   "metadata": {},
   "source": [
    "The search() Function\n",
    "The search() function searches the string for a match, and returns a Match object if there is a match.\n",
    "If there is more than one match, only the first occurrence of the match will be returned:\n",
    "Hàm tìm kiếm()\n",
    "Hàm search()tìm kiếm chuỗi để tìm kết quả khớp và trả về đối tượng Match nếu có kết quả khớp.\n",
    "Nếu có nhiều hơn một kết quả trùng khớp, chỉ lần xuất hiện đầu tiên của trận đấu đó sẽ được trả về:"
   ]
  },
  {
   "cell_type": "code",
   "execution_count": 6,
   "id": "c61d1956-619b-43e3-9431-bc481c274499",
   "metadata": {},
   "outputs": [
    {
     "name": "stdout",
     "output_type": "stream",
     "text": [
      "The first white-space character is located in position: 3\n"
     ]
    },
    {
     "name": "stderr",
     "output_type": "stream",
     "text": [
      "<>:6: SyntaxWarning: invalid escape sequence '\\s'\n",
      "<>:6: SyntaxWarning: invalid escape sequence '\\s'\n",
      "C:\\Users\\MrMoc\\AppData\\Local\\Temp\\ipykernel_10916\\2024621384.py:6: SyntaxWarning: invalid escape sequence '\\s'\n",
      "  x = re.search(\"\\s\", txt)\n"
     ]
    }
   ],
   "source": [
    "# Search for the first white-space character in the string:\n",
    "# Tìm kiếm ký tự khoảng trắng đầu tiên trong chuỗi:\n",
    "import re\n",
    "\n",
    "txt = \"The rain in Spain\"\n",
    "x = re.search(\"\\s\", txt)\n",
    "\n",
    "print(\"The first white-space character is located in position:\", x.start())"
   ]
  },
  {
   "cell_type": "markdown",
   "id": "551b9224-c8a2-4910-a428-bbea6a0b9b4c",
   "metadata": {},
   "source": [
    "If no matches are found, the value None is returned:\n",
    "Nếu không tìm thấy kết quả phù hợp, giá trị None được trả về:"
   ]
  },
  {
   "cell_type": "code",
   "execution_count": 7,
   "id": "bc1fe6e9-3f3a-467b-a977-456039819293",
   "metadata": {},
   "outputs": [
    {
     "name": "stdout",
     "output_type": "stream",
     "text": [
      "None\n"
     ]
    }
   ],
   "source": [
    "# Make a search that returns no match:\n",
    "# Thực hiện tìm kiếm không trả về kết quả nào:\n",
    "import re\n",
    "\n",
    "txt = \"The rain in Spain\"\n",
    "x = re.search(\"Portugal\", txt)\n",
    "print(x)"
   ]
  },
  {
   "cell_type": "markdown",
   "id": "4bbc9f4f-e761-4a13-bb0d-42bde4517c4d",
   "metadata": {},
   "source": [
    "The split() Function\n",
    "The split() function returns a list where the string has been split at each match:\n",
    "Hàm tách()\n",
    "Hàm split()trả về danh sách trong đó chuỗi đã được phân tách ở mỗi trận đấu:"
   ]
  },
  {
   "cell_type": "code",
   "execution_count": 8,
   "id": "1d9df0e8-f628-4b46-b167-eca9a039b75f",
   "metadata": {},
   "outputs": [
    {
     "name": "stdout",
     "output_type": "stream",
     "text": [
      "['The', 'rain', 'in', 'Spain']\n"
     ]
    },
    {
     "name": "stderr",
     "output_type": "stream",
     "text": [
      "<>:6: SyntaxWarning: invalid escape sequence '\\s'\n",
      "<>:6: SyntaxWarning: invalid escape sequence '\\s'\n",
      "C:\\Users\\MrMoc\\AppData\\Local\\Temp\\ipykernel_10916\\4049769611.py:6: SyntaxWarning: invalid escape sequence '\\s'\n",
      "  x = re.split(\"\\s\", txt)\n"
     ]
    }
   ],
   "source": [
    "# Split at each white-space character:\n",
    "# Tách từng ký tự khoảng trắng:\n",
    "import re\n",
    "\n",
    "txt = \"The rain in Spain\"\n",
    "x = re.split(\"\\s\", txt)\n",
    "print(x)"
   ]
  },
  {
   "cell_type": "markdown",
   "id": "a95e824a-5532-4491-aa3f-73b5bbcbbb68",
   "metadata": {},
   "source": [
    "You can control the number of occurrences by specifying the maxsplit parameter:\n",
    "Bạn có thể kiểm soát số lần xuất hiện bằng cách chỉ định tham maxsplit số:"
   ]
  },
  {
   "cell_type": "code",
   "execution_count": 9,
   "id": "c84611b9-1b56-4f55-b56e-65709cc303e1",
   "metadata": {},
   "outputs": [
    {
     "name": "stdout",
     "output_type": "stream",
     "text": [
      "['The', 'rain in Spain']\n"
     ]
    },
    {
     "name": "stderr",
     "output_type": "stream",
     "text": [
      "<>:6: SyntaxWarning: invalid escape sequence '\\s'\n",
      "<>:6: SyntaxWarning: invalid escape sequence '\\s'\n",
      "C:\\Users\\MrMoc\\AppData\\Local\\Temp\\ipykernel_10916\\629304602.py:6: SyntaxWarning: invalid escape sequence '\\s'\n",
      "  x = re.split(\"\\s\", txt, 1)\n"
     ]
    }
   ],
   "source": [
    "# Split the string only at the first occurrence:\n",
    "# Chỉ tách chuỗi ở lần xuất hiện đầu tiên:\n",
    "import re\n",
    "\n",
    "txt = \"The rain in Spain\"\n",
    "x = re.split(\"\\s\", txt, 1)\n",
    "print(x)"
   ]
  },
  {
   "cell_type": "markdown",
   "id": "2c0357c7-f723-4c33-81d0-1c74076e733c",
   "metadata": {},
   "source": [
    "The sub() Function\n",
    "The sub() function replaces the matches with the text of your choice:\n",
    "Hàm phụ()\n",
    "Hàm sub()thay thế các kết quả khớp bằng văn bản bạn chọn:"
   ]
  },
  {
   "cell_type": "code",
   "execution_count": 10,
   "id": "69d809c7-57a2-47e3-88df-9605dda906d4",
   "metadata": {},
   "outputs": [
    {
     "name": "stdout",
     "output_type": "stream",
     "text": [
      "The9rain9in9Spain\n"
     ]
    },
    {
     "name": "stderr",
     "output_type": "stream",
     "text": [
      "<>:6: SyntaxWarning: invalid escape sequence '\\s'\n",
      "<>:6: SyntaxWarning: invalid escape sequence '\\s'\n",
      "C:\\Users\\MrMoc\\AppData\\Local\\Temp\\ipykernel_10916\\1813696114.py:6: SyntaxWarning: invalid escape sequence '\\s'\n",
      "  x = re.sub(\"\\s\", \"9\", txt)\n"
     ]
    }
   ],
   "source": [
    "# Replace every white-space character with the number 9:\n",
    "# Thay thế mọi ký tự khoảng trắng bằng số 9:\n",
    "import re\n",
    "\n",
    "txt = \"The rain in Spain\"\n",
    "x = re.sub(\"\\s\", \"9\", txt)\n",
    "print(x)"
   ]
  },
  {
   "cell_type": "markdown",
   "id": "549ec71d-4ce5-4ee9-971a-d71751563c9c",
   "metadata": {},
   "source": [
    "You can control the number of replacements by specifying the count parameter:\n",
    "Bạn có thể kiểm soát số lượng thay thế bằng cách chỉ định tham count số:"
   ]
  },
  {
   "cell_type": "code",
   "execution_count": 11,
   "id": "7133f760-cdfc-468c-a4a0-4cb78bb6df12",
   "metadata": {},
   "outputs": [
    {
     "name": "stdout",
     "output_type": "stream",
     "text": [
      "The9rain9in Spain\n"
     ]
    },
    {
     "name": "stderr",
     "output_type": "stream",
     "text": [
      "<>:6: SyntaxWarning: invalid escape sequence '\\s'\n",
      "<>:6: SyntaxWarning: invalid escape sequence '\\s'\n",
      "C:\\Users\\MrMoc\\AppData\\Local\\Temp\\ipykernel_10916\\2321990490.py:6: SyntaxWarning: invalid escape sequence '\\s'\n",
      "  x = re.sub(\"\\s\", \"9\", txt, 2)\n"
     ]
    }
   ],
   "source": [
    "# Replace the first 2 occurrences:\n",
    "# Thay thế 2 lần xuất hiện đầu tiên:\n",
    "import re\n",
    "\n",
    "txt = \"The rain in Spain\"\n",
    "x = re.sub(\"\\s\", \"9\", txt, 2)\n",
    "print(x)"
   ]
  },
  {
   "cell_type": "markdown",
   "id": "a8f24628-d2f2-4cf8-a8dc-8e6d1e5a12f9",
   "metadata": {},
   "source": [
    "Match Object\n",
    "A Match Object is an object containing information about the search and the result.\n",
    "Note: If there is no match, the value None will be returned, instead of the Match Object.\n",
    "Đối tượng phù hợp\n",
    "Đối tượng So khớp là một đối tượng chứa thông tin về tìm kiếm và kết quả.\n",
    "Lưu ý: Nếu không khớp, giá trị None sẽ được trả về thay vì Đối tượng khớp."
   ]
  },
  {
   "cell_type": "code",
   "execution_count": 12,
   "id": "16e4afc0-a924-4595-a558-99cc5421e7d4",
   "metadata": {},
   "outputs": [
    {
     "name": "stdout",
     "output_type": "stream",
     "text": [
      "<re.Match object; span=(5, 7), match='ai'>\n"
     ]
    }
   ],
   "source": [
    "# Do a search that will return a Match Object:\n",
    "# Thực hiện tìm kiếm sẽ trả về Đối tượng phù hợp:\n",
    "import re\n",
    "\n",
    "txt = \"The rain in Spain\"\n",
    "x = re.search(\"ai\", txt)\n",
    "print(x) #this will print an object"
   ]
  },
  {
   "cell_type": "markdown",
   "id": "7b26dc45-b5b2-4788-bd63-2db09eed675b",
   "metadata": {},
   "source": [
    "The Match object has properties and methods used to retrieve information about the search, and the result:\n",
    ".span() returns a tuple containing the start-, and end positions of the match.\n",
    ".string returns the string passed into the function\n",
    ".group() returns the part of the string where there was a match\n",
    "Đối tượng Match có các thuộc tính và phương thức được sử dụng để truy xuất thông tin về tìm kiếm và kết quả:\n",
    ".span() trả về một bộ dữ liệu chứa vị trí bắt đầu và kết thúc của trận đấu.\n",
    ".string trả về chuỗi được truyền vào hàm\n",
    ".group() trả về phần của chuỗi có kết quả khớp"
   ]
  },
  {
   "cell_type": "code",
   "execution_count": 13,
   "id": "89ce0378-a688-443e-b925-e7c5ca941f29",
   "metadata": {},
   "outputs": [
    {
     "name": "stdout",
     "output_type": "stream",
     "text": [
      "(12, 17)\n"
     ]
    }
   ],
   "source": [
    "# Print the position (start- and end-position) of the first match occurrence.\n",
    "# The regular expression looks for any words that starts with an upper case \"S\":\n",
    "# In vị trí (vị trí bắt đầu và kết thúc) của lần xuất hiện khớp đầu tiên.\n",
    "# Biểu thức chính quy tìm kiếm bất kỳ từ nào bắt đầu bằng chữ hoa \"S\":\n",
    "import re\n",
    "\n",
    "txt = \"The rain in Spain\"\n",
    "x = re.search(r\"\\bS\\w+\", txt)\n",
    "print(x.span())"
   ]
  },
  {
   "cell_type": "code",
   "execution_count": 14,
   "id": "a281f709-e11a-42f0-861d-1f56c2c5daab",
   "metadata": {},
   "outputs": [
    {
     "name": "stdout",
     "output_type": "stream",
     "text": [
      "The rain in Spain\n"
     ]
    }
   ],
   "source": [
    "# Print the string passed into the function:\n",
    "# In chuỗi được truyền vào hàm:\n",
    "import re\n",
    "\n",
    "txt = \"The rain in Spain\"\n",
    "x = re.search(r\"\\bS\\w+\", txt)\n",
    "print(x.string)"
   ]
  },
  {
   "cell_type": "code",
   "execution_count": 15,
   "id": "51973209-fa5e-46b6-b3d9-6e43ace923b5",
   "metadata": {},
   "outputs": [
    {
     "name": "stdout",
     "output_type": "stream",
     "text": [
      "Spain\n"
     ]
    }
   ],
   "source": [
    "# Print the part of the string where there was a match.\n",
    "# The regular expression looks for any words that starts with an upper case \"S\":\n",
    "# In phần của chuỗi nơi có kết quả khớp.\n",
    "# Biểu thức chính quy tìm kiếm bất kỳ từ nào bắt đầu bằng chữ hoa \"S\":\n",
    "import re\n",
    "\n",
    "txt = \"The rain in Spain\"\n",
    "x = re.search(r\"\\bS\\w+\", txt)\n",
    "print(x.group())"
   ]
  },
  {
   "cell_type": "markdown",
   "id": "df151777-e95d-4a4a-93c8-c097ab782c0a",
   "metadata": {},
   "source": [
    "Note: If there is no match, the value None will be returned, instead of the Match Object.\n",
    "Lưu ý: Nếu không khớp, giá trị Nonesẽ được trả về thay vì Đối tượng khớp."
   ]
  },
  {
   "cell_type": "code",
   "execution_count": null,
   "id": "b419763e-5226-4e6f-9251-7cdf690dfde0",
   "metadata": {},
   "outputs": [],
   "source": []
  }
 ],
 "metadata": {
  "kernelspec": {
   "display_name": "Python 3 (ipykernel)",
   "language": "python",
   "name": "python3"
  },
  "language_info": {
   "codemirror_mode": {
    "name": "ipython",
    "version": 3
   },
   "file_extension": ".py",
   "mimetype": "text/x-python",
   "name": "python",
   "nbconvert_exporter": "python",
   "pygments_lexer": "ipython3",
   "version": "3.12.3"
  }
 },
 "nbformat": 4,
 "nbformat_minor": 5
}
