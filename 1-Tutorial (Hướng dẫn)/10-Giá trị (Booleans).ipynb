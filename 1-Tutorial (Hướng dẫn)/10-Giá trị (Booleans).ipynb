{
 "cells": [
  {
   "cell_type": "code",
   "execution_count": null,
   "id": "d4f4290f-b2c8-4713-b1b3-1e9f73d993fc",
   "metadata": {},
   "outputs": [],
   "source": [
    "Booleans represent one of two values: True or False.\n",
    "Booleans đại diện cho một trong hai giá trị: Truehoặc False."
   ]
  },
  {
   "cell_type": "markdown",
   "id": "959efaca-8305-487d-9f7b-268e84e901f8",
   "metadata": {},
   "source": [
    "Boolean Values\r\n",
    "In programming you often need to know if an expression is True or Fals\r\n",
    "\r\n",
    "You can evaluate any expression in Python, and get one of two answers, True or Fae.\r\n",
    "\r\n",
    "When you compare two values, the expression is evaluated and Python returns the Boolean an\n",
    "Boolean Valuesalse.\n",
    "Trong lập trình, bạn thường cần biết một biểu thức là True hay False.\n",
    "Bạn có thể đánh giá bất kỳ biểu thức nào trong Python và nhận được một trong hai câu trả lời True hoặc F\n",
    "Khi bạn so sánh hai giá trị, biểu thức sẽ được đánh giá và Python trả về câu trả lời Boolean:alse."
   ]
  },
  {
   "cell_type": "code",
   "execution_count": 1,
   "id": "bb564be1-9ce5-406d-8fc4-85cd0b9acec9",
   "metadata": {},
   "outputs": [
    {
     "name": "stdout",
     "output_type": "stream",
     "text": [
      "True\n",
      "False\n",
      "False\n"
     ]
    }
   ],
   "source": [
    "print(10 > 9)\n",
    "print(10 == 9)\n",
    "print(10 < 9)"
   ]
  },
  {
   "cell_type": "markdown",
   "id": "e94f7626-bc9f-416c-b1fc-cf70f05ded72",
   "metadata": {},
   "source": [
    "When you run a condition in an if statement, Python returns True or False:\n",
    "Khi bạn chạy một điều kiện trong câu lệnh if, Python trả về Trueor False:"
   ]
  },
  {
   "cell_type": "code",
   "execution_count": 2,
   "id": "a836cb8c-aa55-429f-877c-d26a565bbc53",
   "metadata": {},
   "outputs": [
    {
     "name": "stdout",
     "output_type": "stream",
     "text": [
      "b is not greater than a\n"
     ]
    }
   ],
   "source": [
    "# Print a message based on whether the condition is True or False:\n",
    "# In thông báo dựa trên điều kiện là True hay False:\n",
    "a = 200\n",
    "b = 33\n",
    "\n",
    "if b > a:\n",
    "  print(\"b is greater than a\")\n",
    "else:\n",
    "  print(\"b is not greater than a\")"
   ]
  },
  {
   "cell_type": "markdown",
   "id": "4ea7917c-c740-40f8-b531-d1a0c999bf02",
   "metadata": {},
   "source": [
    "Evaluate Values and Variables\r\n",
    "The bool() function allows you to evaluate any value, and give you True or False in return,\n",
    "Đánh giá giá trị và biến\n",
    "Hàm này bool()cho phép bạn đánh giá bất kỳ giá trị nào và trả lại cho bạn Tru ehoặ cFalse"
   ]
  },
  {
   "cell_type": "code",
   "execution_count": 3,
   "id": "a007a0f1-7668-491f-b92a-f6c5ca9c459d",
   "metadata": {},
   "outputs": [
    {
     "name": "stdout",
     "output_type": "stream",
     "text": [
      "True\n",
      "True\n"
     ]
    }
   ],
   "source": [
    "# Evaluate a string and a number:\n",
    "# Đánh giá một chuỗi và một số:\n",
    "print(bool(\"Hello\"))\n",
    "print(bool(15))"
   ]
  },
  {
   "cell_type": "code",
   "execution_count": 4,
   "id": "07fe0f33-a0d5-44fc-a431-661ee7579405",
   "metadata": {},
   "outputs": [
    {
     "name": "stdout",
     "output_type": "stream",
     "text": [
      "True\n",
      "True\n"
     ]
    }
   ],
   "source": [
    "# Evaluate two variables:\n",
    "# Đánh giá hai biến:\n",
    "x = \"Hello\"\n",
    "y = 15\n",
    "\n",
    "print(bool(x))\n",
    "print(bool(y))"
   ]
  },
  {
   "cell_type": "markdown",
   "id": "caa9915c-50cf-4a70-8fc2-3fd43f451046",
   "metadata": {},
   "source": [
    "Most Values are True\r\n",
    "Almost any value is evaluated to True if it has some sort of content\r\n",
    "\r\n",
    "Any string is True, except empty strins.\r\n",
    "\r\n",
    "Any number is True, excet 0.\r\n",
    "\r\n",
    "Any list, tuple, set, and dictionary are True, except empty ones.\n",
    "Hầu hết các giá trị đều đúng\n",
    "Hầu hết mọi giá trị đều được đánh giá True nếu nó có một số loại nộ dung.\n",
    "\n",
    "Bất kỳ chuỗi nào đều là True, ngoại trừ chuỗitrống.\n",
    "\n",
    "Mọi số đều là True, ngoạitrừ 0.\n",
    "\n",
    "Mọi danh sách, bộ, tập hợp và từ điển đều là True, ngoại trừ những danh sách trống."
   ]
  },
  {
   "cell_type": "code",
   "execution_count": 5,
   "id": "9a96bbc0-6a51-43be-82a8-7fd35112a4b7",
   "metadata": {},
   "outputs": [
    {
     "data": {
      "text/plain": [
       "True"
      ]
     },
     "execution_count": 5,
     "metadata": {},
     "output_type": "execute_result"
    }
   ],
   "source": [
    "# The following will return True:\n",
    "# Sau đây sẽ trả về True:\n",
    "bool(\"abc\")\n",
    "bool(123)\n",
    "bool([\"apple\", \"cherry\", \"banana\"])"
   ]
  },
  {
   "cell_type": "markdown",
   "id": "347e0534-67d3-4d4b-a3f6-c26513ac2ed9",
   "metadata": {},
   "source": [
    "Some Values are False\r\n",
    "In fact, there are not many values that evaluate to False, except empty values, such as (), [], {}, \"\", the number 0, and the value None. And of course the value False evaluates to False.\n",
    "Một số giá trị sai\n",
    "Trong thực tế, không có nhiều giá trị đánh giá False, ngoại trừ các giá trị trống, chẳng hạn như (), [], {}, \"\", số 0và giá trị None. Và tất nhiên giá trị Falseước tính là False."
   ]
  },
  {
   "cell_type": "code",
   "execution_count": 6,
   "id": "395b1669-b70c-481f-bf00-986930387309",
   "metadata": {},
   "outputs": [
    {
     "data": {
      "text/plain": [
       "False"
      ]
     },
     "execution_count": 6,
     "metadata": {},
     "output_type": "execute_result"
    }
   ],
   "source": [
    "# The following will return False:\n",
    "# Sau đây sẽ trả về Sai:\n",
    "bool(False)\n",
    "bool(None)\n",
    "bool(0)\n",
    "bool(\"\")\n",
    "bool(())\n",
    "bool([])\n",
    "bool({})"
   ]
  },
  {
   "cell_type": "markdown",
   "id": "382abd49-5071-44be-95d1-d3a30353d313",
   "metadata": {},
   "source": [
    "One more value, or object in this case, evaluates to False, and that is if you have an object that is made from a class with a __len__ function that returns 0 or False:\n",
    "Thêm một giá trị hoặc đối tượng trong trường hợp này ước tính là False, và đó là nếu bạn có một đối tượng được tạo từ một lớp có __len__hàm trả về 0 hoặc False:"
   ]
  },
  {
   "cell_type": "code",
   "execution_count": 7,
   "id": "6c8fb6c1-fc0c-4d06-a4df-7e48ee8f1ee3",
   "metadata": {},
   "outputs": [
    {
     "name": "stdout",
     "output_type": "stream",
     "text": [
      "False\n"
     ]
    }
   ],
   "source": [
    "class myclass():\n",
    "  def __len__(self):\n",
    "    return 0\n",
    "\n",
    "myobj = myclass()\n",
    "print(bool(myobj))"
   ]
  },
  {
   "cell_type": "markdown",
   "id": "a9d1a158-de7a-4cf7-a97c-0af7c9d5109c",
   "metadata": {},
   "source": [
    "Functions can Return a Boolean\r\n",
    "You can create functions that returns a Boolean Value:\n",
    "Các hàm có thể trả về một Boolean\n",
    "Bạn có thể tạo các hàm trả về Giá trị Boolean:"
   ]
  },
  {
   "cell_type": "code",
   "execution_count": 8,
   "id": "6573554b-e625-4114-800f-ef8cc4ae5e72",
   "metadata": {},
   "outputs": [
    {
     "name": "stdout",
     "output_type": "stream",
     "text": [
      "True\n"
     ]
    }
   ],
   "source": [
    "# Print the answer of a function:\n",
    "# In câu trả lời của một hàm:\n",
    "def myFunction() :\n",
    "  return True\n",
    "\n",
    "print(myFunction())"
   ]
  },
  {
   "cell_type": "code",
   "execution_count": null,
   "id": "cc97dadb-f7b8-4632-8e1c-1eaf2fc15f4e",
   "metadata": {},
   "outputs": [],
   "source": [
    "You can execute code based on the Boolean answer of a function:\n",
    "Bạn có thể thực thi mã dựa trên câu trả lời Boolean của hàm:"
   ]
  },
  {
   "cell_type": "code",
   "execution_count": 9,
   "id": "e49b3046-563a-41d5-bf6a-a11a7d2f37fe",
   "metadata": {},
   "outputs": [
    {
     "name": "stdout",
     "output_type": "stream",
     "text": [
      "YES!\n"
     ]
    }
   ],
   "source": [
    "# Print \"YES!\" if the function returns True, otherwise print \"NO!\":\n",
    "# In \"YES!\" nếu hàm trả về True, nếu không thì in \"NO!\":\n",
    "def myFunction() :\n",
    "  return True\n",
    "\n",
    "if myFunction():\n",
    "  print(\"YES!\")\n",
    "else:\n",
    "  print(\"NO!\")"
   ]
  },
  {
   "cell_type": "markdown",
   "id": "1fbac799-f575-4acb-bb72-d02cc58dbe2d",
   "metadata": {},
   "source": [
    "Python also has many built-in functions that return a boolean value, like the isinstance() function, which can be used to determine if an object is of a certain data type:\n",
    "Python cũng có nhiều hàm dựng sẵn trả về giá trị boolean, giống như hàm isinstance() , có thể được sử dụng để xác định xem một đối tượng có thuộc một kiểu dữ liệu nhất định hay không:"
   ]
  },
  {
   "cell_type": "code",
   "execution_count": 10,
   "id": "96dfbdf4-b3ca-4cae-93fd-313db4d69626",
   "metadata": {},
   "outputs": [
    {
     "name": "stdout",
     "output_type": "stream",
     "text": [
      "True\n"
     ]
    }
   ],
   "source": [
    "# Check if an object is an integer or not:\n",
    "# Kiểm tra xem một đối tượng có phải là số nguyên hay không:\n",
    "x = 200\n",
    "print(isinstance(x, int))"
   ]
  },
  {
   "cell_type": "code",
   "execution_count": null,
   "id": "91064d3b-de35-4458-9b16-0857c935b5f3",
   "metadata": {},
   "outputs": [],
   "source": []
  }
 ],
 "metadata": {
  "kernelspec": {
   "display_name": "Python 3 (ipykernel)",
   "language": "python",
   "name": "python3"
  },
  "language_info": {
   "codemirror_mode": {
    "name": "ipython",
    "version": 3
   },
   "file_extension": ".py",
   "mimetype": "text/x-python",
   "name": "python",
   "nbconvert_exporter": "python",
   "pygments_lexer": "ipython3",
   "version": "3.11.7"
  }
 },
 "nbformat": 4,
 "nbformat_minor": 5
}
