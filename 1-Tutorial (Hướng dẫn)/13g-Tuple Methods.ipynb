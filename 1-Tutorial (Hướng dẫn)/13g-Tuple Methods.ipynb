{
 "cells": [
  {
   "cell_type": "markdown",
   "id": "ebc56927-a5ce-4575-8f8d-e4b3979fe70b",
   "metadata": {},
   "source": [
    "Tuple Methods\n",
    "Python has two built-in methods that you can use on tuples.\n",
    "Phương thức tuple\n",
    "Python có hai phương thức tích hợp sẵn mà bạn có thể sử dụng trên các bộ dữ liệu."
   ]
  },
  {
   "cell_type": "markdown",
   "id": "cc0c67f2-9fc5-4e44-b0a0-b8e465494e5f",
   "metadata": {},
   "source": [
    "Method\t  Description\n",
    "count()\t  Returns the number of times a specified value occurs in a tuple\n",
    "          (Trả về số lần một giá trị được chỉ định xuất hiện trong một bộ dữ liệu)\n",
    "index()\t  Searches the tuple for a specified value and returns the position of where it was found\n",
    "          (Tìm kiếm bộ dữ liệu với một giá trị được chỉ định và trả về vị trí nơi nó được tìm thấy)"
   ]
  }
 ],
 "metadata": {
  "kernelspec": {
   "display_name": "Python 3 (ipykernel)",
   "language": "python",
   "name": "python3"
  },
  "language_info": {
   "codemirror_mode": {
    "name": "ipython",
    "version": 3
   },
   "file_extension": ".py",
   "mimetype": "text/x-python",
   "name": "python",
   "nbconvert_exporter": "python",
   "pygments_lexer": "ipython3",
   "version": "3.11.7"
  }
 },
 "nbformat": 4,
 "nbformat_minor": 5
}
