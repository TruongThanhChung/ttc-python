{
 "cells": [
  {
   "cell_type": "markdown",
   "id": "c2856c17-abf3-4f07-8e7d-b93af59c7ab3",
   "metadata": {},
   "source": [
    "Unpacking a Tuple\n",
    "When we create a tuple, we normally assign values to it. This is called \"packing\" a tuple:\n",
    "Giải nén một Tuple\n",
    "Khi tạo một bộ, chúng ta thường gán giá trị cho nó. Việc này được gọi là \"đóng gói\" một bộ dữ liệu:"
   ]
  },
  {
   "cell_type": "code",
   "execution_count": null,
   "id": "f33f16b0-8ef7-4acf-ad7c-b9273317f05f",
   "metadata": {},
   "outputs": [],
   "source": [
    "# Packing a tuple:\n",
    "# Đóng gói một tuple:\n",
    "fruits = (\"apple\", \"banana\", \"cherry\")"
   ]
  },
  {
   "cell_type": "markdown",
   "id": "36070366-3008-47c2-9b09-eee8445952e3",
   "metadata": {},
   "source": [
    "But, in Python, we are also allowed to extract the values back into variables. This is called \"unpacking\":\n",
    "Tuy nhiên, trong Python, chúng ta cũng được phép trích xuất các giá trị thành các biến. Điều này được gọi là \"giải nén\":"
   ]
  },
  {
   "cell_type": "code",
   "execution_count": 1,
   "id": "5238a548-0564-4df3-8f19-6ca27aed1273",
   "metadata": {},
   "outputs": [
    {
     "name": "stdout",
     "output_type": "stream",
     "text": [
      "apple\n",
      "banana\n",
      "cherry\n"
     ]
    }
   ],
   "source": [
    "# Unpacking a tuple:\n",
    "# Giải nén một tuple:\n",
    "fruits = (\"apple\", \"banana\", \"cherry\")\n",
    "\n",
    "(green, yellow, red) = fruits\n",
    "\n",
    "print(green)\n",
    "print(yellow)\n",
    "print(red)"
   ]
  },
  {
   "cell_type": "markdown",
   "id": "e4c6d0f8-291d-4d31-84a5-6d474f002c3a",
   "metadata": {},
   "source": [
    "Note: The number of variables must match the number of values in the tuple, if not, you must use an asterisk to collect the remaining values as a list.\n",
    "Lưu ý: Số biến phải trùng với số giá trị trong tuple, nếu không thì phải dùng dấu hoa thị để gom các giá trị còn lại thành danh sách."
   ]
  },
  {
   "cell_type": "markdown",
   "id": "82660c30-8410-484f-a100-b12c5e6d0c4d",
   "metadata": {},
   "source": [
    "Using Asterisk*\n",
    "If the number of variables is less than the number of values, you can add an * to the variable name and the values will be assigned to the variable as a list:\n",
    "Sử dụng dấu hoa thị*\n",
    "Nếu số lượng biến nhỏ hơn số lượng giá trị, bạn có thể thêm một dấu * vào tên biến và các giá trị sẽ được gán cho biến dưới dạng danh sách:"
   ]
  },
  {
   "cell_type": "code",
   "execution_count": 2,
   "id": "129f405b-2a1a-4586-9e12-b67471ab8cc3",
   "metadata": {},
   "outputs": [
    {
     "name": "stdout",
     "output_type": "stream",
     "text": [
      "apple\n",
      "banana\n",
      "['cherry', 'strawberry', 'raspberry']\n"
     ]
    }
   ],
   "source": [
    "# Assign the rest of the values as a list called \"red\":\n",
    "# Gán các giá trị còn lại dưới dạng danh sách có tên \"đỏ\":\n",
    "fruits = (\"apple\", \"banana\", \"cherry\", \"strawberry\", \"raspberry\")\n",
    "\n",
    "(green, yellow, *red) = fruits\n",
    "\n",
    "print(green)\n",
    "print(yellow)\n",
    "print(red)"
   ]
  },
  {
   "cell_type": "markdown",
   "id": "b604e7e3-a510-4062-aed6-cc0e5df84261",
   "metadata": {},
   "source": [
    "If the asterisk is added to another variable name than the last, Python will assign values to the variable until the number of values left matches the number of variables left.\n",
    "Nếu dấu * được thêm vào một tên biến khác ngoài tên biến cuối cùng, Python sẽ gán giá trị cho biến đó cho đến khi số giá trị còn lại khớp với số biến còn lại."
   ]
  },
  {
   "cell_type": "code",
   "execution_count": 3,
   "id": "67fcc814-7c39-43b4-9ea4-2f794d585a1c",
   "metadata": {},
   "outputs": [
    {
     "name": "stdout",
     "output_type": "stream",
     "text": [
      "apple\n",
      "['mango', 'papaya', 'pineapple']\n",
      "cherry\n"
     ]
    }
   ],
   "source": [
    "# Add a list of values the \"tropic\" variable:\n",
    "# Thêm danh sách các giá trị của biến \"tropic\":\n",
    "fruits = (\"apple\", \"mango\", \"papaya\", \"pineapple\", \"cherry\")\n",
    "\n",
    "(green, *tropic, red) = fruits\n",
    "\n",
    "print(green)\n",
    "print(tropic)\n",
    "print(red)"
   ]
  },
  {
   "cell_type": "code",
   "execution_count": null,
   "id": "9ba86264-63c2-4b6e-9855-a9cb034352c4",
   "metadata": {},
   "outputs": [],
   "source": []
  }
 ],
 "metadata": {
  "kernelspec": {
   "display_name": "Python 3 (ipykernel)",
   "language": "python",
   "name": "python3"
  },
  "language_info": {
   "codemirror_mode": {
    "name": "ipython",
    "version": 3
   },
   "file_extension": ".py",
   "mimetype": "text/x-python",
   "name": "python",
   "nbconvert_exporter": "python",
   "pygments_lexer": "ipython3",
   "version": "3.11.7"
  }
 },
 "nbformat": 4,
 "nbformat_minor": 5
}
