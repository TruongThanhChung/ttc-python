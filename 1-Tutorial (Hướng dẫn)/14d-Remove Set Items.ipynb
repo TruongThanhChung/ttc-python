{
 "cells": [
  {
   "cell_type": "markdown",
   "id": "914bc83c-4a27-4022-b88a-76d118fd01f4",
   "metadata": {},
   "source": [
    "Remove Item\n",
    "To remove an item in a set, use the remove(), or the discard() method.\n",
    "Loại bỏ mục\n",
    "Để xóa một mục trong một bộ, hãy sử dụng remove(), hoặc discard()phương thức."
   ]
  },
  {
   "cell_type": "code",
   "execution_count": 1,
   "id": "d3013ffd-898c-4112-8195-41ef16abc9cf",
   "metadata": {},
   "outputs": [
    {
     "name": "stdout",
     "output_type": "stream",
     "text": [
      "{'apple', 'cherry'}\n"
     ]
    }
   ],
   "source": [
    "# Remove \"banana\" by using the remove() method:\n",
    "# Loại bỏ \"chuối\" bằng cách sử dụng remove() phương pháp:\n",
    "thisset = {\"apple\", \"banana\", \"cherry\"}\n",
    "\n",
    "thisset.remove(\"banana\")\n",
    "\n",
    "print(thisset)"
   ]
  },
  {
   "cell_type": "markdown",
   "id": "6c411349-cdd8-41b2-b0af-36217279427e",
   "metadata": {},
   "source": [
    "Note: If the item to remove does not exist, remove() will raise an error.\n",
    "Lưu ý: Nếu mục cần xóa không tồn tại remove()sẽ báo lỗi."
   ]
  },
  {
   "cell_type": "code",
   "execution_count": 2,
   "id": "b0a5e4e7-eed9-424e-8124-4b044d13eb8d",
   "metadata": {},
   "outputs": [
    {
     "name": "stdout",
     "output_type": "stream",
     "text": [
      "{'apple', 'cherry'}\n"
     ]
    }
   ],
   "source": [
    "# Remove \"banana\" by using the discard() method:\n",
    "# Loại bỏ \"chuối\" bằng cách sử dụng discard() phương pháp:\n",
    "thisset = {\"apple\", \"banana\", \"cherry\"}\n",
    "\n",
    "thisset.discard(\"banana\")\n",
    "\n",
    "print(thisset)"
   ]
  },
  {
   "cell_type": "markdown",
   "id": "5e3c363c-3730-45bb-8dbf-d296f584b4e5",
   "metadata": {},
   "source": [
    "Note: If the item to remove does not exist, discard() will NOT raise an error.\n",
    "Lưu ý: Nếu mục cần xóa không tồn tại, discard() sẽ KHÔNG phát sinh lỗi."
   ]
  },
  {
   "cell_type": "markdown",
   "id": "5d8864dc-93b9-4025-a46f-8d0fdd540187",
   "metadata": {},
   "source": [
    "You can also use the pop() method to remove an item, but this method will remove a random item, so you cannot be sure what item that gets removed.\n",
    "The return value of the pop() method is the removed item.\n",
    "Bạn cũng có thể sử dụng pop()phương pháp này để xóa một mục, nhưng phương pháp này sẽ xóa một mục ngẫu nhiên nên bạn không thể chắc chắn mục nào sẽ bị xóa.\n",
    "Giá trị trả về của pop()phương thức là mục bị loại bỏ."
   ]
  },
  {
   "cell_type": "code",
   "execution_count": 3,
   "id": "b7cbda52-70e8-40aa-a7f9-0cf945418040",
   "metadata": {},
   "outputs": [
    {
     "name": "stdout",
     "output_type": "stream",
     "text": [
      "apple\n",
      "{'cherry', 'banana'}\n"
     ]
    }
   ],
   "source": [
    "# Remove a random item by using the pop() method:\n",
    "# Xóa một mục ngẫu nhiên bằng cách sử dụng phương pop() pháp:\n",
    "thisset = {\"apple\", \"banana\", \"cherry\"}\n",
    "\n",
    "x = thisset.pop()\n",
    "\n",
    "print(x)\n",
    "\n",
    "print(thisset)"
   ]
  },
  {
   "cell_type": "markdown",
   "id": "d24cb627-2cdf-43d0-a959-33bd60a0eb6f",
   "metadata": {},
   "source": [
    "Note: Sets are unordered, so when using the pop() method, you do not know which item that gets removed.\n",
    "Lưu ý: Các bộ không có thứ tự nên khi sử dụng phương pop() pháp bạn không biết được món nào sẽ bị bỏ đi."
   ]
  },
  {
   "cell_type": "code",
   "execution_count": 4,
   "id": "2f46f51d-5258-4253-ab9a-25f41cbcc7e2",
   "metadata": {},
   "outputs": [
    {
     "name": "stdout",
     "output_type": "stream",
     "text": [
      "set()\n"
     ]
    }
   ],
   "source": [
    "# The clear() method empties the set:\n",
    "# Phương clear() thức làm trống tập hợp:\n",
    "thisset = {\"apple\", \"banana\", \"cherry\"}\n",
    "\n",
    "thisset.clear()\n",
    "\n",
    "print(thisset)"
   ]
  },
  {
   "cell_type": "code",
   "execution_count": 5,
   "id": "19bd1bef-ce01-484f-8bd8-ff958bb92495",
   "metadata": {},
   "outputs": [
    {
     "ename": "NameError",
     "evalue": "name 'thisset' is not defined",
     "output_type": "error",
     "traceback": [
      "\u001b[1;31m---------------------------------------------------------------------------\u001b[0m",
      "\u001b[1;31mNameError\u001b[0m                                 Traceback (most recent call last)",
      "Cell \u001b[1;32mIn[5], line 7\u001b[0m\n\u001b[0;32m      3\u001b[0m thisset \u001b[38;5;241m=\u001b[39m {\u001b[38;5;124m\"\u001b[39m\u001b[38;5;124mapple\u001b[39m\u001b[38;5;124m\"\u001b[39m, \u001b[38;5;124m\"\u001b[39m\u001b[38;5;124mbanana\u001b[39m\u001b[38;5;124m\"\u001b[39m, \u001b[38;5;124m\"\u001b[39m\u001b[38;5;124mcherry\u001b[39m\u001b[38;5;124m\"\u001b[39m}\n\u001b[0;32m      5\u001b[0m \u001b[38;5;28;01mdel\u001b[39;00m thisset\n\u001b[1;32m----> 7\u001b[0m \u001b[38;5;28mprint\u001b[39m(\u001b[43mthisset\u001b[49m)\n",
      "\u001b[1;31mNameError\u001b[0m: name 'thisset' is not defined"
     ]
    }
   ],
   "source": [
    "# The del keyword will delete the set completely:\n",
    "# Từ del khóa sẽ xóa hoàn toàn bộ:\n",
    "thisset = {\"apple\", \"banana\", \"cherry\"}\n",
    "\n",
    "del thisset\n",
    "\n",
    "print(thisset)"
   ]
  },
  {
   "cell_type": "code",
   "execution_count": null,
   "id": "ae52ddf4-f58b-468d-a1fe-05deddc99ea3",
   "metadata": {},
   "outputs": [],
   "source": []
  }
 ],
 "metadata": {
  "kernelspec": {
   "display_name": "Python 3 (ipykernel)",
   "language": "python",
   "name": "python3"
  },
  "language_info": {
   "codemirror_mode": {
    "name": "ipython",
    "version": 3
   },
   "file_extension": ".py",
   "mimetype": "text/x-python",
   "name": "python",
   "nbconvert_exporter": "python",
   "pygments_lexer": "ipython3",
   "version": "3.11.7"
  }
 },
 "nbformat": 4,
 "nbformat_minor": 5
}
