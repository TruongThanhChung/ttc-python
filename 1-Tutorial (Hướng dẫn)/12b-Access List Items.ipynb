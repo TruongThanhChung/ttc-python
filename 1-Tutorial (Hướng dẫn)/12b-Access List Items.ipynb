{
 "cells": [
  {
   "cell_type": "markdown",
   "id": "4293845d-2c4f-4c29-ab24-f2e496b2e2cb",
   "metadata": {},
   "source": [
    "# Access Items\n",
    "List items are indexed and you can access them by referring to the index number:\n",
    "# Truy cập các mục\n",
    "Các mục danh sách được lập chỉ mục và bạn có thể truy cập chúng bằng cách tham khảo số chỉ mục:"
   ]
  },
  {
   "cell_type": "code",
   "execution_count": 8,
   "id": "ef2e69e2-083e-4d33-8294-e6818653e231",
   "metadata": {},
   "outputs": [
    {
     "name": "stdout",
     "output_type": "stream",
     "text": [
      "banana\n"
     ]
    }
   ],
   "source": [
    "# Print the second item of the list:\n",
    "# In mục thứ hai của danh sách:\n",
    "thislist = [\"apple\", \"banana\", \"cherry\"]\n",
    "print(thislist[1])"
   ]
  },
  {
   "cell_type": "markdown",
   "id": "9185bf11-7361-48ac-b23a-b94a826d4b16",
   "metadata": {},
   "source": [
    "# Note: The first item has index 0.\n",
    "# Lưu ý: Mục đầu tiên có chỉ số 0."
   ]
  },
  {
   "cell_type": "markdown",
   "id": "f6ea9547-dbac-46e9-b204-7ea819fd703b",
   "metadata": {},
   "source": [
    "# Negative Indexing\n",
    "Negative indexing means start from the end\n",
    "\n",
    "-1 refers to the last item, -2 refers to the second last item etc.\n",
    "# Lập chỉ mục tiêu cực\n",
    "Lập chỉ mục phủ định có nghĩa là bắt đầu từ cuối\n",
    "\n",
    "-1 đề cập đến mục cuối cùng, -2 đề cập đến mục cuối cùng thứ hai, v.v."
   ]
  },
  {
   "cell_type": "code",
   "execution_count": 9,
   "id": "1de12bcc-afdc-4388-a8b2-235439070831",
   "metadata": {},
   "outputs": [
    {
     "name": "stdout",
     "output_type": "stream",
     "text": [
      "cherry\n"
     ]
    }
   ],
   "source": [
    "# Print the last item of the list:\n",
    "# In mục cuối cùng của danh sách:\n",
    "thislist = [\"apple\", \"banana\", \"cherry\"]\n",
    "print(thislist[-1])"
   ]
  },
  {
   "cell_type": "markdown",
   "id": "e214b7a2-d939-48a5-a004-40349409411a",
   "metadata": {},
   "source": [
    "# Range of Indexes\n",
    "You can specify a range of indexes by specifying where to start and where to end the range.\n",
    "\n",
    "When specifying a range, the return value will be a new list with the specified items.\n",
    "# Phạm vi chỉ số\n",
    "Bạn có thể chỉ định một phạm vi chỉ mục bằng cách chỉ định nơi bắt đầu và nơi kết thúc phạm vi.\n",
    "\n",
    "Khi chỉ định một phạm vi, giá trị trả về sẽ là một danh sách mới với các mục được chỉ định."
   ]
  },
  {
   "cell_type": "code",
   "execution_count": 10,
   "id": "0f26a6d1-288f-42ec-a9c5-94b98d6e8181",
   "metadata": {},
   "outputs": [
    {
     "name": "stdout",
     "output_type": "stream",
     "text": [
      "['cherry', 'orange', 'kiwi']\n"
     ]
    }
   ],
   "source": [
    "# Return the third, fourth, and fifth item:\n",
    "# Trả lại mục thứ ba, thứ tư và thứ năm:\n",
    "thislist = [\"apple\", \"banana\", \"cherry\", \"orange\", \"kiwi\", \"melon\", \"mango\"]\n",
    "print(thislist[2:5])"
   ]
  },
  {
   "cell_type": "markdown",
   "id": "c3336186-de52-4d3a-90dc-a9d23ca58a46",
   "metadata": {},
   "source": [
    "# Note: The search will start at index 2 (included) and end at index 5 (not included).\n",
    "# Remember that the first item has index 0.\n",
    "# Lưu ý: Việc tìm kiếm sẽ bắt đầu ở chỉ mục 2 (bao gồm) và kết thúc ở chỉ mục 5 (không bao gồm).\n",
    "# Hãy nhớ rằng mục đầu tiên có chỉ số 0."
   ]
  },
  {
   "cell_type": "markdown",
   "id": "a248dbbe-9ce5-401c-a22b-64c88592af61",
   "metadata": {},
   "source": [
    "# By leaving out the start value, the range will start at the first item:\n",
    "# Bằng cách bỏ đi giá trị bắt đầu, phạm vi sẽ bắt đầu ở mục đầu tiên:"
   ]
  },
  {
   "cell_type": "code",
   "execution_count": 11,
   "id": "a5bcc939-669f-46c4-b4b0-fceaafcc3a1c",
   "metadata": {},
   "outputs": [
    {
     "name": "stdout",
     "output_type": "stream",
     "text": [
      "['apple', 'banana', 'cherry', 'orange']\n"
     ]
    }
   ],
   "source": [
    "# This example returns the items from the beginning to, but NOT including, \"kiwi\":\n",
    "# Ví dụ này trả về các mục từ đầu đến, nhưng KHÔNG bao gồm \"kiwi\":\n",
    "thislist = [\"apple\", \"banana\", \"cherry\", \"orange\", \"kiwi\", \"melon\", \"mango\"]\n",
    "print(thislist[:4])"
   ]
  },
  {
   "cell_type": "markdown",
   "id": "17db762a-1cb0-4067-b1d1-d3af26033ed0",
   "metadata": {},
   "source": [
    "# By leaving out the end value, the range will go on to the end of the list:\n",
    "# Bằng cách bỏ đi giá trị cuối, phạm vi sẽ đi đến cuối danh sách:"
   ]
  },
  {
   "cell_type": "code",
   "execution_count": 12,
   "id": "60da37ef-008c-497b-9e70-77b8cc022bcd",
   "metadata": {},
   "outputs": [
    {
     "name": "stdout",
     "output_type": "stream",
     "text": [
      "['cherry', 'orange', 'kiwi', 'melon', 'mango']\n"
     ]
    }
   ],
   "source": [
    "# This example returns the items from \"cherry\" to the end:\n",
    "# Ví dụ này trả về các mục từ \"cherry\" đến cuối:\n",
    "thislist = [\"apple\", \"banana\", \"cherry\", \"orange\", \"kiwi\", \"melon\", \"mango\"]\n",
    "print(thislist[2:])"
   ]
  },
  {
   "cell_type": "markdown",
   "id": "71ad8465-d063-47e9-9a54-73b582b9e0d3",
   "metadata": {},
   "source": [
    "# Range of Negative Indexes\n",
    "Specify negative indexes if you want to start the search from the end of the list:\n",
    "# Phạm vi chỉ số tiêu cực\n",
    "Chỉ định chỉ mục phủ định nếu bạn muốn bắt đầu tìm kiếm từ cuối danh sách:"
   ]
  },
  {
   "cell_type": "code",
   "execution_count": 13,
   "id": "f403d851-877c-41df-b2ad-3855110ede56",
   "metadata": {},
   "outputs": [
    {
     "name": "stdout",
     "output_type": "stream",
     "text": [
      "['orange', 'kiwi', 'melon']\n"
     ]
    }
   ],
   "source": [
    "# This example returns the items from \"orange\" (-4) to, but NOT including \"mango\" (-1):\n",
    "# Ví dụ này trả về các mục từ \"orange\" (-4) đến, nhưng KHÔNG bao gồm \"xoài\" (-1):\n",
    "thislist = [\"apple\", \"banana\", \"cherry\", \"orange\", \"kiwi\", \"melon\", \"mango\"]\n",
    "print(thislist[-4:-1])"
   ]
  },
  {
   "cell_type": "markdown",
   "id": "d6cab71d-1cf4-4752-a72a-71cec87550ae",
   "metadata": {},
   "source": [
    "# Check if Item Exists\n",
    "To determine if a specified item is present in a list use the in keyword:\n",
    "# Kiểm tra xem mục có tồn tại không\n",
    "Để xác định xem một mục được chỉ định có trong danh sách hay không, hãy sử dụng intừ khóa:"
   ]
  },
  {
   "cell_type": "code",
   "execution_count": 14,
   "id": "6658bee1-f3de-44ab-af6d-39c4eba2a4a1",
   "metadata": {},
   "outputs": [
    {
     "name": "stdout",
     "output_type": "stream",
     "text": [
      "Yes, 'apple' is in the fruits list\n"
     ]
    }
   ],
   "source": [
    "# Check if \"apple\" is present in the list:\n",
    "# Kiểm tra xem \"quả táo\" có trong danh sách không:\n",
    "thislist = [\"apple\", \"banana\", \"cherry\"]\n",
    "if \"apple\" in thislist:\n",
    "  print(\"Yes, 'apple' is in the fruits list\")"
   ]
  },
  {
   "cell_type": "code",
   "execution_count": null,
   "id": "0588a9b7-567e-4d8e-9ac0-1a752a5cb3d9",
   "metadata": {},
   "outputs": [],
   "source": []
  }
 ],
 "metadata": {
  "kernelspec": {
   "display_name": "Python 3 (ipykernel)",
   "language": "python",
   "name": "python3"
  },
  "language_info": {
   "codemirror_mode": {
    "name": "ipython",
    "version": 3
   },
   "file_extension": ".py",
   "mimetype": "text/x-python",
   "name": "python",
   "nbconvert_exporter": "python",
   "pygments_lexer": "ipython3",
   "version": "3.12.3"
  }
 },
 "nbformat": 4,
 "nbformat_minor": 5
}
