{
 "cells": [
  {
   "cell_type": "markdown",
   "id": "1b481d88-58a3-4afc-9020-37758722a48c",
   "metadata": {},
   "source": [
    "Loop Through a Dictionary\n",
    "You can loop through a dictionary by using a for loop.\n",
    "When looping through a dictionary, the return value are the keys of the dictionary, but there are methods to return the values as well.\n",
    "Lặp lại từ điển\n",
    "Bạn có thể lặp qua một từ điển bằng cách sử dụng một for vòng lặp.\n",
    "Khi lặp qua một từ điển, giá trị trả về là các khóa của từ điển, nhưng cũng có các phương thức để trả về các giá trị đó."
   ]
  },
  {
   "cell_type": "code",
   "execution_count": 1,
   "id": "516ec1e7-2129-442a-b5f4-0b3ee0f690b8",
   "metadata": {},
   "outputs": [
    {
     "ename": "NameError",
     "evalue": "name 'thisdict' is not defined",
     "output_type": "error",
     "traceback": [
      "\u001b[1;31m---------------------------------------------------------------------------\u001b[0m",
      "\u001b[1;31mNameError\u001b[0m                                 Traceback (most recent call last)",
      "Cell \u001b[1;32mIn[1], line 3\u001b[0m\n\u001b[0;32m      1\u001b[0m \u001b[38;5;66;03m# Print all key names in the dictionary, one by one:\u001b[39;00m\n\u001b[0;32m      2\u001b[0m \u001b[38;5;66;03m# In tất cả các tên khóa trong từ điển, từng cái một:\u001b[39;00m\n\u001b[1;32m----> 3\u001b[0m \u001b[38;5;28;01mfor\u001b[39;00m x \u001b[38;5;129;01min\u001b[39;00m \u001b[43mthisdict\u001b[49m:\n\u001b[0;32m      4\u001b[0m   \u001b[38;5;28mprint\u001b[39m(x)\n",
      "\u001b[1;31mNameError\u001b[0m: name 'thisdict' is not defined"
     ]
    }
   ],
   "source": [
    "# Print all key names in the dictionary, one by one:\n",
    "# In tất cả các tên khóa trong từ điển, từng cái một:\n",
    "for x in thisdict:\n",
    "  print(x)"
   ]
  },
  {
   "cell_type": "code",
   "execution_count": null,
   "id": "dd67b50b-662f-4255-9493-a61b4fd1955f",
   "metadata": {},
   "outputs": [],
   "source": [
    "# Print all values in the dictionary, one by one:\n",
    "# In tất cả các giá trị trong từ điển, từng giá trị một:\n",
    "for x in thisdict:\n",
    "  print(thisdict[x])"
   ]
  },
  {
   "cell_type": "code",
   "execution_count": null,
   "id": "e3af52e3-451c-4f6a-8d4c-108263398a63",
   "metadata": {},
   "outputs": [],
   "source": [
    "# You can also use the values() method to return values of a dictionary:\n",
    "# Bạn cũng có thể sử dụng values()phương thức này để trả về giá trị của từ điển:\n",
    "for x in thisdict.values():\n",
    "  print(x)"
   ]
  },
  {
   "cell_type": "code",
   "execution_count": null,
   "id": "b6c0c60e-800c-4130-ac76-325681513da9",
   "metadata": {},
   "outputs": [],
   "source": [
    "# You can use the keys() method to return the keys of a dictionary:\n",
    "# Bạn có thể sử dụng keys()phương thức này để trả về các khóa của từ điển:\n",
    "for x in thisdict.keys():\n",
    "  print(x)"
   ]
  },
  {
   "cell_type": "code",
   "execution_count": null,
   "id": "21c8e5bf-22be-4b1a-9297-e24494533015",
   "metadata": {},
   "outputs": [],
   "source": [
    "# Loop through both keys and values, by using the items() method:\n",
    "# Lặp lại cả khóa và giá trị bằng cách sử dụng items() phương thức:\n",
    "for x, y in thisdict.items():\n",
    "  print(x, y)"
   ]
  }
 ],
 "metadata": {
  "kernelspec": {
   "display_name": "Python 3 (ipykernel)",
   "language": "python",
   "name": "python3"
  },
  "language_info": {
   "codemirror_mode": {
    "name": "ipython",
    "version": 3
   },
   "file_extension": ".py",
   "mimetype": "text/x-python",
   "name": "python",
   "nbconvert_exporter": "python",
   "pygments_lexer": "ipython3",
   "version": "3.11.7"
  }
 },
 "nbformat": 4,
 "nbformat_minor": 5
}
