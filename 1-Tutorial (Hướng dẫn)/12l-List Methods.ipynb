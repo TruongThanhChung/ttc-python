{
 "cells": [
  {
   "cell_type": "markdown",
   "id": "c030a828-a3e6-4649-ae1c-bab7540132fa",
   "metadata": {},
   "source": [
    "List Methods\n",
    "Python has a set of built-in methods that you can use on lists.\n",
    "Liệt kê các phương thức\n",
    "Python có một tập hợp các phương thức dựng sẵn mà bạn có thể sử dụng trong danh sách."
   ]
  },
  {
   "cell_type": "markdown",
   "id": "2de0d4ed-f295-4c70-92ce-bffb16046aaf",
   "metadata": {},
   "source": [
    "Method\t    Description\n",
    "append()\tAdds an element at the end of the list (Thêm một phần tử vào cuối danh sách)\n",
    "clear()\t    Removes all the elements from the list (Loại bỏ tất cả các phần tử khỏi danh sách)\n",
    "copy()\t    Returns a copy of the list (Trả về một bản sao của danh sách)\n",
    "count()\t    Returns the number of elements with the specified value (Trả về số phần tử có giá trị được chỉ định)\n",
    "extend()\tAdd the elements of a list (or any iterable), to the end of the current list \n",
    "            (Thêm các phần tử của danh sách (hoặc bất kỳ phần tử nào có thể lặp lại) vào cuối danh sách hiện tại)\n",
    "index()\t    Returns the index of the first element with the specified value (Trả về chỉ mục của phần tử đầu tiên với giá trị được chỉ định)\n",
    "insert()\tAdds an element at the specified position (Thêm một phần tử vào vị trí đã chỉ định)\n",
    "pop()\t    Removes the element at the specified position (Xóa phần tử tại vị trí đã chỉ định)\n",
    "remove()\tRemoves the item with the specified value (Xóa mục có giá trị được chỉ định)\n",
    "reverse()\tReverses the order of the list (Đảo ngược thứ tự của danh sách)\n",
    "sort()\t    Sorts the list (Sắp xếp danh sách)"
   ]
  }
 ],
 "metadata": {
  "kernelspec": {
   "display_name": "Python 3 (ipykernel)",
   "language": "python",
   "name": "python3"
  },
  "language_info": {
   "codemirror_mode": {
    "name": "ipython",
    "version": 3
   },
   "file_extension": ".py",
   "mimetype": "text/x-python",
   "name": "python",
   "nbconvert_exporter": "python",
   "pygments_lexer": "ipython3",
   "version": "3.11.7"
  }
 },
 "nbformat": 4,
 "nbformat_minor": 5
}
