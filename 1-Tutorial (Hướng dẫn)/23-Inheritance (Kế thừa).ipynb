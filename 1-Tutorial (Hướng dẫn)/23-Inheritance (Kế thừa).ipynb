{
 "cells": [
  {
   "cell_type": "markdown",
   "id": "e7377399-1ff3-42e7-b328-eca0941bd324",
   "metadata": {},
   "source": [
    "Python Inheritance\n",
    "Inheritance allows us to define a class that inherits all the methods and properties from another class.\n",
    "Parent class is the class being inherited from, also called base class.\n",
    "Child class is the class that inherits from another class, also called derived class.\n",
    "\n",
    "Kế thừa Python\n",
    "Kế thừa cho phép chúng ta định nghĩa một lớp kế thừa tất cả các phương thức và thuộc tính từ một lớp khác.\n",
    "Lớp cha là lớp được kế thừa từ đó, còn gọi là lớp cơ sở.\n",
    "Lớp con là lớp kế thừa từ lớp khác, còn gọi là lớp dẫn xuất."
   ]
  },
  {
   "cell_type": "code",
   "execution_count": null,
   "id": "54e0aae0-f0ea-4e3a-8094-085de9840169",
   "metadata": {},
   "outputs": [],
   "source": [
    "Create a Parent Class\n",
    "Any class can be a parent class, so the syntax is the same as creating any other class:\n",
    "Tạo một lớp cha mẹ\n",
    "Bất kỳ lớp nào cũng có thể là lớp cha, vì vậy cú pháp giống như tạo bất kỳ lớp nào khác:"
   ]
  },
  {
   "cell_type": "code",
   "execution_count": 1,
   "id": "57029d01-acbe-403e-be90-1207f7fb7402",
   "metadata": {},
   "outputs": [
    {
     "name": "stdout",
     "output_type": "stream",
     "text": [
      "John Doe\n"
     ]
    }
   ],
   "source": [
    "# Create a class named Person, with firstname and lastname properties, and a printname method:\n",
    "# Tạo một lớp có tên Person, with firstname và lastname các thuộc tính và một printname phương thức:\n",
    "class Person:\n",
    "  def __init__(self, fname, lname):\n",
    "    self.firstname = fname\n",
    "    self.lastname = lname\n",
    "\n",
    "  def printname(self):\n",
    "    print(self.firstname, self.lastname)\n",
    "\n",
    "#Use the Person class to create an object, and then execute the printname method:\n",
    "\n",
    "x = Person(\"John\", \"Doe\")\n",
    "x.printname()"
   ]
  },
  {
   "cell_type": "markdown",
   "id": "c41d3ba7-c2f6-46a7-a107-31ade8a014bc",
   "metadata": {},
   "source": [
    "Create a Child Class\n",
    "To create a class that inherits the functionality from another class, send the parent class as a parameter when creating the child class:\n",
    "Tạo một lớp con\n",
    "Để tạo một lớp kế thừa chức năng từ một lớp khác, hãy gửi lớp cha làm tham số khi tạo lớp con:"
   ]
  },
  {
   "cell_type": "code",
   "execution_count": 2,
   "id": "b1bea642-0a1c-4bfe-8349-0f3469d80dd5",
   "metadata": {},
   "outputs": [],
   "source": [
    "# Create a class named Student, which will inherit the properties and methods from the Person class:\n",
    "# Tạo một lớp có tên Student, lớp này sẽ kế thừa các thuộc tính và phương thức từ Personlớp:\n",
    "class Student(Person):\n",
    "  pass"
   ]
  },
  {
   "cell_type": "markdown",
   "id": "880434f1-06a0-4781-8fa1-81f824ebb74f",
   "metadata": {},
   "source": [
    "Note: Use the pass keyword when you do not want to add any other properties or methods to the class.\n",
    "Lưu ý: Sử dụng pass từ khóa khi bạn không muốn thêm bất kỳ thuộc tính hoặc phương thức nào khác vào lớp."
   ]
  },
  {
   "cell_type": "code",
   "execution_count": 3,
   "id": "88902a8c-930d-47da-bc22-1e3042ab98f7",
   "metadata": {},
   "outputs": [
    {
     "name": "stdout",
     "output_type": "stream",
     "text": [
      "Mike Olsen\n"
     ]
    }
   ],
   "source": [
    "# Use the Student class to create an object, and then execute the printname method:\n",
    "# Bây giờ lớp Sinh viên có các thuộc tính và phương thức giống như lớp Người.\n",
    "x = Student(\"Mike\", \"Olsen\")\n",
    "x.printname()"
   ]
  },
  {
   "cell_type": "markdown",
   "id": "722e0796-b747-4fc8-82e9-d5957459f82c",
   "metadata": {},
   "source": [
    "Add the __init__() Function\n",
    "So far we have created a child class that inherits the properties and methods from its parent.\n",
    "We want to add the __init__() function to the child class (instead of the pass keyword).\n",
    "Note: The __init__() function is called automatically every time the class is being used to create a new object.\n",
    "Thêm hàm __init__()\n",
    "Cho đến nay chúng ta đã tạo một lớp con kế thừa các thuộc tính và phương thức từ lớp cha của nó.\n",
    "Chúng tôi muốn thêm __init__() hàm vào lớp con (thay vì pass từ khóa).\n",
    "Lưu ý: Hàm này __init__() được gọi tự động mỗi khi lớp được sử dụng để tạo đối tượng mới."
   ]
  },
  {
   "cell_type": "code",
   "execution_count": null,
   "id": "20e7f11b-9c53-4ac0-9995-a9d54db1a9d0",
   "metadata": {},
   "outputs": [],
   "source": [
    "# Add the __init__() function to the Student class:\n",
    "# Thêm __init__()chức năng vào Studentlớp:\n",
    "class Student(Person):\n",
    "  def __init__(self, fname, lname):\n",
    "    #add properties etc."
   ]
  },
  {
   "cell_type": "markdown",
   "id": "3b9c8e60-f27c-4257-8e5c-c6c34f0937c9",
   "metadata": {},
   "source": [
    "When you add the __init__() function, the child class will no longer inherit the parent's __init__() function.\n",
    "Khi bạn thêm __init__()hàm, lớp con sẽ KHÔNG CÒN kế thừa __init__() hàm của lớp cha nữa."
   ]
  },
  {
   "cell_type": "markdown",
   "id": "f2b0d5b3-b0a9-43bb-b11d-d15418995645",
   "metadata": {},
   "source": [
    "Note: The child's __init__() function overrides the inheritance of the parent's __init__() function.\n",
    "Lưu ý:__init__() Hàm con sẽ GHI ĐÈ SỰ KẾ THỪA của hàm cha __init__()."
   ]
  },
  {
   "cell_type": "code",
   "execution_count": null,
   "id": "4746d9d3-8ea3-4909-bb62-06df72a5ed7f",
   "metadata": {},
   "outputs": [],
   "source": [
    "# To keep the inheritance of the parent's __init__() function, add a call to the parent's __init__() function:\n",
    "# Để giữ tính kế thừa của hàm cha __init__() , hãy thêm lệnh gọi vào hàm cha __init__():\n",
    "class Student(Person):\n",
    "  def __init__(self, fname, lname):\n",
    "    Person.__init__(self, fname, lname)"
   ]
  },
  {
   "cell_type": "markdown",
   "id": "69e0116b-771e-4a1e-9c17-6e3de11cc80e",
   "metadata": {},
   "source": [
    "Now we have successfully added the __init__() function, and kept the inheritance of the parent class, and we are ready to add functionality in the __init__() function.\n",
    "Bây giờ chúng ta đã thêm thành công hàm __init__() và giữ lại tính kế thừa của lớp cha, đồng thời chúng ta đã sẵn sàng thêm chức năng vào hàm __init__()."
   ]
  },
  {
   "cell_type": "markdown",
   "id": "82b0f28b-60f4-4d19-8f15-173f78cbab4f",
   "metadata": {},
   "source": [
    "Use the super() Function\n",
    "Python also has a super() function that will make the child class inherit all the methods and properties from its parent:\n",
    "Sử dụng hàm super()\n",
    "Python cũng có một super() hàm sẽ làm cho lớp con kế thừa tất cả các phương thức và thuộc tính từ lớp cha của nó:"
   ]
  },
  {
   "cell_type": "code",
   "execution_count": 4,
   "id": "f0428aa2-3e3e-4aaa-93f8-f72273967b71",
   "metadata": {},
   "outputs": [],
   "source": [
    "class Student(Person):\n",
    "  def __init__(self, fname, lname):\n",
    "    super().__init__(fname, lname)"
   ]
  },
  {
   "cell_type": "markdown",
   "id": "f19f83f5-99f4-42db-a1af-757a1b75d487",
   "metadata": {},
   "source": [
    "By using the super() function, you do not have to use the name of the parent element, it will automatically inherit the methods and properties from its parent.\n",
    "Khi sử dụng super() hàm, bạn không cần phải sử dụng tên của phần tử cha, nó sẽ tự động kế thừa các phương thức và thuộc tính từ phần tử cha của nó."
   ]
  },
  {
   "cell_type": "markdown",
   "id": "eafe3d77-7917-493c-aae0-46670a401b20",
   "metadata": {},
   "source": [
    "Add Properties\n",
    "Thêm thuộc tính"
   ]
  },
  {
   "cell_type": "code",
   "execution_count": 11,
   "id": "fcd2e383-d65d-48f4-8448-9f2900200d69",
   "metadata": {},
   "outputs": [
    {
     "ename": "TypeError",
     "evalue": "Student.__init__() missing 2 required positional arguments: 'fname' and 'lname'",
     "output_type": "error",
     "traceback": [
      "\u001b[1;31m---------------------------------------------------------------------------\u001b[0m",
      "\u001b[1;31mTypeError\u001b[0m                                 Traceback (most recent call last)",
      "Cell \u001b[1;32mIn[11], line 7\u001b[0m\n\u001b[0;32m      5\u001b[0m     \u001b[38;5;28msuper\u001b[39m()\u001b[38;5;241m.\u001b[39m\u001b[38;5;21m__init__\u001b[39m(fname, lname)\n\u001b[0;32m      6\u001b[0m     \u001b[38;5;28mself\u001b[39m\u001b[38;5;241m.\u001b[39mgraduationyear \u001b[38;5;241m=\u001b[39m \u001b[38;5;241m2019\u001b[39m\n\u001b[1;32m----> 7\u001b[0m \u001b[38;5;28mprint\u001b[39m(\u001b[43mStudent\u001b[49m\u001b[43m(\u001b[49m\u001b[43m)\u001b[49m)\n",
      "\u001b[1;31mTypeError\u001b[0m: Student.__init__() missing 2 required positional arguments: 'fname' and 'lname'"
     ]
    }
   ],
   "source": [
    "# Add a property called graduationyear to the Student class:\n",
    "# Thêm một thuộc tính được gọi graduationyearvào Studentlớp:\n",
    "class Student(Person):\n",
    "  def __init__(self, fname, lname):\n",
    "    super().__init__(fname, lname)\n",
    "    self.graduationyear = 2019"
   ]
  },
  {
   "cell_type": "markdown",
   "id": "49fbc96a-4c2a-4496-b45d-8d1df5781df5",
   "metadata": {},
   "source": [
    "In the example below, the year 2019 should be a variable, and passed into the Student class when creating student objects. To do so, add another parameter in the __init__() function:\n",
    "Trong ví dụ bên dưới, năm 2019 phải là một biến và được chuyển vào Student lớp khi tạo đối tượng sinh viên. Để làm như vậy, hãy thêm một tham số khác vào hàm __init__():"
   ]
  },
  {
   "cell_type": "code",
   "execution_count": 13,
   "id": "146eb241-8f5a-4ab5-98d1-b9e2d7246081",
   "metadata": {},
   "outputs": [
    {
     "name": "stdout",
     "output_type": "stream",
     "text": [
      "<class '__main__.Student'>\n"
     ]
    }
   ],
   "source": [
    "# Add a year parameter, and pass the correct year when creating objects:\n",
    "# Thêm một year tham số và chuyển năm chính xác khi tạo đối tượng:\n",
    "class Student(Person):\n",
    "  def __init__(self, fname, lname, year):\n",
    "    super().__init__(fname, lname)\n",
    "    self.graduationyear = year\n",
    "\n",
    "x = Student(\"Mike\", \"Olsen\", 2019)"
   ]
  },
  {
   "cell_type": "markdown",
   "id": "beb7a108-018a-4b3f-886a-5ac57235279a",
   "metadata": {},
   "source": [
    "Add Methods\n",
    "Thêm phương thức"
   ]
  },
  {
   "cell_type": "code",
   "execution_count": 18,
   "id": "e8e9bec4-93af-43cf-804d-a86cd18b8ec9",
   "metadata": {},
   "outputs": [
    {
     "name": "stdout",
     "output_type": "stream",
     "text": [
      "Welcome Mike Olsen to the class of 2019\n"
     ]
    }
   ],
   "source": [
    "# Add a method called welcome to the Student class:\n",
    "# Thêm một phương thức được gọi welcome vào Student lớp:\n",
    "class Student(Person):\n",
    "  def __init__(self, fname, lname, year):\n",
    "    super().__init__(fname, lname)\n",
    "    self.graduationyear = year\n",
    "\n",
    "  def welcome(self):\n",
    "    print(\"Welcome\", self.firstname, self.lastname, \"to the class of\", self.graduationyear)\n",
    "x = Student(\"Mike\", \"Olsen\", 2019)\n",
    "x.welcome()"
   ]
  },
  {
   "cell_type": "code",
   "execution_count": null,
   "id": "e31db1d0-fcba-4af7-951d-172ef9fc2ccd",
   "metadata": {},
   "outputs": [],
   "source": []
  }
 ],
 "metadata": {
  "kernelspec": {
   "display_name": "Python 3 (ipykernel)",
   "language": "python",
   "name": "python3"
  },
  "language_info": {
   "codemirror_mode": {
    "name": "ipython",
    "version": 3
   },
   "file_extension": ".py",
   "mimetype": "text/x-python",
   "name": "python",
   "nbconvert_exporter": "python",
   "pygments_lexer": "ipython3",
   "version": "3.11.7"
  }
 },
 "nbformat": 4,
 "nbformat_minor": 5
}
