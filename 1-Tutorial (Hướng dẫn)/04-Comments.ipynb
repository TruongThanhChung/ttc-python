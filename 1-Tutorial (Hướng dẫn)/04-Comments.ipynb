{
 "cells": [
  {
   "cell_type": "markdown",
   "id": "b24a56ef-e0eb-4f47-84d3-152fbce5d347",
   "metadata": {},
   "source": [
    "Comments can be used to explain Python code.\n",
    "\r\n",
    "Comments can be used to make the code more readabl.\r\n",
    "\r\n",
    "Comments can be used to prevent execution when testing code.g c\n",
    "Bình luận có thể được sử dụng để giải thích mã ython.\n",
    "\r\n",
    "Bình luận có thể được sử dụng để làm cho mã dn.đọc hơ.\r\n",
    "\r\n",
    "Nhận xét có thể được sử dụng để ngăn chặn việc thực thi khi kira mã.ode."
   ]
  },
  {
   "cell_type": "markdown",
   "id": "5fadbba3-7034-43ee-8188-b9737fb95dad",
   "metadata": {},
   "source": [
    "Creating a Comment\r\n",
    "Comments starts with a #, and Python will ignore them\n",
    "Tạo một bình luận\r\n",
    "Nhận xét bắt đầu bằng a #và Python sẽ bỏ qua chúng::"
   ]
  },
  {
   "cell_type": "code",
   "execution_count": null,
   "id": "748dee60-0ec3-4d58-8dab-b9303f1c8482",
   "metadata": {},
   "outputs": [],
   "source": [
    "#This is a comment\n",
    "print(\"Hello, World!\")"
   ]
  },
  {
   "cell_type": "markdown",
   "id": "88978727-9382-46e3-a582-1350268c7376",
   "metadata": {},
   "source": [
    "Comments can be placed at the end of a line, and Python will ignore the rest of the line:\n",
    "Chú thích có thể được đặt ở cuối dòng và Python sẽ bỏ qua phần còn lại của dòng:"
   ]
  },
  {
   "cell_type": "code",
   "execution_count": null,
   "id": "1694e1c1-c294-4b05-aed9-140398a348bb",
   "metadata": {},
   "outputs": [],
   "source": [
    "print(\"Hello, World!\") #This is a comment"
   ]
  },
  {
   "cell_type": "markdown",
   "id": "408ee70f-1fc2-463f-ac9b-0da0a00e7cc8",
   "metadata": {},
   "source": [
    "A comment does not have to be text that explains the code, it can also be used to prevent Python from executing code:\n",
    "Một nhận xét không nhất thiết phải là văn bản giải thích mã, nó cũng có thể được sử dụng để ngăn Python thực thi mã:"
   ]
  },
  {
   "cell_type": "code",
   "execution_count": null,
   "id": "ee9e5f2d-3737-4a21-9ac7-08419f4afe0d",
   "metadata": {},
   "outputs": [],
   "source": [
    "#print(\"Hello, World!\")\n",
    "print(\"Cheers, Mate!\")"
   ]
  },
  {
   "cell_type": "markdown",
   "id": "95e829bf-e5ef-4f1e-b17a-fb740906dd8d",
   "metadata": {},
   "source": [
    "Multiline Comments\r\n",
    "Python does not really have a syntax for multiline comment.s\n",
    "\r\n",
    "To add a multiline comment you could insert a # for eachne. li\n",
    "Nhận xét nhiều dòng\r\n",
    "Python thực sự không có cú pháp cho các bình luận nhiều .òng\r\n",
    "\r\n",
    "Để thêm nhận xét nhiều dòng, bạn có thể chèn một nận  xé t #cho mỗing:ne:"
   ]
  },
  {
   "cell_type": "code",
   "execution_count": null,
   "id": "3d139e19-6253-4c88-83e1-e3795429e55b",
   "metadata": {},
   "outputs": [],
   "source": [
    "# This is a comment\n",
    "# written in\n",
    "# more than just one line\n",
    "print(\"Hello, World!\")"
   ]
  },
  {
   "cell_type": "markdown",
   "id": "e8412b48-abd8-4fc6-bc62-f8f35063913a",
   "metadata": {},
   "source": [
    "Or, not quite as intended, you can use a multiline string.\r\n",
    "Since Python will ignore string literals that are not assigned to a variable, you can add a multiline string (triple quotes) in your code, and place your comment inside t.i\n",
    "Hoặc, không hoàn toàn như dự định, bạn có thể sử dụng chuỗi nhiều dòng\n",
    "\r\n",
    "Vì Python sẽ bỏ qua các chuỗi ký tự không được gán cho một biến, nên bạn có thể thêm một chuỗi nhiều dòng (dấu ngoặc kép) vào mã của mình và đặt nhận xét của bạn vào trong .t:"
   ]
  },
  {
   "cell_type": "code",
   "execution_count": null,
   "id": "27ca0505-b838-4905-b804-09b026694520",
   "metadata": {},
   "outputs": [],
   "source": [
    "\"\"\"\n",
    "This is a comment\n",
    "written in\n",
    "more than just one line\n",
    "\"\"\"\n",
    "print(\"Hello, World!\")"
   ]
  },
  {
   "cell_type": "markdown",
   "id": "508ca026-a78a-4d68-ab7a-412a86595e9a",
   "metadata": {},
   "source": [
    "As long as the string is not assigned to a variable, Python will read the code, but then ignore it, and you have made a multiline comment.\n",
    "Miễn là chuỗi không được gán cho một biến, Python sẽ đọc mã nhưng sau đó bỏ qua nó và bạn đã đưa ra nhận xét nhiều dòng."
   ]
  }
 ],
 "metadata": {
  "kernelspec": {
   "display_name": "Python 3 (ipykernel)",
   "language": "python",
   "name": "python3"
  },
  "language_info": {
   "codemirror_mode": {
    "name": "ipython",
    "version": 3
   },
   "file_extension": ".py",
   "mimetype": "text/x-python",
   "name": "python",
   "nbconvert_exporter": "python",
   "pygments_lexer": "ipython3",
   "version": "3.11.7"
  }
 },
 "nbformat": 4,
 "nbformat_minor": 5
}
