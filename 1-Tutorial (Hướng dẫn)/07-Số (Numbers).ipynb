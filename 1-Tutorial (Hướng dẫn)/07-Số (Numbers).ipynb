{
 "cells": [
  {
   "cell_type": "markdown",
   "id": "2c58a91d-2386-434f-92a6-c464b11476ce",
   "metadata": {},
   "source": [
    "Python Numbers\r\n",
    "There are three numeric types in Python\r\n",
    "\r\n",
    "int\r\n",
    "float\r\n",
    "complex\r\n",
    "Variables of numeric types are created when you assign a value to\n",
    " them:\n",
    "Có ba loại số trong Pthon:\n",
    "\n",
    "int\n",
    "float\n",
    "c\n",
    "Các biến kiểu số được tạo khi bạn gán giá trị cho chúng:omplex"
   ]
  },
  {
   "cell_type": "code",
   "execution_count": 1,
   "id": "77f8883c-2ee4-4cbd-abe8-18c239eed3aa",
   "metadata": {},
   "outputs": [],
   "source": [
    "x = 1    # int\n",
    "y = 2.8  # float\n",
    "z = 1j   # complex"
   ]
  },
  {
   "cell_type": "code",
   "execution_count": 3,
   "id": "a9d465a2-2afd-42eb-a185-6efbf991ae00",
   "metadata": {},
   "outputs": [
    {
     "name": "stdout",
     "output_type": "stream",
     "text": [
      "<class 'int'>\n",
      "<class 'float'>\n",
      "<class 'complex'>\n"
     ]
    }
   ],
   "source": [
    "# To verify the type of any object in Python, use the type() function:\n",
    "# Để xác minh loại của bất kỳ đối tượng nào trong Python, hãy sử dụng type() hàm:\n",
    "print(type(x))\n",
    "print(type(y))\n",
    "print(type(z))"
   ]
  },
  {
   "cell_type": "markdown",
   "id": "39bc3b4e-90e4-4dca-964b-561b9db22a87",
   "metadata": {},
   "source": [
    "Int\r\n",
    "Int, or integer, is a whole number, positive or negative, without decimals, of unlimited length\n",
    "Int\r\n",
    "Int hoặc số nguyên là số nguyên, dương hoặc âm, không có số thập phân, có độ dài không giới hạn.."
   ]
  },
  {
   "cell_type": "code",
   "execution_count": 5,
   "id": "ce781f6d-bcba-4a1d-927b-36d96bcc0ba2",
   "metadata": {},
   "outputs": [
    {
     "name": "stdout",
     "output_type": "stream",
     "text": [
      "<class 'int'>\n",
      "<class 'int'>\n",
      "<class 'int'>\n"
     ]
    }
   ],
   "source": [
    "# Integers:\n",
    "# Số nguyên:\n",
    "x = 1\n",
    "y = 35656222554887711\n",
    "z = -3255522\n",
    "\n",
    "print(type(x))\n",
    "print(type(y))\n",
    "print(type(z))"
   ]
  },
  {
   "cell_type": "markdown",
   "id": "6823ebd4-9aaf-4572-8754-cdaa0dd0374c",
   "metadata": {},
   "source": [
    "Float\r\n",
    "Float, or \"floating point number\" is a number, positive or negative, containing one or more decimals\n",
    "Số thực\r\n",
    "Số thực hoặc \"số dấu phẩy động\" là một số, dương hoặc âm, chứa một hoặc nhiều số thập phân.."
   ]
  },
  {
   "cell_type": "code",
   "execution_count": 7,
   "id": "ac2481ee-5446-4b6e-aef3-b78292ae0f9c",
   "metadata": {},
   "outputs": [
    {
     "name": "stdout",
     "output_type": "stream",
     "text": [
      "<class 'float'>\n",
      "<class 'float'>\n",
      "<class 'float'>\n"
     ]
    }
   ],
   "source": [
    "# Floats:\n",
    "# Số thực:\n",
    "x = 1.10\n",
    "y = 1.0\n",
    "z = -35.59\n",
    "\n",
    "print(type(x))\n",
    "print(type(y))\n",
    "print(type(z))"
   ]
  },
  {
   "cell_type": "markdown",
   "id": "509ff629-c11c-43c9-8206-0d9891d200d6",
   "metadata": {},
   "source": [
    "Float can also be scientific numbers with an \"e\" to indicate the power of 10.\n",
    "Số float cũng có thể là số khoa học có chữ \"e\" biểu thị lũy thừa của 10."
   ]
  },
  {
   "cell_type": "code",
   "execution_count": 8,
   "id": "d3528064-62db-4ff9-9703-bfcb4d603ec7",
   "metadata": {},
   "outputs": [
    {
     "name": "stdout",
     "output_type": "stream",
     "text": [
      "<class 'float'>\n",
      "<class 'float'>\n",
      "<class 'float'>\n"
     ]
    }
   ],
   "source": [
    "x = 35e3\n",
    "y = 12E4\n",
    "z = -87.7e100\n",
    "\n",
    "print(type(x))\n",
    "print(type(y))\n",
    "print(type(z))"
   ]
  },
  {
   "cell_type": "markdown",
   "id": "bd845945-6b1a-4898-b8bd-fd4914087b79",
   "metadata": {},
   "source": [
    "Complex\r\n",
    "Complex numbers are written with a \"j\" as the imaginary part\n",
    "Số phức\r\n",
    "Số phức được viết bằng chữ \"j\" là phần ảo::"
   ]
  },
  {
   "cell_type": "code",
   "execution_count": 9,
   "id": "f7a52388-aa74-45dc-a028-aa54c74ad482",
   "metadata": {},
   "outputs": [
    {
     "name": "stdout",
     "output_type": "stream",
     "text": [
      "<class 'complex'>\n",
      "<class 'complex'>\n",
      "<class 'complex'>\n"
     ]
    }
   ],
   "source": [
    "x = 3+5j\n",
    "y = 5j\n",
    "z = -5j\n",
    "\n",
    "print(type(x))\n",
    "print(type(y))\n",
    "print(type(z))"
   ]
  },
  {
   "cell_type": "markdown",
   "id": "c1397cc6-fe4b-48c9-8aa6-d28644f8e177",
   "metadata": {},
   "source": [
    "Type Conversion\r\n",
    "You can convert from one type to another with the int(), float(), and complex() methods\n",
    "Chuyển đổi loại\r\n",
    "Bạn có thể chuyển đổi từ loại này sang loại khác bằng các phương thức int(), float()và complex()::"
   ]
  },
  {
   "cell_type": "code",
   "execution_count": 10,
   "id": "7c53284a-b844-419c-925a-fa9450778024",
   "metadata": {},
   "outputs": [
    {
     "name": "stdout",
     "output_type": "stream",
     "text": [
      "1.0\n",
      "2\n",
      "(1+0j)\n",
      "<class 'float'>\n",
      "<class 'int'>\n",
      "<class 'complex'>\n"
     ]
    }
   ],
   "source": [
    "# Convert from one type to another:\n",
    "# Chuyển đổi từ loại này sang loại khác:\n",
    "x = 1    # int\n",
    "y = 2.8  # float\n",
    "z = 1j   # complex\n",
    "\n",
    "#convert from int to float:\n",
    "a = float(x)\n",
    "\n",
    "#convert from float to int:\n",
    "b = int(y)\n",
    "\n",
    "#convert from int to complex:\n",
    "c = complex(x)\n",
    "\n",
    "print(a)\n",
    "print(b)\n",
    "print(c)\n",
    "\n",
    "print(type(a))\n",
    "print(type(b))\n",
    "print(type(c))"
   ]
  },
  {
   "cell_type": "markdown",
   "id": "9eda2ff0-a14f-4d01-9ebf-ec2a3a1b231b",
   "metadata": {},
   "source": [
    "Note: You cannot convert complex numbers into another number type.\n",
    "Lưu ý: Bạn không thể chuyển đổi số phức sang loại số khác."
   ]
  },
  {
   "cell_type": "markdown",
   "id": "e4737ed6-b9f1-488a-a234-38caa0a81560",
   "metadata": {},
   "source": [
    "Random Number\r\n",
    "Python does not have a random() function to make a random number, but Python has a built-in module called random that can be used to make random numbers:Số ngẫu nhiên\r\n",
    "Python không có random()chức năng tạo số ngẫu nhiên, nhưng Python có một mô-đun tích hợp được gọi randomlà có thể được sử dụng để tạo số ngẫu nhiên))"
   ]
  },
  {
   "cell_type": "code",
   "execution_count": null,
   "id": "078d1cb4-12d5-4194-8725-660b6264b3be",
   "metadata": {},
   "outputs": [],
   "source": [
    "import random\n",
    "\n",
    "print(random.randrange(1, 10))"
   ]
  },
  {
   "cell_type": "markdown",
   "id": "936d7f8a-368c-4882-b246-35b829002db7",
   "metadata": {},
   "source": [
    "In our Random Module Reference you will learn more about the Random module.\n",
    "Trong Tài liệu tham khảo mô-đun ngẫu nhiên của chúng tôi , bạn sẽ tìm hiểu thêm về mô-đun Ngẫu nhiên."
   ]
  }
 ],
 "metadata": {
  "kernelspec": {
   "display_name": "Python 3 (ipykernel)",
   "language": "python",
   "name": "python3"
  },
  "language_info": {
   "codemirror_mode": {
    "name": "ipython",
    "version": 3
   },
   "file_extension": ".py",
   "mimetype": "text/x-python",
   "name": "python",
   "nbconvert_exporter": "python",
   "pygments_lexer": "ipython3",
   "version": "3.11.7"
  }
 },
 "nbformat": 4,
 "nbformat_minor": 5
}
