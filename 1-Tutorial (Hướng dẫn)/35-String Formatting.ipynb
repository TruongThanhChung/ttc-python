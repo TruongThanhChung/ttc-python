{
 "cells": [
  {
   "cell_type": "markdown",
   "id": "fba60e88-1bb8-4b86-866d-9b9b2c17ffdf",
   "metadata": {},
   "source": [
    "F-String was introduced in Python 3.6, and is now the preferred way of formatting strings.\n",
    "Before Python 3.6 we had to use the format() method.\n",
    "F-String được giới thiệu trong Python 3.6 và hiện là cách định dạng chuỗi ưa thích.\n",
    "Trước Python 3.6, chúng tôi phải sử dụng phương thức format()."
   ]
  },
  {
   "cell_type": "code",
   "execution_count": null,
   "id": "3bee8350-5dac-4dc9-a7d1-e6bb54c2c6b2",
   "metadata": {},
   "outputs": [],
   "source": [
    "F-Strings\n",
    "F-string allows you to format selected parts of a string.\n",
    "To specify a string as an f-string, simply put an f in front of the string literal, like this:\n",
    "Dây F\n",
    "Chuỗi F cho phép bạn định dạng các phần được chọn của chuỗi.\n",
    "Để chỉ định một chuỗi là chuỗi f, chỉ cần đặt f trước chuỗi ký tự, như sau:"
   ]
  },
  {
   "cell_type": "code",
   "execution_count": 1,
   "id": "223969a1-585f-45d7-a503-71e13c5e5f37",
   "metadata": {},
   "outputs": [
    {
     "name": "stdout",
     "output_type": "stream",
     "text": [
      "The price is 49 dollars\n"
     ]
    }
   ],
   "source": [
    "# Create an f-string:\n",
    "# Tạo một chuỗi f:\n",
    "txt = f\"The price is 49 dollars\"\n",
    "print(txt)"
   ]
  },
  {
   "cell_type": "markdown",
   "id": "099bd83f-a7c8-4c8c-a58d-43667ab1effa",
   "metadata": {},
   "source": [
    "Placeholders and Modifiers\n",
    "To format values in an f-string, add placeholders {}, a placeholder can contain variables, operations, functions, and modifiers to format the value.\n",
    "Giữ chỗ và sửa đổi\n",
    "Để định dạng các giá trị trong chuỗi f, hãy thêm phần giữ chỗ {}, phần giữ chỗ có thể chứa các biến, phép toán, hàm và công cụ sửa đổi để định dạng giá trị."
   ]
  },
  {
   "cell_type": "code",
   "execution_count": 2,
   "id": "df28f48f-8d7d-4445-a654-b33607dfe52c",
   "metadata": {},
   "outputs": [
    {
     "name": "stdout",
     "output_type": "stream",
     "text": [
      "The price is 59 dollars\n"
     ]
    }
   ],
   "source": [
    "# Add a placeholder for the price variable:\n",
    "# Thêm phần giữ chỗ cho pricebiến:\n",
    "price = 59\n",
    "txt = f\"The price is {price} dollars\"\n",
    "print(txt)"
   ]
  },
  {
   "cell_type": "markdown",
   "id": "6fdfbb73-ca00-49f4-9f4c-4f6147744bd4",
   "metadata": {},
   "source": [
    "A placeholder can also include a modifier to format the value.\n",
    "A modifier is included by adding a colon : followed by a legal formatting type, like .2f which means fixed point number with 2 decimals:\n",
    "Trình giữ chỗ cũng có thể bao gồm công cụ sửa đổi để định dạng giá trị.\n",
    "Công cụ sửa đổi được bao gồm bằng cách thêm dấu hai chấm : theo sau là loại định dạng hợp pháp, chẳng hạn như .2f có nghĩa là số điểm cố định có 2 số thập phân:"
   ]
  },
  {
   "cell_type": "code",
   "execution_count": 3,
   "id": "21d9aa51-325f-494c-8c79-c606a52c4317",
   "metadata": {},
   "outputs": [
    {
     "name": "stdout",
     "output_type": "stream",
     "text": [
      "The price is 59.00 dollars\n"
     ]
    }
   ],
   "source": [
    "# Display the price with 2 decimals:\n",
    "# Hiển thị giá bằng 2 số thập phân:\n",
    "price = 59\n",
    "txt = f\"The price is {price:.2f} dollars\"\n",
    "print(txt)"
   ]
  },
  {
   "cell_type": "markdown",
   "id": "8ddf2ab1-3ce6-4868-938c-4bb0869a1862",
   "metadata": {},
   "source": [
    "You can also format a value directly without keeping it in a variable:\n",
    "Bạn cũng có thể định dạng trực tiếp một giá trị mà không cần giữ nó trong một biến:"
   ]
  },
  {
   "cell_type": "code",
   "execution_count": 4,
   "id": "9be7c953-9528-4dde-b184-4f1e70106bc6",
   "metadata": {},
   "outputs": [
    {
     "name": "stdout",
     "output_type": "stream",
     "text": [
      "The price is 95.00 dollars\n"
     ]
    }
   ],
   "source": [
    "# Display the value 95 with 2 decimals:\n",
    "# Hiển thị giá trị 95 bằng 2 số thập phân:\n",
    "txt = f\"The price is {95:.2f} dollars\"\n",
    "print(txt)"
   ]
  },
  {
   "cell_type": "markdown",
   "id": "ddf30d32-9479-4d52-b0c6-952202d72f79",
   "metadata": {},
   "source": [
    "Perform Operations in F-Strings\n",
    "You can perform Python operations inside the placeholders.\n",
    "You can do math operations:\n",
    "Thực hiện các thao tác trong chuỗi F\n",
    "Bạn có thể thực hiện các thao tác Python bên trong phần giữ chỗ.\n",
    "Bạn có thể thực hiện các phép toán:"
   ]
  },
  {
   "cell_type": "code",
   "execution_count": 5,
   "id": "63af5d43-b480-4331-9f1b-42f854fd7261",
   "metadata": {},
   "outputs": [
    {
     "name": "stdout",
     "output_type": "stream",
     "text": [
      "The price is 1180 dollars\n"
     ]
    }
   ],
   "source": [
    "# Perform a math operation in the placeholder, and return the result:\n",
    "# Thực hiện phép tính trong phần giữ chỗ và trả về kết quả:\n",
    "txt = f\"The price is {20 * 59} dollars\"\n",
    "print(txt)"
   ]
  },
  {
   "cell_type": "markdown",
   "id": "196d58e8-023f-4c49-9b08-2ee7d864c810",
   "metadata": {},
   "source": [
    "You can perform math operations on variables:\n",
    "Bạn có thể thực hiện các phép toán trên các biến:"
   ]
  },
  {
   "cell_type": "code",
   "execution_count": 6,
   "id": "f45fa094-be64-481d-9c1e-043a7220671e",
   "metadata": {},
   "outputs": [
    {
     "name": "stdout",
     "output_type": "stream",
     "text": [
      "The price is 73.75 dollars\n"
     ]
    }
   ],
   "source": [
    "# Add taxes before displaying the price:\n",
    "# Thêm thuế trước khi hiển thị giá:\n",
    "price = 59\n",
    "tax = 0.25\n",
    "txt = f\"The price is {price + (price * tax)} dollars\"\n",
    "print(txt)"
   ]
  },
  {
   "cell_type": "markdown",
   "id": "6199a4aa-a755-42bc-9410-d3e19d46f02a",
   "metadata": {},
   "source": [
    "You can perform if...else statements inside the placeholders:\n",
    "Bạn có thể thực hiện các câu lệnh if...else bên trong phần giữ chỗ:"
   ]
  },
  {
   "cell_type": "code",
   "execution_count": 7,
   "id": "cbdd0055-2d08-4bc1-9099-df65d8f250aa",
   "metadata": {},
   "outputs": [
    {
     "name": "stdout",
     "output_type": "stream",
     "text": [
      "It is very Cheap\n"
     ]
    }
   ],
   "source": [
    "# Return \"Expensive\" if the price is over 50, otherwise return \"Cheap\":\n",
    "# Trả về “Đắt” nếu giá trên 50, ngược lại trả về “Rẻ”:\n",
    "price = 49\n",
    "txt = f\"It is very {'Expensive' if price>50 else 'Cheap'}\"\n",
    "\n",
    "print(txt)"
   ]
  },
  {
   "cell_type": "markdown",
   "id": "973c5c11-b81f-4bc0-8b2a-0ea4a9fc4e23",
   "metadata": {},
   "source": [
    "Execute Functions in F-Strings\n",
    "You can execute functions inside the placeholder:\n",
    "Thực thi các hàm trong chuỗi F\n",
    "Bạn có thể thực thi các chức năng bên trong trình giữ chỗ:"
   ]
  },
  {
   "cell_type": "code",
   "execution_count": 8,
   "id": "97e1ce2a-7736-4a12-a87a-32710f3e5d47",
   "metadata": {},
   "outputs": [
    {
     "name": "stdout",
     "output_type": "stream",
     "text": [
      "I love APPLES\n"
     ]
    }
   ],
   "source": [
    "# Use the string method upper()to convert a value into upper case letters:\n",
    "# Sử dụng phương thức chuỗi upper()để chuyển đổi một giá trị thành chữ in hoa:\n",
    "fruit = \"apples\"\n",
    "txt = f\"I love {fruit.upper()}\"\n",
    "print(txt)"
   ]
  },
  {
   "cell_type": "markdown",
   "id": "6e13463e-528d-4752-8159-19c931899279",
   "metadata": {},
   "source": [
    "The function does not have to be a built-in Python method, you can create your own functions and use them:\n",
    "Hàm này không nhất thiết phải là phương thức Python tích hợp, bạn có thể tạo các hàm của riêng mình và sử dụng chúng:"
   ]
  },
  {
   "cell_type": "code",
   "execution_count": 9,
   "id": "36431213-fcbb-443d-9490-3997aaad6829",
   "metadata": {},
   "outputs": [
    {
     "name": "stdout",
     "output_type": "stream",
     "text": [
      "The plane is flying at a 9144.0 meter altitude\n"
     ]
    }
   ],
   "source": [
    "# Create a function that converts feet into meters:\n",
    "# Tạo hàm chuyển đổi feet thành mét:\n",
    "def myconverter(x):\n",
    "  return x * 0.3048\n",
    "\n",
    "txt = f\"The plane is flying at a {myconverter(30000)} meter altitude\"\n",
    "print(txt)"
   ]
  },
  {
   "cell_type": "markdown",
   "id": "3d6806eb-ff8d-44b7-9e92-f5d43899def7",
   "metadata": {},
   "source": [
    "More Modifiers\n",
    "At the beginning of this chapter we explained how to use the .2f modifier to format a number into a fixed point number with 2 decimals.\n",
    "There are several other modifiers that can be used to format values:\n",
    "Thêm sửa đổi\n",
    "Ở đầu chương này, chúng tôi đã giải thích cách sử dụng công .2f cụ sửa đổi để định dạng một số thành số dấu phẩy cố định có 2 số thập phân.\n",
    "Có một số công cụ sửa đổi khác có thể được sử dụng để định dạng giá trị:"
   ]
  },
  {
   "cell_type": "code",
   "execution_count": 10,
   "id": "bf20a4ff-57da-488e-a2ff-05e604a90361",
   "metadata": {},
   "outputs": [
    {
     "name": "stdout",
     "output_type": "stream",
     "text": [
      "The price is 59,000 dollars\n"
     ]
    }
   ],
   "source": [
    "# Use a comma as a thousand separator:\n",
    "# Sử dụng dấu phẩy làm dấu phân cách hàng nghìn:\n",
    "price = 59000\n",
    "txt = f\"The price is {price:,} dollars\"\n",
    "print(txt)"
   ]
  },
  {
   "cell_type": "markdown",
   "id": "ff419d07-fc80-4879-b00c-d1965b7e4346",
   "metadata": {},
   "source": [
    "Here is a list of all the formatting types.\n",
    "Dưới đây là danh sách tất cả các loại định dạng.\n",
    "Formatting Types\n",
    ":<\t\tLeft aligns the result (within the available space)\n",
    ":>\t\tRight aligns the result (within the available space)\n",
    ":^\t\tCenter aligns the result (within the available space)\n",
    ":=\t\tPlaces the sign to the left most position\n",
    ":+\t\tUse a plus sign to indicate if the result is positive or negative\n",
    ":-\t\tUse a minus sign for negative values only\n",
    ": \t\tUse a space to insert an extra space before positive numbers (and a minus sign before negative numbers)\n",
    ":,\t\tUse a comma as a thousand separator\n",
    ":_\t\tUse a underscore as a thousand separator\n",
    ":b\t\tBinary format\n",
    ":c\t\tConverts the value into the corresponding Unicode character\n",
    ":d\t\tDecimal format\n",
    ":e\t\tScientific format, with a lower case e\n",
    ":E\t\tScientific format, with an upper case E\n",
    ":f\t\tFix point number format\n",
    ":F\t\tFix point number format, in uppercase format (show inf and nan as INF and NAN)\n",
    ":g\t\tGeneral format\n",
    ":G\t\tGeneral format (using a upper case E for scientific notations)\n",
    ":o\t\tOctal format\n",
    ":x\t\tHex format, lower case\n",
    ":X\t\tHex format, upper case\n",
    ":n\t\tNumber format\n",
    ":%\t\tPercentage format"
   ]
  },
  {
   "cell_type": "markdown",
   "id": "ef4be317-1ba8-4886-b2e1-fcfc951ce1c7",
   "metadata": {},
   "source": [
    "String format()\n",
    "Before Python 3.6 we used the format() method to format strings.\n",
    "The format() method can still be used, but f-strings are faster and the preferred way to format strings.\n",
    "The next examples in this page demonstrates how to format strings with the format() method.\n",
    "The format() method also uses curly brackets as placeholders {}, but the syntax is slightly different:\n",
    "Định dạng chuỗi()\n",
    "Trước Python 3.6, chúng tôi đã sử dụng phương thức format() để định dạng chuỗi.\n",
    "Phương thức format() vẫn có thể được sử dụng, nhưng chuỗi f nhanh hơn và là cách ưa thích để định dạng chuỗi.\n",
    "Các ví dụ tiếp theo trong trang này trình bày cách định dạng chuỗi bằng phương thức format().\n",
    "Phương thức format() cũng sử dụng dấu ngoặc nhọn làm phần giữ chỗ {}, nhưng cú pháp hơi khác một chút:"
   ]
  },
  {
   "cell_type": "code",
   "execution_count": 11,
   "id": "a473c4bc-9a5f-472e-8f27-423d33ff6a59",
   "metadata": {},
   "outputs": [
    {
     "name": "stdout",
     "output_type": "stream",
     "text": [
      "The price is 49 dollars\n"
     ]
    }
   ],
   "source": [
    "# Add a placeholder where you want to display the price:\n",
    "# Thêm phần giữ chỗ nơi bạn muốn hiển thị giá:\n",
    "price = 49\n",
    "txt = \"The price is {} dollars\"\n",
    "print(txt.format(price))"
   ]
  },
  {
   "cell_type": "markdown",
   "id": "e699fe8b-d40e-42bf-8e0a-27e3cd685b1a",
   "metadata": {},
   "source": [
    "You can add parameters inside the curly brackets to specify how to convert the value:\n",
    "Bạn có thể thêm tham số bên trong dấu ngoặc nhọn để chỉ định cách chuyển đổi giá trị:"
   ]
  },
  {
   "cell_type": "code",
   "execution_count": 12,
   "id": "a6101524-f4fd-43fd-9f8f-1785ddd85bc4",
   "metadata": {},
   "outputs": [],
   "source": [
    "# Format the price to be displayed as a number with two decimals:\n",
    "# Định dạng giá được hiển thị dưới dạng số có hai số thập phân:\n",
    "txt = \"The price is {:.2f} dollars\""
   ]
  },
  {
   "cell_type": "markdown",
   "id": "bad44ff7-d08a-4a66-a200-8c900ca5f72f",
   "metadata": {},
   "source": [
    "Check out all formatting types in our String format() Reference.\n",
    "Kiểm tra tất cả các loại định dạng trong Tham khảo String format() của chúng tôi."
   ]
  },
  {
   "cell_type": "markdown",
   "id": "8a9dd73f-b645-4bb2-a1d8-f5dfb9edfda2",
   "metadata": {},
   "source": [
    "Multiple Values\n",
    "If you want to use more values, just add more values to the format() method:\n",
    "Nhiều giá trị\n",
    "Nếu bạn muốn sử dụng nhiều giá trị hơn, chỉ cần thêm nhiều giá trị hơn vào phương thức format():"
   ]
  },
  {
   "cell_type": "code",
   "execution_count": null,
   "id": "fa73bcf4-956a-493d-9fd4-e47ec19d488e",
   "metadata": {},
   "outputs": [],
   "source": [
    "print(txt.format(price, itemno, count))"
   ]
  },
  {
   "cell_type": "markdown",
   "id": "d32c9a89-d55d-4acc-9407-ed43abe5d380",
   "metadata": {},
   "source": [
    "And add more placeholders:\n",
    "Và thêm nhiều phần giữ chỗ:"
   ]
  },
  {
   "cell_type": "code",
   "execution_count": 13,
   "id": "08db3b1d-f09c-451e-8bad-d804e4fd4952",
   "metadata": {},
   "outputs": [
    {
     "name": "stdout",
     "output_type": "stream",
     "text": [
      "I want 3 pieces of item number 567 for 49.00 dollars.\n"
     ]
    }
   ],
   "source": [
    "quantity = 3\n",
    "itemno = 567\n",
    "price = 49\n",
    "myorder = \"I want {} pieces of item number {} for {:.2f} dollars.\"\n",
    "print(myorder.format(quantity, itemno, price))"
   ]
  },
  {
   "cell_type": "markdown",
   "id": "822673aa-5792-40c0-9174-7722683b9e7b",
   "metadata": {},
   "source": [
    "Index Numbers\n",
    "You can use index numbers (a number inside the curly brackets {0}) to be sure the values are placed in the correct placeholders:\n",
    "Số chỉ mục\n",
    "Bạn có thể sử dụng số chỉ mục (số bên trong dấu ngoặc nhọn {0}) để đảm bảo các giá trị được đặt vào đúng chỗ giữ chỗ:"
   ]
  },
  {
   "cell_type": "code",
   "execution_count": 14,
   "id": "80ecce13-124b-4b12-9103-cfe98644f215",
   "metadata": {},
   "outputs": [
    {
     "name": "stdout",
     "output_type": "stream",
     "text": [
      "I want 3 pieces of item number 567 for 49.00 dollars.\n"
     ]
    }
   ],
   "source": [
    "quantity = 3\n",
    "itemno = 567\n",
    "price = 49\n",
    "myorder = \"I want {0} pieces of item number {1} for {2:.2f} dollars.\"\n",
    "print(myorder.format(quantity, itemno, price))"
   ]
  },
  {
   "cell_type": "markdown",
   "id": "7ebd4457-fbb1-45f0-ba8d-66306a88c0cf",
   "metadata": {},
   "source": [
    "Also, if you want to refer to the same value more than once, use the index number:\n",
    "Ngoài ra, nếu bạn muốn tham chiếu đến cùng một giá trị nhiều lần, hãy sử dụng số chỉ mục:"
   ]
  },
  {
   "cell_type": "code",
   "execution_count": 15,
   "id": "3622f016-8e82-40ed-889b-2f6eccda071e",
   "metadata": {},
   "outputs": [
    {
     "name": "stdout",
     "output_type": "stream",
     "text": [
      "His name is John. John is 36 years old.\n"
     ]
    }
   ],
   "source": [
    "age = 36\n",
    "name = \"John\"\n",
    "txt = \"His name is {1}. {1} is {0} years old.\"\n",
    "print(txt.format(age, name))"
   ]
  },
  {
   "cell_type": "markdown",
   "id": "0cd79e8c-36f2-46a2-bb3a-340ca6f23e4a",
   "metadata": {},
   "source": [
    "Named Indexes\n",
    "You can also use named indexes by entering a name inside the curly brackets {carname}, but then you must use names when you pass the parameter values txt.format(carname = \"Ford\"):\n",
    "Chỉ mục được đặt tên\n",
    "Bạn cũng có thể sử dụng các chỉ mục được đặt tên bằng cách nhập tên vào trong dấu ngoặc nhọn {carname}, nhưng sau đó bạn phải sử dụng tên khi truyền các giá trị tham số txt.format(carname = \"Ford\"):"
   ]
  },
  {
   "cell_type": "code",
   "execution_count": 16,
   "id": "0fad4917-ccf1-484c-85db-0975cb89b64c",
   "metadata": {},
   "outputs": [
    {
     "name": "stdout",
     "output_type": "stream",
     "text": [
      "I have a Ford, it is a Mustang.\n"
     ]
    }
   ],
   "source": [
    "myorder = \"I have a {carname}, it is a {model}.\"\n",
    "print(myorder.format(carname = \"Ford\", model = \"Mustang\"))"
   ]
  },
  {
   "cell_type": "code",
   "execution_count": null,
   "id": "29acfed1-6f1d-406c-b00b-4188eccd7087",
   "metadata": {},
   "outputs": [],
   "source": []
  }
 ],
 "metadata": {
  "kernelspec": {
   "display_name": "Python 3 (ipykernel)",
   "language": "python",
   "name": "python3"
  },
  "language_info": {
   "codemirror_mode": {
    "name": "ipython",
    "version": 3
   },
   "file_extension": ".py",
   "mimetype": "text/x-python",
   "name": "python",
   "nbconvert_exporter": "python",
   "pygments_lexer": "ipython3",
   "version": "3.11.7"
  }
 },
 "nbformat": 4,
 "nbformat_minor": 5
}
