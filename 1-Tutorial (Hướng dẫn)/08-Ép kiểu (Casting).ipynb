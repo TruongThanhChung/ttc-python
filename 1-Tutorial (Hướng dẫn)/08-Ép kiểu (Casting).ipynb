{
 "cells": [
  {
   "cell_type": "markdown",
   "id": "a1ac777c-86c7-4fc1-926b-a3e76a0ec826",
   "metadata": {},
   "source": [
    "Specify a Variable Type\r\n",
    "There may be times when you want to specify a type on to a variable. This can be done with casting. Python is an object-orientated language, and as such it uses classes to define data types, including its primitive type\r\n",
    "\r\n",
    "Casting in python is therefore done using constructor functis:\r\n",
    "\r\n",
    "int() - constructs an integer number from an integer literal, a float literal (by removing all decimals), or a string literal (providing the string represents a whole number)\r\n",
    "float() - constructs a float number from an integer literal, a float literal or a string literal (providing the string represents a float or an integer)\r\n",
    "str() - constructs a string from a wide variety of data types, including strings, integer literals and float l\n",
    "iterals\n",
    "Chỉ định một loại biến\n",
    "Có thể đôi khi bạn muốn chỉ định một loại cho một biến. Điều này có thể được thực hiện bằng cách đúc. Python là một ngôn ngữ hướng đối tượng và do đó nó sử dụng các lớp để xác định các kiểu dữ liệu, bao gồm cả các kiểnu nguy thủy.\n",
    "\n",
    "Do đó, việc truyền trong python được thực hiện bằng cách sử dụnàm các m tạo:\n",
    "\n",
    "int() - xây dựng một số nguyên từ một số nguyên, một số thực (bằng cách loại bỏ tất cả các số thập phân) hoặc một chuỗi ký tự (cung cấp chuỗi đại diện cho một số nguyên)\n",
    "float() - xây dựng một số float từ một số nguyên, một số float hoặc một chuỗi ký tự (cung cấp chuỗi biểu thị một số float hoặc một số nguyên)\n",
    "str() - xây dựng một chuỗi từ nhiều loại dữ liệu khác nhau, bao gồm chuỗi, ký tự nguyên và ký tự float"
   ]
  },
  {
   "cell_type": "code",
   "execution_count": 1,
   "id": "2a0900b2-a941-4ff5-aea5-dee472997ef0",
   "metadata": {},
   "outputs": [],
   "source": [
    "# Integers:\n",
    "# Số nguyên:\n",
    "x = int(1)   # x will be 1\n",
    "y = int(2.8) # y will be 2\n",
    "z = int(\"3\") # z will be 3"
   ]
  },
  {
   "cell_type": "code",
   "execution_count": null,
   "id": "4e4578c7-cafa-49d1-ba31-759e98183327",
   "metadata": {},
   "outputs": [],
   "source": [
    "# Float:\n",
    "# Số thực:\n",
    "x = float(1)     # x will be 1.0\n",
    "y = float(2.8)   # y will be 2.8\n",
    "z = float(\"3\")   # z will be 3.0\n",
    "w = float(\"4.2\") # w will be 4.2"
   ]
  },
  {
   "cell_type": "code",
   "execution_count": null,
   "id": "4656d9ed-c15e-4626-a4c8-5e372db080d3",
   "metadata": {},
   "outputs": [],
   "source": [
    "# Strings:\n",
    "# Chuỗi:\n",
    "x = str(\"s1\") # x will be 's1'\n",
    "y = str(2)    # y will be '2'\n",
    "z = str(3.0)  # z will be '3.0'"
   ]
  }
 ],
 "metadata": {
  "kernelspec": {
   "display_name": "Python 3 (ipykernel)",
   "language": "python",
   "name": "python3"
  },
  "language_info": {
   "codemirror_mode": {
    "name": "ipython",
    "version": 3
   },
   "file_extension": ".py",
   "mimetype": "text/x-python",
   "name": "python",
   "nbconvert_exporter": "python",
   "pygments_lexer": "ipython3",
   "version": "3.11.7"
  }
 },
 "nbformat": 4,
 "nbformat_minor": 5
}
