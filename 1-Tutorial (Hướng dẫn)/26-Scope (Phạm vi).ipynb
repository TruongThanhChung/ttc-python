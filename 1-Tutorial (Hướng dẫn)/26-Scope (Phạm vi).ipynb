{
 "cells": [
  {
   "cell_type": "markdown",
   "id": "f576d647-019d-4496-a5fd-88d9f3d62e6d",
   "metadata": {},
   "source": [
    "A variable is only available from inside the region it is created. This is called scope.\n",
    "Một biến chỉ có sẵn trong vùng mà nó được tạo. Điều này được gọi là phạm vi."
   ]
  },
  {
   "cell_type": "code",
   "execution_count": null,
   "id": "715b160f-c909-4e47-9fe2-87e2c08fbe5d",
   "metadata": {},
   "outputs": [],
   "source": [
    "Local Scope\n",
    "A variable created inside a function belongs to the local scope of that function, and can only be used inside that function.\n",
    "Phạm vi địa phương\n",
    "Một biến được tạo bên trong một hàm thuộc phạm vi cục bộ của hàm đó và chỉ có thể được sử dụng bên trong hàm đó."
   ]
  },
  {
   "cell_type": "code",
   "execution_count": 1,
   "id": "26945798-c30b-425a-8628-66b0e3d15b8b",
   "metadata": {},
   "outputs": [
    {
     "name": "stdout",
     "output_type": "stream",
     "text": [
      "300\n"
     ]
    }
   ],
   "source": [
    "# A variable created inside a function is available inside that function:\n",
    "# Một biến được tạo bên trong một hàm có sẵn bên trong hàm đó:\n",
    "def myfunc():\n",
    "  x = 300\n",
    "  print(x)\n",
    "\n",
    "myfunc()"
   ]
  },
  {
   "cell_type": "markdown",
   "id": "1ad7c14e-bb1d-4cc1-9d2d-8ccdd29692bb",
   "metadata": {},
   "source": [
    "Function Inside Function\n",
    "As explained in the example above, the variable x is not available outside the function, but it is available for any function inside the function:\n",
    "Chức năng Bên trong Chức năng\n",
    "Như đã giải thích trong ví dụ trên, biến x không có sẵn bên ngoài hàm, nhưng nó có sẵn cho bất kỳ hàm nào bên trong hàm:"
   ]
  },
  {
   "cell_type": "code",
   "execution_count": 2,
   "id": "610ac5b7-0508-4028-8f51-b8896b6f765c",
   "metadata": {},
   "outputs": [
    {
     "name": "stdout",
     "output_type": "stream",
     "text": [
      "300\n"
     ]
    }
   ],
   "source": [
    "# The local variable can be accessed from a function within the function:\n",
    "# Biến cục bộ có thể được truy cập từ một hàm trong hàm:\n",
    "def myfunc():\n",
    "  x = 300\n",
    "  def myinnerfunc():\n",
    "    print(x)\n",
    "  myinnerfunc()\n",
    "\n",
    "myfunc()"
   ]
  },
  {
   "cell_type": "markdown",
   "id": "38b9dff6-4efb-4da6-8145-8c71774381a4",
   "metadata": {},
   "source": [
    "Global Scope\n",
    "A variable created in the main body of the Python code is a global variable and belongs to the global scope.\n",
    "Global variables are available from within any scope, global and local.\n",
    "Phạm vi toàn cầu\n",
    "Biến được tạo trong phần chính của mã Python là biến toàn cục và thuộc phạm vi toàn cục.\n",
    "Các biến toàn cục có sẵn trong mọi phạm vi, toàn cục và cục bộ."
   ]
  },
  {
   "cell_type": "code",
   "execution_count": 3,
   "id": "84f8f1aa-bb4e-4f65-9b76-6c5fb6f1cd97",
   "metadata": {},
   "outputs": [
    {
     "name": "stdout",
     "output_type": "stream",
     "text": [
      "300\n",
      "300\n"
     ]
    }
   ],
   "source": [
    "# A variable created outside of a function is global and can be used by anyone:\n",
    "# Một biến được tạo bên ngoài hàm là biến toàn cục và bất kỳ ai cũng có thể sử dụng:\n",
    "x = 300\n",
    "\n",
    "def myfunc():\n",
    "  print(x)\n",
    "\n",
    "myfunc()\n",
    "\n",
    "print(x)"
   ]
  },
  {
   "cell_type": "markdown",
   "id": "328e8c72-936c-4025-8ed9-cf9a3eda7837",
   "metadata": {},
   "source": [
    "Naming Variables\n",
    "If you operate with the same variable name inside and outside of a function, Python will treat them as two separate variables, one available in the global scope (outside the function) and one available in the local scope (inside the function):\n",
    "Đặt tên biến\n",
    "Nếu bạn thao tác với cùng một tên biến bên trong và bên ngoài hàm, Python sẽ coi chúng là hai biến riêng biệt, một biến có sẵn trong phạm vi toàn cục (bên ngoài hàm) và một biến có sẵn trong phạm vi cục bộ (bên trong hàm):"
   ]
  },
  {
   "cell_type": "code",
   "execution_count": 4,
   "id": "e32c80b0-3e14-4ae2-abcd-a96e5d9fd02d",
   "metadata": {},
   "outputs": [
    {
     "name": "stdout",
     "output_type": "stream",
     "text": [
      "200\n",
      "300\n"
     ]
    }
   ],
   "source": [
    "# The function will print the local x, and then the code will print the global x:\n",
    "# Hàm sẽ in local x và sau đó mã sẽ in global x:\n",
    "x = 300\n",
    "\n",
    "def myfunc():\n",
    "  x = 200\n",
    "  print(x)\n",
    "\n",
    "myfunc()\n",
    "\n",
    "print(x)"
   ]
  },
  {
   "cell_type": "markdown",
   "id": "bb2dabda-13bf-485f-af1d-e5121c55b78c",
   "metadata": {},
   "source": [
    "Global Keyword\n",
    "If you need to create a global variable, but are stuck in the local scope, you can use the global keyword.\n",
    "The global keyword makes the variable global.\n",
    "Từ khóa toàn cầu\n",
    "Nếu bạn cần tạo một biến toàn cục nhưng bị kẹt trong phạm vi cục bộ, bạn có thể sử dụng từ khóa global.\n",
    "Từ khóa global làm cho biến có tính toàn cục."
   ]
  },
  {
   "cell_type": "code",
   "execution_count": 5,
   "id": "91832341-fd23-4792-aa24-3cd0bda7dc06",
   "metadata": {},
   "outputs": [
    {
     "name": "stdout",
     "output_type": "stream",
     "text": [
      "300\n"
     ]
    }
   ],
   "source": [
    "# If you use the global keyword, the variable belongs to the global scope:\n",
    "# Nếu bạn sử dụng từ khóa global, biến sẽ thuộc phạm vi toàn cục:\n",
    "def myfunc():\n",
    "  global x\n",
    "  x = 300\n",
    "\n",
    "myfunc()\n",
    "\n",
    "print(x)"
   ]
  },
  {
   "cell_type": "markdown",
   "id": "dbb314d9-843c-4874-ba90-a98473e8a21a",
   "metadata": {},
   "source": [
    "Also, use the global keyword if you want to make a change to a global variable inside a function.\n",
    "Ngoài ra, hãy sử dụng từ khóa global nếu bạn muốn thay đổi biến toàn cục bên trong hàm."
   ]
  },
  {
   "cell_type": "code",
   "execution_count": 6,
   "id": "94b2e048-36c0-46f3-880e-9a6ee7ade0e3",
   "metadata": {},
   "outputs": [
    {
     "name": "stdout",
     "output_type": "stream",
     "text": [
      "200\n"
     ]
    }
   ],
   "source": [
    "# To change the value of a global variable inside a function, refer to the variable by using the global keyword:\n",
    "# Để thay đổi giá trị của biến toàn cục bên trong hàm, hãy tham chiếu biến đó bằng cách sử dụng từ khóa global:\n",
    "x = 300\n",
    "\n",
    "def myfunc():\n",
    "  global x\n",
    "  x = 200\n",
    "\n",
    "myfunc()\n",
    "\n",
    "print(x)"
   ]
  },
  {
   "cell_type": "markdown",
   "id": "2f5801ae-3768-48f7-bd56-0cd4431d1674",
   "metadata": {},
   "source": [
    "Nonlocal Keyword\n",
    "The nonlocal keyword is used to work with variables inside nested functions.\n",
    "The nonlocal keyword makes the variable belong to the outer function.\n",
    "Từ khóa không cục bộ\n",
    "Từ khóa nonlocal được sử dụng để làm việc với các biến bên trong các hàm lồng nhau.\n",
    "Từ khóa nonlocal làm cho biến thuộc về hàm bên ngoài."
   ]
  },
  {
   "cell_type": "code",
   "execution_count": 7,
   "id": "77776cdf-4f1e-4b82-a7d0-d7380ec94e3d",
   "metadata": {},
   "outputs": [
    {
     "name": "stdout",
     "output_type": "stream",
     "text": [
      "hello\n"
     ]
    }
   ],
   "source": [
    "# If you use the nonlocal keyword, the variable will belong to the outer function:\n",
    "# Nếu bạn sử dụng từ khóa nonlocal thì biến sẽ thuộc về hàm ngoài:\n",
    "def myfunc1():\n",
    "  x = \"Jane\"\n",
    "  def myfunc2():\n",
    "    nonlocal x\n",
    "    x = \"hello\"\n",
    "  myfunc2()\n",
    "  return x\n",
    "\n",
    "print(myfunc1())"
   ]
  },
  {
   "cell_type": "code",
   "execution_count": null,
   "id": "1cf26547-05c3-42b9-bb5c-f940241f00ab",
   "metadata": {},
   "outputs": [],
   "source": []
  }
 ],
 "metadata": {
  "kernelspec": {
   "display_name": "Python 3 (ipykernel)",
   "language": "python",
   "name": "python3"
  },
  "language_info": {
   "codemirror_mode": {
    "name": "ipython",
    "version": 3
   },
   "file_extension": ".py",
   "mimetype": "text/x-python",
   "name": "python",
   "nbconvert_exporter": "python",
   "pygments_lexer": "ipython3",
   "version": "3.11.7"
  }
 },
 "nbformat": 4,
 "nbformat_minor": 5
}
