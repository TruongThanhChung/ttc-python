{
 "cells": [
  {
   "cell_type": "markdown",
   "id": "6e1e873b-ee91-419f-ba97-bde479d7e9d8",
   "metadata": {},
   "source": [
    "Copy a List\n",
    "You cannot copy a list simply by typing list2 = list1, because: list2 will only be a reference to list1, and changes made in list1 will automatically also be made in list2.\n",
    "There are ways to make a copy, one way is to use the built-in List method copy().\n",
    "Sao chép danh sách\n",
    "Bạn không thể sao chép danh sách chỉ bằng cách gõ list2 = list1, bởi vì: list2 sẽ chỉ là một tham chiếu đến list1, và những thay đổi được thực hiện trong đó list1 cũng sẽ tự động được thực hiện trong list2.\n",
    "Có nhiều cách để tạo một bản sao, một cách là sử dụng phương thức List có sẵn copy()."
   ]
  },
  {
   "cell_type": "code",
   "execution_count": 1,
   "id": "4de2de9b-3311-4dfc-aaf9-a5e18a47fc55",
   "metadata": {},
   "outputs": [
    {
     "name": "stdout",
     "output_type": "stream",
     "text": [
      "['apple', 'banana', 'cherry']\n"
     ]
    }
   ],
   "source": [
    "# Make a copy of a list with the copy() method:\n",
    "# Tạo một bản sao của danh sách bằng copy()phương thức:\n",
    "thislist = [\"apple\", \"banana\", \"cherry\"]\n",
    "mylist = thislist.copy()\n",
    "print(mylist)"
   ]
  },
  {
   "cell_type": "markdown",
   "id": "2e2ed8b4-e040-4976-89c1-af61fbb1515e",
   "metadata": {},
   "source": [
    "Another way to make a copy is to use the built-in method list().\n",
    "Một cách khác để tạo bản sao là sử dụng phương thức có sẵn list()."
   ]
  },
  {
   "cell_type": "code",
   "execution_count": 2,
   "id": "d4552ed6-e00b-4077-afcf-9e32527669c1",
   "metadata": {},
   "outputs": [
    {
     "name": "stdout",
     "output_type": "stream",
     "text": [
      "['apple', 'banana', 'cherry']\n"
     ]
    }
   ],
   "source": [
    "# Make a copy of a list with the list() method:\n",
    "# Tạo một bản sao của danh sách bằng list()phương thức:\n",
    "thislist = [\"apple\", \"banana\", \"cherry\"]\n",
    "mylist = list(thislist)\n",
    "print(mylist)"
   ]
  },
  {
   "cell_type": "code",
   "execution_count": null,
   "id": "21e1ce69-8e46-4855-a10c-3c6609fb9e31",
   "metadata": {},
   "outputs": [],
   "source": []
  }
 ],
 "metadata": {
  "kernelspec": {
   "display_name": "Python 3 (ipykernel)",
   "language": "python",
   "name": "python3"
  },
  "language_info": {
   "codemirror_mode": {
    "name": "ipython",
    "version": 3
   },
   "file_extension": ".py",
   "mimetype": "text/x-python",
   "name": "python",
   "nbconvert_exporter": "python",
   "pygments_lexer": "ipython3",
   "version": "3.11.7"
  }
 },
 "nbformat": 4,
 "nbformat_minor": 5
}
