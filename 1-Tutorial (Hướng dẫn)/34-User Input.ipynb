{
 "cells": [
  {
   "cell_type": "markdown",
   "id": "defe281c-342e-447c-8393-8892e317e383",
   "metadata": {},
   "source": [
    "User Input\n",
    "Python allows for user input.\n",
    "That means we are able to ask the user for input.\n",
    "The method is a bit different in Python 3.6 than Python 2.7.\n",
    "Python 3.6 uses the input() method.\n",
    "Python 2.7 uses the raw_input() method.\n",
    "The following example asks for the username, and when you entered the username, it gets printed on the screen:\n",
    "Đầu vào của người dùng\n",
    "Python cho phép người dùng nhập liệu.\n",
    "Điều đó có nghĩa là chúng tôi có thể yêu cầu người dùng nhập thông tin.\n",
    "Phương thức này hơi khác một chút trong Python 3.6 so với Python 2.7.\n",
    "Python 3.6 sử dụng input()phương thức này.\n",
    "Python 2.7 sử dụng raw_input()phương thức này.\n",
    "Ví dụ sau yêu cầu tên người dùng và khi bạn nhập tên người dùng, nó sẽ được in trên màn hình:"
   ]
  },
  {
   "cell_type": "code",
   "execution_count": 1,
   "id": "b2b7e144-d3c8-4da8-87e7-93ad26ac6dc4",
   "metadata": {},
   "outputs": [
    {
     "name": "stdin",
     "output_type": "stream",
     "text": [
      "Enter username: nguyen van an\n"
     ]
    },
    {
     "name": "stdout",
     "output_type": "stream",
     "text": [
      "Username is: nguyen van an\n"
     ]
    }
   ],
   "source": [
    "# Python 3.6\n",
    "username = input(\"Enter username:\")\n",
    "print(\"Username is: \" + username)"
   ]
  },
  {
   "cell_type": "code",
   "execution_count": null,
   "id": "14ed59fe-29fa-4505-a59f-2d5f1df63f8d",
   "metadata": {},
   "outputs": [],
   "source": [
    "# Python 2.7\n",
    "username = raw_input(\"Enter username:\")\n",
    "print(\"Username is: \" + username)"
   ]
  },
  {
   "cell_type": "markdown",
   "id": "68b64c54-f13b-4780-bda5-1d7be686024b",
   "metadata": {},
   "source": [
    "Python stops executing when it comes to the input() function, and continues when the user has given some input.\n",
    "Python dừng thực thi khi nói đến input() hàm và tiếp tục khi người dùng đưa ra một số thông tin đầu vào."
   ]
  }
 ],
 "metadata": {
  "kernelspec": {
   "display_name": "Python 3 (ipykernel)",
   "language": "python",
   "name": "python3"
  },
  "language_info": {
   "codemirror_mode": {
    "name": "ipython",
    "version": 3
   },
   "file_extension": ".py",
   "mimetype": "text/x-python",
   "name": "python",
   "nbconvert_exporter": "python",
   "pygments_lexer": "ipython3",
   "version": "3.12.3"
  }
 },
 "nbformat": 4,
 "nbformat_minor": 5
}
