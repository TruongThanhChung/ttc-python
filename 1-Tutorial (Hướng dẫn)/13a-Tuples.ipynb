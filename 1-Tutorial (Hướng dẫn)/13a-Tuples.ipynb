{
 "cells": [
  {
   "cell_type": "markdown",
   "id": "e2a3d30f-ba65-4eb9-9778-0614be389c26",
   "metadata": {},
   "source": [
    "Tuple\n",
    "Tuples are used to store multiple items in a single variable.\n",
    "Tuple is one of 4 built-in data types in Python used to store collections of data, the other 3 are List, Set, and Dictionary, all with different qualities and usage.\n",
    "A tuple is a collection which is ordered and unchangeable.\n",
    "Tuples are written with round brackets.\n",
    "Bộ dữ liệu\n",
    "Bộ dữ liệu được sử dụng để lưu trữ nhiều mục trong một biến duy nhất.\n",
    "Tuple là một trong 4 loại dữ liệu có sẵn trong Python dùng để lưu trữ các tập hợp dữ liệu, 3 loại còn lại là List , Set và Directory , tất cả đều có chất lượng và cách sử dụng khác nhau.\n",
    "Tuple là một bộ sưu tập được sắp xếp theo thứ tự và không thể thay đổi .\n",
    "Các bộ dữ liệu được viết bằng dấu ngoặc tròn ()."
   ]
  },
  {
   "cell_type": "code",
   "execution_count": 3,
   "id": "b2bbab71-d0fd-4960-9d59-bfc1e838e33d",
   "metadata": {},
   "outputs": [
    {
     "name": "stdout",
     "output_type": "stream",
     "text": [
      "('apple', 'banana', 'cherry')\n"
     ]
    }
   ],
   "source": [
    "# Create a Tuple:\n",
    "# Tạo một Tuple:\n",
    "thistuple = (\"apple\", \"banana\", \"cherry\")\n",
    "print(thistuple)"
   ]
  },
  {
   "cell_type": "markdown",
   "id": "de0abfbe-2d2b-4b90-b968-6f32bc18a49a",
   "metadata": {},
   "source": [
    "Tuple Items\n",
    "Tuple items are ordered, unchangeable, and allow duplicate values.\n",
    "Tuple items are indexed, the first item has index [0], the second item has index [1] etc.\n",
    "Các mục\n",
    "Các mục trong bộ dữ liệu được sắp xếp theo thứ tự, không thể thay đổi và cho phép các giá trị trùng lặp.\n",
    "Các mục tuple được lập chỉ mục, mục đầu tiên có chỉ mục [0], mục thứ hai có chỉ mục [1], v.v."
   ]
  },
  {
   "cell_type": "markdown",
   "id": "9452dde9-c132-4c48-8fb6-d62c741f6dab",
   "metadata": {},
   "source": [
    "Ordered\n",
    "When we say that tuples are ordered, it means that the items have a defined order, and that order will not change.\n",
    "Đã đặt hàng\n",
    "Khi chúng ta nói rằng các bộ dữ liệu được sắp xếp theo thứ tự, điều đó có nghĩa là các mục có một thứ tự xác định và thứ tự đó sẽ không thay đổi."
   ]
  },
  {
   "cell_type": "markdown",
   "id": "f4185837-7646-4370-b5e5-e2fa1eb83e8c",
   "metadata": {},
   "source": [
    "Unchangeable\n",
    "Tuples are unchangeable, meaning that we cannot change, add or remove items after the tuple has been created.\n",
    "không thể thay đổi\n",
    "Các bộ dữ liệu không thể thay đổi, nghĩa là chúng ta không thể thay đổi, thêm hoặc bớt các mục sau khi bộ dữ liệu đã được tạo."
   ]
  },
  {
   "cell_type": "markdown",
   "id": "a0d742c0-6de6-46da-bda1-9cbf9fea5ae1",
   "metadata": {},
   "source": [
    "Allow Duplicates\n",
    "Since tuples are indexed, they can have items with the same value:\n",
    "Cho phép trùng lặp\n",
    "Vì các bộ dữ liệu được lập chỉ mục nên chúng có thể có các mục có cùng giá trị:"
   ]
  },
  {
   "cell_type": "code",
   "execution_count": 4,
   "id": "5160a165-15a6-48ae-a287-aaccd092d9bc",
   "metadata": {},
   "outputs": [
    {
     "name": "stdout",
     "output_type": "stream",
     "text": [
      "('apple', 'banana', 'cherry', 'apple', 'cherry')\n"
     ]
    }
   ],
   "source": [
    "# Tuples allow duplicate values:\n",
    "# Bộ dữ liệu cho phép các giá trị trùng lặp:\n",
    "thistuple = (\"apple\", \"banana\", \"cherry\", \"apple\", \"cherry\")\n",
    "print(thistuple)"
   ]
  },
  {
   "cell_type": "markdown",
   "id": "176be777-a676-4601-9dec-e46037140427",
   "metadata": {},
   "source": [
    "Tuple Length\n",
    "To determine how many items a tuple has, use the len() function:\n",
    "Độ dài bộ dữ liệu\n",
    "Để xác định một bộ có bao nhiêu mục, hãy sử dụng hàm len():"
   ]
  },
  {
   "cell_type": "code",
   "execution_count": 5,
   "id": "32018c42-dad6-4637-97c1-24aa94009654",
   "metadata": {},
   "outputs": [
    {
     "name": "stdout",
     "output_type": "stream",
     "text": [
      "3\n"
     ]
    }
   ],
   "source": [
    "# Print the number of items in the tuple:\n",
    "# In số lượng mục trong bộ dữ liệu:\n",
    "thistuple = (\"apple\", \"banana\", \"cherry\")\n",
    "print(len(thistuple))"
   ]
  },
  {
   "cell_type": "markdown",
   "id": "2f9b6f0b-8a43-40d0-bff3-8b06d74e537c",
   "metadata": {},
   "source": [
    "Create Tuple With One Item\n",
    "To create a tuple with only one item, you have to add a comma after the item, otherwise Python will not recognize it as a tuple.\n",
    "Tạo Tuple Với Một Mục\n",
    "Để tạo một bộ dữ liệu chỉ có một mục, bạn phải thêm dấu phẩy sau mục đó, nếu không Python sẽ không nhận ra đó là một bộ dữ liệu."
   ]
  },
  {
   "cell_type": "code",
   "execution_count": 6,
   "id": "bdb35e57-1159-4010-8ab6-e96d4b1b2e44",
   "metadata": {},
   "outputs": [
    {
     "name": "stdout",
     "output_type": "stream",
     "text": [
      "<class 'tuple'>\n",
      "<class 'str'>\n"
     ]
    }
   ],
   "source": [
    "# One item tuple, remember the comma:\n",
    "# Tuple một mục, hãy nhớ dấu phẩy:\n",
    "thistuple = (\"apple\",)\n",
    "print(type(thistuple))\n",
    "\n",
    "#NOT a tuple\n",
    "thistuple = (\"apple\")\n",
    "print(type(thistuple))"
   ]
  },
  {
   "cell_type": "markdown",
   "id": "83d38b00-8c5f-4c40-9f4e-132df2accdc7",
   "metadata": {},
   "source": [
    "Tuple Items - Data Types\n",
    "Tuple items can be of any data type:\n",
    "Mục Tuple - Kiểu dữ liệu\n",
    "Các mục trong bộ dữ liệu có thể thuộc bất kỳ loại dữ liệu nào:"
   ]
  },
  {
   "cell_type": "code",
   "execution_count": null,
   "id": "b47a3684-e434-49ad-bc89-0934976036c3",
   "metadata": {},
   "outputs": [],
   "source": [
    "# String, int and boolean data types:\n",
    "# Các kiểu dữ liệu chuỗi, int và boolean:\n",
    "tuple1 = (\"apple\", \"banana\", \"cherry\")\n",
    "tuple2 = (1, 5, 7, 9, 3)\n",
    "tuple3 = (True, False, False)"
   ]
  },
  {
   "cell_type": "markdown",
   "id": "2d63156e-6d84-409e-996e-23b83764acc5",
   "metadata": {},
   "source": [
    "A tuple can contain different data types:\n",
    "Một tuple có thể chứa các kiểu dữ liệu khác nhau:"
   ]
  },
  {
   "cell_type": "code",
   "execution_count": null,
   "id": "ae9b0ed5-89f3-4559-b87d-cc89d1147db6",
   "metadata": {},
   "outputs": [],
   "source": [
    "# A tuple with strings, integers and boolean values:\n",
    "# Một bộ dữ liệu có chuỗi, số nguyên và giá trị boolean:\n",
    "tuple1 = (\"abc\", 34, True, 40, \"male\")"
   ]
  },
  {
   "cell_type": "markdown",
   "id": "64664884-617c-46c7-805a-dbae1dee3c52",
   "metadata": {},
   "source": [
    "type()\n",
    "From Python's perspective, tuples are defined as objects with the data type 'tuple': <class 'tuple'>\n",
    "kiểu()\n",
    "Từ quan điểm của Python, các bộ dữ liệu được định nghĩa là các đối tượng có kiểu dữ liệu 'bộ dữ liệu': <class 'tuple'>"
   ]
  },
  {
   "cell_type": "code",
   "execution_count": 7,
   "id": "e762cf63-82d7-41e9-903a-6c2be30a966a",
   "metadata": {},
   "outputs": [
    {
     "name": "stdout",
     "output_type": "stream",
     "text": [
      "<class 'tuple'>\n"
     ]
    }
   ],
   "source": [
    "# What is the data type of a tuple?\n",
    "# Kiểu dữ liệu của tuple là gì?\n",
    "mytuple = (\"apple\", \"banana\", \"cherry\")\n",
    "print(type(mytuple))"
   ]
  },
  {
   "cell_type": "markdown",
   "id": "6a3f7e59-7dab-48f3-9e18-c5fe5a92440c",
   "metadata": {},
   "source": [
    "The tuple() Constructor\n",
    "It is also possible to use the tuple() constructor to make a tuple.\n",
    "Trình xây dựng tuple()\n",
    "Cũng có thể sử dụng hàm tạo tuple() để tạo một bộ dữ liệu."
   ]
  },
  {
   "cell_type": "code",
   "execution_count": 8,
   "id": "d4982db4-049b-4ae7-b59c-76178859af04",
   "metadata": {},
   "outputs": [
    {
     "name": "stdout",
     "output_type": "stream",
     "text": [
      "('apple', 'banana', 'cherry')\n"
     ]
    }
   ],
   "source": [
    "# Using the tuple() method to make a tuple:\n",
    "# Sử dụng phương thức tuple() để tạo một bộ:\n",
    "thistuple = tuple((\"apple\", \"banana\", \"cherry\")) # note the double round-brackets\n",
    "print(thistuple)"
   ]
  },
  {
   "cell_type": "markdown",
   "id": "050678bd-7add-4960-bcb2-19deebe19c2b",
   "metadata": {},
   "source": [
    "Python Collections (Arrays)\n",
    "There are four collection data types in the Python programming language:\n",
    "List is a collection which is ordered and changeable. Allows duplicate members.\n",
    "Tuple is a collection which is ordered and unchangeable. Allows duplicate members.\n",
    "Set is a collection which is unordered, unchangeable*, and unindexed. No duplicate members.\n",
    "Dictionary is a collection which is ordered** and changeable. No duplicate members.\n",
    "Bộ sưu tập Python (Mảng)\n",
    "Có bốn loại dữ liệu bộ sưu tập trong ngôn ngữ lập trình Python:\n",
    "Danh sách là một bộ sưu tập được sắp xếp và có thể thay đổi. Cho phép thành viên trùng lặp.\n",
    "Tuple là một bộ sưu tập được sắp xếp và không thể thay đổi. Cho phép thành viên trùng lặp.\n",
    "Set là một bộ sưu tập không có thứ tự, không thể thay đổi* và không được lập chỉ mục. Không có thành viên trùng lặp.\n",
    "Từ điển là một bộ sưu tập được sắp xếp** và có thể thay đổi. Không có thành viên trùng lặp."
   ]
  },
  {
   "cell_type": "markdown",
   "id": "cb3e8892-39f0-41d6-8f3b-d93feb8599d0",
   "metadata": {},
   "source": [
    "*Set items are unchangeable, but you can remove and/or add items whenever you like.\n",
    "**As of Python version 3.7, dictionaries are ordered. In Python 3.6 and earlier, dictionaries are unordered.\n",
    "*Các mục đã đặt không thể thay đổi nhưng bạn có thể xóa và/hoặc thêm các mục bất cứ khi nào bạn muốn.\n",
    "**Kể từ phiên bản Python 3.7, từ điển được sắp xếp theo thứ tự . Trong Python 3.6 trở về trước, từ điển không có thứ tự ."
   ]
  },
  {
   "cell_type": "markdown",
   "id": "6ddca9d3-7746-438f-80bf-ea66733b2054",
   "metadata": {},
   "source": [
    "When choosing a collection type, it is useful to understand the properties of that type. Choosing the right type for a particular data set could mean retention of meaning, and, it could mean an increase in efficiency or security.\n",
    "Khi chọn loại bộ sưu tập, việc hiểu các thuộc tính của loại đó là rất hữu ích. Việc chọn đúng loại cho một tập dữ liệu cụ thể có thể đồng nghĩa với việc duy trì ý nghĩa và có thể đồng nghĩa với việc tăng hiệu quả hoặc tính bảo mật."
   ]
  }
 ],
 "metadata": {
  "kernelspec": {
   "display_name": "Python 3 (ipykernel)",
   "language": "python",
   "name": "python3"
  },
  "language_info": {
   "codemirror_mode": {
    "name": "ipython",
    "version": 3
   },
   "file_extension": ".py",
   "mimetype": "text/x-python",
   "name": "python",
   "nbconvert_exporter": "python",
   "pygments_lexer": "ipython3",
   "version": "3.11.7"
  }
 },
 "nbformat": 4,
 "nbformat_minor": 5
}
