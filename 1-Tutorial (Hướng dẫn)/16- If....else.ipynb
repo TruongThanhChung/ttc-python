{
 "cells": [
  {
   "cell_type": "markdown",
   "id": "2cc8b85f-d9a6-4711-9c17-cde05a126dac",
   "metadata": {},
   "source": [
    "Python Conditions and If statements\n",
    "Python supports the usual logical conditions from mathematics:\n",
    "Equals: a == b\n",
    "Not Equals: a != b\n",
    "Less than: a < b\n",
    "Less than or equal to: a <= b\n",
    "Greater than: a > b\n",
    "Greater than or equal to: a >= b\n",
    "These conditions can be used in several ways, most commonly in \"if statements\" and loops.\n",
    "An \"if statement\" is written by using the if keyword.\n",
    "Điều kiện Python và câu lệnh If\n",
    "Python hỗ trợ các điều kiện logic thông thường trong toán học:\n",
    "Bằng: a == b\n",
    "Không bằng: a != b\n",
    "Nhỏ hơn: a < b\n",
    "Nhỏ hơn hoặc bằng: a <= b\n",
    "Lớn hơn: a > b\n",
    "Lớn hơn hoặc bằng: a >= b\n",
    "Những điều kiện này có thể được sử dụng theo nhiều cách, phổ biến nhất là trong \"câu lệnh if\" và vòng lặp.\n",
    "Một \"câu lệnh if\" được viết bằng cách sử dụng từ khóa if ."
   ]
  },
  {
   "cell_type": "code",
   "execution_count": 1,
   "id": "f101f7e2-a636-4b9d-a46e-f871df52ad99",
   "metadata": {},
   "outputs": [
    {
     "name": "stdout",
     "output_type": "stream",
     "text": [
      "b is greater than a\n"
     ]
    }
   ],
   "source": [
    "# If statement:\n",
    "# Câu lệnh if:\n",
    "a = 33\n",
    "b = 200\n",
    "if b > a:\n",
    "  print(\"b is greater than a\")"
   ]
  },
  {
   "cell_type": "markdown",
   "id": "6a5a3f26-45b0-48c8-847a-f255394f94b5",
   "metadata": {},
   "source": [
    "In this example we use two variables, a and b, which are used as part of the if statement to test whether b is greater than a. As a is 33, and b is 200, we know that 200 is greater than 33, and so we print to screen that \"b is greater than a\".\n",
    "Trong ví dụ này, chúng tôi sử dụng hai biến a và b, được sử dụng như một phần của câu lệnh if để kiểm tra xem b có lớn hơn a hay không. Vì a là 33 và b là 200 nên chúng ta biết rằng 200 lớn hơn 33 nên chúng ta in ra màn hình rằng \"b lớn hơn a\"."
   ]
  },
  {
   "cell_type": "markdown",
   "id": "cf0b6027-8bf7-457a-a25f-e0e66b47cb4a",
   "metadata": {},
   "source": [
    "Indentation\n",
    "Python relies on indentation (whitespace at the beginning of a line) to define scope in the code. Other programming languages often use curly-brackets for this purpose.\n",
    "Thụt lề\n",
    "Python dựa vào thụt lề (khoảng trắng ở đầu dòng) để xác định phạm vi trong mã. Các ngôn ngữ lập trình khác thường sử dụng dấu ngoặc nhọn cho mục đích này."
   ]
  },
  {
   "cell_type": "code",
   "execution_count": 2,
   "id": "29573afa-93d1-4485-9c77-89eb50afc44e",
   "metadata": {},
   "outputs": [
    {
     "ename": "IndentationError",
     "evalue": "expected an indented block after 'if' statement on line 5 (3395833135.py, line 6)",
     "output_type": "error",
     "traceback": [
      "\u001b[1;36m  Cell \u001b[1;32mIn[2], line 6\u001b[1;36m\u001b[0m\n\u001b[1;33m    print(\"b is greater than a\") # you will get an error\u001b[0m\n\u001b[1;37m    ^\u001b[0m\n\u001b[1;31mIndentationError\u001b[0m\u001b[1;31m:\u001b[0m expected an indented block after 'if' statement on line 5\n"
     ]
    }
   ],
   "source": [
    "# If statement, without indentation (will raise an error):\n",
    "# Câu lệnh if không thụt đầu dòng (sẽ gây ra lỗi):\n",
    "a = 33\n",
    "b = 200\n",
    "if b > a:\n",
    "print(\"b is greater than a\") # you will get an error"
   ]
  },
  {
   "cell_type": "markdown",
   "id": "cc8b3a82-d6bd-4741-91ac-f63c0a92361f",
   "metadata": {},
   "source": [
    "Elif\n",
    "The elif keyword is Python's way of saying \"if the previous conditions were not true, then try this condition\".\n",
    "Elif\n",
    "Từ khóa elif là cách nói của Python \"nếu các điều kiện trước đó không đúng thì hãy thử điều kiện này\"."
   ]
  },
  {
   "cell_type": "code",
   "execution_count": 3,
   "id": "86d82307-9638-4f29-b123-7b13527f9185",
   "metadata": {},
   "outputs": [
    {
     "name": "stdout",
     "output_type": "stream",
     "text": [
      "a and b are equal\n"
     ]
    }
   ],
   "source": [
    "a = 33\n",
    "b = 33\n",
    "if b > a:\n",
    "  print(\"b is greater than a\")\n",
    "elif a == b:\n",
    "  print(\"a and b are equal\")"
   ]
  },
  {
   "cell_type": "markdown",
   "id": "584b970b-d350-4cff-9626-a4b6db3bad76",
   "metadata": {},
   "source": [
    "In this example a is equal to b, so the first condition is not true, but the elif condition is true, so we print to screen that \"a and b are equal\".\n",
    "Trong ví dụ này a bằng b, do đó điều kiện đầu tiên không đúng, nhưng điều kiện elif là đúng, vì vậy chúng tôi in ra màn hình rằng \"a và b bằng nhau\"."
   ]
  },
  {
   "cell_type": "markdown",
   "id": "118042a4-8294-4b30-92fa-9c21a039f217",
   "metadata": {},
   "source": [
    "Else\n",
    "The else keyword catches anything which isn't caught by the preceding conditions.\n",
    "Else\n",
    "Từ khóa else bắt bất cứ thứ gì không được nắm bắt bởi các điều kiện trước đó."
   ]
  },
  {
   "cell_type": "code",
   "execution_count": 4,
   "id": "9bf92bbb-7a89-4e39-9cbd-4978d51efb0b",
   "metadata": {},
   "outputs": [
    {
     "name": "stdout",
     "output_type": "stream",
     "text": [
      "a is greater than b\n"
     ]
    }
   ],
   "source": [
    "a = 200\n",
    "b = 33\n",
    "if b > a:\n",
    "  print(\"b is greater than a\")\n",
    "elif a == b:\n",
    "  print(\"a and b are equal\")\n",
    "else:\n",
    "  print(\"a is greater than b\")"
   ]
  },
  {
   "cell_type": "markdown",
   "id": "ce898168-1f89-4d32-840a-1537a65c6c5a",
   "metadata": {},
   "source": [
    "In this example a is greater than b, so the first condition is not true, also the elif condition is not true, so we go to the else condition and print to screen that \"a is greater than b\".\n",
    "Trong ví dụ này a lớn hơn b , do đó điều kiện đầu tiên không đúng, điều kiện elif cũng không đúng, vì vậy chúng ta chuyển sang điều kiện else và in ra màn hình rằng \"a lớn hơn b\"."
   ]
  },
  {
   "cell_type": "markdown",
   "id": "4d94c124-6664-4677-8d41-43cf4eb92920",
   "metadata": {},
   "source": [
    "You can also have an else without the elif:\n",
    "Bạn cũng có thể cần else mà không cần elif:"
   ]
  },
  {
   "cell_type": "code",
   "execution_count": 5,
   "id": "3b27ff14-2a35-4c90-9265-e0a69df2b38b",
   "metadata": {},
   "outputs": [
    {
     "name": "stdout",
     "output_type": "stream",
     "text": [
      "b is not greater than a\n"
     ]
    }
   ],
   "source": [
    "a = 200\n",
    "b = 33\n",
    "if b > a:\n",
    "  print(\"b is greater than a\")\n",
    "else:\n",
    "  print(\"b is not greater than a\")"
   ]
  },
  {
   "cell_type": "markdown",
   "id": "afd70647-78d3-4306-8bc8-bf9c48af839f",
   "metadata": {},
   "source": [
    "Short Hand If\n",
    "If you have only one statement to execute, you can put it on the same line as the if statement.\n",
    "Tay Ngắn Nếu\n",
    "Nếu bạn chỉ có một câu lệnh để thực thi, bạn có thể đặt nó trên cùng dòng với câu lệnh if."
   ]
  },
  {
   "cell_type": "code",
   "execution_count": 6,
   "id": "5aef8580-cfe8-4095-8c8d-6747e29afd3e",
   "metadata": {},
   "outputs": [
    {
     "name": "stdout",
     "output_type": "stream",
     "text": [
      "a is greater than b\n"
     ]
    }
   ],
   "source": [
    "# One line if statement:\n",
    "# Câu lệnh if một dòng:\n",
    "if a > b: print(\"a is greater than b\")"
   ]
  },
  {
   "cell_type": "markdown",
   "id": "2123561b-65fe-481f-a61e-0fb147b6b78a",
   "metadata": {},
   "source": [
    "Short Hand If ... Else\n",
    "If you have only one statement to execute, one for if, and one for else, you can put it all on the same line:\n",
    "Bàn tay ngắn Nếu ... Khác\n",
    "Nếu bạn chỉ có một câu lệnh để thực thi, một câu lệnh cho if và một câu lệnh khác, bạn có thể đặt tất cả câu lệnh đó trên cùng một dòng:"
   ]
  },
  {
   "cell_type": "code",
   "execution_count": 7,
   "id": "d16e3415-fd23-4574-b2ae-76779da24709",
   "metadata": {},
   "outputs": [
    {
     "name": "stdout",
     "output_type": "stream",
     "text": [
      "B\n"
     ]
    }
   ],
   "source": [
    "# One line if else statement:\n",
    "# Câu lệnh if else một dòng:\n",
    "a = 2\n",
    "b = 330\n",
    "print(\"A\") if a > b else print(\"B\")"
   ]
  },
  {
   "cell_type": "markdown",
   "id": "a381b819-1d63-4517-ac82-20813ce59433",
   "metadata": {},
   "source": [
    "This technique is known as Ternary Operators, or Conditional Expressions.\n",
    "Kỹ thuật này được gọi là Toán tử bậc ba hoặc Biểu thức có điều kiện."
   ]
  },
  {
   "cell_type": "markdown",
   "id": "aa72b411-ea32-4d0f-af39-d55fb4d3f87c",
   "metadata": {},
   "source": [
    "You can also have multiple else statements on the same line:\n",
    "Bạn cũng có thể có nhiều câu lệnh khác trên cùng một dòng:"
   ]
  },
  {
   "cell_type": "code",
   "execution_count": 8,
   "id": "77095e49-2316-4766-bae5-e984ed2bd8f7",
   "metadata": {},
   "outputs": [
    {
     "name": "stdout",
     "output_type": "stream",
     "text": [
      "=\n"
     ]
    }
   ],
   "source": [
    "# One line if else statement, with 3 conditions:\n",
    "# Một dòng câu lệnh if else, với 3 điều kiện:\n",
    "a = 330\n",
    "b = 330\n",
    "print(\"A\") if a > b else print(\"=\") if a == b else print(\"B\")"
   ]
  },
  {
   "cell_type": "markdown",
   "id": "23ddccd1-37bc-4348-bab4-694d8efaac71",
   "metadata": {},
   "source": [
    "And\n",
    "The and keyword is a logical operator, and is used to combine conditional statements:\n",
    "Và\n",
    "Từ khóa and là một toán tử logic và được sử dụng để kết hợp các câu lệnh điều kiện:"
   ]
  },
  {
   "cell_type": "code",
   "execution_count": 9,
   "id": "e8196b23-dd19-433a-a2f0-314eafc85203",
   "metadata": {},
   "outputs": [
    {
     "name": "stdout",
     "output_type": "stream",
     "text": [
      "Both conditions are True\n"
     ]
    }
   ],
   "source": [
    "# Test if a is greater than b, AND if c is greater than a:\n",
    "# Kiểm tra xem a có lớn hơn không b, VÀ nếu c lớn hơn a:\n",
    "a = 200\n",
    "b = 33\n",
    "c = 500\n",
    "if a > b and c > a:\n",
    "  print(\"Both conditions are True\")"
   ]
  },
  {
   "cell_type": "markdown",
   "id": "05d10341-48da-4f38-b8ec-7e1468094bea",
   "metadata": {},
   "source": [
    "Or\n",
    "The or keyword is a logical operator, and is used to combine conditional statements:\n",
    "Hoặc\n",
    "Từ khóa or là một toán tử logic và được sử dụng để kết hợp các câu lệnh có điều kiện:"
   ]
  },
  {
   "cell_type": "code",
   "execution_count": 10,
   "id": "e86ca612-66a9-4a2e-a916-8c749a571bbc",
   "metadata": {},
   "outputs": [
    {
     "name": "stdout",
     "output_type": "stream",
     "text": [
      "At least one of the conditions is True\n"
     ]
    }
   ],
   "source": [
    "# Test if a is greater than b, OR if a is greater than c:\n",
    "# Kiểm tra xem acó lớn hơn b, HOẶC nếu a lớn hơn c:\n",
    "a = 200\n",
    "b = 33\n",
    "c = 500\n",
    "if a > b or a > c:\n",
    "  print(\"At least one of the conditions is True\")"
   ]
  },
  {
   "cell_type": "markdown",
   "id": "3c6bef55-5ba3-40eb-ae94-f537d347b3da",
   "metadata": {},
   "source": [
    "Not\n",
    "The not keyword is a logical operator, and is used to reverse the result of the conditional statement:\n",
    "Không\n",
    "Từ khóa not là một toán tử logic và được sử dụng để đảo ngược kết quả của câu lệnh điều kiện:"
   ]
  },
  {
   "cell_type": "code",
   "execution_count": 11,
   "id": "6199abc8-8698-421e-9f42-b6b927e947cf",
   "metadata": {},
   "outputs": [
    {
     "name": "stdout",
     "output_type": "stream",
     "text": [
      "a is NOT greater than b\n"
     ]
    }
   ],
   "source": [
    "# Test if a is NOT greater than b:\n",
    "# Kiểm tra nếu aKHÔNG lớn hơn b:\n",
    "a = 33\n",
    "b = 200\n",
    "if not a > b:\n",
    "  print(\"a is NOT greater than b\")"
   ]
  },
  {
   "cell_type": "markdown",
   "id": "3d248fa3-04e8-44c2-9bc7-2015e2454456",
   "metadata": {},
   "source": [
    "Nested If\n",
    "You can have if statements inside if statements, this is called nested if statements.\n",
    "Lồng nhau nếu\n",
    "Bạn có thể cần các câu lệnh if bên trong các câu lệnh if, đây được gọi là các câu lệnh lồng nhau if ."
   ]
  },
  {
   "cell_type": "code",
   "execution_count": 12,
   "id": "69a156d3-554a-4802-ae9e-bbfc41b0b4bd",
   "metadata": {},
   "outputs": [
    {
     "name": "stdout",
     "output_type": "stream",
     "text": [
      "Above ten,\n",
      "and also above 20!\n"
     ]
    }
   ],
   "source": [
    "x = 41\n",
    "\n",
    "if x > 10:\n",
    "  print(\"Above ten,\")\n",
    "  if x > 20:\n",
    "    print(\"and also above 20!\")\n",
    "  else:\n",
    "    print(\"but not above 20.\")"
   ]
  },
  {
   "cell_type": "markdown",
   "id": "4d0838cf-2a5b-4796-8cc6-3cf9e906a7fc",
   "metadata": {},
   "source": [
    "The pass Statement\n",
    "if statements cannot be empty, but if you for some reason have an if statement with no content, put in the pass statement to avoid getting an error.\n",
    "Tuyên bố vượt qua\n",
    "Câu lệnh if không được để trống nhưng nếu vì lý do nào đó bạn có câu lệnh if không có nội dung thì hãy đưa vào pass câu lệnh để tránh bị lỗi."
   ]
  },
  {
   "cell_type": "code",
   "execution_count": 13,
   "id": "c0908e6a-93bd-4338-b13a-7de6a62cb386",
   "metadata": {},
   "outputs": [],
   "source": [
    "a = 33\n",
    "b = 200\n",
    "\n",
    "if b > a:\n",
    "  pass"
   ]
  },
  {
   "cell_type": "code",
   "execution_count": null,
   "id": "cb4ca519-6869-4503-b55a-e6e6ca7705e3",
   "metadata": {},
   "outputs": [],
   "source": []
  }
 ],
 "metadata": {
  "kernelspec": {
   "display_name": "Python 3 (ipykernel)",
   "language": "python",
   "name": "python3"
  },
  "language_info": {
   "codemirror_mode": {
    "name": "ipython",
    "version": 3
   },
   "file_extension": ".py",
   "mimetype": "text/x-python",
   "name": "python",
   "nbconvert_exporter": "python",
   "pygments_lexer": "ipython3",
   "version": "3.11.7"
  }
 },
 "nbformat": 4,
 "nbformat_minor": 5
}
