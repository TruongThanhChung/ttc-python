{
 "cells": [
  {
   "cell_type": "markdown",
   "id": "a6112cac-3360-4e96-814d-b1f431123106",
   "metadata": {},
   "source": [
    "JSON is a syntax for storing and exchanging data.\n",
    "JSON is text, written with JavaScript object notation.\n",
    "JSON là một cú pháp để lưu trữ và trao đổi dữ liệu.\n",
    "JSON là văn bản, được viết bằng ký hiệu đối tượng JavaScript."
   ]
  },
  {
   "cell_type": "markdown",
   "id": "29e8d847-0b6a-4aac-8647-9a53fb7e509d",
   "metadata": {},
   "source": [
    "JSON in Python\n",
    "Python has a built-in package called json, which can be used to work with JSON data.\n",
    "JSON trong Python\n",
    "Python có một gói tích hợp có tên là json, có thể được sử dụng để làm việc với dữ liệu JSON."
   ]
  },
  {
   "cell_type": "code",
   "execution_count": null,
   "id": "a50d1696-e273-49bb-9b4a-de24617049c5",
   "metadata": {},
   "outputs": [],
   "source": [
    "# Import the json module:\n",
    "# Nhập mô-đun json:\n",
    "import json"
   ]
  },
  {
   "cell_type": "markdown",
   "id": "c1d561c0-4a98-49d5-8179-544f6b6f5303",
   "metadata": {},
   "source": [
    "Parse JSON - Convert from JSON to Python\n",
    "If you have a JSON string, you can parse it by using the json.loads() method.\n",
    "Phân tích cú pháp JSON - Chuyển đổi từ JSON sang Python\n",
    "Nếu bạn có một chuỗi JSON, bạn có thể phân tích nó bằng cách sử dụng json.loads() phương thức này."
   ]
  },
  {
   "cell_type": "markdown",
   "id": "6fb064d6-7cb0-4cfa-988c-6318d3ef664c",
   "metadata": {},
   "source": [
    "The result will be a Python dictionary.\n",
    "Kết quả sẽ là một từ điển Python ."
   ]
  },
  {
   "cell_type": "code",
   "execution_count": 1,
   "id": "5a1a6a93-fe4a-4c9d-b370-d9459fa98de5",
   "metadata": {},
   "outputs": [
    {
     "name": "stdout",
     "output_type": "stream",
     "text": [
      "30\n"
     ]
    }
   ],
   "source": [
    "# Convert from JSON to Python:\n",
    "# Chuyển đổi từ JSON sang Python:\n",
    "import json\n",
    "\n",
    "# some JSON:\n",
    "x =  '{ \"name\":\"John\", \"age\":30, \"city\":\"New York\"}'\n",
    "\n",
    "# parse x:\n",
    "y = json.loads(x)\n",
    "\n",
    "# the result is a Python dictionary:\n",
    "print(y[\"age\"])"
   ]
  },
  {
   "cell_type": "markdown",
   "id": "00fa2757-143c-494f-a3fa-5cbc235d9d30",
   "metadata": {},
   "source": [
    "Convert from Python to JSON\n",
    "If you have a Python object, you can convert it into a JSON string by using the json.dumps() method.\n",
    "Chuyển đổi từ Python sang JSON\n",
    "Nếu bạn có một đối tượng Python, bạn có thể chuyển đổi nó thành chuỗi JSON bằng cách sử dụng json.dumps() phương thức này."
   ]
  },
  {
   "cell_type": "code",
   "execution_count": 2,
   "id": "4796a5be-0774-4899-b8d2-2072b39fc4be",
   "metadata": {},
   "outputs": [
    {
     "name": "stdout",
     "output_type": "stream",
     "text": [
      "{\"name\": \"John\", \"age\": 30, \"city\": \"New York\"}\n"
     ]
    }
   ],
   "source": [
    "# Convert from Python to JSON:\n",
    "# Chuyển đổi từ Python sang JSON:\n",
    "import json\n",
    "\n",
    "# a Python object (dict):\n",
    "x = {\n",
    "  \"name\": \"John\",\n",
    "  \"age\": 30,\n",
    "  \"city\": \"New York\"\n",
    "}\n",
    "\n",
    "# convert into JSON:\n",
    "y = json.dumps(x)\n",
    "\n",
    "# the result is a JSON string:\n",
    "print(y)"
   ]
  },
  {
   "cell_type": "markdown",
   "id": "8336d14b-4777-467e-95aa-6212dc6d1387",
   "metadata": {},
   "source": [
    "You can convert Python objects of the following types, into JSON strings:\n",
    "dict\n",
    "list\n",
    "tuple\n",
    "string\n",
    "int\n",
    "float\n",
    "True\n",
    "False\n",
    "None\n",
    "Bạn có thể chuyển đổi các đối tượng Python thuộc các loại sau thành chuỗi JSON:\n",
    "mệnh lệnh\n",
    "danh sách\n",
    "bộ đồ\n",
    "sợi dây\n",
    "int\n",
    "trôi nổi\n",
    "ĐÚNG VẬY\n",
    "SAI\n",
    "Không có"
   ]
  },
  {
   "cell_type": "code",
   "execution_count": 3,
   "id": "e3dc6f75-39e6-48f6-ab1c-31f4ac8e125f",
   "metadata": {},
   "outputs": [
    {
     "name": "stdout",
     "output_type": "stream",
     "text": [
      "{\"name\": \"John\", \"age\": 30}\n",
      "[\"apple\", \"bananas\"]\n",
      "[\"apple\", \"bananas\"]\n",
      "\"hello\"\n",
      "42\n",
      "31.76\n",
      "true\n",
      "false\n",
      "null\n"
     ]
    }
   ],
   "source": [
    "# Convert Python objects into JSON strings, and print the values:\n",
    "# Chuyển đổi các đối tượng Python thành chuỗi JSON và in các giá trị:\n",
    "import json\n",
    "\n",
    "print(json.dumps({\"name\": \"John\", \"age\": 30}))\n",
    "print(json.dumps([\"apple\", \"bananas\"]))\n",
    "print(json.dumps((\"apple\", \"bananas\")))\n",
    "print(json.dumps(\"hello\"))\n",
    "print(json.dumps(42))\n",
    "print(json.dumps(31.76))\n",
    "print(json.dumps(True))\n",
    "print(json.dumps(False))\n",
    "print(json.dumps(None))"
   ]
  },
  {
   "cell_type": "markdown",
   "id": "73b6dd0f-85dd-4260-80e0-fbe14f10f1b7",
   "metadata": {},
   "source": [
    "When you convert from Python to JSON, Python objects are converted into the JSON (JavaScript) equivalent:\n",
    "Khi bạn chuyển đổi từ Python sang JSON, các đối tượng Python sẽ được chuyển đổi thành JSON (JavaScript) tương đương:\n",
    "Python\t   JSON\n",
    "dict\t   Object\n",
    "list\t   Array\n",
    "tuple\t   Array\n",
    "str\t       String\n",
    "int\t       Number\n",
    "float\t   Number\n",
    "True\t   true\n",
    "False\t   false\n",
    "None\t   null"
   ]
  },
  {
   "cell_type": "code",
   "execution_count": 4,
   "id": "7e53b215-4545-41f1-b9ac-bc4d97261b39",
   "metadata": {},
   "outputs": [
    {
     "name": "stdout",
     "output_type": "stream",
     "text": [
      "{\"name\": \"John\", \"age\": 30, \"married\": true, \"divorced\": false, \"children\": [\"Ann\", \"Billy\"], \"pets\": null, \"cars\": [{\"model\": \"BMW 230\", \"mpg\": 27.5}, {\"model\": \"Ford Edge\", \"mpg\": 24.1}]}\n"
     ]
    }
   ],
   "source": [
    "# Convert a Python object containing all the legal data types:\n",
    "# Chuyển đổi một đối tượng Python chứa tất cả các kiểu dữ liệu hợp pháp:\n",
    "import json\n",
    "\n",
    "x = {\n",
    "  \"name\": \"John\",\n",
    "  \"age\": 30,\n",
    "  \"married\": True,\n",
    "  \"divorced\": False,\n",
    "  \"children\": (\"Ann\",\"Billy\"),\n",
    "  \"pets\": None,\n",
    "  \"cars\": [\n",
    "    {\"model\": \"BMW 230\", \"mpg\": 27.5},\n",
    "    {\"model\": \"Ford Edge\", \"mpg\": 24.1}\n",
    "  ]\n",
    "}\n",
    "\n",
    "print(json.dumps(x))"
   ]
  },
  {
   "cell_type": "markdown",
   "id": "273c24f1-0892-4d1c-b062-88631508838d",
   "metadata": {},
   "source": [
    "Format the Result\n",
    "The example above prints a JSON string, but it is not very easy to read, with no indentations and line breaks.\n",
    "The json.dumps() method has parameters to make it easier to read the result:\n",
    "Định dạng kết quả\n",
    "Ví dụ trên in ra một chuỗi JSON, nhưng nó không dễ đọc lắm, không có dấu thụt lề và ngắt dòng.\n",
    "Phương thức này json.dumps() có các tham số để dễ đọc kết quả hơn:"
   ]
  },
  {
   "cell_type": "code",
   "execution_count": 5,
   "id": "4d55220d-df87-472e-b7cf-807d012c12e8",
   "metadata": {},
   "outputs": [
    {
     "data": {
      "text/plain": [
       "'{\\n    \"name\": \"John\",\\n    \"age\": 30,\\n    \"married\": true,\\n    \"divorced\": false,\\n    \"children\": [\\n        \"Ann\",\\n        \"Billy\"\\n    ],\\n    \"pets\": null,\\n    \"cars\": [\\n        {\\n            \"model\": \"BMW 230\",\\n            \"mpg\": 27.5\\n        },\\n        {\\n            \"model\": \"Ford Edge\",\\n            \"mpg\": 24.1\\n        }\\n    ]\\n}'"
      ]
     },
     "execution_count": 5,
     "metadata": {},
     "output_type": "execute_result"
    }
   ],
   "source": [
    "# Use the indent parameter to define the numbers of indents:\n",
    "# Sử dụng tham indentsố để xác định số lượng thụt lề:\n",
    "json.dumps(x, indent=4)"
   ]
  },
  {
   "cell_type": "markdown",
   "id": "014992f3-8699-4342-91c4-c7c61e653c8b",
   "metadata": {},
   "source": [
    "You can also define the separators, default value is (\", \", \": \"), which means using a comma and a space to separate each object, and a colon and a space to separate keys from values:\n",
    "Bạn cũng có thể xác định các dấu phân cách, giá trị mặc định là (\", \", \": \"), nghĩa là sử dụng dấu phẩy và dấu cách để phân tách từng đối tượng, dấu hai chấm và dấu cách để phân tách khóa khỏi giá trị:"
   ]
  },
  {
   "cell_type": "code",
   "execution_count": 6,
   "id": "3f2508af-fc75-47ad-b4ab-1f66c474a7d8",
   "metadata": {},
   "outputs": [
    {
     "data": {
      "text/plain": [
       "'{\\n    \"name\" = \"John\". \\n    \"age\" = 30. \\n    \"married\" = true. \\n    \"divorced\" = false. \\n    \"children\" = [\\n        \"Ann\". \\n        \"Billy\"\\n    ]. \\n    \"pets\" = null. \\n    \"cars\" = [\\n        {\\n            \"model\" = \"BMW 230\". \\n            \"mpg\" = 27.5\\n        }. \\n        {\\n            \"model\" = \"Ford Edge\". \\n            \"mpg\" = 24.1\\n        }\\n    ]\\n}'"
      ]
     },
     "execution_count": 6,
     "metadata": {},
     "output_type": "execute_result"
    }
   ],
   "source": [
    "# Use the separators parameter to change the default separator:\n",
    "# Sử dụng tham separatorssố để thay đổi dấu phân cách mặc định:\n",
    "json.dumps(x, indent=4, separators=(\". \", \" = \"))"
   ]
  },
  {
   "cell_type": "markdown",
   "id": "52969963-6554-4dcf-a0cb-cc7da390f686",
   "metadata": {},
   "source": [
    "Order the Result\n",
    "The json.dumps() method has parameters to order the keys in the result:\n",
    "Đặt hàng kết quả\n",
    "Phương thức này json.dumps()có các tham số để sắp xếp các khóa trong kết quả:"
   ]
  },
  {
   "cell_type": "code",
   "execution_count": 7,
   "id": "ca86a974-bd7d-47e0-9065-f9163a9cd2ab",
   "metadata": {},
   "outputs": [
    {
     "data": {
      "text/plain": [
       "'{\\n    \"age\": 30,\\n    \"cars\": [\\n        {\\n            \"model\": \"BMW 230\",\\n            \"mpg\": 27.5\\n        },\\n        {\\n            \"model\": \"Ford Edge\",\\n            \"mpg\": 24.1\\n        }\\n    ],\\n    \"children\": [\\n        \"Ann\",\\n        \"Billy\"\\n    ],\\n    \"divorced\": false,\\n    \"married\": true,\\n    \"name\": \"John\",\\n    \"pets\": null\\n}'"
      ]
     },
     "execution_count": 7,
     "metadata": {},
     "output_type": "execute_result"
    }
   ],
   "source": [
    "# Use the sort_keys parameter to specify if the result should be sorted or not:\n",
    "# Sử dụng tham sort_keyssố để xác định xem kết quả có nên được sắp xếp hay không:\n",
    "json.dumps(x, indent=4, sort_keys=True)"
   ]
  },
  {
   "cell_type": "code",
   "execution_count": null,
   "id": "a1e9e518-7026-4403-80c3-297c6e558b66",
   "metadata": {},
   "outputs": [],
   "source": []
  }
 ],
 "metadata": {
  "kernelspec": {
   "display_name": "Python 3 (ipykernel)",
   "language": "python",
   "name": "python3"
  },
  "language_info": {
   "codemirror_mode": {
    "name": "ipython",
    "version": 3
   },
   "file_extension": ".py",
   "mimetype": "text/x-python",
   "name": "python",
   "nbconvert_exporter": "python",
   "pygments_lexer": "ipython3",
   "version": "3.11.7"
  }
 },
 "nbformat": 4,
 "nbformat_minor": 5
}
