{
 "cells": [
  {
   "cell_type": "markdown",
   "id": "292bc765-663c-4c31-8241-e75046737dd8",
   "metadata": {},
   "source": [
    "Loop Through a List\n",
    "You can loop through the list items by using a for loop:\n",
    "Lặp qua danh sách\n",
    "Bạn có thể lặp qua các mục trong danh sách bằng cách sử dụng for vòng lặp:"
   ]
  },
  {
   "cell_type": "code",
   "execution_count": 1,
   "id": "c7d94ee7-ca31-414b-9f08-b7a21f7d8ef7",
   "metadata": {},
   "outputs": [
    {
     "name": "stdout",
     "output_type": "stream",
     "text": [
      "apple\n",
      "banana\n",
      "cherry\n"
     ]
    }
   ],
   "source": [
    "# Print all items in the list, one by one:\n",
    "# In tất cả các mục trong danh sách, từng mục một:\n",
    "thislist = [\"apple\", \"banana\", \"cherry\"]\n",
    "for x in thislist:\n",
    "  print(x)"
   ]
  },
  {
   "cell_type": "markdown",
   "id": "7f4173cc-c7ec-4b4e-a0e7-e6b5783d8d30",
   "metadata": {},
   "source": [
    "Loop Through the Index Numbers\n",
    "You can also loop through the list items by referring to their index number.\n",
    "Use the range() and len() functions to create a suitable iterable.\n",
    "Lặp lại các số chỉ mục\n",
    "Bạn cũng có thể lặp qua các mục trong danh sách bằng cách tham khảo số chỉ mục của chúng.\n",
    "Sử dụng các hàm range()và len()để tạo một vòng lặp phù hợp."
   ]
  },
  {
   "cell_type": "code",
   "execution_count": 2,
   "id": "1ad679c0-b91c-4c96-9fd8-0c334f859231",
   "metadata": {},
   "outputs": [
    {
     "name": "stdout",
     "output_type": "stream",
     "text": [
      "apple\n",
      "banana\n",
      "cherry\n"
     ]
    }
   ],
   "source": [
    "# Print all items by referring to their index number:\n",
    "# In tất cả các mục bằng cách tham khảo số chỉ mục của chúng:\n",
    "thislist = [\"apple\", \"banana\", \"cherry\"]\n",
    "for i in range(len(thislist)):\n",
    "  print(thislist[i])"
   ]
  },
  {
   "cell_type": "markdown",
   "id": "3dae56ac-dcba-4a9f-aef9-2d49ee0f53be",
   "metadata": {},
   "source": [
    "The iterable created in the example above is [0, 1, 2].\n",
    "Lặp lại được tạo trong ví dụ trên là [0, 1, 2]."
   ]
  },
  {
   "cell_type": "markdown",
   "id": "8b0095bf-6cb6-4322-9efe-df7be5f8528d",
   "metadata": {},
   "source": [
    "Using a While Loop\n",
    "You can loop through the list items by using a while loop.\n",
    "Use the len() function to determine the length of the list, then start at 0 and loop your way through the list items by referring to their indexes.\n",
    "Remember to increase the index by 1 after each iteration.\n",
    "Sử dụng vòng lặp while\n",
    "Bạn có thể lặp qua các mục trong danh sách bằng cách sử dụng while vòng lặp.\n",
    "Sử dụng len() hàm này để xác định độ dài của danh sách, sau đó bắt đầu từ 0 và lặp theo cách của bạn qua các mục trong danh sách bằng cách tham khảo chỉ mục của chúng.\n",
    "Hãy nhớ tăng chỉ số lên 1 sau mỗi lần lặp."
   ]
  },
  {
   "cell_type": "code",
   "execution_count": 3,
   "id": "274edcb6-5eb0-4c5d-9bdf-e23fdc2dca8a",
   "metadata": {},
   "outputs": [
    {
     "name": "stdout",
     "output_type": "stream",
     "text": [
      "apple\n",
      "banana\n",
      "cherry\n"
     ]
    }
   ],
   "source": [
    "# Print all items, using a while loop to go through all the index numbers\n",
    "# In tất cả các mục, sử dụng whilevòng lặp để duyệt qua tất cả các số chỉ mục\n",
    "thislist = [\"apple\", \"banana\", \"cherry\"]\n",
    "i = 0\n",
    "while i < len(thislist):\n",
    "  print(thislist[i])\n",
    "  i = i + 1"
   ]
  },
  {
   "cell_type": "markdown",
   "id": "a68d6ad3-e9e0-46e3-92f4-e7af3660dc33",
   "metadata": {},
   "source": [
    "Looping Using List Comprehension\n",
    "List Comprehension offers the shortest syntax for looping through lists:\n",
    "Vòng lặp bằng cách hiểu danh sách\n",
    "Hiểu danh sách cung cấp cú pháp ngắn nhất để lặp qua danh sách:"
   ]
  },
  {
   "cell_type": "code",
   "execution_count": 4,
   "id": "118f2855-8a71-4612-9c34-8271cb7b2150",
   "metadata": {},
   "outputs": [
    {
     "name": "stdout",
     "output_type": "stream",
     "text": [
      "apple\n",
      "banana\n",
      "cherry\n"
     ]
    },
    {
     "data": {
      "text/plain": [
       "[None, None, None]"
      ]
     },
     "execution_count": 4,
     "metadata": {},
     "output_type": "execute_result"
    }
   ],
   "source": [
    "# A short hand for loop that will print all items in a list:\n",
    "# Một vòng lặp tay ngắn forsẽ in tất cả các mục trong danh sách:\n",
    "thislist = [\"apple\", \"banana\", \"cherry\"]\n",
    "[print(x) for x in thislist]"
   ]
  },
  {
   "cell_type": "code",
   "execution_count": null,
   "id": "dc6d5604-e3c8-428a-be91-aae1043a6a01",
   "metadata": {},
   "outputs": [],
   "source": []
  }
 ],
 "metadata": {
  "kernelspec": {
   "display_name": "Python 3 (ipykernel)",
   "language": "python",
   "name": "python3"
  },
  "language_info": {
   "codemirror_mode": {
    "name": "ipython",
    "version": 3
   },
   "file_extension": ".py",
   "mimetype": "text/x-python",
   "name": "python",
   "nbconvert_exporter": "python",
   "pygments_lexer": "ipython3",
   "version": "3.11.7"
  }
 },
 "nbformat": 4,
 "nbformat_minor": 5
}
