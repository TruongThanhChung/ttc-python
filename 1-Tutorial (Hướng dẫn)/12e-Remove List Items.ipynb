{
 "cells": [
  {
   "cell_type": "markdown",
   "id": "74d5c8e7-f028-427c-8c1b-0e2a675b8006",
   "metadata": {},
   "source": [
    "Remove Specified Item\n",
    "The remove() method removes the specified item.\n",
    "Xóa mục được chỉ định\n",
    "Phương remove()thức loại bỏ mục được chỉ định."
   ]
  },
  {
   "cell_type": "code",
   "execution_count": 1,
   "id": "45f80543-9902-434e-9340-e9c3b648dde4",
   "metadata": {},
   "outputs": [
    {
     "name": "stdout",
     "output_type": "stream",
     "text": [
      "['apple', 'cherry']\n"
     ]
    }
   ],
   "source": [
    "# Remove \"banana\":\n",
    "# Xóa \"chuối\":\n",
    "thislist = [\"apple\", \"banana\", \"cherry\"]\n",
    "thislist.remove(\"banana\")\n",
    "print(thislist)"
   ]
  },
  {
   "cell_type": "markdown",
   "id": "476750e6-193d-4ff9-9bcd-8d392da9bb50",
   "metadata": {},
   "source": [
    "If there are more than one item with the specified value, the remove() method removes the first occurance:\n",
    "Nếu có nhiều mục có giá trị được chỉ định, phương remove()thức sẽ loại bỏ lần xuất hiện đầu tiên:"
   ]
  },
  {
   "cell_type": "code",
   "execution_count": 2,
   "id": "a75be111-39b8-4121-9bdf-87c854d86f66",
   "metadata": {},
   "outputs": [
    {
     "name": "stdout",
     "output_type": "stream",
     "text": [
      "['apple', 'cherry', 'banana', 'kiwi']\n"
     ]
    }
   ],
   "source": [
    "# Remove the first occurance of \"banana\":\n",
    "# Xóa lần xuất hiện đầu tiên của \"banana\":\n",
    "thislist = [\"apple\", \"banana\", \"cherry\", \"banana\", \"kiwi\"]\n",
    "thislist.remove(\"banana\")\n",
    "print(thislist)"
   ]
  },
  {
   "cell_type": "markdown",
   "id": "b24757f7-83b6-4340-aebb-5d3361144e73",
   "metadata": {},
   "source": [
    "Remove Specified Index\n",
    "The pop() method removes the specified index.\n",
    "Xóa chỉ mục được chỉ định\n",
    "Phương thức này pop()loại bỏ chỉ mục đã chỉ định."
   ]
  },
  {
   "cell_type": "code",
   "execution_count": 3,
   "id": "e67f9e2e-9421-41ff-9429-8cec8dcb2741",
   "metadata": {},
   "outputs": [
    {
     "name": "stdout",
     "output_type": "stream",
     "text": [
      "['apple', 'cherry']\n"
     ]
    }
   ],
   "source": [
    "# Remove the second item:\n",
    "# Xóa mục thứ hai:\n",
    "thislist = [\"apple\", \"banana\", \"cherry\"]\n",
    "thislist.pop(1)\n",
    "print(thislist)"
   ]
  },
  {
   "cell_type": "markdown",
   "id": "5e37681c-c773-4ca8-919e-7b296983e450",
   "metadata": {},
   "source": [
    "If you do not specify the index, the pop() method removes the last item.\n",
    "Nếu bạn không chỉ định chỉ mục, pop()phương thức sẽ xóa mục cuối cùng."
   ]
  },
  {
   "cell_type": "markdown",
   "id": "5b2b8784-6555-473a-8939-bcab26514d09",
   "metadata": {},
   "source": [
    "The del keyword also removes the specified index:\n",
    "Từ delkhóa cũng xóa chỉ mục đã chỉ định:"
   ]
  },
  {
   "cell_type": "code",
   "execution_count": 4,
   "id": "fc451fed-35bd-4de6-86a5-36c6b7b3c238",
   "metadata": {},
   "outputs": [
    {
     "name": "stdout",
     "output_type": "stream",
     "text": [
      "['banana', 'cherry']\n"
     ]
    }
   ],
   "source": [
    "# Remove the first item:\n",
    "# Xóa mục đầu tiên:\n",
    "thislist = [\"apple\", \"banana\", \"cherry\"]\n",
    "del thislist[0]\n",
    "print(thislist)"
   ]
  },
  {
   "cell_type": "markdown",
   "id": "49586fd0-20dd-4eed-899b-a85b1bc4ddd5",
   "metadata": {},
   "source": [
    "The del keyword can also delete the list completely.\n",
    "Từ del khóa cũng có thể xóa danh sách hoàn toàn."
   ]
  },
  {
   "cell_type": "code",
   "execution_count": 5,
   "id": "ea216697-545c-460d-8d76-40306dbde232",
   "metadata": {},
   "outputs": [
    {
     "ename": "NameError",
     "evalue": "name 'thislist' is not defined",
     "output_type": "error",
     "traceback": [
      "\u001b[1;31m---------------------------------------------------------------------------\u001b[0m",
      "\u001b[1;31mNameError\u001b[0m                                 Traceback (most recent call last)",
      "Cell \u001b[1;32mIn[5], line 5\u001b[0m\n\u001b[0;32m      3\u001b[0m thislist \u001b[38;5;241m=\u001b[39m [\u001b[38;5;124m\"\u001b[39m\u001b[38;5;124mapple\u001b[39m\u001b[38;5;124m\"\u001b[39m, \u001b[38;5;124m\"\u001b[39m\u001b[38;5;124mbanana\u001b[39m\u001b[38;5;124m\"\u001b[39m, \u001b[38;5;124m\"\u001b[39m\u001b[38;5;124mcherry\u001b[39m\u001b[38;5;124m\"\u001b[39m]\n\u001b[0;32m      4\u001b[0m \u001b[38;5;28;01mdel\u001b[39;00m thislist\n\u001b[1;32m----> 5\u001b[0m \u001b[38;5;28mprint\u001b[39m(\u001b[43mthislist\u001b[49m)\n",
      "\u001b[1;31mNameError\u001b[0m: name 'thislist' is not defined"
     ]
    }
   ],
   "source": [
    "# Delete the entire list:\n",
    "# Xóa toàn bộ danh sách:\n",
    "thislist = [\"apple\", \"banana\", \"cherry\"]\n",
    "del thislist\n",
    "print(thislist)"
   ]
  },
  {
   "cell_type": "markdown",
   "id": "2908277c-c51f-4ff4-a3b3-0f4886746cf6",
   "metadata": {},
   "source": [
    "Clear the List\n",
    "The clear() method empties the list.\n",
    "The list still remains, but it has no content.\n",
    "Xóa danh sách\n",
    "Phương thức này clear()làm trống danh sách.\n",
    "Danh sách vẫn còn nhưng không có nội dung."
   ]
  },
  {
   "cell_type": "code",
   "execution_count": 6,
   "id": "1174c273-f38c-4bc3-8d6f-5f9fe253f9c9",
   "metadata": {},
   "outputs": [
    {
     "name": "stdout",
     "output_type": "stream",
     "text": [
      "[]\n"
     ]
    }
   ],
   "source": [
    "# Clear the list content:\n",
    "# Xóa nội dung danh sách:\n",
    "thislist = [\"apple\", \"banana\", \"cherry\"]\n",
    "thislist.clear()\n",
    "print(thislist)"
   ]
  },
  {
   "cell_type": "code",
   "execution_count": null,
   "id": "35ccfe97-293d-405f-a809-dfed58abe805",
   "metadata": {},
   "outputs": [],
   "source": []
  }
 ],
 "metadata": {
  "kernelspec": {
   "display_name": "Python 3 (ipykernel)",
   "language": "python",
   "name": "python3"
  },
  "language_info": {
   "codemirror_mode": {
    "name": "ipython",
    "version": 3
   },
   "file_extension": ".py",
   "mimetype": "text/x-python",
   "name": "python",
   "nbconvert_exporter": "python",
   "pygments_lexer": "ipython3",
   "version": "3.11.7"
  }
 },
 "nbformat": 4,
 "nbformat_minor": 5
}
