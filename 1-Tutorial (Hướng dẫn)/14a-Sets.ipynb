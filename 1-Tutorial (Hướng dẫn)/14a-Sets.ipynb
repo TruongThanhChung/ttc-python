{
 "cells": [
  {
   "cell_type": "markdown",
   "id": "c0fe4ce8-2cfc-4a54-89c3-03b0de96fb3f",
   "metadata": {},
   "source": [
    "Set\n",
    "Sets are used to store multiple items in a single variable.\n",
    "Set is one of 4 built-in data types in Python used to store collections of data, the other 3 are List, Tuple, and Dictionary, all with different qualities and usage.\n",
    "A set is a collection which is unordered, unchangeable*, and unindexed.\n",
    "Sets are written with curly brackets.\n",
    "Set\n",
    "Bộ được sử dụng để lưu trữ nhiều mục trong một biến duy nhất.\n",
    "Set là một trong 4 kiểu dữ liệu có sẵn trong Python dùng để lưu trữ các bộ sưu tập dữ liệu, 3 kiểu còn lại là List , Tuple và Wikipedia , tất cả đều có chất lượng và cách sử dụng khác nhau.\n",
    "Một tập hợp là một bộ sưu tập không có thứ tự , không thể thay đổi* và không được lập chỉ mục .\n",
    "Bộ được viết bằng dấu ngoặc nhọn. {}"
   ]
  },
  {
   "cell_type": "markdown",
   "id": "058dc57f-10a6-491c-ad91-49b98ffc770a",
   "metadata": {},
   "source": [
    "* Note: \n",
    "Set items are unchangeable, but you can remove items and add new items.\n",
    "* Lưu ý: \n",
    "Các mục đã đặt không thể thay đổi nhưng bạn có thể xóa mục và thêm mục mới."
   ]
  },
  {
   "cell_type": "code",
   "execution_count": 1,
   "id": "df5981e5-98ab-4be2-acb3-d078767ebfd1",
   "metadata": {},
   "outputs": [
    {
     "name": "stdout",
     "output_type": "stream",
     "text": [
      "{'apple', 'banana', 'cherry'}\n"
     ]
    }
   ],
   "source": [
    "# Create a Set:\n",
    "# Tạo một bộ:\n",
    "thisset = {\"apple\", \"banana\", \"cherry\"}\n",
    "print(thisset)"
   ]
  },
  {
   "cell_type": "markdown",
   "id": "0ca5b35e-878c-4f0c-ab9a-3070e5def81e",
   "metadata": {},
   "source": [
    "Set Items\n",
    "Set items are unordered, unchangeable, and do not allow duplicate values.\n",
    "Đặt mục\n",
    "Các mục đã đặt không có thứ tự, không thể thay đổi và không cho phép các giá trị trùng lặp."
   ]
  },
  {
   "cell_type": "markdown",
   "id": "e8c11f11-0cde-4baa-822b-70ec37877d03",
   "metadata": {},
   "source": [
    "Unordered\n",
    "Unordered means that the items in a set do not have a defined order.\n",
    "Set items can appear in a different order every time you use them, and cannot be referred to by index or key.\n",
    "Không có thứ tự\n",
    "Không có thứ tự có nghĩa là các mục trong một bộ không có thứ tự xác định.\n",
    "Các mục đã đặt có thể xuất hiện theo thứ tự khác nhau mỗi khi bạn sử dụng chúng và không thể tham chiếu theo chỉ mục hoặc khóa."
   ]
  },
  {
   "cell_type": "markdown",
   "id": "757b9012-6b0a-4639-8162-65beb19b109b",
   "metadata": {},
   "source": [
    "Unchangeable\n",
    "Set items are unchangeable, meaning that we cannot change the items after the set has been created.\n",
    "không thể thay đổi\n",
    "Các mục trong bộ không thể thay đổi, nghĩa là chúng ta không thể thay đổi các mục sau khi bộ đã được tạo."
   ]
  },
  {
   "cell_type": "markdown",
   "id": "70d9c314-1a70-4f02-8d5f-099c6b3abb06",
   "metadata": {},
   "source": [
    "Once a set is created, you cannot change its items, but you can remove items and add new items.\n",
    "Khi một bộ được tạo, bạn không thể thay đổi các mục của nó nhưng bạn có thể xóa các mục và thêm các mục mới."
   ]
  },
  {
   "cell_type": "markdown",
   "id": "3ed3a89c-b344-4592-9cac-00f76262042a",
   "metadata": {},
   "source": [
    "Duplicates Not Allowed\n",
    "Sets cannot have two items with the same value.\n",
    "Bản sao không được phép\n",
    "Bộ không thể có hai mục có cùng giá trị."
   ]
  },
  {
   "cell_type": "code",
   "execution_count": 2,
   "id": "c91c215b-a947-4834-858c-75e636143469",
   "metadata": {},
   "outputs": [
    {
     "name": "stdout",
     "output_type": "stream",
     "text": [
      "{'apple', 'banana', 'cherry'}\n"
     ]
    }
   ],
   "source": [
    "# Duplicate values will be ignored:\n",
    "# Các giá trị trùng lặp sẽ bị bỏ qua:\n",
    "thisset = {\"apple\", \"banana\", \"cherry\", \"apple\"}\n",
    "\n",
    "print(thisset)"
   ]
  },
  {
   "cell_type": "markdown",
   "id": "c51f0d34-d662-41da-9b2e-8be8f051a5b9",
   "metadata": {},
   "source": [
    "Note: \n",
    "The values True and 1 are considered the same value in sets, and are treated as duplicates:\n",
    "Lưu ý:\n",
    "Các giá trị True và 1 được coi là cùng một giá trị trong các bộ và được coi là trùng lặp:"
   ]
  },
  {
   "cell_type": "code",
   "execution_count": 3,
   "id": "1429501d-8cc0-44a0-bf4a-447624886f5b",
   "metadata": {},
   "outputs": [
    {
     "name": "stdout",
     "output_type": "stream",
     "text": [
      "{True, 2, 'banana', 'apple', 'cherry'}\n"
     ]
    }
   ],
   "source": [
    "# True and 1 is considered the same value:\n",
    "# True và 1được coi là có cùng giá trị:\n",
    "thisset = {\"apple\", \"banana\", \"cherry\", True, 1, 2}\n",
    "\n",
    "print(thisset)"
   ]
  },
  {
   "cell_type": "markdown",
   "id": "128bbc74-742e-471c-8f61-e715bd943705",
   "metadata": {},
   "source": [
    "Note: \n",
    "The values False and 0 are considered the same value in sets, and are treated as duplicates:\n",
    "Lưu ý: \n",
    "Các giá trị False và 0được coi là cùng một giá trị trong các bộ và được coi là trùng lặp:"
   ]
  },
  {
   "cell_type": "code",
   "execution_count": 4,
   "id": "92520384-637e-4aec-8bb7-73055011695a",
   "metadata": {},
   "outputs": [
    {
     "name": "stdout",
     "output_type": "stream",
     "text": [
      "{False, True, 'banana', 'apple', 'cherry'}\n"
     ]
    }
   ],
   "source": [
    "# False and 0 is considered the same value:\n",
    "# False và 0được coi là có cùng giá trị:\n",
    "thisset = {\"apple\", \"banana\", \"cherry\", False, True, 0}\n",
    "\n",
    "print(thisset)"
   ]
  },
  {
   "cell_type": "markdown",
   "id": "facd8c1f-9bb7-4166-bd65-57f4aa0f5984",
   "metadata": {},
   "source": [
    "Get the Length of a Set\n",
    "To determine how many items a set has, use the len() function.\n",
    "Lấy chiều dài của một bộ\n",
    "Để xác định một bộ có bao nhiêu mục, hãy sử dụng hàm len() ."
   ]
  },
  {
   "cell_type": "code",
   "execution_count": 5,
   "id": "856ec668-cb0a-4101-9dad-da72767748d4",
   "metadata": {},
   "outputs": [
    {
     "name": "stdout",
     "output_type": "stream",
     "text": [
      "3\n"
     ]
    }
   ],
   "source": [
    "# Get the number of items in a set:\n",
    "# Lấy số lượng vật phẩm trong một bộ:\n",
    "thisset = {\"apple\", \"banana\", \"cherry\"}\n",
    "\n",
    "print(len(thisset))"
   ]
  },
  {
   "cell_type": "markdown",
   "id": "8987cc6b-5198-4a6a-9f81-02c22baade21",
   "metadata": {},
   "source": [
    "Set Items - Data Types\n",
    "Set items can be of any data type:\n",
    "Đặt mục - Kiểu dữ liệu\n",
    "Các mục đặt có thể thuộc bất kỳ loại dữ liệu nào:"
   ]
  },
  {
   "cell_type": "code",
   "execution_count": 6,
   "id": "ecc15514-be99-49b1-ab63-017f1aac8e02",
   "metadata": {},
   "outputs": [],
   "source": [
    "# String, int and boolean data types:\n",
    "# Các kiểu dữ liệu chuỗi, int và boolean:\n",
    "set1 = {\"apple\", \"banana\", \"cherry\"}\n",
    "set2 = {1, 5, 7, 9, 3}\n",
    "set3 = {True, False, False}"
   ]
  },
  {
   "cell_type": "markdown",
   "id": "3ce279be-b09a-41a8-8c13-ef095f2f4d01",
   "metadata": {},
   "source": [
    "A set can contain different data types:\n",
    "Một tập hợp có thể chứa các loại dữ liệu khác nhau:"
   ]
  },
  {
   "cell_type": "code",
   "execution_count": null,
   "id": "6bc9105a-474b-4eed-bd5c-d21c91be0aea",
   "metadata": {},
   "outputs": [],
   "source": [
    "# A set with strings, integers and boolean values:\n",
    "# Một tập hợp có chuỗi, số nguyên và giá trị boolean:\n",
    "set1 = {\"abc\", 34, True, 40, \"male\"}"
   ]
  },
  {
   "cell_type": "markdown",
   "id": "a45f9580-7302-48cd-b52f-7aca58075159",
   "metadata": {},
   "source": [
    "type()\n",
    "From Python's perspective, sets are defined as objects with the data type 'set': <class 'set'>\n",
    "kiểu()\n",
    "Từ quan điểm của Python, các tập hợp được định nghĩa là các đối tượng có kiểu dữ liệu 'set': <class 'set'>"
   ]
  },
  {
   "cell_type": "code",
   "execution_count": 7,
   "id": "07fcfc2e-cec3-41ce-bda3-5fb14fb08778",
   "metadata": {},
   "outputs": [
    {
     "name": "stdout",
     "output_type": "stream",
     "text": [
      "<class 'set'>\n"
     ]
    }
   ],
   "source": [
    "# What is the data type of a set?\n",
    "# Kiểu dữ liệu của một tập hợp là gì?\n",
    "myset = {\"apple\", \"banana\", \"cherry\"}\n",
    "print(type(myset))"
   ]
  },
  {
   "cell_type": "markdown",
   "id": "820e02ef-7b50-4259-932b-47c63671a47a",
   "metadata": {},
   "source": [
    "The set() Constructor\n",
    "It is also possible to use the set() constructor to make a set.\n",
    "Hàm tạo set()\n",
    "Cũng có thể sử dụng hàm tạo set() để tạo một tập hợp."
   ]
  },
  {
   "cell_type": "code",
   "execution_count": 8,
   "id": "7d7dbc9d-ff8f-4a5b-a870-bc923ed0b3a4",
   "metadata": {},
   "outputs": [
    {
     "name": "stdout",
     "output_type": "stream",
     "text": [
      "{'apple', 'banana', 'cherry'}\n"
     ]
    }
   ],
   "source": [
    "# Using the set() constructor to make a set:\n",
    "# Sử dụng hàm tạo set() để tạo một tập hợp:\n",
    "thisset = set((\"apple\", \"banana\", \"cherry\")) # note the double round-brackets\n",
    "print(thisset)"
   ]
  },
  {
   "cell_type": "markdown",
   "id": "d13ba127-be25-4da6-bb0a-395d89c21920",
   "metadata": {},
   "source": [
    "Python Collections (Arrays)\n",
    "There are four collection data types in the Python programming language:\n",
    "List is a collection which is ordered and changeable. Allows duplicate members.\n",
    "Tuple is a collection which is ordered and unchangeable. Allows duplicate members.\n",
    "Set is a collection which is unordered, unchangeable*, and unindexed. No duplicate members.\n",
    "Dictionary is a collection which is ordered** and changeable. No duplicate members.\n",
    "Bộ sưu tập Python (Mảng)\n",
    "Có bốn loại dữ liệu bộ sưu tập trong ngôn ngữ lập trình Python:\n",
    "Danh sách là một bộ sưu tập được sắp xếp và có thể thay đổi. Cho phép thành viên trùng lặp.\n",
    "Tuple là một bộ sưu tập được sắp xếp và không thể thay đổi. Cho phép thành viên trùng lặp.\n",
    "Set là một bộ sưu tập không có thứ tự, không thể thay đổi* và không được lập chỉ mục. Không có thành viên trùng lặp.\n",
    "Từ điển là một bộ sưu tập được sắp xếp** và có thể thay đổi. Không có thành viên trùng lặp."
   ]
  },
  {
   "cell_type": "markdown",
   "id": "7bd0ad97-cb23-446c-a402-60b7b3cefe54",
   "metadata": {},
   "source": [
    "*Set items are unchangeable, but you can remove items and add new items.\n",
    "**As of Python version 3.7, dictionaries are ordered. In Python 3.6 and earlier, dictionaries are unordered.\n",
    "*Đặt mục không thể thay đổi, nhưng bạn có thể xóa mục và thêm mục mới.\n",
    "**Kể từ phiên bản Python 3.7, từ điển được sắp xếp theo thứ tự . Trong Python 3.6 trở về trước, từ điển không có thứ tự ."
   ]
  },
  {
   "cell_type": "markdown",
   "id": "86caf0e6-e6bd-4e7b-a37e-d9fcede5f4d0",
   "metadata": {},
   "source": [
    "When choosing a collection type, it is useful to understand the properties of that type. Choosing the right type for a particular data set could mean retention of meaning, and, it could mean an increase in efficiency or security.\n",
    "Khi chọn loại bộ sưu tập, việc hiểu các thuộc tính của loại đó là rất hữu ích. Việc chọn đúng loại cho một tập dữ liệu cụ thể có thể đồng nghĩa với việc duy trì ý nghĩa và có thể đồng nghĩa với việc tăng hiệu quả hoặc tính bảo mật."
   ]
  }
 ],
 "metadata": {
  "kernelspec": {
   "display_name": "Python 3 (ipykernel)",
   "language": "python",
   "name": "python3"
  },
  "language_info": {
   "codemirror_mode": {
    "name": "ipython",
    "version": 3
   },
   "file_extension": ".py",
   "mimetype": "text/x-python",
   "name": "python",
   "nbconvert_exporter": "python",
   "pygments_lexer": "ipython3",
   "version": "3.11.7"
  }
 },
 "nbformat": 4,
 "nbformat_minor": 5
}
