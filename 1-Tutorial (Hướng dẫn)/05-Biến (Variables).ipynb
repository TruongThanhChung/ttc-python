{
 "cells": [
  {
   "cell_type": "markdown",
   "id": "059b7af9-bdef-43a6-9e86-12da006b463a",
   "metadata": {},
   "source": [
    "Variables are containers for storing data values\n",
    "\n",
    "Biến là nơi chứa các giá trị dữ liệu."
   ]
  },
  {
   "cell_type": "markdown",
   "id": "26e1174d-e746-4810-a02d-813ff6a09dd8",
   "metadata": {},
   "source": [
    "Creating Variables\r\n",
    "Python has no command for declaring a variable\n",
    "\r\n",
    "A variable is created the moment you first assign a value to it.\n",
    "Tạo biến\n",
    "Python không có lệnh khai báo biến.\n",
    "Một biến được tạo vào thời điểm bạn gán giá trị cho nó lần đầu tiên."
   ]
  },
  {
   "cell_type": "code",
   "execution_count": 1,
   "id": "63ed2e3f-a82e-40ce-bd4f-7f941a01311c",
   "metadata": {},
   "outputs": [
    {
     "name": "stdout",
     "output_type": "stream",
     "text": [
      "5\n",
      "John\n"
     ]
    }
   ],
   "source": [
    "x = 5\n",
    "y = \"John\"\n",
    "print(x)\n",
    "print(y)"
   ]
  },
  {
   "cell_type": "markdown",
   "id": "ec2a6470-6eb9-4872-8952-c9643c0740eb",
   "metadata": {},
   "source": [
    "Variables do not need to be declared with any particular type, and can even change type after they have been set.\n",
    "Các biến không cần phải khai báo với bất kỳ loại cụ thể nào và thậm chí có thể thay đổi loại sau khi chúng được đặt."
   ]
  },
  {
   "cell_type": "code",
   "execution_count": 2,
   "id": "88346bf6-5bbc-4a80-ae9f-0ea2931afc10",
   "metadata": {},
   "outputs": [
    {
     "name": "stdout",
     "output_type": "stream",
     "text": [
      "Sally\n"
     ]
    }
   ],
   "source": [
    "x = 4       # x is of type int\n",
    "x = \"Sally\" # x is now of type str\n",
    "print(x)"
   ]
  },
  {
   "cell_type": "markdown",
   "id": "af9790de-901b-40af-b3cb-6160836bb443",
   "metadata": {},
   "source": [
    "Casting\r\n",
    "If you want to specify the data type of a variable, this can be done with casting\n",
    "Kiểu biến.\n",
    "Nếu bạn muốn chỉ định kiểu dữ liệu của một biến, điều này có thể được thực hiện bằng cách truyền."
   ]
  },
  {
   "cell_type": "code",
   "execution_count": 4,
   "id": "cf514ebd-3b5f-471d-a086-3e85f054a4f8",
   "metadata": {},
   "outputs": [],
   "source": [
    "x = str(3)    # x will be '3'\n",
    "y = int(3)    # y will be 3\n",
    "z = float(3)  # z will be 3.0"
   ]
  },
  {
   "cell_type": "markdown",
   "id": "91a0dbc1-bc17-402a-ad8f-6dd4eeb235a1",
   "metadata": {},
   "source": [
    "Get the Type\r\n",
    "You can get the data type of a variable with the type() function\n",
    "Lấy loại.\n",
    "Bạn có thể lấy kiểu dữ liệu của một biến bằng hàm type()."
   ]
  },
  {
   "cell_type": "code",
   "execution_count": 5,
   "id": "0c105ca4-5998-451e-b907-a7d12200546a",
   "metadata": {},
   "outputs": [
    {
     "name": "stdout",
     "output_type": "stream",
     "text": [
      "<class 'int'>\n",
      "<class 'str'>\n"
     ]
    }
   ],
   "source": [
    "x = 5\n",
    "y = \"John\"\n",
    "print(type(x))\n",
    "print(type(y))"
   ]
  },
  {
   "cell_type": "markdown",
   "id": "e7b0b268-8a9d-4132-ab6b-8a743e1516b6",
   "metadata": {},
   "source": [
    "Single or Double Quotes?\r\n",
    "String variables can be declared either by using single or double quotes\n",
    "Dấu ngoặc đơn hoặc kép?:\n",
    "Các biến chuỗi có thể được khai báo bằng cách sử dụng dấu ngoặc đơn hoặc dấu ngoặc kép:"
   ]
  },
  {
   "cell_type": "code",
   "execution_count": 6,
   "id": "6b2bce57-9150-4085-bf19-77c32817d014",
   "metadata": {},
   "outputs": [],
   "source": [
    "x = \"John\"\n",
    "# is the same as\n",
    "x = 'John'"
   ]
  },
  {
   "cell_type": "markdown",
   "id": "c45f158d-e856-4e2e-a886-158ce87d7207",
   "metadata": {},
   "source": [
    "Case-Sensitive\r\n",
    "Variable names are case-sensitive.\n",
    "Trường hợp nhạy cảm\n",
    "Tên biến có phân biệt chữ hoa chữ thường."
   ]
  },
  {
   "cell_type": "code",
   "execution_count": 7,
   "id": "6d4c08c0-55af-491a-a0ac-5cb160e5a763",
   "metadata": {},
   "outputs": [],
   "source": [
    "a = 4\n",
    "A = \"Sally\"\n",
    "#A will not overwrite a"
   ]
  },
  {
   "cell_type": "markdown",
   "id": "84b88d1c-2c32-4640-ba51-13cbc1848962",
   "metadata": {},
   "source": [
    "Variable Names\r\n",
    "A variable can have a short name (like x and y) or a more descriptive name (age, carname, total_volume). Rules for Python variables:\r\n",
    "A variable name must start with a letter or the underscore character\r\n",
    "A variable name cannot start with a number\r\n",
    "A variable name can only contain alpha-numeric characters and underscores (A-z, 0-9, and _ )\r\n",
    "Variable names are case-sensitive (age, Age and AGE are three different variables)\r\n",
    "A variable name cannot be any of the Python keywords.\n",
    "Tên biến\n",
    "Một biến có thể có tên ngắn (như x và y) hoặc tên mang tính mô tả hơn (age, carname, Total_volume). Quy tắc cho các biến Python:\n",
    "Tên biến phải bắt đầu bằng một chữ cái hoặc ký tự gạch dưới\n",
    "Tên biến không thể bắt đầu bằng số\n",
    "Tên biến chỉ có thể chứa các ký tự chữ và số và dấu gạch dưới (Az, 0-9 và _ )\n",
    "Tên biến có phân biệt chữ hoa chữ thường (tuổi, Tuổi và AGE là ba biến khác nhau)\n",
    "Tên biến không thể là bất kỳ từ khóa Python nào ."
   ]
  },
  {
   "cell_type": "code",
   "execution_count": null,
   "id": "668615b4-b335-4620-9d21-1e2e27d5c166",
   "metadata": {},
   "outputs": [],
   "source": [
    "# Legal variable names:\n",
    "# Tên biến pháp lý:\n",
    "myvar = \"John\"\n",
    "my_var = \"John\"\n",
    "_my_var = \"John\"\n",
    "myVar = \"John\"\n",
    "MYVAR = \"John\"\n",
    "myvar2 = \"John\""
   ]
  },
  {
   "cell_type": "code",
   "execution_count": null,
   "id": "3da441e8-514a-494a-a748-a4744fe7de63",
   "metadata": {},
   "outputs": [],
   "source": [
    "# Illegal variable names:\n",
    "# Tên biến không hợp lệ:\n",
    "2myvar = \"John\"\n",
    "my-var = \"John\"\n",
    "my var = \"John\""
   ]
  },
  {
   "cell_type": "markdown",
   "id": "583d7167-b7e0-48b9-b900-623fe7b4f9b6",
   "metadata": {},
   "source": [
    "Remember that variable names are case-sensitive\n",
    "Hãy nhớ rằng tên biến có phân biệt chữ hoa chữ thường"
   ]
  },
  {
   "cell_type": "markdown",
   "id": "60ef3d3e-feaf-470a-bfd7-c5569ccb1f79",
   "metadata": {},
   "source": [
    "Multi Words Variable Names\r\n",
    "Variable names with more than one word can be difficult to read.\r\n",
    "There are several techniques you can use to make them more readable:\n",
    "Tên biến nhiều từ\n",
    "Tên biến có nhiều hơn một từ có thể khóọcđ.\n",
    "\n",
    "Có một số kỹ thuật bạn có thể sử dụng để làm cho chúng dễ đọc hơn:"
   ]
  },
  {
   "cell_type": "code",
   "execution_count": null,
   "id": "4fbcd47d-77c6-47f3-ab2f-8e3e1b8e5239",
   "metadata": {},
   "outputs": [],
   "source": [
    "# Camel Case: Each word, except the first, starts with a capital letter\n",
    "# Hộp đựng lạc đà: Mỗi từ, ngoại trừ từ đầu tiên, bắt đầu bằng chữ in hoa:\n",
    "# Mỗi từ, ngoại trừ từ đầu tiên, bắt đầu bằng chữ in hoa:\n",
    "myVariableName = \"John\""
   ]
  },
  {
   "cell_type": "code",
   "execution_count": null,
   "id": "8631974c-1433-466e-ab4d-ac3f679b0799",
   "metadata": {},
   "outputs": [],
   "source": [
    "# Pascal Case: \n",
    "Each word starts with a capital letter# \n",
    "Trường hợp Pasca: \r\n",
    "Mỗi từ bắt đầu bằng một chữ in hao\n",
    "MyVariableName = \"John\":"
   ]
  },
  {
   "cell_type": "code",
   "execution_count": null,
   "id": "1451b5af-6720-462c-972e-6f985472154e",
   "metadata": {},
   "outputs": [],
   "source": [
    "# Snake Case: Each word is separated by an underscore character:\n",
    "# Trường hợp rắn: Mỗi từ được phân tách bằng ký tự gạch dưới:\n",
    "my_variable_name = \"John\""
   ]
  },
  {
   "cell_type": "markdown",
   "id": "ccd221c1-a7c9-44e8-904c-1359c1ea8c75",
   "metadata": {},
   "source": [
    "Many Values to Multiple Variables\r\n",
    "Python allows you to assign values to multiple variables in one line\n",
    "Nhiều giá trị thành nhiều biến\r\n",
    "Python cho phép bạn gán giá trị cho nhiều biến trong một dòng::"
   ]
  },
  {
   "cell_type": "code",
   "execution_count": 10,
   "id": "a0bfb630-5baf-48df-b8ae-8e1bc4a546c9",
   "metadata": {},
   "outputs": [
    {
     "name": "stdout",
     "output_type": "stream",
     "text": [
      "Orange\n",
      "Banana\n",
      "Cherry\n"
     ]
    }
   ],
   "source": [
    "# Python cho phép bạn gán giá trị cho nhiều biến trong một dòng:\n",
    "x, y, z = \"Orange\", \"Banana\", \"Cherry\"\n",
    "print(x)\n",
    "print(y)\n",
    "print(z)"
   ]
  },
  {
   "cell_type": "markdown",
   "id": "ba2ba293-5218-4ff1-b8b8-ec3e487a1921",
   "metadata": {},
   "source": [
    "Note: Make sure the number of variables matches the number of values, or else you will get an error.   \n",
    "Lưu ý: Đảm bảo số lượng biến khớp với số lượng giá trị, nếu không bạn sẽ gặp lỗi."
   ]
  },
  {
   "cell_type": "code",
   "execution_count": 11,
   "id": "6c8fc01f-fc0c-4f8a-9ba4-5f9c33ae5074",
   "metadata": {},
   "outputs": [
    {
     "name": "stdout",
     "output_type": "stream",
     "text": [
      "Orange\n",
      "Orange\n",
      "Orange\n"
     ]
    }
   ],
   "source": [
    "# One Value to Multiple Variables: And you can assign the same value to multiple variables in one line:\n",
    "# Một giá trị cho nhiều biến: Và bạn có thể gán cùng một giá trị cho nhiều biến trong một dòng:\n",
    "x = y = z = \"Orange\"\n",
    "print(x)\n",
    "print(y)\n",
    "print(z)"
   ]
  },
  {
   "cell_type": "code",
   "execution_count": 12,
   "id": "2d30de27-00d7-43a1-9925-48c4580ef9ef",
   "metadata": {},
   "outputs": [
    {
     "name": "stdout",
     "output_type": "stream",
     "text": [
      "apple\n",
      "banana\n",
      "cherry\n"
     ]
    }
   ],
   "source": [
    "''' Unpack a Collection: \n",
    "If you have a collection of values in a list, tuple etc. Python allows you to extract the values into variables. This is called unpacking.'''\n",
    "''' Giải nén một bộ sưu tập:\n",
    "Nếu bạn có một tập hợp các giá trị trong một danh sách, bộ dữ liệu, v.v. Python cho phép bạn trích xuất các giá trị thành các biến. Điều này được gọi là\n",
    "giải nén '''\n",
    "# Unpack a list:\n",
    "# Giải nén một danh sách:\n",
    "fruits = [\"apple\", \"banana\", \"cherry\"]\n",
    "x, y, z = fruits\n",
    "print(x)\n",
    "print(y)\n",
    "print(z)"
   ]
  },
  {
   "cell_type": "code",
   "execution_count": 13,
   "id": "f507c812-1889-4308-b361-81526c7f7569",
   "metadata": {},
   "outputs": [
    {
     "name": "stdout",
     "output_type": "stream",
     "text": [
      "Python is awesome\n"
     ]
    }
   ],
   "source": [
    "''' Output Variables\n",
    "The Python print() function is often used to output variables.'''\n",
    "''' Biến đầu ra\n",
    "Hàm Python print()thường được sử dụng để xuất các biến.'''\n",
    "x = \"Python is awesome\"\n",
    "print(x)"
   ]
  },
  {
   "cell_type": "code",
   "execution_count": 14,
   "id": "4cd540d4-e91e-4b3f-b4dc-91e7aadf6568",
   "metadata": {},
   "outputs": [
    {
     "name": "stdout",
     "output_type": "stream",
     "text": [
      "Python is awesome\n"
     ]
    }
   ],
   "source": [
    "# In the print() function, you output multiple variables, separated by a comma:\n",
    "# Trong print()hàm, bạn xuất ra nhiều biến, được phân tách bằng dấu phẩy:\n",
    "x = \"Python\"\n",
    "y = \"is\"\n",
    "z = \"awesome\"\n",
    "print(x, y, z)"
   ]
  },
  {
   "cell_type": "code",
   "execution_count": 15,
   "id": "f02e6142-2f86-4f6e-b60a-10120e60773d",
   "metadata": {},
   "outputs": [
    {
     "name": "stdout",
     "output_type": "stream",
     "text": [
      "Python is awesome\n"
     ]
    }
   ],
   "source": [
    "# You can also use the + operator to output multiple variables:\n",
    "# Bạn cũng có thể sử dụng +toán tử để xuất nhiều biến:\n",
    "x = \"Python \"\n",
    "y = \"is \"\n",
    "z = \"awesome\"\n",
    "print(x + y + z)"
   ]
  },
  {
   "cell_type": "markdown",
   "id": "0675b8d6-5983-42cb-ac4d-3db525a11333",
   "metadata": {},
   "source": [
    "Notice the space character after \"Python \" and \"is \", without them the result would be \"Pythonisawesome\".\n",
    "Lưu ý ký tự khoảng trắng sau \"Python \"và \"is \", nếu không có chúng thì kết quả sẽ là \"Pythonisawesome\"."
   ]
  },
  {
   "cell_type": "code",
   "execution_count": 16,
   "id": "525fd0d4-e93f-4924-bbb3-de64033593a9",
   "metadata": {},
   "outputs": [
    {
     "name": "stdout",
     "output_type": "stream",
     "text": [
      "15\n"
     ]
    }
   ],
   "source": [
    "# For numbers, the + character works as a mathematical operator:\n",
    "# Đối với số, + ký tự này hoạt động như một toán tử toán học:\n",
    "x = 5\n",
    "y = 10\n",
    "print(x + y)"
   ]
  },
  {
   "cell_type": "code",
   "execution_count": 17,
   "id": "9fdd5cbe-cd00-45a9-b71f-e38ad3081562",
   "metadata": {},
   "outputs": [
    {
     "ename": "TypeError",
     "evalue": "unsupported operand type(s) for +: 'int' and 'str'",
     "output_type": "error",
     "traceback": [
      "\u001b[1;31m---------------------------------------------------------------------------\u001b[0m",
      "\u001b[1;31mTypeError\u001b[0m                                 Traceback (most recent call last)",
      "Cell \u001b[1;32mIn[17], line 4\u001b[0m\n\u001b[0;32m      2\u001b[0m x \u001b[38;5;241m=\u001b[39m \u001b[38;5;241m5\u001b[39m\n\u001b[0;32m      3\u001b[0m y \u001b[38;5;241m=\u001b[39m \u001b[38;5;124m\"\u001b[39m\u001b[38;5;124mJohn\u001b[39m\u001b[38;5;124m\"\u001b[39m\n\u001b[1;32m----> 4\u001b[0m \u001b[38;5;28mprint\u001b[39m(\u001b[43mx\u001b[49m\u001b[43m \u001b[49m\u001b[38;5;241;43m+\u001b[39;49m\u001b[43m \u001b[49m\u001b[43my\u001b[49m)\n",
      "\u001b[1;31mTypeError\u001b[0m: unsupported operand type(s) for +: 'int' and 'str'"
     ]
    }
   ],
   "source": [
    "# In the print() function, when you try to combine a string and a number with the + operator, Python will give you an error:\n",
    "# Trong print()hàm, khi bạn cố gắng kết hợp một chuỗi và một số với toán + tử, Python sẽ báo lỗi cho bạn:\n",
    "x = 5\n",
    "y = \"John\"\n",
    "print(x + y)"
   ]
  },
  {
   "cell_type": "code",
   "execution_count": 18,
   "id": "d66bc2d0-8e18-4343-992f-5761fd225b74",
   "metadata": {},
   "outputs": [
    {
     "name": "stdout",
     "output_type": "stream",
     "text": [
      "5 John\n"
     ]
    }
   ],
   "source": [
    "# The best way to output multiple variables in the print() function is to separate them with commas, which even support different data types:\n",
    "# Cách tốt nhất để xuất nhiều biến trong print()hàm là phân tách chúng bằng dấu phẩy, thậm chí dấu phẩy này còn hỗ trợ các loại dữ liệu khác nhau:\n",
    "x = 5\n",
    "y = \"John\"\n",
    "print(x, y)"
   ]
  },
  {
   "cell_type": "markdown",
   "id": "a38ca2b6-f272-48e5-a875-e200326cb321",
   "metadata": {},
   "source": [
    "Global Variables\r\n",
    "Variables that are created outside of a function (as in all of the examples above) are known as global variable\r\n",
    "\r\n",
    "Global variables can be used by everyone, both inside of functions and oute.'' Biến toàn cục\n",
    "Các biến được tạo bên ngoài hàm (như trong tất cả các ví dụ trên) được gọi là biến toàn cục.\n",
    "Mọi người đều có thể sử dụng biến toàn cục, cả bên trong và bên ngoààm.'''"
   ]
  },
  {
   "cell_type": "code",
   "execution_count": 19,
   "id": "a4137ee8-0a78-492a-9644-96a2f3013298",
   "metadata": {},
   "outputs": [
    {
     "name": "stdout",
     "output_type": "stream",
     "text": [
      "Python is awesome\n"
     ]
    }
   ],
   "source": [
    "# Create a variable outside of a function, and use it inside the function\n",
    "# Tạo một biến bên ngoài hàm và sử dụng biến đó bên trong hàm\n",
    "x = \"awesome\"\n",
    "\n",
    "def myfunc():\n",
    "  print(\"Python is \" + x)\n",
    "\n",
    "myfunc()"
   ]
  },
  {
   "cell_type": "markdown",
   "id": "dd4aa76c-91b8-4486-9913-5ac2795b71c9",
   "metadata": {},
   "source": [
    "If you create a variable with the same name inside a function, this variable will be local, and can only be used inside the function. The global variable with the same name will remain as it was, global and with the original value.\n",
    "Nếu bạn tạo một biến có cùng tên bên trong hàm, biến này sẽ là biến cục bộ và chỉ có thể được sử dụng bên trong hàm. \n",
    "Biến toàn cục có cùng tên sẽ giữ nguyên, toàn cục và có giá trị ban đầu."
   ]
  },
  {
   "cell_type": "code",
   "execution_count": 20,
   "id": "8d4fff0c-9b71-4242-9adb-66992cb458ba",
   "metadata": {},
   "outputs": [
    {
     "name": "stdout",
     "output_type": "stream",
     "text": [
      "Python is fantastic\n",
      "Python is awesome\n"
     ]
    }
   ],
   "source": [
    "# Create a variable inside a function, with the same name as the global variable\n",
    "# Tạo một biến bên trong hàm, có cùng tên với biến toàn cục\n",
    "x = \"awesome\"\n",
    "\n",
    "def myfunc():\n",
    "  x = \"fantastic\"\n",
    "  print(\"Python is \" + x)\n",
    "\n",
    "myfunc()\n",
    "\n",
    "print(\"Python is \" + x)"
   ]
  },
  {
   "cell_type": "markdown",
   "id": "bd9c197e-fe2e-485c-bd78-fb7b7c9969cb",
   "metadata": {},
   "source": [
    "The global Keyword\r\n",
    "Normally, when you create a variable inside a function, that variable is local, and can only be used inside that functio.n\n",
    "\r\n",
    "To create a global variable inside a function, you can use the global kerd.ywo\n",
    "Từ khóa toàn cầu\r\n",
    "Thông thường, khi bạn tạo một biến bên trong hàm, biến đó là biến cục bộ và chỉ có thể được sử dụng bên trong hà.mđó\r\n",
    "\r\n",
    "Để tạo biến toàn cục bên trong hàm, bạn có thể s từ khóaử dụng .óa.rd."
   ]
  },
  {
   "cell_type": "code",
   "execution_count": 21,
   "id": "64df7f97-773f-45c7-a2b4-b39eaba40e16",
   "metadata": {},
   "outputs": [
    {
     "name": "stdout",
     "output_type": "stream",
     "text": [
      "Python is fantastic\n"
     ]
    }
   ],
   "source": [
    "# If you use the global keyword, the variable belongs to the global scope:\n",
    "# Nếu bạn sử dụng globaltừ khóa, biến sẽ thuộc phạm vi toàn cục:\n",
    "def myfunc():\n",
    "  global x\n",
    "  x = \"fantastic\"\n",
    "\n",
    "myfunc()\n",
    "\n",
    "print(\"Python is \" + x)"
   ]
  },
  {
   "cell_type": "markdown",
   "id": "c16e1e9d-c243-4e4d-920f-3f59c01c6b4c",
   "metadata": {},
   "source": [
    "Also, use the global keyword if you want to change a global variable inside a function.\n",
    "Ngoài ra, hãy sử dụng globaltừ khóa nếu bạn muốn thay đổi biến toàn cục bên trong hàm."
   ]
  },
  {
   "cell_type": "code",
   "execution_count": 22,
   "id": "680d6743-32a0-4e25-8cc8-99d132bdb726",
   "metadata": {},
   "outputs": [
    {
     "name": "stdout",
     "output_type": "stream",
     "text": [
      "Python is fantastic\n"
     ]
    }
   ],
   "source": [
    "# To change the value of a global variable inside a function, refer to the variable by using the global keyword:\n",
    "# Để thay đổi giá trị của biến toàn cục bên trong hàm, hãy tham chiếu biến đó bằng cách sử dụng từ khóa global:\n",
    "x = \"awesome\"\n",
    "\n",
    "def myfunc():\n",
    "  global x\n",
    "  x = \"fantastic\"\n",
    "\n",
    "myfunc()\n",
    "\n",
    "print(\"Python is \" + x)"
   ]
  },
  {
   "cell_type": "code",
   "execution_count": null,
   "id": "6cadc2c1-694a-49e8-9fed-1919c5cd6c04",
   "metadata": {},
   "outputs": [],
   "source": []
  }
 ],
 "metadata": {
  "kernelspec": {
   "display_name": "Python 3 (ipykernel)",
   "language": "python",
   "name": "python3"
  },
  "language_info": {
   "codemirror_mode": {
    "name": "ipython",
    "version": 3
   },
   "file_extension": ".py",
   "mimetype": "text/x-python",
   "name": "python",
   "nbconvert_exporter": "python",
   "pygments_lexer": "ipython3",
   "version": "3.11.7"
  }
 },
 "nbformat": 4,
 "nbformat_minor": 5
}
