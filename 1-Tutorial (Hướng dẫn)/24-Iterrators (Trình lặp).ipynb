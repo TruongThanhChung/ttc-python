{
 "cells": [
  {
   "cell_type": "markdown",
   "id": "4666a77d-c267-45a2-b6ba-9db61f41f7d0",
   "metadata": {},
   "source": [
    "Python Iterators\n",
    "An iterator is an object that contains a countable number of values.\n",
    "An iterator is an object that can be iterated upon, meaning that you can traverse through all the values.\n",
    "Technically, in Python, an iterator is an object which implements the iterator protocol, which consist of the methods __iter__() and __next__().\n",
    "Trình lặp Python\n",
    "Trình vòng lặp là một đối tượng chứa một số lượng giá trị có thể đếm được.\n",
    "Trình vòng lặp là một đối tượng có thể được lặp lại, nghĩa là bạn có thể duyệt qua tất cả các giá trị.\n",
    "Về mặt kỹ thuật, trong Python, iterator là một đối tượng thực hiện giao thức iterator, bao gồm các phương thức __iter__() và __next__()."
   ]
  },
  {
   "cell_type": "markdown",
   "id": "e4877ce2-a60c-4b43-896a-1854035f693f",
   "metadata": {},
   "source": [
    "Iterator vs Iterable\n",
    "Lists, tuples, dictionaries, and sets are all iterable objects. They are iterable containers which you can get an iterator from.\n",
    "All these objects have a iter() method which is used to get an iterator:\n",
    "Iterator vs Iterable\n",
    "Danh sách, bộ dữ liệu, từ điển và bộ đều là các đối tượng có thể lặp lại. Chúng là các thùng chứa có thể lặp lại mà bạn có thể lấy một trình vòng lặp từ đó.\n",
    "Tất cả các đối tượng này đều có một phương thức iter() được sử dụng để lấy một trình vòng lặp:"
   ]
  },
  {
   "cell_type": "code",
   "execution_count": 10,
   "id": "9b2c1f1d-91bc-4b5c-b580-2521687d3334",
   "metadata": {},
   "outputs": [
    {
     "name": "stdout",
     "output_type": "stream",
     "text": [
      "apple\n",
      "banana\n",
      "cherry\n"
     ]
    }
   ],
   "source": [
    "# Return an iterator from a tuple, and print each value:\n",
    "# Trả về một trình vòng lặp từ một bộ dữ liệu và in từng giá trị:\n",
    "mytuple = (\"apple\", \"banana\", \"cherry\")\n",
    "myit = iter(mytuple)\n",
    "\n",
    "print(next(myit))\n",
    "print(next(myit))\n",
    "print(next(myit))"
   ]
  },
  {
   "cell_type": "markdown",
   "id": "87c4ed22-4da4-4472-89cf-60e0229eac35",
   "metadata": {},
   "source": [
    "Even strings are iterable objects, and can return an iterator:\n",
    "Ngay cả các chuỗi cũng là các đối tượng có thể lặp lại và có thể trả về một trình vòng lặp:"
   ]
  },
  {
   "cell_type": "code",
   "execution_count": 14,
   "id": "df94c381-e41b-4c66-afb4-cdc566e57c67",
   "metadata": {},
   "outputs": [
    {
     "name": "stdout",
     "output_type": "stream",
     "text": [
      "b\n",
      "a\n",
      "n\n",
      "a\n",
      "n\n",
      "a\n"
     ]
    }
   ],
   "source": [
    "# Strings are also iterable objects, containing a sequence of characters:\n",
    "# Chuỗi cũng là các đối tượng có thể lặp lại, chứa một chuỗi ký tự:\n",
    "mystr = \"banana\"\n",
    "myit = iter(mystr)\n",
    "\n",
    "print(next(myit))\n",
    "print(next(myit))\n",
    "print(next(myit))\n",
    "print(next(myit))\n",
    "print(next(myit))\n",
    "print(next(myit))"
   ]
  },
  {
   "cell_type": "markdown",
   "id": "85305234-ea7a-4ce9-96fc-e8e190ca6465",
   "metadata": {},
   "source": [
    "Looping Through an Iterator\n",
    "We can also use a for loop to iterate through an iterable object:\n",
    "Vòng lặp qua Iterator\n",
    "Chúng ta cũng có thể sử dụng vòng lặp for để lặp qua một đối tượng có thể lặp:"
   ]
  },
  {
   "cell_type": "code",
   "execution_count": 3,
   "id": "103d2c81-3018-4bcf-b65c-eab9025b77fe",
   "metadata": {},
   "outputs": [
    {
     "name": "stdout",
     "output_type": "stream",
     "text": [
      "apple\n",
      "banana\n",
      "cherry\n"
     ]
    }
   ],
   "source": [
    "# Iterate the values of a tuple:\n",
    "# Lặp lại các giá trị của một tuple:\n",
    "mytuple = (\"apple\", \"banana\", \"cherry\")\n",
    "\n",
    "for x in mytuple:\n",
    "  print(x)"
   ]
  },
  {
   "cell_type": "code",
   "execution_count": 4,
   "id": "a68c7f7a-48c8-47ac-96ae-a37622266373",
   "metadata": {},
   "outputs": [
    {
     "name": "stdout",
     "output_type": "stream",
     "text": [
      "b\n",
      "a\n",
      "n\n",
      "a\n",
      "n\n",
      "a\n"
     ]
    }
   ],
   "source": [
    "# Iterate the characters of a string:\n",
    "# Lặp lại các ký tự của một chuỗi:\n",
    "mystr = \"banana\"\n",
    "\n",
    "for x in mystr:\n",
    "  print(x)"
   ]
  },
  {
   "cell_type": "markdown",
   "id": "389985a8-e82b-4a7d-b53b-4a1bcb5a83c3",
   "metadata": {},
   "source": [
    "The for loop actually creates an iterator object and executes the next() method for each loop.\n",
    "Vòng lặp for thực sự tạo ra một đối tượng iterator và thực thi phương thức next() cho mỗi vòng lặp."
   ]
  },
  {
   "cell_type": "markdown",
   "id": "ffe97243-f7c3-4932-a7cb-e94d7f797eb0",
   "metadata": {},
   "source": [
    "Create an Iterator\n",
    "To create an object/class as an iterator you have to implement the methods __iter__() and __next__() to your object.\n",
    "As you have learned in the Python Classes/Objects chapter, all classes have a function called __init__(), which allows you to do some initializing when the object is being created.\n",
    "The __iter__() method acts similar, you can do operations (initializing etc.), but must always return the iterator object itself.\n",
    "The __next__() method also allows you to do operations, and must return the next item in the sequence.\n",
    "Tạo một Iterator\n",
    "Để tạo một đối tượng/lớp dưới dạng một trình vòng lặp, bạn phải triển khai các phương thức __iter__() và __next__() đối tượng của mình.\n",
    "Như bạn đã học trong chương Lớp/Đối tượng Python, tất cả các lớp đều có một hàm gọi là __init__(), hàm này cho phép bạn thực hiện một số khởi tạo khi đối tượng đang được tạo.\n",
    "Phương thức __iter__() hoạt động tương tự, bạn có thể thực hiện các thao tác (khởi tạo, v.v.), nhưng phải luôn trả về chính đối tượng iterator.\n",
    "Phương thức __next__() cũng cho phép bạn thực hiện các thao tác và phải trả về mục tiếp theo trong chuỗi."
   ]
  },
  {
   "cell_type": "code",
   "execution_count": 7,
   "id": "cbd79c8e-d1b0-4bb7-bcd6-fdbbbebff35e",
   "metadata": {},
   "outputs": [
    {
     "name": "stdout",
     "output_type": "stream",
     "text": [
      "1\n",
      "2\n",
      "3\n",
      "4\n",
      "5\n"
     ]
    }
   ],
   "source": [
    "# Create an iterator that returns numbers, starting with 1, and each sequence will increase by one (returning 1,2,3,4,5 etc.):\n",
    "# Tạo một trình vòng lặp trả về các số, bắt đầu bằng 1 và mỗi chuỗi sẽ tăng thêm một (trả về 1,2,3,4,5, v.v.):\n",
    "class MyNumbers:\n",
    "  def __iter__(self):\n",
    "    self.a = 1\n",
    "    return self\n",
    "\n",
    "  def __next__(self):\n",
    "    x = self.a\n",
    "    self.a += 1\n",
    "    return x\n",
    "\n",
    "myclass = MyNumbers()\n",
    "myiter = iter(myclass)\n",
    "\n",
    "print(next(myiter))\n",
    "print(next(myiter))\n",
    "print(next(myiter))\n",
    "print(next(myiter))\n",
    "print(next(myiter))"
   ]
  },
  {
   "cell_type": "markdown",
   "id": "2606c0ef-d70b-4c9a-93ab-c89901d30233",
   "metadata": {},
   "source": [
    "StopIteration\n",
    "The example above would continue forever if you had enough next() statements, or if it was used in a for loop.\n",
    "To prevent the iteration from going on forever, we can use the StopIteration statement.\n",
    "In the __next__() method, we can add a terminating condition to raise an error if the iteration is done a specified number of times:\n",
    "Dừng lại\n",
    "Ví dụ trên sẽ tiếp tục mãi mãi nếu bạn có đủ câu lệnh next() hoặc nếu nó được sử dụng trong một vòng lặp for.\n",
    "Để ngăn việc lặp lại diễn ra mãi mãi, chúng ta có thể sử dụng câu lệnh StopIteration.\n",
    "Trong phương thức __next__(), chúng ta có thể thêm điều kiện kết thúc để phát sinh lỗi nếu việc lặp lại được thực hiện một số lần xác định:"
   ]
  },
  {
   "cell_type": "code",
   "execution_count": 8,
   "id": "847fbe0a-7510-4c97-96e5-b89de8a755c1",
   "metadata": {},
   "outputs": [
    {
     "name": "stdout",
     "output_type": "stream",
     "text": [
      "1\n",
      "2\n",
      "3\n",
      "4\n",
      "5\n",
      "6\n",
      "7\n",
      "8\n",
      "9\n",
      "10\n",
      "11\n",
      "12\n",
      "13\n",
      "14\n",
      "15\n",
      "16\n",
      "17\n",
      "18\n",
      "19\n",
      "20\n"
     ]
    }
   ],
   "source": [
    "# Stop after 20 iterations:\n",
    "# Dừng sau 20 lần lặp:\n",
    "class MyNumbers:\n",
    "  def __iter__(self):\n",
    "    self.a = 1\n",
    "    return self\n",
    "\n",
    "  def __next__(self):\n",
    "    if self.a <= 20:\n",
    "      x = self.a\n",
    "      self.a += 1\n",
    "      return x\n",
    "    else:\n",
    "      raise StopIteration\n",
    "\n",
    "myclass = MyNumbers()\n",
    "myiter = iter(myclass)\n",
    "\n",
    "for x in myiter:\n",
    "  print(x)"
   ]
  },
  {
   "cell_type": "code",
   "execution_count": null,
   "id": "499e7624-abd2-431e-b501-0462ad674e9a",
   "metadata": {},
   "outputs": [],
   "source": []
  }
 ],
 "metadata": {
  "kernelspec": {
   "display_name": "Python 3 (ipykernel)",
   "language": "python",
   "name": "python3"
  },
  "language_info": {
   "codemirror_mode": {
    "name": "ipython",
    "version": 3
   },
   "file_extension": ".py",
   "mimetype": "text/x-python",
   "name": "python",
   "nbconvert_exporter": "python",
   "pygments_lexer": "ipython3",
   "version": "3.11.7"
  }
 },
 "nbformat": 4,
 "nbformat_minor": 5
}
