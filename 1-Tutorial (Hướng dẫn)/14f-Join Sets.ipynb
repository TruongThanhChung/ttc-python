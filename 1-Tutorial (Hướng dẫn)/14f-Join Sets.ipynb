{
 "cells": [
  {
   "cell_type": "markdown",
   "id": "6a3c1706-54b5-4ded-89ef-a52dc7e579d1",
   "metadata": {},
   "source": [
    "Join Sets\n",
    "There are several ways to join two or more sets in Python.\n",
    "The union() and update() methods joins all items from both sets.\n",
    "The intersection() method keeps ONLY the duplicates.\n",
    "The difference() method keeps the items from the first set that are not in the other set(s).\n",
    "The symmetric_difference() method keeps all items EXCEPT the duplicates.\n",
    "Nối sets\n",
    "Có một số cách để nối hai hoặc nhiều bộ trong Python.\n",
    "Các phương thức union()và update()nối tất cả các mục từ cả hai bộ.\n",
    "Phương thức intersection() CHỈ giữ các bản sao.\n",
    "Phương thức difference() giữ các mục từ bộ đầu tiên không có trong (các) bộ khác.\n",
    "Phương thức symmetric_difference() giữ tất cả các mục NGOẠI TRỪ các mục trùng lặp."
   ]
  },
  {
   "cell_type": "markdown",
   "id": "c8a54ce7-a8c3-4bd4-a50f-f69b9f19d044",
   "metadata": {},
   "source": [
    "Union\n",
    "The union() method returns a new set with all items from both sets.\n",
    "Liên hiệp\n",
    "Phương thức union() trả về một bộ mới với tất cả các mục từ cả hai bộ."
   ]
  },
  {
   "cell_type": "code",
   "execution_count": 1,
   "id": "39b54efb-8c97-4b7d-8158-7807f6ceb2fa",
   "metadata": {},
   "outputs": [
    {
     "name": "stdout",
     "output_type": "stream",
     "text": [
      "{1, 'a', 2, 3, 'c', 'b'}\n"
     ]
    }
   ],
   "source": [
    "# Join set1 and set2 into a new set:\n",
    "# Nối set1 và set2 thành một bộ mới:\n",
    "set1 = {\"a\", \"b\", \"c\"}\n",
    "set2 = {1, 2, 3}\n",
    "\n",
    "set3 = set1.union(set2)\n",
    "print(set3)"
   ]
  },
  {
   "cell_type": "code",
   "execution_count": 2,
   "id": "ad6ccab3-4799-4963-9780-47652077cf11",
   "metadata": {},
   "outputs": [
    {
     "name": "stdout",
     "output_type": "stream",
     "text": [
      "{1, 'a', 2, 3, 'c', 'b'}\n"
     ]
    }
   ],
   "source": [
    "# You can use the | operator instead of the union() method, and you will get the same result.\n",
    "# Bạn có thể sử dụng |toán tử thay vì union()phương thức và bạn sẽ nhận được kết quả tương tự.\n",
    "# Use | to join two sets:\n",
    "# Sử dụng |để nối hai bộ:\n",
    "set1 = {\"a\", \"b\", \"c\"}\n",
    "set2 = {1, 2, 3}\n",
    "\n",
    "set3 = set1 | set2\n",
    "print(set3)"
   ]
  },
  {
   "cell_type": "markdown",
   "id": "8fd36111-f446-41ab-890c-f6bd0e0b658c",
   "metadata": {},
   "source": [
    "Join Multiple Sets\n",
    "All the joining methods and operators can be used to join multiple sets.\n",
    "When using a method, just add more sets in the parentheses, separated by commas:\n",
    "Nối nhiều set\n",
    "Tất cả các phương thức và toán tử nối có thể được sử dụng để nối nhiều tập hợp.\n",
    "Khi sử dụng một phương thức, chỉ cần thêm nhiều bộ vào dấu ngoặc đơn, phân tách bằng dấu phẩy:"
   ]
  },
  {
   "cell_type": "code",
   "execution_count": 3,
   "id": "1f727b94-cf26-444e-b630-e69d72d96af5",
   "metadata": {},
   "outputs": [
    {
     "name": "stdout",
     "output_type": "stream",
     "text": [
      "{1, 'a', 2, 3, 'apple', 'cherry', 'bananas', 'c', 'John', 'Elena', 'b'}\n"
     ]
    }
   ],
   "source": [
    "# Join multiple sets with the union() method:\n",
    "# Tham gia nhiều bộ với union()phương thức:\n",
    "set1 = {\"a\", \"b\", \"c\"}\n",
    "set2 = {1, 2, 3}\n",
    "set3 = {\"John\", \"Elena\"}\n",
    "set4 = {\"apple\", \"bananas\", \"cherry\"}\n",
    "\n",
    "myset = set1.union(set2, set3, set4)\n",
    "print(myset)"
   ]
  },
  {
   "cell_type": "code",
   "execution_count": 4,
   "id": "b0a2e580-ca5b-40f5-9f66-1aecc11d245f",
   "metadata": {},
   "outputs": [
    {
     "name": "stdout",
     "output_type": "stream",
     "text": [
      "{1, 'a', 2, 3, 'apple', 'cherry', 'bananas', 'c', 'John', 'Elena', 'b'}\n"
     ]
    }
   ],
   "source": [
    "# When using the | operator, separate the sets with more | operators:\n",
    "# Khi sử dụng |toán tử, hãy tách các bộ có nhiều |toán tử hơn:\n",
    "set1 = {\"a\", \"b\", \"c\"}\n",
    "set2 = {1, 2, 3}\n",
    "set3 = {\"John\", \"Elena\"}\n",
    "set4 = {\"apple\", \"bananas\", \"cherry\"}\n",
    "\n",
    "myset = set1 | set2 | set3 |set4\n",
    "print(myset)"
   ]
  },
  {
   "cell_type": "markdown",
   "id": "c245896b-886e-429f-b98d-adfb30936749",
   "metadata": {},
   "source": [
    "Join a Set and a Tuple\n",
    "The union() method allows you to join a set with other data types, like lists or tuples.\n",
    "The result will be a set.\n",
    "Nối một Set và một Tuple\n",
    "Phương thức union() cho phép bạn nối một tập hợp với các loại dữ liệu khác, như danh sách hoặc bộ dữ liệu.\n",
    "Kết quả sẽ là một tập hợp."
   ]
  },
  {
   "cell_type": "code",
   "execution_count": 5,
   "id": "53ea788c-d7d1-4593-9387-eec18e5029e0",
   "metadata": {},
   "outputs": [
    {
     "name": "stdout",
     "output_type": "stream",
     "text": [
      "{1, 'a', 2, 3, 'c', 'b'}\n"
     ]
    }
   ],
   "source": [
    "# Join a set with a tuple:\n",
    "# Tham gia một bộ với một bộ dữ liệu:\n",
    "x = {\"a\", \"b\", \"c\"}\n",
    "y = (1, 2, 3)\n",
    "\n",
    "z = x.union(y)\n",
    "print(z)"
   ]
  },
  {
   "cell_type": "markdown",
   "id": "88d01a7c-93bb-4ef8-8b93-9d97a4985162",
   "metadata": {},
   "source": [
    "Note: The | operator only allows you to join sets with sets, and not with other data types like you can with the  union() method.\n",
    "Lưu ý: Toán tử | chỉ cho phép bạn nối các tập hợp với các tập hợp chứ không cho phép nối với các kiểu dữ liệu khác như bạn có thể làm với phương thức union()."
   ]
  },
  {
   "cell_type": "markdown",
   "id": "f5c95d5e-6498-4ce2-bd1d-9ec98bd7b3cc",
   "metadata": {},
   "source": [
    "Update\n",
    "The update() method inserts all items from one set into another.\n",
    "The update() changes the original set, and does not return a new set.\n",
    "Cập nhật\n",
    "Phương thức update() chèn tất cả các mục từ bộ này sang bộ khác.\n",
    "Thay update() đổi tập hợp ban đầu và không trả về tập hợp mới."
   ]
  },
  {
   "cell_type": "code",
   "execution_count": 6,
   "id": "b842368f-ee28-4841-aef7-5c737a1004bd",
   "metadata": {},
   "outputs": [
    {
     "name": "stdout",
     "output_type": "stream",
     "text": [
      "{1, 'a', 2, 3, 'c', 'b'}\n"
     ]
    }
   ],
   "source": [
    "# The update() method inserts the items in set2 into set1:\n",
    "# Phương update()thức chèn các mục trong set2 vào set1:\n",
    "set1 = {\"a\", \"b\" , \"c\"}\n",
    "set2 = {1, 2, 3}\n",
    "\n",
    "set1.update(set2)\n",
    "print(set1)"
   ]
  },
  {
   "cell_type": "markdown",
   "id": "21d5a60c-4d4e-47eb-9d1d-1cd020f553a0",
   "metadata": {},
   "source": [
    "Note: Both union() and update() will exclude any duplicate items.\n",
    "Lưu ý: Cả hai union() và update() sẽ loại trừ mọi mục trùng lặp."
   ]
  },
  {
   "cell_type": "markdown",
   "id": "509abd95-1b15-44db-bb1f-ae47ffa737ad",
   "metadata": {},
   "source": [
    "Intersection\n",
    "Keep ONLY the duplicates\n",
    "The intersection() method will return a new set, that only contains the items that are present in both sets.\n",
    "Ngã tư\n",
    "CHỈ giữ lại các bản sao\n",
    "Phương thức intersection() sẽ trả về một bộ mới, chỉ chứa các mục có trong cả hai bộ."
   ]
  },
  {
   "cell_type": "code",
   "execution_count": 7,
   "id": "1c436bf0-3bbc-405c-a436-7bc8d1dbabeb",
   "metadata": {},
   "outputs": [
    {
     "name": "stdout",
     "output_type": "stream",
     "text": [
      "{'apple'}\n"
     ]
    }
   ],
   "source": [
    "# Join set1 and set2, but keep only the duplicates:\n",
    "# Nối set1 và set2, nhưng chỉ giữ lại các bản sao:\n",
    "set1 = {\"apple\", \"banana\", \"cherry\"}\n",
    "set2 = {\"google\", \"microsoft\", \"apple\"}\n",
    "\n",
    "set3 = set1.intersection(set2)\n",
    "print(set3)"
   ]
  },
  {
   "cell_type": "markdown",
   "id": "4a3c4815-ec3b-40b7-82d1-6fb3890c6b76",
   "metadata": {},
   "source": [
    "You can use the & operator instead of the intersection() method, and you will get the same result.\n",
    "Bạn có thể sử dụng & toán tử thay vì phương thức intersection() và bạn sẽ nhận được kết quả tương tự."
   ]
  },
  {
   "cell_type": "code",
   "execution_count": 8,
   "id": "f956fdf4-8c46-4008-938e-5a67afe5fc1a",
   "metadata": {},
   "outputs": [
    {
     "name": "stdout",
     "output_type": "stream",
     "text": [
      "{'apple'}\n"
     ]
    }
   ],
   "source": [
    "# Use & to join two sets:\n",
    "# Sử dụng &để nối hai bộ:\n",
    "set1 = {\"apple\", \"banana\", \"cherry\"}\n",
    "set2 = {\"google\", \"microsoft\", \"apple\"}\n",
    "\n",
    "set3 = set1 & set2\n",
    "print(set3)"
   ]
  },
  {
   "cell_type": "markdown",
   "id": "497de579-11ab-418b-b96a-61b14db47aca",
   "metadata": {},
   "source": [
    "Note: The & operator only allows you to join sets with sets, and not with other data types like you can with the intersecton() method.\n",
    "Lưu ý: Toán tử & chỉ cho phép bạn nối các tập hợp với các tập hợp chứ không cho phép nối với các kiểu dữ liệu khác như bạn có thể làm với phương thức intersecton()."
   ]
  },
  {
   "cell_type": "markdown",
   "id": "2a46bdcc-1c32-467f-9262-7f6719d30264",
   "metadata": {},
   "source": [
    "The intersection_update() method will also keep ONLY the duplicates, but it will change the original set instead of returning a new set.\n",
    "Phương thức intersection_update() cũng sẽ CHỈ giữ lại các bản sao, nhưng nó sẽ thay đổi tập hợp ban đầu thay vì trả về một tập hợp mới."
   ]
  },
  {
   "cell_type": "code",
   "execution_count": 9,
   "id": "42c0de43-c74f-491e-a2a4-8e7b12665fde",
   "metadata": {},
   "outputs": [
    {
     "name": "stdout",
     "output_type": "stream",
     "text": [
      "{'apple'}\n"
     ]
    }
   ],
   "source": [
    "# Keep the items that exist in both set1, and set2:\n",
    "# Giữ các mục tồn tại trong cả hai set1và set2:\n",
    "set1 = {\"apple\", \"banana\", \"cherry\"}\n",
    "set2 = {\"google\", \"microsoft\", \"apple\"}\n",
    "\n",
    "set1.intersection_update(set2)\n",
    "\n",
    "print(set1)"
   ]
  },
  {
   "cell_type": "markdown",
   "id": "86ee648c-2ef9-48f8-96ad-49d885d76c75",
   "metadata": {},
   "source": [
    "The values True and 1 are considered the same value. The same goes for False and 0.\n",
    "Các giá trị True và 1 được coi là cùng một giá trị. Điều tương tự cũng xảy ra với False và 0."
   ]
  },
  {
   "cell_type": "code",
   "execution_count": 10,
   "id": "0c2c05cd-9c24-4848-a69a-ef1c094c0e13",
   "metadata": {},
   "outputs": [
    {
     "name": "stdout",
     "output_type": "stream",
     "text": [
      "{False, 1, 'apple'}\n"
     ]
    }
   ],
   "source": [
    "# Join sets that contains the values True, False, 1, and 0, and see what is considered as duplicates:\n",
    "# Tham gia các bộ chứa các giá trị True, False, 1và 0 và xem những gì được coi là trùng lặp:\n",
    "set1 = {\"apple\", 1,  \"banana\", 0, \"cherry\"}\n",
    "set2 = {False, \"google\", 1, \"apple\", 2, True}\n",
    "\n",
    "set3 = set1.intersection(set2)\n",
    "\n",
    "print(set3)"
   ]
  },
  {
   "cell_type": "markdown",
   "id": "647d1b20-b186-465e-8777-5bada54cbe6d",
   "metadata": {},
   "source": [
    "Difference\n",
    "The difference() method will return a new set that will contain only the items from the first set that are not present in the other set.\n",
    "Sự khác biệt\n",
    "Phương thức difference() sẽ trả về một tập hợp mới chỉ chứa các mục từ tập hợp đầu tiên không có trong tập hợp kia."
   ]
  },
  {
   "cell_type": "code",
   "execution_count": 11,
   "id": "fc4bbcf6-4c38-4a1f-b424-02445ccc162d",
   "metadata": {},
   "outputs": [
    {
     "name": "stdout",
     "output_type": "stream",
     "text": [
      "{'banana', 'cherry'}\n"
     ]
    }
   ],
   "source": [
    "# Keep all items from set1 that are not in set2:\n",
    "# Giữ tất cả các mục từ set1 không có trong set2:\n",
    "set1 = {\"apple\", \"banana\", \"cherry\"}\n",
    "set2 = {\"google\", \"microsoft\", \"apple\"}\n",
    "\n",
    "set3 = set1.difference(set2)\n",
    "\n",
    "print(set3)"
   ]
  },
  {
   "cell_type": "markdown",
   "id": "38eeac23-f319-47d2-b5dc-c40469ce1a33",
   "metadata": {},
   "source": [
    "You can use the - operator instead of the difference() method, and you will get the same result.\n",
    "Bạn có thể sử dụng toán tử - thay vì phương thức difference() và bạn sẽ nhận được kết quả tương tự."
   ]
  },
  {
   "cell_type": "code",
   "execution_count": 12,
   "id": "4231dbd4-17b0-4814-a95f-8ab5443ce6ee",
   "metadata": {},
   "outputs": [
    {
     "name": "stdout",
     "output_type": "stream",
     "text": [
      "{'banana', 'cherry'}\n"
     ]
    }
   ],
   "source": [
    "# Use - to join two sets:\n",
    "# Sử dụng -để nối hai bộ:\n",
    "set1 = {\"apple\", \"banana\", \"cherry\"}\n",
    "set2 = {\"google\", \"microsoft\", \"apple\"}\n",
    "\n",
    "set3 = set1 - set2\n",
    "print(set3)"
   ]
  },
  {
   "cell_type": "markdown",
   "id": "4c2e05c3-ca52-45c6-ac3f-524c1c90a0fe",
   "metadata": {},
   "source": [
    "Note: The - operator only allows you to join sets with sets, and not with other data types like you can with the difference() method.\n",
    "Lưu ý: Toán tử - chỉ cho phép bạn nối các tập hợp với các tập hợp chứ không cho phép nối với các kiểu dữ liệu khác như bạn có thể làm với phương thức difference()."
   ]
  },
  {
   "cell_type": "markdown",
   "id": "ebc2b414-0108-49f3-9fc5-8e305c1ea9db",
   "metadata": {},
   "source": [
    "The difference_update() method will also keep the items from the first set that are not in the other set, but it will change the original set instead of returning a new set.\n",
    "Phương thức difference_update()cũng sẽ giữ lại các mục từ bộ đầu tiên không có trong bộ khác, nhưng nó sẽ thay đổi bộ ban đầu thay vì trả về bộ mới."
   ]
  },
  {
   "cell_type": "code",
   "execution_count": 13,
   "id": "6dbf21be-f96d-4ee9-ae0e-0509cd671f39",
   "metadata": {},
   "outputs": [
    {
     "name": "stdout",
     "output_type": "stream",
     "text": [
      "{'banana', 'cherry'}\n"
     ]
    }
   ],
   "source": [
    "# Use the difference_update() method to keep the items that are not present in both sets:\n",
    "# Sử dụng difference_update()phương pháp này để giữ các mục không có trong cả hai bộ:\n",
    "set1 = {\"apple\", \"banana\", \"cherry\"}\n",
    "set2 = {\"google\", \"microsoft\", \"apple\"}\n",
    "\n",
    "set1.difference_update(set2)\n",
    "\n",
    "print(set1)"
   ]
  },
  {
   "cell_type": "markdown",
   "id": "4e6f6b68-22a5-4784-b3ed-a58e4dbc661c",
   "metadata": {},
   "source": [
    "Symmetric Differences\n",
    "The symmetric_difference() method will keep only the elements that are NOT present in both sets.\n",
    "Sự khác biệt đối xứng\n",
    "Phương thức symmetric_difference() sẽ chỉ giữ lại các phần tử KHÔNG có trong cả hai bộ."
   ]
  },
  {
   "cell_type": "code",
   "execution_count": 14,
   "id": "0a765c8c-3cac-419c-bb9c-030ba1172e2e",
   "metadata": {},
   "outputs": [
    {
     "name": "stdout",
     "output_type": "stream",
     "text": [
      "{'cherry', 'banana', 'microsoft', 'google'}\n"
     ]
    }
   ],
   "source": [
    "# Keep the items that are not present in both sets:\n",
    "# Giữ các mục không có trong cả hai bộ:\n",
    "set1 = {\"apple\", \"banana\", \"cherry\"}\n",
    "set2 = {\"google\", \"microsoft\", \"apple\"}\n",
    "\n",
    "set3 = set1.symmetric_difference(set2)\n",
    "\n",
    "print(set3)"
   ]
  },
  {
   "cell_type": "markdown",
   "id": "b892405c-1a5f-4514-9627-e968467d9f71",
   "metadata": {},
   "source": [
    "You can use the ^ operator instead of the symmetric_difference() method, and you will get the same result.\n",
    "Bạn có thể sử dụng toán tử ^ thay vì phương thức symmetric_difference() và bạn sẽ nhận được kết quả tương tự."
   ]
  },
  {
   "cell_type": "code",
   "execution_count": 15,
   "id": "1abce516-736d-49f0-951f-1ca821d1b4b6",
   "metadata": {},
   "outputs": [
    {
     "name": "stdout",
     "output_type": "stream",
     "text": [
      "{'cherry', 'banana', 'microsoft', 'google'}\n"
     ]
    }
   ],
   "source": [
    "# Use ^ to join two sets:\n",
    "# Sử dụng ^để nối hai bộ:\n",
    "set1 = {\"apple\", \"banana\", \"cherry\"}\n",
    "set2 = {\"google\", \"microsoft\", \"apple\"}\n",
    "\n",
    "set3 = set1 ^ set2\n",
    "print(set3)"
   ]
  },
  {
   "cell_type": "markdown",
   "id": "d69ef9cb-5141-45f4-a3b5-c9ee21cfd34e",
   "metadata": {},
   "source": [
    "Note: The ^ operator only allows you to join sets with sets, and not with other data types like you can with the symmetric_difference() method.\n",
    "Lưu ý: Toán tử ^ chỉ cho phép bạn nối các tập hợp với các tập hợp chứ không cho phép nối với các kiểu dữ liệu khác như bạn có thể làm với phương thức symmetric_difference()."
   ]
  },
  {
   "cell_type": "markdown",
   "id": "bc54ffa8-c9b5-4ab0-b6f6-c5ea4fed3a71",
   "metadata": {},
   "source": [
    "The symmetric_difference_update() method will also keep all but the duplicates, but it will change the original set instead of returning a new set.\n",
    "Phương thức symmetric_difference_update() cũng sẽ giữ lại tất cả trừ các bản sao, nhưng nó sẽ thay đổi tập hợp ban đầu thay vì trả về một tập hợp mới."
   ]
  },
  {
   "cell_type": "code",
   "execution_count": 16,
   "id": "c9c57502-3fbf-4dcb-b2c3-62b5fdab1381",
   "metadata": {},
   "outputs": [
    {
     "name": "stdout",
     "output_type": "stream",
     "text": [
      "{'cherry', 'banana', 'microsoft', 'google'}\n"
     ]
    }
   ],
   "source": [
    "# Use the symmetric_difference_update() method to keep the items that are not present in both sets:\n",
    "# Sử dụng symmetric_difference_update()phương pháp này để giữ các mục không có trong cả hai bộ:\n",
    "set1 = {\"apple\", \"banana\", \"cherry\"}\n",
    "set2 = {\"google\", \"microsoft\", \"apple\"}\n",
    "\n",
    "set1.symmetric_difference_update(set2)\n",
    "\n",
    "print(set1)"
   ]
  },
  {
   "cell_type": "code",
   "execution_count": null,
   "id": "f4a8d646-556d-4a69-ba54-083ebcb53782",
   "metadata": {},
   "outputs": [],
   "source": []
  }
 ],
 "metadata": {
  "kernelspec": {
   "display_name": "Python 3 (ipykernel)",
   "language": "python",
   "name": "python3"
  },
  "language_info": {
   "codemirror_mode": {
    "name": "ipython",
    "version": 3
   },
   "file_extension": ".py",
   "mimetype": "text/x-python",
   "name": "python",
   "nbconvert_exporter": "python",
   "pygments_lexer": "ipython3",
   "version": "3.11.7"
  }
 },
 "nbformat": 4,
 "nbformat_minor": 5
}
