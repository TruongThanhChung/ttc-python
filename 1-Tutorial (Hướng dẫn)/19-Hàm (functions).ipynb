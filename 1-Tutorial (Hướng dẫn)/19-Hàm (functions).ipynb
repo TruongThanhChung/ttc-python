{
 "cells": [
  {
   "cell_type": "markdown",
   "id": "3e1bee16-bc0a-4c0d-b860-597289238d87",
   "metadata": {},
   "source": [
    "A function is a block of code which only runs when it is called.\n",
    "You can pass data, known as parameters, into a function.\n",
    "A function can return data as a result.\n",
    "Hàm là một khối mã chỉ chạy khi được gọi.\n",
    "Bạn có thể truyền dữ liệu, được gọi là tham số, vào một hàm.\n",
    "Kết quả là một hàm có thể trả về dữ liệu."
   ]
  },
  {
   "cell_type": "markdown",
   "id": "0161ba9f-46fb-4339-a822-f2123a963847",
   "metadata": {},
   "source": [
    "# \n",
    "Creating a Function\n",
    "In Python a function is defined using the def keyword:\n",
    "\n",
    "# \n",
    "Tạo một hàm\n",
    "Trong Python, một hàm được định nghĩa bằng từ khóa def :"
   ]
  },
  {
   "cell_type": "code",
   "execution_count": 15,
   "id": "0598a788-7dac-4231-8d2e-757408c23f70",
   "metadata": {},
   "outputs": [
    {
     "name": "stdout",
     "output_type": "stream",
     "text": [
      "Hello from a function\n"
     ]
    }
   ],
   "source": [
    "def my_function():\n",
    "  print(\"Hello from a function\")\n",
    "my_function()"
   ]
  },
  {
   "cell_type": "markdown",
   "id": "f5c7cdc8-fb69-4807-a40c-47ae5d9041f8",
   "metadata": {},
   "source": [
    "# Calling a Function\n",
    "To call a function, use the function name followed by parenthesis:\n",
    "# Gọi một hàm\n",
    "Để gọi một hàm, hãy sử dụng tên hàm theo sau dấu ngoặc đơn:"
   ]
  },
  {
   "cell_type": "code",
   "execution_count": 16,
   "id": "010727ec-651b-4853-8b84-1b95acf36b24",
   "metadata": {},
   "outputs": [
    {
     "name": "stdout",
     "output_type": "stream",
     "text": [
      "Hello from a function\n"
     ]
    }
   ],
   "source": [
    "def my_function():\n",
    "  print(\"Hello from a function\")\n",
    "\n",
    "my_function()"
   ]
  },
  {
   "cell_type": "markdown",
   "id": "41e8d587-4222-49fc-a666-9396ff87b306",
   "metadata": {},
   "source": [
    "# Arguments\n",
    "Information can be passed into functions as arguments.\n",
    "Arguments are specified after the function name, inside the parentheses. You can add as many arguments as you want, just separate them with a comma.\n",
    "The following example has a function with one argument (fname). When the function is called, we pass along a first name, which is used inside the function to print the full name:\n",
    "\n",
    "# Tranh luận\n",
    "Thông tin có thể được chuyển vào các hàm dưới dạng đối số.\n",
    "Các đối số được chỉ định sau tên hàm, bên trong dấu ngoặc đơn. Bạn có thể thêm bao nhiêu đối số tùy thích, chỉ cần phân tách chúng bằng dấu phẩy.\n",
    "Ví dụ sau đây có một hàm có một đối số (fname). Khi hàm được gọi, chúng ta chuyển vào tên, tên này được sử dụng bên trong hàm để in tên đầy đủ:"
   ]
  },
  {
   "cell_type": "code",
   "execution_count": 18,
   "id": "808b75ce-f68d-4e9c-8b4e-b944bae68761",
   "metadata": {},
   "outputs": [
    {
     "name": "stdout",
     "output_type": "stream",
     "text": [
      "Emil Refsnes\n",
      "Tobias Refsnes\n",
      "Linus Refsnes\n"
     ]
    }
   ],
   "source": [
    "def my_function(fname):\n",
    "  print(fname + \" Refsnes\")\n",
    "\n",
    "my_function(\"Emil\")\n",
    "my_function(\"Tobias\")\n",
    "my_function(\"Linus\")"
   ]
  },
  {
   "cell_type": "markdown",
   "id": "f5d7d219-01d1-4624-bbb2-9b72552076ac",
   "metadata": {},
   "source": [
    "Arguments are often shortened to args in Python documentations.\n",
    "Các đối số thường được rút ngắn thành args trong tài liệu Python."
   ]
  },
  {
   "cell_type": "markdown",
   "id": "ada3cdbb-22f4-45e3-b310-1f307dd7cabb",
   "metadata": {},
   "source": [
    "# Parameters or Arguments?\n",
    "The terms parameter and argument can be used for the same thing: information that are passed into a function.\n",
    "From a function's perspective:\n",
    "A parameter is the variable listed inside the parentheses in the function definition.\n",
    "An argument is the value that is sent to the function when it is called.\n",
    "\n",
    "# Tham số hay đối số?\n",
    "Các thuật ngữ tham số và đối số có thể được sử dụng cho cùng một mục đích: thông tin được truyền vào hàm.\n",
    "Từ quan điểm của một chức năng:\n",
    "Tham số là biến được liệt kê bên trong dấu ngoặc đơn trong định nghĩa hàm.\n",
    "Đối số là giá trị được gửi đến hàm khi nó được gọi."
   ]
  },
  {
   "cell_type": "markdown",
   "id": "347c249b-fc44-42e4-949e-308030133883",
   "metadata": {},
   "source": [
    "# Number of Arguments\n",
    "By default, a function must be called with the correct number of arguments. Meaning that if your function expects 2 arguments, you have to call the function with 2 arguments, not more, and not less.\n",
    "# Số lượng đối số\n",
    "Theo mặc định, một hàm phải được gọi với số lượng đối số chính xác. Có nghĩa là nếu hàm của bạn cần có 2 đối số, bạn phải gọi hàm với 2 đối số, không nhiều hơn cũng không ít hơn."
   ]
  },
  {
   "cell_type": "code",
   "execution_count": 2,
   "id": "4073fd71-70a1-43cb-8265-5bf6ad6c66e6",
   "metadata": {},
   "outputs": [
    {
     "name": "stdout",
     "output_type": "stream",
     "text": [
      "Emil Refsnes\n"
     ]
    }
   ],
   "source": [
    "# This function expects 2 arguments, and gets 2 arguments:\n",
    "# Hàm này mong đợi 2 đối số và nhận được 2 đối số:\n",
    "def my_function(fname, lname):\n",
    "  print(fname + \" \" + lname)\n",
    "\n",
    "my_function(\"Emil\", \"Refsnes\")\n"
   ]
  },
  {
   "cell_type": "markdown",
   "id": "483a8f8a-9ba3-4e8a-8e31-6250dcedcca8",
   "metadata": {},
   "source": [
    "If you try to call the function with 1 or 3 arguments, you will get an error:\n",
    "Nếu bạn cố gắng gọi hàm với 1 hoặc 3 đối số, bạn sẽ gặp lỗi:"
   ]
  },
  {
   "cell_type": "code",
   "execution_count": 3,
   "id": "baf57544-b525-4bf3-a0dd-dda125162dd3",
   "metadata": {},
   "outputs": [
    {
     "ename": "TypeError",
     "evalue": "my_function() missing 1 required positional argument: 'lname'",
     "output_type": "error",
     "traceback": [
      "\u001b[1;31m---------------------------------------------------------------------------\u001b[0m",
      "\u001b[1;31mTypeError\u001b[0m                                 Traceback (most recent call last)",
      "Cell \u001b[1;32mIn[3], line 6\u001b[0m\n\u001b[0;32m      3\u001b[0m \u001b[38;5;28;01mdef\u001b[39;00m \u001b[38;5;21mmy_function\u001b[39m(fname, lname):\n\u001b[0;32m      4\u001b[0m   \u001b[38;5;28mprint\u001b[39m(fname \u001b[38;5;241m+\u001b[39m \u001b[38;5;124m\"\u001b[39m\u001b[38;5;124m \u001b[39m\u001b[38;5;124m\"\u001b[39m \u001b[38;5;241m+\u001b[39m lname)\n\u001b[1;32m----> 6\u001b[0m \u001b[43mmy_function\u001b[49m\u001b[43m(\u001b[49m\u001b[38;5;124;43m\"\u001b[39;49m\u001b[38;5;124;43mEmil\u001b[39;49m\u001b[38;5;124;43m\"\u001b[39;49m\u001b[43m)\u001b[49m\n",
      "\u001b[1;31mTypeError\u001b[0m: my_function() missing 1 required positional argument: 'lname'"
     ]
    }
   ],
   "source": [
    "# This function expects 2 arguments, but gets only 1:\n",
    "# Hàm này mong đợi 2 đối số nhưng chỉ nhận được 1:\n",
    "def my_function(fname, lname):\n",
    "  print(fname + \" \" + lname)\n",
    "\n",
    "my_function(\"Emil\")"
   ]
  },
  {
   "cell_type": "markdown",
   "id": "34d960de-3923-46fa-a1e4-69a510967b3a",
   "metadata": {},
   "source": [
    "# Arbitrary Arguments, *args\n",
    "If you do not know how many arguments that will be passed into your function, add a * before the parameter name in the function definition.\n",
    "This way the function will receive a tuple of arguments, and can access the items accordingly:\n",
    "\n",
    "# Lập luận tùy ý, *args\n",
    "Nếu bạn không biết có bao nhiêu đối số sẽ được truyền vào hàm của mình, hãy thêm a* trước tên tham số trong định nghĩa hàm.\n",
    "Bằng cách này, hàm sẽ nhận được một bộ đối số và có thể truy cập các mục tương ứng:"
   ]
  },
  {
   "cell_type": "code",
   "execution_count": 4,
   "id": "5cd60eaf-df96-4ac0-9e3c-4e686a5e6cdf",
   "metadata": {},
   "outputs": [
    {
     "name": "stdout",
     "output_type": "stream",
     "text": [
      "The youngest child is Linus\n"
     ]
    }
   ],
   "source": [
    "# If the number of arguments is unknown, add a * before the parameter name:\n",
    "# Nếu không xác định được số lượng đối số, hãy thêm a *trước tên tham số:\n",
    "def my_function(*kids):\n",
    "  print(\"The youngest child is \" + kids[2])\n",
    "\n",
    "my_function(\"Emil\", \"Tobias\", \"Linus\")"
   ]
  },
  {
   "cell_type": "markdown",
   "id": "20397020-e91e-44cf-9ad5-576079ddce82",
   "metadata": {},
   "source": [
    "Arbitrary Arguments are often shortened to *args in Python documentations.\n",
    "Đối số tùy ý thường được rút ngắn thành *args trong tài liệu Python."
   ]
  },
  {
   "cell_type": "markdown",
   "id": "8a7596ec-752b-4c54-a57e-18a9bc039de9",
   "metadata": {},
   "source": [
    "# Keyword Arguments\n",
    "You can also send arguments with the key = value syntax.\n",
    "This way the order of the arguments does not matter.\n",
    "\n",
    "# Đối số từ khóa\n",
    "Bạn cũng có thể gửi đối số bằng cú pháp key = value .\n",
    "Bằng cách này, thứ tự của các đối số không quan trọng."
   ]
  },
  {
   "cell_type": "code",
   "execution_count": 5,
   "id": "5c380e82-5012-4dc7-8a5a-48af7b2f38b0",
   "metadata": {},
   "outputs": [
    {
     "name": "stdout",
     "output_type": "stream",
     "text": [
      "The youngest child is Linus\n"
     ]
    }
   ],
   "source": [
    "def my_function(child3, child2, child1):\n",
    "  print(\"The youngest child is \" + child3)\n",
    "\n",
    "my_function(child1 = \"Emil\", child2 = \"Tobias\", child3 = \"Linus\")"
   ]
  },
  {
   "cell_type": "markdown",
   "id": "47e84721-db38-422e-8566-99c2056d8c49",
   "metadata": {},
   "source": [
    "The phrase Keyword Arguments are often shortened to kwargs in Python documentations.\n",
    "Cụm từ Đối số từ khóa thường được rút ngắn thành kwargs trong tài liệu Python."
   ]
  },
  {
   "cell_type": "markdown",
   "id": "9dc46273-122b-4b0d-8959-53aaf6ee73e3",
   "metadata": {},
   "source": [
    "# Arbitrary Keyword Arguments, **kwargs\n",
    "If you do not know how many keyword arguments that will be passed into your function, add two asterisk: ** before the parameter name in the function definition.\n",
    "This way the function will receive a dictionary of arguments, and can access the items accordingly:\n",
    "\n",
    "# Đối số từ khóa tùy ý, **kwargs\n",
    "Nếu bạn không biết có bao nhiêu đối số từ khóa sẽ được truyền vào hàm của mình, hãy thêm hai dấu hoa thị: **trước tên tham số trong định nghĩa hàm.\n",
    "Bằng cách này, hàm sẽ nhận được một từ điển các đối số và có thể truy cập các mục tương ứng:"
   ]
  },
  {
   "cell_type": "code",
   "execution_count": 19,
   "id": "70bde2d9-7079-42c1-a1f1-e8a663273b6e",
   "metadata": {},
   "outputs": [
    {
     "name": "stdout",
     "output_type": "stream",
     "text": [
      "His last name is Refsnes\n"
     ]
    }
   ],
   "source": [
    "# If the number of keyword arguments is unknown, add a double ** before the parameter name:\n",
    "# Nếu không xác định được số lượng đối số từ khóa, hãy thêm double ** trước tên tham số:\n",
    "def my_function(**kid):\n",
    "  print(\"His last name is \" + kid[\"lname\"])\n",
    "\n",
    "my_function(fname = \"Tobias\", lname = \"Refsnes\")"
   ]
  },
  {
   "cell_type": "markdown",
   "id": "a790ceaa-3c54-4cac-8df7-1d7f7cfce07a",
   "metadata": {},
   "source": [
    "Arbitrary Kword Arguments are often shortened to **kwargs in Python documentations.\n",
    "Đối số Kword tùy ý thường được rút ngắn thành **kwargs trong tài liệu Python."
   ]
  },
  {
   "cell_type": "markdown",
   "id": "cd2c4340-a6de-48fe-a4a2-6c9d6fef017b",
   "metadata": {},
   "source": [
    "# Default Parameter Value\n",
    "The following example shows how to use a default parameter value.\n",
    "If we call the function without argument, it uses the default value:\n",
    "# Giá trị tham số mặc định\n",
    "Ví dụ sau đây cho thấy cách sử dụng giá trị tham số mặc định.\n",
    "Nếu chúng ta gọi hàm mà không có đối số, nó sẽ sử dụng giá trị mặc định:"
   ]
  },
  {
   "cell_type": "code",
   "execution_count": 6,
   "id": "54c99568-5df7-4a5e-94a0-8b90b5cd59b8",
   "metadata": {},
   "outputs": [
    {
     "name": "stdout",
     "output_type": "stream",
     "text": [
      "I am from Sweden\n",
      "I am from India\n",
      "I am from Norway\n",
      "I am from Brazil\n"
     ]
    }
   ],
   "source": [
    "def my_function(country = \"Norway\"):\n",
    "  print(\"I am from \" + country)\n",
    "\n",
    "my_function(\"Sweden\")\n",
    "my_function(\"India\")\n",
    "my_function()\n",
    "my_function(\"Brazil\")"
   ]
  },
  {
   "cell_type": "markdown",
   "id": "9f35e319-c4d8-4634-ac7c-c963430128c5",
   "metadata": {},
   "source": [
    "# Passing a List as an Argument\n",
    "You can send any data types of argument to a function (string, number, list, dictionary etc.), and it will be treated as the same data type inside the function.\n",
    "E.g. if you send a List as an argument, it will still be a List when it reaches the function:\n",
    "\n",
    "# Truyền một danh sách dưới dạng đối số\n",
    "Bạn có thể gửi bất kỳ loại đối số dữ liệu nào tới một hàm (chuỗi, số, danh sách, từ điển, v.v.) và nó sẽ được coi là cùng một loại dữ liệu bên trong hàm.\n",
    "Ví dụ: nếu bạn gửi Danh sách làm đối số, nó vẫn sẽ là Danh sách khi đến hàm:"
   ]
  },
  {
   "cell_type": "code",
   "execution_count": 7,
   "id": "e75b0251-2d24-4ced-8728-34355f57c68e",
   "metadata": {},
   "outputs": [
    {
     "name": "stdout",
     "output_type": "stream",
     "text": [
      "apple\n",
      "banana\n",
      "cherry\n"
     ]
    }
   ],
   "source": [
    "def my_function(food):\n",
    "  for x in food:\n",
    "    print(x)\n",
    "\n",
    "fruits = [\"apple\", \"banana\", \"cherry\"]\n",
    "\n",
    "my_function(fruits)"
   ]
  },
  {
   "cell_type": "markdown",
   "id": "132322a1-c868-4514-9b3e-ebc6d151530a",
   "metadata": {},
   "source": [
    "# Return Values\n",
    "To let a function return a value, use the return statement:\n",
    "# Giá trị trả về\n",
    "Để cho phép hàm trả về một giá trị, hãy sử dụng câu return lệnh:"
   ]
  },
  {
   "cell_type": "code",
   "execution_count": 8,
   "id": "05ccc1f5-575a-4aa3-b1cb-c92c970c3291",
   "metadata": {},
   "outputs": [
    {
     "name": "stdout",
     "output_type": "stream",
     "text": [
      "15\n",
      "25\n",
      "45\n"
     ]
    }
   ],
   "source": [
    "def my_function(x):\n",
    "  return 5 * x\n",
    "\n",
    "print(my_function(3))\n",
    "print(my_function(5))\n",
    "print(my_function(9))"
   ]
  },
  {
   "cell_type": "markdown",
   "id": "0fad8afc-4292-47c4-b4a3-a7af23f614ae",
   "metadata": {},
   "source": [
    "# The pass Statement\n",
    "function definitions cannot be empty, but if you for some reason have a function definition with no content, put in the pass statement to avoid getting an error.\n",
    "# Tuyên bố vượt qua\n",
    "function định nghĩa không được để trống, nhưng nếu vì lý do nào đó bạn có function định nghĩa không có nội dung thì hãy đưa vào pass câu lệnh để tránh bị lỗi."
   ]
  },
  {
   "cell_type": "code",
   "execution_count": null,
   "id": "b309ef51-fe65-4201-bf6c-ca591d766b20",
   "metadata": {},
   "outputs": [],
   "source": [
    "def myfunction():\n",
    "  pass"
   ]
  },
  {
   "cell_type": "markdown",
   "id": "db6569b1-a9eb-45bb-924b-9f6a592d6265",
   "metadata": {},
   "source": [
    "# Positional-Only Arguments\n",
    "You can specify that a function can have ONLY positional arguments, or ONLY keyword arguments.\n",
    "To specify that a function can have only positional arguments, add , / after the arguments:\n",
    "\n",
    "# Đối số chỉ có vị trí\n",
    "Bạn có thể chỉ định rằng một hàm CHỈ có thể có đối số vị trí hoặc CHỈ đối số từ khóa.\n",
    "Để chỉ định rằng một hàm chỉ có thể có các đối số vị trí, hãy thêm vào , / sau các đối số:"
   ]
  },
  {
   "cell_type": "code",
   "execution_count": 9,
   "id": "a6120af2-0f0c-43c1-bd67-df547298dafd",
   "metadata": {},
   "outputs": [
    {
     "name": "stdout",
     "output_type": "stream",
     "text": [
      "3\n"
     ]
    }
   ],
   "source": [
    "def my_function(x, /):\n",
    "  print(x)\n",
    "\n",
    "my_function(3)"
   ]
  },
  {
   "cell_type": "markdown",
   "id": "f1080e09-01d0-4bb0-ad18-a624bc6a3e71",
   "metadata": {},
   "source": [
    "Without the , / you are actually allowed to use keyword arguments even if the function expects positional arguments:\n",
    "Nếu không có , / bạn thực sự được phép sử dụng các đối số từ khóa ngay cả khi hàm mong đợi các đối số vị trí:"
   ]
  },
  {
   "cell_type": "code",
   "execution_count": 10,
   "id": "61cfa99f-fee1-4e3a-99d1-71e5a2141e21",
   "metadata": {},
   "outputs": [
    {
     "name": "stdout",
     "output_type": "stream",
     "text": [
      "3\n"
     ]
    }
   ],
   "source": [
    "def my_function(x):\n",
    "  print(x)\n",
    "\n",
    "my_function(x = 3)"
   ]
  },
  {
   "cell_type": "markdown",
   "id": "1a0b779d-4e28-4877-9033-f4cd4c7c05e6",
   "metadata": {},
   "source": [
    "But when adding the , / you will get an error if you try to send a keyword argument:\n",
    "Nhưng khi thêm, , / bạn sẽ gặp lỗi nếu cố gửi đối số từ khóa:"
   ]
  },
  {
   "cell_type": "code",
   "execution_count": 11,
   "id": "11f72990-baef-417d-a322-af3b89645c56",
   "metadata": {},
   "outputs": [
    {
     "ename": "TypeError",
     "evalue": "my_function() got some positional-only arguments passed as keyword arguments: 'x'",
     "output_type": "error",
     "traceback": [
      "\u001b[1;31m---------------------------------------------------------------------------\u001b[0m",
      "\u001b[1;31mTypeError\u001b[0m                                 Traceback (most recent call last)",
      "Cell \u001b[1;32mIn[11], line 4\u001b[0m\n\u001b[0;32m      1\u001b[0m \u001b[38;5;28;01mdef\u001b[39;00m \u001b[38;5;21mmy_function\u001b[39m(x, \u001b[38;5;241m/\u001b[39m):\n\u001b[0;32m      2\u001b[0m   \u001b[38;5;28mprint\u001b[39m(x)\n\u001b[1;32m----> 4\u001b[0m \u001b[43mmy_function\u001b[49m\u001b[43m(\u001b[49m\u001b[43mx\u001b[49m\u001b[43m \u001b[49m\u001b[38;5;241;43m=\u001b[39;49m\u001b[43m \u001b[49m\u001b[38;5;241;43m3\u001b[39;49m\u001b[43m)\u001b[49m\n",
      "\u001b[1;31mTypeError\u001b[0m: my_function() got some positional-only arguments passed as keyword arguments: 'x'"
     ]
    }
   ],
   "source": [
    "def my_function(x, /):\n",
    "  print(x)\n",
    "\n",
    "my_function(x = 3)"
   ]
  },
  {
   "cell_type": "markdown",
   "id": "476575d3-f455-45ec-a0ea-23544f1f56ac",
   "metadata": {},
   "source": [
    "# Keyword-Only Arguments\n",
    "To specify that a function can have only keyword arguments, add *, before the arguments:\n",
    "# Đối số chỉ từ khóa\n",
    "Để chỉ định rằng một hàm chỉ có thể có các đối số từ khóa, hãy thêm vào *, trước các đối số:"
   ]
  },
  {
   "cell_type": "code",
   "execution_count": 12,
   "id": "34378811-f127-485c-84f6-9f759b72a246",
   "metadata": {},
   "outputs": [
    {
     "name": "stdout",
     "output_type": "stream",
     "text": [
      "3\n"
     ]
    }
   ],
   "source": [
    "def my_function(*, x):\n",
    "  print(x)\n",
    "\n",
    "my_function(x = 3)"
   ]
  },
  {
   "cell_type": "markdown",
   "id": "8a270172-dfc0-4bff-8599-f07d3cd72ea6",
   "metadata": {},
   "source": [
    "Without the *, you are allowed to use positionale arguments even if the function expects keyword arguments:\n",
    "Nếu không có, *, bạn được phép sử dụng các đối số vị trí ngay cả khi hàm mong đợi các đối số từ khóa:"
   ]
  },
  {
   "cell_type": "markdown",
   "id": "eba7d89b-13b7-4e1d-91a1-d4f4ba53975a",
   "metadata": {},
   "source": [
    "But when adding the *, / you will get an error if you try to send a positional argument:\n",
    "Nhưng khi thêm, *, / bạn sẽ gặp lỗi nếu cố gửi một đối số vị trí:"
   ]
  },
  {
   "cell_type": "code",
   "execution_count": 13,
   "id": "570b250a-12d3-499b-b0d3-b36a40115e83",
   "metadata": {},
   "outputs": [
    {
     "ename": "TypeError",
     "evalue": "my_function() takes 0 positional arguments but 1 was given",
     "output_type": "error",
     "traceback": [
      "\u001b[1;31m---------------------------------------------------------------------------\u001b[0m",
      "\u001b[1;31mTypeError\u001b[0m                                 Traceback (most recent call last)",
      "Cell \u001b[1;32mIn[13], line 4\u001b[0m\n\u001b[0;32m      1\u001b[0m \u001b[38;5;28;01mdef\u001b[39;00m \u001b[38;5;21mmy_function\u001b[39m(\u001b[38;5;241m*\u001b[39m, x):\n\u001b[0;32m      2\u001b[0m   \u001b[38;5;28mprint\u001b[39m(x)\n\u001b[1;32m----> 4\u001b[0m \u001b[43mmy_function\u001b[49m\u001b[43m(\u001b[49m\u001b[38;5;241;43m3\u001b[39;49m\u001b[43m)\u001b[49m\n",
      "\u001b[1;31mTypeError\u001b[0m: my_function() takes 0 positional arguments but 1 was given"
     ]
    }
   ],
   "source": [
    "def my_function(*, x):\n",
    "  print(x)\n",
    "\n",
    "my_function(3)"
   ]
  },
  {
   "cell_type": "markdown",
   "id": "bb2779de-a562-48be-a77e-b27aa9a44841",
   "metadata": {},
   "source": [
    "# Combine Positional-Only and Keyword-Only\n",
    "You can combine the two argument types in the same function.\n",
    "Any argument before the / , are positional-only, and any argument after the *, are keyword-only.\n",
    "\n",
    "# Kết hợp Chỉ theo vị trí và Chỉ từ khóa\n",
    "Bạn có thể kết hợp hai loại đối số trong cùng một hàm.\n",
    "Bất kỳ đối số nào trước chỉ / , là vị trí và bất kỳ đối số nào sau chỉ *, là từ khóa."
   ]
  },
  {
   "cell_type": "code",
   "execution_count": 14,
   "id": "2382a4ed-cac4-45e3-bd8d-9a749c78f155",
   "metadata": {},
   "outputs": [
    {
     "name": "stdout",
     "output_type": "stream",
     "text": [
      "26\n"
     ]
    }
   ],
   "source": [
    "def my_function(a, b, /, *, c, d):\n",
    "  print(a + b + c + d)\n",
    "\n",
    "my_function(5, 6, c = 7, d = 8)"
   ]
  },
  {
   "cell_type": "markdown",
   "id": "4955664d-4a06-4059-abb3-7c70cffbf0c3",
   "metadata": {},
   "source": [
    "# Recursion\n",
    "Python also accepts function recursion, which means a defined function can call itself.\n",
    "Recursion is a common mathematical and programming concept. It means that a function calls itself. This has the benefit of meaning that you can loop through data to reach a result.\n",
    "The developer should be very careful with recursion as it can be quite easy to slip into writing a function which never terminates, or one that uses excess amounts of memory or processor power. However, when written correctly recursion can be a very efficient and mathematically-elegant approach to programming.\n",
    "In this example, tri_recursion() is a function that we have defined to call itself (\"recurse\"). We use the k variable as the data, which decrements (-1) every time we recurse. The recursion ends when the condition is not greater than 0 (i.e. when it is 0).\n",
    "To a new developer it can take some time to work out how exactly this works, best way to find out is by testing and modifying it.\n",
    "\n",
    "# đệ quy\n",
    "Python cũng chấp nhận đệ quy hàm, có nghĩa là một hàm được xác định có thể gọi chính nó.\n",
    "Đệ quy là một khái niệm toán học và lập trình phổ biến. Nó có nghĩa là một hàm sẽ gọi chính nó. Điều này có lợi là bạn có thể lặp qua dữ liệu để đạt được kết quả.\n",
    "Nhà phát triển phải hết sức cẩn thận với đệ quy vì có thể khá dễ dàng viết một hàm không bao giờ kết thúc hoặc một hàm sử dụng quá nhiều bộ nhớ hoặc sức mạnh bộ xử lý. Tuy nhiên, khi được viết chính xác, đệ quy có thể là một cách tiếp cận lập trình rất hiệu quả và tinh tế về mặt toán học.\n",
    "Trong ví dụ này, tri_recursion() là một hàm mà chúng ta đã xác định để gọi chính nó (\"recurse\"). Chúng tôi sử dụng biến k làm dữ liệu, biến này sẽ giảm ( -1 ) mỗi lần chúng tôi lặp lại. Quá trình đệ quy kết thúc khi điều kiện không lớn hơn 0 (tức là khi nó bằng 0).\n",
    "Đối với một nhà phát triển mới, có thể mất một chút thời gian để tìm ra cách thức hoạt động chính xác của nó, cách tốt nhất để tìm hiểu là thử nghiệm và sửa đổi nó."
   ]
  },
  {
   "cell_type": "code",
   "execution_count": 20,
   "id": "a717848e-1904-4df5-b823-79c9e62088f6",
   "metadata": {},
   "outputs": [
    {
     "name": "stdout",
     "output_type": "stream",
     "text": [
      "\n",
      "\n",
      "Recursion Example Results\n",
      "1\n",
      "3\n",
      "6\n",
      "10\n",
      "15\n",
      "21\n"
     ]
    },
    {
     "data": {
      "text/plain": [
       "21"
      ]
     },
     "execution_count": 20,
     "metadata": {},
     "output_type": "execute_result"
    }
   ],
   "source": [
    "# Recursion Example\n",
    "# Ví dụ đệ quy\n",
    "def tri_recursion(k):\n",
    "  if(k > 0):\n",
    "    result = k + tri_recursion(k - 1)\n",
    "    print(result)\n",
    "  else:\n",
    "    result = 0\n",
    "  return result\n",
    "\n",
    "print(\"\\n\\nRecursion Example Results\")\n",
    "tri_recursion(6)"
   ]
  },
  {
   "cell_type": "code",
   "execution_count": null,
   "id": "617aef73-d46d-488b-a5e8-b0f67ca4b572",
   "metadata": {},
   "outputs": [],
   "source": []
  }
 ],
 "metadata": {
  "kernelspec": {
   "display_name": "Python 3 (ipykernel)",
   "language": "python",
   "name": "python3"
  },
  "language_info": {
   "codemirror_mode": {
    "name": "ipython",
    "version": 3
   },
   "file_extension": ".py",
   "mimetype": "text/x-python",
   "name": "python",
   "nbconvert_exporter": "python",
   "pygments_lexer": "ipython3",
   "version": "3.12.3"
  }
 },
 "nbformat": 4,
 "nbformat_minor": 5
}
