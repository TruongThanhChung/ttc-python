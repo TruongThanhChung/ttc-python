{
 "cells": [
  {
   "cell_type": "markdown",
   "id": "6416df41-7f89-4eac-b593-09f5b70c680c",
   "metadata": {},
   "source": [
    "Python Dates\n",
    "A date in Python is not a data type of its own, but we can import a module named datetime to work with dates as date objects.\n",
    "Ngày của Python\n",
    "Ngày tháng trong Python không phải là một kiểu dữ liệu riêng, nhưng chúng ta có thể nhập một mô-đun có tên datetime để làm việc với ngày tháng làm đối tượng ngày tháng."
   ]
  },
  {
   "cell_type": "code",
   "execution_count": 1,
   "id": "d7b3cd5e-4a51-4da5-b5ff-3c011ceaa12d",
   "metadata": {},
   "outputs": [
    {
     "name": "stdout",
     "output_type": "stream",
     "text": [
      "2024-05-02 14:36:39.302456\n"
     ]
    }
   ],
   "source": [
    "# Import the datetime module and display the current date:\n",
    "# Nhập mô-đun datetime và hiển thị ngày hiện tại:\n",
    "import datetime\n",
    "x = datetime.datetime.now()\n",
    "print(x)"
   ]
  },
  {
   "cell_type": "markdown",
   "id": "4c1d0b5e-07d5-402c-9b6c-8e2d2ae17841",
   "metadata": {},
   "source": [
    "Date Output\n",
    "When we execute the code from the example above the result will be:\n",
    "2024-05-02 14:34:37.857955\n",
    "The date contains year, month, day, hour, minute, second, and microsecond.\n",
    "The datetime module has many methods to return information about the date object.\n",
    "Here are a few examples, you will learn more about them later in this chapter:\n",
    "Ngày đầu ra\n",
    "Khi chúng ta thực thi đoạn mã từ ví dụ trên, kết quả sẽ là:\n",
    "2024-05-02 14:34:40.195320\n",
    "Ngày chứa năm, tháng, ngày, giờ, phút, giây và micro giây.\n",
    "Module datetime có nhiều phương thức để trả về thông tin về đối tượng date.\n",
    "Dưới đây là một vài ví dụ, bạn sẽ tìm hiểu thêm về chúng ở phần sau của chương này:"
   ]
  },
  {
   "cell_type": "code",
   "execution_count": 2,
   "id": "4f17ee79-1339-4315-b0f9-0ae1076d8ee7",
   "metadata": {},
   "outputs": [
    {
     "name": "stdout",
     "output_type": "stream",
     "text": [
      "2024\n",
      "Thursday\n"
     ]
    }
   ],
   "source": [
    "# Return the year and name of weekday:\n",
    "# Trả về năm và tên ngày trong tuần:\n",
    "import datetime\n",
    "\n",
    "x = datetime.datetime.now()\n",
    "\n",
    "print(x.year)\n",
    "print(x.strftime(\"%A\"))"
   ]
  },
  {
   "cell_type": "markdown",
   "id": "404ce988-1ee7-43e9-aeb6-2f5a5657fc5f",
   "metadata": {},
   "source": [
    "Creating Date Objects\n",
    "To create a date, we can use the datetime() class (constructor) of the datetime module.\n",
    "The datetime() class requires three parameters to create a date: year, month, day.\n",
    "Tạo đối tượng ngày\n",
    "Để tạo một ngày, chúng ta có thể sử dụng lớp (hàm tạo) datetime() của datetime mô-đun.\n",
    "Lớp datetime() yêu cầu ba tham số để tạo ngày: năm, tháng, ngày."
   ]
  },
  {
   "cell_type": "code",
   "execution_count": 3,
   "id": "0418a930-6bd7-410b-947f-d1bea19e73be",
   "metadata": {},
   "outputs": [
    {
     "name": "stdout",
     "output_type": "stream",
     "text": [
      "2020-05-17 00:00:00\n"
     ]
    }
   ],
   "source": [
    "# Create a date object:\n",
    "# Tạo một đối tượng ngày:\n",
    "import datetime\n",
    "\n",
    "x = datetime.datetime(2020, 5, 17)\n",
    "\n",
    "print(x)"
   ]
  },
  {
   "cell_type": "markdown",
   "id": "2f71d0b6-b76e-402c-b276-20a80bde9644",
   "metadata": {},
   "source": [
    "The datetime() class also takes parameters for time and timezone (hour, minute, second, microsecond, tzone), but they are optional, and has a default value of 0, (None for timezone).\n",
    "Lớp datetime() cũng lấy các tham số về thời gian và múi giờ (giờ, phút, giây, micro giây, tzone), nhưng chúng là tùy chọn và có giá trị mặc định là 0, (None cho múi giờ)."
   ]
  },
  {
   "cell_type": "markdown",
   "id": "d51cc70b-12bb-4aba-8119-f74f2b563d9c",
   "metadata": {},
   "source": [
    "The strftime() Method\n",
    "The datetime object has a method for formatting date objects into readable strings.\n",
    "The method is called strftime(), and takes one parameter, format, to specify the format of the returned string:\n",
    "Phương thức strftime()\n",
    "Đối tượng datetime có một phương thức để định dạng các đối tượng ngày tháng thành các chuỗi có thể đọc được.\n",
    "Phương thức này được gọi strftime() và lấy một tham số, format, để chỉ định định dạng của chuỗi trả về:"
   ]
  },
  {
   "cell_type": "code",
   "execution_count": 4,
   "id": "ea67f105-9c52-4963-bfb4-fbc00ca15af2",
   "metadata": {},
   "outputs": [
    {
     "name": "stdout",
     "output_type": "stream",
     "text": [
      "June\n"
     ]
    }
   ],
   "source": [
    "# Display the name of the month:\n",
    "# Hiển thị tên tháng:\n",
    "import datetime\n",
    "\n",
    "x = datetime.datetime(2018, 6, 1)\n",
    "\n",
    "print(x.strftime(\"%B\"))"
   ]
  },
  {
   "cell_type": "markdown",
   "id": "6395539d-9b53-47f4-99a0-18f901066642",
   "metadata": {},
   "source": [
    "A reference of all the legal format codes:\n",
    "Một tài liệu tham khảo của tất cả các mã định dạng pháp lý:"
   ]
  },
  {
   "cell_type": "markdown",
   "id": "d6619fcd-38be-41f0-a88b-996c6c045a36",
   "metadata": {},
   "source": [
    "Directive\tDescription\t                                                    Example\t\n",
    "%a\t        Weekday, short version\t                                        Wed\t\n",
    "%A\t        Weekday, full version\t                                        Wednesday\t\n",
    "%w\t        Weekday as a number 0-6, 0 is Sunday\t                        3\t\n",
    "%d\t        Day of month 01-31\t                                            31\t\n",
    "%b          Month name, short version\t                                    Dec\t\n",
    "%B\t        Month name, full version\t                                    December\t\n",
    "%m\t        Month as a number 01-12\t                                        12\t\n",
    "%y\t        Year, short version, without century\t                        18\t\n",
    "%Y\t        Year, full version\t                                            2018\t\n",
    "%H\t        Hour 00-23\t                                                    17\t\n",
    "%I\t        Hour 00-12\t                                                    05\t\n",
    "%p\t        AM/PM\t                                                        PM\t\n",
    "%M\t        Minute 00-59\t                                                41\t\n",
    "%S\t        Second 00-59\t                                                08\t\n",
    "%f\t        Microsecond 000000-999999\t                                    548513\t\n",
    "%z\t        UTC offset\t                                                    +0100\t\n",
    "%Z\t        Timezone\t                                                    CST\t\n",
    "%j\t        Day number of year 001-366\t                                    365\t\n",
    "%U\t        Week number of year, Sunday as the first day of week, 00-53\t    52\t\n",
    "%W\t        Week number of year, Monday as the first day of week, 00-53\t    52\t\n",
    "%c\t        Local version of date and time\t                                Mon Dec 31 17:41:00 2018\t\n",
    "%C\t        Century\t                                                        20\t\n",
    "%x\t        Local version of date\t                                        12/31/18\t\n",
    "%X\t        Local version of time\t                                        17:41:00\t\n",
    "%%\t        A % character\t                                                %\t\n",
    "%G\t        ISO 8601 year\t                                                2018\t\n",
    "%u\t        ISO 8601 weekday (1-7)\t                                        1\t\n",
    "%V\t        ISO 8601 weeknumber (01-53)\t                                    01"
   ]
  }
 ],
 "metadata": {
  "kernelspec": {
   "display_name": "Python 3 (ipykernel)",
   "language": "python",
   "name": "python3"
  },
  "language_info": {
   "codemirror_mode": {
    "name": "ipython",
    "version": 3
   },
   "file_extension": ".py",
   "mimetype": "text/x-python",
   "name": "python",
   "nbconvert_exporter": "python",
   "pygments_lexer": "ipython3",
   "version": "3.11.7"
  }
 },
 "nbformat": 4,
 "nbformat_minor": 5
}
