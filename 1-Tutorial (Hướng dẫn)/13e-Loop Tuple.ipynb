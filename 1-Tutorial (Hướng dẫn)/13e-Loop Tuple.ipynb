{
 "cells": [
  {
   "cell_type": "markdown",
   "id": "a03879a1-e3c7-4b41-a53a-d2ab7497f80a",
   "metadata": {},
   "source": [
    "Loop Through a Tuple\n",
    "You can loop through the tuple items by using a for loop.\n",
    "Lặp qua Tuple\n",
    "Bạn có thể lặp qua các mục trong bộ bằng cách sử dụng vòng lặp for."
   ]
  },
  {
   "cell_type": "code",
   "execution_count": 1,
   "id": "268c65a0-e257-4097-9072-1d1b5ee191c3",
   "metadata": {},
   "outputs": [
    {
     "name": "stdout",
     "output_type": "stream",
     "text": [
      "apple\n",
      "banana\n",
      "cherry\n"
     ]
    }
   ],
   "source": [
    "# Iterate through the items and print the values:\n",
    "# Lặp lại qua các mục và in các giá trị:\n",
    "thistuple = (\"apple\", \"banana\", \"cherry\")\n",
    "for x in thistuple:\n",
    "  print(x)"
   ]
  },
  {
   "cell_type": "markdown",
   "id": "4d8faa40-95a9-4fb1-b4ff-915d2ac5c7ff",
   "metadata": {},
   "source": [
    "Loop Through the Index Numbers\n",
    "You can also loop through the tuple items by referring to their index number.\n",
    "Use the range() and len() functions to create a suitable iterable.\n",
    "Lặp lại các số chỉ mục\n",
    "Bạn cũng có thể lặp qua các mục trong bộ bằng cách tham khảo số chỉ mục của chúng.\n",
    "Sử dụng các hàm range() và len() để tạo một vòng lặp phù hợp."
   ]
  },
  {
   "cell_type": "code",
   "execution_count": 2,
   "id": "8e499590-f47a-4e21-b4f7-f70342626d1f",
   "metadata": {},
   "outputs": [
    {
     "name": "stdout",
     "output_type": "stream",
     "text": [
      "apple\n",
      "banana\n",
      "cherry\n"
     ]
    }
   ],
   "source": [
    "# Print all items by referring to their index number:\n",
    "# In tất cả các mục bằng cách tham khảo số chỉ mục của chúng:\n",
    "thistuple = (\"apple\", \"banana\", \"cherry\")\n",
    "for i in range(len(thistuple)):\n",
    "  print(thistuple[i])"
   ]
  },
  {
   "cell_type": "markdown",
   "id": "3135db0a-bf24-4d65-8d86-77ee8ada664c",
   "metadata": {},
   "source": [
    "Using a While Loop\n",
    "You can loop through the tuple items by using a while loop.\n",
    "Use the len() function to determine the length of the tuple, then start at 0 and loop your way through the tuple items by referring to their indexes.\n",
    "Remember to increase the index by 1 after each iteration.\n",
    "Sử dụng vòng lặp while\n",
    "Bạn có thể lặp qua các mục trong bộ bằng cách sử dụng while vòng lặp.\n",
    "Sử dụng hàm len() để xác định độ dài của bộ dữ liệu, sau đó bắt đầu từ 0 và lặp theo cách của bạn qua các mục trong bộ dữ liệu bằng cách tham khảo chỉ mục của chúng.\n",
    "Hãy nhớ tăng chỉ số lên 1 sau mỗi lần lặp."
   ]
  },
  {
   "cell_type": "code",
   "execution_count": 3,
   "id": "10fa84a9-b6ed-4581-9d7b-1996f0665fbd",
   "metadata": {},
   "outputs": [
    {
     "name": "stdout",
     "output_type": "stream",
     "text": [
      "apple\n",
      "banana\n",
      "cherry\n"
     ]
    }
   ],
   "source": [
    "# Print all items, using a while loop to go through all the index numbers:\n",
    "# In tất cả các mục, sử dụng whilevòng lặp để duyệt qua tất cả các số chỉ mục:\n",
    "thistuple = (\"apple\", \"banana\", \"cherry\")\n",
    "i = 0\n",
    "while i < len(thistuple):\n",
    "  print(thistuple[i])\n",
    "  i = i + 1"
   ]
  },
  {
   "cell_type": "code",
   "execution_count": null,
   "id": "e3851a7b-ed56-4398-8f30-38df7cd60a3b",
   "metadata": {},
   "outputs": [],
   "source": []
  }
 ],
 "metadata": {
  "kernelspec": {
   "display_name": "Python 3 (ipykernel)",
   "language": "python",
   "name": "python3"
  },
  "language_info": {
   "codemirror_mode": {
    "name": "ipython",
    "version": 3
   },
   "file_extension": ".py",
   "mimetype": "text/x-python",
   "name": "python",
   "nbconvert_exporter": "python",
   "pygments_lexer": "ipython3",
   "version": "3.11.7"
  }
 },
 "nbformat": 4,
 "nbformat_minor": 5
}
