{
 "cells": [
  {
   "cell_type": "markdown",
   "id": "f64b0476-8962-47c5-a8d3-08601bd3604a",
   "metadata": {},
   "source": [
    "Copy a Dictionary\n",
    "You cannot copy a dictionary simply by typing dict2 = dict1, because: dict2 will only be a reference to dict1, and changes made in dict1 will automatically also be made in dict2.\n",
    "There are ways to make a copy, one way is to use the built-in Dictionary method copy().\n",
    "Sao chép một từ điển\n",
    "Bạn không thể sao chép từ điển chỉ bằng cách gõ dict2 = dict1, bởi vì: dict2sẽ chỉ là một tham chiếu đến dict1, và những thay đổi được thực hiện trong đó dict1 cũng sẽ tự động được thực hiện trong dict2.\n",
    "Có nhiều cách để tạo một bản sao, một cách là sử dụng phương pháp Từ điển có sẵn copy()."
   ]
  },
  {
   "cell_type": "code",
   "execution_count": 1,
   "id": "f66ab24a-f675-4bf8-bb22-78badf24a155",
   "metadata": {},
   "outputs": [
    {
     "name": "stdout",
     "output_type": "stream",
     "text": [
      "{'brand': 'Ford', 'model': 'Mustang', 'year': 1964}\n"
     ]
    }
   ],
   "source": [
    "# Make a copy of a dictionary with the copy() method:\n",
    "# Tạo một bản sao của từ điển bằng phương thức copy():\n",
    "thisdict = {\n",
    "  \"brand\": \"Ford\",\n",
    "  \"model\": \"Mustang\",\n",
    "  \"year\": 1964\n",
    "}\n",
    "mydict = thisdict.copy()\n",
    "print(mydict)"
   ]
  },
  {
   "cell_type": "markdown",
   "id": "c338aebf-af43-4e76-b73f-c9b2504610fb",
   "metadata": {},
   "source": [
    "Another way to make a copy is to use the built-in function dict().\n",
    "Một cách khác để tạo bản sao là sử dụng chức năng tích hợp sẵn dict()."
   ]
  },
  {
   "cell_type": "code",
   "execution_count": 2,
   "id": "6064ef59-5825-49db-8f55-11559287f80a",
   "metadata": {},
   "outputs": [
    {
     "name": "stdout",
     "output_type": "stream",
     "text": [
      "{'brand': 'Ford', 'model': 'Mustang', 'year': 1964}\n"
     ]
    }
   ],
   "source": [
    "# Make a copy of a dictionary with the dict() function:\n",
    "# Tạo một bản sao của từ điển với dict() chức năng:\n",
    "thisdict = {\n",
    "  \"brand\": \"Ford\",\n",
    "  \"model\": \"Mustang\",\n",
    "  \"year\": 1964\n",
    "}\n",
    "mydict = dict(thisdict)\n",
    "print(mydict)"
   ]
  },
  {
   "cell_type": "code",
   "execution_count": null,
   "id": "449587a9-a56d-415e-b0a9-65b543bcd4b4",
   "metadata": {},
   "outputs": [],
   "source": []
  }
 ],
 "metadata": {
  "kernelspec": {
   "display_name": "Python 3 (ipykernel)",
   "language": "python",
   "name": "python3"
  },
  "language_info": {
   "codemirror_mode": {
    "name": "ipython",
    "version": 3
   },
   "file_extension": ".py",
   "mimetype": "text/x-python",
   "name": "python",
   "nbconvert_exporter": "python",
   "pygments_lexer": "ipython3",
   "version": "3.11.7"
  }
 },
 "nbformat": 4,
 "nbformat_minor": 5
}
