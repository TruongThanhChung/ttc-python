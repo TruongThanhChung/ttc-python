{
 "cells": [
  {
   "cell_type": "markdown",
   "id": "0975a1a1-4b59-4a7a-827a-0c0b15ae3155",
   "metadata": {},
   "source": [
    "# Python For Loops\n",
    "A for loop is used for iterating over a sequence (that is either a list, a tuple, a dictionary, a set, or a string).\n",
    "This is less like the for keyword in other programming languages, and works more like an iterator method as found in other object-orientated programming languages.\n",
    "With the for loop we can execute a set of statements, once for each item in a list, tuple, set etc.\n",
    "\n",
    "# Python cho vòng lặp\n",
    "Vòng lặp for được sử dụng để lặp lại một chuỗi (đó là danh sách, bộ dữ liệu, từ điển, tập hợp hoặc chuỗi).\n",
    "Điều này ít giống với từ khóa for trong các ngôn ngữ lập trình khác và hoạt động giống một phương thức lặp hơn như được tìm thấy trong các ngôn ngữ lập trình hướng đối tượng khác.\n",
    "Với vòng lặp for , chúng ta có thể thực thi một tập hợp các câu lệnh, một lần cho mỗi mục trong danh sách, bộ dữ liệu, tập hợp, v.v."
   ]
  },
  {
   "cell_type": "code",
   "execution_count": 1,
   "id": "3139574a-fe6b-4391-a7a9-aa5b00fe4f91",
   "metadata": {},
   "outputs": [
    {
     "name": "stdout",
     "output_type": "stream",
     "text": [
      "apple\n",
      "banana\n",
      "cherry\n"
     ]
    }
   ],
   "source": [
    "# Print each fruit in a fruit list:\n",
    "# In từng loại trái cây trong danh sách trái cây:\n",
    "fruits = [\"apple\", \"banana\", \"cherry\"]\n",
    "for x in fruits:\n",
    "  print(x)\n"
   ]
  },
  {
   "cell_type": "markdown",
   "id": "46f10b49-7355-4567-9514-546451bc8416",
   "metadata": {},
   "source": [
    "The for loop does not require an indexing variable to set beforehand.\n",
    "Vòng lặp for không yêu cầu đặt trước một biến chỉ mục."
   ]
  },
  {
   "cell_type": "markdown",
   "id": "15b670c8-c773-499c-b154-2ee8fac31579",
   "metadata": {},
   "source": [
    "# Looping Through a String\n",
    "Even strings are iterable objects, they contain a sequence of characters:\n",
    "# Vòng qua một chuỗi\n",
    "Ngay cả các chuỗi cũng là các đối tượng có thể lặp lại, chúng chứa một chuỗi ký tự:"
   ]
  },
  {
   "cell_type": "code",
   "execution_count": 2,
   "id": "94e58535-7a03-4f17-b351-0514a1f83fd2",
   "metadata": {},
   "outputs": [
    {
     "name": "stdout",
     "output_type": "stream",
     "text": [
      "b\n",
      "a\n",
      "n\n",
      "a\n",
      "n\n",
      "a\n"
     ]
    }
   ],
   "source": [
    "# Loop through the letters in the word \"banana\":\n",
    "# Lặp lại các chữ cái trong từ \"banana\":\n",
    "for x in \"banana\":\n",
    "  print(x)"
   ]
  },
  {
   "cell_type": "markdown",
   "id": "38cff0c9-08f1-4a08-ba97-2a18eaf600c4",
   "metadata": {},
   "source": [
    "# The break Statement\n",
    "With the break statement we can stop the loop before it has looped through all the items:\n",
    "# Tuyên bố nghỉ giải lao\n",
    "Với câu lệnh break, chúng ta có thể dừng vòng lặp trước khi nó lặp qua tất cả các mục:"
   ]
  },
  {
   "cell_type": "code",
   "execution_count": 3,
   "id": "44204795-e9c4-4495-9385-ee7b7298df66",
   "metadata": {},
   "outputs": [
    {
     "name": "stdout",
     "output_type": "stream",
     "text": [
      "apple\n",
      "banana\n"
     ]
    }
   ],
   "source": [
    "# Exit the loop when x is \"banana\":\n",
    "# Thoát khỏi vòng lặp khi xlà \"chuối\":\n",
    "fruits = [\"apple\", \"banana\", \"cherry\"]\n",
    "for x in fruits:\n",
    "  print(x)\n",
    "  if x == \"banana\":\n",
    "    break"
   ]
  },
  {
   "cell_type": "code",
   "execution_count": 4,
   "id": "c5009a35-65eb-42b0-b80e-adc9d8f74da0",
   "metadata": {},
   "outputs": [
    {
     "name": "stdout",
     "output_type": "stream",
     "text": [
      "apple\n"
     ]
    }
   ],
   "source": [
    "# Exit the loop when x is \"banana\", but this time the break comes before the print:\n",
    "# Thoát khỏi vòng lặp khi xlà \"chuối\", nhưng lần này dấu ngắt xuất hiện trước khi in:\n",
    "fruits = [\"apple\", \"banana\", \"cherry\"]\n",
    "for x in fruits:\n",
    "  if x == \"banana\":\n",
    "    break\n",
    "  print(x)"
   ]
  },
  {
   "cell_type": "markdown",
   "id": "64ab8ceb-1ee5-4335-9f7a-3a9d99fce26a",
   "metadata": {},
   "source": [
    "# The continue Statement\n",
    "With the continue statement we can stop the current iteration of the loop, and continue with the next:\n",
    "# Tuyên bố tiếp tục\n",
    "Với câu lệnh continue, chúng ta có thể dừng vòng lặp hiện tại và tiếp tục với vòng lặp tiếp theo:"
   ]
  },
  {
   "cell_type": "code",
   "execution_count": 5,
   "id": "85ab7ada-75c8-47d8-9ae6-7ba4c09f4379",
   "metadata": {},
   "outputs": [
    {
     "name": "stdout",
     "output_type": "stream",
     "text": [
      "apple\n",
      "cherry\n"
     ]
    }
   ],
   "source": [
    "# Do not print banana:\n",
    "# Không in chuối:\n",
    "fruits = [\"apple\", \"banana\", \"cherry\"]\n",
    "for x in fruits:\n",
    "  if x == \"banana\":\n",
    "    continue\n",
    "  print(x)"
   ]
  },
  {
   "cell_type": "markdown",
   "id": "9630b8eb-405c-4365-bdf5-16cc86f08dc1",
   "metadata": {},
   "source": [
    "# The range() Function\n",
    "To loop through a set of code a specified number of times, we can use the range() function,\n",
    "The range() function returns a sequence of numbers, starting from 0 by default, and increments by 1 (by default), and ends at a specified number.\n",
    "# Hàm range()\n",
    "Để lặp qua một bộ mã với số lần xác định, chúng ta có thể sử dụng hàm range() ,\n",
    "Hàm range() trả về một chuỗi số, bắt đầu từ 0 theo mặc định và tăng dần thêm 1 (theo mặc định) và kết thúc ở một số được chỉ định."
   ]
  },
  {
   "cell_type": "code",
   "execution_count": 6,
   "id": "16b37382-d0f9-4c0e-91b3-d5ea1ddf94b8",
   "metadata": {},
   "outputs": [
    {
     "name": "stdout",
     "output_type": "stream",
     "text": [
      "0\n",
      "1\n",
      "2\n",
      "3\n",
      "4\n",
      "5\n"
     ]
    }
   ],
   "source": [
    "# Using the range() function:\n",
    "# Sử dụng hàm range():\n",
    "for x in range(6):\n",
    "  print(x)"
   ]
  },
  {
   "cell_type": "code",
   "execution_count": null,
   "id": "7f81c32d-6cd1-40ef-9e38-1a9ecd054061",
   "metadata": {},
   "outputs": [],
   "source": [
    "Note that range(6) is not the values of 0 to 6, but the values 0 to 5.\n",
    "Lưu ý rằng range(6) không phải là giá trị từ 0 đến 6 mà là giá trị từ 0 đến 5."
   ]
  },
  {
   "cell_type": "markdown",
   "id": "2a87dd2c-9e30-47f1-ac0d-c2e2350a1c45",
   "metadata": {},
   "source": [
    "# \n",
    "The range() function defaults to 0 as a starting value, however it is possible to specify the starting value by adding a parameter: range(2, 6), which means values from 2 to 6 (but not including 6):\n",
    "# \n",
    "Hàm range () mặc định là 0 làm giá trị bắt đầu, tuy nhiên có thể chỉ định giá trị bắt đầu bằng cách thêm tham số: range(2, 6) , nghĩa là các giá trị từ 2 đến 6 (nhưng không bao gồm 6):\n"
   ]
  },
  {
   "cell_type": "code",
   "execution_count": 7,
   "id": "846666bf-1e5e-4591-bd6c-c93806ba272d",
   "metadata": {},
   "outputs": [
    {
     "name": "stdout",
     "output_type": "stream",
     "text": [
      "2\n",
      "3\n",
      "4\n",
      "5\n"
     ]
    }
   ],
   "source": [
    "# Using the start parameter:\n",
    "# Sử dụng tham số bắt đầu:\n",
    "for x in range(2, 6):\n",
    "  print(x)"
   ]
  },
  {
   "cell_type": "code",
   "execution_count": null,
   "id": "4f1b6de9-df09-4531-bfc0-9f74141023b3",
   "metadata": {},
   "outputs": [],
   "source": [
    "The range() function defaults to increment the sequence by 1, however it is possible to specify the increment value by adding a third parameter: range(2, 30, 3):\n",
    "Hàm range () mặc định tăng chuỗi lên 1, tuy nhiên có thể chỉ định giá trị tăng bằng cách thêm tham số thứ ba: range(2, 30, 3 ) :"
   ]
  },
  {
   "cell_type": "code",
   "execution_count": 8,
   "id": "718ba407-d08c-4be9-b58e-ebdbb83cf498",
   "metadata": {},
   "outputs": [
    {
     "name": "stdout",
     "output_type": "stream",
     "text": [
      "2\n",
      "5\n",
      "8\n",
      "11\n",
      "14\n",
      "17\n",
      "20\n",
      "23\n",
      "26\n",
      "29\n"
     ]
    }
   ],
   "source": [
    "# Increment the sequence with 3 (default is 1):\n",
    "# Tăng chuỗi lên 3 (mặc định là 1):\n",
    "for x in range(2, 30, 3):\n",
    "  print(x)"
   ]
  },
  {
   "cell_type": "markdown",
   "id": "66d18cbe-8949-4f12-93ca-3ae5d684ee1d",
   "metadata": {},
   "source": [
    "# Else in For Loop\n",
    "The else keyword in a for loop specifies a block of code to be executed when the loop is finished:\n",
    "# Khác trong vòng lặp For\n",
    "Từ elsekhóa trong forvòng lặp chỉ định khối mã sẽ được thực thi khi vòng lặp kết thúc:"
   ]
  },
  {
   "cell_type": "code",
   "execution_count": 9,
   "id": "961f9301-c47f-4587-99a8-ba75190a6867",
   "metadata": {},
   "outputs": [
    {
     "name": "stdout",
     "output_type": "stream",
     "text": [
      "0\n",
      "1\n",
      "2\n",
      "3\n",
      "4\n",
      "5\n",
      "Finally finished!\n"
     ]
    }
   ],
   "source": [
    "# Print all numbers from 0 to 5, and print a message when the loop has ended:\n",
    "# In tất cả các số từ 0 đến 5 và in thông báo khi vòng lặp kết thúc:\n",
    "for x in range(6):\n",
    "  print(x)\n",
    "else:\n",
    "  print(\"Finally finished!\")"
   ]
  },
  {
   "cell_type": "markdown",
   "id": "94e5d52b-db17-426b-b30f-6ea42e3df6d2",
   "metadata": {},
   "source": [
    "# \n",
    "Note: The else block will NOT be executed if the loop is stopped by a break statement.\n",
    "#\n",
    "Lưu ý: Khối elsesẽ KHÔNG được thực thi nếu vòng lặp bị dừng bởi một breakcâu lệnh."
   ]
  },
  {
   "cell_type": "code",
   "execution_count": 10,
   "id": "8f386230-c273-4cfd-841c-fca076e2f602",
   "metadata": {},
   "outputs": [
    {
     "name": "stdout",
     "output_type": "stream",
     "text": [
      "0\n",
      "1\n",
      "2\n"
     ]
    }
   ],
   "source": [
    "# Break the loop when x is 3, and see what happens with the else block:\n",
    "# Phá vỡ vòng lặp khi xlà 3 và xem điều gì xảy ra với elsekhối:\n",
    "for x in range(6):\n",
    "  if x == 3: break\n",
    "  print(x)\n",
    "else:\n",
    "  print(\"Finally finished!\")"
   ]
  },
  {
   "cell_type": "markdown",
   "id": "ffa64ab8-d2c4-4102-8415-8d99e1aa2bfb",
   "metadata": {},
   "source": [
    "# Nested Loops\n",
    "A nested loop is a loop inside a loop.\n",
    "The \"inner loop\" will be executed one time for each iteration of the \"outer loop\":\n",
    "# Vòng lồng nhau\n",
    "Vòng lặp lồng nhau là vòng lặp bên trong vòng lặp.\n",
    "\"Vòng lặp bên trong\" sẽ được thực thi một lần cho mỗi lần lặp của \"vòng lặp bên ngoài\":"
   ]
  },
  {
   "cell_type": "code",
   "execution_count": 11,
   "id": "405f1de5-bd9b-4e89-b517-d8438c2b1d8d",
   "metadata": {},
   "outputs": [
    {
     "name": "stdout",
     "output_type": "stream",
     "text": [
      "red apple\n",
      "red banana\n",
      "red cherry\n",
      "big apple\n",
      "big banana\n",
      "big cherry\n",
      "tasty apple\n",
      "tasty banana\n",
      "tasty cherry\n"
     ]
    }
   ],
   "source": [
    "# Print each adjective for every fruit:\n",
    "# In mỗi tính từ cho mỗi loại trái cây:\n",
    "adj = [\"red\", \"big\", \"tasty\"]\n",
    "fruits = [\"apple\", \"banana\", \"cherry\"]\n",
    "\n",
    "for x in adj:\n",
    "  for y in fruits:\n",
    "    print(x, y)"
   ]
  },
  {
   "cell_type": "markdown",
   "id": "df241da8-b2b9-4db3-b68f-9d8dce69e42f",
   "metadata": {},
   "source": [
    "# The pass Statement\n",
    "for loops cannot be empty, but if you for some reason have a for loop with no content, put in the pass statement to avoid getting an error.\n",
    "# Tuyên bố vượt qua\n",
    "forcác vòng lặp không thể trống, nhưng nếu vì lý do nào đó bạn có một forvòng lặp không có nội dung, hãy đưa vào passcâu lệnh để tránh gặp lỗi."
   ]
  },
  {
   "cell_type": "code",
   "execution_count": 12,
   "id": "7a583fae-f6a7-4f35-9cfa-bce22e0a8b45",
   "metadata": {},
   "outputs": [],
   "source": [
    "for x in [0, 1, 2]:\n",
    "  pass"
   ]
  },
  {
   "cell_type": "code",
   "execution_count": null,
   "id": "addce49c-7281-4940-9b9e-15e6ac46de1d",
   "metadata": {},
   "outputs": [],
   "source": []
  }
 ],
 "metadata": {
  "kernelspec": {
   "display_name": "Python 3 (ipykernel)",
   "language": "python",
   "name": "python3"
  },
  "language_info": {
   "codemirror_mode": {
    "name": "ipython",
    "version": 3
   },
   "file_extension": ".py",
   "mimetype": "text/x-python",
   "name": "python",
   "nbconvert_exporter": "python",
   "pygments_lexer": "ipython3",
   "version": "3.12.3"
  }
 },
 "nbformat": 4,
 "nbformat_minor": 5
}
