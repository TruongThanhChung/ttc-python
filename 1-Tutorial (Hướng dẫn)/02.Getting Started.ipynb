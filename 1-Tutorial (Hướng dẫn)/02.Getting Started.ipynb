{
 "cells": [
  {
   "cell_type": "markdown",
   "id": "f88885cc-5fa7-49d4-9198-e38ce19332a3",
   "metadata": {},
   "source": [
    "Python Install\r\n",
    "Many PCs and Macs will have python already installed\r\n",
    "\r\n",
    "To check if you have python installed on a Windows PC, search in the start bar for Python or run the following on the Command Line (cmd.ex\n",
    "Cài đặt Python\r\n",
    "Nhiều PC và Mac đã được cài đặt sẵn python\r\n",
    "\r\n",
    "Để kiểm tra xem bạn đã cài đặt python trên PC Windows hay chưa, hãy tìm kiếm Python trong thanh bắt đầu hoặc chạy lệnh sau trên Dòng lệnh (cmd.ex\n",
    "C:\\Users\\Your Name>python --versione):e):"
   ]
  },
  {
   "cell_type": "markdown",
   "id": "46abe035-ce0c-4e81-9b77-da77e6f7c201",
   "metadata": {},
   "source": [
    "To check if you have python installed on a Linux or Mac, then on linux open the command line or on Mac open the Terminal and type:\n",
    "Để kiểm tra xem bạn đã cài đặt python trên Linux hay Mac chưa, sau đó trên linux mở dòng lệnh hoặc trên Mac mở Terminal và gõ:\n",
    "python --version"
   ]
  },
  {
   "cell_type": "markdown",
   "id": "610c6ea0-58b6-4bc7-b4da-e07a91980d23",
   "metadata": {},
   "source": [
    "If you find that you do not have Python installed on your computer, then you can download it for free from the following website: https://www.python.org/\n",
    "Nếu bạn thấy rằng mình chưa cài đặt Python trên máy tính thì bạn có thể tải xuống miễn phí từ trang web sau: https://www.python.org/"
   ]
  },
  {
   "cell_type": "markdown",
   "id": "f03f1ab8-5c9f-497f-81ba-139c6b92fa2c",
   "metadata": {},
   "source": [
    "Python Quickstart\r\n",
    "Python is an interpreted programming language, this means that as a developer you write Python (.py) files in a text editor and then put those files into the python interpreter to be executed\r\n",
    "\r\n",
    "The way to run a python file is like this on the command li\n",
    "Bắt đầu nhanh Python\r\n",
    "Python là ngôn ngữ lập trình được thông dịch, điều này có nghĩa là với tư cách là nhà phát triển, bạn viết các tệp Python (.py) trong trình soạn thảo văn bản và sau đó đặt các tệp đó vào trình thông dịch python để thực thi\r\n",
    "\r\n",
    "Cách chạy tệp python giống như thế này trên dòng lệ C:\\Users\\Your Name>python helloworld.pynh:ne:"
   ]
  },
  {
   "cell_type": "markdown",
   "id": "e6ad4203-1e64-43fa-a842-f7dc8da4d3d3",
   "metadata": {},
   "source": [
    "''' Where \"helloworld.py\" is the name of your python file.\n",
    "\r\n",
    "Let's write our first Python file, called helloworld.py, which can be done in any text edito'''\n",
    "''' Trong đó \"helloworld.py\" là tên tệp python của bạn.\n",
    "\r\n",
    "Hãy viết tệp Python đầu tiên của chúng ta, có tên là helloworld.py, tệp này có thể được thực hiện trong bất kỳ trình soạn thảo văn bản nà '''o.\n",
    "print(\"Hello, World!)\n",
    "r."
   ]
  },
  {
   "cell_type": "markdown",
   "id": "c22d2069-45bf-45f7-b8a9-2f44f2058150",
   "metadata": {},
   "source": [
    "Simple as that. Save your file. Open your command line, navigate to the directory where you saved your file, and run:\n",
    "Đơn giản như thế. Lưu tập tin của bạn. Mở dòng lệnh của bạn, điều hướng đến thư mục nơi bạn đã lưu tệp của mình và chạy:"
   ]
  },
  {
   "cell_type": "markdown",
   "id": "f254a749-9abf-46ce-a2de-9d13de7f2803",
   "metadata": {},
   "source": [
    "The output should read: \n",
    "Đầu ra nên đọc:\n",
    "Hello, World!"
   ]
  },
  {
   "cell_type": "markdown",
   "id": "becbc179-bfe2-4615-b421-380c2f2e2833",
   "metadata": {},
   "source": [
    "Congratulations, you have written and executed your first Python program.\n",
    "Xin chúc mừng, bạn đã viết và thực thi chương trình Python đầu tiên của mình."
   ]
  },
  {
   "cell_type": "markdown",
   "id": "88c65d0d-e032-4ffd-a889-586f54fa0de8",
   "metadata": {},
   "source": [
    "W3Schools' Python Editor\r\n",
    "We have an online Python editor where you can execute your own Python code and see the result\n",
    "Trình soạn thảo Python của W3Schools\r\n",
    "Chúng tôi có trình soạn thảo Python trực tuyến nơi bạn có thể thực thi mã Python của riêng mình và xem kết quả::"
   ]
  },
  {
   "cell_type": "code",
   "execution_count": null,
   "id": "eb69e167-025f-4a96-bc4d-69ed4d4af7c0",
   "metadata": {},
   "outputs": [],
   "source": [
    "# Try our online Python editor:\n",
    "# Hãy thử trình soạn thảo Python trực tuyến của chúng tôi:\n",
    "print(\"Hello, World!\")"
   ]
  },
  {
   "cell_type": "markdown",
   "id": "153cc4d8-6360-41fe-8dd1-e3cd9da4ca20",
   "metadata": {},
   "source": [
    "This editor will be used in the entire tutorial to demonstrate the different aspects of Python.\n",
    "Trình soạn thảo này sẽ được sử dụng trong toàn bộ hướng dẫn để thể hiện các khía cạnh khác nhau của Python."
   ]
  },
  {
   "cell_type": "markdown",
   "id": "5c667e36-8b4a-4e5c-89fd-7087092c71cc",
   "metadata": {},
   "source": [
    "Python Version\r\n",
    "To check the Python version of the editor, you can find it by importing the sys module\n",
    "Phiên bản Python\r\n",
    "Để kiểm tra phiên bản Python của trình soạn thảo, bạn có thể tìm thấy nó bằng cách nhập sysmô-đun::"
   ]
  },
  {
   "cell_type": "code",
   "execution_count": 1,
   "id": "c2ff3d61-51ae-468f-8864-a4329c5fc983",
   "metadata": {},
   "outputs": [
    {
     "name": "stdout",
     "output_type": "stream",
     "text": [
      "3.11.7 | packaged by Anaconda, Inc. | (main, Dec 15 2023, 18:05:47) [MSC v.1916 64 bit (AMD64)]\n"
     ]
    }
   ],
   "source": [
    "# Check the Python version of the editor:\n",
    "# Kiểm tra phiên bản Python của trình soạn thảo:\n",
    "import sys\n",
    "\n",
    "print(sys.version)"
   ]
  },
  {
   "cell_type": "markdown",
   "id": "c4f30cad-e356-4e2d-8c7e-946c327e626a",
   "metadata": {},
   "source": [
    "You will learn more about importing modules in our Python Modules chapter.\n",
    "Trình soạn thảo này sẽ được sử dụng trong toàn bộ hướng dẫn để thể hiện các khía cạnh khác nhau của Python."
   ]
  },
  {
   "cell_type": "markdown",
   "id": "8a04bf6b-f067-450d-a15b-194d05601bc8",
   "metadata": {},
   "source": [
    "The Python Command Line\r\n",
    "To test a short amount of code in python sometimes it is quickest and easiest not to write the code in a file. This is made possible because Python can be run as a command line itself.\n",
    "\r\n",
    "Type the following on the Windows, Mac or Linux command lie:\r\n",
    "\r\n",
    "C:\\Users\\Your Name>p\n",
    "Dòng lệnh Python\r\n",
    "Để kiểm tra một lượng mã ngắn trong python, đôi khi cách nhanh nhất và dễ nhất là không viết mã vào một tệp. Điều này có thể thực hiện được vì Python có thể được chạy dưới dạng dòng lệnh\r\n",
    "\r\n",
    "Nhập nội dung sau vào dòng lệnh Windows, Mac hoặc Linx:\r\n",
    "\r\n",
    "C:\\Users\\Your Name>pythonython"
   ]
  },
  {
   "cell_type": "markdown",
   "id": "bde3e3c7-fc71-46b5-84f2-19891cc6d5a9",
   "metadata": {},
   "source": [
    "Or, if the \"python\" command did not work, you can try \"py\": C:\\Users\\Your Name>py\n",
    "Hoặc, nếu lệnh \"python\" không hoạt động, bạn có thể thử \"py\": \n",
    "C:\\Users\\Your Name>py"
   ]
  },
  {
   "cell_type": "markdown",
   "id": "dff7a9ae-fd3c-41bb-9cd5-145e7a4b514e",
   "metadata": {},
   "source": [
    "From there you can write any python, including our hello world example from earlier in the tutorial:\n",
    "Từ đó, bạn có thể viết bất kỳ con trăn nào, bao gồm cả ví dụ hello world của chúng tôi ở phần trước trong hướng dẫn:\n",
    "C:\\Users\\Your Name>python\r\n",
    "Python 3.6.4 (v3.6.4:d48eceb, Dec 19 2017, 06:04:45) [MSC v.1900 32 bit (Intel)] on win32\r\n",
    "Type \"help\", \"copyright\", \"credits\" or \"license\" for more information.\r\n",
    ">>> print(\"Hello, World!\")"
   ]
  },
  {
   "cell_type": "markdown",
   "id": "2ce4c228-cc68-45b0-820a-2ab5a6c8fc36",
   "metadata": {},
   "source": [
    "Which will write \"Hello, World!\" in the command line:\n",
    "Sẽ viết \"Xin chào, Thế giới!\" trong dòng lệnh:\n",
    "C:\\Users\\Your Name>python\r\n",
    "Python 3.6.4 (v3.6.4:d48eceb, Dec 19 2017, 06:04:45) [MSC v.1900 32 bit (Intel)] on win32\r\n",
    "Type \"help\", \"copyright\", \"credits\" or \"license\" for more information.\r\n",
    ">>> print(\"Hello, World!\")\r\n",
    "Hello, World!"
   ]
  },
  {
   "cell_type": "markdown",
   "id": "b10b7713-5396-4575-92d1-b125f186c5b2",
   "metadata": {},
   "source": [
    "Whenever you are done in the python command line, you can simply type the following to quit the python command line interface:\r",
    "\r\n",
    "exit\n",
    "Bất cứ khi nào bạn thực hiện xong dòng lệnh python, bạn chỉ cần gõ lệnh sau để thoát khỏi giao diện dòng lệnh python:\r",
    "\r\n",
    "exit()()"
   ]
  }
 ],
 "metadata": {
  "kernelspec": {
   "display_name": "Python 3 (ipykernel)",
   "language": "python",
   "name": "python3"
  },
  "language_info": {
   "codemirror_mode": {
    "name": "ipython",
    "version": 3
   },
   "file_extension": ".py",
   "mimetype": "text/x-python",
   "name": "python",
   "nbconvert_exporter": "python",
   "pygments_lexer": "ipython3",
   "version": "3.11.7"
  }
 },
 "nbformat": 4,
 "nbformat_minor": 5
}
