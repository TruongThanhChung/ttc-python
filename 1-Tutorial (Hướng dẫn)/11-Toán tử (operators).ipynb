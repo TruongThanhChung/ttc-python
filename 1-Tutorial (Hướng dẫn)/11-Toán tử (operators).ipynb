{
 "cells": [
  {
   "cell_type": "markdown",
   "id": "d86cb7fa-276d-43a8-b5f4-32c7e57268b0",
   "metadata": {},
   "source": [
    "Python Operators\r\n",
    "Operators are used to perform operations on variables and values\n",
    "\r\n",
    "In the example below, we use the + operator to add together two va\n",
    "lueToán tử Python\r\n",
    "Toán tử được sử dụng để thực hiện các thao tác trên các biến và giátrị\r\n",
    "\r\n",
    "Trong ví dụ bên dưới, chúng tôi sử  dụng +toán tử để cộng hai giá trị vớau:rị."
   ]
  },
  {
   "cell_type": "code",
   "execution_count": 1,
   "id": "0e28ea90-0d3e-4ad1-bfc9-17232a36d979",
   "metadata": {},
   "outputs": [
    {
     "name": "stdout",
     "output_type": "stream",
     "text": [
      "15\n"
     ]
    }
   ],
   "source": [
    "print(10 + 5)"
   ]
  },
  {
   "cell_type": "markdown",
   "id": "8e8e36f5-105c-426c-96f8-d37a0f1fd749",
   "metadata": {},
   "source": [
    "Python divides the operators in the following groups:\r\n",
    "Arithmetic operators\r\n",
    "Assignment operators\r\n",
    "Comparison operators\r\n",
    "Logical operators\r\n",
    "Identity operators\r\n",
    "Membership operators\r\n",
    "Bitwise operators\n",
    "Python chia các toán tử thànhh các nm sau:\n",
    "\n",
    "Toán tử số học\n",
    "Toán tử gán\n",
    "Toán tử so sánh\n",
    "Toán tử logic\n",
    "Toán tử nhận dạng\n",
    "Toán tử thành viên\n",
    "Toán tử bitwise"
   ]
  },
  {
   "cell_type": "markdown",
   "id": "d467ec40-2019-46f6-a388-9ba9a229b9c5",
   "metadata": {},
   "source": [
    "Python Arithmetic Operators\r\n",
    "Arithmetic operators are used with numeric values to perform common mathematical operations:\n",
    "Toán tử s ố học Python\n",
    "Toán tử số học được sử dụng với các giá trị số để thực hiện các phép toán thông thường:\n",
    "\n",
    "Operator\tName\tExample\t\n",
    "+\tAddition\t    x + y\t\n",
    "-\tSubtraction\t    x - y\t\n",
    "*\tMultiplication\tx * y\t\n",
    "/\tDivision\t    x / y\t\n",
    "%\tModulus\t        x % y\t\n",
    "**\tExponentiation\tx ** y\t\n",
    "//\tFloor division\tx // y"
   ]
  },
  {
   "cell_type": "markdown",
   "id": "cbcaba6a-e4c5-4c7f-88f2-7dfd812ae18b",
   "metadata": {},
   "source": [
    "Python Assignment Operators\r\n",
    "Assignment operators are used to assign values to variables:\n",
    "Toán tử gán Python\n",
    "Toán tử gán được sử dụng để gán giá trị cho biến:\n",
    "\n",
    "Operator\t         Example\t               Same As\n",
    "=\t                 x = 5\t                   x = 5\t\n",
    "+=\t                 x += 3\t                   x = x + 3\t\n",
    "-=\t                 x -= 3\t                   x = x - 3\t\n",
    "*=\t                 x *= 3\t                   x = x * 3\t\n",
    "/=\t                 x /= 3\t                   x = x / 3\t\n",
    "%=\t                 x %= 3\t                   x = x % 3\t\n",
    "//=\t                 x //= 3\t               x = x // 3\t\n",
    "**=\t                 x **= 3\t               x = x ** 3\t\n",
    "&=\t                 x &= 3\t                   x = x & 3\t\n",
    "|=\t                 x |= 3                    x = x | 3\t\n",
    "^=\t                 x ^= 3\t                   x = x ^ 3\t\n",
    ">>=\t                 x >>= 3\t               x = x >> 3\t\n",
    "<<=\t                 x <<= 3\t               x = x << 3\t\n",
    ":=\t                 print(x := 3)\t           x = 3 print(x)"
   ]
  },
  {
   "cell_type": "markdown",
   "id": "ecfbe5e9-af75-4817-bbf1-68d976d2a04f",
   "metadata": {},
   "source": [
    "Python Comparison Operators\r\n",
    "Comparison operators are used to compare two values:\n",
    "Toán tử so sánh Python\n",
    "Toán tử so sánh được sử dụng để so sánh hai giá trị:\n",
    "\n",
    "Operator\tName\t                      Example\t\n",
    "==\t        Equal\t                      x == y\t\n",
    "!=\t        Not equal\t                  x != y\t\n",
    ">           Greater than\t              x > y\t\n",
    "<\t        Less than\t                  x < y\t\n",
    ">=\t        Greater than or equal to\t  x >= y\t\n",
    "<=\t        Less than or equal to\t      x <= y"
   ]
  },
  {
   "cell_type": "markdown",
   "id": "5974410f-71a2-42b6-8fbf-6c29fe37fd63",
   "metadata": {},
   "source": [
    "Python Logical Operators\r\n",
    "Logical operators are used to combine conditional statements:\n",
    "Toán tử logic Python\n",
    "Toán tử logic được sử dụng để kết hợp các câu lệnh có điều kiện:\n",
    "\n",
    "Operator\tDescription\t                                                   Example\t\n",
    "and \t    Returns True if both statements are true\t                   x < 5 and  x < 10\t\n",
    "or\t        Returns True if one of the statements is true\t               x < 5 or x < 4\t\n",
    "not\t        Reverse the result, returns False if the result is true\t       not (x < 5 and x < 10)"
   ]
  },
  {
   "cell_type": "markdown",
   "id": "8f7c1f42-cdf7-45b4-96a7-bcfc6be44c38",
   "metadata": {},
   "source": [
    "Python Identity Operators\r\n",
    "Identity operators are used to compare the objects, not if they are equal, but if they are actually the same object, with the same memory location:\n",
    "Toán tử nhận dạng Python\n",
    "Toán tử nhận dạng được sử dụng để so sánh các đối tượng, không phải nếu chúng bằng nhau, mà nếu chúng thực sự là cùng một đối tượng, có cùng vị trí bộ nhớ:\n",
    "\n",
    "Operator\tDescription\t                                                  Example\n",
    "is \t        Returns True if both variables are the same object\t          x is y\t\n",
    "is not\t    Returns True if both variables are not the same object\t      x is not y"
   ]
  },
  {
   "cell_type": "markdown",
   "id": "a777d68a-e51b-4218-a3c5-2a8374fccc1e",
   "metadata": {},
   "source": [
    "Python Membership Operators\r\n",
    "Membership operators are used to test if a sequence is presented in an object:\n",
    "Toán tử thành viên Python\n",
    "Toán tử thành viên được sử dụng để kiểm tra xem một chuỗi có được trình bày trong một đối tượng hay không:\n",
    "\n",
    "Operator\tDescription\t                                                                          Example\n",
    "in \t        Returns True if a sequence with the specified value is present in the object\t      x in y\t\n",
    "not in\t    Returns True if a sequence with the specified value is not present in the object\t  x not in y"
   ]
  },
  {
   "cell_type": "markdown",
   "id": "06ad68e6-4b05-44da-88d7-c913ca91b5ac",
   "metadata": {},
   "source": [
    "Python Bitwise Operators\r\n",
    "Bitwise operators are used to compare (binary) numbers:\n",
    "Toán tử bitwise của Python\n",
    "Toán tử bitwise được sử dụng để so sánh các số (nhị phân):\n",
    "\n",
    "Operator Name\tDescription\t                                                  Example\t\n",
    "& \t     AND\tSets each bit to 1 if both bits are 1\t                      x & y\t\n",
    "|\t     OR\t    Sets each bit to 1 if one of two bits is 1\t                  x | y\t\n",
    "^\t     XOR\tSets each bit to 1 if only one of two bits is 1\t              x ^ y\t\n",
    "~\t     NOT\tInverts all the bits\t                                      ~x\t\n",
    "<<\t     Zero fill left shift\tShift left by pushing zeros in from the right and let the leftmost bits fall off\t           x << 2\t\n",
    ">>       Signed right shift\tShift right by pushing copies of the leftmost bit in from the left, and let the rightmost bits fall off\t          x >> 2"
   ]
  },
  {
   "cell_type": "markdown",
   "id": "e04173f8-d7f7-4a5b-8195-7181589314cf",
   "metadata": {},
   "source": [
    "Operator Precedence\r\n",
    "Operator precedence describes the order in which operations are performed.\n",
    "ưu tiên điều hành\n",
    "Độ ưu tiên của toán tử mô tả thứ tự thực hiện các phép toán."
   ]
  },
  {
   "cell_type": "code",
   "execution_count": 2,
   "id": "c9f7f805-e9f9-435f-ae64-fe2ecdba072c",
   "metadata": {},
   "outputs": [
    {
     "name": "stdout",
     "output_type": "stream",
     "text": [
      "0\n"
     ]
    }
   ],
   "source": [
    "# Parentheses has the highest precedence, meaning that expressions inside parentheses must be evaluated first:\n",
    "# Dấu ngoặc đơn có mức độ ưu tiên cao nhất, nghĩa là các biểu thức bên trong dấu ngoặc đơn phải được đánh giá trước:\n",
    "print((6 + 3) - (6 + 3))"
   ]
  },
  {
   "cell_type": "code",
   "execution_count": 3,
   "id": "4c5ac7ac-e924-41b6-893f-2c23b99610c1",
   "metadata": {},
   "outputs": [
    {
     "name": "stdout",
     "output_type": "stream",
     "text": [
      "115\n"
     ]
    }
   ],
   "source": [
    "# Multiplication * has higher precedence than addition +, and therefor multiplications are evaluated before additions:\n",
    "# Phép nhân *có độ ưu tiên cao hơn phép cộng +và do đó phép nhân được đánh giá trước phép cộng:\n",
    "print(100 + 5 * 3)"
   ]
  },
  {
   "cell_type": "markdown",
   "id": "3d27b8da-63bf-4cac-ad3b-7205d42482f0",
   "metadata": {},
   "source": [
    "The precedence order is described in the table below, starting with the highest precedence at the top:\n",
    "Thứ tự ưu tiên được mô tả trong bảng bên dưới, bắt đầu từ mức ưu tiên cao nhất ở trên cùng:\n",
    "\n",
    "Operator\t    Description\t\n",
    "()\t            Parentheses\t\n",
    "**\t            Exponentiation\t\n",
    "+x  -x  ~x\t    Unary plus, unary minus, and bitwise NOT\t\n",
    "*  /  //  %\t    Multiplication, division, floor division, and modulus\t\n",
    "+  -\t        Addition and subtraction\t\n",
    "<<  >>\t        Bitwise left and right shifts\t\n",
    "&\t            Bitwise AND\t\n",
    "^\t            Bitwise XOR\t\n",
    "|\t            Bitwise OR\t\n",
    "==  !=  >  >=  <  <=  is  is not  in  not in \tComparisons, identity, and membership operators\t\n",
    "not\t            Logical NOT\t\n",
    "and\t            AND\t\n",
    "or\t            OR"
   ]
  },
  {
   "cell_type": "markdown",
   "id": "ace0b610-239d-4aa2-aa1c-26e834b06cf2",
   "metadata": {},
   "source": [
    "If two operators have the same precedence, the expression is evaluated from left to right.\n",
    "Nếu hai toán tử có cùng mức độ ưu tiên thì biểu thức được đánh giá từ trái sang phải."
   ]
  },
  {
   "cell_type": "code",
   "execution_count": 4,
   "id": "8c4c7c05-3eb3-4763-b143-a8d871c002fb",
   "metadata": {},
   "outputs": [
    {
     "name": "stdout",
     "output_type": "stream",
     "text": [
      "5\n"
     ]
    }
   ],
   "source": [
    "# Addition + and subtraction - has the same precedence, and therefor we evaluate the expression from left to right:\n",
    "# Phép cộng + và phép trừ -có cùng mức độ ưu tiên và do đó chúng tôi đánh giá biểu thức từ trái sang phải:\n",
    "print(5 + 4 - 7 + 3)"
   ]
  },
  {
   "cell_type": "code",
   "execution_count": null,
   "id": "53d67359-5bc4-40d3-a89e-e2a9a8778b7e",
   "metadata": {},
   "outputs": [],
   "source": []
  }
 ],
 "metadata": {
  "kernelspec": {
   "display_name": "Python 3 (ipykernel)",
   "language": "python",
   "name": "python3"
  },
  "language_info": {
   "codemirror_mode": {
    "name": "ipython",
    "version": 3
   },
   "file_extension": ".py",
   "mimetype": "text/x-python",
   "name": "python",
   "nbconvert_exporter": "python",
   "pygments_lexer": "ipython3",
   "version": "3.11.7"
  }
 },
 "nbformat": 4,
 "nbformat_minor": 5
}
