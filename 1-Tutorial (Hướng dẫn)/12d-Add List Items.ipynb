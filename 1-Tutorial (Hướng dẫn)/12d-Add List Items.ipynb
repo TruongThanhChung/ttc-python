{
 "cells": [
  {
   "cell_type": "markdown",
   "id": "deceb97a-fe17-4435-ab96-fe28bf9e0742",
   "metadata": {},
   "source": [
    "# Append Items\n",
    "To add an item to the end of the list, use the append() method:\n",
    "# Nối các mục\n",
    "Để thêm một mục vào cuối danh sách, hãy sử dụng phương thứcappend () :"
   ]
  },
  {
   "cell_type": "code",
   "execution_count": 1,
   "id": "9f4e4586-a218-4d26-92e7-159045852cd7",
   "metadata": {},
   "outputs": [
    {
     "name": "stdout",
     "output_type": "stream",
     "text": [
      "['apple', 'banana', 'cherry', 'orange']\n"
     ]
    }
   ],
   "source": [
    "# Using the append() method to append an item:\n",
    "# Sử dụng append()phương pháp để nối thêm một mục:\n",
    "thislist = [\"apple\", \"banana\", \"cherry\"]\n",
    "thislist.append(\"orange\")\n",
    "print(thislist)"
   ]
  },
  {
   "cell_type": "markdown",
   "id": "568e78a2-3551-4f34-91ef-0cd79ce8f31a",
   "metadata": {},
   "source": [
    "# Insert Items\n",
    "To insert a list item at a specified index, use the insert() method.\n",
    "\n",
    "The insert() method inserts an item at the specified index:\n",
    "# Chèn mục\n",
    "Để chèn một mục danh sách vào một chỉ mục đã chỉ định, hãy sử dụng insert()phương thức này.\n",
    "\n",
    "Phương insert()thức chèn một mục vào chỉ mục đã chỉ định:"
   ]
  },
  {
   "cell_type": "code",
   "execution_count": 2,
   "id": "07f735cf-f463-4c28-a672-d013b7e17be0",
   "metadata": {},
   "outputs": [
    {
     "name": "stdout",
     "output_type": "stream",
     "text": [
      "['apple', 'orange', 'banana', 'cherry']\n"
     ]
    }
   ],
   "source": [
    "# Insert an item as the second position:\n",
    "# Chèn một mục làm vị trí thứ hai:\n",
    "thislist = [\"apple\", \"banana\", \"cherry\"]\n",
    "thislist.insert(1, \"orange\")\n",
    "print(thislist)"
   ]
  },
  {
   "cell_type": "markdown",
   "id": "ce5b2951-f7bb-46c2-959f-dec89c1a0e7d",
   "metadata": {},
   "source": [
    "# Note: As a result of the examples above, the lists will now contain 4 items.\n",
    "# Lưu ý: Theo kết quả của các ví dụ trên, danh sách bây giờ sẽ chứa 4 mục."
   ]
  },
  {
   "cell_type": "markdown",
   "id": "4a26fc9f-f7c0-4d0b-a782-c7a1198f70cd",
   "metadata": {},
   "source": [
    "# Extend List\n",
    "To append elements from another list to the current list, use the extend() method.\n",
    "# Danh sách mở rộng\n",
    "Để nối các phần tử từ danh sách khác vào danh sách hiện tại, hãy sử dụng extend()phương thức này."
   ]
  },
  {
   "cell_type": "code",
   "execution_count": 3,
   "id": "1f30719c-59bf-42ab-a704-05d710b21678",
   "metadata": {},
   "outputs": [
    {
     "name": "stdout",
     "output_type": "stream",
     "text": [
      "['apple', 'banana', 'cherry', 'mango', 'pineapple', 'papaya']\n"
     ]
    }
   ],
   "source": [
    "# Add the elements of tropical to thislist:\n",
    "# Thêm các phần tử của tropicalvào thislist:\n",
    "thislist = [\"apple\", \"banana\", \"cherry\"]\n",
    "tropical = [\"mango\", \"pineapple\", \"papaya\"]\n",
    "thislist.extend(tropical)\n",
    "print(thislist)"
   ]
  },
  {
   "cell_type": "markdown",
   "id": "f5699c0a-4c0a-4f34-bb68-7b1ad3ebb244",
   "metadata": {},
   "source": [
    "# The elements will be added to the end of the list.\n",
    "# Các phần tử sẽ được thêm vào cuối danh sách."
   ]
  },
  {
   "cell_type": "markdown",
   "id": "d0c8c18e-66fa-48e5-9a50-909419e9db19",
   "metadata": {},
   "source": [
    "# Add Any Iterable\n",
    "The extend() method does not have to append lists, you can add any iterable object (tuples, sets, dictionaries etc.).\n",
    "# Thêm bất kỳ lần lặp nào\n",
    "Phương thức này extend()không phải nối thêm danh sách , bạn có thể thêm bất kỳ đối tượng có thể lặp lại nào (bộ dữ liệu, bộ, từ điển, v.v.)."
   ]
  },
  {
   "cell_type": "code",
   "execution_count": 4,
   "id": "f5e83f21-2472-496e-a677-56aeb569a59b",
   "metadata": {},
   "outputs": [
    {
     "name": "stdout",
     "output_type": "stream",
     "text": [
      "['apple', 'banana', 'cherry', 'kiwi', 'orange']\n"
     ]
    }
   ],
   "source": [
    "# Add elements of a tuple to a list:\n",
    "# Thêm các phần tử của một bộ vào danh sách:\n",
    "thislist = [\"apple\", \"banana\", \"cherry\"]\n",
    "thistuple = (\"kiwi\", \"orange\")\n",
    "thislist.extend(thistuple)\n",
    "print(thislist)"
   ]
  },
  {
   "cell_type": "code",
   "execution_count": null,
   "id": "3d903055-0237-41bf-ae59-03facfb33068",
   "metadata": {},
   "outputs": [],
   "source": []
  }
 ],
 "metadata": {
  "kernelspec": {
   "display_name": "Python 3 (ipykernel)",
   "language": "python",
   "name": "python3"
  },
  "language_info": {
   "codemirror_mode": {
    "name": "ipython",
    "version": 3
   },
   "file_extension": ".py",
   "mimetype": "text/x-python",
   "name": "python",
   "nbconvert_exporter": "python",
   "pygments_lexer": "ipython3",
   "version": "3.12.3"
  }
 },
 "nbformat": 4,
 "nbformat_minor": 5
}
