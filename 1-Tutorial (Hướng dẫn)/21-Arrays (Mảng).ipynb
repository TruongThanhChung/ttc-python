{
 "cells": [
  {
   "cell_type": "markdown",
   "id": "e885525b-abed-466a-84c3-e31f7b23fcd1",
   "metadata": {},
   "source": [
    "Note: Python does not have built-in support for Arrays, but Python Lists can be used instead.\n",
    "Lưu ý: Python không có hỗ trợ tích hợp cho Mảng, nhưng có thể sử dụng Danh sách Python để thay thế."
   ]
  },
  {
   "cell_type": "markdown",
   "id": "8e15e5b1-7f94-41d7-9627-e56845cd3a13",
   "metadata": {},
   "source": [
    "Arrays\n",
    "Note: This page shows you how to use LISTS as ARRAYS, however, to work with arrays in Python you will have to import a library, like the NumPy library.\n",
    "Arrays are used to store multiple values in one single variable:\n",
    "Mảng\n",
    "Lưu ý: Trang này hướng dẫn bạn cách sử dụng LISTS dưới dạng ARRAYS, tuy nhiên, để làm việc với mảng trong Python, bạn sẽ phải nhập một thư viện, như thư viện NumPy.\n",
    "Mảng được sử dụng để lưu trữ nhiều giá trị trong một biến duy nhất:"
   ]
  },
  {
   "cell_type": "code",
   "execution_count": null,
   "id": "4b1ed39f-28fd-40ee-baf4-65a24844b381",
   "metadata": {},
   "outputs": [],
   "source": [
    "# Create an array containing car names:\n",
    "# Tạo một mảng chứa tên xe:\n",
    "cars = [\"Ford\", \"Volvo\", \"BMW\"]"
   ]
  },
  {
   "cell_type": "markdown",
   "id": "070cf632-fc82-4acb-9a05-0800b94aad5f",
   "metadata": {},
   "source": [
    "What is an Array?\n",
    "An array is a special variable, which can hold more than one value at a time.\n",
    "If you have a list of items (a list of car names, for example), storing the cars in single variables could look like this:\n",
    "car1 = \"Ford\"\n",
    "car2 = \"Volvo\"\n",
    "car3 = \"BMW\"\n",
    "However, what if you want to loop through the cars and find a specific one? And what if you had not 3 cars, but 300?\n",
    "The solution is an array!\n",
    "An array can hold many values under a single name, and you can access the values by referring to an index number.\n",
    "Mảng là gì?\n",
    "Mảng là một biến đặc biệt, có thể chứa nhiều giá trị cùng một lúc.\n",
    "Nếu bạn có một danh sách các mục (ví dụ: danh sách tên ô tô), việc lưu trữ ô tô theo các biến đơn lẻ có thể trông như thế này:\n",
    "car1 = \"Ford\"\n",
    "car2 = \"Volvo\"\n",
    "car3 = \"BMW\"\n",
    "Tuy nhiên, nếu bạn muốn đi vòng qua các ô tô và tìm một chiếc cụ thể thì sao? Và nếu bạn không có 3 chiếc ô tô mà là 300 chiếc thì sao?\n",
    "Giải pháp là một mảng!\n",
    "Một mảng có thể chứa nhiều giá trị dưới một tên duy nhất và bạn có thể truy cập các giá trị đó bằng cách tham chiếu đến số chỉ mục."
   ]
  },
  {
   "cell_type": "markdown",
   "id": "e9663067-bb0e-410b-8fcf-a951f6ca6447",
   "metadata": {},
   "source": [
    "Access the Elements of an Array\n",
    "You refer to an array element by referring to the index number.\n",
    "Truy cập các phần tử của một mảng\n",
    "Bạn tham chiếu đến một phần tử mảng bằng cách tham chiếu đến số chỉ mục."
   ]
  },
  {
   "cell_type": "code",
   "execution_count": null,
   "id": "6f47ff73-133f-4c5a-ba81-72a2f149a716",
   "metadata": {},
   "outputs": [],
   "source": [
    "# Get the value of the first array item:\n",
    "# Lấy giá trị của mục mảng đầu tiên:\n",
    "x = cars[0]"
   ]
  },
  {
   "cell_type": "code",
   "execution_count": null,
   "id": "c78d3c33-83bd-41bd-8def-312ed15282b1",
   "metadata": {},
   "outputs": [],
   "source": [
    "# Modify the value of the first array item:\n",
    "# Sửa đổi giá trị của mục mảng đầu tiên:\n",
    "cars[0] = \"Toyota\""
   ]
  },
  {
   "cell_type": "markdown",
   "id": "3ac55683-8e3c-46ef-8063-99fa42347dfd",
   "metadata": {},
   "source": [
    "The Length of an Array\n",
    "Use the len() method to return the length of an array (the number of elements in an array).\n",
    "Độ dài của một mảng\n",
    "Sử dụng phương thức len() để trả về độ dài của một mảng (số phần tử trong một mảng)."
   ]
  },
  {
   "cell_type": "code",
   "execution_count": 3,
   "id": "87abf37c-a170-4a98-a462-804de004b139",
   "metadata": {},
   "outputs": [
    {
     "name": "stdout",
     "output_type": "stream",
     "text": [
      "3\n"
     ]
    }
   ],
   "source": [
    "# Return the number of elements in the cars array:\n",
    "# Trả về số phần tử trong mảng cars :\n",
    "cars = [\"Ford\", \"Volvo\", \"BMW\"]\n",
    "x = len(cars)\n",
    "print(x)"
   ]
  },
  {
   "cell_type": "markdown",
   "id": "2840e4f5-f68f-45a2-ba52-4cfea2c2bd04",
   "metadata": {},
   "source": [
    "Note: The length of an array is always one more than the highest array index.\n",
    "Lưu ý: Độ dài của mảng luôn lớn hơn chỉ số mảng cao nhất một đơn vị."
   ]
  },
  {
   "cell_type": "markdown",
   "id": "ebca7e06-74f3-47e2-a24c-e0f26169062d",
   "metadata": {},
   "source": [
    "Looping Array Elements\n",
    "You can use the for in loop to loop through all the elements of an array.\n",
    "Các phần tử mảng lặp\n",
    "Bạn có thể sử dụng for trong vòng lặp để lặp qua tất cả các phần tử của một mảng."
   ]
  },
  {
   "cell_type": "code",
   "execution_count": 4,
   "id": "c35d65c9-f72c-4993-b645-d59df1f62f2a",
   "metadata": {},
   "outputs": [
    {
     "name": "stdout",
     "output_type": "stream",
     "text": [
      "Ford\n",
      "Volvo\n",
      "BMW\n"
     ]
    }
   ],
   "source": [
    "# Print each item in the cars array:\n",
    "# In từng mục trong carsmảng:\n",
    "for x in cars:\n",
    "  print(x)"
   ]
  },
  {
   "cell_type": "markdown",
   "id": "58fb9e80-f9e9-42ea-a0cd-02e811f82e26",
   "metadata": {},
   "source": [
    "Adding Array Elements\n",
    "You can use the append() method to add an element to an array.\n",
    "Thêm các phần tử mảng\n",
    "Bạn có thể sử dụng phương thức append() để thêm một phần tử vào một mảng."
   ]
  },
  {
   "cell_type": "code",
   "execution_count": null,
   "id": "585d42a0-c089-46fb-a67b-51a1a5fde9de",
   "metadata": {},
   "outputs": [],
   "source": [
    "# Add one more element to the cars array:\n",
    "# Thêm một phần tử nữa vào carsmảng:\n",
    "cars.append(\"Honda\")"
   ]
  },
  {
   "cell_type": "code",
   "execution_count": null,
   "id": "6ac63969-e80e-4eed-bdc3-b8309505e1f7",
   "metadata": {},
   "outputs": [],
   "source": [
    "Removing Array Elements\n",
    "You can use the pop() method to remove an element from the array.\n",
    "Loại bỏ các phần tử mảng\n",
    "Bạn có thể sử dụng phương thức pop() để xóa một phần tử khỏi mảng."
   ]
  },
  {
   "cell_type": "code",
   "execution_count": null,
   "id": "bf6e0e1e-56ca-4f58-a8c2-9af91000863a",
   "metadata": {},
   "outputs": [],
   "source": [
    "# Delete the second element of the cars array:\n",
    "# Xóa phần tử thứ hai của mảng cars:\n",
    "cars.pop(1)"
   ]
  },
  {
   "cell_type": "markdown",
   "id": "bcd49cf1-7806-4675-bb7d-b6d05b7a46ee",
   "metadata": {},
   "source": [
    "You can also use the remove() method to remove an element from the array.\n",
    "Bạn cũng có thể sử dụng phương thức remove() để xóa một phần tử khỏi mảng."
   ]
  },
  {
   "cell_type": "code",
   "execution_count": null,
   "id": "5cf33879-8634-439d-9a5f-f050459ef7cb",
   "metadata": {},
   "outputs": [],
   "source": [
    "# Delete the element that has the value \"Volvo\":\n",
    "# Xóa phần tử có giá trị \"Volvo\":\n",
    "cars.remove(\"Volvo\")"
   ]
  },
  {
   "cell_type": "markdown",
   "id": "377c2846-9f0a-4c75-98a1-098db86307da",
   "metadata": {},
   "source": [
    "Note: The list's remove() method only removes the first occurrence of the specified value.\n",
    "Lưu ý: Phương thức của danh sách remove() chỉ loại bỏ lần xuất hiện đầu tiên của giá trị được chỉ định."
   ]
  },
  {
   "cell_type": "markdown",
   "id": "fb71f542-52f3-42fe-ab16-4acf2c3f0f33",
   "metadata": {},
   "source": [
    "Array Methods\n",
    "Python has a set of built-in methods that you can use on lists/arrays.\n",
    "Phương thức mảng\n",
    "Python có một tập hợp các phương thức tích hợp sẵn mà bạn có thể sử dụng trên danh sách/mảng."
   ]
  },
  {
   "cell_type": "markdown",
   "id": "a6e2b774-ddeb-4dcd-bb73-a63f4ed1ad82",
   "metadata": {},
   "source": [
    "Method\t    Description\n",
    "append()\tAdds an element at the end of the list (Thêm một phần tử vào cuối danh sách)\n",
    "clear()\t    Removes all the elements from the list (Loại bỏ tất cả các phần tử khỏi danh sách)\n",
    "copy()\t    Returns a copy of the list (Trả về một bản sao của danh sách)\n",
    "count()\t    Returns the number of elements with the specified value (Trả về số phần tử có giá trị được chỉ định)\n",
    "extend()\tAdd the elements of a list (or any iterable), to the end of the current list \n",
    "            (Thêm các phần tử của danh sách (hoặc bất kỳ phần tử nào có thể lặp lại) vào cuối danh sách hiện tại)\n",
    "index()\t    Returns the index of the first element with the specified value\n",
    "            (Trả về chỉ mục của phần tử đầu tiên với giá trị được chỉ định)\n",
    "insert()\tAdds an element at the specified position (Thêm một phần tử vào vị trí đã chỉ định)\n",
    "pop()\t    Removes the element at the specified position (Xóa phần tử tại vị trí đã chỉ định)\n",
    "remove()\tRemoves the first item with the specified value (Xóa mục đầu tiên có giá trị được chỉ định)\n",
    "reverse()\tReverses the order of the list (Đảo ngược thứ tự của danh sách)\n",
    "sort()\t    Sorts the list (Sắp xếp danh sách)"
   ]
  },
  {
   "cell_type": "markdown",
   "id": "9ec5b63f-d7d1-493d-a06e-000e77fbd5ea",
   "metadata": {},
   "source": [
    "Note: Python does not have built-in support for Arrays, but Python Lists can be used instead.\n",
    "Lưu ý: Python không có hỗ trợ tích hợp cho Mảng, nhưng có thể sử dụng Danh sách Python để thay thế."
   ]
  }
 ],
 "metadata": {
  "kernelspec": {
   "display_name": "Python 3 (ipykernel)",
   "language": "python",
   "name": "python3"
  },
  "language_info": {
   "codemirror_mode": {
    "name": "ipython",
    "version": 3
   },
   "file_extension": ".py",
   "mimetype": "text/x-python",
   "name": "python",
   "nbconvert_exporter": "python",
   "pygments_lexer": "ipython3",
   "version": "3.11.7"
  }
 },
 "nbformat": 4,
 "nbformat_minor": 5
}
