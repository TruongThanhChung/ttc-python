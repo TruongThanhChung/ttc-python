{
 "cells": [
  {
   "cell_type": "markdown",
   "id": "23aa7473-4370-4b05-87f6-799453f93174",
   "metadata": {},
   "source": [
    "The word \"polymorphism\" means \"many forms\", and in programming it refers to methods/functions/operators with the same name that can be executed on many objects or classes.\n",
    "Từ \"đa hình\" có nghĩa là \"nhiều dạng\" và trong lập trình, nó đề cập đến các phương thức/hàm/toán tử có cùng tên có thể được thực thi trên nhiều đối tượng hoặc lớp."
   ]
  },
  {
   "cell_type": "markdown",
   "id": "bfea327e-827f-4d26-b6aa-a0c8ac779fc4",
   "metadata": {},
   "source": [
    "Function Polymorphism\n",
    "An example of a Python function that can be used on different objects is the len() function.\n",
    "Đa hình hàm\n",
    "Một ví dụ về hàm Python có thể được sử dụng trên các đối tượng khác nhau là hàm len()."
   ]
  },
  {
   "cell_type": "code",
   "execution_count": 1,
   "id": "93082816-c382-471d-b4d2-8de8d10267d6",
   "metadata": {},
   "outputs": [
    {
     "name": "stdout",
     "output_type": "stream",
     "text": [
      "12\n"
     ]
    }
   ],
   "source": [
    "# String: For strings len() returns the number of characters:\n",
    "# Sợi dây: Đối với chuỗi len() trả về số lượng ký tự:\n",
    "x = \"Hello World!\"\n",
    "\n",
    "print(len(x))"
   ]
  },
  {
   "cell_type": "code",
   "execution_count": 2,
   "id": "8328829c-fa8e-438b-a851-bb5283aeb8a6",
   "metadata": {},
   "outputs": [
    {
     "name": "stdout",
     "output_type": "stream",
     "text": [
      "3\n"
     ]
    }
   ],
   "source": [
    "# Tuple: For tuples len() returns the number of items in the tuple:\n",
    "# Bộ dữ liệu: Đối với bộ dữ liệu len()trả về số lượng mục trong bộ dữ liệu:\n",
    "mytuple = (\"apple\", \"banana\", \"cherry\")\n",
    "\n",
    "print(len(mytuple))"
   ]
  },
  {
   "cell_type": "code",
   "execution_count": 3,
   "id": "1bf1b6cd-a658-4212-bbf6-474c5db54236",
   "metadata": {},
   "outputs": [
    {
     "name": "stdout",
     "output_type": "stream",
     "text": [
      "3\n"
     ]
    }
   ],
   "source": [
    "# Dictionary: For dictionaries len() returns the number of key/value pairs in the dictionary:\n",
    "# Từ điển: Đối với từ điển len() trả về số cặp khóa/giá trị trong từ điển:\n",
    "thisdict = {\n",
    "  \"brand\": \"Ford\",\n",
    "  \"model\": \"Mustang\",\n",
    "  \"year\": 1964\n",
    "}\n",
    "\n",
    "print(len(thisdict))"
   ]
  },
  {
   "cell_type": "markdown",
   "id": "1cfac4c0-29d4-47f7-abe4-8b9481d43134",
   "metadata": {},
   "source": [
    "Class Polymorphism\n",
    "Polymorphism is often used in Class methods, where we can have multiple classes with the same method name.\n",
    "For example, say we have three classes: Car, Boat, and Plane, and they all have a method called move():\n",
    "Đa hình lớp\n",
    "Tính đa hình thường được sử dụng trong các phương thức Class, trong đó chúng ta có thể có nhiều lớp có cùng tên phương thức.\n",
    "Ví dụ: giả sử chúng ta có ba lớp: Car, Boat, và Plane, và chúng đều có một phương thức gọi là move():"
   ]
  },
  {
   "cell_type": "code",
   "execution_count": 4,
   "id": "58736cb5-6c85-4b7f-9571-5cfb779f49f7",
   "metadata": {},
   "outputs": [
    {
     "name": "stdout",
     "output_type": "stream",
     "text": [
      "Drive!\n",
      "Sail!\n",
      "Fly!\n"
     ]
    }
   ],
   "source": [
    "# Different classes with the same method:\n",
    "# Các lớp khác nhau có cùng một phương thức:\n",
    "class Car:\n",
    "  def __init__(self, brand, model):\n",
    "    self.brand = brand\n",
    "    self.model = model\n",
    "\n",
    "  def move(self):\n",
    "    print(\"Drive!\")\n",
    "\n",
    "class Boat:\n",
    "  def __init__(self, brand, model):\n",
    "    self.brand = brand\n",
    "    self.model = model\n",
    "\n",
    "  def move(self):\n",
    "    print(\"Sail!\")\n",
    "\n",
    "class Plane:\n",
    "  def __init__(self, brand, model):\n",
    "    self.brand = brand\n",
    "    self.model = model\n",
    "\n",
    "  def move(self):\n",
    "    print(\"Fly!\")\n",
    "\n",
    "car1 = Car(\"Ford\", \"Mustang\")       #Create a Car class\n",
    "boat1 = Boat(\"Ibiza\", \"Touring 20\") #Create a Boat class\n",
    "plane1 = Plane(\"Boeing\", \"747\")     #Create a Plane class\n",
    "\n",
    "for x in (car1, boat1, plane1):\n",
    "  x.move()"
   ]
  },
  {
   "cell_type": "code",
   "execution_count": null,
   "id": "04de47c8-5e30-4a88-aab9-7854f5703264",
   "metadata": {},
   "outputs": [],
   "source": []
  }
 ],
 "metadata": {
  "kernelspec": {
   "display_name": "Python 3 (ipykernel)",
   "language": "python",
   "name": "python3"
  },
  "language_info": {
   "codemirror_mode": {
    "name": "ipython",
    "version": 3
   },
   "file_extension": ".py",
   "mimetype": "text/x-python",
   "name": "python",
   "nbconvert_exporter": "python",
   "pygments_lexer": "ipython3",
   "version": "3.12.3"
  }
 },
 "nbformat": 4,
 "nbformat_minor": 5
}
