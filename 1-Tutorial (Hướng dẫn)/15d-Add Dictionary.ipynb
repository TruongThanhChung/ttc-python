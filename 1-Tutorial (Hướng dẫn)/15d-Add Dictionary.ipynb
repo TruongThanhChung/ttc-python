{
 "cells": [
  {
   "cell_type": "markdown",
   "id": "e74d0acb-a457-46ce-9c75-5fa5a2cc1692",
   "metadata": {},
   "source": [
    "Adding Items\n",
    "Adding an item to the dictionary is done by using a new index key and assigning a value to it:\n",
    "Thêm mục\n",
    "Việc thêm một mục vào từ điển được thực hiện bằng cách sử dụng khóa chỉ mục mới và gán giá trị cho nó:"
   ]
  },
  {
   "cell_type": "code",
   "execution_count": 1,
   "id": "3109b463-1e70-4e48-900c-0684760434cc",
   "metadata": {},
   "outputs": [
    {
     "name": "stdout",
     "output_type": "stream",
     "text": [
      "{'brand': 'Ford', 'model': 'Mustang', 'year': 1964, 'color': 'red'}\n"
     ]
    }
   ],
   "source": [
    "thisdict = {\n",
    "  \"brand\": \"Ford\",\n",
    "  \"model\": \"Mustang\",\n",
    "  \"year\": 1964\n",
    "}\n",
    "thisdict[\"color\"] = \"red\"\n",
    "print(thisdict)"
   ]
  },
  {
   "cell_type": "markdown",
   "id": "2c2b5014-58ce-42c3-a850-53144bc076fa",
   "metadata": {},
   "source": [
    "Update Dictionary\n",
    "The update() method will update the dictionary with the items from a given argument. If the item does not exist, the item will be added.\n",
    "The argument must be a dictionary, or an iterable object with key:value pairs.\n",
    "Cập nhật từ điển\n",
    "Phương thức này update()sẽ cập nhật từ điển với các mục từ một đối số nhất định. Nếu mục này không tồn tại thì mục đó sẽ được thêm vào.\n",
    "Đối số phải là một từ điển hoặc một đối tượng có thể lặp lại với các cặp khóa:giá trị."
   ]
  },
  {
   "cell_type": "code",
   "execution_count": 3,
   "id": "f222e6d5-335d-4561-a2fa-bef1006cfef8",
   "metadata": {},
   "outputs": [
    {
     "name": "stdout",
     "output_type": "stream",
     "text": [
      "{'brand': 'Ford', 'model': 'Mustang', 'year': 1964, 'color': 'red'}\n"
     ]
    }
   ],
   "source": [
    "# Add a color item to the dictionary by using the update() method:\n",
    "# Thêm một mục màu vào từ điển bằng cách sử dụng update() phương thức:\n",
    "thisdict = {\n",
    "  \"brand\": \"Ford\",\n",
    "  \"model\": \"Mustang\",\n",
    "  \"year\": 1964\n",
    "}\n",
    "thisdict.update({\"color\": \"red\"})\n",
    "print(thisdict)"
   ]
  },
  {
   "cell_type": "code",
   "execution_count": null,
   "id": "cc05bbe7-3494-46c3-8c83-ea3b69cf09b7",
   "metadata": {},
   "outputs": [],
   "source": []
  }
 ],
 "metadata": {
  "kernelspec": {
   "display_name": "Python 3 (ipykernel)",
   "language": "python",
   "name": "python3"
  },
  "language_info": {
   "codemirror_mode": {
    "name": "ipython",
    "version": 3
   },
   "file_extension": ".py",
   "mimetype": "text/x-python",
   "name": "python",
   "nbconvert_exporter": "python",
   "pygments_lexer": "ipython3",
   "version": "3.11.7"
  }
 },
 "nbformat": 4,
 "nbformat_minor": 5
}
