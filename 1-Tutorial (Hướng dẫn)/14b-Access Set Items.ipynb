{
 "cells": [
  {
   "cell_type": "markdown",
   "id": "755e1a1e-37c8-45d0-bef1-c44482fb4293",
   "metadata": {},
   "source": [
    "Access Items\n",
    "You cannot access items in a set by referring to an index or a key.\n",
    "But you can loop through the set items using a for loop, or ask if a specified value is present in a set, by using the in keyword.\n",
    "Truy cập các mục\n",
    "Bạn không thể truy cập các mục trong một tập hợp bằng cách tham khảo chỉ mục hoặc khóa.\n",
    "Tuy nhiên, bạn có thể lặp qua các mục đã đặt bằng cách sử dụng for vòng lặp hoặc hỏi xem liệu một giá trị đã chỉ định có xuất hiện trong một tập hợp hay không bằng cách sử dụng in từ khóa."
   ]
  },
  {
   "cell_type": "code",
   "execution_count": 1,
   "id": "f9f8d273-4f25-4d46-b1ac-2a72dd72f9a1",
   "metadata": {},
   "outputs": [
    {
     "name": "stdout",
     "output_type": "stream",
     "text": [
      "cherry\n",
      "banana\n",
      "apple\n"
     ]
    }
   ],
   "source": [
    "# Loop through the set, and print the values:\n",
    "# Lặp lại tập hợp và in các giá trị:\n",
    "thisset = {\"apple\", \"banana\", \"cherry\"}\n",
    "\n",
    "for x in thisset:\n",
    "  print(x)"
   ]
  },
  {
   "cell_type": "code",
   "execution_count": 2,
   "id": "ebfcfb50-de84-4245-b68a-61b7eb522e5c",
   "metadata": {},
   "outputs": [
    {
     "ename": "TypeError",
     "evalue": "'set' object is not subscriptable",
     "output_type": "error",
     "traceback": [
      "\u001b[1;31m---------------------------------------------------------------------------\u001b[0m",
      "\u001b[1;31mTypeError\u001b[0m                                 Traceback (most recent call last)",
      "Cell \u001b[1;32mIn[2], line 2\u001b[0m\n\u001b[0;32m      1\u001b[0m thisset \u001b[38;5;241m=\u001b[39m {\u001b[38;5;124m\"\u001b[39m\u001b[38;5;124mapple\u001b[39m\u001b[38;5;124m\"\u001b[39m, \u001b[38;5;124m\"\u001b[39m\u001b[38;5;124mbanana\u001b[39m\u001b[38;5;124m\"\u001b[39m, \u001b[38;5;124m\"\u001b[39m\u001b[38;5;124mcherry\u001b[39m\u001b[38;5;124m\"\u001b[39m}\n\u001b[1;32m----> 2\u001b[0m \u001b[38;5;28mprint\u001b[39m(\u001b[43mthisset\u001b[49m\u001b[43m[\u001b[49m\u001b[38;5;241;43m1\u001b[39;49m\u001b[43m]\u001b[49m)\n",
      "\u001b[1;31mTypeError\u001b[0m: 'set' object is not subscriptable"
     ]
    }
   ],
   "source": [
    "thisset = {\"apple\", \"banana\", \"cherry\"}\n",
    "print(thisset[1])"
   ]
  },
  {
   "cell_type": "code",
   "execution_count": 3,
   "id": "acffdd5b-ac46-410f-a21a-f89ed13d8c3d",
   "metadata": {},
   "outputs": [
    {
     "name": "stdout",
     "output_type": "stream",
     "text": [
      "True\n"
     ]
    }
   ],
   "source": [
    "# Check if \"banana\" is present in the set:\n",
    "# Kiểm tra xem \"chuối\" có trong bộ này không:\n",
    "thisset = {\"apple\", \"banana\", \"cherry\"}\n",
    "\n",
    "print(\"banana\" in thisset)"
   ]
  },
  {
   "cell_type": "code",
   "execution_count": 4,
   "id": "42ea3591-8316-4947-8e98-f2f36024d372",
   "metadata": {},
   "outputs": [
    {
     "name": "stdout",
     "output_type": "stream",
     "text": [
      "False\n"
     ]
    }
   ],
   "source": [
    "# Check if \"banana\" is NOT present in the set:\n",
    "# Kiểm tra xem \"chuối\" KHÔNG có trong bộ này hay không:\n",
    "thisset = {\"apple\", \"banana\", \"cherry\"}\n",
    "\n",
    "print(\"banana\" not in thisset)"
   ]
  },
  {
   "cell_type": "markdown",
   "id": "9f9091e9-347f-4ebb-b9fa-f404a1334ca6",
   "metadata": {},
   "source": [
    "Change Items\n",
    "Once a set is created, you cannot change its items, but you can add new items.\n",
    "Thay đổi mục\n",
    "Khi một bộ được tạo, bạn không thể thay đổi các mục của nó nhưng bạn có thể thêm các mục mới."
   ]
  }
 ],
 "metadata": {
  "kernelspec": {
   "display_name": "Python 3 (ipykernel)",
   "language": "python",
   "name": "python3"
  },
  "language_info": {
   "codemirror_mode": {
    "name": "ipython",
    "version": 3
   },
   "file_extension": ".py",
   "mimetype": "text/x-python",
   "name": "python",
   "nbconvert_exporter": "python",
   "pygments_lexer": "ipython3",
   "version": "3.11.7"
  }
 },
 "nbformat": 4,
 "nbformat_minor": 5
}
