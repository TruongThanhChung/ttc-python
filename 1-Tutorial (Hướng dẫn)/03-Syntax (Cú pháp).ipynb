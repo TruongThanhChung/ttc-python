{
 "cells": [
  {
   "cell_type": "markdown",
   "id": "31e97cad-0608-4c2b-b6bc-76d4158c1bf8",
   "metadata": {},
   "source": [
    "Execute Python Syntax\r\n",
    "As we learned in the previous page, Python syntax can be executed by writing directly in the Command Line:\n",
    "\r\n",
    ">>> print(\"Hello, World!\")\r\n",
    "Hello, Wo\n",
    "Thực thi cú pháp Python\r\n",
    "Như chúng ta đã học ở trang trước, cú pháp Python có thể được thực thi bằng cách viết trực tiếp vào Dòng lệnh:\n",
    "\r\n",
    ">>> print(\"Hello, World!\")\r\n",
    "Hello, World!rld!"
   ]
  },
  {
   "cell_type": "markdown",
   "id": "8fd65ce2-eae1-4726-a211-2bb066bab5c5",
   "metadata": {},
   "source": [
    "Or by creating a python file on the server, using the .py file extension, and running it in the Command Line: \n",
    "C:\\Users\\Your Name>python myfile.py\n",
    "Hoặc bằng cách tạo tệp python trên máy chủ, sử dụng phần mở rộng tệp .py và chạy nó trong Dòng lệnh:\n",
    "\r\n",
    "C:\\Users\\Your Name>python myfile.py"
   ]
  },
  {
   "cell_type": "markdown",
   "id": "dc50fe8a-9981-4386-afca-de6e25d3b2dc",
   "metadata": {},
   "source": [
    "Python Indentation\r\n",
    "Indentation refers to the spaces at the beginning of a code line\r\n",
    "\r\n",
    "Where in other programming languages the indentation in code is for readability only, the indentation in Python is very importat.\r\n",
    "\r\n",
    "Python uses indentation to indicate a block of \n",
    "Thụt lề Python\r\n",
    "Thụt lề đề cập đến khoảng trắng ở đầu dòng mã\r\n",
    "\r\n",
    "Trong khi ở các ngôn ngữ lập trình khác, việc thụt lề trong mã chỉ để đọc, thì việc thụt lề trong Python rất quan trọg.\r\n",
    "\r\n",
    "Python sử dụng thụt lề để biểu thị một khối mã.code."
   ]
  },
  {
   "cell_type": "code",
   "execution_count": null,
   "id": "7c36cfd8-b1dc-41ba-9f1b-2585a155f8ee",
   "metadata": {},
   "outputs": [],
   "source": [
    "if 5 > 2:\n",
    "  print(\"Five is greater than two!\")"
   ]
  },
  {
   "cell_type": "markdown",
   "id": "bd4d18eb-859c-4709-9837-c3e5c5d785a7",
   "metadata": {},
   "source": [
    "Python will give you an error if you skip the indentation:\n",
    "Python sẽ báo lỗi nếu bạn bỏ qua phần thụt đầu dòng:"
   ]
  },
  {
   "cell_type": "code",
   "execution_count": null,
   "id": "b1b3e430-65a5-4485-80d8-5d0130b64568",
   "metadata": {},
   "outputs": [],
   "source": [
    "# Syntax Error:\n",
    "# Lỗi cú pháp:\n",
    "if 5 > 2:\n",
    "print(\"Five is greater than two!\")"
   ]
  },
  {
   "cell_type": "markdown",
   "id": "95a079bb-5456-4d09-9dfd-fbd045d74dec",
   "metadata": {},
   "source": [
    "The number of spaces is up to you as a programmer, the most common use is four, but it has to be at least one.\n",
    "Số lượng khoảng trắng tùy thuộc vào bạn với tư cách là một lập trình viên, cách sử dụng phổ biến nhất là bốn, nhưng ít nhất phải có một."
   ]
  },
  {
   "cell_type": "code",
   "execution_count": null,
   "id": "cc6465fa-fc75-4e3f-a21e-e431fc9e37eb",
   "metadata": {},
   "outputs": [],
   "source": [
    "if 5 > 2:\n",
    " print(\"Five is greater than two!\") \n",
    "if 5 > 2:\n",
    "        print(\"Five is greater than two!\") "
   ]
  },
  {
   "cell_type": "markdown",
   "id": "78037a92-a4f9-4586-8e0f-26e313f475b7",
   "metadata": {},
   "source": [
    "You have to use the same number of spaces in the same block of code, otherwise Python will give you an error:\n",
    "Bạn phải sử dụng cùng số khoảng trắng trong cùng một khối mã, nếu không Python sẽ báo lỗi cho bạn:"
   ]
  },
  {
   "cell_type": "code",
   "execution_count": null,
   "id": "0320d882-2d03-48a2-9521-4262876756b5",
   "metadata": {},
   "outputs": [],
   "source": [
    "# Syntax Error:\n",
    "# Lỗi cú pháp:\n",
    "if 5 > 2:\n",
    " print(\"Five is greater than two!\")\n",
    "        print(\"Five is greater than two!\")"
   ]
  },
  {
   "cell_type": "markdown",
   "id": "bf1539c1-cbba-43ef-bbb0-a7c0ca5eb287",
   "metadata": {},
   "source": [
    "Python Variables\r\n",
    "In Python, variables are created when you assign a value to it\n",
    "Biến Python\r\n",
    "Trong Python, các biến được tạo khi bạn gán giá trị cho nó::"
   ]
  },
  {
   "cell_type": "code",
   "execution_count": null,
   "id": "c661f6b5-0739-48db-a5c7-3a5186d40b8d",
   "metadata": {},
   "outputs": [],
   "source": [
    "# Variables in Python:\n",
    "# Các biến trong Python:\n",
    "x = 5\n",
    "y = \"Hello, World!\""
   ]
  },
  {
   "cell_type": "markdown",
   "id": "5e225fbb-b82c-4372-9ebc-dd5419cbc857",
   "metadata": {},
   "source": [
    "Python has no command for declaring a variable.\n",
    "\r\n",
    "You will learn more about variables in the Python Variables chapte\n",
    "Python không có lệnh khai báo biến.\n",
    "\r\n",
    "Bạn sẽ tìm hiểu thêm về các biến trong chương Biến Python .r."
   ]
  },
  {
   "cell_type": "markdown",
   "id": "365e70b0-d5b2-44c7-9c5c-b4a40d3c1c89",
   "metadata": {},
   "source": [
    "Comments\r\n",
    "Python has commenting capability for the purpose of in-code documentation\r\n",
    "\r\n",
    "Comments start with a #, and Python will render the rest of the line as a comme\n",
    "Bình luận\r\n",
    "Python có khả năng bình luận nhằm mục đích tạo tài liệu trong mã\r\n",
    "\r\n",
    "Nhận xét bắt đầu bằng # và Python sẽ hiển thị phần còn lại của dòng dưới dạng nhận xét:nt:"
   ]
  },
  {
   "cell_type": "code",
   "execution_count": null,
   "id": "5fe2ea04-54b1-48b3-94f5-a7a9173df620",
   "metadata": {},
   "outputs": [],
   "source": [
    "# Comments in Python:\n",
    "# Nhận xét bằng Python:\n",
    "#This is a comment.\n",
    "print(\"Hello, World!\")"
   ]
  }
 ],
 "metadata": {
  "kernelspec": {
   "display_name": "Python 3 (ipykernel)",
   "language": "python",
   "name": "python3"
  },
  "language_info": {
   "codemirror_mode": {
    "name": "ipython",
    "version": 3
   },
   "file_extension": ".py",
   "mimetype": "text/x-python",
   "name": "python",
   "nbconvert_exporter": "python",
   "pygments_lexer": "ipython3",
   "version": "3.11.7"
  }
 },
 "nbformat": 4,
 "nbformat_minor": 5
}
