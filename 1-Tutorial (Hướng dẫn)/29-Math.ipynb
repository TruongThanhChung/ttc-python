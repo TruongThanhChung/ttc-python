{
 "cells": [
  {
   "cell_type": "markdown",
   "id": "52a3e3f6-c6ab-4ea8-87ef-41685354255d",
   "metadata": {},
   "source": [
    "Python has a set of built-in math functions, including an extensive math module, that allows you to perform mathematical tasks on numbers.\n",
    "Python có một tập hợp các hàm toán học tích hợp, bao gồm một mô-đun toán học mở rộng, cho phép bạn thực hiện các tác vụ toán học trên các con số."
   ]
  },
  {
   "cell_type": "markdown",
   "id": "f47355ac-45de-43e5-9794-b6d73ffb057f",
   "metadata": {},
   "source": [
    "Built-in Math Functions\n",
    "The min() and max() functions can be used to find the lowest or highest value in an iterable:\n",
    "Các hàm toán học tích hợp\n",
    "Các hàm min()và max()có thể được sử dụng để tìm giá trị thấp nhất hoặc cao nhất trong một lần lặp:"
   ]
  },
  {
   "cell_type": "code",
   "execution_count": 1,
   "id": "c96f6dfe-3d77-4cd2-8a24-3ef09aa3cc21",
   "metadata": {},
   "outputs": [
    {
     "name": "stdout",
     "output_type": "stream",
     "text": [
      "5\n",
      "25\n"
     ]
    }
   ],
   "source": [
    "x = min(5, 10, 25)\n",
    "y = max(5, 10, 25)\n",
    "\n",
    "print(x)\n",
    "print(y)"
   ]
  },
  {
   "cell_type": "code",
   "execution_count": 2,
   "id": "92f49f55-e917-4222-8d4a-fa6b9546d07f",
   "metadata": {},
   "outputs": [
    {
     "name": "stdout",
     "output_type": "stream",
     "text": [
      "7.25\n"
     ]
    }
   ],
   "source": [
    "# The abs() function returns the absolute (positive) value of the specified number:\n",
    "# Hàm abs()trả về giá trị tuyệt đối (dương) của số đã chỉ định:\n",
    "x = abs(-7.25)\n",
    "\n",
    "print(x)"
   ]
  },
  {
   "cell_type": "markdown",
   "id": "d967cf9c-62ca-4fc9-86fd-b1b319a2c24c",
   "metadata": {},
   "source": [
    "The pow(x, y) function returns the value of x to the power of y (xy).\n",
    "Hàm trả về giá trị của x lũy thừa của y (x y ).pow(x, y)"
   ]
  },
  {
   "cell_type": "code",
   "execution_count": 3,
   "id": "8ac1e466-26cf-4852-bfd3-48efb2dc30f4",
   "metadata": {},
   "outputs": [
    {
     "name": "stdout",
     "output_type": "stream",
     "text": [
      "64\n"
     ]
    }
   ],
   "source": [
    "# Return the value of 4 to the power of 3 (same as 4 * 4 * 4):\n",
    "# Trả về giá trị của 4 lũy thừa 3 (giống như 4 * 4 * 4):\n",
    "x = pow(4, 3)\n",
    "\n",
    "print(x)"
   ]
  },
  {
   "cell_type": "markdown",
   "id": "107c6f9b-b536-42a2-99c7-5284cc5b864f",
   "metadata": {},
   "source": [
    "The Math Module\n",
    "Python has also a built-in module called math, which extends the list of mathematical functions.\n",
    "To use it, you must import the math module: import math\n",
    "Mô-đun toán học\n",
    "Python cũng có một mô-đun tích hợp có tên là math, mở rộng danh sách các hàm toán học.\n",
    "Để sử dụng nó, bạn phải nhập math mô-đun: import math"
   ]
  },
  {
   "cell_type": "markdown",
   "id": "71fc417d-79e7-4682-9f1f-ed85d32bba5f",
   "metadata": {},
   "source": [
    "When you have imported the math module, you can start using methods and constants of the module.\n",
    "The math.sqrt() method for example, returns the square root of a number:\n",
    "Khi bạn đã nhập mathmô-đun, bạn có thể bắt đầu sử dụng các phương thức và hằng số của mô-đun.\n",
    "Ví dụ, phương thức này math.sqrt()trả về căn bậc hai của một số:"
   ]
  },
  {
   "cell_type": "code",
   "execution_count": 4,
   "id": "4d335e12-6cea-4c0e-8ccf-a906ab514269",
   "metadata": {},
   "outputs": [
    {
     "name": "stdout",
     "output_type": "stream",
     "text": [
      "8.0\n"
     ]
    }
   ],
   "source": [
    "import math\n",
    "\n",
    "x = math.sqrt(64)\n",
    "\n",
    "print(x)"
   ]
  },
  {
   "cell_type": "markdown",
   "id": "23ea2938-af78-4d77-8a64-86c4895d43e9",
   "metadata": {},
   "source": [
    "The math.ceil() method rounds a number upwards to its nearest integer, and the math.floor() method rounds a number downwards to its nearest integer, and returns the result:\n",
    "Phương math.ceil()thức làm tròn một số lên trên số nguyên gần nhất của nó và math.floor() phương thức làm tròn một số xuống dưới số nguyên gần nhất và trả về kết quả:"
   ]
  },
  {
   "cell_type": "code",
   "execution_count": 5,
   "id": "1ea01887-34b9-494e-be1f-cb3c8e86e3aa",
   "metadata": {},
   "outputs": [
    {
     "name": "stdout",
     "output_type": "stream",
     "text": [
      "2\n",
      "1\n"
     ]
    }
   ],
   "source": [
    "import math\n",
    "\n",
    "x = math.ceil(1.4)\n",
    "y = math.floor(1.4)\n",
    "\n",
    "print(x) # returns 2\n",
    "print(y) # returns 1"
   ]
  },
  {
   "cell_type": "markdown",
   "id": "63f3980a-0999-4491-b1b7-6cdea2f59fee",
   "metadata": {},
   "source": [
    "The math.pi constant, returns the value of PI (3.14...):\n",
    "Hằng math.pisố, trả về giá trị PI (3,14...):"
   ]
  },
  {
   "cell_type": "code",
   "execution_count": 6,
   "id": "d8f3b6c7-5402-4cb0-89f5-fa78216a0576",
   "metadata": {},
   "outputs": [
    {
     "name": "stdout",
     "output_type": "stream",
     "text": [
      "3.141592653589793\n"
     ]
    }
   ],
   "source": [
    "import math\n",
    "\n",
    "x = math.pi\n",
    "\n",
    "print(x)"
   ]
  },
  {
   "cell_type": "markdown",
   "id": "004d687e-ac4d-4312-9f00-67bdf8a64776",
   "metadata": {},
   "source": [
    "Complete Math Module Reference\n",
    "In our Math Module Reference you will find a complete reference of all methods and constants that belongs to the Math module.\n",
    "Tham khảo mô-đun toán hoàn chỉnh\n",
    "Trong Tài liệu tham khảo mô-đun toán học của chúng tôi , bạn sẽ tìm thấy tài liệu tham khảo đầy đủ về tất cả các phương thức và hằng số thuộc mô-đun Toán học."
   ]
  }
 ],
 "metadata": {
  "kernelspec": {
   "display_name": "Python 3 (ipykernel)",
   "language": "python",
   "name": "python3"
  },
  "language_info": {
   "codemirror_mode": {
    "name": "ipython",
    "version": 3
   },
   "file_extension": ".py",
   "mimetype": "text/x-python",
   "name": "python",
   "nbconvert_exporter": "python",
   "pygments_lexer": "ipython3",
   "version": "3.12.3"
  }
 },
 "nbformat": 4,
 "nbformat_minor": 5
}
