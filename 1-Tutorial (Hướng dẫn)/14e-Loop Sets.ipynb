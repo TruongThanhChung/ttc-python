{
 "cells": [
  {
   "cell_type": "markdown",
   "id": "4611baf5-7857-410b-a4ce-6235a1084e1d",
   "metadata": {},
   "source": [
    "Loop Items\n",
    "You can loop through the set items by using a for loop:\n",
    "Các mục vòng lặp\n",
    "Bạn có thể lặp qua các mục đã đặt bằng cách sử dụng for vòng lặp:"
   ]
  },
  {
   "cell_type": "code",
   "execution_count": 1,
   "id": "bf5ad91e-0875-421b-9105-2d70bff74e78",
   "metadata": {},
   "outputs": [
    {
     "name": "stdout",
     "output_type": "stream",
     "text": [
      "apple\n",
      "banana\n",
      "cherry\n"
     ]
    }
   ],
   "source": [
    "# Loop through the set, and print the values:\n",
    "# Lặp lại tập hợp và in các giá trị:\n",
    "thisset = {\"apple\", \"banana\", \"cherry\"}\n",
    "\n",
    "for x in thisset:\n",
    "  print(x)"
   ]
  },
  {
   "cell_type": "code",
   "execution_count": null,
   "id": "1e1cbdc0-98df-4f29-8975-7c5f9d4ddc5a",
   "metadata": {},
   "outputs": [],
   "source": []
  }
 ],
 "metadata": {
  "kernelspec": {
   "display_name": "Python 3 (ipykernel)",
   "language": "python",
   "name": "python3"
  },
  "language_info": {
   "codemirror_mode": {
    "name": "ipython",
    "version": 3
   },
   "file_extension": ".py",
   "mimetype": "text/x-python",
   "name": "python",
   "nbconvert_exporter": "python",
   "pygments_lexer": "ipython3",
   "version": "3.11.7"
  }
 },
 "nbformat": 4,
 "nbformat_minor": 5
}
