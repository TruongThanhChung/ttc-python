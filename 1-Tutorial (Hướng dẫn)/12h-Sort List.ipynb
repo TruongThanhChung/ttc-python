{
 "cells": [
  {
   "cell_type": "markdown",
   "id": "374a4e67-0a0d-4628-8648-7571aa887032",
   "metadata": {},
   "source": [
    "Sort List Alphanumerically\n",
    "List objects have a sort() method that will sort the list alphanumerically, ascending, by default:\n",
    "Sắp xếp danh sách theo thứ tự chữ cái\n",
    "Các đối tượng danh sách có một sort()phương thức sẽ sắp xếp danh sách theo thứ tự chữ và số, tăng dần theo mặc định:"
   ]
  },
  {
   "cell_type": "code",
   "execution_count": 1,
   "id": "5e303d0f-c1b8-4be7-89cd-680426e21eed",
   "metadata": {},
   "outputs": [
    {
     "name": "stdout",
     "output_type": "stream",
     "text": [
      "['banana', 'kiwi', 'mango', 'orange', 'pineapple']\n"
     ]
    }
   ],
   "source": [
    "# Sort the list alphabetically:\n",
    "# Sắp xếp danh sách theo thứ tự bảng chữ cái:\n",
    "thislist = [\"orange\", \"mango\", \"kiwi\", \"pineapple\", \"banana\"]\n",
    "thislist.sort()\n",
    "print(thislist)"
   ]
  },
  {
   "cell_type": "code",
   "execution_count": 2,
   "id": "b87b1c2f-294f-47ce-befe-f2f4857e4d8c",
   "metadata": {},
   "outputs": [
    {
     "name": "stdout",
     "output_type": "stream",
     "text": [
      "[23, 50, 65, 82, 100]\n"
     ]
    }
   ],
   "source": [
    "# Sort the list numerically:\n",
    "# Sắp xếp danh sách theo số:\n",
    "thislist = [100, 50, 65, 82, 23]\n",
    "thislist.sort()\n",
    "print(thislist)"
   ]
  },
  {
   "cell_type": "markdown",
   "id": "8f7dc320-d320-4a8f-9568-315437cf14a4",
   "metadata": {},
   "source": [
    "Sort Descending\n",
    "To sort descending, use the keyword argument reverse = True:\n",
    "Sắp xếp giảm dần\n",
    "Để sắp xếp giảm dần, hãy sử dụng đối số từ khóa reverse = True:"
   ]
  },
  {
   "cell_type": "code",
   "execution_count": 8,
   "id": "7dc9d8fb-fe69-4679-9f51-945f3219bf9f",
   "metadata": {},
   "outputs": [
    {
     "name": "stdout",
     "output_type": "stream",
     "text": [
      "['pineapple', 'orange', 'mango', 'kiwi', 'banana']\n"
     ]
    }
   ],
   "source": [
    "# Sort the list descending:\n",
    "# Sắp xếp danh sách giảm dần:\n",
    "thislist = [\"orange\", \"mango\", \"kiwi\", \"pineapple\", \"banana\"]\n",
    "thislist.sort(reverse = True)\n",
    "print(thislist)"
   ]
  },
  {
   "cell_type": "code",
   "execution_count": 3,
   "id": "59c44861-0294-4060-b0fa-4a94dfb78aeb",
   "metadata": {},
   "outputs": [
    {
     "name": "stdout",
     "output_type": "stream",
     "text": [
      "[100, 82, 65, 50, 23]\n"
     ]
    }
   ],
   "source": [
    "# Sort the list descending:\n",
    "# Sắp xếp danh sách giảm dần:\n",
    "thislist = [100, 50, 65, 82, 23]\n",
    "thislist.sort(reverse = True)\n",
    "print(thislist)"
   ]
  },
  {
   "cell_type": "markdown",
   "id": "f949731c-667d-44f8-9a71-9ba76337afba",
   "metadata": {},
   "source": [
    "Customize Sort Function\n",
    "You can also customize your own function by using the keyword argument key = function.\n",
    "The function will return a number that will be used to sort the list (the lowest number first):\n",
    "Tùy chỉnh chức năng sắp xếp\n",
    "Bạn cũng có thể tùy chỉnh chức năng của riêng mình bằng cách sử dụng từ khóa đối số .key = function\n",
    "Hàm sẽ trả về một số sẽ được sử dụng để sắp xếp danh sách (số thấp nhất trước):"
   ]
  },
  {
   "cell_type": "code",
   "execution_count": 4,
   "id": "74ed2dce-197f-47fb-9459-be9643da135b",
   "metadata": {},
   "outputs": [
    {
     "name": "stdout",
     "output_type": "stream",
     "text": [
      "[50, 65, 23, 82, 100]\n"
     ]
    }
   ],
   "source": [
    "# Sort the list based on how close the number is to 50:\n",
    "# Sắp xếp danh sách dựa trên mức độ gần với số 50:\n",
    "def myfunc(n):\n",
    "  return abs(n - 50)\n",
    "\n",
    "thislist = [100, 50, 65, 82, 23]\n",
    "thislist.sort(key = myfunc)\n",
    "print(thislist)"
   ]
  },
  {
   "cell_type": "markdown",
   "id": "ffecf14a-4c3d-4468-9c75-40df04de52af",
   "metadata": {},
   "source": [
    "Case Insensitive Sort\n",
    "By default the sort() method is case sensitive, resulting in all capital letters being sorted before lower case letters:\n",
    "Sắp xếp không phân biệt chữ hoa chữ thường\n",
    "Theo mặc định, sort()phương thức này phân biệt chữ hoa chữ thường, dẫn đến tất cả các chữ cái viết hoa được sắp xếp trước chữ cái viết thường:"
   ]
  },
  {
   "cell_type": "code",
   "execution_count": 5,
   "id": "41298dff-1900-42eb-9feb-3fbaa9e47ee7",
   "metadata": {},
   "outputs": [
    {
     "name": "stdout",
     "output_type": "stream",
     "text": [
      "['Kiwi', 'Orange', 'banana', 'cherry']\n"
     ]
    }
   ],
   "source": [
    "# Case sensitive sorting can give an unexpected result:\n",
    "# Việc sắp xếp phân biệt chữ hoa chữ thường có thể cho kết quả không mong muốn:\n",
    "thislist = [\"banana\", \"Orange\", \"Kiwi\", \"cherry\"]\n",
    "thislist.sort()\n",
    "print(thislist)"
   ]
  },
  {
   "cell_type": "markdown",
   "id": "1c6269cb-71c8-49a2-a4f1-4c19e429d37a",
   "metadata": {},
   "source": [
    "Luckily we can use built-in functions as key functions when sorting a list.\n",
    "So if you want a case-insensitive sort function, use str.lower as a key function:\n",
    "May mắn thay, chúng ta có thể sử dụng các hàm dựng sẵn làm các hàm chính khi sắp xếp danh sách.\n",
    "Vì vậy, nếu bạn muốn hàm sắp xếp không phân biệt chữ hoa chữ thường, hãy sử dụng str.low làm hàm chính:"
   ]
  },
  {
   "cell_type": "code",
   "execution_count": 6,
   "id": "92879a3d-6464-48b0-b395-e02e90e1ca1a",
   "metadata": {},
   "outputs": [
    {
     "name": "stdout",
     "output_type": "stream",
     "text": [
      "['banana', 'cherry', 'Kiwi', 'Orange']\n"
     ]
    }
   ],
   "source": [
    "# Perform a case-insensitive sort of the list:\n",
    "# Thực hiện sắp xếp danh sách không phân biệt chữ hoa chữ thường:\n",
    "thislist = [\"banana\", \"Orange\", \"Kiwi\", \"cherry\"]\n",
    "thislist.sort(key = str.lower)\n",
    "print(thislist)"
   ]
  },
  {
   "cell_type": "markdown",
   "id": "b172cab5-e1c0-46fc-b1c8-d9623e49c684",
   "metadata": {},
   "source": [
    "Reverse Order\n",
    "What if you want to reverse the order of a list, regardless of the alphabet?\n",
    "The reverse() method reverses the current sorting order of the elements.\n",
    "Thứ tự ngược lại\n",
    "Điều gì sẽ xảy ra nếu bạn muốn đảo ngược thứ tự của một danh sách, bất kể bảng chữ cái?\n",
    "Phương thức này reverse()đảo ngược thứ tự sắp xếp hiện tại của các phần tử."
   ]
  },
  {
   "cell_type": "code",
   "execution_count": 7,
   "id": "c5bddc70-aa82-43e0-813e-2a5b82053eec",
   "metadata": {},
   "outputs": [
    {
     "name": "stdout",
     "output_type": "stream",
     "text": [
      "['cherry', 'Kiwi', 'Orange', 'banana']\n"
     ]
    }
   ],
   "source": [
    "# Reverse the order of the list items:\n",
    "# Đảo ngược thứ tự của các mục trong danh sách:\n",
    "thislist = [\"banana\", \"Orange\", \"Kiwi\", \"cherry\"]\n",
    "thislist.reverse()\n",
    "print(thislist)"
   ]
  },
  {
   "cell_type": "code",
   "execution_count": null,
   "id": "32c30619-31a6-4c05-87e5-a1d265794d44",
   "metadata": {},
   "outputs": [],
   "source": []
  }
 ],
 "metadata": {
  "kernelspec": {
   "display_name": "Python 3 (ipykernel)",
   "language": "python",
   "name": "python3"
  },
  "language_info": {
   "codemirror_mode": {
    "name": "ipython",
    "version": 3
   },
   "file_extension": ".py",
   "mimetype": "text/x-python",
   "name": "python",
   "nbconvert_exporter": "python",
   "pygments_lexer": "ipython3",
   "version": "3.11.7"
  }
 },
 "nbformat": 4,
 "nbformat_minor": 5
}
