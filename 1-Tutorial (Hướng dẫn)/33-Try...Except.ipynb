{
 "cells": [
  {
   "cell_type": "markdown",
   "id": "06d65fb9-f3f2-4b8e-8b23-15d7d96bb3c3",
   "metadata": {},
   "source": [
    "The try block lets you test a block of code for errors.\n",
    "The except block lets you handle the error.\n",
    "The else block lets you execute code when there is no error.\n",
    "The finally block lets you execute code, regardless of the result of the try- and except blocks.\n",
    "Khối này try cho phép bạn kiểm tra lỗi của khối mã.\n",
    "Khối except cho phép bạn xử lý lỗi.\n",
    "Khối elsecho phép bạn thực thi mã khi không có lỗi.\n",
    "Khối này finally cho phép bạn thực thi mã, bất kể kết quả của khối thử và ngoại trừ."
   ]
  },
  {
   "cell_type": "markdown",
   "id": "159650ec-350b-4498-9148-f861cbaf4c33",
   "metadata": {},
   "source": [
    "Exception Handling\n",
    "When an error occurs, or exception as we call it, Python will normally stop and generate an error message.\n",
    "These exceptions can be handled using the try statement:\n",
    "Xử lý ngoại lệ\n",
    "Khi xảy ra lỗi hoặc ngoại lệ như chúng ta gọi, Python thường sẽ dừng và tạo thông báo lỗi.\n",
    "Những ngoại lệ này có thể được xử lý bằng try câu lệnh:"
   ]
  },
  {
   "cell_type": "code",
   "execution_count": 1,
   "id": "49a04601-c016-49f6-987a-7ceed7c93c2c",
   "metadata": {},
   "outputs": [
    {
     "name": "stdout",
     "output_type": "stream",
     "text": [
      "An exception occurred\n"
     ]
    }
   ],
   "source": [
    "# The try block will generate an exception, because x is not defined:\n",
    "# Khối này try sẽ tạo ra một ngoại lệ vì x không được xác định:\n",
    "try:\n",
    "  print(x)\n",
    "except:\n",
    "  print(\"An exception occurred\")"
   ]
  },
  {
   "cell_type": "markdown",
   "id": "dc84dbe4-066b-4ffb-b444-fd0f8747adad",
   "metadata": {},
   "source": [
    "Since the try block raises an error, the except block will be executed.\n",
    "Without the try block, the program will crash and raise an error:\n",
    "Vì khối try phát sinh lỗi nên khối ngoại trừ sẽ được thực thi.\n",
    "Nếu không có khối try, chương trình sẽ gặp sự cố và báo lỗi:"
   ]
  },
  {
   "cell_type": "code",
   "execution_count": null,
   "id": "c270bb80-f78d-4cd9-ab10-1deb3eec3cac",
   "metadata": {},
   "outputs": [],
   "source": [
    "# This statement will raise an error, because x is not defined:\n",
    "# Tuyên bố này sẽ gây ra lỗi vì xkhông được xác định:\n",
    "print(x)"
   ]
  },
  {
   "cell_type": "markdown",
   "id": "a8bfa2cb-8bab-470d-837c-620e259c68ba",
   "metadata": {},
   "source": [
    "Many Exceptions\n",
    "You can define as many exception blocks as you want, e.g. if you want to execute a special block of code for a special kind of error:\n",
    "Nhiều ngoại lệ\n",
    "Bạn có thể xác định bao nhiêu khối ngoại lệ tùy thích, ví dụ: nếu bạn muốn thực thi một khối mã đặc biệt cho một loại lỗi đặc biệt:"
   ]
  },
  {
   "cell_type": "code",
   "execution_count": 2,
   "id": "1674dd05-471b-4048-a12f-6cd7c527db37",
   "metadata": {},
   "outputs": [
    {
     "name": "stdout",
     "output_type": "stream",
     "text": [
      "Variable x is not defined\n"
     ]
    }
   ],
   "source": [
    "# Print one message if the try block raises a NameError and another for other errors:\n",
    "# In một thông báo nếu khối thử tăng a NameError và một thông báo khác cho các lỗi khác:\n",
    "try:\n",
    "  print(x)\n",
    "except NameError:\n",
    "  print(\"Variable x is not defined\")\n",
    "except:\n",
    "  print(\"Something else went wrong\")"
   ]
  },
  {
   "cell_type": "markdown",
   "id": "61d8e5e0-0f50-4285-8eef-d82d18089c83",
   "metadata": {},
   "source": [
    "Else\n",
    "You can use the else keyword to define a block of code to be executed if no errors were raised:\n",
    "Khác\n",
    "Bạn có thể sử dụng else từ khóa để xác định khối mã sẽ được thực thi nếu không có lỗi nào xảy ra:"
   ]
  },
  {
   "cell_type": "code",
   "execution_count": 3,
   "id": "ea551389-9ecf-416f-a14e-d1f95f838c1b",
   "metadata": {},
   "outputs": [
    {
     "name": "stdout",
     "output_type": "stream",
     "text": [
      "Hello\n",
      "Nothing went wrong\n"
     ]
    }
   ],
   "source": [
    "# In this example, the try block does not generate any error:\n",
    "# Trong ví dụ này, trykhối không tạo ra bất kỳ lỗi nào:\n",
    "try:\n",
    "  print(\"Hello\")\n",
    "except:\n",
    "  print(\"Something went wrong\")\n",
    "else:\n",
    "  print(\"Nothing went wrong\")"
   ]
  },
  {
   "cell_type": "markdown",
   "id": "672caa5f-bc25-43ce-b771-a700cb76ab54",
   "metadata": {},
   "source": [
    "Finally\n",
    "The finally block, if specified, will be executed regardless if the try block raises an error or not.\n",
    "Cuối cùng\n",
    "Khối này finally, nếu được chỉ định, sẽ được thực thi bất kể khối thử có phát sinh lỗi hay không."
   ]
  },
  {
   "cell_type": "code",
   "execution_count": 4,
   "id": "cca211a2-e2b6-4fbf-bc58-170043e88df8",
   "metadata": {},
   "outputs": [
    {
     "name": "stdout",
     "output_type": "stream",
     "text": [
      "Something went wrong\n",
      "The 'try except' is finished\n"
     ]
    }
   ],
   "source": [
    "try:\n",
    "  print(x)\n",
    "except:\n",
    "  print(\"Something went wrong\")\n",
    "finally:\n",
    "  print(\"The 'try except' is finished\")"
   ]
  },
  {
   "cell_type": "markdown",
   "id": "03b79ef5-26d4-4500-90ca-00839456b9ee",
   "metadata": {},
   "source": [
    "This can be useful to close objects and clean up resources:\n",
    "Điều này có thể hữu ích để đóng các đối tượng và dọn dẹp tài nguyên:"
   ]
  },
  {
   "cell_type": "code",
   "execution_count": 5,
   "id": "fc1ebd7a-ac5e-477f-8bd8-8d73a6178ec1",
   "metadata": {},
   "outputs": [
    {
     "name": "stdout",
     "output_type": "stream",
     "text": [
      "Something went wrong when opening the file\n"
     ]
    }
   ],
   "source": [
    "# Try to open and write to a file that is not writable:\n",
    "# Cố gắng mở và ghi vào một tập tin không thể ghi được:\n",
    "try:\n",
    "  f = open(\"demofile.txt\")\n",
    "  try:\n",
    "    f.write(\"Lorum Ipsum\")\n",
    "  except:\n",
    "    print(\"Something went wrong when writing to the file\")\n",
    "  finally:\n",
    "    f.close()\n",
    "except:\n",
    "  print(\"Something went wrong when opening the file\")"
   ]
  },
  {
   "cell_type": "markdown",
   "id": "2efe13fc-badd-4f38-ba76-1cc496d91dc5",
   "metadata": {},
   "source": [
    "The program can continue, without leaving the file object open.\n",
    "Chương trình có thể tiếp tục mà không cần mở đối tượng tệp."
   ]
  },
  {
   "cell_type": "markdown",
   "id": "6b16c864-20b8-43a1-a523-e40215acabbe",
   "metadata": {},
   "source": [
    "Raise an exception\n",
    "As a Python developer you can choose to throw an exception if a condition occurs.\n",
    "To throw (or raise) an exception, use the raise keyword.\n",
    "Đưa ra một ngoại lệ\n",
    "Là nhà phát triển Python, bạn có thể chọn đưa ra ngoại lệ nếu một điều kiện xảy ra.\n",
    "Để ném (hoặc đưa ra) một ngoại lệ, hãy sử dụng raise từ khóa."
   ]
  },
  {
   "cell_type": "code",
   "execution_count": 6,
   "id": "2adb2fba-dcac-488c-8e01-e9544d5ad0ea",
   "metadata": {},
   "outputs": [
    {
     "ename": "Exception",
     "evalue": "Sorry, no numbers below zero",
     "output_type": "error",
     "traceback": [
      "\u001b[1;31m---------------------------------------------------------------------------\u001b[0m",
      "\u001b[1;31mException\u001b[0m                                 Traceback (most recent call last)",
      "Cell \u001b[1;32mIn[6], line 6\u001b[0m\n\u001b[0;32m      3\u001b[0m x \u001b[38;5;241m=\u001b[39m \u001b[38;5;241m-\u001b[39m\u001b[38;5;241m1\u001b[39m\n\u001b[0;32m      5\u001b[0m \u001b[38;5;28;01mif\u001b[39;00m x \u001b[38;5;241m<\u001b[39m \u001b[38;5;241m0\u001b[39m:\n\u001b[1;32m----> 6\u001b[0m   \u001b[38;5;28;01mraise\u001b[39;00m \u001b[38;5;167;01mException\u001b[39;00m(\u001b[38;5;124m\"\u001b[39m\u001b[38;5;124mSorry, no numbers below zero\u001b[39m\u001b[38;5;124m\"\u001b[39m)\n",
      "\u001b[1;31mException\u001b[0m: Sorry, no numbers below zero"
     ]
    }
   ],
   "source": [
    "# Raise an error and stop the program if x is lower than 0:\n",
    "# Đưa ra lỗi và dừng chương trình nếu x nhỏ hơn 0:\n",
    "x = -1\n",
    "\n",
    "if x < 0:\n",
    "  raise Exception(\"Sorry, no numbers below zero\")"
   ]
  },
  {
   "cell_type": "markdown",
   "id": "3a7f4235-bbce-4cde-aae5-302baddf091a",
   "metadata": {},
   "source": [
    "The raise keyword is used to raise an exception.\n",
    "You can define what kind of error to raise, and the text to print to the user.\n",
    "Từ raise khóa được sử dụng để đưa ra một ngoại lệ.\n",
    "Bạn có thể xác định loại lỗi nào sẽ xảy ra và văn bản sẽ in cho người dùng."
   ]
  },
  {
   "cell_type": "code",
   "execution_count": 7,
   "id": "5de32ef6-091b-4786-a771-a0ee18904b6d",
   "metadata": {},
   "outputs": [
    {
     "ename": "TypeError",
     "evalue": "Only integers are allowed",
     "output_type": "error",
     "traceback": [
      "\u001b[1;31m---------------------------------------------------------------------------\u001b[0m",
      "\u001b[1;31mTypeError\u001b[0m                                 Traceback (most recent call last)",
      "Cell \u001b[1;32mIn[7], line 6\u001b[0m\n\u001b[0;32m      3\u001b[0m x \u001b[38;5;241m=\u001b[39m \u001b[38;5;124m\"\u001b[39m\u001b[38;5;124mhello\u001b[39m\u001b[38;5;124m\"\u001b[39m\n\u001b[0;32m      5\u001b[0m \u001b[38;5;28;01mif\u001b[39;00m \u001b[38;5;129;01mnot\u001b[39;00m \u001b[38;5;28mtype\u001b[39m(x) \u001b[38;5;129;01mis\u001b[39;00m \u001b[38;5;28mint\u001b[39m:\n\u001b[1;32m----> 6\u001b[0m   \u001b[38;5;28;01mraise\u001b[39;00m \u001b[38;5;167;01mTypeError\u001b[39;00m(\u001b[38;5;124m\"\u001b[39m\u001b[38;5;124mOnly integers are allowed\u001b[39m\u001b[38;5;124m\"\u001b[39m)\n",
      "\u001b[1;31mTypeError\u001b[0m: Only integers are allowed"
     ]
    }
   ],
   "source": [
    "# Raise a TypeError if x is not an integer:\n",
    "# Tăng TypeError nếu x không phải là số nguyên:\n",
    "x = \"hello\"\n",
    "\n",
    "if not type(x) is int:\n",
    "  raise TypeError(\"Only integers are allowed\")"
   ]
  },
  {
   "cell_type": "code",
   "execution_count": null,
   "id": "77fd325c-9a89-49ab-8a54-0b7dbb1fe839",
   "metadata": {},
   "outputs": [],
   "source": []
  }
 ],
 "metadata": {
  "kernelspec": {
   "display_name": "Python 3 (ipykernel)",
   "language": "python",
   "name": "python3"
  },
  "language_info": {
   "codemirror_mode": {
    "name": "ipython",
    "version": 3
   },
   "file_extension": ".py",
   "mimetype": "text/x-python",
   "name": "python",
   "nbconvert_exporter": "python",
   "pygments_lexer": "ipython3",
   "version": "3.12.3"
  }
 },
 "nbformat": 4,
 "nbformat_minor": 5
}
