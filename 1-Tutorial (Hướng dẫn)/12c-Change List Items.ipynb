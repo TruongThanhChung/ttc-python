{
 "cells": [
  {
   "cell_type": "markdown",
   "id": "5ef96d62-a028-4247-873a-a9f0b1034f88",
   "metadata": {},
   "source": [
    "Change Item Value\n",
    "To change the value of a specific item, refer to the index number:\n",
    "Thay đổi giá trị mục\n",
    "Để thay đổi giá trị của một mục cụ thể, hãy tham khảo số chỉ mục:"
   ]
  },
  {
   "cell_type": "code",
   "execution_count": 2,
   "id": "92dd90a8-120e-4b91-97d8-5bea1c704ecf",
   "metadata": {},
   "outputs": [
    {
     "name": "stdout",
     "output_type": "stream",
     "text": [
      "['apple', 'banana', 'cherry']\n",
      "['apple', 'blackcurrant', 'cherry']\n"
     ]
    }
   ],
   "source": [
    "# Change the second item:\n",
    "# Thay đổi mục thứ hai:\n",
    "thislist = [\"apple\", \"banana\", \"cherry\"]\n",
    "print(thislist)\n",
    "thislist[1] = \"blackcurrant\"\n",
    "print(thislist)"
   ]
  },
  {
   "cell_type": "markdown",
   "id": "a4646a34-5947-4296-8661-b5279718a515",
   "metadata": {},
   "source": [
    "Change a Range of Item Values\n",
    "To change the value of items within a specific range, define a list with the new values, and refer to the range of index numbers where you want to insert the new values:\n",
    "Thay đổi phạm vi giá trị mục\n",
    "Để thay đổi giá trị của các mục trong một phạm vi cụ thể, hãy xác định danh sách với các giá trị mới và tham khảo phạm vi số chỉ mục mà bạn muốn chèn các giá trị mới:"
   ]
  },
  {
   "cell_type": "code",
   "execution_count": 3,
   "id": "6f5a1568-8fb6-41d3-8848-c90573b4e3b7",
   "metadata": {},
   "outputs": [
    {
     "name": "stdout",
     "output_type": "stream",
     "text": [
      "['apple', 'blackcurrant', 'watermelon', 'orange', 'kiwi', 'mango']\n"
     ]
    }
   ],
   "source": [
    "# Change the values \"banana\" and \"cherry\" with the values \"blackcurrant\" and \"watermelon\":\n",
    "# Thay đổi giá trị \"chuối\" và \"anh đào\" bằng giá trị \"blackcurrant\" và \"dưa hấu\":\n",
    "thislist = [\"apple\", \"banana\", \"cherry\", \"orange\", \"kiwi\", \"mango\"]\n",
    "thislist[1:3] = [\"blackcurrant\", \"watermelon\"]\n",
    "print(thislist)"
   ]
  },
  {
   "cell_type": "markdown",
   "id": "954759f5-1629-4709-9ece-5f41752b6052",
   "metadata": {},
   "source": [
    "If you insert more items than you replace, the new items will be inserted where you specified, and the remaining items will move accordingly:\n",
    "Nếu bạn chèn nhiều mục hơn mức thay thế, các mục mới sẽ được chèn vào nơi bạn đã chỉ định và các mục còn lại sẽ di chuyển tương ứng:"
   ]
  },
  {
   "cell_type": "code",
   "execution_count": 4,
   "id": "a2e2184b-cc53-4544-8c48-2188eaa1f114",
   "metadata": {},
   "outputs": [
    {
     "name": "stdout",
     "output_type": "stream",
     "text": [
      "['apple', 'blackcurrant', 'watermelon', 'cherry']\n"
     ]
    }
   ],
   "source": [
    "# Change the second value by replacing it with two new values:\n",
    "# Thay đổi giá trị thứ hai bằng cách thay thế nó bằng hai giá trị mới:\n",
    "thislist = [\"apple\", \"banana\", \"cherry\"]\n",
    "thislist[1:2] = [\"blackcurrant\", \"watermelon\"]\n",
    "print(thislist)"
   ]
  },
  {
   "cell_type": "markdown",
   "id": "56b9b219-eee9-4924-845e-7ddefd15a18a",
   "metadata": {},
   "source": [
    "Note: The length of the list will change when the number of items inserted does not match the number of items replaced.\n",
    "Lưu ý: Độ dài của danh sách sẽ thay đổi khi số mục được chèn không khớp với số mục được thay thế."
   ]
  },
  {
   "cell_type": "markdown",
   "id": "57a5bfb2-74f9-4d91-b0be-9c472f285e85",
   "metadata": {},
   "source": [
    "If you insert less items than you replace, the new items will be inserted where you specified, and the remaining items will move accordingly:\n",
    "Nếu bạn chèn ít mục hơn số mục bạn thay thế, thì các mục mới sẽ được chèn vào nơi bạn đã chỉ định và các mục còn lại sẽ di chuyển tương ứng:"
   ]
  },
  {
   "cell_type": "code",
   "execution_count": 8,
   "id": "08cc628a-e8aa-4409-9d77-7e6c0b4f33b4",
   "metadata": {},
   "outputs": [
    {
     "name": "stdout",
     "output_type": "stream",
     "text": [
      "['apple', 'watermelon']\n",
      "['apple', 'watermelon', 'mango']\n",
      "['apple', 'watermelon']\n"
     ]
    }
   ],
   "source": [
    "# Change the second and third value by replacing it with one value:\n",
    "# Thay đổi giá trị thứ hai và thứ ba bằng cách thay thế nó bằng một giá trị:\n",
    "thislist = [\"apple\", \"banana\", \"cherry\"]\n",
    "thislist[1:3] = [\"watermelon\"]\n",
    "print(thislist)\n",
    "thislist = [\"apple\", \"banana\", \"cherry\", \"mango\"]\n",
    "thislist[1:3] = [\"watermelon\"]\n",
    "print(thislist)\n",
    "thislist = [\"apple\", \"banana\", \"cherry\", \"mango\"]\n",
    "thislist[1:4] = [\"watermelon\"]\n",
    "print(thislist)"
   ]
  },
  {
   "cell_type": "markdown",
   "id": "ba7b72e0-f6c6-43e3-8cd3-68550bf0c9c5",
   "metadata": {},
   "source": [
    "Insert Items\n",
    "To insert a new list item, without replacing any of the existing values, we can use the insert() method.\n",
    "The insert() method inserts an item at the specified index:\n",
    "Chèn mục\n",
    "Để chèn một mục danh sách mới mà không thay thế bất kỳ giá trị hiện có nào, chúng ta có thể sử dụng insert()phương thức này.\n",
    "Phương insert()thức chèn một mục vào chỉ mục đã chỉ định:"
   ]
  },
  {
   "cell_type": "code",
   "execution_count": 6,
   "id": "6f9b0113-bb9a-4f43-aad3-6e610b98fbda",
   "metadata": {},
   "outputs": [
    {
     "name": "stdout",
     "output_type": "stream",
     "text": [
      "['apple', 'banana', 'watermelon', 'cherry']\n"
     ]
    }
   ],
   "source": [
    "# Insert \"watermelon\" as the third item:\n",
    "# Chèn \"dưa hấu\" làm mục thứ ba:\n",
    "thislist = [\"apple\", \"banana\", \"cherry\"]\n",
    "thislist.insert(2, \"watermelon\")\n",
    "print(thislist)"
   ]
  },
  {
   "cell_type": "markdown",
   "id": "40da99d9-a7ca-47fe-96b8-a51f19869804",
   "metadata": {},
   "source": [
    "Note: As a result of the example above, the list will now contain 4 items.\n",
    "Lưu ý: Theo ví dụ trên, danh sách bây giờ sẽ chứa 4 mục."
   ]
  }
 ],
 "metadata": {
  "kernelspec": {
   "display_name": "Python 3 (ipykernel)",
   "language": "python",
   "name": "python3"
  },
  "language_info": {
   "codemirror_mode": {
    "name": "ipython",
    "version": 3
   },
   "file_extension": ".py",
   "mimetype": "text/x-python",
   "name": "python",
   "nbconvert_exporter": "python",
   "pygments_lexer": "ipython3",
   "version": "3.11.7"
  }
 },
 "nbformat": 4,
 "nbformat_minor": 5
}
