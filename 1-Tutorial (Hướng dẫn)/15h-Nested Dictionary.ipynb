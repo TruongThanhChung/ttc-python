{
 "cells": [
  {
   "cell_type": "markdown",
   "id": "a81ff345-35d1-418a-b28a-00d7199ded8f",
   "metadata": {},
   "source": [
    "Nested Dictionaries\n",
    "A dictionary can contain dictionaries, this is called nested dictionaries.\n",
    "Từ điển lồng nhau\n",
    "Một từ điển có thể chứa các từ điển, đây được gọi là từ điển lồng nhau."
   ]
  },
  {
   "cell_type": "code",
   "execution_count": null,
   "id": "968e7306-9588-4b81-b75e-31bbbb309db4",
   "metadata": {},
   "outputs": [],
   "source": [
    "# Create a dictionary that contain three dictionaries:\n",
    "# Tạo một từ điển có chứa ba từ điển:\n",
    "myfamily = {\n",
    "  \"child1\" : {\n",
    "    \"name\" : \"Emil\",\n",
    "    \"year\" : 2004\n",
    "  },\n",
    "  \"child2\" : {\n",
    "    \"name\" : \"Tobias\",\n",
    "    \"year\" : 2007\n",
    "  },\n",
    "  \"child3\" : {\n",
    "    \"name\" : \"Linus\",\n",
    "    \"year\" : 2011\n",
    "  }\n",
    "}"
   ]
  },
  {
   "cell_type": "markdown",
   "id": "d4f9a6e4-d111-460b-96f9-bffef7777fb7",
   "metadata": {},
   "source": [
    "Or, if you want to add three dictionaries into a new dictionary:\n",
    "Hoặc nếu bạn muốn thêm ba từ điển vào một từ điển mới:"
   ]
  },
  {
   "cell_type": "code",
   "execution_count": null,
   "id": "d4aaced8-5da0-42d7-96a9-ac6594829056",
   "metadata": {},
   "outputs": [],
   "source": [
    "# Create three dictionaries, then create one dictionary that will contain the other three dictionaries:\n",
    "# Tạo ba từ điển, sau đó tạo một từ điển sẽ chứa ba từ điển còn lại:\n",
    "child1 = {\n",
    "  \"name\" : \"Emil\",\n",
    "  \"year\" : 2004\n",
    "}\n",
    "child2 = {\n",
    "  \"name\" : \"Tobias\",\n",
    "  \"year\" : 2007\n",
    "}\n",
    "child3 = {\n",
    "  \"name\" : \"Linus\",\n",
    "  \"year\" : 2011\n",
    "}\n",
    "\n",
    "myfamily = {\n",
    "  \"child1\" : child1,\n",
    "  \"child2\" : child2,\n",
    "  \"child3\" : child3\n",
    "}"
   ]
  },
  {
   "cell_type": "markdown",
   "id": "e7478b9c-ccb3-4bae-956e-25812f2a29fb",
   "metadata": {},
   "source": [
    "Access Items in Nested Dictionaries\n",
    "To access items from a nested dictionary, you use the name of the dictionaries, starting with the outer dictionary:\n",
    "Truy cập các mục trong Từ điển lồng nhau\n",
    "Để truy cập các mục từ một từ điển lồng nhau, bạn sử dụng tên của từ điển, bắt đầu từ từ điển bên ngoài:"
   ]
  },
  {
   "cell_type": "code",
   "execution_count": 1,
   "id": "8ca13e0a-7264-45c1-9e54-fadffb36ad2b",
   "metadata": {},
   "outputs": [
    {
     "ename": "NameError",
     "evalue": "name 'myfamily' is not defined",
     "output_type": "error",
     "traceback": [
      "\u001b[1;31m---------------------------------------------------------------------------\u001b[0m",
      "\u001b[1;31mNameError\u001b[0m                                 Traceback (most recent call last)",
      "Cell \u001b[1;32mIn[1], line 3\u001b[0m\n\u001b[0;32m      1\u001b[0m \u001b[38;5;66;03m# Print the name of child 2:\u001b[39;00m\n\u001b[0;32m      2\u001b[0m \u001b[38;5;66;03m# In tên con thứ 2:\u001b[39;00m\n\u001b[1;32m----> 3\u001b[0m \u001b[38;5;28mprint\u001b[39m(\u001b[43mmyfamily\u001b[49m[\u001b[38;5;124m\"\u001b[39m\u001b[38;5;124mchild2\u001b[39m\u001b[38;5;124m\"\u001b[39m][\u001b[38;5;124m\"\u001b[39m\u001b[38;5;124mname\u001b[39m\u001b[38;5;124m\"\u001b[39m])\n",
      "\u001b[1;31mNameError\u001b[0m: name 'myfamily' is not defined"
     ]
    }
   ],
   "source": [
    "# Print the name of child 2:\n",
    "# In tên con thứ 2:\n",
    "print(myfamily[\"child2\"][\"name\"])"
   ]
  },
  {
   "cell_type": "markdown",
   "id": "ea4a325f-3221-40c8-85ed-fe85ab5cf7a8",
   "metadata": {},
   "source": [
    "Loop Through Nested Dictionaries\n",
    "You can loop through a dictionary by using the items() method like this:\n",
    "Lặp lại từ điển lồng nhau\n",
    "Bạn có thể lặp qua một từ điển bằng cách sử dụng items()phương pháp như sau:"
   ]
  },
  {
   "cell_type": "code",
   "execution_count": 2,
   "id": "a3480acc-1f7b-4ad7-89ef-2260fe9a1f93",
   "metadata": {},
   "outputs": [
    {
     "ename": "NameError",
     "evalue": "name 'myfamily' is not defined",
     "output_type": "error",
     "traceback": [
      "\u001b[1;31m---------------------------------------------------------------------------\u001b[0m",
      "\u001b[1;31mNameError\u001b[0m                                 Traceback (most recent call last)",
      "Cell \u001b[1;32mIn[2], line 3\u001b[0m\n\u001b[0;32m      1\u001b[0m \u001b[38;5;66;03m# Loop through the keys and values of all nested dictionaries:\u001b[39;00m\n\u001b[0;32m      2\u001b[0m \u001b[38;5;66;03m# Lặp qua các khóa và giá trị của tất cả các từ điển lồng nhau:\u001b[39;00m\n\u001b[1;32m----> 3\u001b[0m \u001b[38;5;28;01mfor\u001b[39;00m x, obj \u001b[38;5;129;01min\u001b[39;00m \u001b[43mmyfamily\u001b[49m\u001b[38;5;241m.\u001b[39mitems():\n\u001b[0;32m      4\u001b[0m   \u001b[38;5;28mprint\u001b[39m(x)\n\u001b[0;32m      6\u001b[0m   \u001b[38;5;28;01mfor\u001b[39;00m y \u001b[38;5;129;01min\u001b[39;00m obj:\n",
      "\u001b[1;31mNameError\u001b[0m: name 'myfamily' is not defined"
     ]
    }
   ],
   "source": [
    "# Loop through the keys and values of all nested dictionaries:\n",
    "# Lặp qua các khóa và giá trị của tất cả các từ điển lồng nhau:\n",
    "for x, obj in myfamily.items():\n",
    "  print(x)\n",
    "\n",
    "  for y in obj:\n",
    "    print(y + ':', obj[y])"
   ]
  },
  {
   "cell_type": "code",
   "execution_count": null,
   "id": "32f32440-9e10-4c5e-9f18-04a3cdedb62e",
   "metadata": {},
   "outputs": [],
   "source": []
  }
 ],
 "metadata": {
  "kernelspec": {
   "display_name": "Python 3 (ipykernel)",
   "language": "python",
   "name": "python3"
  },
  "language_info": {
   "codemirror_mode": {
    "name": "ipython",
    "version": 3
   },
   "file_extension": ".py",
   "mimetype": "text/x-python",
   "name": "python",
   "nbconvert_exporter": "python",
   "pygments_lexer": "ipython3",
   "version": "3.11.7"
  }
 },
 "nbformat": 4,
 "nbformat_minor": 5
}
