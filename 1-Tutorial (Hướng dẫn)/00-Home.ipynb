{
 "cells": [
  {
   "cell_type": "markdown",
   "id": "ae1811dc-f1c1-483b-a758-ac9b53ee9e2a",
   "metadata": {},
   "source": [
    "Learn Python\r\n",
    "Python is a popular programming language.\n",
    "\r\n",
    "Python can be used on a server to create web applicatio\n",
    "Học Python\r\n",
    "Python là một ngôn ngữ lập trình phổ biến\r\n",
    "\r\n",
    "Python có thể được sử dụng trên máy chủ để tạo các ứng dụng web.ns."
   ]
  },
  {
   "cell_type": "markdown",
   "id": "8f5c0198-ee36-44ad-8030-78e9ac9624e1",
   "metadata": {},
   "source": [
    "Learning by Examples\r\n",
    "With our \"Try it Yourself\" editor, you can edit Python code and view the result\n",
    "Học bằng ví dụ\r\n",
    "Với trình soạn thảo \"Tự mình thử\" của chúng tôi, bạn có thể chỉnh sửa mã Python và xem kết quả.."
   ]
  },
  {
   "cell_type": "code",
   "execution_count": 1,
   "id": "473905cb-e043-4722-a2ac-e1bbf3e4019e",
   "metadata": {},
   "outputs": [
    {
     "name": "stdout",
     "output_type": "stream",
     "text": [
      "Hello, World!\n"
     ]
    }
   ],
   "source": [
    "print(\"Hello, World!\")"
   ]
  },
  {
   "cell_type": "markdown",
   "id": "3dfcf68a-1d6d-4f8e-999b-bfacf330a8e8",
   "metadata": {},
   "source": [
    "Click on the \"Try it Yourself\" button to see how it works.\n",
    "Nhấp vào nút \"Thử tự mình\" để xem nó hoạt động như thế nào."
   ]
  },
  {
   "cell_type": "markdown",
   "id": "d8dfff88-813b-41fd-83ff-efd6bd2e73df",
   "metadata": {},
   "source": [
    "Python File Handling\r\n",
    "In our File Handling section you will learn how to open, read, write, and delete files\n",
    "Xử lý tệp Python\r\n",
    "Trong phần Xử lý tệp của chúng tôi, bạn sẽ tìm hiểu cách mở, đọc, ghi và xóa tệphoning"
   ]
  },
  {
   "cell_type": "markdown",
   "id": "c59122dd-7860-407a-9e4e-c86c5e7f63e5",
   "metadata": {},
   "source": [
    "Python Database Handling\r\n",
    "In our database section you will learn how to access and work with MySQL and MongoDB databases\r\n",
    "\r\n",
    "Python MySQL Tutoral\r\n",
    "\r\n",
    "Python MongoDB Tut\n",
    "Xử lý cơ sở dữ liệu Python\r\n",
    "Trong phần cơ sở dữ liệu của chúng tôi, bạn sẽ tìm hiểu cách truy cập và làm việc với cơ sở dữ liệu MySQL và MongoDB\r\n",
    "\r\n",
    "Hướng dẫn Python MyQL\r\n",
    "\r\n",
    "Hướng dẫn Python MongoDBorial"
   ]
  }
 ],
 "metadata": {
  "kernelspec": {
   "display_name": "Python 3 (ipykernel)",
   "language": "python",
   "name": "python3"
  },
  "language_info": {
   "codemirror_mode": {
    "name": "ipython",
    "version": 3
   },
   "file_extension": ".py",
   "mimetype": "text/x-python",
   "name": "python",
   "nbconvert_exporter": "python",
   "pygments_lexer": "ipython3",
   "version": "3.11.7"
  }
 },
 "nbformat": 4,
 "nbformat_minor": 5
}
