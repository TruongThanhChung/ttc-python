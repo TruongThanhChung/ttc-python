{
 "cells": [
  {
   "cell_type": "markdown",
   "id": "ad7c7154-1b76-4ed8-9cda-c31f085abcce",
   "metadata": {},
   "source": [
    "What is Python?\r\n",
    "Python is a popular programming language. It was created by Guido van Rossum, and released in 1991.\n",
    "\r\n",
    "It is used fr:\r\n",
    "\r\n",
    "web development (server-side),\r\n",
    "software development,\r\n",
    "mathematics,\r\n",
    "system sc\n",
    "Python là gì?\r\n",
    "Python là một ngôn ngữ lập trình phổ biến. Nó được tạo ra bởi Guido van Rossum và phát hành vào năm 1991.\n",
    "\r\n",
    "Nó dùng đ:\r\n",
    "\r\n",
    "phát triển web (phía máy chủ),\r\n",
    "phát triển phần mềm,\r\n",
    "toán học,\r\n",
    "kịch bản hệ thống.ripting.thống.ripting."
   ]
  },
  {
   "cell_type": "markdown",
   "id": "d9e1ca71-ef0d-493e-80c1-da6048e6bc68",
   "metadata": {},
   "source": [
    "What can Python do?\r\n",
    "Python can be used on a server to create web applications.\r\n",
    "Python can be used alongside software to create workflows.\r\n",
    "Python can connect to database systems. It can also read and modify files.\r\n",
    "Python can be used to handle big data and perform complex mathematics.\r\n",
    "Python can be used for rapid prototyping, or for production-ready software develop\n",
    "Python có thể làm gì?\r\n",
    "Python có thể được sử dụng trên máy chủ để tạo các ứng dụng web.\r\n",
    "Python có thể được sử dụng cùng với phần mềm để tạo quy trình công việc.\r\n",
    "Python có thể kết nối với hệ thống cơ sở dữ liệu. Nó cũng có thể đọc và sửa đổi các tập tin.\r\n",
    "Python có thể được sử dụng để xử lý dữ liệu lớn và thực hiện các phép toán phức tạp.\r\n",
    "Python có thể được sử dụng để tạo mẫu nhanh hoặc để phát triển phần mềm sẵn sàngxuất.ment."
   ]
  },
  {
   "cell_type": "markdown",
   "id": "ef850950-7c28-4618-8065-f4e6eece1ad8",
   "metadata": {},
   "source": [
    "Why Python?\r\n",
    "Python works on different platforms (Windows, Mac, Linux, Raspberry Pi, etc).\r\n",
    "Python has a simple syntax similar to the English language.\r\n",
    "Python has syntax that allows developers to write programs with fewer lines than some other programming languages.\r\n",
    "Python runs on an interpreter system, meaning that code can be executed as soon as it is written. This means that prototyping can be very quick.\r\n",
    "Python can be treated in a procedural way, an object-oriented way or a functional\n",
    "Tại sao lại là Python?\r\n",
    "Python hoạt động trên các nền tảng khác nhau (Windows, Mac, Linux, Raspberry Pi, v.v.).\r\n",
    "Python có cú pháp đơn giản tương tự như tiếng Anh.\r\n",
    "Python có cú pháp cho phép các nhà phát triển viết chương trình với ít dòng hơn một số ngôn ngữ lập trình khác.\r\n",
    "Python chạy trên một hệ thống thông dịch, nghĩa là mã có thể được thực thi ngay khi được viết. Điều này có nghĩa là việc tạo mẫu có thể rất nhanh chóng.\r\n",
    "Python có thể được xử lý theo cách thủ tục, cách hướng đối tượng hoặc cách năng. way."
   ]
  },
  {
   "cell_type": "markdown",
   "id": "6e369f1e-e2ff-4563-8eb8-8679f80bbc52",
   "metadata": {},
   "source": [
    "Good to know\r\n",
    "The most recent major version of Python is Python 3, which we shall be using in this tutorial. However, Python 2, although not being updated with anything other than security updates, is still quite popular.\r\n",
    "In this tutorial Python will be written in a text editor. It is possible to write Python in an Integrated Development Environment, such as Thonny, Pycharm, Netbeans or Eclipse which are particularly useful when managing larger collections of Python file\n",
    "Thật tốt khi biết\r\n",
    "Phiên bản chính gần đây nhất của Python là Python 3, chúng tôi sẽ sử dụng phiên bản này trong hướng dẫn này. Tuy nhiên, Python 2 mặc dù không được cập nhật bất cứ thứ gì ngoài các bản cập nhật bảo mật nhưng vẫn khá phổ biến.\r\n",
    "Trong hướng dẫn này Python sẽ được viết bằng trình soạn thảo văn bản. Có thể viết Python trong Môi trường phát triển tích hợp, chẳng hạn như Thonny, Pycharm, Netbeans hoặc Eclipse, đặc biệt hữu ích khi quản lý các bộ sưu tập tệp Python lớn n.s."
   ]
  },
  {
   "cell_type": "markdown",
   "id": "636c6f1a-af88-40ef-8cc2-696e8593a2a4",
   "metadata": {},
   "source": [
    "Python Syntax compared to other programming languages\r\n",
    "Python was designed for readability, and has some similarities to the English language with influence from mathematics.\r\n",
    "Python uses new lines to complete a command, as opposed to other programming languages which often use semicolons or parentheses.\r\n",
    "Python relies on indentation, using whitespace, to define scope; such as the scope of loops, functions and classes. Other programming languages often use curly-brackets for this purpo\n",
    "Cú pháp Python so với các ngôn ngữ lập trình khác\r\n",
    "Python được thiết kế để dễ đọc và có một số điểm tương đồng với ngôn ngữ tiếng Anh chịu ảnh hưởng từ toán học.\r\n",
    "Python sử dụng các dòng mới để hoàn thành một lệnh, trái ngược với các ngôn ngữ lập trình khác thường sử dụng dấu chấm phẩy hoặc dấu ngoặc đơn.\r\n",
    "Python dựa vào thụt lề, sử dụng khoảng trắng để xác định phạm vi; chẳng hạn như phạm vi của vòng lặp, hàm và lớp. Các ngôn ngữ lập trình khác thường sử dụng dấu ngoặc nhọn cho mục đích này.se."
   ]
  }
 ],
 "metadata": {
  "kernelspec": {
   "display_name": "Python 3 (ipykernel)",
   "language": "python",
   "name": "python3"
  },
  "language_info": {
   "codemirror_mode": {
    "name": "ipython",
    "version": 3
   },
   "file_extension": ".py",
   "mimetype": "text/x-python",
   "name": "python",
   "nbconvert_exporter": "python",
   "pygments_lexer": "ipython3",
   "version": "3.11.7"
  }
 },
 "nbformat": 4,
 "nbformat_minor": 5
}
