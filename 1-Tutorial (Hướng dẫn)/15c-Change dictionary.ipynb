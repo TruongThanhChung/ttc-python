{
 "cells": [
  {
   "cell_type": "markdown",
   "id": "716bcaa2-4b01-42f0-a7bf-af8107dd654e",
   "metadata": {},
   "source": [
    "# Change Values\n",
    "You can change the value of a specific item by referring to its key name:\n",
    "# Thay đổi giá trị\n",
    "Bạn có thể thay đổi giá trị của một mục cụ thể bằng cách tham khảo tên khóa của nó:"
   ]
  },
  {
   "cell_type": "code",
   "execution_count": 2,
   "id": "86b27bc0-84a0-4fab-bbb0-7a846637c3fc",
   "metadata": {},
   "outputs": [
    {
     "name": "stdout",
     "output_type": "stream",
     "text": [
      "{'brand': 'Ford', 'model': 'Mustang', 'year': 1964}\n",
      "{'brand': 'Ford', 'model': 'Mustang', 'year': 2018}\n"
     ]
    }
   ],
   "source": [
    "# Change the \"year\" to 2018:\n",
    "# Thay đổi \"năm\" thành 2018:\n",
    "thisdict = {\n",
    "  \"brand\": \"Ford\",\n",
    "  \"model\": \"Mustang\",\n",
    "  \"year\": 1964\n",
    "}\n",
    "print(thisdict)\n",
    "thisdict[\"year\"] = 2018\n",
    "print(thisdict)"
   ]
  },
  {
   "cell_type": "markdown",
   "id": "00c73183-89bb-49e8-9019-e3b295d6aa99",
   "metadata": {},
   "source": [
    "# Update Dictionary\n",
    "The update() method will update the dictionary with the items from the given argument.\n",
    "The argument must be a dictionary, or an iterable object with key:value pairs.\n",
    "\n",
    "# Cập nhật từ điển\n",
    "Phương thức này update() sẽ cập nhật từ điển với các mục từ đối số đã cho.\n",
    "Đối số phải là một từ điển hoặc một đối tượng có thể lặp lại với các cặp khóa:giá trị."
   ]
  },
  {
   "cell_type": "code",
   "execution_count": null,
   "id": "26d54971-79fa-44e5-a317-0f977e17b443",
   "metadata": {},
   "outputs": [],
   "source": [
    "# Update the \"year\" of the car by using the update() method:\n",
    "# Cập nhật \"năm\" của ô tô bằng phương update() pháp:\n",
    "thisdict = {\n",
    "  \"brand\": \"Ford\",\n",
    "  \"model\": \"Mustang\",\n",
    "  \"year\": 1964\n",
    "}\n",
    "thisdict.update({\"year\": 2020})"
   ]
  }
 ],
 "metadata": {
  "kernelspec": {
   "display_name": "Python 3 (ipykernel)",
   "language": "python",
   "name": "python3"
  },
  "language_info": {
   "codemirror_mode": {
    "name": "ipython",
    "version": 3
   },
   "file_extension": ".py",
   "mimetype": "text/x-python",
   "name": "python",
   "nbconvert_exporter": "python",
   "pygments_lexer": "ipython3",
   "version": "3.12.3"
  }
 },
 "nbformat": 4,
 "nbformat_minor": 5
}
