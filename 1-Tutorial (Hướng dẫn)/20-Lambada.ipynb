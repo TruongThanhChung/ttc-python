{
 "cells": [
  {
   "cell_type": "markdown",
   "id": "2d247206-c049-4984-9c7a-001f159b364e",
   "metadata": {},
   "source": [
    "A lambda function is a small anonymous function.\n",
    "A lambda function can take any number of arguments, but can only have one expression.\n",
    "Hàm lambda là một hàm ẩn danh nhỏ.\n",
    "Hàm lambda có thể nhận bất kỳ số lượng đối số nào nhưng chỉ có thể có một biểu thức."
   ]
  },
  {
   "cell_type": "markdown",
   "id": "d6ed5952-2fc3-4ddf-8918-23a5c75a7882",
   "metadata": {},
   "source": [
    "Syntax\n",
    "lambda arguments : expression\n",
    "The expression is executed and the result is returned:\n",
    "Cú pháp\n",
    "lambda arguments : expression\n",
    "Biểu thức được thực thi và kết quả được trả về:"
   ]
  },
  {
   "cell_type": "code",
   "execution_count": 1,
   "id": "3dc8c6fb-73e0-4594-ab79-558c119c0bdb",
   "metadata": {},
   "outputs": [
    {
     "name": "stdout",
     "output_type": "stream",
     "text": [
      "15\n"
     ]
    }
   ],
   "source": [
    "# Add 10 to argument a, and return the result:\n",
    "# Thêm 10 vào đối số a và trả về kết quả:\n",
    "x = lambda a : a + 10\n",
    "print(x(5))"
   ]
  },
  {
   "cell_type": "markdown",
   "id": "ea126888-6e1a-4094-9ad4-39887a3d1f7a",
   "metadata": {},
   "source": [
    "Lambda functions can take any number of arguments:\n",
    "Hàm Lambda có thể nhận bất kỳ số lượng đối số nào:"
   ]
  },
  {
   "cell_type": "code",
   "execution_count": 4,
   "id": "806f4d20-8cc1-456e-88a7-2b60c6bb2a05",
   "metadata": {},
   "outputs": [
    {
     "name": "stdout",
     "output_type": "stream",
     "text": [
      "30\n"
     ]
    }
   ],
   "source": [
    "# Multiply argument a with argument b and return the result:\n",
    "# Nhân đối số a với đối số b và trả về kết quả:\n",
    "x = lambda a, b : a * b\n",
    "print(x(5, 6))"
   ]
  },
  {
   "cell_type": "code",
   "execution_count": 3,
   "id": "6271d18a-fc91-4fa5-8811-6aba315a8b27",
   "metadata": {},
   "outputs": [
    {
     "name": "stdout",
     "output_type": "stream",
     "text": [
      "13\n"
     ]
    }
   ],
   "source": [
    "# Summarize argument a, b, and c and return the result:\n",
    "# Tóm tắt đối số a, bvà ctrả về kết quả:\n",
    "x = lambda a, b, c : a + b + c\n",
    "print(x(5, 6, 2))"
   ]
  },
  {
   "cell_type": "markdown",
   "id": "b9c7f49f-82fb-4f3d-82fe-df912bb84b04",
   "metadata": {},
   "source": [
    "Why Use Lambda Functions?\n",
    "The power of lambda is better shown when you use them as an anonymous function inside another function.\n",
    "Say you have a function definition that takes one argument, and that argument will be multiplied with an unknown number:\n",
    "Tại sao nên sử dụng hàm Lambda?\n",
    "Sức mạnh của lambda được thể hiện rõ hơn khi bạn sử dụng chúng như một hàm ẩn danh bên trong một hàm khác.\n",
    "Giả sử bạn có một định nghĩa hàm nhận vào một đối số và đối số đó sẽ được nhân với một số chưa xác định:"
   ]
  },
  {
   "cell_type": "code",
   "execution_count": null,
   "id": "3245978c-3bb2-42a4-af82-4821c80db639",
   "metadata": {},
   "outputs": [],
   "source": [
    "def myfunc(n):\n",
    "  return lambda a : a * n"
   ]
  },
  {
   "cell_type": "code",
   "execution_count": 6,
   "id": "aa2a8d03-ce6e-4bc6-a054-c15cfd05f8f1",
   "metadata": {},
   "outputs": [
    {
     "name": "stdout",
     "output_type": "stream",
     "text": [
      "22\n"
     ]
    }
   ],
   "source": [
    "# Use that function definition to make a function that always doubles the number you send in:\n",
    "# Sử dụng định nghĩa hàm đó để tạo một hàm luôn nhân đôi số bạn gửi vào:\n",
    "def myfunc(n):\n",
    "  return lambda a : a * n\n",
    "\n",
    "mydoubler = myfunc(2)\n",
    "\n",
    "print(mydoubler(11))"
   ]
  },
  {
   "cell_type": "code",
   "execution_count": 7,
   "id": "7564129b-3f59-4169-b06e-3c06f9242dbf",
   "metadata": {},
   "outputs": [
    {
     "name": "stdout",
     "output_type": "stream",
     "text": [
      "33\n"
     ]
    }
   ],
   "source": [
    "# Or, use the same function definition to make a function that always triples the number you send in:\n",
    "# Hoặc, sử dụng định nghĩa hàm tương tự để tạo một hàm luôn nhân ba số bạn gửi vào:\n",
    "def myfunc(n):\n",
    "  return lambda a : a * n\n",
    "\n",
    "mytripler = myfunc(3)\n",
    "\n",
    "print(mytripler(11))"
   ]
  },
  {
   "cell_type": "code",
   "execution_count": 8,
   "id": "000b0263-3285-491e-a264-a3d8f2a81537",
   "metadata": {},
   "outputs": [
    {
     "name": "stdout",
     "output_type": "stream",
     "text": [
      "22\n",
      "33\n"
     ]
    }
   ],
   "source": [
    "# Or, use the same function definition to make both functions, in the same program:\n",
    "# Hoặc, sử dụng cùng một định nghĩa hàm để tạo cả hai hàm trong cùng một chương trình:\n",
    "def myfunc(n):\n",
    "  return lambda a : a * n\n",
    "\n",
    "mydoubler = myfunc(2)\n",
    "mytripler = myfunc(3)\n",
    "\n",
    "print(mydoubler(11))\n",
    "print(mytripler(11))"
   ]
  },
  {
   "cell_type": "markdown",
   "id": "7e17b72d-00ca-45b1-beaa-20172c73b499",
   "metadata": {},
   "source": [
    "Use lambada functions when an anonymous function is required for a short period of time.\n",
    "Sử dụng hàm lambada khi cần có hàm ẩn danh trong một khoảng thời gian ngắn."
   ]
  }
 ],
 "metadata": {
  "kernelspec": {
   "display_name": "Python 3 (ipykernel)",
   "language": "python",
   "name": "python3"
  },
  "language_info": {
   "codemirror_mode": {
    "name": "ipython",
    "version": 3
   },
   "file_extension": ".py",
   "mimetype": "text/x-python",
   "name": "python",
   "nbconvert_exporter": "python",
   "pygments_lexer": "ipython3",
   "version": "3.11.7"
  }
 },
 "nbformat": 4,
 "nbformat_minor": 5
}
