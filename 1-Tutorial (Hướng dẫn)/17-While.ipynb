{
 "cells": [
  {
   "cell_type": "markdown",
   "id": "309e942a-5e63-4c9a-9ea6-c9e9bbb163a8",
   "metadata": {},
   "source": [
    "# The while Loop\n",
    "With the while loop we can execute a set of statements as long as a condition is true.\n",
    "# Vòng lặp while\n",
    "Với vòng lặp while , chúng ta có thể thực thi một tập hợp các câu lệnh miễn là điều kiện còn đúng."
   ]
  },
  {
   "cell_type": "code",
   "execution_count": 1,
   "id": "78f464e3-d4c6-4fbe-a510-520a4169115e",
   "metadata": {},
   "outputs": [
    {
     "name": "stdout",
     "output_type": "stream",
     "text": [
      "1\n",
      "2\n",
      "3\n",
      "4\n",
      "5\n"
     ]
    }
   ],
   "source": [
    "# Print i as long as i is less than 6:\n",
    "# In i miễn là i nhỏ hơn 6:\n",
    "i = 1\n",
    "while i < 6:\n",
    "  print(i)\n",
    "  i += 1"
   ]
  },
  {
   "cell_type": "markdown",
   "id": "4bf1c985-e66d-4944-8ae7-b451c5d3fd94",
   "metadata": {},
   "source": [
    "Note: remember to increment i, or else the loop will continue forever.\n",
    "Lưu ý: nhớ tăng i, nếu không vòng lặp sẽ tiếp tục mãi mãi."
   ]
  },
  {
   "cell_type": "code",
   "execution_count": null,
   "id": "3cbd326c-a8f0-428c-838d-d521f78910e0",
   "metadata": {},
   "outputs": [],
   "source": [
    "The while loop requires relevant variables to be ready, in this example we need to define an indexing variable, i, which we set to 1.\n",
    "Vòng lặp while yêu cầu các biến liên quan phải sẵn sàng, trong ví dụ này, chúng ta cần xác định một biến chỉ mục, i , mà chúng ta đặt thành 1."
   ]
  },
  {
   "cell_type": "markdown",
   "id": "5d246bb2-3a32-46dd-8622-22e3f3cafdcd",
   "metadata": {},
   "source": [
    "# The break Statement\n",
    "With the break statement we can stop the loop even if the while condition is true:\n",
    "# Tuyên bố nghỉ giải lao\n",
    "Với câu lệnh break chúng ta có thể dừng vòng lặp ngay cả khi điều kiện while đúng:"
   ]
  },
  {
   "cell_type": "code",
   "execution_count": 2,
   "id": "76767a6f-b56e-402f-8db6-899942d0b967",
   "metadata": {},
   "outputs": [
    {
     "name": "stdout",
     "output_type": "stream",
     "text": [
      "1\n",
      "2\n",
      "3\n"
     ]
    }
   ],
   "source": [
    "# Exit the loop when i is 3:\n",
    "# Thoát khỏi vòng lặp khi tôi lên 3:\n",
    "i = 1\n",
    "while i < 6:\n",
    "  print(i)\n",
    "  if i == 3:\n",
    "    break\n",
    "  i += 1"
   ]
  },
  {
   "cell_type": "markdown",
   "id": "19e085cd-2626-4521-9f22-138974dc6d1b",
   "metadata": {},
   "source": [
    "# The continue Statement\n",
    "With the continue statement we can stop the current iteration, and continue with the next:\n",
    "# Tuyên bố tiếp tục\n",
    "Với câu lệnh continue, chúng ta có thể dừng lần lặp hiện tại và tiếp tục với lần lặp tiếp theo:"
   ]
  },
  {
   "cell_type": "code",
   "execution_count": 3,
   "id": "68a565d2-5531-4527-b132-5669baac5895",
   "metadata": {},
   "outputs": [
    {
     "name": "stdout",
     "output_type": "stream",
     "text": [
      "1\n",
      "2\n",
      "4\n",
      "5\n",
      "6\n"
     ]
    }
   ],
   "source": [
    "# Continue to the next iteration if i is 3:\n",
    "# Tiếp tục bước lặp tiếp theo nếu i là 3:\n",
    "i = 0\n",
    "while i < 6:\n",
    "  i += 1\n",
    "  if i == 3:\n",
    "    continue\n",
    "  print(i)"
   ]
  },
  {
   "cell_type": "markdown",
   "id": "547d02f7-e84b-42a1-948f-8c02affb7045",
   "metadata": {},
   "source": [
    "# The else Statement\n",
    "With the else statement we can run a block of code once when the condition no longer is true:\n",
    "# Tuyên bố khác\n",
    "Với câu lệnh else chúng ta có thể chạy một khối mã một lần khi điều kiện không còn đúng nữa:"
   ]
  },
  {
   "cell_type": "code",
   "execution_count": 4,
   "id": "b20758ba-5f27-42b5-b6c8-279acf7f55bf",
   "metadata": {},
   "outputs": [
    {
     "name": "stdout",
     "output_type": "stream",
     "text": [
      "1\n",
      "2\n",
      "3\n",
      "4\n",
      "5\n",
      "i is no longer less than 6\n"
     ]
    }
   ],
   "source": [
    "# Print a message once the condition is false:\n",
    "# In tin nhắn khi điều kiện sai:\n",
    "i = 1\n",
    "while i < 6:\n",
    "  print(i)\n",
    "  i += 1\n",
    "else:\n",
    "  print(\"i is no longer less than 6\")"
   ]
  },
  {
   "cell_type": "code",
   "execution_count": null,
   "id": "3a40252b-5cda-46cd-8ac6-cda44b982932",
   "metadata": {},
   "outputs": [],
   "source": []
  }
 ],
 "metadata": {
  "kernelspec": {
   "display_name": "Python 3 (ipykernel)",
   "language": "python",
   "name": "python3"
  },
  "language_info": {
   "codemirror_mode": {
    "name": "ipython",
    "version": 3
   },
   "file_extension": ".py",
   "mimetype": "text/x-python",
   "name": "python",
   "nbconvert_exporter": "python",
   "pygments_lexer": "ipython3",
   "version": "3.12.3"
  }
 },
 "nbformat": 4,
 "nbformat_minor": 5
}
