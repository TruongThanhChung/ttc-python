{
 "cells": [
  {
   "cell_type": "markdown",
   "id": "5c0cedac-0d71-408e-89ed-f6d7d98d7b3e",
   "metadata": {},
   "source": [
    "Delete a Table\r\n",
    "You can delete an existing table by using the \"DROP TABLE\" statement\n",
    "Xóa một bảng\r\n",
    "Bạn có thể xóa bảng hiện có bằng cách sử dụng câu lệnh \"DROP TABL::"
   ]
  },
  {
   "cell_type": "code",
   "execution_count": null,
   "id": "5823bc7a-9d72-4dcf-841c-f1955c693f3d",
   "metadata": {},
   "outputs": [],
   "source": [
    "# Delete the table \"customers\":\n",
    "# Xóa bảng “khách hàng”:\n",
    "import mysql.connector\n",
    "\n",
    "mydb = mysql.connector.connect(\n",
    "  host=\"localhost\",\n",
    "  user=\"root\",\n",
    "  password=\"MySQLttc82$\",\n",
    "  database=\"mydatabase\"\n",
    ")\n",
    "\n",
    "mycursor = mydb.cursor()\n",
    "\n",
    "sql = \"DROP TABLE customers\"\n",
    "\n",
    "mycursor.execute(sql)"
   ]
  },
  {
   "cell_type": "markdown",
   "id": "7f46ce3b-74d4-40b6-a501-75c920ebbe07",
   "metadata": {},
   "source": [
    "Drop Only if Exist\r\n",
    "If the table you want to delete is already deleted, or for any other reason does not exist, you can use the IF EXISTS keyword to avoid getting an error\n",
    "Chỉ thả nếu tồn tại\r\n",
    "Nếu bảng bạn muốn xóa đã bị xóa hoặc vì bất kỳ lý do nào khác không tồn tại, bạn có thể sử dụng từ khóa IF EXISTS để tránh gặp l.."
   ]
  },
  {
   "cell_type": "code",
   "execution_count": null,
   "id": "8d5d9c68-6c8d-458d-9077-a724b3aee52b",
   "metadata": {},
   "outputs": [],
   "source": [
    "# Delete the table \"customers\" if it exists:\n",
    "# Xóa bảng \"customers\" nếu nó tồn tại:\n",
    "import mysql.connector\n",
    "\n",
    "mydb = mysql.connector.connect(\n",
    "  host=\"localhost\",\n",
    "  user=\"root\",\n",
    "  password=\"MySQLttc82$\",\n",
    "  database=\"mydatabase\"\n",
    ")\n",
    "\n",
    "mycursor = mydb.cursor()\n",
    "\n",
    "sql = \"DROP TABLE IF EXISTS customers\"\n",
    "\n",
    "mycursor.execute(sql)"
   ]
  },
  {
   "cell_type": "code",
   "execution_count": null,
   "id": "242116cd-2adb-4320-be18-1f249b4ae07e",
   "metadata": {},
   "outputs": [],
   "source": []
  }
 ],
 "metadata": {
  "kernelspec": {
   "display_name": "Python 3 (ipykernel)",
   "language": "python",
   "name": "python3"
  },
  "language_info": {
   "codemirror_mode": {
    "name": "ipython",
    "version": 3
   },
   "file_extension": ".py",
   "mimetype": "text/x-python",
   "name": "python",
   "nbconvert_exporter": "python",
   "pygments_lexer": "ipython3",
   "version": "3.11.7"
  }
 },
 "nbformat": 4,
 "nbformat_minor": 5
}
