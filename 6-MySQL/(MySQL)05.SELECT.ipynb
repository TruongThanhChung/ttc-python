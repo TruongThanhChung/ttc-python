{
 "cells": [
  {
   "cell_type": "markdown",
   "id": "b312c627-fab3-4deb-8583-d250e9ec8741",
   "metadata": {},
   "source": [
    "Select From a Table\n",
    "To select from a table in MySQL, use the \"SELECT\" statement:\n",
    "Chọn từ một bảng\r\n",
    "Để chọn từ một bảng trong MySQL, hãy sử dụng câu lệnh \"SELECT\":"
   ]
  },
  {
   "cell_type": "code",
   "execution_count": 1,
   "id": "20c4031f-896e-489e-aa2a-a33c76672367",
   "metadata": {},
   "outputs": [
    {
     "name": "stdout",
     "output_type": "stream",
     "text": [
      "('John', 'Highway 21', 1)\n",
      "('Peter', 'Lowstreet 4', 2)\n",
      "('Amy', 'Apple st 652', 3)\n",
      "('Hannah', 'Mountain 21', 4)\n",
      "('Michael', 'Valley 345', 5)\n",
      "('Sandy', 'Ocean blvd 2', 6)\n",
      "('Betty', 'Green Grass 1', 7)\n",
      "('Richard', 'Sky st 331', 8)\n",
      "('Susan', 'One way 98', 9)\n",
      "('Vicky', 'Yellow Garden 2', 10)\n",
      "('Ben', 'Park Lane 38', 11)\n",
      "('William', 'Central st 954', 12)\n",
      "('Chuck', 'Main Road 989', 13)\n",
      "('Viola', 'Sideway 1633', 14)\n",
      "('Michelle', 'Blue Village', 15)\n"
     ]
    }
   ],
   "source": [
    "# Select all records from the \"customers\" table, and display the result:\n",
    "# Chọn tất cả bản ghi từ bảng \"khách hàng\" và hiển thị kết quả:\n",
    "import mysql.connector\n",
    "\n",
    "mydb = mysql.connector.connect(\n",
    "  host=\"localhost\",\n",
    "  user=\"root\",\n",
    "  password=\"MySQLttc82$\",\n",
    "  database=\"mydatabase\"\n",
    ")\n",
    "\n",
    "mycursor = mydb.cursor()\n",
    "\n",
    "mycursor.execute(\"SELECT * FROM customers\")\n",
    "\n",
    "myresult = mycursor.fetchall()\n",
    "\n",
    "for x in myresult:\n",
    "  print(x)"
   ]
  },
  {
   "cell_type": "markdown",
   "id": "84fa90ec-b28c-419f-853a-b25686cb82c0",
   "metadata": {},
   "source": [
    "Note: We use the fetchall() method, which fetches all rows from the last executed statement.\n",
    "Lưu ý: Chúng tôi sử dụng phương thức fetchall() tìm nạp tất cả các hàng từ câu lệnh được thực thi cuối cùng."
   ]
  },
  {
   "cell_type": "markdown",
   "id": "3cda9e82-c259-471f-b3b4-53873e7202f9",
   "metadata": {},
   "source": [
    "Selecting Columns\n",
    "To select only some of the columns in a table, use the \"SELECT\" statement followed by the column name(s):\n",
    "Chọn cột\r\n",
    "Để chỉ chọn một số cột trong bảng, hãy sử dụng câu lệnh \"SELECT\" theo sau là (các) tên cột:"
   ]
  },
  {
   "cell_type": "code",
   "execution_count": 2,
   "id": "5a388d40-ffae-4e0f-bb40-fa2e2fcbf0de",
   "metadata": {},
   "outputs": [
    {
     "name": "stdout",
     "output_type": "stream",
     "text": [
      "('John', 'Highway 21')\n",
      "('Peter', 'Lowstreet 4')\n",
      "('Amy', 'Apple st 652')\n",
      "('Hannah', 'Mountain 21')\n",
      "('Michael', 'Valley 345')\n",
      "('Sandy', 'Ocean blvd 2')\n",
      "('Betty', 'Green Grass 1')\n",
      "('Richard', 'Sky st 331')\n",
      "('Susan', 'One way 98')\n",
      "('Vicky', 'Yellow Garden 2')\n",
      "('Ben', 'Park Lane 38')\n",
      "('William', 'Central st 954')\n",
      "('Chuck', 'Main Road 989')\n",
      "('Viola', 'Sideway 1633')\n",
      "('Michelle', 'Blue Village')\n"
     ]
    }
   ],
   "source": [
    "# Select only the name and address columns:\n",
    "# Chỉ chọn cột tên và địa chỉ:\n",
    "import mysql.connector\n",
    "\n",
    "mydb = mysql.connector.connect(\n",
    "  host=\"localhost\",\n",
    "  user=\"root\",\n",
    "  password=\"MySQLttc82$\",\n",
    "  database=\"mydatabase\"\n",
    ")\n",
    "\n",
    "mycursor = mydb.cursor()\n",
    "\n",
    "mycursor.execute(\"SELECT name, address FROM customers\")\n",
    "\n",
    "myresult = mycursor.fetchall()\n",
    "\n",
    "for x in myresult:\n",
    "  print(x)"
   ]
  },
  {
   "cell_type": "markdown",
   "id": "69bcf465-13f0-47d4-bcb6-12f56efc08e7",
   "metadata": {},
   "source": [
    "Using the fetchone() Method\r\n",
    "If you are only interested in one row, you can use the fetchone() method\n",
    "\r\n",
    "The fetchone() method will return the first row of the rltesu\n",
    "Sử dụng phương thức getdone()\r\n",
    "Nếu bạn chỉ quan tâm đến một hàng, bạn có thể sửg dụn phương hứcg fetch)nàyương thứchứcơng fe()honhức sẽ trả về hàng đầu tiên của kuả:lt:"
   ]
  },
  {
   "cell_type": "code",
   "execution_count": 3,
   "id": "7a82294b-b175-4259-bc71-ab8c2d913c76",
   "metadata": {},
   "outputs": [
    {
     "name": "stdout",
     "output_type": "stream",
     "text": [
      "('John', 'Highway 21', 1)\n"
     ]
    }
   ],
   "source": [
    "# Fetch only one row:\n",
    "# Chỉ tìm nạp một hàng:\n",
    "import mysql.connector\n",
    "\n",
    "mydb = mysql.connector.connect(\n",
    "  host=\"localhost\",\n",
    "  user=\"root\",\n",
    "  password=\"MySQLttc82$\",\n",
    "  database=\"mydatabase\"\n",
    ")\n",
    "\n",
    "mycursor = mydb.cursor()\n",
    "\n",
    "mycursor.execute(\"SELECT * FROM customers\")\n",
    "\n",
    "myresult = mycursor.fetchone()\n",
    "\n",
    "print(myresult)"
   ]
  },
  {
   "cell_type": "code",
   "execution_count": null,
   "id": "5a441804-b842-4fb1-999f-6f61e285ba4d",
   "metadata": {},
   "outputs": [],
   "source": []
  }
 ],
 "metadata": {
  "kernelspec": {
   "display_name": "Python 3 (ipykernel)",
   "language": "python",
   "name": "python3"
  },
  "language_info": {
   "codemirror_mode": {
    "name": "ipython",
    "version": 3
   },
   "file_extension": ".py",
   "mimetype": "text/x-python",
   "name": "python",
   "nbconvert_exporter": "python",
   "pygments_lexer": "ipython3",
   "version": "3.11.7"
  }
 },
 "nbformat": 4,
 "nbformat_minor": 5
}
