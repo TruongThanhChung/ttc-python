{
 "cells": [
  {
   "cell_type": "markdown",
   "id": "862b76a7-15a7-4ed2-8e5c-0a55b4397457",
   "metadata": {},
   "source": [
    "Delete Record\r\n",
    "You can delete records from an existing table by using the \"DELETE FROM\" statement\n",
    "Xóa hồ sơ\r\n",
    "Bạn có thể xóa bản ghi khỏi bảng hiện có bằng cách sử dụng câu lệnh \"DELETE FROM\"::"
   ]
  },
  {
   "cell_type": "code",
   "execution_count": 1,
   "id": "25902774-db6f-4e76-86be-0e694be93168",
   "metadata": {},
   "outputs": [
    {
     "name": "stdout",
     "output_type": "stream",
     "text": [
      "1 record(s) deleted\n"
     ]
    }
   ],
   "source": [
    "# Delete any record where the address is \"Mountain 21\":\n",
    "# Xóa mọi bản ghi có địa chỉ là \"Mountain 21\":\n",
    "import mysql.connector\n",
    "\n",
    "mydb = mysql.connector.connect(\n",
    "  host=\"localhost\",\n",
    "  user=\"root\",\n",
    "  password=\"MySQLttc82$\",\n",
    "  database=\"mydatabase\"\n",
    ")\n",
    "\n",
    "mycursor = mydb.cursor()\n",
    "\n",
    "sql = \"DELETE FROM customers WHERE address = 'Mountain 21'\"\n",
    "\n",
    "mycursor.execute(sql)\n",
    "\n",
    "mydb.commit()\n",
    "\n",
    "print(mycursor.rowcount, \"record(s) deleted\")"
   ]
  },
  {
   "cell_type": "markdown",
   "id": "455a0b40-7475-4ef9-bb10-106d9bdadeb6",
   "metadata": {},
   "source": [
    "Important!: Notice the statement: mydb.commit(). It is required to make the changes, otherwise no changes are made to the table.\n",
    "Quan trọng!: Lưu ý tuyên bố: mydb.commit(). Cần phải thực hiện các thay đổi, nếu không thì không có thay đổi nào được thực hiện đối với bảng."
   ]
  },
  {
   "cell_type": "markdown",
   "id": "fcb28a93-cbb0-4b91-8908-850b44d1df15",
   "metadata": {},
   "source": [
    "Notice the WHERE clause in the DELETE syntax: The WHERE clause specifies which record(s) that should be deleted. If you omit the WHERE clause, all records will be deleted!\n",
    "Lưu ý mệnh đề WHERE trong cú pháp DELETE: Mệnh đề WHERE chỉ định (các) bản ghi nào sẽ bị xóa. Nếu bạn bỏ qua mệnh đề WHERE, tất cả các bản ghi sẽ bị xóa!"
   ]
  },
  {
   "cell_type": "markdown",
   "id": "87a41799-54a8-4f88-b638-4c6ec74a5a6b",
   "metadata": {},
   "source": [
    "Prevent SQL Injection\r\n",
    "It is considered a good practice to escape the values of any query, also in delete statements\r\n",
    "\r\n",
    "This is to prevent SQL injections, which is a common web hacking technique to destroy or misuse your databae.\r\n",
    "\r\n",
    "The mysql.connector module uses the placeholder %s to escape values in the delete state\n",
    "Ngăn chặn việc tiêm SQL\r\n",
    "Việc thoát khỏi các giá trị của bất kỳ truy vấn nào cũng được coi là một cách thực hành tốt, kể cả trong các câu lệnh xóa\r\n",
    "\r\n",
    "Điều này nhằm ngăn chặn việc tiêm SQL, một kỹ thuật tấn công web phổ biến nhằm phá hủy hoặc sử dụng sai mục đích cơ sở dữ liệu của bn.\r\n",
    "\r\n",
    "Mô-đun mysql.connector sử dụng trình giữ chỗ %sđể thoát các giá trị trong câu lệnh xóa:ment:"
   ]
  },
  {
   "cell_type": "code",
   "execution_count": 2,
   "id": "7679265a-0950-423a-bc1a-84ad1ed23bbf",
   "metadata": {},
   "outputs": [
    {
     "name": "stdout",
     "output_type": "stream",
     "text": [
      "1 record(s) deleted\n"
     ]
    }
   ],
   "source": [
    "# Escape values by using the placeholder %s method:\n",
    "# Thoát các giá trị bằng cách sử dụng %s phương pháp giữ chỗ:\n",
    "import mysql.connector\n",
    "\n",
    "mydb = mysql.connector.connect(\n",
    "  host=\"localhost\",\n",
    "  user=\"root\",\n",
    "  password=\"MySQLttc82$\",\n",
    "  database=\"mydatabase\"\n",
    ")\n",
    "\n",
    "mycursor = mydb.cursor()\n",
    "\n",
    "sql = \"DELETE FROM customers WHERE address = %s\"\n",
    "adr = (\"Yellow Garden 2\", )\n",
    "\n",
    "mycursor.execute(sql, adr)\n",
    "\n",
    "mydb.commit()\n",
    "\n",
    "print(mycursor.rowcount, \"record(s) deleted\")"
   ]
  },
  {
   "cell_type": "code",
   "execution_count": null,
   "id": "e0a0f81b-5398-4f49-acb3-bd7bc5ee9094",
   "metadata": {},
   "outputs": [],
   "source": []
  }
 ],
 "metadata": {
  "kernelspec": {
   "display_name": "Python 3 (ipykernel)",
   "language": "python",
   "name": "python3"
  },
  "language_info": {
   "codemirror_mode": {
    "name": "ipython",
    "version": 3
   },
   "file_extension": ".py",
   "mimetype": "text/x-python",
   "name": "python",
   "nbconvert_exporter": "python",
   "pygments_lexer": "ipython3",
   "version": "3.11.7"
  }
 },
 "nbformat": 4,
 "nbformat_minor": 5
}
