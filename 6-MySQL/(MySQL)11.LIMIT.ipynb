{
 "cells": [
  {
   "cell_type": "markdown",
   "id": "ac78f804-ff60-486d-acf7-4ff6f5d716d0",
   "metadata": {},
   "source": [
    "Limit the Result\r\n",
    "You can limit the number of records returned from the query, by using the \"LIMIT\" statement\n",
    "Giới hạn kết quả\r\n",
    "Bạn có thể giới hạn số lượng bản ghi được trả về từ truy vấn bằng cách sử dụng câu lệnh \"LIMI::"
   ]
  },
  {
   "cell_type": "code",
   "execution_count": null,
   "id": "2a843d09-e454-49a6-ac84-d743b6c0adc5",
   "metadata": {},
   "outputs": [],
   "source": [
    "# Select the 5 first records in the \"customers\" table:\n",
    "# Chọn 5 bản ghi đầu tiên trong bảng \"customers\":\n",
    "import mysql.connector\n",
    "\n",
    "mydb = mysql.connector.connect(\n",
    "  host=\"localhost\",\n",
    "  user=\"root\",\n",
    "  password=\"MySQLttc82$\",\n",
    "  database=\"mydatabase\"\n",
    ")\n",
    "\n",
    "mycursor = mydb.cursor()\n",
    "\n",
    "mycursor.execute(\"SELECT * FROM customers LIMIT 5\")\n",
    "\n",
    "myresult = mycursor.fetchall()\n",
    "\n",
    "for x in myresult:\n",
    "  print(x)"
   ]
  },
  {
   "cell_type": "markdown",
   "id": "209ae38f-b305-4e65-bcf1-154a424e0b1f",
   "metadata": {},
   "source": [
    "Start From Another Position\n",
    "If you want to return five records, starting from the third record, you can use the \"OFFSET\" keyword\n",
    "Bắt đầu từ vị trí khác\r\n",
    "Nếu bạn muốn trả về năm bản ghi, bắt đầu từ bản ghi thứ ba, bạn có thể sử dụng từ khóa \"OFFSET:"
   ]
  },
  {
   "cell_type": "code",
   "execution_count": null,
   "id": "a4a6e6d0-a32a-45d8-b7ad-8100ed02fbf4",
   "metadata": {},
   "outputs": [],
   "source": [
    "# Start from position 3, and return 5 records:\n",
    "# Bắt đầu từ vị trí 3 và trả về 5 bản ghi:\n",
    "import mysql.connector\n",
    "\n",
    "mydb = mysql.connector.connect(\n",
    "  host=\"localhost\",\n",
    "  user=\"root\",\n",
    "  password=\"MySQLttc82$\",\n",
    "  database=\"mydatabase\"\n",
    ")\n",
    "\n",
    "mycursor = mydb.cursor()\n",
    "\n",
    "mycursor.execute(\"SELECT * FROM customers LIMIT 5 OFFSET 2\")\n",
    "\n",
    "myresult = mycursor.fetchall()\n",
    "\n",
    "for x in myresult:\n",
    "  print(x)"
   ]
  },
  {
   "cell_type": "code",
   "execution_count": null,
   "id": "acb135cf-bbd4-4fb1-a83e-f8f5ae6af684",
   "metadata": {},
   "outputs": [],
   "source": []
  }
 ],
 "metadata": {
  "kernelspec": {
   "display_name": "Python 3 (ipykernel)",
   "language": "python",
   "name": "python3"
  },
  "language_info": {
   "codemirror_mode": {
    "name": "ipython",
    "version": 3
   },
   "file_extension": ".py",
   "mimetype": "text/x-python",
   "name": "python",
   "nbconvert_exporter": "python",
   "pygments_lexer": "ipython3",
   "version": "3.11.7"
  }
 },
 "nbformat": 4,
 "nbformat_minor": 5
}
