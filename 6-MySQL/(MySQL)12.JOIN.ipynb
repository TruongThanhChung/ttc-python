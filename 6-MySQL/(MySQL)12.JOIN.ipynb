{
 "cells": [
  {
   "cell_type": "markdown",
   "id": "4fa2fefc-03c7-4ecd-8502-eee16ca7d3aa",
   "metadata": {},
   "source": [
    "Join Two or More Tables\r\n",
    "You can combine rows from two or more tables, based on a related column between them, by using a JOIN statement\n",
    "\r\n",
    "Consider you have a \"users\" table and a \"products\" tab\n",
    "Tham gia hai hoặc nhiều bảng\r\n",
    "Bạn có thể kết hợp các hàng từ hai hoặc nhiều bảng, dựa trên cột liên quan giữa chúng, bằng cách sử dụng câu lệnh JHãy xem xét bạn có bảng \"người dùng\" và bảng \"sản phẩm\":m\":le:"
   ]
  },
  {
   "cell_type": "markdown",
   "id": "316054bc-6762-4747-ad00-bd72ff9e9855",
   "metadata": {},
   "source": [
    "usersGet your own Python Server\n",
    "{ id: 1, name: 'John', fav: 154},\n",
    "{ id: 2, name: 'Peter', fav: 154},\n",
    "{ id: 3, name: 'Amy', fav: 155},\n",
    "{ id: 4, name: 'Hannah', fav:},\n",
    "{ id: 5, name: 'Michael', fav:}"
   ]
  },
  {
   "cell_type": "markdown",
   "id": "8f02e578-1a0c-45dd-82fa-a05329463cd1",
   "metadata": {},
   "source": [
    "products\n",
    "{ id: 154, name: 'Chocolate Heaven' },\n",
    "{ id: 155, name: 'Tasty Lemons' },\n",
    "{ id: 156, name: 'Vanilla Dreams' }"
   ]
  },
  {
   "cell_type": "markdown",
   "id": "75e1fe01-5fb4-4dbc-a920-827c9a6a0b41",
   "metadata": {},
   "source": [
    "These two tables can be combined by using users' fav field and products' id field.\n",
    "Hai bảng này có thể được kết hợp bằng cách sử dụng trường fav của người dùng và trường id sản phẩm."
   ]
  },
  {
   "cell_type": "code",
   "execution_count": 1,
   "id": "1dfd8369-0f28-4c86-94bb-13d7f9e37c35",
   "metadata": {},
   "outputs": [
    {
     "ename": "ProgrammingError",
     "evalue": "1146 (42S02): Table 'mydatabase.users' doesn't exist",
     "output_type": "error",
     "traceback": [
      "\u001b[1;31m---------------------------------------------------------------------------\u001b[0m",
      "\u001b[1;31mProgrammingError\u001b[0m                          Traceback (most recent call last)",
      "Cell \u001b[1;32mIn[1], line 20\u001b[0m\n\u001b[0;32m     12\u001b[0m mycursor \u001b[38;5;241m=\u001b[39m mydb\u001b[38;5;241m.\u001b[39mcursor()\n\u001b[0;32m     14\u001b[0m sql \u001b[38;5;241m=\u001b[39m \u001b[38;5;124m\"\u001b[39m\u001b[38;5;124mSELECT \u001b[39m\u001b[38;5;130;01m\\\u001b[39;00m\n\u001b[0;32m     15\u001b[0m \u001b[38;5;124m  users.name AS user, \u001b[39m\u001b[38;5;130;01m\\\u001b[39;00m\n\u001b[0;32m     16\u001b[0m \u001b[38;5;124m  products.name AS favorite \u001b[39m\u001b[38;5;130;01m\\\u001b[39;00m\n\u001b[0;32m     17\u001b[0m \u001b[38;5;124m  FROM users \u001b[39m\u001b[38;5;130;01m\\\u001b[39;00m\n\u001b[0;32m     18\u001b[0m \u001b[38;5;124m  INNER JOIN products ON users.fav = products.id\u001b[39m\u001b[38;5;124m\"\u001b[39m\n\u001b[1;32m---> 20\u001b[0m mycursor\u001b[38;5;241m.\u001b[39mexecute(sql)\n\u001b[0;32m     22\u001b[0m myresult \u001b[38;5;241m=\u001b[39m mycursor\u001b[38;5;241m.\u001b[39mfetchall()\n\u001b[0;32m     24\u001b[0m \u001b[38;5;28;01mfor\u001b[39;00m x \u001b[38;5;129;01min\u001b[39;00m myresult:\n",
      "File \u001b[1;32m~\\AppData\\Roaming\\Python\\Python311\\site-packages\\mysql\\connector\\cursor.py:748\u001b[0m, in \u001b[0;36mMySQLCursor.execute\u001b[1;34m(self, operation, params, multi)\u001b[0m\n\u001b[0;32m    745\u001b[0m     \u001b[38;5;28;01mreturn\u001b[39;00m \u001b[38;5;28mself\u001b[39m\u001b[38;5;241m.\u001b[39m_execute_iter(\u001b[38;5;28mself\u001b[39m\u001b[38;5;241m.\u001b[39m_connection\u001b[38;5;241m.\u001b[39mcmd_query_iter(stmt))\n\u001b[0;32m    747\u001b[0m \u001b[38;5;28;01mtry\u001b[39;00m:\n\u001b[1;32m--> 748\u001b[0m     \u001b[38;5;28mself\u001b[39m\u001b[38;5;241m.\u001b[39m_handle_result(\u001b[38;5;28mself\u001b[39m\u001b[38;5;241m.\u001b[39m_connection\u001b[38;5;241m.\u001b[39mcmd_query(stmt))\n\u001b[0;32m    749\u001b[0m \u001b[38;5;28;01mexcept\u001b[39;00m InterfaceError \u001b[38;5;28;01mas\u001b[39;00m err:\n\u001b[0;32m    750\u001b[0m     \u001b[38;5;28;01mif\u001b[39;00m \u001b[38;5;28mself\u001b[39m\u001b[38;5;241m.\u001b[39m_connection\u001b[38;5;241m.\u001b[39mhave_next_result:\n",
      "File \u001b[1;32m~\\AppData\\Roaming\\Python\\Python311\\site-packages\\mysql\\connector\\opentelemetry\\context_propagation.py:102\u001b[0m, in \u001b[0;36mwith_context_propagation.<locals>.wrapper\u001b[1;34m(cnx, *args, **kwargs)\u001b[0m\n\u001b[0;32m    100\u001b[0m \u001b[38;5;250m\u001b[39m\u001b[38;5;124;03m\"\"\"Context propagation decorator.\"\"\"\u001b[39;00m\n\u001b[0;32m    101\u001b[0m \u001b[38;5;28;01mif\u001b[39;00m \u001b[38;5;129;01mnot\u001b[39;00m OTEL_ENABLED \u001b[38;5;129;01mor\u001b[39;00m \u001b[38;5;129;01mnot\u001b[39;00m cnx\u001b[38;5;241m.\u001b[39motel_context_propagation:\n\u001b[1;32m--> 102\u001b[0m     \u001b[38;5;28;01mreturn\u001b[39;00m method(cnx, \u001b[38;5;241m*\u001b[39margs, \u001b[38;5;241m*\u001b[39m\u001b[38;5;241m*\u001b[39mkwargs)\n\u001b[0;32m    104\u001b[0m current_span \u001b[38;5;241m=\u001b[39m trace\u001b[38;5;241m.\u001b[39mget_current_span()\n\u001b[0;32m    105\u001b[0m tp_header \u001b[38;5;241m=\u001b[39m \u001b[38;5;28;01mNone\u001b[39;00m\n",
      "File \u001b[1;32m~\\AppData\\Roaming\\Python\\Python311\\site-packages\\mysql\\connector\\connection.py:861\u001b[0m, in \u001b[0;36mMySQLConnection.cmd_query\u001b[1;34m(self, query, raw, buffered, raw_as_string)\u001b[0m\n\u001b[0;32m    859\u001b[0m query \u001b[38;5;241m=\u001b[39m \u001b[38;5;28mbytes\u001b[39m(packet)\n\u001b[0;32m    860\u001b[0m \u001b[38;5;28;01mtry\u001b[39;00m:\n\u001b[1;32m--> 861\u001b[0m     result \u001b[38;5;241m=\u001b[39m \u001b[38;5;28mself\u001b[39m\u001b[38;5;241m.\u001b[39m_handle_result(\u001b[38;5;28mself\u001b[39m\u001b[38;5;241m.\u001b[39m_send_cmd(ServerCmd\u001b[38;5;241m.\u001b[39mQUERY, query))\n\u001b[0;32m    862\u001b[0m \u001b[38;5;28;01mexcept\u001b[39;00m ProgrammingError \u001b[38;5;28;01mas\u001b[39;00m err:\n\u001b[0;32m    863\u001b[0m     \u001b[38;5;28;01mif\u001b[39;00m err\u001b[38;5;241m.\u001b[39merrno \u001b[38;5;241m==\u001b[39m \u001b[38;5;241m3948\u001b[39m \u001b[38;5;129;01mand\u001b[39;00m \u001b[38;5;124m\"\u001b[39m\u001b[38;5;124mLoading local data is disabled\u001b[39m\u001b[38;5;124m\"\u001b[39m \u001b[38;5;129;01min\u001b[39;00m err\u001b[38;5;241m.\u001b[39mmsg:\n",
      "File \u001b[1;32m~\\AppData\\Roaming\\Python\\Python311\\site-packages\\mysql\\connector\\connection.py:637\u001b[0m, in \u001b[0;36mMySQLConnection._handle_result\u001b[1;34m(self, packet)\u001b[0m\n\u001b[0;32m    635\u001b[0m     \u001b[38;5;28;01mreturn\u001b[39;00m \u001b[38;5;28mself\u001b[39m\u001b[38;5;241m.\u001b[39m_handle_eof(packet)\n\u001b[0;32m    636\u001b[0m \u001b[38;5;28;01mif\u001b[39;00m packet[\u001b[38;5;241m4\u001b[39m] \u001b[38;5;241m==\u001b[39m \u001b[38;5;241m255\u001b[39m:\n\u001b[1;32m--> 637\u001b[0m     \u001b[38;5;28;01mraise\u001b[39;00m get_exception(packet)\n\u001b[0;32m    639\u001b[0m \u001b[38;5;66;03m# We have a text result set\u001b[39;00m\n\u001b[0;32m    640\u001b[0m column_count \u001b[38;5;241m=\u001b[39m \u001b[38;5;28mself\u001b[39m\u001b[38;5;241m.\u001b[39m_protocol\u001b[38;5;241m.\u001b[39mparse_column_count(packet)\n",
      "\u001b[1;31mProgrammingError\u001b[0m: 1146 (42S02): Table 'mydatabase.users' doesn't exist"
     ]
    }
   ],
   "source": [
    "# Join users and products to see the name of the users favorite product:\n",
    "# Nối users và products để xem tên sản phẩm người dùng yêu thích:\n",
    "import mysql.connector\n",
    "\n",
    "mydb = mysql.connector.connect(\n",
    "  host=\"localhost\",\n",
    "  user=\"root\",\n",
    "  password=\"MySQLttc82$\",\n",
    "  database=\"mydatabase\"\n",
    ")\n",
    "\n",
    "mycursor = mydb.cursor()\n",
    "\n",
    "sql = \"SELECT \\\n",
    "  users.name AS user, \\\n",
    "  products.name AS favorite \\\n",
    "  FROM users \\\n",
    "  INNER JOIN products ON users.fav = products.id\"\n",
    "\n",
    "mycursor.execute(sql)\n",
    "\n",
    "myresult = mycursor.fetchall()\n",
    "\n",
    "for x in myresult:\n",
    "  print(x)"
   ]
  },
  {
   "cell_type": "code",
   "execution_count": null,
   "id": "cd66dc9c-c03a-4e76-8313-8ebba0b73182",
   "metadata": {},
   "outputs": [],
   "source": [
    "Note: You can use JOIN instead of INNER JOIN. They will both give you the same result.\n",
    "Lưu ý: Bạn có thể sử dụng JOIN thay vì INNER JOIN. Cả hai đều sẽ cho bạn kết quả như nhau."
   ]
  },
  {
   "cell_type": "markdown",
   "id": "0aadd3ed-74ed-4edb-a3ab-76e423a72b4c",
   "metadata": {},
   "source": [
    "LEFT JOIN\r\n",
    "In the example above, Hannah, and Michael were excluded from the result, that is because INNER JOIN only shows the records where there is a match\n",
    "\r\n",
    "If you want to show all users, even if they do not have a favorite product, use the LEFT JOIN stateme\n",
    "CHỖ NỐI BÊN TRÁI\r\n",
    "Trong ví dụ trên, Hannah và Michael đã bị loại khỏi kết quả, đó là do INNER JOIN chỉ hiển thị các bản ghi có kết quả trùng kớp\r\n",
    "\r\n",
    "Nếu bạn muốn hiển thị tất cả người dùng, ngay cả khi họ không có sản phẩm yêu thích, hãy sử dụng câu lệnh LEFIN:nt:"
   ]
  },
  {
   "cell_type": "code",
   "execution_count": null,
   "id": "a8c4af4e-634d-45c0-bd74-0478cec6fda0",
   "metadata": {},
   "outputs": [],
   "source": [
    "# Select all users and their favorite product:\n",
    "# Chọn tất cả người dùng và sản phẩm yêu thích của họ:\n",
    "sql = \"SELECT \\\n",
    "  users.name AS user, \\\n",
    "  products.name AS favorite \\\n",
    "  FROM users \\\n",
    "  LEFT JOIN products ON users.fav = products.id\""
   ]
  },
  {
   "cell_type": "markdown",
   "id": "372c1d53-19ed-4c2c-8000-22dd229da701",
   "metadata": {},
   "source": [
    "RIGHT JOIN\r\n",
    "If you want to return all products, and the users who have them as their favorite, even if no user have them as their favorite, use the RIGHT JOIN statement\n",
    "QUYỀN THAM GIA\r\n",
    "Nếu bạn muốn trả lại tất cả các sản phẩm và những người dùng yêu thích chúng, ngay cả khi không có người dùng nào yêu thích chúng, hãy sử dụng câu lệnh RIGHT JN::"
   ]
  },
  {
   "cell_type": "code",
   "execution_count": null,
   "id": "e9f91f23-f7b2-43b5-87aa-eddd7eccb486",
   "metadata": {},
   "outputs": [],
   "source": [
    "# Select all products, and the user(s) who have them as their favorite:\n",
    "# Chọn tất cả các sản phẩm và (những) người dùng yêu thích chúng:\n",
    "\n",
    "sql = \"SELECT \\\n",
    "  users.name AS user, \\\n",
    "  products.name AS favorite \\\n",
    "  FROM users \\\n",
    "  RIGHT JOIN products ON users.fav = products.id\""
   ]
  },
  {
   "cell_type": "code",
   "execution_count": null,
   "id": "a56537b1-f7df-417a-a775-f432d21a6d7c",
   "metadata": {},
   "outputs": [],
   "source": [
    "Note: Hannah and Michael, who have no favorite product, are not included in the result.\n",
    "Lưu ý: Hannah và Michael không có sản phẩm yêu thích sẽ không được đưa vào kết quả."
   ]
  }
 ],
 "metadata": {
  "kernelspec": {
   "display_name": "Python 3 (ipykernel)",
   "language": "python",
   "name": "python3"
  },
  "language_info": {
   "codemirror_mode": {
    "name": "ipython",
    "version": 3
   },
   "file_extension": ".py",
   "mimetype": "text/x-python",
   "name": "python",
   "nbconvert_exporter": "python",
   "pygments_lexer": "ipython3",
   "version": "3.11.7"
  }
 },
 "nbformat": 4,
 "nbformat_minor": 5
}
