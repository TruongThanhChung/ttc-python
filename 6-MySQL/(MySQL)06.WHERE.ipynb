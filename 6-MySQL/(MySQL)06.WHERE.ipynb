{
 "cells": [
  {
   "cell_type": "markdown",
   "id": "d5766b30-1c65-4a40-b55c-93d722312009",
   "metadata": {},
   "source": [
    "Select With a Filter\r\n",
    "When selecting records from a table, you can filter the selection by using the \"WHERE\" statement\n",
    "Chọn bằng bộ lọc\r\n",
    "Khi chọn bản ghi từ một bảng, bạn có thể lọc lựa chọn bằng cách sử dụng câu lệnh \"WHERE\"::"
   ]
  },
  {
   "cell_type": "code",
   "execution_count": 1,
   "id": "c958744a-9fcb-4e27-a707-031497e76b67",
   "metadata": {},
   "outputs": [
    {
     "name": "stdout",
     "output_type": "stream",
     "text": [
      "('Ben', 'Park Lane 38', 11)\n"
     ]
    }
   ],
   "source": [
    "# Select record(s) where the address is \"Park Lane 38\": result:\n",
    "# Chọn (các) bản ghi có địa chỉ là \"Park Lane 38\": kết quả:\n",
    "import mysql.connector\n",
    "\n",
    "mydb = mysql.connector.connect(\n",
    "  host=\"localhost\",\n",
    "  user=\"root\",\n",
    "  password=\"MySQLttc82$\",\n",
    "  database=\"mydatabase\"\n",
    ")\n",
    "\n",
    "mycursor = mydb.cursor()\n",
    "\n",
    "sql = \"SELECT * FROM customers WHERE address ='Park Lane 38'\"\n",
    "\n",
    "mycursor.execute(sql)\n",
    "\n",
    "myresult = mycursor.fetchall()\n",
    "\n",
    "for x in myresult:\n",
    "  print(x)"
   ]
  },
  {
   "cell_type": "markdown",
   "id": "6accfc0e-31ba-457b-98ac-62ccbdb18903",
   "metadata": {},
   "source": [
    "Wildcard Characters\r\n",
    "You can also select the records that starts, includes, or ends with a given letter or phrase\r\n",
    "\r\n",
    "Use the %  to represent wildcard characte\n",
    "Ký tự đại diện\r\n",
    "Bạn cũng có thể chọn các bản ghi bắt đầu, bao gồm hoặc kết thúc bằng một chữ cái hoặc cụm từ nhất định.\n",
    "\r\n",
    "Sử dụng %  để thể hiện các ký tự đại di\n",
    "Example"
   ]
  },
  {
   "cell_type": "code",
   "execution_count": 2,
   "id": "0e019859-e88e-4695-ba54-5a118491764b",
   "metadata": {},
   "outputs": [
    {
     "name": "stdout",
     "output_type": "stream",
     "text": [
      "('John', 'Highway 21', 1)\n",
      "('Susan', 'One way 98', 9)\n",
      "('Viola', 'Sideway 1633', 14)\n"
     ]
    }
   ],
   "source": [
    "# Select records where the address contains the word \"way\":\n",
    "# Chọn các bản ghi có địa chỉ chứa từ \"way\":\n",
    "import mysql.connector\n",
    "\n",
    "mydb = mysql.connector.connect(\n",
    "  host=\"localhost\",\n",
    "  user=\"root\",\n",
    "  password=\"MySQLttc82$\",\n",
    "  database=\"mydatabase\"\n",
    ")\n",
    "\n",
    "mycursor = mydb.cursor()\n",
    "\n",
    "sql = \"SELECT * FROM customers WHERE address LIKE '%way%'\"\n",
    "\n",
    "mycursor.execute(sql)\n",
    "\n",
    "myresult = mycursor.fetchall()\n",
    "\n",
    "for x in myresult:\n",
    "  print(x)"
   ]
  },
  {
   "cell_type": "markdown",
   "id": "9ace8665-cc9e-4d8d-8031-317aa43f7397",
   "metadata": {},
   "source": [
    "Prevent SQL Injection\r\n",
    "When query values are provided by the user, you should escape the values\r\n",
    "\r\n",
    "This is to prevent SQL injections, which is a common web hacking technique to destroy or misuse your databae.\r\n",
    "\r\n",
    "The mysql.connector module has methods to escape query va\n",
    "Ngăn chặn việc tiêm SQL\r\n",
    "Khi người dùng cung cấp giá trị truy vấn, bạn nên thoát khỏi các giá trị đó\r\n",
    "\r\n",
    "Điều này nhằm ngăn chặn việc tiêm SQL, một kỹ thuật tấn công web phổ biến nhằm phá hủy hoặc sử dụng sai mục đích cơ sở dữ liệu của bn.\r\n",
    "\r\n",
    "Mô-đun mysql.connector có các phương thức để thoát các giá trị truy vấn:lues:"
   ]
  },
  {
   "cell_type": "code",
   "execution_count": 3,
   "id": "e8b2e466-0ca9-4518-ae80-4ab06f0635b2",
   "metadata": {},
   "outputs": [
    {
     "name": "stdout",
     "output_type": "stream",
     "text": [
      "('Vicky', 'Yellow Garden 2', 10)\n"
     ]
    }
   ],
   "source": [
    "# Escape query values by using the placholder %s method:\n",
    "# Thoát các giá trị truy vấn bằng cách sử dụng %s phương thức giữ chỗ:\n",
    "import mysql.connector\n",
    "\n",
    "mydb = mysql.connector.connect(\n",
    "  host=\"localhost\",\n",
    "  user=\"root\",\n",
    "  password=\"MySQLttc82$\",\n",
    "  database=\"mydatabase\"\n",
    ")\n",
    "\n",
    "mycursor = mydb.cursor()\n",
    "\n",
    "sql = \"SELECT * FROM customers WHERE address = %s\"\n",
    "adr = (\"Yellow Garden 2\", )\n",
    "\n",
    "mycursor.execute(sql, adr)\n",
    "\n",
    "myresult = mycursor.fetchall()\n",
    "\n",
    "for x in myresult:\n",
    "  print(x)"
   ]
  },
  {
   "cell_type": "code",
   "execution_count": null,
   "id": "33c9ea94-080d-445b-992b-c566b8d16c87",
   "metadata": {},
   "outputs": [],
   "source": []
  }
 ],
 "metadata": {
  "kernelspec": {
   "display_name": "Python 3 (ipykernel)",
   "language": "python",
   "name": "python3"
  },
  "language_info": {
   "codemirror_mode": {
    "name": "ipython",
    "version": 3
   },
   "file_extension": ".py",
   "mimetype": "text/x-python",
   "name": "python",
   "nbconvert_exporter": "python",
   "pygments_lexer": "ipython3",
   "version": "3.11.7"
  }
 },
 "nbformat": 4,
 "nbformat_minor": 5
}
