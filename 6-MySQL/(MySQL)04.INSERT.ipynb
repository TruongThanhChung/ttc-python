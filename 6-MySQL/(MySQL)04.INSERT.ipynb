{
 "cells": [
  {
   "cell_type": "markdown",
   "id": "35b3abe8-4b6c-4cae-989b-bba2ba292593",
   "metadata": {},
   "source": [
    "Insert Into Table\r\n",
    "To fill a table in MySQL, use the \"INSERT INTO\" statement\n",
    "Chèn vào bảng\r\n",
    "Để điền vào bảng trong MySQL, hãy sử dụng câu lệnh \"INSERT INTO\".."
   ]
  },
  {
   "cell_type": "code",
   "execution_count": 1,
   "id": "cc8b4306-9b94-48b2-b8d3-590a79e45082",
   "metadata": {},
   "outputs": [
    {
     "name": "stdout",
     "output_type": "stream",
     "text": [
      "1 record inserted.\n"
     ]
    }
   ],
   "source": [
    "# Insert a record in the \"customers\" table:\n",
    "# Chèn một bản ghi vào bảng \"khách hàng\":\n",
    "import mysql.connector\n",
    "\n",
    "mydb = mysql.connector.connect(\n",
    "  host=\"localhost\",\n",
    "  user=\"root\",\n",
    "  password=\"MySQLttc82$\",\n",
    "  database=\"mydatabase\"\n",
    ")\n",
    "\n",
    "mycursor = mydb.cursor()\n",
    "\n",
    "sql = \"INSERT INTO customers (name, address) VALUES (%s, %s)\"\n",
    "val = (\"John\", \"Highway 21\")\n",
    "mycursor.execute(sql, val)\n",
    "\n",
    "mydb.commit()\n",
    "\n",
    "print(mycursor.rowcount, \"record inserted.\")"
   ]
  },
  {
   "cell_type": "markdown",
   "id": "f12f5893-00a7-49dd-8ef4-694b8026fd5f",
   "metadata": {},
   "source": [
    "Important!: Notice the statement: mydb.commit(). It is required to make the changes, otherwise no changes are made to the table.\n",
    "Quan trọng!: Lưu ý tuyên bố: mydb.commit(). Cần phải thực hiện các thay đổi, nếu không thì không có thay đổi nào được thực hiện đối với bảng."
   ]
  },
  {
   "cell_type": "markdown",
   "id": "65d6731e-2b12-41bc-86d2-a585abc1892f",
   "metadata": {},
   "source": [
    "Insert Multiple Rows\r\n",
    "To insert multiple rows into a table, use the executemany() method.\n",
    "\r\n",
    "The second parameter of the executemany() method is a list of tuples, containing the data you want to inse\n",
    "Chèn nhiều hàng\r\n",
    "Để chèn nhiều hàng vào một bảng, hãy sử dụngphương thức  executemany(c này\r\n",
    "\r\n",
    "Tham số thứ hai của phư thứcơng executemanhức là danh sách các bộ dữ liệu, chứa dữ liệu bạn muốn chèn:rt:"
   ]
  },
  {
   "cell_type": "code",
   "execution_count": 2,
   "id": "09fcca7a-f692-48a6-b002-204ebce5c3ce",
   "metadata": {},
   "outputs": [
    {
     "name": "stdout",
     "output_type": "stream",
     "text": [
      "13 was inserted.\n"
     ]
    }
   ],
   "source": [
    "# Fill the \"customers\" table with data:\n",
    "# Điền dữ liệu vào bảng \"khách hàng\":\n",
    "import mysql.connector\n",
    "\n",
    "mydb = mysql.connector.connect(\n",
    "  host=\"localhost\",\n",
    "  user=\"root\",\n",
    "  password=\"MySQLttc82$\",\n",
    "  database=\"mydatabase\"\n",
    ")\n",
    "\n",
    "mycursor = mydb.cursor()\n",
    "\n",
    "sql = \"INSERT INTO customers (name, address) VALUES (%s, %s)\"\n",
    "val = [\n",
    "  ('Peter', 'Lowstreet 4'),\n",
    "  ('Amy', 'Apple st 652'),\n",
    "  ('Hannah', 'Mountain 21'),\n",
    "  ('Michael', 'Valley 345'),\n",
    "  ('Sandy', 'Ocean blvd 2'),\n",
    "  ('Betty', 'Green Grass 1'),\n",
    "  ('Richard', 'Sky st 331'),\n",
    "  ('Susan', 'One way 98'),\n",
    "  ('Vicky', 'Yellow Garden 2'),\n",
    "  ('Ben', 'Park Lane 38'),\n",
    "  ('William', 'Central st 954'),\n",
    "  ('Chuck', 'Main Road 989'),\n",
    "  ('Viola', 'Sideway 1633')\n",
    "]\n",
    "\n",
    "mycursor.executemany(sql, val)\n",
    "\n",
    "mydb.commit()\n",
    "\n",
    "print(mycursor.rowcount, \"was inserted.\")"
   ]
  },
  {
   "cell_type": "markdown",
   "id": "576a2111-1d16-4959-9636-999acee1859a",
   "metadata": {},
   "source": [
    "Get Inserted ID\r\n",
    "You can get the id of the row you just inserted by asking the cursor object\n",
    "Nhận ID được chèn\r\n",
    "Bạn có thể lấy id của hàng bạn vừa chèn bằng cách hỏi đối tượng con trỏ.."
   ]
  },
  {
   "cell_type": "code",
   "execution_count": 3,
   "id": "dcf0d026-7f8c-4a02-a072-1ebabca0c302",
   "metadata": {},
   "outputs": [
    {
     "name": "stdout",
     "output_type": "stream",
     "text": [
      "1 record inserted, ID: 15\n"
     ]
    }
   ],
   "source": [
    "# Insert one row, and return the ID:\n",
    "# Chèn một hàng và trả về ID:\n",
    "import mysql.connector\n",
    "\n",
    "mydb = mysql.connector.connect(\n",
    "  host=\"localhost\",\n",
    "  user=\"root\",\n",
    "  password=\"MySQLttc82$\",\n",
    "  database=\"mydatabase\"\n",
    ")\n",
    "\n",
    "mycursor = mydb.cursor()\n",
    "\n",
    "sql = \"INSERT INTO customers (name, address) VALUES (%s, %s)\"\n",
    "val = (\"Michelle\", \"Blue Village\")\n",
    "mycursor.execute(sql, val)\n",
    "\n",
    "mydb.commit()\n",
    "\n",
    "print(\"1 record inserted, ID:\", mycursor.lastrowid)"
   ]
  },
  {
   "cell_type": "code",
   "execution_count": null,
   "id": "d67fbed2-784b-4954-b1b4-91674ee40dbc",
   "metadata": {},
   "outputs": [],
   "source": []
  }
 ],
 "metadata": {
  "kernelspec": {
   "display_name": "Python 3 (ipykernel)",
   "language": "python",
   "name": "python3"
  },
  "language_info": {
   "codemirror_mode": {
    "name": "ipython",
    "version": 3
   },
   "file_extension": ".py",
   "mimetype": "text/x-python",
   "name": "python",
   "nbconvert_exporter": "python",
   "pygments_lexer": "ipython3",
   "version": "3.11.7"
  }
 },
 "nbformat": 4,
 "nbformat_minor": 5
}
