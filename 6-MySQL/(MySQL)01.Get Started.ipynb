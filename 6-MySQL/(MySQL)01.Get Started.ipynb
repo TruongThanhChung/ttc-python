{
 "cells": [
  {
   "cell_type": "markdown",
   "id": "4e1dcf32-5dd5-439e-b4f9-e8806b92824a",
   "metadata": {},
   "source": [
    "Python can be used in database applications.\r\n",
    "One of the most popular databases is MySL.Q\n",
    "Python có thể được sử dụng trong các ứng dụng cơ sở dữ liệ.u\r\n",
    "Một trong những cơ sở dữ liệu phổ biến nhất là MyS.L."
   ]
  },
  {
   "cell_type": "markdown",
   "id": "3156da2a-95df-48bc-aeb5-d42094d4840e",
   "metadata": {},
   "source": [
    "MySQL Database\r\n",
    "To be able to experiment with the code examples in this tutorial, you should have MySQL installed on your computer\r\n",
    "You can download a MySQL database at https://www.mysql.com/download\n",
    "Cơ sở dữ liệu MySQL\r\n",
    "Để có thể thử nghiệm các ví dụ về mã trong hướng dẫn này, bạn nên cài đặt MySQL trên máy tính của nh\r\n",
    "\r\n",
    "Bạn có thể tải xuống cơ sở dữ liệu MySQL tại https://www.mysql.com/oads .s/."
   ]
  },
  {
   "cell_type": "markdown",
   "id": "93fdcfb2-61b1-469b-a3bb-17d094d62941",
   "metadata": {},
   "source": [
    "Install MySQL Driver\r\n",
    "Python needs a MySQL driver to access the MySQL databas\n",
    "\r\n",
    "In this tutorial we will use the driver \"MySQL Connerct.\r\n",
    "\r\n",
    "We recommend that you use PIP to install \"MySQL Ctonner\".\r\n",
    "\r\n",
    "PIP is most likely already installed in your Python enviment.\r\n",
    "\r\n",
    "Navigate your command line to the location of and type the fype the f\n",
    "Cài đặt trình điều khiển MySQL\r\n",
    "Python cần trình điều khiển MySQL để truy cập cơ sở dữ ệu MySQL\r\n",
    "\r\n",
    "Trong hướng dẫn này, chúng tôi sẽ sử dụng trình điSQLkhiển \"MyrrS Connecto\".\r\n",
    "\r\n",
    "Chúng tôi khuyên bạn nên sử dụng IP đSể cài đặttt \"MQL Connecor\".\r\n",
    "\r\n",
    "PIP rất có thể đã được cài đặtg trong môủi trườ Python ca bạn.\r\n",
    "\r\n",
    "Điều hướng dòng lệnh của bn đến vị như sau:ollowing:"
   ]
  },
  {
   "cell_type": "markdown",
   "id": "6655af64-3f42-457d-8812-8c77a4538dfb",
   "metadata": {},
   "source": [
    "C:\\Users\\Your Name\\AppData\\Local\\Programs\\Python\\Python36-32\\Scripts>python -m pip install mysql-connector-python"
   ]
  },
  {
   "cell_type": "markdown",
   "id": "6be42058-a182-473f-9e90-cee66fe14e1f",
   "metadata": {},
   "source": [
    "Now you have downloaded and installed a MySQL driver.\n",
    "Bây giờ bạn đã tải xuống và cài đặt trình điều khiển MySQL."
   ]
  },
  {
   "cell_type": "markdown",
   "id": "856e830a-6016-4d8f-9720-d18aa6c967be",
   "metadata": {},
   "source": [
    "Test MySQL Connector\r\n",
    "To test if the installation was successful, or if you already have \"MySQL Connector\" installed, create a Python page with the following content:Kiểm tra trình kết nối MySQL\r\n",
    "Để kiểm tra xem quá trình cài đặt có thành công hay bạn đã cài đặt \"MySQL Connector\" hay chưa, hãy tạo một trang Python có nội dung saudemo_mysql_test.py:\n",
    "\r\n",
    "import mysql.connectornector"
   ]
  },
  {
   "cell_type": "code",
   "execution_count": 1,
   "id": "a2fcb37f-1e5e-4da4-82ff-03251a429314",
   "metadata": {},
   "outputs": [],
   "source": [
    "import mysql.connector"
   ]
  },
  {
   "cell_type": "markdown",
   "id": "d8fb2ce2-0347-45f7-b3f2-4ca61133e945",
   "metadata": {},
   "source": [
    "If the above code was executed with no errors, \"MySQL Connector\" is installed and ready to be used.\n",
    "Nếu đoạn mã trên được thực thi không có lỗi thì \"MySQL Connector\" đã được cài đặt và sẵn sàng để sử dụng."
   ]
  },
  {
   "cell_type": "markdown",
   "id": "e00d12a2-173e-455c-952e-4c4999dcf8f0",
   "metadata": {},
   "source": [
    "Create Connection\r\n",
    "Start by creating a connection to the database.\n",
    "\r\n",
    "Use the username and password from your MySQL databasTạo kết nối\r\n",
    "Bắt đầu bằng cách tạo kết nối tới cơ sở dữ liệu\r\n",
    "\r\n",
    "Sử dụng tên người dùng và mật khẩu từ cơ sở dữ liệu MySQL của bạn:intạn:se:"
   ]
  },
  {
   "cell_type": "code",
   "execution_count": 8,
   "id": "d49d3b98-6528-46dd-83b2-e18d6fb77f05",
   "metadata": {},
   "outputs": [
    {
     "name": "stdout",
     "output_type": "stream",
     "text": [
      "<mysql.connector.connection.MySQLConnection object at 0x0000021C34271F90>\n"
     ]
    },
    {
     "ename": "NameError",
     "evalue": "name 'mydb' is not defined",
     "output_type": "error",
     "traceback": [
      "\u001b[1;31m---------------------------------------------------------------------------\u001b[0m",
      "\u001b[1;31mNameError\u001b[0m                                 Traceback (most recent call last)",
      "Cell \u001b[1;32mIn[8], line 9\u001b[0m\n\u001b[0;32m      3\u001b[0m conn \u001b[38;5;241m=\u001b[39m mysql\u001b[38;5;241m.\u001b[39mconnector\u001b[38;5;241m.\u001b[39mconnect(\n\u001b[0;32m      4\u001b[0m   host\u001b[38;5;241m=\u001b[39m\u001b[38;5;124m\"\u001b[39m\u001b[38;5;124mlocalhost\u001b[39m\u001b[38;5;124m\"\u001b[39m,\n\u001b[0;32m      5\u001b[0m   user\u001b[38;5;241m=\u001b[39m\u001b[38;5;124m\"\u001b[39m\u001b[38;5;124mroot\u001b[39m\u001b[38;5;124m\"\u001b[39m,\n\u001b[0;32m      6\u001b[0m   password\u001b[38;5;241m=\u001b[39m\u001b[38;5;124m\"\u001b[39m\u001b[38;5;124mMySQLttc82$\u001b[39m\u001b[38;5;124m\"\u001b[39m\n\u001b[0;32m      7\u001b[0m )\n\u001b[0;32m      8\u001b[0m \u001b[38;5;28mprint\u001b[39m(conn)\n\u001b[1;32m----> 9\u001b[0m \u001b[38;5;28mint\u001b[39m(mydb)\n",
      "\u001b[1;31mNameError\u001b[0m: name 'mydb' is not defined"
     ]
    }
   ],
   "source": [
    "import mysql.connector\n",
    "\n",
    "conn = mysql.connector.connect(\n",
    "  host=\"localhost\",\n",
    "  user=\"root\",\n",
    "  password=\"MySQLttc82$\"\n",
    ")\n",
    "print(conn)\n",
    "int(mydb)"
   ]
  },
  {
   "cell_type": "markdown",
   "id": "616d7aab-f66a-4433-8d40-914482742f4c",
   "metadata": {},
   "source": [
    "Now you can start querying the database using SQL statements.\n",
    "Bây giờ bạn có thể bắt đầu truy vấn cơ sở dữ liệu bằng câu lệnh SQL."
   ]
  }
 ],
 "metadata": {
  "kernelspec": {
   "display_name": "Python 3 (ipykernel)",
   "language": "python",
   "name": "python3"
  },
  "language_info": {
   "codemirror_mode": {
    "name": "ipython",
    "version": 3
   },
   "file_extension": ".py",
   "mimetype": "text/x-python",
   "name": "python",
   "nbconvert_exporter": "python",
   "pygments_lexer": "ipython3",
   "version": "3.11.7"
  }
 },
 "nbformat": 4,
 "nbformat_minor": 5
}
