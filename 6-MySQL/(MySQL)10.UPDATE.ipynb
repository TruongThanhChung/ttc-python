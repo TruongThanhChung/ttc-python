{
 "cells": [
  {
   "cell_type": "markdown",
   "id": "0fa5bebc-1d7a-40de-87eb-6fa1ebd2e000",
   "metadata": {},
   "source": [
    "Update Table\n",
    "You can update existing records in a table by using the \"UPDATE\" statement:\n",
    "Cập nhật bảng\r\n",
    "Bạn có thể cập nhật các bản ghi hiện có trong bảng bằng cách sử dụng câu lệnh \"UPDATE\":"
   ]
  },
  {
   "cell_type": "code",
   "execution_count": null,
   "id": "1a51ebbb-211e-46ff-987f-cc80eb5bd32d",
   "metadata": {},
   "outputs": [],
   "source": [
    "# Overwrite the address column from \"Valley 345\" to \"Canyon 123\":\n",
    "# Ghi đè cột địa chỉ từ “Valley 345” thành “Canyon 123”:\n",
    "import mysql.connector\n",
    "\n",
    "mydb = mysql.connector.connect(\n",
    "  host=\"localhost\",\n",
    "  user=\"root\",\n",
    "  password=\"MySQLttc82$\",\n",
    "  database=\"mydatabase\"\n",
    ")\n",
    "\n",
    "mycursor = mydb.cursor()\n",
    "\n",
    "sql = \"UPDATE customers SET address = 'Canyon 123' WHERE address = 'Valley 345'\"\n",
    "\n",
    "mycursor.execute(sql)\n",
    "\n",
    "mydb.commit()\n",
    "\n",
    "print(mycursor.rowcount, \"record(s) affected\")"
   ]
  },
  {
   "cell_type": "markdown",
   "id": "a0d5d4c3-c5f0-4913-9b2f-b8a572b61caa",
   "metadata": {},
   "source": [
    "Important!: Notice the statement: mydb.commit(). It is required to make the changes, otherwise no changes are made to the table.\n",
    "Quan trọng!: Lưu ý tuyên bố: mydb.commit(). Cần phải thực hiện các thay đổi, nếu không thì không có thay đổi nào được thực hiện đối với bảng."
   ]
  },
  {
   "cell_type": "markdown",
   "id": "4de6dfdf-b95e-4ebc-8738-73687e604aee",
   "metadata": {},
   "source": [
    "Notice the WHERE clause in the UPDATE syntax: The WHERE clause specifies which record or records that should be updated. If you omit the WHERE clause, all records will be updated!\n",
    "Lưu ý mệnh đề WHERE trong cú pháp CẬP NHẬT: Mệnh đề WHERE chỉ định bản ghi hoặc các bản ghi nào cần được cập nhật. Nếu bạn bỏ qua mệnh đề WHERE, tất cả các bản ghi sẽ được cập nhật!"
   ]
  },
  {
   "cell_type": "markdown",
   "id": "b3d366d7-76a4-4736-a3ff-1b21b7b25012",
   "metadata": {},
   "source": [
    "Prevent SQL Injection\r\n",
    "It is considered a good practice to escape the values of any query, also in update statements\r\n",
    "\r\n",
    "This is to prevent SQL injections, which is a common web hacking technique to destroy or misuse your databae.\r\n",
    "\r\n",
    "The mysql.connector module uses the placeholder %s to escape values in the update state\n",
    "Ngăn chặn việc tiêm SQL\r\n",
    "Việc thoát khỏi các giá trị của bất kỳ truy vấn nào cũng được coi là một phương pháp hay trong các câu lệnh cập nhật\r\n",
    "\r\n",
    "Điều này nhằm ngăn chặn việc tiêm SQL, một kỹ thuật tấn công web phổ biến nhằm phá hủy hoặc sử dụng sai mục đích cơ sở dữ liệu của bạ.\r\n",
    "\r\n",
    "Mô-đun mysql.connector sử dụng trình giữ chỗ %sđể thoát các giá trị trong câu lệnh cập nhật:ment:"
   ]
  },
  {
   "cell_type": "code",
   "execution_count": null,
   "id": "a5d0e91b-7d8f-4881-afb3-71a7a25f9e1c",
   "metadata": {},
   "outputs": [],
   "source": [
    "# Escape values by using the placeholder %s method:\n",
    "# Thoát các giá trị bằng cách sử dụng %s phương pháp giữ chỗ:\n",
    "import mysql.connector\n",
    "\n",
    "mydb = mysql.connector.connect(\n",
    "  host=\"localhost\",\n",
    "  user=\"root\",\n",
    "  password=\"MySQLttc82$\",\n",
    "  database=\"mydatabase\"\n",
    ")\n",
    "\n",
    "mycursor = mydb.cursor()\n",
    "\n",
    "sql = \"UPDATE customers SET address = %s WHERE address = %s\"\n",
    "val = (\"Valley 345\", \"Canyon 123\")\n",
    "\n",
    "mycursor.execute(sql, val)\n",
    "\n",
    "mydb.commit()\n",
    "\n",
    "print(mycursor.rowcount, \"record(s) affected\")"
   ]
  },
  {
   "cell_type": "code",
   "execution_count": null,
   "id": "ccb5e0a0-bde4-4c26-83fd-5a3e47d7ab5a",
   "metadata": {},
   "outputs": [],
   "source": []
  }
 ],
 "metadata": {
  "kernelspec": {
   "display_name": "Python 3 (ipykernel)",
   "language": "python",
   "name": "python3"
  },
  "language_info": {
   "codemirror_mode": {
    "name": "ipython",
    "version": 3
   },
   "file_extension": ".py",
   "mimetype": "text/x-python",
   "name": "python",
   "nbconvert_exporter": "python",
   "pygments_lexer": "ipython3",
   "version": "3.11.7"
  }
 },
 "nbformat": 4,
 "nbformat_minor": 5
}
