{
 "cells": [
  {
   "cell_type": "markdown",
   "id": "78adb17f-437e-4ac9-9e3c-869c17e0786a",
   "metadata": {},
   "source": [
    "File handling is an important part of any web application.\n",
    "Python has several functions for creating, reading, updating, and deleting files.\n",
    "Xử lý tệp là một phần quan trọng của bất kỳ ứng dụng web nào.\n",
    "Python có một số chức năng để tạo, đọc, cập nhật và xóa tệp."
   ]
  },
  {
   "cell_type": "markdown",
   "id": "0b0555ce-0430-439e-8269-e6e9bce9ed4e",
   "metadata": {},
   "source": [
    "File Handling\n",
    "The key function for working with files in Python is the open() function.\n",
    "The open() function takes two parameters; filename, and mode.\n",
    "There are four different methods (modes) for opening a file:\n",
    "Xử lý tập tin\n",
    "Hàm chính để làm việc với các tệp trong Python là hàm open().\n",
    "Hàm open() có hai tham số; tên tệp và chế độ .\n",
    "Có bốn phương pháp (chế độ) khác nhau để mở tệp:\n",
    "\n",
    "\"r\" - Read - Default value. Opens a file for reading, error if the file does not exist\n",
    "\"a\" - Append - Opens a file for appending, creates the file if it does not exist\n",
    "\"w\" - Write - Opens a file for writing, creates the file if it does not exist\n",
    "\"x\" - Create - Creates the specified file, returns an error if the file exists\n",
    "\n",
    "\"r\"- Đọc - Giá trị mặc định. Mở file để đọc, báo lỗi nếu file không tồn tại\n",
    "\"a\"- Append - Mở file để nối thêm, tạo file nếu chưa tồn tại\n",
    "\"w\"- Write - Mở file để ghi, tạo file nếu chưa tồn tại\n",
    "\"x\"- Create - Tạo file được chỉ định, trả về lỗi nếu file tồn tại"
   ]
  },
  {
   "cell_type": "markdown",
   "id": "8ac6468c-9626-4ae2-9bca-e110a3902224",
   "metadata": {},
   "source": [
    "In addition you can specify if the file should be handled as binary or text mode\n",
    "Ngoài ra, bạn có thể chỉ định xem tệp sẽ được xử lý ở chế độ nhị phân hay văn bản"
   ]
  },
  {
   "cell_type": "markdown",
   "id": "55396c2d-8dc7-4476-830b-dc66169cdc72",
   "metadata": {},
   "source": [
    "\"t\" - Text - Default value. Text mode\n",
    "\"b\" - Binary - Binary mode (e.g. images)\n",
    "\"t\"- Văn bản - Giá trị mặc định. Chế độ văn bản\n",
    "\"b\"- Nhị phân - Chế độ nhị phân (ví dụ hình ảnh)"
   ]
  },
  {
   "cell_type": "markdown",
   "id": "2a2d8138-fcca-4e51-94d2-34ced25e6346",
   "metadata": {},
   "source": [
    "Syntax\n",
    "To open a file for reading it is enough to specify the name of the file:\n",
    "Cú pháp\n",
    "Để mở một tệp để đọc, chỉ cần chỉ định tên của tệp là đủ:"
   ]
  },
  {
   "cell_type": "code",
   "execution_count": null,
   "id": "9c56d4f7-5386-4fc0-8f56-568d48cd07a9",
   "metadata": {},
   "outputs": [],
   "source": [
    "f = open(\"demofile.txt\")"
   ]
  },
  {
   "cell_type": "code",
   "execution_count": null,
   "id": "07c954e7-576e-4a13-b637-ff87ada4ed1a",
   "metadata": {},
   "outputs": [],
   "source": [
    "# The code above is the same as:\n",
    "# Đoạn mã trên giống như:\n",
    "f = open(\"demofile.txt\", \"rt\")"
   ]
  },
  {
   "cell_type": "markdown",
   "id": "35746508-c02a-4b6c-93b2-78de67e3f56f",
   "metadata": {},
   "source": [
    "Because \"r\" for read, and \"t\" for text are the default values, you do not need to specify them.\n",
    "Note: Make sure the file exists, or else you will get an error.\n",
    "Vì \"r\" đối với đọc và \"t\" đối với văn bản là các giá trị mặc định nên bạn không cần chỉ định chúng.\n",
    "Lưu ý: Đảm bảo tệp tồn tại, nếu không bạn sẽ gặp lỗi."
   ]
  }
 ],
 "metadata": {
  "kernelspec": {
   "display_name": "Python 3 (ipykernel)",
   "language": "python",
   "name": "python3"
  },
  "language_info": {
   "codemirror_mode": {
    "name": "ipython",
    "version": 3
   },
   "file_extension": ".py",
   "mimetype": "text/x-python",
   "name": "python",
   "nbconvert_exporter": "python",
   "pygments_lexer": "ipython3",
   "version": "3.11.7"
  }
 },
 "nbformat": 4,
 "nbformat_minor": 5
}
