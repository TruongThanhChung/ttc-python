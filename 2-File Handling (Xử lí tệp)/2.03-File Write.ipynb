{
 "cells": [
  {
   "cell_type": "markdown",
   "id": "7da4aeb9-6321-4257-87b3-cc24d376a367",
   "metadata": {},
   "source": [
    "Write to an Existing File\n",
    "To write to an existing file, you must add a parameter to the open() function:\n",
    "\"a\" - Append - will append to the end of the file\n",
    "\"w\" - Write - will overwrite any existing content\n",
    "Ghi vào một tập tin hiện có\n",
    "Để ghi vào một tệp hiện có, bạn phải thêm một tham số vào hàm open():\n",
    "\"a\"- Append - sẽ thêm vào cuối file\n",
    "ế\"w\"- Viết - sẽ ghi đè lên mọi nội dung hiện có"
   ]
  },
  {
   "cell_type": "code",
   "execution_count": null,
   "id": "807dd39b-da0d-48d7-a501-de8bcbdf3369",
   "metadata": {},
   "outputs": [],
   "source": [
    "# Open the file \"demofile2.txt\" and append content to the file:\n",
    "# Mở file “demofile2.txt” và thêm nội dung vào file:\n",
    "f = open(\"demofile2.txt\", \"a\")\n",
    "f.write(\"Now the file has more content!\")\n",
    "f.close()\n",
    "\n",
    "#open and read the file after the appending:\n",
    "f = open(\"demofile2.txt\", \"r\")\n",
    "print(f.read())"
   ]
  },
  {
   "cell_type": "markdown",
   "id": "851d164e-2fa5-4df1-89e3-f25770577113",
   "metadata": {},
   "source": [
    "Note: the \"w\" method will overwrite the entire file.\n",
    "Lưu ý: phương thức \"w\" sẽ ghi đè lên toàn bộ tệp."
   ]
  },
  {
   "cell_type": "markdown",
   "id": "46cefc19-25a0-41e6-b820-3c6be0b5cdfe",
   "metadata": {},
   "source": [
    "Create a New File\n",
    "To create a new file in Python, use the open() method, with one of the following parameters:\n",
    "\"x\" - Create - will create a file, returns an error if the file exist\n",
    "\"a\" - Append - will create a file if the specified file does not exist\n",
    "\"w\" - Write - will create a file if the specified file does not exist\n",
    "Tạo một tập tin mới\n",
    "Để tạo một tệp mới trong Python, hãy sử dụng open()phương thức này với một trong các tham số sau:\n",
    "\"x\"- Create - sẽ tạo file, trả về lỗi nếu file tồn tại\n",
    "\"a\"- Nối - sẽ tạo một tệp nếu tệp được chỉ định không tồn tại\n",
    "\"w\"- Viết - sẽ tạo một tập tin nếu tập tin được chỉ định không tồn tại"
   ]
  },
  {
   "cell_type": "code",
   "execution_count": null,
   "id": "4175a894-710b-46e3-9c01-41c8f8f32d07",
   "metadata": {},
   "outputs": [],
   "source": [
    "# Create a file called \"myfile.txt\":\n",
    "# Tạo một tệp có tên \"myfile.txt\":\n",
    "f = open(\"myfile.txt\", \"x\")"
   ]
  },
  {
   "cell_type": "markdown",
   "id": "0933e71d-81be-4c56-bf37-0ddfb71954d3",
   "metadata": {},
   "source": [
    "Result: a new empty file is created!\n",
    "Kết quả: một tập tin trống mới được tạo!"
   ]
  },
  {
   "cell_type": "code",
   "execution_count": null,
   "id": "7e5ddfd4-79a1-447d-94e3-9bcce9638e4c",
   "metadata": {},
   "outputs": [],
   "source": [
    "# Create a new file if it does not exist:\n",
    "# Tạo một tệp mới nếu nó không tồn tại:\n",
    "f = open(\"myfile.txt\", \"w\")"
   ]
  }
 ],
 "metadata": {
  "kernelspec": {
   "display_name": "Python 3 (ipykernel)",
   "language": "python",
   "name": "python3"
  },
  "language_info": {
   "codemirror_mode": {
    "name": "ipython",
    "version": 3
   },
   "file_extension": ".py",
   "mimetype": "text/x-python",
   "name": "python",
   "nbconvert_exporter": "python",
   "pygments_lexer": "ipython3",
   "version": "3.12.3"
  }
 },
 "nbformat": 4,
 "nbformat_minor": 5
}
