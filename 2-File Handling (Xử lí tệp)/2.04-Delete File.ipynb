{
 "cells": [
  {
   "cell_type": "markdown",
   "id": "37d25c8f-db8f-4064-8a90-1e9591526e8d",
   "metadata": {},
   "source": [
    "Delete a File\n",
    "To delete a file, you must import the OS module, and run its os.remove() function:\n",
    "Xóa một tập tin\n",
    "Để xóa một tệp, bạn phải nhập mô-đun hệ điều hành và chạy chức năng os.remove() của nó:"
   ]
  },
  {
   "cell_type": "code",
   "execution_count": null,
   "id": "101c8c12-af00-434f-a624-f06158490d83",
   "metadata": {},
   "outputs": [],
   "source": [
    "# Remove the file \"demofile.txt\":\n",
    "# Xóa file \"demofile.txt\":\n",
    "import os\n",
    "os.remove(\"demofile.txt\")"
   ]
  },
  {
   "cell_type": "code",
   "execution_count": null,
   "id": "b5841876-69c4-439f-aea3-e32c7d7c8910",
   "metadata": {},
   "outputs": [],
   "source": [
    "Check if File exist:\n",
    "To avoid getting an error, you might want to check if the file exists before you try to delete it:\n",
    "Kiểm tra xem tệp có tồn tại không:\n",
    "Để tránh gặp lỗi, bạn có thể muốn kiểm tra xem tệp có tồn tại hay không trước khi cố gắng xóa nó:"
   ]
  },
  {
   "cell_type": "code",
   "execution_count": 1,
   "id": "3d114c5f-fd53-4b25-9175-a74b5b2dce63",
   "metadata": {},
   "outputs": [
    {
     "name": "stdout",
     "output_type": "stream",
     "text": [
      "The file does not exist\n"
     ]
    }
   ],
   "source": [
    "# Check if file exists, then delete it:\n",
    "# Kiểm tra xem tập tin có tồn tại không, sau đó xóa nó:\n",
    "import os\n",
    "if os.path.exists(\"demofile.txt\"):\n",
    "  os.remove(\"demofile.txt\")\n",
    "else:\n",
    "  print(\"The file does not exist\")"
   ]
  },
  {
   "cell_type": "markdown",
   "id": "0873ee1c-b7f8-457a-9544-a6f0422fb8f5",
   "metadata": {},
   "source": [
    "Delete Folder\n",
    "To delete an entire folder, use the os.rmdir() method:\n",
    "Xóa thư mục\n",
    "Để xóa toàn bộ thư mục, hãy sử dụng phương thức os.rmdir():"
   ]
  },
  {
   "cell_type": "code",
   "execution_count": null,
   "id": "1547e144-e776-4d7c-b1bf-efc2f6f46292",
   "metadata": {},
   "outputs": [],
   "source": [
    "# Remove the folder \"myfolder\":\n",
    "# Xóa thư mục \"myfolder\":\n",
    "import os\n",
    "os.rmdir(\"myfolder\")"
   ]
  },
  {
   "cell_type": "markdown",
   "id": "c7acda8b-ceb5-43b2-a222-11b22e3001ab",
   "metadata": {},
   "source": [
    "Note: You can only remove empty folders.\n",
    "Lưu ý: Bạn chỉ có thể xóa các thư mục trống."
   ]
  }
 ],
 "metadata": {
  "kernelspec": {
   "display_name": "Python 3 (ipykernel)",
   "language": "python",
   "name": "python3"
  },
  "language_info": {
   "codemirror_mode": {
    "name": "ipython",
    "version": 3
   },
   "file_extension": ".py",
   "mimetype": "text/x-python",
   "name": "python",
   "nbconvert_exporter": "python",
   "pygments_lexer": "ipython3",
   "version": "3.11.7"
  }
 },
 "nbformat": 4,
 "nbformat_minor": 5
}
