{
 "cells": [
  {
   "cell_type": "markdown",
   "id": "e63c21cd-6455-43bc-8da0-64d8494f9fc7",
   "metadata": {},
   "source": [
    "Open a File on the Server\n",
    "Assume we have the following file, located in the same folder as Python:\n",
    "Mở một tệp trên máy chủ\n",
    "Giả sử chúng ta có tệp sau, nằm trong cùng thư mục với Python:"
   ]
  },
  {
   "cell_type": "code",
   "execution_count": null,
   "id": "cbc68787-a4b1-4560-a662-275091155a34",
   "metadata": {},
   "outputs": [],
   "source": [
    "demofile.txt\n",
    "\n",
    "Hello! Welcome to demofile.txt\n",
    "This file is for testing purposes.\n",
    "Good Luck!"
   ]
  },
  {
   "cell_type": "markdown",
   "id": "dfc6cba6-3889-4ace-bf5b-6d37d4b73bfc",
   "metadata": {},
   "source": [
    "To open the file, use the built-in open() function.\n",
    "The open() function returns a file object, which has a read() method for reading the content of the file:\n",
    "Để mở tập tin, hãy sử dụng open() chức năng tích hợp sẵn.\n",
    "Hàm open()trả về một đối tượng tệp có read() phương thức đọc nội dung của tệp:"
   ]
  },
  {
   "cell_type": "code",
   "execution_count": null,
   "id": "ce79d201-2366-474a-b4b1-529ea097b33c",
   "metadata": {},
   "outputs": [],
   "source": [
    "f = open(\"demofile.txt\", \"r\")\n",
    "print(f.read())"
   ]
  },
  {
   "cell_type": "markdown",
   "id": "996bfbee-fe79-4ca8-913a-ca104692e2ea",
   "metadata": {},
   "source": [
    "If the file is located in a different location, you will have to specify the file path, like this:\n",
    "Nếu tệp nằm ở một vị trí khác, bạn sẽ phải chỉ định đường dẫn tệp, như sau:"
   ]
  },
  {
   "cell_type": "code",
   "execution_count": null,
   "id": "f23903f3-7a26-47a2-bd7c-e7f607cf9fd4",
   "metadata": {},
   "outputs": [],
   "source": [
    "# Open a file on a different location:\n",
    "# Mở tệp ở một vị trí khác:\n",
    "f = open(\"D:\\\\myfiles\\welcome.txt\", \"r\")\n",
    "print(f.read())"
   ]
  },
  {
   "cell_type": "markdown",
   "id": "aad0efa5-addc-447a-a3ec-72b706029914",
   "metadata": {},
   "source": [
    "Read Only Parts of the File\n",
    "By default the read() method returns the whole text, but you can also specify how many characters you want to return:\n",
    "Chỉ đọc các phần của tệp\n",
    "Theo mặc định, read()phương thức trả về toàn bộ văn bản, nhưng bạn cũng có thể chỉ định số lượng ký tự bạn muốn trả về:\n"
   ]
  },
  {
   "cell_type": "code",
   "execution_count": null,
   "id": "502598ee-5429-4c94-80c0-30579baaa96d",
   "metadata": {},
   "outputs": [],
   "source": [
    "# Return the 5 first characters of the file:\n",
    "# Trả về 5 ký tự đầu tiên của file:\n",
    "f = open(\"demofile.txt\", \"r\")\n",
    "print(f.read(5))"
   ]
  },
  {
   "cell_type": "markdown",
   "id": "90ca5d07-619b-4e45-a5e4-a79d6bb9498d",
   "metadata": {},
   "source": [
    "Read Lines\n",
    "You can return one line by using the readline() method:\n",
    "Đọc dòng\n",
    "Bạn có thể trả về một dòng bằng cách sử dụng phương readline() thức:"
   ]
  },
  {
   "cell_type": "code",
   "execution_count": null,
   "id": "164b607a-157d-4dbc-87de-bbdc45aba6b4",
   "metadata": {},
   "outputs": [],
   "source": [
    "# Read one line of the file:\n",
    "# Đọc một dòng của tập tin:\n",
    "f = open(\"demofile.txt\", \"r\")\n",
    "print(f.readline())"
   ]
  },
  {
   "cell_type": "markdown",
   "id": "f11df468-5837-4f71-983a-39a182412a9e",
   "metadata": {},
   "source": [
    "By calling readline() two times, you can read the two first lines:\n",
    "Bằng cách gọi readline()hai lần, bạn có thể đọc được hai dòng đầu tiên:\n"
   ]
  },
  {
   "cell_type": "code",
   "execution_count": null,
   "id": "dc350b2a-44bd-4e0e-a5ec-308ea963663b",
   "metadata": {},
   "outputs": [],
   "source": [
    "# Read two lines of the file:\n",
    "# Đọc hai dòng của tập tin:\n",
    "f = open(\"demofile.txt\", \"r\")\n",
    "print(f.readline())\n",
    "print(f.readline())"
   ]
  },
  {
   "cell_type": "markdown",
   "id": "2f963732-43f3-404c-9e25-c3fbb0538f53",
   "metadata": {},
   "source": [
    "By looping through the lines of the file, you can read the whole file, line by line:\n",
    "Bằng cách lặp qua các dòng của tệp, bạn có thể đọc toàn bộ tệp, từng dòng một:"
   ]
  },
  {
   "cell_type": "code",
   "execution_count": null,
   "id": "c18db75f-9fea-4cf4-89b7-5ead15ff2c60",
   "metadata": {},
   "outputs": [],
   "source": [
    "# Loop through the file line by line:\n",
    "# Lặp lại từng dòng tệp:\n",
    "f = open(\"demofile.txt\", \"r\")\n",
    "for x in f:\n",
    "  print(x)"
   ]
  },
  {
   "cell_type": "markdown",
   "id": "ed4c464b-a74e-4966-af1e-576b3017aaa5",
   "metadata": {},
   "source": [
    "Close Files\n",
    "It is a good practice to always close the file when you are done with it.\n",
    "Đóng tệp\n",
    "Đó là một cách tốt để luôn đóng tệp khi bạn hoàn thành nó."
   ]
  },
  {
   "cell_type": "code",
   "execution_count": null,
   "id": "6537a58a-a17b-4e2a-b2d6-25391161d162",
   "metadata": {},
   "outputs": [],
   "source": [
    "# Close the file when you are finish with it:\n",
    "# Đóng tệp khi bạn hoàn thành nó:\n",
    "f = open(\"demofile.txt\", \"r\")\n",
    "print(f.readline())\n",
    "f.close()"
   ]
  },
  {
   "cell_type": "markdown",
   "id": "2a48317b-d7d8-4ac0-845f-2d397fae896f",
   "metadata": {},
   "source": [
    "Note: You should always close your files, in some cases, due to buffering, changes made to a file may not show until you close the file.\n",
    "Lưu ý: Bạn phải luôn đóng tệp của mình, trong một số trường hợp, do lưu vào bộ đệm, những thay đổi được thực hiện đối với tệp có thể không hiển thị cho đến khi bạn đóng tệp."
   ]
  }
 ],
 "metadata": {
  "kernelspec": {
   "display_name": "Python 3 (ipykernel)",
   "language": "python",
   "name": "python3"
  },
  "language_info": {
   "codemirror_mode": {
    "name": "ipython",
    "version": 3
   },
   "file_extension": ".py",
   "mimetype": "text/x-python",
   "name": "python",
   "nbconvert_exporter": "python",
   "pygments_lexer": "ipython3",
   "version": "3.12.3"
  }
 },
 "nbformat": 4,
 "nbformat_minor": 5
}
