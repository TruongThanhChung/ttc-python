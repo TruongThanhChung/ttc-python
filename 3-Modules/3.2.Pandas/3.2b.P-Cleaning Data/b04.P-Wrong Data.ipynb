{
 "cells": [
  {
   "cell_type": "markdown",
   "id": "b549e616-6700-4b80-a01c-23df555e6b92",
   "metadata": {},
   "source": [
    "Wrong Data\r\n",
    "\"Wrong data\" does not have to be \"empty cells\" or \"wrong format\", it can just be wrong, like if someone registered \"199\" instead of \"1.99.\r\n",
    "Sometimes you can spot wrong data by looking at the data set, because you have an expectation of what it shouldeb\r\n",
    "\r\n",
    "If you take a look at our data set, you can see that in row 7, the duration is 450, but for all the other rows the duration is between 30  ad0.\r\n",
    "\r\n",
    "It doesn't have to be wrong, but taking in consideration that this is the data set of someone's workout sessions, we conclude with the fact that this person did not work out ininutes 450 m\n",
    "Dữ liệu sai\r\n",
    "\"Dữ liệu sai\" không nhất thiết phải là \"ô trống\" hoặc \"sai định dạng\", nó chỉ có thể sai, chẳng hạn như nếu ai đó đăng ký \"199\" thay vì\",99\".\n",
    "\r\n",
    "Đôi khi bạn có thể phát hiện ra dữ liệu sai bằng cách xem tập dữ liệu vì bạn có thể mong đợi dữ liệu đó sẽ nho hế nà.\r\n",
    "\r\n",
    "Nếu bạn xem tập dữ liệu của chúng tôi, bạn có thể thấy rằng ở hàng 7, thời lượng là 450, nhưng đối với tất cả các hàng khác, thời lượng là  t 0 đến60.\r\n",
    "\r\n",
    "Điều đó không nhất thiết phải sai, nhưng khi xem xét rằng đây là tập dữ liệu về các buổi tập luyện của ai đó, chúng tôi kết luận rằng người này đã không tập lu yện út.\r\n",
    "\r\n",
    "inutes."
   ]
  },
  {
   "cell_type": "markdown",
   "id": "fb273637-82a3-44f2-bc68-679a4e477d02",
   "metadata": {},
   "source": [
    "      Duration   Date           Pulse  Maxpulse  Calories\r\n",
    "  0         60  '2020/12/01'    110       130     409.1\r\n",
    "  1         60  '2020/12/02'    117       145     479.0\r\n",
    "  2         60  '2020/12/03'    103       135     340.0\r\n",
    "  3         45  '2020/12/04'    109       175     282.4\r\n",
    "  4         45  '2020/12/05'    117       148     406.0\r\n",
    "  5         60  '2020/12/06'    102       127     300.0\r\n",
    "  6         60  '2020/12/07'    110       136     374.0\r\n",
    "  7        450  '2020/12/08'    104       134     253.3\r\n",
    "  8         30  '2020/12/09'    109       133     195.1\r\n",
    "  9         60  '2020/12/10'     98       124     269.0\r\n",
    "  10        60  '2020/12/11'    103       147     329.3\r\n",
    "  11        60  '2020/12/12'    100       120     250.7\r\n",
    "  12        60  '2020/12/12'    100       120     250.7\r\n",
    "  13        60  '2020/12/13'    106       128     345.3\r\n",
    "  14        60  '2020/12/14'    104       132     379.3\r\n",
    "  15        60  '2020/12/15'     98       123     275.0\r\n",
    "  16        60  '2020/12/16'     98       120     215.2\r\n",
    "  17        60  '2020/12/17'    100       120     300.0\r\n",
    "  18        45  '2020/12/18'     90       112       NaN\r\n",
    "  19        60  '2020/12/19'    103       123     323.0\r\n",
    "  20        45  '2020/12/20'     97       125     243.0\r\n",
    "  21        60  '2020/12/21'    108       131     364.2\r\n",
    "  22        45           NaN    100       119     282.0\r\n",
    "  23        60  '2020/12/23'    130       101     300.0\r\n",
    "  24        45  '2020/12/24'    105       132     246.0\r\n",
    "  25        60  '2020/12/25'    102       126     334.5\r\n",
    "  26        60      20201226    100       120     250.0\r\n",
    "  27        60  '2020/12/27'     92       118     241.0\r\n",
    "  28        60  '2020/12/28'    103       132       NaN\r\n",
    "  29        60  '2020/12/29'    100       132     280.0\r\n",
    "  30        60  '2020/12/30'    102       129     380.3\r\n",
    "  31        60  '2020/12/31'     92       115     243.0"
   ]
  },
  {
   "cell_type": "markdown",
   "id": "3db46370-bd88-43be-adf5-96a9a6438810",
   "metadata": {},
   "source": [
    "How can we fix wrong values, like the one for \"Duration\" in row 7?\n",
    "Làm cách nào chúng tôi có thể sửa các giá trị sai, chẳng hạn như giá trị cho \"Thời lượng\" ở hàng 7?"
   ]
  },
  {
   "cell_type": "markdown",
   "id": "6b91da32-c808-405a-aa07-dea99c5393e2",
   "metadata": {},
   "source": [
    "Replacing Values\r\n",
    "One way to fix wrong values is to replace them with something els.\r\n",
    "In our example, it is most likely a typo, and the value should be \"45\" instead of \"450\", and we could just insert \"45\" in row\n",
    "Thay thế giá trị\r\n",
    "Một cách để sửa các giá trị sai là thay thế chúng bằng một giá trị kc.\n",
    "\r\n",
    "Trong ví dụ của chúng tôi, rất có thể đây là lỗi đánh máy và giá trị phải là \"45\" thay vì \"450\" ​​và chúng tôi chỉ có thể chèn \"45\" vào hà: 7:"
   ]
  },
  {
   "cell_type": "code",
   "execution_count": 1,
   "id": "bf6ac0da-6931-4a27-85cf-7ad9d5b06872",
   "metadata": {},
   "outputs": [
    {
     "ename": "NameError",
     "evalue": "name 'df' is not defined",
     "output_type": "error",
     "traceback": [
      "\u001b[1;31m---------------------------------------------------------------------------\u001b[0m",
      "\u001b[1;31mNameError\u001b[0m                                 Traceback (most recent call last)",
      "Cell \u001b[1;32mIn[1], line 3\u001b[0m\n\u001b[0;32m      1\u001b[0m \u001b[38;5;66;03m# Set \"Duration\" = 45 in row 7:\u001b[39;00m\n\u001b[0;32m      2\u001b[0m \u001b[38;5;66;03m# Đặt \"Thời lượng\" = 45 ở hàng 7:\u001b[39;00m\n\u001b[1;32m----> 3\u001b[0m df\u001b[38;5;241m.\u001b[39mloc[\u001b[38;5;241m7\u001b[39m, \u001b[38;5;124m'\u001b[39m\u001b[38;5;124mDuration\u001b[39m\u001b[38;5;124m'\u001b[39m] \u001b[38;5;241m=\u001b[39m \u001b[38;5;241m45\u001b[39m\n",
      "\u001b[1;31mNameError\u001b[0m: name 'df' is not defined"
     ]
    }
   ],
   "source": [
    "# Set \"Duration\" = 45 in row 7:\n",
    "# Đặt \"Thời lượng\" = 45 ở hàng 7:\n",
    "df.loc[7, 'Duration'] = 45"
   ]
  },
  {
   "cell_type": "markdown",
   "id": "341f77b0-559b-4d10-b53d-206b52a0ef57",
   "metadata": {},
   "source": [
    "For small data sets you might be able to replace the wrong data one by one, but not for big data sets\r\n",
    "To replace wrong data for larger data sets you can create some rules, e.g. set some boundaries for legal values, and replace any values that are outside of the boundarie\n",
    "Đối với các tập dữ liệu nhỏ, bạn có thể thay thế từng dữ liệu sai, nhưng đối với các tập dữ liệu lớn thì không th.\r\n",
    "Để thay thế dữ liệu sai cho các tập dữ liệu lớn hơn, bạn có thể tạo một số quy tắc, ví dụ: đặt một số ranh giới cho các giá trị hợp pháp và thay thế bất kỳ giá trị nào nằm ngoài ranh gis."
   ]
  },
  {
   "cell_type": "code",
   "execution_count": 2,
   "id": "862e3061-ce8f-4915-bec7-f4756aea35e4",
   "metadata": {},
   "outputs": [
    {
     "ename": "NameError",
     "evalue": "name 'df' is not defined",
     "output_type": "error",
     "traceback": [
      "\u001b[1;31m---------------------------------------------------------------------------\u001b[0m",
      "\u001b[1;31mNameError\u001b[0m                                 Traceback (most recent call last)",
      "Cell \u001b[1;32mIn[2], line 7\u001b[0m\n\u001b[0;32m      1\u001b[0m \u001b[38;5;124;03m'''Loop through all values in the \"Duration\" column.\u001b[39;00m\n\u001b[0;32m      2\u001b[0m \n\u001b[0;32m      3\u001b[0m \u001b[38;5;124;03mIf the value is higher than 120, set it to 120:'''\u001b[39;00m\n\u001b[0;32m      4\u001b[0m \u001b[38;5;124;03m''' Lặp lại tất cả các giá trị trong cột \"Thời lượng\".\u001b[39;00m\n\u001b[0;32m      5\u001b[0m \n\u001b[0;32m      6\u001b[0m \u001b[38;5;124;03mNếu giá trị cao hơn 120, hãy đặt thành 120: '''\u001b[39;00m\n\u001b[1;32m----> 7\u001b[0m \u001b[38;5;28;01mfor\u001b[39;00m x \u001b[38;5;129;01min\u001b[39;00m df\u001b[38;5;241m.\u001b[39mindex:\n\u001b[0;32m      8\u001b[0m   \u001b[38;5;28;01mif\u001b[39;00m df\u001b[38;5;241m.\u001b[39mloc[x, \u001b[38;5;124m\"\u001b[39m\u001b[38;5;124mDuration\u001b[39m\u001b[38;5;124m\"\u001b[39m] \u001b[38;5;241m>\u001b[39m \u001b[38;5;241m120\u001b[39m:\n\u001b[0;32m      9\u001b[0m     df\u001b[38;5;241m.\u001b[39mloc[x, \u001b[38;5;124m\"\u001b[39m\u001b[38;5;124mDuration\u001b[39m\u001b[38;5;124m\"\u001b[39m] \u001b[38;5;241m=\u001b[39m \u001b[38;5;241m120\u001b[39m\n",
      "\u001b[1;31mNameError\u001b[0m: name 'df' is not defined"
     ]
    }
   ],
   "source": [
    "'''Loop through all values in the \"Duration\" column.\n",
    "If the value is higher than 120, set it to 120:'''\n",
    "''' Lặp lại tất cả các giá trị trong cột \"Thời lượng\".\n",
    "Nếu giá trị cao hơn 120, hãy đặt thành 120: '''\n",
    "for x in df.index:\n",
    "  if df.loc[x, \"Duration\"] > 120:\n",
    "    df.loc[x, \"Duration\"] = 120"
   ]
  },
  {
   "cell_type": "markdown",
   "id": "e59f8f8e-4bfa-4dd5-a3a0-e7dad66a494c",
   "metadata": {},
   "source": [
    "Removing Rows\r\n",
    "Another way of handling wrong data is to remove the rows that contains wrong data\n",
    "\r\n",
    "This way you do not have to find out what to replace them with, and there is a good chance you do not need them to do your anaeslys\n",
    "Xóa hàng\r\n",
    "Một cách khác để xử lý dữ liệu sai là loại bỏ các hàng chứa dữ liệusi.\n",
    "\r\n",
    "Bằng cách này, bạn không cần phải tìm ra thứ gì để thay thế chúng và rất có thể bạn không cần chúng để thực hiện phân tích củah.es."
   ]
  },
  {
   "cell_type": "code",
   "execution_count": null,
   "id": "068d1dc0-b2b9-4855-a8f4-1e2a4d1f45b0",
   "metadata": {},
   "outputs": [],
   "source": [
    "# Delete rows where \"Duration\" is higher than 120:\n",
    "# Xóa các hàng có \"Thời lượng\" cao hơn 120:\n",
    "for x in df.index:\n",
    "  if df.loc[x, \"Duration\"] > 120:\n",
    "    df.drop(x, inplace = True)"
   ]
  }
 ],
 "metadata": {
  "kernelspec": {
   "display_name": "Python 3 (ipykernel)",
   "language": "python",
   "name": "python3"
  },
  "language_info": {
   "codemirror_mode": {
    "name": "ipython",
    "version": 3
   },
   "file_extension": ".py",
   "mimetype": "text/x-python",
   "name": "python",
   "nbconvert_exporter": "python",
   "pygments_lexer": "ipython3",
   "version": "3.11.7"
  }
 },
 "nbformat": 4,
 "nbformat_minor": 5
}
