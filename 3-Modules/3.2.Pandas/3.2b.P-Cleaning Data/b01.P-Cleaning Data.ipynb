{
 "cells": [
  {
   "cell_type": "markdown",
   "id": "3f6e8583-0e6f-44d9-972c-e1ba9c509f9d",
   "metadata": {},
   "source": [
    "Data Cleaning\r\n",
    "Data cleaning means fixing bad data in your data se.Bad data could be::\r\n",
    "\r\n",
    "Empty cells\r\n",
    "Data in wrong format\r\n",
    "Wrong data\r\n",
    "Duplicates\r\n",
    "In this tutorial you will learn how to deal ith all\n",
    "\n",
    "Làm sạch dữ liệu\r\n",
    "Làm sạch dữ liệu có nghĩa là sửa dữ liệu xấu trong tập dữ liệ ủa bạn.\n",
    "\r\n",
    "Dữ liệu xấàucó thể l:\r\n",
    "\r\n",
    "Ô trống\r\n",
    "Dữ liệu sai định dạngT\n",
    "Dữ liệp sai\r\n",
    "trùng lặp\r\n",
    "Trong hướng dẫn này, bạn sẽ học cách giải qg chúng. of them."
   ]
  },
  {
   "cell_type": "markdown",
   "id": "d573a210-706a-4c01-884f-b7350f823290",
   "metadata": {},
   "source": [
    "      Duration   Date           Pulse  Maxpulse  Calories\r\n",
    "  0         60  '2020/12/01'    110       130     409.1\r\n",
    "  1         60  '2020/12/02'    117       145     479.0\r\n",
    "  2         60  '2020/12/03'    103       135     340.0\r\n",
    "  3         45  '2020/12/04'    109       175     282.4\r\n",
    "  4         45  '2020/12/05'    117       148     406.0\r\n",
    "  5         60  '2020/12/06'    102       127     300.0\r\n",
    "  6         60  '2020/12/07'    110       136     374.0\r\n",
    "  7        450  '2020/12/08'    104       134     253.3\r\n",
    "  8         30  '2020/12/09'    109       133     195.1\r\n",
    "  9         60  '2020/12/10'     98       124     269.0\r\n",
    "  10        60  '2020/12/11'    103       147     329.3\r\n",
    "  11        60  '2020/12/12'    100       120     250.7\r\n",
    "  12        60  '2020/12/12'    100       120     250.7\r\n",
    "  13        60  '2020/12/13'    106       128     345.3\r\n",
    "  14        60  '2020/12/14'    104       132     379.3\r\n",
    "  15        60  '2020/12/15'     98       123     275.0\r\n",
    "  16        60  '2020/12/16'     98       120     215.2\r\n",
    "  17        60  '2020/12/17'    100       120     300.0\r\n",
    "  18        45  '2020/12/18'     90       112       NaN\r\n",
    "  19        60  '2020/12/19'    103       123     323.0\r\n",
    "  20        45  '2020/12/20'     97       125     243.0\r\n",
    "  21        60  '2020/12/21'    108       131     364.2\r\n",
    "  22        45           NaN    100       119     282.0\r\n",
    "  23        60  '2020/12/23'    130       101     300.0\r\n",
    "  24        45  '2020/12/24'    105       132     246.0\r\n",
    "  25        60  '2020/12/25'    102       126     334.5\r\n",
    "  26        60    2020/12/26    100       120     250.0\r\n",
    "  27        60  '2020/12/27'     92       118     241.0\r\n",
    "  28        60  '2020/12/28'    103       132       NaN\r\n",
    "  29        60  '2020/12/29'    100       132     280.0\r\n",
    "  30        60  '2020/12/30'    102       129     380.3\r\n",
    "  31        60  '2020/12/31'     92       115     243.0"
   ]
  },
  {
   "cell_type": "markdown",
   "id": "99f296f3-8cf0-4b45-b51e-24c09b6f9850",
   "metadata": {},
   "source": [
    "The data set contains some empty cells (\"Date\" in row 22, and \"Calories\" in row 18 and 28)\r\n",
    "The data set contains wrong format (\"Date\" in row 26\r\n",
    "\r\n",
    "The data set contains wrong data (\"Duration\" in )).\r\n",
    "\r\n",
    "The data set contains duplicates (row d 12)11 an\n",
    "Tập dữ liệu chứa một số ô trống (\"Ngày\" ở hàng 22 và \"Calo\" ở hàng 18 v28).\r",
    "\r\n",
    "Tập dữ liệu chứa định dạng sai (\"Ngày\" ở h)g 26.\r\n",
    "\r\n",
    "Tệp dữ liHu chứa dữ liệu sai (\"Thời lượng\" hàng7).\r\n",
    "\r\n",
    "Tập dữ liệu chứa các bản sao (hàng12).d 12)."
   ]
  }
 ],
 "metadata": {
  "kernelspec": {
   "display_name": "Python 3 (ipykernel)",
   "language": "python",
   "name": "python3"
  },
  "language_info": {
   "codemirror_mode": {
    "name": "ipython",
    "version": 3
   },
   "file_extension": ".py",
   "mimetype": "text/x-python",
   "name": "python",
   "nbconvert_exporter": "python",
   "pygments_lexer": "ipython3",
   "version": "3.11.7"
  }
 },
 "nbformat": 4,
 "nbformat_minor": 5
}
