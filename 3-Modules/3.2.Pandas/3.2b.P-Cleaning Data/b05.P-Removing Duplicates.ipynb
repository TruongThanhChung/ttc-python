{
 "cells": [
  {
   "cell_type": "markdown",
   "id": "572cb7c1-f274-4b88-a479-e75d1ccdfc9d",
   "metadata": {},
   "source": [
    "Discovering Duplicates\r\n",
    "Duplicate rows are rows that have been registered more than one time\n",
    "Khám phá bản sao\r\n",
    "Các hàng trùng lặp là các hàng đã được đăng ký nhiềuần.."
   ]
  },
  {
   "cell_type": "markdown",
   "id": "54701107-185f-4faa-8a98-1f473e26ac35",
   "metadata": {},
   "source": [
    "Duration          Date  Pulse  Maxpulse  Calories\r\n",
    "  0         60  '2020/12/01'    110       130     409.1\r\n",
    "  1         60  '2020/12/02'    117       145     479.0\r\n",
    "  2         60  '2020/12/03'    103       135     340.0\r\n",
    "  3         45  '2020/12/04'    109       175     282.4\r\n",
    "  4         45  '2020/12/05'    117       148     406.0\r\n",
    "  5         60  '2020/12/06'    102       127     300.0\r\n",
    "  6         60  '2020/12/07'    110       136     374.0\r\n",
    "  7        450  '2020/12/08'    104       134     253.3\r\n",
    "  8         30  '2020/12/09'    109       133     195.1\r\n",
    "  9         60  '2020/12/10'     98       124     269.0\r\n",
    "  10        60  '2020/12/11'    103       147     329.3\r\n",
    "  11        60  '2020/12/12'    100       120     250.7\r\n",
    "  12        60  '2020/12/12'    100       120     250.7\r\n",
    "  13        60  '2020/12/13'    106       128     345.3\r\n",
    "  14        60  '2020/12/14'    104       132     379.3\r\n",
    "  15        60  '2020/12/15'     98       123     275.0\r\n",
    "  16        60  '2020/12/16'     98       120     215.2\r\n",
    "  17        60  '2020/12/17'    100       120     300.0\r\n",
    "  18        45  '2020/12/18'     90       112       NaN\r\n",
    "  19        60  '2020/12/19'    103       123     323.0\r\n",
    "  20        45  '2020/12/20'     97       125     243.0\r\n",
    "  21        60  '2020/12/21'    108       131     364.2\r\n",
    "  22        45           NaN    100       119     282.0\r\n",
    "  23        60  '2020/12/23'    130       101     300.0\r\n",
    "  24        45  '2020/12/24'    105       132     246.0\r\n",
    "  25        60  '2020/12/25'    102       126     334.5\r\n",
    "  26        60      20201226    100       120     250.0\r\n",
    "  27        60  '2020/12/27'     92       118     241.0\r\n",
    "  28        60  '2020/12/28'    103       132       NaN\r\n",
    "  29        60  '2020/12/29'    100       132     280.0\r\n",
    "  30        60  '2020/12/30'    102       129     380.3\r\n",
    "  31        60  '2020/12/31'     92       115     243.0"
   ]
  },
  {
   "cell_type": "markdown",
   "id": "32688456-9cde-4357-b2a3-6aa4f79e5ada",
   "metadata": {},
   "source": [
    "By taking a look at our test data set, we can assume that row 11 and 12 are duplicates.\r\n",
    "To discover duplicates, we can use the duplicated() method\n",
    "\r\n",
    "The duplicated() method returns a Boolean values for each \n",
    "Bằng cách xem tập dữ liệu thử nghiệm của chúng tôi, chúng tôi có thể giả định rằng hàng 11 và 12 là trùng ặ.\r",
    "\r\n",
    "Để phát hiện các bản sao, chúng ta có thể sử  phương thứcdụng duplic() Phương thức duplicated()atthức trả về giá trị Boolean cho mỗg:row:"
   ]
  },
  {
   "cell_type": "code",
   "execution_count": 1,
   "id": "5053391f-3efc-4fbd-aa8c-c5a5a19a60ae",
   "metadata": {},
   "outputs": [
    {
     "ename": "NameError",
     "evalue": "name 'df' is not defined",
     "output_type": "error",
     "traceback": [
      "\u001b[1;31m---------------------------------------------------------------------------\u001b[0m",
      "\u001b[1;31mNameError\u001b[0m                                 Traceback (most recent call last)",
      "Cell \u001b[1;32mIn[1], line 3\u001b[0m\n\u001b[0;32m      1\u001b[0m \u001b[38;5;66;03m# Returns True for every row that is a duplicate, otherwise False:\u001b[39;00m\n\u001b[0;32m      2\u001b[0m \u001b[38;5;66;03m# Trả True về mỗi hàng trùng lặp, nếu không thì False:\u001b[39;00m\n\u001b[1;32m----> 3\u001b[0m \u001b[38;5;28mprint\u001b[39m(df\u001b[38;5;241m.\u001b[39mduplicated())\n",
      "\u001b[1;31mNameError\u001b[0m: name 'df' is not defined"
     ]
    }
   ],
   "source": [
    "# Returns True for every row that is a duplicate, otherwise False:\n",
    "# Trả True về mỗi hàng trùng lặp, nếu không thì False:\n",
    "print(df.duplicated())"
   ]
  },
  {
   "cell_type": "markdown",
   "id": "d658a009-e490-46d6-9748-003e37cc4433",
   "metadata": {},
   "source": [
    "Removing Duplicates\r\n",
    "To remove duplicates, use the drop_duplicates() method\n",
    "Loại bỏ trùng lặp\r\n",
    "Để loại bỏ trùng lặp, hãy sử dụ phương thứcng drop_duplicates.."
   ]
  },
  {
   "cell_type": "code",
   "execution_count": null,
   "id": "18fb14f9-ee40-43f2-a7a0-55d82a05cf1d",
   "metadata": {},
   "outputs": [],
   "source": [
    "# Remove all duplicates:\n",
    "# Xóa tất cả các bản sao:\n",
    "df.drop_duplicates(inplace = True)"
   ]
  },
  {
   "cell_type": "markdown",
   "id": "59348094-2137-4b7b-b644-9409935fc1da",
   "metadata": {},
   "source": [
    "Remember: The (inplace = True) will make sure that the method does NOT return a new DataFrame, but it will remove all duplicates from the original DataFrame\n",
    "Hãy nhớ: Phương thức (inplace = True) sẽ đảm bảo rằng phương thức KHÔNG trả về DataFrame mới nhưng sẽ xóa tất cả các bản sao khỏi DataFrame gốc"
   ]
  }
 ],
 "metadata": {
  "kernelspec": {
   "display_name": "Python 3 (ipykernel)",
   "language": "python",
   "name": "python3"
  },
  "language_info": {
   "codemirror_mode": {
    "name": "ipython",
    "version": 3
   },
   "file_extension": ".py",
   "mimetype": "text/x-python",
   "name": "python",
   "nbconvert_exporter": "python",
   "pygments_lexer": "ipython3",
   "version": "3.11.7"
  }
 },
 "nbformat": 4,
 "nbformat_minor": 5
}
