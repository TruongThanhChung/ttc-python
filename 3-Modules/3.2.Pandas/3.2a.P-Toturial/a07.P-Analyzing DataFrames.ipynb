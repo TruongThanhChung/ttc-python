{
 "cells": [
  {
   "cell_type": "markdown",
   "id": "1a5b1cf0-f1ea-48fd-b4e7-f3252ee49b93",
   "metadata": {},
   "source": [
    "Viewing the Data\n",
    "One of the most used method for getting a quick overview of the DataFrame, is the head() method\n",
    "The head() method returns the headers and a specified number of rows, starting from the top\n",
    "Xem dữ liệu\n",
    "\n",
    "Một trong những phương pháp được sử dụng nhiều nhất để có cái nhìn tổng quan nhanh về DataFrame là phươgn thứg head)\n",
    "Phương thức head()ức trả về các tiêu đề và số hàng được chỉ định, bắt đầu từ trên cùg."
   ]
  },
  {
   "cell_type": "code",
   "execution_count": 1,
   "id": "b55c4b71-8e81-4912-9424-4588c22b33b5",
   "metadata": {},
   "outputs": [
    {
     "name": "stdout",
     "output_type": "stream",
     "text": [
      "   Duration  Pulse  Maxpulse  Calories\n",
      "0        60    110       130     409.1\n",
      "1        60    117       145     479.0\n",
      "2        60    103       135     340.0\n",
      "3        45    109       175     282.4\n",
      "4        45    117       148     406.0\n",
      "5        60    102       127     300.0\n",
      "6        60    110       136     374.0\n",
      "7        45    104       134     253.3\n",
      "8        30    109       133     195.1\n",
      "9        60     98       124     269.0\n"
     ]
    }
   ],
   "source": [
    "# Get a quick overview by printing the first 10 rows of the DataFrame:\n",
    "# Nhận tổng quan nhanh bằng cách in 10 hàng đầu tiên của DataFrame:\n",
    "import pandas as pd\n",
    "\n",
    "df = pd.read_csv('C:/Users/thanh/ttc-python/3-Modules/3.2.Pandas/3.2a.P-Toturial/data.csv')\n",
    "\n",
    "print(df.head(10))"
   ]
  },
  {
   "cell_type": "markdown",
   "id": "ff5d1b6d-407c-4e58-b555-25fff5424abd",
   "metadata": {},
   "source": [
    "In our examples we will be using a CSV file called 'data.csv'\r\n",
    "Download data.csv, or open data.csv in your browse\n",
    "Trong ví dụ của chúng tôi, chúng tôi sẽ sử dụng tệp CSV có tên 'data.csv\r",
    "\r\n",
    "Tải xuống data.csv hoặc mở data.csv trong trình duyệt của br."
   ]
  },
  {
   "cell_type": "markdown",
   "id": "c7b52a61-231d-4156-aa0a-1b2d63948a2d",
   "metadata": {},
   "source": [
    "Note: if the number of rows is not specified, the head() method will return the top 5 rows\n",
    "Lưu ý: nếu số lượng hàng không được chỉ định, phương thức head() sẽ trả về 5 hàng trên cùng"
   ]
  },
  {
   "cell_type": "code",
   "execution_count": 3,
   "id": "79153cff-edeb-44c2-9437-19682ce270b4",
   "metadata": {},
   "outputs": [
    {
     "name": "stdout",
     "output_type": "stream",
     "text": [
      "   Duration  Pulse  Maxpulse  Calories\n",
      "0        60    110       130     409.1\n",
      "1        60    117       145     479.0\n",
      "2        60    103       135     340.0\n",
      "3        45    109       175     282.4\n",
      "4        45    117       148     406.0\n"
     ]
    }
   ],
   "source": [
    "# Print the first 5 rows of the DataFrame:\n",
    "# In 5 hàng đầu tiên của DataFrame:\n",
    "import pandas as pd\n",
    "\n",
    "df = pd.read_csv('C:/Users/thanh/ttc-python/3-Modules/3.2.Pandas/3.2a.P-Toturial/data.csv')\n",
    "\n",
    "print(df.head())"
   ]
  },
  {
   "cell_type": "markdown",
   "id": "482c313d-1422-4fa4-beb8-e3999430e3f0",
   "metadata": {},
   "source": [
    "There is also a tail() method for viewing the last rows of the DataFrame\r\n",
    "The tail() method returns the headers and a specified number of rows, starting from the bottmo\n",
    "Ngoài ra còn có mộ phương thứct tail(p để xem các hàng cuối cùng của DataFram\r",
    "\r\n",
    "Phươ thứcng tailức trả về các tiêu đề và số hàng được chỉ định, bắt đầu từ dưới cùm."
   ]
  },
  {
   "cell_type": "code",
   "execution_count": 4,
   "id": "2ab70264-e7ca-4c26-98c0-4902922b690a",
   "metadata": {},
   "outputs": [
    {
     "name": "stdout",
     "output_type": "stream",
     "text": [
      "     Duration  Pulse  Maxpulse  Calories\n",
      "164        60    105       140     290.8\n",
      "165        60    110       145     300.0\n",
      "166        60    115       145     310.2\n",
      "167        75    120       150     320.4\n",
      "168        75    125       150     330.4\n"
     ]
    }
   ],
   "source": [
    "# Print the last 5 rows of the DataFrame:\n",
    "# In 5 hàng cuối cùng của DataFrame:\n",
    "print(df.tail()) "
   ]
  },
  {
   "cell_type": "markdown",
   "id": "35e3ad35-05cf-4760-a989-1f8350883dea",
   "metadata": {},
   "source": [
    "Info About the Data\r\n",
    "The DataFrames object has a method called info(), that gives you more information about the data set\n",
    "Thông tin về dữ liệu\r\n",
    "Đối tượng DataFrames có một phương thức được gọi là info(), cung cấp cho bạn thêm thông tin về tập dữ li.."
   ]
  },
  {
   "cell_type": "code",
   "execution_count": 11,
   "id": "11463bc0-a95f-4914-b4be-243f61341098",
   "metadata": {},
   "outputs": [
    {
     "name": "stdout",
     "output_type": "stream",
     "text": [
      "<class 'pandas.core.frame.DataFrame'>\n",
      "RangeIndex: 169 entries, 0 to 168\n",
      "Data columns (total 4 columns):\n",
      " #   Column    Non-Null Count  Dtype  \n",
      "---  ------    --------------  -----  \n",
      " 0   Duration  169 non-null    int64  \n",
      " 1   Pulse     169 non-null    int64  \n",
      " 2   Maxpulse  169 non-null    int64  \n",
      " 3   Calories  164 non-null    float64\n",
      "dtypes: float64(1), int64(3)\n",
      "memory usage: 5.4 KB\n",
      "None\n"
     ]
    }
   ],
   "source": [
    "# Print information about the data:\n",
    "# In thông tin về dữ liệu:\n",
    "print(df.info()) "
   ]
  },
  {
   "cell_type": "markdown",
   "id": "16942a1c-7a48-487c-ad2a-84e6d942c5ab",
   "metadata": {},
   "source": [
    "Result Explained\r\n",
    "The result tells us there are 169 rows and 4 columns\n",
    "\r\n",
    "\r\n",
    "  RangeIndex: 169 entries, 0 to 168\r\n",
    "  Data columns (total 4 colu\n",
    "Kết quả được giải thích\r\n",
    "Kết quả cho chúng ta biết có 169 hàng và 4 cột\n",
    "\r\n",
    "\r\n",
    "  RangeIndex: 169 mục, 0 đến 168\r\n",
    "  Cột dữ liệu (tổng cộng 4 cột):mns):"
   ]
  },
  {
   "cell_type": "code",
   "execution_count": null,
   "id": "18aa67fd-798c-4422-86c3-7c4a0724d145",
   "metadata": {},
   "outputs": [],
   "source": [
    "And the name of each column, with the data type:\n",
    "   #   Column    Non-Null Count  Dtype  \n",
    "  ---  ------    --------------  -----  \n",
    "   0   Duration  169 non-null    int64  \n",
    "   1   Pulse     169 non-null    int64  \n",
    "   2   Maxpulse  169 non-null    int64  \n",
    "   3   Calories  164 non-null    float64\n",
    "Và tên từng cột, kèm theo kiểu dữ liệu:\n",
    "   # Cột Dtype không có giá trị rỗng  \n",
    "  --- ------ -------------- -----  \n",
    "   0 Thời lượng 169 không null int64  \n",
    "   1 Xung 169 không null int64  \n",
    "   2 Maxpulse 169 không null int64  \n",
    "   3 Calo 164 không null64"
   ]
  },
  {
   "cell_type": "markdown",
   "id": "3bbcfd3d-80c5-489a-9b9f-ef95a2d94f80",
   "metadata": {},
   "source": [
    "Null Values\r\n",
    "The info() method also tells us how many Non-Null values there are present in each column, and in our data set it seems like there are 164 of 169 Non-Null values in the \"Calories\" colu.\r\n",
    "Which means that there are 5 rows with no value at all, in the \"Calories\" column, for whatever rsonn\r\n",
    "\r\n",
    "Empty values, or Null values, can be bad when analyzing data, and you should consider removing rows with empty values. This is a step towards what is called cleaning data, and you will learn more about that in the next terschap\n",
    "Giá trị rỗng\r\n",
    "Phươngc này i nfo()cũng cho chúng ta biết có bao nhiêu giá trị Không Null trong mỗi cột và trong tập dữ liệu của chúng ta, có vẻ như có 164 trong số 169 giá trị Không Null trong cột \"ao\".\n",
    "\r\n",
    "Điều đó có nghĩa là có 5 hàng không có giá trị nào trong cột \"Calo\", vì bất kỳ gìdo g.\r\n",
    "\r\n",
    "Các giá trị trống hoặc giá trị Null có thể không tốt khi phân tích dữ liệu và bạn nên cân nhắc việc xóa các hàng có giá trị trống. Đây là một bước tiến tới cái được gọi là làm sạch dữ liệu và bạn sẽ tìm hiểu thêm về điều đó trong các chương teo.ters."
   ]
  }
 ],
 "metadata": {
  "kernelspec": {
   "display_name": "Python 3 (ipykernel)",
   "language": "python",
   "name": "python3"
  },
  "language_info": {
   "codemirror_mode": {
    "name": "ipython",
    "version": 3
   },
   "file_extension": ".py",
   "mimetype": "text/x-python",
   "name": "python",
   "nbconvert_exporter": "python",
   "pygments_lexer": "ipython3",
   "version": "3.11.7"
  }
 },
 "nbformat": 4,
 "nbformat_minor": 5
}
