{
 "cells": [
  {
   "cell_type": "markdown",
   "id": "f9e7fd18-27bd-437e-bf33-cd114dc40f48",
   "metadata": {},
   "source": [
    "Installation of Pandas\r\n",
    "If you have Python and PIP already installed on a system, then installation of Pandas is very easy.\n",
    "\r\n",
    "Install it using this comma\n",
    "Cài đặt Pandas\r\n",
    "Nếu bạn đã cài đặt Python và PIP trên hệ thống thì việc cài đặt Pandas rất dễ dàng.\n",
    "\r\n",
    "Cài đặt nó bằng lệnh này:nd:"
   ]
  },
  {
   "cell_type": "markdown",
   "id": "15a3a584-3d35-4f79-acaf-e6bfb74e5fbc",
   "metadata": {},
   "source": [
    "If this command fails, then use a python distribution that already has Pandas installed like, Anaconda, Spyder etc.\n",
    "Nếu lệnh này không thành công thì hãy sử dụng bản phân phối python đã cài đặt Pandas như Anaconda, Spyder, v.v."
   ]
  },
  {
   "cell_type": "markdown",
   "id": "ca0ccc12-da03-42b4-b1f9-1bf2d89beaf7",
   "metadata": {},
   "source": [
    "Import Pandas\r\n",
    "Once Pandas is installed, import it in your applications by adding the import keyword\n",
    "Nhập khẩu gấu trúc\r\n",
    "Khi Pandas được cài đặt, hãy nhập nó vào ứng dụng của bạn bằng cách thêm importtừ khóa import pandas::"
   ]
  },
  {
   "cell_type": "code",
   "execution_count": 1,
   "id": "a9278a36-7f87-4114-9c7a-bc810386d425",
   "metadata": {},
   "outputs": [],
   "source": [
    "import pandas"
   ]
  },
  {
   "cell_type": "markdown",
   "id": "d3c47626-341f-4fe7-80c1-99bfb195541e",
   "metadata": {},
   "source": [
    "Now Pandas is imported and ready to use.\n",
    "Bây giờ Pandas đã được nhập và sẵn sàng để sử dụng."
   ]
  },
  {
   "cell_type": "code",
   "execution_count": 2,
   "id": "8d99bf8e-9852-4e18-8dfc-e340185b4d06",
   "metadata": {},
   "outputs": [
    {
     "name": "stdout",
     "output_type": "stream",
     "text": [
      "    cars  passings\n",
      "0    BMW         3\n",
      "1  Volvo         7\n",
      "2   Ford         2\n"
     ]
    }
   ],
   "source": [
    "import pandas\n",
    "\n",
    "mydataset = {\n",
    "  'cars': [\"BMW\", \"Volvo\", \"Ford\"],\n",
    "  'passings': [3, 7, 2]\n",
    "}\n",
    "\n",
    "myvar = pandas.DataFrame(mydataset)\n",
    "\n",
    "print(myvar)"
   ]
  },
  {
   "cell_type": "markdown",
   "id": "57eee8b1-5713-4062-8638-ff75e7bd1bb5",
   "metadata": {},
   "source": [
    "Pandas as pd\r\n",
    "Pandas is usually imported under the pd alias\n",
    "Gấu trúc như PD\r\n",
    "Pandas thường được nhập dưới pd bí danh.."
   ]
  },
  {
   "cell_type": "markdown",
   "id": "6c632a0f-958c-442f-bb7e-c392b013f804",
   "metadata": {},
   "source": [
    "alias: In Python alias are an alternate name for referring to the same thing.\n",
    "bí danh: Trong Python bí danh là tên thay thế để đề cập đến điều tương tự."
   ]
  },
  {
   "cell_type": "markdown",
   "id": "e589fa7c-ec03-4deb-8470-c0d4e303c8da",
   "metadata": {},
   "source": [
    "Create an alias with the as keyword while importing:\n",
    "Tạo bí danh với astừ khóa trong khi nhập: import pandas as pd"
   ]
  },
  {
   "cell_type": "code",
   "execution_count": 3,
   "id": "e34c35ac-6409-4c6c-9730-c8f51d12c055",
   "metadata": {},
   "outputs": [],
   "source": [
    "import pandas as pd"
   ]
  },
  {
   "cell_type": "code",
   "execution_count": 4,
   "id": "0e733787-9968-49d3-a37e-7e67304b758c",
   "metadata": {},
   "outputs": [
    {
     "name": "stdout",
     "output_type": "stream",
     "text": [
      "    cars  passings\n",
      "0    BMW         3\n",
      "1  Volvo         7\n",
      "2   Ford         2\n"
     ]
    }
   ],
   "source": [
    "# Now the Pandas package can be referred to as pd instead of pandas.\n",
    "# Bây giờ gói Pandas có thể được gọi là pd thay vì pandas.\n",
    "import pandas as pd\n",
    "\n",
    "mydataset = {\n",
    "  'cars': [\"BMW\", \"Volvo\", \"Ford\"],\n",
    "  'passings': [3, 7, 2]\n",
    "}\n",
    "\n",
    "myvar = pd.DataFrame(mydataset)\n",
    "\n",
    "print(myvar)"
   ]
  },
  {
   "cell_type": "markdown",
   "id": "ae445eff-86cf-4475-b2b6-c0a450fcd4c3",
   "metadata": {},
   "source": [
    "Checking Pandas Version\r\n",
    "The version string is stored under __version__ attribute\n",
    "Kiểm tra phiên bản Pandas\r\n",
    "Chuỗi phiên bản được lưu trữ dưới __version__ thuộc tính.."
   ]
  },
  {
   "cell_type": "code",
   "execution_count": 5,
   "id": "8c65a238-47e0-4d7b-9a1a-07202a895d74",
   "metadata": {},
   "outputs": [
    {
     "name": "stdout",
     "output_type": "stream",
     "text": [
      "2.1.4\n"
     ]
    }
   ],
   "source": [
    "import pandas as pd\n",
    "\n",
    "print(pd.__version__)"
   ]
  },
  {
   "cell_type": "code",
   "execution_count": null,
   "id": "4bc27f6e-5c3c-478a-8a73-1a10dd02b66a",
   "metadata": {},
   "outputs": [],
   "source": []
  }
 ],
 "metadata": {
  "kernelspec": {
   "display_name": "Python 3 (ipykernel)",
   "language": "python",
   "name": "python3"
  },
  "language_info": {
   "codemirror_mode": {
    "name": "ipython",
    "version": 3
   },
   "file_extension": ".py",
   "mimetype": "text/x-python",
   "name": "python",
   "nbconvert_exporter": "python",
   "pygments_lexer": "ipython3",
   "version": "3.11.7"
  }
 },
 "nbformat": 4,
 "nbformat_minor": 5
}
