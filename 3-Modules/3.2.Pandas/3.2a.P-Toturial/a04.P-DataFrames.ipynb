{
 "cells": [
  {
   "cell_type": "markdown",
   "id": "b55191f8-6c73-403a-9e04-5c6a365056a0",
   "metadata": {},
   "source": [
    "What is a DataFrame?\r\n",
    "A Pandas DataFrame is a 2 dimensional data structure, like a 2 dimensional array, or a table with rows and columns\n",
    "DataFrame là gì?\r\n",
    "Pandas DataFrame là cấu trúc dữ liệu 2 chiều, giống như mảng 2 chiều hoặc bảng có hàng và c.."
   ]
  },
  {
   "cell_type": "code",
   "execution_count": 1,
   "id": "d230e544-f714-4df0-abf5-bb2900867195",
   "metadata": {},
   "outputs": [
    {
     "name": "stdout",
     "output_type": "stream",
     "text": [
      "   calories  duration\n",
      "0       420        50\n",
      "1       380        40\n",
      "2       390        45\n"
     ]
    }
   ],
   "source": [
    "# Create a simple Pandas DataFrame:\n",
    "# Tạo một DataFrame Pandas đơn giản:\n",
    "import pandas as pd\n",
    "\n",
    "data = {\n",
    "  \"calories\": [420, 380, 390],\n",
    "  \"duration\": [50, 40, 45]\n",
    "}\n",
    "\n",
    "#load data into a DataFrame object:\n",
    "df = pd.DataFrame(data)\n",
    "\n",
    "print(df) "
   ]
  },
  {
   "cell_type": "markdown",
   "id": "698d6bf5-fb10-4230-88ed-6ea8be6d8c31",
   "metadata": {},
   "source": [
    "Locate Row\r\n",
    "As you can see from the result above, the DataFrame is like a table with rows and column.\r\n",
    "Pandas use the loc attribute to return one or more specified row\n",
    "Xác định vị trí hàng\r\n",
    "Như bạn có thể thấy từ kết quả trên, DataFrame giống như một bảng có các hàng và ộ.\n",
    "\r\n",
    "Gấu trúc sử  thuộc tính loccính để trả về một hoặc nhiều hàng được chỉ h(s)"
   ]
  },
  {
   "cell_type": "code",
   "execution_count": 2,
   "id": "f4a5e24c-7742-4d29-857c-bef1a540b13b",
   "metadata": {},
   "outputs": [
    {
     "name": "stdout",
     "output_type": "stream",
     "text": [
      "calories    420\n",
      "duration     50\n",
      "Name: 0, dtype: int64\n"
     ]
    }
   ],
   "source": [
    "# Return row 0:\n",
    "# Trả về hàng 0:\n",
    "print(df.loc[0])"
   ]
  },
  {
   "cell_type": "markdown",
   "id": "7698c008-3352-4a60-b496-0b4ed9a701f2",
   "metadata": {},
   "source": [
    "Note: This example returns a Pandas Series\n",
    "Lưu ý: Ví dụ này trả về Pandas Series "
   ]
  },
  {
   "cell_type": "code",
   "execution_count": 3,
   "id": "407c53e6-473f-425e-ab76-d208b64970bd",
   "metadata": {},
   "outputs": [
    {
     "name": "stdout",
     "output_type": "stream",
     "text": [
      "   calories  duration\n",
      "0       420        50\n",
      "1       380        40\n"
     ]
    }
   ],
   "source": [
    "# Return row 0 and 1:\n",
    "# Trả về hàng 0 và 1:\n",
    "print(df.loc[[0, 1]])"
   ]
  },
  {
   "cell_type": "markdown",
   "id": "3e82b4ef-b47a-4767-937b-f2ec2d90f655",
   "metadata": {},
   "source": [
    "Note: When using [], the result is a Pandas DataFrame\n",
    "Lưu ý: Khi sử dụng [], kết quả là Pandas DataFrame"
   ]
  },
  {
   "cell_type": "markdown",
   "id": "b100d27a-bf02-42e5-9f82-6467dafffce8",
   "metadata": {},
   "source": [
    "Named Indexes\r\n",
    "With the index argument, you can name your own indexes\n",
    "Chỉ mục được đặt tên\r\n",
    "V đối sốới inesố, bạn có thể đặt tên cho các chỉ mục của riêng mì.."
   ]
  },
  {
   "cell_type": "code",
   "execution_count": 4,
   "id": "7e008da7-2f92-4f41-a47b-be5a8cb88d15",
   "metadata": {},
   "outputs": [
    {
     "name": "stdout",
     "output_type": "stream",
     "text": [
      "      calories  duration\n",
      "day1       420        50\n",
      "day2       380        40\n",
      "day3       390        45\n"
     ]
    }
   ],
   "source": [
    "# Add a list of names to give each row a name:\n",
    "# Thêm danh sách tên để đặt tên cho mỗi hàng:\n",
    "import pandas as pd\n",
    "\n",
    "data = {\n",
    "  \"calories\": [420, 380, 390],\n",
    "  \"duration\": [50, 40, 45]\n",
    "}\n",
    "\n",
    "df = pd.DataFrame(data, index = [\"day1\", \"day2\", \"day3\"])\n",
    "\n",
    "print(df) "
   ]
  },
  {
   "cell_type": "markdown",
   "id": "ab47bca7-ad31-4887-b886-5c62035c9750",
   "metadata": {},
   "source": [
    "Locate Named Indexes\r\n",
    "Use the named index in the loc attribute to return the specified row(s)\n",
    "Xác định vị trí các chỉ mục được đặt tên\r\n",
    "Sử dụng chỉ mục được đặt tên tro gcthuộc thín lch để trả về (các) hàng được chỉ đị.."
   ]
  },
  {
   "cell_type": "code",
   "execution_count": 5,
   "id": "ceddec03-56cd-4b90-ac72-9974e0fffe33",
   "metadata": {},
   "outputs": [
    {
     "name": "stdout",
     "output_type": "stream",
     "text": [
      "calories    380\n",
      "duration     40\n",
      "Name: day2, dtype: int64\n"
     ]
    }
   ],
   "source": [
    "# Return \"day2\":\n",
    "# Trả về \"ngày2\":\n",
    "print(df.loc[\"day2\"])"
   ]
  },
  {
   "cell_type": "markdown",
   "id": "9dde82b8-5e0d-48d1-b624-49b8b78e2b72",
   "metadata": {},
   "source": [
    "Load Files Into a DataFrame\r\n",
    "If your data sets are stored in a file, Pandas can load them into a DataFrame\n",
    "Tải tệp vào DataFrame\r\n",
    "Nếu tập dữ liệu của bạn được lưu trữ trong một tệp, Pandas có thể tải chúng vào DataFra.."
   ]
  },
  {
   "cell_type": "code",
   "execution_count": 1,
   "id": "d0ce2b7b-c98d-4a9c-879b-33095a3ecb14",
   "metadata": {},
   "outputs": [
    {
     "name": "stdout",
     "output_type": "stream",
     "text": [
      "     Duration  Pulse  Maxpulse  Calories\n",
      "0          60    110       130     409.1\n",
      "1          60    117       145     479.0\n",
      "2          60    103       135     340.0\n",
      "3          45    109       175     282.4\n",
      "4          45    117       148     406.0\n",
      "..        ...    ...       ...       ...\n",
      "164        60    105       140     290.8\n",
      "165        60    110       145     300.0\n",
      "166        60    115       145     310.2\n",
      "167        75    120       150     320.4\n",
      "168        75    125       150     330.4\n",
      "\n",
      "[169 rows x 4 columns]\n"
     ]
    }
   ],
   "source": [
    "# Load a comma separated file (CSV file) into a DataFrame:\n",
    "# Tải tệp được phân tách bằng dấu phẩy (tệp CSV) vào DataFrame:\n",
    "import pandas as pd\n",
    "\n",
    "df = pd.read_csv('C:/Users/thanh/ttc-python/3-Modules/3.2.Pandas/3.2a.P-Toturial/data.csv')\n",
    "\n",
    "print(df) "
   ]
  },
  {
   "cell_type": "markdown",
   "id": "b3a2176b-5817-459b-8fcd-5058aaa52a54",
   "metadata": {},
   "source": [
    "You will learn more about importing files in the next chapters\n",
    "Bạn sẽ tìm hiểu thêm về cách nhập tệp trong các chương tiếp theo"
   ]
  }
 ],
 "metadata": {
  "kernelspec": {
   "display_name": "Python 3 (ipykernel)",
   "language": "python",
   "name": "python3"
  },
  "language_info": {
   "codemirror_mode": {
    "name": "ipython",
    "version": 3
   },
   "file_extension": ".py",
   "mimetype": "text/x-python",
   "name": "python",
   "nbconvert_exporter": "python",
   "pygments_lexer": "ipython3",
   "version": "3.11.7"
  }
 },
 "nbformat": 4,
 "nbformat_minor": 5
}
