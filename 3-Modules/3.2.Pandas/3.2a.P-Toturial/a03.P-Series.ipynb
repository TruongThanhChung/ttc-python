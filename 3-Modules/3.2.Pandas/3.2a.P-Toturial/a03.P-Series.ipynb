{
 "cells": [
  {
   "cell_type": "markdown",
   "id": "e09a5492-71a4-4e55-aa57-31e593a99203",
   "metadata": {},
   "source": [
    "What is a Series?\r\n",
    "A Pandas Series is like a column in a table.\n",
    "\r\n",
    "It is a one-dimensional array holding data of any ty\n",
    "Sê-ri là gì?\r\n",
    "Dòng Pandas giống như một cột trong bảng.\n",
    "\r\n",
    "Nó là mảng một chiều chứa dữ liệu thuộc bất kỳ loại nào.pe."
   ]
  },
  {
   "cell_type": "code",
   "execution_count": 1,
   "id": "cc306011-37fe-4d9a-be71-0be9ceb1da4c",
   "metadata": {},
   "outputs": [
    {
     "name": "stdout",
     "output_type": "stream",
     "text": [
      "0    1\n",
      "1    7\n",
      "2    2\n",
      "dtype: int64\n"
     ]
    }
   ],
   "source": [
    "# Create a simple Pandas Series from a list:\n",
    "# Tạo một chuỗi Pandas đơn giản từ danh sách:\n",
    "import pandas as pd\n",
    "\n",
    "a = [1, 7, 2]\n",
    "\n",
    "myvar = pd.Series(a)\n",
    "\n",
    "print(myvar)"
   ]
  },
  {
   "cell_type": "markdown",
   "id": "423ffc16-7044-43b4-8ba4-e8078d53a841",
   "metadata": {},
   "source": [
    "Labels\r\n",
    "If nothing else is specified, the values are labeled with their index number. First value has index 0, second value has index 1 etc.\n",
    "\r\n",
    "This label can be used to access a specified val\n",
    "Nhãn\r\n",
    "Nếu không có gì khác được chỉ định, các giá trị sẽ được gắn nhãn bằng số chỉ mục của chúng. Giá trị đầu tiên có chỉ số 0, giá trị thứ hai có chỉ mục 1, v.v.\n",
    "\r\n",
    "Nhãn này có thể được sử dụng để truy cập một giá trị được chỉ định.ue."
   ]
  },
  {
   "cell_type": "code",
   "execution_count": 2,
   "id": "c0f89594-b9e5-4494-9991-4b3a5fe572f5",
   "metadata": {},
   "outputs": [
    {
     "name": "stdout",
     "output_type": "stream",
     "text": [
      "1\n"
     ]
    }
   ],
   "source": [
    "# Return the first value of the Series:\n",
    "# Trả về giá trị đầu tiên của Series:\n",
    "print(myvar[0])"
   ]
  },
  {
   "cell_type": "markdown",
   "id": "2234779f-2267-48b6-b554-b1026e5c12c8",
   "metadata": {},
   "source": [
    "Create Labels\r\n",
    "With the index argument, you can name your own labels\n",
    "Tạo Nhãn\r\n",
    "Với inde xđối số, bạn có thể đặt tên cho nhãn của riêng mình.."
   ]
  },
  {
   "cell_type": "code",
   "execution_count": 3,
   "id": "3f8cdf78-e224-4704-a059-cab9b4d1b3a9",
   "metadata": {},
   "outputs": [
    {
     "name": "stdout",
     "output_type": "stream",
     "text": [
      "x    1\n",
      "y    7\n",
      "z    2\n",
      "dtype: int64\n"
     ]
    }
   ],
   "source": [
    "# Create your own labels:\n",
    "# Tạo nhãn của riêng bạn:\n",
    "import pandas as pd\n",
    "\n",
    "a = [1, 7, 2]\n",
    "\n",
    "myvar = pd.Series(a, index = [\"x\", \"y\", \"z\"])\n",
    "\n",
    "print(myvar)"
   ]
  },
  {
   "cell_type": "markdown",
   "id": "5aa212af-7324-4ed1-946a-f62d99a7b352",
   "metadata": {},
   "source": [
    "When you have created labels, you can access an item by referring to the label.\n",
    "Khi bạn đã tạo nhãn, bạn có thể truy cập một mục bằng cách tham khảo nhãn."
   ]
  },
  {
   "cell_type": "code",
   "execution_count": 4,
   "id": "f4c1be6e-7e3d-479b-badb-b7b78d4f5412",
   "metadata": {},
   "outputs": [
    {
     "name": "stdout",
     "output_type": "stream",
     "text": [
      "7\n"
     ]
    }
   ],
   "source": [
    "# Return the value of \"y\":\n",
    "# Trả về giá trị của \"y\":\n",
    "print(myvar[\"y\"])"
   ]
  },
  {
   "cell_type": "markdown",
   "id": "283277ec-b6f2-4234-89fc-1ed52229390a",
   "metadata": {},
   "source": [
    "Key/Value Objects as Series\r\n",
    "You can also use a key/value object, like a dictionary, when creating a Series\n",
    "Đối tượng Khóa/Giá trị dưới dạng chuỗi\r\n",
    "Bạn cũng có thể sử dụng đối tượng khóa/giá trị, như từ điển, khi tạo Sê-ri.."
   ]
  },
  {
   "cell_type": "code",
   "execution_count": 5,
   "id": "48ffb01a-9610-4b88-b889-80dda1cc1133",
   "metadata": {},
   "outputs": [
    {
     "name": "stdout",
     "output_type": "stream",
     "text": [
      "day1    420\n",
      "day2    380\n",
      "day3    390\n",
      "dtype: int64\n"
     ]
    }
   ],
   "source": [
    "# Create a simple Pandas Series from a dictionary:\n",
    "# Tạo một chuỗi Pandas đơn giản từ một từ điển:\n",
    "import pandas as pd\n",
    "\n",
    "calories = {\"day1\": 420, \"day2\": 380, \"day3\": 390}\n",
    "\n",
    "myvar = pd.Series(calories)\n",
    "\n",
    "print(myvar)"
   ]
  },
  {
   "cell_type": "markdown",
   "id": "eb5d001b-9842-4ea6-aef7-7cb0df53f8f4",
   "metadata": {},
   "source": [
    "Note: The keys of the dictionary become the labels.\n",
    "Lưu ý: Các khóa của từ điển trở thành nhãn."
   ]
  },
  {
   "cell_type": "markdown",
   "id": "7fe3f50e-82d4-47d0-af5e-b51eeacbaa06",
   "metadata": {},
   "source": [
    "To select only some of the items in the dictionary, use the index argument and specify only the items you want to include in the Series.\n",
    "Để chỉ chọn một số mục trong từ điển, hãy sử dụng đối index số và chỉ định các mục bạn muốn đưa vào Sê-ri."
   ]
  },
  {
   "cell_type": "code",
   "execution_count": 6,
   "id": "44709b84-0c57-42b5-afec-a50d7bfdc331",
   "metadata": {},
   "outputs": [
    {
     "name": "stdout",
     "output_type": "stream",
     "text": [
      "day1    420\n",
      "day2    380\n",
      "dtype: int64\n"
     ]
    }
   ],
   "source": [
    "# Create a Series using only data from \"day1\" and \"day2\":\n",
    "# Tạo Chuỗi chỉ sử dụng dữ liệu từ \"day1\" và \"day2\":\n",
    "import pandas as pd\n",
    "\n",
    "calories = {\"day1\": 420, \"day2\": 380, \"day3\": 390}\n",
    "\n",
    "myvar = pd.Series(calories, index = [\"day1\", \"day2\"])\n",
    "\n",
    "print(myvar)"
   ]
  },
  {
   "cell_type": "markdown",
   "id": "b97b839c-0f6d-4f0c-ae59-36d1f956b02b",
   "metadata": {},
   "source": [
    "DataFrames\r\n",
    "Data sets in Pandas are usually multi-dimensional tables, called DataFrames.\n",
    "\r\n",
    "Series is like a column, a DataFrame is the whole tab\n",
    "Khung dữ liệu\r\n",
    "Các tập dữ liệu trong Pandas thường là các bảng nhiều chiều, được gọi là DataFrames.\n",
    "\r\n",
    "Chuỗi giống như một cột, DataFrame là toàn bộ bảng.le."
   ]
  },
  {
   "cell_type": "code",
   "execution_count": 7,
   "id": "95c388d5-1cd4-4d01-b0a0-86f8dc1fb01f",
   "metadata": {},
   "outputs": [
    {
     "name": "stdout",
     "output_type": "stream",
     "text": [
      "   calories  duration\n",
      "0       420        50\n",
      "1       380        40\n",
      "2       390        45\n"
     ]
    }
   ],
   "source": [
    "# Create a DataFrame from two Series:\n",
    "# Tạo DataFrame từ hai Sê-ri:\n",
    "import pandas as pd\n",
    "\n",
    "data = {\n",
    "  \"calories\": [420, 380, 390],\n",
    "  \"duration\": [50, 40, 45]\n",
    "}\n",
    "\n",
    "myvar = pd.DataFrame(data)\n",
    "\n",
    "print(myvar)"
   ]
  },
  {
   "cell_type": "markdown",
   "id": "e89e1d80-db79-47b5-ac73-ada45c8560a8",
   "metadata": {},
   "source": [
    "You will learn about DataFrames in the next chapter.\n",
    "Bạn sẽ tìm hiểu về DataFrames trong chương tiếp theo ."
   ]
  }
 ],
 "metadata": {
  "kernelspec": {
   "display_name": "Python 3 (ipykernel)",
   "language": "python",
   "name": "python3"
  },
  "language_info": {
   "codemirror_mode": {
    "name": "ipython",
    "version": 3
   },
   "file_extension": ".py",
   "mimetype": "text/x-python",
   "name": "python",
   "nbconvert_exporter": "python",
   "pygments_lexer": "ipython3",
   "version": "3.11.7"
  }
 },
 "nbformat": 4,
 "nbformat_minor": 5
}
