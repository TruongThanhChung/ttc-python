{
 "cells": [
  {
   "cell_type": "markdown",
   "id": "ac31679a-5826-4bf6-9545-bf0d0bbbdf1d",
   "metadata": {},
   "source": [
    "What is Pandas?\r\n",
    "Pandas is a Python library used for working with data sets.\n",
    "\r\n",
    "It has functions for analyzing, cleaning, exploring, and manipulating dat.\r\n",
    "\r\n",
    "The name \"Pandas\" has a reference to both \"Panel Data\", and \"Python Data Analysis\" and was created by Wes McKinney in \n",
    "Gấu trúc là gì?\r\n",
    "Pandas là thư viện Python được sử dụng để làm việc với các tập dữ liệu.\n",
    "\r\n",
    "Nó có chức năng phân tích, làm sạch, khám phá và thao tác dữ liệ.\r\n",
    "\r\n",
    "Tên \"Pandas\" có liên quan đến cả \"Dữ liệu bảng\" và \"Phân tích dữ liệu Python\" và được tạo bởi Wes McKinney vào năm 2008.2008."
   ]
  },
  {
   "cell_type": "markdown",
   "id": "167739cb-9494-4e6c-860c-a36afa739419",
   "metadata": {},
   "source": [
    "Why Use Pandas?\r\n",
    "Pandas allows us to analyze big data and make conclusions based on statistical theories.\n",
    "\r\n",
    "Pandas can clean messy data sets, and make them readable and relevan.\r\n",
    "\r\n",
    "Relevant data is very important in data sci\n",
    "Tại sao nên sử dụng Pandas?\r\n",
    "Pandas cho phép chúng tôi phân tích dữ liệu lớn và đưa ra kết luận dựa trên lý thuyết thống kê.\n",
    "\r\n",
    "Pandas có thể dọn dẹp các tập dữ liệu lộn xộn và làm cho chúng dễ đọc và phù hợ.\r\n",
    "\r\n",
    "Dữ liệu liên quan là rất quan trọng trong khoa học dữ liệu.ence."
   ]
  },
  {
   "cell_type": "markdown",
   "id": "4c6b0fcd-d142-42f4-aa27-f27b6204bfc2",
   "metadata": {},
   "source": [
    "Data Science: is a branch of computer science where we study how to store, use and analyze data for deriving information from it.\n",
    "Khoa học dữ liệu: là một nhánh của khoa học máy tính, nơi chúng tôi nghiên cứu cách lưu trữ, sử dụng và phân tích dữ liệu để lấy thông tin từ dữ liệu đó."
   ]
  },
  {
   "cell_type": "markdown",
   "id": "9aea0375-98a7-4d53-8143-5446d00e25f7",
   "metadata": {},
   "source": [
    "What Can Pandas Do?\r\n",
    "Pandas gives you answers about the data. Like:\n",
    "\r\n",
    "Is there a correlation between two or more columns?\r\n",
    "What is average value?\r\n",
    "Max value?\r\n",
    "Min value?\r\n",
    "Pandas are also able to delete rows that are not relevant, or contains wrong values, like empty or NULL values. This is called cleaning theGấu trúc có thể làm gì?\r\n",
    "Pandas cung cấp cho bạn câu trả lời về dữ liệu.Như::\n",
    "\r\n",
    "Có mối tương quan giữa hai hoặc nhiều cột không?\r\n",
    "Giá trị trung bình là gì?\r\n",
    "Giá trị tối đa?\r\n",
    "Giá trị tối thiểu?\r\n",
    "Gấu trúc cũng có thể xóa các hàng không liên quan hoặc chứa các giá trị sai, như giá trị trống hoặc giá trị NULL. Điều này được gọi là làm sạch d liệu. data.\r\n",
    "\r\n"
   ]
  },
  {
   "cell_type": "markdown",
   "id": "b1c94be2-d27e-4352-87d3-710337343ee9",
   "metadata": {},
   "source": [
    "Where is the Pandas Codebase?\r\n",
    "The source code for Pandas is located at this github repository https://github.com/pandas-dev/panda\n",
    "Cơ sở mã Pandas ở đâu?\r\n",
    "Mã nguồn của Pandas được đặt tại kho github này https://github.com/pandas-dev/pandass"
   ]
  },
  {
   "cell_type": "markdown",
   "id": "4eaf9188-b33c-46d1-bbfd-a2b4b21b0099",
   "metadata": {},
   "source": [
    "github: enables many people to work on the same codebase.\n",
    "github: cho phép nhiều người làm việc trên cùng một cơ sở mã."
   ]
  }
 ],
 "metadata": {
  "kernelspec": {
   "display_name": "Python 3 (ipykernel)",
   "language": "python",
   "name": "python3"
  },
  "language_info": {
   "codemirror_mode": {
    "name": "ipython",
    "version": 3
   },
   "file_extension": ".py",
   "mimetype": "text/x-python",
   "name": "python",
   "nbconvert_exporter": "python",
   "pygments_lexer": "ipython3",
   "version": "3.11.7"
  }
 },
 "nbformat": 4,
 "nbformat_minor": 5
}
