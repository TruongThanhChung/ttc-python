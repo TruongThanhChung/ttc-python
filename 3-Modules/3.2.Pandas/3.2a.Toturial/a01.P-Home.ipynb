{
 "cells": [
  {
   "cell_type": "markdown",
   "id": "dff9095e-bf6b-4f34-822a-3c4be61c8b94",
   "metadata": {},
   "source": [
    "Pandas is a Python library.\r",
    "\r\n",
    "Pandas is used to analyze dat\n",
    "Pandas là một thư viện Python.\r",
    "\r\n",
    "Pandas được sử dụng để phân tích dữ liệu.a."
   ]
  },
  {
   "cell_type": "markdown",
   "id": "706bcd68-01d4-403a-b736-3c6bf49cec60",
   "metadata": {},
   "source": [
    "Learning by Reading\r\n",
    "We have created 14 tutorial pages for you to learn more about Pandas.\n",
    "\r\n",
    "Starting with a basic introduction and ends up with cleaning and plotting da\n",
    "Học bằng cách đọc\r\n",
    "Chúng tôi đã tạo 14 trang hướng dẫn để bạn tìm hiểu thêm về Pandas.\n",
    "\r\n",
    "Bắt đầu với phần giới thiệu cơ bản và kết thúc bằng việc làm sạch và vẽ đồ thị dữ liệu:ta:"
   ]
  }
 ],
 "metadata": {
  "kernelspec": {
   "display_name": "Python 3 (ipykernel)",
   "language": "python",
   "name": "python3"
  },
  "language_info": {
   "codemirror_mode": {
    "name": "ipython",
    "version": 3
   },
   "file_extension": ".py",
   "mimetype": "text/x-python",
   "name": "python",
   "nbconvert_exporter": "python",
   "pygments_lexer": "ipython3",
   "version": "3.11.7"
  }
 },
 "nbformat": 4,
 "nbformat_minor": 5
}
