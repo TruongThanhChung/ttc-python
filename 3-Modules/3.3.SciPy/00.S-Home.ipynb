{
 "cells": [
  {
   "cell_type": "markdown",
   "id": "870b284f-5a4b-4de2-8126-2bdd47f0e511",
   "metadata": {},
   "source": [
    "SciPy is a scientific computation library that uses NumPy underneath.\r",
    "\r\n",
    "SciPy stands for Scientific Pytho\n",
    "SciPy là thư viện tính toán khoa học sử dụng NumPy bên dưới.\r",
    "\r\n",
    "SciPy là viết tắt của Python khoa học.n."
   ]
  },
  {
   "cell_type": "markdown",
   "id": "624e82e5-3a15-403f-b568-acef5c2b50cd",
   "metadata": {},
   "source": [
    "Learning by Reading\r\n",
    "We have created 10 tutorial pages for you to learn the fundamentals of SciPy\n",
    "Học bằng cách đọc\r\n",
    "Chúng tôi đã tạo 10 trang hướng dẫn để bạn tìm hiểu các nguyên tắc cơ bản về SciPy::"
   ]
  }
 ],
 "metadata": {
  "kernelspec": {
   "display_name": "Python 3 (ipykernel)",
   "language": "python",
   "name": "python3"
  },
  "language_info": {
   "codemirror_mode": {
    "name": "ipython",
    "version": 3
   },
   "file_extension": ".py",
   "mimetype": "text/x-python",
   "name": "python",
   "nbconvert_exporter": "python",
   "pygments_lexer": "ipython3",
   "version": "3.11.7"
  }
 },
 "nbformat": 4,
 "nbformat_minor": 5
}
