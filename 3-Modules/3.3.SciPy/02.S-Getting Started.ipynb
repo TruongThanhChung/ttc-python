{
 "cells": [
  {
   "cell_type": "markdown",
   "id": "44ab03f2-7edd-44a3-acd1-5398df2c72a5",
   "metadata": {},
   "source": [
    "Installation of SciPy\r\n",
    "If you have Python and PIP already installed on a system, then installation of SciPy is very easy.\n",
    "\r\n",
    "Install it using this comma C:\\Users\\Your Name>pip install scipy\n",
    "Cài đặt SciPy\r\n",
    "Nếu bạn đã cài đặt Python và PIP trên hệ thống thì việc cài đặt SciPy rất dễ dàng.\n",
    "\r\n",
    "Cài đặt nó bằng lệnh n C:\\Users\\Your Name>pip install scipyày:nd:"
   ]
  },
  {
   "cell_type": "markdown",
   "id": "8e619e45-29eb-4659-93bc-e4e63501551f",
   "metadata": {},
   "source": [
    "If this command fails, then use a Python distribution that already has SciPy installed like, Anaconda, Spyder etc.\n",
    "Nếu lệnh này không thành công, hãy sử dụng bản phân phối Python đã cài đặt SciPy như Anaconda, Spyder, v.v."
   ]
  },
  {
   "cell_type": "markdown",
   "id": "17f15fbe-6616-4bab-b42b-69c570cbc38a",
   "metadata": {},
   "source": [
    "Import SciPy\r\n",
    "Once SciPy is installed, import the SciPy module(s) you want to use in your applications by adding the from scipy import module statement\n",
    "Nhập SciPy\r\n",
    "Sau khi SciPy được cài đặt, hãy nhập (các) mô-đun SciPy mà bạn muốn sử dụng trong ứng dụng của mình bằng cách thêm câu lệnh:from scipy import module:"
   ]
  },
  {
   "cell_type": "code",
   "execution_count": 1,
   "id": "74843e54-32ed-4dbd-ab5c-0de2c2353135",
   "metadata": {},
   "outputs": [],
   "source": [
    "from scipy import constants"
   ]
  },
  {
   "cell_type": "markdown",
   "id": "f0e5bea0-0009-473b-8fa0-5ef2868e2950",
   "metadata": {},
   "source": [
    "Now we have imported the constants module from SciPy, and the application is ready to use it:\n",
    "Bây giờ chúng tôi đã nhập mô- đun hằng số từ SciPy và ứng dụng đã sẵn sàng sử dụng nó:"
   ]
  },
  {
   "cell_type": "code",
   "execution_count": 2,
   "id": "abe89a28-e3ff-4020-9648-7406cce57095",
   "metadata": {},
   "outputs": [
    {
     "name": "stdout",
     "output_type": "stream",
     "text": [
      "0.001\n"
     ]
    }
   ],
   "source": [
    "# How many cubic meters are in one liter:\n",
    "# Có bao nhiêu mét khối trong một lít:\n",
    "from scipy import constants\n",
    "\n",
    "print(constants.liter)"
   ]
  },
  {
   "cell_type": "markdown",
   "id": "4e5969f1-827a-4731-9870-bedc05b8f0fc",
   "metadata": {},
   "source": [
    "constants: SciPy offers a set of mathematical constants, one of them is liter which returns 1 liter as cubic meters.\r",
    "\r\n",
    "You will learn more about constants in the next chapte\n",
    "hằng số: SciPy cung cấp một tập hợp các hằng số toán học, một trong số đó là hằng số litertrả về 1 lít dưới dạng mét khối.\r",
    "\r\n",
    "Bạn sẽ tìm hiểu thêm về hằng số trong chương tiếp theo.r."
   ]
  },
  {
   "cell_type": "markdown",
   "id": "0bc30371-9474-4976-acc8-742d6a07e7c3",
   "metadata": {},
   "source": [
    "Checking SciPy Version\r\n",
    "The version string is stored under the __version__ attribute\n",
    "Kiểm tra phiên bản SciPy\r\n",
    "Chuỗi phiên bản được lưu trữ dưới __version__ thuộc tính.."
   ]
  },
  {
   "cell_type": "code",
   "execution_count": 3,
   "id": "7a8517ca-bb0e-4597-a2a0-e243b7969357",
   "metadata": {},
   "outputs": [
    {
     "name": "stdout",
     "output_type": "stream",
     "text": [
      "1.11.4\n"
     ]
    }
   ],
   "source": [
    "import scipy\n",
    "\n",
    "print(scipy.__version__)"
   ]
  },
  {
   "cell_type": "markdown",
   "id": "c77f3c84-3a31-4681-85ab-46d60da7b608",
   "metadata": {},
   "source": [
    "Note: two underscore characters are used in __version__.\n",
    "Lưu ý: hai ký tự gạch dưới được sử dụng trong __version__."
   ]
  }
 ],
 "metadata": {
  "kernelspec": {
   "display_name": "Python 3 (ipykernel)",
   "language": "python",
   "name": "python3"
  },
  "language_info": {
   "codemirror_mode": {
    "name": "ipython",
    "version": 3
   },
   "file_extension": ".py",
   "mimetype": "text/x-python",
   "name": "python",
   "nbconvert_exporter": "python",
   "pygments_lexer": "ipython3",
   "version": "3.11.7"
  }
 },
 "nbformat": 4,
 "nbformat_minor": 5
}
