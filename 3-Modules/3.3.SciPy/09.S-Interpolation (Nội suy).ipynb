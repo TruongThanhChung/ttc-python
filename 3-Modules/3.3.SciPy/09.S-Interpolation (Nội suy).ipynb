{
 "cells": [
  {
   "cell_type": "markdown",
   "id": "eced55cf-7337-4a3d-a7b8-692b340845ce",
   "metadata": {},
   "source": [
    "What is Interpolation?\r\n",
    "Interpolation is a method for generating points between given points.\n",
    "\r\n",
    "For example: for points 1 and 2, we may interpolate and find points 1.33 and 1.6.\r\n",
    "\r\n",
    "Interpolation has many usage, in Machine Learning we often deal with missing data in a dataset, interpolation is often used to substitute those vales.\r\n",
    "\r\n",
    "This method of filling values is called imputtion.\r\n",
    "\r\n",
    "Apart from imputation, interpolation is often used where we need to smooth the discrete points in a\n",
    "Nội suy là gì?\r\n",
    "Nội suy là một phương pháp tạo điểm giữa các điểm đã cho.\n",
    "\r\n",
    "Ví dụ: đối với điểm 1 và 2, ta có thể nội suy và tìm được điểm 1,33 và 1,6.\r\n",
    "\r\n",
    "Nội suy có nhiều cách sử dụng, trong Machine Learning chúng ta thường xử lý dữ liệu bị thiếu trong tập dữ liệu, nội suy thường được sử dụng để thay thế các giá trịđó.\r\n",
    "\r\n",
    "Phương pháp điền giá trị này được gọi là quy ịnh .\r\n",
    "\r\n",
    "Ngoài việc cắt bỏ, phép nội suy thường được sử dụng khi chúng ta cần làm mịn các điểm rời rạc trong tập dữ liệu. dataset."
   ]
  },
  {
   "cell_type": "markdown",
   "id": "92c229f2-ed8f-4822-8fa2-b0f71e069879",
   "metadata": {},
   "source": [
    "How to Implement it in SciPy?\r\n",
    "SciPy provides us with a module called scipy.interpolate which has many functions to deal with interpolation\n",
    "Làm cách nào để triển khai nó trong SciPy?\r\n",
    "SciPy cung cấp cho chúng ta một mô-đun có tên scipy.interpolate là có nhiều chức năng để xử lý nội suy::"
   ]
  },
  {
   "cell_type": "markdown",
   "id": "7b1348c2-3b96-47da-b97e-598001c1f5dc",
   "metadata": {},
   "source": [
    "1D Interpolation\r\n",
    "The function interp1d() is used to interpolate a distribution with 1 variable.\n",
    "\r\n",
    "It takes x and y points and returns a callable function that can be called with new x and returns corresponding\n",
    "Nội suy 1D\r\n",
    "Hàm interp1d()được sử dụng để nội suy phân phối với 1 biến.\n",
    "\r\n",
    "Nó nhậ n xv à ytrỏ và trả về một hàm có thể gọi được, có thể được gọi bằng new xvà trả về tương ứng y. y."
   ]
  },
  {
   "cell_type": "code",
   "execution_count": 1,
   "id": "0a6f4d85-bbdb-41d5-a677-c7e585108110",
   "metadata": {},
   "outputs": [
    {
     "name": "stdout",
     "output_type": "stream",
     "text": [
      "[5.2 5.4 5.6 5.8 6.  6.2 6.4 6.6 6.8]\n"
     ]
    }
   ],
   "source": [
    "# For given xs and ys interpolate values from 2.1, 2.2... to 2.9:\n",
    "# Đối với các giá trị nội suy xs và ys nhất định từ 2.1, 2.2... đến 2.9:\n",
    "from scipy.interpolate import interp1d\n",
    "import numpy as np\n",
    "\n",
    "xs = np.arange(10)\n",
    "ys = 2*xs + 1\n",
    "\n",
    "interp_func = interp1d(xs, ys)\n",
    "\n",
    "newarr = interp_func(np.arange(2.1, 3, 0.1))\n",
    "\n",
    "print(newarr)"
   ]
  },
  {
   "cell_type": "markdown",
   "id": "947d5035-ad96-4b6b-95a9-f11febe642bd",
   "metadata": {},
   "source": [
    "Note: that new xs should be in same range as of the old xs, meaning that we can't call interp_func() with values higher than 10, or less than 0.\n",
    "Lưu ý: xs mới đó phải nằm trong cùng phạm vi với xs cũ, nghĩa là chúng ta không thể gọi interp_func()với các giá trị cao hơn 10 hoặc nhỏ hơn 0."
   ]
  },
  {
   "cell_type": "markdown",
   "id": "dd6f2a9d-2e28-4057-91fa-4b803eddec23",
   "metadata": {},
   "source": [
    "Spline Interpolation\r\n",
    "In 1D interpolation the points are fitted for a single curve whereas in Spline interpolation the points are fitted against a piecewise function defined with polynomials called splines.\n",
    "\r\n",
    "The UnivariateSpline() function takes xs and ys and produce a callable funciton that can be called with new \n",
    "Nội suy Spline\r\n",
    "Trong phép nội suy 1D, các điểm được khớp cho một đường cong trong khi trong phép nội suy Spline, các điểm được khớp với hàm từng phần được xác định bằng đa thức gọi là splines.\n",
    "\r\n",
    "Hàm này UnivariateSpline()nhận xsvà ys tạo ra một funciton có thể gọi được bằng new xs.xs."
   ]
  },
  {
   "cell_type": "markdown",
   "id": "c809be02-d459-49c6-be83-f285a3bb1530",
   "metadata": {},
   "source": [
    "Piecewise function: A function that has different definition for different ranges.\n",
    "Hàm Piecewise: Một hàm có định nghĩa khác nhau cho các phạm vi khác nhau."
   ]
  },
  {
   "cell_type": "code",
   "execution_count": 2,
   "id": "0a6fd6a8-5506-4ea4-b2e6-98f3d1c7cb16",
   "metadata": {},
   "outputs": [
    {
     "name": "stdout",
     "output_type": "stream",
     "text": [
      "[5.62826474 6.03987348 6.47131994 6.92265019 7.3939103  7.88514634\n",
      " 8.39640439 8.92773053 9.47917082]\n"
     ]
    }
   ],
   "source": [
    "# Find univariate spline interpolation for 2.1, 2.2... 2.9 for the following non linear points:\n",
    "# Tìm nội suy spline đơn biến cho 2.1, 2.2... 2.9 cho các điểm phi tuyến tính sau:\n",
    "from scipy.interpolate import UnivariateSpline\n",
    "import numpy as np\n",
    "\n",
    "xs = np.arange(10)\n",
    "ys = xs**2 + np.sin(xs) + 1\n",
    "\n",
    "interp_func = UnivariateSpline(xs, ys)\n",
    "\n",
    "newarr = interp_func(np.arange(2.1, 3, 0.1))\n",
    "\n",
    "print(newarr)"
   ]
  },
  {
   "cell_type": "markdown",
   "id": "2ff25ac2-6415-4d2a-991b-76725662272d",
   "metadata": {},
   "source": [
    "Interpolation with Radial Basis Function\r\n",
    "Radial basis function is a function that is defined corresponding to a fixed reference point\r\n",
    "\r\n",
    "The Rbf() function also takes xs and ys as arguments and produces a callable function that can be called with new \n",
    "Nội suy với hàm cơ sở bán kính\r\n",
    "Hàm cơ sở xuyên tâm là hàm được xác định tương ứng với một điểm tham chiếu cố định.\n",
    "\r\n",
    "Hàm này Rbf()cũng lấy xsvà ys làm đối số và tạo ra một hàm có thể gọi được bằng new xs.xs."
   ]
  },
  {
   "cell_type": "code",
   "execution_count": 3,
   "id": "2d4a450c-82c1-4249-81c3-657d1d02f9eb",
   "metadata": {},
   "outputs": [
    {
     "name": "stdout",
     "output_type": "stream",
     "text": [
      "[6.25748981 6.62190817 7.00310702 7.40121814 7.8161443  8.24773402\n",
      " 8.69590519 9.16070828 9.64233874]\n"
     ]
    }
   ],
   "source": [
    "# Interpolate following xs and ys using rbf and find values for 2.1, 2.2 ... 2.9:\n",
    "# Nội suy xs và ys sau bằng rbf và tìm các giá trị cho 2.1, 2.2 ... 2.9:\n",
    "from scipy.interpolate import Rbf\n",
    "import numpy as np\n",
    "\n",
    "xs = np.arange(10)\n",
    "ys = xs**2 + np.sin(xs) + 1\n",
    "\n",
    "interp_func = Rbf(xs, ys)\n",
    "\n",
    "newarr = interp_func(np.arange(2.1, 3, 0.1))\n",
    "\n",
    "print(newarr)"
   ]
  },
  {
   "cell_type": "code",
   "execution_count": null,
   "id": "9b120647-2101-4cf7-8eb8-b0c25b6e1ea7",
   "metadata": {},
   "outputs": [],
   "source": []
  }
 ],
 "metadata": {
  "kernelspec": {
   "display_name": "Python 3 (ipykernel)",
   "language": "python",
   "name": "python3"
  },
  "language_info": {
   "codemirror_mode": {
    "name": "ipython",
    "version": 3
   },
   "file_extension": ".py",
   "mimetype": "text/x-python",
   "name": "python",
   "nbconvert_exporter": "python",
   "pygments_lexer": "ipython3",
   "version": "3.11.7"
  }
 },
 "nbformat": 4,
 "nbformat_minor": 5
}
