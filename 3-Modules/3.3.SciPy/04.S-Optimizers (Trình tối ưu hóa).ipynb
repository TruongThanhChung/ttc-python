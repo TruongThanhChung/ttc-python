{
 "cells": [
  {
   "cell_type": "markdown",
   "id": "2f067e8b-b295-4c69-acfe-504e769b9fc4",
   "metadata": {},
   "source": [
    "Optimizers in SciPy\r\n",
    "Optimizers are a set of procedures defined in SciPy that either find the minimum value of a function, or the root of an equation\n",
    "Trình tối ưu hóa trong SciPy\r\n",
    "Trình tối ưu hóa là một tập hợp các quy trình được xác định trong SciPy để tìm giá trị tối thiểu của hàm hoặc nghiệm của phương trình.."
   ]
  },
  {
   "cell_type": "markdown",
   "id": "dde0ac75-e8d7-46b2-b583-954bacce79da",
   "metadata": {},
   "source": [
    "Optimizing Functions\r\n",
    "Essentially, all of the algorithms in Machine Learning are nothing more than a complex equation that needs to be minimized with the help of given data\n",
    "Tối ưu hóa chức năng\r\n",
    "Về cơ bản, tất cả các thuật toán trong Machine Learning không gì khác hơn là một phương trình phức tạp cần được giảm thiểu với sự trợ giúp của dữ liệu nhất định.."
   ]
  },
  {
   "cell_type": "markdown",
   "id": "727affc9-fe44-44c0-9c1c-be70c9fbd1b1",
   "metadata": {},
   "source": [
    "Roots of an Equation\r\n",
    "NumPy is capable of finding roots for polynomials and linear equations, but it can not find roots for non linear equations, like this one:\n",
    "\r\n",
    "x + cosx)\r\n",
    "\r\n",
    "For that you can use SciPy's optimize.root funcion.\r\n",
    "\r\n",
    "This function takes two required argments:\r\n",
    "\r\n",
    "fun - a function representing an quation.\r\n",
    "\r\n",
    "x0 - an initial guess fo the root.\r\n",
    "\r\n",
    "The function returns an object with information regarding he solution.\r\n",
    "\r\n",
    "The actual solution is given under attribute x of the r\n",
    "Căn nguyên của một phương trình\r\n",
    "NumPy có khả năng tìm nghiệm của các đa thức và phương trình tuyến tính, nhưng nó không thể tìm ra nghiệm của các phương trình phi tuyến tính, như phương trình này\r\n",
    "\r\n",
    "x + cosx)\r\n",
    "\r\n",
    "Để làm được điều đó, bạn có thể sử dụng chức năng của SciPy optimize.oot.\r\n",
    "\r\n",
    "Hàm này có hai đối số bắ buộc:\r\n",
    "\r\n",
    "fun - một hàm đại diện cho một phươg trình.\r\n",
    "\r\n",
    "x0 - dự đoán ban đu cho gốc.\r\n",
    "\r\n",
    "Hàm trả về một đối tượng có thông tin liên quan đn giải pháp.\r\n",
    "\r\n",
    "Giải pháp thực tế được đưa ra dưới thuộc tính x của đối tượng được trả về:eturned object:eturned object:"
   ]
  },
  {
   "cell_type": "code",
   "execution_count": 1,
   "id": "5c501579-a1c2-428c-903f-01b2bead0ca5",
   "metadata": {},
   "outputs": [
    {
     "name": "stdout",
     "output_type": "stream",
     "text": [
      "[-0.73908513]\n"
     ]
    },
    {
     "name": "stderr",
     "output_type": "stream",
     "text": [
      "C:\\Users\\thanh\\AppData\\Local\\Temp\\ipykernel_12724\\829610363.py:7: DeprecationWarning: Conversion of an array with ndim > 0 to a scalar is deprecated, and will error in future. Ensure you extract a single element from your array before performing this operation. (Deprecated NumPy 1.25.)\n",
      "  return x + cos(x)\n"
     ]
    }
   ],
   "source": [
    "# Find root of the equation x + cos(x):\n",
    "# Tìm nghiệm của phương trình x + cos(x):\n",
    "from scipy.optimize import root\n",
    "from math import cos\n",
    "\n",
    "def eqn(x):\n",
    "  return x + cos(x)\n",
    "\n",
    "myroot = root(eqn, 0)\n",
    "\n",
    "print(myroot.x)"
   ]
  },
  {
   "cell_type": "markdown",
   "id": "74f7be04-ab59-4331-b58d-cadd9ed9495a",
   "metadata": {},
   "source": [
    "Note: The returned object has much more information about the solution.\n",
    "Lưu ý: Đối tượng được trả về có nhiều thông tin hơn về giải pháp."
   ]
  },
  {
   "cell_type": "code",
   "execution_count": 2,
   "id": "d7190757-2b97-48ae-b0ba-5edf9843525a",
   "metadata": {},
   "outputs": [
    {
     "name": "stdout",
     "output_type": "stream",
     "text": [
      " message: The solution converged.\n",
      " success: True\n",
      "  status: 1\n",
      "     fun: [ 0.000e+00]\n",
      "       x: [-7.391e-01]\n",
      "    nfev: 9\n",
      "    fjac: [[-1.000e+00]]\n",
      "       r: [-1.674e+00]\n",
      "     qtf: [-2.668e-13]\n"
     ]
    }
   ],
   "source": [
    "# Print all information about the solution (not just x which is the root)\n",
    "# In tất cả thông tin về giải pháp (không chỉ xthông tin gốc)\n",
    "print(myroot)"
   ]
  },
  {
   "cell_type": "markdown",
   "id": "d720f390-43a2-481f-becd-556f32941b1e",
   "metadata": {},
   "source": [
    "Minimizing a Function\r\n",
    "A function, in this context, represents a curve, curves have high points and low points\r\n",
    "\r\n",
    "High points are called maxia.\r\n",
    "\r\n",
    "Low points are called miima.\r\n",
    "\r\n",
    "The highest point in the whole curve is called global maxima, whereas the rest of them are called local axima.\r\n",
    "\r\n",
    "The lowest point in whole curve is called global minima, whereas the rest of them are called loca\n",
    "Giảm thiểu một chức năng\r\n",
    "Trong ngữ cảnh này, một hàm biểu thị một đường cong, các đường cong có điểm cao và điểm thấp \r\n",
    "\r\n",
    "Điểm cao được gọi là cực đạ .\r\n",
    "\r\n",
    "Điểm thấp được gọi là cực tểu .\r\n",
    "\r\n",
    "Điểm cao nhất trong toàn bộ đường cong được gọi là cực đại toàn cục , trong khi phần còn lại được gọi là cực đại cc bộ .\r\n",
    "\r\n",
    "Điểm thấp nhất trên toàn bộ đường cong được gọi là cực tiểu toàn cục , trong khi điểm còn lại được gọi là cực tiểu cục bộ .l minima."
   ]
  },
  {
   "cell_type": "markdown",
   "id": "b056221c-4822-43bd-94b1-c199a6811875",
   "metadata": {},
   "source": [
    "Finding Minima\r\n",
    "We can use scipy.optimize.minimize() function to minimize the function\r\n",
    "\r\n",
    "The minimize() function takes the following argumens:\r\n",
    "\r\n",
    "fun - a function representing an equaion.\r\n",
    "\r\n",
    "x0 - an initial guess for th root.\r\n",
    "\r\n",
    "method - name of the method to use. Legal values:\r\n",
    "    'CG'\r\n",
    "    'BFGS'\r\n",
    "    'Newton-CG'\r\n",
    "    'L-BFGS-B'\r\n",
    "    'TNC'\r\n",
    "    'COBYA'\r\n",
    "    'SLSQP'\r\n",
    "\r\n",
    "callback - function called after each iteratio of optimization.\r\n",
    "\r\n",
    "options - a dictionary deining extra params:\r\n",
    "\r\n",
    "{\r\n",
    "     \"disp\": boolean - print detailed description\r\n",
    "     \"gtol\": number - the to\n",
    "Tìm cực tiểu\r\n",
    "Chúng ta có thể sử dụng scipy.optimize.minimize()chức năng để giảm thiểu chức năng\r\n",
    "\r\n",
    "Hàm này minimize()nhận các đối số su:\r\n",
    "\r\n",
    "fun - một hàm đại diện cho một phương tình.\r\n",
    "\r\n",
    "x0 - dự đoán ban đầu co gốc.\r\n",
    "\r\n",
    "phương thức - tên của phương thức sẽ sử dụng. Giá trị pháp lý:\r\n",
    "    'CG'\r\n",
    "    'BFGS'\r\n",
    "    'Newton-CG'\r\n",
    "    'L-BFGS-B'\r\n",
    "    'TNC'\r\n",
    "    'COBYA'\r\n",
    "    'SLSQP'\r\n",
    "\r\n",
    "gọi lại - hàm được gọi sau mỗi ln lặp tối ưu hóa.\r\n",
    "\r\n",
    "tùy chọn - một từ điển xác định cc thông số bổ sung:\r\n",
    "\r\n",
    "{\r\n",
    "     \"disp\": boolean - print detailed description\r\n",
    "     \"gtol\": number - the tolerance of the error\r\n",
    "  }lerance of the error\r\n",
    "  }"
   ]
  },
  {
   "cell_type": "code",
   "execution_count": 3,
   "id": "d8ec3a49-a767-436f-952b-593d67f26443",
   "metadata": {},
   "outputs": [
    {
     "name": "stdout",
     "output_type": "stream",
     "text": [
      "  message: Optimization terminated successfully.\n",
      "  success: True\n",
      "   status: 0\n",
      "      fun: 1.75\n",
      "        x: [-5.000e-01]\n",
      "      nit: 2\n",
      "      jac: [ 0.000e+00]\n",
      " hess_inv: [[ 5.000e-01]]\n",
      "     nfev: 8\n",
      "     njev: 4\n"
     ]
    }
   ],
   "source": [
    "# Minimize the function x^2 + x + 2 with BFGS:\n",
    "# Giảm thiểu chức năng x^2 + x + 2với BFGS:\n",
    "from scipy.optimize import minimize\n",
    "\n",
    "def eqn(x):\n",
    "  return x**2 + x + 2\n",
    "\n",
    "mymin = minimize(eqn, 0, method='BFGS')\n",
    "\n",
    "print(mymin)"
   ]
  },
  {
   "cell_type": "code",
   "execution_count": null,
   "id": "fa1fa673-ac13-4e8c-9fb5-3af77ae5606f",
   "metadata": {},
   "outputs": [],
   "source": []
  }
 ],
 "metadata": {
  "kernelspec": {
   "display_name": "Python 3 (ipykernel)",
   "language": "python",
   "name": "python3"
  },
  "language_info": {
   "codemirror_mode": {
    "name": "ipython",
    "version": 3
   },
   "file_extension": ".py",
   "mimetype": "text/x-python",
   "name": "python",
   "nbconvert_exporter": "python",
   "pygments_lexer": "ipython3",
   "version": "3.11.7"
  }
 },
 "nbformat": 4,
 "nbformat_minor": 5
}
