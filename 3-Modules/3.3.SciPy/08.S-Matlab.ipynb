{
 "cells": [
  {
   "cell_type": "markdown",
   "id": "1106efb5-0f8d-4c17-807c-d0991d98c5f6",
   "metadata": {},
   "source": [
    "Working With Matlab Arrays\r\n",
    "We know that NumPy provides us with methods to persist the data in readable formats for Python. But SciPy provides us with interoperability with Matlab as well.\n",
    "\r\n",
    "SciPy provides us with the module scipy.io, which has functions for working with Matlab arra\n",
    "Làm việc với mảng Matlab\r\n",
    "Chúng tôi biết rằng NumPy cung cấp cho chúng tôi các phương pháp để duy trì dữ liệu ở các định dạng có thể đọc được cho Python. Nhưng SciPy cũng cung cấp cho chúng ta khả năng tương tác với Matlab.\n",
    "\r\n",
    "SciPy cung cấp cho chúng ta mô-đun scipy.iocó chức năng làm việc với mảng Matlab.ys."
   ]
  },
  {
   "cell_type": "code",
   "execution_count": null,
   "id": "a7ed55bf-de5c-4054-ba4a-da010601b41f",
   "metadata": {},
   "outputs": [],
   "source": [
    "Exporting Data in Matlab Format\n",
    "The savemat() function allows us to export data in Matlab format.\n",
    "The method takes the following parameters:\n",
    "filename - the file name for saving data.\n",
    "mdict - a dictionary containing the data.\n",
    "do_compression - a boolean value that specifies whether to compress the result or not. Default False.\n",
    "Xuất dữ liệu ở định dạng Matlab\n",
    "Hàm savemat()cho phép chúng ta xuất dữ liệu ở định dạng Matlab.\n",
    "Phương thức này lấy các tham số sau:\n",
    "filename - tên tệp để lưu dữ liệu.\n",
    "mdict - một từ điển chứa dữ liệu.\n",
    "do_compression - một giá trị boolean chỉ định có nén kết quả hay không. Mặc định là Sai."
   ]
  },
  {
   "cell_type": "code",
   "execution_count": 1,
   "id": "13f422f6-1ef2-42ed-8fd0-531bde75c9a9",
   "metadata": {},
   "outputs": [],
   "source": [
    "# Export the following array as variable name \"vec\" to a mat file:\n",
    "# Xuất mảng sau dưới dạng tên biến \"vec\" sang tệp mat:\n",
    "from scipy import io\n",
    "import numpy as np\n",
    "\n",
    "arr = np.arange(10)\n",
    "\n",
    "io.savemat('arr.mat', {\"vec\": arr})"
   ]
  },
  {
   "cell_type": "markdown",
   "id": "c960348b-89d7-453d-80cd-8223f4e49112",
   "metadata": {},
   "source": [
    "Note: The example above saves a file name \"arr.mat\" on your computer.\r",
    "\r\n",
    "To open the file, check out the \"Import Data from Matlab Format\" example belo\n",
    "Lưu ý: Ví dụ trên lưu tên tệp \"arr.mat\" trên máy tính của bạn.\r",
    "\r\n",
    "Để mở tệp, hãy xem ví dụ \"Nhập dữ liệu từ định dạng Matlab\" bên dưới:w:"
   ]
  },
  {
   "cell_type": "markdown",
   "id": "50f5d8b7-d5b7-4aa0-bb0d-d6d3dbc65ca9",
   "metadata": {},
   "source": [
    "Import Data from Matlab Format\r\n",
    "The loadmat() function allows us to import data from a Matlab file.\n",
    "\r\n",
    "The function takes one required paramete:\r\n",
    "\r\n",
    "filename - the file name of the saved dta.\r\n",
    "\r\n",
    "It will return a structured array whose keys are the variable names, and the corresponding values are the variable \n",
    "Nhập dữ liệu từ định dạng Matlab\r\n",
    "Hàm loadmat()cho phép chúng ta nhập dữ liệu từ tệp Matlab\r\n",
    "\r\n",
    "Hàm này nhận một tham số bắt buc:\r\n",
    "\r\n",
    "tên tệp - tên tệp của dữ liệu đãlưu.\r\n",
    "\r\n",
    "Nó sẽ trả về một mảng có cấu trúc có khóa là tên biến và giá trị tương ứng là giá trị biến.values."
   ]
  },
  {
   "cell_type": "code",
   "execution_count": 2,
   "id": "ea5b0019-8fc4-4175-aa21-bfbb46b7eb25",
   "metadata": {},
   "outputs": [
    {
     "name": "stdout",
     "output_type": "stream",
     "text": [
      "{'__header__': b'MATLAB 5.0 MAT-file Platform: nt, Created on: Sun May  5 18:14:08 2024', '__version__': '1.0', '__globals__': [], 'vec': array([[0, 1, 2, 3, 4, 5, 6, 7, 8, 9]])}\n"
     ]
    }
   ],
   "source": [
    "# Import the array from following mat file.:\n",
    "# Nhập mảng từ tệp mat sau.:\n",
    "from scipy import io\n",
    "import numpy as np\n",
    "\n",
    "arr = np.array([0, 1, 2, 3, 4, 5, 6, 7, 8, 9,])\n",
    "\n",
    "# Export:\n",
    "io.savemat('arr.mat', {\"vec\": arr})\n",
    "\n",
    "# Import:\n",
    "mydata = io.loadmat('arr.mat')\n",
    "\n",
    "print(mydata)"
   ]
  },
  {
   "cell_type": "markdown",
   "id": "3482a73c-ab1f-40e5-bb43-6742474a447d",
   "metadata": {},
   "source": [
    "Use the variable name \"vec\" to display only the array from the matlab data:\n",
    "Sử dụng tên biến \"vec\" để chỉ hiển thị mảng từ dữ liệu matlab:"
   ]
  },
  {
   "cell_type": "markdown",
   "id": "e4c7b1aa-b67b-42bb-86c4-0727dbef3569",
   "metadata": {},
   "source": [
    "Note: We can see that the array originally was 1D, but on extraction it has increased one dimension.\r",
    "\r\n",
    "In order to resolve this we can pass an additional argument squeeze_me=Tru\n",
    "Lưu ý: Chúng ta có thể thấy mảng ban đầu là 1D, nhưng khi trích xuất nó đã tăng lên một chiều.\r",
    "\r\n",
    "Để giải quyết vấn đề này, chúng ta có thể chuyển một đối số bổ sung squeeze_me=True:e:"
   ]
  },
  {
   "cell_type": "code",
   "execution_count": 3,
   "id": "38c59089-9b91-456c-920b-63bcfb7ddba9",
   "metadata": {},
   "outputs": [
    {
     "name": "stdout",
     "output_type": "stream",
     "text": [
      "[0 1 2 3 4 5 6 7 8 9]\n"
     ]
    }
   ],
   "source": [
    "# Import:\n",
    "mydata = io.loadmat('arr.mat', squeeze_me=True)\n",
    "\n",
    "print(mydata['vec'])"
   ]
  },
  {
   "cell_type": "code",
   "execution_count": null,
   "id": "a9414267-a3e7-4eb3-93ed-25a22471bc6e",
   "metadata": {},
   "outputs": [],
   "source": []
  }
 ],
 "metadata": {
  "kernelspec": {
   "display_name": "Python 3 (ipykernel)",
   "language": "python",
   "name": "python3"
  },
  "language_info": {
   "codemirror_mode": {
    "name": "ipython",
    "version": 3
   },
   "file_extension": ".py",
   "mimetype": "text/x-python",
   "name": "python",
   "nbconvert_exporter": "python",
   "pygments_lexer": "ipython3",
   "version": "3.11.7"
  }
 },
 "nbformat": 4,
 "nbformat_minor": 5
}
