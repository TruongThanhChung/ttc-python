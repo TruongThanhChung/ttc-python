{
 "cells": [
  {
   "cell_type": "markdown",
   "id": "ca34b159-3745-4c40-a62b-9daa1d82a870",
   "metadata": {},
   "source": [
    "What is SciPy?\r\n",
    "SciPy is a scientific computation library that uses NumPy underneath.\n",
    "\r\n",
    "SciPy stands for Scientific Pytho.\r\n",
    "\r\n",
    "It provides more utility functions for optimization, stats and signal processng.\r\n",
    "\r\n",
    "Like NumPy, SciPy is open source so we can use it feely.\r\n",
    "\r\n",
    "SciPy was created by NumPy's creator Travis O\n",
    "SciPy là gì?\r\n",
    "SciPy là thư viện tính toán khoa học sử dụng NumPy bên dưới.\n",
    "\r\n",
    "SciPy là viết tắt của Python khoa họ.\r\n",
    "\r\n",
    "Nó cung cấp nhiều chức năng tiện ích hơn để tối ưu hóa, thống kê và xử lý tín hệu.\r\n",
    "\r\n",
    "Giống như NumPy, SciPy là mã nguồn mở nên chúng ta có thể sử dụng miễ phí.\r\n",
    "\r\n",
    "SciPy được tạo bởi người tạo ra NumPy, Travis Olliphant.lliphant."
   ]
  },
  {
   "cell_type": "markdown",
   "id": "61bd2cea-fe4b-4492-82e4-7bd11f387137",
   "metadata": {},
   "source": [
    "Why Use SciPy?\r\n",
    "If SciPy uses NumPy underneath, why can we not just use NumPy?\n",
    "\r\n",
    "SciPy has optimized and added functions that are frequently used in NumPy and Data Scien\n",
    "Tại sao nên sử dụng SciPy?\r\n",
    "Nếu SciPy sử dụng NumPy bên dưới, tại sao chúng ta không thể sử dụng NumPy?\n",
    "\r\n",
    "SciPy đã tối ưu hóa và bổ sung các chức năng thường được sử dụng trong NumPy và Khoa học dữ liệu.ce."
   ]
  },
  {
   "cell_type": "markdown",
   "id": "46ccfe60-0aea-454a-85d1-6eb0ef7021f9",
   "metadata": {},
   "source": [
    "Which Language is SciPy Written in?\r\n",
    "SciPy is predominantly written in Python, but a few segments are written in C\n",
    "SciPy được viết bằng ngôn ngữ nào?\r\n",
    "SciPy chủ yếu được viết bằng Python, nhưng một số phân đoạn được viết bằng C.."
   ]
  },
  {
   "cell_type": "markdown",
   "id": "8c1f14db-d659-4dde-9844-1bc29d520572",
   "metadata": {},
   "source": [
    "Where is the SciPy Codebase?\r\n",
    "The source code for SciPy is located at this github repository https://github.com/scipy/scipy\n",
    "\r\n",
    "github: enables many people to work on the same codeba\n",
    "Cơ sở mã SciPy ở đâu?\r\n",
    "Mã nguồn của SciPy được đặt tại kho github này https://github.com/scipy/scipy\n",
    "\r\n",
    "github: cho phép nhiều người làm việc trên cùng một cơ sở mã.se."
   ]
  }
 ],
 "metadata": {
  "kernelspec": {
   "display_name": "Python 3 (ipykernel)",
   "language": "python",
   "name": "python3"
  },
  "language_info": {
   "codemirror_mode": {
    "name": "ipython",
    "version": 3
   },
   "file_extension": ".py",
   "mimetype": "text/x-python",
   "name": "python",
   "nbconvert_exporter": "python",
   "pygments_lexer": "ipython3",
   "version": "3.11.7"
  }
 },
 "nbformat": 4,
 "nbformat_minor": 5
}
