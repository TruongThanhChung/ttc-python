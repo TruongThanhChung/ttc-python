{
 "cells": [
  {
   "cell_type": "markdown",
   "id": "633f2eb0-2aec-4cf4-b7a5-8a729509f707",
   "metadata": {},
   "source": [
    "Constants in SciPy\r\n",
    "As SciPy is more focused on scientific implementations, it provides many built-in scientific constants.\n",
    "\r\n",
    "These constants can be helpful when you are working with Data SciencCác hằng số trong SciPy\r\n",
    "Vì SciPy tập trung hơn vào việc triển khai khoa học nên nó cung cấp nhiều hằng số khoa học tích hợp.\n",
    "\r\n",
    "Các hằng số này có thể hữu ích khi bạn làm việc với Khoa học dữ li\n",
    "ệu.e.\r\n",
    "\r\n",
    "PI is an example of a scientific c\n",
    "PI là một ví dụ về hằng số khoa học.onstant."
   ]
  },
  {
   "cell_type": "code",
   "execution_count": 1,
   "id": "4273dbd1-2f0e-4966-b70d-4bc60f730a91",
   "metadata": {},
   "outputs": [
    {
     "name": "stdout",
     "output_type": "stream",
     "text": [
      "3.141592653589793\n"
     ]
    }
   ],
   "source": [
    "# Print the constant value of PI:\n",
    "# In giá trị không đổi của PI:\n",
    "from scipy import constants\n",
    "\n",
    "print(constants.pi)"
   ]
  },
  {
   "cell_type": "markdown",
   "id": "5986a90e-f950-43e7-842e-dad3c95162cb",
   "metadata": {},
   "source": [
    "Constant Units\r\n",
    "A list of all units under the constants module can be seen using the dir() function\n",
    "Đơn vị không đổi\r\n",
    "Có thể xem danh sách tất cả các đơn vị trong mô-đun hằng bằng cách sử dụng hàm dir() .."
   ]
  },
  {
   "cell_type": "code",
   "execution_count": 2,
   "id": "b6df282c-5917-4f76-9e5d-efa6c8ffdb61",
   "metadata": {},
   "outputs": [
    {
     "name": "stdout",
     "output_type": "stream",
     "text": [
      "['Avogadro', 'Boltzmann', 'Btu', 'Btu_IT', 'Btu_th', 'ConstantWarning', 'G', 'Julian_year', 'N_A', 'Planck', 'R', 'Rydberg', 'Stefan_Boltzmann', 'Wien', '__all__', '__builtins__', '__cached__', '__doc__', '__file__', '__loader__', '__name__', '__package__', '__path__', '__spec__', '_codata', '_constants', '_obsolete_constants', 'acre', 'alpha', 'angstrom', 'arcmin', 'arcminute', 'arcsec', 'arcsecond', 'astronomical_unit', 'atm', 'atmosphere', 'atomic_mass', 'atto', 'au', 'bar', 'barrel', 'bbl', 'blob', 'c', 'calorie', 'calorie_IT', 'calorie_th', 'carat', 'centi', 'codata', 'constants', 'convert_temperature', 'day', 'deci', 'degree', 'degree_Fahrenheit', 'deka', 'dyn', 'dyne', 'e', 'eV', 'electron_mass', 'electron_volt', 'elementary_charge', 'epsilon_0', 'erg', 'exa', 'exbi', 'femto', 'fermi', 'find', 'fine_structure', 'fluid_ounce', 'fluid_ounce_US', 'fluid_ounce_imp', 'foot', 'g', 'gallon', 'gallon_US', 'gallon_imp', 'gas_constant', 'gibi', 'giga', 'golden', 'golden_ratio', 'grain', 'gram', 'gravitational_constant', 'h', 'hbar', 'hectare', 'hecto', 'horsepower', 'hour', 'hp', 'inch', 'k', 'kgf', 'kibi', 'kilo', 'kilogram_force', 'kmh', 'knot', 'lambda2nu', 'lb', 'lbf', 'light_year', 'liter', 'litre', 'long_ton', 'm_e', 'm_n', 'm_p', 'm_u', 'mach', 'mebi', 'mega', 'metric_ton', 'micro', 'micron', 'mil', 'mile', 'milli', 'minute', 'mmHg', 'mph', 'mu_0', 'nano', 'nautical_mile', 'neutron_mass', 'nu2lambda', 'ounce', 'oz', 'parsec', 'pebi', 'peta', 'physical_constants', 'pi', 'pico', 'point', 'pound', 'pound_force', 'precision', 'proton_mass', 'psi', 'pt', 'quecto', 'quetta', 'ronna', 'ronto', 'short_ton', 'sigma', 'slinch', 'slug', 'speed_of_light', 'speed_of_sound', 'stone', 'survey_foot', 'survey_mile', 'tebi', 'tera', 'test', 'ton_TNT', 'torr', 'troy_ounce', 'troy_pound', 'u', 'unit', 'value', 'week', 'yard', 'year', 'yobi', 'yocto', 'yotta', 'zebi', 'zepto', 'zero_Celsius', 'zetta']\n"
     ]
    }
   ],
   "source": [
    "# List all constants:\n",
    "# Liệt kê tất cả các hằng số:\n",
    "from scipy import constants\n",
    "\n",
    "print(dir(constants))"
   ]
  },
  {
   "cell_type": "markdown",
   "id": "6f465d73-463a-4608-b84b-9a203c3ae630",
   "metadata": {},
   "source": [
    "Unit Categories\r\n",
    "The units are placed under these categories:\n",
    "\r\n",
    "Metric\r\n",
    "Binary\r\n",
    "Mass\r\n",
    "Angle\r\n",
    "Time\r\n",
    "Length\r\n",
    "Pressure\r\n",
    "Volume\r\n",
    "Speed\r\n",
    "Temperature\r\n",
    "Energ\n",
    "Danh mục đơn vị\r\n",
    "Các đơn vị được đặt theo các loại sau:\n",
    "\r\n",
    "Hệ mét\r\n",
    "nhị phân\r\n",
    "Khối\r\n",
    "Góc\r\n",
    "Thời gian\r\n",
    "Chiều dài\r\n",
    "Áp lực\r\n",
    "Âm lượng\r\n",
    "Tốc độ\r\n",
    "Nhiệt độ\r\n",
    "Năng lượng\r\n",
    "Quyền lực\r\n",
    "Lực lượngy\r\n",
    "Power\r\n",
    "Force"
   ]
  },
  {
   "cell_type": "markdown",
   "id": "dc0e8197-fc86-49b1-9ed7-7b54c6570a64",
   "metadata": {},
   "source": [
    "Metric (SI) Prefixes:\r\n",
    "Return the specified unit in meter (e.g. centi returns 0.01\n",
    "Tiền tố số liệu (SI):\r\n",
    "Trả về đơn vị đã chỉ định tính bằng mét (ví dụ: centi return 0.01))"
   ]
  },
  {
   "cell_type": "code",
   "execution_count": 3,
   "id": "0c15c188-3932-4f11-af81-8bb744aa5596",
   "metadata": {},
   "outputs": [
    {
     "name": "stdout",
     "output_type": "stream",
     "text": [
      "1e+24\n",
      "1e+21\n",
      "1e+18\n",
      "1000000000000000.0\n",
      "1000000000000.0\n",
      "1000000000.0\n",
      "1000000.0\n",
      "1000.0\n",
      "100.0\n",
      "10.0\n",
      "0.1\n",
      "0.01\n",
      "0.001\n",
      "1e-06\n",
      "1e-09\n",
      "1e-12\n",
      "1e-15\n",
      "1e-18\n",
      "1e-21\n"
     ]
    }
   ],
   "source": [
    "from scipy import constants\n",
    "\n",
    "print(constants.yotta)    #1e+24\n",
    "print(constants.zetta)    #1e+21\n",
    "print(constants.exa)      #1e+18\n",
    "print(constants.peta)     #1000000000000000.0\n",
    "print(constants.tera)     #1000000000000.0\n",
    "print(constants.giga)     #1000000000.0\n",
    "print(constants.mega)     #1000000.0\n",
    "print(constants.kilo)     #1000.0\n",
    "print(constants.hecto)    #100.0\n",
    "print(constants.deka)     #10.0\n",
    "print(constants.deci)     #0.1\n",
    "print(constants.centi)    #0.01\n",
    "print(constants.milli)    #0.001\n",
    "print(constants.micro)    #1e-06\n",
    "print(constants.nano)     #1e-09\n",
    "print(constants.pico)     #1e-12\n",
    "print(constants.femto)    #1e-15\n",
    "print(constants.atto)     #1e-18\n",
    "print(constants.zepto)    #1e-21"
   ]
  },
  {
   "cell_type": "markdown",
   "id": "d3ea7ff2-7e1d-4cc3-9971-1e8428c9965a",
   "metadata": {},
   "source": [
    "Binary Prefixes:\r\n",
    "Return the specified unit in bytes (e.g. kibi returns 1024\n",
    "Tiền tố nhị phân:\r\n",
    "Trả về đơn vị được chỉ định theo byte (ví dụ: kibi trả về 1024))"
   ]
  },
  {
   "cell_type": "code",
   "execution_count": 4,
   "id": "5004d4e1-54ae-415d-8704-887c1aa28199",
   "metadata": {},
   "outputs": [
    {
     "name": "stdout",
     "output_type": "stream",
     "text": [
      "1024\n",
      "1048576\n",
      "1073741824\n",
      "1099511627776\n",
      "1125899906842624\n",
      "1152921504606846976\n",
      "1180591620717411303424\n",
      "1208925819614629174706176\n"
     ]
    }
   ],
   "source": [
    "from scipy import constants\n",
    "\n",
    "print(constants.kibi)    #1024\n",
    "print(constants.mebi)    #1048576\n",
    "print(constants.gibi)    #1073741824\n",
    "print(constants.tebi)    #1099511627776\n",
    "print(constants.pebi)    #1125899906842624\n",
    "print(constants.exbi)    #1152921504606846976\n",
    "print(constants.zebi)    #1180591620717411303424\n",
    "print(constants.yobi)    #1208925819614629174706176"
   ]
  },
  {
   "cell_type": "markdown",
   "id": "dbd3c565-8f2a-47a4-bde9-af019e7ee383",
   "metadata": {},
   "source": [
    "Mass:\r\n",
    "Return the specified unit in kg (e.g. gram returns 0.001\n",
    "Khối:\r\n",
    "Trả về đơn vị được chỉ định bằng kg (ví dụ: gram return 0.001))"
   ]
  },
  {
   "cell_type": "code",
   "execution_count": 5,
   "id": "598bed52-6ced-4666-a680-9e957c748325",
   "metadata": {},
   "outputs": [
    {
     "name": "stdout",
     "output_type": "stream",
     "text": [
      "0.001\n",
      "1000.0\n",
      "6.479891e-05\n",
      "0.45359236999999997\n",
      "0.45359236999999997\n",
      "0.028349523124999998\n",
      "0.028349523124999998\n",
      "6.3502931799999995\n",
      "1016.0469088\n",
      "907.1847399999999\n",
      "0.031103476799999998\n",
      "0.37324172159999996\n",
      "0.0002\n",
      "1.6605390666e-27\n",
      "1.6605390666e-27\n",
      "1.6605390666e-27\n"
     ]
    }
   ],
   "source": [
    "from scipy import constants\n",
    "\n",
    "print(constants.gram)        #0.001\n",
    "print(constants.metric_ton)  #1000.0\n",
    "print(constants.grain)       #6.479891e-05\n",
    "print(constants.lb)          #0.45359236999999997\n",
    "print(constants.pound)       #0.45359236999999997\n",
    "print(constants.oz)          #0.028349523124999998\n",
    "print(constants.ounce)       #0.028349523124999998\n",
    "print(constants.stone)       #6.3502931799999995\n",
    "print(constants.long_ton)    #1016.0469088\n",
    "print(constants.short_ton)   #907.1847399999999\n",
    "print(constants.troy_ounce)  #0.031103476799999998\n",
    "print(constants.troy_pound)  #0.37324172159999996\n",
    "print(constants.carat)       #0.0002\n",
    "print(constants.atomic_mass) #1.66053904e-27\n",
    "print(constants.m_u)         #1.66053904e-27\n",
    "print(constants.u)           #1.66053904e-27"
   ]
  },
  {
   "cell_type": "markdown",
   "id": "7f29c184-e020-48f6-842e-f2ba92a3bd47",
   "metadata": {},
   "source": [
    "Angle:\r\n",
    "Return the specified unit in radians (e.g. degree returns 0.017453292519943295\n",
    "Góc:\r\n",
    "Trả về đơn vị được chỉ định theo radian (ví dụ: degreereturn 0.017453292519943295))"
   ]
  },
  {
   "cell_type": "code",
   "execution_count": 6,
   "id": "f8b6aa27-16ed-4a87-ba3c-d33873cafa8c",
   "metadata": {},
   "outputs": [
    {
     "name": "stdout",
     "output_type": "stream",
     "text": [
      "0.017453292519943295\n",
      "0.0002908882086657216\n",
      "0.0002908882086657216\n",
      "4.84813681109536e-06\n",
      "4.84813681109536e-06\n"
     ]
    }
   ],
   "source": [
    "from scipy import constants\n",
    "\n",
    "print(constants.degree)     #0.017453292519943295\n",
    "print(constants.arcmin)     #0.0002908882086657216\n",
    "print(constants.arcminute)  #0.0002908882086657216\n",
    "print(constants.arcsec)     #4.84813681109536e-06\n",
    "print(constants.arcsecond)  #4.84813681109536e-06"
   ]
  },
  {
   "cell_type": "markdown",
   "id": "e5e17ed6-0d54-41d1-afe4-a812caf491dd",
   "metadata": {},
   "source": [
    "Time:\r\n",
    "Return the specified unit in seconds (e.g. hour returns 3600.0\n",
    "Thời gian:\r\n",
    "Trả về đơn vị được chỉ định tính bằng giây (ví dụ: hourtrả về 3600.0))"
   ]
  },
  {
   "cell_type": "code",
   "execution_count": 7,
   "id": "f4b08a5f-4f24-4383-bef8-d6dbfc8a1062",
   "metadata": {},
   "outputs": [
    {
     "name": "stdout",
     "output_type": "stream",
     "text": [
      "60.0\n",
      "3600.0\n",
      "86400.0\n",
      "604800.0\n",
      "31536000.0\n",
      "31557600.0\n"
     ]
    }
   ],
   "source": [
    "from scipy import constants\n",
    "\n",
    "print(constants.minute)      #60.0\n",
    "print(constants.hour)        #3600.0\n",
    "print(constants.day)         #86400.0\n",
    "print(constants.week)        #604800.0\n",
    "print(constants.year)        #31536000.0\n",
    "print(constants.Julian_year) #31557600.0"
   ]
  },
  {
   "cell_type": "markdown",
   "id": "78e53375-5592-470e-bf3f-11223511e0a7",
   "metadata": {},
   "source": [
    "Length:\r\n",
    "Return the specified unit in meters (e.g. nautical_mile returns 1852.0\n",
    "Chiều dài:\r\n",
    "Trả về đơn vị được chỉ định tính bằng mét (ví dụ: nautical_milereturn 1852.0))"
   ]
  },
  {
   "cell_type": "code",
   "execution_count": 8,
   "id": "d705aabb-7e08-4dc0-897c-bc724e0a3ca2",
   "metadata": {},
   "outputs": [
    {
     "name": "stdout",
     "output_type": "stream",
     "text": [
      "0.0254\n",
      "0.30479999999999996\n",
      "0.9143999999999999\n",
      "1609.3439999999998\n",
      "2.5399999999999997e-05\n",
      "0.00035277777777777776\n",
      "0.00035277777777777776\n",
      "0.3048006096012192\n",
      "1609.3472186944373\n",
      "1852.0\n",
      "1e-15\n",
      "1e-10\n",
      "1e-06\n",
      "149597870700.0\n",
      "149597870700.0\n",
      "9460730472580800.0\n",
      "3.085677581491367e+16\n"
     ]
    }
   ],
   "source": [
    "from scipy import constants\n",
    "\n",
    "print(constants.inch)              #0.0254\n",
    "print(constants.foot)              #0.30479999999999996\n",
    "print(constants.yard)              #0.9143999999999999\n",
    "print(constants.mile)              #1609.3439999999998\n",
    "print(constants.mil)               #2.5399999999999997e-05\n",
    "print(constants.pt)                #0.00035277777777777776\n",
    "print(constants.point)             #0.00035277777777777776\n",
    "print(constants.survey_foot)       #0.3048006096012192\n",
    "print(constants.survey_mile)       #1609.3472186944373\n",
    "print(constants.nautical_mile)     #1852.0\n",
    "print(constants.fermi)             #1e-15\n",
    "print(constants.angstrom)          #1e-10\n",
    "print(constants.micron)            #1e-06\n",
    "print(constants.au)                #149597870691.0\n",
    "print(constants.astronomical_unit) #149597870691.0\n",
    "print(constants.light_year)        #9460730472580800.0\n",
    "print(constants.parsec)            #3.0856775813057292e+16"
   ]
  },
  {
   "cell_type": "markdown",
   "id": "e3da71e1-1083-464b-b051-52d96d0894f6",
   "metadata": {},
   "source": [
    "Pressure:\r\n",
    "Return the specified unit in pascals (e.g. psi returns 6894.757293168361\n",
    "Áp lực:\r\n",
    "Trả về đơn vị đã chỉ định bằng pascal (ví dụ: psitrả về 6894.757293168361))"
   ]
  },
  {
   "cell_type": "code",
   "execution_count": 9,
   "id": "4279938d-c45a-4b7f-bea1-c2916f3e2976",
   "metadata": {},
   "outputs": [
    {
     "name": "stdout",
     "output_type": "stream",
     "text": [
      "101325.0\n",
      "101325.0\n",
      "100000.0\n",
      "133.32236842105263\n",
      "133.32236842105263\n",
      "6894.757293168361\n"
     ]
    }
   ],
   "source": [
    "from scipy import constants\n",
    "\n",
    "print(constants.atm)         #101325.0\n",
    "print(constants.atmosphere)  #101325.0\n",
    "print(constants.bar)         #100000.0\n",
    "print(constants.torr)        #133.32236842105263\n",
    "print(constants.mmHg)        #133.32236842105263\n",
    "print(constants.psi)         #6894.757293168361"
   ]
  },
  {
   "cell_type": "markdown",
   "id": "b7264259-e8cb-42bb-855e-c236a1e02bb8",
   "metadata": {},
   "source": [
    "Area:\r\n",
    "Return the specified unit in square meters(e.g. hectare returns 10000.0\n",
    "Khu vực:\r\n",
    "Trả về đơn vị đã chỉ định tính bằng mét vuông (ví dụ: hectaretrả về 10000.0))"
   ]
  },
  {
   "cell_type": "code",
   "execution_count": 10,
   "id": "9c4c2261-1608-4376-a1e2-258c4ee985fb",
   "metadata": {},
   "outputs": [
    {
     "name": "stdout",
     "output_type": "stream",
     "text": [
      "10000.0\n",
      "4046.8564223999992\n"
     ]
    }
   ],
   "source": [
    "from scipy import constants\n",
    "\n",
    "print(constants.hectare) #10000.0\n",
    "print(constants.acre)    #4046.8564223999992"
   ]
  },
  {
   "cell_type": "markdown",
   "id": "8291eb72-8542-4c5f-b603-3dc4acac03e4",
   "metadata": {},
   "source": [
    "Volume:\r\n",
    "Return the specified unit in cubic meters (e.g. liter returns 0.001\n",
    "Âm lượng:\r\n",
    "Trả về đơn vị đã chỉ định theo mét khối (ví dụ: literreturn 0.001))"
   ]
  },
  {
   "cell_type": "code",
   "execution_count": 11,
   "id": "b56f4e93-fb67-4395-867d-78fdb7794cdb",
   "metadata": {},
   "outputs": [
    {
     "name": "stdout",
     "output_type": "stream",
     "text": [
      "0.001\n",
      "0.001\n",
      "0.0037854117839999997\n",
      "0.0037854117839999997\n",
      "0.00454609\n",
      "2.9573529562499998e-05\n",
      "2.9573529562499998e-05\n",
      "2.84130625e-05\n",
      "0.15898729492799998\n",
      "0.15898729492799998\n"
     ]
    }
   ],
   "source": [
    "from scipy import constants\n",
    "\n",
    "print(constants.liter)            #0.001\n",
    "print(constants.litre)            #0.001\n",
    "print(constants.gallon)           #0.0037854117839999997\n",
    "print(constants.gallon_US)        #0.0037854117839999997\n",
    "print(constants.gallon_imp)       #0.00454609\n",
    "print(constants.fluid_ounce)      #2.9573529562499998e-05\n",
    "print(constants.fluid_ounce_US)   #2.9573529562499998e-05\n",
    "print(constants.fluid_ounce_imp)  #2.84130625e-05\n",
    "print(constants.barrel)           #0.15898729492799998\n",
    "print(constants.bbl)              #0.15898729492799998"
   ]
  },
  {
   "cell_type": "markdown",
   "id": "5a7751b2-23a2-49b7-9b71-d423781a8525",
   "metadata": {},
   "source": [
    "Speed:\r\n",
    "Return the specified unit in meters per second (e.g. speed_of_sound returns 340.5\n",
    "Tốc độ:\r\n",
    "Trả về đơn vị đã chỉ định tính bằng mét trên giây (ví dụ: speed_of_soundtrả về 340.5))"
   ]
  },
  {
   "cell_type": "code",
   "execution_count": 12,
   "id": "07f8a0ba-713b-4157-b0a4-d2a9910ee0c4",
   "metadata": {},
   "outputs": [
    {
     "name": "stdout",
     "output_type": "stream",
     "text": [
      "0.2777777777777778\n",
      "0.44703999999999994\n",
      "340.5\n",
      "340.5\n",
      "0.5144444444444445\n"
     ]
    }
   ],
   "source": [
    "from scipy import constants\n",
    "\n",
    "print(constants.kmh)            #0.2777777777777778\n",
    "print(constants.mph)            #0.44703999999999994\n",
    "print(constants.mach)           #340.5\n",
    "print(constants.speed_of_sound) #340.5\n",
    "print(constants.knot)           #0.5144444444444445"
   ]
  },
  {
   "cell_type": "markdown",
   "id": "8cc11952-f1f2-4da7-86c8-e0f07dbd89cd",
   "metadata": {},
   "source": [
    "Temperature:\r\n",
    "Return the specified unit in Kelvin (e.g. zero_Celsius returns 273.15\n",
    "Nhiệt độ:\r\n",
    "Trả về đơn vị đã chỉ định bằng Kelvin (ví dụ: zero_Celsiustrả về 273.15))"
   ]
  },
  {
   "cell_type": "code",
   "execution_count": 13,
   "id": "c52337e3-9e52-4ce3-9ec0-0fd50aa9e98a",
   "metadata": {},
   "outputs": [
    {
     "name": "stdout",
     "output_type": "stream",
     "text": [
      "273.15\n",
      "0.5555555555555556\n"
     ]
    }
   ],
   "source": [
    "from scipy import constants\n",
    "\n",
    "print(constants.zero_Celsius)      #273.15\n",
    "print(constants.degree_Fahrenheit) #0.5555555555555556"
   ]
  },
  {
   "cell_type": "markdown",
   "id": "f348512d-f08e-4965-b1eb-b053e1a8116b",
   "metadata": {},
   "source": [
    "Energy:\r\n",
    "Return the specified unit in joules (e.g. calorie returns 4.184\n",
    "Năng lượng:\r\n",
    "Trả về đơn vị được chỉ định tính bằng joules (ví dụ: calori etrả về 4.184))"
   ]
  },
  {
   "cell_type": "code",
   "execution_count": 14,
   "id": "1ec1deb7-13e2-4228-ab61-c0274fb25538",
   "metadata": {},
   "outputs": [
    {
     "name": "stdout",
     "output_type": "stream",
     "text": [
      "1.602176634e-19\n",
      "1.602176634e-19\n",
      "4.184\n",
      "4.184\n",
      "4.1868\n",
      "1e-07\n",
      "1055.05585262\n",
      "1055.05585262\n",
      "1054.3502644888888\n",
      "4184000000.0\n"
     ]
    }
   ],
   "source": [
    "from scipy import constants\n",
    "\n",
    "print(constants.eV)            #1.6021766208e-19\n",
    "print(constants.electron_volt) #1.6021766208e-19\n",
    "print(constants.calorie)       #4.184\n",
    "print(constants.calorie_th)    #4.184\n",
    "print(constants.calorie_IT)    #4.1868\n",
    "print(constants.erg)           #1e-07\n",
    "print(constants.Btu)           #1055.05585262\n",
    "print(constants.Btu_IT)        #1055.05585262\n",
    "print(constants.Btu_th)        #1054.3502644888888\n",
    "print(constants.ton_TNT)       #4184000000.0"
   ]
  },
  {
   "cell_type": "markdown",
   "id": "163fab17-844f-424b-a218-d23912afea70",
   "metadata": {},
   "source": [
    "Power:\r\n",
    "Return the specified unit in watts (e.g. horsepower returns 745.6998715822701\n",
    "Công suất:\r\n",
    "Trả về đơn vị được chỉ định tính bằng watt (ví dụ: horsepowerreturn 745.6998715822701))"
   ]
  },
  {
   "cell_type": "code",
   "execution_count": 15,
   "id": "4b690b0a-353a-494a-8c45-cb00937ff377",
   "metadata": {},
   "outputs": [
    {
     "name": "stdout",
     "output_type": "stream",
     "text": [
      "745.6998715822701\n",
      "745.6998715822701\n"
     ]
    }
   ],
   "source": [
    "from scipy import constants\n",
    "\n",
    "print(constants.hp)         #745.6998715822701\n",
    "print(constants.horsepower) #745.6998715822701\n"
   ]
  },
  {
   "cell_type": "markdown",
   "id": "9c6be71a-8af9-4e99-a8c8-79b90b2e6958",
   "metadata": {},
   "source": [
    "Force:\r\n",
    "Return the specified unit in newton (e.g. kilogram_force returns 9.80665\n",
    "Lực:\r\n",
    "Trả về đơn vị được chỉ định bằng newton (ví dụ: kilogram_forcetrả về 9.80665))"
   ]
  },
  {
   "cell_type": "code",
   "execution_count": 16,
   "id": "ea012d36-414c-4f90-ba01-703f05d68cef",
   "metadata": {},
   "outputs": [
    {
     "name": "stdout",
     "output_type": "stream",
     "text": [
      "1e-05\n",
      "1e-05\n",
      "4.4482216152605\n",
      "4.4482216152605\n",
      "9.80665\n",
      "9.80665\n"
     ]
    }
   ],
   "source": [
    "from scipy import constants\n",
    "\n",
    "print(constants.dyn)             #1e-05\n",
    "print(constants.dyne)            #1e-05\n",
    "print(constants.lbf)             #4.4482216152605\n",
    "print(constants.pound_force)     #4.4482216152605\n",
    "print(constants.kgf)             #9.80665\n",
    "print(constants.kilogram_force)  #9.80665"
   ]
  },
  {
   "cell_type": "code",
   "execution_count": null,
   "id": "b08d5dad-702e-4d13-8b56-f1677265891f",
   "metadata": {},
   "outputs": [],
   "source": []
  }
 ],
 "metadata": {
  "kernelspec": {
   "display_name": "Python 3 (ipykernel)",
   "language": "python",
   "name": "python3"
  },
  "language_info": {
   "codemirror_mode": {
    "name": "ipython",
    "version": 3
   },
   "file_extension": ".py",
   "mimetype": "text/x-python",
   "name": "python",
   "nbconvert_exporter": "python",
   "pygments_lexer": "ipython3",
   "version": "3.11.7"
  }
 },
 "nbformat": 4,
 "nbformat_minor": 5
}
