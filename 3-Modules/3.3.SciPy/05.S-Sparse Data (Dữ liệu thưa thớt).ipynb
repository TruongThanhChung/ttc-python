{
 "cells": [
  {
   "cell_type": "markdown",
   "id": "e6377272-a8dc-4998-8e32-592e1f6f2a1c",
   "metadata": {},
   "source": [
    "What is Sparse Data\r\n",
    "Sparse data is data that has mostly unused elements (elements that don't carry any information ).\n",
    "\r\n",
    "It can be an array like this on:\r\n",
    "\r\n",
    "[1, 0, 2, 0, 0, 3, 0, 0, 0, 0, \n",
    "Dữ liệu thưa thớt là gì\r\n",
    "Dữ liệu thưa thớt là dữ liệu có hầu hết các phần tử không được sử dụng (các phần tử không mang bất kỳ thông tin nào).\n",
    "\r\n",
    "Nó có thể là một mảng như thế nà:\r\n",
    "\r\n",
    "[1, 0, 2, 0, 0, 3, 0, 0, 0, 0, 0, 0]0, 0]"
   ]
  },
  {
   "cell_type": "markdown",
   "id": "b230a9eb-0b0e-4f29-a215-4f8fd41f71a8",
   "metadata": {},
   "source": [
    "Sparse Data: is a data set where most of the item values are zero.\r",
    "\r\n",
    "Dense Array: is the opposite of a sparse array: most of the values are not zer\n",
    "Dữ liệu thưa thớt: là tập dữ liệu trong đó hầu hết các giá trị mục đều bằng 0.\r",
    "\r\n",
    "Mảng dày đặc: ngược lại với mảng thưa thớt: hầu hết các giá trị không bằng 0.o."
   ]
  },
  {
   "cell_type": "markdown",
   "id": "75e71323-1fb7-4343-9b96-16031a746cd6",
   "metadata": {},
   "source": [
    "In scientific computing, when we are dealing with partial derivatives in linear algebra we will come across sparse data.\n",
    "Trong điện toán khoa học, khi xử lý đạo hàm riêng trong đại số tuyến tính, chúng ta sẽ gặp phải dữ liệu thưa thớt."
   ]
  },
  {
   "cell_type": "code",
   "execution_count": null,
   "id": "50db763d-f7ab-408a-bf89-7b0a6d508605",
   "metadata": {},
   "outputs": [],
   "source": [
    "How to Work With Sparse Data\n",
    "SciPy has a module, scipy.sparse that provides functions to deal with sparse data.\n",
    "There are primarily two types of sparse matrices that we use:\n",
    "CSC - Compressed Sparse Column. For efficient arithmetic, fast column slicing.\n",
    "CSR - Compressed Sparse Row. For fast row slicing, faster matrix vector products\n",
    "We will use the CSR matrix in this tutorial.\n",
    "Cách làm việc với dữ liệu thưa thớt\n",
    "SciPy có một mô-đun scipy.sparse cung cấp các chức năng để xử lý dữ liệu thưa thớt.\n",
    "Chủ yếu có hai loại ma trận thưa thớt mà chúng tôi sử dụng:\n",
    "CSC - Cột thưa thớt được nén. Để tính toán hiệu quả, hãy cắt cột nhanh.\n",
    "CSR - Hàng thưa thớt được nén. Để cắt hàng nhanh, sản phẩm vectơ ma trận nhanh hơn\n",
    "Chúng tôi sẽ sử dụng ma trận CSR trong hướng dẫn này."
   ]
  },
  {
   "cell_type": "markdown",
   "id": "5cc6f7f3-f7f4-4c59-8f40-430f28bb4f38",
   "metadata": {},
   "source": [
    "CSR Matrix\n",
    "We can create CSR matrix by passing an arrray into function scipy.sparse.csr_matrix().\n",
    "Ma trận CSR\r\n",
    "Chúng ta có thể tạo ma trận CSR bằng cách chuyển một mảng vào hàm scipy.sparse.csr_matrix()."
   ]
  },
  {
   "cell_type": "code",
   "execution_count": 1,
   "id": "e3a7ea7b-90f4-4ff1-937f-4f0a2ec17a0a",
   "metadata": {},
   "outputs": [
    {
     "name": "stdout",
     "output_type": "stream",
     "text": [
      "  (0, 5)\t1\n",
      "  (0, 6)\t1\n",
      "  (0, 8)\t2\n"
     ]
    }
   ],
   "source": [
    "# Create a CSR matrix from an array:\n",
    "# Tạo ma trận CSR từ một mảng:\n",
    "import numpy as np\n",
    "from scipy.sparse import csr_matrix\n",
    "\n",
    "arr = np.array([0, 0, 0, 0, 0, 1, 1, 0, 2])\n",
    "\n",
    "print(csr_matrix(arr))"
   ]
  },
  {
   "cell_type": "markdown",
   "id": "3f3a3fd3-be00-41a0-b6e3-da5550c01acb",
   "metadata": {},
   "source": [
    "From the result we can see that there are 3 items with value.\n",
    "\r\n",
    "The 1. item is in row 0 position 5 and has the value .\r\n",
    "\r\n",
    "The 2. item is in row 0 position 6 and has the valu 1.\r\n",
    "\r\n",
    "The 3. item is in row 0 position 8 and has the va\n",
    "Từ kết quả chúng ta có thể thấy rằng có 3 mục có giá trị.\r",
    "\r\n",
    "Mục 1. nằm ở 0vị trí hàng 5và có giá trị 1\r\n",
    "\r\n",
    "Mục 2. nằm ở 0vị trí hàng 6và có giá trị1.\r\n",
    "\r\n",
    "Mục 3. nằm ở 0vị trí hàng 8và có giá trị 2.lue 2."
   ]
  },
  {
   "cell_type": "markdown",
   "id": "527eb89e-e9ff-4f17-80a8-14d03a49dc6f",
   "metadata": {},
   "source": [
    "Sparse Matrix Methods\r\n",
    "Viewing stored data (not the zero items) with the data property\n",
    "Phương pháp ma trận thưa thớt\r\n",
    "Xem dữ liệu được lưu trữ (không phải mục 0) bằng dat athuộc tính::"
   ]
  },
  {
   "cell_type": "code",
   "execution_count": 2,
   "id": "3c1c5fbe-2426-49ed-ba5f-0573d03301ab",
   "metadata": {},
   "outputs": [
    {
     "name": "stdout",
     "output_type": "stream",
     "text": [
      "[1 1 2]\n"
     ]
    }
   ],
   "source": [
    "import numpy as np\n",
    "from scipy.sparse import csr_matrix\n",
    "\n",
    "arr = np.array([[0, 0, 0], [0, 0, 1], [1, 0, 2]])\n",
    "\n",
    "print(csr_matrix(arr).data)"
   ]
  },
  {
   "cell_type": "markdown",
   "id": "01656d54-1c7a-46f4-b268-3351f5517aaf",
   "metadata": {},
   "source": [
    "Counting nonzeros with the count_nonzero() method:\n",
    "Đếm các số khác 0 bằng count_nonzero()phương pháp:"
   ]
  },
  {
   "cell_type": "code",
   "execution_count": 3,
   "id": "363b80a6-9757-45bd-badf-e34318265e05",
   "metadata": {},
   "outputs": [
    {
     "name": "stdout",
     "output_type": "stream",
     "text": [
      "3\n"
     ]
    }
   ],
   "source": [
    "import numpy as np\n",
    "from scipy.sparse import csr_matrix\n",
    "\n",
    "arr = np.array([[0, 0, 0], [0, 0, 1], [1, 0, 2]])\n",
    "\n",
    "print(csr_matrix(arr).count_nonzero())"
   ]
  },
  {
   "cell_type": "markdown",
   "id": "0437bf77-33bc-4324-a38b-a1e9b680e331",
   "metadata": {},
   "source": [
    "Removing zero-entries from the matrix with the eliminate_zeros() method:\n",
    "Loại bỏ các mục 0 khỏi ma trận bằng eliminate_zeros()phương thức:"
   ]
  },
  {
   "cell_type": "code",
   "execution_count": 4,
   "id": "aed159d6-cefc-4880-942e-cd7686f7397d",
   "metadata": {},
   "outputs": [
    {
     "name": "stdout",
     "output_type": "stream",
     "text": [
      "  (1, 2)\t1\n",
      "  (2, 0)\t1\n",
      "  (2, 2)\t2\n"
     ]
    }
   ],
   "source": [
    "import numpy as np\n",
    "from scipy.sparse import csr_matrix\n",
    "\n",
    "arr = np.array([[0, 0, 0], [0, 0, 1], [1, 0, 2]])\n",
    "\n",
    "mat = csr_matrix(arr)\n",
    "mat.eliminate_zeros()\n",
    "\n",
    "print(mat)"
   ]
  },
  {
   "cell_type": "markdown",
   "id": "a7abb027-51ae-4923-8833-fddc088568ff",
   "metadata": {},
   "source": [
    "Eliminating duplicate entries with the sum_duplicates() method:\n",
    "Loại bỏ các mục trùng lặp bằng sum_duplicates()phương thức:"
   ]
  },
  {
   "cell_type": "code",
   "execution_count": 5,
   "id": "0b6c72c5-ff95-4d08-95b7-8a2fe15a358f",
   "metadata": {},
   "outputs": [
    {
     "name": "stdout",
     "output_type": "stream",
     "text": [
      "  (1, 2)\t1\n",
      "  (2, 0)\t1\n",
      "  (2, 2)\t2\n"
     ]
    }
   ],
   "source": [
    "# Eliminating duplicates by adding them:\n",
    "# Loại bỏ các bản sao bằng cách thêm chúng:\n",
    "import numpy as np\n",
    "from scipy.sparse import csr_matrix\n",
    "\n",
    "arr = np.array([[0, 0, 0], [0, 0, 1], [1, 0, 2]])\n",
    "\n",
    "mat = csr_matrix(arr)\n",
    "mat.sum_duplicates()\n",
    "\n",
    "print(mat)"
   ]
  },
  {
   "cell_type": "markdown",
   "id": "4d9847c4-7550-4f2c-818d-20060a50d361",
   "metadata": {},
   "source": [
    "Converting from csr to csc with the tocsc() method:\n",
    "Chuyển đổi từ csr sang csc bằng tocsc()phương thức:"
   ]
  },
  {
   "cell_type": "code",
   "execution_count": 6,
   "id": "46c06313-bf59-43a7-935e-8940bb871b64",
   "metadata": {},
   "outputs": [
    {
     "name": "stdout",
     "output_type": "stream",
     "text": [
      "  (2, 0)\t1\n",
      "  (1, 2)\t1\n",
      "  (2, 2)\t2\n"
     ]
    }
   ],
   "source": [
    "import numpy as np\n",
    "from scipy.sparse import csr_matrix\n",
    "\n",
    "arr = np.array([[0, 0, 0], [0, 0, 1], [1, 0, 2]])\n",
    "\n",
    "newarr = csr_matrix(arr).tocsc()\n",
    "\n",
    "print(newarr)"
   ]
  },
  {
   "cell_type": "markdown",
   "id": "7be2375c-eab0-4eff-9f1a-472cc069ec49",
   "metadata": {},
   "source": [
    "Note: Apart from the mentioned sparse specific operations, sparse matrices support all of the operations that normal matrices support e.g. reshaping, summing, arithemetic, broadcasting etc.\n",
    "Lưu ý: Ngoài các phép toán cụ thể thưa thớt đã đề cập, ma trận thưa thớt hỗ trợ tất cả các phép toán mà ma trận thông thường hỗ trợ, ví dụ như định hình lại, tính tổng, số học, phát sóng, v.v."
   ]
  }
 ],
 "metadata": {
  "kernelspec": {
   "display_name": "Python 3 (ipykernel)",
   "language": "python",
   "name": "python3"
  },
  "language_info": {
   "codemirror_mode": {
    "name": "ipython",
    "version": 3
   },
   "file_extension": ".py",
   "mimetype": "text/x-python",
   "name": "python",
   "nbconvert_exporter": "python",
   "pygments_lexer": "ipython3",
   "version": "3.11.7"
  }
 },
 "nbformat": 4,
 "nbformat_minor": 5
}
