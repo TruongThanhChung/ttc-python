{
 "cells": [
  {
   "cell_type": "markdown",
   "id": "475d0734-51cb-430c-8ff5-9b422a021ec1",
   "metadata": {},
   "source": [
    "Working with Graphs\r\n",
    "Graphs are an essential data structure.\n",
    "\r\n",
    "SciPy provides us with the module scipy.sparse.csgraph for working with such data structur\n",
    "Làm việc với đồ thị\r\n",
    "Đồ thị là một cấu trúc dữ liệu thiết yếu.\n",
    "\r\n",
    "SciPy cung cấp cho chúng ta mô-đun scipy.sparse.csgraphđể làm việc với các cấu trúc dữ liệu như vậy.es."
   ]
  },
  {
   "cell_type": "markdown",
   "id": "44f950b3-21c4-4ca5-b0de-0e8cc8a5700a",
   "metadata": {},
   "source": [
    "Adjacency Matrix\r\n",
    "Adjacency matrix is a nxn matrix where n is the number of elements in a graph.\n",
    "\r\n",
    "And the values represents the connection between the elemen\n",
    "Ma trận kề\r\n",
    "Ma trận kề là nxnma trận n chứa số phần tử của đồ thị.\n",
    "\r\n",
    "Và các giá trị thể hiện sự kết nối giữa các phần tử.ts."
   ]
  },
  {
   "cell_type": "markdown",
   "id": "8d59caf4-c32c-4d9c-9efe-6f3c7db5c665",
   "metadata": {},
   "source": [
    "Connected Components\r\n",
    "Find all of the connected components with the connected_components() method\n",
    "Các thành phần được kết nối\r\n",
    "Tìm tất cả các thành phần được kết nối bằng connected_components()phương thức.."
   ]
  },
  {
   "cell_type": "code",
   "execution_count": 1,
   "id": "8cb7ac6e-a706-4a06-968e-0ef612019ef1",
   "metadata": {},
   "outputs": [
    {
     "name": "stdout",
     "output_type": "stream",
     "text": [
      "(1, array([0, 0, 0]))\n"
     ]
    }
   ],
   "source": [
    "import numpy as np\n",
    "from scipy.sparse.csgraph import connected_components\n",
    "from scipy.sparse import csr_matrix\n",
    "\n",
    "arr = np.array([\n",
    "  [0, 1, 2],\n",
    "  [1, 0, 0],\n",
    "  [2, 0, 0]\n",
    "])\n",
    "\n",
    "newarr = csr_matrix(arr)\n",
    "\n",
    "print(connected_components(newarr))"
   ]
  },
  {
   "cell_type": "markdown",
   "id": "afe01a69-b92d-4320-98c1-773727d18a2d",
   "metadata": {},
   "source": [
    "Dijkstra\r\n",
    "Use the dijkstra method to find the shortest path in a graph from one element to another.\n",
    "\r\n",
    "It takes following argument:\r\n",
    "\r\n",
    "return_predecessors: boolean (True to return whole path of traversal otherwise False).\r\n",
    "indices: index of the element to return all paths from that element only.\r\n",
    "limit: max weight o\n",
    "Dijkstra\r\n",
    "Sử dụng dijkstraphương pháp này để tìm đường đi ngắn nhất trong biểu đồ từ phần tử này đến phần tử khác.\n",
    "\r\n",
    "Phải mất các đối số sa:\r\n",
    "\r\n",
    "return_predecessors: boolean (Đúng để trả về toàn bộ đường đi nếu không là Sai).\r\n",
    "chỉ mục: chỉ mục của phần tử để chỉ trả về tất cả các đường dẫn từ phần tử đó.\r\n",
    "giới hạn: trọng lượng tối đa của đường dẫn.f path."
   ]
  },
  {
   "cell_type": "code",
   "execution_count": 2,
   "id": "76b8106c-b337-4439-8f0d-48789c4b5081",
   "metadata": {},
   "outputs": [
    {
     "name": "stdout",
     "output_type": "stream",
     "text": [
      "(array([0., 1., 2.]), array([-9999,     0,     0]))\n"
     ]
    }
   ],
   "source": [
    "# Find the shortest path from element 1 to 2:\n",
    "# Tìm đường đi ngắn nhất từ ​​phần tử 1 đến phần tử 2:\n",
    "import numpy as np\n",
    "from scipy.sparse.csgraph import dijkstra\n",
    "from scipy.sparse import csr_matrix\n",
    "\n",
    "arr = np.array([\n",
    "  [0, 1, 2],\n",
    "  [1, 0, 0],\n",
    "  [2, 0, 0]\n",
    "])\n",
    "\n",
    "newarr = csr_matrix(arr)\n",
    "\n",
    "print(dijkstra(newarr, return_predecessors=True, indices=0))"
   ]
  },
  {
   "cell_type": "markdown",
   "id": "b8126dd1-e1eb-4361-a12e-25f2a8549c32",
   "metadata": {},
   "source": [
    "Floyd Warshall\r\n",
    "Use the floyd_warshall() method to find shortest path between all pairs of elements\n",
    "Floyd Warshall\r\n",
    "Sử dụng floyd_warshall()phương pháp tìm đường đi ngắn nhất giữa tất cả các cặp phần tử.."
   ]
  },
  {
   "cell_type": "code",
   "execution_count": 3,
   "id": "95a6d5eb-600b-447b-be4a-e01069e70132",
   "metadata": {},
   "outputs": [
    {
     "name": "stdout",
     "output_type": "stream",
     "text": [
      "(array([[0., 1., 2.],\n",
      "       [1., 0., 3.],\n",
      "       [2., 3., 0.]]), array([[-9999,     0,     0],\n",
      "       [    1, -9999,     0],\n",
      "       [    2,     0, -9999]]))\n"
     ]
    }
   ],
   "source": [
    "# Find the shortest path between all pairs of elements:\n",
    "# Tìm đường đi ngắn nhất giữa tất cả các cặp phần tử:\n",
    "import numpy as np\n",
    "from scipy.sparse.csgraph import floyd_warshall\n",
    "from scipy.sparse import csr_matrix\n",
    "\n",
    "arr = np.array([\n",
    "  [0, 1, 2],\n",
    "  [1, 0, 0],\n",
    "  [2, 0, 0]\n",
    "])\n",
    "\n",
    "newarr = csr_matrix(arr)\n",
    "\n",
    "print(floyd_warshall(newarr, return_predecessors=True))"
   ]
  },
  {
   "cell_type": "markdown",
   "id": "1b32fc25-c925-4720-8d49-2bc1e9b68842",
   "metadata": {},
   "source": [
    "Bellman Ford\r\n",
    "The bellman_ford() method can also find the shortest path between all pairs of elements, but this method can handle negative weights as well\n",
    "Bellman Ford\r\n",
    "Phương thức này bellman_ford()cũng có thể tìm ra đường đi ngắn nhất giữa tất cả các cặp phần tử, nhưng phương pháp này cũng có thể xử lý các trọng số âm.."
   ]
  },
  {
   "cell_type": "code",
   "execution_count": 4,
   "id": "b13cc34d-0102-423a-b22b-0cbbee86c3bf",
   "metadata": {},
   "outputs": [
    {
     "name": "stdout",
     "output_type": "stream",
     "text": [
      "(array([ 0., -1.,  2.]), array([-9999,     0,     0]))\n"
     ]
    }
   ],
   "source": [
    "# Find shortest path from element 1 to 2 with given graph with a negative weight:\n",
    "# Tìm đường đi ngắn nhất từ ​​phần tử 1 đến phần tử 2 với đồ thị đã cho có trọng số âm:\n",
    "import numpy as np\n",
    "from scipy.sparse.csgraph import bellman_ford\n",
    "from scipy.sparse import csr_matrix\n",
    "\n",
    "arr = np.array([\n",
    "  [0, -1, 2],\n",
    "  [1, 0, 0],\n",
    "  [2, 0, 0]\n",
    "])\n",
    "\n",
    "newarr = csr_matrix(arr)\n",
    "\n",
    "print(bellman_ford(newarr, return_predecessors=True, indices=0))"
   ]
  },
  {
   "cell_type": "markdown",
   "id": "8d16f8c8-a84f-462d-986b-23c3e739326b",
   "metadata": {},
   "source": [
    "Depth First Order\r\n",
    "The depth_first_order() method returns a depth first traversal from a node.\n",
    "\r\n",
    "This function takes following argument:\r\n",
    "\r\n",
    "the graph.\r\n",
    "the starting element to traverse graph\n",
    "Độ sâu thứ tự đầu tiên\r\n",
    "Phương depth_first_order()thức trả về độ sâu truyền tải đầu tiên từ một nút.\n",
    "\r\n",
    "Hàm này có các đối số sa:\r\n",
    "\r\n",
    "đồ thị.\r\n",
    "phần tử bắt đầu để duyệt đồ thị từ đó. from."
   ]
  },
  {
   "cell_type": "code",
   "execution_count": 5,
   "id": "78b2f3ea-a1dc-401b-9044-ca179931a4c9",
   "metadata": {},
   "outputs": [
    {
     "name": "stdout",
     "output_type": "stream",
     "text": [
      "(array([1, 0, 3, 2]), array([    1, -9999,     1,     0]))\n"
     ]
    }
   ],
   "source": [
    "# Traverse the graph depth first for given adjacency matrix:\n",
    "# Duyệt qua độ sâu của biểu đồ trước cho ma trận kề đã cho:\n",
    "import numpy as np\n",
    "from scipy.sparse.csgraph import depth_first_order\n",
    "from scipy.sparse import csr_matrix\n",
    "\n",
    "arr = np.array([\n",
    "  [0, 1, 0, 1],\n",
    "  [1, 1, 1, 1],\n",
    "  [2, 1, 1, 0],\n",
    "  [0, 1, 0, 1]\n",
    "])\n",
    "\n",
    "newarr = csr_matrix(arr)\n",
    "\n",
    "print(depth_first_order(newarr, 1))"
   ]
  },
  {
   "cell_type": "markdown",
   "id": "56ad3d30-1903-45e1-ae34-9ddc4ed2b421",
   "metadata": {},
   "source": [
    "Breadth First Order\r\n",
    "The breadth_first_order() method returns a breadth first traversal from a node.\n",
    "\r\n",
    "This function takes following argument:\r\n",
    "\r\n",
    "the graph.\r\n",
    "the starting element to traverse graph\n",
    "Thứ tự đầu tiên theo chiều rộng\r\n",
    "Phương thức này breadth_first_order()trả về lần truyền tải đầu tiên theo chiều rộng từ một nút.\n",
    "\r\n",
    "Hàm này có các đối số sa:\r\n",
    "\r\n",
    "đồ thị.\r\n",
    "phần tử bắt đầu để duyệt đồ thị từ đó. from."
   ]
  },
  {
   "cell_type": "code",
   "execution_count": 6,
   "id": "83ef0d34-5162-40c9-8092-8603187996d4",
   "metadata": {},
   "outputs": [
    {
     "name": "stdout",
     "output_type": "stream",
     "text": [
      "(array([1, 0, 2, 3]), array([    1, -9999,     1,     1]))\n"
     ]
    }
   ],
   "source": [
    "# Traverse the graph breadth first for given adjacency matrix:\n",
    "# Duyệt qua chiều rộng đồ thị trước cho ma trận kề đã cho:\n",
    "import numpy as np\n",
    "from scipy.sparse.csgraph import breadth_first_order\n",
    "from scipy.sparse import csr_matrix\n",
    "\n",
    "arr = np.array([\n",
    "  [0, 1, 0, 1],\n",
    "  [1, 1, 1, 1],\n",
    "  [2, 1, 1, 0],\n",
    "  [0, 1, 0, 1]\n",
    "])\n",
    "\n",
    "newarr = csr_matrix(arr)\n",
    "\n",
    "print(breadth_first_order(newarr, 1))"
   ]
  },
  {
   "cell_type": "code",
   "execution_count": null,
   "id": "add41f92-bb25-4f12-882d-625775c00894",
   "metadata": {},
   "outputs": [],
   "source": []
  }
 ],
 "metadata": {
  "kernelspec": {
   "display_name": "Python 3 (ipykernel)",
   "language": "python",
   "name": "python3"
  },
  "language_info": {
   "codemirror_mode": {
    "name": "ipython",
    "version": 3
   },
   "file_extension": ".py",
   "mimetype": "text/x-python",
   "name": "python",
   "nbconvert_exporter": "python",
   "pygments_lexer": "ipython3",
   "version": "3.11.7"
  }
 },
 "nbformat": 4,
 "nbformat_minor": 5
}
