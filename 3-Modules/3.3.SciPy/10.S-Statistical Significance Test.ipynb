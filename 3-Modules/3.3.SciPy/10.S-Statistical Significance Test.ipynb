{
 "cells": [
  {
   "cell_type": "markdown",
   "id": "88e90fd7-a365-467b-baac-4b1bd77ac1f2",
   "metadata": {},
   "source": [
    "What is Statistical Significance Test?\r\n",
    "In statistics, statistical significance means that the result that was produced has a reason behind it, it was not produced randomly, or by chance.\n",
    "\r\n",
    "SciPy provides us with a module called scipy.stats, which has functions for performing statistical significance test.\r\n",
    "\r\n",
    "Here are some techniques and keywords that are important when performing such t\n",
    "Kiểm tra ý nghĩa thống kê là gì?\r\n",
    "Trong thống kê, ý nghĩa thống kê có nghĩa là kết quả được tạo ra có lý do đằng sau nó, nó không được tạo ra một cách ngẫu nhiên hoặc tình cờ.\n",
    "\r\n",
    "SciPy cung cấp cho chúng ta một mô-đun có tên là scipy.stats, có chức năng thực hiện các bài kiểm tra ý nghĩa thống ê.\r\n",
    "\r\n",
    "Dưới đây là một số kỹ thuật và từ khóa quan trọng khi thực hiện các thử nghiệm nhưậy:ests:\r\n",
    "\r\n"
   ]
  },
  {
   "cell_type": "markdown",
   "id": "18c4cc5a-7111-416b-9ec8-3984d9013cf1",
   "metadata": {},
   "source": [
    "Hypothesis in Statistics\r\n",
    "Hypothesis is an assumption about a parameter in population\n",
    "Giả thuyết trong thống kê\r\n",
    "Giả thuyết là một giả định về một tham số trong dân số.."
   ]
  },
  {
   "cell_type": "markdown",
   "id": "bc8c01d4-5a66-4bd1-99e5-334ab35f466c",
   "metadata": {},
   "source": [
    "Null Hypothesis\r\n",
    "It assumes that the observation is not statistically significant\n",
    "Giả thuyết vô giá trị\r\n",
    "Nó giả định rằng quan sát không có ý nghĩa thống kê.."
   ]
  },
  {
   "cell_type": "markdown",
   "id": "2783a252-bede-4ef6-ac66-96b09b029298",
   "metadata": {},
   "source": [
    "Alternate Hypothesis\r\n",
    "It assumes that the observations are due to some reason.\n",
    "\r\n",
    "It's alternate to Null Hypothes\n",
    "Giả thuyết thay thế\r\n",
    "Nó giả định rằng các quan sát là do một lý do nào đó.\n",
    "\r\n",
    "Nó thay thế cho Giả thuyết Null.is."
   ]
  },
  {
   "cell_type": "markdown",
   "id": "2e574db9-672d-4e30-8fb5-eabeb73d6492",
   "metadata": {},
   "source": [
    "Example:\n",
    "\r\n",
    "For an assessment of a student we would tak:\r\n",
    "\r\n",
    "\"student is worse than average\" - as a null hypothesis, nd:\r\n",
    "\r\n",
    "\"student is better than average\" - as an alternate hypot\n",
    "Ví dụ:\n",
    "\r\n",
    "Để đánh giá một học sinh, chúng ta sẽ thực hiệ:\r\n",
    "\r\n",
    "\"học sinh tệ hơn mức trung bình\" - như một giả thuyết không,và:\r\n",
    "\r\n",
    "\"học sinh giỏi hơn mức trung bình\" - như một giả thuyết thay thế.hesis."
   ]
  },
  {
   "cell_type": "markdown",
   "id": "8745d741-01dd-474d-b6fe-eeb1f5a3cdcb",
   "metadata": {},
   "source": [
    "One tailed test\r\n",
    "When our hypothesis is testing for one side of the value only, it is called \"one tailed test\".\n",
    "\r\n",
    "Exampl:\r\n",
    "\r\n",
    "For the null hypotheis:\r\n",
    "\r\n",
    "\"the mean is equal to k\", we can have alternate hypotesis:\r\n",
    "\r\n",
    "\"the mean is less tha k\", or:\r\n",
    "\r\n",
    "\"the mean is grea\n",
    "Thử nghiệm một đuôi\r\n",
    "Khi giả thuyết của chúng tôi chỉ kiểm tra một phía của giá trị, nó được gọi là \"thử nghiệm một phía\".\n",
    "\r\n",
    "Ví ụ:\r\n",
    "\r\n",
    "Đối với giả thuyết kông:\r\n",
    "\r\n",
    "\"giá trị trung bình bằng k\", chúng ta có thể có giả thuyết thy thế:\r\n",
    "\r\n",
    "\"giá trị trung bình nhỏ hơnk\" hoặc:\r\n",
    "\r\n",
    "\"giá trị trung bình lớn hơn k\"ter than k\""
   ]
  },
  {
   "cell_type": "markdown",
   "id": "14e11bb0-31fb-4409-9454-055b58d5116c",
   "metadata": {},
   "source": [
    "Two tailed test\r\n",
    "When our hypothesis is testing for both side of the values\r\n",
    "\r\n",
    "Exampe:\r\n",
    "\r\n",
    "For the null hypothsis:\r\n",
    "\r\n",
    "\"the mean is equal to k\", we can have alternate hypohesis:\r\n",
    "\r\n",
    "\"the mean is not eqal to k\"\r\n",
    "\r\n",
    "In this case the mean is less than, or greater than k, and both sides are to \n",
    "Bài kiểm tra hai đuôi\r\n",
    "Khi giả thuyết của chúng tôi đang kiểm tra cả hai mặt của giá trị\r\n",
    "\r\n",
    "Ví ụ:\r\n",
    "\r\n",
    "Đối với giả thuyết kông:\r\n",
    "\r\n",
    "\"giá trị trung bình bằng k\", chúng ta có thể có giả thuyết thy thế:\r\n",
    "\r\n",
    "\"giá trị trung bình khôn bằng k\"\r\n",
    "\r\n",
    "Trong trường hợp này giá trị trung bình nhỏ hơn hoặc lớn hơn k và phải kiểm tra cả hai bên.be checked.be checked."
   ]
  },
  {
   "cell_type": "markdown",
   "id": "e4ef91a7-c35b-4cf2-9231-57dab4f2bc65",
   "metadata": {},
   "source": [
    "Alpha value\r\n",
    "Alpha value is the level of significance\r\n",
    "\r\n",
    "Exampe:\r\n",
    "\r\n",
    "How close to extremes the data must be for null hypothesis to be rejeted.\r\n",
    "\r\n",
    "It is usually taken as 0.01, 0.05, \n",
    "Giá trị alpha\r\n",
    "Giá trị Alpha là mức ý nghĩa\r\n",
    "\r\n",
    "Ví ụ:\r\n",
    "\r\n",
    "Dữ liệu phải gần đến mức nào để giả thuyết không bị bá bỏ.\r\n",
    "\r\n",
    "Nó thường được lấy là 0,01, 0,05 hoặc 0,1.or 0.1."
   ]
  },
  {
   "cell_type": "markdown",
   "id": "5a109df8-2896-4fcc-ad1c-38cd81aa3dde",
   "metadata": {},
   "source": [
    "P value\r\n",
    "P value tells how close to extreme the data actually is\r\n",
    "\r\n",
    "P value and alpha values are compared to establish the statistical significane.\r\n",
    "\r\n",
    "If p value <= alpha we reject the null hypothesis and say that the data is statistically significant. otherwise we accept the null hypoth\n",
    "giá trị P\r\n",
    "Giá trị P cho biết dữ liệu thực sự gần đến mức nào\r\n",
    "\r\n",
    "Giá trị P và giá trị alpha được so sánh để thiết lập ý nghĩa thống ê.\r\n",
    "\r\n",
    "Nếu giá trị p <= alpha, chúng tôi bác bỏ giả thuyết khống và nói rằng dữ liệu có ý nghĩa thống kê. ngược lại chúng ta chấp nhận giả thuyết không.esis."
   ]
  },
  {
   "cell_type": "markdown",
   "id": "625e830d-7128-4e54-ade5-cddf702b39cb",
   "metadata": {},
   "source": [
    "T-Test\r\n",
    "T-tests are used to determine if there is significant deference between means of two variables and lets us know if they belong to the same distribution.\n",
    "\r\n",
    "It is a two tailed tes.\r\n",
    "\r\n",
    "The function ttest_ind() takes two samples of same size and produces a tuple of t-statistic and p-v\n",
    "Kiểm tra T\r\n",
    "Kiểm định T được sử dụng để xác định xem liệu có sự khác biệt đáng kể giữa giá trị trung bình của hai biến hay không và cho chúng ta biết liệu chúng có thuộc cùng một phân phối hay không\r\n",
    "\r\n",
    "Đó là một bài kiểm tra hai đui.\r\n",
    "\r\n",
    "Hàm ttest_ind()lấy hai mẫu có cùng kích thước và tạo ra một bộ giá trị thống kê t và giá trị p.alue."
   ]
  },
  {
   "cell_type": "code",
   "execution_count": 1,
   "id": "0edd607a-9230-45d3-a0aa-91186867ee30",
   "metadata": {},
   "outputs": [
    {
     "name": "stdout",
     "output_type": "stream",
     "text": [
      "TtestResult(statistic=-0.031628390085355854, pvalue=0.9748002617456846, df=198.0)\n"
     ]
    }
   ],
   "source": [
    "# Find if the given values v1 and v2 are from same distribution:\n",
    "# Tìm xem các giá trị v1 và v2 đã cho có cùng phân phối hay không:\n",
    "import numpy as np\n",
    "from scipy.stats import ttest_ind\n",
    "\n",
    "v1 = np.random.normal(size=100)\n",
    "v2 = np.random.normal(size=100)\n",
    "\n",
    "res = ttest_ind(v1, v2)\n",
    "\n",
    "print(res)"
   ]
  },
  {
   "cell_type": "markdown",
   "id": "c34b6281-9ddb-49c5-be62-e7276e06b71a",
   "metadata": {},
   "source": [
    "If you want to return only the p-value, use the pvalue property:\n",
    "Nếu bạn chỉ muốn trả về giá trị p, hãy sử dụng pvalue thuộc tính:"
   ]
  },
  {
   "cell_type": "code",
   "execution_count": 2,
   "id": "3abf6a4a-11e4-44d1-8cd5-5b1865736337",
   "metadata": {},
   "outputs": [
    {
     "name": "stdout",
     "output_type": "stream",
     "text": [
      "0.9748002617456846\n"
     ]
    }
   ],
   "source": [
    "...\n",
    "res = ttest_ind(v1, v2).pvalue\n",
    "\n",
    "print(res)"
   ]
  },
  {
   "cell_type": "markdown",
   "id": "31832751-f0fa-4f0a-a533-77fca9f43020",
   "metadata": {},
   "source": [
    "KS-Test\r\n",
    "KS test is used to check if given values follow a distribution\r\n",
    "\r\n",
    "The function takes the value to be tested, and the CDF as two paramete\n",
    "Kiểm tra KS\r\n",
    "Kiểm tra KS được sử dụng để kiểm tra xem các giá trị đã cho có tuân theo phân phối hay không\r\n",
    "\r\n",
    "Hàm lấy giá trị cần kiểm tra và CDF làm hai tham số.rs."
   ]
  },
  {
   "cell_type": "markdown",
   "id": "5add80c1-9e31-4063-a280-b41a3a840a4e",
   "metadata": {},
   "source": [
    "A CDF can be either a string or a callable function that returns the probability.\n",
    "CDF có thể là một chuỗi hoặc một hàm có thể gọi được và trả về xác suất."
   ]
  },
  {
   "cell_type": "markdown",
   "id": "8b6282ab-e13d-4e77-ae86-49d94cfca0fa",
   "metadata": {},
   "source": [
    "It can be used as a one tailed or two tailed test.\n",
    "\r\n",
    "By default it is two tailed. We can pass parameter alternative as a string of one of two-sided, less, or greate\n",
    "Nó có thể được sử dụng như một bài kiểm tra một đuôi hoặc hai đuôi.\n",
    "\r\n",
    "Theo mặc định nó có hai đuôi. Chúng ta có thể truyền tham số thay thế dưới dạng một chuỗi có một trong hai mặt, nhỏ hơn hoặc lớn hơn.r."
   ]
  },
  {
   "cell_type": "code",
   "execution_count": 3,
   "id": "64f0d534-0b4d-4edb-b119-75f54e5e7421",
   "metadata": {},
   "outputs": [
    {
     "name": "stdout",
     "output_type": "stream",
     "text": [
      "KstestResult(statistic=0.1204371885413058, pvalue=0.10111657135157237, statistic_location=0.8079391317828354, statistic_sign=-1)\n"
     ]
    }
   ],
   "source": [
    "# Find if the given value follows the normal distribution:\n",
    "# Tìm xem giá trị đã cho có tuân theo phân phối chuẩn hay không:\n",
    "import numpy as np\n",
    "from scipy.stats import kstest\n",
    "\n",
    "v = np.random.normal(size=100)\n",
    "\n",
    "res = kstest(v, 'norm')\n",
    "\n",
    "print(res)"
   ]
  },
  {
   "cell_type": "markdown",
   "id": "393ad1ae-4a0a-4ecc-85a3-092fb89310a5",
   "metadata": {},
   "source": [
    "Statistical Description of Data\r\n",
    "In order to see a summary of values in an array, we can use the describe() function\r\n",
    "\r\n",
    "It returns the following descriptin:\r\n",
    "\r\n",
    "number of observations (nobs)\r\n",
    "minimum and maximum values = minmax\r\n",
    "mean\r\n",
    "variance\r\n",
    "skewness\n",
    "Mô tả thống kê dữ liệu\r\n",
    "Để xem tóm tắt các giá trị trong một mảng, chúng ta có thể sử dụng hàm describe()\r\n",
    "\r\n",
    "Nó trả về mô tả su:\r\n",
    "\r\n",
    "số lượng quan sát (nobs)\r\n",
    "giá trị tối thiểu và tối đa = minmax\r\n",
    "nghĩa là\r\n",
    "phương sai\r\n",
    "sự lệch lạc\r\n",
    "độ nhọn\r\n",
    "kurtosis"
   ]
  },
  {
   "cell_type": "code",
   "execution_count": 4,
   "id": "6e2a6902-f408-4bbf-998b-d3c1b809160f",
   "metadata": {},
   "outputs": [
    {
     "name": "stdout",
     "output_type": "stream",
     "text": [
      "DescribeResult(nobs=100, minmax=(-2.7624638900084757, 3.545965804019367), mean=0.11920838984758275, variance=1.215923860574568, skewness=0.06278890960830472, kurtosis=0.21554638385333647)\n"
     ]
    }
   ],
   "source": [
    "# Show statistical description of the values in an array:\n",
    "# Hiển thị mô tả thống kê về các giá trị trong một mảng:\n",
    "import numpy as np\n",
    "from scipy.stats import describe\n",
    "\n",
    "v = np.random.normal(size=100)\n",
    "res = describe(v)\n",
    "\n",
    "print(res)"
   ]
  },
  {
   "cell_type": "markdown",
   "id": "9ff65db0-1879-4443-9c6b-5fe90d76757f",
   "metadata": {},
   "source": [
    "Normality Tests (Skewness and Kurtosis)\r\n",
    "Normality tests are based on the skewness and kurtosis\r\n",
    "\r\n",
    "The normaltest() function returns p value for the null hypothess:\r\n",
    "\r\n",
    "\"x comes from a normal distribut\n",
    "Kiểm tra tính bình thường (Độ lệch và Kurtosis)\r\n",
    "Kiểm tra tính chuẩn dựa trên độ lệch và độ nhọn\r\n",
    "\r\n",
    "Hàm normaltest()trả về giá trị p cho giả thuyết khốg:\r\n",
    "\r\n",
    "\"x đến từ phân phối chuẩn\" .ion\"."
   ]
  },
  {
   "cell_type": "markdown",
   "id": "7ada9d7e-d4d6-42b6-addb-151c36f1e1df",
   "metadata": {},
   "source": [
    "Skewness:\r\n",
    "A measure of symmetry in data\r\n",
    "\r\n",
    "For normal distributions it is0.\r\n",
    "\r\n",
    "If it is negative, it means the data is skewed eft.\r\n",
    "\r\n",
    "If it is positive it means the data is skewed\n",
    "Độ lệch:\r\n",
    "Một thước đo tính đối xứng trong dữ liệu\r\n",
    "\r\n",
    "Đối với phân phối chuẩn, nó bằng0.\r\n",
    "\r\n",
    "Nếu nó âm, có nghĩa là dữ liệu bị lệch sang rái.\r\n",
    "\r\n",
    "Nếu nó dương thì có nghĩa là dữ liệu bị lệch phải. right."
   ]
  },
  {
   "cell_type": "markdown",
   "id": "d9992e97-e44c-4543-8666-9648b8bbc214",
   "metadata": {},
   "source": [
    "Kurtosis:\r\n",
    "A measure of whether the data is heavy or lightly tailed to a normal distribution\r\n",
    "\r\n",
    "Positive kurtosis means heavy taild.\r\n",
    "\r\n",
    "Negative kurtosis means lightly ta\n",
    "Kurtosis:\r\n",
    "Thước đo xem dữ liệu nặng hay nhẹ theo phân phối chuẩn\r\n",
    "\r\n",
    "Độ nhọn dương có nghĩa là đuôi nặg.\r\n",
    "\r\n",
    "Độ nhọn âm có nghĩa là đuôi nhẹ.iled."
   ]
  },
  {
   "cell_type": "code",
   "execution_count": 5,
   "id": "e2d2e7e3-abef-4ae6-895b-4b7949ab80b0",
   "metadata": {},
   "outputs": [
    {
     "name": "stdout",
     "output_type": "stream",
     "text": [
      "-0.04830290827447561\n",
      "-0.4095845472812423\n"
     ]
    }
   ],
   "source": [
    "# Find skewness and kurtosis of values in an array:\n",
    "# Tìm độ lệch và độ nhọn của các giá trị trong một mảng:\n",
    "import numpy as np\n",
    "from scipy.stats import skew, kurtosis\n",
    "\n",
    "v = np.random.normal(size=100)\n",
    "\n",
    "print(skew(v))\n",
    "print(kurtosis(v))"
   ]
  },
  {
   "cell_type": "code",
   "execution_count": 6,
   "id": "ad8992ba-ccd3-4d8e-904e-8687a156fbcf",
   "metadata": {},
   "outputs": [
    {
     "name": "stdout",
     "output_type": "stream",
     "text": [
      "NormaltestResult(statistic=0.054750014289409066, pvalue=0.9729962925379023)\n"
     ]
    }
   ],
   "source": [
    "# Find if the data comes from a normal distribution:\n",
    "# Tìm xem dữ liệu có đến từ phân phối chuẩn hay không:\n",
    "import numpy as np\n",
    "from scipy.stats import normaltest\n",
    "\n",
    "v = np.random.normal(size=100)\n",
    "\n",
    "print(normaltest(v))"
   ]
  },
  {
   "cell_type": "code",
   "execution_count": null,
   "id": "9d1b774f-fa3a-487d-a8df-b59f630faf0e",
   "metadata": {},
   "outputs": [],
   "source": []
  }
 ],
 "metadata": {
  "kernelspec": {
   "display_name": "Python 3 (ipykernel)",
   "language": "python",
   "name": "python3"
  },
  "language_info": {
   "codemirror_mode": {
    "name": "ipython",
    "version": 3
   },
   "file_extension": ".py",
   "mimetype": "text/x-python",
   "name": "python",
   "nbconvert_exporter": "python",
   "pygments_lexer": "ipython3",
   "version": "3.11.7"
  }
 },
 "nbformat": 4,
 "nbformat_minor": 5
}
