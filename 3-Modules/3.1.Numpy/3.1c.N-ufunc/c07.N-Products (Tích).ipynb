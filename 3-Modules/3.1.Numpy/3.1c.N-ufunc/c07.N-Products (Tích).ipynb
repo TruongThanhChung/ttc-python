{
 "cells": [
  {
   "cell_type": "markdown",
   "id": "7d753ca3-2f00-488b-b659-927db4eedfba",
   "metadata": {},
   "source": [
    "Products\r\n",
    "To find the product of the elements in an array, use the prod() function\n",
    "Tích\r\n",
    "Để tìm tích của các phần tử trong một mảng, hãy sử dụng hàm prod.."
   ]
  },
  {
   "cell_type": "code",
   "execution_count": 1,
   "id": "f1ba2e5c-28cc-4f50-bfbc-0c1966c79422",
   "metadata": {},
   "outputs": [
    {
     "name": "stdout",
     "output_type": "stream",
     "text": [
      "24\n"
     ]
    }
   ],
   "source": [
    "# Find the product of the elements of this array:\n",
    "# Tìm tích của các phần tử của mảng này:\n",
    "import numpy as np\n",
    "\n",
    "arr = np.array([1, 2, 3, 4])\n",
    "\n",
    "x = np.prod(arr)\n",
    "\n",
    "print(x)"
   ]
  },
  {
   "cell_type": "code",
   "execution_count": 2,
   "id": "b04d8a81-f581-4298-8a22-b5fbb53a9bda",
   "metadata": {},
   "outputs": [
    {
     "name": "stdout",
     "output_type": "stream",
     "text": [
      "40320\n"
     ]
    }
   ],
   "source": [
    "# Find the product of the elements of two arrays:\n",
    "# Tìm tích các phần tử của hai mảng:\n",
    "import numpy as np\n",
    "\n",
    "arr1 = np.array([1, 2, 3, 4])\n",
    "arr2 = np.array([5, 6, 7, 8])\n",
    "\n",
    "x = np.prod([arr1, arr2])\n",
    "\n",
    "print(x)"
   ]
  },
  {
   "cell_type": "markdown",
   "id": "0247c32b-2630-4e2a-aa5a-442117130236",
   "metadata": {},
   "source": [
    "Product Over an Axis\r\n",
    "If you specify axis=1, NumPy will return the product of each array\n",
    "Tích trên một trục\r\n",
    "Nếu bạn chỉ định axis=1, NumPy sẽ trả về tích của từng mả.."
   ]
  },
  {
   "cell_type": "code",
   "execution_count": 3,
   "id": "dd9d5e91-9651-4b3c-b611-d38b5e2ed063",
   "metadata": {},
   "outputs": [
    {
     "name": "stdout",
     "output_type": "stream",
     "text": [
      "[  24 1680]\n"
     ]
    }
   ],
   "source": [
    "# Perform summation in the following array over 1st axis:\n",
    "# Thực hiện tính tổng trong mảng sau trên trục thứ 1:\n",
    "import numpy as np\n",
    "\n",
    "arr1 = np.array([1, 2, 3, 4])\n",
    "arr2 = np.array([5, 6, 7, 8])\n",
    "\n",
    "newarr = np.prod([arr1, arr2], axis=1)\n",
    "\n",
    "print(newarr)"
   ]
  },
  {
   "cell_type": "markdown",
   "id": "cd292669-49fb-4e10-9ddd-08cf925af575",
   "metadata": {},
   "source": [
    "Cummulative Product\r\n",
    "Cummulative product means taking the product partially.\r\n",
    "E.g. The partial product of [1, 2, 3, 4] is [1, 1*2, 1*2*3, 1*2*3*4] = [1, 2, 6, 2\r\n",
    "\r\n",
    "Perfom partial sum with the cumprod() func\n",
    "Tích tích lũy\r",
    "íchm tích lũy có nghĩa là  lấy của sản phẩmíchm một phn.\n",
    "\r\n",
    "Ví dụ: Tích riêng của [1, 2, 3, 4] là [1, 1*2, 1*2*3, 1*2*3*4] = [1, 2, 6 2]\r\n",
    "\r\n",
    "Thực hiện tính tổng một phầhàm n bằg cumy.tion."
   ]
  },
  {
   "cell_type": "code",
   "execution_count": 4,
   "id": "f90018bb-85ff-4103-b8bd-0d6923b00b32",
   "metadata": {},
   "outputs": [
    {
     "name": "stdout",
     "output_type": "stream",
     "text": [
      "[   5   30  210 1680]\n"
     ]
    }
   ],
   "source": [
    "# Take cummulative product of all elements for following array:\n",
    "# Lấy tích lũy của tất cả các phần tử cho mảng sau:\n",
    "import numpy as np\n",
    "\n",
    "arr = np.array([5, 6, 7, 8])\n",
    "\n",
    "newarr = np.cumprod(arr)\n",
    "\n",
    "print(newarr)"
   ]
  },
  {
   "cell_type": "code",
   "execution_count": null,
   "id": "f083b9f8-04d0-454f-b5de-9e0e42374ccf",
   "metadata": {},
   "outputs": [],
   "source": []
  }
 ],
 "metadata": {
  "kernelspec": {
   "display_name": "Python 3 (ipykernel)",
   "language": "python",
   "name": "python3"
  },
  "language_info": {
   "codemirror_mode": {
    "name": "ipython",
    "version": 3
   },
   "file_extension": ".py",
   "mimetype": "text/x-python",
   "name": "python",
   "nbconvert_exporter": "python",
   "pygments_lexer": "ipython3",
   "version": "3.11.7"
  }
 },
 "nbformat": 4,
 "nbformat_minor": 5
}
