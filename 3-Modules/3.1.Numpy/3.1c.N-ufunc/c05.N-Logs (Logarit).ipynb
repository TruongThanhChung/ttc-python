{
 "cells": [
  {
   "cell_type": "markdown",
   "id": "b28da8d1-8deb-4a2e-91b5-edc9b4f2408f",
   "metadata": {},
   "source": [
    "Logs\r\n",
    "NumPy provides functions to perform log at the base 2, e and 10.\n",
    "\r\n",
    "We will also explore how we can take log for any base by creating a custom ufun.\r\n",
    "\r\n",
    "All of the log functions will place -inf or inf in the elements if the log can not be comp\n",
    "Nhật ký\r\n",
    "NumPy cung cấp các hàm để thực hiện log ở cơ số 2, e và 10.\n",
    "\r\n",
    "Chúng tôi cũng sẽ khám phá cách chúng tôi có thể ghi nhật ký cho bất kỳ cơ sở nào bằng cách tạo ufunc tùy chỉn.\r\n",
    "\r\n",
    "Tất cả các hàm nhật ký sẽ đặt -inf hoặc inf trong các phần tử nếu không thể tính toán nhậký.\r\n",
    "\r\n",
    "uted."
   ]
  },
  {
   "cell_type": "markdown",
   "id": "54482d73-1b97-47fd-8213-6034f66e011a",
   "metadata": {},
   "source": [
    "Log at Base 2\r\n",
    "Use the log2() function to perform log at the base 2\n",
    "Đăng nhập tại cơ sở 2\r\n",
    "Sử dụng log2()hàm để thực hiện log tại cơ sở 2.."
   ]
  },
  {
   "cell_type": "code",
   "execution_count": 1,
   "id": "78fa0f9c-949a-4dd8-aafa-b964fa04f9a3",
   "metadata": {},
   "outputs": [
    {
     "name": "stdout",
     "output_type": "stream",
     "text": [
      "[0.         1.         1.5849625  2.         2.32192809 2.5849625\n",
      " 2.80735492 3.         3.169925  ]\n"
     ]
    }
   ],
   "source": [
    "# Find log at base 2 of all elements of following array:\n",
    "# Tìm log ở cơ số 2 của tất cả các phần tử của mảng sau:\n",
    "import numpy as np\n",
    "\n",
    "arr = np.arange(1, 10)\n",
    "\n",
    "print(np.log2(arr))"
   ]
  },
  {
   "cell_type": "markdown",
   "id": "6483e50f-2b0e-4918-918c-1b7ad498a854",
   "metadata": {},
   "source": [
    "Note: The arange(1, 10) function returns an array with integers starting from 1 (included) to 10 (not included).\n",
    "Lưu ý: Hàm arange(1, 10)trả về một mảng có các số nguyên bắt đầu từ 1 (bao gồm) đến 10 (không bao gồm)."
   ]
  },
  {
   "cell_type": "markdown",
   "id": "c8f7bcb3-d68a-49c3-a50e-9306b2b65999",
   "metadata": {},
   "source": [
    "Log at Base 10\r\n",
    "Use the log10() function to perform log at the base 10\n",
    "Hàm log cơ số 10\r\n",
    "Sử dụng log10( )hàm để thực hiện log ở cơ số 10.."
   ]
  },
  {
   "cell_type": "code",
   "execution_count": 2,
   "id": "c8ca7ace-39e7-464b-a99f-ac79df5a84db",
   "metadata": {},
   "outputs": [
    {
     "name": "stdout",
     "output_type": "stream",
     "text": [
      "[0.         0.30103    0.47712125 0.60205999 0.69897    0.77815125\n",
      " 0.84509804 0.90308999 0.95424251]\n"
     ]
    }
   ],
   "source": [
    "# Find log at base 10 of all elements of following array:\n",
    "# Tìm log ở cơ số 10 của tất cả các phần tử của mảng sau:\n",
    "import numpy as np\n",
    "\n",
    "arr = np.arange(1, 10)\n",
    "\n",
    "print(np.log10(arr))"
   ]
  },
  {
   "cell_type": "markdown",
   "id": "01884a15-455f-4479-a98e-2a727cbf5696",
   "metadata": {},
   "source": [
    "Natural Log, or Log at Base e\r\n",
    "Use the log() function to perform log at the base e\n",
    "Nhật ký tự nhiên hoặc Nhật ký tại cơ sở e\r\n",
    "Sử dụng log( )hàm để thực hiện log tại cơ sở e.."
   ]
  },
  {
   "cell_type": "code",
   "execution_count": 3,
   "id": "da577b45-1846-471f-a977-661cff0010a9",
   "metadata": {},
   "outputs": [
    {
     "name": "stdout",
     "output_type": "stream",
     "text": [
      "[0.         0.69314718 1.09861229 1.38629436 1.60943791 1.79175947\n",
      " 1.94591015 2.07944154 2.19722458]\n"
     ]
    }
   ],
   "source": [
    "# Find log at base e of all elements of following array:\n",
    "# Tìm log tại cơ số e của tất cả các phần tử của mảng sau:\n",
    "import numpy as np\n",
    "\n",
    "arr = np.arange(1, 10)\n",
    "\n",
    "print(np.log(arr))"
   ]
  },
  {
   "cell_type": "markdown",
   "id": "975eb465-5044-4cc7-9eb5-a7a336aed65f",
   "metadata": {},
   "source": [
    "Log at Any Base\r\n",
    "NumPy does not provide any function to take log at any base, so we can use the frompyfunc(  function along with inbuilt function math.log() with two input parameters and one output parameter\n",
    "Đăng nhập tại bất kỳ cơ sở nào\r\n",
    "NumPy không cung cấp bất kỳ hàm nào để lấy log ở bất kỳ cơ sở nào nên chúng ta có thể sử dụng hàm frompyfunc( )cùng với hàm có sẵn math.log( )với hai tham số đầu vào và một tham số đầu ra::"
   ]
  },
  {
   "cell_type": "code",
   "execution_count": 4,
   "id": "d7738721-74a5-4177-9ec1-18193701e3d3",
   "metadata": {},
   "outputs": [
    {
     "name": "stdout",
     "output_type": "stream",
     "text": [
      "1.7005483074552052\n"
     ]
    }
   ],
   "source": [
    "from math import log\n",
    "import numpy as np\n",
    "\n",
    "nplog = np.frompyfunc(log, 2, 1)\n",
    "\n",
    "print(nplog(100, 15))"
   ]
  },
  {
   "cell_type": "code",
   "execution_count": null,
   "id": "bf1fc4cf-4450-47cd-9b3e-418e15cb3f03",
   "metadata": {},
   "outputs": [],
   "source": []
  }
 ],
 "metadata": {
  "kernelspec": {
   "display_name": "Python 3 (ipykernel)",
   "language": "python",
   "name": "python3"
  },
  "language_info": {
   "codemirror_mode": {
    "name": "ipython",
    "version": 3
   },
   "file_extension": ".py",
   "mimetype": "text/x-python",
   "name": "python",
   "nbconvert_exporter": "python",
   "pygments_lexer": "ipython3",
   "version": "3.11.7"
  }
 },
 "nbformat": 4,
 "nbformat_minor": 5
}
