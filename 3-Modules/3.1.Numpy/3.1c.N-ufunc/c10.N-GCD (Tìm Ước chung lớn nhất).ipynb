{
 "cells": [
  {
   "cell_type": "markdown",
   "id": "7b4fde55-59f5-4bd8-8fc1-c00bdbde7235",
   "metadata": {},
   "source": [
    "Finding GCD (Greatest Common Denominator)\r\n",
    "The GCD (Greatest Common Denominator), also known as HCF (Highest Common Factor) is the biggest number that is a common factor of both of the numbers\n",
    "Tìm GCD (Mẫu số chung lớn nhất)\r\n",
    "GCD (Mẫu số chung lớn nhất), còn được gọi là HCF (Hệ số chung cao nhất) là số lớn nhất và là thừa số chung của cả hai .."
   ]
  },
  {
   "cell_type": "code",
   "execution_count": 1,
   "id": "7c9c71c8-240d-4d47-833e-3504854b91e6",
   "metadata": {},
   "outputs": [
    {
     "name": "stdout",
     "output_type": "stream",
     "text": [
      "3\n"
     ]
    }
   ],
   "source": [
    "# Find the HCF of the following two numbers:\n",
    "# Tìm HCF của hai số sau:\n",
    "import numpy as np\n",
    "\n",
    "num1 = 6\n",
    "num2 = 9\n",
    "\n",
    "x = np.gcd(num1, num2)\n",
    "\n",
    "print(x)"
   ]
  },
  {
   "cell_type": "markdown",
   "id": "880ae41a-a5d4-4d78-bfaa-3fecff582efa",
   "metadata": {},
   "source": [
    "Finding GCD in Arrays\r\n",
    "To find the Highest Common Factor of all values in an array, you can use the reduce() method\n",
    "Tìm GCD trong mảng\r\n",
    "Để tìm Hệ số chung cao nhất của tất cả các giá trị trong một mảng, bạn có thể sử dụ phương thứcng reduce.."
   ]
  },
  {
   "cell_type": "markdown",
   "id": "651f2673-e1fc-4a7e-8b50-f58e75da162a",
   "metadata": {},
   "source": [
    "The reduce() method will use the ufunc, in this case the gcd() function, on each element, and reduce the array by one dimension\n",
    "Phương thức reduce() sẽ sử dụng ufunc, trong trường hợp này là hàm gcd(), trên mỗi phần tử và giảm mảng đi một chiều"
   ]
  },
  {
   "cell_type": "markdown",
   "id": "820694c5-12e0-4c56-87de-a9cb5b3a19d8",
   "metadata": {},
   "source": [
    "The reduce() method will use the ufunc, in this case the gcd() function, on each element, and reduce the array by one dimension.\n",
    "Phương thức này reduce()sẽ sử dụng ufunc, trong trường hợp này là gcd()hàm, trên mỗi phần tử và giảm mảng đi một chiều"
   ]
  },
  {
   "cell_type": "code",
   "execution_count": 2,
   "id": "c9287a9c-c9a1-4f37-be28-e3bdddeafe29",
   "metadata": {},
   "outputs": [
    {
     "name": "stdout",
     "output_type": "stream",
     "text": [
      "4\n"
     ]
    }
   ],
   "source": [
    "# Find the GCD for all of the numbers in the following array:\n",
    "# Tìm GCD của tất cả các số trong mảng sau:\n",
    "import numpy as np\n",
    "\n",
    "arr = np.array([20, 8, 32, 36, 16])\n",
    "\n",
    "x = np.gcd.reduce(arr)\n",
    "\n",
    "print(x)"
   ]
  },
  {
   "cell_type": "code",
   "execution_count": null,
   "id": "5eb91fcd-a251-497f-bcf9-4b1dbc98853a",
   "metadata": {},
   "outputs": [],
   "source": []
  }
 ],
 "metadata": {
  "kernelspec": {
   "display_name": "Python 3 (ipykernel)",
   "language": "python",
   "name": "python3"
  },
  "language_info": {
   "codemirror_mode": {
    "name": "ipython",
    "version": 3
   },
   "file_extension": ".py",
   "mimetype": "text/x-python",
   "name": "python",
   "nbconvert_exporter": "python",
   "pygments_lexer": "ipython3",
   "version": "3.11.7"
  }
 },
 "nbformat": 4,
 "nbformat_minor": 5
}
