{
 "cells": [
  {
   "cell_type": "markdown",
   "id": "3e210b88-e7a8-46ef-a239-73cd7d44dd38",
   "metadata": {},
   "source": [
    "Summations\r\n",
    "What is the difference between summation and addition?\r\n",
    "Addition is done between two arguments whereas summation happens over n elemten\n",
    "Tổng\r\n",
    "Sự khác biệt giữa tổng hợp và bổ sung là ì?\n",
    "\r\n",
    "Phép cộng được thực hiện giữa hai đối số trong khi phép tính tổng xảy ra trên n phầ.ts."
   ]
  },
  {
   "cell_type": "code",
   "execution_count": 1,
   "id": "c8d782ce-7ba8-437e-850d-77d48593d7f5",
   "metadata": {},
   "outputs": [
    {
     "name": "stdout",
     "output_type": "stream",
     "text": [
      "[2 4 6]\n"
     ]
    }
   ],
   "source": [
    "# Add the values in arr1 to the values in arr2:\n",
    "# Thêm các giá trị trong mảng1 vào các giá trị trong mảng2:\n",
    "import numpy as np\n",
    "\n",
    "arr1 = np.array([1, 2, 3])\n",
    "arr2 = np.array([1, 2, 3])\n",
    "\n",
    "newarr = np.add(arr1, arr2)\n",
    "\n",
    "print(newarr)"
   ]
  },
  {
   "cell_type": "code",
   "execution_count": 2,
   "id": "1817d18b-84dc-45f1-9f2c-9eb5ba451a8e",
   "metadata": {},
   "outputs": [
    {
     "name": "stdout",
     "output_type": "stream",
     "text": [
      "12\n"
     ]
    }
   ],
   "source": [
    "# Sum the values in arr1 and the values in arr2:\n",
    "# Tính tổng các giá trị trong mảng1 và các giá trị trong mảng2:\n",
    "import numpy as np\n",
    "\n",
    "arr1 = np.array([1, 2, 3])\n",
    "arr2 = np.array([1, 2, 3])\n",
    "\n",
    "newarr = np.sum([arr1, arr2])\n",
    "\n",
    "print(newarr)"
   ]
  },
  {
   "cell_type": "markdown",
   "id": "07975ae1-5231-46ce-b098-762fa94c0f04",
   "metadata": {},
   "source": [
    "Summation Over an Axis\r\n",
    "If you specify axis=1, NumPy will sum the numbers in each array\n",
    "Tính tổng trên một trục\r\n",
    "Nếu bạn chỉ định axis=1, NumPy sẽ tính tổng các số trong mỗi mả.."
   ]
  },
  {
   "cell_type": "code",
   "execution_count": 3,
   "id": "7622aeb9-25d3-485a-bfd8-f5c3a81c1b6c",
   "metadata": {},
   "outputs": [
    {
     "name": "stdout",
     "output_type": "stream",
     "text": [
      "[6 6]\n"
     ]
    }
   ],
   "source": [
    "# Perform summation in the following array over 1st axis:\n",
    "# Thực hiện tính tổng trong mảng sau trên trục thứ 1:\n",
    "import numpy as np\n",
    "\n",
    "arr1 = np.array([1, 2, 3])\n",
    "arr2 = np.array([1, 2, 3])\n",
    "\n",
    "newarr = np.sum([arr1, arr2], axis=1)\n",
    "\n",
    "print(newarr)"
   ]
  },
  {
   "cell_type": "markdown",
   "id": "ad589355-85c7-4c1e-9027-45a20d4b0a77",
   "metadata": {},
   "source": [
    "Cummulative Sum\r\n",
    "Cummulative sum means partially adding the elements in array.\r\n",
    "E.g. The partial sum of [1, 2, 3, 4] would be [1, 1+2, 1+2+3, 1+2+3+4] = [1, 3, 6, 10\r\n",
    "\r\n",
    "Perfom partial sum with the cumsum() func\n",
    "Tổng tích lũy\r\n",
    "Tổng tích lũy có nghĩa là cộng một phần các phần tử trong mng.\n",
    "\r\n",
    "Ví dụ: Tổng riêng của [1, 2, 3, 4] sẽ là [1, 1+2, 1+2+3, 1+2+3+4] = [1, 3, 6 10.\r\n",
    "\r\n",
    "Thực hiện tính tổng một p hàmhần bằng ày.tion."
   ]
  },
  {
   "cell_type": "code",
   "execution_count": 4,
   "id": "46a91663-35f1-4dbd-923e-0d3777fe1051",
   "metadata": {},
   "outputs": [
    {
     "name": "stdout",
     "output_type": "stream",
     "text": [
      "[1 3 6]\n"
     ]
    }
   ],
   "source": [
    "# Perform cummulative summation in the following array:\n",
    "# Thực hiện tính tổng tích lũy trong mảng sau:\n",
    "import numpy as np\n",
    "\n",
    "arr = np.array([1, 2, 3])\n",
    "\n",
    "newarr = np.cumsum(arr)\n",
    "\n",
    "print(newarr)"
   ]
  },
  {
   "cell_type": "code",
   "execution_count": null,
   "id": "bc54f753-6583-4ae8-93f7-048c2e5f53e6",
   "metadata": {},
   "outputs": [],
   "source": []
  }
 ],
 "metadata": {
  "kernelspec": {
   "display_name": "Python 3 (ipykernel)",
   "language": "python",
   "name": "python3"
  },
  "language_info": {
   "codemirror_mode": {
    "name": "ipython",
    "version": 3
   },
   "file_extension": ".py",
   "mimetype": "text/x-python",
   "name": "python",
   "nbconvert_exporter": "python",
   "pygments_lexer": "ipython3",
   "version": "3.11.7"
  }
 },
 "nbformat": 4,
 "nbformat_minor": 5
}
