{
 "cells": [
  {
   "cell_type": "markdown",
   "id": "f3c79fdb-61b3-4b24-a327-543939377205",
   "metadata": {},
   "source": [
    "What is a Set\r\n",
    "A set in mathematics is a collection of unique elements.\n",
    "\r\n",
    "Sets are used for operations involving frequent intersection, union and difference operatio\n",
    "Bộ là gì\r\n",
    "Tập hợp trong toán học là tập hợp các phần tử duy nhất.\n",
    "\r\n",
    "Các bộ được sử dụng cho các phép toán liên quan đến các phép toán giao nhau, hợp và sai thường xuy.ns.\r\n",
    "\r\n"
   ]
  },
  {
   "cell_type": "markdown",
   "id": "03077b64-337b-45ea-bf4a-4db9ca307dc0",
   "metadata": {},
   "source": [
    "Create Sets in NumPy\r\n",
    "We can use NumPy's unique() method to find unique elements from any array. E.g. create a set array, but remember that the set arrays should only be 1-D arrays\n",
    "Tạo bộ trong NumPy\r\n",
    "Chúng ta có thể sử dụng phương pháp của NumPy unique()để tìm các phần tử duy nhất từ ​​bất kỳ mảng nào. Ví dụ: tạo một mảng tập hợp, nhưng hãy nhớ rằng mảng tập hợp chỉ nên là mảng 1-D.."
   ]
  },
  {
   "cell_type": "code",
   "execution_count": 1,
   "id": "ebdbf74b-65cb-4638-80de-ae48347e8894",
   "metadata": {},
   "outputs": [
    {
     "name": "stdout",
     "output_type": "stream",
     "text": [
      "[1 2 3 4 5 6 7]\n"
     ]
    }
   ],
   "source": [
    "# Convert following array with repeated elements to a set:\n",
    "# Chuyển đổi mảng sau với các phần tử lặp lại thành một tập hợp:\n",
    "import numpy as np\n",
    "\n",
    "arr = np.array([1, 1, 1, 2, 3, 4, 5, 5, 6, 7])\n",
    "\n",
    "x = np.unique(arr)\n",
    "\n",
    "print(x)"
   ]
  },
  {
   "cell_type": "markdown",
   "id": "c34ae36a-7c2c-4371-9575-b327e34c16f5",
   "metadata": {},
   "source": [
    "Finding Union\r\n",
    "To find the unique values of two arrays, use the union1d() method\n",
    "Tìm Liên Minh\r\n",
    "Để tìm các giá trị duy nhất của hai mảng, hãy sử dụng phươn thức  union1d( ..."
   ]
  },
  {
   "cell_type": "code",
   "execution_count": 2,
   "id": "88855067-4308-4cd3-82ed-e471afd2ba8b",
   "metadata": {},
   "outputs": [
    {
     "name": "stdout",
     "output_type": "stream",
     "text": [
      "[1 2 3 4 5 6]\n"
     ]
    }
   ],
   "source": [
    "# Find union of the following two set arrays:\n",
    "# Tìm hợp của hai tập hợp sau:\n",
    "import numpy as np\n",
    "\n",
    "arr1 = np.array([1, 2, 3, 4])\n",
    "arr2 = np.array([3, 4, 5, 6])\n",
    "\n",
    "newarr = np.union1d(arr1, arr2)\n",
    "\n",
    "print(newarr)"
   ]
  },
  {
   "cell_type": "markdown",
   "id": "d5b67204-34b6-4a85-8be9-d39932bca147",
   "metadata": {},
   "source": [
    "Finding Intersection\r\n",
    "To find only the values that are present in both arrays, use the intersect1d() method\n",
    "Tìm giao lộ\r\n",
    "Để chỉ tìm các giá trị có trong cả hai mảng, hãy sử dụng intersect1d()phương thức này.."
   ]
  },
  {
   "cell_type": "code",
   "execution_count": 3,
   "id": "6978e048-f0b4-4ab1-879a-ef94bee868d3",
   "metadata": {},
   "outputs": [
    {
     "name": "stdout",
     "output_type": "stream",
     "text": [
      "[3 4]\n"
     ]
    }
   ],
   "source": [
    "# Find intersection of the following two set arrays:\n",
    "# Tìm giao điểm của hai tập hợp sau:\n",
    "import numpy as np\n",
    "\n",
    "arr1 = np.array([1, 2, 3, 4])\n",
    "arr2 = np.array([3, 4, 5, 6])\n",
    "\n",
    "newarr = np.intersect1d(arr1, arr2, assume_unique=True)\n",
    "\n",
    "print(newarr)"
   ]
  },
  {
   "cell_type": "markdown",
   "id": "f19c995d-86d5-4391-bb51-95ed8cc66b66",
   "metadata": {},
   "source": [
    "Note: the intersect1d() method takes an optional argument assume_unique, which if set to True can speed up computation. It should always be set to True when dealing with sets.\n",
    "Lưu ý: phương thức này intersect1d()lấy một đối số tùy chọn assume_unique, nếu được đặt thành True thì có thể tăng tốc độ tính toán. Nó phải luôn được đặt thành True khi xử lý các tập hợp."
   ]
  },
  {
   "cell_type": "markdown",
   "id": "bb232b91-54c4-49f5-8ce8-91ae8ce8ca0c",
   "metadata": {},
   "source": [
    "Finding Difference\r\n",
    "To find only the values in the first set that is NOT present in the seconds set, use the setdiff1d() method\n",
    "Tìm sự khác biệt\r\n",
    "Để chỉ tìm các giá trị trong tập đầu tiên KHÔNG có trong tập giây, hãy sử dụng phương setdiff1d()thức.."
   ]
  },
  {
   "cell_type": "code",
   "execution_count": 4,
   "id": "a1f61d00-d01a-4163-8a2c-cdec236a131f",
   "metadata": {},
   "outputs": [
    {
     "name": "stdout",
     "output_type": "stream",
     "text": [
      "[1 2]\n"
     ]
    }
   ],
   "source": [
    "# Find the difference of the set1 from set2:\n",
    "# Tìm sự khác biệt của set1 so với set2:\n",
    "import numpy as np\n",
    "\n",
    "set1 = np.array([1, 2, 3, 4])\n",
    "set2 = np.array([3, 4, 5, 6])\n",
    "\n",
    "newarr = np.setdiff1d(set1, set2, assume_unique=True)\n",
    "\n",
    "print(newarr)"
   ]
  },
  {
   "cell_type": "markdown",
   "id": "6d1dd081-18ba-48fd-b048-2b05f3cb0a05",
   "metadata": {},
   "source": [
    "Note: the setdiff1d() method takes an optional argument assume_unique, which if set to True can speed up computation. It should always be set to True when dealing with sets.\n",
    "Lưu ý: phương thức này setdiff1d() lấy một đối số tùy chọn assume_unique, nếu được đặt thành True thì có thể tăng tốc độ tính toán. Nó phải luôn được đặt thành True khi xử lý các tập hợp."
   ]
  },
  {
   "cell_type": "markdown",
   "id": "89ecf62c-3700-4e54-a57e-024842f21cb6",
   "metadata": {},
   "source": [
    "Finding Symmetric Difference\r\n",
    "To find only the values that are NOT present in BOTH sets, use the setxor1d() method\n",
    "Tìm sự khác biệt đối xứng\r\n",
    "Để chỉ tìm các giá trị KHÔNG có trong CẢ HAI bộ, hãy sử dụng setxor1d()phương thức này.."
   ]
  },
  {
   "cell_type": "code",
   "execution_count": 5,
   "id": "f8658e67-15e3-480f-b56e-5c1d21a4f37c",
   "metadata": {},
   "outputs": [
    {
     "name": "stdout",
     "output_type": "stream",
     "text": [
      "[1 2 5 6]\n"
     ]
    }
   ],
   "source": [
    "# Find the symmetric difference of the set1 and set2:\n",
    "# Tìm sự khác biệt đối xứng của set1 và set2:\n",
    "import numpy as np\n",
    "\n",
    "set1 = np.array([1, 2, 3, 4])\n",
    "set2 = np.array([3, 4, 5, 6])\n",
    "\n",
    "newarr = np.setxor1d(set1, set2, assume_unique=True)\n",
    "\n",
    "print(newarr)"
   ]
  },
  {
   "cell_type": "markdown",
   "id": "f8e6b803-36d5-42b7-b4d2-247846cfc8be",
   "metadata": {},
   "source": [
    "Note: the setxor1d() method takes an optional argument assume_unique, which if set to True can speed up computation. It should always be set to True when dealing with sets.\n",
    "Lưu ý: phương thức này setxor1d() lấy một đối số tùy chọn assume_unique, nếu được đặt thành True thì có thể tăng tốc độ tính toán. Nó phải luôn được đặt thành True khi xử lý các tập hợp."
   ]
  }
 ],
 "metadata": {
  "kernelspec": {
   "display_name": "Python 3 (ipykernel)",
   "language": "python",
   "name": "python3"
  },
  "language_info": {
   "codemirror_mode": {
    "name": "ipython",
    "version": 3
   },
   "file_extension": ".py",
   "mimetype": "text/x-python",
   "name": "python",
   "nbconvert_exporter": "python",
   "pygments_lexer": "ipython3",
   "version": "3.11.7"
  }
 },
 "nbformat": 4,
 "nbformat_minor": 5
}
