{
 "cells": [
  {
   "cell_type": "markdown",
   "id": "9f30511b-4915-4dd8-8f49-7973ed8728a2",
   "metadata": {},
   "source": [
    "Differences\r\n",
    "A discrete difference means subtracting two successive element\n",
    "\r\n",
    "E.g. for [1, 2, 3, 4], the discrete difference would be [2-1, 3-2, 4-3] = [1, 1,]\r\n",
    "\r\n",
    "To find the discrete difference, use the diff() fHiệu rời rạcbiệt\r\n",
    "Hiệu rời rạc có nghĩa là trừ đi hai phần tử liêniếp.\n",
    "\r\n",
    "Ví dụ: đối với [1, 2, 3, 4], chênh lệch rời rạc sẽ là [2-1, 3-2, 4-3] = [1 1, ]\r\n",
    "\r",
    "hiệuhác biệt rời rạc, hãy hàm s dụngàm.tion."
   ]
  },
  {
   "cell_type": "code",
   "execution_count": 1,
   "id": "1eb493cb-dc0d-405f-bb5f-09121b67b985",
   "metadata": {},
   "outputs": [
    {
     "name": "stdout",
     "output_type": "stream",
     "text": [
      "[  5  10 -20]\n"
     ]
    }
   ],
   "source": [
    "# Compute discrete difference of the following array:\n",
    "# Tính sai phân rời rạc của mảng sau:\n",
    "import numpy as np\n",
    "\n",
    "arr = np.array([10, 15, 25, 5])\n",
    "\n",
    "newarr = np.diff(arr)\n",
    "\n",
    "print(newarr)"
   ]
  },
  {
   "cell_type": "markdown",
   "id": "e4e31855-6e46-4785-978d-c53f566c67bb",
   "metadata": {},
   "source": [
    "Returns: [5 10 -20] because 15-10=5, 25-15=10, and 5-25=-20\n",
    "Trả về: [5 10 -20] vì 15-10=5, 25-15=10 và 5-25=-20"
   ]
  },
  {
   "cell_type": "markdown",
   "id": "dbe8a9bb-bb2e-4bc0-87ee-d36f19c79123",
   "metadata": {},
   "source": [
    "We can perform this operation repeatedly by giving parameter n\r\n",
    "E.g. for [1, 2, 3, 4], the discrete difference with n = 2 would be [2-1, 3-2, 4-3] = [1, 1, 1] , then, since n=2, we will do it once more, with the new result: [1-1, 1-1] = [0,0] \n",
    "Chúng ta có thể thực hiện thao tác này nhiều lần bằng cách đưa ra tham số n\r",
    "\r\n",
    "Ví dụ: đối với [1, 2, 3, 4], sự khác biệt rời rạc với n = 2 sẽ là [2-1, 3-2, 4-3] = [1, 1, 1] , sau đó, vì n=2, chúng ta sẽ làm lại một lần nữa với kết quả mới: [1-1, 1-1] = [0, 0]"
   ]
  },
  {
   "cell_type": "code",
   "execution_count": 2,
   "id": "c232544a-21d5-4fec-aa63-51dca64f834b",
   "metadata": {},
   "outputs": [
    {
     "name": "stdout",
     "output_type": "stream",
     "text": [
      "[  5 -30]\n"
     ]
    }
   ],
   "source": [
    "# Compute discrete difference of the following array twice:\n",
    "# Tính sai phân rời rạc của mảng sau hai lần:\n",
    "import numpy as np\n",
    "\n",
    "arr = np.array([10, 15, 25, 5])\n",
    "\n",
    "newarr = np.diff(arr, n=2)\n",
    "\n",
    "print(newarr)"
   ]
  },
  {
   "cell_type": "markdown",
   "id": "a466fdaf-bf12-4817-b820-72730a4c8071",
   "metadata": {},
   "source": [
    "Returns: [5 -30] because: 15-10=5, 25-15=10, and 5-25=-20 AND 10-5=5 and -20-10=-30\n",
    "Trả về: [5 -30] vì: 15-10=5, 25-15=10, và 5-25=-20 AND 10-5=5 và -20-10=-30"
   ]
  }
 ],
 "metadata": {
  "kernelspec": {
   "display_name": "Python 3 (ipykernel)",
   "language": "python",
   "name": "python3"
  },
  "language_info": {
   "codemirror_mode": {
    "name": "ipython",
    "version": 3
   },
   "file_extension": ".py",
   "mimetype": "text/x-python",
   "name": "python",
   "nbconvert_exporter": "python",
   "pygments_lexer": "ipython3",
   "version": "3.11.7"
  }
 },
 "nbformat": 4,
 "nbformat_minor": 5
}
