{
 "cells": [
  {
   "cell_type": "markdown",
   "id": "068a0b80-b311-41b8-abd4-a6a58a042134",
   "metadata": {},
   "source": [
    "How To Create Your Own ufunc\r\n",
    "To create your own ufunc, you have to define a function, like you do with normal functions in Python, then you add it to your NumPy ufunc library with the frompyfunc() method.\r\n",
    "The frompyfunc() method takes the following argument\r\n",
    "\r\n",
    "function - the name of the function.\r\n",
    "inputs - the number of input arguments (arrays).\r\n",
    "outputs - the number of output \n",
    "Cách tạo ufunc của riêng bạn\r\n",
    "Để tạo ufunc của riêng bạn, bạn phải xác định một hàm, giống như bạn làm với các hàm thông thường trong Python, sau đó bạn thêm nó vào thư viện NumPy ufunc bằng thứcn thứcg from)c( này.\n",
    "\r\n",
    "Phươhức này frompyfunc()có các đuố số sa:\r\n",
    "\r\n",
    "function- tên của chức năng.\r\n",
    "inputs- số lượng đối số đầu vào (mảng).\r\n",
    "outputs- số lượng.u ra.arrays."
   ]
  },
  {
   "cell_type": "code",
   "execution_count": 1,
   "id": "1261395a-b7a8-4d37-9040-190ce48d1bdd",
   "metadata": {},
   "outputs": [
    {
     "name": "stdout",
     "output_type": "stream",
     "text": [
      "[6 8 10 12]\n"
     ]
    }
   ],
   "source": [
    "# Create your own ufunc for addition:\n",
    "# Tạo ufunc của riêng bạn để bổ sung:\n",
    "import numpy as np\n",
    "\n",
    "def myadd(x, y):\n",
    "  return x+y\n",
    "\n",
    "myadd = np.frompyfunc(myadd, 2, 1)\n",
    "\n",
    "print(myadd([1, 2, 3, 4], [5, 6, 7, 8]))"
   ]
  },
  {
   "cell_type": "markdown",
   "id": "335cc14c-8a85-4aeb-af77-3274c97c114c",
   "metadata": {},
   "source": [
    "Check if a Function is a ufunc\r\n",
    "Check the type of a function to check if it is a ufunc or not.\r\n",
    "A ufunc should return <class 'numpy.ufunc\n",
    "Kiểm tra xem Hàm có phải là ufunc không\r\n",
    "Kiểm tra loại hàm để kiểm tra xem nó có phải là ufunc hay khôn.\n",
    "\r\n",
    "Một ufunc sẽ trả về <class 'numpy.ufunc'>.'>."
   ]
  },
  {
   "cell_type": "code",
   "execution_count": 2,
   "id": "3cde4fc8-13e9-42d9-b220-8bf1e494988f",
   "metadata": {},
   "outputs": [
    {
     "name": "stdout",
     "output_type": "stream",
     "text": [
      "<class 'numpy.ufunc'>\n"
     ]
    }
   ],
   "source": [
    "# Check if a function is a ufunc:\n",
    "# Kiểm tra xem một hàm có phải là ufunc không:\n",
    "import numpy as np\n",
    "\n",
    "print(type(np.add))"
   ]
  },
  {
   "cell_type": "markdown",
   "id": "a65a8256-84bb-40b2-b896-15caeab5ea03",
   "metadata": {},
   "source": [
    "If it is not a ufunc, it will return another type, like this built-in NumPy function for joining two or more arrays:\n",
    "Nếu nó không phải là ufunc, nó sẽ trả về một kiểu khác, như hàm NumPy tích hợp này để nối hai hoặc nhiều mảng:"
   ]
  },
  {
   "cell_type": "code",
   "execution_count": 3,
   "id": "7cc43f95-d357-4496-9b7c-075342a46c02",
   "metadata": {},
   "outputs": [
    {
     "name": "stdout",
     "output_type": "stream",
     "text": [
      "<class 'numpy._ArrayFunctionDispatcher'>\n"
     ]
    }
   ],
   "source": [
    "# Check the type of another function: concatenate()\n",
    "# Kiểm tra loại hàm khác: concatenate()\n",
    "import numpy as np\n",
    "\n",
    "print(type(np.concatenate))"
   ]
  },
  {
   "cell_type": "markdown",
   "id": "a4fa250d-d17e-4770-a15d-622543693ec3",
   "metadata": {},
   "source": [
    "If the function is not recognized at all, it will return an error:\n",
    "Nếu hàm này hoàn toàn không được nhận dạng, nó sẽ trả về lỗi:"
   ]
  },
  {
   "cell_type": "code",
   "execution_count": 5,
   "id": "100e7d7f-2bac-4a4b-a36f-21e4bf3a9cbb",
   "metadata": {},
   "outputs": [
    {
     "ename": "AttributeError",
     "evalue": "module 'numpy' has no attribute 'blahblah'",
     "output_type": "error",
     "traceback": [
      "\u001b[1;31m---------------------------------------------------------------------------\u001b[0m",
      "\u001b[1;31mAttributeError\u001b[0m                            Traceback (most recent call last)",
      "Cell \u001b[1;32mIn[5], line 5\u001b[0m\n\u001b[0;32m      1\u001b[0m \u001b[38;5;66;03m# Check the type of something that does not exist. This will produce an error:\u001b[39;00m\n\u001b[0;32m      2\u001b[0m \u001b[38;5;66;03m# Kiểm tra loại thứ gì đó không tồn tại. Điều này sẽ tạo ra một lỗi:\u001b[39;00m\n\u001b[0;32m      3\u001b[0m \u001b[38;5;28;01mimport\u001b[39;00m \u001b[38;5;21;01mnumpy\u001b[39;00m \u001b[38;5;28;01mas\u001b[39;00m \u001b[38;5;21;01mnp\u001b[39;00m\n\u001b[1;32m----> 5\u001b[0m \u001b[38;5;28mprint\u001b[39m(\u001b[38;5;28mtype\u001b[39m(np\u001b[38;5;241m.\u001b[39mblahblah))\n",
      "File \u001b[1;32mC:\\ProgramData\\anaconda3\\Lib\\site-packages\\numpy\\__init__.py:333\u001b[0m, in \u001b[0;36m__getattr__\u001b[1;34m(attr)\u001b[0m\n\u001b[0;32m    330\u001b[0m     \u001b[38;5;124m\"\u001b[39m\u001b[38;5;124mRemoved in NumPy 1.25.0\u001b[39m\u001b[38;5;124m\"\u001b[39m\n\u001b[0;32m    331\u001b[0m     \u001b[38;5;28;01mraise\u001b[39;00m \u001b[38;5;167;01mRuntimeError\u001b[39;00m(\u001b[38;5;124m\"\u001b[39m\u001b[38;5;124mTester was removed in NumPy 1.25.\u001b[39m\u001b[38;5;124m\"\u001b[39m)\n\u001b[1;32m--> 333\u001b[0m \u001b[38;5;28;01mraise\u001b[39;00m \u001b[38;5;167;01mAttributeError\u001b[39;00m(\u001b[38;5;124m\"\u001b[39m\u001b[38;5;124mmodule \u001b[39m\u001b[38;5;132;01m{!r}\u001b[39;00m\u001b[38;5;124m has no attribute \u001b[39m\u001b[38;5;124m\"\u001b[39m\n\u001b[0;32m    334\u001b[0m                      \u001b[38;5;124m\"\u001b[39m\u001b[38;5;132;01m{!r}\u001b[39;00m\u001b[38;5;124m\"\u001b[39m\u001b[38;5;241m.\u001b[39mformat(\u001b[38;5;18m__name__\u001b[39m, attr))\n",
      "\u001b[1;31mAttributeError\u001b[0m: module 'numpy' has no attribute 'blahblah'"
     ]
    }
   ],
   "source": [
    "# Check the type of something that does not exist. This will produce an error:\n",
    "# Kiểm tra loại thứ gì đó không tồn tại. Điều này sẽ tạo ra một lỗi:\n",
    "import numpy as np\n",
    "\n",
    "print(type(np.blahblah))"
   ]
  },
  {
   "cell_type": "markdown",
   "id": "ca55f144-196d-4ff9-97ce-2c1c0631a945",
   "metadata": {},
   "source": [
    "To test if the function is a ufunc in an if statement, use the numpy.ufunc value (or np.ufunc if you use np as an alias for numpy):\n",
    "Để kiểm tra xem hàm có phải là ufunc trong câu lệnh if hay không, hãy sử dụng giá trị numpy.ufunc (hoặc np.ufunc nếu bạn sử dụng np làm bí danh cho numpy):"
   ]
  },
  {
   "cell_type": "code",
   "execution_count": 6,
   "id": "ad2f2095-7da3-4a3e-a84d-5a1bad9913fe",
   "metadata": {},
   "outputs": [
    {
     "name": "stdout",
     "output_type": "stream",
     "text": [
      "add is ufunc\n"
     ]
    }
   ],
   "source": [
    "# Use an if statement to check if the function is a ufunc or not:\n",
    "# Sử dụng câu lệnh if để kiểm tra xem hàm có phải là ufunc hay không:\n",
    "import numpy as np\n",
    "\n",
    "if type(np.add) == np.ufunc:\n",
    "  print('add is ufunc')\n",
    "else:\n",
    "  print('add is not ufunc')"
   ]
  },
  {
   "cell_type": "code",
   "execution_count": null,
   "id": "d3421a36-1baf-413e-8077-280677841a0e",
   "metadata": {},
   "outputs": [],
   "source": []
  }
 ],
 "metadata": {
  "kernelspec": {
   "display_name": "Python 3 (ipykernel)",
   "language": "python",
   "name": "python3"
  },
  "language_info": {
   "codemirror_mode": {
    "name": "ipython",
    "version": 3
   },
   "file_extension": ".py",
   "mimetype": "text/x-python",
   "name": "python",
   "nbconvert_exporter": "python",
   "pygments_lexer": "ipython3",
   "version": "3.11.7"
  }
 },
 "nbformat": 4,
 "nbformat_minor": 5
}
