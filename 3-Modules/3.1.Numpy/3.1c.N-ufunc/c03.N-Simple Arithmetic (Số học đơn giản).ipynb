{
 "cells": [
  {
   "cell_type": "markdown",
   "id": "05f15e6e-4780-46fe-9a1c-94a8b5c2d710",
   "metadata": {},
   "source": [
    "Simple Arithmetic\r\n",
    "You could use arithmetic operators + - * / directly between NumPy arrays, but this section discusses an extension of the same where we have functions that can take any array-like objects e.g. lists, tuples etc. and perform arithmetic conditionally\n",
    "Số học đơn giản\r\n",
    "Bạn có thể sử dụng trực tiếp các toán tử số học + - * / giữa các mảng NumPy, nhưng phần này thảo luận về phần mở rộng tương tự trong đó chúng ta có các hàm có thể nhận bất kỳ đối tượng giống mảng nào, ví dụ: danh sách, bộ dữ liệu, v.v. và thực hiện số học có điều kiện .."
   ]
  },
  {
   "cell_type": "markdown",
   "id": "251f0b79-d4b0-4f8f-b117-5c4c7409ca4d",
   "metadata": {},
   "source": [
    "Arithmetic Conditionally: means that we can define conditions where the arithmetic operation should happen.\n",
    "Số học có điều kiện: có nghĩa là chúng ta có thể xác định các điều kiện mà phép toán số học sẽ xảy ra."
   ]
  },
  {
   "cell_type": "markdown",
   "id": "6d696e8d-b81a-4b92-b6e6-2d97d69bfa3e",
   "metadata": {},
   "source": [
    "All of the discussed arithmetic functions take a where parameter in which we can specify that condition.\n",
    "Tất cả các hàm số học được thảo luận đều có một tham số where trong đó chúng ta có thể chỉ định điều kiện đó."
   ]
  },
  {
   "cell_type": "markdown",
   "id": "509adbc6-8a92-4a8f-91ad-11c365742b37",
   "metadata": {},
   "source": [
    "Addition\r\n",
    "The add() function sums the content of two arrays, and return the results in a new array\n",
    "Phép cộng\r\n",
    "Hàm add( )tính tổng nội dung của hai mảng và trả về kết quả trong một mảng mới.."
   ]
  },
  {
   "cell_type": "code",
   "execution_count": 1,
   "id": "0eac7c72-210a-4932-ab72-2041495deb45",
   "metadata": {},
   "outputs": [
    {
     "name": "stdout",
     "output_type": "stream",
     "text": [
      "[30 32 34 36 38 40]\n"
     ]
    }
   ],
   "source": [
    "# Add the values in arr1 to the values in arr2:\n",
    "# Thêm các giá trị trong mảng1 vào các giá trị trong mảng2:\n",
    "import numpy as np\n",
    "\n",
    "arr1 = np.array([10, 11, 12, 13, 14, 15])\n",
    "arr2 = np.array([20, 21, 22, 23, 24, 25])\n",
    "\n",
    "newarr = np.add(arr1, arr2)\n",
    "\n",
    "print(newarr)"
   ]
  },
  {
   "cell_type": "markdown",
   "id": "c8035d21-9d98-4438-a404-4c886425c535",
   "metadata": {},
   "source": [
    "The example above will return [30 32 34 36 38 40] which is the sums of 10+20, 11+21, 12+22 etc.\n",
    "Ví dụ trên sẽ trả về [30 32 34 36 38 40] là tổng của 10+20, 11+21, 12+22, v.v."
   ]
  },
  {
   "cell_type": "code",
   "execution_count": null,
   "id": "afef77bb-b054-4c41-a706-58c5025aada4",
   "metadata": {},
   "outputs": [],
   "source": [
    "Subtraction\n",
    "The subtract() function subtracts the values from one array with the values from another array, and return the results in a new array.\n",
    "Phép trừ\n",
    "Hàm subtract() trừ các giá trị từ một mảng bằng các giá trị từ mảng khác và trả về kết quả trong một mảng mới."
   ]
  },
  {
   "cell_type": "code",
   "execution_count": 2,
   "id": "938c4072-48c1-47f7-be37-aa0367fd26e8",
   "metadata": {},
   "outputs": [
    {
     "name": "stdout",
     "output_type": "stream",
     "text": [
      "[-10  -1   8  17  26  35]\n"
     ]
    }
   ],
   "source": [
    "# Subtract the values in arr2 from the values in arr1:\n",
    "# Trừ các giá trị trong mảng2 khỏi các giá trị trong mảng1:\n",
    "import numpy as np\n",
    "\n",
    "arr1 = np.array([10, 20, 30, 40, 50, 60])\n",
    "arr2 = np.array([20, 21, 22, 23, 24, 25])\n",
    "\n",
    "newarr = np.subtract(arr1, arr2)\n",
    "\n",
    "print(newarr)"
   ]
  },
  {
   "cell_type": "markdown",
   "id": "f6eb0519-5de9-4c53-9a2a-b2433fb25494",
   "metadata": {},
   "source": [
    "The example above will return [-10 -1 8 17 26 35] which is the result of 10-20, 20-21, 30-22 etc.\n",
    "Ví dụ trên sẽ trả về [-10 -1 8 17 26 35] là kết quả của 10-20, 20-21, 30-22, v.v."
   ]
  },
  {
   "cell_type": "markdown",
   "id": "631321d0-1028-480b-8fbf-ea0a7c5976c2",
   "metadata": {},
   "source": [
    "Multiplication\r\n",
    "The multiply() function multiplies the values from one array with the values from another array, and return the results in a new array\n",
    "Phép nhân\r\n",
    "Hàm multiply( )nhân các giá trị từ một mảng với các giá trị từ một mảng khác và trả về kết quả trong một mảng mới.."
   ]
  },
  {
   "cell_type": "code",
   "execution_count": 3,
   "id": "6a6242be-3bf8-425e-871f-f36fbe6ba49e",
   "metadata": {},
   "outputs": [
    {
     "name": "stdout",
     "output_type": "stream",
     "text": [
      "[ 200  420  660  920 1200 1500]\n"
     ]
    }
   ],
   "source": [
    "# Multiply the values in arr1 with the values in arr2:\n",
    "# Nhân các giá trị trong mảng1 với các giá trị trong mảng2:\n",
    "import numpy as np\n",
    "\n",
    "arr1 = np.array([10, 20, 30, 40, 50, 60])\n",
    "arr2 = np.array([20, 21, 22, 23, 24, 25])\n",
    "\n",
    "newarr = np.multiply(arr1, arr2)\n",
    "\n",
    "print(newarr)"
   ]
  },
  {
   "cell_type": "markdown",
   "id": "1185584f-d6a7-4bda-8277-b06adab9a29b",
   "metadata": {},
   "source": [
    "The example above will return [200 420 660 920 1200 1500] which is the result of 10*20, 20*21, 30*22 etc.\n",
    "Ví dụ trên sẽ trả về [200 420 660 920 1200 1500] là kết quả của 10*20, 20*21, 30*22, v.v."
   ]
  },
  {
   "cell_type": "markdown",
   "id": "cf340f26-c87a-4a5c-b62b-605e661c8efd",
   "metadata": {},
   "source": [
    "Division\r\n",
    "The divide() function divides the values from one array with the values from another array, and return the results in a new array\n",
    "Phép chia\r\n",
    "Hàm divide( )chia các giá trị từ một mảng với các giá trị từ một mảng khác và trả về kết quả trong một mảng mới.."
   ]
  },
  {
   "cell_type": "code",
   "execution_count": 4,
   "id": "7757ede7-d52e-4823-84f2-d6cd0da7380f",
   "metadata": {},
   "outputs": [
    {
     "name": "stdout",
     "output_type": "stream",
     "text": [
      "[ 3.33333333  4.          3.          5.         25.          1.81818182]\n"
     ]
    }
   ],
   "source": [
    "# Divide the values in arr1 with the values in arr2:\n",
    "# Chia các giá trị trong mảng1 với các giá trị trong mảng2:\n",
    "import numpy as np\n",
    "\n",
    "arr1 = np.array([10, 20, 30, 40, 50, 60])\n",
    "arr2 = np.array([3, 5, 10, 8, 2, 33])\n",
    "\n",
    "newarr = np.divide(arr1, arr2)\n",
    "\n",
    "print(newarr)"
   ]
  },
  {
   "cell_type": "markdown",
   "id": "c00b6262-7abd-4cb6-8987-d7e0f0eb8ae2",
   "metadata": {},
   "source": [
    "The example above will return [3.33333333 4. 3. 5. 25. 1.81818182] which is the result of 10/3, 20/5, 30/10 etc.\n",
    "Ví dụ trên sẽ trả về [3.33333333 4. 3. 5. 25. 1.81818182] là kết quả của 10/3, 20/5, 30/10, v.v."
   ]
  },
  {
   "cell_type": "markdown",
   "id": "e6199bcc-3e26-4865-99cd-15e187b9028c",
   "metadata": {},
   "source": [
    "Power\r\n",
    "The power() function rises the values from the first array to the power of the values of the second array, and return the results in a new array\n",
    "Quyền lực\r\n",
    "Hàm power( )tăng các giá trị từ mảng đầu tiên lên lũy thừa các giá trị của mảng thứ hai và trả về kết quả trong một mảng mới.."
   ]
  },
  {
   "cell_type": "code",
   "execution_count": 5,
   "id": "8dab9697-7483-4af2-8bfd-5772b8842fbd",
   "metadata": {},
   "outputs": [
    {
     "name": "stdout",
     "output_type": "stream",
     "text": [
      "[      1000    3200000  729000000 -520093696       2500          0]\n"
     ]
    }
   ],
   "source": [
    "# Raise the valules in arr1 to the power of values in arr2:\n",
    "# Nâng các giá trị trong mảng1 lên lũy thừa các giá trị trong mảng2:\n",
    "import numpy as np\n",
    "\n",
    "arr1 = np.array([10, 20, 30, 40, 50, 60])\n",
    "arr2 = np.array([3, 5, 6, 8, 2, 33])\n",
    "\n",
    "newarr = np.power(arr1, arr2)\n",
    "\n",
    "print(newarr)"
   ]
  },
  {
   "cell_type": "markdown",
   "id": "c6616372-5b5c-4166-aa1b-421b5f8a2c58",
   "metadata": {},
   "source": [
    "The example above will return [1000 3200000 729000000 6553600000000 2500 0] which is the result of 10*10*10, 20*20*20*20*20, 30*30*30*30*30*30 etc.\n",
    "Ví dụ trên sẽ trả về [1000 3200000 729000000 6553600000000 2500 0] là kết quả của 10*10*10, 20*20*20*20*20, 30*30*30*30*30*30, v.v."
   ]
  },
  {
   "cell_type": "markdown",
   "id": "b4c15344-0254-4e54-aa0a-442063c1b467",
   "metadata": {},
   "source": [
    "Remainder\r\n",
    "Both the mod() and the remainder() functions return the remainder of the values in the first array corresponding to the values in the second array, and return the results in a new array\n",
    "Còn lại\r\n",
    "Cả hai hàm the mod()và remainder()hàm đều trả về phần còn lại của các giá trị trong mảng đầu tiên tương ứng với các giá trị trong mảng thứ hai và trả về kết quả trong một mảng mới.."
   ]
  },
  {
   "cell_type": "code",
   "execution_count": 6,
   "id": "442503c3-84b2-490c-b65d-f00914c0a39e",
   "metadata": {},
   "outputs": [
    {
     "name": "stdout",
     "output_type": "stream",
     "text": [
      "[ 1  6  3  0  0 27]\n"
     ]
    }
   ],
   "source": [
    "# Return the remainders:\n",
    "# Trả lại số dư:\n",
    "import numpy as np\n",
    "\n",
    "arr1 = np.array([10, 20, 30, 40, 50, 60])\n",
    "arr2 = np.array([3, 7, 9, 8, 2, 33])\n",
    "\n",
    "newarr = np.mod(arr1, arr2)\n",
    "\n",
    "print(newarr)"
   ]
  },
  {
   "cell_type": "markdown",
   "id": "6143b819-3928-4300-9a80-05ed6570ac63",
   "metadata": {},
   "source": [
    "The example above will return [1 6 3 0 0 27] which is the remainders when you divide 10 with 3 (10%3), 20 with 7 (20%7) 30 with 9 (30%9) etc.\n",
    "Ví dụ trên sẽ trả về [1 6 3 0 0 27] là số dư khi bạn chia 10 với 3 (10%3), 20 với 7 (20%7) 30 với 9 (30%9), v.v."
   ]
  },
  {
   "cell_type": "markdown",
   "id": "095eaa8a-2f0a-4ab9-85d8-ab721eb8a960",
   "metadata": {},
   "source": [
    "You get the same result when using the remainder() function:\n",
    "Bạn nhận được kết quả tương tự khi sử dụng remainder() hàm:"
   ]
  },
  {
   "cell_type": "code",
   "execution_count": null,
   "id": "5aa1a3a9-b27b-49aa-bbb2-167598d5e96f",
   "metadata": {},
   "outputs": [],
   "source": [
    "# Return the remainders:\n",
    "# Trả lại số dư:\n",
    "import numpy as np\n",
    "\n",
    "arr1 = np.array([10, 20, 30, 40, 50, 60])\n",
    "arr2 = np.array([3, 7, 9, 8, 2, 33])\n",
    "\n",
    "newarr = np.remainder(arr1, arr2)\n",
    "\n",
    "print(newarr)"
   ]
  },
  {
   "cell_type": "markdown",
   "id": "5307428e-232e-437a-8618-a9262eff80ea",
   "metadata": {},
   "source": [
    "Quotient and Mod\r\n",
    "The divmod() function return both the quotient and the the mod. The return value is two arrays, the first array contains the quotient and second array contains the mod\n",
    "Thương số và Mod\r\n",
    "Hàm divmod( )trả về cả thương và mod. Giá trị trả về là hai mảng, mảng đầu tiên chứa thương và mảng thứ hai chứa mod.."
   ]
  },
  {
   "cell_type": "code",
   "execution_count": 7,
   "id": "30952404-a36c-45f2-8437-b689afbcb4d0",
   "metadata": {},
   "outputs": [
    {
     "name": "stdout",
     "output_type": "stream",
     "text": [
      "(array([ 3,  2,  3,  5, 25,  1]), array([ 1,  6,  3,  0,  0, 27]))\n"
     ]
    }
   ],
   "source": [
    "# Return the quotient and mod:\n",
    "# Trả về thương và mod:\n",
    "import numpy as np\n",
    "\n",
    "arr1 = np.array([10, 20, 30, 40, 50, 60])\n",
    "arr2 = np.array([3, 7, 9, 8, 2, 33])\n",
    "\n",
    "newarr = np.divmod(arr1, arr2)\n",
    "\n",
    "print(newarr)"
   ]
  },
  {
   "cell_type": "markdown",
   "id": "c95f1866-ba3f-42a2-9054-d141868cf590",
   "metadata": {},
   "source": [
    "The example above will return:\r\n",
    "(array([3, 2, 3, 5, 25, 1]), array([1, 6, 3, 0, 0, 27]))\r\n",
    "The first array represents the quotients, (the integer value when you divide 10 with 3, 20 with 7, 30 with 9 etc.\r\n",
    "The second array represents the remainders of the same divisio\n",
    "Ví dụ trên sẽ trả về:\r\n",
    "(array([3, 2, 3, 5, 25, 1]), array([1, 6, 3, 0, 0, 27]))\r\n",
    "Mảng đầu tiên biểu thị thương số, ( giá trị số nguyên khi bạn chia 10 cho 3, 20 cho 7, 30 cho 9, v.v.\r\n",
    "Mảng thứ hai biểu thị số dư của cùng một phép chia.ns."
   ]
  },
  {
   "cell_type": "markdown",
   "id": "d549bcac-e9db-4ab6-902b-c7dac672620b",
   "metadata": {},
   "source": [
    "Absolute Values\r\n",
    "Both the absolute() and the abs() functions do the same absolute operation element-wise but we should use absolute() to avoid confusion with python's inbuilt math.abs(\n",
    "Giá trị tuyệt đối\r\n",
    "Cả hàm absolute()và abs()hàm đều thực hiện cùng một phần tử hoạt động tuyệt đối nhưng chúng ta nên sử dụng absolute() để tránh nhầm lẫn với phần tử sẵn có của pythonmath.abs())"
   ]
  },
  {
   "cell_type": "code",
   "execution_count": 8,
   "id": "a8fb355e-a5a7-4c9c-afca-78fb9e8a647d",
   "metadata": {},
   "outputs": [
    {
     "name": "stdout",
     "output_type": "stream",
     "text": [
      "[1 2 1 2 3 4]\n"
     ]
    }
   ],
   "source": [
    "# Return the quotient and mod:\n",
    "# Trả về thương và mod:\n",
    "import numpy as np\n",
    "\n",
    "arr = np.array([-1, -2, 1, 2, 3, -4])\n",
    "\n",
    "newarr = np.absolute(arr)\n",
    "\n",
    "print(newarr)"
   ]
  },
  {
   "cell_type": "markdown",
   "id": "3a782902-3243-4169-82fd-3d2e3c197c4c",
   "metadata": {},
   "source": [
    "The example above will return [1 2 1 2 3 4].\n",
    "Ví dụ trên sẽ trả về [1 2 1 2 3 4]."
   ]
  }
 ],
 "metadata": {
  "kernelspec": {
   "display_name": "Python 3 (ipykernel)",
   "language": "python",
   "name": "python3"
  },
  "language_info": {
   "codemirror_mode": {
    "name": "ipython",
    "version": 3
   },
   "file_extension": ".py",
   "mimetype": "text/x-python",
   "name": "python",
   "nbconvert_exporter": "python",
   "pygments_lexer": "ipython3",
   "version": "3.11.7"
  }
 },
 "nbformat": 4,
 "nbformat_minor": 5
}
