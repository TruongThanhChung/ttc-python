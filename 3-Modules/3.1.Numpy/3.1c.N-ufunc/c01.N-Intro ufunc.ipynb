{
 "cells": [
  {
   "cell_type": "markdown",
   "id": "fcc7feb1-452f-4dce-87c7-625b0d3dabb8",
   "metadata": {},
   "source": [
    "What are ufuncs?\r\n",
    "ufuncs stands for \"Universal Functions\" and they are NumPy functions that operate on the ndarray object\n",
    "ufunc là gì?\r\n",
    "ufuncs là viết tắt của \"Chức năng phổ quát\" và chúng là các hàm NumPy hoạt động trên đố tượngi ndarry ..."
   ]
  },
  {
   "cell_type": "markdown",
   "id": "44314b8c-00b6-4432-bf7f-c8d72eba19d0",
   "metadata": {},
   "source": [
    "Why use ufuncs?\r\n",
    "ufuncs are used to implement vectorization in NumPy which is way faster than iterating over elements.\n",
    "\r\n",
    "They also provide broadcasting and additional methods like reduce, accumulate etc. that are very helpful for computatio.\r\n",
    "\r\n",
    "ufuncs also take additional arguments, lke:\r\n",
    "\r\n",
    "where boolean array or condition defining where the operations should take lace.\r\n",
    "\r",
    "fdtype defining the return type of eements.\r\n",
    "\r\n",
    "out output array where the return value should\n",
    "Tại sao nên sử dụng ufuncs?\r\n",
    "ufuncs được sử dụng để triển khai vector hóa trong NumPy, nhanh hơn nhiều so với việc lặp lại các phần tử\r\n",
    "\r\n",
    "Họ cũng cung cấp các phương thức phát sóng và bổ sung như giảm, tích lũy, v.v. rất hữu ích cho việc tính ton.\r\n",
    "\r\n",
    "ufuncs cũng có các đối số bổ sung,như:\r\n",
    " \r\n",
    "wheremảng boolean hoặc điều kiện xác định nơi các hoạt động sẽ dễn ra. \r\n",
    "\r\n",
    "dtypexác định kiểu trả về của cácphần  tử.\r\n",
    "\r\n",
    "outmảng đầu ra nơi giá trị trả về sẽ được sao chép. be copied."
   ]
  },
  {
   "cell_type": "markdown",
   "id": "30999305-d19a-46b2-9ec6-48edb26aac55",
   "metadata": {},
   "source": [
    "What is Vectorization?\r\n",
    "Converting iterative statements into a vector based operation is called vectorization.\n",
    "\r\n",
    "It is faster as modern CPUs are optimized for such operatio\n",
    "Vector hóa là gì?\r\n",
    "Việc chuyển đổi các câu lệnh lặp thành một phép toán dựa trên vectơ được gọi là vector hóa.\n",
    "\r\n",
    "Nó nhanh hơn vì các CPU hiện đại được tối ưu hóa cho các hoạt động như vậy.ns."
   ]
  },
  {
   "cell_type": "markdown",
   "id": "c315f77f-235a-4de0-8b71-4c4e226b5d2d",
   "metadata": {},
   "source": [
    "Add the Elements of Two Lists\n",
    "list 1: [1, 2, 3, 4]\n",
    "list 2: [4, 5, 6, 7]\n",
    "One way of doing it is to iterate over both of the lists and then sum each elements.\n",
    "Thêm các phần tử của hai danh sách\r\n",
    "danh sách 1: [1, 2, 3, 4\r\n",
    "\r\n",
    "danh sách 2: [4, 5, 6,7]\r\n",
    "\r\n",
    "Một cách để làm điều đó là lặp lại cả hai danh sách rồi tính tổng từng phần tử."
   ]
  },
  {
   "cell_type": "code",
   "execution_count": 1,
   "id": "91624ad2-335f-41bf-9df3-8faf73bd3351",
   "metadata": {},
   "outputs": [
    {
     "name": "stdout",
     "output_type": "stream",
     "text": [
      "[5, 7, 9, 11]\n"
     ]
    }
   ],
   "source": [
    "# Without ufunc, we can use Python's built-in zip() method:\n",
    "# Nếu không có ufunc, chúng ta có thể sử dụng phương thức có sẵn của Python zip():\n",
    "x = [1, 2, 3, 4]\n",
    "y = [4, 5, 6, 7]\n",
    "z = []\n",
    "\n",
    "for i, j in zip(x, y):\n",
    "  z.append(i + j)\n",
    "print(z)"
   ]
  },
  {
   "cell_type": "markdown",
   "id": "c6c80c99-bf5a-4c09-a109-f4d24bcb1c84",
   "metadata": {},
   "source": [
    "NumPy has a ufunc for this, called add(x, y) that will produce the same result.\n",
    "NumPy có ufunc cho việc này, được gọi add(x, y) là sẽ tạo ra kết quả tương tự."
   ]
  },
  {
   "cell_type": "code",
   "execution_count": 2,
   "id": "e27214c6-9de8-4748-baa4-8fd665cb272d",
   "metadata": {},
   "outputs": [
    {
     "name": "stdout",
     "output_type": "stream",
     "text": [
      "[ 5  7  9 11]\n"
     ]
    }
   ],
   "source": [
    "# With ufunc, we can use the add() function:\n",
    "# Với ufunc, chúng ta có thể sử dụng add()hàm:\n",
    "import numpy as np\n",
    "\n",
    "x = [1, 2, 3, 4]\n",
    "y = [4, 5, 6, 7]\n",
    "z = np.add(x, y)\n",
    "\n",
    "print(z)"
   ]
  },
  {
   "cell_type": "code",
   "execution_count": null,
   "id": "25fba401-937a-4c38-9cc9-c936eafef0a5",
   "metadata": {},
   "outputs": [],
   "source": []
  }
 ],
 "metadata": {
  "kernelspec": {
   "display_name": "Python 3 (ipykernel)",
   "language": "python",
   "name": "python3"
  },
  "language_info": {
   "codemirror_mode": {
    "name": "ipython",
    "version": 3
   },
   "file_extension": ".py",
   "mimetype": "text/x-python",
   "name": "python",
   "nbconvert_exporter": "python",
   "pygments_lexer": "ipython3",
   "version": "3.11.7"
  }
 },
 "nbformat": 4,
 "nbformat_minor": 5
}
