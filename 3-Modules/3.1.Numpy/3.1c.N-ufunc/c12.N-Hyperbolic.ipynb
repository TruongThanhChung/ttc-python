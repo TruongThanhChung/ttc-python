{
 "cells": [
  {
   "cell_type": "markdown",
   "id": "99666e30-4b39-49d4-b56e-e53d1b7c5515",
   "metadata": {},
   "source": [
    "Hyperbolic Functions\r\n",
    "NumPy provides the ufuncs sinh(), cosh() and tanh() that take values in radians and produce the corresponding sinh, cosh and tanh values.\n",
    "Hàm hyperbol\r\n",
    "NumPy cung cấp ufuncs sinh( )và cosh()nhận tanh()các giá trị tính bằng radian và tạo ra các giá trị sinh, cosh và tanh tương ứng..."
   ]
  },
  {
   "cell_type": "code",
   "execution_count": 1,
   "id": "cdac2125-6e6e-4560-9d20-f9f82ed1bb58",
   "metadata": {},
   "outputs": [
    {
     "name": "stdout",
     "output_type": "stream",
     "text": [
      "2.3012989023072947\n"
     ]
    }
   ],
   "source": [
    "# Find sinh value of PI/2:\n",
    "# Tìm giá trị sinh của PI/2:\n",
    "import numpy as np\n",
    "\n",
    "x = np.sinh(np.pi/2)\n",
    "\n",
    "print(x)"
   ]
  },
  {
   "cell_type": "code",
   "execution_count": 2,
   "id": "665e63a9-eced-4388-aac6-2033e44c5a5c",
   "metadata": {},
   "outputs": [
    {
     "name": "stdout",
     "output_type": "stream",
     "text": [
      "[2.50917848 1.60028686 1.32460909 1.20397209]\n"
     ]
    }
   ],
   "source": [
    "# Find cosh values for all of the values in arr:\n",
    "# Tìm giá trị cosh cho tất cả các giá trị trong mảng:\n",
    "import numpy as np\n",
    "\n",
    "arr = np.array([np.pi/2, np.pi/3, np.pi/4, np.pi/5])\n",
    "\n",
    "x = np.cosh(arr)\n",
    "\n",
    "print(x)"
   ]
  },
  {
   "cell_type": "markdown",
   "id": "1c9bc128-4e13-4a75-95e7-07b8a95a43ac",
   "metadata": {},
   "source": [
    "Finding Angles\r\n",
    "Finding angles from values of hyperbolic sine, cos, tan. E.g. sinh, cosh and tanh inverse (arcsinh, arccosh, arctanh).\n",
    "\r\n",
    "Numpy provides ufuncs arcsinh(), arccosh() and arctanh() that produce radian values for corresponding sinh, cosh and tanh values giv\n",
    "Tìm góc\r\n",
    "Tìm các góc từ các giá trị của sin hyperbol, cos, tan. Ví dụ sinh, cosh và tanh nghịch đảo (arcsinh, arccosh, arctanh)\r\n",
    "\r\n",
    "Numpy cung cấp ufuncs arcsin, arccosh() và arctanh() và tạo ra các giá trị radian cho các giá trị sinh, cosh và tanh tương ứng cho.h()en."
   ]
  },
  {
   "cell_type": "code",
   "execution_count": 3,
   "id": "5f7d8a3c-9071-41d3-a3e1-0e07724c9440",
   "metadata": {},
   "outputs": [
    {
     "name": "stdout",
     "output_type": "stream",
     "text": [
      "0.881373587019543\n"
     ]
    }
   ],
   "source": [
    "# Find the angle of 1.0:\n",
    "# Tìm góc 1,0:\n",
    "import numpy as np\n",
    "\n",
    "x = np.arcsinh(1.0)\n",
    "\n",
    "print(x)"
   ]
  },
  {
   "cell_type": "markdown",
   "id": "89904b81-9c3c-4100-a5b9-ee7e4de8e830",
   "metadata": {},
   "source": [
    "Angles of Each Value in Arrays\n",
    "Góc của mỗi giá trị trong mảng"
   ]
  },
  {
   "cell_type": "code",
   "execution_count": 4,
   "id": "bfa248af-ebf1-4fa1-8743-f49c202f3c4e",
   "metadata": {},
   "outputs": [
    {
     "name": "stdout",
     "output_type": "stream",
     "text": [
      "[0.10033535 0.20273255 0.54930614]\n"
     ]
    }
   ],
   "source": [
    "# Find the angle for all of the tanh values in array:\n",
    "# Tìm góc cho tất cả các giá trị tanh trong mảng:\n",
    "import numpy as np\n",
    "\n",
    "arr = np.array([0.1, 0.2, 0.5])\n",
    "\n",
    "x = np.arctanh(arr)\n",
    "\n",
    "print(x)"
   ]
  },
  {
   "cell_type": "code",
   "execution_count": null,
   "id": "ccc91ff6-467e-45c2-b7e1-c9ff03d34851",
   "metadata": {},
   "outputs": [],
   "source": []
  }
 ],
 "metadata": {
  "kernelspec": {
   "display_name": "Python 3 (ipykernel)",
   "language": "python",
   "name": "python3"
  },
  "language_info": {
   "codemirror_mode": {
    "name": "ipython",
    "version": 3
   },
   "file_extension": ".py",
   "mimetype": "text/x-python",
   "name": "python",
   "nbconvert_exporter": "python",
   "pygments_lexer": "ipython3",
   "version": "3.11.7"
  }
 },
 "nbformat": 4,
 "nbformat_minor": 5
}
