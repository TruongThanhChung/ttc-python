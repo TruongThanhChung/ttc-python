{
 "cells": [
  {
   "cell_type": "markdown",
   "id": "a56fb7cc-acfb-4f97-8293-1428a5332d78",
   "metadata": {},
   "source": [
    "Finding LCM (Lowest Common Multiple)\r\n",
    "The Lowest Common Multiple is the smallest number that is a common multiple of two numbers\n",
    "Tìm LCM (Bội số chung thấp nhất)\r\n",
    "Bội chung nhỏ nhất là số nhỏ nhất là bội chung của hai .."
   ]
  },
  {
   "cell_type": "code",
   "execution_count": 1,
   "id": "7bfecc3c-b0de-4a6f-92fe-9a7ef31c7178",
   "metadata": {},
   "outputs": [
    {
     "name": "stdout",
     "output_type": "stream",
     "text": [
      "12\n"
     ]
    }
   ],
   "source": [
    "# Find the LCM of the following two numbers:\n",
    "# Tìm BCNN của hai số sau:\n",
    "import numpy as np\n",
    "\n",
    "num1 = 4\n",
    "num2 = 6\n",
    "\n",
    "x = np.lcm(num1, num2)\n",
    "\n",
    "print(x)"
   ]
  },
  {
   "cell_type": "markdown",
   "id": "7cf5dbcf-944e-4bae-9bc1-1d21b1ca16f3",
   "metadata": {},
   "source": [
    "Returns: 12 because that is the lowest common multiple of both numbers (4*3=12 and 6*2=12)\n",
    "Trả về: 12 vì đó là bội số chung thấp nhất của cả hai số (4*3=12 và 6*2=12)"
   ]
  },
  {
   "cell_type": "markdown",
   "id": "31a8874c-1ff7-4b25-8329-eb13a9de08ee",
   "metadata": {},
   "source": [
    "Finding LCM in Arrays\r\n",
    "To find the Lowest Common Multiple of all values in an array, you can use the reduce() method\n",
    "Tìm LCM trong mảng\r\n",
    "Để tìm Bội chung nhỏ nhất của tất cả các giá trị trong một mảng, bạn có thể sử dụ phương thứcng reduce.."
   ]
  },
  {
   "cell_type": "code",
   "execution_count": 2,
   "id": "5df8ed38-0e8c-4de9-b5c1-d90b9866da5f",
   "metadata": {},
   "outputs": [
    {
     "name": "stdout",
     "output_type": "stream",
     "text": [
      "18\n"
     ]
    }
   ],
   "source": [
    "# Find the LCM of the values of the following array:\n",
    "# Tìm LCM của các giá trị của mảng sau:\n",
    "import numpy as np\n",
    "\n",
    "arr = np.array([3, 6, 9])\n",
    "\n",
    "x = np.lcm.reduce(arr)\n",
    "\n",
    "print(x)"
   ]
  },
  {
   "cell_type": "code",
   "execution_count": 3,
   "id": "e842295a-fa89-46f4-af66-2066ea3fdea3",
   "metadata": {},
   "outputs": [
    {
     "name": "stdout",
     "output_type": "stream",
     "text": [
      "2520\n"
     ]
    }
   ],
   "source": [
    "# Find the LCM of all values of an array where the array contains all integers from 1 to 10:\n",
    "# Tìm LCM của tất cả các giá trị của một mảng trong đó mảng chứa tất cả các số nguyên từ 1 đến 10:\n",
    "import numpy as np\n",
    "\n",
    "arr = np.arange(1, 11)\n",
    "\n",
    "x = np.lcm.reduce(arr)\n",
    "\n",
    "print(x)"
   ]
  },
  {
   "cell_type": "code",
   "execution_count": null,
   "id": "d277f4d3-a189-40f5-b220-402e99baf876",
   "metadata": {},
   "outputs": [],
   "source": []
  }
 ],
 "metadata": {
  "kernelspec": {
   "display_name": "Python 3 (ipykernel)",
   "language": "python",
   "name": "python3"
  },
  "language_info": {
   "codemirror_mode": {
    "name": "ipython",
    "version": 3
   },
   "file_extension": ".py",
   "mimetype": "text/x-python",
   "name": "python",
   "nbconvert_exporter": "python",
   "pygments_lexer": "ipython3",
   "version": "3.11.7"
  }
 },
 "nbformat": 4,
 "nbformat_minor": 5
}
