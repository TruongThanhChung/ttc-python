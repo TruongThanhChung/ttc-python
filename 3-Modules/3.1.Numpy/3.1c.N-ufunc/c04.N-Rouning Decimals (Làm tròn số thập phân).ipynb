{
 "cells": [
  {
   "cell_type": "markdown",
   "id": "1c3771f2-9790-46c7-b30b-1fa5943e0708",
   "metadata": {},
   "source": [
    "Rounding Decimals\r\n",
    "There are primarily five ways of rounding off decimals in NumPy\n",
    "Về cơ bản có năm cách làm tròn số thập phân trong NumPy::\n",
    "\r\n",
    "truncation\r\n",
    "fix\r\n",
    "rounding\r\n",
    "floohà\r\n",
    "trần nhàr\r\n",
    "ceil"
   ]
  },
  {
   "cell_type": "markdown",
   "id": "62b1473c-2928-4ee1-81b7-a375462e1526",
   "metadata": {},
   "source": [
    "Truncation\r\n",
    "Remove the decimals, and return the float number closest to zero. Use the trunc() and fix() functions\n",
    "Cắt ngắn\r\n",
    "Xóa số thập phân và trả về số float gần nhất với 0. Sử dụ chức năngng trunc ()và fix.."
   ]
  },
  {
   "cell_type": "code",
   "execution_count": 1,
   "id": "d6bf9be5-bfbf-49f2-af56-fdafb0e97e12",
   "metadata": {},
   "outputs": [
    {
     "name": "stdout",
     "output_type": "stream",
     "text": [
      "[-3.  3.]\n"
     ]
    }
   ],
   "source": [
    "# Truncate elements of following array:\n",
    "# Cắt bớt các phần tử của mảng sau:\n",
    "import numpy as np\n",
    "\n",
    "arr = np.trunc([-3.1666, 3.6667])\n",
    "\n",
    "print(arr)"
   ]
  },
  {
   "cell_type": "code",
   "execution_count": 2,
   "id": "78f66138-2ce1-431f-9e5f-c051c9d15823",
   "metadata": {},
   "outputs": [
    {
     "name": "stdout",
     "output_type": "stream",
     "text": [
      "[-3.  3.]\n"
     ]
    }
   ],
   "source": [
    "# Same example, using fix():\n",
    "# Ví dụ tương tự, sử dụng fix():\n",
    "import numpy as np\n",
    "\n",
    "arr = np.fix([-3.1666, 3.6667])\n",
    "\n",
    "print(arr)"
   ]
  },
  {
   "cell_type": "markdown",
   "id": "8dc84ed7-1da8-441b-8d6e-42a1355c49fb",
   "metadata": {},
   "source": [
    "Rounding\r\n",
    "The around() function increments preceding digit or decimal by 1 if >=5 else do nothing\n",
    "\r\n",
    "E.g. round off to 1 decimal point, 3.16666 is \n",
    "Làm tròn\r\n",
    "Hàm arou nd()tăng chữ số hoặc số thập phân đứng trước lên 1 nếu >=5 nếu không thì không làm g ả.\n",
    "\r\n",
    "Ví dụ làm tròn đến 1 chữ số thập phân thì 3,16666 l,23.2"
   ]
  },
  {
   "cell_type": "code",
   "execution_count": 3,
   "id": "4e29474e-da4a-45d8-a125-aefa5de8ad8c",
   "metadata": {},
   "outputs": [
    {
     "name": "stdout",
     "output_type": "stream",
     "text": [
      "3.17\n"
     ]
    }
   ],
   "source": [
    "# Round off 3.1666 to 2 decimal places:\n",
    "# Làm tròn 3,1666 đến 2 chữ số thập phân:\n",
    "import numpy as np\n",
    "\n",
    "arr = np.around(3.1666, 2)\n",
    "\n",
    "print(arr)"
   ]
  },
  {
   "cell_type": "markdown",
   "id": "40cf8484-3141-4d71-98d5-304709c44a47",
   "metadata": {},
   "source": [
    "Floor\r\n",
    "The floor() function rounds off decimal to nearest lower intege.\r\n",
    "E.g. floor of 3.166  3is\n",
    "Sàn nhà\r\n",
    "Hàm Floor() làm tròn số thập phân thành số nguyên thấp hơn gần nấ.\n",
    "\r\n",
    "Ví dụ tầng 3.166 . 3."
   ]
  },
  {
   "cell_type": "code",
   "execution_count": 4,
   "id": "6df8b74a-0bbc-42cb-9cd7-dbde723eba70",
   "metadata": {},
   "outputs": [
    {
     "name": "stdout",
     "output_type": "stream",
     "text": [
      "[-4.  3.]\n"
     ]
    }
   ],
   "source": [
    "# Floor the elements of following array:\n",
    "# Xếp tầng các phần tử của mảng sau:\n",
    "import numpy as np\n",
    "\n",
    "arr = np.floor([-3.1666, 3.6667])\n",
    "\n",
    "print(arr)"
   ]
  },
  {
   "cell_type": "markdown",
   "id": "4fe876f5-d2a9-4897-8643-840b492b5379",
   "metadata": {},
   "source": [
    "Ceil\r\n",
    "The ceil() function rounds off decimal to nearest upper intege.\r\n",
    "E.g. ceil of 3.166  4.4iCeilhà\r\n",
    "Hàm ceil() làm tròn số thập phân thành số nguyên trên gần nt.\n",
    "\r\n",
    "V ceilírần của 3.16  . 4."
   ]
  },
  {
   "cell_type": "code",
   "execution_count": 5,
   "id": "fafea9e1-069f-4f89-bc65-cc31dd0bd1e6",
   "metadata": {},
   "outputs": [
    {
     "name": "stdout",
     "output_type": "stream",
     "text": [
      "[-3.  4.]\n"
     ]
    }
   ],
   "source": [
    "# Ceil the elements of following array:\n",
    "# Che các phần tử của mảng sau:\n",
    "import numpy as np\n",
    "\n",
    "arr = np.ceil([-3.1666, 3.6667])\n",
    "\n",
    "print(arr)"
   ]
  },
  {
   "cell_type": "code",
   "execution_count": null,
   "id": "a8c4fb61-f09b-4045-931f-437ba1cfad05",
   "metadata": {},
   "outputs": [],
   "source": []
  }
 ],
 "metadata": {
  "kernelspec": {
   "display_name": "Python 3 (ipykernel)",
   "language": "python",
   "name": "python3"
  },
  "language_info": {
   "codemirror_mode": {
    "name": "ipython",
    "version": 3
   },
   "file_extension": ".py",
   "mimetype": "text/x-python",
   "name": "python",
   "nbconvert_exporter": "python",
   "pygments_lexer": "ipython3",
   "version": "3.11.7"
  }
 },
 "nbformat": 4,
 "nbformat_minor": 5
}
