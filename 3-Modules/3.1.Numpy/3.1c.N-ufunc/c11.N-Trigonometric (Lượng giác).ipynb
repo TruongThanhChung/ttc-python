{
 "cells": [
  {
   "cell_type": "markdown",
   "id": "e762081f-4a9a-4e96-952c-9722ab4f82f0",
   "metadata": {},
   "source": [
    "Trigonometric Functions\r\n",
    "NumPy provides the ufuncs sin(), cos() and tan() that take values in radians and produce the corresponding sin, cos and tan values\n",
    "Hàm lượng giác\r\n",
    "NumPy cung cấp ufuncs sin,và cos vàận tan nhận ()các giá trị tính bằng radian và tạo ra các giá trị sin, cos và tan tương ứ.."
   ]
  },
  {
   "cell_type": "code",
   "execution_count": 1,
   "id": "bb94bd68-772a-40d9-9617-c7bea195f07d",
   "metadata": {},
   "outputs": [
    {
     "name": "stdout",
     "output_type": "stream",
     "text": [
      "1.0\n"
     ]
    }
   ],
   "source": [
    "# Find sine value of PI/2:\n",
    "# Tìm giá trị sin của PI/2:\n",
    "import numpy as np\n",
    "\n",
    "x = np.sin(np.pi/2)\n",
    "\n",
    "print(x)"
   ]
  },
  {
   "cell_type": "code",
   "execution_count": 2,
   "id": "ea829bcf-c8be-4ca3-a5a0-98e2fb59f298",
   "metadata": {},
   "outputs": [
    {
     "name": "stdout",
     "output_type": "stream",
     "text": [
      "[1.         0.8660254  0.70710678 0.58778525]\n"
     ]
    }
   ],
   "source": [
    "# Find sine values for all of the values in arr:\n",
    "# Tìm giá trị sin cho tất cả các giá trị trong mảng:\n",
    "import numpy as np\n",
    "\n",
    "arr = np.array([np.pi/2, np.pi/3, np.pi/4, np.pi/5])\n",
    "\n",
    "x = np.sin(arr)\n",
    "\n",
    "print(x)"
   ]
  },
  {
   "cell_type": "markdown",
   "id": "ecb802bc-b3cd-418f-858c-0368e64dbf8f",
   "metadata": {},
   "source": [
    "Convert Degrees Into Radians\r\n",
    "By default all of the trigonometric functions take radians as parameters but we can convert radians to degrees and vice versa as well in NumPy\n",
    "Chuyển đổi độ thành radian\r\n",
    "Theo mặc định, tất cả các hàm lượng giác đều lấy radian làm tham số nhưng chúng ta có thể chuyển đổi radian sang độ và ngược lại trong Num.."
   ]
  },
  {
   "cell_type": "markdown",
   "id": "25993666-2e95-4dba-91f0-44da53b431e0",
   "metadata": {},
   "source": [
    "Note: radians values are pi/180 * degree_values\n",
    "Lưu ý: giá trị radian là pi/180 * Degree_values"
   ]
  },
  {
   "cell_type": "code",
   "execution_count": 3,
   "id": "99574cb3-a277-4d67-956e-2522a8bbc24c",
   "metadata": {},
   "outputs": [
    {
     "name": "stdout",
     "output_type": "stream",
     "text": [
      "[1.57079633 3.14159265 4.71238898 6.28318531]\n"
     ]
    }
   ],
   "source": [
    "# Convert all of the values in following array arr to radians:\n",
    "# Chuyển đổi tất cả các giá trị trong mảng mảng sau sang radian:\n",
    "import numpy as np\n",
    "\n",
    "arr = np.array([90, 180, 270, 360])\n",
    "\n",
    "x = np.deg2rad(arr)\n",
    "\n",
    "print(x)"
   ]
  },
  {
   "cell_type": "markdown",
   "id": "61cdb1ad-a00d-4f72-aaea-2623c6b8ed9a",
   "metadata": {},
   "source": [
    "Radians to Degrees\n",
    "Radian sang Độ"
   ]
  },
  {
   "cell_type": "code",
   "execution_count": 4,
   "id": "5382fe8f-02ab-4c96-a3f5-bc78bd6c058d",
   "metadata": {},
   "outputs": [
    {
     "name": "stdout",
     "output_type": "stream",
     "text": [
      "[ 90. 180. 270. 360.]\n"
     ]
    }
   ],
   "source": [
    "# Convert all of the values in following array arr to degrees:\n",
    "# Chuyển đổi tất cả các giá trị trong mảng mảng sau sang độ:\n",
    "import numpy as np\n",
    "\n",
    "arr = np.array([np.pi/2, np.pi, 1.5*np.pi, 2*np.pi])\n",
    "\n",
    "x = np.rad2deg(arr)\n",
    "\n",
    "print(x)"
   ]
  },
  {
   "cell_type": "markdown",
   "id": "ff67dc04-91d2-43a4-bc92-8d8ca5abb1a6",
   "metadata": {},
   "source": [
    "Finding Angles\r\n",
    "Finding angles from values of sine, cos, tan. E.g. sin, cos and tan inverse (arcsin, arccos, arctan).\r\n",
    "NumPy provides ufuncs arcsin(), arccos() and arctan() that produce radian values for corresponding sin, cos and tan values geniv\n",
    "Tìm góc\r\n",
    "Tìm các góc từ các giá trị của sin, cos, tan. Ví dụ: sin, cos và tan nghịch đảo (arcsin, arccos, arctn.\n",
    "\r\n",
    "NumPy cung cấp ufuncs arcs in()và tạo ra các giá trị radian cho các giá trị sin, cos và tan tương ứng đã)en."
   ]
  },
  {
   "cell_type": "code",
   "execution_count": 5,
   "id": "c45baff6-15cb-4d6b-952b-a18067fa68b6",
   "metadata": {},
   "outputs": [
    {
     "name": "stdout",
     "output_type": "stream",
     "text": [
      "1.5707963267948966\n"
     ]
    }
   ],
   "source": [
    "# Find the angle of 1.0:\n",
    "# Tìm góc 1,0:\n",
    "import numpy as np\n",
    "\n",
    "x = np.arcsin(1.0)\n",
    "\n",
    "print(x)"
   ]
  },
  {
   "cell_type": "markdown",
   "id": "b9641513-6f8a-4e07-8298-2b7139880e5e",
   "metadata": {},
   "source": [
    "Angles of Each Value in Arrays\n",
    "Góc của mỗi giá trị trong mảng"
   ]
  },
  {
   "cell_type": "code",
   "execution_count": 6,
   "id": "fdeee232-7412-4974-a6b2-edb84ee89e48",
   "metadata": {},
   "outputs": [
    {
     "name": "stdout",
     "output_type": "stream",
     "text": [
      "[ 1.57079633 -1.57079633  0.10016742]\n"
     ]
    }
   ],
   "source": [
    "# Find the angle for all of the sine values in the array\n",
    "# Tìm góc cho tất cả các giá trị sin trong mảng\n",
    "import numpy as np\n",
    "\n",
    "arr = np.array([1, -1, 0.1])\n",
    "\n",
    "x = np.arcsin(arr)\n",
    "\n",
    "print(x)"
   ]
  },
  {
   "cell_type": "markdown",
   "id": "fb6f4fe7-c921-4eb0-9be9-52f9c71a0f9a",
   "metadata": {},
   "source": [
    "Hypotenues\r\n",
    "Finding hypotenues using pythagoras theorem in NumPy\n",
    "\r\n",
    "NumPy provides the hypot() function that takes the base and perpendicular values and produces hypotenues based on pythagoras themeCr\n",
    "cạnh huyền\r\n",
    "Tìm cạnh huyền bằng định lý pythagoras trong NPy.\n",
    "\r\n",
    "NumPy cun hàmg cấphyp()hàm lấy các giá trị cơ sở và vuông góc rồi tạo ra các cạnh huyền dựa trên định lý pythas.em."
   ]
  },
  {
   "cell_type": "code",
   "execution_count": 7,
   "id": "01c8a780-073a-464e-aeee-69625e953dc5",
   "metadata": {},
   "outputs": [
    {
     "name": "stdout",
     "output_type": "stream",
     "text": [
      "5.0\n"
     ]
    }
   ],
   "source": [
    "# Find the hypotenues for 4 base and 3 perpendicular:\n",
    "# Tìm các cạnh huyền cho 4 đáy và 3 đường vuông góc:\n",
    "import numpy as np\n",
    "\n",
    "base = 3\n",
    "perp = 4\n",
    "\n",
    "x = np.hypot(base, perp)\n",
    "\n",
    "print(x)"
   ]
  },
  {
   "cell_type": "code",
   "execution_count": null,
   "id": "866cbdf6-1988-428d-bdeb-80658c6e092b",
   "metadata": {},
   "outputs": [],
   "source": []
  }
 ],
 "metadata": {
  "kernelspec": {
   "display_name": "Python 3 (ipykernel)",
   "language": "python",
   "name": "python3"
  },
  "language_info": {
   "codemirror_mode": {
    "name": "ipython",
    "version": 3
   },
   "file_extension": ".py",
   "mimetype": "text/x-python",
   "name": "python",
   "nbconvert_exporter": "python",
   "pygments_lexer": "ipython3",
   "version": "3.11.7"
  }
 },
 "nbformat": 4,
 "nbformat_minor": 5
}
