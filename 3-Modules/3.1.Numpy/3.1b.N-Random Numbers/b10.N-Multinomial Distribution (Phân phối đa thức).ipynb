{
 "cells": [
  {
   "cell_type": "markdown",
   "id": "8058bcb9-e842-43b5-a6e2-a6b3894a58ca",
   "metadata": {},
   "source": [
    "Multinomial Distribution\r\n",
    "Multinomial distribution is a generalization of binomial distribution.\n",
    "\r\n",
    "It describes outcomes of multi-nomial scenarios unlike binomial where scenarios must be only one of two. e.g. Blood type of a population, dice roll outcom.\r\n",
    "\r\n",
    "It has three parametrs:\r\n",
    "\r\n",
    "n - number of possible outcomes (e.g. 6 for dice oll).\r\n",
    "\r\n",
    "pvals - list of probabilties of outcomes (e.g. [1/6, 1/6, 1/6, 1/6, 1/6, 1/6] for dic roll).\r\n",
    "\r\n",
    "size - The shape of the retu\n",
    "Phân phối đa thức\r\n",
    "Phân phối đa thức là sự tổng quát hóa của phân phối nhị thức.\n",
    "\r\n",
    "Nó mô tả kết quả của các kịch bản đa thức không giống như nhị thức trong đó các kịch bản chỉ phải là một trong hai. ví dụ: Nhóm máu của dân số, kết quả tung xúc xắ.\r\n",
    "\r\n",
    "Nó có ba thamsố:\r\n",
    "\r\n",
    "n- số kết quả có thể xảy ra (ví dụ: 6 cho việc tung xúcxắc).\r\n",
    "\r\n",
    "pvals- danh sách xác suất của kết quả (ví dụ [1/6, 1/6, 1/6, 1/6, 1/6, 1/6] đối với việc tung xc xắc).\r\n",
    "\r\n",
    "size- Hình dạng của mảng trả về.rned array."
   ]
  },
  {
   "cell_type": "code",
   "execution_count": 1,
   "id": "8f27f028-1a79-40e4-87df-60e16e7b3a30",
   "metadata": {},
   "outputs": [
    {
     "name": "stdout",
     "output_type": "stream",
     "text": [
      "[1 1 1 1 2 0]\n"
     ]
    }
   ],
   "source": [
    "# Draw out a sample for dice roll:\n",
    "# Vẽ ra một mẫu cho việc tung xúc xắc:\n",
    "from numpy import random\n",
    "\n",
    "x = random.multinomial(n=6, pvals=[1/6, 1/6, 1/6, 1/6, 1/6, 1/6])\n",
    "\n",
    "print(x)"
   ]
  },
  {
   "cell_type": "markdown",
   "id": "a1855f55-1a01-48f3-bf36-2687573b6391",
   "metadata": {},
   "source": [
    "Note: Multinomial samples will NOT produce a single value! They will produce one value for each pval.\n",
    "Lưu ý: Các mẫu đa thức sẽ KHÔNG tạo ra một giá trị duy nhất! Họ sẽ tạo ra một giá trị cho mỗi pval."
   ]
  },
  {
   "cell_type": "markdown",
   "id": "b94e36a6-ee9f-4268-9f97-9b7e8baeea93",
   "metadata": {},
   "source": [
    "Note: As they are generalization of binomial distribution their visual representation and similarity of normal distribution is same as that of multiple binomial distributions.\n",
    "Lưu ý: Vì chúng là sự khái quát hóa của phân phối nhị thức nên cách trình bày trực quan và độ tương tự của phân phối chuẩn cũng giống như phân phối nhị thức."
   ]
  }
 ],
 "metadata": {
  "kernelspec": {
   "display_name": "Python 3 (ipykernel)",
   "language": "python",
   "name": "python3"
  },
  "language_info": {
   "codemirror_mode": {
    "name": "ipython",
    "version": 3
   },
   "file_extension": ".py",
   "mimetype": "text/x-python",
   "name": "python",
   "nbconvert_exporter": "python",
   "pygments_lexer": "ipython3",
   "version": "3.11.7"
  }
 },
 "nbformat": 4,
 "nbformat_minor": 5
}
