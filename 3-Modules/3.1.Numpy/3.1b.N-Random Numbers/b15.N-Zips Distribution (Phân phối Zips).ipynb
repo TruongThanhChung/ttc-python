{
 "cells": [
  {
   "cell_type": "markdown",
   "id": "5136d383-e791-45b4-8b6f-311036f825dd",
   "metadata": {},
   "source": [
    "Zipf distributions are used to sample data based on zipf's law.\n",
    "Phân phối Zipf được sử dụng để lấy mẫu dữ liệu dựa trên luật của zipf."
   ]
  },
  {
   "cell_type": "markdown",
   "id": "7b2b1d5e-79fa-42a9-ab4f-5440f9dd7444",
   "metadata": {},
   "source": [
    "Zipf's Law: In a collection, the nth common term is 1/n times of the most common term. E.g. the 5th most common word in English occurs nearly 1/5 times as often as the most common word.\n",
    "Định luật Zipf: Trong một tập hợp, số hạng chung thứ n bằng 1/n lần số hạng phổ biến nhất. Ví dụ: từ phổ biến thứ 5 trong tiếng Anh xuất hiện với tần suất gần gấp 1/5 lần so với từ phổ biến nhất."
   ]
  },
  {
   "cell_type": "markdown",
   "id": "824b291b-3f99-49e9-81f7-fcc10e17c68c",
   "metadata": {},
   "source": [
    "It has two parameters:\r",
    "\r\n",
    "a - distribution parameter\r\n",
    "\r\n",
    "size - The shape of the returned ar\n",
    "Nó có hai tham số:\r",
    "\r\n",
    "a- tham số phân phối\r\n",
    "\r\n",
    "size- Hình dạng của mảng trả về.ray."
   ]
  },
  {
   "cell_type": "code",
   "execution_count": 1,
   "id": "d7133541-685d-4f19-838c-44f6bf0e1675",
   "metadata": {},
   "outputs": [
    {
     "name": "stdout",
     "output_type": "stream",
     "text": [
      "[[2 1 2]\n",
      " [8 3 1]]\n"
     ]
    }
   ],
   "source": [
    "# Draw out a sample for zipf distribution with distribution parameter 2 with size 2x3:\n",
    "# Vẽ ra mẫu phân phối zipf với tham số phân phối 2 với kích thước 2x3:\n",
    "from numpy import random\n",
    "\n",
    "x = random.zipf(a=2, size=(2, 3))\n",
    "\n",
    "print(x)"
   ]
  },
  {
   "cell_type": "markdown",
   "id": "3a08126f-8a46-4453-b268-eac0ca7ad470",
   "metadata": {},
   "source": [
    "Visualization of Zipf Distribution\r\n",
    "Sample 1000 points but plotting only ones with value < 10 for more meaningful chart\n",
    "Trực quan hóa phân phối Zipf\r\n",
    "Lấy mẫu 1000 điểm nhưng chỉ vẽ những điểm có giá trị < 10 để có biểu đồ có ý nghĩa hơn.."
   ]
  },
  {
   "cell_type": "code",
   "execution_count": 2,
   "id": "e6fba9c0-0d29-43a9-8347-4acd06df5995",
   "metadata": {},
   "outputs": [
    {
     "name": "stderr",
     "output_type": "stream",
     "text": [
      "C:\\Users\\MrMoc\\AppData\\Local\\Temp\\ipykernel_15760\\49700214.py:6: UserWarning: \n",
      "\n",
      "`distplot` is a deprecated function and will be removed in seaborn v0.14.0.\n",
      "\n",
      "Please adapt your code to use either `displot` (a figure-level function with\n",
      "similar flexibility) or `histplot` (an axes-level function for histograms).\n",
      "\n",
      "For a guide to updating your code to use the new functions, please see\n",
      "https://gist.github.com/mwaskom/de44147ed2974457ad6372750bbe5751\n",
      "\n",
      "  sns.distplot(x[x<10], kde=False)\n"
     ]
    },
    {
     "data": {
      "image/png": "[encoded data removed]",
      "text/plain": [
       "<Figure size 640x480 with 1 Axes>"
      ]
     },
     "metadata": {},
     "output_type": "display_data"
    }
   ],
   "source": [
    "from numpy import random\n",
    "import matplotlib.pyplot as plt\n",
    "import seaborn as sns\n",
    "\n",
    "x = random.zipf(a=2, size=1000)\n",
    "sns.distplot(x[x<10], kde=False)\n",
    "\n",
    "plt.show()"
   ]
  },
  {
   "cell_type": "code",
   "execution_count": null,
   "id": "b207ae65-bb3f-4d8e-81d6-55b03be06b55",
   "metadata": {},
   "outputs": [],
   "source": []
  }
 ],
 "metadata": {
  "kernelspec": {
   "display_name": "Python 3 (ipykernel)",
   "language": "python",
   "name": "python3"
  },
  "language_info": {
   "codemirror_mode": {
    "name": "ipython",
    "version": 3
   },
   "file_extension": ".py",
   "mimetype": "text/x-python",
   "name": "python",
   "nbconvert_exporter": "python",
   "pygments_lexer": "ipython3",
   "version": "3.11.7"
  }
 },
 "nbformat": 4,
 "nbformat_minor": 5
}
