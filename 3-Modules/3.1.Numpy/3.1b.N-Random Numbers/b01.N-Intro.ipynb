{
 "cells": [
  {
   "cell_type": "markdown",
   "id": "98b1454a-c6f1-4a2d-8231-1560e911df69",
   "metadata": {},
   "source": [
    "What is a Random Number?\n",
    "Random number does NOT mean a different number every time. Random means something that can not be predicted logically.\n",
    "Số ngẫu nhiên là gì?\n",
    "Số ngẫu nhiên KHÔNG có nghĩa là một số khác nhau mỗi lần. Ngẫu nhiên có nghĩa là cái gì đó không thể dự đoán được một cách logic."
   ]
  },
  {
   "cell_type": "markdown",
   "id": "0c004add-c53f-4b3f-ac2c-16768e262b65",
   "metadata": {},
   "source": [
    "Pseudo Random and True Random.\n",
    "Computers work on programs, and programs are definitive set of instructions. So it means there must be some algorithm to generate a random number as well.\n",
    "If there is a program to generate random number it can be predicted, thus it is not truly random.\n",
    "Random numbers generated through a generation algorithm are called pseudo random.\n",
    "Can we make truly random numbers?\n",
    "Yes. In order to generate a truly random number on our computers we need to get the random data from some outside source. This outside source is generally our keystrokes, mouse movements, data on network etc.\n",
    "We do not need truly random numbers, unless it is related to security (e.g. encryption keys) or the basis of application is the randomness (e.g. Digital roulette wheels).\n",
    "In this tutorial we will be using pseudo random numbers.\n",
    "Giả ngẫu nhiên và ngẫu nhiên thực sự.\n",
    "Máy tính hoạt động trên các chương trình và chương trình là tập hợp các hướng dẫn dứt khoát. Vì vậy, điều đó có nghĩa là phải có một số thuật toán để tạo ra một số ngẫu nhiên.\n",
    "Nếu có một chương trình tạo số ngẫu nhiên thì nó có thể được dự đoán trước, do đó nó không thực sự ngẫu nhiên.\n",
    "Các số ngẫu nhiên được tạo thông qua thuật toán tạo được gọi là giả ngẫu nhiên .\n",
    "Chúng ta có thể tạo ra những con số thực sự ngẫu nhiên không?\n",
    "Đúng. Để tạo một số thực sự ngẫu nhiên trên máy tính của chúng tôi, chúng tôi cần lấy dữ liệu ngẫu nhiên từ một số nguồn bên ngoài. Nguồn bên ngoài này nói chung là các thao tác gõ phím, di chuyển chuột, dữ liệu trên mạng, v.v.\n",
    "Chúng ta không cần các số thực sự ngẫu nhiên, trừ khi nó liên quan đến bảo mật (ví dụ: khóa mã hóa) hoặc cơ sở ứng dụng là tính ngẫu nhiên (ví dụ: Bánh xe roulette kỹ thuật số).\n",
    "Trong hướng dẫn này, chúng tôi sẽ sử dụng các số giả ngẫu nhiên."
   ]
  },
  {
   "cell_type": "markdown",
   "id": "9cccf2d2-b009-4f4d-8248-bed42caef117",
   "metadata": {},
   "source": [
    "Generate Random Number\n",
    "NumPy offers the random module to work with random numbers.\n",
    "Tạo số ngẫu nhiên\n",
    "NumPy cung cấp random mô-đun để làm việc với các số ngẫu nhiên."
   ]
  },
  {
   "cell_type": "code",
   "execution_count": 1,
   "id": "c458fbde-321c-42cb-97df-d68b717359d4",
   "metadata": {},
   "outputs": [
    {
     "name": "stdout",
     "output_type": "stream",
     "text": [
      "54\n"
     ]
    }
   ],
   "source": [
    "# Generate a random integer from 0 to 100:\n",
    "# Tạo một số nguyên ngẫu nhiên từ 0 đến 100:\n",
    "from numpy import random\n",
    "\n",
    "x = random.randint(100)\n",
    "\n",
    "print(x)"
   ]
  },
  {
   "cell_type": "markdown",
   "id": "b7533d60-3b7b-4d49-b2b6-5caca8ff7be8",
   "metadata": {},
   "source": [
    "Generate Random Float\n",
    "The random module's rand() method returns a random float between 0 and 1.\n",
    "Tạo số thả nổi ngẫu nhiên\n",
    "Phương thức của mô-đun ngẫu nhiên rand() trả về một số float ngẫu nhiên trong khoảng từ 0 đến 1."
   ]
  },
  {
   "cell_type": "code",
   "execution_count": 3,
   "id": "368d8769-12c4-40f4-96a2-e60865735f20",
   "metadata": {},
   "outputs": [
    {
     "name": "stdout",
     "output_type": "stream",
     "text": [
      "0.699930066421852\n"
     ]
    }
   ],
   "source": [
    "# Generate a random float from 0 to 1:\n",
    "# Tạo một float ngẫu nhiên từ 0 đến 1:\n",
    "from numpy import random\n",
    "\n",
    "x = random.rand()\n",
    "\n",
    "print(x)"
   ]
  },
  {
   "cell_type": "markdown",
   "id": "6c5f8d91-d1f0-4ebe-b8f3-2be57af6a4ec",
   "metadata": {},
   "source": [
    "Generate Random Array\n",
    "In NumPy we work with arrays, and you can use the two methods from the above examples to make random arrays.\n",
    "Tạo mảng ngẫu nhiên\n",
    "Trong NumPy, chúng tôi làm việc với mảng và bạn có thể sử dụng hai phương thức từ các ví dụ trên để tạo các mảng ngẫu nhiên."
   ]
  },
  {
   "cell_type": "markdown",
   "id": "b0f677b1-d316-4fb5-8370-44f8d2d31e5f",
   "metadata": {},
   "source": [
    "Integers\n",
    "The randint() method takes a size parameter where you can specify the shape of an array.\n",
    "số nguyên\n",
    "Phương thức này randint() lấy một size tham số trong đó bạn có thể chỉ định hình dạng của một mảng."
   ]
  },
  {
   "cell_type": "code",
   "execution_count": 5,
   "id": "fe622070-22f7-401f-833a-8f8dd836df7b",
   "metadata": {},
   "outputs": [
    {
     "name": "stdout",
     "output_type": "stream",
     "text": [
      "[15 96 52  0  4]\n"
     ]
    }
   ],
   "source": [
    "# Generate a 1-D array containing 5 random integers from 0 to 100:\n",
    "# Tạo mảng 1-D chứa 5 số nguyên ngẫu nhiên từ 0 đến 100:\n",
    "from numpy import random\n",
    "\n",
    "x=random.randint(100, size=(5))\n",
    "\n",
    "print(x)"
   ]
  },
  {
   "cell_type": "code",
   "execution_count": 6,
   "id": "e64c0a86-ff6f-4449-8837-55c1b49194b6",
   "metadata": {},
   "outputs": [
    {
     "name": "stdout",
     "output_type": "stream",
     "text": [
      "[[54 50 77 90 11]\n",
      " [43 87 91 34 63]\n",
      " [37 70 35 23 14]]\n"
     ]
    }
   ],
   "source": [
    "# Generate a 2-D array with 3 rows, each row containing 5 random integers from 0 to 100:\n",
    "# Tạo mảng 2-D có 3 hàng, mỗi hàng chứa 5 số nguyên ngẫu nhiên từ 0 đến 100:\n",
    "from numpy import random\n",
    "\n",
    "x = random.randint(100, size=(3, 5))\n",
    "\n",
    "print(x)"
   ]
  },
  {
   "cell_type": "markdown",
   "id": "a1f82b44-8a44-4cd2-879e-55ec7cecdf08",
   "metadata": {},
   "source": [
    "Floats\n",
    "The rand() method also allows you to specify the shape of the array.\n",
    "Phao\n",
    "Phương thức này rand() cũng cho phép bạn chỉ định hình dạng của mảng."
   ]
  },
  {
   "cell_type": "code",
   "execution_count": 7,
   "id": "fae3a9c2-b4cf-4fe2-b7a4-161606c02c28",
   "metadata": {},
   "outputs": [
    {
     "name": "stdout",
     "output_type": "stream",
     "text": [
      "[0.88019886 0.62431668 0.55000025 0.12188767 0.30791572]\n"
     ]
    }
   ],
   "source": [
    "# Generate a 1-D array containing 5 random floats:\n",
    "# Tạo mảng 1-D chứa 5 số float ngẫu nhiên:\n",
    "from numpy import random\n",
    "\n",
    "x = random.rand(5)\n",
    "\n",
    "print(x)"
   ]
  },
  {
   "cell_type": "code",
   "execution_count": 8,
   "id": "ff5bf50e-4292-4e7b-94f6-0dd8bf93a1c2",
   "metadata": {},
   "outputs": [
    {
     "name": "stdout",
     "output_type": "stream",
     "text": [
      "[[0.15511102 0.6379079  0.90622137 0.5204201  0.85443972]\n",
      " [0.99390991 0.84986886 0.36530041 0.49217637 0.21877368]\n",
      " [0.046962   0.67053754 0.88893821 0.49864091 0.56410717]]\n"
     ]
    }
   ],
   "source": [
    "# Generate a 2-D array with 3 rows, each row containing 5 random numbers:\n",
    "# Tạo mảng 2-D có 3 hàng, mỗi hàng chứa 5 số ngẫu nhiên:\n",
    "from numpy import random\n",
    "\n",
    "x = random.rand(3, 5)\n",
    "\n",
    "print(x)"
   ]
  },
  {
   "cell_type": "markdown",
   "id": "6f18582f-3868-4ee2-8eec-3737bbf05968",
   "metadata": {},
   "source": [
    "Generate Random Number From Array\n",
    "The choice() method allows you to generate a random value based on an array of values.\n",
    "The choice() method takes an array as a parameter and randomly returns one of the values.\n",
    "Tạo số ngẫu nhiên từ mảng\n",
    "Phương pháp này choice() cho phép bạn tạo một giá trị ngẫu nhiên dựa trên một mảng các giá trị.\n",
    "Phương thức này choice() lấy một mảng làm tham số và trả về ngẫu nhiên một trong các giá trị."
   ]
  },
  {
   "cell_type": "code",
   "execution_count": 9,
   "id": "540f8205-6ea9-495e-abf3-a5931d6b9919",
   "metadata": {},
   "outputs": [
    {
     "name": "stdout",
     "output_type": "stream",
     "text": [
      "9\n"
     ]
    }
   ],
   "source": [
    "# Return one of the values in an array:\n",
    "# Trả về một trong các giá trị trong một mảng:\n",
    "from numpy import random\n",
    "\n",
    "x = random.choice([3, 5, 7, 9])\n",
    "\n",
    "print(x)"
   ]
  },
  {
   "cell_type": "markdown",
   "id": "d1ad9217-893e-4258-a4d1-305b3c58cf4d",
   "metadata": {},
   "source": [
    "The choice() method also allows you to return an array of values.\n",
    "Add a size parameter to specify the shape of the array.\n",
    "Phương thức này choice()cũng cho phép bạn trả về một mảng giá trị.\n",
    "Thêm một sizetham số để xác định hình dạng của mảng."
   ]
  },
  {
   "cell_type": "code",
   "execution_count": 10,
   "id": "56993f3e-2fdb-431e-a841-33a3704db673",
   "metadata": {},
   "outputs": [
    {
     "name": "stdout",
     "output_type": "stream",
     "text": [
      "[[3 3 9 7 7]\n",
      " [7 9 7 7 3]\n",
      " [3 9 9 7 5]]\n"
     ]
    }
   ],
   "source": [
    "# Generate a 2-D array that consists of the values in the array parameter (3, 5, 7, and 9):\n",
    "# Tạo mảng 2-D bao gồm các giá trị trong tham số mảng (3, 5, 7 và 9):\n",
    "from numpy import random\n",
    "\n",
    "x = random.choice([3, 5, 7, 9], size=(3, 5))\n",
    "\n",
    "print(x)"
   ]
  },
  {
   "cell_type": "code",
   "execution_count": null,
   "id": "e5914850-5653-4594-bb9a-67b1e4e4e8d0",
   "metadata": {},
   "outputs": [],
   "source": []
  }
 ],
 "metadata": {
  "kernelspec": {
   "display_name": "Python 3 (ipykernel)",
   "language": "python",
   "name": "python3"
  },
  "language_info": {
   "codemirror_mode": {
    "name": "ipython",
    "version": 3
   },
   "file_extension": ".py",
   "mimetype": "text/x-python",
   "name": "python",
   "nbconvert_exporter": "python",
   "pygments_lexer": "ipython3",
   "version": "3.12.3"
  }
 },
 "nbformat": 4,
 "nbformat_minor": 5
}
