{
 "cells": [
  {
   "cell_type": "markdown",
   "id": "1fcc3844-fe24-4993-9773-de5d7ee3c5df",
   "metadata": {},
   "source": [
    "Pareto Distribution\r\n",
    "A distribution following Pareto's law i.e. 80-20 distribution (20% factors cause 80% outcome).\n",
    "\r\n",
    "It has two paramete:\r\n",
    "\r\n",
    "a - shape parameer.\r\n",
    "\r\n",
    "size - The shape of the returned\n",
    "Phân phối Pareto\r\n",
    "Phân phối theo luật Pareto tức là phân phối 80-20 (20% yếu tố gây ra kết quả 80%).\n",
    "\r\n",
    "Nó có hai tham s:\r\n",
    "\r\n",
    "a- tham số hình dng.\r\n",
    "\r\n",
    "size- Hình dạng của mảng trả về. array."
   ]
  },
  {
   "cell_type": "code",
   "execution_count": 1,
   "id": "3406a4a6-0c87-4e36-baeb-7e2bf5a62511",
   "metadata": {},
   "outputs": [
    {
     "name": "stdout",
     "output_type": "stream",
     "text": [
      "[[0.38425342 0.84883192 0.07648116]\n",
      " [2.55330332 3.87842028 0.49720755]]\n"
     ]
    }
   ],
   "source": [
    "# Draw out a sample for pareto distribution with shape of 2 with size 2x3:\n",
    "# Vẽ mẫu phân bố pareto dạng số 2 với kích thước 2x3:\n",
    "from numpy import random\n",
    "\n",
    "x = random.pareto(a=2, size=(2, 3))\n",
    "\n",
    "print(x)"
   ]
  },
  {
   "cell_type": "markdown",
   "id": "11c368a4-0f67-493b-85da-945eee4eacff",
   "metadata": {},
   "source": [
    "Visualization of Pareto Distribution\n",
    "Trực quan hóa phân phối Pareto"
   ]
  },
  {
   "cell_type": "code",
   "execution_count": 2,
   "id": "572e5cdd-8b7f-4b62-9e73-ac502603bde1",
   "metadata": {},
   "outputs": [
    {
     "name": "stderr",
     "output_type": "stream",
     "text": [
      "C:\\Users\\MrMoc\\AppData\\Local\\Temp\\ipykernel_7604\\2884138889.py:5: UserWarning: \n",
      "\n",
      "`distplot` is a deprecated function and will be removed in seaborn v0.14.0.\n",
      "\n",
      "Please adapt your code to use either `displot` (a figure-level function with\n",
      "similar flexibility) or `histplot` (an axes-level function for histograms).\n",
      "\n",
      "For a guide to updating your code to use the new functions, please see\n",
      "https://gist.github.com/mwaskom/de44147ed2974457ad6372750bbe5751\n",
      "\n",
      "  sns.distplot(random.pareto(a=2, size=1000), kde=False)\n"
     ]
    },
    {
     "data": {
      "image/png": "[encoded data removed]",
      "text/plain": [
       "<Figure size 640x480 with 1 Axes>"
      ]
     },
     "metadata": {},
     "output_type": "display_data"
    }
   ],
   "source": [
    "from numpy import random\n",
    "import matplotlib.pyplot as plt\n",
    "import seaborn as sns\n",
    "\n",
    "sns.distplot(random.pareto(a=2, size=1000), kde=False)\n",
    "\n",
    "plt.show()"
   ]
  },
  {
   "cell_type": "code",
   "execution_count": null,
   "id": "27c408ef-44f5-4579-b571-66b4c5fe9c0e",
   "metadata": {},
   "outputs": [],
   "source": []
  }
 ],
 "metadata": {
  "kernelspec": {
   "display_name": "Python 3 (ipykernel)",
   "language": "python",
   "name": "python3"
  },
  "language_info": {
   "codemirror_mode": {
    "name": "ipython",
    "version": 3
   },
   "file_extension": ".py",
   "mimetype": "text/x-python",
   "name": "python",
   "nbconvert_exporter": "python",
   "pygments_lexer": "ipython3",
   "version": "3.11.7"
  }
 },
 "nbformat": 4,
 "nbformat_minor": 5
}
