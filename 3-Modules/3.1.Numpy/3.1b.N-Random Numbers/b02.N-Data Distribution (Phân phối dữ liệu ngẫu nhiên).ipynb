{
 "cells": [
  {
   "cell_type": "markdown",
   "id": "7a374c8a-3bd2-43a4-82ce-da0f5a9fb6f0",
   "metadata": {},
   "source": [
    "What is Data Distribution?\n",
    "Data Distribution is a list of all possible values, and how often each value occurs.\n",
    "Such lists are important when working with statistics and data science.\n",
    "The random module offer methods that returns randomly generated data distributions.\n",
    "Phân phối dữ liệu là gì?\n",
    "Phân phối dữ liệu là danh sách tất cả các giá trị có thể có và tần suất xuất hiện của mỗi giá trị.\n",
    "Danh sách như vậy rất quan trọng khi làm việc với thống kê và khoa học dữ liệu.\n",
    "Mô-đun ngẫu nhiên cung cấp các phương thức trả về phân phối dữ liệu được tạo ngẫu nhiên."
   ]
  },
  {
   "cell_type": "markdown",
   "id": "1fde9f58-8066-4a56-b42e-ef228e9d1349",
   "metadata": {},
   "source": [
    "Random Distribution\n",
    "A random distribution is a set of random numbers that follow a certain probability density function.\n",
    "Phân phối ngẫu nhiên\n",
    "Phân phối ngẫu nhiên là tập hợp các số ngẫu nhiên tuân theo một hàm mật độ xác suất nhất định ."
   ]
  },
  {
   "cell_type": "markdown",
   "id": "37630102-13ae-4761-9879-241d4d3856b3",
   "metadata": {},
   "source": [
    "Probability Density Function: A function that describes a continuous probability. i.e. probability of all values in an array.\n",
    "Hàm mật độ xác suất: Hàm mô tả xác suất liên tục. tức là xác suất của tất cả các giá trị trong một mảng."
   ]
  },
  {
   "cell_type": "markdown",
   "id": "848aa0ae-c138-4c54-9899-783b1e408773",
   "metadata": {},
   "source": [
    "We can generate random numbers based on defined probabilities using the choice() method of the random module.\n",
    "The choice() method allows us to specify the probability for each value.\n",
    "The probability is set by a number between 0 and 1, where 0 means that the value will never occur and 1 means that the value will always occur.\n",
    "Chúng ta có thể tạo các số ngẫu nhiên dựa trên xác suất xác định bằng choice()phương pháp của randommô-đun.\n",
    "Phương pháp này choice() cho phép chúng ta xác định xác suất cho từng giá trị.\n",
    "Xác suất được đặt bởi một số từ 0 đến 1, trong đó 0 có nghĩa là giá trị sẽ không bao giờ xuất hiện và 1 có nghĩa là giá trị sẽ luôn xuất hiện."
   ]
  },
  {
   "cell_type": "markdown",
   "id": "f0eebd2b-bdb0-4c2e-8383-75c1ed6660fe",
   "metadata": {},
   "source": [
    "ExampleGet your own Python Server\n",
    "Generate a 1-D array containing 100 values, where each value has to be 3, 5, 7 or 9.\n",
    "The probability for the value to be 3 is set to be 0.1\n",
    "The probability for the value to be 5 is set to be 0.3\n",
    "The probability for the value to be 7 is set to be 0.6\n",
    "The probability for the value to be 9 is set to be 0\n",
    "Tạo mảng 1-D chứa 100 giá trị, trong đó mỗi giá trị phải là 3, 5, 7 hoặc 9.\n",
    "Xác suất để giá trị là 3 được đặt là 0,1\n",
    "Xác suất để giá trị là 5 được đặt là 0,3\n",
    "Xác suất để giá trị là 7 được đặt là 0,6\n",
    "Xác suất để giá trị là 9 được đặt là 0"
   ]
  },
  {
   "cell_type": "code",
   "execution_count": 1,
   "id": "3594afaf-bfc1-4ae3-9919-da1f64c1cd71",
   "metadata": {},
   "outputs": [
    {
     "name": "stdout",
     "output_type": "stream",
     "text": [
      "[7 7 7 7 7 5 7 5 7 5 3 7 5 7 7 7 7 5 7 7 7 7 5 7 7 7 7 5 7 7 7 7 5 3 7 5 7\n",
      " 7 5 7 3 7 7 7 7 5 7 7 7 7 7 7 7 7 7 7 5 3 7 5 7 3 7 7 3 7 7 5 7 7 7 7 7 5\n",
      " 7 7 5 7 7 7 7 5 7 7 7 5 7 7 5 5 7 7 7 7 5 3 5 7 7 5]\n"
     ]
    }
   ],
   "source": [
    "from numpy import random\n",
    "\n",
    "x = random.choice([3, 5, 7, 9], p=[0.1, 0.3, 0.6, 0.0], size=(100))\n",
    "\n",
    "print(x)"
   ]
  },
  {
   "cell_type": "markdown",
   "id": "cc1c5b0e-5346-4544-bb5f-b88eef4a12fe",
   "metadata": {},
   "source": [
    "The sum of all probability numbers should be 1.\n",
    "Tổng của tất cả các số xác suất phải là 1."
   ]
  },
  {
   "cell_type": "markdown",
   "id": "c0eb9b77-cc53-4749-9c9b-a21281b51130",
   "metadata": {},
   "source": [
    "Even if you run the example above 100 times, the value 9 will never occur.\n",
    "You can return arrays of any shape and size by specifying the shape in the size parameter.\n",
    "Ngay cả khi bạn chạy ví dụ trên 100 lần, giá trị 9 sẽ không bao giờ xuất hiện.\n",
    "Bạn có thể trả về mảng có hình dạng và kích thước bất kỳ bằng cách chỉ định hình dạng trong tham số size."
   ]
  },
  {
   "cell_type": "code",
   "execution_count": 2,
   "id": "0348b14f-32b8-4fc7-b103-98c0019388cc",
   "metadata": {},
   "outputs": [
    {
     "name": "stdout",
     "output_type": "stream",
     "text": [
      "[[7 7 5 7 7]\n",
      " [5 7 5 5 5]\n",
      " [7 7 5 7 7]]\n"
     ]
    }
   ],
   "source": [
    "# Same example as above, but return a 2-D array with 3 rows, each containing 5 values.\n",
    "# Ví dụ tương tự như trên, nhưng trả về mảng 2-D có 3 hàng, mỗi hàng chứa 5 giá trị.\n",
    "from numpy import random\n",
    "\n",
    "x = random.choice([3, 5, 7, 9], p=[0.1, 0.3, 0.6, 0.0], size=(3, 5))\n",
    "\n",
    "print(x)"
   ]
  },
  {
   "cell_type": "code",
   "execution_count": null,
   "id": "3681ca6e-881b-4d3b-b358-311ff07363cf",
   "metadata": {},
   "outputs": [],
   "source": []
  },
  {
   "cell_type": "code",
   "execution_count": null,
   "id": "b2951eab-4c00-4dc0-b1bb-39edcb717159",
   "metadata": {},
   "outputs": [],
   "source": []
  }
 ],
 "metadata": {
  "kernelspec": {
   "display_name": "Python 3 (ipykernel)",
   "language": "python",
   "name": "python3"
  },
  "language_info": {
   "codemirror_mode": {
    "name": "ipython",
    "version": 3
   },
   "file_extension": ".py",
   "mimetype": "text/x-python",
   "name": "python",
   "nbconvert_exporter": "python",
   "pygments_lexer": "ipython3",
   "version": "3.12.3"
  }
 },
 "nbformat": 4,
 "nbformat_minor": 5
}
