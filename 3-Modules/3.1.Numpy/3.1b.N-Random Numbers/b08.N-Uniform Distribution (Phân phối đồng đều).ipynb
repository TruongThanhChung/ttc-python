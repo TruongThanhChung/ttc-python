{
 "cells": [
  {
   "cell_type": "markdown",
   "id": "e96c5f37-7bde-4054-9c91-712f04acdd90",
   "metadata": {},
   "source": [
    "Uniform Distribution\r\n",
    "Used to describe probability where every event has equal chances of occuring.\n",
    "\r\n",
    "E.g. Generation of random number.\r\n",
    "\r\n",
    "It has three parametrs:\r\n",
    "\r\n",
    "a - lower bound - default0 .0.\r\n",
    "\r\n",
    "b - upper bound - defalt 1.0.\r\n",
    "\r\n",
    "size - The shape of the retu\n",
    "Phân bố đồng đều\r\n",
    "Được sử dụng để mô tả xác suất trong đó mọi sự kiện đều có cơ hội xảy ra như nhau.\n",
    "\r\n",
    "Ví dụ: Tạo số ngẫu nhiê.\r\n",
    "\r\n",
    "Nó có ba thamsố:\r\n",
    "\r\n",
    "a- giới hạn dưới - mặc định0 .0.\r\n",
    "\r\n",
    "b- giới hạn trên - mặc đnh 1.0.\r\n",
    "\r\n",
    "size- Hình dạng của mảng trả về.rned array."
   ]
  },
  {
   "cell_type": "code",
   "execution_count": 1,
   "id": "74798ed2-c360-43e8-8e88-c6663cfd56f1",
   "metadata": {},
   "outputs": [
    {
     "name": "stdout",
     "output_type": "stream",
     "text": [
      "[[0.5476561  0.69751796 0.17776903]\n",
      " [0.51802277 0.33326444 0.62494329]]\n"
     ]
    }
   ],
   "source": [
    "# Create a 2x3 uniform distribution sample:\n",
    "# Tạo mẫu phân phối đồng đều 2x3:\n",
    "from numpy import random\n",
    "\n",
    "x = random.uniform(size=(2, 3))\n",
    "\n",
    "print(x)"
   ]
  },
  {
   "cell_type": "markdown",
   "id": "249c2a4c-ead0-475c-893b-5c1c15525afd",
   "metadata": {},
   "source": [
    "Visualization of Uniform Distribution\n",
    "Trực quan hóa phân phối thống nhất\n",
    "from numpy import random\r\n",
    "import matplotlib.pyplot as plt\r\n",
    "import seaborn as sns\r\n",
    "\r\n",
    "sns.distplot(random.uniform(size=1000), hist=False)\r\n",
    "\r\n",
    "plt.show()"
   ]
  },
  {
   "cell_type": "code",
   "execution_count": null,
   "id": "9a6a9c19-103e-4832-b036-80dfbef527db",
   "metadata": {},
   "outputs": [],
   "source": []
  }
 ],
 "metadata": {
  "kernelspec": {
   "display_name": "Python 3 (ipykernel)",
   "language": "python",
   "name": "python3"
  },
  "language_info": {
   "codemirror_mode": {
    "name": "ipython",
    "version": 3
   },
   "file_extension": ".py",
   "mimetype": "text/x-python",
   "name": "python",
   "nbconvert_exporter": "python",
   "pygments_lexer": "ipython3",
   "version": "3.11.7"
  }
 },
 "nbformat": 4,
 "nbformat_minor": 5
}
