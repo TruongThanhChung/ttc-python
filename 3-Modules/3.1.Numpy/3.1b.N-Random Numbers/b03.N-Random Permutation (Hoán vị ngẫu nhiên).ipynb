{
 "cells": [
  {
   "cell_type": "markdown",
   "id": "870597ab-1ab2-4f95-96a3-86b80145369e",
   "metadata": {},
   "source": [
    "Random Permutations of Elements\n",
    "A permutation refers to an arrangement of elements. e.g. [3, 2, 1] is a permutation of [1, 2, 3] and vice-versa.\n",
    "The NumPy Random module provides two methods for this: shuffle() and permutation().\n",
    "Hoán vị ngẫu nhiên của các phần tử\n",
    "Một hoán vị đề cập đến sự sắp xếp của các phần tử. ví dụ [3, 2, 1] là hoán vị của [1, 2, 3] và ngược lại.\n",
    "Mô-đun NumPy Random cung cấp hai phương thức cho việc này: shuffle() và permutation()."
   ]
  },
  {
   "cell_type": "markdown",
   "id": "d5fca76c-78b1-44d0-83dd-6c7cce32389b",
   "metadata": {},
   "source": [
    "Shuffling Arrays\n",
    "Shuffle means changing arrangement of elements in-place. i.e. in the array itself.\n",
    "Xáo trộn mảng\n",
    "Xáo trộn có nghĩa là thay đổi cách sắp xếp các phần tử tại chỗ. tức là trong chính mảng đó."
   ]
  },
  {
   "cell_type": "code",
   "execution_count": 2,
   "id": "3f481316-a2b3-45cc-bbbd-89692421dec0",
   "metadata": {},
   "outputs": [
    {
     "name": "stdout",
     "output_type": "stream",
     "text": [
      "[2 4 1 5 3]\n"
     ]
    }
   ],
   "source": [
    "# Randomly shuffle elements of following array:\n",
    "# Xáo trộn ngẫu nhiên các phần tử của mảng sau:\n",
    "from numpy import random\n",
    "import numpy as np\n",
    "\n",
    "arr = np.array([1, 2, 3, 4, 5])\n",
    "\n",
    "random.shuffle(arr)\n",
    "\n",
    "print(arr)"
   ]
  },
  {
   "cell_type": "markdown",
   "id": "b4e4cc50-8dd5-4422-a881-78c2cfb3ca37",
   "metadata": {},
   "source": [
    "The shuffle() method makes changes to the original array.\n",
    "Phương thức này shuffle()thực hiện các thay đổi đối với mảng ban đầu."
   ]
  },
  {
   "cell_type": "markdown",
   "id": "404e0bf7-01c8-449e-92c3-90deb09ec573",
   "metadata": {},
   "source": [
    "Generating Permutation of Arrays\n",
    "Tạo hoán vị của mảng"
   ]
  },
  {
   "cell_type": "code",
   "execution_count": 5,
   "id": "63c87fee-7b84-4ac7-8043-a455edabdb46",
   "metadata": {},
   "outputs": [
    {
     "name": "stdout",
     "output_type": "stream",
     "text": [
      "[4 5 1 2 3]\n"
     ]
    }
   ],
   "source": [
    "# Generate a random permutation of elements of following array:\n",
    "# Tạo một hoán vị ngẫu nhiên các phần tử của mảng sau:\n",
    "from numpy import random\n",
    "import numpy as np\n",
    "\n",
    "arr = np.array([1, 2, 3, 4, 5])\n",
    "\n",
    "print(random.permutation(arr))"
   ]
  },
  {
   "cell_type": "markdown",
   "id": "1ba12e89-95cc-4b19-b173-bbf04c52d96d",
   "metadata": {},
   "source": [
    "The permutation(), method returns a re-arranged array (and leaves the original array un-changed).\n",
    "permutation(), Phương thức này trả về một mảng được sắp xếp lại (và giữ nguyên mảng ban đầu)."
   ]
  },
  {
   "cell_type": "code",
   "execution_count": null,
   "id": "37ab40c8-61b7-48a6-826a-aec93af75d53",
   "metadata": {},
   "outputs": [],
   "source": []
  }
 ],
 "metadata": {
  "kernelspec": {
   "display_name": "Python 3 (ipykernel)",
   "language": "python",
   "name": "python3"
  },
  "language_info": {
   "codemirror_mode": {
    "name": "ipython",
    "version": 3
   },
   "file_extension": ".py",
   "mimetype": "text/x-python",
   "name": "python",
   "nbconvert_exporter": "python",
   "pygments_lexer": "ipython3",
   "version": "3.12.3"
  }
 },
 "nbformat": 4,
 "nbformat_minor": 5
}
