{
 "cells": [
  {
   "cell_type": "markdown",
   "id": "a4e2cac2-30ae-4f77-ac6b-c655eb1f2364",
   "metadata": {},
   "source": [
    "Splitting NumPy Arrays\n",
    "Splitting is reverse operation of Joining.\n",
    "Joining merges multiple arrays into one and Splitting breaks one array into multiple.\n",
    "We use array_split() for splitting arrays, we pass it the array we want to split and the number of splits.\n",
    "Tách mảng NumPy\n",
    "Tách là hoạt động ngược lại của Nối.\n",
    "Việc nối sẽ hợp nhất nhiều mảng thành một và Tách sẽ chia một mảng thành nhiều mảng.\n",
    "Chúng tôi sử dụng array_split() để chia mảng, chúng tôi chuyển cho nó mảng chúng tôi muốn chia và số lần chia."
   ]
  },
  {
   "cell_type": "code",
   "execution_count": 1,
   "id": "51387f1c-24b9-4c1d-a0d6-5f51fdeb84ab",
   "metadata": {},
   "outputs": [
    {
     "name": "stdout",
     "output_type": "stream",
     "text": [
      "[array([1, 2]), array([3, 4]), array([5, 6])]\n"
     ]
    }
   ],
   "source": [
    "# Split the array in 3 parts:\n",
    "# Chia mảng thành 3 phần:\n",
    "import numpy as np\n",
    "\n",
    "arr = np.array([1, 2, 3, 4, 5, 6])\n",
    "\n",
    "newarr = np.array_split(arr, 3)\n",
    "\n",
    "print(newarr)"
   ]
  },
  {
   "cell_type": "markdown",
   "id": "87ce30e4-f761-44e9-a96f-885d2163da63",
   "metadata": {},
   "source": [
    "Note: The return value is a list containing three arrays.\n",
    "Lưu ý: Giá trị trả về là danh sách chứa ba mảng."
   ]
  },
  {
   "cell_type": "markdown",
   "id": "9aec6e53-bcdb-4714-837a-f1ea60638559",
   "metadata": {},
   "source": [
    "If the array has less elements than required, it will adjust from the end accordingly.\n",
    "Nếu mảng có ít phần tử hơn yêu cầu thì nó sẽ điều chỉnh từ cuối cho phù hợp."
   ]
  },
  {
   "cell_type": "code",
   "execution_count": 2,
   "id": "2d9e2252-70e2-42df-a377-f0a794bfe052",
   "metadata": {},
   "outputs": [
    {
     "name": "stdout",
     "output_type": "stream",
     "text": [
      "[array([1, 2]), array([3, 4]), array([5]), array([6])]\n"
     ]
    }
   ],
   "source": [
    "# Split the array in 4 parts:\n",
    "# Chia mảng thành 4 phần:\n",
    "import numpy as np\n",
    "\n",
    "arr = np.array([1, 2, 3, 4, 5, 6])\n",
    "\n",
    "newarr = np.array_split(arr, 4)\n",
    "\n",
    "print(newarr)"
   ]
  },
  {
   "cell_type": "markdown",
   "id": "461c31ec-0f6c-45b0-8f47-44617c360bb7",
   "metadata": {},
   "source": [
    "Note: We also have the method split() available but it will not adjust the elements when elements are less in source array for splitting like in example above, array_split() worked properly but split() would fail.\n",
    "Lưu ý: Chúng tôi cũng có sẵn phương thức split() này nhưng nó sẽ không điều chỉnh các phần tử khi các phần tử ít hơn trong mảng nguồn để phân tách như ví dụ trên, array_split() hoạt động bình thường nhưng split() sẽ thất bại."
   ]
  },
  {
   "cell_type": "markdown",
   "id": "efb1c9fb-23a4-4fd2-8799-bd0d57158782",
   "metadata": {},
   "source": [
    "Split Into Arrays\n",
    "The return value of the array_split() method is an array containing each of the split as an array.\n",
    "If you split an array into 3 arrays, you can access them from the result just like any array element:\n",
    "Chia thành mảng\n",
    "Giá trị trả về của phương thức array_split() là một mảng chứa mỗi phần tách dưới dạng một mảng.\n",
    "Nếu bạn chia một mảng thành 3 mảng, bạn có thể truy cập chúng từ kết quả giống như bất kỳ phần tử mảng nào:"
   ]
  },
  {
   "cell_type": "code",
   "execution_count": 3,
   "id": "d0437b26-fcd4-4416-8c76-fb4e7d6bee31",
   "metadata": {},
   "outputs": [
    {
     "name": "stdout",
     "output_type": "stream",
     "text": [
      "[1 2]\n",
      "[3 4]\n",
      "[5 6]\n"
     ]
    }
   ],
   "source": [
    "# Access the splitted arrays:\n",
    "# Truy cập các mảng được chia:\n",
    "import numpy as np\n",
    "\n",
    "arr = np.array([1, 2, 3, 4, 5, 6])\n",
    "\n",
    "newarr = np.array_split(arr, 3)\n",
    "\n",
    "print(newarr[0])\n",
    "print(newarr[1])\n",
    "print(newarr[2])"
   ]
  },
  {
   "cell_type": "markdown",
   "id": "296afefd-4807-473e-8c0e-c38ee81f1ab1",
   "metadata": {},
   "source": [
    "Splitting 2-D Arrays\n",
    "Use the same syntax when splitting 2-D arrays.\n",
    "Use the array_split() method, pass in the array you want to split and the number of splits you want to do.\n",
    "Tách mảng 2-D\n",
    "Sử dụng cú pháp tương tự khi tách mảng 2-D.\n",
    "Sử dụng phương thức array_split(), chuyển vào mảng bạn muốn chia và số lần chia bạn muốn thực hiện."
   ]
  },
  {
   "cell_type": "code",
   "execution_count": 4,
   "id": "3a661475-35f8-4cf4-bb72-5304355884e3",
   "metadata": {},
   "outputs": [
    {
     "name": "stdout",
     "output_type": "stream",
     "text": [
      "[array([[1, 2],\n",
      "       [3, 4]]), array([[5, 6],\n",
      "       [7, 8]]), array([[ 9, 10],\n",
      "       [11, 12]])]\n"
     ]
    }
   ],
   "source": [
    "# Split the 2-D array into three 2-D arrays.\n",
    "# Chia mảng 2-D thành ba mảng 2-D.\n",
    "import numpy as np\n",
    "\n",
    "arr = np.array([[1, 2], [3, 4], [5, 6], [7, 8], [9, 10], [11, 12]])\n",
    "\n",
    "newarr = np.array_split(arr, 3)\n",
    "\n",
    "print(newarr)"
   ]
  },
  {
   "cell_type": "markdown",
   "id": "330ede15-4701-44fe-9fc9-603f3de04bac",
   "metadata": {},
   "source": [
    "The example above returns three 2-D arrays.\n",
    "Let's look at another example, this time each element in the 2-D arrays contains 3 elements.\n",
    "Ví dụ trên trả về ba mảng 2-D.\n",
    "Hãy xem một ví dụ khác, lần này mỗi phần tử trong mảng 2-D chứa 3 phần tử."
   ]
  },
  {
   "cell_type": "code",
   "execution_count": 5,
   "id": "a672ec68-324e-410b-adbc-adbc45b0741d",
   "metadata": {},
   "outputs": [
    {
     "name": "stdout",
     "output_type": "stream",
     "text": [
      "[array([[1, 2, 3],\n",
      "       [4, 5, 6]]), array([[ 7,  8,  9],\n",
      "       [10, 11, 12]]), array([[13, 14, 15],\n",
      "       [16, 17, 18]])]\n"
     ]
    }
   ],
   "source": [
    "# Split the 2-D array into three 2-D arrays.\n",
    "# Chia mảng 2-D thành ba mảng 2-D.\n",
    "import numpy as np\n",
    "\n",
    "arr = np.array([[1, 2, 3], [4, 5, 6], [7, 8, 9], [10, 11, 12], [13, 14, 15], [16, 17, 18]])\n",
    "\n",
    "newarr = np.array_split(arr, 3)\n",
    "\n",
    "print(newarr)"
   ]
  },
  {
   "cell_type": "markdown",
   "id": "59491e2e-3a00-4e7c-ba8f-1b94bf228f1a",
   "metadata": {},
   "source": [
    "The example above returns three 2-D arrays.\n",
    "In addition, you can specify which axis you want to do the split around.\n",
    "The example below also returns three 2-D arrays, but they are split along the row (axis=1).\n",
    "Ví dụ trên trả về ba mảng 2-D.\n",
    "Ngoài ra, bạn có thể chỉ định trục nào bạn muốn thực hiện phân chia.\n",
    "Ví dụ bên dưới cũng trả về ba mảng 2-D nhưng chúng được chia dọc theo hàng (trục=1)."
   ]
  },
  {
   "cell_type": "code",
   "execution_count": 6,
   "id": "9f4ede60-2fdc-4eec-b5ee-c4f0458d1f03",
   "metadata": {},
   "outputs": [
    {
     "name": "stdout",
     "output_type": "stream",
     "text": [
      "[array([[ 1],\n",
      "       [ 4],\n",
      "       [ 7],\n",
      "       [10],\n",
      "       [13],\n",
      "       [16]]), array([[ 2],\n",
      "       [ 5],\n",
      "       [ 8],\n",
      "       [11],\n",
      "       [14],\n",
      "       [17]]), array([[ 3],\n",
      "       [ 6],\n",
      "       [ 9],\n",
      "       [12],\n",
      "       [15],\n",
      "       [18]])]\n"
     ]
    }
   ],
   "source": [
    "# Split the 2-D array into three 2-D arrays along rows.\n",
    "# Chia mảng 2-D thành ba mảng 2-D dọc theo hàng.\n",
    "import numpy as np\n",
    "\n",
    "arr = np.array([[1, 2, 3], [4, 5, 6], [7, 8, 9], [10, 11, 12], [13, 14, 15], [16, 17, 18]])\n",
    "\n",
    "newarr = np.array_split(arr, 3, axis=1)\n",
    "\n",
    "print(newarr)"
   ]
  },
  {
   "cell_type": "markdown",
   "id": "8e2b87db-bd61-4519-9ece-30bade16b703",
   "metadata": {},
   "source": [
    "An alternate solution is using hsplit() opposite of hstack()\n",
    "Một giải pháp thay thế là sử dụng hsplit() ngược lại hstack()"
   ]
  },
  {
   "cell_type": "code",
   "execution_count": 7,
   "id": "0f33a47c-6ea5-496a-a789-c8ab658244c2",
   "metadata": {},
   "outputs": [
    {
     "name": "stdout",
     "output_type": "stream",
     "text": [
      "[array([[ 1],\n",
      "       [ 4],\n",
      "       [ 7],\n",
      "       [10],\n",
      "       [13],\n",
      "       [16]]), array([[ 2],\n",
      "       [ 5],\n",
      "       [ 8],\n",
      "       [11],\n",
      "       [14],\n",
      "       [17]]), array([[ 3],\n",
      "       [ 6],\n",
      "       [ 9],\n",
      "       [12],\n",
      "       [15],\n",
      "       [18]])]\n"
     ]
    }
   ],
   "source": [
    "# Use the hsplit() method to split the 2-D array into three 2-D arrays along rows.\n",
    "# Sử dụng phương thức hsplit() để chia mảng 2-D thành ba mảng 2-D dọc theo hàng.\n",
    "import numpy as np\n",
    "\n",
    "arr = np.array([[1, 2, 3], [4, 5, 6], [7, 8, 9], [10, 11, 12], [13, 14, 15], [16, 17, 18]])\n",
    "\n",
    "newarr = np.hsplit(arr, 3)\n",
    "\n",
    "print(newarr)"
   ]
  },
  {
   "cell_type": "markdown",
   "id": "cf86c7d0-a321-47e7-9276-8efaa48c5689",
   "metadata": {},
   "source": [
    "Note: Similar alternates to vstack() and dstack() are available as vsplit() and dsplit().\n",
    "Lưu ý: Các lựa chọn thay thế tương tự vstack()và dstack() có sẵn dưới dạng vsplit() và dsplit()."
   ]
  }
 ],
 "metadata": {
  "kernelspec": {
   "display_name": "Python 3 (ipykernel)",
   "language": "python",
   "name": "python3"
  },
  "language_info": {
   "codemirror_mode": {
    "name": "ipython",
    "version": 3
   },
   "file_extension": ".py",
   "mimetype": "text/x-python",
   "name": "python",
   "nbconvert_exporter": "python",
   "pygments_lexer": "ipython3",
   "version": "3.11.7"
  }
 },
 "nbformat": 4,
 "nbformat_minor": 5
}
