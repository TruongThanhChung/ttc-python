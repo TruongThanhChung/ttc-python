{
 "cells": [
  {
   "cell_type": "markdown",
   "id": "5f0bd797-fe0d-40a6-a9ea-4eaec7f1a3ed",
   "metadata": {},
   "source": [
    "Joining NumPy Arrays\n",
    "Joining means putting contents of two or more arrays in a single array.\n",
    "In SQL we join tables based on a key, whereas in NumPy we join arrays by axes.\n",
    "We pass a sequence of arrays that we want to join to the concatenate() function, along with the axis. If axis is not explicitly passed, it is taken as 0.\n",
    "Tham gia mảng NumPy\n",
    "Nối có nghĩa là đặt nội dung của hai hoặc nhiều mảng vào một mảng duy nhất.\n",
    "Trong SQL, chúng ta nối các bảng dựa trên một khóa, trong khi ở NumPy, chúng ta nối các mảng theo trục.\n",
    "Chúng ta chuyển một chuỗi các mảng mà chúng ta muốn nối vào concatenate() hàm, cùng với trục. Nếu trục không được truyền rõ ràng thì nó được lấy bằng 0."
   ]
  },
  {
   "cell_type": "code",
   "execution_count": 1,
   "id": "ddc5579f-47b0-4d12-bca4-b8bdb5b7e1f2",
   "metadata": {},
   "outputs": [
    {
     "name": "stdout",
     "output_type": "stream",
     "text": [
      "[1 2 3 4 5 6]\n"
     ]
    }
   ],
   "source": [
    "# Join two arrays\n",
    "# Nối hai mảng\n",
    "import numpy as np\n",
    "\n",
    "arr1 = np.array([1, 2, 3])\n",
    "\n",
    "arr2 = np.array([4, 5, 6])\n",
    "\n",
    "arr = np.concatenate((arr1, arr2))\n",
    "\n",
    "print(arr)"
   ]
  },
  {
   "cell_type": "code",
   "execution_count": 2,
   "id": "56a1fe02-8787-4880-99b4-6c53bce52457",
   "metadata": {},
   "outputs": [
    {
     "name": "stdout",
     "output_type": "stream",
     "text": [
      "[[1 2 5 6]\n",
      " [3 4 7 8]]\n"
     ]
    }
   ],
   "source": [
    "# Join two 2-D arrays along rows (axis=1):\n",
    "# Nối hai mảng 2-D dọc theo hàng (trục=1):\n",
    "import numpy as np\n",
    "\n",
    "arr1 = np.array([[1, 2], [3, 4]])\n",
    "\n",
    "arr2 = np.array([[5, 6], [7, 8]])\n",
    "\n",
    "arr = np.concatenate((arr1, arr2), axis=1)\n",
    "\n",
    "print(arr)"
   ]
  },
  {
   "cell_type": "markdown",
   "id": "42a3d4d4-43fe-4420-af9a-c382bb25c433",
   "metadata": {},
   "source": [
    "Joining Arrays Using Stack Functions\n",
    "Stacking is same as concatenation, the only difference is that stacking is done along a new axis.\n",
    "We can concatenate two 1-D arrays along the second axis which would result in putting them one over the other, ie. stacking.\n",
    "We pass a sequence of arrays that we want to join to the stack() method along with the axis. If axis is not explicitly passed it is taken as 0.\n",
    "Nối các mảng bằng hàm ngăn xếp\n",
    "Xếp chồng cũng giống như ghép nối, điểm khác biệt duy nhất là việc xếp chồng được thực hiện dọc theo một trục mới.\n",
    "Chúng ta có thể ghép hai mảng 1-D dọc theo trục thứ hai, điều này sẽ dẫn đến việc đặt chúng chồng lên nhau, tức là. xếp chồng.\n",
    "Chúng ta chuyển một chuỗi các mảng mà chúng ta muốn nối vào phương stack() thức cùng với trục. Nếu trục không được thông qua một cách rõ ràng thì nó được coi là 0."
   ]
  },
  {
   "cell_type": "code",
   "execution_count": 3,
   "id": "03ea2ddd-a357-4043-8351-da6608eed02c",
   "metadata": {},
   "outputs": [
    {
     "name": "stdout",
     "output_type": "stream",
     "text": [
      "[[1 4]\n",
      " [2 5]\n",
      " [3 6]]\n"
     ]
    }
   ],
   "source": [
    "import numpy as np\n",
    "\n",
    "arr1 = np.array([1, 2, 3])\n",
    "\n",
    "arr2 = np.array([4, 5, 6])\n",
    "\n",
    "arr = np.stack((arr1, arr2), axis=1)\n",
    "\n",
    "print(arr)"
   ]
  },
  {
   "cell_type": "markdown",
   "id": "98126e59-d575-42c2-a3a0-e578626d312c",
   "metadata": {},
   "source": [
    "Stacking Along Rows\n",
    "NumPy provides a helper function: hstack() to stack along rows.\n",
    "Xếp chồng dọc theo hàng\n",
    "NumPy cung cấp chức năng trợ giúp: hstack() xếp chồng dọc theo các hàng."
   ]
  },
  {
   "cell_type": "code",
   "execution_count": 4,
   "id": "ef675a75-2905-452a-9c10-88ddb8632f74",
   "metadata": {},
   "outputs": [
    {
     "name": "stdout",
     "output_type": "stream",
     "text": [
      "[1 2 3 4 5 6]\n"
     ]
    }
   ],
   "source": [
    "import numpy as np\n",
    "\n",
    "arr1 = np.array([1, 2, 3])\n",
    "\n",
    "arr2 = np.array([4, 5, 6])\n",
    "\n",
    "arr = np.hstack((arr1, arr2))\n",
    "\n",
    "print(arr)\n"
   ]
  },
  {
   "cell_type": "markdown",
   "id": "43ce3446-96ad-4c8c-8332-f9bd087cbe7c",
   "metadata": {},
   "source": [
    "Stacking Along Columns\n",
    "NumPy provides a helper function: vstack()  to stack along columns.\n",
    "Xếp chồng dọc theo cột\n",
    "NumPy cung cấp chức năng trợ giúp: vstack()  xếp chồng dọc theo các cột."
   ]
  },
  {
   "cell_type": "code",
   "execution_count": 5,
   "id": "67389154-325e-44c6-9f72-b982ea09256a",
   "metadata": {},
   "outputs": [
    {
     "name": "stdout",
     "output_type": "stream",
     "text": [
      "[[1 2 3]\n",
      " [4 5 6]]\n"
     ]
    }
   ],
   "source": [
    "import numpy as np\n",
    "\n",
    "arr1 = np.array([1, 2, 3])\n",
    "\n",
    "arr2 = np.array([4, 5, 6])\n",
    "\n",
    "arr = np.vstack((arr1, arr2))\n",
    "\n",
    "print(arr)"
   ]
  },
  {
   "cell_type": "markdown",
   "id": "59cbfd64-0218-4cd8-b7f9-690ca3ed134e",
   "metadata": {},
   "source": [
    "Stacking Along Height (depth)\n",
    "NumPy provides a helper function: dstack() to stack along height, which is the same as depth.\n",
    "Xếp chồng theo chiều cao (chiều sâu)\n",
    "NumPy cung cấp chức năng trợ giúp: dstack() xếp chồng theo chiều cao, tương đương với chiều sâu."
   ]
  },
  {
   "cell_type": "code",
   "execution_count": 6,
   "id": "cb23a87e-62a5-4dad-8d5c-c10966855b70",
   "metadata": {},
   "outputs": [
    {
     "name": "stdout",
     "output_type": "stream",
     "text": [
      "[[[1 4]\n",
      "  [2 5]\n",
      "  [3 6]]]\n"
     ]
    }
   ],
   "source": [
    "import numpy as np\n",
    "\n",
    "arr1 = np.array([1, 2, 3])\n",
    "\n",
    "arr2 = np.array([4, 5, 6])\n",
    "\n",
    "arr = np.dstack((arr1, arr2))\n",
    "\n",
    "print(arr)"
   ]
  },
  {
   "cell_type": "code",
   "execution_count": null,
   "id": "1168ce4b-5ac8-4ce2-89f8-4074d02ca99c",
   "metadata": {},
   "outputs": [],
   "source": []
  }
 ],
 "metadata": {
  "kernelspec": {
   "display_name": "Python 3 (ipykernel)",
   "language": "python",
   "name": "python3"
  },
  "language_info": {
   "codemirror_mode": {
    "name": "ipython",
    "version": 3
   },
   "file_extension": ".py",
   "mimetype": "text/x-python",
   "name": "python",
   "nbconvert_exporter": "python",
   "pygments_lexer": "ipython3",
   "version": "3.12.3"
  }
 },
 "nbformat": 4,
 "nbformat_minor": 5
}
