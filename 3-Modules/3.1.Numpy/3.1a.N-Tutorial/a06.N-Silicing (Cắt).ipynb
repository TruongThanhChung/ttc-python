{
 "cells": [
  {
   "cell_type": "markdown",
   "id": "6097b3b0-6466-48c1-a7d6-97d0a2e42ae5",
   "metadata": {},
   "source": [
    "Slicing arrays\n",
    "Slicing in python means taking elements from one given index to another given index.\n",
    "We pass slice instead of index like this: [start:end].\n",
    "We can also define the step, like this: [start:end:step].\n",
    "If we don't pass start its considered 0\n",
    "If we don't pass end its considered length of array in that dimension\n",
    "If we don't pass step its considered 1\n",
    "Cắt mảng\n",
    "Cắt trong python có nghĩa là lấy các phần tử từ một chỉ mục đã cho này sang một chỉ mục đã cho khác.\n",
    "Chúng tôi chuyển lát thay vì chỉ mục như thế này: .[start:end]\n",
    "Chúng ta cũng có thể xác định bước này như sau: .[start:end:step]\n",
    "Nếu chúng tôi không vượt qua bắt đầu thì nó được coi là 0\n",
    "Nếu chúng ta không vượt qua end thì độ dài của mảng được xem xét theo chiều đó\n",
    "Nếu chúng tôi không vượt qua bước thì nó được coi là 1"
   ]
  },
  {
   "cell_type": "code",
   "execution_count": 1,
   "id": "75d46ac1-51af-4e4c-9c47-12730ea57d8f",
   "metadata": {},
   "outputs": [
    {
     "name": "stdout",
     "output_type": "stream",
     "text": [
      "[2 3 4 5]\n"
     ]
    }
   ],
   "source": [
    "# Slice elements from index 1 to index 5 from the following array:\n",
    "# Cắt các phần tử từ chỉ mục 1 đến chỉ mục 5 từ mảng sau:\n",
    "import numpy as np\n",
    "\n",
    "arr = np.array([1, 2, 3, 4, 5, 6, 7])\n",
    "\n",
    "print(arr[1:5])"
   ]
  },
  {
   "cell_type": "markdown",
   "id": "2febd871-9756-4742-bb90-604c6ab22be3",
   "metadata": {},
   "source": [
    "Note: The result includes the start index, but excludes the end index.\n",
    "Lưu ý: Kết quả bao gồm chỉ mục bắt đầu nhưng không bao gồm chỉ mục kết thúc."
   ]
  },
  {
   "cell_type": "code",
   "execution_count": 2,
   "id": "67ae8bd9-027e-4e3b-af77-dbbe6520b427",
   "metadata": {},
   "outputs": [
    {
     "name": "stdout",
     "output_type": "stream",
     "text": [
      "[5 6 7]\n"
     ]
    }
   ],
   "source": [
    "# Slice elements from index 4 to the end of the array:\n",
    "# Cắt các phần tử từ chỉ số 4 đến cuối mảng:\n",
    "import numpy as np\n",
    "\n",
    "arr = np.array([1, 2, 3, 4, 5, 6, 7])\n",
    "\n",
    "print(arr[4:])"
   ]
  },
  {
   "cell_type": "code",
   "execution_count": 3,
   "id": "6bcdfad0-0f15-464f-8ea8-7f5fcaf08caa",
   "metadata": {},
   "outputs": [
    {
     "name": "stdout",
     "output_type": "stream",
     "text": [
      "[1 2 3 4]\n"
     ]
    }
   ],
   "source": [
    "# Slice elements from the beginning to index 4 (not included):\n",
    "# Cắt các phần tử từ đầu đến chỉ số 4 (không bao gồm):\n",
    "import numpy as np\n",
    "\n",
    "arr = np.array([1, 2, 3, 4, 5, 6, 7])\n",
    "\n",
    "print(arr[:4])"
   ]
  },
  {
   "cell_type": "markdown",
   "id": "b7a32588-6ca3-47b7-9d0d-c5c84e8120fe",
   "metadata": {},
   "source": [
    "Negative Slicing\n",
    "Use the minus operator to refer to an index from the end:\n",
    "Cắt âm\n",
    "Sử dụng toán tử trừ để tham chiếu chỉ mục từ cuối:"
   ]
  },
  {
   "cell_type": "code",
   "execution_count": 4,
   "id": "dd8b4e75-22a9-493b-a1c5-102c645a7068",
   "metadata": {},
   "outputs": [
    {
     "name": "stdout",
     "output_type": "stream",
     "text": [
      "[5 6]\n"
     ]
    }
   ],
   "source": [
    "# Slice from the index 3 from the end to index 1 from the end:\n",
    "# Cắt từ chỉ số 3 từ đầu đến chỉ số 1 từ cuối:\n",
    "import numpy as np\n",
    "\n",
    "arr = np.array([1, 2, 3, 4, 5, 6, 7])\n",
    "\n",
    "print(arr[-3:-1])"
   ]
  },
  {
   "cell_type": "markdown",
   "id": "4a2cf90a-305b-4792-a089-953a64a04fe0",
   "metadata": {},
   "source": [
    "STEP\n",
    "Use the step value to determine the step of the slicing\n",
    "BƯỚC CHÂN\n",
    "Sử dụng step giá trị để xác định bước cắt"
   ]
  },
  {
   "cell_type": "code",
   "execution_count": 5,
   "id": "d7ec5a4c-4b03-462b-beb3-a8654410cbaa",
   "metadata": {},
   "outputs": [
    {
     "name": "stdout",
     "output_type": "stream",
     "text": [
      "[2 4]\n"
     ]
    }
   ],
   "source": [
    "# Return every other element from index 1 to index 5:\n",
    "# Trả về mọi phần tử khác từ chỉ mục 1 đến chỉ mục 5:\n",
    "import numpy as np\n",
    "\n",
    "arr = np.array([1, 2, 3, 4, 5, 6, 7])\n",
    "\n",
    "print(arr[1:5:2])"
   ]
  },
  {
   "cell_type": "code",
   "execution_count": 6,
   "id": "91be8f92-c273-475a-8ef6-7f060080ede2",
   "metadata": {},
   "outputs": [
    {
     "name": "stdout",
     "output_type": "stream",
     "text": [
      "[1 3 5 7]\n"
     ]
    }
   ],
   "source": [
    "# Return every other element from the entire array:\n",
    "# Trả về mọi phần tử khác từ toàn bộ mảng:\n",
    "import numpy as np\n",
    "\n",
    "arr = np.array([1, 2, 3, 4, 5, 6, 7])\n",
    "\n",
    "print(arr[::2])"
   ]
  },
  {
   "cell_type": "markdown",
   "id": "0882f8ef-3f0e-42b2-899c-c512dfd64537",
   "metadata": {},
   "source": [
    "Slicing 2-D Arrays\n",
    "Cắt mảng 2-D"
   ]
  },
  {
   "cell_type": "code",
   "execution_count": 7,
   "id": "0fa66527-6270-4576-b5aa-de3cd609ac8a",
   "metadata": {},
   "outputs": [
    {
     "name": "stdout",
     "output_type": "stream",
     "text": [
      "[7 8 9]\n"
     ]
    }
   ],
   "source": [
    "# From the second element, slice elements from index 1 to index 4 (not included):\n",
    "# Từ phần tử thứ hai, cắt các phần tử từ chỉ mục 1 đến chỉ mục 4 (không bao gồm):\n",
    "import numpy as np\n",
    "\n",
    "arr = np.array([[1, 2, 3, 4, 5], [6, 7, 8, 9, 10]])\n",
    "\n",
    "print(arr[1, 1:4])"
   ]
  },
  {
   "cell_type": "markdown",
   "id": "a1332767-f30f-457f-9f0d-f62ba416221d",
   "metadata": {},
   "source": [
    "Note: Remember that second element has index 1.\n",
    "Lưu ý: Hãy nhớ rằng phần tử thứ hai có chỉ số 1."
   ]
  },
  {
   "cell_type": "code",
   "execution_count": 8,
   "id": "08d2dc7e-9bed-48ce-917d-3df13c1d759f",
   "metadata": {},
   "outputs": [
    {
     "name": "stdout",
     "output_type": "stream",
     "text": [
      "[3 8]\n"
     ]
    }
   ],
   "source": [
    "# From both elements, return index 2:\n",
    "# Từ cả hai phần tử, trả về chỉ số 2:\n",
    "import numpy as np\n",
    "\n",
    "arr = np.array([[1, 2, 3, 4, 5], [6, 7, 8, 9, 10]])\n",
    "\n",
    "print(arr[0:2, 2])"
   ]
  },
  {
   "cell_type": "code",
   "execution_count": 9,
   "id": "2201d979-754d-4e83-b6d6-f4fd5da07d66",
   "metadata": {},
   "outputs": [
    {
     "name": "stdout",
     "output_type": "stream",
     "text": [
      "[[2 3 4]\n",
      " [7 8 9]]\n"
     ]
    }
   ],
   "source": [
    "# From both elements, slice index 1 to index 4 (not included), this will return a 2-D array:\n",
    "# Từ cả hai phần tử, cắt chỉ mục 1 đến chỉ mục 4 (không bao gồm), điều này sẽ trả về một mảng 2-D:\n",
    "import numpy as np\n",
    "\n",
    "arr = np.array([[1, 2, 3, 4, 5], [6, 7, 8, 9, 10]])\n",
    "\n",
    "print(arr[0:2, 1:4])"
   ]
  },
  {
   "cell_type": "code",
   "execution_count": null,
   "id": "95e1d8f1-2c52-4164-adf5-513b08895538",
   "metadata": {},
   "outputs": [],
   "source": []
  }
 ],
 "metadata": {
  "kernelspec": {
   "display_name": "Python 3 (ipykernel)",
   "language": "python",
   "name": "python3"
  },
  "language_info": {
   "codemirror_mode": {
    "name": "ipython",
    "version": 3
   },
   "file_extension": ".py",
   "mimetype": "text/x-python",
   "name": "python",
   "nbconvert_exporter": "python",
   "pygments_lexer": "ipython3",
   "version": "3.11.7"
  }
 },
 "nbformat": 4,
 "nbformat_minor": 5
}
