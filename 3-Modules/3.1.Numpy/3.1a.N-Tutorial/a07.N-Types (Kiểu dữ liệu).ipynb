{
 "cells": [
  {
   "cell_type": "markdown",
   "id": "f7c39c36-7492-40dd-93a2-b57311cc3007",
   "metadata": {},
   "source": [
    "Data Types in Python\n",
    "By default Python have these data types:\n",
    "strings - used to represent text data, the text is given under quote marks. e.g. \"ABCD\"\n",
    "integer - used to represent integer numbers. e.g. -1, -2, -3\n",
    "float - used to represent real numbers. e.g. 1.2, 42.42\n",
    "boolean - used to represent True or False.\n",
    "complex - used to represent complex numbers. e.g. 1.0 + 2.0j, 1.5 + 2.5j\n",
    "Các kiểu dữ liệu trong Python\n",
    "Theo mặc định Python có các kiểu dữ liệu sau:\n",
    "strings- dùng để thể hiện dữ liệu văn bản, văn bản được đưa ra dưới dấu ngoặc kép. ví dụ: \"ABCD\"\n",
    "integer- Dùng để biểu diễn số nguyên. ví dụ -1, -2, -3\n",
    "float- Dùng để biểu diễn số thực. ví dụ 1,2, 42,42\n",
    "boolean- Dùng để biểu thị Đúng hoặc Sai.\n",
    "complex- Dùng để biểu diễn số phức. ví dụ: 1,0 + 2,0j, 1,5 + 2,5j"
   ]
  },
  {
   "cell_type": "markdown",
   "id": "818204be-7d2b-439d-b3b8-a62182815f9b",
   "metadata": {},
   "source": [
    "Data Types in NumPy\n",
    "NumPy has some extra data types, and refer to data types with one character, like i for integers, u for unsigned integers etc.\n",
    "Below is a list of all data types in NumPy and the characters used to represent them.\n",
    "\n",
    "i - integer\n",
    "b - boolean\n",
    "u - unsigned integer\n",
    "f - float\n",
    "c - complex float\n",
    "m - timedelta\n",
    "M - datetime\n",
    "O - object\n",
    "S - string\n",
    "U - unicode string\n",
    "V - fixed chunk of memory for other type ( void )\n",
    "Các kiểu dữ liệu trong NumPy\n",
    "NumPy có một số kiểu dữ liệu bổ sung và đề cập đến các kiểu dữ liệu có một ký tự, như iđối với số nguyên, uđối với số nguyên không dấu, v.v.\n",
    "Dưới đây là danh sách tất cả các loại dữ liệu trong NumPy và các ký tự được sử dụng để biểu thị chúng.\n",
    "\n",
    "i- số nguyên\n",
    "b- boolean\n",
    "u- số nguyên không dấu\n",
    "f- trôi nổi\n",
    "c- phao phức hợp\n",
    "m- đồng bằng thời gian\n",
    "M- ngày giờ\n",
    "O- sự vật\n",
    "S- sợi dây\n",
    "U- chuỗi unicode\n",
    "V- đoạn bộ nhớ cố định cho loại khác ( void )"
   ]
  },
  {
   "cell_type": "markdown",
   "id": "4dcb423f-bff1-491a-84fd-a20742f89066",
   "metadata": {},
   "source": [
    "Checking the Data Type of an Array\n",
    "The NumPy array object has a property called dtype that returns the data type of the array:\n",
    "Kiểm tra kiểu dữ liệu của một mảng\n",
    "Đối tượng mảng NumPy có một thuộc tính được gọi dtype là trả về kiểu dữ liệu của mảng:"
   ]
  },
  {
   "cell_type": "code",
   "execution_count": 1,
   "id": "4fd269b6-eeb1-44f8-8708-1df34fc8b0c9",
   "metadata": {},
   "outputs": [
    {
     "name": "stdout",
     "output_type": "stream",
     "text": [
      "int32\n"
     ]
    }
   ],
   "source": [
    "# Get the data type of an array object:\n",
    "# Lấy kiểu dữ liệu của một đối tượng mảng:\n",
    "import numpy as np\n",
    "\n",
    "arr = np.array([1, 2, 3, 4])\n",
    "\n",
    "print(arr.dtype)"
   ]
  },
  {
   "cell_type": "code",
   "execution_count": 2,
   "id": "488ab8bb-3f78-45ba-b1ab-96901afc04d9",
   "metadata": {},
   "outputs": [
    {
     "name": "stdout",
     "output_type": "stream",
     "text": [
      "<U6\n"
     ]
    }
   ],
   "source": [
    "# Get the data type of an array containing strings:\n",
    "# Lấy kiểu dữ liệu của một mảng chứa chuỗi:\n",
    "import numpy as np\n",
    "\n",
    "arr = np.array(['apple', 'banana', 'cherry'])\n",
    "\n",
    "print(arr.dtype)\n"
   ]
  },
  {
   "cell_type": "markdown",
   "id": "25df7b2d-ec42-4455-962a-aa51b1220572",
   "metadata": {},
   "source": [
    "Creating Arrays With a Defined Data Type\n",
    "We use the array() function to create arrays, this function can take an optional argument: dtype that allows us to define the expected data type of the array elements\n",
    "Tạo mảng với kiểu dữ liệu được xác định\n",
    "Chúng ta sử dụng hàm array() để tạo mảng, hàm này có thể nhận một đối số tùy chọn: dtype cho phép chúng ta xác định kiểu dữ liệu dự kiến ​​của các thành phần mảng"
   ]
  },
  {
   "cell_type": "code",
   "execution_count": 3,
   "id": "a1e18e52-ea22-4734-8432-138e5c0b6b8b",
   "metadata": {},
   "outputs": [
    {
     "name": "stdout",
     "output_type": "stream",
     "text": [
      "[b'1' b'2' b'3' b'4']\n",
      "|S1\n"
     ]
    }
   ],
   "source": [
    "# Create an array with data type string:\n",
    "# Tạo một mảng với chuỗi kiểu dữ liệu:\n",
    "import numpy as np\n",
    "\n",
    "arr = np.array([1, 2, 3, 4], dtype='S')\n",
    "\n",
    "print(arr)\n",
    "print(arr.dtype)"
   ]
  },
  {
   "cell_type": "markdown",
   "id": "aa7d2a4d-32a3-4605-8d73-e1a483ca8935",
   "metadata": {},
   "source": [
    "For i, u, f, S and U we can define size as well\n",
    "Đối với i, u, f, S và U chúng ta cũng có thể xác định kích thước"
   ]
  },
  {
   "cell_type": "code",
   "execution_count": 4,
   "id": "716a45d6-9929-4a3e-ac1d-cd3e4c3dcb55",
   "metadata": {},
   "outputs": [
    {
     "name": "stdout",
     "output_type": "stream",
     "text": [
      "[1 2 3 4]\n",
      "int32\n"
     ]
    }
   ],
   "source": [
    "# Create an array with data type 4 bytes integer:\n",
    "# Tạo một mảng có kiểu dữ liệu số nguyên 4 byte:\n",
    "import numpy as np\n",
    "\n",
    "arr = np.array([1, 2, 3, 4], dtype='i4')\n",
    "\n",
    "print(arr)\n",
    "print(arr.dtype)"
   ]
  },
  {
   "cell_type": "markdown",
   "id": "8fd7afbe-5d9d-4360-b62a-d20a0a81aba5",
   "metadata": {},
   "source": [
    "What if a Value Can Not Be Converted?\n",
    "If a type is given in which elements can't be casted then NumPy will raise a ValueError.\n",
    "ValueError: In Python ValueError is raised when the type of passed argument to a function is unexpected/incorrect.\n",
    "Điều gì xảy ra nếu một giá trị không thể được chuyển đổi?\n",
    "Nếu một loại được đưa ra trong đó các phần tử không thể được truyền thì NumPy sẽ đưa ra ValueError.\n",
    "ValueError: Trong Python ValueError được nâng lên khi loại đối số được truyền cho hàm không mong muốn/không chính xác."
   ]
  },
  {
   "cell_type": "code",
   "execution_count": 6,
   "id": "0faa4b2d-0085-4729-b4d9-56c6728767b2",
   "metadata": {},
   "outputs": [
    {
     "ename": "ValueError",
     "evalue": "invalid literal for int() with base 10: 'a'",
     "output_type": "error",
     "traceback": [
      "\u001b[1;31m---------------------------------------------------------------------------\u001b[0m",
      "\u001b[1;31mValueError\u001b[0m                                Traceback (most recent call last)",
      "Cell \u001b[1;32mIn[6], line 5\u001b[0m\n\u001b[0;32m      1\u001b[0m \u001b[38;5;66;03m# A non integer string like 'a' can not be converted to integer (will raise an error):\u001b[39;00m\n\u001b[0;32m      2\u001b[0m \u001b[38;5;66;03m# Không thể chuyển đổi chuỗi không nguyên như 'a' thành số nguyên (sẽ gây ra lỗi):\u001b[39;00m\n\u001b[0;32m      3\u001b[0m \u001b[38;5;28;01mimport\u001b[39;00m \u001b[38;5;21;01mnumpy\u001b[39;00m \u001b[38;5;28;01mas\u001b[39;00m \u001b[38;5;21;01mnp\u001b[39;00m\n\u001b[1;32m----> 5\u001b[0m arr \u001b[38;5;241m=\u001b[39m \u001b[43mnp\u001b[49m\u001b[38;5;241;43m.\u001b[39;49m\u001b[43marray\u001b[49m\u001b[43m(\u001b[49m\u001b[43m[\u001b[49m\u001b[38;5;124;43m'\u001b[39;49m\u001b[38;5;124;43ma\u001b[39;49m\u001b[38;5;124;43m'\u001b[39;49m\u001b[43m,\u001b[49m\u001b[43m \u001b[49m\u001b[38;5;124;43m'\u001b[39;49m\u001b[38;5;124;43m2\u001b[39;49m\u001b[38;5;124;43m'\u001b[39;49m\u001b[43m,\u001b[49m\u001b[43m \u001b[49m\u001b[38;5;124;43m'\u001b[39;49m\u001b[38;5;124;43m3\u001b[39;49m\u001b[38;5;124;43m'\u001b[39;49m\u001b[43m]\u001b[49m\u001b[43m,\u001b[49m\u001b[43m \u001b[49m\u001b[43mdtype\u001b[49m\u001b[38;5;241;43m=\u001b[39;49m\u001b[38;5;124;43m'\u001b[39;49m\u001b[38;5;124;43mi\u001b[39;49m\u001b[38;5;124;43m'\u001b[39;49m\u001b[43m)\u001b[49m\n",
      "\u001b[1;31mValueError\u001b[0m: invalid literal for int() with base 10: 'a'"
     ]
    }
   ],
   "source": [
    "# A non integer string like 'a' can not be converted to integer (will raise an error):\n",
    "# Không thể chuyển đổi chuỗi không nguyên như 'a' thành số nguyên (sẽ gây ra lỗi):\n",
    "import numpy as np\n",
    "\n",
    "arr = np.array(['a', '2', '3'], dtype='i')"
   ]
  },
  {
   "cell_type": "markdown",
   "id": "3d57583a-ae90-4b74-a966-d46311f1dd2f",
   "metadata": {},
   "source": [
    "Converting Data Type on Existing Arrays\n",
    "The best way to change the data type of an existing array, is to make a copy of the array with the astype() method.\n",
    "The astype() function creates a copy of the array, and allows you to specify the data type as a parameter.\n",
    "The data type can be specified using a string, like 'f' for float, 'i' for integer etc. or you can use the data type directly like float for float and int for integer.\n",
    "Chuyển đổi kiểu dữ liệu trên mảng hiện có\n",
    "Cách tốt nhất để thay đổi kiểu dữ liệu của một mảng hiện có là tạo một bản sao của mảng bằng phương thức astype().\n",
    "Hàm astype() tạo một bản sao của mảng và cho phép bạn chỉ định kiểu dữ liệu làm tham số.\n",
    "Kiểu dữ liệu có thể được chỉ định bằng cách sử dụng một chuỗi, như 'f' cho float, 'i' cho số nguyên, v.v. hoặc bạn có thể sử dụng kiểu dữ liệu trực tiếp như float cho float và int cho số nguyên."
   ]
  },
  {
   "cell_type": "code",
   "execution_count": 7,
   "id": "9a6c3777-4056-4cb5-88bc-c2d5977ecc3c",
   "metadata": {},
   "outputs": [
    {
     "name": "stdout",
     "output_type": "stream",
     "text": [
      "[1 2 3]\n",
      "int32\n"
     ]
    }
   ],
   "source": [
    "# Change data type from float to integer by using 'i' as parameter value:\n",
    "# Thay đổi kiểu dữ liệu từ float sang số nguyên bằng cách sử dụng 'i' làm giá trị tham số:\n",
    "import numpy as np\n",
    "\n",
    "arr = np.array([1.1, 2.1, 3.1])\n",
    "\n",
    "newarr = arr.astype('i')\n",
    "\n",
    "print(newarr)\n",
    "print(newarr.dtype)"
   ]
  },
  {
   "cell_type": "code",
   "execution_count": 8,
   "id": "9c8e4ed9-513f-4c79-a391-668500efc31e",
   "metadata": {},
   "outputs": [
    {
     "name": "stdout",
     "output_type": "stream",
     "text": [
      "[1 2 3]\n",
      "int32\n"
     ]
    }
   ],
   "source": [
    "# Change data type from float to integer by using int as parameter value:\n",
    "# Thay đổi kiểu dữ liệu từ float sang số nguyên bằng cách sử dụng int làm giá trị tham số:\n",
    "import numpy as np\n",
    "\n",
    "arr = np.array([1.1, 2.1, 3.1])\n",
    "\n",
    "newarr = arr.astype(int)\n",
    "\n",
    "print(newarr)\n",
    "print(newarr.dtype)"
   ]
  },
  {
   "cell_type": "code",
   "execution_count": 9,
   "id": "e1ba3229-e655-4c9b-919d-b5e7f5b708fb",
   "metadata": {},
   "outputs": [
    {
     "name": "stdout",
     "output_type": "stream",
     "text": [
      "[ True False  True]\n",
      "bool\n"
     ]
    }
   ],
   "source": [
    "# Change data type from integer to boolean:\n",
    "# Thay đổi kiểu dữ liệu từ số nguyên sang boolean:\n",
    "import numpy as np\n",
    "\n",
    "arr = np.array([1, 0, 3])\n",
    "\n",
    "newarr = arr.astype(bool)\n",
    "\n",
    "print(newarr)\n",
    "print(newarr.dtype)"
   ]
  },
  {
   "cell_type": "code",
   "execution_count": null,
   "id": "b9db2bb4-966f-42ea-a7a0-9c02ba817ff1",
   "metadata": {},
   "outputs": [],
   "source": []
  }
 ],
 "metadata": {
  "kernelspec": {
   "display_name": "Python 3 (ipykernel)",
   "language": "python",
   "name": "python3"
  },
  "language_info": {
   "codemirror_mode": {
    "name": "ipython",
    "version": 3
   },
   "file_extension": ".py",
   "mimetype": "text/x-python",
   "name": "python",
   "nbconvert_exporter": "python",
   "pygments_lexer": "ipython3",
   "version": "3.11.7"
  }
 },
 "nbformat": 4,
 "nbformat_minor": 5
}
