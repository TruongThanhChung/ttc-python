{
 "cells": [
  {
   "cell_type": "markdown",
   "id": "9121455e-6e62-4344-bd85-deedba40c61c",
   "metadata": {},
   "source": [
    "Filtering Arrays\n",
    "Getting some elements out of an existing array and creating a new array out of them is called filtering.\n",
    "In NumPy, you filter an array using a boolean index list.\n",
    "Lọc mảng\n",
    "Lấy một số phần tử ra khỏi mảng hiện có và tạo một mảng mới từ chúng được gọi là lọc.\n",
    "Trong NumPy, bạn lọc một mảng bằng danh sách chỉ mục boolean."
   ]
  },
  {
   "cell_type": "markdown",
   "id": "7ffe14cf-26d5-46a6-842d-308a39026e11",
   "metadata": {},
   "source": [
    "A boolean index list is a list of booleans corresponding to indexes in the array.\n",
    "Danh sách chỉ mục boolean là danh sách các boolean tương ứng với các chỉ mục trong mảng."
   ]
  },
  {
   "cell_type": "markdown",
   "id": "6f531bc4-4a96-407c-a917-97932e4ed3d6",
   "metadata": {},
   "source": [
    "If the value at an index is True that element is contained in the filtered array, if the value at that index is False that element is excluded from the filtered array\n",
    "Nếu giá trị tại một chỉ mục là True phần tử đó được chứa trong mảng được lọc, nếu giá trị tại chỉ mục đó là False phần tử đó sẽ bị loại khỏi mảng được lọc"
   ]
  },
  {
   "cell_type": "code",
   "execution_count": 1,
   "id": "cc65062b-ec79-4235-a936-ce8896e5d56b",
   "metadata": {},
   "outputs": [
    {
     "name": "stdout",
     "output_type": "stream",
     "text": [
      "[41 43]\n"
     ]
    }
   ],
   "source": [
    "# Create an array from the elements on index 0 and 2:\n",
    "# Tạo một mảng từ các phần tử ở chỉ mục 0 và 2:\n",
    "import numpy as np\n",
    "\n",
    "arr = np.array([41, 42, 43, 44])\n",
    "\n",
    "x = [True, False, True, False]\n",
    "\n",
    "newarr = arr[x]\n",
    "\n",
    "print(newarr)"
   ]
  },
  {
   "cell_type": "markdown",
   "id": "e2ff957b-ff2a-42ed-83ba-197f666e7b81",
   "metadata": {},
   "source": [
    "The example above will return [41, 43], why?\n",
    "Because the new array contains only the values where the filter array had the value True, in this case, index 0 and 2.\n",
    "Ví dụ trên sẽ trả về [41, 43], tại sao?\n",
    "Bởi vì mảng mới chỉ chứa các giá trị mà mảng bộ lọc có giá trị True, trong trường hợp này là chỉ mục 0 và 2."
   ]
  },
  {
   "cell_type": "markdown",
   "id": "ee4d4c11-a4cd-4269-a0a4-b68b38c4e11c",
   "metadata": {},
   "source": [
    "Creating the Filter Array\n",
    "In the example above we hard-coded the True and False values, but the common use is to create a filter array based on conditions.\n",
    "Tạo mảng lọc\n",
    "Trong ví dụ trên, chúng tôi đã mã hóa cứng các giá trị True và False, nhưng cách sử dụng phổ biến là tạo một mảng bộ lọc dựa trên các điều kiện."
   ]
  },
  {
   "cell_type": "code",
   "execution_count": 2,
   "id": "0140ae9f-a55f-44aa-a70d-40817472d892",
   "metadata": {},
   "outputs": [
    {
     "name": "stdout",
     "output_type": "stream",
     "text": [
      "[False, False, True, True]\n",
      "[43 44]\n"
     ]
    }
   ],
   "source": [
    "# Create a filter array that will return only values higher than 42:\n",
    "# Tạo một mảng bộ lọc sẽ chỉ trả về các giá trị cao hơn 42:\n",
    "import numpy as np\n",
    "\n",
    "arr = np.array([41, 42, 43, 44])\n",
    "\n",
    "# Create an empty list\n",
    "filter_arr = []\n",
    "\n",
    "# go through each element in arr\n",
    "for element in arr:\n",
    "  # if the element is higher than 42, set the value to True, otherwise False:\n",
    "  if element > 42:\n",
    "    filter_arr.append(True)\n",
    "  else:\n",
    "    filter_arr.append(False)\n",
    "\n",
    "newarr = arr[filter_arr]\n",
    "\n",
    "print(filter_arr)\n",
    "print(newarr)"
   ]
  },
  {
   "cell_type": "code",
   "execution_count": 1,
   "id": "32635f04-6945-42e3-b531-5eb231bc4b4e",
   "metadata": {},
   "outputs": [
    {
     "name": "stdout",
     "output_type": "stream",
     "text": [
      "[False, True, False, True, False, True, False]\n",
      "[2 4 6]\n"
     ]
    }
   ],
   "source": [
    "# Create a filter array that will return only even elements from the original array:\n",
    "# Tạo một mảng lọc sẽ chỉ trả về các phần tử chẵn từ mảng ban đầu:\n",
    "import numpy as np\n",
    "\n",
    "arr = np.array([1, 2, 3, 4, 5, 6, 7])\n",
    "\n",
    "# Create an empty list\n",
    "filter_arr = []\n",
    "\n",
    "# go through each element in arr\n",
    "for element in arr:\n",
    "  # if the element is completely divisble by 2, set the value to True, otherwise False\n",
    "  if element % 2 == 0:\n",
    "    filter_arr.append(True)\n",
    "  else:\n",
    "    filter_arr.append(False)\n",
    "\n",
    "newarr = arr[filter_arr]\n",
    "\n",
    "print(filter_arr)\n",
    "print(newarr)"
   ]
  },
  {
   "cell_type": "markdown",
   "id": "d64d6b36-fd6a-4948-bad2-78c1ea5d27af",
   "metadata": {},
   "source": [
    "Creating Filter Directly From Array\n",
    "The above example is quite a common task in NumPy and NumPy provides a nice way to tackle it.\n",
    "We can directly substitute the array instead of the iterable variable in our condition and it will work just as we expect it to.\n",
    "Tạo bộ lọc trực tiếp từ mảng\n",
    "Ví dụ trên là một nhiệm vụ khá phổ biến trong NumPy và NumPy cung cấp một cách hay để giải quyết nó.\n",
    "Chúng ta có thể thay thế trực tiếp mảng thay vì biến lặp trong điều kiện của chúng ta và nó sẽ hoạt động đúng như chúng ta mong đợi."
   ]
  },
  {
   "cell_type": "code",
   "execution_count": 3,
   "id": "591cbfae-c28c-4858-971d-57dccb756a84",
   "metadata": {},
   "outputs": [
    {
     "name": "stdout",
     "output_type": "stream",
     "text": [
      "[False False  True  True]\n",
      "[43 44]\n"
     ]
    }
   ],
   "source": [
    "# Create a filter array that will return only values higher than 42:\n",
    "# Tạo một mảng bộ lọc sẽ chỉ trả về các giá trị cao hơn 42:\n",
    "import numpy as np\n",
    "\n",
    "arr = np.array([41, 42, 43, 44])\n",
    "\n",
    "filter_arr = arr > 42\n",
    "\n",
    "newarr = arr[filter_arr]\n",
    "\n",
    "print(filter_arr)\n",
    "print(newarr)"
   ]
  },
  {
   "cell_type": "code",
   "execution_count": 4,
   "id": "4e5343a9-d6f1-4b1a-8171-f515ba1cd5cc",
   "metadata": {},
   "outputs": [
    {
     "name": "stdout",
     "output_type": "stream",
     "text": [
      "[False  True False  True False  True False]\n",
      "[2 4 6]\n"
     ]
    }
   ],
   "source": [
    "# Create a filter array that will return only even elements from the original array:\n",
    "# Tạo một mảng lọc sẽ chỉ trả về các phần tử chẵn từ mảng ban đầu:\n",
    "import numpy as np\n",
    "\n",
    "arr = np.array([1, 2, 3, 4, 5, 6, 7])\n",
    "\n",
    "filter_arr = arr % 2 == 0\n",
    "\n",
    "newarr = arr[filter_arr]\n",
    "\n",
    "print(filter_arr)\n",
    "print(newarr)"
   ]
  },
  {
   "cell_type": "code",
   "execution_count": null,
   "id": "4582f9a5-9c9f-472d-8e4d-e036c024e71d",
   "metadata": {},
   "outputs": [],
   "source": []
  }
 ],
 "metadata": {
  "kernelspec": {
   "display_name": "Python 3 (ipykernel)",
   "language": "python",
   "name": "python3"
  },
  "language_info": {
   "codemirror_mode": {
    "name": "ipython",
    "version": 3
   },
   "file_extension": ".py",
   "mimetype": "text/x-python",
   "name": "python",
   "nbconvert_exporter": "python",
   "pygments_lexer": "ipython3",
   "version": "3.11.7"
  }
 },
 "nbformat": 4,
 "nbformat_minor": 5
}
