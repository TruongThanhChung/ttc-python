{
 "cells": [
  {
   "cell_type": "markdown",
   "id": "31d91c04-2de4-4aa1-9b56-5b88e2c594bd",
   "metadata": {},
   "source": [
    "NumPy is a Python library.\n",
    "NumPy is used for working with arrays.\n",
    "NumPy is short for \"Numerical Python\".\n",
    "NumPy là một thư viện Python.\n",
    "NumPy được sử dụng để làm việc với mảng.\n",
    "NumPy là viết tắt của \"Python số\"."
   ]
  },
  {
   "cell_type": "markdown",
   "id": "154acd52-c660-457f-b38e-bae976f6306f",
   "metadata": {},
   "source": [
    "Learning by Reading\n",
    "We have created 43 tutorial pages for you to learn more about NumPy.\n",
    "Starting with a basic introduction and ends up with creating and plotting random data sets, and working with NumPy functions:\n",
    "Học bằng cách đọc\n",
    "Chúng tôi đã tạo 43 trang hướng dẫn để bạn tìm hiểu thêm về NumPy.\n",
    "Bắt đầu với phần giới thiệu cơ bản và kết thúc bằng việc tạo và vẽ sơ đồ các tập dữ liệu ngẫu nhiên cũng như làm việc với các hàm NumPy:"
   ]
  },
  {
   "cell_type": "code",
   "execution_count": null,
   "id": "a11cb2c2-9868-4c2d-a898-39d770332d2a",
   "metadata": {},
   "outputs": [],
   "source": []
  }
 ],
 "metadata": {
  "kernelspec": {
   "display_name": "Python 3 (ipykernel)",
   "language": "python",
   "name": "python3"
  },
  "language_info": {
   "codemirror_mode": {
    "name": "ipython",
    "version": 3
   },
   "file_extension": ".py",
   "mimetype": "text/x-python",
   "name": "python",
   "nbconvert_exporter": "python",
   "pygments_lexer": "ipython3",
   "version": "3.12.3"
  }
 },
 "nbformat": 4,
 "nbformat_minor": 5
}
