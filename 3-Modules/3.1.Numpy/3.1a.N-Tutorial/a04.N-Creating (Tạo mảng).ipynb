{
 "cells": [
  {
   "cell_type": "markdown",
   "id": "cd5cab61-de0c-47b0-97d8-4999536969c7",
   "metadata": {},
   "source": [
    "Create a NumPy ndarray Object\n",
    "NumPy is used to work with arrays. The array object in NumPy is called ndarray.\n",
    "We can create a NumPy ndarray object by using the array() function.\n",
    "Tạo một đối tượng NumPy ndarray\n",
    "NumPy được sử dụng để làm việc với mảng. Đối tượng mảng trong NumPy được gọi là ndarray.\n",
    "Chúng ta có thể tạo một ndarrayđối tượng NumPy bằng cách sử dụng array()hàm."
   ]
  },
  {
   "cell_type": "code",
   "execution_count": 1,
   "id": "6afdefd1-536d-410b-9086-7cdfe4022142",
   "metadata": {},
   "outputs": [
    {
     "name": "stdout",
     "output_type": "stream",
     "text": [
      "[1 2 3 4 5]\n",
      "<class 'numpy.ndarray'>\n"
     ]
    }
   ],
   "source": [
    "import numpy as np\n",
    "\n",
    "arr = np.array([1, 2, 3, 4, 5])\n",
    "\n",
    "print(arr)\n",
    "\n",
    "print(type(arr))"
   ]
  },
  {
   "cell_type": "markdown",
   "id": "c1331a13-3c29-4943-bd17-1adae4cdcc94",
   "metadata": {},
   "source": [
    "type(): This built-in Python function tells us the type of the object passed to it. Like in above code it shows that arr is numpy.ndarray type.\n",
    "type(): Hàm Python tích hợp này cho chúng ta biết loại đối tượng được truyền cho nó. Giống như đoạn mã trên, nó hiển thị đó arr là numpy.ndarray loại."
   ]
  },
  {
   "cell_type": "markdown",
   "id": "8ea90f9a-e05f-4cdc-8542-7930fe8493ed",
   "metadata": {},
   "source": [
    "To create an ndarray, we can pass a list, tuple or any array-like object into the array() method, and it will be converted into an ndarray:\n",
    "Để tạo một ndarray, chúng ta có thể chuyển một danh sách, bộ dữ liệu hoặc bất kỳ đối tượng giống mảng nào vào phương array() thức và nó sẽ được chuyển đổi thành ndarray:"
   ]
  },
  {
   "cell_type": "code",
   "execution_count": 2,
   "id": "5c3adf0d-ec12-4042-afe6-f38c6a66c420",
   "metadata": {},
   "outputs": [
    {
     "name": "stdout",
     "output_type": "stream",
     "text": [
      "[1 2 3 4 5]\n"
     ]
    }
   ],
   "source": [
    "# Use a tuple to create a NumPy array:\n",
    "# Sử dụng bộ dữ liệu để tạo mảng NumPy:\n",
    "import numpy as np\n",
    "\n",
    "arr = np.array((1, 2, 3, 4, 5))\n",
    "\n",
    "print(arr)"
   ]
  },
  {
   "cell_type": "markdown",
   "id": "fa5b14e5-437d-4769-8e73-6041c032331d",
   "metadata": {},
   "source": [
    "Dimensions in Arrays\n",
    "A dimension in arrays is one level of array depth (nested arrays).\n",
    "nested array: are arrays that have arrays as their elements.\n",
    "Kích thước trong mảng\n",
    "Thứ nguyên trong mảng là một mức độ sâu của mảng (mảng lồng nhau).\n",
    "mảng lồng nhau: là các mảng có mảng là các phần tử của chúng."
   ]
  },
  {
   "cell_type": "markdown",
   "id": "cab06b5a-f24a-4d5d-b45c-a1f763879377",
   "metadata": {},
   "source": [
    "0-D Arrays\n",
    "0-D arrays, or Scalars, are the elements in an array. Each value in an array is a 0-D array.\n",
    "Mảng 0-D\n",
    "Mảng 0-D hoặc Vô hướng là các phần tử trong một mảng. Mỗi giá trị trong một mảng là một mảng 0-D."
   ]
  },
  {
   "cell_type": "code",
   "execution_count": 3,
   "id": "6f8e9bff-cc04-4ed3-bb4f-fa05b8a20adf",
   "metadata": {},
   "outputs": [
    {
     "name": "stdout",
     "output_type": "stream",
     "text": [
      "42\n"
     ]
    }
   ],
   "source": [
    "# Create a 0-D array with value 42\n",
    "# Tạo mảng 0-D có giá trị 42\n",
    "import numpy as np\n",
    "\n",
    "arr = np.array(42)\n",
    "\n",
    "print(arr)"
   ]
  },
  {
   "cell_type": "markdown",
   "id": "3e982b30-f0af-4d44-bf16-112e4e81167f",
   "metadata": {},
   "source": [
    "1-D Arrays\n",
    "An array that has 0-D arrays as its elements is called uni-dimensional or 1-D array.\n",
    "These are the most common and basic arrays.\n",
    "Mảng 1-D\n",
    "Mảng có các phần tử là mảng 0-D được gọi là mảng một chiều hoặc mảng 1-D.\n",
    "Đây là những mảng phổ biến và cơ bản nhất."
   ]
  },
  {
   "cell_type": "code",
   "execution_count": 4,
   "id": "0330f109-c989-4418-baa6-460d3488dbf3",
   "metadata": {},
   "outputs": [
    {
     "name": "stdout",
     "output_type": "stream",
     "text": [
      "[1 2 3 4 5]\n"
     ]
    }
   ],
   "source": [
    "# Create a 1-D array containing the values 1,2,3,4,5:\n",
    "# Tạo mảng 1-D chứa các giá trị 1,2,3,4,5:\n",
    "import numpy as np\n",
    "\n",
    "arr = np.array([1, 2, 3, 4, 5])\n",
    "\n",
    "print(arr)"
   ]
  },
  {
   "cell_type": "markdown",
   "id": "71ee2bd5-4d13-45fb-88bd-c2702724bff6",
   "metadata": {},
   "source": [
    "2-D Arrays\n",
    "An array that has 1-D arrays as its elements is called a 2-D array.\n",
    "These are often used to represent matrix or 2nd order tensors.\n",
    "NumPy has a whole sub module dedicated towards matrix operations called numpy.mat\n",
    "Mảng 2-D\n",
    "Mảng có các phần tử là mảng 1-D được gọi là mảng 2-D.\n",
    "Chúng thường được sử dụng để biểu diễn các tensor ma trận hoặc bậc 2.\n",
    "NumPy có toàn bộ mô-đun phụ dành riêng cho các hoạt động ma trận được gọi là numpy.mat"
   ]
  },
  {
   "cell_type": "code",
   "execution_count": 5,
   "id": "a49366a3-6df0-47b6-805a-c526745df4c8",
   "metadata": {},
   "outputs": [
    {
     "name": "stdout",
     "output_type": "stream",
     "text": [
      "[[1 2 3]\n",
      " [4 5 6]]\n"
     ]
    }
   ],
   "source": [
    "# Create a 2-D array containing two arrays with the values 1,2,3 and 4,5,6:\n",
    "# Tạo mảng 2-D chứa hai mảng có giá trị 1,2,3 và 4,5,6:\n",
    "import numpy as np\n",
    "\n",
    "arr = np.array([[1, 2, 3], [4, 5, 6]])\n",
    "\n",
    "print(arr)"
   ]
  },
  {
   "cell_type": "markdown",
   "id": "861605d6-6d33-426c-a61c-0e8163a2f9ce",
   "metadata": {},
   "source": [
    "3-D arrays\n",
    "An array that has 2-D arrays (matrices) as its elements is called 3-D array.\n",
    "These are often used to represent a 3rd order tensor.\n",
    "Mảng 3-D\n",
    "Một mảng có các mảng 2-D (ma trận) làm phần tử của nó được gọi là mảng 3-D.\n",
    "Chúng thường được sử dụng để biểu diễn tensor bậc 3."
   ]
  },
  {
   "cell_type": "code",
   "execution_count": 6,
   "id": "a2d1fb70-b6c1-4024-a3a9-4a2250fe6e10",
   "metadata": {},
   "outputs": [
    {
     "name": "stdout",
     "output_type": "stream",
     "text": [
      "[[[1 2 3]\n",
      "  [4 5 6]]\n",
      "\n",
      " [[1 2 3]\n",
      "  [4 5 6]]]\n"
     ]
    }
   ],
   "source": [
    "# Create a 3-D array with two 2-D arrays, both containing two arrays with the values 1,2,3 and 4,5,6:\n",
    "# Tạo một mảng 3-D có hai mảng 2-D, cả hai đều chứa hai mảng có giá trị 1,2,3 và 4,5,6:\n",
    "import numpy as np\n",
    "\n",
    "arr = np.array([[[1, 2, 3], [4, 5, 6]], [[1, 2, 3], [4, 5, 6]]])\n",
    "\n",
    "print(arr)"
   ]
  },
  {
   "cell_type": "markdown",
   "id": "b8c19129-4a82-47cd-9068-0095b56f9e90",
   "metadata": {},
   "source": [
    "Check Number of Dimensions?\n",
    "NumPy Arrays provides the ndim attribute that returns an integer that tells us how many dimensions the array have.\n",
    "Kiểm tra số lượng kích thước?\n",
    "NumPy Arrays cung cấp ndim thuộc tính trả về một số nguyên cho chúng ta biết mảng đó có bao nhiêu chiều."
   ]
  },
  {
   "cell_type": "code",
   "execution_count": 7,
   "id": "75ef1174-ddb9-46af-8b27-29fb0995a344",
   "metadata": {},
   "outputs": [
    {
     "name": "stdout",
     "output_type": "stream",
     "text": [
      "0\n",
      "1\n",
      "2\n",
      "3\n"
     ]
    }
   ],
   "source": [
    "# Check how many dimensions the arrays have:\n",
    "# Kiểm tra xem mảng có bao nhiêu chiều:\n",
    "import numpy as np\n",
    "\n",
    "a = np.array(42)\n",
    "b = np.array([1, 2, 3, 4, 5])\n",
    "c = np.array([[1, 2, 3], [4, 5, 6]])\n",
    "d = np.array([[[1, 2, 3], [4, 5, 6]], [[1, 2, 3], [4, 5, 6]]])\n",
    "\n",
    "print(a.ndim)\n",
    "print(b.ndim)\n",
    "print(c.ndim)\n",
    "print(d.ndim)"
   ]
  },
  {
   "cell_type": "markdown",
   "id": "6a154120-7d33-4142-8a13-2138894530f1",
   "metadata": {},
   "source": [
    "Higher Dimensional Arrays\n",
    "An array can have any number of dimensions.\n",
    "When the array is created, you can define the number of dimensions by using the ndmin argument.\n",
    "Mảng chiều cao hơn\n",
    "Một mảng có thể có số chiều bất kỳ.\n",
    "Khi mảng được tạo, bạn có thể xác định số chiều bằng cách sử dụng ndmin đối số."
   ]
  },
  {
   "cell_type": "code",
   "execution_count": 8,
   "id": "c4ed4a21-1f53-4194-a9f3-fea70148dd16",
   "metadata": {},
   "outputs": [
    {
     "name": "stdout",
     "output_type": "stream",
     "text": [
      "[[[[[1 2 3 4]]]]]\n",
      "number of dimensions : 5\n"
     ]
    }
   ],
   "source": [
    "# Create an array with 5 dimensions and verify that it has 5 dimensions:\n",
    "# Tạo một mảng có 5 chiều và xác minh rằng nó có 5 chiều:\n",
    "import numpy as np\n",
    "\n",
    "arr = np.array([1, 2, 3, 4], ndmin=5)\n",
    "\n",
    "print(arr)\n",
    "print('number of dimensions :', arr.ndim)"
   ]
  },
  {
   "cell_type": "markdown",
   "id": "43ac7438-91c5-4e73-ab76-3808cb4779bc",
   "metadata": {},
   "source": [
    "In this array the innermost dimension (5th dim) has 4 elements, the 4th dim has 1 element that is the vector, the 3rd dim has 1 element that is the matrix with the vector, the 2nd dim has 1 element that is 3D array and 1st dim has 1 element that is a 4D array.\n",
    "Trong mảng này chiều trong cùng (điểm mờ thứ 5) có 4 phần tử, điểm mờ thứ 4 có 1 phần tử là vectơ, chiều mờ thứ 3 có 1 phần tử là ma trận với vectơ, điểm mờ thứ 2 có 1 phần tử là mảng 3D và Dim thứ nhất có 1 phần tử là mảng 4D."
   ]
  }
 ],
 "metadata": {
  "kernelspec": {
   "display_name": "Python 3 (ipykernel)",
   "language": "python",
   "name": "python3"
  },
  "language_info": {
   "codemirror_mode": {
    "name": "ipython",
    "version": 3
   },
   "file_extension": ".py",
   "mimetype": "text/x-python",
   "name": "python",
   "nbconvert_exporter": "python",
   "pygments_lexer": "ipython3",
   "version": "3.12.3"
  }
 },
 "nbformat": 4,
 "nbformat_minor": 5
}
