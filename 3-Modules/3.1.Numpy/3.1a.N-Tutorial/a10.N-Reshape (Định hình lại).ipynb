{
 "cells": [
  {
   "cell_type": "markdown",
   "id": "686d68da-789f-4d93-b5ab-26fabdb968e6",
   "metadata": {},
   "source": [
    "Reshaping arrays\n",
    "Reshaping means changing the shape of an array.\n",
    "The shape of an array is the number of elements in each dimension.\n",
    "By reshaping we can add or remove dimensions or change number of elements in each dimension.\n",
    "Định hình lại mảng\n",
    "Định hình lại có nghĩa là thay đổi hình dạng của một mảng.\n",
    "Hình dạng của mảng là số phần tử trong mỗi chiều.\n",
    "Bằng cách định hình lại, chúng ta có thể thêm hoặc bớt các kích thước hoặc thay đổi số phần tử trong mỗi kích thước."
   ]
  },
  {
   "cell_type": "markdown",
   "id": "1812bc03-0be4-4be2-ae23-90f50f88dcaf",
   "metadata": {},
   "source": [
    "Reshape From 1-D to 2-D\n",
    "Định hình lại từ 1-D thành 2-D"
   ]
  },
  {
   "cell_type": "code",
   "execution_count": 2,
   "id": "e655723a-3e8c-4270-b079-d2012a753699",
   "metadata": {},
   "outputs": [
    {
     "name": "stdout",
     "output_type": "stream",
     "text": [
      "[ 1  2  3  4  5  6  7  8  9 10 11 12]\n",
      "[[ 1  2  3]\n",
      " [ 4  5  6]\n",
      " [ 7  8  9]\n",
      " [10 11 12]]\n"
     ]
    }
   ],
   "source": [
    "'''Convert the following 1-D array with 12 elements into a 2-D array.\n",
    "\n",
    "The outermost dimension will have 4 arrays, each with 3 elements:'''\n",
    "''' Chuyển đổi mảng 1-D sau đây với 12 phần tử thành mảng 2-D.\n",
    "\n",
    "Chiều ngoài cùng sẽ có 4 mảng, mỗi mảng có 3 phần tử: '''\n",
    "import numpy as np\n",
    "\n",
    "arr = np.array([1, 2, 3, 4, 5, 6, 7, 8, 9, 10, 11, 12])\n",
    "\n",
    "newarr = arr.reshape(4, 3)\n",
    "print(arr)\n",
    "print(newarr)"
   ]
  },
  {
   "cell_type": "markdown",
   "id": "81cbe8dd-485c-4cd8-b89f-595c4d752232",
   "metadata": {},
   "source": [
    "Reshape From 1-D to 3-D\n",
    "Định hình lại từ 1-D thành 3-D"
   ]
  },
  {
   "cell_type": "code",
   "execution_count": 3,
   "id": "6ae1a7d0-fbc9-44d6-807c-bc904acd6349",
   "metadata": {},
   "outputs": [
    {
     "name": "stdout",
     "output_type": "stream",
     "text": [
      "[[[ 1  2]\n",
      "  [ 3  4]\n",
      "  [ 5  6]]\n",
      "\n",
      " [[ 7  8]\n",
      "  [ 9 10]\n",
      "  [11 12]]]\n"
     ]
    }
   ],
   "source": [
    "''' Convert the following 1-D array with 12 elements into a 3-D array.\n",
    "\n",
    "The outermost dimension will have 2 arrays that contains 3 arrays, each with 2 elements:'''\n",
    "''' Chuyển đổi mảng 1-D sau đây với 12 phần tử thành mảng 3-D.\n",
    "\n",
    "Chiều ngoài cùng sẽ có 2 mảng gồm 3 mảng, mỗi mảng có 2 phần tử: '''\n",
    "import numpy as np\n",
    "\n",
    "arr = np.array([1, 2, 3, 4, 5, 6, 7, 8, 9, 10, 11, 12])\n",
    "\n",
    "newarr = arr.reshape(2, 3, 2)\n",
    "\n",
    "print(newarr)"
   ]
  },
  {
   "cell_type": "markdown",
   "id": "42fd33b4-5ccf-4ab0-8d70-945da476f79b",
   "metadata": {},
   "source": [
    "Can We Reshape Into any Shape?\n",
    "Yes, as long as the elements required for reshaping are equal in both shapes.\n",
    "We can reshape an 8 elements 1D array into 4 elements in 2 rows 2D array but we cannot reshape it into a 3 elements 3 rows 2D array as that would require 3x3 = 9 elements.\n",
    "Chúng ta có thể định hình lại thành bất kỳ hình dạng nào không?\n",
    "Có, miễn là các phần tử cần thiết để định hình lại đều bằng nhau ở cả hai hình.\n",
    "Chúng ta có thể định hình lại mảng 1D 8 phần tử thành 4 phần tử trong mảng 2D 2 hàng nhưng chúng ta không thể định hình lại nó thành mảng 2D 3 phần tử 3 hàng vì điều đó sẽ yêu cầu 3x3 = 9 phần tử."
   ]
  },
  {
   "cell_type": "code",
   "execution_count": 4,
   "id": "5f3c9c90-0fd0-459a-89d5-c47ecd83b423",
   "metadata": {},
   "outputs": [
    {
     "ename": "ValueError",
     "evalue": "cannot reshape array of size 8 into shape (3,3)",
     "output_type": "error",
     "traceback": [
      "\u001b[1;31m---------------------------------------------------------------------------\u001b[0m",
      "\u001b[1;31mValueError\u001b[0m                                Traceback (most recent call last)",
      "Cell \u001b[1;32mIn[4], line 7\u001b[0m\n\u001b[0;32m      3\u001b[0m \u001b[38;5;28;01mimport\u001b[39;00m \u001b[38;5;21;01mnumpy\u001b[39;00m \u001b[38;5;28;01mas\u001b[39;00m \u001b[38;5;21;01mnp\u001b[39;00m\n\u001b[0;32m      5\u001b[0m arr \u001b[38;5;241m=\u001b[39m np\u001b[38;5;241m.\u001b[39marray([\u001b[38;5;241m1\u001b[39m, \u001b[38;5;241m2\u001b[39m, \u001b[38;5;241m3\u001b[39m, \u001b[38;5;241m4\u001b[39m, \u001b[38;5;241m5\u001b[39m, \u001b[38;5;241m6\u001b[39m, \u001b[38;5;241m7\u001b[39m, \u001b[38;5;241m8\u001b[39m])\n\u001b[1;32m----> 7\u001b[0m newarr \u001b[38;5;241m=\u001b[39m \u001b[43marr\u001b[49m\u001b[38;5;241;43m.\u001b[39;49m\u001b[43mreshape\u001b[49m\u001b[43m(\u001b[49m\u001b[38;5;241;43m3\u001b[39;49m\u001b[43m,\u001b[49m\u001b[43m \u001b[49m\u001b[38;5;241;43m3\u001b[39;49m\u001b[43m)\u001b[49m\n\u001b[0;32m      9\u001b[0m \u001b[38;5;28mprint\u001b[39m(newarr)\n",
      "\u001b[1;31mValueError\u001b[0m: cannot reshape array of size 8 into shape (3,3)"
     ]
    }
   ],
   "source": [
    "# Try converting 1D array with 8 elements to a 2D array with 3 elements in each dimension (will raise an error):\n",
    "# Hãy thử chuyển đổi mảng 1D có 8 phần tử thành mảng 2D có 3 phần tử ở mỗi chiều (sẽ báo lỗi):\n",
    "import numpy as np\n",
    "\n",
    "arr = np.array([1, 2, 3, 4, 5, 6, 7, 8])\n",
    "\n",
    "newarr = arr.reshape(3, 3)\n",
    "\n",
    "print(newarr)"
   ]
  },
  {
   "cell_type": "markdown",
   "id": "2b32a263-234d-44c7-af89-2927edaf679e",
   "metadata": {},
   "source": [
    "Returns Copy or View?\n",
    "Trả về Bản sao hoặc Xem?"
   ]
  },
  {
   "cell_type": "code",
   "execution_count": 5,
   "id": "b480b1fa-997d-4e5b-99fc-948699704d76",
   "metadata": {},
   "outputs": [
    {
     "name": "stdout",
     "output_type": "stream",
     "text": [
      "[1 2 3 4 5 6 7 8]\n"
     ]
    }
   ],
   "source": [
    "# Check if the returned array is a copy or a view:\n",
    "# Kiểm tra xem mảng trả về là bản sao hay dạng xem:\n",
    "import numpy as np\n",
    "\n",
    "arr = np.array([1, 2, 3, 4, 5, 6, 7, 8])\n",
    "\n",
    "print(arr.reshape(2, 4).base)"
   ]
  },
  {
   "cell_type": "markdown",
   "id": "dcc9f22f-2ee6-4d81-aeeb-0c7539a3f0d9",
   "metadata": {},
   "source": [
    "The example above returns the original array, so it is a view.\n",
    "Ví dụ trên trả về mảng ban đầu, vì vậy nó là một dạng xem."
   ]
  },
  {
   "cell_type": "markdown",
   "id": "684231e1-aca7-4e55-8a7c-5d205491bf6a",
   "metadata": {},
   "source": [
    "Unknown Dimension\n",
    "You are allowed to have one \"unknown\" dimension.\n",
    "Meaning that you do not have to specify an exact number for one of the dimensions in the reshape method.\n",
    "Pass -1 as the value, and NumPy will calculate this number for you.\n",
    "Thứ nguyên không xác định\n",
    "Bạn được phép có một thứ nguyên \"không xác định\".\n",
    "Có nghĩa là bạn không phải chỉ định số chính xác cho một trong các kích thước trong phương pháp định hình lại.\n",
    "Chuyển -1 giá trị này và NumPy sẽ tính con số này cho bạn."
   ]
  },
  {
   "cell_type": "code",
   "execution_count": 6,
   "id": "0f3bba6f-d5a5-4825-bb2b-9ae1f837756d",
   "metadata": {},
   "outputs": [
    {
     "name": "stdout",
     "output_type": "stream",
     "text": [
      "[[[1 2]\n",
      "  [3 4]]\n",
      "\n",
      " [[5 6]\n",
      "  [7 8]]]\n"
     ]
    }
   ],
   "source": [
    "# Convert 1D array with 8 elements to 3D array with 2x2 elements:\n",
    "# Chuyển đổi mảng 1D có 8 phần tử thành mảng 3D có phần tử 2x2:\n",
    "import numpy as np\n",
    "\n",
    "arr = np.array([1, 2, 3, 4, 5, 6, 7, 8])\n",
    "\n",
    "newarr = arr.reshape(2, 2, -1)\n",
    "\n",
    "print(newarr)"
   ]
  },
  {
   "cell_type": "markdown",
   "id": "5cf38946-6eb0-4dbe-a928-dd8a69976c4e",
   "metadata": {},
   "source": [
    "Note: We can not pass -1 to more than one dimension.\n",
    "Lưu ý: Chúng ta không thể chuyển -1sang nhiều chiều."
   ]
  },
  {
   "cell_type": "markdown",
   "id": "b3a7f480-b77f-4a69-ab24-3cd97084db6d",
   "metadata": {},
   "source": [
    "Flattening the arrays\n",
    "Flattening array means converting a multidimensional array into a 1D array.\n",
    "We can use reshape(-1) to do this.\n",
    "Làm phẳng các mảng\n",
    "Làm phẳng mảng có nghĩa là chuyển đổi một mảng nhiều chiều thành mảng 1D.\n",
    "Chúng ta có thể sử dụng reshape(-1)để làm điều này."
   ]
  },
  {
   "cell_type": "code",
   "execution_count": 7,
   "id": "e616f687-7074-40f2-b3fd-4ccc6f619854",
   "metadata": {},
   "outputs": [
    {
     "name": "stdout",
     "output_type": "stream",
     "text": [
      "[1 2 3 4 5 6]\n"
     ]
    }
   ],
   "source": [
    "# Convert the array into a 1D array:\n",
    "# Chuyển đổi mảng thành mảng 1D:\n",
    "import numpy as np\n",
    "\n",
    "arr = np.array([[1, 2, 3], [4, 5, 6]])\n",
    "\n",
    "newarr = arr.reshape(-1)\n",
    "\n",
    "print(newarr)"
   ]
  },
  {
   "cell_type": "markdown",
   "id": "ba53ad7e-c155-42bb-b893-9923e1434309",
   "metadata": {},
   "source": [
    "Note: There are a lot of functions for changing the shapes of arrays in numpy flatten, ravel and also for rearranging the elements rot90, flip, fliplr, flipud etc. These fall under Intermediate to Advanced section of numpy.\n",
    "Lưu ý: Có rất nhiều hàm để thay đổi hình dạng của mảng trong numpy flattenvà ravelcũng để sắp xếp lại các phần tử rot90, flip, fliplr, flipudv.v. Những hàm này nằm trong phần Trung cấp đến Nâng cao của numpy."
   ]
  }
 ],
 "metadata": {
  "kernelspec": {
   "display_name": "Python 3 (ipykernel)",
   "language": "python",
   "name": "python3"
  },
  "language_info": {
   "codemirror_mode": {
    "name": "ipython",
    "version": 3
   },
   "file_extension": ".py",
   "mimetype": "text/x-python",
   "name": "python",
   "nbconvert_exporter": "python",
   "pygments_lexer": "ipython3",
   "version": "3.12.3"
  }
 },
 "nbformat": 4,
 "nbformat_minor": 5
}
