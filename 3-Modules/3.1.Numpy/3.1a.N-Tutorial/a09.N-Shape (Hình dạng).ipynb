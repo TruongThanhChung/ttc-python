{
 "cells": [
  {
   "cell_type": "markdown",
   "id": "60b03cc7-c6a9-401f-9798-7249b1b77540",
   "metadata": {},
   "source": [
    "Shape of an Array\n",
    "The shape of an array is the number of elements in each dimension.\n",
    "Hình dạng của một mảng\n",
    "Hình dạng của mảng là số phần tử trong mỗi chiều."
   ]
  },
  {
   "cell_type": "markdown",
   "id": "ba290ba9-06c8-4f83-bc99-42048b56cbdd",
   "metadata": {},
   "source": [
    "Get the Shape of an Array\n",
    "NumPy arrays have an attribute called shape that returns a tuple with each index having the number of corresponding elements.\n",
    "Lấy hình dạng của một mảng\n",
    "Mảng NumPy có một thuộc tính được gọi là shapetrả về một bộ dữ liệu với mỗi chỉ mục có số phần tử tương ứng."
   ]
  },
  {
   "cell_type": "code",
   "execution_count": 1,
   "id": "27dc5118-1af0-4a70-9aa7-c4ffaf259229",
   "metadata": {},
   "outputs": [
    {
     "name": "stdout",
     "output_type": "stream",
     "text": [
      "(2, 4)\n"
     ]
    }
   ],
   "source": [
    "# Print the shape of a 2-D array:\n",
    "# In hình dạng của mảng 2-D:\n",
    "import numpy as np\n",
    "\n",
    "arr = np.array([[1, 2, 3, 4], [5, 6, 7, 8]])\n",
    "\n",
    "print(arr.shape)"
   ]
  },
  {
   "cell_type": "markdown",
   "id": "66cbf7bc-f1b0-4772-9fdf-80cbce980940",
   "metadata": {},
   "source": [
    "The example above returns (2, 4), which means that the array has 2 dimensions, where the first dimension has 2 elements and the second has 4.\n",
    "Ví dụ trên trả về (2, 4), có nghĩa là mảng có 2 chiều, trong đó chiều thứ nhất có 2 phần tử và chiều thứ hai có 4 phần tử."
   ]
  },
  {
   "cell_type": "code",
   "execution_count": 6,
   "id": "3288535a-5d26-469d-9d62-09fbdba69d85",
   "metadata": {},
   "outputs": [
    {
     "name": "stdout",
     "output_type": "stream",
     "text": [
      "[[[[[1 2 3 4]]]]]\n",
      "(1, 1, 1, 1, 4)\n",
      "shape of array : (1, 1, 1, 1, 4)\n"
     ]
    }
   ],
   "source": [
    "# Create an array with 5 dimensions using ndmin using a vector with values 1,2,3,4 and verify that last dimension has value 4:\n",
    "# Tạo một mảng có 5 chiều bằng cách ndmin sử dụng vectơ có giá trị 1,2,3,4 và xác minh rằng chiều cuối cùng có giá trị 4:\n",
    "import numpy as np\n",
    "\n",
    "arr = np.array([1, 2, 3, 4], ndmin=5)\n",
    "\n",
    "print(arr)\n",
    "print('shape of array :', arr.shape)"
   ]
  },
  {
   "cell_type": "code",
   "execution_count": 5,
   "id": "0c814c14-2cc3-42a5-a742-ab3dace5701b",
   "metadata": {},
   "outputs": [
    {
     "name": "stdout",
     "output_type": "stream",
     "text": [
      "[[[[[1 2 3 4 7]]]]]\n",
      "shape of array : (1, 1, 1, 1, 5)\n"
     ]
    }
   ],
   "source": [
    "import numpy as np\n",
    "\n",
    "arr = np.array([1, 2, 3, 4, 7], ndmin=5)\n",
    "\n",
    "print(arr)\n",
    "print('shape of array :', arr.shape)"
   ]
  },
  {
   "cell_type": "markdown",
   "id": "298b47d5-1964-4141-b016-1290526c7675",
   "metadata": {},
   "source": [
    "What does the shape tuple represent?\n",
    "Integers at every index tells about the number of elements the corresponding dimension has.\n",
    "In the example above at index-4 we have value 4, so we can say that 5th ( 4 + 1 th) dimension has 4 elements.\n",
    "\n",
    "Tuple hình dạng đại diện cho cái gì?\n",
    "Các số nguyên ở mỗi chỉ mục cho biết số phần tử mà thứ nguyên tương ứng có.\n",
    "Trong ví dụ trên tại chỉ số-4, chúng ta có giá trị 4, vì vậy chúng ta có thể nói rằng chiều thứ 5 ( 4 + 1 th) có 4 phần tử."
   ]
  }
 ],
 "metadata": {
  "kernelspec": {
   "display_name": "Python 3 (ipykernel)",
   "language": "python",
   "name": "python3"
  },
  "language_info": {
   "codemirror_mode": {
    "name": "ipython",
    "version": 3
   },
   "file_extension": ".py",
   "mimetype": "text/x-python",
   "name": "python",
   "nbconvert_exporter": "python",
   "pygments_lexer": "ipython3",
   "version": "3.12.3"
  }
 },
 "nbformat": 4,
 "nbformat_minor": 5
}
