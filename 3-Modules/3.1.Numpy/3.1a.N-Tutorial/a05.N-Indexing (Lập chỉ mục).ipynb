{
 "cells": [
  {
   "cell_type": "markdown",
   "id": "d5718580-1db7-4b1c-a789-be4f1ecdfdb9",
   "metadata": {},
   "source": [
    "Access Array Elements\n",
    "Array indexing is the same as accessing an array element.\n",
    "You can access an array element by referring to its index number.\n",
    "The indexes in NumPy arrays start with 0, meaning that the first element has index 0, and the second has index 1 etc.\n",
    "Truy cập các phần tử mảng\n",
    "Lập chỉ mục mảng cũng giống như truy cập một phần tử mảng.\n",
    "Bạn có thể truy cập một phần tử mảng bằng cách tham khảo số chỉ mục của nó.\n",
    "Các chỉ mục trong mảng NumPy bắt đầu bằng 0, nghĩa là phần tử đầu tiên có chỉ mục 0 và phần tử thứ hai có chỉ mục 1, v.v."
   ]
  },
  {
   "cell_type": "code",
   "execution_count": 1,
   "id": "3b3f5a0b-abc6-400c-924d-20879d9af4ee",
   "metadata": {},
   "outputs": [
    {
     "name": "stdout",
     "output_type": "stream",
     "text": [
      "1\n"
     ]
    }
   ],
   "source": [
    "# Get the first element from the following array:\n",
    "# Lấy phần tử đầu tiên từ mảng sau:\n",
    "import numpy as np\n",
    "\n",
    "arr = np.array([1, 2, 3, 4])\n",
    "\n",
    "print(arr[0])"
   ]
  },
  {
   "cell_type": "code",
   "execution_count": 2,
   "id": "9875d09e-ab99-4f33-a3bf-aaf72c8bad1f",
   "metadata": {},
   "outputs": [
    {
     "name": "stdout",
     "output_type": "stream",
     "text": [
      "2\n"
     ]
    }
   ],
   "source": [
    "# Get the second element from the following array.\n",
    "# Lấy phần tử thứ hai từ mảng sau.\n",
    "import numpy as np\n",
    "\n",
    "arr = np.array([1, 2, 3, 4])\n",
    "\n",
    "print(arr[1])"
   ]
  },
  {
   "cell_type": "code",
   "execution_count": 3,
   "id": "ccc82adc-4a6e-4ed0-8f32-3c9f72ad0462",
   "metadata": {},
   "outputs": [
    {
     "name": "stdout",
     "output_type": "stream",
     "text": [
      "7\n"
     ]
    }
   ],
   "source": [
    "# Get third and fourth elements from the following array and add them.\n",
    "#Lấy phần tử thứ ba và thứ tư từ mảng sau và thêm chúng.\n",
    "import numpy as np\n",
    "\n",
    "arr = np.array([1, 2, 3, 4])\n",
    "\n",
    "print(arr[2] + arr[3])"
   ]
  },
  {
   "cell_type": "markdown",
   "id": "b46c58f1-bddc-46fa-a929-edb41771b485",
   "metadata": {},
   "source": [
    "Access 2-D Arrays\n",
    "To access elements from 2-D arrays we can use comma separated integers representing the dimension and the index of the element.\n",
    "Think of 2-D arrays like a table with rows and columns, where the dimension represents the row and the index represents the column.\n",
    "Truy cập mảng 2-D\n",
    "Để truy cập các phần tử từ mảng 2-D, chúng ta có thể sử dụng các số nguyên được phân tách bằng dấu phẩy biểu thị thứ nguyên và chỉ mục của phần tử.\n",
    "Hãy nghĩ về mảng 2-D giống như một bảng có hàng và cột, trong đó thứ nguyên đại diện cho hàng và chỉ mục đại diện cho cột."
   ]
  },
  {
   "cell_type": "code",
   "execution_count": 4,
   "id": "9da9a0cb-e1dd-40eb-bdd9-1b7dbc56c518",
   "metadata": {},
   "outputs": [
    {
     "name": "stdout",
     "output_type": "stream",
     "text": [
      "[[ 1  2  3  4  5]\n",
      " [ 6  7  8  9 10]]\n",
      "2nd element on 1st row:  2\n"
     ]
    }
   ],
   "source": [
    "# Access the element on the first row, second column:\n",
    "# Truy cập phần tử ở hàng đầu tiên, cột thứ hai:\n",
    "import numpy as np\n",
    "\n",
    "arr = np.array([[1,2,3,4,5], [6,7,8,9,10]])\n",
    "print(arr)\n",
    "print('2nd element on 1st row: ', arr[0, 1])"
   ]
  },
  {
   "cell_type": "code",
   "execution_count": 6,
   "id": "0f0d6ef8-817c-458a-998f-4502c0fe9429",
   "metadata": {},
   "outputs": [
    {
     "name": "stdout",
     "output_type": "stream",
     "text": [
      "[[ 1  2  3  4  5]\n",
      " [ 6  7  8  9 10]]\n",
      "3th element on 2rd row:  8\n"
     ]
    }
   ],
   "source": [
    "import numpy as np\n",
    "\n",
    "arr = np.array([[1,2,3,4,5], [6,7,8,9,10]])\n",
    "print(arr)\n",
    "print('3th element on 2rd row: ', arr[1, 2])"
   ]
  },
  {
   "cell_type": "code",
   "execution_count": 7,
   "id": "614818dd-b1dd-494d-8239-f242e3a10452",
   "metadata": {},
   "outputs": [
    {
     "name": "stdout",
     "output_type": "stream",
     "text": [
      "5th element on 2nd row:  10\n"
     ]
    }
   ],
   "source": [
    "# Access the element on the 2nd row, 5th column:\n",
    "# Truy cập phần tử ở hàng thứ 2, cột thứ 5:\n",
    "import numpy as np\n",
    "\n",
    "arr = np.array([[1,2,3,4,5], [6,7,8,9,10]])\n",
    "\n",
    "print('5th element on 2nd row: ', arr[1, 4])"
   ]
  },
  {
   "cell_type": "markdown",
   "id": "bed42826-a828-490f-9e2b-8535c45ca4b3",
   "metadata": {},
   "source": [
    "Access 3-D Arrays\n",
    "To access elements from 3-D arrays we can use comma separated integers representing the dimensions and the index of the element.\n",
    "Truy cập mảng 3-D\n",
    "Để truy cập các phần tử từ mảng 3-D, chúng ta có thể sử dụng các số nguyên được phân tách bằng dấu phẩy biểu thị kích thước và chỉ mục của phần tử."
   ]
  },
  {
   "cell_type": "code",
   "execution_count": 10,
   "id": "44ccceca-77cf-414a-8a4f-e75d0387eece",
   "metadata": {},
   "outputs": [
    {
     "name": "stdout",
     "output_type": "stream",
     "text": [
      "[[[ 1  2  3]\n",
      "  [ 4  5  6]]\n",
      "\n",
      " [[ 7  8  9]\n",
      "  [10 11 12]]]\n",
      "6\n"
     ]
    }
   ],
   "source": [
    "# Access the third element of the second array of the first array:\n",
    "# Truy cập phần tử thứ ba của mảng thứ hai của mảng đầu tiên:\n",
    "import numpy as np\n",
    "\n",
    "arr = np.array([[[1, 2, 3], [4, 5, 6]], [[7, 8, 9], [10, 11, 12]]])\n",
    "print(arr)\n",
    "print(arr[0, 1, 2])"
   ]
  },
  {
   "cell_type": "markdown",
   "id": "89322603-28f2-4b20-9b16-d27fddb39138",
   "metadata": {},
   "source": [
    "Example Explained\n",
    "arr[0, 1, 2] prints the value 6.\n",
    "\n",
    "And this is why:\n",
    "\n",
    "The first number represents the first dimension, which contains two arrays:\n",
    "[[1, 2, 3], [4, 5, 6]]\n",
    "and:\n",
    "[[7, 8, 9], [10, 11, 12]]\n",
    "Since we selected 0, we are left with the first array:\n",
    "[[1, 2, 3], [4, 5, 6]]\n",
    "\n",
    "The second number represents the second dimension, which also contains two arrays:\n",
    "[1, 2, 3]\n",
    "and:\n",
    "[4, 5, 6]\n",
    "Since we selected 1, we are left with the second array:\n",
    "[4, 5, 6]\n",
    "\n",
    "The third number represents the third dimension, which contains three values:\n",
    "4\n",
    "5\n",
    "6\n",
    "Since we selected 2, we end up with the third value:\n",
    "6\n",
    "\n",
    "Ví dụ giải thích\n",
    "arr[0, 1, 2]in giá trị 6.\n",
    "\n",
    "Và đây là lý do tại sao:\n",
    "\n",
    "Số đầu tiên đại diện cho chiều thứ nhất, chứa hai mảng:\n",
    "[[1, 2, 3], [4, 5, 6]]\n",
    "và:\n",
    "[[7, 8, 9], [10, 11, 12]]\n",
    "Vì chúng tôi đã chọn 0, chúng tôi còn lại mảng đầu tiên:\n",
    "[[1, 2, 3], [4, 5, 6]]\n",
    "\n",
    "Số thứ hai đại diện cho chiều thứ hai, cũng chứa hai mảng:\n",
    "[1, 2, 3]\n",
    "và:\n",
    "[4, 5, 6]\n",
    "Vì chúng tôi đã chọn 1, nên chúng tôi chỉ còn lại mảng thứ hai:\n",
    "[4, 5, 6]\n",
    "\n",
    "Số thứ ba đại diện cho chiều thứ ba, chứa ba giá trị:\n",
    "4\n",
    "5\n",
    "6\n",
    "Vì chúng tôi đã chọn 2, nên chúng tôi có giá trị thứ ba:\n",
    "6"
   ]
  },
  {
   "cell_type": "markdown",
   "id": "07f2b72e-7dfd-4b3b-a52c-e418b41640dc",
   "metadata": {},
   "source": [
    "Negative Indexing\n",
    "Use negative indexing to access an array from the end.\n",
    "Lập chỉ mục tiêu cực\n",
    "Sử dụng lập chỉ mục phủ định để truy cập một mảng từ cuối."
   ]
  },
  {
   "cell_type": "code",
   "execution_count": 9,
   "id": "ae16f3f0-7e0c-420f-a0de-bc880b1dce53",
   "metadata": {},
   "outputs": [
    {
     "name": "stdout",
     "output_type": "stream",
     "text": [
      "Last element from 2nd dim:  10\n"
     ]
    }
   ],
   "source": [
    "# Print the last element from the 2nd dim:\n",
    "# In phần tử cuối cùng từ mờ thứ 2:\n",
    "import numpy as np\n",
    "\n",
    "arr = np.array([[1,2,3,4,5], [6,7,8,9,10]])\n",
    "\n",
    "print('Last element from 2nd dim: ', arr[1, -1])"
   ]
  },
  {
   "cell_type": "code",
   "execution_count": null,
   "id": "6656d4f1-a54b-4eef-bb4e-9e00593beb43",
   "metadata": {},
   "outputs": [],
   "source": []
  }
 ],
 "metadata": {
  "kernelspec": {
   "display_name": "Python 3 (ipykernel)",
   "language": "python",
   "name": "python3"
  },
  "language_info": {
   "codemirror_mode": {
    "name": "ipython",
    "version": 3
   },
   "file_extension": ".py",
   "mimetype": "text/x-python",
   "name": "python",
   "nbconvert_exporter": "python",
   "pygments_lexer": "ipython3",
   "version": "3.11.7"
  }
 },
 "nbformat": 4,
 "nbformat_minor": 5
}
