{
 "cells": [
  {
   "cell_type": "markdown",
   "id": "bbc6616f-abe3-4c26-9b65-f917c7bcd819",
   "metadata": {},
   "source": [
    "Searching Arrays\n",
    "You can search an array for a certain value, and return the indexes that get a match.\n",
    "To search an array, use the where() method.\n",
    "Tìm kiếm mảng\n",
    "Bạn có thể tìm kiếm một giá trị nhất định trong mảng và trả về các chỉ mục phù hợp.\n",
    "Để tìm kiếm một mảng, hãy sử dụng where() phương thức này."
   ]
  },
  {
   "cell_type": "code",
   "execution_count": 1,
   "id": "769acf01-9ded-4db9-b9c5-eb689bf02eb4",
   "metadata": {},
   "outputs": [
    {
     "name": "stdout",
     "output_type": "stream",
     "text": [
      "(array([3, 5, 6], dtype=int64),)\n"
     ]
    }
   ],
   "source": [
    "# Find the indexes where the value is 4:\n",
    "# Tìm các chỉ mục có giá trị là 4:\n",
    "import numpy as np\n",
    "\n",
    "arr = np.array([1, 2, 3, 4, 5, 4, 4])\n",
    "\n",
    "x = np.where(arr == 4)\n",
    "\n",
    "print(x)"
   ]
  },
  {
   "cell_type": "code",
   "execution_count": null,
   "id": "d64cc151-c196-4644-a8be-76420e2509fe",
   "metadata": {},
   "outputs": [],
   "source": [
    "The example above will return a tuple: (array([3, 5, 6],)\n",
    "Which means that the value 4 is present at index 3, 5, and 6.\n",
    "Ví dụ trên sẽ trả về một bộ dữ liệu:(array([3, 5, 6],)\n",
    "Điều đó có nghĩa là giá trị 4 hiện diện ở chỉ số 3, 5 và 6."
   ]
  },
  {
   "cell_type": "code",
   "execution_count": 2,
   "id": "6fd85914-8eb1-4b8f-a321-26b369ad83c4",
   "metadata": {},
   "outputs": [
    {
     "name": "stdout",
     "output_type": "stream",
     "text": [
      "(array([1, 3, 5, 7], dtype=int64),)\n"
     ]
    }
   ],
   "source": [
    "# Find the indexes where the values are even:\n",
    "# Tìm các chỉ mục có giá trị chẵn:\n",
    "import numpy as np\n",
    "\n",
    "arr = np.array([1, 2, 3, 4, 5, 6, 7, 8])\n",
    "\n",
    "x = np.where(arr%2 == 0)\n",
    "\n",
    "print(x)"
   ]
  },
  {
   "cell_type": "code",
   "execution_count": 3,
   "id": "7d0dddfc-e217-4cb2-b0c0-d573db9fa9f6",
   "metadata": {},
   "outputs": [
    {
     "name": "stdout",
     "output_type": "stream",
     "text": [
      "(array([0, 2, 4, 6], dtype=int64),)\n"
     ]
    }
   ],
   "source": [
    "# Find the indexes where the values are odd:\n",
    "# Tìm các chỉ mục có giá trị lẻ:\n",
    "import numpy as np\n",
    "\n",
    "arr = np.array([1, 2, 3, 4, 5, 6, 7, 8])\n",
    "\n",
    "x = np.where(arr%2 == 1)\n",
    "\n",
    "print(x)"
   ]
  },
  {
   "cell_type": "markdown",
   "id": "d43cb67b-3e12-4e3a-9ad0-98fbe91ffe0c",
   "metadata": {},
   "source": [
    "Search Sorted\n",
    "There is a method called searchsorted() which performs a binary search in the array, and returns the index where the specified value would be inserted to maintain the search order.\n",
    "Tìm kiếm đã được sắp xếp\n",
    "Có một phương thức được gọi là searchsorted()thực hiện tìm kiếm nhị phân trong mảng và trả về chỉ mục nơi giá trị được chỉ định sẽ được chèn vào để duy trì thứ tự tìm kiếm."
   ]
  },
  {
   "cell_type": "markdown",
   "id": "f84600a0-0a69-450e-8bfe-c5acf8bdf928",
   "metadata": {},
   "source": [
    "The searchsorted() method is assumed to be used on sorted arrays.\n",
    "Phương thức này searchsorted()được cho là được sử dụng trên các mảng được sắp xếp."
   ]
  },
  {
   "cell_type": "code",
   "execution_count": 4,
   "id": "0115be3f-de4a-4597-ad3c-8fddaf98d47c",
   "metadata": {},
   "outputs": [
    {
     "name": "stdout",
     "output_type": "stream",
     "text": [
      "1\n"
     ]
    }
   ],
   "source": [
    "# Find the indexes where the value 7 should be inserted:\n",
    "# Tìm các chỉ mục cần chèn giá trị 7:\n",
    "import numpy as np\n",
    "\n",
    "arr = np.array([6, 7, 8, 9])\n",
    "\n",
    "x = np.searchsorted(arr, 7)\n",
    "\n",
    "print(x)"
   ]
  },
  {
   "cell_type": "markdown",
   "id": "a58b6938-b199-4d70-897a-2964c21512df",
   "metadata": {},
   "source": [
    "Example explained: The number 7 should be inserted on index 1 to remain the sort order.\n",
    "The method starts the search from the left and returns the first index where the number 7 is no longer larger than the next value.\n",
    "Ví dụ giải thích: Số 7 nên được chèn vào chỉ mục 1 để giữ nguyên thứ tự sắp xếp.\n",
    "Phương thức bắt đầu tìm kiếm từ bên trái và trả về chỉ mục đầu tiên trong đó số 7 không còn lớn hơn giá trị tiếp theo."
   ]
  },
  {
   "cell_type": "markdown",
   "id": "7d7d7800-94a3-4b92-ad7c-be95f650b373",
   "metadata": {},
   "source": [
    "Search From the Right Side\n",
    "By default the left most index is returned, but we can give side='right' to return the right most index instead.\n",
    "Tìm kiếm từ phía bên phải\n",
    "Theo mặc định, chỉ mục bên trái nhất được trả về, nhưng side='right'thay vào đó, chúng ta có thể trả về chỉ mục bên phải nhất."
   ]
  },
  {
   "cell_type": "code",
   "execution_count": 5,
   "id": "4f6156d8-5ab5-4e61-86c6-a3f5a0dfb53c",
   "metadata": {},
   "outputs": [
    {
     "name": "stdout",
     "output_type": "stream",
     "text": [
      "2\n"
     ]
    }
   ],
   "source": [
    "# Find the indexes where the value 7 should be inserted, starting from the right:\n",
    "# Tìm các chỉ mục cần chèn giá trị 7, bắt đầu từ bên phải:\n",
    "import numpy as np\n",
    "\n",
    "arr = np.array([6, 7, 8, 9])\n",
    "\n",
    "x = np.searchsorted(arr, 7, side='right')\n",
    "\n",
    "print(x)"
   ]
  },
  {
   "cell_type": "markdown",
   "id": "a0398797-1fdf-4410-aad7-aad7aed9e50b",
   "metadata": {},
   "source": [
    "Example explained: The number 7 should be inserted on index 2 to remain the sort order.\n",
    "The method starts the search from the right and returns the first index where the number 7 is no longer less than the next value.\n",
    "Ví dụ giải thích: Số 7 nên được chèn vào chỉ mục 2 để giữ nguyên thứ tự sắp xếp.\n",
    "Phương thức bắt đầu tìm kiếm từ bên phải và trả về chỉ mục đầu tiên trong đó số 7 không còn nhỏ hơn giá trị tiếp theo."
   ]
  },
  {
   "cell_type": "markdown",
   "id": "e525167a-d971-4aac-ac5c-3629664b4649",
   "metadata": {},
   "source": [
    "Multiple Values\n",
    "To search for more than one value, use an array with the specified values.\n",
    "Nhiều giá trị\n",
    "Để tìm kiếm nhiều giá trị, hãy sử dụng một mảng có các giá trị được chỉ định."
   ]
  },
  {
   "cell_type": "code",
   "execution_count": 6,
   "id": "ed514f39-9d81-4733-9df9-6784d12a9041",
   "metadata": {},
   "outputs": [
    {
     "name": "stdout",
     "output_type": "stream",
     "text": [
      "[1 2 3]\n"
     ]
    }
   ],
   "source": [
    "# Find the indexes where the values 2, 4, and 6 should be inserted:\n",
    "# Tìm các chỉ mục trong đó các giá trị 2, 4 và 6 sẽ được chèn vào:\n",
    "import numpy as np\n",
    "\n",
    "arr = np.array([1, 3, 5, 7])\n",
    "\n",
    "x = np.searchsorted(arr, [2, 4, 6])\n",
    "\n",
    "print(x)"
   ]
  },
  {
   "cell_type": "markdown",
   "id": "d005c801-3c8d-44f8-b73c-0b6970127598",
   "metadata": {},
   "source": [
    "The return value is an array: [1 2 3] containing the three indexes where 2, 4, 6 would be inserted in the original array to maintain the order.\n",
    "Giá trị trả về là một mảng: [1 2 3] chứa ba chỉ mục trong đó 2, 4, 6 sẽ được chèn vào mảng ban đầu để duy trì thứ tự."
   ]
  }
 ],
 "metadata": {
  "kernelspec": {
   "display_name": "Python 3 (ipykernel)",
   "language": "python",
   "name": "python3"
  },
  "language_info": {
   "codemirror_mode": {
    "name": "ipython",
    "version": 3
   },
   "file_extension": ".py",
   "mimetype": "text/x-python",
   "name": "python",
   "nbconvert_exporter": "python",
   "pygments_lexer": "ipython3",
   "version": "3.12.3"
  }
 },
 "nbformat": 4,
 "nbformat_minor": 5
}
