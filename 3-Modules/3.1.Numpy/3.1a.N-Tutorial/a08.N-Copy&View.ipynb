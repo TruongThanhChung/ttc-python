{
 "cells": [
  {
   "cell_type": "markdown",
   "id": "30a9d88d-d0a0-417d-bba5-a95898ed152f",
   "metadata": {},
   "source": [
    "The Difference Between Copy and View\n",
    "The main difference between a copy and a view of an array is that the copy is a new array, and the view is just a view of the original array.\n",
    "The copy owns the data and any changes made to the copy will not affect original array, and any changes made to the original array will not affect the copy.\n",
    "The view does not own the data and any changes made to the view will affect the original array, and any changes made to the original array will affect the view.\n",
    "Sự khác biệt giữa Sao chép và Xem\n",
    "Sự khác biệt chính giữa bản sao và chế độ xem của một mảng là bản sao là một mảng mới và chế độ xem chỉ là chế độ xem của mảng ban đầu.\n",
    "Bản sao sở hữu dữ liệu và mọi thay đổi được thực hiện đối với bản sao sẽ không ảnh hưởng đến mảng ban đầu và mọi thay đổi được thực hiện đối với mảng ban đầu sẽ không ảnh hưởng đến bản sao.\n",
    "Chế độ xem không sở hữu dữ liệu và mọi thay đổi được thực hiện đối với chế độ xem sẽ ảnh hưởng đến mảng ban đầu và mọi thay đổi được thực hiện đối với mảng ban đầu sẽ ảnh hưởng đến chế độ xem."
   ]
  },
  {
   "cell_type": "markdown",
   "id": "6afe91c3-c636-4a7b-bcb9-b93ff0392daf",
   "metadata": {},
   "source": [
    "Copy\n",
    "Sao chép"
   ]
  },
  {
   "cell_type": "code",
   "execution_count": 1,
   "id": "02ad81fc-f31a-4a56-967e-3d89f6200c7d",
   "metadata": {},
   "outputs": [
    {
     "name": "stdout",
     "output_type": "stream",
     "text": [
      "[42  2  3  4  5]\n",
      "[1 2 3 4 5]\n"
     ]
    }
   ],
   "source": [
    "# Make a copy, change the original array, and display both arrays:\n",
    "# Tạo một bản sao, thay đổi mảng ban đầu và hiển thị cả hai mảng:\n",
    "import numpy as np\n",
    "\n",
    "arr = np.array([1, 2, 3, 4, 5])\n",
    "x = arr.copy()\n",
    "arr[0] = 42\n",
    "\n",
    "print(arr)\n",
    "print(x)"
   ]
  },
  {
   "cell_type": "markdown",
   "id": "c675e56c-e5d5-41d9-b936-65655daa643c",
   "metadata": {},
   "source": [
    "The copy SHOULD NOT be affected by the changes made to the original array.\n",
    "Bản sao KHÔNG NÊN bị ảnh hưởng bởi những thay đổi được thực hiện đối với mảng ban đầu."
   ]
  },
  {
   "cell_type": "markdown",
   "id": "20c1b865-6d15-44c6-9a77-f8805946d343",
   "metadata": {},
   "source": [
    "View\n",
    "Xem"
   ]
  },
  {
   "cell_type": "code",
   "execution_count": 2,
   "id": "ae87a7d5-4f96-43e5-9a85-390507877c9c",
   "metadata": {},
   "outputs": [
    {
     "name": "stdout",
     "output_type": "stream",
     "text": [
      "[42  2  3  4  5]\n",
      "[42  2  3  4  5]\n"
     ]
    }
   ],
   "source": [
    "# Make a view, change the original array, and display both arrays:\n",
    "# Tạo chế độ xem, thay đổi mảng ban đầu và hiển thị cả hai mảng:\n",
    "import numpy as np\n",
    "\n",
    "arr = np.array([1, 2, 3, 4, 5])\n",
    "x = arr.view()\n",
    "arr[0] = 42\n",
    "\n",
    "print(arr)\n",
    "print(x)"
   ]
  },
  {
   "cell_type": "markdown",
   "id": "87ea68ba-65bc-4468-a7ee-132fe1994499",
   "metadata": {},
   "source": [
    "The view SHOULD be affected by the changes made to the original array.\n",
    "Chế độ xem NÊN bị ảnh hưởng bởi những thay đổi được thực hiện đối với mảng ban đầu."
   ]
  },
  {
   "cell_type": "markdown",
   "id": "2b09e70b-0228-4ac8-b247-798670db6e8b",
   "metadata": {},
   "source": [
    "Make Changes in the VIEW:\n",
    "Thực hiện các thay đổi trong VIEW:"
   ]
  },
  {
   "cell_type": "code",
   "execution_count": 3,
   "id": "799a6ade-0433-467f-a875-b8406c1c274c",
   "metadata": {},
   "outputs": [
    {
     "name": "stdout",
     "output_type": "stream",
     "text": [
      "[31  2  3  4  5]\n",
      "[31  2  3  4  5]\n"
     ]
    }
   ],
   "source": [
    "# Make a view, change the view, and display both arrays:\n",
    "# Tạo chế độ xem, thay đổi chế độ xem và hiển thị cả hai mảng:\n",
    "import numpy as np\n",
    "\n",
    "arr = np.array([1, 2, 3, 4, 5])\n",
    "x = arr.view()\n",
    "x[0] = 31\n",
    "\n",
    "print(arr)\n",
    "print(x)"
   ]
  },
  {
   "cell_type": "markdown",
   "id": "94611aa5-697d-41a2-8ea8-03d175ee49d7",
   "metadata": {},
   "source": [
    "The original array SHOULD be affected by the changes made to the view.\n",
    "Mảng ban đầu NÊN bị ảnh hưởng bởi những thay đổi được thực hiện đối với chế độ xem."
   ]
  },
  {
   "cell_type": "markdown",
   "id": "713f6416-edc5-4858-8ef0-725425a9d9d6",
   "metadata": {},
   "source": [
    "Check if Array Owns its Data\n",
    "As mentioned above, copies owns the data, and views does not own the data, but how can we check this?\n",
    "Every NumPy array has the attribute base that returns None if the array owns the data.\n",
    "Otherwise, the base attribute refers to the original object.\n",
    "Kiểm tra xem mảng có sở hữu dữ liệu của nó không\n",
    "Như đã đề cập ở trên, bản sao sở hữu dữ liệu và chế độ xem không sở hữu dữ liệu, nhưng làm cách nào để kiểm tra điều này?\n",
    "Mỗi mảng NumPy có thuộc tính cơ sở trả về None nếu mảng đó sở hữu dữ liệu.\n",
    "Mặt khác, thuộc tính cơ sở đề cập đến đối tượng ban đầu."
   ]
  },
  {
   "cell_type": "code",
   "execution_count": 4,
   "id": "2e87cc3d-f555-4ef6-9cc8-f716c8d631ce",
   "metadata": {},
   "outputs": [
    {
     "name": "stdout",
     "output_type": "stream",
     "text": [
      "None\n",
      "[1 2 3 4 5]\n"
     ]
    }
   ],
   "source": [
    "# Print the value of the base attribute to check if an array owns it's data or not:\n",
    "# In giá trị của thuộc tính cơ sở để kiểm tra xem một mảng có sở hữu dữ liệu của nó hay không:\n",
    "import numpy as np\n",
    "\n",
    "arr = np.array([1, 2, 3, 4, 5])\n",
    "\n",
    "x = arr.copy()\n",
    "y = arr.view()\n",
    "\n",
    "print(x.base)\n",
    "print(y.base)"
   ]
  },
  {
   "cell_type": "markdown",
   "id": "d15316b8-063d-4c2a-8c95-757be4795627",
   "metadata": {},
   "source": [
    "The copy returns None\n",
    "The view returns the original array\n",
    "Bản sao trả về None\n",
    "Chế độ xem trả về mảng ban đầu"
   ]
  },
  {
   "cell_type": "code",
   "execution_count": null,
   "id": "6df81659-4697-43db-86fe-bcd114b4273e",
   "metadata": {},
   "outputs": [],
   "source": []
  }
 ],
 "metadata": {
  "kernelspec": {
   "display_name": "Python 3 (ipykernel)",
   "language": "python",
   "name": "python3"
  },
  "language_info": {
   "codemirror_mode": {
    "name": "ipython",
    "version": 3
   },
   "file_extension": ".py",
   "mimetype": "text/x-python",
   "name": "python",
   "nbconvert_exporter": "python",
   "pygments_lexer": "ipython3",
   "version": "3.11.7"
  }
 },
 "nbformat": 4,
 "nbformat_minor": 5
}
