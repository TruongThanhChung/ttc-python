{
 "cells": [
  {
   "cell_type": "markdown",
   "id": "a0f8cfed-999f-439e-9e7e-0fecd97b8322",
   "metadata": {},
   "source": [
    "Iterating Arrays\n",
    "Iterating means going through elements one by one.\n",
    "As we deal with multi-dimensional arrays in numpy, we can do this using basic for loop of python.\n",
    "If we iterate on a 1-D array it will go through each element one by one.\n",
    "Lặp lại mảng\n",
    "Lặp lại có nghĩa là duyệt qua từng phần tử một.\n",
    "Khi xử lý mảng đa chiều một cách gọn gàng, chúng ta có thể thực hiện việc này bằng cách sử dụng vòng lặp for cơ bản của python.\n",
    "Nếu chúng ta lặp trên mảng 1-D, nó sẽ đi qua từng phần tử một."
   ]
  },
  {
   "cell_type": "code",
   "execution_count": 1,
   "id": "5f22d225-9a27-4d6e-a44e-6fd2e37f50fc",
   "metadata": {},
   "outputs": [
    {
     "name": "stdout",
     "output_type": "stream",
     "text": [
      "1\n",
      "2\n",
      "3\n"
     ]
    }
   ],
   "source": [
    "# Iterate on the elements of the following 1-D array:\n",
    "# Lặp lại các phần tử của mảng 1-D sau:\n",
    "import numpy as np\n",
    "\n",
    "arr = np.array([1, 2, 3])\n",
    "\n",
    "for x in arr:\n",
    "  print(x)"
   ]
  },
  {
   "cell_type": "markdown",
   "id": "70c016e1-a2cf-4d8e-b303-76688f268d94",
   "metadata": {},
   "source": [
    "Iterating 2-D Arrays\n",
    "In a 2-D array it will go through all the rows.\n",
    "Lặp lại mảng 2-D\n",
    "Trong mảng 2-D, nó sẽ đi qua tất cả các hàng."
   ]
  },
  {
   "cell_type": "code",
   "execution_count": 2,
   "id": "bb0b7cd7-70d7-478d-ad1a-9e5ec26b21f7",
   "metadata": {},
   "outputs": [
    {
     "name": "stdout",
     "output_type": "stream",
     "text": [
      "[1 2 3]\n",
      "[4 5 6]\n"
     ]
    }
   ],
   "source": [
    "# Iterate on the elements of the following 2-D array:\n",
    "# Lặp lại các phần tử của mảng 2-D sau:\n",
    "import numpy as np\n",
    "\n",
    "arr = np.array([[1, 2, 3], [4, 5, 6]])\n",
    "\n",
    "for x in arr:\n",
    "  print(x)"
   ]
  },
  {
   "cell_type": "markdown",
   "id": "39e6ffb4-6157-48ca-8637-ecf3c0a7cad7",
   "metadata": {},
   "source": [
    "If we iterate on a n-D array it will go through n-1th dimension one by one.\n",
    "Nếu chúng ta lặp lại trên một mảng n-D, nó sẽ đi qua từng chiều thứ n-1."
   ]
  },
  {
   "cell_type": "markdown",
   "id": "f883558f-e037-40c6-ae5d-ad95ff145230",
   "metadata": {},
   "source": [
    "To return the actual values, the scalars, we have to iterate the arrays in each dimension.\n",
    "Để trả về các giá trị thực tế, các giá trị vô hướng, chúng ta phải lặp lại các mảng theo từng chiều."
   ]
  },
  {
   "cell_type": "code",
   "execution_count": 3,
   "id": "c9511905-50a0-4e6e-9255-b13e1e4e4090",
   "metadata": {},
   "outputs": [
    {
     "name": "stdout",
     "output_type": "stream",
     "text": [
      "1\n",
      "2\n",
      "3\n",
      "4\n",
      "5\n",
      "6\n"
     ]
    }
   ],
   "source": [
    "# Iterate on each scalar element of the 2-D array:\n",
    "# Lặp lại từng phần tử vô hướng của mảng 2-D:\n",
    "import numpy as np\n",
    "\n",
    "arr = np.array([[1, 2, 3], [4, 5, 6]])\n",
    "\n",
    "for x in arr:\n",
    "  for y in x:\n",
    "    print(y)"
   ]
  },
  {
   "cell_type": "markdown",
   "id": "db8f4122-7048-4fbf-867f-222664d959da",
   "metadata": {},
   "source": [
    "Iterating 3-D Arrays\n",
    "In a 3-D array it will go through all the 2-D arrays.\n",
    "Lặp lại mảng 3-D\n",
    "Trong mảng 3-D, nó sẽ đi qua tất cả các mảng 2-D."
   ]
  },
  {
   "cell_type": "code",
   "execution_count": 4,
   "id": "50de6f69-1eb5-4009-8447-71d755ecd489",
   "metadata": {},
   "outputs": [
    {
     "name": "stdout",
     "output_type": "stream",
     "text": [
      "[[1 2 3]\n",
      " [4 5 6]]\n",
      "[[ 7  8  9]\n",
      " [10 11 12]]\n"
     ]
    }
   ],
   "source": [
    "# Iterate on the elements of the following 3-D array:\n",
    "# Lặp lại các phần tử của mảng 3-D sau:\n",
    "import numpy as np\n",
    "\n",
    "arr = np.array([[[1, 2, 3], [4, 5, 6]], [[7, 8, 9], [10, 11, 12]]])\n",
    "\n",
    "for x in arr:\n",
    "  print(x)"
   ]
  },
  {
   "cell_type": "markdown",
   "id": "021633fb-4f19-4a7e-8844-852437a08613",
   "metadata": {},
   "source": [
    "To return the actual values, the scalars, we have to iterate the arrays in each dimension.\n",
    "Để trả về các giá trị thực tế, các giá trị vô hướng, chúng ta phải lặp lại các mảng theo từng chiều."
   ]
  },
  {
   "cell_type": "code",
   "execution_count": 5,
   "id": "dfd62de8-b7e6-4c3b-a01e-88ffd24010b4",
   "metadata": {},
   "outputs": [
    {
     "name": "stdout",
     "output_type": "stream",
     "text": [
      "1\n",
      "2\n",
      "3\n",
      "4\n",
      "5\n",
      "6\n",
      "7\n",
      "8\n",
      "9\n",
      "10\n",
      "11\n",
      "12\n"
     ]
    }
   ],
   "source": [
    "# Iterate down to the scalars:\n",
    "# Lặp lại các đại lượng vô hướng:\n",
    "import numpy as np\n",
    "\n",
    "arr = np.array([[[1, 2, 3], [4, 5, 6]], [[7, 8, 9], [10, 11, 12]]])\n",
    "\n",
    "for x in arr:\n",
    "  for y in x:\n",
    "    for z in y:\n",
    "      print(z)"
   ]
  },
  {
   "cell_type": "markdown",
   "id": "08c47a60-48eb-4ec6-bc07-29c3acbacb0c",
   "metadata": {},
   "source": [
    "Iterating Arrays Using nditer()\n",
    "The function nditer() is a helping function that can be used from very basic to very advanced iterations. It solves some basic issues which we face in iteration, lets go through it with examples.\n",
    "Lặp lại mảng bằng nditer()\n",
    "Hàm nditer() là một hàm trợ giúp có thể được sử dụng từ các bước lặp rất cơ bản đến rất nâng cao. Nó giải quyết một số vấn đề cơ bản mà chúng ta gặp phải trong quá trình lặp lại, hãy xem qua nó bằng các ví dụ."
   ]
  },
  {
   "cell_type": "markdown",
   "id": "1446bef0-0e00-4e28-be89-411aaa5dfabc",
   "metadata": {},
   "source": [
    "Iterating on Each Scalar Element\n",
    "In basic for loops, iterating through each scalar of an array we need to use n for loops which can be difficult to write for arrays with very high dimensionality.\n",
    "Lặp lại trên mỗi phần tử vô hướng\n",
    "Trong các vòng lặp for cơ bản, lặp qua từng vô hướng của một mảng chúng ta cần sử dụng n vòng lặp for, điều này có thể khó viết đối với các mảng có số chiều rất cao."
   ]
  },
  {
   "cell_type": "code",
   "execution_count": 6,
   "id": "81913c7c-a9bb-46b5-a31f-b80a3e822a53",
   "metadata": {},
   "outputs": [
    {
     "name": "stdout",
     "output_type": "stream",
     "text": [
      "1\n",
      "2\n",
      "3\n",
      "4\n",
      "5\n",
      "6\n",
      "7\n",
      "8\n"
     ]
    }
   ],
   "source": [
    "# Iterate through the following 3-D array:\n",
    "# Lặp lại qua mảng 3-D sau:\n",
    "import numpy as np\n",
    "\n",
    "arr = np.array([[[1, 2], [3, 4]], [[5, 6], [7, 8]]])\n",
    "\n",
    "for x in np.nditer(arr):\n",
    "  print(x)"
   ]
  },
  {
   "cell_type": "markdown",
   "id": "87645778-b6be-4524-8490-fd09e5fc4856",
   "metadata": {},
   "source": [
    "Iterating Array With Different Data Types\n",
    "We can use op_dtypes argument and pass it the expected datatype to change the datatype of elements while iterating.\n",
    "NumPy does not change the data type of the element in-place (where the element is in array) so it needs some other space to perform this action, that extra space is called buffer, and in order to enable it in nditer() we pass flags=['buffered'].\n",
    "Lặp lại mảng với các kiểu dữ liệu khác nhau\n",
    "Chúng ta có thể sử dụng đối số op_dtypes và truyền cho nó kiểu dữ liệu dự kiến ​​để thay đổi kiểu dữ liệu của các phần tử trong khi lặp.\n",
    "NumPy không thay đổi kiểu dữ liệu của phần tử tại chỗ (trong đó phần tử nằm trong mảng) nên nó cần một số không gian khác để thực hiện hành động này, không gian thừa đó được gọi là bộ đệm và để kích hoạt nó, nditer() chúng tôi chuyển flags=['buffered']."
   ]
  },
  {
   "cell_type": "code",
   "execution_count": 7,
   "id": "2fe26cb9-4a87-42e1-ada1-c02873ca72ce",
   "metadata": {},
   "outputs": [
    {
     "name": "stdout",
     "output_type": "stream",
     "text": [
      "b'1'\n",
      "b'2'\n",
      "b'3'\n"
     ]
    }
   ],
   "source": [
    "# Iterate through the array as a string:\n",
    "# Lặp lại mảng dưới dạng một chuỗi:\n",
    "import numpy as np\n",
    "\n",
    "arr = np.array([1, 2, 3])\n",
    "\n",
    "for x in np.nditer(arr, flags=['buffered'], op_dtypes=['S']):\n",
    "  print(x)"
   ]
  },
  {
   "cell_type": "markdown",
   "id": "8046e71e-37f8-4b72-ba44-4ab09c946bb1",
   "metadata": {},
   "source": [
    "Iterating With Different Step Size\n",
    "We can use filtering and followed by iteration.\n",
    "Lặp lại với kích thước bước khác nhau\n",
    "Chúng ta có thể sử dụng tính năng lọc và theo sau là phép lặp."
   ]
  },
  {
   "cell_type": "code",
   "execution_count": 8,
   "id": "b7d0670d-b726-4ac4-b435-3a307cf37e5e",
   "metadata": {},
   "outputs": [
    {
     "name": "stdout",
     "output_type": "stream",
     "text": [
      "1\n",
      "3\n",
      "5\n",
      "7\n"
     ]
    }
   ],
   "source": [
    "# Iterate through every scalar element of the 2D array skipping 1 element:\n",
    "# Lặp qua mọi phần tử vô hướng của mảng 2D bỏ qua 1 phần tử:\n",
    "import numpy as np\n",
    "\n",
    "arr = np.array([[1, 2, 3, 4], [5, 6, 7, 8]])\n",
    "\n",
    "for x in np.nditer(arr[:, ::2]):\n",
    "  print(x)"
   ]
  },
  {
   "cell_type": "markdown",
   "id": "20c0614b-16f7-4a5d-96e7-3e052e1bb6a8",
   "metadata": {},
   "source": [
    "Enumerated Iteration Using ndenumerate()\n",
    "Enumeration means mentioning sequence number of somethings one by one.\n",
    "Sometimes we require corresponding index of the element while iterating, the ndenumerate() method can be used for those usecases.\n",
    "Phép lặp liệt kê sử dụng ndenumerate()\n",
    "Việc liệt kê có nghĩa là đề cập đến số thứ tự của từng thứ một.\n",
    "Đôi khi chúng ta yêu cầu chỉ mục tương ứng của phần tử trong khi lặp, phương thức ndenumerate() có thể được sử dụng cho các usecase đó."
   ]
  },
  {
   "cell_type": "code",
   "execution_count": 9,
   "id": "cd5844d1-924f-4c8e-af22-c49a9a4dc5ca",
   "metadata": {},
   "outputs": [
    {
     "name": "stdout",
     "output_type": "stream",
     "text": [
      "(0,) 1\n",
      "(1,) 2\n",
      "(2,) 3\n"
     ]
    }
   ],
   "source": [
    "# Enumerate on following 1D arrays elements:\n",
    "# Liệt kê các phần tử mảng 1D sau:\n",
    "import numpy as np\n",
    "\n",
    "arr = np.array([1, 2, 3])\n",
    "\n",
    "for idx, x in np.ndenumerate(arr):\n",
    "  print(idx, x)"
   ]
  },
  {
   "cell_type": "code",
   "execution_count": 10,
   "id": "b9fce891-7cdb-4e18-ab87-d220d9963e0a",
   "metadata": {},
   "outputs": [
    {
     "name": "stdout",
     "output_type": "stream",
     "text": [
      "(0, 0) 1\n",
      "(0, 1) 2\n",
      "(0, 2) 3\n",
      "(0, 3) 4\n",
      "(1, 0) 5\n",
      "(1, 1) 6\n",
      "(1, 2) 7\n",
      "(1, 3) 8\n"
     ]
    }
   ],
   "source": [
    "# Enumerate on following 2D array's elements:\n",
    "# Liệt kê các phần tử của mảng 2D sau:\n",
    "import numpy as np\n",
    "\n",
    "arr = np.array([[1, 2, 3, 4], [5, 6, 7, 8]])\n",
    "\n",
    "for idx, x in np.ndenumerate(arr):\n",
    "  print(idx, x)"
   ]
  },
  {
   "cell_type": "code",
   "execution_count": null,
   "id": "b8ce92a1-4d86-4bd6-b5ff-b921fb884524",
   "metadata": {},
   "outputs": [],
   "source": []
  }
 ],
 "metadata": {
  "kernelspec": {
   "display_name": "Python 3 (ipykernel)",
   "language": "python",
   "name": "python3"
  },
  "language_info": {
   "codemirror_mode": {
    "name": "ipython",
    "version": 3
   },
   "file_extension": ".py",
   "mimetype": "text/x-python",
   "name": "python",
   "nbconvert_exporter": "python",
   "pygments_lexer": "ipython3",
   "version": "3.11.7"
  }
 },
 "nbformat": 4,
 "nbformat_minor": 5
}
