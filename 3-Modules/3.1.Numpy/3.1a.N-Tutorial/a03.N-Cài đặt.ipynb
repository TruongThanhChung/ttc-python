{
 "cells": [
  {
   "cell_type": "markdown",
   "id": "0c1ba569-21e7-4e94-b902-5a6c341a0f3f",
   "metadata": {},
   "source": [
    "Installation of NumPy\n",
    "If you have Python and PIP already installed on a system, then installation of NumPy is very easy.\n",
    "Install it using this command: C:\\Users\\Your Name>pip install numpy\n",
    "Cài đặt NumPy\n",
    "Nếu bạn đã cài đặt Python và PIP trên hệ thống thì việc cài đặt NumPy rất dễ dàng.\n",
    "Cài đặt nó bằng lệnh này: C:\\Users\\Your Name>pip install numpy"
   ]
  },
  {
   "cell_type": "markdown",
   "id": "d2009d9e-4e53-436c-851e-9e72ce453b53",
   "metadata": {},
   "source": [
    "If this command fails, then use a python distribution that already has NumPy installed like, Anaconda, Spyder etc.\n",
    "Nếu lệnh này không thành công, thì hãy sử dụng bản phân phối python đã cài đặt NumPy như Anaconda, Spyder, v.v."
   ]
  },
  {
   "cell_type": "markdown",
   "id": "2c9e0ac0-1dc9-4b20-b70e-68d7ea5e4352",
   "metadata": {},
   "source": [
    "Import NumPy\n",
    "Once NumPy is installed, import it in your applications by adding the import keyword: import numpy\n",
    "Nhập NumPy\n",
    "Sau khi NumPy được cài đặt, hãy nhập nó vào ứng dụng của bạn bằng cách thêm import từ khóa: import numpy"
   ]
  },
  {
   "cell_type": "markdown",
   "id": "931987d7-3ba7-4125-887f-3781ae374ee8",
   "metadata": {},
   "source": [
    "Now NumPy is imported and ready to use.\n",
    "Bây giờ NumPy đã được nhập và sẵn sàng sử dụng."
   ]
  },
  {
   "cell_type": "code",
   "execution_count": 1,
   "id": "be359829-8e47-45f7-b662-c56c09831930",
   "metadata": {},
   "outputs": [
    {
     "name": "stdout",
     "output_type": "stream",
     "text": [
      "[1 2 3 4 5]\n"
     ]
    }
   ],
   "source": [
    "import numpy\n",
    "\n",
    "arr = numpy.array([1, 2, 3, 4, 5])\n",
    "\n",
    "print(arr)"
   ]
  },
  {
   "cell_type": "markdown",
   "id": "729bdfd9-c180-4381-af36-2d2c60eef8af",
   "metadata": {},
   "source": [
    "NumPy as np\n",
    "NumPy is usually imported under the np alias.\n",
    "alias: In Python alias are an alternate name for referring to the same thing.\n",
    "NumPy là np\n",
    "NumPy thường được nhập dưới np bí danh.\n",
    "bí danh: Trong Python bí danh là tên thay thế để đề cập đến điều tương tự."
   ]
  },
  {
   "cell_type": "markdown",
   "id": "3c3b9137-4a53-4b61-838d-e2047661ff95",
   "metadata": {},
   "source": [
    "Now the NumPy package can be referred to as np instead of numpy.\n",
    "Bây giờ gói NumPy có thể được gọi là npthay vì numpy."
   ]
  },
  {
   "cell_type": "code",
   "execution_count": 2,
   "id": "c9d1f144-c79a-4474-91c0-ca308fd33d0b",
   "metadata": {},
   "outputs": [
    {
     "name": "stdout",
     "output_type": "stream",
     "text": [
      "[1 2 3 4 5]\n"
     ]
    }
   ],
   "source": [
    "# Create an alias with the as keyword while importing:\n",
    "# Tạo bí danh với astừ khóa trong khi nhập:\n",
    "import numpy as np\n",
    "\n",
    "arr = np.array([1, 2, 3, 4, 5])\n",
    "\n",
    "print(arr)"
   ]
  },
  {
   "cell_type": "markdown",
   "id": "0c3d870c-6b93-4b44-a41e-410522948e26",
   "metadata": {},
   "source": [
    "Checking NumPy Version\n",
    "The version string is stored under __version__ attribute.\n",
    "Kiểm tra phiên bản NumPy\n",
    "Chuỗi phiên bản được lưu trữ dưới __version__ thuộc tính."
   ]
  },
  {
   "cell_type": "code",
   "execution_count": 3,
   "id": "9e577571-9b96-44f3-860f-b353f15219f9",
   "metadata": {},
   "outputs": [
    {
     "name": "stdout",
     "output_type": "stream",
     "text": [
      "1.26.4\n"
     ]
    }
   ],
   "source": [
    "import numpy as np\n",
    "\n",
    "print(np.__version__)"
   ]
  },
  {
   "cell_type": "code",
   "execution_count": null,
   "id": "c5fa8061-37f0-487f-a32b-d80195f345ad",
   "metadata": {},
   "outputs": [],
   "source": []
  }
 ],
 "metadata": {
  "kernelspec": {
   "display_name": "Python 3 (ipykernel)",
   "language": "python",
   "name": "python3"
  },
  "language_info": {
   "codemirror_mode": {
    "name": "ipython",
    "version": 3
   },
   "file_extension": ".py",
   "mimetype": "text/x-python",
   "name": "python",
   "nbconvert_exporter": "python",
   "pygments_lexer": "ipython3",
   "version": "3.12.3"
  }
 },
 "nbformat": 4,
 "nbformat_minor": 5
}
