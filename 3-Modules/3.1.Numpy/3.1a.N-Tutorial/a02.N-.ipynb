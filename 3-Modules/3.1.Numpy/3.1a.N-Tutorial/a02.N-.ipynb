{
 "cells": [
  {
   "cell_type": "markdown",
   "id": "f010e56d-04c4-476c-a980-fff96850f9d1",
   "metadata": {},
   "source": [
    "What is NumPy?\n",
    "NumPy is a Python library used for working with arrays.\n",
    "It also has functions for working in domain of linear algebra, fourier transform, and matrices.\n",
    "NumPy was created in 2005 by Travis Oliphant. It is an open source project and you can use it freely.\n",
    "NumPy stands for Numerical Python.\n",
    "NumPy là gì?\n",
    "NumPy là thư viện Python được sử dụng để làm việc với mảng.\n",
    "Nó cũng có chức năng làm việc trong lĩnh vực đại số tuyến tính, biến đổi phạm vi và ma trận.\n",
    "NumPy được tạo ra vào năm 2005 bởi Travis Oliphant. Đây là một dự án nguồn mở và bạn có thể sử dụng nó một cách tự do.\n",
    "NumPy là viết tắt của Python Numbers."
   ]
  },
  {
   "cell_type": "markdown",
   "id": "490eecd3-56c6-4fb3-a2f9-e1d3ad73709f",
   "metadata": {},
   "source": [
    "Why Use NumPy?\n",
    "In Python we have lists that serve the purpose of arrays, but they are slow to process.\n",
    "NumPy aims to provide an array object that is up to 50x faster than traditional Python lists.\n",
    "The array object in NumPy is called ndarray, it provides a lot of supporting functions that make working with ndarray very easy.\n",
    "Arrays are very frequently used in data science, where speed and resources are very important.\n",
    "Data Science: is a branch of computer science where we study how to store, use and analyze data for deriving information from it.\n",
    "Tại sao nên sử dụng NumPy?\n",
    "Trong Python, chúng ta có các danh sách phục vụ mục đích của mảng, nhưng chúng xử lý chậm.\n",
    "NumPy nhằm mục đích cung cấp một đối tượng mảng nhanh hơn tới 50 lần so với danh sách Python truyền thống.\n",
    "Đối tượng mảng trong NumPy được gọi là ndarray, nó cung cấp rất nhiều hàm hỗ trợ giúp làm việc ndarray rất dễ dàng.\n",
    "Mảng được sử dụng rất thường xuyên trong khoa học dữ liệu, nơi tốc độ và tài nguyên rất quan trọng.\n",
    "Khoa học dữ liệu: là một nhánh của khoa học máy tính, nơi chúng tôi nghiên cứu cách lưu trữ, sử dụng và phân tích dữ liệu để lấy thông tin từ dữ liệu đó."
   ]
  },
  {
   "cell_type": "markdown",
   "id": "21f3e60b-a49b-425d-ab25-8755c22e47e4",
   "metadata": {},
   "source": [
    "Why is NumPy Faster Than Lists?\n",
    "NumPy arrays are stored at one continuous place in memory unlike lists, so processes can access and manipulate them very efficiently.\n",
    "This behavior is called locality of reference in computer science.\n",
    "This is the main reason why NumPy is faster than lists. Also it is optimized to work with latest CPU architectures.\n",
    "Tại sao NumPy nhanh hơn danh sách?\n",
    "Mảng NumPy được lưu trữ tại một vị trí liên tục trong bộ nhớ không giống như danh sách, vì vậy các tiến trình có thể truy cập và thao tác chúng rất hiệu quả.\n",
    "Hành vi này được gọi là địa phương tham chiếu trong khoa học máy tính.\n",
    "Đây là lý do chính khiến NumPy nhanh hơn danh sách. Ngoài ra, nó được tối ưu hóa để hoạt động với các kiến ​​trúc CPU mới nhất."
   ]
  },
  {
   "cell_type": "markdown",
   "id": "69392b72-501f-491c-923a-83be0123bd0c",
   "metadata": {},
   "source": [
    "Which Language is NumPy written in?\n",
    "NumPy is a Python library and is written partially in Python, but most of the parts that require fast computation are written in C or C++.\n",
    "NumPy được viết bằng ngôn ngữ nào?\n",
    "NumPy là thư viện Python và được viết một phần bằng Python, nhưng hầu hết các phần yêu cầu tính toán nhanh đều được viết bằng C hoặc C++."
   ]
  },
  {
   "cell_type": "markdown",
   "id": "1c2d8bf6-2269-45cc-8fef-4f692effcd53",
   "metadata": {},
   "source": [
    "Where is the NumPy Codebase?\n",
    "The source code for NumPy is located at this github repository https://github.com/numpy/numpy\n",
    "github: enables many people to work on the same codebase.\n",
    "Cơ sở mã NumPy ở đâu?\n",
    "Mã nguồn của NumPy được đặt tại kho github này https://github.com/numpy/numpy\n",
    "github: cho phép nhiều người làm việc trên cùng một cơ sở mã."
   ]
  }
 ],
 "metadata": {
  "kernelspec": {
   "display_name": "Python 3 (ipykernel)",
   "language": "python",
   "name": "python3"
  },
  "language_info": {
   "codemirror_mode": {
    "name": "ipython",
    "version": 3
   },
   "file_extension": ".py",
   "mimetype": "text/x-python",
   "name": "python",
   "nbconvert_exporter": "python",
   "pygments_lexer": "ipython3",
   "version": "3.11.7"
  }
 },
 "nbformat": 4,
 "nbformat_minor": 5
}
