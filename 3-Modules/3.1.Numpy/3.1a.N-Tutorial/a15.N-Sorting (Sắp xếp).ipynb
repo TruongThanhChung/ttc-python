{
 "cells": [
  {
   "cell_type": "markdown",
   "id": "a843a778-5cf5-44d3-b490-5b24e8daa3ec",
   "metadata": {},
   "source": [
    "Sorting Arrays\n",
    "Sorting means putting elements in an ordered sequence.\n",
    "Ordered sequence is any sequence that has an order corresponding to elements, like numeric or alphabetical, ascending or descending.\n",
    "The NumPy ndarray object has a function called sort(), that will sort a specified array.\n",
    "Sắp xếp mảng\n",
    "Sắp xếp có nghĩa là sắp xếp các phần tử theo một trình tự có thứ tự .\n",
    "Trình tự có thứ tự là bất kỳ trình tự nào có thứ tự tương ứng với các phần tử, như số hoặc chữ cái, tăng dần hoặc giảm dần.\n",
    "Đối tượng NumPy ndarray có một hàm gọi là sort(), hàm này sẽ sắp xếp một mảng được chỉ định."
   ]
  },
  {
   "cell_type": "code",
   "execution_count": 1,
   "id": "0a63f16e-0a9e-4ff0-821c-106db868722f",
   "metadata": {},
   "outputs": [
    {
     "name": "stdout",
     "output_type": "stream",
     "text": [
      "[0 1 2 3]\n"
     ]
    }
   ],
   "source": [
    "# Sort the array:\n",
    "# Sắp xếp mảng:\n",
    "import numpy as np\n",
    "\n",
    "arr = np.array([3, 2, 0, 1])\n",
    "\n",
    "print(np.sort(arr))"
   ]
  },
  {
   "cell_type": "markdown",
   "id": "35c4ca14-ea78-45d5-9581-e7ce172614d8",
   "metadata": {},
   "source": [
    "Note: This method returns a copy of the array, leaving the original array unchanged\n",
    "Lưu ý: Phương thức này trả về một bản sao của mảng, giữ nguyên mảng ban đầu"
   ]
  },
  {
   "cell_type": "markdown",
   "id": "5f5061e1-0d42-487e-b0a7-50975c599608",
   "metadata": {},
   "source": [
    "You can also sort arrays of strings, or any other data type\n",
    "Bạn cũng có thể sắp xếp các mảng chuỗi hoặc bất kỳ loại dữ liệu nào khác"
   ]
  },
  {
   "cell_type": "code",
   "execution_count": 2,
   "id": "c78a0b0a-cfb3-4679-871c-efc83a95ebbf",
   "metadata": {},
   "outputs": [
    {
     "name": "stdout",
     "output_type": "stream",
     "text": [
      "['apple' 'banana' 'cherry']\n"
     ]
    }
   ],
   "source": [
    "# Sort the array alphabetically:\n",
    "# Sắp xếp mảng theo thứ tự bảng chữ cái:\n",
    "import numpy as np\n",
    "\n",
    "arr = np.array(['banana', 'cherry', 'apple'])\n",
    "\n",
    "print(np.sort(arr))"
   ]
  },
  {
   "cell_type": "code",
   "execution_count": 3,
   "id": "448bcce7-6d82-4559-8cdf-5e1f227c06d1",
   "metadata": {},
   "outputs": [
    {
     "name": "stdout",
     "output_type": "stream",
     "text": [
      "[False  True  True]\n"
     ]
    }
   ],
   "source": [
    "# Sort a boolean array:\n",
    "# Sắp xếp một mảng boolean:\n",
    "import numpy as np\n",
    "\n",
    "arr = np.array([True, False, True])\n",
    "\n",
    "print(np.sort(arr))"
   ]
  },
  {
   "cell_type": "markdown",
   "id": "ce923e01-bb6a-46b4-ba14-015558dd8c6b",
   "metadata": {},
   "source": [
    "Sorting a 2-D Array\n",
    "If you use the sort() method on a 2-D array, both arrays will be sorted\n",
    "Sắp xếp mảng 2 chiều\n",
    "Nếu bạn sử dụng phương thức sort() trên mảng 2-D, cả hai mảng sẽ được sắp xếp"
   ]
  },
  {
   "cell_type": "code",
   "execution_count": 4,
   "id": "2e8ef5b0-c1c6-4f36-963f-f7919bbeee7f",
   "metadata": {},
   "outputs": [
    {
     "name": "stdout",
     "output_type": "stream",
     "text": [
      "[[2 3 4]\n",
      " [0 1 5]]\n"
     ]
    }
   ],
   "source": [
    "# Sort a 2-D array:\n",
    "# Sắp xếp mảng 2 chiều:\n",
    "import numpy as np\n",
    "\n",
    "arr = np.array([[3, 2, 4], [5, 0, 1]])\n",
    "\n",
    "print(np.sort(arr))"
   ]
  },
  {
   "cell_type": "code",
   "execution_count": null,
   "id": "ddd4410f-2ecc-4f91-99f0-7c1404a2b7fc",
   "metadata": {},
   "outputs": [],
   "source": []
  }
 ],
 "metadata": {
  "kernelspec": {
   "display_name": "Python 3 (ipykernel)",
   "language": "python",
   "name": "python3"
  },
  "language_info": {
   "codemirror_mode": {
    "name": "ipython",
    "version": 3
   },
   "file_extension": ".py",
   "mimetype": "text/x-python",
   "name": "python",
   "nbconvert_exporter": "python",
   "pygments_lexer": "ipython3",
   "version": "3.11.7"
  }
 },
 "nbformat": 4,
 "nbformat_minor": 5
}
