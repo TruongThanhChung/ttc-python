{
 "cells": [
  {
   "cell_type": "markdown",
   "id": "5d695342-c645-411d-b059-63935371f834",
   "metadata": {},
   "source": [
    "For Loops\r\n",
    "A for loop is used for iterating over a sequence, like looping over items in an array, a list, or a dictionary\n",
    "Đối với vòng lặp\r\n",
    "Vònglặp  fop được sử dụng để lặp lại một chuỗi, như lặp qua các mục trong một mảng, danh sách hoặc từ điển.."
   ]
  },
  {
   "cell_type": "markdown",
   "id": "92795216-f295-4790-bdbb-f1de05b6a8f3",
   "metadata": {},
   "source": [
    "Loop through the items of a list:\n",
    "Lặp qua các mục của danh sách:\r\n",
    "\r\n",
    "{% for x in fruits %}\r\n",
    "  <h1>{{ x }}</h1>\r\n",
    "{% endfor %}"
   ]
  },
  {
   "cell_type": "markdown",
   "id": "b493aa29-8a75-4dfc-80d5-881c7283194b",
   "metadata": {},
   "source": [
    "Loop through a list of dictionaries:\r",
    "Lặp qua danh sách từ điển:\n",
    "\r\n",
    "{% for x in cars %}\r\n",
    "  <h1>{{ x.brand }}</h1>\r\n",
    "  <p>{{ x.model }}</p>\r\n",
    "  <p>{{ x.year }}</p>\r\n",
    "{% endfor %} "
   ]
  },
  {
   "cell_type": "markdown",
   "id": "5a2c3334-6815-407f-b28e-bdedfbd32832",
   "metadata": {},
   "source": [
    "Data From a Model\r\n",
    "Data in a model is like a table with rows and columns.\r\n",
    "\r\n",
    "The Member model we created earlier has five rows, and each row has three columns:\r\n",
    "  id \t firstname \t lastname \t pho    ne \t joined_date \r\n",
    " 1 \t E    mil \t Refsnes \t 5551234 \t 2022-01-05 \r\n",
    " 2 \t Tobias \t Refsnes \t 5557777 \t 2022-04-01 \r\n",
    " 3 \t     Linus \t Refsnes \t 5554321 \t 2021-12-24 \r\n",
    " 4     \t Lene \t Refsnes \t 5551234 \t 2021-05-01 \r\n",
    " 5 \t Stalikken \t Refsnes \t 5559876 \t 2022-09-29 \r\n",
    "When we fetch data from the model, it comes as a QuerySet object, with a similar format as the cars example above: a list with di\n",
    "Dữ liệu từ một mô hình\r\n",
    "Dữ liệu trong mô hình giống như một bảng có hàng và cột.\r\n",
    "\r\n",
    "Mô Memberhình chúng tôi đã tạo trước đó có năm hàng và mỗi hàng có ba cột:\r\n",
    "\r\n",
    " nhận dạng \t tên đầu tiên \t họ \t điện thoại \t ngày_tham gia \r\n",
    " 1 \t Emil \t giới thiệu \t 5551234 \t 2022-01-05 \r\n",
    " 2 \t Tobias \t giới thiệu \t 5557777 \t 2022-04-01 \r\n",
    " 3 \t Linus \t giới thiệu \t 5554321 \t 24-12-2021 \r\n",
    " 4 \t Lene \t giới thiệu \t 5551234 \t 2021-05-01 \r\n",
    " 5 \t Stalikken \t giới thiệu \t 5559876 \t 29-09-2022 \r\n",
    "Khi chúng tôi tìm nạp dữ liệu từ mô hình, nó sẽ xuất hiện dưới dạng một đối tượng QuerySet, với định dạng tương tự như ví dụ về ô tô ở trên: một danh sách có từ điển:ctionaries:"
   ]
  },
  {
   "cell_type": "markdown",
   "id": "3c2d7ccb-8d11-4b80-8a03-c0a7c251d0fa",
   "metadata": {},
   "source": [
    "<QuerySet [\r\n",
    "  {\r\n",
    "    'id': 1,\r\n",
    "    'firstname': 'Emil',\r\n",
    "    'lastname': 'Refsnes',\r\n",
    "    'phone': 5551234,\r\n",
    "    'joined_date': datetime.date(2022, 1, 5)\r\n",
    "  },\r\n",
    "  {\r\n",
    "    'id': 2,\r\n",
    "    'firstname': 'Tobias',\r\n",
    "    'lastname': 'Refsnes'\r\n",
    "    'phone': 5557777,\r\n",
    "    'joined_date': datetime.date(2021, 4, 1)\r\n",
    "  },\r\n",
    "  {\r\n",
    "    'id': 3,\r\n",
    "    'firstname': 'Linus',\r\n",
    "    'lastname': 'Refsnes'\r\n",
    "    'phone': 5554321,\r\n",
    "    'joined_date': datetime.date(2021, 12, 24)\r\n",
    "  },\r\n",
    "  {\r\n",
    "    'id': 4,\r\n",
    "    'firstname': 'Lene',\r\n",
    "    'lastname': 'Refsnes'\r\n",
    "    'phone': 5551234,\r\n",
    "    'joined_date': datetime.date(2021, 5, 1)\r\n",
    "  },\r\n",
    "  {\r\n",
    "    'id': 5,\r\n",
    "    'firstname': 'Stalikken',\r\n",
    "    'lastname': 'Refsnes'\r\n",
    "    'phone': 5559876,\r\n",
    "    'joined_date': datetime.date(2022, 9, 29)\r\n",
    "  }\r\n",
    "]> "
   ]
  },
  {
   "cell_type": "markdown",
   "id": "4d7dbc55-69ad-4dbf-a673-1c2672466e7b",
   "metadata": {},
   "source": [
    "Loop through items fetched from a database:\r",
    "Lặp lại các mục được tìm nạp từ cơ sở dữ liệu:\n",
    "\r\n",
    "{% for x in members %}\r\n",
    "  <h1>{{ x.id }}</h1>\r\n",
    "  <p>\r\n",
    "    {{ x.firstname }}\r\n",
    "    {{ x.lastname }}\r\n",
    "  </p>\r\n",
    "{% endfor %} "
   ]
  },
  {
   "cell_type": "markdown",
   "id": "29a845ab-59a4-4110-a768-badc6f816401",
   "metadata": {},
   "source": [
    "Reversed\r\n",
    "The reversed keyword is used when you want to do the loop in reversed order\n",
    "Đảo ngược\r\n",
    "Từkhóa  reversea được sử dụng khi bạn muốn thực hiện vòng lặp theo thứ tự đảo ngược.."
   ]
  },
  {
   "cell_type": "markdown",
   "id": "35a3968d-8b5c-4d20-99ff-09496763524f",
   "metadata": {},
   "source": [
    "{% for x in members reversed %}\n",
    "  <h1>{{ x.id }}</h1>\n",
    "  <p>\n",
    "    {{ x.firstname }}\n",
    "    {{ x.lastname }}\n",
    "  </p>\n",
    "{% endfor %}  "
   ]
  },
  {
   "cell_type": "markdown",
   "id": "d7de00c5-7ff7-40d1-ac9a-fb475b981374",
   "metadata": {},
   "source": [
    "Empty\r\n",
    "The empty keyword can be used if you want to do something special if the object is empty\n",
    "Trống\r\n",
    "Từ emptykhóa có thể được sử dụng nếu bạn muốn làm điều gì đó đặc biệt nếu đối tượng trống.."
   ]
  },
  {
   "cell_type": "markdown",
   "id": "0f9b2df7-7ce1-45cd-a698-0c997dad2dd2",
   "metadata": {},
   "source": [
    "<ul>\n",
    "  {% for x in emptytestobject %}\n",
    "    <li>{{ x.firstname }}</li>\n",
    "  {% empty %}\n",
    "    <li>No members</li>\n",
    "  {% endfor %}\n",
    "</ul> "
   ]
  },
  {
   "cell_type": "code",
   "execution_count": null,
   "id": "035397af-3af4-4589-b79a-db72fda1412e",
   "metadata": {},
   "outputs": [],
   "source": [
    "The empty keyword can also be used if the object does not exist:\n",
    "Từ khóa empty cũng có thể được sử dụng nếu đối tượng không tồn tại:"
   ]
  },
  {
   "cell_type": "markdown",
   "id": "a38dba8c-12b1-4f7c-a993-92e6f0e0b849",
   "metadata": {},
   "source": [
    "<ul>\n",
    "  {% for x in myobject %}\n",
    "    <li>{{ x.firstname }}</li>\n",
    "  {% empty %}\n",
    "    <li>No members</li>\n",
    "  {% endfor %}\n",
    "</ul> "
   ]
  },
  {
   "cell_type": "markdown",
   "id": "40e0a139-756f-41ec-b7bb-3610cd0ce24b",
   "metadata": {},
   "source": [
    "Loop Variables\r\n",
    "Django has some variables that are available for you inside a loop:\r\n",
    "\r\n",
    "forloop.counter\r\n",
    "forloop.counter0\r\n",
    "forloop.first\r\n",
    "forloop.last\r\n",
    "forloop.parentloop\r\n",
    "forloop.revcounter\r\n",
    "forloop.revcounter0\r\n",
    "forloop.counter\r\n",
    "The current iteration, sta\n",
    "Biến vòng lặp\r\n",
    "Django có một số biến có sẵn cho bạn trong vòng lặp:\r\n",
    "\r\n",
    "forloop.counter\r\n",
    "forloop.counter0\r\n",
    "forloop.first\r\n",
    "forloop.last\r\n",
    "forloop.parentloop\r\n",
    "forloop.revcounter\r\n",
    "forloop.revcounter0\r\n",
    "forloop.counter\r\n",
    "Lần lặp hiện tại, bắt đầu từ 1.rting at 1."
   ]
  },
  {
   "cell_type": "markdown",
   "id": "a0063549-cf18-455a-9376-63690bf1c615",
   "metadata": {},
   "source": [
    "<ul>\n",
    "  {% for x in fruits %}\n",
    "    <li>{{ forloop.counter }}</li>\n",
    "  {% endfor %}\n",
    "</ul> "
   ]
  },
  {
   "cell_type": "markdown",
   "id": "1a3faabf-f01d-4968-bd75-56858ee685ce",
   "metadata": {},
   "source": [
    "forloop.counter0\r\n",
    "The current iteration, starting at 0\n",
    "forloop.counter0\r\n",
    "Lần lặp hiện tại, bắt đầu từ 0.."
   ]
  },
  {
   "cell_type": "markdown",
   "id": "2e9c5202-b782-4da3-bf6d-f333bad4b464",
   "metadata": {},
   "source": [
    "<ul>\n",
    "  {% for x in fruits %}\n",
    "    <li>{{ forloop.counter0 }}</li>\n",
    "  {% endfor %}\n",
    "</ul> "
   ]
  },
  {
   "cell_type": "code",
   "execution_count": null,
   "id": "fccedbcc-1e44-410e-bd8d-7aa2f26872b1",
   "metadata": {},
   "outputs": [],
   "source": [
    "forloop.first\n",
    "Allows you to test if the loop is on its first iteration.\n",
    "forloop.first\n",
    "Cho phép bạn kiểm tra xem vòng lặp có ở lần lặp đầu tiên hay không."
   ]
  },
  {
   "cell_type": "markdown",
   "id": "f3fa62e8-e4f6-4e18-928e-8be7ee6ce1e0",
   "metadata": {},
   "source": [
    "Draw a blue background for the first iteration of the loop:\n",
    "Vẽ nền màu xanh lam cho lần lặp đầu tiên của vòng lặp:\n",
    "<ul>\n",
    "  {% for x in fruits %}\n",
    "    <li\n",
    "      {% if forloop.first %}\n",
    "        style='background-color:lightblue;'\n",
    "      {% endif %}\n",
    "    >{{ x }}</li>\n",
    "  {% endfor %}\n",
    "</ul> "
   ]
  },
  {
   "cell_type": "markdown",
   "id": "c74bab80-68ab-49e9-82d1-21ecdc16a1f3",
   "metadata": {},
   "source": [
    "forloop.last\n",
    "Allows you to test if the loop is on its last iteration.\n",
    "forloop.last\r\n",
    "Cho phép bạn kiểm tra xem vòng lặp có ở lần lặp cuối cùng hay không."
   ]
  },
  {
   "cell_type": "code",
   "execution_count": null,
   "id": "93eeb087-a0be-40c4-9d9b-339dc22e7c2f",
   "metadata": {},
   "outputs": [],
   "source": [
    "Draw a blue background for the last iteration of the loop:\n",
    "Vẽ nền màu xanh lam cho lần lặp cuối cùng của vòng lặp:\n",
    "<ul>\n",
    "  {% for x in fruits %}\n",
    "    <li\n",
    "      {% if forloop.last %}\n",
    "        style='background-color:lightblue;'\n",
    "      {% endif %}\n",
    "    >{{ x }}</li>\n",
    "  {% endfor %}\n",
    "</ul> "
   ]
  },
  {
   "cell_type": "markdown",
   "id": "677291a7-bd9c-4890-83ee-f0c46d9784ae",
   "metadata": {},
   "source": [
    "forloop.revcounter\r\n",
    "The current iteration if you start at the end and count backwards, ending up at 1\n",
    "forloop.revcounter\r\n",
    "Lần lặp hiện tại nếu bạn bắt đầu ở cuối và đếm ngược, kết thúc ở 1.."
   ]
  },
  {
   "cell_type": "markdown",
   "id": "2f86d7c5-7319-4a5d-8e4f-636b4827fd1c",
   "metadata": {},
   "source": [
    "<ul>\n",
    "  {% for x in fruits %}\n",
    "    <li>{{ forloop.revcounter }}</li>\n",
    "  {% endfor %}\n",
    "</ul> "
   ]
  },
  {
   "cell_type": "markdown",
   "id": "cad9bce5-b95a-47e1-ba0a-b33dc1785384",
   "metadata": {},
   "source": [
    "forloop.revcounter0\r\n",
    "The current iteration if you start at the end and count backwards, ending up at 0\n",
    "forloop.revcounter0\r\n",
    "Lần lặp hiện tại nếu bạn bắt đầu ở cuối và đếm ngược, kết thúc ở 0.."
   ]
  },
  {
   "cell_type": "markdown",
   "id": "587a6a32-45a6-4277-a143-5970c4971db2",
   "metadata": {},
   "source": [
    "<ul>\n",
    "  {% for x in fruits %}\n",
    "    <li>{{ forloop.revcounter0 }}</li>\n",
    "  {% endfor %}\n",
    "</ul> "
   ]
  }
 ],
 "metadata": {
  "kernelspec": {
   "display_name": "Python 3 (ipykernel)",
   "language": "python",
   "name": "python3"
  },
  "language_info": {
   "codemirror_mode": {
    "name": "ipython",
    "version": 3
   },
   "file_extension": ".py",
   "mimetype": "text/x-python",
   "name": "python",
   "nbconvert_exporter": "python",
   "pygments_lexer": "ipython3",
   "version": "3.11.7"
  }
 },
 "nbformat": 4,
 "nbformat_minor": 5
}
