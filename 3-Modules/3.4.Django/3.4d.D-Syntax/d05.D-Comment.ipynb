{
 "cells": [
  {
   "cell_type": "markdown",
   "id": "8bcd04bf-bce5-4af6-ae81-5e69677ece6c",
   "metadata": {},
   "source": [
    "Comments\n",
    "Comments allows you to have sections of code that should be ignored.\n",
    "Bình luận\r\n",
    "Nhận xét cho phép bạn có những phần mã cần được bỏ qua."
   ]
  },
  {
   "cell_type": "code",
   "execution_count": null,
   "id": "3e2a17ab-dea4-4d27-ac91-c72761987348",
   "metadata": {},
   "outputs": [],
   "source": [
    "<h1>Welcome Everyone</h1>\n",
    "{% comment %}\n",
    "  <h1>Welcome ladies and gentlemen</h1>\n",
    "{% endcomment %}"
   ]
  },
  {
   "cell_type": "markdown",
   "id": "64f188de-4a77-45ff-b262-46aef762d044",
   "metadata": {},
   "source": [
    "Comment Description\r\n",
    "You can add a message to your comment, to help you remember why you wrote the comment, or as message to other people reading the code\n",
    "Mô tả bình luận\r\n",
    "Bạn có thể thêm tin nhắn vào nhận xét của mình để giúp bạn nhớ lý do tại sao bạn viết nhận xét hoặc dưới dạng tin nhắn cho những người khác đang đọc mã.."
   ]
  },
  {
   "cell_type": "markdown",
   "id": "a29ff54e-fa95-4c31-a00a-894e68ac1c46",
   "metadata": {},
   "source": [
    "Add a description to your comment:\n",
    "Thêm mô tả vào nhận xét của bạn:\n",
    "<h1>Welcome Everyone</h1>\n",
    "{% comment \"this was the original welcome message\" %}\n",
    "    <h1>Welcome ladies and gentlemen</h1>\n",
    "{% endcomment %}"
   ]
  },
  {
   "cell_type": "markdown",
   "id": "fc68fd2f-6848-4e61-801b-7b0cccbe3897",
   "metadata": {},
   "source": [
    "Smaller Comments\r\n",
    "You can also use the {# ... #} tags when commenting out code, which can be easier for smaller comments\n",
    "Bình luận nhỏ hơn\r\n",
    "Bạn cũng có thể sử dụng {# ... #}thẻ khi nhận xét mã, điều này có thể dễ dàng hơn đối với những nhận xét nhỏ hơn::"
   ]
  },
  {
   "cell_type": "markdown",
   "id": "9a7e2bc8-5e48-4aea-bd90-c13f441b25f3",
   "metadata": {},
   "source": [
    "Comment out the word Everyone:\r",
    "Hãy bình luận từ Mọi người:\n",
    "\r\n",
    "<h1>Welcome{# Everyone#}</h1>"
   ]
  },
  {
   "cell_type": "markdown",
   "id": "c07b06e6-4ecf-414e-b31b-39a58b4111e6",
   "metadata": {},
   "source": [
    "Comment in Views\r\n",
    "Views are written in Python, and Python comments are written with the # character\n",
    "Bình luận trong Lượt xem\r\n",
    "Lượt xem được viết bằng Python và nhận xét Python được viết bằng #ký tự::"
   ]
  },
  {
   "cell_type": "markdown",
   "id": "f953c0c3-b77d-4a63-8590-25f8088af4a8",
   "metadata": {},
   "source": [
    "Comment out a section in the view:\r",
    "Nhận xét một phần trong chế độ xem:\n",
    "\r\n",
    "from django.http import HttpResponse\r\n",
    "from django.template import loader\r\n",
    "\r\n",
    "def testing(request):\r\n",
    "  template = loader.get_template('template.html')\r\n",
    "  #context = {\r\n",
    "  # 'var1': 'John',\r\n",
    "  #}\r\n",
    "  return HttpResponse(template.render())"
   ]
  },
  {
   "cell_type": "markdown",
   "id": "7c0e04af-f516-4370-be51-3a7b6db49b89",
   "metadata": {},
   "source": [
    "Read more about Python Comments in out Python Comment Tutorial.\n",
    "Đọc thêm về Python Comment trong Hướng dẫn Python Comment ."
   ]
  }
 ],
 "metadata": {
  "kernelspec": {
   "display_name": "Python 3 (ipykernel)",
   "language": "python",
   "name": "python3"
  },
  "language_info": {
   "codemirror_mode": {
    "name": "ipython",
    "version": 3
   },
   "file_extension": ".py",
   "mimetype": "text/x-python",
   "name": "python",
   "nbconvert_exporter": "python",
   "pygments_lexer": "ipython3",
   "version": "3.11.7"
  }
 },
 "nbformat": 4,
 "nbformat_minor": 5
}
