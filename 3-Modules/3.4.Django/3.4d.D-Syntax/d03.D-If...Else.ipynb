{
 "cells": [
  {
   "cell_type": "markdown",
   "id": "fd5057a7-6682-4ca2-a0b4-a4dc7a41aa5f",
   "metadata": {},
   "source": [
    "If Statement\r\n",
    "An if statement evaluates a variable and executes a block of code if the value is true\n",
    "Câu lệnh if\r\n",
    "Một ifcâu lệnh đánh giá một biến và thực thi một khối mã nếu giá trị đó là đúng.."
   ]
  },
  {
   "cell_type": "markdown",
   "id": "11772105-117c-4bf2-8a95-a09e336a6f71",
   "metadata": {},
   "source": [
    "{% if greeting == 1 %}\r\n",
    "  <h1>Hello</h1>\r\n",
    "{% endif %} "
   ]
  },
  {
   "cell_type": "markdown",
   "id": "13f18021-1626-47a0-bcdc-4e9cac18e84d",
   "metadata": {},
   "source": [
    "Elif\r\n",
    "The elif keyword says \"if the previous conditions were not true, then try this condition\"\n",
    "Elif\r\n",
    "T khóaừ elia có nội dung \"nếu các điều kiện trước đó không đúng thì hãy thử điều kiện này\".."
   ]
  },
  {
   "cell_type": "code",
   "execution_count": null,
   "id": "a1bcb392-f82f-480a-b9dd-597ad0cca635",
   "metadata": {},
   "outputs": [],
   "source": [
    "{% if greeting == 1 %}\n",
    "  <h1>Hello</h1>\n",
    "{% elif greeting == 2 %}\n",
    "  <h1>Welcome</h1>\n",
    "{% endif %} "
   ]
  },
  {
   "cell_type": "markdown",
   "id": "450da545-7308-4696-a24a-8b9e672ba101",
   "metadata": {},
   "source": [
    "Else\r\n",
    "The else keyword catches anything which isn't caught by the preceding conditions\n",
    "Khác\r\n",
    "T khóaừ elsa nắm bắt bất cứ điều gì không được nắm bắt bởi các điều kiện trước đó.."
   ]
  },
  {
   "cell_type": "code",
   "execution_count": null,
   "id": "21f5cabc-34fa-420b-a452-d42c87e4864a",
   "metadata": {},
   "outputs": [],
   "source": [
    "{% if greeting == 1 %}\n",
    "  <h1>Hello</h1>\n",
    "{% elif greeting == 2 %}\n",
    "  <h1>Welcome</h1>\n",
    "{% else %}\n",
    "  <h1>Goodbye</h1>\n",
    "{% endif %} "
   ]
  },
  {
   "cell_type": "markdown",
   "id": "ca3573cb-2961-4dba-850e-ac5ba3510bcd",
   "metadata": {},
   "source": [
    "Operators\r\n",
    "The above examples uses the == operator, which is used to check if a variable is equal to a value, but there are many other operators you can use, or you can even drop the operator if you just want to check if a variable is not empty\n",
    "Toán tử\r\n",
    "Các ví dụ trên sử dụng ==toán tử, được sử dụng để kiểm tra xem một biến có bằng một giá trị hay không, nhưng có nhiều toán tử khác mà bạn có thể sử dụng hoặc thậm chí bạn có thể bỏ toán tử nếu bạn chỉ muốn kiểm tra xem một biến có trống không ::"
   ]
  },
  {
   "cell_type": "code",
   "execution_count": null,
   "id": "0599072d-c03c-4c4a-b881-3a2cb6cdafaf",
   "metadata": {},
   "outputs": [],
   "source": [
    "{% if greeting %}\n",
    "  <h1>Hello</h1>\n",
    "{% endif %} "
   ]
  },
  {
   "cell_type": "markdown",
   "id": "90d8354f-776b-4edd-a7c6-447ea56e807f",
   "metadata": {},
   "source": [
    "==\r\n",
    "Is equal to\n",
    "==\r\n",
    "Bằng.."
   ]
  },
  {
   "cell_type": "code",
   "execution_count": null,
   "id": "c4080a17-ffee-4e38-84f0-ea174df3092f",
   "metadata": {},
   "outputs": [],
   "source": [
    "{% if greeting == 2 %}\n",
    "  <h1>Hello</h1>\n",
    "{% endif %}"
   ]
  },
  {
   "cell_type": "code",
   "execution_count": null,
   "id": "3e24248c-d477-4ea7-9507-a0d9bdf2c7e7",
   "metadata": {},
   "outputs": [],
   "source": []
  },
  {
   "cell_type": "markdown",
   "id": "fd265b02-132a-40a6-bda1-1f0b44969fc6",
   "metadata": {},
   "source": [
    "!=\n",
    "Is not equal to.\n",
    "!=\r\n",
    "Không bằng."
   ]
  },
  {
   "cell_type": "code",
   "execution_count": null,
   "id": "a00e3151-0cae-4fd3-b229-79c1f760cd62",
   "metadata": {},
   "outputs": [],
   "source": [
    "{% if greeting != 1 %}\n",
    "  <h1>Hello</h1>\n",
    "{% endif %} "
   ]
  },
  {
   "cell_type": "markdown",
   "id": "d35b2eda-3999-4ae2-9388-0f611a5be598",
   "metadata": {},
   "source": [
    "<\r\n",
    "Is less than\n",
    "<\r\n",
    "Ít hơn.."
   ]
  },
  {
   "cell_type": "code",
   "execution_count": null,
   "id": "ce94f3ba-f69f-4e2e-87d0-2d57745f11ff",
   "metadata": {},
   "outputs": [],
   "source": [
    "{% if greeting < 3 %}\n",
    "  <h1>Hello</h1>\n",
    "{% endif %} "
   ]
  },
  {
   "cell_type": "markdown",
   "id": "b7f8a90d-b52f-4e54-aaab-a9859539b825",
   "metadata": {},
   "source": [
    "<=\n",
    "Is less than, or equal to.\n",
    "<=\r\n",
    "Nhỏ hơn hoặc bằng."
   ]
  },
  {
   "cell_type": "markdown",
   "id": "178bb6d4-5cda-4179-adf0-524df076da75",
   "metadata": {},
   "source": [
    "{% if greeting <= 3 %}\n",
    "  <h1>Hello</h1>\n",
    "{% endif %} "
   ]
  },
  {
   "cell_type": "markdown",
   "id": "87159c0f-e4dd-4dd5-b1ce-2a000afe7ae9",
   "metadata": {},
   "source": [
    ">\r\n",
    "Is greater than\n",
    ">\r\n",
    "Là lớn hơn.."
   ]
  },
  {
   "cell_type": "markdown",
   "id": "d3c8bede-6999-4ac1-9051-c47a929f48ac",
   "metadata": {},
   "source": [
    "{% if greeting > 1 %}\n",
    "  <h1>Hello</h1>\n",
    "{% endif %} "
   ]
  },
  {
   "cell_type": "markdown",
   "id": "7e1ac66e-7986-43fb-b952-99065a3cf395",
   "metadata": {},
   "source": [
    ">=\r\n",
    "Is greater than, or equal to\n",
    ">=\r\n",
    "Là lớn hơn hoặc bằng.."
   ]
  },
  {
   "cell_type": "code",
   "execution_count": null,
   "id": "0af6bcde-435a-48a2-861d-f1210759d7b1",
   "metadata": {},
   "outputs": [],
   "source": [
    "{% if greeting >= 1 %}\n",
    "  <h1>Hello</h1>\n",
    "{% endif %} "
   ]
  },
  {
   "cell_type": "markdown",
   "id": "734aa31d-08ce-4250-853e-ac4b9235619b",
   "metadata": {},
   "source": [
    "and\r\n",
    "To check if more than one condition is true\n",
    "Và\r\n",
    "Để kiểm tra xem có nhiều hơn một điều kiện là đúng hay không.."
   ]
  },
  {
   "cell_type": "code",
   "execution_count": null,
   "id": "3ee103db-24ef-4962-a6e7-7cd3395505ca",
   "metadata": {},
   "outputs": [],
   "source": [
    "{% if greeting == 1 and day == \"Friday\" %}\n",
    "  <h1>Hello Weekend!</h1>\n",
    "{% endif %} "
   ]
  },
  {
   "cell_type": "markdown",
   "id": "5783b05d-268b-40b3-bdc8-90f1d37515dc",
   "metadata": {},
   "source": [
    "or\r\n",
    "To check if one of the conditions is true\n",
    "hoặc\r\n",
    "Để kiểm tra xem một trong các điều kiện có đúng hay không.."
   ]
  },
  {
   "cell_type": "code",
   "execution_count": null,
   "id": "f896fbe8-a6a2-4b24-9bc4-6e3b2c4f074f",
   "metadata": {},
   "outputs": [],
   "source": [
    "{% if greeting == 1 or greeting == 5 %}\n",
    "  <h1>Hello</h1>\n",
    "{% endif %} "
   ]
  },
  {
   "cell_type": "markdown",
   "id": "06af5623-6b0b-4360-97fb-3d679c1bfa98",
   "metadata": {},
   "source": [
    "and/or\n",
    "Combine and and or.\n",
    "và/hoặc\r\n",
    "Kết hợp andvà or."
   ]
  },
  {
   "cell_type": "markdown",
   "id": "540225c4-0aa7-412a-a8ae-bffc8c0832f9",
   "metadata": {},
   "source": [
    "{% if greeting == 1 and day == \"Friday\" or greeting == 5 %}"
   ]
  },
  {
   "cell_type": "markdown",
   "id": "1ebbb4f0-67e0-433b-9b6e-fd4de03169e9",
   "metadata": {},
   "source": [
    "Parentheses are not allowed in if statements in Django, so when you combine and and or operators, it is important to know that parentheses are added for and but not for or.\n",
    "Meaning that the above example is read by the interpreter like this:\n",
    "Dấu ngoặc đơn không được phép trong ifcác câu lệnh ở Django, vì vậy khi bạn kết hợp andcác ortoán tử, điều quan trọng cần biết là dấu ngoặc đơn được thêm vào and chứ không phải cho or.\r",
    "\r\n",
    "Có nghĩa là ví dụ trên được trình thông dịch đọc như thế này:"
   ]
  },
  {
   "cell_type": "code",
   "execution_count": null,
   "id": "61d33e97-54de-4ff4-99b7-bd8c1517938c",
   "metadata": {},
   "outputs": [],
   "source": [
    "{% if (greeting == 1 and day == \"Friday\") or greeting == 5 %}"
   ]
  },
  {
   "cell_type": "markdown",
   "id": "97e5b8e7-6cec-4b3e-b1ee-ed2389aaf9f5",
   "metadata": {},
   "source": [
    "in\r\n",
    "To check if a certain item is present in an object\n",
    "TRONG\r\n",
    "Để kiểm tra xem một mục nào đó có trong một đối tượng hay không.."
   ]
  },
  {
   "cell_type": "code",
   "execution_count": null,
   "id": "e1eb01a8-22fb-4da9-bfa4-c5d4a2cb0cc4",
   "metadata": {},
   "outputs": [],
   "source": [
    "{% if 'Banana' in fruits %}\n",
    "  <h1>Hello</h1>\n",
    "{% else %}\n",
    "  <h1>Goodbye</h1>\n",
    "{% endif %}"
   ]
  },
  {
   "cell_type": "markdown",
   "id": "0cdb840b-30c1-4fe0-a9ed-e598d2092a1d",
   "metadata": {},
   "source": [
    "not in\n",
    "To check if a certain item is not present in an object.\n",
    "không ở trong\r\n",
    "Để kiểm tra xem một mục nào đó không có trong một đối tượng."
   ]
  },
  {
   "cell_type": "code",
   "execution_count": null,
   "id": "01602fd9-b1a5-42f3-a6e6-39dc1d0f327f",
   "metadata": {},
   "outputs": [],
   "source": [
    "{% if 'Banana' not in fruits %}\n",
    "  <h1>Hello</h1>\n",
    "{% else %}\n",
    "  <h1>Goodbye</h1>\n",
    "{% endif %} "
   ]
  },
  {
   "cell_type": "markdown",
   "id": "ef8b337d-a0a1-477d-acb7-aac249802984",
   "metadata": {},
   "source": [
    "is\r\n",
    "Check if two objects are the same\r\n",
    "\r\n",
    "This operator is different from the == operator, because the == operator checks the values of two objects, but the is operator checks the identity of two objecs.\r\n",
    "\r\n",
    "In the view we have two objects, x and y, with the same va\n",
    "là\r\n",
    "Kiểm tra xem hai đối tượng có giống nhau không\r\n",
    "\r\n",
    "Toán tử này khác với ==toán tử vì toán ==tử kiểm tra giá trị của hai đối tượng, nhưng toán istử kiểm tra danh tính của hai đối tượg.\r\n",
    "\r\n",
    "Trong khung nhìn, chúng ta có hai đối tượng xvà y, có cùng giá trị:lues:"
   ]
  },
  {
   "cell_type": "markdown",
   "id": "0e4e57e2-8d02-43f2-9d29-ee57ccaa2ff3",
   "metadata": {},
   "source": [
    "from django.http import HttpResponse\n",
    "from django.template import loader\n",
    "\n",
    "def testing(request):\n",
    "  template = loader.get_template('template.html')\n",
    "  context = {\n",
    "    'x': ['Apple', 'Banana', 'Cherry'], \n",
    "    'y': ['Apple', 'Banana', 'Cherry'], \n",
    "  }\n",
    "  return HttpResponse(template.render(context, request))  "
   ]
  },
  {
   "cell_type": "markdown",
   "id": "3ee4442e-d668-46fe-b732-1beb5b4c763d",
   "metadata": {},
   "source": [
    "The two objects have the same value, but is it the same object?\n",
    "Hai đối tượng có cùng giá trị, nhưng nó có phải là cùng một đối tượng không?"
   ]
  },
  {
   "cell_type": "markdown",
   "id": "957f33c7-e91e-4cfe-9560-f8cc335f1d2c",
   "metadata": {},
   "source": [
    "{% if x is y %}\n",
    "  <h1>YES</h1>\n",
    "{% else %}\n",
    "  <h1>NO</h1>\n",
    "{% endif %}"
   ]
  },
  {
   "cell_type": "markdown",
   "id": "97f5c836-7040-4f2f-a1b8-9e93ea0e6f60",
   "metadata": {},
   "source": [
    "Let us try the same example with the == operator instead:\n",
    "Thay vào đó, chúng ta hãy thử ví dụ tương tự với ==toán tử:"
   ]
  },
  {
   "cell_type": "markdown",
   "id": "c7d82c4c-7ed1-4f73-bae7-044094fa214f",
   "metadata": {},
   "source": [
    "{% if x == y %}\n",
    "  <h1>YES</h1>\n",
    "{% else %}\n",
    "  <h1>NO</h1>\n",
    "{% endif %}"
   ]
  },
  {
   "cell_type": "markdown",
   "id": "7f391362-a66d-4dd9-ae30-dc745d5e8642",
   "metadata": {},
   "source": [
    "How can two objects be the same? Well, if you have two objects that points to the same object, then the is operator evaluates to true:\r",
    "\r\n",
    "We will demonstrate this by using the {% with %} tag, which allows us to create variables in the templat\n",
    "Làm thế nào hai đối tượng có thể giống nhau? Chà, nếu bạn có hai đối tượng trỏ đến cùng một đối tượng thì toán tử is sẽ đánh giá là đúng:\n",
    "\r\n",
    "Chúng tôi sẽ chứng minh điều này bằng cách sử dụng {% with %}thẻ, thẻ này cho phép chúng tôi tạo các biến trong mẫu:e:"
   ]
  },
  {
   "cell_type": "markdown",
   "id": "fcea126f-b352-4bb5-b5e5-2c26fd1a96af",
   "metadata": {},
   "source": [
    "{% with var1=x var2=x %}\n",
    "  {% if var1 is var2 %}\n",
    "    <h1>YES</h1>\n",
    "  {% else %}\n",
    "    <h1>NO</h1>\n",
    "  {% endif %}\n",
    "{% endwith %}"
   ]
  },
  {
   "cell_type": "markdown",
   "id": "7b80a975-a2a4-4bdc-8054-5f46e0b12460",
   "metadata": {},
   "source": [
    "is not\r\n",
    "To check if two objects are not the same\n",
    "không phải\r\n",
    "Để kiểm tra xem hai đối tượng có giống nhau không.."
   ]
  },
  {
   "cell_type": "markdown",
   "id": "dd7faf46-ed34-48ae-9aca-3c09a373d803",
   "metadata": {},
   "source": [
    "{% if x is not y %}\n",
    "  <h1>YES</h1>\n",
    "{% else %}\n",
    "  <h1>NO</h1>\n",
    "{% endif %} "
   ]
  }
 ],
 "metadata": {
  "kernelspec": {
   "display_name": "Python 3 (ipykernel)",
   "language": "python",
   "name": "python3"
  },
  "language_info": {
   "codemirror_mode": {
    "name": "ipython",
    "version": 3
   },
   "file_extension": ".py",
   "mimetype": "text/x-python",
   "name": "python",
   "nbconvert_exporter": "python",
   "pygments_lexer": "ipython3",
   "version": "3.11.7"
  }
 },
 "nbformat": 4,
 "nbformat_minor": 5
}
