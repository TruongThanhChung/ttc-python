{
 "cells": [
  {
   "cell_type": "markdown",
   "id": "39f8386e-6c0d-4d21-8e09-8924b25de405",
   "metadata": {},
   "source": [
    "Template Tags\r\n",
    "In Django templates, you can perform programming logic like executing if statements and for loops.\n",
    "\r\n",
    "These keywords, if and for, are called \"template tags\" in Djano.\r\n",
    "\r\n",
    "To execute template tags, we surround them in {% %} brac\n",
    "Thẻ mẫu\r\n",
    "Trong các mẫu Django, bạn có thể thực hiện logic lập trình như thực thi i fcác câu lệnh và fo rvòng lặp\r\n",
    "\r\n",
    "Những từ khóa này ifvà for, được gọi là \"thẻ mẫu\" ở Djano.\r\n",
    "\r\n",
    "Để thực thi các thẻ mẫu, chúng ta đặt chúng trong {% %}dấu ngoặc đơn.kets."
   ]
  },
  {
   "cell_type": "code",
   "execution_count": null,
   "id": "1ca87e3e-551b-4a69-b3fc-5ad3d3510113",
   "metadata": {},
   "outputs": [],
   "source": [
    "templates/template.html:\n",
    "\n",
    "{% if greeting == 1 %}\n",
    "  <h1>Hello</h1>\n",
    "{% else %}\n",
    "  <h1>Bye</h1>\n",
    "{% endif %}"
   ]
  },
  {
   "cell_type": "markdown",
   "id": "892536af-61bc-456a-92a3-29d66676df58",
   "metadata": {},
   "source": [
    "Django Code\r\n",
    "The template tags are a way of telling Django that here comes something else than plain HTML.\n",
    "\r\n",
    "The template tags allows us to to do some programming on the server before sending HTML to the clie\n",
    "Mã Django\r\n",
    "Các thẻ mẫu là một cách để nói với Django rằng ở đây có thứ gì đó khác ngoài HTML đơn giản\r\n",
    "\r\n",
    "Các thẻ mẫu cho phép chúng tôi thực hiện một số chương trình trên máy chủ trước khi gửi HTML đến máy khách.nt."
   ]
  },
  {
   "cell_type": "markdown",
   "id": "20aae480-b84b-4951-8731-e4cb6b8e07b6",
   "metadata": {},
   "source": [
    "templates/template.html:\r\n",
    "\r\n",
    "<ul>\r\n",
    "  {% for x in mymembers %}\r\n",
    "    <li>{{ x.firstname }}</li>\r\n",
    "  {% endfor %}\r\n",
    "</ul>"
   ]
  },
  {
   "cell_type": "markdown",
   "id": "2106cc2a-491a-49c1-b319-8f861fcf76da",
   "metadata": {},
   "source": [
    "In the next chapters you will learn about the most common template tags.\n",
    "Trong các chương tiếp theo, bạn sẽ tìm hiểu về các thẻ mẫu phổ biến nhất."
   ]
  },
  {
   "cell_type": "markdown",
   "id": "4286377d-d877-4528-9284-cac64891ce6a",
   "metadata": {},
   "source": [
    "Tag Reference\r\n",
    "A list of all template tags:\r\n",
    "\r\n",
    "T           ag\tDescription\r\n",
    "autoesc   ape\tSpecifies if autoescape mode is on or off\r\n",
    "b       lock\tSpecifies a block section\r\n",
    "co       mment\tSpecifies a comment section\r\n",
    "csrf   _token\tProtects forms from Cross Site Request Forgeries       \r\n",
    "cycle\tSpecifies content to use in each cycle of a loo       p\r\n",
    "debug\tSpecifies debugging information       \r\n",
    "extends\tSpecifies a parent templa       te\r\n",
    "filter\tFilters content before returning        it\r\n",
    "firstof\tReturns the first not empty v           ariable\r\n",
    "for\tSpecifies a            for loop\r\n",
    "if\tSpecifies a if statem   ent\r\n",
    "ifchanged\tUsed in for loops. Outputs a block only if a value has changed since the last ite       ration\r\n",
    "include\tSpecifies included conten       t/template\r\n",
    "load\tLoads template tags from anoth       er library\r\n",
    "lorem\tOutput           s random text\r\n",
    "now\tOutputs the current        date/time\r\n",
    "regroup\tSorts an object by    a group\r\n",
    "resetcycle\tUsed in cycles. Resets    the cycle\r\n",
    "spaceless\tRemoves whitespace between    HTML tags\r\n",
    "templatetag\tOutputs a spec           ified template tag\r\n",
    "url\tReturns the absolute URL    part of a URL\r\n",
    "verbatim\tSpecifies contents that should not be rendered by the te   mplate engine\r\n",
    "widthratio\tCalculates a width value based on the ratio between a given v       alue and a max value\r\n",
    "with\tSpecifies a variable to use in the block"
   ]
  }
 ],
 "metadata": {
  "kernelspec": {
   "display_name": "Python 3 (ipykernel)",
   "language": "python",
   "name": "python3"
  },
  "language_info": {
   "codemirror_mode": {
    "name": "ipython",
    "version": 3
   },
   "file_extension": ".py",
   "mimetype": "text/x-python",
   "name": "python",
   "nbconvert_exporter": "python",
   "pygments_lexer": "ipython3",
   "version": "3.11.7"
  }
 },
 "nbformat": 4,
 "nbformat_minor": 5
}
