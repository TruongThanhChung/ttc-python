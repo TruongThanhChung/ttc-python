{
 "cells": [
  {
   "cell_type": "markdown",
   "id": "c1ed5fff-f1bc-4c73-8fce-13fc9a033eee",
   "metadata": {},
   "source": [
    "Template Variables\r\n",
    "In Django templates, you can render variables by putting them inside {{ }} brackets\n",
    "Biến mẫu\r\n",
    "Trong các mẫu Django, bạn có thể kết xuất các biến bằng cách đặt chúng trong {{ }}dấu ngoặc::"
   ]
  },
  {
   "cell_type": "markdown",
   "id": "8eb059e5-6a77-4f96-8afd-2fe2b6ac7915",
   "metadata": {},
   "source": [
    "templates/template.html:\r\n",
    "\r\n",
    "<h1>Hello {{ firstname }}, how are you?</h1>"
   ]
  },
  {
   "cell_type": "markdown",
   "id": "f1189e6e-3e2b-4656-9c38-24044a7d6de0",
   "metadata": {},
   "source": [
    "Create Variable in View\r\n",
    "The variable firstname in the example above was sent to the template via a view\n",
    "Tạo biến trong chế độ xem\r\n",
    "Biến firstnam etrong ví dụ trên đã được gửi tới mẫu thông qua dạng xem::"
   ]
  },
  {
   "cell_type": "markdown",
   "id": "8f799e71-cfef-45a0-b66c-b5cd8db74252",
   "metadata": {},
   "source": [
    "views.py:\r\n",
    "\r\n",
    "from django.http import HttpResponse\r\n",
    "from django.template import loader\r\n",
    "\r\n",
    "def testing(request):\r\n",
    "  template = loader.get_template('template.html')\r\n",
    "  context = {\r\n",
    "    'firstname': 'Linus',\r\n",
    "  }\r\n",
    "  return HttpResponse(template.render(context, request))"
   ]
  },
  {
   "cell_type": "markdown",
   "id": "ace415d5-780b-4704-9728-e68e58f9fcf9",
   "metadata": {},
   "source": [
    "As you can see in the view above, we create an object named context and fill it with data, and send it as the first parameter in the template.render() function.\n",
    "Như bạn có thể thấy trong khung nhìn ở trên, chúng ta tạo một đối tượng có tên context và điền dữ liệu vào đó, rồi gửi nó làm tham số đầu tiên trong hàm template.render()."
   ]
  },
  {
   "cell_type": "markdown",
   "id": "170dc48e-7540-43c7-a8dc-f5f7c7719685",
   "metadata": {},
   "source": [
    "Create Variables in Template\r\n",
    "You can also create variables directly in the template, by using the {% with %} template tag.\n",
    "\r\n",
    "The variable is available until the {% endwith %} tag appea\n",
    "Tạo biến trong mẫu\r\n",
    "Bạn cũng có thể tạo các biến trực tiếp trong mẫu bằng cách sử dụng {% with %}thẻ mẫu.\n",
    "\r\n",
    "Biến có sẵn cho đến khi {% endwith %}thẻ xuất hiện:rs:"
   ]
  },
  {
   "cell_type": "markdown",
   "id": "5d3b016d-0cb7-47b0-8994-03e04c4c6f08",
   "metadata": {},
   "source": [
    "templates/template.html:\n",
    "\n",
    "{% with firstname=\"Tobias\" %}\n",
    "<h1>Hello {{ firstname }}, how are you?</h1>\n",
    "{% endwith %}"
   ]
  },
  {
   "cell_type": "markdown",
   "id": "076f7cc5-ede0-42b6-8c80-8ce6b07a0ba2",
   "metadata": {},
   "source": [
    "You will learn more about template tags in the next chapter.\n",
    "Bạn sẽ tìm hiểu thêm về thẻ mẫu trong chương tiếp theo."
   ]
  },
  {
   "cell_type": "markdown",
   "id": "a8ae98ba-c1b8-40b8-b4c2-ee39554c049a",
   "metadata": {},
   "source": [
    "Data From a Model\r\n",
    "The example above showed a easy approach on how to create and use variables in a template.\n",
    "\r\n",
    "Normally, most of the external data you want to use in a template, comes from a modl.\r\n",
    "\r\n",
    "We have created a model in the previous chapters, called Member, which we will use in many examples in the next chapters of this tutoial.\r\n",
    "\r\n",
    "To get data from the Member model, we will have to import it in the views.py file, and extract data from it in th\n",
    "Dữ liệu từ một mô hình\r\n",
    "Ví dụ trên cho thấy một cách tiếp cận dễ dàng về cách tạo và sử dụng các biến trong một mẫu\r\n",
    "\r\n",
    "Thông thường, hầu hết dữ liệu bên ngoài mà bạn muốn sử dụng trong mẫu đều đến từ một mô hìh.\r\n",
    "\r\n",
    "Chúng ta đã tạo một mô hình trong các chương trước, được gọi là Member, mà chúng ta sẽ sử dụng trong nhiều ví dụ ở các chương tiếp theo của hướng dẫnnày.\r\n",
    "\r\n",
    "Để lấy dữ liệu từ Membermô hình, chúng ta sẽ phải nhập dữ liệu vào tệp views.pyvà trích xuất dữ liệu từ mô hình đó trong dạng xem:e view:"
   ]
  },
  {
   "cell_type": "markdown",
   "id": "107adaed-3bfb-47f0-a767-49449b865b51",
   "metadata": {},
   "source": [
    "members/views.py:\r\n",
    "\r\n",
    "from django.http import HttpResponse, HttpResponseRedirect\r\n",
    "from django.template import loader\r\n",
    "from .models import Member\r\n",
    "\r\n",
    "def testing(request):\r\n",
    "  mymembers = Member.objects.all().values()\r\n",
    "  template = loader.get_template('template.html')\r\n",
    "  context = {\r\n",
    "    'mymembers': mymembers,\r\n",
    "  }\r\n",
    "  return HttpResponse(template.render(context, request))"
   ]
  },
  {
   "cell_type": "markdown",
   "id": "ec3abf4e-c348-417f-b96b-0ef838940a29",
   "metadata": {},
   "source": [
    "Now we can use the data in the template:\n",
    "Bây giờ chúng ta có thể sử dụng dữ liệu trong mẫu:"
   ]
  },
  {
   "cell_type": "markdown",
   "id": "32bdb4bf-ed1d-4678-9bfd-6739033a3f37",
   "metadata": {},
   "source": [
    "templates/template.html:\r\n",
    "\r\n",
    "<ul>\r\n",
    "  {% for x in mymembers %}\r\n",
    "    <li>{{ x.firstname }}</li>\r\n",
    "  {% endfor %}\r\n",
    "</ul>"
   ]
  },
  {
   "cell_type": "code",
   "execution_count": null,
   "id": "c6967c1f-9259-4588-9153-aec6957608aa",
   "metadata": {},
   "outputs": [],
   "source": [
    "We use the Django template tag {% for %} to loop through the members.\n",
    "You will learn more about template tags in the next chapter.\n",
    "Chúng tôi sử dụng thẻ mẫu Django {% for %}để lặp qua các thành viên.\n",
    "Bạn sẽ tìm hiểu thêm về thẻ mẫu trong chương tiếp theo."
   ]
  }
 ],
 "metadata": {
  "kernelspec": {
   "display_name": "Python 3 (ipykernel)",
   "language": "python",
   "name": "python3"
  },
  "language_info": {
   "codemirror_mode": {
    "name": "ipython",
    "version": 3
   },
   "file_extension": ".py",
   "mimetype": "text/x-python",
   "name": "python",
   "nbconvert_exporter": "python",
   "pygments_lexer": "ipython3",
   "version": "3.11.7"
  }
 },
 "nbformat": 4,
 "nbformat_minor": 5
}
