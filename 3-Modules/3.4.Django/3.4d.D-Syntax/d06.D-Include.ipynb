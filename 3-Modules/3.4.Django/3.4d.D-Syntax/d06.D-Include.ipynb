{
 "cells": [
  {
   "cell_type": "markdown",
   "id": "f97ae071-a4e3-490c-af41-a97f581b0182",
   "metadata": {},
   "source": [
    "Include\r\n",
    "The include tag allows you to include a template inside the current template\r\n",
    "\r\n",
    "This is useful when you have a block of content that is the same for many pag\n",
    "Bao gồm\r\n",
    "Thẻ includ echo phép bạn bao gồm một mẫu bên trong mẫu hiện tại\r\n",
    "\r\n",
    "Điều này hữu ích khi bạn có một khối nội dung giống nhau trên nhiều trang.es."
   ]
  },
  {
   "cell_type": "markdown",
   "id": "9c011001-4417-4a0e-be8f-fbc3508d203f",
   "metadata": {},
   "source": [
    "templates/footer.html:\n",
    "\n",
    "<p>You have reached the bottom of this page, thank you for your time.</p>"
   ]
  },
  {
   "cell_type": "markdown",
   "id": "b51f3e9c-cf93-4d36-92d5-c7ce711cc0f8",
   "metadata": {},
   "source": [
    "templates/template.html:\n",
    "\n",
    "<h1>Hello</h1>\n",
    "\n",
    "<p>This page contains a footer in a template.</p>\n",
    "\n",
    "{% include 'footer.html' %} "
   ]
  },
  {
   "cell_type": "markdown",
   "id": "4fd2b983-83f8-47f4-9184-7d7dd8d38fef",
   "metadata": {},
   "source": [
    "Variables in Include\r\n",
    "You can send variables into the template by using the with keyword.\n",
    "\r\n",
    "In the include file, you refer to the variables by using the {{ variablename }} synt\n",
    "Các biến trong Bao gồm\r\n",
    "Bạn có thể gửi các biến vào mẫu bằng cách sử dụngtừ khóa  wita\r\n",
    "\r\n",
    "Trong tệp bao gồm, bạn tham chiếu đến các biến bằng cách sử dụng cú pháp {{ tên biến }} :ax:"
   ]
  },
  {
   "cell_type": "markdown",
   "id": "422dda6b-f4be-43ba-a018-9280b83ff231",
   "metadata": {},
   "source": [
    "templates/mymenu.html:\r\n",
    "\r\n",
    "<div>HOME | {{ me }} | ABOUT | FORUM | {{ sponsor }}</div>"
   ]
  },
  {
   "cell_type": "code",
   "execution_count": null,
   "id": "9ba9b337-b728-4521-8426-e9b519186a1d",
   "metadata": {},
   "outputs": [],
   "source": [
    "templates/template.html:\n",
    "\n",
    "<!DOCTYPE html>\n",
    "<html>\n",
    "<body>\n",
    "\n",
    "{% include \"mymenu.html\" with me=\"TOBIAS\" sponsor=\"W3SCHOOLS\" %}\n",
    "\n",
    "<h1>Welcome</h1>\n",
    "\n",
    "<p>This is my webpage</p>\n",
    "\n",
    "</body>\n",
    "</html> "
   ]
  },
  {
   "cell_type": "code",
   "execution_count": null,
   "id": "fd2049b0-2926-48e5-944c-8e25c466f7da",
   "metadata": {},
   "outputs": [],
   "source": []
  }
 ],
 "metadata": {
  "kernelspec": {
   "display_name": "Python 3 (ipykernel)",
   "language": "python",
   "name": "python3"
  },
  "language_info": {
   "codemirror_mode": {
    "name": "ipython",
    "version": 3
   },
   "file_extension": ".py",
   "mimetype": "text/x-python",
   "name": "python",
   "nbconvert_exporter": "python",
   "pygments_lexer": "ipython3",
   "version": "3.11.7"
  }
 },
 "nbformat": 4,
 "nbformat_minor": 5
}
