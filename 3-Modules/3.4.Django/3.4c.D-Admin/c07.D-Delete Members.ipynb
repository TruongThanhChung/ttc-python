{
 "cells": [
  {
   "cell_type": "markdown",
   "id": "a3329915-2dd8-4bbe-a8e1-9b2bf1c39107",
   "metadata": {},
   "source": [
    "Delete Members\n",
    "To delete a new member, you can either select a member and choose the action \"Delete selected members\" like this:\n",
    "Xóa thành viên\r\n",
    "Để xóa thành viên mới, bạn có thể chọn thành viên và chọn hành động \"Xóa thành viên đã chọn\" như sau:"
   ]
  },
  {
   "cell_type": "markdown",
   "id": "7197f4d6-b865-4ab4-b7ef-64db2e55fc75",
   "metadata": {},
   "source": [
    "Or you can open a member for editing, and click the red DELETE button at the bottom, like this:\n",
    "Hoặc bạn có thể mở một thành viên để chỉnh sửa và nhấp vào nút XÓA màu đỏ ở dưới cùng, như thế này:"
   ]
  },
  {
   "cell_type": "code",
   "execution_count": null,
   "id": "73548aa8-e5ce-432a-a961-d37d4a444b7e",
   "metadata": {},
   "outputs": [],
   "source": []
  }
 ],
 "metadata": {
  "kernelspec": {
   "display_name": "Python 3 (ipykernel)",
   "language": "python",
   "name": "python3"
  },
  "language_info": {
   "codemirror_mode": {
    "name": "ipython",
    "version": 3
   },
   "file_extension": ".py",
   "mimetype": "text/x-python",
   "name": "python",
   "nbconvert_exporter": "python",
   "pygments_lexer": "ipython3",
   "version": "3.11.7"
  }
 },
 "nbformat": 4,
 "nbformat_minor": 5
}
