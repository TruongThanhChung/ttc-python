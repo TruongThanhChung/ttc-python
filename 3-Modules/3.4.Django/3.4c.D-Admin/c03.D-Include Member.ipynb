{
 "cells": [
  {
   "cell_type": "markdown",
   "id": "146883be-8ed5-4751-b6ce-7179224b425f",
   "metadata": {},
   "source": [
    "Include Member in the Admin Interface\r\n",
    "To include the Member model in the admin interface, we have to tell Django that this model should be visible in the admin interface.\n",
    "\r\n",
    "This is done in a file called admin.py, and is located in your app's folder, which in our case is the members folde.\r\n",
    "\r\n",
    "Open it, and it should look like \n",
    "Đưa Thành viên vào Giao diện Quản trị\r\n",
    "Để đưa mô hình Thành viên vào giao diện quản trị, chúng ta phải nói với Django rằng mô hình này sẽ hiển thị trong giao diện quản trị.\n",
    "\r\n",
    "Việc này được thực hiện trong một tệp có tên admin.py, và nằm trong thư mục ứng dụng của bạn, trong trường hợp của chúng tôi là tmục hư membmụ.\r\n",
    "\r\n",
    "Mở nó ra và nó sẽ trông như thế này:this:"
   ]
  },
  {
   "cell_type": "code",
   "execution_count": null,
   "id": "2b84e9d4-bd6e-42b6-8f1b-14acf2cd8b25",
   "metadata": {},
   "outputs": [],
   "source": [
    "my_tennis_club/members/admin.py:\n",
    "\n",
    "from django.contrib import admin\n",
    "\n",
    "# Register your models here."
   ]
  },
  {
   "cell_type": "markdown",
   "id": "4afc9287-50fd-4cbc-9c86-4cef0098d6fd",
   "metadata": {},
   "source": [
    "Insert a couple of lines here to make the Member model visible in the admin page:\n",
    "Chèn một vài dòng vào đây để hiển thị mô hình Thành viên trong trang quản trị:"
   ]
  },
  {
   "cell_type": "markdown",
   "id": "dcaef650-ff39-43ff-8fbf-f1a6bee735dd",
   "metadata": {},
   "source": [
    "my_tennis_club/members/admin.py:\n",
    "\n",
    "from django.contrib import admin\n",
    "from .models import Member\n",
    "\n",
    "# Register your models here.\n",
    "admin.site.register(Member)"
   ]
  },
  {
   "cell_type": "markdown",
   "id": "60579619-69da-486f-9d00-e0c88b99da5b",
   "metadata": {},
   "source": [
    "Now go back to the browser and you should get this result:\n",
    "Bây giờ hãy quay lại trình duyệt và bạn sẽ nhận được kết quả này:"
   ]
  },
  {
   "cell_type": "markdown",
   "id": "61f51f2e-9367-40b6-873a-a362764ec763",
   "metadata": {},
   "source": [
    "Click Members and see the five records we inserted earlier in this tutorial:\n",
    "Nhấp Membersvà xem năm bản ghi chúng tôi đã chèn trước đó trong hướng dẫn này:"
   ]
  },
  {
   "cell_type": "markdown",
   "id": "dbb8c9f9-0f59-4834-805b-4bc2fc5c3127",
   "metadata": {},
   "source": [
    "Change Display\r\n",
    "In the list in the screenshot above, we see \"Member object (1)\", \"Member object (2)\" etc. which might not be the data you wanted to be displayed in the list.\n",
    "\r\n",
    "It would be better to display \"firstname\" and \"lastname\" insted.\r\n",
    "\r\n",
    "This can easily be done by changing some settings in the models.py and/or the admin.py files. You will learn more about this in the next cha\n",
    "Thay đổi hiển thị\r\n",
    "Trong danh sách ở ảnh chụp màn hình ở trên, chúng ta thấy \"Đối tượng thành viên (1)\", \"Đối tượng thành viên (2)\", v.v. có thể không phải là dữ liệu bạn muốn hiển thị trong danh sách\r\n",
    "\r\n",
    "Thay vào đó, sẽ tốt hơn nếu hiển thị \"tên\" và \"h\".\r\n",
    "\r\n",
    "Điều này có thể dễ dàng thực hiện được bằng cách thay đổi một số cài đặt  các tệptrong mode ls.pyvà/hoặc admc tệp. Bạn sẽ tìm hiểu thêm về điều này trong chương tiếp theo .pter."
   ]
  }
 ],
 "metadata": {
  "kernelspec": {
   "display_name": "Python 3 (ipykernel)",
   "language": "python",
   "name": "python3"
  },
  "language_info": {
   "codemirror_mode": {
    "name": "ipython",
    "version": 3
   },
   "file_extension": ".py",
   "mimetype": "text/x-python",
   "name": "python",
   "nbconvert_exporter": "python",
   "pygments_lexer": "ipython3",
   "version": "3.11.7"
  }
 },
 "nbformat": 4,
 "nbformat_minor": 5
}
