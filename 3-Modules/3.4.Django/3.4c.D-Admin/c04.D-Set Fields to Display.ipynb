{
 "cells": [
  {
   "cell_type": "markdown",
   "id": "b7d0f07e-fc27-48e8-b322-7677fd756259",
   "metadata": {},
   "source": [
    "Make the List Display More Reader-Friendly\r\n",
    "When you display a Model as a list, Django displays each record as the string representation of the record object, which in our case is \"Member object (1)\", \"Member object(2)\" etc.\n",
    "Làm cho danh sách hiển thị thân thiện hơn với người đọc\r\n",
    "Khi bạn hiển thị Mô hình dưới dạng danh sách, Django hiển thị từng bản ghi dưới dạng biểu diễn chuỗi của đối tượng bản ghi, trong trường hợp của chúng tôi là \"Đối tượng thành viên (1)\", \"Đối tượng thành viên (2)\", v.v.::"
   ]
  },
  {
   "cell_type": "markdown",
   "id": "f3e693e5-11e4-4cad-9ece-e0bc883db796",
   "metadata": {},
   "source": [
    "To change this to a more reader-friendly format, we have two choices:\r",
    "\r\n",
    "Change the string representation function, __str__() of the Member Model\r\n",
    "Set the list_details property of the Member Mo\n",
    "Để thay đổi điều này sang định dạng thân thiện với người đọc hơn, chúng tôi có hai lựa chọn:\r",
    "\r\n",
    "Thay đổi chức năng biểu diễn chuỗi __str__()của Member Model\r\n",
    "Đặt list_detailsthuộc tính của Member Modeldel"
   ]
  },
  {
   "cell_type": "markdown",
   "id": "849ae572-31c3-4e90-b538-6ff3b982f4a9",
   "metadata": {},
   "source": [
    "Change the String Representation Function\r\n",
    "To change the string representation, we have to define the __str__() function of the Member Model in models.py, like this\n",
    "Thay đổi chức năng biểu diễn chuỗi\r\n",
    "Để thay đổi cách biểu diễn chuỗi, chúng ta phải xác định __str__()hàm của Member Model trong models.py, như sau::"
   ]
  },
  {
   "cell_type": "markdown",
   "id": "7113ba21-8ead-4fe4-af48-08e2a71e3d83",
   "metadata": {},
   "source": [
    "my_tennis_club/members/models.py:\r\n",
    "\r\n",
    "from django.db import models\r\n",
    "\r\n",
    "class Member(models.Model):\r\n",
    "  firstname = models.CharField(max_length=255)\r\n",
    "  lastname = models.CharField(max_length=255)\r\n",
    "  phone = models.IntegerField(null=True)\r\n",
    "  joined_date = models.DateField(null=True)\r\n",
    "\r\n",
    "  def __str__(self):\r\n",
    "    return f\"{self.firstname} {self.lastname}\""
   ]
  },
  {
   "cell_type": "markdown",
   "id": "d3e08cbd-e7ac-4c1f-bda9-e0774123e33b",
   "metadata": {},
   "source": [
    "Which gives us this result:\n",
    "Điều này cho chúng ta kết quả này:"
   ]
  },
  {
   "cell_type": "markdown",
   "id": "c1dfc596-7c70-4b33-8fbb-20bdd8d2eac5",
   "metadata": {},
   "source": [
    "Defining our own __str__() function is not a Django feature, it is how to change the string representation of objects in Python. Read more about Python objects in our Python object tutorial.\n",
    "Việc xác định hàm riêng của chúng ta __str__()không phải là một tính năng của Django, nó là cách thay đổi cách biểu diễn chuỗi của các đối tượng trong Python. Đọc thêm về đối tượng Python trong hướng dẫn đối tượng Python của chúng tôi ."
   ]
  },
  {
   "cell_type": "markdown",
   "id": "2b7d259a-449c-40c6-aea0-8baf1bc3042a",
   "metadata": {},
   "source": [
    "Set list_display\r\n",
    "We can control the fields to display by specifying them in in a list_display property in the admin.py file\r\n",
    "\r\n",
    "First create a MemberAdmin() class and specify the list_display tuple, like th\n",
    "Đặt danh sách_display\r\n",
    "Chúng ta có thể kiểm soát các trường hiển thị bằng cách chỉ định chúng trong mộ thuộc tínht list_displah tron tệpg admin.pp\r\n",
    "\r\n",
    "Đầu tiên hãy tạo  lớpmột MemberAdmilớp và chỉ đ bộ dữ liệuịnh list_dispiệu, như thế này:is:"
   ]
  },
  {
   "cell_type": "markdown",
   "id": "9ddf7c47-4684-41da-b836-12307b208e12",
   "metadata": {},
   "source": [
    "my_tennis_club/members/admin.py:\n",
    "\n",
    "from django.contrib import admin\n",
    "from .models import Member\n",
    "\n",
    "# Register your models here.\n",
    "\n",
    "class MemberAdmin(admin.ModelAdmin):\n",
    "  list_display = (\"firstname\", \"lastname\", \"joined_date\",)\n",
    "  \n",
    "admin.site.register(Member, MemberAdmin)"
   ]
  },
  {
   "cell_type": "markdown",
   "id": "6e0f63f3-70be-42b4-bc2c-442007d470f6",
   "metadata": {},
   "source": [
    "Remember to add the MemberAdmin as an argumet in the admin.site.register(Member, MemberAdmin).\r",
    "\r\n",
    "Now go back to the browser and you should get this resul\n",
    "Hãy nhớ thêm MemberAdmin làm đối số trong tệp admin.site.register(Member, MemberAdmin).\r",
    "\r\n",
    "Bây giờ hãy quay lại trình duyệt và bạn sẽ nhận được kết quả này:t:"
   ]
  },
  {
   "cell_type": "code",
   "execution_count": null,
   "id": "ad459041-7e3c-4fcd-9488-e4b377f50412",
   "metadata": {},
   "outputs": [],
   "source": []
  }
 ],
 "metadata": {
  "kernelspec": {
   "display_name": "Python 3 (ipykernel)",
   "language": "python",
   "name": "python3"
  },
  "language_info": {
   "codemirror_mode": {
    "name": "ipython",
    "version": 3
   },
   "file_extension": ".py",
   "mimetype": "text/x-python",
   "name": "python",
   "nbconvert_exporter": "python",
   "pygments_lexer": "ipython3",
   "version": "3.11.7"
  }
 },
 "nbformat": 4,
 "nbformat_minor": 5
}
