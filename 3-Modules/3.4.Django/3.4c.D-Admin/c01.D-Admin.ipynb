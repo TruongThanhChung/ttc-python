{
 "cells": [
  {
   "cell_type": "markdown",
   "id": "b096bc39-f42b-4b84-8d24-f23965665213",
   "metadata": {},
   "source": [
    "Django Admin\r\n",
    "Django Admin is a really great tool in Django, it is actually a CRUD* user interface of all your models!\n",
    "\r\n",
    "*CRUD stands for Create Read Update Dele\n",
    "Quản trị viên Django\r\n",
    "Django Admin là một công cụ thực sự tuyệt vời ở Django, nó thực sự là giao diện người dùng CRUD* cho tất cả các mô hình của bạn!\n",
    "\r\n",
    "*CRUD là viết tắt của Tạo Đọc Cập nhật Xóa.te."
   ]
  },
  {
   "cell_type": "markdown",
   "id": "44c204ff-d90a-4980-ba29-a022d4f82c30",
   "metadata": {},
   "source": [
    "It is free and comes ready-to-use with Django:\n",
    "Nó miễn phí và sẵn sàng sử dụng với Django:"
   ]
  },
  {
   "cell_type": "code",
   "execution_count": null,
   "id": "14f90e15-768e-4a3d-bf1a-4c67b89dff55",
   "metadata": {},
   "outputs": [],
   "source": [
    "Getting Started\n",
    "To enter the admin user interface, start the server by navigating to the /myworld folder and execute this command:\n",
    "Bắt đầu\n",
    "Để vào giao diện người dùng quản trị, hãy khởi động máy chủ bằng cách điều hướng đến thư /myworldmục và thực hiện lệnh này:\n",
    "py manage.py runserver"
   ]
  },
  {
   "cell_type": "code",
   "execution_count": null,
   "id": "efde6315-e00f-4b85-ac61-51e5fde92984",
   "metadata": {},
   "outputs": [],
   "source": [
    "In the browser window, type 127.0.0.1:8000/admin/ in the address bar.\n",
    "Trong cửa sổ trình duyệt, gõ 127.0.0.1:8000/admin/vào thanh địa chỉ."
   ]
  },
  {
   "cell_type": "markdown",
   "id": "9fca4646-b3cf-4324-a622-82569f63ae05",
   "metadata": {},
   "source": [
    "The reason why this URL goes to the Django admin log in page can be found in the urls.py file of your project:\n",
    "Có thể tìm thấy lý do tại sao URL này chuyển đến trang đăng nhập quản trị viên Django trong urls.pytệp dự án của bạn:"
   ]
  },
  {
   "cell_type": "markdown",
   "id": "5840353b-4332-4970-b86f-aee8a254e07b",
   "metadata": {},
   "source": [
    "my_tennis_club/my_tennis_club/urls.py:\n",
    "\n",
    "from django.contrib import admin\n",
    "from django.urls import include, path\n",
    "\n",
    "urlpatterns = [\n",
    "    path('', include('members.urls')),\n",
    "    path('admin/', admin.site.urls),\n",
    "]"
   ]
  },
  {
   "cell_type": "markdown",
   "id": "6dc004be-5a5c-4c5b-9af1-04a71e62f4a9",
   "metadata": {},
   "source": [
    "The urlpatterns[] list takes requests going to admin/ and sends them to admin.site.urls, which is part of a built-in application that comes with Django, and contains a lot of functionality and user interfaces, one of them being the log-in user interface.\n",
    "Danh sách urlpatterns[] này nhận các yêu cầu đến admin/và gửi chúng đến admin.site.urls, là một phần của ứng dụng tích hợp đi kèm với Django và chứa nhiều chức năng cũng như giao diện người dùng, một trong số đó là giao diện người dùng đăng nhập."
   ]
  }
 ],
 "metadata": {
  "kernelspec": {
   "display_name": "Python 3 (ipykernel)",
   "language": "python",
   "name": "python3"
  },
  "language_info": {
   "codemirror_mode": {
    "name": "ipython",
    "version": 3
   },
   "file_extension": ".py",
   "mimetype": "text/x-python",
   "name": "python",
   "nbconvert_exporter": "python",
   "pygments_lexer": "ipython3",
   "version": "3.11.7"
  }
 },
 "nbformat": 4,
 "nbformat_minor": 5
}
