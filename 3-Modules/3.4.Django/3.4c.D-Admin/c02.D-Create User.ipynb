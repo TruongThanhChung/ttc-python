{
 "cells": [
  {
   "cell_type": "markdown",
   "id": "1686540a-23c0-4f46-833a-b4ba0f711159",
   "metadata": {},
   "source": [
    "Create User\r\n",
    "To be able to log into the admin application, we need to create a user\n",
    "Tạo người dùng\r\n",
    "Để có thể đăng nhập vào ứng dụng quản trị, chúng ta cần tạo người dùng.."
   ]
  },
  {
   "cell_type": "markdown",
   "id": "70e82796-30f5-49d3-9c02-7da64969c3bf",
   "metadata": {},
   "source": [
    "This is done by typing this command in the command view:\n",
    "Điều này được thực hiện bằng cách gõ lệnh này trong chế độ xem lệnh:\n",
    "py manage.py createsuperuser"
   ]
  },
  {
   "cell_type": "markdown",
   "id": "86ebce41-9c7b-491a-9b89-d5afcd290fad",
   "metadata": {},
   "source": [
    "Which will give this prompt:\n",
    "nào sẽ đưa ra lời nhắc này:"
   ]
  },
  {
   "cell_type": "markdown",
   "id": "2ee77df2-b697-4c2c-a19b-d9555f508b9e",
   "metadata": {},
   "source": [
    "Username:"
   ]
  },
  {
   "cell_type": "markdown",
   "id": "6fa64052-2fe5-41e2-bb1c-594acc7b4e3c",
   "metadata": {},
   "source": [
    "Here you must enter: username, e-mail address, (you can just pick a fake e-mail address), and password:\n",
    "Tại đây bạn phải nhập: tên người dùng, địa chỉ e-mail, (bạn chỉ có thể chọn địa chỉ e-mail giả) và mật khẩu:"
   ]
  },
  {
   "cell_type": "code",
   "execution_count": null,
   "id": "bc7c3e92-969b-483d-b235-76d573621e7f",
   "metadata": {},
   "outputs": [],
   "source": [
    "Username: johndoe\n",
    "Email address: johndoe@dummymail.com\n",
    "Password:\n",
    "Password (again):\n",
    "This password is too short. It must contain at least 8 characters.\n",
    "This password is too common.\n",
    "This password is entirely numeric.\n",
    "Bypass password validation and create user anyway? [y/N]:"
   ]
  },
  {
   "cell_type": "markdown",
   "id": "f5bb1b9c-ed50-43a7-b3ea-28cdfbeec5af",
   "metadata": {},
   "source": [
    "My password did not meet the criteria, but this is a test environment, and I choose to create user anyway, by enter y:\n",
    "Mật khẩu của tôi không đáp ứng tiêu chí, nhưng đây là môi trường thử nghiệm và tôi vẫn chọn tạo người dùng bằng cách nhập y:"
   ]
  },
  {
   "cell_type": "markdown",
   "id": "6cc94059-cbfc-484c-964e-dd8acc85942c",
   "metadata": {},
   "source": [
    "Bypass password validation and create user anyway? [y/N]: y"
   ]
  },
  {
   "cell_type": "markdown",
   "id": "5f705fec-c93d-4ab8-953d-5b4bd861a60e",
   "metadata": {},
   "source": [
    "If you press [Enter], you should have successfully created a user:\n",
    "Nếu bạn nhấn [Enter], bạn sẽ tạo thành công người dùng:"
   ]
  },
  {
   "cell_type": "code",
   "execution_count": null,
   "id": "bfd67e75-49f9-4958-a0a1-b591818710ac",
   "metadata": {},
   "outputs": [],
   "source": [
    "Superuser created successfully."
   ]
  },
  {
   "cell_type": "markdown",
   "id": "b9a97161-7d85-40c3-a4d8-18eb025c8334",
   "metadata": {},
   "source": [
    "Now start the server again:\n",
    "Bây giờ khởi động lại máy chủ: py manage.py runserver"
   ]
  },
  {
   "cell_type": "markdown",
   "id": "f930e698-54af-4a5e-9f66-b5b36885e0af",
   "metadata": {},
   "source": [
    "In the browser window, type 127.0.0.1:8000/admin/ in the address bar.\r",
    "\r\n",
    "And fill in the form with the correct username and passwor\n",
    "Trong cửa sổ trình duyệt, gõ 127.0.0.1:8000/admin/vào thanh địa chỉ.\r",
    "\r\n",
    "Và điền vào biểu mẫu với tên người dùng và mật khẩu chính xá\r\n",
    "\r\n",
    "d:"
   ]
  }
 ],
 "metadata": {
  "kernelspec": {
   "display_name": "Python 3 (ipykernel)",
   "language": "python",
   "name": "python3"
  },
  "language_info": {
   "codemirror_mode": {
    "name": "ipython",
    "version": 3
   },
   "file_extension": ".py",
   "mimetype": "text/x-python",
   "name": "python",
   "nbconvert_exporter": "python",
   "pygments_lexer": "ipython3",
   "version": "3.11.7"
  }
 },
 "nbformat": 4,
 "nbformat_minor": 5
}
