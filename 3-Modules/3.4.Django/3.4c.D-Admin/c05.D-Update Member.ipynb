{
 "cells": [
  {
   "cell_type": "markdown",
   "id": "1180e980-fec9-4cb1-a9aa-c62cadd04760",
   "metadata": {},
   "source": [
    "Update Members\r\n",
    "Now we are able to create, update, and delete members in our database, and we start by giving them all a date for when they became members.\n",
    "\r\n",
    "Click the first member, Stalikken, to open the record for editing, and give him a joined_da\n",
    "Cập nhật thành viên\r\n",
    "Bây giờ chúng tôi có thể tạo, cập nhật và xóa thành viên trong cơ sở dữ liệu của mình và chúng tôi bắt đầu bằng cách cung cấp cho họ tất cả ngày họ trở thành thành viên.\n",
    "\r\n",
    "Nhấp vào thành viên đầu tiên, Stalikken, để mở bản ghi để chỉnh sửa và đưa cho anh ta joined_date:te:"
   ]
  },
  {
   "cell_type": "markdown",
   "id": "d7e71215-69c5-463d-a97c-748f4d5bed10",
   "metadata": {},
   "source": [
    "While we are in here, let us give him a phone number as well:\n",
    "Trong khi chúng ta ở đây, chúng ta hãy cho anh ấy số điện thoại:"
   ]
  },
  {
   "cell_type": "markdown",
   "id": "ae39f7b7-0616-459a-8800-9f3331e32da4",
   "metadata": {},
   "source": [
    "Click \"SAVE\" and go back to the list of all members:\n",
    "Bấm \"LƯU\" và quay lại danh sách tất cả thành viên:"
   ]
  },
  {
   "cell_type": "markdown",
   "id": "363bdb0e-5209-41da-bd65-05a02ce98d2a",
   "metadata": {},
   "source": [
    "Repeat these steps and give all members a date and a phone number, and end up with a list like this:\n",
    "Lặp lại các bước này và cung cấp cho tất cả các thành viên ngày tháng và số điện thoại, rồi kết thúc bằng một danh sách như thế này:"
   ]
  },
  {
   "cell_type": "code",
   "execution_count": null,
   "id": "c820b7ab-6b19-43e4-a7f0-d28809254e0c",
   "metadata": {},
   "outputs": [],
   "source": []
  }
 ],
 "metadata": {
  "kernelspec": {
   "display_name": "Python 3 (ipykernel)",
   "language": "python",
   "name": "python3"
  },
  "language_info": {
   "codemirror_mode": {
    "name": "ipython",
    "version": 3
   },
   "file_extension": ".py",
   "mimetype": "text/x-python",
   "name": "python",
   "nbconvert_exporter": "python",
   "pygments_lexer": "ipython3",
   "version": "3.11.7"
  }
 },
 "nbformat": 4,
 "nbformat_minor": 5
}
