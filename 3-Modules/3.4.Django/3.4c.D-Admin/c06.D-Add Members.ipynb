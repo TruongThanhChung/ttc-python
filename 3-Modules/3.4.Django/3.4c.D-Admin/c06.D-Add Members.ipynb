{
 "cells": [
  {
   "cell_type": "markdown",
   "id": "f7f5ace9-b259-493b-96ef-7cb14d534ac8",
   "metadata": {},
   "source": [
    "Add Members\r\n",
    "To add a new member, click on the \"ADD MEMBERS\" button in the top right corner\n",
    "Thêm thành viên\r\n",
    "Để thêm thành viên mới, nhấp vào nút \"THÊM THÀNH VIÊN\" ở góc trên cùng bên phải::"
   ]
  },
  {
   "cell_type": "markdown",
   "id": "498c765f-0a8e-4214-ad5c-3cdee4be742b",
   "metadata": {},
   "source": [
    "You will get an empty form where you can fill in the members fields:\n",
    "Bạn sẽ nhận được một biểu mẫu trống nơi bạn có thể điền vào các trường thành viên:"
   ]
  },
  {
   "cell_type": "markdown",
   "id": "ec9ecbee-8f75-4c54-a6dc-2879e7f4a4f9",
   "metadata": {},
   "source": [
    "Fill in the fields and click \"SAVE\":\n",
    "Điền vào các trường và nhấp vào \"LƯU\":"
   ]
  },
  {
   "cell_type": "markdown",
   "id": "8398f7c5-9961-41cb-8bc6-854897f0cacc",
   "metadata": {},
   "source": [
    "Now the Members Model have 6 members:\n",
    "Hiện tại Mô hình Thành viên có 6 thành viên:"
   ]
  },
  {
   "cell_type": "code",
   "execution_count": null,
   "id": "6220179a-ba57-4a26-9e92-99fdccc46e3d",
   "metadata": {},
   "outputs": [],
   "source": []
  }
 ],
 "metadata": {
  "kernelspec": {
   "display_name": "Python 3 (ipykernel)",
   "language": "python",
   "name": "python3"
  },
  "language_info": {
   "codemirror_mode": {
    "name": "ipython",
    "version": 3
   },
   "file_extension": ".py",
   "mimetype": "text/x-python",
   "name": "python",
   "nbconvert_exporter": "python",
   "pygments_lexer": "ipython3",
   "version": "3.11.7"
  }
 },
 "nbformat": 4,
 "nbformat_minor": 5
}
