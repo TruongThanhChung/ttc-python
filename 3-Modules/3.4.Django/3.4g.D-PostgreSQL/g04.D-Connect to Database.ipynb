{
 "cells": [
  {
   "cell_type": "markdown",
   "id": "fbe33ec6-63c7-45db-9372-afaa620546df",
   "metadata": {},
   "source": [
    "Modify Settings\n",
    "To make Django able to connect to your database, you have to specify it in the DATABASES tuple in the settings.py file.\n",
    "Before, it looked like this:\n",
    "Sửa đổi cài đặt\r\n",
    "Để Django có thể kết nối với cơ sở dữ liệu của bạn, bạn phải chỉ định nó trong DATABASE Sbộ dữ liệu tron tệpg settings.pp\r\n",
    "\r\n",
    "Trước đây nó trông như thế này:"
   ]
  },
  {
   "cell_type": "markdown",
   "id": "d442686f-cdcb-422f-acb4-344f5250cf8d",
   "metadata": {},
   "source": [
    "SQLite\n",
    "\n",
    "my_tennis_club/my_tennis_club/settings.py:\n",
    "\n",
    ".\n",
    ".\n",
    "DATABASES = {\n",
    "    'default': {\n",
    "        'ENGINE': 'django.db.backends.sqlite3',\n",
    "        'NAME': BASE_DIR / 'db.sqlite3',\n",
    "    }\n",
    "}\n",
    "."
   ]
  },
  {
   "cell_type": "code",
   "execution_count": null,
   "id": "7b0a42d3-c301-42d7-8a01-11c7974f44a7",
   "metadata": {},
   "outputs": [],
   "source": [
    "Now, you should change it to look like this:\n",
    "Bây giờ, bạn nên thay đổi nó trông như thế này:"
   ]
  },
  {
   "cell_type": "markdown",
   "id": "358e069d-9d41-4128-97ad-13e416635cdd",
   "metadata": {},
   "source": [
    "PostgreSQL\n",
    "my_tennis_club/my_tennis_club/settings.py:\n",
    "\n",
    ".\n",
    ".\n",
    "DATABASES = {\n",
    "    'default': {\n",
    "        'ENGINE': 'django.db.backends.postgresql',\n",
    "        'NAME': 'postgres',\n",
    "        'USER': 'masteruser',\n",
    "        'PASSWORD': '12345678',\n",
    "        'HOST': 'w3-django-project.cdxmgq9zqqlr.us-east-1.rds.amazonaws.com',\n",
    "        'PORT': '5432'\n",
    "    }\n",
    "}\n",
    "."
   ]
  },
  {
   "cell_type": "markdown",
   "id": "c818a706-faec-43e4-a6da-e96c5b6010b2",
   "metadata": {},
   "source": [
    "Note: The values will be different for your project.\n",
    "Lưu ý: Các giá trị sẽ khác nhau đối với dự án của bạn."
   ]
  },
  {
   "cell_type": "markdown",
   "id": "42382384-816c-453a-8f95-98da49e097ad",
   "metadata": {},
   "source": [
    "Engine?\r\n",
    "As you can see in the settings.py file, we insert postgresql instead of sqlite\n",
    "Động cơ?\r\n",
    "Như bạn có thể thấy trong settings.pytệp, chúng tôi chèn postgresql thay vì sqlite.."
   ]
  },
  {
   "cell_type": "markdown",
   "id": "b634df41-7dbc-4a9f-ab97-1d39f4d1a356",
   "metadata": {},
   "source": [
    "Name?\r\n",
    "The database does not have a name, but you have to assign one in order to access the database\r\n",
    "\r\n",
    "If no name is given, the provider accepts 'postgres' as the name of the databa\n",
    "Tên?\r\n",
    "Cơ sở dữ liệu không có tên nhưng bạn phải đặt tên để truy cập cơ sở dữ liệu\r\n",
    "\r\n",
    "Nếu không có tên nào được đưa ra, nhà cung cấp sẽ chấp nhận 'postgres' làm tên của cơ sở dữ liệu.se."
   ]
  },
  {
   "cell_type": "markdown",
   "id": "9e33c77b-908c-43cf-8cba-10b7b14aa889",
   "metadata": {},
   "source": [
    "Username and Password?\r\n",
    "Insert the username and password that you specified when you created the database\n",
    "Tên người dùng và mật khẩu?\r\n",
    "Chèn tên người dùng và mật khẩu mà bạn đã chỉ định khi tạo cơ sở dữ liệu.."
   ]
  },
  {
   "cell_type": "markdown",
   "id": "4215cb7b-54c3-4bd6-a951-13eb28746077",
   "metadata": {},
   "source": [
    "Host? Port?\r\n",
    "As you can see in the settings.py file, we insert postgresql instead of sqlite, and insert the username and password that we specified when we created the database\r\n",
    "\r\n",
    "The HOST and PORT can be found under the \"Connectivity & security\" section in the RDS instance. They are described as \"Endpoint\" and \"Por\n",
    "Chủ nhà? Hải cảng?\r\n",
    "Như bạn có thể thấy trong settings.pytệp, chúng tôi chèn postgresql thay vì sqlite, đồng thời chèn tên người dùng và mật khẩu mà chúng tôi đã chỉ định khi tạo cơ sở dữ liệu\r\n",
    "\r\n",
    "Bạn có thể tìm thấy HOST và PORT trong phần \"Kết nối và bảo mật\" trong phiên bản RDS. Chúng được mô tả là \"Điểm cuối\" và \"Cổng\":t\":"
   ]
  },
  {
   "cell_type": "markdown",
   "id": "ac8907d2-7eb0-48e7-adb5-d46297eecd37",
   "metadata": {},
   "source": [
    "Which for my project is this:\n",
    "Dự án nào của tôi là thế này:\n",
    "\n",
    "'HOST': 'w3-django-project.cdxmgq9zqqlr.us-east-1.rds.amazonaws.com'\n",
    "'PORT': '5432'"
   ]
  },
  {
   "cell_type": "markdown",
   "id": "86719086-bcfc-4b18-8aa7-15b6e2cddb5d",
   "metadata": {},
   "source": [
    "Migrate\r\n",
    "Once we have done the changes in settings.py, we must run a migration in our virtual environment, before the changes will take place\n",
    "Di cư\r\n",
    "Khi chúng tôi đã thực hiện các thay đổi trong settings.py, chúng tôi phải chạy di chuyển trong môi trường ảo của mình trước khi các thay đổi diễn ra::\r\n",
    "\r\n",
    "py manage.py migrate"
   ]
  },
  {
   "cell_type": "markdown",
   "id": "04ad2b06-694d-4eb7-ad8c-582513c4c00d",
   "metadata": {},
   "source": [
    "Which will give you this result:\n",
    "Điều này sẽ cho bạn kết quả này:\r\n",
    "\r\n",
    "Operations to perform:\r\n",
    "  Apply all migrations: admin, auth, contenttypes, members, sessions\r\n",
    "Running migrations:\r\n",
    "  Applying contenttypes.0001_initial... OK\r\n",
    "  Applying auth.0001_initial... OK\r\n",
    "  Applying admin.0001_initial... OK\r\n",
    "  Applying admin.0002_logentry_remove_auto_add... OK\r\n",
    "  Applying admin.0003_logentry_add_action_flag_choices... OK\r\n",
    "  Applying contenttypes.0002_remove_content_type_name... OK\r\n",
    "  Applying auth.0002_alter_permission_name_max_length... OK\r\n",
    "  Applying auth.0003_alter_user_email_max_length... OK\r\n",
    "  Applying auth.0004_alter_user_username_opts... OK\r\n",
    "  Applying auth.0005_alter_user_last_login_null... OK\r\n",
    "  Applying auth.0006_require_contenttypes_0002... OK\r\n",
    "  Applying auth.0007_alter_validators_add_error_messages... OK\r\n",
    "  Applying auth.0008_alter_user_username_max_length... OK\r\n",
    "  Applying auth.0009_alter_user_last_name_max_length... OK\r\n",
    "  Applying auth.0010_alter_group_name_max_length... OK\r\n",
    "  Applying auth.0011_update_proxy_permissions... OK\r\n",
    "  Applying auth.0012_alter_user_first_name_max_length... OK\r\n",
    "  Applying members.0001_initial... OK\r\n",
    "  Applying members.0002_members_delete_member... OK\r\n",
    "  Applying members.0003_rename_members_member... OK\r\n",
    "  Applying sessions.0001_initial... OK"
   ]
  },
  {
   "cell_type": "markdown",
   "id": "674512d2-312f-40f1-bfc1-543aa6e5f655",
   "metadata": {},
   "source": [
    "Now, if you run the project:\n",
    "Bây giờ, nếu bạn chạy dự án:\r\n",
    "\r\n",
    "py manage.py runserver"
   ]
  },
  {
   "cell_type": "markdown",
   "id": "3ed06aa8-2877-42d7-b638-2cad63a912b6",
   "metadata": {},
   "source": [
    "And view it in your browser: 127.0.0.1:8000/.\n",
    "\r\n",
    "You will get the home page of the project, but if you click on the \"members\" link, you will see that there are no member.\r\n",
    "\r\n",
    "That is because the database is empty. In the next chapter we will fill the database with memb\n",
    "Và xem nó trong trình duyệt của bạn: . 127.0.0.1:8000/\n",
    "\r\n",
    "Bạn sẽ nhận được trang chủ của dự án, nhưng nếu bạn nhấp vào liên kết \"thành viên\", bạn sẽ thấy rằng không có thành viên nà.\r\n",
    "\r\n",
    "Đó là vì cơ sở dữ liệu trống. Trong chương tiếp theo, chúng ta sẽ điền vào cơ sở dữ liệu các thành viên.ers."
   ]
  }
 ],
 "metadata": {
  "kernelspec": {
   "display_name": "Python 3 (ipykernel)",
   "language": "python",
   "name": "python3"
  },
  "language_info": {
   "codemirror_mode": {
    "name": "ipython",
    "version": 3
   },
   "file_extension": ".py",
   "mimetype": "text/x-python",
   "name": "python",
   "nbconvert_exporter": "python",
   "pygments_lexer": "ipython3",
   "version": "3.11.7"
  }
 },
 "nbformat": 4,
 "nbformat_minor": 5
}
