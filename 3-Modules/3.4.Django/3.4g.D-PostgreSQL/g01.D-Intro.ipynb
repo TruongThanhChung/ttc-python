{
 "cells": [
  {
   "cell_type": "markdown",
   "id": "ebd4d3af-d165-4a6f-834d-64732d5ff67f",
   "metadata": {},
   "source": [
    "Database Engines\r\n",
    "Django comes with a SQLite database which is great for testing and debugging at the beginning of a project.\n",
    "\r\n",
    "However, it is not very suitable for productio.\r\n",
    "\r\n",
    "Django also support these database engnes:\r\n",
    "\r\n",
    "PostgreSQL\r\n",
    "MariaDB\r\n",
    "MySQL\r\n",
    "Oracle\r\n",
    "We will take a closer look at the PostgreSQL datab\n",
    "Công cụ cơ sở dữ liệu\r\n",
    "Django đi kèm với cơ sở dữ liệu SQLite rất phù hợp để thử nghiệm và gỡ lỗi khi bắt đầu dự án\r\n",
    "\r\n",
    "Tuy nhiên, nó không phù hợp lắm cho sản xut.\r\n",
    "\r\n",
    "Django cũng hỗ trợ các công cụ cơ sở dữ liệunày:\r\n",
    "\r\n",
    "PostgreSQL\r\n",
    "MariaDB\r\n",
    "MySQL\r\n",
    "Lời tiên tri\r\n",
    "Chúng ta sẽ xem xét kỹ hơn về công cụ cơ sở dữ liệu PostgreSQL.ase engine."
   ]
  },
  {
   "cell_type": "markdown",
   "id": "744b0850-9d0d-4be4-822d-0e1179e92154",
   "metadata": {},
   "source": [
    "PostgreSQL\n",
    "PostgreSQL database is an open source relational database, which should cover most demands you have when creating a database for a Django project.\n",
    "It has a good reputation, it is reliable, and it perform well under most circumstances.\n",
    "We will add a PostgreSQL database to our Django project.\n",
    "To be able to use PostgreSQL in Django we have to install a package called psycopg2.\n",
    "PostgreSQL\r\n",
    "Cơ sở dữ liệu PostgreSQL là cơ sở dữ liệu quan hệ nguồn mở, đáp ứng hầu hết các nhu cầu bạn có khi tạo cơ sở dữ liệu cho dự án Django\r\n",
    "\r\n",
    "Nó có danh tiếng tốt, đáng tin cậy và hoạt động tốt trong hầu hết các trường hp.\r\n",
    "\r\n",
    "Chúng tôi sẽ thêm cơ sở dữ liệu PostgreSQL vào dự án Django của chúngtôi.\r\n",
    "\r\n",
    "Để có thể sử dụng PostgreSQL ở Django, chúng ta phải cài đặt gói có tên psycopg2 ."
   ]
  },
  {
   "cell_type": "code",
   "execution_count": null,
   "id": "7896c00c-ab92-4547-aa2b-ad0785de6607",
   "metadata": {},
   "outputs": [],
   "source": [
    "Install psycopg2\n",
    "Type this command in the command line to install the package. Make sure you are still inn the virtual environment:\n",
    "Cài đặt psycopg2\n",
    "Nhập lệnh này vào dòng lệnh để cài đặt gói. Hãy chắc chắn rằng bạn vẫn ở trong môi trường ảo:\n",
    "\n",
    "pip install psycopg2-binary"
   ]
  },
  {
   "cell_type": "markdown",
   "id": "47d72ac9-ee60-4f77-ab7f-315cbdad5781",
   "metadata": {},
   "source": [
    "The result should be something like this:\n",
    "Kết quả sẽ giống như thế này:\n",
    "\n",
    "Collecting psycopg2-binary\n",
    "  Downloading psycopg2_binary-2.9.5-cp39-cp39-win_amd64.whl (1.2 MB)\n",
    "    |████████████████████████████████| 1.2 MB 3.3 MB/s\n",
    "Installing collected packages: psycopg2-binary\n",
    "Successfully installed psycopg2-binary-2.9.5\n",
    "WARNING: You are using pip version 20.2.3; however, version 22.3.1 is available. You should consider upgrading via the 'c:\\users\\Your Name\\myworld\\scripts\\python.exe -m pip install --upgrade pip' command."
   ]
  },
  {
   "cell_type": "code",
   "execution_count": null,
   "id": "754186a7-6a1e-4c8e-923e-13ba7e5f939c",
   "metadata": {},
   "outputs": [],
   "source": [
    "The psycopg2 package is a driver that is necessary for PostgreSQL to work in Python.\n",
    "We also need a server where we can host the database.\n",
    "In this tutorial we have chosen the Amazon Web Services (AWS) platform, you will learn more about that in the next chapter.\n",
    "Gói psycopg2 là trình điều khiển cần thiết để PostgreSQL hoạt động trong Python.\n",
    "Chúng tôi cũng cần một máy chủ nơi chúng tôi có thể lưu trữ cơ sở dữ liệu.\n",
    "Trong hướng dẫn này, chúng tôi đã chọn nền tảng Amazon Web Services (AWS), bạn sẽ tìm hiểu thêm về điều đó trong chương tiếp theo ."
   ]
  }
 ],
 "metadata": {
  "kernelspec": {
   "display_name": "Python 3 (ipykernel)",
   "language": "python",
   "name": "python3"
  },
  "language_info": {
   "codemirror_mode": {
    "name": "ipython",
    "version": 3
   },
   "file_extension": ".py",
   "mimetype": "text/x-python",
   "name": "python",
   "nbconvert_exporter": "python",
   "pygments_lexer": "ipython3",
   "version": "3.11.7"
  }
 },
 "nbformat": 4,
 "nbformat_minor": 5
}
