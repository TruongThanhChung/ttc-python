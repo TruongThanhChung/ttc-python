{
 "cells": [
  {
   "cell_type": "markdown",
   "id": "3a344f0d-2616-421a-b90c-7bcb4aacd335",
   "metadata": {},
   "source": [
    "Create Database\r\n",
    "Inside the RDS service, create a database, either by navigating to the Database section, or just click the \"Create database\" button\n",
    "Tạo nên cơ sở dữ liệu\r\n",
    "Bên trong dịch vụ RDS, tạo cơ sở dữ liệu bằng cách điều hướng đến phần Cơ sở dữ liệu hoặc chỉ cần nhấp vào nút \"Tạo cơ sở dữ liệu\"::"
   ]
  },
  {
   "cell_type": "markdown",
   "id": "f53dfac2-dfad-456e-acba-830add325218",
   "metadata": {},
   "source": [
    "Settings\r\n",
    "Once you have started creating a database, you will be given some choices for the type and settings of your database\r\n",
    "\r\n",
    "To add a PostgreSQL database to your Django project, choose the following optio\n",
    "Cài đặt\r\n",
    "Khi bạn đã bắt đầu tạo cơ sở dữ liệu, bạn sẽ được cung cấp một số lựa chọn về loại và cài đặt cơ sở dữ liệu của mình\r\n",
    "\r\n",
    "Để thêm cơ sở dữ liệu PostgreSQL vào dự án Django của bạn, hãy chọn các tùy chọn sau:ns:"
   ]
  },
  {
   "cell_type": "markdown",
   "id": "d5bdfc20-c213-4b1c-9075-7132abc27f12",
   "metadata": {},
   "source": [
    "Standard creation method:\n",
    "Phương pháp tạo tiêu chuẩn:"
   ]
  },
  {
   "cell_type": "markdown",
   "id": "9a500f18-551e-4355-8e10-695192627b47",
   "metadata": {},
   "source": [
    "PostgreSQL engine method:\n",
    "Phương pháp công cụ PostgreSQL:"
   ]
  },
  {
   "cell_type": "markdown",
   "id": "ed46fd6c-5374-4182-bc6b-4eb95ae8d1df",
   "metadata": {},
   "source": [
    "Free Tier Template:\n",
    "Mẫu bậc miễn phí:"
   ]
  },
  {
   "cell_type": "markdown",
   "id": "8f78885f-815b-4f20-ae1f-0d802e7e5db2",
   "metadata": {},
   "source": [
    "Name of database, username, and password\r\n",
    "You can choose any name, username, and password\n",
    "Tên cơ sở dữ liệu, tên người dùng và mật khẩu\r\n",
    "Bạn có thể chọn bất kỳ tên, tên người dùng và mật khẩu nào::"
   ]
  },
  {
   "cell_type": "code",
   "execution_count": null,
   "id": "f7bb273d-9e4b-4214-93a3-cf920632d0e2",
   "metadata": {},
   "outputs": [],
   "source": [
    "Keep the default instance configuration:\n",
    "Giữ cấu hình phiên bản mặc định:"
   ]
  },
  {
   "cell_type": "markdown",
   "id": "a167159b-7879-48ed-902d-d5ab1640f6f6",
   "metadata": {},
   "source": [
    "Check off the storage autoscaling:\n",
    "It can be a good thing to enable storage autoscaling, but for this tutorial it is not necessary.\n",
    "Kiểm tra tính năng tự động chia tỷ lệ bộ nhớ:\n",
    "Việc kích hoạt tính năng tự động thay đổi quy mô bộ nhớ có thể là một điều tốt, nhưng đối với hướng dẫn này thì điều đó là không cần thiết."
   ]
  },
  {
   "cell_type": "markdown",
   "id": "c40918d9-8f38-4e27-ad79-d976ba99ba9b",
   "metadata": {},
   "source": [
    "Grant public access, and create a new security group:\r\n",
    "Give the security group a name, we will call it \"w3-django\"\n",
    "Cấp quyền truy cập công khai và tạo nhóm bảo mật mới:\r\n",
    "Đặt tên cho nhóm bảo mật, chúng tôi sẽ gọi nó là \"w3-django\"::"
   ]
  },
  {
   "cell_type": "markdown",
   "id": "dbdeae1a-7a75-40df-991f-d9ededb25780",
   "metadata": {},
   "source": [
    "Keep default db authentications:\n",
    "Giữ xác thực db mặc định:"
   ]
  },
  {
   "cell_type": "markdown",
   "id": "ec25680a-b2eb-4cf5-bdf5-538fab1dfdb7",
   "metadata": {},
   "source": [
    "Keep default monitoring:\n",
    "Giữ giám sát mặc định:"
   ]
  },
  {
   "cell_type": "markdown",
   "id": "eb08acd5-b6e1-4f20-9287-ee39635d952e",
   "metadata": {},
   "source": [
    "Click Create database:\n",
    "Bấm vào Tạo cơ sở dữ liệu:"
   ]
  },
  {
   "cell_type": "code",
   "execution_count": null,
   "id": "1c40a394-92a1-4701-a1c1-d4807d897d84",
   "metadata": {},
   "outputs": [],
   "source": [
    "This will take a few minutes, but when it is finished, you will have a new PostgreSQL database, almost ready to run on your Django project!\n",
    "In the next chapter you will learn how to connect your project to the database.\n",
    "Quá trình này sẽ mất vài phút nhưng khi hoàn tất, bạn sẽ có cơ sở dữ liệu PostgreSQL mới, gần như sẵn sàng để chạy trên dự án Django của bạn!\n",
    "Trong chương tiếp theo, bạn sẽ tìm hiểu cách kết nối dự án của mình với cơ sở dữ liệu."
   ]
  }
 ],
 "metadata": {
  "kernelspec": {
   "display_name": "Python 3 (ipykernel)",
   "language": "python",
   "name": "python3"
  },
  "language_info": {
   "codemirror_mode": {
    "name": "ipython",
    "version": 3
   },
   "file_extension": ".py",
   "mimetype": "text/x-python",
   "name": "python",
   "nbconvert_exporter": "python",
   "pygments_lexer": "ipython3",
   "version": "3.11.7"
  }
 },
 "nbformat": 4,
 "nbformat_minor": 5
}
