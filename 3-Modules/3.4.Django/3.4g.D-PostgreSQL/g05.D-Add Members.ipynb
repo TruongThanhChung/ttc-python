{
 "cells": [
  {
   "cell_type": "markdown",
   "id": "1406ce5b-014b-4742-b8c1-fbfc841e013a",
   "metadata": {},
   "source": [
    "Members\r\n",
    "The \"My Tennis Club\" project has no members: 127.0.0.1:8000/\r\n",
    "\r\n",
    "That is because we have created a brand new database, and it is empy.\r\n",
    "\r\n",
    "The old SQLite database contained 5 members, so let us dive into the admin interface and add the same 5 memers.\r\n",
    "\r\n",
    "But first we have to create a new sup\n",
    "Các thành viên\r\n",
    "Dự án \"Câu lạc bộ quần vợt của tôi\" không có thành viên: 127.0.0.1:8000/\r\n",
    "\r\n",
    "Đó là bởi vì chúng tôi đã tạo một cơ sở dữ liệu hoàn toàn mới và nó trống rỗg.\r\n",
    "\r\n",
    "Cơ sở dữ liệu SQLite cũ chứa 5 thành viên, vì vậy chúng ta hãy đi sâu vào giao diện quản trị và thêm 5 thành viên tươn tự.\r\n",
    "\r\n",
    "Nhưng trước tiên chúng ta phải tạo một siêu người dùng mới.eruser."
   ]
  },
  {
   "cell_type": "markdown",
   "id": "a72697bd-913c-485e-86e4-9a2dccc14050",
   "metadata": {},
   "source": [
    "Create superuser\r\n",
    "Since we now have a new database, we have to create the superuser once again:\n",
    "\r\n",
    "This is done by typing this command in the command vi\n",
    "Tạo siêu người dùng\r\n",
    "Vì hiện tại chúng tôi có cơ sở dữ liệu mới nên chúng tôi phải tạo lại siêu người dùng:\n",
    "\r\n",
    "Điều này được thực hiện bằng cách gõ lệnh này trong chế độ xem lệnh:ew:\r\n",
    "\r\n",
    "py manage.py createsuperuser"
   ]
  },
  {
   "cell_type": "code",
   "execution_count": null,
   "id": "897d8381-9ad5-4c15-89b5-39ebb960b53c",
   "metadata": {},
   "outputs": [],
   "source": [
    "Which will give this prompt:\n",
    "nào sẽ đưa ra lời nhắc này:\n",
    "\n",
    "Username:"
   ]
  },
  {
   "cell_type": "markdown",
   "id": "0fe6f9d0-9dde-443b-b7b0-29f120d776dd",
   "metadata": {},
   "source": [
    "Here you must enter: username, e-mail address, (you can just pick a fake e-mail address), and password:\n",
    "Tại đây bạn phải nhập: tên người dùng, địa chỉ e-mail, (bạn chỉ có thể chọn địa chỉ e-mail giả) và mật khẩu:\n",
    "\r",
    "\r\n",
    "Username: johndoe\r\n",
    "Email address: johndoe@dummymail.com\r\n",
    "Password:\r\n",
    "Password (again):\r\n",
    "This password is too short. It must contain at least 8 characters.\r\n",
    "This password is too common.\r\n",
    "This password is entirely numeric.\r\n",
    "Bypass password validation and create user anyway? [y/N]:"
   ]
  },
  {
   "cell_type": "markdown",
   "id": "6d96a717-f0a2-4066-a512-cfc9d3304074",
   "metadata": {},
   "source": [
    "My password did not meet the criteria, but this is a test environment, and I choose to create user anyway, by enter y:\r",
    "Mật khẩu của tôi không đáp ứng tiêu chí, nhưng đây là môi trường thử nghiệm và tôi vẫn chọn tạo người dùng bằng cách nhập y:\n",
    "\n",
    "\r\n",
    "Bypass password validation and create user anyway? [y/N]: y"
   ]
  },
  {
   "cell_type": "markdown",
   "id": "0fa605a3-aabe-4dbd-b6d3-b43e36b247d8",
   "metadata": {},
   "source": [
    "If you press [Enter], you should have successfully created a user:\n",
    "Nếu bạn nhấn [Enter], bạn sẽ tạo thành công người dùng:\r\n",
    "\r\n",
    "Superuser created successfully."
   ]
  },
  {
   "cell_type": "markdown",
   "id": "adf9af6b-bb97-4094-af62-f1fcbb208274",
   "metadata": {},
   "source": [
    "Now start the server again:\r",
    "Bây giờ khởi động lại máy chủ:\n",
    "\n",
    "\r\n",
    "py manage.py runserver"
   ]
  },
  {
   "cell_type": "markdown",
   "id": "4ee1931b-6e48-4857-903a-6516c4d46e34",
   "metadata": {},
   "source": [
    "In the browser window, type 127.0.0.1:8000/admin in the address bar.\n",
    "\r\n",
    "And fill in the form with the correct username and passwor\n",
    "Trong cửa sổ trình duyệt, gõ 127.0.0.1:8000/admin vào thanh địa chỉ.\n",
    "\r\n",
    "Và điền vào biểu mẫu với tên người dùng và mật khẩu chính xác:d:"
   ]
  },
  {
   "cell_type": "markdown",
   "id": "9f45d088-2dd3-4a52-909a-28a151910b52",
   "metadata": {},
   "source": [
    "Which should result in this interface:\n",
    "Điều này sẽ dẫn đến giao diện này:"
   ]
  },
  {
   "cell_type": "markdown",
   "id": "344438dc-0e62-46d4-ba12-b98834d41219",
   "metadata": {},
   "source": [
    "Add Members\n",
    "When you are in the admin interface, click the \"Add\" button for \"Members\", and start inserting new members until you have a list like this:\n",
    "Thêm thành viên\r\n",
    "Khi bạn đang ở giao diện quản trị, hãy nhấp vào nút \"Thêm\" cho \"Thành viên\" và bắt đầu chèn thành viên mới cho đến khi bạn có danh sách như thế này:"
   ]
  },
  {
   "cell_type": "markdown",
   "id": "ae5bf11d-d45f-400a-b144-45c1a7d1955b",
   "metadata": {},
   "source": [
    "My Tennis Club\r\n",
    "In the browser window, type 127.0.0.1:8000/members in the address bar\r\n",
    "\r\n",
    "And once again you have a Tennis Club page with 5 membe\n",
    "Câu lạc bộ quần vợt của tôi\r\n",
    "Trong cửa sổ trình duyệt, gõ 127.0.0.1:8000/member svào thanh địa chỉ\r\n",
    "\r\n",
    "Và một lần nữa bạn có trang Câu lạc bộ Quần vợt với 5 thành vi!rs!\r\n",
    "\r\n"
   ]
  },
  {
   "cell_type": "markdown",
   "id": "640117b1-db72-4fd6-95c9-99e37eccc08c",
   "metadata": {},
   "source": [
    "Next: let's deploy this project, so that the whole world can see it!\n",
    "Tiếp theo: hãy triển khai dự án này để cả thế giới có thể nhìn thấy nó!"
   ]
  }
 ],
 "metadata": {
  "kernelspec": {
   "display_name": "Python 3 (ipykernel)",
   "language": "python",
   "name": "python3"
  },
  "language_info": {
   "codemirror_mode": {
    "name": "ipython",
    "version": 3
   },
   "file_extension": ".py",
   "mimetype": "text/x-python",
   "name": "python",
   "nbconvert_exporter": "python",
   "pygments_lexer": "ipython3",
   "version": "3.11.7"
  }
 },
 "nbformat": 4,
 "nbformat_minor": 5
}
