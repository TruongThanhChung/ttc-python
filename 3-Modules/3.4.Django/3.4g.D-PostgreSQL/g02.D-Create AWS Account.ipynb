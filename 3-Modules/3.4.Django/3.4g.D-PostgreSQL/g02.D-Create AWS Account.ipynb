{
 "cells": [
  {
   "cell_type": "markdown",
   "id": "18bcd2a5-1569-409d-a19e-042a62cd8c57",
   "metadata": {},
   "source": [
    "Why AWS?\r\n",
    "There are many providers out there that can host Django projects and PostgreSQL databases.\n",
    "\r\n",
    "In this tutorial we will use the Amazon Web Services (AWS) platform, mainly because they offer a free solution that can host both Django projects and PostgreSQL databases. All you need is an AWS accou\n",
    "Tại sao lại là AWS?\r\n",
    "Có rất nhiều nhà cung cấp có thể lưu trữ các dự án Django và cơ sở dữ liệu PostgreSQL\r\n",
    "\r\n",
    "Trong hướng dẫn này, chúng ta sẽ sử dụng nền tảng Amazon Web Services (AWS), chủ yếu là vì họ cung cấp giải pháp miễn phí có thể lưu trữ cả dự án Django và cơ sở dữ liệu PostgreSQL. Tất cả những gì bạn cần là một tài khoản AWS.nt."
   ]
  },
  {
   "cell_type": "markdown",
   "id": "1d27035c-d70f-47f7-82bb-b9bd486c7dda",
   "metadata": {},
   "source": [
    "Note: you can choose whatever server provider you like, they will most likely all give you a satisfying result, but they will have some provider-specific settings that you should be aware of when following this tutorial.\n",
    "Lưu ý: bạn có thể chọn bất kỳ nhà cung cấp máy chủ nào bạn thích, rất có thể họ sẽ mang lại cho bạn kết quả hài lòng, nhưng họ sẽ có một số cài đặt dành riêng cho nhà cung cấp mà bạn nên biết khi làm theo hướng dẫn này."
   ]
  },
  {
   "cell_type": "markdown",
   "id": "f6e677b1-b7ea-4855-8c9d-9fc28df3c897",
   "metadata": {},
   "source": [
    "AWS\r\n",
    "Go to aws.amazon.com, and create an account\n",
    "AWS\r\n",
    "Truy cập aws.amazon.com và tạo một tài khoản::"
   ]
  },
  {
   "cell_type": "markdown",
   "id": "954c7902-4faa-488c-848b-67fb0a95147c",
   "metadata": {},
   "source": [
    "Sign In\r\n",
    "Once you have created an AWS account, it is time to sign in for the first time\n",
    "Đăng nhập\r\n",
    "Khi bạn đã tạo tài khoản AWS, đã đến lúc đăng nhập lần đầu tiên::"
   ]
  },
  {
   "cell_type": "markdown",
   "id": "fc9384b1-f5f5-4f3f-8f08-451b89512818",
   "metadata": {},
   "source": [
    "AWS Console\n",
    "If this is your first time you sign into your AWS account, you will be directed to the AWS Console Home page:\n",
    "Bảng điều khiển AWS\r\n",
    "Nếu đây là lần đầu tiên bạn đăng nhập vào tài khoản AWS của mình, bạn sẽ được chuyển đến Trang chủ Bảng điều khiển AWS:"
   ]
  },
  {
   "cell_type": "markdown",
   "id": "fd0f9b72-77b1-4d56-89d3-8c3e9126660a",
   "metadata": {},
   "source": [
    "Add the RDS Service\r\n",
    "Once you have an AWS account, you can start creating a database\r\n",
    "\r\n",
    "We will use a database service at AWS, called RS.\r\n",
    "\r\n",
    "In the search field, search for \"RDS\", and click to start the ser\n",
    "hêm dịch vụ RDS\r\n",
    "Sau khi có tài khoản AWS, bạn có thể bắt đầu tạo cơ sở dữ liệu\r\n",
    "\r\n",
    "Chúng tôi sẽ sử dụng dịch vụ cơ sở dữ liệu tại AWS, được gọi là RS.\r\n",
    "\r\n",
    "Trong trường tìm kiếm, tìm kiếm \"RDS\" và nhấp để bắt đầu dịch vụ:vice:"
   ]
  },
  {
   "cell_type": "markdown",
   "id": "6b22fce1-f083-4ab5-90ba-f2a2f29080ee",
   "metadata": {},
   "source": [
    "Once the service has started, you should see something like this:\n",
    "Khi dịch vụ đã bắt đầu, bạn sẽ thấy một cái gì đó như thế này:"
   ]
  },
  {
   "cell_type": "markdown",
   "id": "a85e775c-b9d7-4e9f-a88b-129f96f40dd4",
   "metadata": {},
   "source": [
    "In the next chapter we will create the PostgreSQL database.\n",
    "Trong chương tiếp theo, chúng ta sẽ tạo cơ sở dữ liệu PostgreSQL."
   ]
  }
 ],
 "metadata": {
  "kernelspec": {
   "display_name": "Python 3 (ipykernel)",
   "language": "python",
   "name": "python3"
  },
  "language_info": {
   "codemirror_mode": {
    "name": "ipython",
    "version": 3
   },
   "file_extension": ".py",
   "mimetype": "text/x-python",
   "name": "python",
   "nbconvert_exporter": "python",
   "pygments_lexer": "ipython3",
   "version": "3.11.7"
  }
 },
 "nbformat": 4,
 "nbformat_minor": 5
}
