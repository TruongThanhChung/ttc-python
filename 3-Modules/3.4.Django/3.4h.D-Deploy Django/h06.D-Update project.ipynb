{
 "cells": [
  {
   "cell_type": "markdown",
   "id": "58e6772d-b7a1-48d9-b026-57d8bdbd0f24",
   "metadata": {
    "jupyter": {
     "source_hidden": true
    }
   },
   "source": [
    "Deploy Changes\r\n",
    "Any changes you do with the application locally, on your own computer, is not visible on the deployed version\r\n",
    "\r\n",
    "So if you make a change, and you want it to be visible on the deployed version, you have to upload a new .zip fi\n",
    "Triển khai các thay đổi\r\n",
    "Mọi thay đổi bạn thực hiện với ứng dụng cục bộ, trên máy tính của riêng bạn, sẽ không hiển thị trên phiên bản đã triển khai.\n",
    "\r\n",
    "Vì vậy, nếu bạn thực hiện thay đổi và muốn thay đổi đó hiển thị trên phiên bản đã triển khai, bạn phải tải lên tệp .zip mới.le."
   ]
  },
  {
   "cell_type": "code",
   "execution_count": null,
   "id": "8a498488-6718-4f23-b4d2-2dc25b49ac2e",
   "metadata": {},
   "outputs": [],
   "source": []
  },
  {
   "cell_type": "markdown",
   "id": "7daf9ef9-0f96-4b28-bf29-0dcd028dd1de",
   "metadata": {},
   "source": [
    "Create .zip file\r\n",
    "To wrap your project into a .zip file, follow the steps described in the Create .zip File chapter:\n",
    "\r\n",
    "Start by selecting the relevant files and folders of your project, if you have the same project as we have in our tutorial, you should select the highlighted files in the example beloTạo tệp .zip\r\n",
    "Để gói dự án của bạn vào một tệp .zip, hãy làm theo các bước được mô tả trong chương Tạo tệp .zip :\n",
    "\r\n",
    "Bắt đầu bằng cách chọn các tệp và thư mục có liên quan trong dự án của bạn, nếu bạn có dự án giống như chúng tôi có trong hướng dẫn của chúng tôi, bạn nên chọn các tệp được đánh dấu trong ví dụ bên dưới:\n",
    "w:\r\n",
    "\r\n",
    "my_tennis_club\r\n",
    "    .ebextensions/\r\n",
    "    members/\r\n",
    "    my_tennis_club/\r\n",
    "    mystaticfiles/\r\n",
    "    productionfiles/\r\n",
    "    db.sqlite3\r\n",
    "    manage.py\r\n",
    "    requirements.txt"
   ]
  },
  {
   "cell_type": "markdown",
   "id": "e82aae26-1e53-40ad-a921-3eff00f85456",
   "metadata": {},
   "source": [
    "Right-click and choose to create a .zip file.\r",
    "\r\n",
    "Now you have a .zip file, containing the changes, and you can upload it to Elastic beanstalkNhấp chuột phải và chọn tạo tệp .zip.\r",
    "\r\n",
    "Bây giờ bạn có tệp .zip chứa các thay đổi và bạn có thể tải tệp đó lên Cây đậu đàn hồ\n",
    "i::\r\n",
    "\r\n",
    "my_tennis_club\r\n",
    "    .ebextensions/\r\n",
    "    members/\r\n",
    "    my_tennis_club/\r\n",
    "    mystaticfiles/\r\n",
    "    productionfiles/\r\n",
    "    db.sqlite3\r\n",
    "    manage.py\r\n",
    "    my_tennis_clup.zip\r\n",
    "    requirements.txt"
   ]
  },
  {
   "cell_type": "markdown",
   "id": "b680214a-b069-4357-bf55-b5696ed8de23",
   "metadata": {},
   "source": [
    "Upload to Elastic Beanstalk\r\n",
    "Log into your Amazon Web Services account, and find your project under the \"Elastic Beanstalk\" application\n",
    "Tải lên Elastic Beanstalk\r\n",
    "Đăng nhập vào tài khoản Amazon Web Services của bạn và tìm dự án của bạn trong ứng dụng \"Elastic Beanstalk\"::"
   ]
  },
  {
   "cell_type": "markdown",
   "id": "b4f43ecb-47b3-46c1-89cf-76c2e55ca1c2",
   "metadata": {},
   "source": [
    "Click the \"Upload and deploy\" button.\n",
    "Nhấp vào nút \"Tải lên và triển khai\"."
   ]
  },
  {
   "cell_type": "markdown",
   "id": "5a0fe181-ee04-4356-b217-e83e3b9ea91d",
   "metadata": {},
   "source": [
    "Choose .zip File\r\n",
    "Click the \"Choose file\" button to upload the .zip file you just created\n",
    "Chọn tệp .zip\r\n",
    "Nhấp vào nút \"Chọn tệp\" để tải lên tệp .zip bạn vừa tạo::"
   ]
  },
  {
   "cell_type": "markdown",
   "id": "565309b7-4574-426d-9f28-554902ab0644",
   "metadata": {},
   "source": [
    "Deploy\r\n",
    "Click the \"Deploy\" button\n",
    "Triển khai\r\n",
    "Nhấp vào nút \"Triển khai\"::"
   ]
  },
  {
   "cell_type": "markdown",
   "id": "2f72560e-f9f5-4f1c-bc73-66bcad3b67c7",
   "metadata": {},
   "source": [
    "Uploaded!\n",
    "That's it, your project is updated with all the new changes.\n",
    "Đã tải lên!\r\n",
    "Thế là xong, dự án của bạn đã được cập nhật với tất cả những thay đổi mới."
   ]
  },
  {
   "cell_type": "markdown",
   "id": "01eaf049-614e-404b-a7d8-15765233ffdb",
   "metadata": {},
   "source": [
    "Note: Follow these steps every time you want to update your project.\n",
    "Lưu ý: Hãy làm theo các bước này mỗi khi bạn muốn cập nhật dự án của mình."
   ]
  }
 ],
 "metadata": {
  "kernelspec": {
   "display_name": "Python 3 (ipykernel)",
   "language": "python",
   "name": "python3"
  },
  "language_info": {
   "codemirror_mode": {
    "name": "ipython",
    "version": 3
   },
   "file_extension": ".py",
   "mimetype": "text/x-python",
   "name": "python",
   "nbconvert_exporter": "python",
   "pygments_lexer": "ipython3",
   "version": "3.11.7"
  }
 },
 "nbformat": 4,
 "nbformat_minor": 5
}
