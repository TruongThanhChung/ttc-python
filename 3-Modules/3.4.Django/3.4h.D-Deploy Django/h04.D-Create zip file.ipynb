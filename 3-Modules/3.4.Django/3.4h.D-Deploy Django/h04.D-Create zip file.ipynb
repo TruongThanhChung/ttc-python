{
 "cells": [
  {
   "cell_type": "markdown",
   "id": "cee928c0-5af6-4e39-8e14-7fb3664389d2",
   "metadata": {},
   "source": [
    "Zip Your Project\r\n",
    "To wrap your project into a .zip file, you cannot zip the entire project folder, but choose the files and folders manually.\n",
    "\r\n",
    "The files to include in the .zip file are highlighted (blue) in the example beloNén dự án của bạn\r\n",
    "Để gói dự án của bạn thành tệp .zip, bạn không thể nén toàn bộ thư mục dự án mà phải chọn các tệp và thư mục theo cách thủ công.\n",
    "\r\n",
    "Các tệp cần đưa vào tệp .zip được đánh dấu (màu xanh) trong ví dụ bên dướ:\n",
    "\n",
    "w:\r\n",
    "\r\n",
    "my_tennis_club\r\n",
    "    .ebextensions/\r\n",
    "    members/\r\n",
    "    my_tennis_club/\r\n",
    "    mystaticfiles/\r\n",
    "    productionfiles/\r\n",
    "    db.sqlite3\r\n",
    "    manage.py\r\n",
    "    requirements.txt"
   ]
  },
  {
   "cell_type": "markdown",
   "id": "a3f6d4f7-d255-4b13-ba1b-be5847d0c015",
   "metadata": {},
   "source": [
    "With your file explorer, navigate to the project folder, select these files and folders, right-click and choose to create a zip file.\n",
    "Với trình khám phá tệp của bạn, hãy điều hướng đến thư mục dự án, chọn các tệp và thư mục này, nhấp chuột phải và chọn tạo tệp zip."
   ]
  },
  {
   "cell_type": "code",
   "execution_count": null,
   "id": "73578ded-e31d-429f-8710-48393dee9b4e",
   "metadata": {},
   "outputs": [],
   "source": [
    "Zip File\n",
    "Now you have a .zip file of your project which you can upload to Elastic beanstalk:\n",
    "Tệp Zip\n",
    "Bây giờ bạn đã có tệp .zip của dự án mà bạn có thể tải lên Cây đậu đàn hồi:\n",
    "\n",
    "my_tennis_club\n",
    "    .ebextensions/\n",
    "    members/\n",
    "    my_tennis_club/\n",
    "    mystaticfiles/\n",
    "    productionfiles/\n",
    "    db.sqlite3\n",
    "    manage.py\n",
    "    my_tennis_clup.zip\n",
    "    requirements.txt"
   ]
  }
 ],
 "metadata": {
  "kernelspec": {
   "display_name": "Python 3 (ipykernel)",
   "language": "python",
   "name": "python3"
  },
  "language_info": {
   "codemirror_mode": {
    "name": "ipython",
    "version": 3
   },
   "file_extension": ".py",
   "mimetype": "text/x-python",
   "name": "python",
   "nbconvert_exporter": "python",
   "pygments_lexer": "ipython3",
   "version": "3.11.7"
  }
 },
 "nbformat": 4,
 "nbformat_minor": 5
}
