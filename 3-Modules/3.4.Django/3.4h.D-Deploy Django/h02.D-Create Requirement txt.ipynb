{
 "cells": [
  {
   "cell_type": "markdown",
   "id": "331992a7-7182-4861-9049-d33937a0a9c6",
   "metadata": {},
   "source": [
    "Lock in Dependencies\r\n",
    "When you create a Django application, there are some Python packages that your project depends on.\n",
    "\r\n",
    "Django itself is a Python package, and we have to make sure that the server where we deploy our project also has the Django package installed, and all the other packages your project require.\r\n",
    "\r\n",
    "Luckily there is a command for this as well, just run this command in the command vKhóa phụ thuộc\r\n",
    "Khi bạn tạo một ứng dụng Django, có một số gói Python mà dự án của bạn phụ thuộc vào.\n",
    "\r\n",
    "Bản thân Django là một gói Python và chúng tôi phải đảm bảo rằng máy chủ nơi chúng tôi triển khai dự án của mình cũng đã cài đặt gói Django và tất cả các gói khác mà dự án của bạn yêu cầ.\r\n",
    "\r\n",
    "May mắn thay cũng có một lệnh cho việc này, chỉ cần chạy lệnh này trong chế độ xem lệnh:\n",
    "iew:\r\n",
    "\r\n",
    "py -m pip freeze > requirements.txt"
   ]
  },
  {
   "cell_type": "markdown",
   "id": "63583d37-5f7b-4ba1-bb8b-c112ad7d1c3a",
   "metadata": {},
   "source": [
    "The result of the above command, is a file called requirements.txt being created in the project:\n",
    "Kết quả của lệnh trên là một tệp có tên requirements.txtđang được tạo trong dự án:\n",
    "\n",
    "my_tennis_club\r\n",
    "    members/\r\n",
    "    my_tennis_club/\r\n",
    "    mystaticfiles/\r\n",
    "    productionfiles/\r\n",
    "    db.sqlite3\r\n",
    "    manage.py\r\n",
    "    requirements.txt"
   ]
  },
  {
   "cell_type": "markdown",
   "id": "b11ff845-4139-4b43-ba63-7470453df4eb",
   "metadata": {},
   "source": [
    "The file contains all the packages that this project depends on: with this content:\n",
    "Tệp chứa tất cả các gói mà dự án này phụ thuộc vào: với nội dung này:\n",
    "\n",
    "my_tennis_club/requirements.txt:\n",
    "\n",
    "asgiref==3.5.2\n",
    "Django==4.1.4\n",
    "psycopg2-binary==2.9.5\n",
    "sqlparse==0.4.3\n",
    "tzdata==2022.7\n",
    "whitenoise==6.2.0"
   ]
  },
  {
   "cell_type": "markdown",
   "id": "1ccdf1ae-8736-403c-8e66-c3e4bf8419c0",
   "metadata": {},
   "source": [
    "Note: You can create this file on your own, and insert the packages manually, just make sure you get all the packages your project depends on, and you must name the file requirements.txt.\n",
    "Lưu ý: Bạn có thể tự tạo tệp này và chèn các gói theo cách thủ công, chỉ cần đảm bảo rằng bạn nhận được tất cả các gói mà dự án của bạn phụ thuộc vào và bạn phải đặt tên tệp requirements.txt."
   ]
  },
  {
   "cell_type": "markdown",
   "id": "34efa486-3c94-48c6-9963-87a5218b72aa",
   "metadata": {},
   "source": [
    "Now the hosting provider knows which packages to install when we deploy our project.\n",
    "But Elastic Beanstalk needs more information, go to the next chapter to create an \"EB\" config file.\n",
    "Bây giờ nhà cung cấp dịch vụ lưu trữ đã biết nên cài đặt gói nào khi chúng tôi triển khai dự án của mình.\n",
    "\r\n",
    "Nhưng Elastic Beanstalk cần thêm thông tin, hãy chuyển sang chương tiếp theo để tạo tệp cấu hình \"EB\"."
   ]
  }
 ],
 "metadata": {
  "kernelspec": {
   "display_name": "Python 3 (ipykernel)",
   "language": "python",
   "name": "python3"
  },
  "language_info": {
   "codemirror_mode": {
    "name": "ipython",
    "version": 3
   },
   "file_extension": ".py",
   "mimetype": "text/x-python",
   "name": "python",
   "nbconvert_exporter": "python",
   "pygments_lexer": "ipython3",
   "version": "3.11.7"
  }
 },
 "nbformat": 4,
 "nbformat_minor": 5
}
