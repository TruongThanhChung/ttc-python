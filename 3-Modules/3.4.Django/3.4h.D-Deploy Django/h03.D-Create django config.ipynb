{
 "cells": [
  {
   "cell_type": "markdown",
   "id": "135fdfbd-81ad-4c4c-9ae9-707092f67da4",
   "metadata": {},
   "source": [
    "Provider-Specific Settings\r\n",
    "We have chosen AWS as our hosting provider, and Elastic Beanstalk as a service to deploy the Django project, and it has some specific requirements\n",
    "Cài đặt dành riêng cho nhà cung cấp\r\n",
    "Chúng tôi đã chọn AWS làm nhà cung cấp dịch vụ lưu trữ và Elastic Beanstalk làm dịch vụ để triển khai dự án Django và dịch vụ này có một số yêu cầu cụ thể.."
   ]
  },
  {
   "cell_type": "markdown",
   "id": "82b6d889-bbd3-439b-bcfb-bdd898998637",
   "metadata": {},
   "source": [
    ".ebextension Folder\r\n",
    "It requires that you create a folder on the root level of your project called .ebextensions\n",
    "Thư mục .ebextension\r\n",
    "Nó yêu cầu bạn tạo một thư mục ở cấp độ gốc của dự án có tên là .ebextensions::\r\n",
    "\r\n",
    "my_tennis_club\r\n",
    "    .ebextensions/\r\n",
    "    members/\r\n",
    "    my_tennis_club/\r\n",
    "    mystaticfiles/\r\n",
    "    productionfiles/\r\n",
    "    db.sqlite3\r\n",
    "    manage.py\r\n",
    "    requirements.txt"
   ]
  },
  {
   "cell_type": "markdown",
   "id": "fa38f0db-9fbe-4bf6-ad47-79944fb34239",
   "metadata": {},
   "source": [
    "Create django.config File\r\n",
    "In the .ebextensions folder, create a file called django.config:Tạo tập tin django.config\r\n",
    "Trong .ebextensionsthư mục, tạo một tệp có tên django.config:\n",
    "\r\n",
    "\r\n",
    "my_tennis_club\r\n",
    "    .ebextensions/\r\n",
    "        django.config"
   ]
  },
  {
   "cell_type": "markdown",
   "id": "917901bb-f7a8-409b-81f3-53e8c4cb3091",
   "metadata": {},
   "source": [
    "Open the file and insert these settings:\n",
    "Mở tệp và chèn các cài đặt này:\n",
    "\n",
    "my_tennis_club/.ebextensions/django.config:\n",
    "\n",
    "option_settings:\n",
    "  aws:elasticbeanstalk:container:python:\n",
    "    WSGIPath: my_tennis_club.wsgi:application"
   ]
  },
  {
   "cell_type": "markdown",
   "id": "be506d80-4dfc-4542-9f21-c4c8dab6a754",
   "metadata": {},
   "source": [
    "Note: These steps are specific for AWS and Elastic beanstalk, but every provider has some provider-specific settings.\n",
    "Lưu ý: Các bước này dành riêng cho AWS và Elastic Beanstalk, nhưng mỗi nhà cung cấp đều có một số cài đặt dành riêng cho nhà cung cấp."
   ]
  },
  {
   "cell_type": "code",
   "execution_count": null,
   "id": "7a36ae6e-f010-4340-b198-1bb2c6f84713",
   "metadata": {},
   "outputs": [],
   "source": [
    "The next step is to wrap all the dependencies into one .zip file, which you will learn in the next chapter.\n",
    "Bước tiếp theo là gói tất cả các phần phụ thuộc vào một tệp .zip mà bạn sẽ tìm hiểu trong chương tiếp theo ."
   ]
  },
  {
   "cell_type": "code",
   "execution_count": null,
   "id": "2fe4c1fa-cd2b-49c8-ba51-b1d461583980",
   "metadata": {},
   "outputs": [],
   "source": []
  }
 ],
 "metadata": {
  "kernelspec": {
   "display_name": "Python 3 (ipykernel)",
   "language": "python",
   "name": "python3"
  },
  "language_info": {
   "codemirror_mode": {
    "name": "ipython",
    "version": 3
   },
   "file_extension": ".py",
   "mimetype": "text/x-python",
   "name": "python",
   "nbconvert_exporter": "python",
   "pygments_lexer": "ipython3",
   "version": "3.11.7"
  }
 },
 "nbformat": 4,
 "nbformat_minor": 5
}
