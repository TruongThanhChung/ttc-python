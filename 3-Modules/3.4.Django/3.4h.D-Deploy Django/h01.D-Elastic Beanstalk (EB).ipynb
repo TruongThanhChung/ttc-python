{
 "cells": [
  {
   "cell_type": "markdown",
   "id": "9ab7bc64-ddda-4009-98cd-c7a32eda15ac",
   "metadata": {},
   "source": [
    "Deploy to the World\r\n",
    "To deploy a project means to make it visible for other people on the internet.\n",
    "\r\n",
    "So far, in this tutorial, we have made a Django project that runs locally on your computer. This is often called, \"in development\", and when we have deployed it, we call it \"in productionTriển khai ra thế giới\r\n",
    "Triển khai một dự án có nghĩa là làm cho nó hiển thị với những người khác trên internet\r\n",
    "\r\n",
    "Cho đến nay, trong hướng dẫn này, chúng ta đã tạo một dự án Django chạy cục bộ trên máy tính của bạn. Điều này thường được gọi là \"đang phát triển\" và khi chúng tôi đã triển khai nó, chúng tôi gọi nó là \"đang sản xuấ\".\".\r\n",
    "\r\n"
   ]
  },
  {
   "cell_type": "markdown",
   "id": "36436a87-a562-44ab-a0f7-0c18a29b454d",
   "metadata": {},
   "source": [
    "Where to Deploy?\r\n",
    "There are many providers out there that offers servers for Django projects. In this tutorial we will use the Amazon Web Services (AWS) platform, mainly because they offer a free solution that only requires you to create an AWS account\n",
    "Triển khai ở đâu?\r\n",
    "Có rất nhiều nhà cung cấp cung cấp máy chủ cho các dự án Django. Trong hướng dẫn này, chúng tôi sẽ sử dụng nền tảng Amazon Web Services (AWS), chủ yếu là vì họ cung cấp giải pháp miễn phí chỉ yêu cầu bạn tạo tài khoản AWS.."
   ]
  },
  {
   "cell_type": "markdown",
   "id": "ad6e4a60-3b5b-4dae-a9bc-66b495af0863",
   "metadata": {},
   "source": [
    "Note: you can choose whatever server provider you like, they will all give you the same result, but they will have some provider-specific settings that you should be aware of when following this tutorial.\n",
    "Lưu ý: bạn có thể chọn bất kỳ nhà cung cấp máy chủ nào bạn thích, tất cả họ đều sẽ cho bạn kết quả như nhau, nhưng họ sẽ có một số cài đặt dành riêng cho nhà cung cấp mà bạn nên biết khi làm theo hướng dẫn này."
   ]
  },
  {
   "cell_type": "markdown",
   "id": "8d76dcea-8f02-4dc6-85e5-a767c1422505",
   "metadata": {},
   "source": [
    "AWS\n",
    "Log into your AWS account. (If you do not have an AWS account, follow the steps in the Create AWS Account chapter.)\n",
    "AWS\r\n",
    "Đăng nhập vào tài khoản AWS của bạn. (Nếu bạn chưa có tài khoản AWS, hãy làm theo các bước trong chương Tạo tài khoản AWS .)"
   ]
  },
  {
   "cell_type": "markdown",
   "id": "d6b5d414-b105-4b48-9c3a-e2a971806b4c",
   "metadata": {},
   "source": [
    "AWS Console\n",
    "Once you have signed in, you should be directed to the AWS Console Home page:\n",
    "Bảng điều khiển AWS\r\n",
    "Sau khi đăng nhập, bạn sẽ được chuyển hướng đến Trang chủ Bảng điều khiển AWS:"
   ]
  },
  {
   "cell_type": "markdown",
   "id": "9ed9325f-dd84-449f-ba5a-498b3ee21298",
   "metadata": {},
   "source": [
    "Elastic Beanstalk\n",
    "We will be using a service called \"Elastic Beanstalk\" to deploy the Django project.\n",
    "In the search field at the top, search for \"elastic beanstalk\", and click to start the service:\n",
    "Cây đậu đàn hồi\r\n",
    "Chúng tôi sẽ sử dụng dịch vụ có tên \"Elastic Beanstalk\" để triển khai dự án Django\r\n",
    "\r\n",
    "Trong trường tìm kiếm ở trên cùng, tìm kiếm \"cây đậu đàn hồi\" và nhấp để bắt đầu dịch vụ:"
   ]
  },
  {
   "cell_type": "markdown",
   "id": "817c7c17-26cc-44b0-acf8-2dc83010fdea",
   "metadata": {},
   "source": [
    "Lock in Dependencies\r\n",
    "Once you have started the \"Elastic Beanstalk\" service, we could start with the deployment, but first we need to lock in some dependencies, which means to make you local Django project ready for deployment\r\n",
    "\r\n",
    "You will learn how to in the next chapte\n",
    "Khóa phụ thuộc\r\n",
    "Sau khi bạn đã bắt đầu dịch vụ \"Elastic Beanstalk\", chúng ta có thể bắt đầu triển khai nhưng trước tiên, chúng ta cần khóa một số phần phụ thuộc, điều này có nghĩa là làm cho dự án Django cục bộ của bạn sẵn sàng để triển khai\r\n",
    "\r\n",
    "Bạn sẽ học cách thực hiện trong các chương tiếp theo.rs."
   ]
  }
 ],
 "metadata": {
  "kernelspec": {
   "display_name": "Python 3 (ipykernel)",
   "language": "python",
   "name": "python3"
  },
  "language_info": {
   "codemirror_mode": {
    "name": "ipython",
    "version": 3
   },
   "file_extension": ".py",
   "mimetype": "text/x-python",
   "name": "python",
   "nbconvert_exporter": "python",
   "pygments_lexer": "ipython3",
   "version": "3.11.7"
  }
 },
 "nbformat": 4,
 "nbformat_minor": 5
}
