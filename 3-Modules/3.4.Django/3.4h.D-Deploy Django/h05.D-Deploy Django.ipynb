{
 "cells": [
  {
   "cell_type": "markdown",
   "id": "673c5c07-2354-448d-abea-637d5f6af460",
   "metadata": {},
   "source": [
    "Elastic Beanstalk\r\n",
    "In AWS, navigate to the Elastic Beanstalk application, as we did in the Choose Provider chapter, and click the \"Create application\" button\n",
    "Cây đậu đàn hồi\r\n",
    "Trong AWS, điều hướng đến ứng dụng Elastic Beanstalk, như chúng ta đã làm trong chương Chọn nhà cung cấp và nhấp vào nút \"Tạo ứng dụng\"::"
   ]
  },
  {
   "cell_type": "markdown",
   "id": "df1d3ebc-c134-4eb0-a275-047701802d2b",
   "metadata": {},
   "source": [
    "Create EB Application\r\n",
    "Once you have clicked the \"Create Application\" button, you will be taken to this page, where you can give your Django project a name. I will name it \"my-first-django\"\n",
    "Tạo ứng dụng EB\r\n",
    "Khi bạn đã nhấp vào nút \"Tạo ứng dụng\", bạn sẽ được đưa đến trang này, nơi bạn có thể đặt tên cho dự án Django của mình. Tôi sẽ đặt tên nó là \"django đầu tiên của tôi\"::"
   ]
  },
  {
   "cell_type": "markdown",
   "id": "1c773be4-5fea-4ab6-a6e8-aea8f835a4ef",
   "metadata": {},
   "source": [
    "Choose Platform\r\n",
    "Then scroll down until you see the \"Platform\" section, and choose \"Python\", with the recommended version\n",
    "Chọn nền tảng\r\n",
    "Sau đó cuộn xuống cho đến khi bạn thấy phần \"Nền tảng\" và chọn \"Python\", với phiên bản được đề xuất::"
   ]
  },
  {
   "cell_type": "markdown",
   "id": "325b9056-ae5c-494d-b4ea-36c5f9412039",
   "metadata": {},
   "source": [
    "Upload .zip File\r\n",
    "Next, scroll down to the next section, the \"Application code\" section, and choose \"Upload your code\"\r\n",
    "\r\n",
    "Click on the \"Choose file\" button, navigate to the .zip file you created in the previous chapter and upload \n",
    "Tải lên tệp .zip\r\n",
    "Tiếp theo, cuộn xuống phần tiếp theo, phần \"Mã ứng dụng\" và chọn \"Tải mã của bạn lên\"\r\n",
    "\r\n",
    "Nhấp vào nút \"Chọn tệp\", điều hướng đến tệp .zip bạn đã tạo ở chương trước và tải nó lên:it:"
   ]
  },
  {
   "cell_type": "markdown",
   "id": "0f5967c5-5530-487c-98de-29af998cd9c4",
   "metadata": {},
   "source": [
    "The .zip file is uploaded, and we are ready to deploy!\n",
    "Tệp .zip đã được tải lên và chúng tôi đã sẵn sàng triển khai!"
   ]
  },
  {
   "cell_type": "markdown",
   "id": "1d48fd1f-e9fb-42c6-b382-079971a093ca",
   "metadata": {},
   "source": [
    "Deploy\n",
    "Click the \"Create application\" button to start deploying.\n",
    "Triển khai\r\n",
    "Nhấp vào nút \"Tạo ứng dụng\" để bắt đầu triển khai."
   ]
  },
  {
   "cell_type": "markdown",
   "id": "9a020c26-8aa8-4166-9531-7d54cde8f199",
   "metadata": {},
   "source": [
    "Waiting\r\n",
    "The deployment will take a few minutes\n",
    "Chờ\r\n",
    "Việc triển khai sẽ mất một vài phút.."
   ]
  },
  {
   "cell_type": "markdown",
   "id": "4952ada3-371b-4411-a1a5-cbc6f93aded2",
   "metadata": {},
   "source": [
    "Success!\r\n",
    "Finally the project is live, and you can view it by clicking the link below the Myfirstdjango-env header, or type the host address in your browser\n",
    "Thành công!\r\n",
    "Cuối cùng, dự án đã hoạt động và bạn có thể xem nó bằng cách nhấp vào liên kết bên dưới tiêu đề Myfirstdjango-env hoặc nhập địa chỉ máy chủ trong trình duyệt của bạn::"
   ]
  },
  {
   "cell_type": "code",
   "execution_count": null,
   "id": "4a4613e2-c375-4c8d-b451-0fb96cc2e715",
   "metadata": {},
   "outputs": [],
   "source": []
  }
 ],
 "metadata": {
  "kernelspec": {
   "display_name": "Python 3 (ipykernel)",
   "language": "python",
   "name": "python3"
  },
  "language_info": {
   "codemirror_mode": {
    "name": "ipython",
    "version": 3
   },
   "file_extension": ".py",
   "mimetype": "text/x-python",
   "name": "python",
   "nbconvert_exporter": "python",
   "pygments_lexer": "ipython3",
   "version": "3.11.7"
  }
 },
 "nbformat": 4,
 "nbformat_minor": 5
}
