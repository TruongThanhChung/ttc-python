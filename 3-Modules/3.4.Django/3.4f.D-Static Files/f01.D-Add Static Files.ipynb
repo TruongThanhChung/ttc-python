{
 "cells": [
  {
   "cell_type": "markdown",
   "id": "1c74a776-058d-48c4-9d8a-ef74619bf680",
   "metadata": {},
   "source": [
    "Create Static Folder\r\n",
    "When building web applications, you probably want to add some static files like images or css files\r\n",
    "\r\n",
    "Start by creating a folder named static in your project, the same place where you created the templates foldr:\r\n",
    "\r\n",
    "The name of the folder has to be st\n",
    "Tạo thư mục tĩnh\r\n",
    "Khi xây dựng ứng dụng web, bạn có thể muốn thêm một số tệp tĩnh như hình ảnh hoặc tệp css\r\n",
    "\r\n",
    "Bắt đầu bằng cách tạo một thư mục có tên statictrong dự án của bạn, cùng nơi bạn đã tạo tmục hư templamc:\r\n",
    "\r\n",
    "Tên của thư mục phải là static.atic."
   ]
  },
  {
   "cell_type": "markdown",
   "id": "5f6c6c0d-eca9-4354-954a-eb9870bacd13",
   "metadata": {},
   "source": [
    "my_tennis_club\r\n",
    "    manage.py\r\n",
    "    my_tennis_club/\r\n",
    "    members/\r\n",
    "        templates/\r\n",
    "        static/"
   ]
  },
  {
   "cell_type": "markdown",
   "id": "c05278e7-755c-4a3a-b86e-4a4439505521",
   "metadata": {},
   "source": [
    "Add a CSS file in the static folder, the name is your choice, we will call it myfirst.css in this example:\n",
    "Thêm một tệp CSS vào staticthư mục, tên là do bạn chọn, chúng tôi sẽ gọi nó myfirst.css trong ví dụ này:"
   ]
  },
  {
   "cell_type": "markdown",
   "id": "f630d531-d618-4d3c-b4a8-4df83f3a844c",
   "metadata": {},
   "source": [
    "my_tennis_club\r\n",
    "    manage.py\r\n",
    "    my_tennis_club/\r\n",
    "    members/\r\n",
    "        templates/\r\n",
    "        static/\r\n",
    "            myfirst.css"
   ]
  },
  {
   "cell_type": "markdown",
   "id": "7b4e887c-6e4b-463f-8282-62f170e5c592",
   "metadata": {},
   "source": [
    "Open the CSS file and insert the following:\n",
    "Mở tệp CSS và chèn đoạn sau:"
   ]
  },
  {
   "cell_type": "markdown",
   "id": "4c8fc9f8-26b2-421f-88da-c367c1cbbc13",
   "metadata": {},
   "source": [
    "my_tennis_club/members/static/myfirst.css:\r\n",
    "\r\n",
    "body {\r\n",
    "  background-color: lightblue;\r\n",
    "  font-family: verdana;\r\n",
    "}"
   ]
  },
  {
   "cell_type": "markdown",
   "id": "304987cf-beed-4121-b0d9-cc61354dcb3c",
   "metadata": {},
   "source": [
    "Modify the Template\r\n",
    "Now you have a CSS file, with some CSS styling. The next step will be to include this file in a HTML template\r\n",
    "\r\n",
    "Open the HTML file and add the followi\n",
    "Sửa đổi mẫu\r\n",
    "Bây giờ bạn có một tệp CSS, với một số kiểu CSS. Bước tiếp theo sẽ là đưa tệp này vào mẫu HTML\r\n",
    "\r\n",
    "Mở tệp HTML và thêm thông tin sau:ng:"
   ]
  },
  {
   "cell_type": "markdown",
   "id": "c9fb5ec4-77b9-40ea-a840-e70a5d187209",
   "metadata": {},
   "source": [
    "{% load static %}"
   ]
  },
  {
   "cell_type": "markdown",
   "id": "ed8ee4f1-1476-4047-8d0d-3ffd410606df",
   "metadata": {},
   "source": [
    "And:"
   ]
  },
  {
   "cell_type": "markdown",
   "id": "bd372810-2a20-46a9-a455-65a3174cceff",
   "metadata": {},
   "source": [
    "<link rel=\"stylesheet\" href=\"{% static 'myfirst.css' %}\">"
   ]
  },
  {
   "cell_type": "markdown",
   "id": "7fe67c84-6103-4972-ba8d-13b9447fa5b4",
   "metadata": {},
   "source": [
    "ExampleGet your own Django Server\r\n",
    "my_tennis_club/members/templates/template.html:\r\n",
    "\r\n",
    "{% load static %}\r\n",
    "<!DOCTYPE html>\r\n",
    "<html>\r\n",
    "<link rel=\"stylesheet\" href=\"{% static 'myfirst.css' %}\">\r\n",
    "<body>\r\n",
    "\r\n",
    "{% for x in fruits %}\r\n",
    "  <h1>{{ x }}</h1>\r\n",
    "{% endfor %}\r\n",
    "\r\n",
    "</body>\r\n",
    "</html>"
   ]
  },
  {
   "cell_type": "markdown",
   "id": "e463c724-1f06-4178-9f73-008eeb482192",
   "metadata": {},
   "source": [
    "Restart the server for the changes to take effect:\n",
    "Khởi động lại máy chủ để những thay đổi có hiệu lực:\n",
    "py manage.py runserver"
   ]
  },
  {
   "cell_type": "code",
   "execution_count": null,
   "id": "3d257dcb-7819-477f-9ca7-0ddbd76d727a",
   "metadata": {},
   "outputs": [],
   "source": [
    "And check out the result in your own browser: 127.0.0.1:8000/testing/.\n",
    "Và kiểm tra kết quả trong trình duyệt của riêng bạn: 127.0.0.1:8000/testing/."
   ]
  },
  {
   "cell_type": "markdown",
   "id": "4b09d77c-b673-4d06-99c8-0acafe57c43e",
   "metadata": {},
   "source": [
    "Didn't Work?\r\n",
    "Just testing? If you just want to play around, and not going to deploy your work, you can set DEBUG = True in the settings.py file, and the example above will work\r\n",
    "\r\n",
    "Plan to deploy? If you plan to deploy your work, you should set DEBUG = False in the settings.py file. The example above will fail, because Django has no built-in solution for serving static files, but there are other ways to serve static files, you will learn how in the next chapt\n",
    "Không hoạt động?\r\n",
    "Chỉ cần thử nghiệm? Nếu bạn chỉ muốn chơi đùa và không triển khai công việc của mình, bạn có thể đặt DEBUG = Truetrong settings.pytệp và ví dụ trên sẽ hoạt động\r\n",
    "\r\n",
    "Kế hoạch triển khai? Nếu bạn dự định triển khai công việc của mình thì nên thiết lập DEBUG = Falsetrong settings.pyfile. Ví dụ trên sẽ thất bại vì Django không có giải pháp tích hợp sẵn để phân phát tệp tĩnh, nhưng có nhiều cách khác để phân phát tệp tĩnh, bạn sẽ tìm hiểu cách thực hiện trong chương tiếp theo.er."
   ]
  },
  {
   "cell_type": "markdown",
   "id": "5b9ac78a-bc65-41f6-b724-f80b6174df6d",
   "metadata": {},
   "source": [
    "Example (in development):\r\n",
    "my_tennis_club/my_tennis_club/settings.py:\r\n",
    "\r\n",
    ".\r\n",
    ".\r\n",
    "# SECURITY WARNING: don't run with debug turned on in production!\r\n",
    "DEBUG = True\r\n",
    ".\r\n",
    "."
   ]
  },
  {
   "cell_type": "markdown",
   "id": "e35eedb9-6228-480f-999e-8c7f91aed1ea",
   "metadata": {},
   "source": [
    "This will make the example work, but we want you to choose DEBUG = False, because that is the best way to learn how to work with Django.\n",
    "Điều này sẽ làm cho ví dụ hoạt động nhưng chúng tôi muốn bạn chọn DEBUG = False, vì đó là cách tốt nhất để học cách làm việc với Django."
   ]
  },
  {
   "cell_type": "markdown",
   "id": "1ec8b666-0fe0-417d-9901-162f32bdfb24",
   "metadata": {},
   "source": [
    "Choose Debug = False\r\n",
    "For the rest of this tutorial, we will run with DEBUG = False, even in development, because that is the best way to learn how to work with Django\n",
    "Chọn Gỡ lỗi = Sai\r\n",
    "Trong phần còn lại của hướng dẫn này, chúng ta sẽ sử dụng DEBUG = False, ngay cả trong quá trình phát triển, vì đó là cách tốt nhất để học cách làm việc với Django.."
   ]
  },
  {
   "cell_type": "markdown",
   "id": "6e221476-2ed2-41e5-b2a9-798a9ec97091",
   "metadata": {},
   "source": [
    "my_tennis_club/my_tennis_club/settings.py:\n",
    "\n",
    ".\n",
    ".\n",
    "# SECURITY WARNING: don't run with debug turned on in production!\n",
    "DEBUG = False\n",
    "\n",
    "ALLOWED_HOSTS = ['*']\n",
    "\n",
    ".\n",
    "."
   ]
  },
  {
   "cell_type": "markdown",
   "id": "e3dfd57a-54ab-45d1-b656-ba5bef00abbb",
   "metadata": {},
   "source": [
    "ALLOWED_HOSTS\r\n",
    "When using DEBUG = False you have to specify which host name(s) are allowed to host your work. You could choose '127.0.0.1' or 'localhost' which both represents the address of your local machine\r\n",
    "\r\n",
    "We choose '*', which means any address are allowed to host this site. This should be change into a real domain name when you deploy your project to a public serv\n",
    "ALLOWED_HOSTS\r\n",
    "Khi sử dụng, DEBUG = Falsebạn phải chỉ định (các) tên máy chủ nào được phép lưu trữ tác phẩm của bạn. Bạn có thể chọn '127.0.0.1'hoặc 'localhost' cả hai đều đại diện cho địa chỉ của máy cục bộ của bạn\r\n",
    "\r\n",
    "Chúng tôi chọn '*', có nghĩa là bất kỳ địa chỉ nào cũng được phép lưu trữ trang web này. Tên này sẽ được đổi thành tên miền thực khi bạn triển khai dự án của mình lên máy chủ công cộng.er."
   ]
  },
  {
   "cell_type": "markdown",
   "id": "2d8f6065-7008-4d54-beef-59c06d338aa2",
   "metadata": {},
   "source": [
    "Didn't Work?\n",
    "That is right, the example still does not work.\n",
    "You will have install a third-party library in order to handle static files.\n",
    "There are many alternatives, we will show you how to use a Python library called WhiteNoise in the next chapter.\n",
    "Không hoạt động?\r\n",
    "Đúng vậy, ví dụ vẫn không hoạt động\r\n",
    "\r\n",
    "Bạn sẽ phải cài đặt thư viện của bên thứ ba để xử lý các tệp tĩh.\r\n",
    "\r\n",
    "Có nhiều lựa chọn thay thế, chúng tôi sẽ hướng dẫn bạn cách sử dụng thư viện Python có tên WhiteNoise trong chương tiếp theo ."
   ]
  }
 ],
 "metadata": {
  "kernelspec": {
   "display_name": "Python 3 (ipykernel)",
   "language": "python",
   "name": "python3"
  },
  "language_info": {
   "codemirror_mode": {
    "name": "ipython",
    "version": 3
   },
   "file_extension": ".py",
   "mimetype": "text/x-python",
   "name": "python",
   "nbconvert_exporter": "python",
   "pygments_lexer": "ipython3",
   "version": "3.11.7"
  }
 },
 "nbformat": 4,
 "nbformat_minor": 5
}
