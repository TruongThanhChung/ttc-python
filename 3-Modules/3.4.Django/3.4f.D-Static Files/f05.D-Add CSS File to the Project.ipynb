{
 "cells": [
  {
   "cell_type": "markdown",
   "id": "2986615f-f893-4ed4-b836-e0375bf48f5b",
   "metadata": {},
   "source": [
    "The Project - My Tennis Club\r\n",
    "If you have followed the steps in the entire Django tutorial, you will have a my_tennis_club project on your computer, with 5 members\n",
    "Dự án - Câu lạc bộ quần vợt của tôi\r\n",
    "Nếu bạn đã làm theo các bước trong toàn bộ hướng dẫn Django, bạn sẽ có một my_tennis_club dự án trên máy tính của mình, với 5 thành viên::"
   ]
  },
  {
   "cell_type": "markdown",
   "id": "d7ae3184-4eda-4d3e-88bf-f42b4613997d",
   "metadata": {},
   "source": [
    "We want to add a stylesheet to this project, and put it in the mystaticfiles folder:\r",
    "Chúng tôi muốn thêm biểu định kiểu cho dự án này và đặt nó vào thư mục mystaticfiles:\n",
    "\n",
    "\r\n",
    "my_tennis_club\r\n",
    "    manage.py\r\n",
    "    my_tennis_club/\r\n",
    "    members/\r\n",
    "    mystaticfiles/\r\n",
    "        mystyles.css"
   ]
  },
  {
   "cell_type": "markdown",
   "id": "5bb72dcf-c4ad-42d9-ba85-5c1635195a26",
   "metadata": {},
   "source": [
    "The name of the CSS file is your choice, we call it mystyles.css in this project.\r",
    "\r\n",
    "Open the CSS file and insert the followingTên của tệp CSS là do bạn chọn, chúng tôi gọi nó mystyles.csstrong dự án này.\r",
    "\r\n",
    "Mở tệp CSS và chèn đoạn sau:\n",
    ":\r\n",
    "\r\n",
    "my_tennis_club/mystaticfiles/mystyles.css:\r\n",
    "\r\n",
    "body {\r\n",
    "  background-color: violet;\r\n",
    "}"
   ]
  },
  {
   "cell_type": "code",
   "execution_count": null,
   "id": "8c32d918-67b0-4be2-9179-ce1d39cb21e0",
   "metadata": {},
   "outputs": [],
   "source": [
    "Modify the Master Template\n",
    "Now you have a css file, the next step will be to include this file in the master template:\n",
    "Open the master template file and add the following:\n",
    "Sửa đổi mẫu chính\n",
    "Bây giờ bạn đã có tệp css, bước tiếp theo sẽ là đưa tệp này vào mẫu chính:\n",
    "Mở tệp mẫu chính và thêm thông tin sau:\n",
    "\n",
    "my_tennis_club/members/templates/master.html:\n",
    "\n",
    "{% load static %}\n",
    "<!DOCTYPE html>\n",
    "<html>\n",
    "<head>\n",
    "  <title>{% block title %}{% endblock %}</title>\n",
    "  <link rel=\"stylesheet\" href=\"{% static 'mystyles.css' %}\">  \n",
    "</head>\n",
    "<body>\n",
    "\n",
    "{% block content %}\n",
    "{% endblock %}\n",
    "\n",
    "</body>\n",
    "</html>"
   ]
  },
  {
   "cell_type": "markdown",
   "id": "16940570-6756-4851-a246-6eec35619a50",
   "metadata": {},
   "source": [
    "Check Settings\r\n",
    "Make sure your settings.py file contains a STATICFILES_DIRS list with a reference to the mystaticfiles folder on the root directory, and that you have specified a STATICFILES_ROOT folder\n",
    "Kiểm tra cài đặt\r\n",
    "Đảm bảo settings.pytệp của bạn chứa STATICFILES_DIRSdanh sách có tham chiếu đến mystaticfilesthư mục trên thư mục gốc và bạn đã chỉ định thư STATICFILES_ROO Tmục\n",
    "\n",
    "my_tennis_club/my_tennis_club/settings.py:\r\n",
    "\r\n",
    ".\r\n",
    ".\r\n",
    "STATIC_ROOT = BASE_DIR / 'productionfiles'\r\n",
    "\r\n",
    "STATIC_URL = 'static/'\r\n",
    "\r\n",
    "#Add this in your settings.py file:\r\n",
    "STATICFILES_DIRS = [\r\n",
    "    BASE_DIR / 'mystaticfiles'\r\n",
    "]\r\n",
    ".\r\n",
    ".::"
   ]
  },
  {
   "cell_type": "markdown",
   "id": "383b7bb6-550e-4b5e-b38f-7a1fea5d0c52",
   "metadata": {},
   "source": [
    "Collect Static Files\r\n",
    "Every time you make a change in a static file, you must run the collectstatic command to make the changes take effect:Thu thập tệp tĩnh\r\n",
    "Mỗi khi bạn thực hiện thay đổi trong tệp tĩnh, bạn phải chạy lệnh collectstatic để thay đổi có hiệu lực\n",
    ":\r\n",
    "\r\n",
    "py manage.py collectstatic"
   ]
  },
  {
   "cell_type": "markdown",
   "id": "730c6f78-1227-450e-89f6-1f65fdc9fbff",
   "metadata": {},
   "source": [
    "If you have executed the command earlier in the project, Django will prompt you with a question:\n",
    "Nếu bạn đã thực thi lệnh trước đó trong dự án, Django sẽ nhắc bạn bằng một câu hỏi:\n",
    "\n",
    "You have requested to collect static files at the destination location as specified in your settings:\n",
    "    C:\\Users\\Your Name\\myworld\\my_tennis_club\\productionfiles\n",
    "This will overwrite existing files!\n",
    "Are you sure you want to do this?\n",
    "Type 'yes' to continue, or 'no' to cancel:"
   ]
  },
  {
   "cell_type": "markdown",
   "id": "df9c3e63-4e1e-4761-81d2-31e1e671efe2",
   "metadata": {},
   "source": [
    "Type 'yes'. This will update any changes done in the static files, and give you this result:\n",
    "Nhập 'có'. Điều này sẽ cập nhật mọi thay đổi được thực hiện trong các tệp tĩnh và cho bạn kết quả sau:"
   ]
  },
  {
   "cell_type": "code",
   "execution_count": null,
   "id": "f6d38be8-cc54-4b64-b165-0f795b43120a",
   "metadata": {},
   "outputs": [],
   "source": [
    "1 static file copied to 'C:\\Users\\Your Name\\minverden\\my_tennis_club\\productionfiles', 132 unmodified."
   ]
  },
  {
   "cell_type": "markdown",
   "id": "c1fbb606-4ac7-4105-99e5-990aaed17ea3",
   "metadata": {},
   "source": [
    "Now, if you run the project:\n",
    "Bây giờ, nếu bạn chạy dự án:\n",
    "\n",
    "py manage.py runserver"
   ]
  },
  {
   "cell_type": "markdown",
   "id": "9bd0a275-237b-43c3-8a64-93960a15c43e",
   "metadata": {},
   "source": [
    "It will look like this:\n",
    "Nó sẽ trông giống thế này:"
   ]
  },
  {
   "cell_type": "markdown",
   "id": "2a298add-149c-4d52-b387-07d55b527c9b",
   "metadata": {},
   "source": [
    "If you have followed all the steps on you own computer, you can see the result in your own browser:\n",
    "\r\n",
    "In the browser window, type 127.0.0.1:8000/members/ in the address ba\n",
    "Nếu bạn đã làm theo tất cả các bước trên máy tính của mình, bạn có thể xem kết quả trong trình duyệt của riêng mình:\n",
    "\r\n",
    "Trong cửa sổ trình duyệt, gõ 127.0.0.1:8000/members/vào thanh địa chỉ.r."
   ]
  },
  {
   "cell_type": "markdown",
   "id": "15b09cb1-fdc1-497c-b41f-813766f0f950",
   "metadata": {},
   "source": [
    "Spice up the Style!\r\n",
    "In the example above we showed you how to include a stylesheet to your project\r\n",
    "\r\n",
    "We ended up with a purple web page, but CSS can do more than just change the background colr.\r\n",
    "\r\n",
    "We want to do more with the styles, and end up with a result like \n",
    "Tăng cường phong cách!\r\n",
    "Trong ví dụ trên, chúng tôi đã chỉ cho bạn cách đưa biểu định kiểu vào dự án của bạn\r\n",
    "\r\n",
    "Chúng tôi đã có một trang web màu tím, nhưng CSS có thể làm được nhiều việc hơn là chỉ thay đổi màu nn.\r\n",
    "\r\n",
    "Chúng tôi muốn làm nhiều hơn với các kiểu và kết thúc bằng kết quả như thế này:this:"
   ]
  },
  {
   "cell_type": "markdown",
   "id": "20755bb0-23d3-4015-a89f-02c8744740a3",
   "metadata": {},
   "source": [
    "First, replace the content of the mystyles.css file with this:\n",
    "Đầu tiên, thay thế nội dung của mystyles.csstệp bằng tệp này:\n",
    "\n",
    "my_tennis_club/mystaticfiles/mystyles.css:\n",
    "\n",
    "@import url('https://fonts.googleapis.com/css2?family=Source+Sans+Pro:wght@400;600&display=swap');\n",
    "body {\n",
    "  margin:0;\n",
    "  font: 600 18px 'Source Sans Pro', sans-serif;\n",
    "  letter-spacing: 0.64px;\n",
    "  color: #585d74;\n",
    "}\n",
    ".topnav {\n",
    "  background-color:#375BDC;\n",
    "  color:#ffffff;\n",
    "  padding:10px;\n",
    "}\n",
    ".topnav a:link, .topnav a:visited {\n",
    "  text-decoration: none;\n",
    "  color: #ffffff; \n",
    "}\n",
    ".topnav a:hover, .topnav a:active {\n",
    "  text-decoration: underline;\n",
    "}\n",
    ".mycard {\n",
    "  background-color: #f1f1f1;\n",
    "  background-image: linear-gradient(to bottom, #375BDC, #4D70EF); \n",
    "  background-size: 100% 120px;\n",
    "  background-repeat: no-repeat;\n",
    "  margin: 40px auto;\n",
    "  width: 350px;\n",
    "  border-radius: 5px;\n",
    "  box-shadow: 0 5px 7px -1px rgba(51, 51, 51, 0.23); \n",
    "  padding: 20px;\n",
    "}\n",
    ".mycard h1 {\n",
    "  text-align: center;\n",
    "  color:#ffffff;\n",
    "  margin:20px 0 60px 0;\n",
    "}\n",
    "ul {\n",
    "  list-style-type: none;\n",
    "  padding: 0;\n",
    "  margin: 0;\n",
    "}\n",
    "li {\n",
    "  background-color: #ffffff;\n",
    "  background-image: linear-gradient(to right, #375BDC, #4D70EF); \n",
    "  background-size: 50px 60px;\n",
    "  background-repeat: no-repeat;\n",
    "  cursor: pointer;\n",
    "  transition: transform .25s;\n",
    "  border-radius: 5px;\n",
    "  box-shadow: 0 5px 7px -1px rgba(51, 51, 51, 0.23);\n",
    "  padding: 15px;\n",
    "  padding-left: 70px;\n",
    "  margin-top: 5px;\n",
    "}\n",
    "li:hover {\n",
    "  transform: scale(1.1);\n",
    "}\n",
    "a:link, a:visited {\n",
    "  color: #375BDC; \n",
    "}\n",
    ".main, .main h1 {\n",
    "  text-align:center;\n",
    "  color:#375BDC;\n",
    "}"
   ]
  },
  {
   "cell_type": "markdown",
   "id": "6287998f-f358-4ed7-a4d4-a4a8e4b098d7",
   "metadata": {},
   "source": [
    "Modify Templates\r\n",
    "You also have to make some changes to the templates\n",
    "Sửa đổi mẫu\r\n",
    "Bạn cũng phải thực hiện một số thay đổi đối với các mẫu::"
   ]
  },
  {
   "cell_type": "code",
   "execution_count": null,
   "id": "4f826a1f-d6bb-461b-ac50-90fe737a72f4",
   "metadata": {},
   "outputs": [],
   "source": [
    "Master\n",
    "We want all pages to have the same top navigation, therefor we insert the top navigation into master.html:\n",
    "Bậc thầy\n",
    "Chúng tôi muốn tất cả các trang có cùng điều hướng trên cùng, do đó chúng tôi chèn điều hướng trên cùng vào master.html:\n",
    "\n",
    "my_tennis_club/members/templates/master.html:\n",
    "\n",
    "{% load static %}\n",
    "<!DOCTYPE html>\n",
    "<html>\n",
    "<head>\n",
    "  <link rel=\"stylesheet\" href=\"{% static 'mystyles.css' %}\">\n",
    "  <title>{% block title %}{% endblock %}</title>\n",
    "</head>\n",
    "<body>\n",
    "\n",
    "<div class=\"topnav\">\n",
    "  <a href=\"/\">HOME</a> |\n",
    "  <a href=\"/members\">MEMBERS</a>\n",
    "</div>\n",
    "\n",
    "{% block content %}\n",
    "{% endblock %}\n",
    "\n",
    "</body>\n",
    "</html>"
   ]
  },
  {
   "cell_type": "code",
   "execution_count": null,
   "id": "1135855c-428f-4d53-bc31-52048b2366d1",
   "metadata": {},
   "outputs": [],
   "source": [
    "Members\n",
    "In all_members.html we want to make som changes in the HTML code.\n",
    "The members are put in a div element, and the links become list items with onclick attributes.\n",
    "We also want to remove the navigation, because that is now a part of the master template.\n",
    "Các thành viên\n",
    "Chúng all_members.htmltôi muốn thực hiện một số thay đổi trong mã HTML.\n",
    "Các thành viên được đặt trong phần tử div và các liên kết trở thành mục danh sách có thuộc tính onclick.\n",
    "Chúng tôi cũng muốn xóa điều hướng vì giờ đây nó là một phần của mẫu chính.\n",
    "\n",
    "my_tennis_club/members/templates/all_members.html:\n",
    "\n",
    "{% extends \"master.html\" %}\n",
    "\n",
    "{% block title %}\n",
    "  My Tennis Club - List of all members\n",
    "{% endblock %}\n",
    "\n",
    "\n",
    "{% block content %}\n",
    "  <div class=\"mycard\">\n",
    "    <h1>Members</h1>\n",
    "    <ul>\n",
    "      {% for x in mymembers %}\n",
    "        <li onclick=\"window.location = 'details/{{ x.id }}'\">{{ x.firstname }} {{ x.lastname }}</li>\n",
    "      {% endfor %}\n",
    "    </ul>\n",
    "  </div>\n",
    "{% endblock %}"
   ]
  },
  {
   "cell_type": "markdown",
   "id": "5ec38c4c-ea8a-4bcf-84df-abcbb55d2070",
   "metadata": {},
   "source": [
    "Details\n",
    "In details.html we will put the member details in a div element, and remove the link back to members, because that is now a part of the navigation in the master template.\n",
    "Chi tiết\n",
    "Trong phần này, details.htmlchúng tôi sẽ đưa thông tin chi tiết về thành viên vào phần tử div và xóa liên kết quay lại thành viên vì đó hiện là một phần của điều hướng trong mẫu chính.\n",
    "\n",
    "my_tennis_club/members/templates/details.html:\n",
    "\n",
    "{% extends \"master.html\" %}\n",
    "\n",
    "{% block title %}\n",
    "  Details about {{ mymember.firstname }} {{ mymember.lastname }}\n",
    "{% endblock %}\n",
    "\n",
    "{% block content %}\n",
    "  <div class=\"mycard\">\n",
    "    <h1>{{ mymember.firstname }} {{ mymember.lastname }}</h1>\n",
    "    <p>Phone {{ mymember.phone }}</p>\n",
    "    <p>Member since: {{ mymember.joined_date }}</p>\n",
    "  </div>\n",
    "{% endblock %}  "
   ]
  },
  {
   "cell_type": "markdown",
   "id": "949f7d11-fa4b-4aa4-b945-a9aba96b1096",
   "metadata": {},
   "source": [
    "Main\r\n",
    "In the main.html template, we will put some of the HTML code into a div element:Chủ yếu\r\n",
    "Trong main.htm lmẫu, chúng tôi sẽ đặt một số mã HTML vào phần tử div\n",
    ":\r\n",
    "\r\n",
    "my_tennis_club/members/templates/main.html:\r\n",
    "\r\n",
    "{% extends \"master.html\" %}\r\n",
    "\r\n",
    "{% block title %}\r\n",
    "  My Tennis Club\r\n",
    "{% endblock %}\r\n",
    "\r\n",
    "{% block content %}\r\n",
    "  <div class=\"main\">\r\n",
    "    <h1>My Tennis Club</h1>\r\n",
    "\r\n",
    "    <h3>Members</h3>\r\n",
    "  \r\n",
    "    <p>Check out all our <a href=\"members/\">members</a></p>\r\n",
    "  </div>\r\n",
    "{% endblock %}"
   ]
  },
  {
   "cell_type": "markdown",
   "id": "3e12811e-7ae3-48a5-b99a-17b7f5a537b6",
   "metadata": {},
   "source": [
    "Collect Static Files\r\n",
    "Since we did some changes in the static mystyles.css file, we have to run the collectstatic command to make the changes take effect:Thu thập tệp tĩnh\r\n",
    "Vì chúng tôi đã thực hiện một số thay đổi trong tệp tĩnh mystyles.cssnên chúng tôi phải chạy lệnh collectstaticđể các thay đổi có hiệu lực:\n",
    "\r\n",
    "\r\n",
    "py manage.py collectstatic"
   ]
  },
  {
   "cell_type": "markdown",
   "id": "ec3c582e-77f9-478e-a3a2-859e3b85f0c7",
   "metadata": {},
   "source": [
    "Now, if you run the project:\n",
    "Bây giờ, nếu bạn chạy dự án:\n",
    "\n",
    "py manage.py runserver"
   ]
  },
  {
   "cell_type": "markdown",
   "id": "8af50c35-91cd-4ff8-9638-8e8d366496c6",
   "metadata": {},
   "source": [
    "You can see what the result should look like:\n",
    "Bạn có thể thấy kết quả sẽ như thế nào:"
   ]
  },
  {
   "cell_type": "markdown",
   "id": "82ab2c4e-9aaf-4f23-aaf6-8266da65ddda",
   "metadata": {},
   "source": [
    "Or, if you have followed all the steps on you own computer, you can see the result in your own browser:\n",
    "\r\n",
    "In the browser window, type 127.0.0.1:8000/members/ in the address ba\n",
    "Hoặc, nếu bạn đã làm theo tất cả các bước trên máy tính của mình, bạn có thể xem kết quả trong trình duyệt của riêng mình:\n",
    "\r\n",
    "Trong cửa sổ trình duyệt, gõ 127.0.0.1:8000/members/vào thanh địa chỉ.r."
   ]
  }
 ],
 "metadata": {
  "kernelspec": {
   "display_name": "Python 3 (ipykernel)",
   "language": "python",
   "name": "python3"
  },
  "language_info": {
   "codemirror_mode": {
    "name": "ipython",
    "version": 3
   },
   "file_extension": ".py",
   "mimetype": "text/x-python",
   "name": "python",
   "nbconvert_exporter": "python",
   "pygments_lexer": "ipython3",
   "version": "3.11.7"
  }
 },
 "nbformat": 4,
 "nbformat_minor": 5
}
