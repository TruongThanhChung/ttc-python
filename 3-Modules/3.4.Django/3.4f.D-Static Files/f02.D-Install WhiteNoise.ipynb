{
 "cells": [
  {
   "cell_type": "markdown",
   "id": "9c468f62-e58a-4026-996b-341eaf98a405",
   "metadata": {},
   "source": [
    "WhiteNoise\r\n",
    "Django does not have a built-in solution for serving static files, at least not in production when DEBUG has to be False\r\n",
    "\r\n",
    "We have to use a third-party solution to accomplish ths.\r\n",
    "\r\n",
    "In this Tutorial we will use WhiteNoise, which is a Python library, built for serving static f\n",
    "Tiếng ồn trắng\r\n",
    "Django không có giải pháp tích hợp sẵn để phân phát các tệp tĩnh, ít nhất là không được sản xuất khi DEBU Gphải có False\r\n",
    "\r\n",
    "Chúng tôi phải sử dụng giải pháp của bên thứ ba để thực hiện việc ny.\r\n",
    "\r\n",
    "Trong Hướng dẫn này, chúng ta sẽ sử dụng WhiteNoise, một thư viện Python, được xây dựng để phục vụ các tệp nh.\r\n",
    "\r\n",
    "iles."
   ]
  },
  {
   "cell_type": "code",
   "execution_count": null,
   "id": "a3a0184a-7143-4517-ab5c-4e8b5326618a",
   "metadata": {},
   "outputs": [],
   "source": [
    "Install WhiteNoise\n",
    "To install WhiteNoise in your virtual environment, type the command below:\n",
    "Cài đặt WhiteNoise\n",
    "Để cài đặt WhiteNoise trong môi trường ảo của bạn, hãy nhập lệnh bên dưới:\n",
    "pip install whitenoise"
   ]
  },
  {
   "cell_type": "code",
   "execution_count": null,
   "id": "7ae2f8eb-a56a-4263-8076-64e6944b80b0",
   "metadata": {},
   "outputs": [],
   "source": [
    "The result should be something like this:\n",
    "Kết quả sẽ giống như thế này:\n",
    "Collecting whitenoise\n",
    "  Downloading whitenoise-6.2.0-py3-none-any.whl (19 kB)\n",
    "Installing collected packages: whitenoise\n",
    "Successfully installed whitenoise-6.2.0\n",
    "WARNING: You are using pip version 20.2.3; however, version 22.3.1 is available.\n",
    "You should consider upgrading via the 'c:\\users\\Your Name\\myworld\\scripts\\python.exe -m pip install --upgrade pip' command."
   ]
  },
  {
   "cell_type": "code",
   "execution_count": null,
   "id": "245f5b69-a2d5-401b-88e7-2f1acf22ecc4",
   "metadata": {},
   "outputs": [],
   "source": [
    "Modify Settings\n",
    "To make Django aware of you wanting to run WhitNoise, you have to specify it in the MIDDLEWARE list in settings.py file:\n",
    "Sửa đổi cài đặt\n",
    "Để Django biết bạn muốn chạy WhitNoise, bạn phải chỉ định nó trong MIDDLEWAREdanh sách trong settings.pytệp:"
   ]
  },
  {
   "cell_type": "markdown",
   "id": "0a274767-4356-4373-9d01-c7d5870521b9",
   "metadata": {},
   "source": [
    "my_tennis_club/my_tennis_club/settings.py:\n",
    "\n",
    ".\n",
    ".\n",
    "MIDDLEWARE = [\n",
    "    'django.middleware.security.SecurityMiddleware',\n",
    "    'django.contrib.sessions.middleware.SessionMiddleware',\n",
    "    'django.middleware.common.CommonMiddleware',\n",
    "    'django.middleware.csrf.CsrfViewMiddleware',\n",
    "    'django.contrib.auth.middleware.AuthenticationMiddleware',\n",
    "    'django.contrib.messages.middleware.MessageMiddleware',\n",
    "    'django.middleware.clickjacking.XFrameOptionsMiddleware',\n",
    "    'whitenoise.middleware.WhiteNoiseMiddleware',\n",
    "].\n",
    "."
   ]
  },
  {
   "cell_type": "markdown",
   "id": "afed7797-939a-43fd-8f6a-df4e1c1011b1",
   "metadata": {},
   "source": [
    "Collect Static Files\r\n",
    "There are one more action you have to perform before you can serve the static file from the example in the previous chapter. You have to collect all static files and put them into one specified folder. You will learn how in the next chapter\n",
    "Thu thập tệp tĩnh\r\n",
    "Còn một hành động nữa bạn phải thực hiện trước khi có thể phục vụ tệp tĩnh từ ví dụ ở chương trước . Bạn phải thu thập tất cả các tệp tĩnh và đặt chúng vào một thư mục được chỉ định. Bạn sẽ học cách thực hiện trong chương tiếp theo .."
   ]
  }
 ],
 "metadata": {
  "kernelspec": {
   "display_name": "Python 3 (ipykernel)",
   "language": "python",
   "name": "python3"
  },
  "language_info": {
   "codemirror_mode": {
    "name": "ipython",
    "version": 3
   },
   "file_extension": ".py",
   "mimetype": "text/x-python",
   "name": "python",
   "nbconvert_exporter": "python",
   "pygments_lexer": "ipython3",
   "version": "3.11.7"
  }
 },
 "nbformat": 4,
 "nbformat_minor": 5
}
