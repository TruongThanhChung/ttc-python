{
 "cells": [
  {
   "cell_type": "markdown",
   "id": "1cb64870-7b59-4baa-87a6-1c8129c9bd33",
   "metadata": {},
   "source": [
    "Handle Static Files\r\n",
    "Static files in your project, like stylesheets, JavaScripts, and images, are not handled automatically by Django when DEBUG = False\r\n",
    "\r\n",
    "When DEBUG = True, this worked fine, all we had to do was to put them in the static folder of the applicatin.\r\n",
    "\r\n",
    "When DEBUG = False, static files have to be collected and put in a specified folder before we can us\n",
    "Xử lý tập tin tĩnh\r\n",
    "Các tệp tĩnh trong dự án của bạn, như biểu định kiểu, JavaScript và hình ảnh, không được Django xử lý tự động khi DEBUG = False\r\n",
    "\r\n",
    "Khi DEBUG = True, điều này hoạt động tốt, tất cả những gì chúng tôi phải làm là đặt chúng vào staticthư mục của ứng dụg.\r\n",
    "\r\n",
    "Khi đó DEBUG = False, các tệp tĩnh phải được thu thập và đặt vào một thư mục được chỉ định trước khi chúng ta có thể sử dụng nó.e it."
   ]
  },
  {
   "cell_type": "code",
   "execution_count": null,
   "id": "eb9b9e6a-9662-41de-a8f3-631879419775",
   "metadata": {},
   "outputs": [],
   "source": [
    "Collect Static Files\n",
    "To collect all necessary static files for your project, start by specifying a STATIC_ROOT property in the settings.py file.\n",
    "This specifies a folder where you want to collect your static files.\n",
    "You can call the folder whatever you like, we will call it productionfiles:\n",
    "Thu thập tệp tĩnh\n",
    "Để thu thập tất cả các tệp tĩnh cần thiết cho dự án của bạn, hãy bắt đầu bằng cách chỉ định một STATIC_ROOTthuộc tính trong tệp settings.py.\n",
    "Điều này chỉ định một thư mục nơi bạn muốn thu thập các tệp tĩnh của mình.\n",
    "Bạn có thể gọi thư mục này là gì tùy thích, chúng tôi sẽ gọi nó là productionfiles:"
   ]
  },
  {
   "cell_type": "markdown",
   "id": "a77062a5-9cfe-4deb-a41a-1b8f3ae04d13",
   "metadata": {},
   "source": [
    "my_tennis_club/my_tennis_club/settings.py:\n",
    "\n",
    ".\n",
    ".\n",
    "\n",
    "STATIC_ROOT = BASE_DIR / 'productionfiles'\n",
    "\n",
    "STATIC_URL = 'static/'\n",
    "\n",
    ".\n",
    "."
   ]
  },
  {
   "cell_type": "markdown",
   "id": "0213350e-d40c-4e21-a4b7-9f2991981b79",
   "metadata": {},
   "source": [
    "You could manually create this folder and collect and put all static files of your project into this folder, but Django has a command that do this for you:\n",
    "Bạn có thể tạo thư mục này theo cách thủ công, thu thập và đặt tất cả các tệp tĩnh của dự án vào thư mục này, nhưng Django có một lệnh thực hiện việc này cho bạn:\n",
    "py manage.py collectstatic"
   ]
  },
  {
   "cell_type": "markdown",
   "id": "188fa92e-6dec-48fa-90f3-6c62414b566e",
   "metadata": {},
   "source": [
    "Which will produce this result:\n",
    "nào sẽ tạo ra kết quả này:\n",
    "131 static files copied to 'C:\\Users\\your_name\\myworld\\my_tennis_club\\productionfiles'."
   ]
  },
  {
   "cell_type": "markdown",
   "id": "4ad0de0e-3449-4df9-bf02-975dcab3ac40",
   "metadata": {},
   "source": [
    "131 files? Why so many? Well this is because of the admin user interface, that comes built-in with Django. We want to keep this feature in production, and it comes with a whole bunch of files including stylesheets, fonts, images, and JavaScripts.\n",
    "131 tập tin? Tại sao nhiều như vậy? Vâng, điều này là do giao diện người dùng quản trị được tích hợp sẵn với Django. Chúng tôi muốn duy trì tính năng này trong quá trình sản xuất và nó đi kèm với rất nhiều tệp bao gồm biểu định kiểu, phông chữ, hình ảnh và JavaScript.\n",
    "\n",
    "my_tennis_club\n",
    "    members/\n",
    "    my_tennis_club/\n",
    "    productionfiles/\n",
    "        admin/\n",
    "        myfirst.css"
   ]
  },
  {
   "cell_type": "markdown",
   "id": "614b65e8-7b3f-4eb6-ab88-eb2544c80901",
   "metadata": {},
   "source": [
    "The Example Should Work\r\n",
    "Now you have collected the static files of your project, and if you have installed WhiteNoise, the example from the Add Static Files chapter will finally work\r\n",
    "\r\n",
    "Start the server and see the resul\n",
    "Ví dụ nên làm việc\r\n",
    "Bây giờ bạn đã thu thập các tệp tĩnh của dự án và nếu bạn đã cài đặt WhiteNoise , ví dụ từ chương Thêm tệp tĩnh cuối cùng sẽ hoạt động\r\n",
    "\r\n",
    "Khởi động máy chủ và xem kết q\n",
    "uả:t:\r\n",
    "\r\n",
    "py manage.py runserver"
   ]
  },
  {
   "cell_type": "markdown",
   "id": "5010854e-466f-440c-84fc-ea6c47bc9c4f",
   "metadata": {},
   "source": [
    "And check out the result in your own browser: 127.0.0.1:8000/testing/."
   ]
  },
  {
   "cell_type": "markdown",
   "id": "ecff64a1-dd68-4e23-93da-d75c070bd784",
   "metadata": {},
   "source": [
    "my_tennis_club/members/templates/template.html:\r\n",
    "\r\n",
    "{% load static %}\r\n",
    "<!DOCTYPE html>\r\n",
    "<html>\r\n",
    "<link rel=\"stylesheet\" href=\"{% static 'myfirst.css' %}\">\r\n",
    "<body>\r\n",
    "\r\n",
    "{% for x in fruits %}\r\n",
    "  <h1>{{ x }}</h1>\r\n",
    "{% endfor %}\r\n",
    "\r\n",
    "</body>\r\n",
    "</html>"
   ]
  },
  {
   "cell_type": "markdown",
   "id": "209cc88f-7924-453a-b0c9-8d8833c4c7f1",
   "metadata": {},
   "source": []
  }
 ],
 "metadata": {
  "kernelspec": {
   "display_name": "Python 3 (ipykernel)",
   "language": "python",
   "name": "python3"
  },
  "language_info": {
   "codemirror_mode": {
    "name": "ipython",
    "version": 3
   },
   "file_extension": ".py",
   "mimetype": "text/x-python",
   "name": "python",
   "nbconvert_exporter": "python",
   "pygments_lexer": "ipython3",
   "version": "3.11.7"
  }
 },
 "nbformat": 4,
 "nbformat_minor": 5
}
