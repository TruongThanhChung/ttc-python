{
 "cells": [
  {
   "cell_type": "markdown",
   "id": "38f7dc3e-b1a1-4916-b7a0-4ced2e2d004b",
   "metadata": {},
   "source": [
    "Add a Global CSS File\n",
    "We have learned how to add a static file in the application's static folder, and how to use it in the application.\n",
    "But what if other applications in your project wants to use the file?\n",
    "Then we have to create a folder on the root directory and put the file(s) there.\n",
    "It is not enough to create a static folder in the root directory, and Django will fix the rest. We have to tell Django where to look for these static files.\n",
    "Start by creating a folder on the project's root level, this folder can be called whatever you like, I will call it mystaticfiles in this tutorial:\n",
    "Thêm tệp CSS toàn cầu\r\n",
    "Chúng tôi đã tìm hiểu cách thêm tệp tĩnh vào staticthư mục của ứng dụng và cách sử dụng tệp đó trong ứng dụng\r\n",
    "\r\n",
    "Nhưng nếu các ứng dụng khác trong dự án của bạn muốn sử dụng tệp thì so?\r\n",
    "\r\n",
    "Sau đó, chúng ta phải tạo một thư mục trên thư mục gốc và đặt (các) tệp và đó.\r\n",
    "\r\n",
    "\n",
    "staticViệc tạo một thư mục trong thư mục gốc là chưa đủ và Django sẽ sửa phần còn lại. Chúng ta phải cho Django biết nơi tìm những tệp tĩh này.\r\n",
    "\r\n",
    "Bắt đầu bằng cách tạo một thư mục ở cấp độ gốc của dự án, thư mục này có thể được gọi là bất cứ tên gì bạn thích, tôi sẽ gọi nó myst aticfilestrong hướng dẫn này:"
   ]
  },
  {
   "cell_type": "markdown",
   "id": "a32edf10-43fa-430f-b688-18506d56f0b9",
   "metadata": {},
   "source": [
    "my_tennis_club\n",
    "    db.sqlite3\n",
    "    manage.py\n",
    "    my_tennis_club/\n",
    "    members/\n",
    "    mystaticfiles/"
   ]
  },
  {
   "cell_type": "markdown",
   "id": "8e292782-85a7-405f-9aa7-5473e8cc8944",
   "metadata": {},
   "source": [
    "Add a CSS file in the mystaticfiles folder, the name is your choice, we will call it myglobal.css in this example:\n",
    "Thêm một tệp CSS vào mystaticfilesthư mục, tên là do bạn chọn, chúng tôi sẽ gọi nó myglobal.css trong ví dụ này:"
   ]
  },
  {
   "cell_type": "markdown",
   "id": "13c6587f-6459-403e-bbb9-395d69cc8884",
   "metadata": {},
   "source": [
    "my_tennis_club\r\n",
    "    db.sqlite3\r\n",
    "    manage.py\r\n",
    "    my_tennis_club/\r\n",
    "    members/\r\n",
    "    mystaticfiles/\r\n",
    "        myglobal.css"
   ]
  },
  {
   "cell_type": "markdown",
   "id": "e909409f-1ef1-4d5b-be1a-d10a914be6c3",
   "metadata": {},
   "source": [
    "Open the CSS file and insert the following:\n",
    "Mở tệp CSS và chèn đoạn sau:"
   ]
  },
  {
   "cell_type": "markdown",
   "id": "53073651-4004-4add-9175-9e3418cea4ba",
   "metadata": {},
   "source": [
    "my_tennis_club/mystaticfiles/myglobal.css:\n",
    "\n",
    "body {\n",
    "  color: violet;\n",
    "}"
   ]
  },
  {
   "cell_type": "markdown",
   "id": "c95fe1b7-9400-493a-aea1-38ad08169854",
   "metadata": {},
   "source": [
    "Modify Settings\r\n",
    "You will have to tell Django to also look for static files in the mystaticfiles folder in the root directory, this is done in the settings.py file\n",
    "Sửa đổi cài đặt\r\n",
    "Bạn sẽ phải yêu cầu Django tìm kiếm các tệp tĩnh trong thư mystaticfilesmục trong thư mục gốc, việc này được thực hiện trong settings.pytệp::"
   ]
  },
  {
   "cell_type": "markdown",
   "id": "b44aabd1-b0ec-44f5-8dd5-a39fef519a96",
   "metadata": {},
   "source": [
    "Add a STATICFILES_DIRS list:\r",
    "Thêm một STATICFILES_DIRSdanh sách:\n",
    "\r\n",
    "my_tennis_club/my_tennis_club/settings.py:\r\n",
    "\r\n",
    ".\r\n",
    ".\r\n",
    "\r\n",
    "STATIC_ROOT = BASE_DIR / 'productionfiles'\r\n",
    "\r\n",
    "STATIC_URL = 'static/'\r\n",
    "\r\n",
    "#Add this in your settings.py file:\r\n",
    "STATICFILES_DIRS = [\r\n",
    "    BASE_DIR / 'mystaticfiles'\r\n",
    "]\r\n",
    ".\r\n",
    "."
   ]
  },
  {
   "cell_type": "markdown",
   "id": "b86c55c5-5b8c-4da9-a413-dfc1a26a4b97",
   "metadata": {},
   "source": [
    "In the STATICFILES_DIRS list, you can list all the directories where Django should look for static files.\n",
    "The BASE_DIR keyword represents the root directory of the project, and together with the / \"mystaticfiles\", it means the mystaticfiles folder in the root directory.\n",
    "Thứ tự tìm kiếm\r\n",
    "Nếu bạn có các tệp có cùng tên, Django sẽ sử dụng lần xuất hiện đầu tiên của tệp\r\n",
    "\r\n",
    "Việc tìm kiếm bắt đầu trong các thư mục được liệt kê trong STATICFILES_DIRS, theo thứ tự bạn đã cung cấp. Sau đó , nếu không tìm thấy tệp, việc tìm kiếm sẽ tiếp tục trong staticthư mục của từng ứng dụng."
   ]
  },
  {
   "cell_type": "markdown",
   "id": "802d8ddf-b13b-4ad6-9ee3-01d30d7995ff",
   "metadata": {},
   "source": [
    "Search Order\r\n",
    "If you have files with the same name, Django will use the first occurrence of the file.\n",
    "\r\n",
    "The search starts in the directories listed in STATICFILES_DIRS, using the order you have provided. Then, if the file is not found, the search continues in the static folder of each applicati\n",
    "Sửa đổi mẫu\r\n",
    "Bây giờ bạn có tệp CSS chung cho toàn bộ dự án, tệp này có thể được truy cập từ tất cả các ứng dụng của bạn\r\n",
    "\r\n",
    "Để sử dụng nó trong một mẫu, hãy sử dụng cú pháp tương tự như bạn đã làm với tệp myfirst.cs:\r\n",
    "\r\n",
    "Bắt đầu mẫu với nội dung sau:on."
   ]
  },
  {
   "cell_type": "markdown",
   "id": "ed73f057-1e5c-4f9f-838c-d9f8a2437ca8",
   "metadata": {},
   "source": [
    "Modify the Template\r\n",
    "Now you have a global CSS file for the entire project, which can be accessed from all your applications\r\n",
    "\r\n",
    "To use it in a template, use the same syntax as you did for the myfirst.css fie:\r\n",
    "\r\n",
    "Begin the template with the follo\n",
    "Sửa đổi mẫu\r\n",
    "Bây giờ bạn có tệp CSS chung cho toàn bộ dự án, tệp này có thể được truy cập từ tất cả các ứng dụng của bạn\r\n",
    "\r\n",
    "Để sử dụng nó trong một mẫu, hãy sử dụng cú pháp tương tự như bạn đã làm với tệp myfirst.cs:\r\n",
    "\r\n",
    "Bắt đầu mẫu với nội dung sau:wing:"
   ]
  },
  {
   "cell_type": "markdown",
   "id": "962b4865-56ec-4101-8e59-e88958d05141",
   "metadata": {},
   "source": [
    "{% load static %}"
   ]
  },
  {
   "cell_type": "markdown",
   "id": "60b0ba65-97e2-40cd-94e2-c911dfb784e0",
   "metadata": {},
   "source": [
    "And refer to the file like this:\n",
    "Và tham khảo tập tin như thế này:"
   ]
  },
  {
   "cell_type": "code",
   "execution_count": null,
   "id": "786589f1-81ea-4121-acdd-8df367f5694d",
   "metadata": {},
   "outputs": [],
   "source": [
    "<link rel=\"stylesheet\" href=\"{% static 'myglobal.css' %}\">"
   ]
  },
  {
   "cell_type": "markdown",
   "id": "ca8b2375-d041-4c96-829b-3b843fe52638",
   "metadata": {},
   "source": [
    "my_tennis_club/members/templates/template.html:\n",
    "\n",
    "{% load static %}\n",
    "<!DOCTYPE html>\n",
    "<html>\n",
    "<link rel=\"stylesheet\" href=\"{% static 'myglobal.css' %}\">\n",
    "<body>\n",
    "\n",
    "{% for x in fruits %}\n",
    "  <h1>{{ x }}</h1>\n",
    "{% endfor %}\n",
    "\n",
    "</body>\n",
    "</html>"
   ]
  },
  {
   "cell_type": "markdown",
   "id": "a8abb09a-ef13-4fd9-9b2f-2a6edffed3a1",
   "metadata": {},
   "source": [
    "Didn't Work?\r\n",
    "That is correct. You need to collect the static files once again\n",
    "Không hoạt động?\r\n",
    "Đúng rồi. Bạn cần thu thập lại các tệp tĩnh.."
   ]
  },
  {
   "cell_type": "markdown",
   "id": "b07e6e57-d5b0-4899-a3bb-a69bd5b82314",
   "metadata": {},
   "source": [
    "Collect Static Files\r\n",
    "Run the collectstatic command to collect the new static file\n",
    "Thu thập tệp tĩnh\r\n",
    "Chạy lệnh collstatic để thu thập tệp tĩnh mới::\r\n",
    "\r\n",
    "py manage.py collectstatic"
   ]
  },
  {
   "cell_type": "markdown",
   "id": "0e750fa4-a2fc-4957-b263-a159127f3c13",
   "metadata": {},
   "source": [
    "Which will produce this result:\n",
    "nào sẽ tạo ra kết quả này:\n",
    "You have requested to collect static files at the destination\r\n",
    "location as specified in your settings:\r\n",
    "\r\n",
    "    C:\\Users\\Your Name\\myworld\\my_tennis_club\\productionfiles\r\n",
    "\r\n",
    "This will overwrite existing files!\r\n",
    "Are you sure you want to do this?\r\n",
    "\r\n",
    "Type 'yes' to continue, or 'no' to cancel:"
   ]
  },
  {
   "cell_type": "markdown",
   "id": "5e5fcb6a-efeb-4529-8d7e-a36947ab9f76",
   "metadata": {},
   "source": [
    "Type yes:\n",
    "Nhập có:\r\n",
    "\r\n",
    "Type 'yes' to continue, or 'no' to cancel: yes"
   ]
  },
  {
   "cell_type": "code",
   "execution_count": null,
   "id": "4ab50752-1560-4747-b4ba-c640d3f1f495",
   "metadata": {},
   "outputs": [],
   "source": [
    "Which will produce this result:\n",
    "nào sẽ tạo ra kết quả này:\n",
    "\n",
    "1 static file copied to 'C:\\Users\\Your Name\\myworld\\my_tennis_club\\productionfiles', 131 unmodified."
   ]
  },
  {
   "cell_type": "markdown",
   "id": "daba9ef7-bf15-464b-99cf-6da30759e988",
   "metadata": {},
   "source": [
    "The Example Should Work\r\n",
    "Start the server, and the example will work:Ví dụ nên làm việc\r\n",
    "Khởi động máy chủ và ví dụ sẽ hoạt động\n",
    ":\r\n",
    "\r\n",
    "py manage.py runserver"
   ]
  },
  {
   "cell_type": "markdown",
   "id": "810d4c75-e424-498b-8a3a-8c7161efe82d",
   "metadata": {},
   "source": [
    "Check out the result in your own browser: 127.0.0.1:8000/testing/."
   ]
  },
  {
   "cell_type": "markdown",
   "id": "28d33c03-d03f-418d-89f5-80bb3c3fdd49",
   "metadata": {},
   "source": [
    "my_tennis_club/members/templates/template.html:\n",
    "\n",
    "{% load static %}\n",
    "<!DOCTYPE html>\n",
    "<html>\n",
    "<link rel=\"stylesheet\" href=\"{% static 'myglobal.css' %}\">\n",
    "<body>\n",
    "\n",
    "{% for x in fruits %}\n",
    "  <h1>{{ x }}</h1>\n",
    "{% endfor %}\n",
    "\n",
    "</body>\n",
    "</html>"
   ]
  }
 ],
 "metadata": {
  "kernelspec": {
   "display_name": "Python 3 (ipykernel)",
   "language": "python",
   "name": "python3"
  },
  "language_info": {
   "codemirror_mode": {
    "name": "ipython",
    "version": 3
   },
   "file_extension": ".py",
   "mimetype": "text/x-python",
   "name": "python",
   "nbconvert_exporter": "python",
   "pygments_lexer": "ipython3",
   "version": "3.11.7"
  }
 },
 "nbformat": 4,
 "nbformat_minor": 5
}
