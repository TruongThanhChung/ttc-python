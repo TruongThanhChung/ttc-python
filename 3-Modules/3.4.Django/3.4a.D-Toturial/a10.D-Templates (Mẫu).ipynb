{
 "cells": [
  {
   "cell_type": "code",
   "execution_count": null,
   "id": "3f802086-fadf-4ecb-b4e4-1bb858590189",
   "metadata": {},
   "outputs": [],
   "source": [
    "Templates\n",
    "In the Django Intro page, we learned that the result should be in HTML, and it should be created in a template, so let's do that.\n",
    "Create a templates folder inside the members folder, and create a HTML file named myfirst.html.\n",
    "The file structure should be like this:\n",
    "Mẫu\n",
    "Trong trang Giới thiệu Django , chúng tôi đã biết rằng kết quả phải ở dạng HTML và nó phải được tạo trong một mẫu, vì vậy hãy thực hiện điều đó.\n",
    "Tạo một thư mục templates bên trong thư mục members và tạo một tệp HTML có tên myfirst.html.\n",
    "Cấu trúc tập tin phải như thế này:\n",
    "my_tennis_club\n",
    "    manage.py\n",
    "    my_tennis_club/\n",
    "    members/\n",
    "        templates/\n",
    "            myfirst.html"
   ]
  },
  {
   "cell_type": "markdown",
   "id": "7d1a27aa-f441-4a71-b076-c55822a7f527",
   "metadata": {},
   "source": [
    "Open the HTML file and insert the following:\n",
    "Mở tệp HTML và chèn đoạn sau:\n",
    "my_tennis_club/members/templates/myfirst.html:\r\n",
    "\r\n",
    "<!DOCTYPE html>\r\n",
    "<html>\r\n",
    "<body>\r\n",
    "\r\n",
    "<h1>Hello World!</h1>\r\n",
    "<p>Welcome to my first Django project!</p>\r\n",
    "\r\n",
    "</body>\r\n",
    "</html>"
   ]
  },
  {
   "cell_type": "markdown",
   "id": "d81e412a-eb25-475b-b7c7-1285f6239171",
   "metadata": {},
   "source": [
    "Modify the View\r\n",
    "Open the views.py file and replace the members view with this\n",
    "Sửa đổi chế độ xem\r\n",
    "Mở views.p ytệp và thay thế chế độ member sxem bằng cách này\n",
    "my_tennis_club/members/views.py:\r\n",
    "\r\n",
    "from django.http import HttpResponse\r\n",
    "from django.template import loader\r\n",
    "\r\n",
    "def members(request):\r\n",
    "  template = loader.get_template('myfirst.html')\r\n",
    "  return HttpResponse(template.render())::"
   ]
  },
  {
   "cell_type": "markdown",
   "id": "b34fbbc3-6a0a-41fb-a66a-532d943d7539",
   "metadata": {},
   "source": [
    "Change Settings\r\n",
    "To be able to work with more complicated stuff than \"Hello World!\", We have to tell Django that a new app is created\r\n",
    "\r\n",
    "This is done in the settings.py file in the my_tennis_club foldr.\r\n",
    "\r\n",
    "Look up the INSTALLED_APPS[] list and add the members app like \n",
    "Thay đổi cài đặt\r\n",
    "Để có thể làm việc với những thứ phức tạp hơn \"Xin chào thế giới!\", Chúng tôi phải nói với Django rằng một ứng dụng mới đã được tạo.\n",
    "\r\n",
    "Điều này được thực hiện tr tập tinong settings in tr thư mụcong my_tennis_c mụ.\r\n",
    "\r\n",
    "Tra cứu INSTALLED_A PPS[]danh sách và thêm me mbersứng dụng như thế\n",
    "my_tennis_club/my_tennis_club/settings.py:\r\n",
    "\r\n",
    "INSTALLED_APPS = [\r\n",
    "    'django.contrib.admin',\r\n",
    "    'django.contrib.auth',\r\n",
    "    'django.contrib.contenttypes',\r\n",
    "    'django.contrib.sessions',\r\n",
    "    'django.contrib.messages',\r\n",
    "    'django.contrib.staticfiles',\r\n",
    "    'members'\r\n",
    "] này:this:"
   ]
  },
  {
   "cell_type": "code",
   "execution_count": null,
   "id": "31d49d57-c8f5-4ed3-9056-3543dac1bf60",
   "metadata": {},
   "outputs": [],
   "source": [
    "Then run this command:\n",
    "Sau đó chạy lệnh này:\n",
    "py manage.py migrate"
   ]
  },
  {
   "cell_type": "markdown",
   "id": "5111f2c2-6d6d-441b-a617-579a78e10218",
   "metadata": {},
   "source": [
    "Which will produce this output:\n",
    "Cái nào sẽ tạo ra đầu ra này:\n",
    "Operations to perform:\r\n",
    "  Apply all migrations: admin, auth, contenttypes, sessions\r\n",
    "Running migrations:\r\n",
    "  Applying contenttypes.0001_initial... OK\r\n",
    "  Applying auth.0001_initial... OK\r\n",
    "  Applying admin.0001_initial... OK\r\n",
    "  Applying admin.0002_logentry_remove_auto_add... OK\r\n",
    "  Applying admin.0003_logentry_add_action_flag_choices... OK\r\n",
    "  Applying contenttypes.0002_remove_content_type_name... OK\r\n",
    "  Applying auth.0002_alter_permission_name_max_length... OK\r\n",
    "  Applying auth.0003_alter_user_email_max_length... OK\r\n",
    "  Applying auth.0004_alter_user_username_opts... OK\r\n",
    "  Applying auth.0005_alter_user_last_login_null... OK\r\n",
    "  Applying auth.0006_require_contenttypes_0002... OK\r\n",
    "  Applying auth.0007_alter_validators_add_error_messages... OK\r\n",
    "  Applying auth.0008_alter_user_username_max_length... OK\r\n",
    "  Applying auth.0009_alter_user_last_name_max_length... OK\r\n",
    "  Applying auth.0010_alter_group_name_max_length... OK\r\n",
    "  Applying auth.0011_update_proxy_permissions... OK\r\n",
    "  Applying auth.0012_alter_user_first_name_max_length... OK\r\n",
    "  Applying sessions.0001_initial... OK\r\n",
    "\r\n",
    "(myworld) C:\\Users\\Your Name\\myworld\\my_tennis_club>"
   ]
  },
  {
   "cell_type": "markdown",
   "id": "8429c756-e381-48cb-af2e-4e599cefc7e2",
   "metadata": {},
   "source": [
    "Start the server by navigating to the /my_tennis_club folder and execute this command:\n",
    "Khởi động máy chủ bằng cách điều hướng đến /my_tennis_club thư mục và thực hiện lệnh này:\n",
    "py manage.py runserver"
   ]
  },
  {
   "cell_type": "markdown",
   "id": "42ec53ef-69e9-4ea4-841e-32ea6e7b41cb",
   "metadata": {},
   "source": [
    "In the browser window, type 127.0.0.1:8000/members/ in the address bar.\n",
    "Trong cửa sổ trình duyệt, gõ 127.0.0.1:8000/members/vào thanh địa chỉ."
   ]
  }
 ],
 "metadata": {
  "kernelspec": {
   "display_name": "Python 3 (ipykernel)",
   "language": "python",
   "name": "python3"
  },
  "language_info": {
   "codemirror_mode": {
    "name": "ipython",
    "version": 3
   },
   "file_extension": ".py",
   "mimetype": "text/x-python",
   "name": "python",
   "nbconvert_exporter": "python",
   "pygments_lexer": "ipython3",
   "version": "3.11.7"
  }
 },
 "nbformat": 4,
 "nbformat_minor": 5
}
