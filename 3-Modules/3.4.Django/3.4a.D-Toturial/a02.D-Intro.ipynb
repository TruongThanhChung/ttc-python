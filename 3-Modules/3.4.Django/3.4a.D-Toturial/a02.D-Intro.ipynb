{
 "cells": [
  {
   "cell_type": "markdown",
   "id": "3ab31625-6e72-41a8-b720-0b274a0f4879",
   "metadata": {},
   "source": [
    "What is Django?\r\n",
    "Django is a Python framework that makes it easier to create web sites using Python.\n",
    "\r\n",
    "Django takes care of the difficult stuff so that you can concentrate on building your web application.\r\n",
    "\r\n",
    "Django emphasizes reusability of components, also referred to as DRY (Don't Repeat Yourself), and comes with ready-to-use features like login system, database connection and CRUD operations (Create Read Update Del\n",
    "Django là gì?\r\n",
    "Django là một framework Python giúp tạo các trang web bằng Python dễ dàng hơn.\n",
    "\r\n",
    "Django sẽ giải quyết những vấn đề khó khăn để bạn có thể tập trung xây dựng ứng dụng web của mìh.\r\n",
    "\r\n",
    "Django nhấn mạnh khả năng sử dụng lại của các thành phần, còn được gọi là DRY (Đừng lặp lại chính mình) và đi kèm với các tính năng sẵn sàng sử dụng như hệ thống đăng nhập, kết nối cơ sở dữ liệu và hoạt động CRUD (Tạo đọc Cập nhật Xóa).ete)."
   ]
  },
  {
   "cell_type": "markdown",
   "id": "c3f57bdc-905c-43e3-95cb-ed9ff7dca5a8",
   "metadata": {},
   "source": [
    "Django is especially helpful for database driven websites.\n",
    "Django đặc biệt hữu ích cho các trang web điều khiển cơ sở dữ liệu."
   ]
  },
  {
   "cell_type": "markdown",
   "id": "0ededc52-6a85-480d-be33-59ae396181b8",
   "metadata": {},
   "source": [
    "How does Django Work?\r\n",
    "Django follows the MVT design pattern (Model View Template)\r\n",
    "\r\n",
    "Model - The data you want to present, usually data from a database.\r\n",
    "View - A request handler that returns the relevant template and content - based on the request from the user.\r\n",
    "Template - A text file (like an HTML file) containing the layout of the web page, with logic on how to display the \n",
    "Django hoạt động như thế nào?\r\n",
    "Django tuân theo mẫu thiết kế MVT (Mẫu xem mô hình)\r\n",
    "\r\n",
    "Model - Dữ liệu bạn muốn trình bày, thường là dữ liệu từ cơ sở dữ liệu.\r\n",
    "Chế độ xem - Trình xử lý yêu cầu trả về mẫu và nội dung có liên quan - dựa trên yêu cầu từ người dùng.\r\n",
    "Mẫu - Tệp văn bản (như tệp HTML) chứa bố cục của trang web, có logic về cách hiển thị dữ liệu.data."
   ]
  },
  {
   "cell_type": "markdown",
   "id": "d4768022-4b15-4590-8373-d7a418e8b2ff",
   "metadata": {},
   "source": [
    "Model\r\n",
    "The model provides data from the database\r\n",
    "\r\n",
    "In Django, the data is delivered as an Object Relational Mapping (ORM), which is a technique designed to make it easier to work with databass.\r\n",
    "\r\n",
    "The most common way to extract data from a database is SQL. One problem with SQL is that you have to have a pretty good understanding of the database structure to be able to work wit it.\r\n",
    "\r\n",
    "Django, with ORM, makes it easier to communicate with the database, without having to write complex SQL statments.\r\n",
    "\r\n",
    "The models are usually located in a file called m\n",
    "Model\r\n",
    "Mô hình cung cấp dữ liệu từ cơ sở dữ liệu\r\n",
    "\r\n",
    "Trong Django, dữ liệu được phân phối dưới dạng Ánh xạ quan hệ đối tượng (ORM), đây là một kỹ thuật được thiết kế để giúp làm việc với cơ sở dữ liệu dễ dàng hn.\r\n",
    "\r\n",
    "Cách phổ biến nhất để trích xuất dữ liệu từ cơ sở dữ liệu là SQL. Một vấn đề với SQL là bạn phải hiểu khá rõ về cấu trúc cơ sở dữ liệu thì mới có thể làm việc vớ nó.\r\n",
    "\r\n",
    "Django, với ORM, giúp giao tiếp với cơ sở dữ liệu dễ dàng hơn mà không cần phải viết các câu lệnh SQL phc tạp.\r\n",
    "\r\n",
    "Các mô hình thường nằm trong một tệp có tên models.py.odels.py."
   ]
  },
  {
   "cell_type": "markdown",
   "id": "957a5161-3382-4b9e-b382-23dc20199a85",
   "metadata": {},
   "source": [
    "View\r\n",
    "A view is a function or method that takes http requests as arguments, imports the relevant model(s), and finds out what data to send to the template, and returns the final result.\n",
    "\r\n",
    "The views are usually located in a file called views.\n",
    "Xem\r\n",
    "Chế độ xem là một hàm hoặc phương thức lấy các yêu cầu http làm đối số, nhập (các) mô hình có liên quan và tìm ra dữ liệu nào cần gửi đến mẫu và trả về kết quả cuối cùng\r\n",
    "\r\n",
    "Các khung nhìn thường nằm trong một tệp có tên views.py.py."
   ]
  },
  {
   "cell_type": "markdown",
   "id": "c5d05e50-f3a6-4ed1-b4c1-3c68288e2add",
   "metadata": {},
   "source": [
    "Template\r\n",
    "A template is a file where you describe how the result should be represented\r\n",
    "\r\n",
    "Templates are often .html files, with HTML code describing the layout of a web page, but it can also be in other file formats to present other results, but we will concentrate on .html fils.\r\n",
    "\r\n",
    "Django uses standard HTML to describe the layout, but uses Django tags to add l\n",
    "Bản mẫu\r\n",
    "Mẫu là một tệp trong đó bạn mô tả cách trình bày kết quả\r\n",
    "\r\n",
    "Mẫu thường là các tệp .html, với mã HTML mô tả bố cục của trang web, nhưng nó cũng có thể ở các định dạng tệp khác để hiển thị các kết quả khác, nhưng chúng tôi sẽ tập trung vào các tệp .htl.\r\n",
    "\r\n",
    "Django sử dụng HTML tiêu chuẩn để mô tả bố cục, nhưng sử dụng thẻ Django để thêm logic:ogic:"
   ]
  },
  {
   "cell_type": "code",
   "execution_count": null,
   "id": "b9ededb6-2c84-4bb3-ba94-68543347f1ad",
   "metadata": {},
   "outputs": [],
   "source": [
    "<h1>My Homepage</h1>\n",
    "\n",
    "<p>My name is {{ firstname }}.</p>"
   ]
  },
  {
   "cell_type": "markdown",
   "id": "72f8d6ca-c370-4d21-834e-f85eaf9c3268",
   "metadata": {},
   "source": [
    "The templates of an application is located in a folder named templates.\n",
    "Các mẫu của ứng dụng nằm trong thư mục có tên templates."
   ]
  },
  {
   "cell_type": "markdown",
   "id": "b2fba9be-9e8f-4103-aa86-63d0f43d36bd",
   "metadata": {},
   "source": [
    "URLs\r\n",
    "Django also provides a way to navigate around the different pages in a website\r\n",
    "\r\n",
    "When a user requests a URL, Django decides which view it will send it o.\r\n",
    "\r\n",
    "This is done in a file called url\n",
    "URL\r\n",
    "Django cũng cung cấp cách điều hướng quanh các trang khác nhau trong trang web\r\n",
    "\r\n",
    "Khi người dùng yêu cầu một URL, Django sẽ quyết định xem nó sẽ gửi nó đến chế độ xem no.\r\n",
    "\r\n",
    "Việc này được thực hiện trong một tệp có tên urls.py.s.py."
   ]
  },
  {
   "cell_type": "markdown",
   "id": "d0ec38d6-6b72-4ff0-b9d8-053b291adbde",
   "metadata": {},
   "source": [
    "So, What is Going On?\r\n",
    "When you have installed Django and created your first Django web application, and the browser requests the URL, this is basically what happens:\n",
    "\r\n",
    "Django receives the URL, checks the urls.py file, and calls the view that matches the URL.\r\n",
    "The view, located in views.py, checks for relevant models.\r\n",
    "The models are imported from the models.py file.\r\n",
    "The view then sends the data to a specified template in the template folder.\r\n",
    "The template contains HTML and Django tags, and with the data it returns finished HTML content back to the browser.\r\n",
    "Django can do a lot more than this, but this is basically what you will learn in this tutorial, and are the basic steps in a simple web application made with\n",
    "Vậy chuyện gì đang xảy ra thế?\r\n",
    "Khi bạn đã cài đặt Django và tạo ứng dụng web Django đầu tiên của mình và trình duyệt yêu cầu URL, về cơ bản điều này sẽ xảy ra\r\n",
    "\r\n",
    "Django nhận URL, kiểm tra urls .pytệp và gọi chế độ xem khớp với URL.\r\n",
    "Khung nhìn nằm trong views.py, kiểm tra các mô hình có liên quan.\r\n",
    "Các mô hình được nhập từ mode ls.pytập tin.\r\n",
    "Sau đó, chế độ xem sẽ gửi dữ liệu đến một mẫu được chỉ định trong te mplatethư mục.\r\n",
    "Mẫu chứa các thẻ HTML và Django và cùng với dữ liệu, nó sẽ trả về nội dung HTML đã hoàn thành cho trình duyệt.\r\n",
    "Django có thể làm được nhiều hơn thế, nhưng về cơ bản đây là những gì bạn sẽ học trong hướng dẫn này và là các bước cơ bản trong một ứng dụng web đơn giản được tạo bằng Django. Django."
   ]
  },
  {
   "cell_type": "markdown",
   "id": "69fee879-38f3-4fb2-8144-e73ce8bc1359",
   "metadata": {},
   "source": [
    "Django History\r\n",
    "Django was invented by Lawrence Journal-World in 2003, to meet the short deadlines in the newspaper and at the same time meeting the demands of experienced web developers.\n",
    "\r\n",
    "Initial release to the public was in July 205.\r\n",
    "\r\n",
    "Latest version of Django is 4.0.3 (March 2\n",
    "Lịch sử Django\r\n",
    "Django được Lawrence Journal-World phát minh vào năm 2003, nhằm đáp ứng thời hạn viết báo ngắn, đồng thời đáp ứng nhu cầu của các nhà phát triển web có kinh nghiệm\r\n",
    "\r\n",
    "Lần phát hành đầu tiên ra công chúng là vào tháng 7 năm 205.\r\n",
    "\r\n",
    "Phiên bản mới nhất của Django là 4.0.3 (tháng 3 năm 2022).022)."
   ]
  }
 ],
 "metadata": {
  "kernelspec": {
   "display_name": "Python 3 (ipykernel)",
   "language": "python",
   "name": "python3"
  },
  "language_info": {
   "codemirror_mode": {
    "name": "ipython",
    "version": 3
   },
   "file_extension": ".py",
   "mimetype": "text/x-python",
   "name": "python",
   "nbconvert_exporter": "python",
   "pygments_lexer": "ipython3",
   "version": "3.11.7"
  }
 },
 "nbformat": 4,
 "nbformat_minor": 5
}
