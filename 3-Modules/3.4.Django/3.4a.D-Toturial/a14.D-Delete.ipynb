{
 "cells": [
  {
   "cell_type": "markdown",
   "id": "e014691a-c119-42e5-b404-b30a495c7b1f",
   "metadata": {},
   "source": [
    "Delete Records\r\n",
    "To delete a record in a table, start by getting the record you want to delete\n",
    "Xóa hồ sơ\r\n",
    "Để xóa một bản ghi trong bảng, hãy bắt đầu bằng cách lấy bản ghi bạn muốn xóa::"
   ]
  },
  {
   "cell_type": "markdown",
   "id": "8a23deb5-0f5a-4245-a8e4-efaaaddf8b59",
   "metadata": {},
   "source": [
    ">>> from members.models import Member\n",
    ">>> x = Member.objects.all()[5]"
   ]
  },
  {
   "cell_type": "markdown",
   "id": "ef8cdccc-1c46-4a2c-8824-809a83ae567b",
   "metadata": {},
   "source": [
    "x will now represent the member at index 5, which is \"Jane Doe\", but to make sure, let us see if that is correct:\r",
    "x bây giờ sẽ đại diện cho thành viên ở chỉ số 5, đó là \"Jane Doe\", nhưng để chắc chắn, chúng ta hãy xem điều đó có đúng không:me"
   ]
  },
  {
   "cell_type": "markdown",
   "id": "ebf56287-cde4-4d25-99b5-726a2a000ead",
   "metadata": {},
   "source": [
    ">>> x.firstname"
   ]
  },
  {
   "cell_type": "markdown",
   "id": "7dbec89c-b5aa-4f34-bb54-915a8d590a97",
   "metadata": {},
   "source": [
    "This should give you this result:\n",
    "Điều này sẽ cho bạn kết quả này:"
   ]
  },
  {
   "cell_type": "markdown",
   "id": "e332b398-915d-4231-a3af-7e90336c535b",
   "metadata": {},
   "source": [
    "'Jane'"
   ]
  },
  {
   "cell_type": "markdown",
   "id": "c4395db3-1dbd-4e9c-8ce7-8fd68660f09e",
   "metadata": {},
   "source": [
    "Now we can delete the record:\n",
    "Bây giờ chúng ta có thể xóa bản ghi:"
   ]
  },
  {
   "cell_type": "code",
   "execution_count": null,
   "id": "f8ef12ef-e3a6-4898-aa40-5e01a60d4b9d",
   "metadata": {},
   "outputs": [],
   "source": [
    ">>> x.delete()"
   ]
  },
  {
   "cell_type": "markdown",
   "id": "497ea54b-3e00-45ad-aa88-e4471214b7f9",
   "metadata": {},
   "source": [
    "The result will be:\n",
    "Kết quả sẽ là:"
   ]
  },
  {
   "cell_type": "markdown",
   "id": "5179d61d-4cfd-4213-a1be-20b76e53008b",
   "metadata": {},
   "source": [
    "(1, {'members.Member': 1})"
   ]
  },
  {
   "cell_type": "markdown",
   "id": "1017f173-96c0-4c31-92ed-9df531fcf666",
   "metadata": {},
   "source": [
    "Which tells us how many items were deleted, and from which Model.\n",
    "\r\n",
    "If we look at the Member Model, we can see that 'Jane Doe' is removed from the Mode\n",
    "Điều này cho chúng tôi biết có bao nhiêu mục đã bị xóa và từ Model nào.\n",
    "\r\n",
    "Nếu nhìn vào Mô hình Thành viên, chúng ta có thể thấy 'Jane Doe' đã bị xóa khỏi Mô hình:l:"
   ]
  },
  {
   "cell_type": "markdown",
   "id": "71627d03-cd64-4b38-a477-6342b973c529",
   "metadata": {},
   "source": [
    ">>> Member.objects.all().values()\n",
    "<QuerySet [{'id': 1, 'firstname': 'Emil', 'lastname': 'Refsnes'},\n",
    "{'id': 2, 'firstname': 'Tobias', 'lastname': 'Refsnes'},\n",
    "{'id': 3, 'firstname': 'Linus', 'lastname': 'Refsnes'},\n",
    "{'id': 4, 'firstname': 'Lene', 'lastname': 'Refsnes'},\n",
    "{'id': 5, 'firstname': 'Stalikken', 'lastname': 'Refsnes'}]>"
   ]
  }
 ],
 "metadata": {
  "kernelspec": {
   "display_name": "Python 3 (ipykernel)",
   "language": "python",
   "name": "python3"
  },
  "language_info": {
   "codemirror_mode": {
    "name": "ipython",
    "version": 3
   },
   "file_extension": ".py",
   "mimetype": "text/x-python",
   "name": "python",
   "nbconvert_exporter": "python",
   "pygments_lexer": "ipython3",
   "version": "3.11.7"
  }
 },
 "nbformat": 4,
 "nbformat_minor": 5
}
