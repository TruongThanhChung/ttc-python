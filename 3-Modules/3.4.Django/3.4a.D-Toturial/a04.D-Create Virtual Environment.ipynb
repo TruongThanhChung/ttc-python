{
 "cells": [
  {
   "cell_type": "markdown",
   "id": "1879d161-288c-436c-80dc-2062ee3da3f1",
   "metadata": {},
   "source": [
    "Virtual Environment\r\n",
    "It is suggested to have a dedicated virtual environment for each Django project, and one way to manage a virtual environment is venv, which is included in Python.\n",
    "\r\n",
    "The name of the virtual environment is your choice, in this tutorial we will call it myword.\r\n",
    "\r\n",
    "Type the following in the command prompt, remember to navigate to where you want to create your pro\n",
    "Môi trường ảo\r\n",
    "Chúng tôi khuyên bạn nên có một môi trường ảo dành riêng cho từng dự án Django và một cách để quản lý môi trường ảo là venv , được bao gồm trong Python\r\n",
    "\r\n",
    "Tên của môi trường ảo là do bạn lựa chọn, trong hướng dẫn này chúng tôi sẽ gọi nó là myword.\r\n",
    "\r\n",
    "Nhập nội dung sau vào dấu nhắc lệnh, nhớ điều hướng đến nơi bạn muốn tạo dự án của mình:ject:"
   ]
  },
  {
   "cell_type": "markdown",
   "id": "82ba56e7-af37-48a4-aee2-821f07a8eeec",
   "metadata": {},
   "source": [
    "Windows:\r",
    "\r\n",
    "py -m venv myworld\r\n",
    "Unix/MacO:\r\n",
    "\r\n",
    "python -m venv myworld"
   ]
  },
  {
   "cell_type": "markdown",
   "id": "946829a1-1f25-41f7-8631-bea0e3dd0542",
   "metadata": {},
   "source": [
    "This will set up a virtual environment, and create a folder named \"myworld\" with subfolders and files, like this:\n",
    "myworld\r\n",
    "  Include\r\n",
    "  Lib\r\n",
    "  Scripts\r\n",
    "  pyvenv.cfg\n",
    "Thao tác này sẽ thiết lập một môi trường ảo và tạo thư mục có tên \"myworld\" với các thư mục con và tệp, như \n",
    "myworld\n",
    "  Include\n",
    "  Lib\n",
    "  Scripts\n",
    "  pyvenv.cfgsau:"
   ]
  },
  {
   "cell_type": "markdown",
   "id": "18005cca-72e3-4fbc-97d8-3979d06bb5b8",
   "metadata": {},
   "source": [
    "Then you have to activate the environment, by typing this command:\n",
    "Sau đó, bạn phải kích hoạt môi trường bằng cách gõ lệnh này:\n",
    "Windows:\n",
    "\r\n",
    "myworld\\Scripts\\activate.bat\r\n",
    "Unix/MacS:\r\n",
    "\r\n",
    "source myworld/bin/activate"
   ]
  },
  {
   "cell_type": "markdown",
   "id": "40b35951-6373-4756-b017-ca5789395c14",
   "metadata": {},
   "source": [
    "Once the environment is activated, you will see this result in the command prompt:\n",
    "Khi môi trường được kích hoạt, bạn sẽ thấy kết quả này trong dấu nhắc lệnh:\n",
    "Windows:\n",
    "\r\n",
    "(myworld) C:\\Users\\Your Name>\r\n",
    "Unix/MacS:\r\n",
    "\r\n",
    "(myworld) ... $"
   ]
  },
  {
   "cell_type": "markdown",
   "id": "a0f3c580-b74b-4fc1-be00-e2fb1183ea40",
   "metadata": {},
   "source": [
    "Note: You must activate the virtual environment every time you open the command prompt to work on your project.\n",
    "Lưu ý: Bạn phải kích hoạt môi trường ảo mỗi khi mở dấu nhắc lệnh để làm việc với dự án của mình."
   ]
  },
  {
   "cell_type": "markdown",
   "id": "0af6718e-03ff-4174-b5af-78399abddbca",
   "metadata": {},
   "source": [
    "Install Django\r\n",
    "In the next chapter you will finally learn how to install Django\n",
    "Cài đặt Django\r\n",
    "Trong chương tiếp theo, cuối cùng bạn sẽ học cách cài đặt Django!!"
   ]
  }
 ],
 "metadata": {
  "kernelspec": {
   "display_name": "Python 3 (ipykernel)",
   "language": "python",
   "name": "python3"
  },
  "language_info": {
   "codemirror_mode": {
    "name": "ipython",
    "version": 3
   },
   "file_extension": ".py",
   "mimetype": "text/x-python",
   "name": "python",
   "nbconvert_exporter": "python",
   "pygments_lexer": "ipython3",
   "version": "3.11.7"
  }
 },
 "nbformat": 4,
 "nbformat_minor": 5
}
