{
 "cells": [
  {
   "cell_type": "markdown",
   "id": "4c9cd298-23a0-4265-8864-50d26c42549f",
   "metadata": {},
   "source": [
    "URLs\r\n",
    "Create a file named urls.py in the same folder as the views.py file, and type this code in it:URL\r\n",
    "Tạo một tệp có tên urls.pytrong cùng thư mục với views.pytệp và nhập mã này vào đó:\n",
    "\r\n",
    "\r\n",
    "my_tennis_club/members/urls.py:\r\n",
    "\r\n",
    "from django.urls import path\r\n",
    "from . import views\r\n",
    "\r\n",
    "urlpatterns = [\r\n",
    "    path('members/', views.members, name='members'),\r\n",
    "]"
   ]
  },
  {
   "cell_type": "markdown",
   "id": "5ed0e55b-c15f-45d7-ba85-0d066be5bfb2",
   "metadata": {},
   "source": [
    "The urls.py file you just created is specific for the members application. We have to do some routing in the root directory my_tennis_club as well. This may seem complicated, but for now, just follow the instructions below.\r",
    "Tệp urls.pybạn vừa tạo dành riêng cho membersứng dụng. Chúng ta my_tennis_club cũng phải thực hiện một số thao tác định tuyến trong thư mục gốc . Điều này có vẻ phức tạp nhưng hiện tại, bạn chỉ cần làm theo hướng dẫn bên dưới.\n",
    "\n",
    "\r\n",
    "There is a file called urls.py on the my_tennis_club folder, open that file and add the include module in the import statement, and also add a path() function in the urlpatterns[] list, with arguments that will route users that comes in via 127.0.0.1:8000\n",
    "Có một tệp được gọi urls.py trong my_tennis_club thư mục, hãy mở tệp đó và thêm include mô-đun vào import câu lệnh, đồng thời thêm một path() hàm vào urlpatterns[] danh sách, với các đối số sẽ định tuyến người dùng đi qua 127.0.0.1:8000/./.\r\n",
    "\r\n",
    "Then your file will look like t\n",
    "Sau đó, tập tin của bạn sẽ trông như thế này:\n",
    "my_tennis_club/my_tennis_club/urls.py:\r\n",
    "\r\n",
    "from django.contrib import admin\r\n",
    "from django.urls import include, path\r\n",
    "\r\n",
    "urlpatterns = [\r\n",
    "    path('', include('members.urls')),\r\n",
    "    path('admin/', admin.site.urls),\r\n",
    "]his:"
   ]
  },
  {
   "cell_type": "markdown",
   "id": "5d9232d6-868c-45b6-b748-69fb7aeeb66b",
   "metadata": {},
   "source": [
    "If the server is not running, navigate to the /my_tennis_club folder and execute this command in the command prompt:\n",
    "Nếu máy chủ không chạy, hãy điều hướng đến thư /my_tennis_clubmục và thực hiện lệnh này trong dấu nhắc lệnh:\r",
    "\r\n",
    "py manage.py runserver"
   ]
  },
  {
   "cell_type": "markdown",
   "id": "90f8de8e-3aab-4849-9e1e-0bfb5f043a72",
   "metadata": {},
   "source": [
    "In the browser window, type 127.0.0.1:8000/members/ in the address bar.\n",
    "Trong cửa sổ trình duyệt, gõ 127.0.0.1:8000/members/ vào thanh địa chỉ."
   ]
  }
 ],
 "metadata": {
  "kernelspec": {
   "display_name": "Python 3 (ipykernel)",
   "language": "python",
   "name": "python3"
  },
  "language_info": {
   "codemirror_mode": {
    "name": "ipython",
    "version": 3
   },
   "file_extension": ".py",
   "mimetype": "text/x-python",
   "name": "python",
   "nbconvert_exporter": "python",
   "pygments_lexer": "ipython3",
   "version": "3.11.7"
  }
 },
 "nbformat": 4,
 "nbformat_minor": 5
}
