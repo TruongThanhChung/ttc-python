{
 "cells": [
  {
   "cell_type": "markdown",
   "id": "eadb4919-8083-4228-bc72-5f303e6fd7e6",
   "metadata": {},
   "source": [
    "Install Django\r\n",
    "Now, that we have created a virtual environment, we are ready to install Django\n",
    "Cài đặt Django\r\n",
    "Bây giờ chúng ta đã tạo xong một môi trường ảo, chúng ta đã sẵn sàng cài đặt Django.."
   ]
  },
  {
   "cell_type": "markdown",
   "id": "aa7c111c-fe5b-47d0-8ba1-a90346541c47",
   "metadata": {},
   "source": [
    "Note: Remember to install Django while you are in the virtual environment!\n",
    "Lưu ý: Hãy nhớ cài đặt Django khi bạn đang ở trong môi trường ảo!"
   ]
  },
  {
   "cell_type": "code",
   "execution_count": null,
   "id": "f7ab3b81-8225-49d4-a54a-ccca167b215b",
   "metadata": {},
   "outputs": [],
   "source": [
    "Django is installed using pip, with this command:\n",
    "Django được cài đặt bằng pip, với lệnh này:\n",
    "Windows:\n",
    "(myworld) C:\\Users\\Your Name>py -m pip install Django\n",
    "Unix/MacOS:\n",
    "(myworld) ... $ python -m pip install Django"
   ]
  },
  {
   "cell_type": "markdown",
   "id": "e7cf7212-add0-46ae-b4c5-d1f62edaab8b",
   "metadata": {},
   "source": [
    "Which will give a result that looks like this (at least on my Windows machine):\n",
    "Nó sẽ cho kết quả như thế này (ít nhất là trên máy Windows của tôi):"
   ]
  },
  {
   "cell_type": "markdown",
   "id": "bc385fdf-7239-41ca-bd7f-47faca156db6",
   "metadata": {},
   "source": [
    "C:\\Users\\thanh\\Python-ttc\\3-Modules\\3.4.Django>py -m venv myworld\r\n",
    "\r\n",
    "C:\\Users\\thanh\\Python-ttc\\3-Modules\\3.4.Django>myworld\\Scripts\\activate.bat\r\n",
    "\r\n",
    "(myworld) C:\\Users\\thanh\\Python-ttc\\3-Modules\\3.4.Django>py -m pip install Django\r\n",
    "Collecting Django\r\n",
    "  Downloading Django-4.2.11-py3-none-any.whl (8.0 MB)\r\n",
    "     |████████████████████████████████| 8.0 MB 3.3 MB/s\r\n",
    "Collecting asgiref<4,>=3.6.0\r\n",
    "  Downloading asgiref-3.8.1-py3-none-any.whl (23 kB)\r\n",
    "Collecting tzdata\r\n",
    "  Downloading tzdata-2024.1-py2.py3-none-any.whl (345 kB)\r\n",
    "     |████████████████████████████████| 345 kB 6.4 MB/s\r\n",
    "Collecting sqlparse>=0.3.1\r\n",
    "  Downloading sqlparse-0.5.0-py3-none-any.whl (43 kB)\r\n",
    "     |████████████████████████████████| 43 kB 3.2 MB/s\r\n",
    "Collecting typing-extensions>=4\r\n",
    "  Downloading typing_extensions-4.11.0-py3-none-any.whl (34 kB)\r\n",
    "Installing collected packages: typing-extensions, tzdata, sqlparse, asgiref, Django\r\n",
    "Successfully installed Django-4.2.11 asgiref-3.8.1 sqlparse-0.5.0 typing-extensions-4.11.0 tzdata-2024.1\r\n",
    "WARNING: You are using pip version 21.2.4; however, version 24.0 is available.\r\n",
    "You should consider upgrading via the 'C:\\Users\\thanh\\Python-ttc\\3-Modules\\3.4.Django\\myworld\\Scripts\\python.exe -m pip install --upgrade pip' command.\r\n",
    "\r\n",
    "(myworld) C:\\Users\\thanh\\Python-tt\\3-Modules\\3.4.Django>\r\n"
   ]
  },
  {
   "cell_type": "markdown",
   "id": "a6e91be8-139c-4835-81dd-5e720718ca38",
   "metadata": {},
   "source": [
    "That's it! Now you have installed Django in your new project, running in a virtual environment!\n",
    "Đó là nó! Bây giờ bạn đã cài đặt Django trong dự án mới của mình, chạy trong môi trường ảo!"
   ]
  },
  {
   "cell_type": "markdown",
   "id": "8f6ee747-cd4e-4d8a-b3fc-0f7ba865c20b",
   "metadata": {},
   "source": [
    "Windows, Mac, or Unix?\r\n",
    "You can run this project on either one. There are some small differences, like when writing commands in the command prompt, Windows uses py as the first word in the command line, while Unix and MacOS use python:Windows, Mac hay Unix?\r\n",
    "Bạn có thể chạy dự án này trên một trong hai. Có một số khác biệt nhỏ, chẳng hạn như khi viết lệnh trong dấu nhắc lệnh, Windows sử dụng p ylàm từ đầu tiên trong dòng lệnh, trong khi Unix và MacOS sử dụng python:\r\n",
    "\r\n",
    "Windos:\r\n",
    "\r\n",
    "py --version\r\n",
    "Unix/acOS:\r\n",
    "\r\n",
    "python --version"
   ]
  },
  {
   "cell_type": "markdown",
   "id": "b83482cb-d2e2-40b9-9285-0256cff422bf",
   "metadata": {},
   "source": [
    "In the rest of this tutorial, we will be using the Windows command.\n",
    "Trong phần còn lại của hướng dẫn này, chúng ta sẽ sử dụng lệnh Windows."
   ]
  },
  {
   "cell_type": "markdown",
   "id": "601111b6-bff6-42f0-bfa2-7530ddd57439",
   "metadata": {},
   "source": [
    "Check Django Version\r\n",
    "You can check if Django is installed by asking for its version number like this:\n",
    "\r\n",
    "(myworld) C:\\Users\\Your Name>django-admin --vers\n",
    "Kiểm tra phiên bản Django\r\n",
    "Bạn có thể kiểm tra xem Django đã được cài đặt hay chưa bằng cách hỏi số phiên bản của nó như thế này\r\n",
    "\r\n",
    "(myworld) C:\\Users\\Your Name>django-admin --versionion"
   ]
  },
  {
   "cell_type": "markdown",
   "id": "e873b79f-93ba-4e50-b39e-c400191859a0",
   "metadata": {},
   "source": [
    "If Django is installed, you will get a result with the version number:\n",
    "Nếu Django được cài đặt, bạn sẽ nhận được kết quả với số phiên bản: \n",
    "(myworld) C:\\Users\\thanh\\Python-ttc\\3-Modules\\3.4.Django>django-admin --version\r\n",
    "4.2.11"
   ]
  },
  {
   "cell_type": "markdown",
   "id": "f53a4f8b-e347-4806-bf0f-168d00fac4a3",
   "metadata": {},
   "source": [
    "What's Next?\r\n",
    "Now you are ready to create a Django project in a virtual environment on your computer.\n",
    "\r\n",
    "In the next chapters of this tutorial we will create a Django project and look at the various features of Django and hopefully make you a Django develop\n",
    "Cái gì tiếp theo?\r\n",
    "Bây giờ bạn đã sẵn sàng tạo dự án Django trong môi trường ảo trên máy tính của mình\r\n",
    "\r\n",
    "Trong các chương tiếp theo của hướng dẫn này, chúng ta sẽ tạo một dự án Django và xem xét các tính năng khác nhau của Django và hy vọng bạn sẽ trở thành nhà phát triển Django.er."
   ]
  }
 ],
 "metadata": {
  "kernelspec": {
   "display_name": "Python 3 (ipykernel)",
   "language": "python",
   "name": "python3"
  },
  "language_info": {
   "codemirror_mode": {
    "name": "ipython",
    "version": 3
   },
   "file_extension": ".py",
   "mimetype": "text/x-python",
   "name": "python",
   "nbconvert_exporter": "python",
   "pygments_lexer": "ipython3",
   "version": "3.11.7"
  }
 },
 "nbformat": 4,
 "nbformat_minor": 5
}
