{
 "cells": [
  {
   "cell_type": "markdown",
   "id": "5022733c-f89a-4c3d-84c2-8831d203185e",
   "metadata": {},
   "source": [
    "Add Fields in the Model\r\n",
    "To add a field to a table after it is created, open the models.py file, and make your changes\n",
    "Thêm trường trong mô hình\r\n",
    "Để thêm một trường vào bảng sau khi nó được tạo, hãy mở tệp models.pyvà thực hiện các thay đổi của bạn::"
   ]
  },
  {
   "cell_type": "code",
   "execution_count": null,
   "id": "bfafc48a-6425-482d-8a29-da414e0a16df",
   "metadata": {},
   "outputs": [],
   "source": [
    "my_tennis_club/members/models.py:\n",
    "\n",
    "from django.db import models\n",
    "\n",
    "class Member(models.Model):\n",
    "  firstname = models.CharField(max_length=255)\n",
    "  lastname = models.CharField(max_length=255)\n",
    "  phone = models.IntegerField()\n",
    "  joined_date = models.DateField()"
   ]
  },
  {
   "cell_type": "markdown",
   "id": "09462e0e-f22a-4cd9-a003-321468095c36",
   "metadata": {},
   "source": [
    "As you can see, we want to add phone and joined_date to our Member Model.\n",
    "Như bạn có thể thấy, chúng tôi muốn thêm phonevà joined_datevào Mô hình thành viên của mình.\n",
    "This is a change in the Model's structure, and therefor we have to make a migration to tell Django that it has to update the database:\n",
    "Đây là một sự thay đổi trong cấu trúc của Mô hình và do đó chúng tôi phải thực hiện di chuyển để thông báo cho Django rằng nó phải cập nhật cơ sở dữ liệu:\n",
    "py manage.py makemigrations members"
   ]
  },
  {
   "cell_type": "markdown",
   "id": "bcb13aa0-c88e-4a3c-b7e1-5f9e94bfbbf9",
   "metadata": {},
   "source": [
    "Which, in my case, will result in a prompt, because I try to add fields that are not allowed to be null, to a table that already contains records.\n",
    "\r\n",
    "As you can see, Django asks if I want to provide the fields with a specific value, or if I want to stop the migration and fix it in the mode\n",
    "Trong trường hợp của tôi, điều này sẽ dẫn đến lời nhắc vì tôi cố gắng thêm các trường không được phép rỗng vào bảng đã chứa bản ghi.\n",
    "\r\n",
    "Như bạn có thể thấy, Django hỏi liệu tôi có muốn cung cấp cho các trường một giá trị cụ thể hay tôi muốn dừng quá trình di chuyển và sửa nó trong mô hình:l:"
   ]
  },
  {
   "cell_type": "markdown",
   "id": "caf64467-daa6-4d11-b855-f9a8eb344f3c",
   "metadata": {},
   "source": [
    "py manage.py makemigrations members\r\n",
    "You are trying to add a non-nullable field 'joined_date' to members without a default; we can't do that (the database needs something to populate existing rows).\r\n",
    "Please select a fix:\r\n",
    " 1) Provide a one-off default now (will be set on all existing rows with a null value for this column)\r\n",
    " 2) Quit, and let me add a default in models.py\r\n",
    "Select an option:"
   ]
  },
  {
   "cell_type": "markdown",
   "id": "369798dd-f969-4e9f-ba89-cbe0cf8fa7b5",
   "metadata": {},
   "source": [
    "I will select option 2, and open the models.py file again and allow NULL values for the two new fields:\n",
    "Tôi sẽ chọn tùy chọn 2 và mở lại tệp models.py và cho phép giá trị NULL cho hai trường mới:"
   ]
  },
  {
   "cell_type": "markdown",
   "id": "60b7be9a-e49a-4ba5-824d-f646c1699f27",
   "metadata": {},
   "source": [
    "my_tennis_club/members/models.py:\n",
    "\n",
    "from django.db import models\n",
    "\n",
    "class Member(models.Model):\n",
    "  firstname = models.CharField(max_length=255)\n",
    "  lastname = models.CharField(max_length=255)\n",
    "  phone = models.IntegerField(null=True)\n",
    "  joined_date = models.DateField(null=True)"
   ]
  },
  {
   "cell_type": "markdown",
   "id": "7a4556ca-45fb-41d7-8d03-12fa10d13021",
   "metadata": {},
   "source": [
    "And make the migration once again:\n",
    "Và thực hiện di chuyển một lần nữa:"
   ]
  },
  {
   "cell_type": "markdown",
   "id": "c958d7c4-c893-42a5-ae25-993d2a4d58b2",
   "metadata": {},
   "source": [
    "py manage.py makemigrations members"
   ]
  },
  {
   "cell_type": "markdown",
   "id": "25797d6b-1c5a-4a13-b0e4-3ff6a9c641f2",
   "metadata": {},
   "source": [
    "Which will result in this:\n",
    "Điều này sẽ dẫn đến điều này:"
   ]
  },
  {
   "cell_type": "markdown",
   "id": "0b890568-f829-400e-8a6b-0047354c4049",
   "metadata": {},
   "source": [
    "Migrations for 'members':\n",
    "  members\\migrations\\0002_member_joined_date_member_phone.py\n",
    "    - Add field joined_date to member\n",
    "    - Add field phone to member"
   ]
  },
  {
   "cell_type": "code",
   "execution_count": null,
   "id": "d78b455a-cfc7-4b04-bcbe-03ce2422dae9",
   "metadata": {},
   "outputs": [],
   "source": [
    "Run the migrate command:\n",
    "Chạy lệnh di chuyển:"
   ]
  },
  {
   "cell_type": "markdown",
   "id": "d53300b9-859d-4a0a-b157-ed7db84aec16",
   "metadata": {},
   "source": [
    "py manage.py migrate"
   ]
  },
  {
   "cell_type": "markdown",
   "id": "f7a4bfd5-3edb-4053-8d94-51a6b6e159eb",
   "metadata": {},
   "source": [
    "Which will result in this output:\n",
    "Điều này sẽ dẫn đến kết quả đầu ra này:"
   ]
  },
  {
   "cell_type": "markdown",
   "id": "2ed742dd-18ba-4aef-9df1-63707558205a",
   "metadata": {},
   "source": [
    "Operations to perform:\n",
    "  Apply all migrations: admin, auth, contenttypes, members, sessions\n",
    "Running migrations:\n",
    "  Applying members.0002_member_joined_date_member_phone... OK\n",
    "\n",
    "(myworld) C:\\Users\\Your Name\\myworld\\my_tennis_club>"
   ]
  },
  {
   "cell_type": "markdown",
   "id": "651b8ec1-cd1b-4183-a52e-4186f02e94b0",
   "metadata": {},
   "source": [
    "Insert Data\r\n",
    "We can insert data to the two new fields with the same approach as we did in the Update Data chapter\n",
    "Chèn dữ liệu\r\n",
    "Chúng ta có thể chèn dữ liệu vào hai trường mới với cách tiếp cận tương tự như chúng ta đã làm trong chương Cập nhật dữ liệu ::"
   ]
  },
  {
   "cell_type": "markdown",
   "id": "d7b7f5b2-12dd-463b-bf02-8f9e9fb8ba4b",
   "metadata": {},
   "source": [
    "First we enter the Python Shell:\n",
    "Đầu tiên chúng ta vào Python Shell:\n",
    "py manage.py shell"
   ]
  },
  {
   "cell_type": "markdown",
   "id": "28337fa4-b4c3-49f2-a15e-cbe4e90c685e",
   "metadata": {},
   "source": [
    "Now we are in the shell, the result should be something like this:\n",
    "Bây giờ chúng ta đang ở trong shell, kết quả sẽ giống như thế này:"
   ]
  },
  {
   "cell_type": "markdown",
   "id": "987f7311-49a6-49da-9181-0ee16e6bf97c",
   "metadata": {},
   "source": [
    "Python 3.9.2 (tags/v3.9.2:1a79785, Feb 19 2021, 13:44:55) [MSC v.1928 64 bit (AMD64)] on win32\r\n",
    "Type \"help\", \"copyright\", \"credits\" or \"license\" for more information.\r\n",
    "(InteractiveConsole)\r\n",
    ">>>"
   ]
  },
  {
   "cell_type": "markdown",
   "id": "13aad66d-bfd1-4f24-b57c-a9493b0528ce",
   "metadata": {},
   "source": [
    "At the bottom, after the three >>> write the following (and hit [enter] for each line):\n",
    "Ở phía dưới, sau ba dòng >>>viết như sau (và nhấn [enter] cho mỗi dòng):\n",
    ">>> from members.models import Member\r\n",
    ">>> x = Member.objects.all()[0]\r\n",
    ">>> x.phone = 5551234\r\n",
    ">>> x.joined_date = '2022-01-05'\r\n",
    ">>> x.save()"
   ]
  },
  {
   "cell_type": "markdown",
   "id": "66a3b69f-a63c-48b1-88a3-b490b56e41e2",
   "metadata": {},
   "source": [
    "This will insert a phone number and a date in the Member Model, at least for the first record, the four remaining records will for now be left empty. We will deal with them later in the tutorial.\r",
    "Thao tác này sẽ chèn số điện thoại và ngày vào Mô hình Thành viên, ít nhất là đối với bản ghi đầu tiên, bốn bản ghi còn lại hiện sẽ được để trống. Chúng ta sẽ giải quyết chúng sau trong hướng dẫn.\n",
    "\r\n",
    "Execute this command to see if the Member table got update >>> Member.objects.all().values()\n",
    "Thực hiện lệnh này để xem bảng Member đã được cập nhật chưa:\n",
    ">>> Member.objects.all().values()d:"
   ]
  },
  {
   "cell_type": "markdown",
   "id": "942794dd-1f61-4420-9ce8-8699275234c3",
   "metadata": {},
   "source": [
    "The result should look like this:\n",
    "Kết quả sẽ trông như thế này:"
   ]
  },
  {
   "cell_type": "markdown",
   "id": "a3fab6cb-1690-493c-8c62-02b7cdb013fc",
   "metadata": {},
   "source": [
    "<QuerySet [\n",
    "{'id': 1, 'firstname': 'Emil', 'lastname': 'Refsnes', 'phone': 5551234, 'joined_date': datetime.date(2022, 1, 5)},\n",
    "{'id': 2, 'firstname': 'Tobias', 'lastname': 'Refsnes', 'phone': None, 'joined_date': None},\n",
    "{'id': 3, 'firstname': 'Linus', 'lastname': 'Refsnes', 'phone': None, 'joined_date': None},\n",
    "{'id': 4, 'firstname': 'Lene', 'lastname': 'Refsnes', 'phone': None, 'joined_date': None},\n",
    "{'id': 5, 'firstname': 'Stalikken', 'lastname': 'Refsnes', 'phone': None, 'joined_date': None}]>"
   ]
  },
  {
   "cell_type": "code",
   "execution_count": null,
   "id": "a6f185e2-1f13-48b1-b54a-c6b511a573a7",
   "metadata": {},
   "outputs": [],
   "source": []
  }
 ],
 "metadata": {
  "kernelspec": {
   "display_name": "Python 3 (ipykernel)",
   "language": "python",
   "name": "python3"
  },
  "language_info": {
   "codemirror_mode": {
    "name": "ipython",
    "version": 3
   },
   "file_extension": ".py",
   "mimetype": "text/x-python",
   "name": "python",
   "nbconvert_exporter": "python",
   "pygments_lexer": "ipython3",
   "version": "3.11.7"
  }
 },
 "nbformat": 4,
 "nbformat_minor": 5
}
