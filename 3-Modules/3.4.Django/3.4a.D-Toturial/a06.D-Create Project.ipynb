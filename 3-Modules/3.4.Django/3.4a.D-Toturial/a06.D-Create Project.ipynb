{
 "cells": [
  {
   "cell_type": "markdown",
   "id": "918d9aa6-22c3-4dc8-88ac-4965dcb94908",
   "metadata": {},
   "source": [
    "My First Project\r\n",
    "Once you have come up with a suitable name for your Django project, like mine: my_tennis_club, navigate to where in the file system you want to store the code (in the virtual environment), I will navigate to the myworld folder, and run this command in the command prompt:Dự án đầu tiên của tôi\r\n",
    "Khi bạn đã nghĩ ra một tên phù hợp cho dự án Django của mình, như của tôi: my_tennis_club, hãy điều hướng đến vị trí trong hệ thống tệp bạn muốn lưu trữ mã (trong môi trường ảo), tôi sẽ điều hướng đến thư myworldmục và chạy lệnh này trong dấu nhắc lệnh:\r\n",
    "\r\n",
    "django-admin startproject my_tennis_club"
   ]
  },
  {
   "cell_type": "markdown",
   "id": "2718dc41-5623-4b0f-9b91-9a93dc44efbb",
   "metadata": {},
   "source": [
    "Django creates a my_tennis_club folder on my computer, with this content:\n",
    "Django tạo một my_tennis_clubthư mục trên máy tính của tôi với nội dung sau:\n",
    "my_tennis_club\r\n",
    "    manage.py\r\n",
    "    my_tennis_club/\r\n",
    "        __init__.py\r\n",
    "        asgi.py\r\n",
    "        settings.py\r\n",
    "        urls.py\r\n",
    "        wsgi.py"
   ]
  },
  {
   "cell_type": "markdown",
   "id": "a0329d50-ed1a-42fc-8f6e-2c68064cd429",
   "metadata": {},
   "source": [
    "These are all files and folders with a specific meaning, you will learn about some of them later in this tutorial, but for now, it is more important to know that this is the location of your project, and that you can start building applications in it.\r",
    "Đây là tất cả các tệp và thư mục có ý nghĩa cụ thể, bạn sẽ tìm hiểu về một số trong số chúng sau trong hướng dẫn này, nhưng hiện tại, điều quan trọng hơn là phải biết rằng đây là vị trí dự án của bạn và bạn có thể bắt đầu xây dựng các ứng dụng trong Nó.\r\n"
   ]
  },
  {
   "cell_type": "markdown",
   "id": "a9d3eff0-b673-4082-b4ce-a11e0c0d3e68",
   "metadata": {},
   "source": [
    "Run the Django Project\r\n",
    "Now that you have a Django project, you can run it, and see what it looks like in a browser\r\n",
    "\r\n",
    "Navigate to the /my_tennis_club folder and execute this command in the command prom\n",
    "py manage.py runserver\n",
    "Chạy dự án Django\r\n",
    "Bây giờ bạn có một dự án Django, bạn có thể chạy nó và xem nó trông như thế nào trong trình duyệt\r\n",
    "\r\n",
    "Điều hướng đến /my_tennis_c lubthư mục và thực hiện lệnh này trong dấu nhắc lệh:\r\n",
    "\r\n",
    "py manage.py runserverpt:"
   ]
  },
  {
   "cell_type": "code",
   "execution_count": null,
   "id": "79cba34b-9763-44cc-99e1-6a085a802e57",
   "metadata": {},
   "outputs": [],
   "source": [
    "Which will produce this result:\n",
    "nào sẽ tạo ra kết quả này:\n",
    "Watching for file changes with StatReloader\n",
    "Performing system checks...\n",
    "\n",
    "System check identified no issues (0 silenced).\n",
    "\n",
    "You have 18 unapplied migration(s). Your project may not work properly until you apply the migrations for app(s): admin, auth, contenttypes, sessions.\n",
    "Run 'python manage.py migrate' to apply them.\n",
    "May 06, 2024 - 05:08:37\n",
    "Django version 4.2.11, using settings 'my_tennis_club.settings'\n",
    "Starting development server at http://127.0.0.1:8000/\n",
    "Quit the server with CTRL-BREAK."
   ]
  },
  {
   "cell_type": "code",
   "execution_count": null,
   "id": "eafa72ec-caad-4959-9dea-4ccd78e45e58",
   "metadata": {},
   "outputs": [],
   "source": [
    "Open a new browser window and type 127.0.0.1:8000 in the address bar.\n",
    "Mở một cửa sổ trình duyệt mới và gõ 127.0.0.1:8000 vào thanh địa chỉ."
   ]
  },
  {
   "cell_type": "code",
   "execution_count": null,
   "id": "7eea93ae-3cec-44cf-88b0-aaa1ad4883f7",
   "metadata": {},
   "outputs": [],
   "source": [
    "What's Next?\n",
    "We have a Django project!\n",
    "The next step is to make an app in your project.\n",
    "You cannot have a web page created with Django without an app.\n",
    "Cái gì tiếp theo?\n",
    "Chúng tôi có một dự án Django!\n",
    "Bước tiếp theo là tạo một ứng dụng trong dự án của bạn.\n",
    "Bạn không thể tạo trang web bằng Django mà không có ứng dụng."
   ]
  }
 ],
 "metadata": {
  "kernelspec": {
   "display_name": "Python 3 (ipykernel)",
   "language": "python",
   "name": "python3"
  },
  "language_info": {
   "codemirror_mode": {
    "name": "ipython",
    "version": 3
   },
   "file_extension": ".py",
   "mimetype": "text/x-python",
   "name": "python",
   "nbconvert_exporter": "python",
   "pygments_lexer": "ipython3",
   "version": "3.11.7"
  }
 },
 "nbformat": 4,
 "nbformat_minor": 5
}
