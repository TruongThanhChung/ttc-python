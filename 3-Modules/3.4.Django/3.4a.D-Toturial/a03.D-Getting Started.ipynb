{
 "cells": [
  {
   "cell_type": "markdown",
   "id": "11ef8f0e-0f96-408f-9bc5-212e64322706",
   "metadata": {},
   "source": [
    "To install Django, you must have Python installed, and a package manager like PIP.\r",
    "\r\n",
    "PIP is included in Python from version 3.\n",
    "Để cài đặt Django, bạn phải cài đặt Python và trình quản lý gói như PIP .\r",
    "\r\n",
    "PIP được bao gồm trong Python từ phiên bản 3.4.4."
   ]
  },
  {
   "cell_type": "markdown",
   "id": "775ec97c-f53b-4d3a-ae7c-2f5850beaba6",
   "metadata": {},
   "source": [
    "Django Requires Python\r\n",
    "To check if your system has Python installed, run this command in the command prompt \n",
    "\r\n",
    "python --vers\n",
    "Django Yêu cầu Python\r\n",
    "Để kiểm tra xem hệ thống của bạn đã cài đặt Python chưa, hãy chạy lệnh này trong dấu nhắc lệnh \n",
    "\r\n",
    "python --versionion"
   ]
  },
  {
   "cell_type": "code",
   "execution_count": null,
   "id": "9b284f89-c71d-466b-b9fc-7890f8546790",
   "metadata": {},
   "outputs": [],
   "source": [
    "If Python is installed, you will get a result with the version number, like this\n",
    "Python 3.9.2\n",
    "Nếu Python được cài đặt, bạn sẽ nhận được kết quả với số phiên bản, như thế này\n",
    "Python 3.9.2"
   ]
  },
  {
   "cell_type": "markdown",
   "id": "85160099-ca82-45bc-a651-e3be2322166b",
   "metadata": {},
   "source": [
    "If you find that you do not have Python installed on your computer, then you can download it for free from the following website: https://www.python.org/\n",
    "Nếu bạn thấy rằng mình chưa cài đặt Python trên máy tính thì bạn có thể tải xuống miễn phí từ trang web sau: https://www.python.org/"
   ]
  },
  {
   "cell_type": "markdown",
   "id": "09f3f592-ff6f-4ad4-946a-9baa872ba845",
   "metadata": {},
   "source": [
    "PIP\r\n",
    "To install Django, you must use a package manager like PIP, which is included in Python from version 3.4.\n",
    "\r\n",
    "To check if your system has PIP installed, run this command in the command prom :\r\n",
    "\r\n",
    "pip --ve\n",
    "PIP\r\n",
    "Để cài đặt Django, bạn phải sử dụng trình quản lý gói như PIP, được bao gồm trong Python từ phiên bản 3.4\r\n",
    "\r\n",
    "Để kiểm tra xem hệ thống của bạn đã cài đặt PIP chưa, hãy chạy lệnh này trong dấu nhắc lệ :\r\n",
    "\r\n",
    "pip sionrsion"
   ]
  },
  {
   "cell_type": "markdown",
   "id": "1d02a9b4-2f4b-44f0-9167-1c6d7bad657a",
   "metadata": {},
   "source": [
    "If PIP is installed, you will get a result with the version number.\n",
    "\r\n",
    "For me, on a windows machine, the result looks like thi:\r\n",
    "\r\n",
    "pip 20.2.3 from c:\\python39\\lib\\site-packages\\pip (python \n",
    "Nếu PIP được cài đặt, bạn sẽ nhận được kết quả kèm theo số phiên bản.\n",
    "\r\n",
    "Đối với tôi, trên máy Windows, kết quả trông như thế nà:\r\n",
    "\r\n",
    "pip 20.2.3 from c:\\python39\\lib\\site-packages\\pip (python 3.9)3.9)"
   ]
  },
  {
   "cell_type": "markdown",
   "id": "6b10bc98-98c7-4167-83b5-46c7e1f358c6",
   "metadata": {},
   "source": [
    "If you do not have PIP installed, you can download and install it from this page: https://pypi.org/project/pip/\n",
    "Nếu bạn chưa cài đặt PIP, bạn có thể tải xuống và cài đặt nó từ trang này: https://pypi.org/project/pip/"
   ]
  },
  {
   "cell_type": "markdown",
   "id": "285783fb-4ad1-4389-bbba-8c5183b26399",
   "metadata": {},
   "source": [
    "Virtual Environment\r\n",
    "It is suggested to have a dedicated virtual environment for each Django project, and in the next chapter you will learn how to create a virtual environment, and then install Django in it\n",
    "Môi trường ảo\r\n",
    "Chúng tôi khuyên bạn nên có một môi trường ảo dành riêng cho từng dự án Django và trong chương tiếp theo , bạn sẽ tìm hiểu cách tạo môi trường ảo và sau đó cài đặt Django trong đó.."
   ]
  }
 ],
 "metadata": {
  "kernelspec": {
   "display_name": "Python 3 (ipykernel)",
   "language": "python",
   "name": "python3"
  },
  "language_info": {
   "codemirror_mode": {
    "name": "ipython",
    "version": 3
   },
   "file_extension": ".py",
   "mimetype": "text/x-python",
   "name": "python",
   "nbconvert_exporter": "python",
   "pygments_lexer": "ipython3",
   "version": "3.11.7"
  }
 },
 "nbformat": 4,
 "nbformat_minor": 5
}
