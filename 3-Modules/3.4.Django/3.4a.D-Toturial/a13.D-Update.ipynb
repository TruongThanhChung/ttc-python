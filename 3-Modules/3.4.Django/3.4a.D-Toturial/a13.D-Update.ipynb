{
 "cells": [
  {
   "cell_type": "markdown",
   "id": "78357725-3424-40d5-af4d-d00071412ed9",
   "metadata": {},
   "source": [
    "Update Records\r\n",
    "To update records that are already in the database, we first have to get the record we want to update\n",
    "Cập nhật hồ sơ\r\n",
    "Để cập nhật các bản ghi đã có trong cơ sở dữ liệu, trước tiên chúng ta phải lấy bản ghi mà chúng ta muốn cập nhật::"
   ]
  },
  {
   "cell_type": "markdown",
   "id": "abaa0a2c-1838-4f63-9699-a71bc1972b3c",
   "metadata": {},
   "source": [
    ">>> from members.models import Member\n",
    ">>> x = Member.objects.all()[4]"
   ]
  },
  {
   "cell_type": "markdown",
   "id": "7491e010-d82b-4951-bdf0-7e650e7dcfcd",
   "metadata": {},
   "source": [
    "x will now represent the member at index 4, which is \"Stale Refsnes\", but to make sure, let us see if that is correct:\n",
    "x bây giờ sẽ đại diện cho thành viên ở chỉ số 4, là \"Stale Refsnes\", nhưng để chắc chắn, chúng ta hãy xem điều đó có đúng không:"
   ]
  },
  {
   "cell_type": "markdown",
   "id": "b763e043-35ab-4478-8601-ed0f1013eaed",
   "metadata": {},
   "source": [
    ">>> x.firstname"
   ]
  },
  {
   "cell_type": "markdown",
   "id": "a616cec8-590a-4709-a3dc-8538672175e7",
   "metadata": {},
   "source": [
    "This should give you this result:\n",
    "Điều này sẽ cho bạn kết quả này:"
   ]
  },
  {
   "cell_type": "markdown",
   "id": "b0df95bd-ade0-49db-812b-31109dd594a4",
   "metadata": {},
   "source": [
    "'Stale'"
   ]
  },
  {
   "cell_type": "markdown",
   "id": "766befb7-61d4-4ffb-927b-b257fe979d1a",
   "metadata": {},
   "source": [
    "Now we can change the values of this record:\n",
    "Bây giờ chúng ta có thể thay đổi giá trị của bản ghi này:"
   ]
  },
  {
   "cell_type": "markdown",
   "id": "52bcfb9b-4582-4aff-8fa0-1015a5fe5041",
   "metadata": {},
   "source": [
    ">>> x.firstname = \"Stalikken\"\n",
    ">>> x.save()"
   ]
  },
  {
   "cell_type": "markdown",
   "id": "104f07a9-e2b8-4aaf-9089-9055c0f72def",
   "metadata": {},
   "source": [
    "Execute this command to see if the Member table got updated:\n",
    "Thực hiện lệnh này để xem bảng Member đã được cập nhật chưa:"
   ]
  },
  {
   "cell_type": "markdown",
   "id": "a2a37596-eedb-4c53-921e-3c62fe7ddeb4",
   "metadata": {},
   "source": [
    ">>> Member.objects.all().values()"
   ]
  },
  {
   "cell_type": "markdown",
   "id": "d08d43d3-2579-4e18-b464-6b607c62de63",
   "metadata": {},
   "source": [
    "Hopefully, the result will look like this:\n",
    "Hy vọng rằng, kết quả sẽ như thế này:"
   ]
  },
  {
   "cell_type": "markdown",
   "id": "ea481bac-ebde-401e-b452-ab123ec35fb2",
   "metadata": {},
   "source": [
    "<QuerySet [{'id': 1, 'firstname': 'Emil', 'lastname': 'Refsnes'},\n",
    "{'id': 2, 'firstname': 'Tobias', 'lastname': 'Refsnes'},\n",
    "{'id': 3, 'firstname': 'Linus', 'lastname': 'Refsnes'},\n",
    "{'id': 4, 'firstname': 'Lene', 'lastname': 'Refsnes'},\n",
    "{'id': 5, 'firstname': 'Stalikken', 'lastname': 'Refsnes'},\n",
    "{'id': 6, 'firstname': 'Jane', 'lastname': 'Doe'}]>"
   ]
  }
 ],
 "metadata": {
  "kernelspec": {
   "display_name": "Python 3 (ipykernel)",
   "language": "python",
   "name": "python3"
  },
  "language_info": {
   "codemirror_mode": {
    "name": "ipython",
    "version": 3
   },
   "file_extension": ".py",
   "mimetype": "text/x-python",
   "name": "python",
   "nbconvert_exporter": "python",
   "pygments_lexer": "ipython3",
   "version": "3.11.7"
  }
 },
 "nbformat": 4,
 "nbformat_minor": 5
}
