{
 "cells": [
  {
   "cell_type": "markdown",
   "id": "b9f77ff3-8e61-4d99-beb7-7db966b3ae19",
   "metadata": {},
   "source": [
    "Django is a back-end server side web framework.\r",
    "\r\n",
    "Django is free, open source and written in Pytho.\r\n",
    "\r\n",
    "Django makes it easier to build web pages using Pyt\n",
    "Django là một khung web phía máy chủ phụ trợ.\n",
    "\r\n",
    "Django miễn phí, mã nguồn mở và được viết bằng Pytho.\r\n",
    "\r\n",
    "Django giúp việc xây dựng trang web bằng Python trở nên dễ dàng ơn.on.\r\n",
    "\r\n"
   ]
  },
  {
   "cell_type": "markdown",
   "id": "64e4785f-823a-41fe-ba8f-8f251a45977d",
   "metadata": {},
   "source": [
    "Learning by Doing\r\n",
    "In this tutorial you get a step by step guide on how to install and create a Django project. You will learn how to create a project where you can add, read, update or delete data.\n",
    "\r\n",
    "You will learn how to make HTML Templates and use Django Template Tags to insert data within a HTML documen.\r\n",
    "\r\n",
    "You will learn how to work with QuerySets to extract, filter, and sort data from the databse.\r\n",
    "\r\n",
    "You will also learn how to set up a PostgreSQL database and how to deploy your Django project to the\n",
    "Vừa học vừa làm\r\n",
    "Trong hướng dẫn này, bạn sẽ được hướng dẫn từng bước về cách cài đặt và tạo dự án Django. Bạn sẽ học cách tạo một dự án nơi bạn có thể thêm, đọc, cập nhật hoặc xóa dữ liệu\r\n",
    "\r\n",
    "Bạn sẽ tìm hiểu cách tạo Mẫu HTML và sử dụng Thẻ mẫu Django để chèn dữ liệu vào tài liệu HTL.\r\n",
    "\r\n",
    "Bạn sẽ tìm hiểu cách làm việc với QuerySets để trích xuất, lọc và sắp xếp dữ liệu từ cơ sở dữ iệu.\r\n",
    "\r\n",
    "Bạn cũng sẽ tìm hiểu cách thiết lập cơ sở dữ liệu PostgreSQL và cách triển khai dự án Django của bạn ra thế giới. world."
   ]
  }
 ],
 "metadata": {
  "kernelspec": {
   "display_name": "Python 3 (ipykernel)",
   "language": "python",
   "name": "python3"
  },
  "language_info": {
   "codemirror_mode": {
    "name": "ipython",
    "version": 3
   },
   "file_extension": ".py",
   "mimetype": "text/x-python",
   "name": "python",
   "nbconvert_exporter": "python",
   "pygments_lexer": "ipython3",
   "version": "3.11.7"
  }
 },
 "nbformat": 4,
 "nbformat_minor": 5
}
