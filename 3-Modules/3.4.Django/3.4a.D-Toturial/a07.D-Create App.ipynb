{
 "cells": [
  {
   "cell_type": "markdown",
   "id": "b25c3e69-81f0-4be7-9e78-befb0816ad54",
   "metadata": {},
   "source": [
    "What is an App?\r\n",
    "An app is a web application that has a specific meaning in your project, like a home page, a contact form, or a members database.\n",
    "\r\n",
    "In this tutorial we will create an app that allows us to list and register members in a databae.\r\n",
    "\r\n",
    "But first, let's just create a simple Django app that displays \"Hello Wor\n",
    "Ứng dụng là gì?\r\n",
    "Ứng dụng là một ứng dụng web có ý nghĩa cụ thể trong dự án của bạn, như trang chủ, biểu mẫu liên hệ hoặc cơ sở dữ liệu thành viên.\n",
    "\r\n",
    "Trong hướng dẫn này, chúng ta sẽ tạo một ứng dụng cho phép liệt kê và đăng ký thành viên trong cơ sở dữ liu.\r\n",
    "\r\n",
    "Nhưng trước tiên, hãy tạo một ứng dụng Django đơn giản hiển thị \"Xin chào thế giới!\".ld!\"."
   ]
  },
  {
   "cell_type": "markdown",
   "id": "8f43c8a5-3de8-4460-ac10-17e1d573d819",
   "metadata": {},
   "source": [
    "Create App\r\n",
    "I will name my app members.\n",
    "\r\n",
    "Start by navigating to the selected location where you want to store the app, in my case the my_tennis_club folder, and run the command belo.\r\n",
    "\r\n",
    "If the server is still running, and you are not able to write commands, press [CTRL] [BREAK], or [CTRL] [C] to stop the server and you should be back in the virtual environmnt.\r\n",
    "\r\n",
    "py manage.py startapp \n",
    "Tạo ứng dụng\r\n",
    "Tôi sẽ đặt tên cho ứng dụng của mình members\r\n",
    "\r\n",
    "Bắt đầu bằng cách điều hướng đến vị trí đã chọn nơi bạn muốn lưu trữ ứng dụng, trong trường hợp của tôi là my_tennis_c lubthư mục và chạy lệnh bên dưi.\r\n",
    "\r\n",
    "Nếu máy chủ vẫn đang chạy và bạn không thể viết lệnh, hãy nhấn [CTRL] [BREAK] hoặc [CTRL] [C] để dừng máy chủ và bạn sẽ quay lại môi trườn\n",
    "py manage.py startapp membersg ảo.members"
   ]
  },
  {
   "cell_type": "markdown",
   "id": "5be2a347-531e-40d3-83b3-31f00969c7f5",
   "metadata": {},
   "source": [
    "Django creates a folder named members in my project, with this content:\n",
    "Django tạo một thư mục có tên memberstrong dự án của tôi, với nội dung này:\n",
    "my_tennis_club\r\n",
    "    manage.py\r\n",
    "    my_tennis_club/\r\n",
    "    members/\r\n",
    "        migrations/\r\n",
    "            __init__.py\r\n",
    "        __init__.py\r\n",
    "        admin.py\r\n",
    "        apps.py\r\n",
    "        models.py\r\n",
    "        tests.py\r\n",
    "        views.py"
   ]
  },
  {
   "cell_type": "markdown",
   "id": "53a2d788-01fd-4fea-aa35-4985742dcfe6",
   "metadata": {},
   "source": [
    "These are all files and folders with a specific meaning. You will learn about most of them later in this tutorial.\r",
    "\r\n",
    "First, take a look at the file called views.py\r\n",
    "\r\n",
    "This is where we gather the information we need to send back a proper respone.\r\n",
    "\r\n",
    "You will learn more about views in the next ch\n",
    "Đây là tất cả các tập tin và thư mục có ý nghĩa cụ thể. Bạn sẽ tìm hiểu về hầu hết chúng sau trong hướng dẫn này.\r",
    "\r\n",
    "Đầu tiên, hãy xem tệp có tên views.p.\r\n",
    "\r\n",
    "Đây là nơi chúng tôi thu thập thông tin cần thiết để gửi lại phản hồi thích ợp.\r\n",
    "\r\n",
    "Bạn sẽ tìm hiểu thêm về các khung nhìn trong chương tiếp theo .apter."
   ]
  }
 ],
 "metadata": {
  "kernelspec": {
   "display_name": "Python 3 (ipykernel)",
   "language": "python",
   "name": "python3"
  },
  "language_info": {
   "codemirror_mode": {
    "name": "ipython",
    "version": 3
   },
   "file_extension": ".py",
   "mimetype": "text/x-python",
   "name": "python",
   "nbconvert_exporter": "python",
   "pygments_lexer": "ipython3",
   "version": "3.11.7"
  }
 },
 "nbformat": 4,
 "nbformat_minor": 5
}
