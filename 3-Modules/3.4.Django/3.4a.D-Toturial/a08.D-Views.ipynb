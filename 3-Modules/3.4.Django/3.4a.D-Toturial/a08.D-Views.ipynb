{
 "cells": [
  {
   "cell_type": "markdown",
   "id": "47cda55d-f3dd-4091-92c6-8de9adae9fec",
   "metadata": {},
   "source": [
    "Views\r\n",
    "Django views are Python functions that takes http requests and returns http response, like HTML documents.\n",
    "\r\n",
    "A web page that uses Django is full of views with different tasks and missios.\r\n",
    "\r\n",
    "Views are usually put in a file called views.py located on your app's foder.\r\n",
    "\r\n",
    "There is a views.py in your members folder that looks lik my_tennis_club/members/views.py:\n",
    "Lượt xem\r\n",
    "Chế độ xem Django là các hàm Python nhận yêu cầu http và trả về phản hồi http, giống như tài liệu HTML\r\n",
    "\r\n",
    "Một trang web sử dụng Django có rất nhiều lượt xem với các nhiệm vụ và nhiệm vụ khác nhu.\r\n",
    "\r\n",
    "Chế độ xem thường được đặt trong một tệp có tên view s.pynằm trong thư mục ứng dụng củabạn.\r\n",
    "\r\n",
    "v iews.pyTrong thư mục của bạn có một cái  memberstrông như t my_tennis_club/members/views.py:hế này:e this:"
   ]
  },
  {
   "cell_type": "code",
   "execution_count": 1,
   "id": "83c8af1e-7894-4d91-b288-8f90052df88c",
   "metadata": {},
   "outputs": [
    {
     "ename": "ModuleNotFoundError",
     "evalue": "No module named 'django'",
     "output_type": "error",
     "traceback": [
      "\u001b[1;31m---------------------------------------------------------------------------\u001b[0m",
      "\u001b[1;31mModuleNotFoundError\u001b[0m                       Traceback (most recent call last)",
      "Cell \u001b[1;32mIn[1], line 1\u001b[0m\n\u001b[1;32m----> 1\u001b[0m \u001b[38;5;28;01mfrom\u001b[39;00m \u001b[38;5;21;01mdjango\u001b[39;00m\u001b[38;5;21;01m.\u001b[39;00m\u001b[38;5;21;01mshortcuts\u001b[39;00m \u001b[38;5;28;01mimport\u001b[39;00m render\n",
      "\u001b[1;31mModuleNotFoundError\u001b[0m: No module named 'django'"
     ]
    }
   ],
   "source": [
    "my_tennis_club/members/views.py:\n",
    "from django.shortcuts import render\n",
    "# Create your views here."
   ]
  },
  {
   "cell_type": "code",
   "execution_count": null,
   "id": "dda76db1-8bef-4155-bd05-f8bb7ea85f07",
   "metadata": {},
   "outputs": [],
   "source": [
    "Find it and open it, and replace the content with this:\n",
    "Tìm nó và mở nó và thay thế nội dung bằng nội dung này:\n",
    "my_tennis_club/members/views.py:\n",
    "\n",
    "from django.shortcuts import render\n",
    "from django.http import HttpResponse\n",
    "\n",
    "def members(request):\n",
    "    return HttpResponse(\"Hello world!\")"
   ]
  },
  {
   "cell_type": "markdown",
   "id": "edc78a0d-032f-4e5d-bcc9-b7218b55dff0",
   "metadata": {},
   "source": [
    "Note: The name of the view does not have to be the same as the application.\r",
    "\r\n",
    "I call it members because I think it fits well in this contex\n",
    "Lưu ý: Tên của chế độ xem không nhất thiết phải giống với tên ứng dụng.\n",
    "\r\n",
    "Tôi gọi nó membe rsvì tôi nghĩ nó phù hợp với bối cảnh này.t."
   ]
  },
  {
   "cell_type": "markdown",
   "id": "ac6951b3-9e67-41f8-a3fb-022109789858",
   "metadata": {},
   "source": [
    "This is a simple example on how to send a response back to the browser.\n",
    "\r\n",
    "But how can we execute the view? Well, we must call the view via a UR.\r\n",
    "\r\n",
    "You will learn about URLs in the next chap\n",
    "Đây là một ví dụ đơn giản về cách gửi phản hồi trở lại trình duyệt.\r",
    "\r\n",
    "Nhưng làm cách nào chúng ta có thể thực thi chế độ xem? Chà, chúng ta phải gọi chế độ xem thông qua một UR.\r\n",
    "\r\n",
    "Bạn sẽ tìm hiểu về URL trong chương tiếp th .ter.\r\n",
    "\r\n"
   ]
  },
  {
   "cell_type": "code",
   "execution_count": null,
   "id": "a7e5cd00-6b07-453a-8c18-eb4054efa034",
   "metadata": {},
   "outputs": [],
   "source": []
  }
 ],
 "metadata": {
  "kernelspec": {
   "display_name": "Python 3 (ipykernel)",
   "language": "python",
   "name": "python3"
  },
  "language_info": {
   "codemirror_mode": {
    "name": "ipython",
    "version": 3
   },
   "file_extension": ".py",
   "mimetype": "text/x-python",
   "name": "python",
   "nbconvert_exporter": "python",
   "pygments_lexer": "ipython3",
   "version": "3.11.7"
  }
 },
 "nbformat": 4,
 "nbformat_minor": 5
}
