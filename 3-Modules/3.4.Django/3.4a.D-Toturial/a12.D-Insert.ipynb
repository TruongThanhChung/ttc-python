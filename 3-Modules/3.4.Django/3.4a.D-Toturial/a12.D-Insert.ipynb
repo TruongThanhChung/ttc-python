{
 "cells": [
  {
   "cell_type": "markdown",
   "id": "97ecba62-4fe4-40fe-a624-f32209f20ef5",
   "metadata": {},
   "source": [
    "Add Records\r\n",
    "The Members table created in the previous chapter is empty.\n",
    "\r\n",
    "We will use the Python interpreter (Python shell) to add some members to i.\r\n",
    "\r\n",
    "To open a Python shell, type this com py manage.py shell\n",
    "Thêm bản ghi\r\n",
    "Bảng Member được tạo ở chương trước trống\r\n",
    "\r\n",
    "Chúng tôi sẽ sử dụng trình thông dịch Python (Python shell) để thêm một số thành viên vào ó.\r\n",
    "\r\n",
    "Để mở shell Python, gõ lệnh py manage.py shell này:mand:"
   ]
  },
  {
   "cell_type": "markdown",
   "id": "5f9610f8-fa4a-45c8-bc04-d9cf1bc1e347",
   "metadata": {},
   "source": [
    "Now we are in the shell, the result should be something like this:\n",
    "Bây giờ chúng ta đang ở trong shell, kết quả sẽ giống như thế này:"
   ]
  },
  {
   "cell_type": "markdown",
   "id": "4eccc127-fcd8-4a3e-a540-183676f306c8",
   "metadata": {},
   "source": [
    "Python 3.9.2 (tags/v3.9.2:1a79785, Feb 19 2021, 13:44:55) [MSC v.1928 64 bit (AMD64)] on win32\r\n",
    "Type \"help\", \"copyright\", \"credits\" or \"license\" for more information.\r\n",
    "(InteractiveConsole)\r\n",
    ">>>"
   ]
  },
  {
   "cell_type": "markdown",
   "id": "2c6462aa-b374-4367-8871-970c5ef0a77a",
   "metadata": {},
   "source": [
    "At the bottom, after the three >>> write the following: >>> from members.models import Member\n",
    "Ở phía dưới, sau ba >>> viết như sau: >>> from members.models import Member"
   ]
  },
  {
   "cell_type": "markdown",
   "id": "2df17afe-2b44-407e-94b3-47046247ef2d",
   "metadata": {},
   "source": [
    "Hit [enter] and write this to look at the empty Member table: Member.objects.all()\n",
    "Nhấn [enter] và viết dòng này để xem bảng Thành viên trống: Member.objects.all()"
   ]
  },
  {
   "cell_type": "markdown",
   "id": "f0615026-63c4-492f-b2c0-76eabb25564a",
   "metadata": {},
   "source": [
    "This should give you an empty QuerySet object, like this:\n",
    "Điều này sẽ cung cấp cho bạn một đối tượng QuerySet trống, như thế này:"
   ]
  },
  {
   "cell_type": "markdown",
   "id": "ad43ce86-e6e5-466d-8d75-73a20d31a33b",
   "metadata": {},
   "source": [
    "<QuerySet []>"
   ]
  },
  {
   "cell_type": "markdown",
   "id": "992160bc-df7e-476b-a608-34f4c2005f3f",
   "metadata": {},
   "source": [
    "A QuerySet is a collection of data from a database. Read more about QuerySets in the Django QuerySet chapter.\n",
    "QuerySet là tập hợp dữ liệu từ cơ sở dữ liệu. \r\n",
    "Đọc thêm về Bộ truy vấn trong chương Bộ truy vấn Django\r",
    "au:\n",
    "nes:"
   ]
  },
  {
   "cell_type": "code",
   "execution_count": null,
   "id": "f98002c4-bfa4-4230-897f-44c95f1a7d64",
   "metadata": {},
   "outputs": [],
   "source": [
    "Add a record to the table, by executing these two lines:\n",
    "Thêm bản ghi vào bảng bằng cách thực hiện hai dòng sau:\n",
    ">>> member = Member(firstname='Emil', lastname='Refsnes')\n",
    ">>> member.save()"
   ]
  },
  {
   "cell_type": "markdown",
   "id": "b895be7d-f257-4e7d-8f1a-72f11e7970ff",
   "metadata": {},
   "source": [
    "Execute this command to see if the Member table got a member:\n",
    "Thực hiện lệnh này để xem bảng Thành viên có thành viên hay không:\n",
    ">>> Member.objects.all().values()"
   ]
  },
  {
   "cell_type": "markdown",
   "id": "0a4d96bf-f021-4ccb-b259-39e1ccb29242",
   "metadata": {},
   "source": [
    "Hopefully, the result will look like this:\n",
    "Hy vọng rằng, kết quả sẽ như thế này:\n",
    "<QuerySet [{'id': 1, 'firstname': 'Emil', 'lastname': 'Refsnes'}]>"
   ]
  },
  {
   "cell_type": "markdown",
   "id": "abe0183c-5483-474a-acea-6abb597ffc0d",
   "metadata": {},
   "source": [
    "Add Multiple Records\r\n",
    "You can add multiple records by making a list of Member objects, and execute .save() on each entry\n",
    "Thêm nhiều bản ghi\r\n",
    "Bạn có thể thêm nhiều bản ghi bằng cách tạo danh sách Member các đối tượng và thực thi .save( )trên mỗi mục\n",
    ">>> member1 = Member(firstname='Tobias', lastname='Refsnes')\r\n",
    ">>> member2 = Member(firstname='Linus', lastname='Refsnes')\r\n",
    ">>> member3 = Member(firstname='Lene', lastname='Refsnes')\r\n",
    ">>> member4 = Member(firstname='Stale', lastname='Refsnes')\r\n",
    ">>> member5 = Member(firstname='Jane', lastname='Doe')\r\n",
    ">>> members_list = [member1, member2, member3, member4, member5]\r\n",
    ">>> for x in members_list:\r\n",
    ">>>   x.save()::"
   ]
  },
  {
   "cell_type": "markdown",
   "id": "8f9e7007-759c-4fa1-87d3-6be62a3a8977",
   "metadata": {},
   "source": [
    "Now there are 6 members in the Member table:\n",
    "Bây giờ có 6 thành viên trong bảng Member:\n",
    "<QuerySet [{'id': 1, 'firstname': 'Emil', 'lastname': 'Refsnes'}, {'id': 2, 'firstname': 'Tobias', 'lastname': 'Refsnes'}, {'id': 3, 'firstname': 'Linus', 'lastname': 'Refsnes'}, {'id': 4, 'firstname': 'Lene', 'lastname': 'Refsnes'}, {'id': 5, 'firstname': 'Stale', 'lastname': 'Refsnes'}, {'id': 6, 'firstname': 'Jane', 'lastname': 'Doe'}]>"
   ]
  }
 ],
 "metadata": {
  "kernelspec": {
   "display_name": "Python 3 (ipykernel)",
   "language": "python",
   "name": "python3"
  },
  "language_info": {
   "codemirror_mode": {
    "name": "ipython",
    "version": 3
   },
   "file_extension": ".py",
   "mimetype": "text/x-python",
   "name": "python",
   "nbconvert_exporter": "python",
   "pygments_lexer": "ipython3",
   "version": "3.11.7"
  }
 },
 "nbformat": 4,
 "nbformat_minor": 5
}
