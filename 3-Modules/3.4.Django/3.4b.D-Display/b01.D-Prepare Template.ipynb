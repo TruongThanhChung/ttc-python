{
 "cells": [
  {
   "cell_type": "markdown",
   "id": "56b78cdf-6584-42d5-bf96-7767fedbbf2a",
   "metadata": {},
   "source": [
    "Create Template\r\n",
    "After creating Models, with the fields and data we want in them, it is time to display the data in a web page.\n",
    "\r\n",
    "Start by creating an HTML file named all_members.html and place it in the /templates/ fold\n",
    "Tạo mẫu\r\n",
    "Sau khi tạo Mô hình, với các trường và dữ liệu mà chúng ta muốn có trong đó, đã đến lúc hiển thị dữ liệu trong trang web.\n",
    "\r\n",
    "Bắt đầu bằng cách tạo một tệp HTML có tên all_members.h tmlvà đặt nó  thư mụcvào /templat mục:er:"
   ]
  },
  {
   "cell_type": "markdown",
   "id": "89f7b221-6fd1-4682-b717-01430bbe356b",
   "metadata": {},
   "source": [
    "my_tennis_club/members/templates/all_members.html:\r\n",
    "\r\n",
    "<!DOCTYPE html>\r\n",
    "<html>\r\n",
    "<body>\r\n",
    "\r\n",
    "<h1>Members</h1>\r\n",
    "  \r\n",
    "<ul>\r\n",
    "  {% for x in mymembers %}\r\n",
    "    <li>{{ x.firstname }} {{ x.lastname }}</li>\r\n",
    "  {% endfor %}\r\n",
    "</ul>\r\n",
    "\r\n",
    "</body>\r\n",
    "</html>"
   ]
  },
  {
   "cell_type": "markdown",
   "id": "6d4c4277-cb7c-4b52-a1b4-a86ab387055b",
   "metadata": {},
   "source": [
    "Do you see the {% %} brackets inside the HTML document?\n",
    "\r\n",
    "They are Django Tags, telling Django to perform some programming logic inside these bracket.\r\n",
    "\r\n",
    "You will learn more about Django Tags in our Django Tags chap\n",
    "Bạn có thấy {% %} dấu ngoặc bên trong tài liệu HTML không?\n",
    "\r\n",
    "Chúng là Thẻ Django, yêu cầu Django thực hiện một số logic lập trình bên trong các dấu ngoặc nà.\r\n",
    "\r\n",
    "Bạn sẽ tìm hiểu thêm về Thẻ Django trong chương Thẻ Django của chúng tôi .ter."
   ]
  },
  {
   "cell_type": "markdown",
   "id": "83536f25-d4b2-4ff8-aefd-6d3a7f4af67d",
   "metadata": {},
   "source": [
    "Modify View\r\n",
    "Next we need to make the model data available in the template. This is done in the view\r\n",
    "\r\n",
    "In the view we have to import the Member model, and send it to the template like th\n",
    "Sửa đổi chế độ xem\r\n",
    "Tiếp theo chúng ta cần cung cấp dữ liệu mô hình trong mẫu. Điều này được thực hiện trong khung nhìn\r\n",
    "\r\n",
    "Trong khung nhìn, chúng ta phải nhập hình mô Memình và gửi nó đến mẫu như thế này:is:"
   ]
  },
  {
   "cell_type": "markdown",
   "id": "13f29c59-10b6-4a83-9fde-b4e739506131",
   "metadata": {},
   "source": [
    "my_tennis_club/members/views.py:\n",
    "\n",
    "from django.http import HttpResponse\n",
    "from django.template import loader\n",
    "from .models import Member\n",
    "\n",
    "def members(request):\n",
    "  mymembers = Member.objects.all().values()\n",
    "  template = loader.get_template('all_members.html')\n",
    "  context = {\n",
    "    'mymembers': mymembers,\n",
    "  }\n",
    "  return HttpResponse(template.render(context, request))"
   ]
  },
  {
   "cell_type": "markdown",
   "id": "1f0f2ea6-7ac8-4348-8e38-a54eeff00531",
   "metadata": {},
   "source": [
    "The members view does the following:\r",
    "\r\n",
    "Creates a mymembers object with all the values of the Member model.\r\n",
    "Loads the all_members.html template.\r\n",
    "Creates an object containing the mymembers object.\r\n",
    "Sends the object to the template.\r\n",
    "Outputs the HTML that is rendered by the tem\n",
    "Chế độ xem members thực hiện như sau:\n",
    "\r\n",
    "Tạo m tượngột mymembeng với tất cả các giá trị c mô hìnhủa Memb.h.\r\n",
    " mẫuTải all_members.hẫu.\r\n",
    "Tạo một đối tượng  đối tượngchứa mymemượng đó.\r\n",
    "Gửi đối tượng đến mẫu.\r\n",
    "Xuất ra HTML được mẫu hiển thị.plate."
   ]
  },
  {
   "cell_type": "markdown",
   "id": "f9f8b2dc-7c29-429d-b039-4b6dd1e5f85b",
   "metadata": {},
   "source": [
    "The Result\r\n",
    "We have created an example so that you can see the result\n",
    "Kết quả\r\n",
    "Chúng tôi đã tạo một ví dụ để bạn có thể xem kết quả::"
   ]
  },
  {
   "cell_type": "code",
   "execution_count": null,
   "id": "9bba5f34-5b2d-4723-b306-e475411a427d",
   "metadata": {},
   "outputs": [],
   "source": [
    "If you have followed all the steps on your own computer, you can see the result in your own browser:\n",
    "Start the server by navigating to the /my_tennis_club/ folder and execute this command:\n",
    "Nếu bạn đã làm theo tất cả các bước trên máy tính của mình, bạn có thể xem kết quả trong trình duyệt của riêng mình:\n",
    "Khởi động máy chủ bằng cách điều hướng đến /my_tennis_club/ thư mục và thực hiện lệnh này:\n",
    "py manage.py runserver"
   ]
  },
  {
   "cell_type": "markdown",
   "id": "26460fcc-84f0-401f-8ccc-e2bffa780f2d",
   "metadata": {},
   "source": [
    "In the browser window, type 127.0.0.1:8000/members/ in the address bar.\n",
    "Trong cửa sổ trình duyệt, gõ 127.0.0.1:8000/members/vào thanh địa chỉ."
   ]
  }
 ],
 "metadata": {
  "kernelspec": {
   "display_name": "Python 3 (ipykernel)",
   "language": "python",
   "name": "python3"
  },
  "language_info": {
   "codemirror_mode": {
    "name": "ipython",
    "version": 3
   },
   "file_extension": ".py",
   "mimetype": "text/x-python",
   "name": "python",
   "nbconvert_exporter": "python",
   "pygments_lexer": "ipython3",
   "version": "3.11.7"
  }
 },
 "nbformat": 4,
 "nbformat_minor": 5
}
