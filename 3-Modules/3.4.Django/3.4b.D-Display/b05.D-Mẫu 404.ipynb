{
 "cells": [
  {
   "cell_type": "markdown",
   "id": "300d1209-e86e-454d-9207-597db7d08d97",
   "metadata": {},
   "source": [
    "Page Not Found\r\n",
    "If you try to access a page that does not exist (a 404 error), Django directs you to a built-in view that handles 404 errors.\n",
    "\r\n",
    "You will learn how to customize this 404 view later in this chapter, but first, just try to request a page that does not exis.\r\n",
    "\r\n",
    "In the browser window, type 127.0.0.1:8000/masfdfg/ in the address ar.\r\n",
    "\r\n",
    "You will get one of two r\n",
    "Không tìm thấy trang\r\n",
    "Nếu bạn cố truy cập một trang không tồn tại (lỗi 404), Django sẽ hướng bạn đến chế độ xem tích hợp xử lý lỗi 404.\n",
    "\r\n",
    "Bạn sẽ học cách tùy chỉnh chế độ xem 404 này ở phần sau của chương này, nhưng trước tiên, hãy thử yêu cầu một trang không tồn ti.\r\n",
    "\r\n",
    "Trong cửa sổ trình duyệt, gõ 127.0.0.1:8000/masfdfg/vào thanh địachỉ.\r\n",
    "\r\n",
    "Bạn sẽ nhận được một trong hai kết quả:esults:"
   ]
  },
  {
   "cell_type": "markdown",
   "id": "c61bf98f-8726-4acf-a983-049e389ca23e",
   "metadata": {},
   "source": [
    "If you got the first result, you got directed to the built-in Django 404 template.\r",
    "\r\n",
    "If you got the second result, then DEBUG is set to True in your settings, and you must set it to False to get directed to the 404 template\r\n",
    "\r\n",
    "This is done in the settings.py file, which is located in the project folder, in our case the my_tennis_club folder, where you also have to specify the host name from where your project runs f\n",
    "Nếu bạn nhận được kết quả đầu tiên, bạn sẽ được chuyển hướng đến mẫu Django 404 tích hợp sẵn.\r",
    "\r\n",
    "Nếu bạn nhận được kết quả thứ hai thì kết quả đó DEBUGđược đặt thành Truetrong cài đặt của bạn và bạn phải đặt kết quả đó thành Falseđể được chuyển hướng đến mẫu 404\r\n",
    "\r\n",
    "Điều này được thực hiện trong settings.pytệp, nằm trong thư mục dự án, trong trường hợp của chúng tôi là my_tennis_clubthư mục, nơi bạn cũng phải chỉ định tên máy chủ nơi dự án của bạn chạy từ đó:rom:"
   ]
  },
  {
   "cell_type": "markdown",
   "id": "93794659-9f97-4dc8-a975-fa63c1f5868c",
   "metadata": {},
   "source": [
    "Set the debug property to False, and allow the project to run from your local host:\n",
    "Đặt thuộc tính gỡ lỗi thành Falsevà cho phép dự án chạy từ máy chủ cục bộ của bạn:"
   ]
  },
  {
   "cell_type": "markdown",
   "id": "5d812c14-7f04-45c2-be26-1e1d69b1acac",
   "metadata": {},
   "source": [
    "my_tennis_club/my_tennis_club/settings.py:\r\n",
    "\r\n",
    ".\r\n",
    ".\r\n",
    "# SECURITY WARNING: don't run with debug turned on in production!\r\n",
    "DEBUG = False\r\n",
    "\r\n",
    "ALLOWED_HOSTS = ['*']\r\n",
    ".\r\n",
    "."
   ]
  },
  {
   "cell_type": "markdown",
   "id": "6383881e-bb67-42bb-acbe-52f235f52443",
   "metadata": {},
   "source": [
    "Important: When DEBUG = False, Django requires you to specify the hosts you will allow this Django project to run from.\r",
    "\r\n",
    "In production, this should be replaced with a proper domain name\r\n",
    "\r\n",
    "ALLOWED_HOSTS = ['yourdomain.c\n",
    "Quan trọng: Khi DEBUG = False, Django yêu cầu bạn chỉ định máy chủ mà bạn sẽ cho phép dự án Django này chạy từ đó.\r",
    "\r\n",
    "Trong sản xuất, điều này nên được thay thế bằng một tên miền thích hợp\r\n",
    "\r\n",
    "ALLOWED_HOSTS = ['yourdomain.com']om']"
   ]
  },
  {
   "cell_type": "markdown",
   "id": "3ad9c72b-3f2e-4b27-93e1-e9b7cd01e847",
   "metadata": {},
   "source": [
    "In the browser window, type 127.0.0.1:8000/masfdfg/ in the address bar, and you will get the built-in 404 template:\n",
    "Trong cửa sổ trình duyệt, nhập vào thanh địa chỉ và bạn sẽ nhận được mẫu 404 tích hợp: 127.0.0.1:8000/masfdfg/"
   ]
  },
  {
   "cell_type": "markdown",
   "id": "57f61b8e-54ac-41f1-b58e-af161010095b",
   "metadata": {},
   "source": [
    "Customize the 404 Template\r\n",
    "Django will look for a file named 404.html in the templates folder, and display it when there is a 404 error.\n",
    "\r\n",
    "If no such file exists, Django shows the \"Not Found\" that you saw in the example aboe.\r\n",
    "\r\n",
    "To customize this message, all you have to do is to create a file in the templates folder and name it 404.html, and fill it with whatever you \n",
    "Tùy chỉnh mẫu 404\r\n",
    "Django sẽ tìm file có tên 404.htmltrong templatesthư mục và hiển thị nó khi có lỗi 404\r\n",
    "\r\n",
    "Nếu không có tệp nào như vậy tồn tại, Django hiển thị thông báo \"Không tìm thấy\" mà bạn đã thấy trong ví dụ trn.\r\n",
    "\r\n",
    "Để tùy chỉnh thông báo này, tất cả những gì bạn phải làm là tạo một tệp trong thư templatesmục và đặt tên cho nó 404.html, đồng thời điền vào đó bất cứ thứ gì bạn muốn:want:"
   ]
  },
  {
   "cell_type": "markdown",
   "id": "75c2a74e-8cdc-4a76-9273-1975f71a879f",
   "metadata": {},
   "source": [
    "my_tennis_club/members/templates/404.html:\r\n",
    "\r\n",
    "<!DOCTYPE html>\r\n",
    "<html>\r\n",
    "<title>Wrong address</title>\r\n",
    "<body>\r\n",
    "\r\n",
    "<h1>Ooops!</h1>\r\n",
    "\r\n",
    "<h2>I cannot find the file you requested!</h2>\r\n",
    "\r\n",
    "</body>\r\n",
    "</html>"
   ]
  },
  {
   "cell_type": "markdown",
   "id": "232727b8-416a-4a50-8e26-9e6525c7d620",
   "metadata": {},
   "source": [
    "In the browser window, type 127.0.0.1:8000/masfdfg/ in the address bar, and you will get the customized 404 template:\n",
    "Trong cửa sổ trình duyệt, nhập vào thanh địa chỉ và bạn sẽ nhận được mẫu 404 tùy chỉnh: 127.0.0.1:8000/masfdfg/"
   ]
  },
  {
   "cell_type": "code",
   "execution_count": null,
   "id": "23ab24f9-4d24-4721-80c4-e796b09c3db6",
   "metadata": {},
   "outputs": [],
   "source": []
  }
 ],
 "metadata": {
  "kernelspec": {
   "display_name": "Python 3 (ipykernel)",
   "language": "python",
   "name": "python3"
  },
  "language_info": {
   "codemirror_mode": {
    "name": "ipython",
    "version": 3
   },
   "file_extension": ".py",
   "mimetype": "text/x-python",
   "name": "python",
   "nbconvert_exporter": "python",
   "pygments_lexer": "ipython3",
   "version": "3.11.7"
  }
 },
 "nbformat": 4,
 "nbformat_minor": 5
}
