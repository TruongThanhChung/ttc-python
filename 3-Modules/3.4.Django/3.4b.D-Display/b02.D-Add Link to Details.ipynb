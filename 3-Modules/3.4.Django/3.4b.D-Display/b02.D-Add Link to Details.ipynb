{
 "cells": [
  {
   "cell_type": "markdown",
   "id": "b511b80a-3103-4610-919c-7061b219308f",
   "metadata": {},
   "source": [
    "Details Template\r\n",
    "The next step in our web page will be to add a Details page, where we can list more details about a specific member\n",
    "Mẫu chi tiết\r\n",
    "Bước tiếp theo trong trang web của chúng tôi sẽ là thêm trang Chi tiết, nơi chúng tôi có thể liệt kê thêm thông tin chi tiết về một thành viên cụ thể\n",
    "ml:"
   ]
  },
  {
   "cell_type": "markdown",
   "id": "f958f90b-2fc6-46b8-abd0-9808e584a658",
   "metadata": {},
   "source": [
    "Start by creating a new template called details.html:\n",
    "Bắt đầu bằng cách tạo một mẫu mới có tên details.html:"
   ]
  },
  {
   "cell_type": "markdown",
   "id": "bab1387e-ca02-4b79-97cb-4d301b92c913",
   "metadata": {},
   "source": [
    "my_tennis_club/members/templates/details.html:\r\n",
    "\r\n",
    "<!DOCTYPE html>\r\n",
    "<html>\r\n",
    "\r\n",
    "<body>\r\n",
    "\r\n",
    "<h1>{{ mymember.firstname }} {{ mymember.lastname }}</h1>\r\n",
    "  \r\n",
    "<p>Phone: {{ mymember.phone }}</p>\r\n",
    "<p>Member since: {{ mymember.joined_date }}</p>\r\n",
    "\r\n",
    "<p>Back to <a href=\"/members\">Members</a></p>\r\n",
    "\r\n",
    "</body>\r\n",
    "</html>"
   ]
  },
  {
   "cell_type": "markdown",
   "id": "91af3b39-8abf-4f7b-ad33-2544120ac83f",
   "metadata": {},
   "source": [
    "Add Link in all-members Template\r\n",
    "The list in all_members.html should be clickable, and take you to the details page with the ID of the member you clicked on\n",
    "Thêm liên kết vào mẫu tất cả thành viên\r\n",
    "Danh sách trong đó all_members.htmlphải nhấp vào được và đưa bạn đến trang chi tiết có ID của thành viên mà bạn đã nhấp vào::"
   ]
  },
  {
   "cell_type": "markdown",
   "id": "6536ed76-2d09-44c7-85ab-4982e34141f5",
   "metadata": {},
   "source": [
    "my_tennis_club/members/templates/all_members.html:\n",
    "\n",
    "<!DOCTYPE html>\n",
    "<html>\n",
    "<body>\n",
    "\n",
    "<h1>Members</h1>\n",
    "  \n",
    "<ul>\n",
    "  {% for x in mymembers %}\n",
    "    <li><a href=\"details/{{ x.id }}\">{{ x.firstname }} {{ x.lastname }}</a></li>\n",
    "  {% endfor %}\n",
    "</ul>\n",
    "\n",
    "</body>\n",
    "</html>"
   ]
  },
  {
   "cell_type": "markdown",
   "id": "5ba2848b-7db8-47cf-a547-37c3672f1c72",
   "metadata": {},
   "source": [
    "Create new View\r\n",
    "Then create a new view in the views.py file, that will deal with incoming requests to the /details/ url\n",
    "Tạo chế độ xem mới\r\n",
    "Sau đó, tạo chế độ xem mới trongtệp  views.pp, chế độ xem này sẽ xử lý các yêu cầu gửi đến /details/url::"
   ]
  },
  {
   "cell_type": "markdown",
   "id": "059a17db-4cf7-47b4-8df9-c23593caf095",
   "metadata": {},
   "source": [
    "my_tennis_club/members/views.py:\n",
    "\n",
    "from django.http import HttpResponse\n",
    "from django.template import loader\n",
    "from .models import Member\n",
    "\n",
    "def members(request):\n",
    "  mymembers = Member.objects.all().values()\n",
    "  template = loader.get_template('all_members.html')\n",
    "  context = {\n",
    "    'mymembers': mymembers,\n",
    "  }\n",
    "  return HttpResponse(template.render(context, request))\n",
    "  \n",
    "def details(request, id):\n",
    "  mymember = Member.objects.get(id=id)\n",
    "  template = loader.get_template('details.html')\n",
    "  context = {\n",
    "    'mymember': mymember,\n",
    "  }\n",
    "  return HttpResponse(template.render(context, request))"
   ]
  },
  {
   "cell_type": "markdown",
   "id": "0ce5be8d-a17f-4985-8128-273b6c31b43f",
   "metadata": {},
   "source": [
    "The details view does the following:\r",
    "\r\n",
    "Gets the id as an argument.\r\n",
    "Uses the id to locate the correct record in the Member table.\r\n",
    "loads the details.html template.\r\n",
    "Creates an object containing the member.\r\n",
    "Sends the object to the template.\r\n",
    "Outputs the HTML that is rendered by the te\n",
    "Chế độ xem details thực hiện như sau:\n",
    "\r\n",
    "Lấy  idlàm đối số.\r\n",
    "Sử dụng  idđể xác định vị trí bản ghi chính xác trong bảng Thành viên.\r",
    " mẫu\n",
    "tải details.mẫu.\r\n",
    "Tạo một đối tượng chứa thành viên.\r\n",
    "Gửi đối tượng đến mẫu.\r\n",
    "Xuất ra HTML được mẫu hiển thị.mplate."
   ]
  },
  {
   "cell_type": "markdown",
   "id": "e6e73932-b9f7-4da0-98ae-e23c9a5fb7b9",
   "metadata": {},
   "source": [
    "Add URLs\r\n",
    "Now we need to make sure that the /details/ url points to the correct view, with id as a parameter.\n",
    "\r\n",
    "Open the urls.py file and add the details view to the urlpatterns li\n",
    "Thêm URL\r\n",
    "Bây giờ chúng ta cần đảm bảo rằng /details/ url trỏ đến chế độ xem chính xác, vớ tham số  iố là\r\n",
    "\r\n",
    "tệp Mở urlstệp và thêm chế độ xem chi tiết  danh sáchvào urlpatteách:st:"
   ]
  },
  {
   "cell_type": "markdown",
   "id": "e8e6b6b4-bc4c-4981-970f-3c4e191c3859",
   "metadata": {},
   "source": [
    "my_tennis_club/members/urls.py:\n",
    "\n",
    "from django.urls import path\n",
    "from . import views\n",
    "\n",
    "urlpatterns = [\n",
    "    path('members/', views.members, name='members'),\n",
    "    path('members/details/<int:id>', views.details, name='details'),\n",
    "]"
   ]
  },
  {
   "cell_type": "markdown",
   "id": "96cc7314-7c35-49de-be02-e48eda843ba4",
   "metadata": {},
   "source": [
    "If you have followed all the steps on your own computer, you can see the result in your own browser: 127.0.0.1:8000/members/.\n",
    "Nếu bạn đã làm theo tất cả các bước trên máy tính của mình, bạn có thể xem kết quả trong trình duyệt của riêng mình: 127.0.0.1:8000/members/."
   ]
  },
  {
   "cell_type": "code",
   "execution_count": null,
   "id": "76d1e80c-b2c3-485e-9c38-791ca1c27859",
   "metadata": {},
   "outputs": [],
   "source": [
    "If the server is down, you have to start it again with the runserver command:\n",
    "Nếu máy chủ ngừng hoạt động, bạn phải khởi động lại bằng lệnh runserver:\n",
    "py manage.py runserver"
   ]
  }
 ],
 "metadata": {
  "kernelspec": {
   "display_name": "Python 3 (ipykernel)",
   "language": "python",
   "name": "python3"
  },
  "language_info": {
   "codemirror_mode": {
    "name": "ipython",
    "version": 3
   },
   "file_extension": ".py",
   "mimetype": "text/x-python",
   "name": "python",
   "nbconvert_exporter": "python",
   "pygments_lexer": "ipython3",
   "version": "3.11.7"
  }
 },
 "nbformat": 4,
 "nbformat_minor": 5
}
