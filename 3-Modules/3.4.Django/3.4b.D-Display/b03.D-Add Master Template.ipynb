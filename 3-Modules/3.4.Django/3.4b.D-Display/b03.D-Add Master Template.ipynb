{
 "cells": [
  {
   "cell_type": "code",
   "execution_count": null,
   "id": "f572590b-4b2f-4c18-a518-975e5377a1e5",
   "metadata": {},
   "outputs": [],
   "source": [
    "The extends Tag\n",
    "In the previous pages we created two templates, one for listing all members, and one for details about a member.\n",
    "The templates have a set of HTML code that are the same for both templates.\n",
    "Django provides a way of making a \"parent template\" that you can include in all pages to do the stuff that is the same in all pages.\n",
    "Start by creating a template called master.html, with all the necessary HTML elements:\n",
    "Thẻ mở rộng\n",
    "Trong các trang trước, chúng tôi đã tạo hai mẫu, một mẫu để liệt kê tất cả các thành viên và một mẫu để liệt kê thông tin chi tiết về một thành viên.\n",
    "Các mẫu có một bộ mã HTML giống nhau cho cả hai mẫu.\n",
    "Django cung cấp cách tạo \"mẫu gốc\" mà bạn có thể đưa vào tất cả các trang để thực hiện những nội dung giống nhau trong tất cả các trang.\n",
    "Bắt đầu bằng cách tạo một mẫu có tên master.html, với tất cả các phần tử HTML cần thiết:"
   ]
  },
  {
   "cell_type": "code",
   "execution_count": null,
   "id": "a1cea598-39fd-4c9d-8f23-4eb2e516d711",
   "metadata": {},
   "outputs": [],
   "source": [
    "MasterGet your own Django Server\n",
    "my_tennis_club/members/templates/master.html:\n",
    "\n",
    "<!DOCTYPE html>\n",
    "<html>\n",
    "<head>\n",
    "  <title>{% block title %}{% endblock %}</title>\n",
    "</head>\n",
    "<body>\n",
    "\n",
    "{% block content %}\n",
    "{% endblock %}\n",
    "\n",
    "</body>\n",
    "</html>"
   ]
  },
  {
   "cell_type": "markdown",
   "id": "5dccee0c-75f9-4c6c-81b0-03c42b861c29",
   "metadata": {},
   "source": [
    "Do you see Django block Tag inside the <title> element, and the <body> element?\n",
    "\r\n",
    "They are placeholders, telling Django to replace this block with content from other source\n",
    "Bạn có thấy Thẻ khối Django bên trong phần tử <title> và phần tử <body> không?\n",
    "\r\n",
    "Họ là những người giữ chỗ, yêu cầu Django thay thế khối này bằng nội dung từ các nguồn khác.s."
   ]
  },
  {
   "cell_type": "markdown",
   "id": "596ae468-03e8-4f79-9b07-ffafd105e139",
   "metadata": {},
   "source": [
    "Modify Templates\r\n",
    "Now the two templates (all_members.html and details.html) can use this master.html template\r\n",
    "\r\n",
    "This is done by including the master template with the {% extends %} tag, and inserting a title block and a content blo\n",
    "Sửa đổi mẫu\r\n",
    "Bây giờ hai mẫu  all_members.htm lvà details.html) có thể sử dụng mẫu này master.html\r\n",
    "\r\n",
    "Điều này được thực hiện bằng cách bao gồm mẫu chính với thẻ {% extends  %}và chèn mkhối ột tihối và  khốimột conthối:ck:"
   ]
  },
  {
   "cell_type": "markdown",
   "id": "c3232f64-039a-4ffd-82ac-f40d0bd756ac",
   "metadata": {},
   "source": [
    "Members\n",
    "my_tennis_club/members/templates/all_members.html:\n",
    "\n",
    "{% extends \"master.html\" %}\n",
    "\n",
    "{% block title %}\n",
    "  My Tennis Club - List of all members\n",
    "{% endblock %}\n",
    "\n",
    "\n",
    "{% block content %}\n",
    "  <h1>Members</h1>\n",
    "  \n",
    "  <ul>\n",
    "    {% for x in mymembers %}\n",
    "      <li><a href=\"details/{{ x.id }}\">{{ x.firstname }} {{ x.lastname }}</a></li>\n",
    "    {% endfor %}\n",
    "  </ul>\n",
    "{% endblock %}"
   ]
  },
  {
   "cell_type": "markdown",
   "id": "523412dd-e044-4883-bc7c-aed2ddae0ca2",
   "metadata": {},
   "source": [
    "Details\r\n",
    "my_tennis_club/members/templates/details.html:\r\n",
    "\r\n",
    "{% extends \"master.html\" %}\r\n",
    "\r\n",
    "{% block title %}\r\n",
    "  Details about {{ mymember.firstname }} {{ mymember.lastname }}\r\n",
    "{% endblock %}\r\n",
    "\r\n",
    "\r\n",
    "{% block content %}\r\n",
    "  <h1>{{ mymember.firstname }} {{ mymember.lastname }}</h1>\r\n",
    "  \r\n",
    "  <p>Phone {{ mymember.phone }}</p>\r\n",
    "  <p>Member since: {{ mymember.joined_date }}</p>\r\n",
    "  \r\n",
    "  <p>Back to <a href=\"/members\">Members</a></p>\r\n",
    "  \r\n",
    "{% endblock %}"
   ]
  },
  {
   "cell_type": "markdown",
   "id": "4a7e7ede-94a9-48ec-bc25-d67d78268fc4",
   "metadata": {},
   "source": [
    "If you have followed all the steps on your own computer, you can see the result in your own browser: 127.0.0.1:8000/members/.\n",
    "Nếu bạn đã làm theo tất cả các bước trên máy tính của mình, bạn có thể xem kết quả trong trình duyệt của riêng mình: 127.0.0.1:8000/members/."
   ]
  },
  {
   "cell_type": "code",
   "execution_count": null,
   "id": "4a2d4956-571f-4707-a103-6c5ddc864153",
   "metadata": {},
   "outputs": [],
   "source": [
    "If the server is down, you have to start it again with the runserver command:\n",
    "Nếu máy chủ ngừng hoạt động, bạn phải khởi động lại bằng lệnh runserver:\n",
    "py manage.py runserver"
   ]
  }
 ],
 "metadata": {
  "kernelspec": {
   "display_name": "Python 3 (ipykernel)",
   "language": "python",
   "name": "python3"
  },
  "language_info": {
   "codemirror_mode": {
    "name": "ipython",
    "version": 3
   },
   "file_extension": ".py",
   "mimetype": "text/x-python",
   "name": "python",
   "nbconvert_exporter": "python",
   "pygments_lexer": "ipython3",
   "version": "3.11.7"
  }
 },
 "nbformat": 4,
 "nbformat_minor": 5
}
