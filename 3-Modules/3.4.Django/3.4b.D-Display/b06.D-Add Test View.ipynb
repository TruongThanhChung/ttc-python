{
 "cells": [
  {
   "cell_type": "markdown",
   "id": "01ad4259-0c13-4933-9f07-5ffbc85ae3c6",
   "metadata": {},
   "source": [
    "Test View\r\n",
    "When testing different aspects of Django, it can be a good idea to have somewhere to test code without destroying the main project.\n",
    "\r\n",
    "This is optional off course, but if you like to follow all steps in this tutorial, you should add a test view that is exactly like the one we create belo.\r\n",
    "\r\n",
    "Then you can follow the examples and try them out on your own comp\n",
    "Xem thử nghiệm\r\n",
    "Khi thử nghiệm các khía cạnh khác nhau của Django, bạn nên có một nơi nào đó để kiểm tra mã mà không phá hủy dự án chính.\n",
    "\r\n",
    "Tất nhiên đây là tùy chọn, nhưng nếu bạn muốn làm theo tất cả các bước trong hướng dẫn này, bạn nên thêm chế độ xem thử nghiệm giống hệt như chế độ xem chúng tôi tạo bên dưi.\r\n",
    "\r\n",
    "Sau đó, bạn có thể làm theo các ví dụ và thử chúng trên máy tính của mình.uter."
   ]
  },
  {
   "cell_type": "code",
   "execution_count": null,
   "id": "0f9b013c-9996-4cda-ae9b-3ae4d00f3e87",
   "metadata": {},
   "outputs": [],
   "source": []
  },
  {
   "cell_type": "markdown",
   "id": "72a8ce73-4370-4ab5-8761-596ba39329a9",
   "metadata": {},
   "source": [
    "Add View\r\n",
    "Start by adding a view called \"testing\" in the views.py file\n",
    "Thêm chế độ xem\r\n",
    "Bắt đầu bằng cách thêm chế độ xem có tên \"thử nghiệm\" trong views.pytệp::"
   ]
  },
  {
   "cell_type": "markdown",
   "id": "265ac82e-59ba-4a9d-a20f-a22f107a8337",
   "metadata": {},
   "source": [
    "my_tennis_club/members/views.py:\n",
    "\n",
    "from django.http import HttpResponse\n",
    "from django.template import loader\n",
    "from .models import Member\n",
    "\n",
    "def members(request):\n",
    "  mymembers = Member.objects.all().values()\n",
    "  template = loader.get_template('all_members.html')\n",
    "  context = {\n",
    "    'mymembers': mymembers,\n",
    "  }\n",
    "  return HttpResponse(template.render(context, request))\n",
    "  \n",
    "def details(request, id):\n",
    "  mymember = Member.objects.get(id=id)\n",
    "  template = loader.get_template('details.html')\n",
    "  context = {\n",
    "    'mymember': mymember,\n",
    "  }\n",
    "  return HttpResponse(template.render(context, request))\n",
    "  \n",
    "def main(request):\n",
    "  template = loader.get_template('main.html')\n",
    "  return HttpResponse(template.render())\n",
    "\n",
    "def testing(request):\n",
    "  template = loader.get_template('template.html')\n",
    "  context = {\n",
    "    'fruits': ['Apple', 'Banana', 'Cherry'],   \n",
    "  }\n",
    "  return HttpResponse(template.render(context, request))"
   ]
  },
  {
   "cell_type": "markdown",
   "id": "81a4d27c-a57f-488b-aa56-25a8ae94c4f5",
   "metadata": {},
   "source": [
    "URLs\r\n",
    "We have to make sure that incoming urls to /testing/ will be redirected to the testing view.\n",
    "\r\n",
    "This is done in the urls.py file in the members fold\n",
    "URL\r\n",
    "Chúng tôi phải đảm bảo rằng các url đến /testing/ sẽ được chuyển hướng đến chế độ xem thử nghiệm\r\n",
    "\r\n",
    "Điều này được thực hiện trong urls.pytập tin trong membersthư mục:er:"
   ]
  },
  {
   "cell_type": "markdown",
   "id": "c2032c45-b200-42b3-a420-4ba4c1e5cf42",
   "metadata": {},
   "source": [
    "my_tennis_club/members/urls.py:\n",
    "\n",
    "from django.urls import path\n",
    "from . import views\n",
    "\n",
    "urlpatterns = [\n",
    "    path('', views.main, name='main'),\n",
    "    path('members/', views.members, name='members'),\n",
    "    path('members/details/<int:id>', views.details, name='details'),\n",
    "    path('testing/', views.testing, name='testing'),    \n",
    "]"
   ]
  },
  {
   "cell_type": "markdown",
   "id": "9dcfe3b8-301e-4772-8424-e9714b69c5ed",
   "metadata": {},
   "source": [
    "Test Template\r\n",
    "We also need a template where we can play around with HTML and Django code.\n",
    "\r\n",
    "You might noticed that there was a reference to a template in the testing viw?\r\n",
    "\r\n",
    "Create a template called \"template.html\" in the templates fo\n",
    "Mẫu thử nghiệm\r\n",
    "Chúng tôi cũng cần một mẫu để chúng tôi có thể thử nghiệm với mã HTML và Django.\n",
    "\r\n",
    "Bạn có thể nhận thấy rằng có một tham chiếu đến một mẫu trong chế độ xem thử nghim?\r\n",
    "\r\n",
    "Tạo một mẫu có tên \"template.html\" trong thưtemplatesc mẫu:lder:"
   ]
  },
  {
   "cell_type": "code",
   "execution_count": null,
   "id": "d776ef10-7eda-44cb-8638-e46d84668850",
   "metadata": {},
   "outputs": [],
   "source": [
    "my_tennis_club\n",
    "    manage.py\n",
    "    my_tennis_club/\n",
    "    members/\n",
    "        templates/\n",
    "            404.html\n",
    "            all_members.html\n",
    "            details.html\n",
    "            main.html\n",
    "            master.html\n",
    "            myfirst.html\n",
    "            template.html"
   ]
  },
  {
   "cell_type": "markdown",
   "id": "ce6643a2-f809-475a-bd68-4cc3bb99d0d8",
   "metadata": {},
   "source": [
    "Open the template.html file and insert the following:\n",
    "Mở tệp template.html và chèn đoạn sau:"
   ]
  },
  {
   "cell_type": "markdown",
   "id": "9ed157a5-46c6-422a-b975-2b31ecee55e8",
   "metadata": {},
   "source": [
    "my_tennis_club/members/templates/template.html:\n",
    "\n",
    "<!DOCTYPE html>\n",
    "<html>\n",
    "<body>\n",
    "\n",
    "{% for x in fruits %}\n",
    "  <h1>{{ x }}</h1>\n",
    "{% endfor %}\n",
    "\n",
    "<p>In views.py you can see what the fruits variable looks like.</p>\n",
    "\n",
    "</body>\n",
    "</html>"
   ]
  },
  {
   "cell_type": "markdown",
   "id": "57b9ebda-0780-485a-9b6c-6f1620b3ffc5",
   "metadata": {},
   "source": [
    "If the server is not running, navigate to the /my_tennis_club folder and execute this command in the command prompt:\n",
    "Nếu máy chủ không chạy, hãy điều hướng đến thư /my_tennis_clubmục và thực hiện lệnh này trong dấu nhắc lệnh:\r",
    "\r\n",
    "py manage.py runserver"
   ]
  },
  {
   "cell_type": "code",
   "execution_count": null,
   "id": "1b7cea8a-18e2-47ca-abea-c249d09b43af",
   "metadata": {},
   "outputs": [],
   "source": [
    "In the browser window, type 127.0.0.1:8000/testing/ in the address bar.\n",
    "Trong cửa sổ trình duyệt, gõ 127.0.0.1:8000/testing/vào thanh địa chỉ."
   ]
  }
 ],
 "metadata": {
  "kernelspec": {
   "display_name": "Python 3 (ipykernel)",
   "language": "python",
   "name": "python3"
  },
  "language_info": {
   "codemirror_mode": {
    "name": "ipython",
    "version": 3
   },
   "file_extension": ".py",
   "mimetype": "text/x-python",
   "name": "python",
   "nbconvert_exporter": "python",
   "pygments_lexer": "ipython3",
   "version": "3.11.7"
  }
 },
 "nbformat": 4,
 "nbformat_minor": 5
}
