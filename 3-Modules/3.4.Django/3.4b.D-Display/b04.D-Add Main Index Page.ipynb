{
 "cells": [
  {
   "cell_type": "markdown",
   "id": "38d554b9-6a82-4f26-aff0-a10a6c996449",
   "metadata": {},
   "source": [
    "Main Index Page\r\n",
    "Our project needs a main page.\n",
    "\r\n",
    "The main page will be the landing page when someone visits the root folder of the projec.\r\n",
    "\r\n",
    "Now, you get an error when visiting the root folder of your projct:\r\n",
    "\r\n",
    "127.0.0.1:000/.\r\n",
    "\r\n",
    "Start by creating a template called m\n",
    "Trang chỉ mục chính\r\n",
    "Dự án của chúng tôi cần một trang chính.\n",
    "\r\n",
    "Trang chính sẽ là trang đích khi ai đó truy cập vào thư mục gốc của dự n.\r\n",
    "\r\n",
    "Bây giờ, bạn gặp lỗi khi truy cập thư mục gốc của d án:\r\n",
    "\r\n",
    "127.0.0.18000/.\r\n",
    "\r\n",
    "Bắt đầu bằng cách tạo một mẫu có tên main.html:ain.html:"
   ]
  },
  {
   "cell_type": "markdown",
   "id": "086bf857-6533-4e69-90d4-ca967dc99d11",
   "metadata": {},
   "source": [
    "MainGet your own Django Server\n",
    "my_tennis_club/members/templates/main.html:\n",
    "\n",
    "{% extends \"master.html\" %}\n",
    "\n",
    "{% block title %}\n",
    "  My Tennis Club\n",
    "{% endblock %}\n",
    "\n",
    "\n",
    "{% block content %}\n",
    "  <h1>My Tennis Club</h1>\n",
    "\n",
    "  <h3>Members</h3>\n",
    "  \n",
    "  <p>Check out all our <a href=\"members/\">members</a></p>\n",
    "  \n",
    "{% endblock %}"
   ]
  },
  {
   "cell_type": "markdown",
   "id": "ecbc7b4e-a9c0-4e9b-b9ce-25cd94561937",
   "metadata": {},
   "source": [
    "Create new View\r\n",
    "Then create a new view called main, that will deal with incoming requests to root of the project\n",
    "Tạo chế độ xem mới\r\n",
    "Sau đó, tạo một chế độ xem mới có tên main, chế độ xem này sẽ xử lý các yêu cầu gửi đến thư mục gốc của dự án::"
   ]
  },
  {
   "cell_type": "markdown",
   "id": "544ad6de-093c-46d8-b0dc-b33b19631e64",
   "metadata": {},
   "source": [
    "my_tennis_club/members/views.py:\n",
    "\n",
    "from django.http import HttpResponse\n",
    "from django.template import loader\n",
    "from .models import Member\n",
    "\n",
    "def members(request):\n",
    "  mymembers = Member.objects.all().values()\n",
    "  template = loader.get_template('all_members.html')\n",
    "  context = {\n",
    "    'mymembers': mymembers,\n",
    "  }\n",
    "  return HttpResponse(template.render(context, request))\n",
    "  \n",
    "def details(request, id):\n",
    "  mymember = Member.objects.get(id=id)\n",
    "  template = loader.get_template('details.html')\n",
    "  context = {\n",
    "    'mymember': mymember,\n",
    "  }\n",
    "  return HttpResponse(template.render(context, request))\n",
    "  \n",
    "def main(request):\n",
    "  template = loader.get_template('main.html')\n",
    "  return HttpResponse(template.render())"
   ]
  },
  {
   "cell_type": "markdown",
   "id": "b490a8dc-4eb7-4157-ba25-5f808851f55d",
   "metadata": {},
   "source": [
    "The main view does the following:\r",
    "\r\n",
    "loads the main.html template.\r\n",
    "Outputs the HTML that is rendered by the templa\n",
    "Chế độ xem main thực hiện như sau:\n",
    "\r\n",
    "t mẫuải main.htẫu.\r\n",
    "Xuất ra HTML được mẫu hiển thị.te."
   ]
  },
  {
   "cell_type": "markdown",
   "id": "8f6bb714-0483-4f53-8c20-65b33336d86a",
   "metadata": {},
   "source": [
    "Add URL\r\n",
    "Now we need to make sure that the root url points to the correct view\r\n",
    "\r\n",
    "Open the urls.py file and add the main view to the urlpatterns li\n",
    "Thêm URL\r\n",
    "Bây giờ chúng ta cần đảm bảo rằng url gốc trỏ đến chế độ xem chính xác\r\n",
    "\r\n",
    "tệp Mở urlstệp và thêm chế độ xem chính vdanh sách ào urlpatteách:st:"
   ]
  },
  {
   "cell_type": "markdown",
   "id": "5a1a5ab8-034d-41dd-b9fb-9b3d9165fd07",
   "metadata": {},
   "source": [
    "my_tennis_club/members/urls.py:\n",
    "\n",
    "from django.urls import path\n",
    "from . import views\n",
    "\n",
    "urlpatterns = [\n",
    "    path('', views.main, name='main'),\n",
    "    path('members/', views.members, name='members'),\n",
    "    path('members/details/<int:id>', views.details, name='details'),\n",
    "]"
   ]
  },
  {
   "cell_type": "markdown",
   "id": "1e7a92ce-5319-4bab-9410-193dcdf802f8",
   "metadata": {},
   "source": [
    "Add Link Back to Main\r\n",
    "The members page is missing a link back to the main page, so let us add that in the all_members.html template, in the content block\n",
    "Thêm liên kết quay lại chính\r\n",
    "Trang thành viên thiếu liên kết quay lại trang chính, vì vậy chúng ta hãy thêm liên kết đó và mẫuo all_members.htmu, tron khốig conteni::"
   ]
  },
  {
   "cell_type": "markdown",
   "id": "6ba0bc07-01d6-422a-87fc-3f04540ca349",
   "metadata": {},
   "source": [
    "my_tennis_club/members/templates/all_members.html:\n",
    "\n",
    "{% extends \"master.html\" %}\n",
    "\n",
    "{% block title %}\n",
    "  My Tennis Club - List of all members\n",
    "{% endblock %}\n",
    "\n",
    "\n",
    "{% block content %}\n",
    "\n",
    "  <p><a href=\"/\">HOME</a></p>\n",
    "\n",
    "  <h1>Members</h1>\n",
    "  \n",
    "  <ul>\n",
    "    {% for x in mymembers %}\n",
    "      <li><a href=\"details/{{ x.id }}\">{{ x.firstname }} {{ x.lastname }}</a></li>\n",
    "    {% endfor %}\n",
    "  </ul>\n",
    "{% endblock %}"
   ]
  },
  {
   "cell_type": "markdown",
   "id": "fede318b-6648-49a6-9f35-607cf2c2fe0e",
   "metadata": {},
   "source": [
    "If you have followed all the steps on your own computer, you can see the result in your own browser: 127.0.0.1:8000/.\n",
    "Nếu bạn đã làm theo tất cả các bước trên máy tính của mình, bạn có thể xem kết quả trong trình duyệt của riêng mình: 127.0.0.1:8000/."
   ]
  },
  {
   "cell_type": "markdown",
   "id": "27e5685e-8cfe-4062-85a6-aee4203a4efd",
   "metadata": {},
   "source": [
    "If the server is down, you have to start it again with the runserver command:\r",
    "Nếu máy chủ ngừng hoạt động, bạn phải khởi động lại bằng lệnh runserver:\n",
    "\r\n",
    "py manage.py runserver"
   ]
  }
 ],
 "metadata": {
  "kernelspec": {
   "display_name": "Python 3 (ipykernel)",
   "language": "python",
   "name": "python3"
  },
  "language_info": {
   "codemirror_mode": {
    "name": "ipython",
    "version": 3
   },
   "file_extension": ".py",
   "mimetype": "text/x-python",
   "name": "python",
   "nbconvert_exporter": "python",
   "pygments_lexer": "ipython3",
   "version": "3.11.7"
  }
 },
 "nbformat": 4,
 "nbformat_minor": 5
}
