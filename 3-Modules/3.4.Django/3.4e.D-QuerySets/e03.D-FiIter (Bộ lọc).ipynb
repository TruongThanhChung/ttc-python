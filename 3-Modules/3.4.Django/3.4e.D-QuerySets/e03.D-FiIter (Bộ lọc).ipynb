{
 "cells": [
  {
   "cell_type": "markdown",
   "id": "d9b8ab21-db6e-41c9-b52d-2269f7b7751f",
   "metadata": {},
   "source": [
    "QuerySet Filter\r\n",
    "The filter() method is used to filter your search, and allows you to return only the rows that matches the search term.\n",
    "\r\n",
    "As we learned in the previous chapter, we can filter on field names like th\n",
    "Bộ lọc bộ truy vấn\r\n",
    "Phương pháp này filter( )được sử dụng để lọc tìm kiếm của bạn và cho phép bạn chỉ trả về những hàng khớp với cụm từ tìm kiếm\r\n",
    "\r\n",
    "Như chúng ta đã học ở chương trước, chúng ta có thể lọc tên trường như thế này:is:"
   ]
  },
  {
   "cell_type": "markdown",
   "id": "05c4ee05-64c3-4ede-ba8c-36703ac33375",
   "metadata": {},
   "source": [
    "Return only the records where the firstname is 'Emil':\n",
    "Chỉ trả lại các bản ghi có tên là 'Emil':\n",
    "mydata = Member.objects.filter(firstname='Emil').values()"
   ]
  },
  {
   "cell_type": "code",
   "execution_count": null,
   "id": "cc8a3490-aa02-48a6-ae0e-da90aec7dfed",
   "metadata": {},
   "outputs": [],
   "source": [
    "In SQL, the above statement would be written like this:\n",
    "Trong SQL, câu lệnh trên sẽ được viết như sau:\n",
    "SELECT * FROM members WHERE firstname = 'Emil';"
   ]
  },
  {
   "cell_type": "markdown",
   "id": "9b3231df-f411-4ab0-b8b6-919e37916dfb",
   "metadata": {},
   "source": [
    "AND\n",
    "The filter() method takes the arguments as **kwargs (keyword arguments), so you can filter on more than one field by separating them by a comma.\n",
    "VÀ\r\n",
    "Phương thức này filter()lấy các đối số là **kwargs (đối số từ khóa), do đó bạn có thể lọc trên nhiều trường bằng cách phân tách chúng bằng dấu phẩy."
   ]
  },
  {
   "cell_type": "markdown",
   "id": "4a5b6550-0c03-4bcc-95c4-9f5c447757f3",
   "metadata": {},
   "source": [
    "Return records where lastname is \"Refsnes\" and id is 2:\n",
    "Trả về các bản ghi có họ là \"Refsnes\" và id là 2:\n",
    "mydata = Member.objects.filter(lastname='Refsnes', id=2).values()"
   ]
  },
  {
   "cell_type": "code",
   "execution_count": null,
   "id": "f93cd727-be7b-4459-93c8-02abefdf2368",
   "metadata": {},
   "outputs": [],
   "source": [
    "In SQL, the above statement would be written like this:\n",
    "Trong SQL, câu lệnh trên sẽ được viết như sau:\n",
    "SELECT * FROM members WHERE lastname = 'Refsnes' AND id = 2;"
   ]
  },
  {
   "cell_type": "markdown",
   "id": "e4d3f6d9-d283-44c2-8fa0-4290d536d88e",
   "metadata": {},
   "source": [
    "OR\r\n",
    "To return records where firstname is Emil or firstname is Tobias (meaning: returning records that matches either query, not necessarily both) is not as easy as the AND example above\r\n",
    "\r\n",
    "We can use multiple filter() methods, separated by a pipe | character. The results will merge into one mod\n",
    "HOẶC\r\n",
    "Để trả về các bản ghi có tên là Emil hoặc tên là Tobias (có nghĩa là: trả về các bản ghi khớp với một trong hai truy vấn, không nhất thiết phải là cả hai) không dễ như ví dụ AND ở trên\r\n",
    "\r\n",
    "Chúng ta có thể sử dụng nhiều filter()phương thức, được phân tách bằng |ký tự ống dẫn. Kết quả sẽ hợp nhất thành một mô hình.el."
   ]
  },
  {
   "cell_type": "markdown",
   "id": "ee8baf4f-f327-4ee8-b67e-89fa42b11a7d",
   "metadata": {},
   "source": [
    "Return records where firstname is either \"Emil\" or Tobias\":\n",
    "Trả về các bản ghi có tên là \"Emil\" hoặc Tobias\":\n",
    "mydata = Member.objects.filter(firstname='Emil').values() | Member.objects.filter(firstname='Tobias').values()"
   ]
  },
  {
   "cell_type": "markdown",
   "id": "65830d76-8810-416b-bbda-b89b985da3ce",
   "metadata": {},
   "source": [
    "Another common method is to import and use Q expressions:\n",
    "Một phương pháp phổ biến khác là nhập và sử dụng biểu thức Q:"
   ]
  },
  {
   "cell_type": "markdown",
   "id": "f50a00db-926a-4d65-996d-7d12ff95dd87",
   "metadata": {},
   "source": [
    "Return records where firstname is either \"Emil\" or Tobias\":\n",
    "Trả về các bản ghi có tên là \"Emil\" hoặc Tobias\":\n",
    "from django.http import HttpResponse\n",
    "from django.template import loader\n",
    "from .models import Member\n",
    "from django.db.models import Q\n",
    "\n",
    "def testing(request):\n",
    "  mydata = Member.objects.filter(Q(firstname='Emil') | Q(firstname='Tobias')).values()\n",
    "  template = loader.get_template('template.html')\n",
    "  context = {\n",
    "    'mymembers': mydata,\n",
    "  }\n",
    "  return HttpResponse(template.render(context, request))"
   ]
  },
  {
   "cell_type": "code",
   "execution_count": null,
   "id": "e70a2636-c242-49a8-bd24-aabbbb84a048",
   "metadata": {},
   "outputs": [],
   "source": [
    "In SQL, the above statement would be written like this:\n",
    "Trong SQL, câu lệnh trên sẽ được viết như sau:\n",
    "SELECT * FROM members WHERE firstname = 'Emil' OR firstname = 'Tobias';"
   ]
  },
  {
   "cell_type": "markdown",
   "id": "ae81fc05-170f-4ef2-9d5a-db9d8095ceb1",
   "metadata": {},
   "source": [
    "Field Lookups\r\n",
    "Django has its own way of specifying SQL statements and WHERE clauses\r\n",
    "\r\n",
    "To make specific where clauses in Django, use \"Field lookup\".\r\n",
    "\r\n",
    "Field lookups are keywords that represents specific SQL keyw\n",
    "Tra cứu trường\r\n",
    "Django có cách riêng để chỉ định các câu lệnh SQL và mệnh đề WHERE\r\n",
    "\r\n",
    "Để đưa ra các mệnh đề cụ thể ở Django, hãy sử dụng \"Tra cứu trườn\".\r\n",
    "\r\n",
    "Tra cứu trường là các từ khóa đại diện cho các từ khóa SQL cụ thể.ords."
   ]
  },
  {
   "cell_type": "markdown",
   "id": "244a172c-007f-411c-838d-e33ce4904a19",
   "metadata": {},
   "source": [
    "Use the __startswith keyword:\n",
    "Sử dụng __startswithtừ khóa:\n",
    ".filter(firstname__startswith='L');"
   ]
  },
  {
   "cell_type": "markdown",
   "id": "7f60ba3f-7b17-4f78-bfd9-c575379ec15b",
   "metadata": {},
   "source": [
    "Is the same as the SQL statement:\n",
    "Tương tự như câu lệnh SQL:\n",
    "WHERE firstname LIKE 'L%'"
   ]
  },
  {
   "cell_type": "markdown",
   "id": "766877ea-fabf-461f-bf8c-19037e6013e6",
   "metadata": {},
   "source": [
    "The above statement will return records where firstname starts with 'L'.\n",
    "Câu lệnh trên sẽ trả về các bản ghi trong đó tên bắt đầu bằng 'L'."
   ]
  },
  {
   "cell_type": "markdown",
   "id": "3440dae5-c6d1-4307-889a-72c8aee5d862",
   "metadata": {},
   "source": [
    "Field Lookups Syntax\r\n",
    "All Field lookup keywords must be specified with the fieldname, followed by two(!) underscore characters, and the keyword\r\n",
    "\r\n",
    "In our Member model, the statement would be written like th\n",
    "Cú pháp tra cứu trường\r\n",
    "Tất cả các từ khóa tra cứu Trường phải được chỉ định bằng tên trường, theo sau là hai ký tự gạch dưới (!) Và từ khóa\r\n",
    "\r\n",
    "Trong Membermô hình của chúng tôi, câu lệnh sẽ được viết như sau:is:"
   ]
  },
  {
   "cell_type": "markdown",
   "id": "12cf3b07-d228-434b-b432-a4cebae347ae",
   "metadata": {},
   "source": [
    "Return the records where firstname starts with the letter 'L':\n",
    "Trả về các bản ghi firstnamebắt đầu bằng chữ 'L':\n",
    "mydata = Member.objects.filter(firstname__startswith='L').values()"
   ]
  },
  {
   "cell_type": "code",
   "execution_count": null,
   "id": "13698e2a-d38c-4b90-8aac-4d127748d2cc",
   "metadata": {},
   "outputs": [],
   "source": [
    "Field Lookups Reference\n",
    "A list of all field look up keywords:\n",
    "Tham chiếu tra cứu trường\n",
    "Danh sách tất cả các từ khóa tra cứu trường:\n",
    "Keyword\t        Description\n",
    "contains\t    Contains the phrase\n",
    "icontains\t    Same as contains, but case-insensitive\n",
    "date\t        Matches a date\n",
    "day\t            Matches a date (day of month, 1-31) (for dates)\n",
    "endswith\t    Ends with\n",
    "iendswith\t    Same as endswidth, but case-insensitive\n",
    "exact\t        An exact match\n",
    "iexact\t        Same as exact, but case-insensitive\n",
    "in\t            Matches one of the values\n",
    "isnull\t        Matches NULL values\n",
    "gt\t            Greater than\n",
    "gte\t            Greater than, or equal to\n",
    "hour\t        Matches an hour (for datetimes)\n",
    "lt\t            Less than\n",
    "lte\t            Less than, or equal to\n",
    "minute\t        Matches a minute (for datetimes)\n",
    "month\t        Matches a month (for dates)\n",
    "quarter\t        Matches a quarter of the year (1-4) (for dates)\n",
    "range\t        Match between\n",
    "regex\t        Matches a regular expression\n",
    "iregex\t        Same as regex, but case-insensitive\n",
    "second\t        Matches a second (for datetimes)\n",
    "startswith\t    Starts with\n",
    "istartswith\t    Same as startswith, but case-insensitive\n",
    "time\t        Matches a time (for datetimes)\n",
    "week\t        Matches a week number (1-53) (for dates)\n",
    "week_day\t    Matches a day of week (1-7) 1 is sunday\n",
    "iso_week_day\tMatches a ISO 8601 day of week (1-7) 1 is monday\n",
    "year\t        Matches a year (for dates)\n",
    "iso_year\t    Matches an ISO 8601 year (for dates)"
   ]
  }
 ],
 "metadata": {
  "kernelspec": {
   "display_name": "Python 3 (ipykernel)",
   "language": "python",
   "name": "python3"
  },
  "language_info": {
   "codemirror_mode": {
    "name": "ipython",
    "version": 3
   },
   "file_extension": ".py",
   "mimetype": "text/x-python",
   "name": "python",
   "nbconvert_exporter": "python",
   "pygments_lexer": "ipython3",
   "version": "3.11.7"
  }
 },
 "nbformat": 4,
 "nbformat_minor": 5
}
