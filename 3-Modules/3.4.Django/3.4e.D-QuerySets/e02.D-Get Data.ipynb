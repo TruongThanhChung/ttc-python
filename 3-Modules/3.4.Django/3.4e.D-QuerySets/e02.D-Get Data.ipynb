{
 "cells": [
  {
   "cell_type": "markdown",
   "id": "e3cb0878-f684-42e2-931f-67972ba55b46",
   "metadata": {},
   "source": [
    "Get Data\n",
    "There are different methods to get data from a model into a QuerySet.\n",
    "Lấy dữ liệu\r\n",
    "Có nhiều phương pháp khác nhau để lấy dữ liệu từ một mô hình vào Bộ truy vấn\n"
   ]
  },
  {
   "cell_type": "markdown",
   "id": "ccdbf555-90a4-47c8-96a0-c45ab24f91e7",
   "metadata": {},
   "source": [
    "The values() Method\n",
    "The values() method allows you to return each object as a Python dictionary, with the names and values as key/value pairs:\n",
    "Phương thức value()\r\n",
    "Phương thức này values()cho phép bạn trả về từng đối tượng dưới dạng từ điển Python, với tên và giá trị dưới dạng cặp khóa/giá trị:"
   ]
  },
  {
   "cell_type": "markdown",
   "id": "58cd3336-fcf8-4632-b1a5-c5e1ec9873b1",
   "metadata": {},
   "source": [
    "views.py:\r\n",
    "\r\n",
    "from django.http import HttpResponse\r\n",
    "from django.template import loader\r\n",
    "from .models import Member\r\n",
    "\r\n",
    "def testing(request):\r\n",
    "  mydata = Member.objects.all().values()\r\n",
    "  template = loader.get_template('template.html')\r\n",
    "  context = {\r\n",
    "    'mymembers': mydata,\r\n",
    "  }\r\n",
    "  return HttpResponse(template.render(context, request))"
   ]
  },
  {
   "cell_type": "markdown",
   "id": "7602286f-b426-4c23-a5b9-b8b50c8fa190",
   "metadata": {},
   "source": [
    "Return Specific Columns\n",
    "The values_list() method allows you to return only the columns that you specify.\n",
    "Trả về các cột cụ thể\r\n",
    "Phương thức này values_list()cho phép bạn chỉ trả về các cột mà bạn chỉ định."
   ]
  },
  {
   "cell_type": "markdown",
   "id": "e954c8e4-8d4f-428b-9d43-3dc298d9c645",
   "metadata": {},
   "source": [
    "Return only the firstname columns:\n",
    "Chỉ trả về các cột firstname:\n",
    "views.py:\n",
    "\n",
    "from django.http import HttpResponse\n",
    "from django.template import loader\n",
    "from .models import Member\n",
    "\n",
    "def testing(request):\n",
    "  mydata = Member.objects.values_list('firstname')\n",
    "  template = loader.get_template('template.html')\n",
    "  context = {\n",
    "    'mymembers': mydata,\n",
    "  }\n",
    "  return HttpResponse(template.render(context, request))"
   ]
  },
  {
   "cell_type": "markdown",
   "id": "9111915b-56e8-4704-ac95-6c7b06651406",
   "metadata": {},
   "source": [
    "Return Specific Rows\r\n",
    "You can filter the search to only return specific rows/records, by using the filter() method\n",
    "Trả về các hàng cụ thể\r\n",
    "Bạn có thể lọc tìm kiếm để chỉ trả về các hàng/bản ghi cụ thể bằng cách sử dụng filter()phương thức này.."
   ]
  },
  {
   "cell_type": "markdown",
   "id": "b87a2579-72be-45fa-a30b-b2a9f8b017dd",
   "metadata": {},
   "source": [
    "Return only the records where firstname is 'Emil'\n",
    "Chỉ trả lại các bản ghi có firstname'Emil'\n",
    "views.py:\n",
    "\n",
    "from django.http import HttpResponse\n",
    "from django.template import loader\n",
    "from .models import Member\n",
    "\n",
    "def testing(request):\n",
    "  mydata = Member.objects.filter(firstname='Emil').values()\n",
    "  template = loader.get_template('template.html')\n",
    "  context = {\n",
    "    'mymembers': mydata,\n",
    "  }\n",
    "  return HttpResponse(template.render(context, request))"
   ]
  },
  {
   "cell_type": "code",
   "execution_count": null,
   "id": "7963631a-ea6d-43be-b5d7-b3b5edd9e3a2",
   "metadata": {},
   "outputs": [],
   "source": [
    "You will learn more about the filter() method in the next chapter.\n",
    "Bạn sẽ tìm hiểu thêm về filter()phương pháp này trong chương tiếp theo ."
   ]
  }
 ],
 "metadata": {
  "kernelspec": {
   "display_name": "Python 3 (ipykernel)",
   "language": "python",
   "name": "python3"
  },
  "language_info": {
   "codemirror_mode": {
    "name": "ipython",
    "version": 3
   },
   "file_extension": ".py",
   "mimetype": "text/x-python",
   "name": "python",
   "nbconvert_exporter": "python",
   "pygments_lexer": "ipython3",
   "version": "3.11.7"
  }
 },
 "nbformat": 4,
 "nbformat_minor": 5
}
