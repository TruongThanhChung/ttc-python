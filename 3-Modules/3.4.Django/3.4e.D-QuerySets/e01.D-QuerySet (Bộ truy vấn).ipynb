{
 "cells": [
  {
   "cell_type": "markdown",
   "id": "ee8796af-416e-497b-9d62-b830ee7e6060",
   "metadata": {},
   "source": [
    "Django QuerySet\r\n",
    "A QuerySet is a collection of data from a database.\n",
    "\r\n",
    "A QuerySet is built up as a list of objecs.\r\n",
    "\r\n",
    "QuerySets makes it easier to get the data you actually need, by allowing you to filter and order the data at an early sage.\r\n",
    "\r\n",
    "In this tutorial we will be querying data from the Member\n",
    "Bộ truy vấn Django\r\n",
    "QuerySet là tập hợp dữ liệu từ cơ sở dữ liệu\r\n",
    "\r\n",
    "Một QuerySet được xây dựng dưới dạng danh sách các đối tượg.\r\n",
    "\r\n",
    "QuerySets giúp việc lấy dữ liệu bạn thực sự cần trở nên dễ dàng hơn bằng cách cho phép bạn lọc và sắp xếp dữ liệu ở giai đoạnđầu.\r\n",
    "\r\n",
    "Trong hướng dẫn này, chúng ta sẽ truy vấn dữ lbảng iệu từ.\n",
    "Member:\r\n",
    "\r\n",
    " i \t firstname \t lastname \t phone     \t joined_date \r\n",
    " 1 \t Emil     \t Refsnes \t 5551234 \t 2022-01-05 \r\n",
    " 2 \t Tobias \t Refsnes \t 5557777 \t 2022-04-01 \r\n",
    " 3 \t Lin    us \t Refsnes \t 5554321 \t 2021-12-24 \r\n",
    " 4 \t L   ene \t Refsnes \t 5551234 \t 2021-05-01 \r\n",
    " 5 \t Stalikken \t Refsnes \t 5559876 \t 2022-09-29 \r\n",
    "erbảng. table."
   ]
  },
  {
   "cell_type": "markdown",
   "id": "35b4c6c5-57e4-487b-9721-5fc6e5410264",
   "metadata": {},
   "source": [
    "Querying Data\r\n",
    "In views.py, we have a view for testing called testing where we will test different queries\r\n",
    "\r\n",
    "In the example below we use the .all() method to get all the records and fields of the Member mod\n",
    "Truy vấn dữ liệu\r\n",
    "Trong views.py, chúng tôi có một chế độ xem để kiểm tra được gọi là testin gnơi chúng tôi sẽ kiểm tra các truy vấn khác nhau\r\n",
    "\r\n",
    "Trong ví dụ bên dưới, chúng tôi sử d phương thứcụng .alhức này để lấy tất cả các bản ghi và trường cmô hình ủa Memình:el:"
   ]
  },
  {
   "cell_type": "markdown",
   "id": "25a74e86-1506-4d6b-912c-da56676cdca8",
   "metadata": {},
   "source": [
    "ViewGet your own Django Server\r\n",
    "views.py\r\n",
    "\r\n",
    "from django.http import HttpResponse\r\n",
    "from django.template import loader\r\n",
    "from .models import Member\r\n",
    "\r\n",
    "def testing(request):\r\n",
    "  mydata = Member.objects.all()\r\n",
    "  template = loader.get_template('template.html')\r\n",
    "  context = {\r\n",
    "    'mymembers': mydata,\r\n",
    "  }\r\n",
    "  return HttpResponse(template.render(context, request))"
   ]
  },
  {
   "cell_type": "markdown",
   "id": "941e799a-e5f7-44e2-a680-2f282d73972f",
   "metadata": {},
   "source": [
    "The object is placed in a variable called mydata, and is sent to the template via the context object as mymembers, and looks like this:\n",
    "Đối tượng được đặt trong một biến có tên mydata, và được gửi đến mẫu thông qua contextđối tượng dưới dạng mymembers, và trông như thế này:"
   ]
  },
  {
   "cell_type": "code",
   "execution_count": null,
   "id": "13bcefe4-cac2-4422-a4bf-5da3842e842a",
   "metadata": {},
   "outputs": [],
   "source": [
    "<QuerySet [\n",
    "  <Member: Member object (1)>,\n",
    "  <Member: Member object (2)>,\n",
    "  <Member: Member object (3)>,\n",
    "  <Member: Member object (4)>,\n",
    "  <Member: Member object (5)>\n",
    "]>"
   ]
  },
  {
   "cell_type": "markdown",
   "id": "4011e0bf-1f34-4c5d-8f73-21528b6f0aef",
   "metadata": {},
   "source": [
    "As you can see, our Member model contains 5 records, and are listed inside the QuerySet as 5 objects.\n",
    "\r\n",
    "In the template you can use the mymembers object to generate conten\n",
    "Như bạn có thể thấy, Membermô hình của chúng tôi chứa 5 bản ghi và được liệt kê bên trong Bộ truy vấn dưới dạng 5 đối tượng.\n",
    "\r\n",
    "Trong mẫu, bạn có thể sử dụng mymembers đối tượng để tạo nội dung:t:"
   ]
  },
  {
   "cell_type": "markdown",
   "id": "4e364dae-5f07-4bed-a79d-89746c6f4bfa",
   "metadata": {},
   "source": [
    "Template\n",
    "templates/template.html:\n",
    "\n",
    "<table border='1'>\n",
    "  <tr>\n",
    "    <th>ID</th>\n",
    "    <th>Firstname</th>\n",
    "    <th>Lastname</th>\n",
    "  </tr>\n",
    "  {% for x in mymembers %}\n",
    "    <tr>\n",
    "      <td>{{ x.id }}</td>\n",
    "        <td>{{ x.firstname }}</td>\n",
    "      <td>{{ x.lastname }}</td>\n",
    "    </tr>\n",
    "  {% endfor %}\n",
    "</table>"
   ]
  }
 ],
 "metadata": {
  "kernelspec": {
   "display_name": "Python 3 (ipykernel)",
   "language": "python",
   "name": "python3"
  },
  "language_info": {
   "codemirror_mode": {
    "name": "ipython",
    "version": 3
   },
   "file_extension": ".py",
   "mimetype": "text/x-python",
   "name": "python",
   "nbconvert_exporter": "python",
   "pygments_lexer": "ipython3",
   "version": "3.11.7"
  }
 },
 "nbformat": 4,
 "nbformat_minor": 5
}
