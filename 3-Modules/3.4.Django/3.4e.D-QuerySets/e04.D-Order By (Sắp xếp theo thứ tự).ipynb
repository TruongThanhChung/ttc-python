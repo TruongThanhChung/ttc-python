{
 "cells": [
  {
   "cell_type": "markdown",
   "id": "2a9eba77-92e9-42a0-8d40-e9856a6f264b",
   "metadata": {},
   "source": [
    "Order By\r\n",
    "To sort QuerySets, Django uses the order_by() method\n",
    "Đặt bởi\r\n",
    "Để sắp xếp QuerySets, Django sử dụn phương thứcg order_by(c::"
   ]
  },
  {
   "cell_type": "markdown",
   "id": "4599b73a-7a9e-49a5-a0e6-cb927e6b8ecf",
   "metadata": {},
   "source": [
    "Order the result alphabetically by firstname:\n",
    "Sắp xếp kết quả theo thứ tự abc theo tên:\n",
    "mydata = Member.objects.all().order_by('firstname').values()"
   ]
  },
  {
   "cell_type": "markdown",
   "id": "fc52446a-f29e-43b8-88b9-4b428cc11b99",
   "metadata": {},
   "source": [
    "In SQL, the above statement would be written like this:\n",
    "SELECT * FROM members ORDER BY firstname;\n",
    "SELECT * FROM members ORDER BY firstname;"
   ]
  },
  {
   "cell_type": "markdown",
   "id": "3d3ec1b5-23d0-4b65-8b0b-72e8e214a267",
   "metadata": {},
   "source": [
    "Descending Order\r\n",
    "By default, the result is sorted ascending (the lowest value first), to change the direction to descending (the highest value first), use the minus sign (NOT), - in front of the field name\n",
    "Thứ tự giảm dần\r\n",
    "Theo mặc định, kết quả được sắp xếp tăng dần (giá trị thấp nhất trước), để thay đổi hướng giảm dần (giá trị cao nhất trước), sử dụng dấu trừ (NOT), -trước tên trường\n",
    "Order the result firstname descending:\r",
    "Thứ tự kết quả tên giảm dần:\n",
    "\r\n",
    "mydata = Member.objects.all().order_by('-firstname').values()::"
   ]
  },
  {
   "cell_type": "markdown",
   "id": "6fb4ac25-0628-4a86-b6cd-bb03b724ed24",
   "metadata": {},
   "source": [
    "In SQL, the above statement would be written like this:\n",
    "Trong SQL, câu lệnh trên sẽ được viết như sau:\n",
    "SELECT * FROM members ORDER BY firstname DESC;"
   ]
  },
  {
   "cell_type": "markdown",
   "id": "920f9e73-be81-4aa1-b6b3-1fc633adaf6e",
   "metadata": {},
   "source": [
    "Multiple Order Bys\r\n",
    "To order by more than one field, separate the fieldnames with a comma in the order_by() method\n",
    "Nhiều đơn hàng\r\n",
    "Để sắp xếp theo nhiều trường, hãy phân tách các tên trường bằng dấu phẩy trong order_by()phương thức::"
   ]
  },
  {
   "cell_type": "markdown",
   "id": "c5bcdc3c-d024-44e3-9998-a2a3920ab81f",
   "metadata": {},
   "source": [
    "Order the result first by lastname ascending, then descending on id:\n",
    "Sắp xếp kết quả trước theo họ tăng dần, sau đó giảm dần theo id:\n",
    "mydata = Member.objects.all().order_by('lastname', '-id').values()"
   ]
  },
  {
   "cell_type": "code",
   "execution_count": null,
   "id": "a329b05f-b45a-4bf7-b2db-fd34b3866608",
   "metadata": {},
   "outputs": [],
   "source": [
    "In SQL, the above statement would be written like this:\n",
    "Trong SQL, câu lệnh trên sẽ được viết như sau:\n",
    "SELECT * FROM members ORDER BY lastname ASC, id DESC;"
   ]
  }
 ],
 "metadata": {
  "kernelspec": {
   "display_name": "Python 3 (ipykernel)",
   "language": "python",
   "name": "python3"
  },
  "language_info": {
   "codemirror_mode": {
    "name": "ipython",
    "version": 3
   },
   "file_extension": ".py",
   "mimetype": "text/x-python",
   "name": "python",
   "nbconvert_exporter": "python",
   "pygments_lexer": "ipython3",
   "version": "3.11.7"
  }
 },
 "nbformat": 4,
 "nbformat_minor": 5
}
