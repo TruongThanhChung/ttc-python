{
 "cells": [
  {
   "cell_type": "markdown",
   "id": "4a615d53-66c3-4344-8612-40ef1e63ff84",
   "metadata": {},
   "source": [
    "1. Thuộc tính mảng NumPy\n",
    "Trước khi đi đến các phần xử lý mảng, ta sẽ tìm hiểu về các thuộc tính mảng NumPy trước. Chúng ta sẽ lần lượt tạo 3 mảng:"
   ]
  },
  {
   "cell_type": "code",
   "execution_count": 19,
   "id": "9e6b1fb2-f177-47cf-ab8c-754292cfdd47",
   "metadata": {},
   "outputs": [
    {
     "name": "stdout",
     "output_type": "stream",
     "text": [
      "a1 [1 3 5 9 3]\n",
      "a2 [[7 7 5 9]\n",
      " [7 6 6 7]\n",
      " [8 2 6 0]]\n",
      "a3 [[[1 7 5 4 7]\n",
      "  [5 5 3 9 4]\n",
      "  [4 9 1 7 0]\n",
      "  [8 9 3 3 3]]\n",
      "\n",
      " [[5 4 4 3 1]\n",
      "  [7 2 4 2 0]\n",
      "  [4 7 7 2 2]\n",
      "  [2 5 3 9 6]]\n",
      "\n",
      " [[8 6 1 4 0]\n",
      "  [8 3 3 6 3]\n",
      "  [4 5 9 4 9]\n",
      "  [5 1 1 9 5]]]\n",
      "a4 [[[[4 4 4 8 4 1 9 9]\n",
      "   [9 0 8 9 7 4 9 2]\n",
      "   [1 6 8 5 3 1 6 5]\n",
      "   [8 0 9 6 3 8 3 3]\n",
      "   [2 0 3 4 6 6 4 3]]\n",
      "\n",
      "  [[4 2 4 1 5 6 2 9]\n",
      "   [2 4 8 6 7 8 9 6]\n",
      "   [4 0 0 4 0 6 4 5]\n",
      "   [0 1 4 9 8 9 7 7]\n",
      "   [1 7 8 2 8 2 4 4]]\n",
      "\n",
      "  [[3 5 2 0 2 0 7 0]\n",
      "   [6 2 3 2 8 3 5 4]\n",
      "   [2 3 9 8 4 5 6 4]\n",
      "   [6 0 7 3 5 9 2 6]\n",
      "   [6 3 1 2 4 8 2 5]]]\n",
      "\n",
      "\n",
      " [[[7 7 3 7 8 7 5 5]\n",
      "   [7 2 3 0 8 8 7 2]\n",
      "   [9 3 3 0 5 0 4 6]\n",
      "   [6 2 7 7 2 8 4 6]\n",
      "   [1 0 6 0 0 0 5 5]]\n",
      "\n",
      "  [[0 4 2 2 5 0 2 4]\n",
      "   [3 7 6 1 7 2 1 2]\n",
      "   [0 5 7 6 2 5 0 7]\n",
      "   [8 7 5 7 3 3 5 0]\n",
      "   [9 6 5 5 8 8 8 0]]\n",
      "\n",
      "  [[2 0 8 6 9 0 5 5]\n",
      "   [6 7 6 2 2 6 7 9]\n",
      "   [8 2 8 9 8 5 2 2]\n",
      "   [1 6 1 7 8 5 5 5]\n",
      "   [2 4 0 2 6 1 9 3]]]]\n"
     ]
    }
   ],
   "source": [
    "import numpy as np\n",
    "a1 = np.random.randint(10, size=5) # Mảng 1 chiều\n",
    "a2 = np.random.randint(10, size=(3, 4)) # Mảng 2 chiều\n",
    "a3 = np.random.randint(10, size=(3, 4, 5)) # Mảng 3 chiều\n",
    "a4 = np.random.randint(10, size=(2, 3, 5, 8)) # Mảng 3 chiều\n",
    "print(\"a1\", a1)\n",
    "print(\"a2\", a2)\n",
    "print(\"a3\", a3)\n",
    "print(\"a4\", a4)"
   ]
  },
  {
   "cell_type": "markdown",
   "id": "7c105155-7771-4519-b91c-61955595a3b7",
   "metadata": {},
   "source": [
    "Mỗi mảng sẽ có 3 thuộc tính chính:\n",
    "ndim: số chiều của mảng\n",
    "shape: kích thước của từng chiều\n",
    "size: tổng kích thước của mảng (bằng số lượng phần tử trong mảng)"
   ]
  },
  {
   "cell_type": "code",
   "execution_count": 14,
   "id": "83734434-158c-441b-b834-b858b42cc874",
   "metadata": {},
   "outputs": [
    {
     "name": "stdout",
     "output_type": "stream",
     "text": [
      "a2 ndim:  2\n",
      "a2 shape:  (3, 4)\n",
      "a2 size:  12\n",
      "a4 ndim:  3\n",
      "a4 shape:  (4, 5, 6)\n",
      "a5 shape:  (2, 4, 5, 6)\n"
     ]
    }
   ],
   "source": [
    "# Chẳng hạn, ta có thể kiểm tra thuộc tính của mảng a2:\n",
    "print(\"a2 ndim: \", a2.ndim)\n",
    "print(\"a2 shape: \", a2.shape)\n",
    "print(\"a2 size: \", a2.size)\n",
    "print(\"a4 ndim: \", a4.ndim)\n",
    "print(\"a4 shape: \", a4.shape)\n",
    "print(\"a5 shape: \", a5.shape)"
   ]
  },
  {
   "cell_type": "code",
   "execution_count": 4,
   "id": "7441be81-04ab-45b3-9e0a-e7c58b439a54",
   "metadata": {},
   "outputs": [
    {
     "name": "stdout",
     "output_type": "stream",
     "text": [
      "a2 dtype:  int32\n"
     ]
    }
   ],
   "source": [
    "# Một thuộc tính khác mà ta cũng cần quan tâm đó là dtype, thuộc tính này biểu thị kiểu dữ liệu của mảng (ta đã nói về kiểu dữ liệu ở bài 02):\n",
    "print(\"a2 dtype: \", a2.dtype)"
   ]
  },
  {
   "cell_type": "code",
   "execution_count": 5,
   "id": "60b72033-f82f-4269-a903-5a1cb6d8536d",
   "metadata": {},
   "outputs": [
    {
     "name": "stdout",
     "output_type": "stream",
     "text": [
      "itemsize: 4  bytes\n",
      "nbytes: 240  bytes\n"
     ]
    }
   ],
   "source": [
    "''' Thuộc tính cuối cùng mình muốn đề cập là itemsize (hiển thị kích thước tính bằng byte của mỗi mảng phần tử con) \n",
    "và nbytes (hiển thị tổng kích thước tính bằng byte của mảng), \n",
    "đây là thuộc tính khá hữu dụng nếu chúng ta muốn quan sát mảng đang chiếm bộ nhớ như thế nào, chẳng hạn: '''\n",
    "print(\"itemsize:\", a3.itemsize, \" bytes\")\n",
    "print(\"nbytes:\", a3.nbytes, \" bytes\")"
   ]
  },
  {
   "cell_type": "markdown",
   "id": "d600960c-dff1-4190-aa56-9ea7652de439",
   "metadata": {},
   "source": [
    "2. Array Indexing\n",
    "Nếu như bạn đã quen thuộc với cách truy cập các phần tử của List trong Python, thì với NumPy cũng khá tương tự."
   ]
  },
  {
   "cell_type": "code",
   "execution_count": 9,
   "id": "00011b45-f3e7-4742-a649-0738032fc89c",
   "metadata": {},
   "outputs": [
    {
     "data": {
      "text/plain": [
       "array([2, 8, 2, 1, 6])"
      ]
     },
     "execution_count": 9,
     "metadata": {},
     "output_type": "execute_result"
    }
   ],
   "source": [
    "a1"
   ]
  },
  {
   "cell_type": "code",
   "execution_count": 8,
   "id": "6b83d09b-31c8-44c8-b4dc-7c8bdb8267b0",
   "metadata": {},
   "outputs": [
    {
     "data": {
      "text/plain": [
       "1"
      ]
     },
     "execution_count": 8,
     "metadata": {},
     "output_type": "execute_result"
    }
   ],
   "source": [
    "a1[3]"
   ]
  },
  {
   "cell_type": "code",
   "execution_count": 10,
   "id": "e422ddfb-ae93-4caf-8db5-0673942389cf",
   "metadata": {},
   "outputs": [
    {
     "data": {
      "text/plain": [
       "array([[[6, 3, 7, 6, 4],\n",
       "        [6, 3, 0, 9, 5],\n",
       "        [7, 3, 6, 7, 1],\n",
       "        [5, 3, 1, 6, 2]],\n",
       "\n",
       "       [[5, 2, 8, 9, 9],\n",
       "        [1, 5, 6, 0, 5],\n",
       "        [1, 2, 7, 5, 5],\n",
       "        [9, 8, 2, 5, 0]],\n",
       "\n",
       "       [[7, 8, 1, 8, 1],\n",
       "        [5, 4, 5, 8, 0],\n",
       "        [5, 0, 6, 5, 6],\n",
       "        [8, 8, 8, 0, 2]]])"
      ]
     },
     "execution_count": 10,
     "metadata": {},
     "output_type": "execute_result"
    }
   ],
   "source": [
    "a3"
   ]
  },
  {
   "cell_type": "code",
   "execution_count": null,
   "id": "cb4e5976-aa83-4f3d-91fa-3b7934985858",
   "metadata": {},
   "outputs": [],
   "source": []
  }
 ],
 "metadata": {
  "kernelspec": {
   "display_name": "Python 3 (ipykernel)",
   "language": "python",
   "name": "python3"
  },
  "language_info": {
   "codemirror_mode": {
    "name": "ipython",
    "version": 3
   },
   "file_extension": ".py",
   "mimetype": "text/x-python",
   "name": "python",
   "nbconvert_exporter": "python",
   "pygments_lexer": "ipython3",
   "version": "3.11.7"
  }
 },
 "nbformat": 4,
 "nbformat_minor": 5
}
